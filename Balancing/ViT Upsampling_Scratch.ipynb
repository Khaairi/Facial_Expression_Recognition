{
 "cells": [
  {
   "cell_type": "code",
   "execution_count": 1,
   "id": "a4f52c85-4ef4-4943-a521-ff740da659ed",
   "metadata": {},
   "outputs": [
    {
     "data": {
      "text/plain": [
       "'2.5.1+cu124'"
      ]
     },
     "execution_count": 1,
     "metadata": {},
     "output_type": "execute_result"
    }
   ],
   "source": [
    "import torch\n",
    "torch.__version__"
   ]
  },
  {
   "cell_type": "code",
   "execution_count": 2,
   "id": "85719059-ed85-4e86-a40a-e26217642235",
   "metadata": {},
   "outputs": [
    {
     "data": {
      "text/plain": [
       "'cuda'"
      ]
     },
     "execution_count": 2,
     "metadata": {},
     "output_type": "execute_result"
    }
   ],
   "source": [
    "device = \"cuda\" if torch.cuda.is_available() else \"cpu\"\n",
    "device"
   ]
  },
  {
   "cell_type": "code",
   "execution_count": 3,
   "id": "e1b309cc-ab32-4ea3-8c91-f1821515f136",
   "metadata": {},
   "outputs": [],
   "source": [
    "import numpy as np\n",
    "import pandas as pd\n",
    "import torch\n",
    "from torch.utils.data import Dataset, DataLoader\n",
    "from torchvision import transforms\n",
    "from PIL import Image\n",
    "import matplotlib.pyplot as plt\n",
    "from sklearn.model_selection import train_test_split\n",
    "from sklearn.metrics import confusion_matrix, ConfusionMatrixDisplay\n",
    "from mlxtend.plotting import plot_confusion_matrix\n",
    "import os"
   ]
  },
  {
   "cell_type": "code",
   "execution_count": 4,
   "id": "3e3c6b06-0005-4351-bba6-12d2016a0dd2",
   "metadata": {},
   "outputs": [],
   "source": [
    "import random\n",
    "\n",
    "def set_seed(seed):\n",
    "    random.seed(seed)\n",
    "    np.random.seed(seed)\n",
    "    torch.manual_seed(seed)\n",
    "    if torch.cuda.is_available():\n",
    "        torch.cuda.manual_seed_all(seed)"
   ]
  },
  {
   "cell_type": "markdown",
   "id": "08fe35ee-b631-403e-ae59-b7016ed13458",
   "metadata": {},
   "source": [
    "## Load Data"
   ]
  },
  {
   "cell_type": "code",
   "execution_count": 5,
   "id": "1bdddb0d-9e30-4147-938e-a8109e906f28",
   "metadata": {},
   "outputs": [],
   "source": [
    "class FERDataset(Dataset):\n",
    "    def __init__(self, dataframe, transform=None):\n",
    "        self.dataframe = dataframe\n",
    "        self.transform = transform\n",
    "\n",
    "        # Ekstrak label dan piksel\n",
    "        self.labels = self.dataframe['emotion'].values\n",
    "        self.pixels = self.dataframe['pixel'].apply(self.string_to_image).values\n",
    "\n",
    "    def string_to_image(self, pixels_string):\n",
    "        # Konversi string piksel menjadi numpy array dan reshape ke 48x48\n",
    "        pixels = np.array(pixels_string.split(), dtype='float32')\n",
    "        image = pixels.reshape(48, 48)\n",
    "        image = np.expand_dims(image, axis=-1)  # Tambahkan channel dimensi\n",
    "        return image\n",
    "\n",
    "    def __len__(self):\n",
    "        return len(self.dataframe)\n",
    "\n",
    "    def __getitem__(self, idx):\n",
    "        image = self.pixels[idx]\n",
    "        label = self.labels[idx]\n",
    "        \n",
    "        image = Image.fromarray(image.squeeze().astype('uint8'), mode='L')\n",
    "\n",
    "        # Jika ada transformasi, terapkan ke image\n",
    "        if self.transform:\n",
    "            image = self.transform(image)\n",
    "\n",
    "        return image, label"
   ]
  },
  {
   "cell_type": "code",
   "execution_count": 6,
   "id": "4a9bac7b-146d-4d33-b42a-cb1297c5ed56",
   "metadata": {},
   "outputs": [],
   "source": [
    "class AugmentedFERDataset(FERDataset):\n",
    "    def __init__(self, dataframe, classes_to_augment, transform=None, augment_transform=None, target_count=None, seed=None):\n",
    "        super().__init__(dataframe, transform)\n",
    "        self.augment_transform = augment_transform\n",
    "        self.augmented_data = []  # Simpan semua hasil augmentasi\n",
    "        self.seed = seed\n",
    "        \n",
    "        for class_to_augment in classes_to_augment:\n",
    "            self.augment_class(class_to_augment, target_count)\n",
    "\n",
    "    def augment_class(self, class_to_augment, target_count):\n",
    "        if self.seed is not None:\n",
    "            set_seed(self.seed)\n",
    "        # Filter sampel minoritas\n",
    "        minority_indices = np.where(self.labels == class_to_augment)[0]\n",
    "        minority_samples = self.pixels[minority_indices]\n",
    "\n",
    "        # Pastikan ada data untuk augmentasi\n",
    "        if len(minority_samples) == 0:\n",
    "            print(f\"Tidak ada sampel untuk kelas {class_to_augment}, lewati augmentasi.\")\n",
    "            return\n",
    "\n",
    "        # Target augmentasi, minimal dua kali data asli jika target_count tidak diberikan\n",
    "        target_count = target_count if target_count else len(minority_samples) * 2\n",
    "        augmented_images = self.augment_minority_data(minority_samples, target_count)\n",
    "\n",
    "        # Tambahkan hasil augmentasi ke data\n",
    "        self.augmented_data.extend([(img, class_to_augment) for img in augmented_images])\n",
    "\n",
    "    def augment_minority_data(self, minority_samples, target_count):\n",
    "        augmented_images = []\n",
    "        while len(augmented_images) < target_count - len(minority_samples):\n",
    "            idx = np.random.choice(len(minority_samples))\n",
    "            image = Image.fromarray(minority_samples[idx].squeeze().astype('uint8'), mode='L')\n",
    "            augmented_image = self.augment_transform(image)\n",
    "            augmented_images.append(augmented_image)\n",
    "        return augmented_images\n",
    "\n",
    "    def __getitem__(self, idx):\n",
    "        # Jika idx di luar data asli, ambil dari augmented_data\n",
    "        if idx < len(self.pixels):\n",
    "            image, label = super().__getitem__(idx)\n",
    "        else:\n",
    "            idx -= len(self.pixels)\n",
    "            image, label = self.augmented_data[idx]\n",
    "        return image, label\n",
    "\n",
    "    def __len__(self):\n",
    "        return len(self.pixels) + len(self.augmented_data)"
   ]
  },
  {
   "cell_type": "code",
   "execution_count": 7,
   "id": "3fd05f22-3a1d-495e-ab37-5912522b0f9b",
   "metadata": {},
   "outputs": [
    {
     "name": "stdout",
     "output_type": "stream",
     "text": [
      "transforms: Compose(\n",
      "    Resize(size=(224, 224), interpolation=bilinear, max_size=None, antialias=True)\n",
      "    ToTensor()\n",
      ")\n"
     ]
    }
   ],
   "source": [
    "# Create image size\n",
    "IMG_SIZE = 224\n",
    "\n",
    "# Create transform pipeline manually\n",
    "manual_transforms = transforms.Compose([\n",
    "    transforms.Resize((IMG_SIZE, IMG_SIZE)),\n",
    "    transforms.ToTensor(),\n",
    "])           \n",
    "print(f\"transforms: {manual_transforms}\")"
   ]
  },
  {
   "cell_type": "code",
   "execution_count": 8,
   "id": "79e943cc-ab62-4b88-b1ba-86150b835692",
   "metadata": {},
   "outputs": [
    {
     "name": "stdout",
     "output_type": "stream",
     "text": [
      "augmentation: Compose(\n",
      "    RandomHorizontalFlip(p=0.5)\n",
      "    RandomRotation(degrees=[-20.0, 20.0], interpolation=nearest, expand=False, fill=0)\n",
      "    ColorJitter(brightness=(0.8, 1.2), contrast=(0.8, 1.2), saturation=(0.8, 1.2), hue=(-0.1, 0.1))\n",
      "    RandomAffine(degrees=[0.0, 0.0], translate=(0.1, 0.1))\n",
      "    Resize(size=(224, 224), interpolation=bilinear, max_size=None, antialias=True)\n",
      "    ToTensor()\n",
      ")\n"
     ]
    }
   ],
   "source": [
    "augmentations = transforms.Compose([\n",
    "    transforms.RandomHorizontalFlip(),\n",
    "    transforms.RandomRotation(20),\n",
    "    transforms.ColorJitter(brightness=0.2, contrast=0.2, saturation=0.2, hue=0.1),\n",
    "    transforms.RandomAffine(degrees=0, translate=(0.1, 0.1)),\n",
    "    transforms.Resize((IMG_SIZE, IMG_SIZE)),\n",
    "    transforms.ToTensor()\n",
    "])\n",
    "print(f\"augmentation: {augmentations}\")"
   ]
  },
  {
   "cell_type": "code",
   "execution_count": 9,
   "id": "abb51cb0-db73-45d5-b795-d7bbe982676b",
   "metadata": {},
   "outputs": [
    {
     "name": "stdout",
     "output_type": "stream",
     "text": [
      "<class 'pandas.core.frame.DataFrame'>\n",
      "RangeIndex: 29949 entries, 0 to 29948\n",
      "Data columns (total 2 columns):\n",
      " #   Column   Non-Null Count  Dtype \n",
      "---  ------   --------------  ----- \n",
      " 0   emotion  29949 non-null  int64 \n",
      " 1   pixel    29949 non-null  object\n",
      "dtypes: int64(1), object(1)\n",
      "memory usage: 468.1+ KB\n"
     ]
    }
   ],
   "source": [
    "data_train_val = pd.read_csv('../Khaairi/Data/train_val.csv')\n",
    "data_train_val.info()"
   ]
  },
  {
   "cell_type": "code",
   "execution_count": 10,
   "id": "de936582-fdc5-4975-b08a-a0aafaee8110",
   "metadata": {},
   "outputs": [
    {
     "name": "stdout",
     "output_type": "stream",
     "text": [
      "<class 'pandas.core.frame.DataFrame'>\n",
      "RangeIndex: 3328 entries, 0 to 3327\n",
      "Data columns (total 2 columns):\n",
      " #   Column   Non-Null Count  Dtype \n",
      "---  ------   --------------  ----- \n",
      " 0   emotion  3328 non-null   int64 \n",
      " 1   pixel    3328 non-null   object\n",
      "dtypes: int64(1), object(1)\n",
      "memory usage: 52.1+ KB\n"
     ]
    }
   ],
   "source": [
    "data_test = pd.read_csv('../Khaairi/Data/test.csv')\n",
    "data_test.info()"
   ]
  },
  {
   "cell_type": "code",
   "execution_count": 11,
   "id": "d525f87c-e3d3-4893-9194-b81b2a4b80d3",
   "metadata": {},
   "outputs": [
    {
     "name": "stdout",
     "output_type": "stream",
     "text": [
      "Train set size: 26954\n",
      "Validation set size: 2995\n",
      "Test set size: 3328\n"
     ]
    }
   ],
   "source": [
    "# Pertama, pisahkan data train (90%) dan validation (10%)\n",
    "data_train, data_val = train_test_split(data_train_val, test_size=0.1, stratify=data_train_val['emotion'], random_state=42)\n",
    "\n",
    "# Cek ukuran masing-masing set untuk memastikan proporsi\n",
    "print(f'Train set size: {len(data_train)}')\n",
    "print(f'Validation set size: {len(data_val)}')\n",
    "print(f'Test set size: {len(data_test)}')"
   ]
  },
  {
   "cell_type": "code",
   "execution_count": 12,
   "id": "a994ce68-f345-451b-9c8d-b654e2984a4f",
   "metadata": {},
   "outputs": [
    {
     "name": "stdout",
     "output_type": "stream",
     "text": [
      "Distribusi kelas:\n",
      " emotion\n",
      "3    6144\n",
      "6    4355\n",
      "4    3668\n",
      "2    3281\n",
      "0    3281\n",
      "5    3280\n",
      "1    2945\n",
      "Name: count, dtype: int64\n",
      "Kelas yang perlu di-augmentasi: [6, 4, 2, 0, 5, 1]\n"
     ]
    }
   ],
   "source": [
    "# Menghitung jumlah sampel per kelas\n",
    "class_counts = data_train['emotion'].value_counts()\n",
    "print(\"Distribusi kelas:\\n\", class_counts)\n",
    "\n",
    "# Menentukan jumlah kelas mayoritas\n",
    "majority_class_count = class_counts.max()\n",
    "\n",
    "# Menentukan kelas minoritas (yang membutuhkan augmentasi)\n",
    "classes_to_augment = class_counts[class_counts < majority_class_count].index.tolist()\n",
    "\n",
    "print(f\"Kelas yang perlu di-augmentasi: {classes_to_augment}\")"
   ]
  },
  {
   "cell_type": "code",
   "execution_count": 13,
   "id": "a112b864-08d8-42cb-a285-994f930f4259",
   "metadata": {},
   "outputs": [],
   "source": [
    "seed = 42\n",
    "train_dataset = AugmentedFERDataset(\n",
    "    data_train,\n",
    "    classes_to_augment=classes_to_augment,\n",
    "    transform=manual_transforms,\n",
    "    augment_transform=augmentations,\n",
    "    target_count=majority_class_count,\n",
    "    seed=seed\n",
    ")\n",
    "val_dataset = FERDataset(data_val, transform=manual_transforms)\n",
    "test_dataset = FERDataset(data_test, transform=manual_transforms)\n",
    "class_names = ['Angry', 'Disgust', 'Fear', 'Happy', 'Sad', 'Surprise', 'Neutral']"
   ]
  },
  {
   "cell_type": "code",
   "execution_count": 14,
   "id": "dab3314b-24ca-40f9-9920-5d8ba9427e86",
   "metadata": {},
   "outputs": [
    {
     "name": "stdout",
     "output_type": "stream",
     "text": [
      "Total data setelah augmentasi: 43008\n"
     ]
    }
   ],
   "source": [
    "print(f\"Total data setelah augmentasi: {len(train_dataset)}\")"
   ]
  },
  {
   "cell_type": "code",
   "execution_count": 15,
   "id": "e0b9869e-bd72-4764-9656-fa08284ef1a4",
   "metadata": {},
   "outputs": [
    {
     "data": {
      "image/png": "[encoded data removed]",
      "text/plain": [
       "<Figure size 1500x500 with 5 Axes>"
      ]
     },
     "metadata": {},
     "output_type": "display_data"
    }
   ],
   "source": [
    "def show_augmented_images(dataset, num_images=5):\n",
    "    fig, axes = plt.subplots(1, num_images, figsize=(15, 5))\n",
    "    \n",
    "    for i in range(num_images):\n",
    "        image, label = dataset[len(dataset.pixels) + i]  # Ambil dari augmented data\n",
    "        image = image.permute(1, 2, 0).numpy()  # Ubah format dari CHW ke HWC\n",
    "\n",
    "        axes[i].imshow(image.squeeze(), cmap='gray')\n",
    "        axes[i].set_title(f'Label: {label}')\n",
    "        axes[i].axis('off')\n",
    "    \n",
    "    plt.show()\n",
    "\n",
    "# Menampilkan 5 gambar hasil augmentasi\n",
    "show_augmented_images(train_dataset, num_images=5)"
   ]
  },
  {
   "cell_type": "code",
   "execution_count": 16,
   "id": "4c40770a-6a57-48ca-a10f-8a6c3ff485f2",
   "metadata": {},
   "outputs": [
    {
     "name": "stdout",
     "output_type": "stream",
     "text": [
      "label2id: {'Angry': 0, 'Disgust': 1, 'Fear': 2, 'Happy': 3, 'Sad': 4, 'Surprise': 5, 'Neutral': 6}\n",
      "id2label: {0: 'Angry', 1: 'Disgust', 2: 'Fear', 3: 'Happy', 4: 'Sad', 5: 'Surprise', 6: 'Neutral'}\n"
     ]
    }
   ],
   "source": [
    "labels = ['Angry', 'Disgust', 'Fear', 'Happy', 'Sad', 'Surprise', 'Neutral']\n",
    "\n",
    "# Mapping dari label ke ID (label2id)\n",
    "label2id = {c: idx for idx, c in enumerate(labels)}\n",
    "\n",
    "# Mapping dari ID ke label (id2label)\n",
    "id2label = {idx: c for idx, c in enumerate(labels)}\n",
    "\n",
    "print(\"label2id:\", label2id)\n",
    "print(\"id2label:\", id2label)"
   ]
  },
  {
   "cell_type": "code",
   "execution_count": 17,
   "id": "27139b4d-f206-4e4f-82e6-6c26b311b7e9",
   "metadata": {},
   "outputs": [
    {
     "data": {
      "image/png": "[encoded data removed]",
      "text/plain": [
       "<Figure size 640x480 with 1 Axes>"
      ]
     },
     "metadata": {},
     "output_type": "display_data"
    }
   ],
   "source": [
    "# Ambil satu contoh dari train_dataset\n",
    "image, label = train_dataset[0]  # Index pertama dataset\n",
    "\n",
    "# Jika transform menghasilkan tensor, konversi ke format numpy\n",
    "if isinstance(image, torch.Tensor):\n",
    "    image = image.permute(1, 2, 0).numpy()  # (C, H, W) -> (H, W, C)\n",
    "\n",
    "# Plot gambar\n",
    "plt.imshow(image, cmap='gray')  # Gunakan cmap='gray' jika gambar grayscale\n",
    "plt.title(f\"Label: {label}\")\n",
    "plt.axis('off')  # Hilangkan sumbu\n",
    "plt.show()"
   ]
  },
  {
   "cell_type": "code",
   "execution_count": 18,
   "id": "6b8a0a00-f3ca-46e1-8080-faf95a66d2c9",
   "metadata": {},
   "outputs": [
    {
     "data": {
      "text/plain": [
       "torch.Size([1, 224, 224])"
      ]
     },
     "execution_count": 18,
     "metadata": {},
     "output_type": "execute_result"
    }
   ],
   "source": [
    "image, label = train_dataset[0]\n",
    "image.shape"
   ]
  },
  {
   "cell_type": "markdown",
   "id": "25f09b62-4109-49eb-ae60-3ce50168f049",
   "metadata": {},
   "source": [
    "## Build Vision Transformer (ViT) Model"
   ]
  },
  {
   "cell_type": "code",
   "execution_count": 19,
   "id": "5b7f5c19-e39f-478b-904a-4070f72d2ccf",
   "metadata": {},
   "outputs": [],
   "source": [
    "from torch import nn"
   ]
  },
  {
   "cell_type": "code",
   "execution_count": 20,
   "id": "27a7697f-f6eb-4ea2-ab66-bcfdacdf4a4b",
   "metadata": {},
   "outputs": [],
   "source": [
    "class PatchEmbedding(nn.Module):\n",
    "    def __init__(self, \n",
    "                 in_channels:int=1,\n",
    "                 patch_size:int=16,\n",
    "                 embedding_dim:int=768 #16x16x3 -> color channels\n",
    "                ):\n",
    "        super().__init__()\n",
    "        \n",
    "        self.patcher = nn.Conv2d(in_channels=in_channels,\n",
    "                                 out_channels=embedding_dim,\n",
    "                                 kernel_size=patch_size,\n",
    "                                 stride=patch_size,\n",
    "                                 padding=0)\n",
    "\n",
    "        self.flatten = nn.Flatten(start_dim=2,\n",
    "                                  end_dim=3)\n",
    "\n",
    "    def forward(self, x):\n",
    "        image_resolution = x.shape[-1]\n",
    "#         assert image_resolution % patch_size == 0, f\"Input image size must be divisble by patch size, image shape: {image_resolution}, patch size: {patch_size}\"\n",
    "        \n",
    "        x_patched = self.patcher(x)\n",
    "        x_flattened = self.flatten(x_patched) \n",
    "        \n",
    "        return x_flattened.permute(0, 2, 1) "
   ]
  },
  {
   "cell_type": "code",
   "execution_count": 21,
   "id": "abc468a7-138e-48ca-a495-a91e0988bd0b",
   "metadata": {},
   "outputs": [],
   "source": [
    "class MultiheadSelfAttentionBlock(nn.Module):\n",
    "    def __init__(self,\n",
    "                 embedding_dim:int=768,\n",
    "                 num_heads:int=12,\n",
    "                 attn_dropout:float=0):\n",
    "        super().__init__()\n",
    "        \n",
    "        self.layer_norm = nn.LayerNorm(normalized_shape=embedding_dim)\n",
    "        \n",
    "        self.multihead_attn = nn.MultiheadAttention(embed_dim=embedding_dim,\n",
    "                                                    num_heads=num_heads,\n",
    "                                                    dropout=attn_dropout,\n",
    "                                                    batch_first=True)\n",
    "        \n",
    "    def forward(self, x):\n",
    "        x = self.layer_norm(x)\n",
    "        attn_output, _ = self.multihead_attn(query=x,\n",
    "                                             key=x,\n",
    "                                             value=x,\n",
    "                                             need_weights=False)\n",
    "        return attn_output"
   ]
  },
  {
   "cell_type": "code",
   "execution_count": 22,
   "id": "76cdbef5-da91-45c7-8847-9de18bcd77f5",
   "metadata": {},
   "outputs": [],
   "source": [
    "class MLPBlock(nn.Module):\n",
    "    def __init__(self,\n",
    "                 embedding_dim:int=768,\n",
    "                 mlp_size:int=3072,\n",
    "                 dropout:float=0.1):\n",
    "        super().__init__()\n",
    "        \n",
    "        self.layer_norm = nn.LayerNorm(normalized_shape=embedding_dim)\n",
    "        \n",
    "        self.mlp = nn.Sequential(\n",
    "            nn.Linear(in_features=embedding_dim,\n",
    "                      out_features=mlp_size),\n",
    "            nn.GELU(),\n",
    "            nn.Dropout(p=dropout),\n",
    "            nn.Linear(in_features=mlp_size,\n",
    "                      out_features=embedding_dim),\n",
    "            nn.Dropout(p=dropout)\n",
    "        )\n",
    "    \n",
    "    def forward(self, x):\n",
    "        x = self.layer_norm(x)\n",
    "        x = self.mlp(x)\n",
    "        return x"
   ]
  },
  {
   "cell_type": "code",
   "execution_count": 23,
   "id": "cee8d7b1-8603-4ade-8bed-32444a8c942f",
   "metadata": {},
   "outputs": [],
   "source": [
    "class TransformerEncoderBlock(nn.Module):\n",
    "    def __init__(self,\n",
    "                 embedding_dim:int=768,\n",
    "                 num_heads:int=12,\n",
    "                 mlp_size:int=3072,\n",
    "                 mlp_dropout:float=0.1,\n",
    "                 attn_dropout:float=0):\n",
    "        super().__init__()\n",
    "\n",
    "        self.msa_block = MultiheadSelfAttentionBlock(embedding_dim=embedding_dim,\n",
    "                                                     num_heads=num_heads,\n",
    "                                                     attn_dropout=attn_dropout)\n",
    "        \n",
    "        self.mlp_block =  MLPBlock(embedding_dim=embedding_dim,\n",
    "                                   mlp_size=mlp_size,\n",
    "                                   dropout=mlp_dropout)\n",
    "         \n",
    "    def forward(self, x):\n",
    "        x = self.msa_block(x) + x \n",
    "        \n",
    "        x = self.mlp_block(x) + x \n",
    "        \n",
    "        return x"
   ]
  },
  {
   "cell_type": "code",
   "execution_count": 24,
   "id": "dfbe073e-b7c5-44c3-a123-d89a2152a467",
   "metadata": {},
   "outputs": [],
   "source": [
    "class ViT(nn.Module):\n",
    "    def __init__(self,\n",
    "                 img_size:int=224, # Training resolution from Table 3 in ViT paper\n",
    "                 in_channels:int=3, # Number of channels in input image\n",
    "                 patch_size:int=16, # Patch size\n",
    "                 num_transformer_layers:int=12, # Layers from Table 1 for ViT-Base\n",
    "                 embedding_dim:int=768, # Hidden size D from Table 1 for ViT-Base\n",
    "                 mlp_size:int=3072, # MLP size from Table 1 for ViT-Base\n",
    "                 num_heads:int=12, # Heads from Table 1 for ViT-Base\n",
    "                 attn_dropout:float=0, # Dropout for attention projection\n",
    "                 mlp_dropout:float=0.1, # Dropout for dense/MLP layers \n",
    "                 embedding_dropout:float=0.1, # Dropout for patch and position embeddings\n",
    "                 num_classes:int=1000): # Default for ImageNet but can customize this\n",
    "        super().__init__() # don't forget the super().__init__()!\n",
    "         \n",
    "#         assert img_size % patch_size == 0, f\"Image size must be divisible by patch size, image size: {img_size}, patch size: {patch_size}.\"\n",
    "        \n",
    "        self.num_patches = (img_size * img_size) // patch_size**2\n",
    "                 \n",
    "        self.class_embedding = nn.Parameter(data=torch.randn(1, 1, embedding_dim),\n",
    "                                            requires_grad=True)\n",
    "        \n",
    "        self.position_embedding = nn.Parameter(data=torch.randn(1, self.num_patches+1, embedding_dim),\n",
    "                                               requires_grad=True)\n",
    "                \n",
    "        self.embedding_dropout = nn.Dropout(p=embedding_dropout)\n",
    "        \n",
    "        self.patch_embedding = PatchEmbedding(in_channels=in_channels,\n",
    "                                              patch_size=patch_size,\n",
    "                                              embedding_dim=embedding_dim)\n",
    "        \n",
    "        self.transformer_encoder = nn.Sequential(*[TransformerEncoderBlock(embedding_dim=embedding_dim,\n",
    "                                                                            num_heads=num_heads,\n",
    "                                                                            mlp_size=mlp_size,\n",
    "                                                                            mlp_dropout=mlp_dropout) for _ in range(num_transformer_layers)])\n",
    "       \n",
    "        self.classifier = nn.Sequential(\n",
    "            nn.LayerNorm(normalized_shape=embedding_dim),\n",
    "            nn.Linear(in_features=embedding_dim, \n",
    "                      out_features=num_classes)\n",
    "        )\n",
    "    \n",
    "    def forward(self, pixel_values, labels=None):\n",
    "        \n",
    "        batch_size = pixel_values.shape[0]\n",
    "        \n",
    "        class_token = self.class_embedding.expand(batch_size, -1, -1)\n",
    "\n",
    "        x = self.patch_embedding(pixel_values)\n",
    "\n",
    "        x = torch.cat((class_token, x), dim=1)\n",
    "\n",
    "        x = self.position_embedding + x\n",
    "\n",
    "        x = self.embedding_dropout(x)\n",
    "\n",
    "        x = self.transformer_encoder(x)\n",
    "\n",
    "        logits = self.classifier(x[:, 0])\n",
    "\n",
    "        # Jika labels diberikan, hitung loss\n",
    "        loss = None\n",
    "        if labels is not None:\n",
    "            loss_fn = nn.CrossEntropyLoss()\n",
    "            loss = loss_fn(logits, labels)\n",
    "    \n",
    "        return (loss, logits) if loss is not None else logits"
   ]
  },
  {
   "cell_type": "markdown",
   "id": "cccbb722-51b9-46af-90e2-4b80265eb878",
   "metadata": {},
   "source": [
    "## Model Training"
   ]
  },
  {
   "cell_type": "code",
   "execution_count": 25,
   "id": "64b28361-dae6-43fa-b846-69caa47259a3",
   "metadata": {},
   "outputs": [],
   "source": [
    "vit = ViT(num_classes=len(class_names), in_channels=1)"
   ]
  },
  {
   "cell_type": "code",
   "execution_count": 26,
   "id": "dc2344b3-32fa-4f94-9c56-13b3ac96ee3d",
   "metadata": {},
   "outputs": [
    {
     "data": {
      "text/plain": [
       "========================================================================================================================\n",
       "Layer (type (var_name))                                      Input Shape     Output Shape    Param #         Trainable\n",
       "========================================================================================================================\n",
       "ViT (ViT)                                                    [1, 1, 224, 224] [1, 7]          152,064         True\n",
       "├─PatchEmbedding (patch_embedding)                           [1, 1, 224, 224] [1, 196, 768]   --              True\n",
       "│    └─Conv2d (patcher)                                      [1, 1, 224, 224] [1, 768, 14, 14] 197,376         True\n",
       "│    └─Flatten (flatten)                                     [1, 768, 14, 14] [1, 768, 196]   --              --\n",
       "├─Dropout (embedding_dropout)                                [1, 197, 768]   [1, 197, 768]   --              --\n",
       "├─Sequential (transformer_encoder)                           [1, 197, 768]   [1, 197, 768]   --              True\n",
       "│    └─TransformerEncoderBlock (0)                           [1, 197, 768]   [1, 197, 768]   --              True\n",
       "│    │    └─MultiheadSelfAttentionBlock (msa_block)          [1, 197, 768]   [1, 197, 768]   2,363,904       True\n",
       "│    │    └─MLPBlock (mlp_block)                             [1, 197, 768]   [1, 197, 768]   4,723,968       True\n",
       "│    └─TransformerEncoderBlock (1)                           [1, 197, 768]   [1, 197, 768]   --              True\n",
       "│    │    └─MultiheadSelfAttentionBlock (msa_block)          [1, 197, 768]   [1, 197, 768]   2,363,904       True\n",
       "│    │    └─MLPBlock (mlp_block)                             [1, 197, 768]   [1, 197, 768]   4,723,968       True\n",
       "│    └─TransformerEncoderBlock (2)                           [1, 197, 768]   [1, 197, 768]   --              True\n",
       "│    │    └─MultiheadSelfAttentionBlock (msa_block)          [1, 197, 768]   [1, 197, 768]   2,363,904       True\n",
       "│    │    └─MLPBlock (mlp_block)                             [1, 197, 768]   [1, 197, 768]   4,723,968       True\n",
       "│    └─TransformerEncoderBlock (3)                           [1, 197, 768]   [1, 197, 768]   --              True\n",
       "│    │    └─MultiheadSelfAttentionBlock (msa_block)          [1, 197, 768]   [1, 197, 768]   2,363,904       True\n",
       "│    │    └─MLPBlock (mlp_block)                             [1, 197, 768]   [1, 197, 768]   4,723,968       True\n",
       "│    └─TransformerEncoderBlock (4)                           [1, 197, 768]   [1, 197, 768]   --              True\n",
       "│    │    └─MultiheadSelfAttentionBlock (msa_block)          [1, 197, 768]   [1, 197, 768]   2,363,904       True\n",
       "│    │    └─MLPBlock (mlp_block)                             [1, 197, 768]   [1, 197, 768]   4,723,968       True\n",
       "│    └─TransformerEncoderBlock (5)                           [1, 197, 768]   [1, 197, 768]   --              True\n",
       "│    │    └─MultiheadSelfAttentionBlock (msa_block)          [1, 197, 768]   [1, 197, 768]   2,363,904       True\n",
       "│    │    └─MLPBlock (mlp_block)                             [1, 197, 768]   [1, 197, 768]   4,723,968       True\n",
       "│    └─TransformerEncoderBlock (6)                           [1, 197, 768]   [1, 197, 768]   --              True\n",
       "│    │    └─MultiheadSelfAttentionBlock (msa_block)          [1, 197, 768]   [1, 197, 768]   2,363,904       True\n",
       "│    │    └─MLPBlock (mlp_block)                             [1, 197, 768]   [1, 197, 768]   4,723,968       True\n",
       "│    └─TransformerEncoderBlock (7)                           [1, 197, 768]   [1, 197, 768]   --              True\n",
       "│    │    └─MultiheadSelfAttentionBlock (msa_block)          [1, 197, 768]   [1, 197, 768]   2,363,904       True\n",
       "│    │    └─MLPBlock (mlp_block)                             [1, 197, 768]   [1, 197, 768]   4,723,968       True\n",
       "│    └─TransformerEncoderBlock (8)                           [1, 197, 768]   [1, 197, 768]   --              True\n",
       "│    │    └─MultiheadSelfAttentionBlock (msa_block)          [1, 197, 768]   [1, 197, 768]   2,363,904       True\n",
       "│    │    └─MLPBlock (mlp_block)                             [1, 197, 768]   [1, 197, 768]   4,723,968       True\n",
       "│    └─TransformerEncoderBlock (9)                           [1, 197, 768]   [1, 197, 768]   --              True\n",
       "│    │    └─MultiheadSelfAttentionBlock (msa_block)          [1, 197, 768]   [1, 197, 768]   2,363,904       True\n",
       "│    │    └─MLPBlock (mlp_block)                             [1, 197, 768]   [1, 197, 768]   4,723,968       True\n",
       "│    └─TransformerEncoderBlock (10)                          [1, 197, 768]   [1, 197, 768]   --              True\n",
       "│    │    └─MultiheadSelfAttentionBlock (msa_block)          [1, 197, 768]   [1, 197, 768]   2,363,904       True\n",
       "│    │    └─MLPBlock (mlp_block)                             [1, 197, 768]   [1, 197, 768]   4,723,968       True\n",
       "│    └─TransformerEncoderBlock (11)                          [1, 197, 768]   [1, 197, 768]   --              True\n",
       "│    │    └─MultiheadSelfAttentionBlock (msa_block)          [1, 197, 768]   [1, 197, 768]   2,363,904       True\n",
       "│    │    └─MLPBlock (mlp_block)                             [1, 197, 768]   [1, 197, 768]   4,723,968       True\n",
       "├─Sequential (classifier)                                    [1, 768]        [1, 7]          --              True\n",
       "│    └─LayerNorm (0)                                         [1, 768]        [1, 768]        1,536           True\n",
       "│    └─Linear (1)                                            [1, 768]        [1, 7]          5,383           True\n",
       "========================================================================================================================\n",
       "Total params: 85,410,823\n",
       "Trainable params: 85,410,823\n",
       "Non-trainable params: 0\n",
       "Total mult-adds (Units.MEGABYTES): 95.40\n",
       "========================================================================================================================\n",
       "Input size (MB): 0.20\n",
       "Forward/backward pass size (MB): 102.88\n",
       "Params size (MB): 227.64\n",
       "Estimated Total Size (MB): 330.72\n",
       "========================================================================================================================"
      ]
     },
     "execution_count": 26,
     "metadata": {},
     "output_type": "execute_result"
    }
   ],
   "source": [
    "from torchinfo import summary\n",
    "\n",
    "summary(\n",
    "    model=vit,\n",
    "    input_size=(1, 1, 224, 224),  # (batch_size, in_channels, img_size, img_size)\n",
    "    col_names=[\"input_size\", \"output_size\", \"num_params\", \"trainable\"],\n",
    "    col_width=15,\n",
    "    row_settings=[\"var_names\"],\n",
    ")"
   ]
  },
  {
   "cell_type": "code",
   "execution_count": 27,
   "id": "6458aec2-02bd-40f4-8bdb-b51df5722f42",
   "metadata": {},
   "outputs": [
    {
     "name": "stderr",
     "output_type": "stream",
     "text": [
      "/home/ilkom/.local/lib/python3.12/site-packages/tqdm/auto.py:21: TqdmWarning: IProgress not found. Please update jupyter and ipywidgets. See https://ipywidgets.readthedocs.io/en/stable/user_install.html\n",
      "  from .autonotebook import tqdm as notebook_tqdm\n"
     ]
    }
   ],
   "source": [
    "from transformers import TrainerCallback, TrainingArguments, Trainer\n",
    "\n",
    "# Callback untuk menyimpan model terbaik dan loss\n",
    "class SaveBestModelCallback(TrainerCallback):\n",
    "    def __init__(self, save_path, metric_name='eval_accuracy'):\n",
    "        super().__init__()\n",
    "        self.best_metric = -float('inf')  # Menyimpan metrik terbaik\n",
    "        self.metric_name = metric_name\n",
    "        self.save_path = save_path\n",
    "        self.train_losses = []  # Menyimpan training loss per epoch\n",
    "        self.eval_losses = []   # Menyimpan validation loss per epoch\n",
    "        self.accuracies = []  # Menyimpan accuracy per epoch\n",
    "        os.makedirs(self.save_path, exist_ok=True)\n",
    "    \n",
    "    def on_evaluate(self, args, state, control, metrics, **kwargs):\n",
    "        if 'eval_loss' in metrics:\n",
    "            self.eval_losses.append(metrics['eval_loss'])\n",
    "        if 'eval_accuracy' in metrics:\n",
    "            self.accuracies.append(metrics['eval_accuracy'])\n",
    "        # Periksa apakah metrik saat ini lebih baik dari yang terbaik\n",
    "        if self.metric_name in metrics and metrics[self.metric_name] > self.best_metric:\n",
    "            self.best_metric = metrics[self.metric_name]\n",
    "            model_path = os.path.join(self.save_path, \"upsampling_best_model.pt\")\n",
    "            torch.save(kwargs['model'].state_dict(), model_path)\n",
    "            print(f\"Model terbaik disimpan di {model_path} dengan {self.metric_name}: {self.best_metric:.4f}\")\n",
    "    \n",
    "    def on_epoch_end(self, args, state, control, **kwargs):\n",
    "        # Ambil training loss dan accuracy dari log_history\n",
    "        if state.log_history:\n",
    "            if \"loss\" in state.log_history[-1]:\n",
    "                self.train_losses.append(state.log_history[-1][\"loss\"])\n",
    "\n",
    "        # Simpan grafik loss\n",
    "        loss_path = os.path.join(self.save_path, \"upsampling_loss_plot.png\")\n",
    "        plt.figure(figsize=(10, 5))\n",
    "        plt.plot(range(1, len(self.train_losses) + 1), self.train_losses, label=\"Training Loss\", marker='o')\n",
    "        if self.eval_losses:\n",
    "            plt.plot(range(1, len(self.eval_losses) + 1), self.eval_losses, label=\"Validation Loss\", marker='o')\n",
    "        plt.title(\"Loss per Epoch\")\n",
    "        plt.xlabel(\"Epoch\")\n",
    "        plt.ylabel(\"Loss\")\n",
    "        plt.legend()\n",
    "        plt.grid(True)\n",
    "        plt.savefig(loss_path)\n",
    "        plt.close()\n",
    "        print(f\"Grafik loss disimpan untuk epoch {state.epoch}\")\n",
    "        \n",
    "        # Simpan grafik accuracy\n",
    "        accuracy_path = os.path.join(self.save_path, \"upsampling_accuracy_plot.png\")\n",
    "        plt.figure(figsize=(10, 5))\n",
    "        plt.plot(range(1, len(self.accuracies) + 1), self.accuracies, label=\"Accuracy\", marker='o')\n",
    "        plt.title(\"Accuracy per Epoch\")\n",
    "        plt.xlabel(\"Epoch\")\n",
    "        plt.ylabel(\"Accuracy\")\n",
    "        plt.legend()\n",
    "        plt.grid(True)\n",
    "        plt.savefig(accuracy_path)\n",
    "        plt.close()\n",
    "        print(f\"Grafik accuracy disimpan untuk epoch {state.epoch}\")"
   ]
  },
  {
   "cell_type": "code",
   "execution_count": 28,
   "id": "f42ea7f9-82ee-4009-87db-4b889eb45b5f",
   "metadata": {},
   "outputs": [
    {
     "name": "stderr",
     "output_type": "stream",
     "text": [
      "/home/ilkom/.local/lib/python3.12/site-packages/transformers/training_args.py:1568: FutureWarning: `evaluation_strategy` is deprecated and will be removed in version 4.46 of 🤗 Transformers. Use `eval_strategy` instead\n",
      "  warnings.warn(\n"
     ]
    }
   ],
   "source": [
    "training_args = TrainingArguments(\n",
    "    output_dir=\"../Khaairi/Result\",\n",
    "    per_device_train_batch_size=16,\n",
    "    per_device_eval_batch_size=16,\n",
    "    evaluation_strategy=\"epoch\",\n",
    "    save_strategy=\"no\",\n",
    "    logging_steps=100,\n",
    "    num_train_epochs=1000,\n",
    "    learning_rate=3e-4,\n",
    "    remove_unused_columns=False,\n",
    ")"
   ]
  },
  {
   "cell_type": "code",
   "execution_count": 29,
   "id": "0f17a395-89c7-446b-b249-bf0d453b5d81",
   "metadata": {},
   "outputs": [],
   "source": [
    "def collate_fn(batch):\n",
    "    pixel_values = torch.stack([x[0] for x in batch])  # Mengambil pixel_values (index 0)\n",
    "    labels = torch.tensor([x[1] for x in batch])       # Mengambil labels (index 1)\n",
    "    return {\n",
    "        'pixel_values': pixel_values,\n",
    "        'labels': labels\n",
    "    }"
   ]
  },
  {
   "cell_type": "code",
   "execution_count": 30,
   "id": "2f34f363-516a-4e49-a07d-0307cd147f48",
   "metadata": {},
   "outputs": [],
   "source": [
    "import evaluate\n",
    "\n",
    "# Memuat metrik\n",
    "accuracy = evaluate.load('accuracy')\n",
    "f1 = evaluate.load('f1')\n",
    "\n",
    "# Fungsi untuk menghitung metrik\n",
    "def compute_metrics(eval_preds):\n",
    "    logits, labels = eval_preds\n",
    "    predictions = np.argmax(logits, axis=1)\n",
    "\n",
    "    # Menghitung accuracy\n",
    "    accuracy_score = accuracy.compute(predictions=predictions, references=labels)\n",
    "\n",
    "    # Menghitung F1 score\n",
    "    f1_score = f1.compute(predictions=predictions, references=labels, average='weighted')\n",
    "\n",
    "    # Menggabungkan kedua metrik\n",
    "    metrics = {\n",
    "        'accuracy': accuracy_score['accuracy'],\n",
    "        'f1': f1_score['f1']\n",
    "    }\n",
    "\n",
    "    return metrics"
   ]
  },
  {
   "cell_type": "code",
   "execution_count": 31,
   "id": "3bf7dc32-a7e8-4a2d-963a-ee239f6787a8",
   "metadata": {},
   "outputs": [],
   "source": [
    "trainer = Trainer(\n",
    "    model=vit,\n",
    "    args=training_args,\n",
    "    data_collator=collate_fn,\n",
    "    compute_metrics=compute_metrics,\n",
    "    train_dataset=train_dataset,\n",
    "    eval_dataset=val_dataset,\n",
    "    callbacks=[SaveBestModelCallback(save_path = '../Khaairi/Result')]\n",
    ")"
   ]
  },
  {
   "cell_type": "code",
   "execution_count": 32,
   "id": "bdae27e3-91d8-4296-80c9-1a3f0432c539",
   "metadata": {},
   "outputs": [
    {
     "name": "stderr",
     "output_type": "stream",
     "text": [
      "/home/ilkom/.local/lib/python3.12/site-packages/torch/nn/parallel/_functions.py:71: UserWarning: Was asked to gather along dimension 0, but all input tensors were scalars; will instead unsqueeze and return a vector.\n",
      "  warnings.warn(\n"
     ]
    },
    {
     "data": {
      "text/html": [
       "\n",
       "    <div>\n",
       "      \n",
       "      <progress value='136490' max='1344000' style='width:300px; height:20px; vertical-align: middle;'></progress>\n",
       "      [ 136490/1344000 25:46:14 < 227:59:40, 1.47 it/s, Epoch 101.55/1000]\n",
       "    </div>\n",
       "    <table border=\"1\" class=\"dataframe\">\n",
       "  <thead>\n",
       " <tr style=\"text-align: left;\">\n",
       "      <th>Epoch</th>\n",
       "      <th>Training Loss</th>\n",
       "      <th>Validation Loss</th>\n",
       "      <th>Accuracy</th>\n",
       "      <th>F1</th>\n",
       "    </tr>\n",
       "  </thead>\n",
       "  <tbody>\n",
       "    <tr>\n",
       "      <td>1</td>\n",
       "      <td>1.903400</td>\n",
       "      <td>1.914068</td>\n",
       "      <td>0.232387</td>\n",
       "      <td>0.145427</td>\n",
       "    </tr>\n",
       "    <tr>\n",
       "      <td>2</td>\n",
       "      <td>1.855800</td>\n",
       "      <td>1.878214</td>\n",
       "      <td>0.243740</td>\n",
       "      <td>0.169100</td>\n",
       "    </tr>\n",
       "    <tr>\n",
       "      <td>3</td>\n",
       "      <td>1.833400</td>\n",
       "      <td>1.912481</td>\n",
       "      <td>0.232721</td>\n",
       "      <td>0.169845</td>\n",
       "    </tr>\n",
       "    <tr>\n",
       "      <td>4</td>\n",
       "      <td>1.828200</td>\n",
       "      <td>1.850533</td>\n",
       "      <td>0.269783</td>\n",
       "      <td>0.187287</td>\n",
       "    </tr>\n",
       "    <tr>\n",
       "      <td>5</td>\n",
       "      <td>1.800900</td>\n",
       "      <td>1.878839</td>\n",
       "      <td>0.264107</td>\n",
       "      <td>0.235672</td>\n",
       "    </tr>\n",
       "    <tr>\n",
       "      <td>6</td>\n",
       "      <td>1.809600</td>\n",
       "      <td>1.819436</td>\n",
       "      <td>0.291152</td>\n",
       "      <td>0.232253</td>\n",
       "    </tr>\n",
       "    <tr>\n",
       "      <td>7</td>\n",
       "      <td>1.802200</td>\n",
       "      <td>1.834997</td>\n",
       "      <td>0.284140</td>\n",
       "      <td>0.229262</td>\n",
       "    </tr>\n",
       "    <tr>\n",
       "      <td>8</td>\n",
       "      <td>1.802000</td>\n",
       "      <td>1.807540</td>\n",
       "      <td>0.305843</td>\n",
       "      <td>0.257824</td>\n",
       "    </tr>\n",
       "    <tr>\n",
       "      <td>9</td>\n",
       "      <td>1.795200</td>\n",
       "      <td>1.801652</td>\n",
       "      <td>0.300835</td>\n",
       "      <td>0.248283</td>\n",
       "    </tr>\n",
       "    <tr>\n",
       "      <td>10</td>\n",
       "      <td>1.783600</td>\n",
       "      <td>1.791618</td>\n",
       "      <td>0.296160</td>\n",
       "      <td>0.255220</td>\n",
       "    </tr>\n",
       "    <tr>\n",
       "      <td>11</td>\n",
       "      <td>1.800300</td>\n",
       "      <td>1.800733</td>\n",
       "      <td>0.312855</td>\n",
       "      <td>0.263500</td>\n",
       "    </tr>\n",
       "    <tr>\n",
       "      <td>12</td>\n",
       "      <td>1.777400</td>\n",
       "      <td>1.802993</td>\n",
       "      <td>0.300501</td>\n",
       "      <td>0.262413</td>\n",
       "    </tr>\n",
       "    <tr>\n",
       "      <td>13</td>\n",
       "      <td>1.786400</td>\n",
       "      <td>1.801238</td>\n",
       "      <td>0.300501</td>\n",
       "      <td>0.269156</td>\n",
       "    </tr>\n",
       "    <tr>\n",
       "      <td>14</td>\n",
       "      <td>1.784200</td>\n",
       "      <td>1.833128</td>\n",
       "      <td>0.284808</td>\n",
       "      <td>0.260275</td>\n",
       "    </tr>\n",
       "    <tr>\n",
       "      <td>15</td>\n",
       "      <td>1.799200</td>\n",
       "      <td>1.800173</td>\n",
       "      <td>0.300501</td>\n",
       "      <td>0.255293</td>\n",
       "    </tr>\n",
       "    <tr>\n",
       "      <td>16</td>\n",
       "      <td>1.784600</td>\n",
       "      <td>1.779699</td>\n",
       "      <td>0.314190</td>\n",
       "      <td>0.270607</td>\n",
       "    </tr>\n",
       "    <tr>\n",
       "      <td>17</td>\n",
       "      <td>1.780900</td>\n",
       "      <td>1.780530</td>\n",
       "      <td>0.299833</td>\n",
       "      <td>0.240169</td>\n",
       "    </tr>\n",
       "    <tr>\n",
       "      <td>18</td>\n",
       "      <td>1.774500</td>\n",
       "      <td>1.774323</td>\n",
       "      <td>0.323539</td>\n",
       "      <td>0.283321</td>\n",
       "    </tr>\n",
       "    <tr>\n",
       "      <td>19</td>\n",
       "      <td>1.760500</td>\n",
       "      <td>1.776117</td>\n",
       "      <td>0.311519</td>\n",
       "      <td>0.271353</td>\n",
       "    </tr>\n",
       "    <tr>\n",
       "      <td>20</td>\n",
       "      <td>1.757900</td>\n",
       "      <td>1.753090</td>\n",
       "      <td>0.329549</td>\n",
       "      <td>0.285353</td>\n",
       "    </tr>\n",
       "    <tr>\n",
       "      <td>21</td>\n",
       "      <td>1.757400</td>\n",
       "      <td>1.757425</td>\n",
       "      <td>0.324875</td>\n",
       "      <td>0.270423</td>\n",
       "    </tr>\n",
       "    <tr>\n",
       "      <td>22</td>\n",
       "      <td>1.759100</td>\n",
       "      <td>1.741149</td>\n",
       "      <td>0.331553</td>\n",
       "      <td>0.282887</td>\n",
       "    </tr>\n",
       "    <tr>\n",
       "      <td>23</td>\n",
       "      <td>1.755200</td>\n",
       "      <td>1.750544</td>\n",
       "      <td>0.322871</td>\n",
       "      <td>0.266642</td>\n",
       "    </tr>\n",
       "    <tr>\n",
       "      <td>24</td>\n",
       "      <td>1.739000</td>\n",
       "      <td>1.735686</td>\n",
       "      <td>0.333222</td>\n",
       "      <td>0.285795</td>\n",
       "    </tr>\n",
       "    <tr>\n",
       "      <td>25</td>\n",
       "      <td>1.750800</td>\n",
       "      <td>1.747520</td>\n",
       "      <td>0.331886</td>\n",
       "      <td>0.287856</td>\n",
       "    </tr>\n",
       "    <tr>\n",
       "      <td>26</td>\n",
       "      <td>1.743500</td>\n",
       "      <td>1.735597</td>\n",
       "      <td>0.327546</td>\n",
       "      <td>0.275915</td>\n",
       "    </tr>\n",
       "    <tr>\n",
       "      <td>27</td>\n",
       "      <td>1.749700</td>\n",
       "      <td>1.724543</td>\n",
       "      <td>0.332220</td>\n",
       "      <td>0.288940</td>\n",
       "    </tr>\n",
       "    <tr>\n",
       "      <td>28</td>\n",
       "      <td>1.738800</td>\n",
       "      <td>1.752946</td>\n",
       "      <td>0.310851</td>\n",
       "      <td>0.275928</td>\n",
       "    </tr>\n",
       "    <tr>\n",
       "      <td>29</td>\n",
       "      <td>1.731400</td>\n",
       "      <td>1.753560</td>\n",
       "      <td>0.331219</td>\n",
       "      <td>0.296466</td>\n",
       "    </tr>\n",
       "    <tr>\n",
       "      <td>30</td>\n",
       "      <td>1.715500</td>\n",
       "      <td>1.758051</td>\n",
       "      <td>0.321870</td>\n",
       "      <td>0.285287</td>\n",
       "    </tr>\n",
       "    <tr>\n",
       "      <td>31</td>\n",
       "      <td>1.735800</td>\n",
       "      <td>1.774139</td>\n",
       "      <td>0.302838</td>\n",
       "      <td>0.278668</td>\n",
       "    </tr>\n",
       "    <tr>\n",
       "      <td>32</td>\n",
       "      <td>1.738800</td>\n",
       "      <td>1.759760</td>\n",
       "      <td>0.315526</td>\n",
       "      <td>0.263517</td>\n",
       "    </tr>\n",
       "    <tr>\n",
       "      <td>33</td>\n",
       "      <td>1.713900</td>\n",
       "      <td>1.732289</td>\n",
       "      <td>0.331219</td>\n",
       "      <td>0.289280</td>\n",
       "    </tr>\n",
       "    <tr>\n",
       "      <td>34</td>\n",
       "      <td>1.724800</td>\n",
       "      <td>1.748507</td>\n",
       "      <td>0.335559</td>\n",
       "      <td>0.305419</td>\n",
       "    </tr>\n",
       "    <tr>\n",
       "      <td>35</td>\n",
       "      <td>1.710200</td>\n",
       "      <td>1.780802</td>\n",
       "      <td>0.312187</td>\n",
       "      <td>0.270001</td>\n",
       "    </tr>\n",
       "    <tr>\n",
       "      <td>36</td>\n",
       "      <td>1.728800</td>\n",
       "      <td>1.759420</td>\n",
       "      <td>0.322871</td>\n",
       "      <td>0.290021</td>\n",
       "    </tr>\n",
       "    <tr>\n",
       "      <td>37</td>\n",
       "      <td>1.754300</td>\n",
       "      <td>1.750552</td>\n",
       "      <td>0.333556</td>\n",
       "      <td>0.308574</td>\n",
       "    </tr>\n",
       "    <tr>\n",
       "      <td>38</td>\n",
       "      <td>1.724400</td>\n",
       "      <td>1.768602</td>\n",
       "      <td>0.312521</td>\n",
       "      <td>0.292859</td>\n",
       "    </tr>\n",
       "    <tr>\n",
       "      <td>39</td>\n",
       "      <td>1.721700</td>\n",
       "      <td>1.754441</td>\n",
       "      <td>0.327880</td>\n",
       "      <td>0.299124</td>\n",
       "    </tr>\n",
       "    <tr>\n",
       "      <td>40</td>\n",
       "      <td>1.712900</td>\n",
       "      <td>1.749625</td>\n",
       "      <td>0.335225</td>\n",
       "      <td>0.299033</td>\n",
       "    </tr>\n",
       "    <tr>\n",
       "      <td>41</td>\n",
       "      <td>1.694200</td>\n",
       "      <td>1.734556</td>\n",
       "      <td>0.342237</td>\n",
       "      <td>0.302657</td>\n",
       "    </tr>\n",
       "    <tr>\n",
       "      <td>42</td>\n",
       "      <td>1.689200</td>\n",
       "      <td>1.736356</td>\n",
       "      <td>0.333890</td>\n",
       "      <td>0.294419</td>\n",
       "    </tr>\n",
       "    <tr>\n",
       "      <td>43</td>\n",
       "      <td>1.695200</td>\n",
       "      <td>1.711301</td>\n",
       "      <td>0.346578</td>\n",
       "      <td>0.314932</td>\n",
       "    </tr>\n",
       "    <tr>\n",
       "      <td>44</td>\n",
       "      <td>1.685700</td>\n",
       "      <td>1.707940</td>\n",
       "      <td>0.349917</td>\n",
       "      <td>0.320607</td>\n",
       "    </tr>\n",
       "    <tr>\n",
       "      <td>45</td>\n",
       "      <td>1.675200</td>\n",
       "      <td>1.713521</td>\n",
       "      <td>0.351252</td>\n",
       "      <td>0.324722</td>\n",
       "    </tr>\n",
       "    <tr>\n",
       "      <td>46</td>\n",
       "      <td>1.680400</td>\n",
       "      <td>1.704162</td>\n",
       "      <td>0.354591</td>\n",
       "      <td>0.322034</td>\n",
       "    </tr>\n",
       "    <tr>\n",
       "      <td>47</td>\n",
       "      <td>1.671300</td>\n",
       "      <td>1.718082</td>\n",
       "      <td>0.346244</td>\n",
       "      <td>0.317036</td>\n",
       "    </tr>\n",
       "    <tr>\n",
       "      <td>48</td>\n",
       "      <td>1.675500</td>\n",
       "      <td>1.713759</td>\n",
       "      <td>0.348915</td>\n",
       "      <td>0.324293</td>\n",
       "    </tr>\n",
       "    <tr>\n",
       "      <td>49</td>\n",
       "      <td>1.698900</td>\n",
       "      <td>1.743212</td>\n",
       "      <td>0.335225</td>\n",
       "      <td>0.301914</td>\n",
       "    </tr>\n",
       "    <tr>\n",
       "      <td>50</td>\n",
       "      <td>1.702300</td>\n",
       "      <td>1.705653</td>\n",
       "      <td>0.355927</td>\n",
       "      <td>0.322015</td>\n",
       "    </tr>\n",
       "    <tr>\n",
       "      <td>51</td>\n",
       "      <td>1.682900</td>\n",
       "      <td>1.710991</td>\n",
       "      <td>0.351252</td>\n",
       "      <td>0.321558</td>\n",
       "    </tr>\n",
       "    <tr>\n",
       "      <td>52</td>\n",
       "      <td>1.683700</td>\n",
       "      <td>1.717348</td>\n",
       "      <td>0.342237</td>\n",
       "      <td>0.312618</td>\n",
       "    </tr>\n",
       "    <tr>\n",
       "      <td>53</td>\n",
       "      <td>1.679500</td>\n",
       "      <td>1.729161</td>\n",
       "      <td>0.354257</td>\n",
       "      <td>0.336790</td>\n",
       "    </tr>\n",
       "    <tr>\n",
       "      <td>54</td>\n",
       "      <td>1.691400</td>\n",
       "      <td>1.716271</td>\n",
       "      <td>0.353255</td>\n",
       "      <td>0.329927</td>\n",
       "    </tr>\n",
       "    <tr>\n",
       "      <td>55</td>\n",
       "      <td>1.684700</td>\n",
       "      <td>1.730307</td>\n",
       "      <td>0.348247</td>\n",
       "      <td>0.319577</td>\n",
       "    </tr>\n",
       "    <tr>\n",
       "      <td>56</td>\n",
       "      <td>1.645300</td>\n",
       "      <td>1.727130</td>\n",
       "      <td>0.356928</td>\n",
       "      <td>0.324109</td>\n",
       "    </tr>\n",
       "    <tr>\n",
       "      <td>57</td>\n",
       "      <td>1.649200</td>\n",
       "      <td>1.732886</td>\n",
       "      <td>0.343907</td>\n",
       "      <td>0.314326</td>\n",
       "    </tr>\n",
       "    <tr>\n",
       "      <td>58</td>\n",
       "      <td>1.651000</td>\n",
       "      <td>1.734190</td>\n",
       "      <td>0.347913</td>\n",
       "      <td>0.334645</td>\n",
       "    </tr>\n",
       "    <tr>\n",
       "      <td>59</td>\n",
       "      <td>1.644500</td>\n",
       "      <td>1.732023</td>\n",
       "      <td>0.358264</td>\n",
       "      <td>0.330731</td>\n",
       "    </tr>\n",
       "    <tr>\n",
       "      <td>60</td>\n",
       "      <td>1.623500</td>\n",
       "      <td>1.737860</td>\n",
       "      <td>0.351586</td>\n",
       "      <td>0.332136</td>\n",
       "    </tr>\n",
       "    <tr>\n",
       "      <td>61</td>\n",
       "      <td>1.623400</td>\n",
       "      <td>1.735843</td>\n",
       "      <td>0.350250</td>\n",
       "      <td>0.326324</td>\n",
       "    </tr>\n",
       "    <tr>\n",
       "      <td>62</td>\n",
       "      <td>1.652100</td>\n",
       "      <td>1.756843</td>\n",
       "      <td>0.336895</td>\n",
       "      <td>0.310272</td>\n",
       "    </tr>\n",
       "    <tr>\n",
       "      <td>63</td>\n",
       "      <td>1.634900</td>\n",
       "      <td>1.728100</td>\n",
       "      <td>0.355259</td>\n",
       "      <td>0.328360</td>\n",
       "    </tr>\n",
       "    <tr>\n",
       "      <td>64</td>\n",
       "      <td>1.607900</td>\n",
       "      <td>1.735612</td>\n",
       "      <td>0.358932</td>\n",
       "      <td>0.336013</td>\n",
       "    </tr>\n",
       "    <tr>\n",
       "      <td>65</td>\n",
       "      <td>1.633700</td>\n",
       "      <td>1.759441</td>\n",
       "      <td>0.357930</td>\n",
       "      <td>0.320199</td>\n",
       "    </tr>\n",
       "    <tr>\n",
       "      <td>66</td>\n",
       "      <td>1.597200</td>\n",
       "      <td>1.744689</td>\n",
       "      <td>0.356928</td>\n",
       "      <td>0.323749</td>\n",
       "    </tr>\n",
       "    <tr>\n",
       "      <td>67</td>\n",
       "      <td>1.588200</td>\n",
       "      <td>1.733895</td>\n",
       "      <td>0.354257</td>\n",
       "      <td>0.325127</td>\n",
       "    </tr>\n",
       "    <tr>\n",
       "      <td>68</td>\n",
       "      <td>1.584700</td>\n",
       "      <td>1.741081</td>\n",
       "      <td>0.346578</td>\n",
       "      <td>0.324740</td>\n",
       "    </tr>\n",
       "    <tr>\n",
       "      <td>69</td>\n",
       "      <td>1.566100</td>\n",
       "      <td>1.738676</td>\n",
       "      <td>0.368948</td>\n",
       "      <td>0.344557</td>\n",
       "    </tr>\n",
       "    <tr>\n",
       "      <td>70</td>\n",
       "      <td>1.562500</td>\n",
       "      <td>1.758677</td>\n",
       "      <td>0.354925</td>\n",
       "      <td>0.321981</td>\n",
       "    </tr>\n",
       "    <tr>\n",
       "      <td>71</td>\n",
       "      <td>1.551900</td>\n",
       "      <td>1.758101</td>\n",
       "      <td>0.368614</td>\n",
       "      <td>0.352521</td>\n",
       "    </tr>\n",
       "    <tr>\n",
       "      <td>72</td>\n",
       "      <td>1.561900</td>\n",
       "      <td>1.776686</td>\n",
       "      <td>0.348581</td>\n",
       "      <td>0.333284</td>\n",
       "    </tr>\n",
       "    <tr>\n",
       "      <td>73</td>\n",
       "      <td>1.577200</td>\n",
       "      <td>1.772046</td>\n",
       "      <td>0.354925</td>\n",
       "      <td>0.325368</td>\n",
       "    </tr>\n",
       "    <tr>\n",
       "      <td>74</td>\n",
       "      <td>1.565500</td>\n",
       "      <td>1.827667</td>\n",
       "      <td>0.345910</td>\n",
       "      <td>0.325625</td>\n",
       "    </tr>\n",
       "    <tr>\n",
       "      <td>75</td>\n",
       "      <td>1.615800</td>\n",
       "      <td>1.758324</td>\n",
       "      <td>0.356928</td>\n",
       "      <td>0.339064</td>\n",
       "    </tr>\n",
       "    <tr>\n",
       "      <td>76</td>\n",
       "      <td>1.542500</td>\n",
       "      <td>1.776051</td>\n",
       "      <td>0.365609</td>\n",
       "      <td>0.348318</td>\n",
       "    </tr>\n",
       "    <tr>\n",
       "      <td>77</td>\n",
       "      <td>1.529500</td>\n",
       "      <td>1.775199</td>\n",
       "      <td>0.358932</td>\n",
       "      <td>0.342079</td>\n",
       "    </tr>\n",
       "    <tr>\n",
       "      <td>78</td>\n",
       "      <td>1.506200</td>\n",
       "      <td>1.849945</td>\n",
       "      <td>0.341903</td>\n",
       "      <td>0.329487</td>\n",
       "    </tr>\n",
       "    <tr>\n",
       "      <td>79</td>\n",
       "      <td>1.469500</td>\n",
       "      <td>1.803719</td>\n",
       "      <td>0.365609</td>\n",
       "      <td>0.350153</td>\n",
       "    </tr>\n",
       "    <tr>\n",
       "      <td>80</td>\n",
       "      <td>1.493300</td>\n",
       "      <td>1.819207</td>\n",
       "      <td>0.355259</td>\n",
       "      <td>0.338914</td>\n",
       "    </tr>\n",
       "    <tr>\n",
       "      <td>81</td>\n",
       "      <td>1.475000</td>\n",
       "      <td>1.852931</td>\n",
       "      <td>0.353923</td>\n",
       "      <td>0.344411</td>\n",
       "    </tr>\n",
       "    <tr>\n",
       "      <td>82</td>\n",
       "      <td>1.470500</td>\n",
       "      <td>1.867064</td>\n",
       "      <td>0.352254</td>\n",
       "      <td>0.338206</td>\n",
       "    </tr>\n",
       "    <tr>\n",
       "      <td>83</td>\n",
       "      <td>1.440700</td>\n",
       "      <td>1.895142</td>\n",
       "      <td>0.341569</td>\n",
       "      <td>0.325457</td>\n",
       "    </tr>\n",
       "    <tr>\n",
       "      <td>84</td>\n",
       "      <td>1.484900</td>\n",
       "      <td>1.894297</td>\n",
       "      <td>0.330217</td>\n",
       "      <td>0.321654</td>\n",
       "    </tr>\n",
       "    <tr>\n",
       "      <td>85</td>\n",
       "      <td>1.458900</td>\n",
       "      <td>1.924559</td>\n",
       "      <td>0.334891</td>\n",
       "      <td>0.319547</td>\n",
       "    </tr>\n",
       "    <tr>\n",
       "      <td>86</td>\n",
       "      <td>1.487800</td>\n",
       "      <td>1.957660</td>\n",
       "      <td>0.344240</td>\n",
       "      <td>0.327000</td>\n",
       "    </tr>\n",
       "    <tr>\n",
       "      <td>87</td>\n",
       "      <td>1.417100</td>\n",
       "      <td>1.941362</td>\n",
       "      <td>0.343239</td>\n",
       "      <td>0.331682</td>\n",
       "    </tr>\n",
       "    <tr>\n",
       "      <td>88</td>\n",
       "      <td>1.439000</td>\n",
       "      <td>1.984945</td>\n",
       "      <td>0.337229</td>\n",
       "      <td>0.320935</td>\n",
       "    </tr>\n",
       "    <tr>\n",
       "      <td>89</td>\n",
       "      <td>1.407500</td>\n",
       "      <td>1.941329</td>\n",
       "      <td>0.350584</td>\n",
       "      <td>0.332332</td>\n",
       "    </tr>\n",
       "    <tr>\n",
       "      <td>90</td>\n",
       "      <td>1.420000</td>\n",
       "      <td>1.969486</td>\n",
       "      <td>0.336227</td>\n",
       "      <td>0.322733</td>\n",
       "    </tr>\n",
       "    <tr>\n",
       "      <td>91</td>\n",
       "      <td>1.394900</td>\n",
       "      <td>2.056499</td>\n",
       "      <td>0.330885</td>\n",
       "      <td>0.313461</td>\n",
       "    </tr>\n",
       "    <tr>\n",
       "      <td>92</td>\n",
       "      <td>1.344500</td>\n",
       "      <td>2.049708</td>\n",
       "      <td>0.335225</td>\n",
       "      <td>0.320763</td>\n",
       "    </tr>\n",
       "    <tr>\n",
       "      <td>93</td>\n",
       "      <td>1.338800</td>\n",
       "      <td>2.053630</td>\n",
       "      <td>0.331219</td>\n",
       "      <td>0.329727</td>\n",
       "    </tr>\n",
       "    <tr>\n",
       "      <td>94</td>\n",
       "      <td>1.353800</td>\n",
       "      <td>2.050422</td>\n",
       "      <td>0.338564</td>\n",
       "      <td>0.328921</td>\n",
       "    </tr>\n",
       "    <tr>\n",
       "      <td>95</td>\n",
       "      <td>1.346600</td>\n",
       "      <td>2.120089</td>\n",
       "      <td>0.332888</td>\n",
       "      <td>0.320521</td>\n",
       "    </tr>\n",
       "    <tr>\n",
       "      <td>96</td>\n",
       "      <td>1.327400</td>\n",
       "      <td>2.105411</td>\n",
       "      <td>0.333556</td>\n",
       "      <td>0.315350</td>\n",
       "    </tr>\n",
       "    <tr>\n",
       "      <td>97</td>\n",
       "      <td>1.294300</td>\n",
       "      <td>2.078478</td>\n",
       "      <td>0.336895</td>\n",
       "      <td>0.325034</td>\n",
       "    </tr>\n",
       "    <tr>\n",
       "      <td>98</td>\n",
       "      <td>1.266900</td>\n",
       "      <td>2.144539</td>\n",
       "      <td>0.338564</td>\n",
       "      <td>0.330009</td>\n",
       "    </tr>\n",
       "    <tr>\n",
       "      <td>99</td>\n",
       "      <td>1.353500</td>\n",
       "      <td>2.194480</td>\n",
       "      <td>0.317195</td>\n",
       "      <td>0.307576</td>\n",
       "    </tr>\n",
       "    <tr>\n",
       "      <td>100</td>\n",
       "      <td>1.310400</td>\n",
       "      <td>2.189812</td>\n",
       "      <td>0.305175</td>\n",
       "      <td>0.298943</td>\n",
       "    </tr>\n",
       "    <tr>\n",
       "      <td>101</td>\n",
       "      <td>1.198500</td>\n",
       "      <td>2.269404</td>\n",
       "      <td>0.312500</td>\n",
       "      <td>0.307705</td>\n",
       "    </tr>\n",
       "  </tbody>\n",
       "</table><p>\n",
       "    <div>\n",
       "      \n",
       "      <progress value='104' max='104' style='width:300px; height:20px; vertical-align: middle;'></progress>\n",
       "      [104/104 00:28]\n",
       "    </div>\n",
       "    "
      ],
      "text/plain": [
       "<IPython.core.display.HTML object>"
      ]
     },
     "metadata": {},
     "output_type": "display_data"
    },
    {
     "name": "stdout",
     "output_type": "stream",
     "text": [
      "Grafik loss disimpan untuk epoch 1.0\n",
      "Grafik accuracy disimpan untuk epoch 1.0\n",
      "Model terbaik disimpan di ../Khaairi/Result/upsampling_best_model.pt dengan eval_accuracy: 0.2324\n"
     ]
    },
    {
     "name": "stderr",
     "output_type": "stream",
     "text": [
      "/home/ilkom/.local/lib/python3.12/site-packages/torch/nn/parallel/_functions.py:71: UserWarning: Was asked to gather along dimension 0, but all input tensors were scalars; will instead unsqueeze and return a vector.\n",
      "  warnings.warn(\n"
     ]
    },
    {
     "name": "stdout",
     "output_type": "stream",
     "text": [
      "Grafik loss disimpan untuk epoch 2.0\n",
      "Grafik accuracy disimpan untuk epoch 2.0\n",
      "Model terbaik disimpan di ../Khaairi/Result/upsampling_best_model.pt dengan eval_accuracy: 0.2437\n"
     ]
    },
    {
     "name": "stderr",
     "output_type": "stream",
     "text": [
      "/home/ilkom/.local/lib/python3.12/site-packages/torch/nn/parallel/_functions.py:71: UserWarning: Was asked to gather along dimension 0, but all input tensors were scalars; will instead unsqueeze and return a vector.\n",
      "  warnings.warn(\n"
     ]
    },
    {
     "name": "stdout",
     "output_type": "stream",
     "text": [
      "Grafik loss disimpan untuk epoch 3.0\n",
      "Grafik accuracy disimpan untuk epoch 3.0\n"
     ]
    },
    {
     "name": "stderr",
     "output_type": "stream",
     "text": [
      "/home/ilkom/.local/lib/python3.12/site-packages/torch/nn/parallel/_functions.py:71: UserWarning: Was asked to gather along dimension 0, but all input tensors were scalars; will instead unsqueeze and return a vector.\n",
      "  warnings.warn(\n"
     ]
    },
    {
     "name": "stdout",
     "output_type": "stream",
     "text": [
      "Grafik loss disimpan untuk epoch 4.0\n",
      "Grafik accuracy disimpan untuk epoch 4.0\n",
      "Model terbaik disimpan di ../Khaairi/Result/upsampling_best_model.pt dengan eval_accuracy: 0.2698\n"
     ]
    },
    {
     "name": "stderr",
     "output_type": "stream",
     "text": [
      "/home/ilkom/.local/lib/python3.12/site-packages/torch/nn/parallel/_functions.py:71: UserWarning: Was asked to gather along dimension 0, but all input tensors were scalars; will instead unsqueeze and return a vector.\n",
      "  warnings.warn(\n"
     ]
    },
    {
     "name": "stdout",
     "output_type": "stream",
     "text": [
      "Grafik loss disimpan untuk epoch 5.0\n",
      "Grafik accuracy disimpan untuk epoch 5.0\n"
     ]
    },
    {
     "name": "stderr",
     "output_type": "stream",
     "text": [
      "/home/ilkom/.local/lib/python3.12/site-packages/torch/nn/parallel/_functions.py:71: UserWarning: Was asked to gather along dimension 0, but all input tensors were scalars; will instead unsqueeze and return a vector.\n",
      "  warnings.warn(\n"
     ]
    },
    {
     "name": "stdout",
     "output_type": "stream",
     "text": [
      "Grafik loss disimpan untuk epoch 6.0\n",
      "Grafik accuracy disimpan untuk epoch 6.0\n",
      "Model terbaik disimpan di ../Khaairi/Result/upsampling_best_model.pt dengan eval_accuracy: 0.2912\n"
     ]
    },
    {
     "name": "stderr",
     "output_type": "stream",
     "text": [
      "/home/ilkom/.local/lib/python3.12/site-packages/torch/nn/parallel/_functions.py:71: UserWarning: Was asked to gather along dimension 0, but all input tensors were scalars; will instead unsqueeze and return a vector.\n",
      "  warnings.warn(\n"
     ]
    },
    {
     "name": "stdout",
     "output_type": "stream",
     "text": [
      "Grafik loss disimpan untuk epoch 7.0\n",
      "Grafik accuracy disimpan untuk epoch 7.0\n"
     ]
    },
    {
     "name": "stderr",
     "output_type": "stream",
     "text": [
      "/home/ilkom/.local/lib/python3.12/site-packages/torch/nn/parallel/_functions.py:71: UserWarning: Was asked to gather along dimension 0, but all input tensors were scalars; will instead unsqueeze and return a vector.\n",
      "  warnings.warn(\n"
     ]
    },
    {
     "name": "stdout",
     "output_type": "stream",
     "text": [
      "Grafik loss disimpan untuk epoch 9.0\n",
      "Grafik accuracy disimpan untuk epoch 9.0\n"
     ]
    },
    {
     "name": "stderr",
     "output_type": "stream",
     "text": [
      "/home/ilkom/.local/lib/python3.12/site-packages/torch/nn/parallel/_functions.py:71: UserWarning: Was asked to gather along dimension 0, but all input tensors were scalars; will instead unsqueeze and return a vector.\n",
      "  warnings.warn(\n"
     ]
    },
    {
     "name": "stdout",
     "output_type": "stream",
     "text": [
      "Grafik loss disimpan untuk epoch 10.0\n",
      "Grafik accuracy disimpan untuk epoch 10.0\n"
     ]
    },
    {
     "name": "stderr",
     "output_type": "stream",
     "text": [
      "/home/ilkom/.local/lib/python3.12/site-packages/torch/nn/parallel/_functions.py:71: UserWarning: Was asked to gather along dimension 0, but all input tensors were scalars; will instead unsqueeze and return a vector.\n",
      "  warnings.warn(\n"
     ]
    },
    {
     "name": "stdout",
     "output_type": "stream",
     "text": [
      "Grafik loss disimpan untuk epoch 11.0\n",
      "Grafik accuracy disimpan untuk epoch 11.0\n",
      "Model terbaik disimpan di ../Khaairi/Result/upsampling_best_model.pt dengan eval_accuracy: 0.3129\n"
     ]
    },
    {
     "name": "stderr",
     "output_type": "stream",
     "text": [
      "/home/ilkom/.local/lib/python3.12/site-packages/torch/nn/parallel/_functions.py:71: UserWarning: Was asked to gather along dimension 0, but all input tensors were scalars; will instead unsqueeze and return a vector.\n",
      "  warnings.warn(\n"
     ]
    },
    {
     "name": "stdout",
     "output_type": "stream",
     "text": [
      "Grafik loss disimpan untuk epoch 12.0\n",
      "Grafik accuracy disimpan untuk epoch 12.0\n"
     ]
    },
    {
     "name": "stderr",
     "output_type": "stream",
     "text": [
      "/home/ilkom/.local/lib/python3.12/site-packages/torch/nn/parallel/_functions.py:71: UserWarning: Was asked to gather along dimension 0, but all input tensors were scalars; will instead unsqueeze and return a vector.\n",
      "  warnings.warn(\n"
     ]
    },
    {
     "name": "stdout",
     "output_type": "stream",
     "text": [
      "Grafik loss disimpan untuk epoch 13.0\n",
      "Grafik accuracy disimpan untuk epoch 13.0\n"
     ]
    },
    {
     "name": "stderr",
     "output_type": "stream",
     "text": [
      "/home/ilkom/.local/lib/python3.12/site-packages/torch/nn/parallel/_functions.py:71: UserWarning: Was asked to gather along dimension 0, but all input tensors were scalars; will instead unsqueeze and return a vector.\n",
      "  warnings.warn(\n"
     ]
    },
    {
     "name": "stdout",
     "output_type": "stream",
     "text": [
      "Grafik loss disimpan untuk epoch 14.0\n",
      "Grafik accuracy disimpan untuk epoch 14.0\n"
     ]
    },
    {
     "name": "stderr",
     "output_type": "stream",
     "text": [
      "/home/ilkom/.local/lib/python3.12/site-packages/torch/nn/parallel/_functions.py:71: UserWarning: Was asked to gather along dimension 0, but all input tensors were scalars; will instead unsqueeze and return a vector.\n",
      "  warnings.warn(\n"
     ]
    },
    {
     "name": "stdout",
     "output_type": "stream",
     "text": [
      "Grafik loss disimpan untuk epoch 15.0\n",
      "Grafik accuracy disimpan untuk epoch 15.0\n"
     ]
    },
    {
     "name": "stderr",
     "output_type": "stream",
     "text": [
      "/home/ilkom/.local/lib/python3.12/site-packages/torch/nn/parallel/_functions.py:71: UserWarning: Was asked to gather along dimension 0, but all input tensors were scalars; will instead unsqueeze and return a vector.\n",
      "  warnings.warn(\n"
     ]
    },
    {
     "name": "stdout",
     "output_type": "stream",
     "text": [
      "Grafik loss disimpan untuk epoch 16.0\n",
      "Grafik accuracy disimpan untuk epoch 16.0\n",
      "Model terbaik disimpan di ../Khaairi/Result/upsampling_best_model.pt dengan eval_accuracy: 0.3142\n"
     ]
    },
    {
     "name": "stderr",
     "output_type": "stream",
     "text": [
      "/home/ilkom/.local/lib/python3.12/site-packages/torch/nn/parallel/_functions.py:71: UserWarning: Was asked to gather along dimension 0, but all input tensors were scalars; will instead unsqueeze and return a vector.\n",
      "  warnings.warn(\n"
     ]
    },
    {
     "name": "stdout",
     "output_type": "stream",
     "text": [
      "Grafik loss disimpan untuk epoch 17.0\n",
      "Grafik accuracy disimpan untuk epoch 17.0\n"
     ]
    },
    {
     "name": "stderr",
     "output_type": "stream",
     "text": [
      "/home/ilkom/.local/lib/python3.12/site-packages/torch/nn/parallel/_functions.py:71: UserWarning: Was asked to gather along dimension 0, but all input tensors were scalars; will instead unsqueeze and return a vector.\n",
      "  warnings.warn(\n"
     ]
    },
    {
     "name": "stdout",
     "output_type": "stream",
     "text": [
      "Grafik loss disimpan untuk epoch 18.0\n",
      "Grafik accuracy disimpan untuk epoch 18.0\n",
      "Model terbaik disimpan di ../Khaairi/Result/upsampling_best_model.pt dengan eval_accuracy: 0.3235\n"
     ]
    },
    {
     "name": "stderr",
     "output_type": "stream",
     "text": [
      "/home/ilkom/.local/lib/python3.12/site-packages/torch/nn/parallel/_functions.py:71: UserWarning: Was asked to gather along dimension 0, but all input tensors were scalars; will instead unsqueeze and return a vector.\n",
      "  warnings.warn(\n"
     ]
    },
    {
     "name": "stdout",
     "output_type": "stream",
     "text": [
      "Grafik loss disimpan untuk epoch 19.0\n",
      "Grafik accuracy disimpan untuk epoch 19.0\n"
     ]
    },
    {
     "name": "stderr",
     "output_type": "stream",
     "text": [
      "/home/ilkom/.local/lib/python3.12/site-packages/torch/nn/parallel/_functions.py:71: UserWarning: Was asked to gather along dimension 0, but all input tensors were scalars; will instead unsqueeze and return a vector.\n",
      "  warnings.warn(\n"
     ]
    },
    {
     "name": "stdout",
     "output_type": "stream",
     "text": [
      "Grafik loss disimpan untuk epoch 20.0\n",
      "Grafik accuracy disimpan untuk epoch 20.0\n",
      "Model terbaik disimpan di ../Khaairi/Result/upsampling_best_model.pt dengan eval_accuracy: 0.3295\n"
     ]
    },
    {
     "name": "stderr",
     "output_type": "stream",
     "text": [
      "/home/ilkom/.local/lib/python3.12/site-packages/torch/nn/parallel/_functions.py:71: UserWarning: Was asked to gather along dimension 0, but all input tensors were scalars; will instead unsqueeze and return a vector.\n",
      "  warnings.warn(\n"
     ]
    },
    {
     "name": "stdout",
     "output_type": "stream",
     "text": [
      "Grafik loss disimpan untuk epoch 21.0\n",
      "Grafik accuracy disimpan untuk epoch 21.0\n"
     ]
    },
    {
     "name": "stderr",
     "output_type": "stream",
     "text": [
      "/home/ilkom/.local/lib/python3.12/site-packages/torch/nn/parallel/_functions.py:71: UserWarning: Was asked to gather along dimension 0, but all input tensors were scalars; will instead unsqueeze and return a vector.\n",
      "  warnings.warn(\n"
     ]
    },
    {
     "name": "stdout",
     "output_type": "stream",
     "text": [
      "Grafik loss disimpan untuk epoch 22.0\n",
      "Grafik accuracy disimpan untuk epoch 22.0\n",
      "Model terbaik disimpan di ../Khaairi/Result/upsampling_best_model.pt dengan eval_accuracy: 0.3316\n"
     ]
    },
    {
     "name": "stderr",
     "output_type": "stream",
     "text": [
      "/home/ilkom/.local/lib/python3.12/site-packages/torch/nn/parallel/_functions.py:71: UserWarning: Was asked to gather along dimension 0, but all input tensors were scalars; will instead unsqueeze and return a vector.\n",
      "  warnings.warn(\n"
     ]
    },
    {
     "name": "stdout",
     "output_type": "stream",
     "text": [
      "Grafik loss disimpan untuk epoch 23.0\n",
      "Grafik accuracy disimpan untuk epoch 23.0\n"
     ]
    },
    {
     "name": "stderr",
     "output_type": "stream",
     "text": [
      "/home/ilkom/.local/lib/python3.12/site-packages/torch/nn/parallel/_functions.py:71: UserWarning: Was asked to gather along dimension 0, but all input tensors were scalars; will instead unsqueeze and return a vector.\n",
      "  warnings.warn(\n"
     ]
    },
    {
     "name": "stdout",
     "output_type": "stream",
     "text": [
      "Grafik loss disimpan untuk epoch 24.0\n",
      "Grafik accuracy disimpan untuk epoch 24.0\n",
      "Model terbaik disimpan di ../Khaairi/Result/upsampling_best_model.pt dengan eval_accuracy: 0.3332\n"
     ]
    },
    {
     "name": "stderr",
     "output_type": "stream",
     "text": [
      "/home/ilkom/.local/lib/python3.12/site-packages/torch/nn/parallel/_functions.py:71: UserWarning: Was asked to gather along dimension 0, but all input tensors were scalars; will instead unsqueeze and return a vector.\n",
      "  warnings.warn(\n"
     ]
    },
    {
     "name": "stdout",
     "output_type": "stream",
     "text": [
      "Grafik loss disimpan untuk epoch 25.0\n",
      "Grafik accuracy disimpan untuk epoch 25.0\n"
     ]
    },
    {
     "name": "stderr",
     "output_type": "stream",
     "text": [
      "/home/ilkom/.local/lib/python3.12/site-packages/torch/nn/parallel/_functions.py:71: UserWarning: Was asked to gather along dimension 0, but all input tensors were scalars; will instead unsqueeze and return a vector.\n",
      "  warnings.warn(\n"
     ]
    },
    {
     "name": "stdout",
     "output_type": "stream",
     "text": [
      "Grafik loss disimpan untuk epoch 26.0\n",
      "Grafik accuracy disimpan untuk epoch 26.0\n"
     ]
    },
    {
     "name": "stderr",
     "output_type": "stream",
     "text": [
      "/home/ilkom/.local/lib/python3.12/site-packages/torch/nn/parallel/_functions.py:71: UserWarning: Was asked to gather along dimension 0, but all input tensors were scalars; will instead unsqueeze and return a vector.\n",
      "  warnings.warn(\n"
     ]
    },
    {
     "name": "stdout",
     "output_type": "stream",
     "text": [
      "Grafik loss disimpan untuk epoch 27.0\n",
      "Grafik accuracy disimpan untuk epoch 27.0\n"
     ]
    },
    {
     "name": "stderr",
     "output_type": "stream",
     "text": [
      "/home/ilkom/.local/lib/python3.12/site-packages/torch/nn/parallel/_functions.py:71: UserWarning: Was asked to gather along dimension 0, but all input tensors were scalars; will instead unsqueeze and return a vector.\n",
      "  warnings.warn(\n"
     ]
    },
    {
     "name": "stdout",
     "output_type": "stream",
     "text": [
      "Grafik loss disimpan untuk epoch 28.0\n",
      "Grafik accuracy disimpan untuk epoch 28.0\n"
     ]
    },
    {
     "name": "stderr",
     "output_type": "stream",
     "text": [
      "/home/ilkom/.local/lib/python3.12/site-packages/torch/nn/parallel/_functions.py:71: UserWarning: Was asked to gather along dimension 0, but all input tensors were scalars; will instead unsqueeze and return a vector.\n",
      "  warnings.warn(\n"
     ]
    },
    {
     "name": "stdout",
     "output_type": "stream",
     "text": [
      "Grafik loss disimpan untuk epoch 29.0\n",
      "Grafik accuracy disimpan untuk epoch 29.0\n"
     ]
    },
    {
     "name": "stderr",
     "output_type": "stream",
     "text": [
      "/home/ilkom/.local/lib/python3.12/site-packages/torch/nn/parallel/_functions.py:71: UserWarning: Was asked to gather along dimension 0, but all input tensors were scalars; will instead unsqueeze and return a vector.\n",
      "  warnings.warn(\n"
     ]
    },
    {
     "name": "stdout",
     "output_type": "stream",
     "text": [
      "Grafik loss disimpan untuk epoch 30.0\n",
      "Grafik accuracy disimpan untuk epoch 30.0\n"
     ]
    },
    {
     "name": "stderr",
     "output_type": "stream",
     "text": [
      "/home/ilkom/.local/lib/python3.12/site-packages/torch/nn/parallel/_functions.py:71: UserWarning: Was asked to gather along dimension 0, but all input tensors were scalars; will instead unsqueeze and return a vector.\n",
      "  warnings.warn(\n"
     ]
    },
    {
     "name": "stdout",
     "output_type": "stream",
     "text": [
      "Grafik loss disimpan untuk epoch 31.0\n",
      "Grafik accuracy disimpan untuk epoch 31.0\n"
     ]
    },
    {
     "name": "stderr",
     "output_type": "stream",
     "text": [
      "/home/ilkom/.local/lib/python3.12/site-packages/torch/nn/parallel/_functions.py:71: UserWarning: Was asked to gather along dimension 0, but all input tensors were scalars; will instead unsqueeze and return a vector.\n",
      "  warnings.warn(\n"
     ]
    },
    {
     "name": "stdout",
     "output_type": "stream",
     "text": [
      "Grafik loss disimpan untuk epoch 32.0\n",
      "Grafik accuracy disimpan untuk epoch 32.0\n"
     ]
    },
    {
     "name": "stderr",
     "output_type": "stream",
     "text": [
      "/home/ilkom/.local/lib/python3.12/site-packages/torch/nn/parallel/_functions.py:71: UserWarning: Was asked to gather along dimension 0, but all input tensors were scalars; will instead unsqueeze and return a vector.\n",
      "  warnings.warn(\n"
     ]
    },
    {
     "name": "stdout",
     "output_type": "stream",
     "text": [
      "Grafik loss disimpan untuk epoch 33.0\n",
      "Grafik accuracy disimpan untuk epoch 33.0\n"
     ]
    },
    {
     "name": "stderr",
     "output_type": "stream",
     "text": [
      "/home/ilkom/.local/lib/python3.12/site-packages/torch/nn/parallel/_functions.py:71: UserWarning: Was asked to gather along dimension 0, but all input tensors were scalars; will instead unsqueeze and return a vector.\n",
      "  warnings.warn(\n"
     ]
    },
    {
     "name": "stdout",
     "output_type": "stream",
     "text": [
      "Grafik loss disimpan untuk epoch 34.0\n",
      "Grafik accuracy disimpan untuk epoch 34.0\n",
      "Model terbaik disimpan di ../Khaairi/Result/upsampling_best_model.pt dengan eval_accuracy: 0.3356\n"
     ]
    },
    {
     "name": "stderr",
     "output_type": "stream",
     "text": [
      "/home/ilkom/.local/lib/python3.12/site-packages/torch/nn/parallel/_functions.py:71: UserWarning: Was asked to gather along dimension 0, but all input tensors were scalars; will instead unsqueeze and return a vector.\n",
      "  warnings.warn(\n"
     ]
    },
    {
     "name": "stdout",
     "output_type": "stream",
     "text": [
      "Grafik loss disimpan untuk epoch 35.0\n",
      "Grafik accuracy disimpan untuk epoch 35.0\n"
     ]
    },
    {
     "name": "stderr",
     "output_type": "stream",
     "text": [
      "/home/ilkom/.local/lib/python3.12/site-packages/torch/nn/parallel/_functions.py:71: UserWarning: Was asked to gather along dimension 0, but all input tensors were scalars; will instead unsqueeze and return a vector.\n",
      "  warnings.warn(\n"
     ]
    },
    {
     "name": "stdout",
     "output_type": "stream",
     "text": [
      "Grafik loss disimpan untuk epoch 36.0\n",
      "Grafik accuracy disimpan untuk epoch 36.0\n"
     ]
    },
    {
     "name": "stderr",
     "output_type": "stream",
     "text": [
      "/home/ilkom/.local/lib/python3.12/site-packages/torch/nn/parallel/_functions.py:71: UserWarning: Was asked to gather along dimension 0, but all input tensors were scalars; will instead unsqueeze and return a vector.\n",
      "  warnings.warn(\n"
     ]
    },
    {
     "name": "stdout",
     "output_type": "stream",
     "text": [
      "Grafik loss disimpan untuk epoch 37.0\n",
      "Grafik accuracy disimpan untuk epoch 37.0\n"
     ]
    },
    {
     "name": "stderr",
     "output_type": "stream",
     "text": [
      "/home/ilkom/.local/lib/python3.12/site-packages/torch/nn/parallel/_functions.py:71: UserWarning: Was asked to gather along dimension 0, but all input tensors were scalars; will instead unsqueeze and return a vector.\n",
      "  warnings.warn(\n"
     ]
    },
    {
     "name": "stdout",
     "output_type": "stream",
     "text": [
      "Grafik loss disimpan untuk epoch 38.0\n",
      "Grafik accuracy disimpan untuk epoch 38.0\n"
     ]
    },
    {
     "name": "stderr",
     "output_type": "stream",
     "text": [
      "/home/ilkom/.local/lib/python3.12/site-packages/torch/nn/parallel/_functions.py:71: UserWarning: Was asked to gather along dimension 0, but all input tensors were scalars; will instead unsqueeze and return a vector.\n",
      "  warnings.warn(\n"
     ]
    },
    {
     "name": "stdout",
     "output_type": "stream",
     "text": [
      "Grafik loss disimpan untuk epoch 39.0\n",
      "Grafik accuracy disimpan untuk epoch 39.0\n"
     ]
    },
    {
     "name": "stderr",
     "output_type": "stream",
     "text": [
      "/home/ilkom/.local/lib/python3.12/site-packages/torch/nn/parallel/_functions.py:71: UserWarning: Was asked to gather along dimension 0, but all input tensors were scalars; will instead unsqueeze and return a vector.\n",
      "  warnings.warn(\n"
     ]
    },
    {
     "name": "stdout",
     "output_type": "stream",
     "text": [
      "Grafik loss disimpan untuk epoch 40.0\n",
      "Grafik accuracy disimpan untuk epoch 40.0\n"
     ]
    },
    {
     "name": "stderr",
     "output_type": "stream",
     "text": [
      "/home/ilkom/.local/lib/python3.12/site-packages/torch/nn/parallel/_functions.py:71: UserWarning: Was asked to gather along dimension 0, but all input tensors were scalars; will instead unsqueeze and return a vector.\n",
      "  warnings.warn(\n"
     ]
    },
    {
     "name": "stdout",
     "output_type": "stream",
     "text": [
      "Grafik loss disimpan untuk epoch 41.0\n",
      "Grafik accuracy disimpan untuk epoch 41.0\n",
      "Model terbaik disimpan di ../Khaairi/Result/upsampling_best_model.pt dengan eval_accuracy: 0.3422\n"
     ]
    },
    {
     "name": "stderr",
     "output_type": "stream",
     "text": [
      "/home/ilkom/.local/lib/python3.12/site-packages/torch/nn/parallel/_functions.py:71: UserWarning: Was asked to gather along dimension 0, but all input tensors were scalars; will instead unsqueeze and return a vector.\n",
      "  warnings.warn(\n"
     ]
    },
    {
     "name": "stdout",
     "output_type": "stream",
     "text": [
      "Grafik loss disimpan untuk epoch 42.0\n",
      "Grafik accuracy disimpan untuk epoch 42.0\n"
     ]
    },
    {
     "name": "stderr",
     "output_type": "stream",
     "text": [
      "/home/ilkom/.local/lib/python3.12/site-packages/torch/nn/parallel/_functions.py:71: UserWarning: Was asked to gather along dimension 0, but all input tensors were scalars; will instead unsqueeze and return a vector.\n",
      "  warnings.warn(\n"
     ]
    },
    {
     "name": "stdout",
     "output_type": "stream",
     "text": [
      "Grafik loss disimpan untuk epoch 43.0\n",
      "Grafik accuracy disimpan untuk epoch 43.0\n",
      "Model terbaik disimpan di ../Khaairi/Result/upsampling_best_model.pt dengan eval_accuracy: 0.3466\n"
     ]
    },
    {
     "name": "stderr",
     "output_type": "stream",
     "text": [
      "/home/ilkom/.local/lib/python3.12/site-packages/torch/nn/parallel/_functions.py:71: UserWarning: Was asked to gather along dimension 0, but all input tensors were scalars; will instead unsqueeze and return a vector.\n",
      "  warnings.warn(\n"
     ]
    },
    {
     "name": "stdout",
     "output_type": "stream",
     "text": [
      "Grafik loss disimpan untuk epoch 44.0\n",
      "Grafik accuracy disimpan untuk epoch 44.0\n",
      "Model terbaik disimpan di ../Khaairi/Result/upsampling_best_model.pt dengan eval_accuracy: 0.3499\n"
     ]
    },
    {
     "name": "stderr",
     "output_type": "stream",
     "text": [
      "/home/ilkom/.local/lib/python3.12/site-packages/torch/nn/parallel/_functions.py:71: UserWarning: Was asked to gather along dimension 0, but all input tensors were scalars; will instead unsqueeze and return a vector.\n",
      "  warnings.warn(\n"
     ]
    },
    {
     "name": "stdout",
     "output_type": "stream",
     "text": [
      "Grafik loss disimpan untuk epoch 45.0\n",
      "Grafik accuracy disimpan untuk epoch 45.0\n",
      "Model terbaik disimpan di ../Khaairi/Result/upsampling_best_model.pt dengan eval_accuracy: 0.3513\n"
     ]
    },
    {
     "name": "stderr",
     "output_type": "stream",
     "text": [
      "/home/ilkom/.local/lib/python3.12/site-packages/torch/nn/parallel/_functions.py:71: UserWarning: Was asked to gather along dimension 0, but all input tensors were scalars; will instead unsqueeze and return a vector.\n",
      "  warnings.warn(\n"
     ]
    },
    {
     "name": "stdout",
     "output_type": "stream",
     "text": [
      "Grafik loss disimpan untuk epoch 46.0\n",
      "Grafik accuracy disimpan untuk epoch 46.0\n",
      "Model terbaik disimpan di ../Khaairi/Result/upsampling_best_model.pt dengan eval_accuracy: 0.3546\n"
     ]
    },
    {
     "name": "stderr",
     "output_type": "stream",
     "text": [
      "/home/ilkom/.local/lib/python3.12/site-packages/torch/nn/parallel/_functions.py:71: UserWarning: Was asked to gather along dimension 0, but all input tensors were scalars; will instead unsqueeze and return a vector.\n",
      "  warnings.warn(\n"
     ]
    },
    {
     "name": "stdout",
     "output_type": "stream",
     "text": [
      "Grafik loss disimpan untuk epoch 47.0\n",
      "Grafik accuracy disimpan untuk epoch 47.0\n"
     ]
    },
    {
     "name": "stderr",
     "output_type": "stream",
     "text": [
      "/home/ilkom/.local/lib/python3.12/site-packages/torch/nn/parallel/_functions.py:71: UserWarning: Was asked to gather along dimension 0, but all input tensors were scalars; will instead unsqueeze and return a vector.\n",
      "  warnings.warn(\n"
     ]
    },
    {
     "name": "stdout",
     "output_type": "stream",
     "text": [
      "Grafik loss disimpan untuk epoch 48.0\n",
      "Grafik accuracy disimpan untuk epoch 48.0\n"
     ]
    },
    {
     "name": "stderr",
     "output_type": "stream",
     "text": [
      "/home/ilkom/.local/lib/python3.12/site-packages/torch/nn/parallel/_functions.py:71: UserWarning: Was asked to gather along dimension 0, but all input tensors were scalars; will instead unsqueeze and return a vector.\n",
      "  warnings.warn(\n"
     ]
    },
    {
     "name": "stdout",
     "output_type": "stream",
     "text": [
      "Grafik loss disimpan untuk epoch 49.0\n",
      "Grafik accuracy disimpan untuk epoch 49.0\n"
     ]
    },
    {
     "name": "stderr",
     "output_type": "stream",
     "text": [
      "/home/ilkom/.local/lib/python3.12/site-packages/torch/nn/parallel/_functions.py:71: UserWarning: Was asked to gather along dimension 0, but all input tensors were scalars; will instead unsqueeze and return a vector.\n",
      "  warnings.warn(\n"
     ]
    },
    {
     "name": "stdout",
     "output_type": "stream",
     "text": [
      "Grafik loss disimpan untuk epoch 50.0\n",
      "Grafik accuracy disimpan untuk epoch 50.0\n",
      "Model terbaik disimpan di ../Khaairi/Result/upsampling_best_model.pt dengan eval_accuracy: 0.3559\n"
     ]
    },
    {
     "name": "stderr",
     "output_type": "stream",
     "text": [
      "/home/ilkom/.local/lib/python3.12/site-packages/torch/nn/parallel/_functions.py:71: UserWarning: Was asked to gather along dimension 0, but all input tensors were scalars; will instead unsqueeze and return a vector.\n",
      "  warnings.warn(\n"
     ]
    },
    {
     "name": "stdout",
     "output_type": "stream",
     "text": [
      "Grafik loss disimpan untuk epoch 51.0\n",
      "Grafik accuracy disimpan untuk epoch 51.0\n"
     ]
    },
    {
     "name": "stderr",
     "output_type": "stream",
     "text": [
      "/home/ilkom/.local/lib/python3.12/site-packages/torch/nn/parallel/_functions.py:71: UserWarning: Was asked to gather along dimension 0, but all input tensors were scalars; will instead unsqueeze and return a vector.\n",
      "  warnings.warn(\n"
     ]
    },
    {
     "name": "stdout",
     "output_type": "stream",
     "text": [
      "Grafik loss disimpan untuk epoch 52.0\n",
      "Grafik accuracy disimpan untuk epoch 52.0\n"
     ]
    },
    {
     "name": "stderr",
     "output_type": "stream",
     "text": [
      "/home/ilkom/.local/lib/python3.12/site-packages/torch/nn/parallel/_functions.py:71: UserWarning: Was asked to gather along dimension 0, but all input tensors were scalars; will instead unsqueeze and return a vector.\n",
      "  warnings.warn(\n"
     ]
    },
    {
     "name": "stdout",
     "output_type": "stream",
     "text": [
      "Grafik loss disimpan untuk epoch 53.0\n",
      "Grafik accuracy disimpan untuk epoch 53.0\n"
     ]
    },
    {
     "name": "stderr",
     "output_type": "stream",
     "text": [
      "/home/ilkom/.local/lib/python3.12/site-packages/torch/nn/parallel/_functions.py:71: UserWarning: Was asked to gather along dimension 0, but all input tensors were scalars; will instead unsqueeze and return a vector.\n",
      "  warnings.warn(\n"
     ]
    },
    {
     "name": "stdout",
     "output_type": "stream",
     "text": [
      "Grafik loss disimpan untuk epoch 54.0\n",
      "Grafik accuracy disimpan untuk epoch 54.0\n"
     ]
    },
    {
     "name": "stderr",
     "output_type": "stream",
     "text": [
      "/home/ilkom/.local/lib/python3.12/site-packages/torch/nn/parallel/_functions.py:71: UserWarning: Was asked to gather along dimension 0, but all input tensors were scalars; will instead unsqueeze and return a vector.\n",
      "  warnings.warn(\n"
     ]
    },
    {
     "name": "stdout",
     "output_type": "stream",
     "text": [
      "Grafik loss disimpan untuk epoch 55.0\n",
      "Grafik accuracy disimpan untuk epoch 55.0\n"
     ]
    },
    {
     "name": "stderr",
     "output_type": "stream",
     "text": [
      "/home/ilkom/.local/lib/python3.12/site-packages/torch/nn/parallel/_functions.py:71: UserWarning: Was asked to gather along dimension 0, but all input tensors were scalars; will instead unsqueeze and return a vector.\n",
      "  warnings.warn(\n"
     ]
    },
    {
     "name": "stdout",
     "output_type": "stream",
     "text": [
      "Grafik loss disimpan untuk epoch 56.0\n",
      "Grafik accuracy disimpan untuk epoch 56.0\n",
      "Model terbaik disimpan di ../Khaairi/Result/upsampling_best_model.pt dengan eval_accuracy: 0.3569\n"
     ]
    },
    {
     "name": "stderr",
     "output_type": "stream",
     "text": [
      "/home/ilkom/.local/lib/python3.12/site-packages/torch/nn/parallel/_functions.py:71: UserWarning: Was asked to gather along dimension 0, but all input tensors were scalars; will instead unsqueeze and return a vector.\n",
      "  warnings.warn(\n"
     ]
    },
    {
     "name": "stdout",
     "output_type": "stream",
     "text": [
      "Grafik loss disimpan untuk epoch 57.0\n",
      "Grafik accuracy disimpan untuk epoch 57.0\n"
     ]
    },
    {
     "name": "stderr",
     "output_type": "stream",
     "text": [
      "/home/ilkom/.local/lib/python3.12/site-packages/torch/nn/parallel/_functions.py:71: UserWarning: Was asked to gather along dimension 0, but all input tensors were scalars; will instead unsqueeze and return a vector.\n",
      "  warnings.warn(\n"
     ]
    },
    {
     "name": "stdout",
     "output_type": "stream",
     "text": [
      "Grafik loss disimpan untuk epoch 58.0\n",
      "Grafik accuracy disimpan untuk epoch 58.0\n",
      "Grafik loss disimpan untuk epoch 59.0\n",
      "Grafik accuracy disimpan untuk epoch 59.0\n",
      "Model terbaik disimpan di ../Khaairi/Result/upsampling_best_model.pt dengan eval_accuracy: 0.3583\n"
     ]
    },
    {
     "name": "stderr",
     "output_type": "stream",
     "text": [
      "/home/ilkom/.local/lib/python3.12/site-packages/torch/nn/parallel/_functions.py:71: UserWarning: Was asked to gather along dimension 0, but all input tensors were scalars; will instead unsqueeze and return a vector.\n",
      "  warnings.warn(\n"
     ]
    },
    {
     "name": "stdout",
     "output_type": "stream",
     "text": [
      "Grafik loss disimpan untuk epoch 60.0\n",
      "Grafik accuracy disimpan untuk epoch 60.0\n"
     ]
    },
    {
     "name": "stderr",
     "output_type": "stream",
     "text": [
      "/home/ilkom/.local/lib/python3.12/site-packages/torch/nn/parallel/_functions.py:71: UserWarning: Was asked to gather along dimension 0, but all input tensors were scalars; will instead unsqueeze and return a vector.\n",
      "  warnings.warn(\n"
     ]
    },
    {
     "name": "stdout",
     "output_type": "stream",
     "text": [
      "Grafik loss disimpan untuk epoch 61.0\n",
      "Grafik accuracy disimpan untuk epoch 61.0\n"
     ]
    },
    {
     "name": "stderr",
     "output_type": "stream",
     "text": [
      "/home/ilkom/.local/lib/python3.12/site-packages/torch/nn/parallel/_functions.py:71: UserWarning: Was asked to gather along dimension 0, but all input tensors were scalars; will instead unsqueeze and return a vector.\n",
      "  warnings.warn(\n"
     ]
    },
    {
     "name": "stdout",
     "output_type": "stream",
     "text": [
      "Grafik loss disimpan untuk epoch 62.0\n",
      "Grafik accuracy disimpan untuk epoch 62.0\n"
     ]
    },
    {
     "name": "stderr",
     "output_type": "stream",
     "text": [
      "/home/ilkom/.local/lib/python3.12/site-packages/torch/nn/parallel/_functions.py:71: UserWarning: Was asked to gather along dimension 0, but all input tensors were scalars; will instead unsqueeze and return a vector.\n",
      "  warnings.warn(\n"
     ]
    },
    {
     "name": "stdout",
     "output_type": "stream",
     "text": [
      "Grafik loss disimpan untuk epoch 63.0\n",
      "Grafik accuracy disimpan untuk epoch 63.0\n"
     ]
    },
    {
     "name": "stderr",
     "output_type": "stream",
     "text": [
      "/home/ilkom/.local/lib/python3.12/site-packages/torch/nn/parallel/_functions.py:71: UserWarning: Was asked to gather along dimension 0, but all input tensors were scalars; will instead unsqueeze and return a vector.\n",
      "  warnings.warn(\n"
     ]
    },
    {
     "name": "stdout",
     "output_type": "stream",
     "text": [
      "Grafik loss disimpan untuk epoch 64.0\n",
      "Grafik accuracy disimpan untuk epoch 64.0\n",
      "Model terbaik disimpan di ../Khaairi/Result/upsampling_best_model.pt dengan eval_accuracy: 0.3589\n"
     ]
    },
    {
     "name": "stderr",
     "output_type": "stream",
     "text": [
      "/home/ilkom/.local/lib/python3.12/site-packages/torch/nn/parallel/_functions.py:71: UserWarning: Was asked to gather along dimension 0, but all input tensors were scalars; will instead unsqueeze and return a vector.\n",
      "  warnings.warn(\n"
     ]
    },
    {
     "name": "stdout",
     "output_type": "stream",
     "text": [
      "Grafik loss disimpan untuk epoch 65.0\n",
      "Grafik accuracy disimpan untuk epoch 65.0\n"
     ]
    },
    {
     "name": "stderr",
     "output_type": "stream",
     "text": [
      "/home/ilkom/.local/lib/python3.12/site-packages/torch/nn/parallel/_functions.py:71: UserWarning: Was asked to gather along dimension 0, but all input tensors were scalars; will instead unsqueeze and return a vector.\n",
      "  warnings.warn(\n"
     ]
    },
    {
     "name": "stdout",
     "output_type": "stream",
     "text": [
      "Grafik loss disimpan untuk epoch 66.0\n",
      "Grafik accuracy disimpan untuk epoch 66.0\n"
     ]
    },
    {
     "name": "stderr",
     "output_type": "stream",
     "text": [
      "/home/ilkom/.local/lib/python3.12/site-packages/torch/nn/parallel/_functions.py:71: UserWarning: Was asked to gather along dimension 0, but all input tensors were scalars; will instead unsqueeze and return a vector.\n",
      "  warnings.warn(\n"
     ]
    },
    {
     "name": "stdout",
     "output_type": "stream",
     "text": [
      "Grafik loss disimpan untuk epoch 67.0\n",
      "Grafik accuracy disimpan untuk epoch 67.0\n"
     ]
    },
    {
     "name": "stderr",
     "output_type": "stream",
     "text": [
      "/home/ilkom/.local/lib/python3.12/site-packages/torch/nn/parallel/_functions.py:71: UserWarning: Was asked to gather along dimension 0, but all input tensors were scalars; will instead unsqueeze and return a vector.\n",
      "  warnings.warn(\n"
     ]
    },
    {
     "name": "stdout",
     "output_type": "stream",
     "text": [
      "Grafik loss disimpan untuk epoch 68.0\n",
      "Grafik accuracy disimpan untuk epoch 68.0\n"
     ]
    },
    {
     "name": "stderr",
     "output_type": "stream",
     "text": [
      "/home/ilkom/.local/lib/python3.12/site-packages/torch/nn/parallel/_functions.py:71: UserWarning: Was asked to gather along dimension 0, but all input tensors were scalars; will instead unsqueeze and return a vector.\n",
      "  warnings.warn(\n"
     ]
    },
    {
     "name": "stdout",
     "output_type": "stream",
     "text": [
      "Grafik loss disimpan untuk epoch 69.0\n",
      "Grafik accuracy disimpan untuk epoch 69.0\n",
      "Model terbaik disimpan di ../Khaairi/Result/upsampling_best_model.pt dengan eval_accuracy: 0.3689\n"
     ]
    },
    {
     "name": "stderr",
     "output_type": "stream",
     "text": [
      "/home/ilkom/.local/lib/python3.12/site-packages/torch/nn/parallel/_functions.py:71: UserWarning: Was asked to gather along dimension 0, but all input tensors were scalars; will instead unsqueeze and return a vector.\n",
      "  warnings.warn(\n"
     ]
    },
    {
     "name": "stdout",
     "output_type": "stream",
     "text": [
      "Grafik loss disimpan untuk epoch 70.0\n",
      "Grafik accuracy disimpan untuk epoch 70.0\n"
     ]
    },
    {
     "name": "stderr",
     "output_type": "stream",
     "text": [
      "/home/ilkom/.local/lib/python3.12/site-packages/torch/nn/parallel/_functions.py:71: UserWarning: Was asked to gather along dimension 0, but all input tensors were scalars; will instead unsqueeze and return a vector.\n",
      "  warnings.warn(\n"
     ]
    },
    {
     "name": "stdout",
     "output_type": "stream",
     "text": [
      "Grafik loss disimpan untuk epoch 71.0\n",
      "Grafik accuracy disimpan untuk epoch 71.0\n"
     ]
    },
    {
     "name": "stderr",
     "output_type": "stream",
     "text": [
      "/home/ilkom/.local/lib/python3.12/site-packages/torch/nn/parallel/_functions.py:71: UserWarning: Was asked to gather along dimension 0, but all input tensors were scalars; will instead unsqueeze and return a vector.\n",
      "  warnings.warn(\n"
     ]
    },
    {
     "name": "stdout",
     "output_type": "stream",
     "text": [
      "Grafik loss disimpan untuk epoch 72.0\n",
      "Grafik accuracy disimpan untuk epoch 72.0\n"
     ]
    },
    {
     "name": "stderr",
     "output_type": "stream",
     "text": [
      "/home/ilkom/.local/lib/python3.12/site-packages/torch/nn/parallel/_functions.py:71: UserWarning: Was asked to gather along dimension 0, but all input tensors were scalars; will instead unsqueeze and return a vector.\n",
      "  warnings.warn(\n"
     ]
    },
    {
     "name": "stdout",
     "output_type": "stream",
     "text": [
      "Grafik loss disimpan untuk epoch 73.0\n",
      "Grafik accuracy disimpan untuk epoch 73.0\n"
     ]
    },
    {
     "name": "stderr",
     "output_type": "stream",
     "text": [
      "/home/ilkom/.local/lib/python3.12/site-packages/torch/nn/parallel/_functions.py:71: UserWarning: Was asked to gather along dimension 0, but all input tensors were scalars; will instead unsqueeze and return a vector.\n",
      "  warnings.warn(\n"
     ]
    },
    {
     "name": "stdout",
     "output_type": "stream",
     "text": [
      "Grafik loss disimpan untuk epoch 74.0\n",
      "Grafik accuracy disimpan untuk epoch 74.0\n"
     ]
    },
    {
     "name": "stderr",
     "output_type": "stream",
     "text": [
      "/home/ilkom/.local/lib/python3.12/site-packages/torch/nn/parallel/_functions.py:71: UserWarning: Was asked to gather along dimension 0, but all input tensors were scalars; will instead unsqueeze and return a vector.\n",
      "  warnings.warn(\n"
     ]
    },
    {
     "name": "stdout",
     "output_type": "stream",
     "text": [
      "Grafik loss disimpan untuk epoch 75.0\n",
      "Grafik accuracy disimpan untuk epoch 75.0\n"
     ]
    },
    {
     "name": "stderr",
     "output_type": "stream",
     "text": [
      "/home/ilkom/.local/lib/python3.12/site-packages/torch/nn/parallel/_functions.py:71: UserWarning: Was asked to gather along dimension 0, but all input tensors were scalars; will instead unsqueeze and return a vector.\n",
      "  warnings.warn(\n"
     ]
    },
    {
     "name": "stdout",
     "output_type": "stream",
     "text": [
      "Grafik loss disimpan untuk epoch 76.0\n",
      "Grafik accuracy disimpan untuk epoch 76.0\n"
     ]
    },
    {
     "name": "stderr",
     "output_type": "stream",
     "text": [
      "/home/ilkom/.local/lib/python3.12/site-packages/torch/nn/parallel/_functions.py:71: UserWarning: Was asked to gather along dimension 0, but all input tensors were scalars; will instead unsqueeze and return a vector.\n",
      "  warnings.warn(\n"
     ]
    },
    {
     "name": "stdout",
     "output_type": "stream",
     "text": [
      "Grafik loss disimpan untuk epoch 77.0\n",
      "Grafik accuracy disimpan untuk epoch 77.0\n"
     ]
    },
    {
     "name": "stderr",
     "output_type": "stream",
     "text": [
      "/home/ilkom/.local/lib/python3.12/site-packages/torch/nn/parallel/_functions.py:71: UserWarning: Was asked to gather along dimension 0, but all input tensors were scalars; will instead unsqueeze and return a vector.\n",
      "  warnings.warn(\n"
     ]
    },
    {
     "name": "stdout",
     "output_type": "stream",
     "text": [
      "Grafik loss disimpan untuk epoch 78.0\n",
      "Grafik accuracy disimpan untuk epoch 78.0\n"
     ]
    },
    {
     "name": "stderr",
     "output_type": "stream",
     "text": [
      "/home/ilkom/.local/lib/python3.12/site-packages/torch/nn/parallel/_functions.py:71: UserWarning: Was asked to gather along dimension 0, but all input tensors were scalars; will instead unsqueeze and return a vector.\n",
      "  warnings.warn(\n"
     ]
    },
    {
     "name": "stdout",
     "output_type": "stream",
     "text": [
      "Grafik loss disimpan untuk epoch 79.0\n",
      "Grafik accuracy disimpan untuk epoch 79.0\n"
     ]
    },
    {
     "name": "stderr",
     "output_type": "stream",
     "text": [
      "/home/ilkom/.local/lib/python3.12/site-packages/torch/nn/parallel/_functions.py:71: UserWarning: Was asked to gather along dimension 0, but all input tensors were scalars; will instead unsqueeze and return a vector.\n",
      "  warnings.warn(\n"
     ]
    },
    {
     "name": "stdout",
     "output_type": "stream",
     "text": [
      "Grafik loss disimpan untuk epoch 80.0\n",
      "Grafik accuracy disimpan untuk epoch 80.0\n"
     ]
    },
    {
     "name": "stderr",
     "output_type": "stream",
     "text": [
      "/home/ilkom/.local/lib/python3.12/site-packages/torch/nn/parallel/_functions.py:71: UserWarning: Was asked to gather along dimension 0, but all input tensors were scalars; will instead unsqueeze and return a vector.\n",
      "  warnings.warn(\n"
     ]
    },
    {
     "name": "stdout",
     "output_type": "stream",
     "text": [
      "Grafik loss disimpan untuk epoch 81.0\n",
      "Grafik accuracy disimpan untuk epoch 81.0\n"
     ]
    },
    {
     "name": "stderr",
     "output_type": "stream",
     "text": [
      "/home/ilkom/.local/lib/python3.12/site-packages/torch/nn/parallel/_functions.py:71: UserWarning: Was asked to gather along dimension 0, but all input tensors were scalars; will instead unsqueeze and return a vector.\n",
      "  warnings.warn(\n"
     ]
    },
    {
     "name": "stdout",
     "output_type": "stream",
     "text": [
      "Grafik loss disimpan untuk epoch 82.0\n",
      "Grafik accuracy disimpan untuk epoch 82.0\n"
     ]
    },
    {
     "name": "stderr",
     "output_type": "stream",
     "text": [
      "/home/ilkom/.local/lib/python3.12/site-packages/torch/nn/parallel/_functions.py:71: UserWarning: Was asked to gather along dimension 0, but all input tensors were scalars; will instead unsqueeze and return a vector.\n",
      "  warnings.warn(\n"
     ]
    },
    {
     "name": "stdout",
     "output_type": "stream",
     "text": [
      "Grafik loss disimpan untuk epoch 83.0\n",
      "Grafik accuracy disimpan untuk epoch 83.0\n"
     ]
    },
    {
     "name": "stderr",
     "output_type": "stream",
     "text": [
      "/home/ilkom/.local/lib/python3.12/site-packages/torch/nn/parallel/_functions.py:71: UserWarning: Was asked to gather along dimension 0, but all input tensors were scalars; will instead unsqueeze and return a vector.\n",
      "  warnings.warn(\n"
     ]
    },
    {
     "name": "stdout",
     "output_type": "stream",
     "text": [
      "Grafik loss disimpan untuk epoch 84.0\n",
      "Grafik accuracy disimpan untuk epoch 84.0\n"
     ]
    },
    {
     "name": "stderr",
     "output_type": "stream",
     "text": [
      "/home/ilkom/.local/lib/python3.12/site-packages/torch/nn/parallel/_functions.py:71: UserWarning: Was asked to gather along dimension 0, but all input tensors were scalars; will instead unsqueeze and return a vector.\n",
      "  warnings.warn(\n"
     ]
    },
    {
     "name": "stdout",
     "output_type": "stream",
     "text": [
      "Grafik loss disimpan untuk epoch 85.0\n",
      "Grafik accuracy disimpan untuk epoch 85.0\n"
     ]
    },
    {
     "name": "stderr",
     "output_type": "stream",
     "text": [
      "/home/ilkom/.local/lib/python3.12/site-packages/torch/nn/parallel/_functions.py:71: UserWarning: Was asked to gather along dimension 0, but all input tensors were scalars; will instead unsqueeze and return a vector.\n",
      "  warnings.warn(\n"
     ]
    },
    {
     "name": "stdout",
     "output_type": "stream",
     "text": [
      "Grafik loss disimpan untuk epoch 86.0\n",
      "Grafik accuracy disimpan untuk epoch 86.0\n"
     ]
    },
    {
     "name": "stderr",
     "output_type": "stream",
     "text": [
      "/home/ilkom/.local/lib/python3.12/site-packages/torch/nn/parallel/_functions.py:71: UserWarning: Was asked to gather along dimension 0, but all input tensors were scalars; will instead unsqueeze and return a vector.\n",
      "  warnings.warn(\n"
     ]
    },
    {
     "name": "stdout",
     "output_type": "stream",
     "text": [
      "Grafik loss disimpan untuk epoch 87.0\n",
      "Grafik accuracy disimpan untuk epoch 87.0\n"
     ]
    },
    {
     "name": "stderr",
     "output_type": "stream",
     "text": [
      "/home/ilkom/.local/lib/python3.12/site-packages/torch/nn/parallel/_functions.py:71: UserWarning: Was asked to gather along dimension 0, but all input tensors were scalars; will instead unsqueeze and return a vector.\n",
      "  warnings.warn(\n"
     ]
    },
    {
     "name": "stdout",
     "output_type": "stream",
     "text": [
      "Grafik loss disimpan untuk epoch 88.0\n",
      "Grafik accuracy disimpan untuk epoch 88.0\n"
     ]
    },
    {
     "name": "stderr",
     "output_type": "stream",
     "text": [
      "/home/ilkom/.local/lib/python3.12/site-packages/torch/nn/parallel/_functions.py:71: UserWarning: Was asked to gather along dimension 0, but all input tensors were scalars; will instead unsqueeze and return a vector.\n",
      "  warnings.warn(\n"
     ]
    },
    {
     "name": "stdout",
     "output_type": "stream",
     "text": [
      "Grafik loss disimpan untuk epoch 89.0\n",
      "Grafik accuracy disimpan untuk epoch 89.0\n"
     ]
    },
    {
     "name": "stderr",
     "output_type": "stream",
     "text": [
      "/home/ilkom/.local/lib/python3.12/site-packages/torch/nn/parallel/_functions.py:71: UserWarning: Was asked to gather along dimension 0, but all input tensors were scalars; will instead unsqueeze and return a vector.\n",
      "  warnings.warn(\n"
     ]
    },
    {
     "name": "stdout",
     "output_type": "stream",
     "text": [
      "Grafik loss disimpan untuk epoch 90.0\n",
      "Grafik accuracy disimpan untuk epoch 90.0\n"
     ]
    },
    {
     "name": "stderr",
     "output_type": "stream",
     "text": [
      "/home/ilkom/.local/lib/python3.12/site-packages/torch/nn/parallel/_functions.py:71: UserWarning: Was asked to gather along dimension 0, but all input tensors were scalars; will instead unsqueeze and return a vector.\n",
      "  warnings.warn(\n"
     ]
    },
    {
     "name": "stdout",
     "output_type": "stream",
     "text": [
      "Grafik loss disimpan untuk epoch 91.0\n",
      "Grafik accuracy disimpan untuk epoch 91.0\n"
     ]
    },
    {
     "name": "stderr",
     "output_type": "stream",
     "text": [
      "/home/ilkom/.local/lib/python3.12/site-packages/torch/nn/parallel/_functions.py:71: UserWarning: Was asked to gather along dimension 0, but all input tensors were scalars; will instead unsqueeze and return a vector.\n",
      "  warnings.warn(\n"
     ]
    },
    {
     "name": "stdout",
     "output_type": "stream",
     "text": [
      "Grafik loss disimpan untuk epoch 92.0\n",
      "Grafik accuracy disimpan untuk epoch 92.0\n"
     ]
    },
    {
     "name": "stderr",
     "output_type": "stream",
     "text": [
      "/home/ilkom/.local/lib/python3.12/site-packages/torch/nn/parallel/_functions.py:71: UserWarning: Was asked to gather along dimension 0, but all input tensors were scalars; will instead unsqueeze and return a vector.\n",
      "  warnings.warn(\n"
     ]
    },
    {
     "name": "stdout",
     "output_type": "stream",
     "text": [
      "Grafik loss disimpan untuk epoch 93.0\n",
      "Grafik accuracy disimpan untuk epoch 93.0\n"
     ]
    },
    {
     "name": "stderr",
     "output_type": "stream",
     "text": [
      "/home/ilkom/.local/lib/python3.12/site-packages/torch/nn/parallel/_functions.py:71: UserWarning: Was asked to gather along dimension 0, but all input tensors were scalars; will instead unsqueeze and return a vector.\n",
      "  warnings.warn(\n"
     ]
    },
    {
     "name": "stdout",
     "output_type": "stream",
     "text": [
      "Grafik loss disimpan untuk epoch 94.0\n",
      "Grafik accuracy disimpan untuk epoch 94.0\n"
     ]
    },
    {
     "name": "stderr",
     "output_type": "stream",
     "text": [
      "/home/ilkom/.local/lib/python3.12/site-packages/torch/nn/parallel/_functions.py:71: UserWarning: Was asked to gather along dimension 0, but all input tensors were scalars; will instead unsqueeze and return a vector.\n",
      "  warnings.warn(\n"
     ]
    },
    {
     "name": "stdout",
     "output_type": "stream",
     "text": [
      "Grafik loss disimpan untuk epoch 95.0\n",
      "Grafik accuracy disimpan untuk epoch 95.0\n"
     ]
    },
    {
     "name": "stderr",
     "output_type": "stream",
     "text": [
      "/home/ilkom/.local/lib/python3.12/site-packages/torch/nn/parallel/_functions.py:71: UserWarning: Was asked to gather along dimension 0, but all input tensors were scalars; will instead unsqueeze and return a vector.\n",
      "  warnings.warn(\n"
     ]
    },
    {
     "name": "stdout",
     "output_type": "stream",
     "text": [
      "Grafik loss disimpan untuk epoch 96.0\n",
      "Grafik accuracy disimpan untuk epoch 96.0\n"
     ]
    },
    {
     "name": "stderr",
     "output_type": "stream",
     "text": [
      "/home/ilkom/.local/lib/python3.12/site-packages/torch/nn/parallel/_functions.py:71: UserWarning: Was asked to gather along dimension 0, but all input tensors were scalars; will instead unsqueeze and return a vector.\n",
      "  warnings.warn(\n"
     ]
    },
    {
     "name": "stdout",
     "output_type": "stream",
     "text": [
      "Grafik loss disimpan untuk epoch 97.0\n",
      "Grafik accuracy disimpan untuk epoch 97.0\n"
     ]
    },
    {
     "name": "stderr",
     "output_type": "stream",
     "text": [
      "/home/ilkom/.local/lib/python3.12/site-packages/torch/nn/parallel/_functions.py:71: UserWarning: Was asked to gather along dimension 0, but all input tensors were scalars; will instead unsqueeze and return a vector.\n",
      "  warnings.warn(\n"
     ]
    },
    {
     "name": "stdout",
     "output_type": "stream",
     "text": [
      "Grafik loss disimpan untuk epoch 98.0\n",
      "Grafik accuracy disimpan untuk epoch 98.0\n"
     ]
    },
    {
     "name": "stderr",
     "output_type": "stream",
     "text": [
      "/home/ilkom/.local/lib/python3.12/site-packages/torch/nn/parallel/_functions.py:71: UserWarning: Was asked to gather along dimension 0, but all input tensors were scalars; will instead unsqueeze and return a vector.\n",
      "  warnings.warn(\n"
     ]
    },
    {
     "name": "stdout",
     "output_type": "stream",
     "text": [
      "Grafik loss disimpan untuk epoch 99.0\n",
      "Grafik accuracy disimpan untuk epoch 99.0\n"
     ]
    },
    {
     "name": "stderr",
     "output_type": "stream",
     "text": [
      "/home/ilkom/.local/lib/python3.12/site-packages/torch/nn/parallel/_functions.py:71: UserWarning: Was asked to gather along dimension 0, but all input tensors were scalars; will instead unsqueeze and return a vector.\n",
      "  warnings.warn(\n"
     ]
    },
    {
     "name": "stdout",
     "output_type": "stream",
     "text": [
      "Grafik loss disimpan untuk epoch 100.0\n",
      "Grafik accuracy disimpan untuk epoch 100.0\n"
     ]
    },
    {
     "name": "stderr",
     "output_type": "stream",
     "text": [
      "/home/ilkom/.local/lib/python3.12/site-packages/torch/nn/parallel/_functions.py:71: UserWarning: Was asked to gather along dimension 0, but all input tensors were scalars; will instead unsqueeze and return a vector.\n",
      "  warnings.warn(\n"
     ]
    },
    {
     "name": "stdout",
     "output_type": "stream",
     "text": [
      "Grafik loss disimpan untuk epoch 101.0\n",
      "Grafik accuracy disimpan untuk epoch 101.0\n"
     ]
    },
    {
     "name": "stderr",
     "output_type": "stream",
     "text": [
      "/home/ilkom/.local/lib/python3.12/site-packages/torch/nn/parallel/_functions.py:71: UserWarning: Was asked to gather along dimension 0, but all input tensors were scalars; will instead unsqueeze and return a vector.\n",
      "  warnings.warn(\n"
     ]
    },
    {
     "ename": "KeyboardInterrupt",
     "evalue": "",
     "output_type": "error",
     "traceback": [
      "\u001b[0;31m---------------------------------------------------------------------------\u001b[0m",
      "\u001b[0;31mKeyboardInterrupt\u001b[0m                         Traceback (most recent call last)",
      "Cell \u001b[0;32mIn[32], line 1\u001b[0m\n\u001b[0;32m----> 1\u001b[0m trainer\u001b[38;5;241m.\u001b[39mtrain()\n",
      "File \u001b[0;32m~/.local/lib/python3.12/site-packages/transformers/trainer.py:2123\u001b[0m, in \u001b[0;36mTrainer.train\u001b[0;34m(self, resume_from_checkpoint, trial, ignore_keys_for_eval, **kwargs)\u001b[0m\n\u001b[1;32m   2121\u001b[0m         hf_hub_utils\u001b[38;5;241m.\u001b[39menable_progress_bars()\n\u001b[1;32m   2122\u001b[0m \u001b[38;5;28;01melse\u001b[39;00m:\n\u001b[0;32m-> 2123\u001b[0m     \u001b[38;5;28;01mreturn\u001b[39;00m inner_training_loop(\n\u001b[1;32m   2124\u001b[0m         args\u001b[38;5;241m=\u001b[39margs,\n\u001b[1;32m   2125\u001b[0m         resume_from_checkpoint\u001b[38;5;241m=\u001b[39mresume_from_checkpoint,\n\u001b[1;32m   2126\u001b[0m         trial\u001b[38;5;241m=\u001b[39mtrial,\n\u001b[1;32m   2127\u001b[0m         ignore_keys_for_eval\u001b[38;5;241m=\u001b[39mignore_keys_for_eval,\n\u001b[1;32m   2128\u001b[0m     )\n",
      "File \u001b[0;32m~/.local/lib/python3.12/site-packages/transformers/trainer.py:2486\u001b[0m, in \u001b[0;36mTrainer._inner_training_loop\u001b[0;34m(self, batch_size, args, resume_from_checkpoint, trial, ignore_keys_for_eval)\u001b[0m\n\u001b[1;32m   2480\u001b[0m \u001b[38;5;28;01mwith\u001b[39;00m context():\n\u001b[1;32m   2481\u001b[0m     tr_loss_step \u001b[38;5;241m=\u001b[39m \u001b[38;5;28mself\u001b[39m\u001b[38;5;241m.\u001b[39mtraining_step(model, inputs, num_items_in_batch)\n\u001b[1;32m   2483\u001b[0m \u001b[38;5;28;01mif\u001b[39;00m (\n\u001b[1;32m   2484\u001b[0m     args\u001b[38;5;241m.\u001b[39mlogging_nan_inf_filter\n\u001b[1;32m   2485\u001b[0m     \u001b[38;5;129;01mand\u001b[39;00m \u001b[38;5;129;01mnot\u001b[39;00m is_torch_xla_available()\n\u001b[0;32m-> 2486\u001b[0m     \u001b[38;5;129;01mand\u001b[39;00m (torch\u001b[38;5;241m.\u001b[39misnan(tr_loss_step) \u001b[38;5;129;01mor\u001b[39;00m torch\u001b[38;5;241m.\u001b[39misinf(tr_loss_step))\n\u001b[1;32m   2487\u001b[0m ):\n\u001b[1;32m   2488\u001b[0m     \u001b[38;5;66;03m# if loss is nan or inf simply add the average of previous logged losses\u001b[39;00m\n\u001b[1;32m   2489\u001b[0m     tr_loss \u001b[38;5;241m=\u001b[39m tr_loss \u001b[38;5;241m+\u001b[39m tr_loss \u001b[38;5;241m/\u001b[39m (\u001b[38;5;241m1\u001b[39m \u001b[38;5;241m+\u001b[39m \u001b[38;5;28mself\u001b[39m\u001b[38;5;241m.\u001b[39mstate\u001b[38;5;241m.\u001b[39mglobal_step \u001b[38;5;241m-\u001b[39m \u001b[38;5;28mself\u001b[39m\u001b[38;5;241m.\u001b[39m_globalstep_last_logged)\n\u001b[1;32m   2490\u001b[0m \u001b[38;5;28;01melse\u001b[39;00m:\n",
      "\u001b[0;31mKeyboardInterrupt\u001b[0m: "
     ]
    }
   ],
   "source": [
    "trainer.train()"
   ]
  },
  {
   "cell_type": "code",
   "execution_count": 33,
   "id": "07104b58-e255-40d0-b7b3-d7caa84e7474",
   "metadata": {},
   "outputs": [
    {
     "data": {
      "text/plain": [
       "{'eval_loss': 2.269404411315918,\n",
       " 'eval_accuracy': 0.3125,\n",
       " 'eval_f1': 0.3077047995787288}"
      ]
     },
     "execution_count": 33,
     "metadata": {},
     "output_type": "execute_result"
    }
   ],
   "source": [
    "trainer.evaluate(test_dataset)"
   ]
  },
  {
   "cell_type": "code",
   "execution_count": 34,
   "id": "28f955d5-b1b7-44d4-aa7a-3df57e8c7b13",
   "metadata": {},
   "outputs": [
    {
     "name": "stderr",
     "output_type": "stream",
     "text": [
      "/home/ilkom/.local/lib/python3.12/site-packages/torch/nn/parallel/_functions.py:71: UserWarning: Was asked to gather along dimension 0, but all input tensors were scalars; will instead unsqueeze and return a vector.\n",
      "  warnings.warn(\n"
     ]
    }
   ],
   "source": [
    "# Melakukan prediksi pada dataset validasi\n",
    "predictions = trainer.predict(test_dataset)\n",
    "\n",
    "# Mendapatkan logits dan label sebenarnya\n",
    "logits = predictions.predictions\n",
    "labels = predictions.label_ids\n",
    "\n",
    "# Mendapatkan prediksi akhir dengan argmax\n",
    "y_pred = np.argmax(logits, axis=1)\n",
    "y_true = labels"
   ]
  },
  {
   "cell_type": "code",
   "execution_count": 35,
   "id": "1bfbfe6c-1fe5-4f91-b4d9-a99ec38ed7cc",
   "metadata": {},
   "outputs": [
    {
     "data": {
      "text/plain": [
       "<Figure size 1200x1000 with 0 Axes>"
      ]
     },
     "metadata": {},
     "output_type": "display_data"
    },
    {
     "data": {
      "image/png": "[encoded data removed]",
      "text/plain": [
       "<Figure size 640x480 with 2 Axes>"
      ]
     },
     "metadata": {},
     "output_type": "display_data"
    }
   ],
   "source": [
    "# Menghitung Confusion Matrix\n",
    "cm = confusion_matrix(y_true, y_pred)\n",
    "\n",
    "# Mengatur ukuran gambar\n",
    "plt.figure(figsize=(12, 10))\n",
    "\n",
    "# Menampilkan Confusion Matrix\n",
    "disp = ConfusionMatrixDisplay(confusion_matrix=cm, display_labels=list(id2label.values()))\n",
    "disp.plot(cmap=plt.cm.Blues, values_format='d')\n",
    "\n",
    "# Mengatur judul dan ukuran font\n",
    "plt.title(\"Confusion Matrix\", fontsize=18)\n",
    "plt.xticks(rotation=45, ha='right', fontsize=8)  # Ukuran font lebih kecil untuk sumbu x\n",
    "plt.yticks(fontsize=8)  # Ukuran font lebih kecil untuk sumbu y\n",
    "plt.xlabel('Predicted Labels', fontsize=12)\n",
    "plt.ylabel('True Labels', fontsize=12)\n",
    "\n",
    "# Tampilkan plot\n",
    "plt.show()"
   ]
  },
  {
   "cell_type": "markdown",
   "id": "499caa96-9541-4d48-b62a-08207a41f3a4",
   "metadata": {},
   "source": [
    "## Load Best Model"
   ]
  },
  {
   "cell_type": "code",
   "execution_count": 36,
   "id": "809a9df6-b011-4119-b778-a41f6ea2e706",
   "metadata": {},
   "outputs": [],
   "source": [
    "vit2 = ViT(num_classes=len(class_names), in_channels=1)"
   ]
  },
  {
   "cell_type": "code",
   "execution_count": 37,
   "id": "8c9cdfe7-c306-4b52-91b2-795c10eabbf3",
   "metadata": {},
   "outputs": [
    {
     "name": "stderr",
     "output_type": "stream",
     "text": [
      "/tmp/ipykernel_681231/1921093833.py:3: FutureWarning: You are using `torch.load` with `weights_only=False` (the current default value), which uses the default pickle module implicitly. It is possible to construct malicious pickle data which will execute arbitrary code during unpickling (See https://github.com/pytorch/pytorch/blob/main/SECURITY.md#untrusted-models for more details). In a future release, the default value for `weights_only` will be flipped to `True`. This limits the functions that could be executed during unpickling. Arbitrary objects will no longer be allowed to be loaded via this mode unless they are explicitly allowlisted by the user via `torch.serialization.add_safe_globals`. We recommend you start setting `weights_only=True` for any use case where you don't have full control of the loaded file. Please open an issue on GitHub for any issues related to this experimental feature.\n",
      "  vit2.load_state_dict(torch.load(model_path))\n"
     ]
    },
    {
     "data": {
      "text/plain": [
       "<All keys matched successfully>"
      ]
     },
     "execution_count": 37,
     "metadata": {},
     "output_type": "execute_result"
    }
   ],
   "source": [
    "# Load state_dict\n",
    "model_path = \"../Khaairi/Result/upsampling_best_model.pt\"\n",
    "vit2.load_state_dict(torch.load(model_path))"
   ]
  },
  {
   "cell_type": "code",
   "execution_count": 38,
   "id": "2659e52e-39b6-4fd1-94da-a1d974bdb4c6",
   "metadata": {},
   "outputs": [],
   "source": [
    "trainer = Trainer(\n",
    "    model=vit2,\n",
    "    args=training_args,\n",
    "    data_collator=collate_fn,\n",
    "    compute_metrics=compute_metrics,\n",
    "    train_dataset=train_dataset,\n",
    "    eval_dataset=val_dataset,\n",
    "    callbacks=[SaveBestModelCallback(save_path = '../Khaairi/Result')]\n",
    ")"
   ]
  },
  {
   "cell_type": "code",
   "execution_count": 39,
   "id": "da902688-c023-46f9-88fe-98e85f8905f8",
   "metadata": {},
   "outputs": [
    {
     "name": "stderr",
     "output_type": "stream",
     "text": [
      "/home/ilkom/.local/lib/python3.12/site-packages/torch/nn/parallel/_functions.py:71: UserWarning: Was asked to gather along dimension 0, but all input tensors were scalars; will instead unsqueeze and return a vector.\n",
      "  warnings.warn(\n"
     ]
    },
    {
     "data": {
      "text/html": [],
      "text/plain": [
       "<IPython.core.display.HTML object>"
      ]
     },
     "metadata": {},
     "output_type": "display_data"
    },
    {
     "name": "stdout",
     "output_type": "stream",
     "text": [
      "Model terbaik disimpan di ../Khaairi/Result/upsampling_best_model.pt dengan eval_accuracy: 0.3386\n"
     ]
    },
    {
     "data": {
      "text/plain": [
       "{'eval_loss': 1.7318975925445557,\n",
       " 'eval_accuracy': 0.3386418269230769,\n",
       " 'eval_f1': 0.31006735058918683,\n",
       " 'eval_runtime': 28.6452,\n",
       " 'eval_samples_per_second': 116.18,\n",
       " 'eval_steps_per_second': 3.631}"
      ]
     },
     "execution_count": 39,
     "metadata": {},
     "output_type": "execute_result"
    }
   ],
   "source": [
    "trainer.evaluate(test_dataset)"
   ]
  },
  {
   "cell_type": "code",
   "execution_count": 40,
   "id": "e67fa567-b108-463c-834c-27e7c9a8058c",
   "metadata": {},
   "outputs": [
    {
     "name": "stderr",
     "output_type": "stream",
     "text": [
      "/home/ilkom/.local/lib/python3.12/site-packages/torch/nn/parallel/_functions.py:71: UserWarning: Was asked to gather along dimension 0, but all input tensors were scalars; will instead unsqueeze and return a vector.\n",
      "  warnings.warn(\n"
     ]
    }
   ],
   "source": [
    "# Melakukan prediksi pada dataset validasi\n",
    "predictions = trainer.predict(test_dataset)\n",
    "\n",
    "# Mendapatkan logits dan label sebenarnya\n",
    "logits = predictions.predictions\n",
    "labels = predictions.label_ids\n",
    "\n",
    "# Mendapatkan prediksi akhir dengan argmax\n",
    "y_pred = np.argmax(logits, axis=1)\n",
    "y_true = labels"
   ]
  },
  {
   "cell_type": "code",
   "execution_count": 41,
   "id": "93718435-6bbc-480a-adc5-dd75bb978f8d",
   "metadata": {},
   "outputs": [
    {
     "data": {
      "text/plain": [
       "<Figure size 1200x1000 with 0 Axes>"
      ]
     },
     "metadata": {},
     "output_type": "display_data"
    },
    {
     "data": {
      "image/png": "[encoded data removed]",
      "text/plain": [
       "<Figure size 640x480 with 2 Axes>"
      ]
     },
     "metadata": {},
     "output_type": "display_data"
    }
   ],
   "source": [
    "# Menghitung Confusion Matrix\n",
    "cm = confusion_matrix(y_true, y_pred)\n",
    "\n",
    "# Mengatur ukuran gambar\n",
    "plt.figure(figsize=(12, 10))\n",
    "\n",
    "# Menampilkan Confusion Matrix\n",
    "disp = ConfusionMatrixDisplay(confusion_matrix=cm, display_labels=list(id2label.values()))\n",
    "disp.plot(cmap=plt.cm.Blues, values_format='d')\n",
    "\n",
    "# Mengatur judul dan ukuran font\n",
    "plt.title(\"Confusion Matrix\", fontsize=18)\n",
    "plt.xticks(rotation=45, ha='right', fontsize=8)  # Ukuran font lebih kecil untuk sumbu x\n",
    "plt.yticks(fontsize=8)  # Ukuran font lebih kecil untuk sumbu y\n",
    "plt.xlabel('Predicted Labels', fontsize=12)\n",
    "plt.ylabel('True Labels', fontsize=12)\n",
    "\n",
    "# Tampilkan plot\n",
    "plt.show()"
   ]
  },
  {
   "cell_type": "code",
   "execution_count": null,
   "id": "36ece644-8389-406b-b8e9-802ac5a1f946",
   "metadata": {},
   "outputs": [],
   "source": []
  }
 ],
 "metadata": {
  "kernelspec": {
   "display_name": "Python 3 (ipykernel)",
   "language": "python",
   "name": "python3"
  },
  "language_info": {
   "codemirror_mode": {
    "name": "ipython",
    "version": 3
   },
   "file_extension": ".py",
   "mimetype": "text/x-python",
   "name": "python",
   "nbconvert_exporter": "python",
   "pygments_lexer": "ipython3",
   "version": "3.12.7"
  }
 },
 "nbformat": 4,
 "nbformat_minor": 5
}
