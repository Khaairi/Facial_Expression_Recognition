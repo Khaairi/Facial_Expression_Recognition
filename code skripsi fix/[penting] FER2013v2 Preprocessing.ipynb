{
 "cells": [
  {
   "cell_type": "code",
   "execution_count": 1,
   "id": "726367c0",
   "metadata": {},
   "outputs": [
    {
     "name": "stderr",
     "output_type": "stream",
     "text": [
      "C:\\Users\\MoKha\\anaconda3\\lib\\site-packages\\pandas\\core\\computation\\expressions.py:21: UserWarning: Pandas requires version '2.8.4' or newer of 'numexpr' (version '2.8.1' currently installed).\n",
      "  from pandas.core.computation.check import NUMEXPR_INSTALLED\n",
      "C:\\Users\\MoKha\\anaconda3\\lib\\site-packages\\pandas\\core\\arrays\\masked.py:60: UserWarning: Pandas requires version '1.3.6' or newer of 'bottleneck' (version '1.3.4' currently installed).\n",
      "  from pandas.core import (\n"
     ]
    }
   ],
   "source": [
    "import os\n",
    "import cv2\n",
    "import numpy as np\n",
    "import pandas as pd\n",
    "import matplotlib.pyplot as plt\n",
    "import seaborn as sns\n",
    "from sklearn.model_selection import train_test_split"
   ]
  },
  {
   "cell_type": "markdown",
   "id": "bcf8546c",
   "metadata": {},
   "source": [
    "## Data Using FER2013 after deleting error and cartoon image and correcting label"
   ]
  },
  {
   "cell_type": "code",
   "execution_count": 2,
   "id": "37af26b1",
   "metadata": {},
   "outputs": [],
   "source": [
    "data_dir = 'D://Kuliah//UPI//SEMESTER 8//dataset skripsi//fer2013v2'\n",
    "\n",
    "class_map = {\n",
    "    'Angry': 0,\n",
    "    'Disgust': 1,\n",
    "    'Fear': 2,\n",
    "    'Happy': 3,\n",
    "    'Sad': 4,\n",
    "    'Surprise': 5,\n",
    "    'Neutral': 6,\n",
    "}"
   ]
  },
  {
   "cell_type": "code",
   "execution_count": 3,
   "id": "dfc88c1a",
   "metadata": {},
   "outputs": [],
   "source": [
    "image_data = []\n",
    "labels = []\n",
    "\n",
    "# Loop untuk setiap folder (kelas)\n",
    "for class_folder in os.listdir(data_dir):\n",
    "    class_path = os.path.join(data_dir, class_folder)\n",
    "\n",
    "    # Pastikan folder yang diambil adalah folder valid (bukan file atau lainnya)\n",
    "    if os.path.isdir(class_path):\n",
    "        label = class_map[class_folder]  # Ambil label sesuai map kelas\n",
    "\n",
    "        # Loop untuk setiap gambar dalam folder kelas tersebut\n",
    "        for img_file in os.listdir(class_path):\n",
    "            img_path = os.path.join(class_path, img_file)\n",
    "\n",
    "            # Load gambar dengan OpenCV dalam bentuk grayscale\n",
    "            image = cv2.imread(img_path, cv2.IMREAD_GRAYSCALE)\n",
    "\n",
    "            # Pastikan gambar terbaca dengan benar\n",
    "            if image is not None:\n",
    "                # Flatten gambar menjadi 1D array dan ubah ke string terpisah dengan spasi\n",
    "                image_flat = ' '.join(map(str, image.flatten()))\n",
    "\n",
    "                # Simpan gambar dan labelnya\n",
    "                image_data.append(image_flat)\n",
    "                labels.append(label)"
   ]
  },
  {
   "cell_type": "code",
   "execution_count": 4,
   "id": "ed2e8b7d",
   "metadata": {},
   "outputs": [],
   "source": [
    "df = pd.DataFrame({\n",
    "    'pixels': image_data,\n",
    "    'emotion': labels,\n",
    "})"
   ]
  },
  {
   "cell_type": "code",
   "execution_count": 5,
   "id": "8af6b2bb",
   "metadata": {},
   "outputs": [
    {
     "data": {
      "text/html": [
       "<div>\n",
       "<style scoped>\n",
       "    .dataframe tbody tr th:only-of-type {\n",
       "        vertical-align: middle;\n",
       "    }\n",
       "\n",
       "    .dataframe tbody tr th {\n",
       "        vertical-align: top;\n",
       "    }\n",
       "\n",
       "    .dataframe thead th {\n",
       "        text-align: right;\n",
       "    }\n",
       "</style>\n",
       "<table border=\"1\" class=\"dataframe\">\n",
       "  <thead>\n",
       "    <tr style=\"text-align: right;\">\n",
       "      <th></th>\n",
       "      <th>pixels</th>\n",
       "      <th>emotion</th>\n",
       "    </tr>\n",
       "  </thead>\n",
       "  <tbody>\n",
       "    <tr>\n",
       "      <th>0</th>\n",
       "      <td>46 34 26 23 12 32 35 26 26 38 71 99 123 134 14...</td>\n",
       "      <td>0</td>\n",
       "    </tr>\n",
       "    <tr>\n",
       "      <th>1</th>\n",
       "      <td>55 33 54 32 26 21 50 29 38 45 79 73 43 22 51 5...</td>\n",
       "      <td>0</td>\n",
       "    </tr>\n",
       "    <tr>\n",
       "      <th>2</th>\n",
       "      <td>123 123 126 131 124 69 109 149 159 174 169 178...</td>\n",
       "      <td>0</td>\n",
       "    </tr>\n",
       "    <tr>\n",
       "      <th>3</th>\n",
       "      <td>255 255 255 255 255 255 255 255 255 251 254 16...</td>\n",
       "      <td>0</td>\n",
       "    </tr>\n",
       "    <tr>\n",
       "      <th>4</th>\n",
       "      <td>127 121 124 137 123 118 120 111 111 109 118 14...</td>\n",
       "      <td>0</td>\n",
       "    </tr>\n",
       "    <tr>\n",
       "      <th>...</th>\n",
       "      <td>...</td>\n",
       "      <td>...</td>\n",
       "    </tr>\n",
       "    <tr>\n",
       "      <th>35123</th>\n",
       "      <td>27 26 26 26 27 27 28 28 33 34 35 33 29 31 35 3...</td>\n",
       "      <td>5</td>\n",
       "    </tr>\n",
       "    <tr>\n",
       "      <th>35124</th>\n",
       "      <td>7 6 13 39 76 58 29 21 16 20 34 56 70 76 88 96 ...</td>\n",
       "      <td>5</td>\n",
       "    </tr>\n",
       "    <tr>\n",
       "      <th>35125</th>\n",
       "      <td>124 129 125 123 129 128 127 128 131 70 73 76 6...</td>\n",
       "      <td>5</td>\n",
       "    </tr>\n",
       "    <tr>\n",
       "      <th>35126</th>\n",
       "      <td>242 242 242 216 110 42 20 41 37 14 14 53 36 8 ...</td>\n",
       "      <td>5</td>\n",
       "    </tr>\n",
       "    <tr>\n",
       "      <th>35127</th>\n",
       "      <td>194 197 191 174 160 147 145 158 155 158 162 15...</td>\n",
       "      <td>5</td>\n",
       "    </tr>\n",
       "  </tbody>\n",
       "</table>\n",
       "<p>35128 rows × 2 columns</p>\n",
       "</div>"
      ],
      "text/plain": [
       "                                                  pixels  emotion\n",
       "0      46 34 26 23 12 32 35 26 26 38 71 99 123 134 14...        0\n",
       "1      55 33 54 32 26 21 50 29 38 45 79 73 43 22 51 5...        0\n",
       "2      123 123 126 131 124 69 109 149 159 174 169 178...        0\n",
       "3      255 255 255 255 255 255 255 255 255 251 254 16...        0\n",
       "4      127 121 124 137 123 118 120 111 111 109 118 14...        0\n",
       "...                                                  ...      ...\n",
       "35123  27 26 26 26 27 27 28 28 33 34 35 33 29 31 35 3...        5\n",
       "35124  7 6 13 39 76 58 29 21 16 20 34 56 70 76 88 96 ...        5\n",
       "35125  124 129 125 123 129 128 127 128 131 70 73 76 6...        5\n",
       "35126  242 242 242 216 110 42 20 41 37 14 14 53 36 8 ...        5\n",
       "35127  194 197 191 174 160 147 145 158 155 158 162 15...        5\n",
       "\n",
       "[35128 rows x 2 columns]"
      ]
     },
     "execution_count": 5,
     "metadata": {},
     "output_type": "execute_result"
    }
   ],
   "source": [
    "df"
   ]
  },
  {
   "cell_type": "code",
   "execution_count": 6,
   "id": "57c858f4",
   "metadata": {},
   "outputs": [
    {
     "name": "stdout",
     "output_type": "stream",
     "text": [
      "<class 'pandas.core.frame.DataFrame'>\n",
      "RangeIndex: 35128 entries, 0 to 35127\n",
      "Data columns (total 2 columns):\n",
      " #   Column   Non-Null Count  Dtype \n",
      "---  ------   --------------  ----- \n",
      " 0   pixels   35128 non-null  object\n",
      " 1   emotion  35128 non-null  int64 \n",
      "dtypes: int64(1), object(1)\n",
      "memory usage: 549.0+ KB\n"
     ]
    }
   ],
   "source": [
    "df.info()"
   ]
  },
  {
   "cell_type": "code",
   "execution_count": 7,
   "id": "6071631d",
   "metadata": {},
   "outputs": [
    {
     "data": {
      "image/png": "[encoded data removed]",
      "text/plain": [
       "<Figure size 432x288 with 1 Axes>"
      ]
     },
     "metadata": {
      "needs_background": "light"
     },
     "output_type": "display_data"
    }
   ],
   "source": [
    "def string_to_image(pixels_string):\n",
    "    pixels = np.array(pixels_string.split(), dtype='float32')\n",
    "    image = pixels.reshape(48, 48)\n",
    "    image = image / 255.0\n",
    "    return image\n",
    "\n",
    "pixels_string = df.iloc[0]['pixels']\n",
    "image = string_to_image(pixels_string)\n",
    "plt.imshow(image, cmap='gray')\n",
    "plt.axis('off')\n",
    "plt.show()"
   ]
  },
  {
   "cell_type": "code",
   "execution_count": null,
   "id": "fd6bbb8b",
   "metadata": {},
   "outputs": [],
   "source": [
    "df.to_csv('D://Kuliah//UPI//SEMESTER 8//dataset skripsi//fer2013v2.csv', index=False)"
   ]
  },
  {
   "cell_type": "code",
   "execution_count": 8,
   "id": "7611e6f2",
   "metadata": {},
   "outputs": [
    {
     "data": {
      "text/plain": [
       "pixels     0\n",
       "emotion    0\n",
       "dtype: int64"
      ]
     },
     "execution_count": 8,
     "metadata": {},
     "output_type": "execute_result"
    }
   ],
   "source": [
    "df.isnull().sum()"
   ]
  },
  {
   "cell_type": "code",
   "execution_count": 9,
   "id": "1d229ac2",
   "metadata": {},
   "outputs": [
    {
     "name": "stdout",
     "output_type": "stream",
     "text": [
      "Number of duplicate rows': 1825\n"
     ]
    }
   ],
   "source": [
    "duplicate_count = df.duplicated(subset='pixels').sum()\n",
    "\n",
    "print(f\"Number of duplicate rows': {duplicate_count}\")"
   ]
  },
  {
   "cell_type": "code",
   "execution_count": 10,
   "id": "10a8f49d",
   "metadata": {},
   "outputs": [
    {
     "data": {
      "text/html": [
       "<div>\n",
       "<style scoped>\n",
       "    .dataframe tbody tr th:only-of-type {\n",
       "        vertical-align: middle;\n",
       "    }\n",
       "\n",
       "    .dataframe tbody tr th {\n",
       "        vertical-align: top;\n",
       "    }\n",
       "\n",
       "    .dataframe thead th {\n",
       "        text-align: right;\n",
       "    }\n",
       "</style>\n",
       "<table border=\"1\" class=\"dataframe\">\n",
       "  <thead>\n",
       "    <tr style=\"text-align: right;\">\n",
       "      <th></th>\n",
       "      <th>pixels</th>\n",
       "      <th>emotion</th>\n",
       "    </tr>\n",
       "  </thead>\n",
       "  <tbody>\n",
       "    <tr>\n",
       "      <th>293</th>\n",
       "      <td>181 179 177 175 175 175 173 171 169 166 166 16...</td>\n",
       "      <td>0</td>\n",
       "    </tr>\n",
       "    <tr>\n",
       "      <th>351</th>\n",
       "      <td>181 179 177 175 175 175 173 171 169 166 166 16...</td>\n",
       "      <td>0</td>\n",
       "    </tr>\n",
       "    <tr>\n",
       "      <th>385</th>\n",
       "      <td>1 30 98 116 117 87 42 43 65 121 130 99 84 84 7...</td>\n",
       "      <td>0</td>\n",
       "    </tr>\n",
       "    <tr>\n",
       "      <th>449</th>\n",
       "      <td>214 214 214 208 91 36 42 96 118 119 118 119 11...</td>\n",
       "      <td>0</td>\n",
       "    </tr>\n",
       "    <tr>\n",
       "      <th>550</th>\n",
       "      <td>14 11 12 13 11 12 13 9 22 35 65 42 59 65 72 73...</td>\n",
       "      <td>0</td>\n",
       "    </tr>\n",
       "    <tr>\n",
       "      <th>...</th>\n",
       "      <td>...</td>\n",
       "      <td>...</td>\n",
       "    </tr>\n",
       "    <tr>\n",
       "      <th>35108</th>\n",
       "      <td>42 45 43 39 46 64 90 142 144 155 158 166 169 1...</td>\n",
       "      <td>5</td>\n",
       "    </tr>\n",
       "    <tr>\n",
       "      <th>35111</th>\n",
       "      <td>253 253 254 253 170 101 105 102 85 91 120 141 ...</td>\n",
       "      <td>5</td>\n",
       "    </tr>\n",
       "    <tr>\n",
       "      <th>35116</th>\n",
       "      <td>125 66 81 63 122 75 47 93 98 63 52 53 27 41 28...</td>\n",
       "      <td>5</td>\n",
       "    </tr>\n",
       "    <tr>\n",
       "      <th>35119</th>\n",
       "      <td>45 36 42 35 33 29 141 188 185 167 168 166 139 ...</td>\n",
       "      <td>5</td>\n",
       "    </tr>\n",
       "    <tr>\n",
       "      <th>35120</th>\n",
       "      <td>251 255 250 255 255 243 233 226 233 235 230 15...</td>\n",
       "      <td>5</td>\n",
       "    </tr>\n",
       "  </tbody>\n",
       "</table>\n",
       "<p>1825 rows × 2 columns</p>\n",
       "</div>"
      ],
      "text/plain": [
       "                                                  pixels  emotion\n",
       "293    181 179 177 175 175 175 173 171 169 166 166 16...        0\n",
       "351    181 179 177 175 175 175 173 171 169 166 166 16...        0\n",
       "385    1 30 98 116 117 87 42 43 65 121 130 99 84 84 7...        0\n",
       "449    214 214 214 208 91 36 42 96 118 119 118 119 11...        0\n",
       "550    14 11 12 13 11 12 13 9 22 35 65 42 59 65 72 73...        0\n",
       "...                                                  ...      ...\n",
       "35108  42 45 43 39 46 64 90 142 144 155 158 166 169 1...        5\n",
       "35111  253 253 254 253 170 101 105 102 85 91 120 141 ...        5\n",
       "35116  125 66 81 63 122 75 47 93 98 63 52 53 27 41 28...        5\n",
       "35119  45 36 42 35 33 29 141 188 185 167 168 166 139 ...        5\n",
       "35120  251 255 250 255 255 243 233 226 233 235 230 15...        5\n",
       "\n",
       "[1825 rows x 2 columns]"
      ]
     },
     "execution_count": 10,
     "metadata": {},
     "output_type": "execute_result"
    }
   ],
   "source": [
    "df[df.duplicated(subset='pixels')]"
   ]
  },
  {
   "cell_type": "code",
   "execution_count": 11,
   "id": "fc3aabf5",
   "metadata": {},
   "outputs": [
    {
     "data": {
      "text/plain": [
       "'195 195 196 197 202 221 230 254 200 140 174 155 110 110 117 103 92 84 84 87 101 111 122 123 136 140 147 153 158 165 175 184 176 161 121 85 83 103 132 159 181 202 201 205 206 196 192 193 194 196 204 206 217 232 244 216 138 167 150 118 113 111 96 93 76 82 98 111 122 124 133 142 145 148 152 157 162 168 178 185 192 186 152 103 77 75 93 124 153 171 193 194 205 201 190 188 197 206 200 219 234 230 240 152 159 151 119 119 108 94 90 75 83 104 122 127 136 141 144 144 150 153 156 158 163 170 177 181 189 190 186 134 75 66 82 95 108 128 155 179 188 200 199 192 206 201 213 236 231 228 188 143 150 112 122 110 94 89 80 83 111 126 136 140 145 144 143 144 150 154 158 159 164 171 176 177 182 185 194 162 108 72 66 88 96 106 124 141 169 181 193 186 198 211 237 229 211 212 136 133 115 118 120 88 87 82 82 103 126 142 150 152 152 150 147 150 152 158 162 163 166 173 178 179 180 181 193 178 137 90 61 69 80 84 89 99 135 174 181 189 212 228 230 207 201 144 118 130 124 117 97 85 80 75 99 119 146 162 167 163 158 158 154 153 156 161 165 167 171 177 182 183 180 180 192 183 154 119 78 55 63 72 66 86 94 150 174 186 226 230 200 169 167 106 126 135 105 83 87 79 74 93 114 147 175 175 174 176 166 158 151 154 157 162 167 172 178 183 185 184 183 185 187 183 174 140 91 65 56 61 61 72 80 107 166 181 223 207 141 146 139 108 116 103 83 74 84 76 81 108 142 169 179 182 182 180 166 160 153 151 156 161 169 178 185 188 187 184 182 183 188 185 173 155 115 70 56 56 52 51 74 81 130 171 201 147 113 125 106 87 93 89 77 83 78 80 99 132 159 163 171 177 178 180 170 160 150 152 155 163 171 185 189 188 178 173 169 176 185 189 180 161 129 92 59 50 57 49 55 79 103 153 157 124 95 84 80 84 89 76 79 79 75 91 121 146 161 161 162 170 167 175 181 164 158 162 163 161 169 170 176 177 176 170 167 167 175 186 183 167 138 103 67 47 49 49 49 70 94 143 122 86 67 70 82 78 76 81 82 73 81 121 151 160 163 160 162 162 163 159 178 176 162 177 178 170 164 150 153 168 177 173 170 163 168 182 186 177 148 108 74 48 42 47 46 60 84 137 97 80 70 66 76 80 76 74 69 80 114 158 170 166 168 161 163 159 161 145 163 178 161 174 177 168 148 143 152 175 187 190 188 184 183 184 184 181 158 117 78 53 41 44 46 56 83 136 91 76 65 66 67 71 70 71 72 118 158 176 176 178 185 183 177 169 154 138 142 156 153 161 162 158 138 144 150 145 141 140 144 148 154 162 171 180 166 130 86 55 42 41 45 57 94 128 91 73 58 60 62 71 68 64 101 152 168 158 153 140 129 126 117 114 121 131 135 141 134 141 143 147 133 119 111 91 91 91 81 94 110 125 137 150 152 139 95 53 42 42 41 59 104 116 89 65 57 58 63 66 61 71 130 152 142 126 121 103 86 84 77 72 90 110 121 123 120 137 130 134 134 112 91 74 72 72 80 106 133 147 145 137 133 127 97 58 41 41 40 59 103 111 71 52 57 53 58 58 61 93 127 142 144 142 135 115 96 82 72 71 72 93 108 102 121 140 135 116 112 100 77 76 77 88 100 111 120 133 143 141 128 113 93 65 40 40 43 58 95 115 56 51 55 54 54 55 65 101 129 147 141 130 120 107 99 88 75 80 78 77 89 104 115 127 133 116 87 83 80 76 69 68 68 70 77 85 98 116 112 95 86 62 46 39 42 57 89 131 55 51 52 52 53 56 72 103 130 121 109 92 78 71 65 66 68 68 72 79 76 93 119 133 135 120 84 76 73 63 62 61 53 53 56 66 65 79 89 83 83 67 43 39 43 53 78 125 54 51 50 50 50 55 74 96 100 93 77 63 67 66 58 61 70 62 72 73 72 100 155 170 169 147 93 69 71 64 65 55 49 51 59 80 63 58 71 75 78 65 43 42 39 51 76 111 51 50 48 50 49 54 74 86 89 79 62 72 81 64 57 60 68 70 65 68 72 141 182 183 177 167 119 74 68 61 65 57 53 54 64 79 62 52 65 75 76 67 46 42 38 52 76 95 48 48 47 50 48 55 76 83 81 67 63 76 72 60 64 59 69 72 70 89 116 176 189 187 184 184 156 111 102 91 87 81 85 79 79 79 81 78 81 83 83 78 50 37 43 52 69 88 49 48 46 48 46 55 78 89 91 92 96 91 85 89 91 89 89 99 128 153 181 186 187 189 190 192 187 167 168 152 132 119 101 99 108 107 110 100 100 108 100 82 53 39 44 51 68 88 49 49 48 47 46 56 82 102 118 120 112 103 106 106 107 122 145 156 161 173 171 178 191 194 194 195 187 170 165 156 157 160 154 133 116 107 107 103 111 117 114 86 58 45 42 53 68 85 47 48 49 49 48 60 89 116 140 140 120 115 128 142 164 178 172 156 141 158 163 172 201 197 200 204 189 164 146 135 148 157 160 164 162 154 137 129 135 127 118 98 63 45 44 56 61 82 50 47 49 46 47 62 91 124 143 152 157 166 176 179 177 171 160 137 120 159 160 184 187 181 185 193 200 163 139 124 139 148 155 155 156 158 152 145 142 134 119 97 67 42 49 59 59 78 53 51 51 48 48 63 93 124 139 147 153 162 168 168 166 162 153 116 126 191 169 154 149 156 152 154 166 184 158 111 134 145 147 147 148 149 144 139 136 129 118 96 69 46 46 58 64 75 51 51 50 50 50 62 93 121 132 140 147 154 156 153 153 150 136 108 153 180 136 133 141 138 132 140 135 167 185 112 116 139 144 144 141 140 134 129 126 118 112 91 65 46 43 57 71 74 47 49 48 51 51 59 88 110 122 131 138 144 145 144 144 140 124 100 135 124 101 102 126 124 127 113 107 129 160 124 113 132 143 143 138 133 126 120 115 108 98 83 60 44 41 53 74 80 50 51 49 51 50 55 79 99 112 121 129 133 135 139 140 130 105 105 119 100 93 72 101 123 112 86 82 101 112 128 105 120 138 140 134 127 120 113 108 101 85 79 58 45 42 47 68 84 53 51 48 49 48 54 74 92 103 111 118 123 128 135 135 122 104 117 134 106 95 97 106 115 112 103 96 101 112 138 112 114 133 138 133 124 115 107 100 94 83 76 55 46 48 48 60 75 52 48 48 48 48 54 70 88 97 102 109 117 123 131 131 117 103 129 155 126 101 107 109 109 108 108 110 110 124 142 137 111 129 138 134 123 113 102 95 88 83 72 52 45 49 50 57 68 53 48 49 48 49 55 65 83 94 97 104 114 120 128 128 115 107 150 155 142 128 103 104 95 100 106 109 118 131 142 148 126 125 136 133 123 112 101 93 87 79 69 55 46 45 48 57 70 54 47 50 48 46 52 63 80 91 96 102 109 120 127 123 114 116 156 164 155 142 121 107 98 104 120 132 142 149 141 146 139 125 132 134 126 113 101 91 84 77 63 54 44 45 46 53 67 51 44 47 46 44 50 61 78 87 94 102 110 121 127 124 117 131 157 140 115 99 100 107 109 109 113 114 133 150 156 146 144 129 131 132 127 115 100 88 82 74 63 53 41 43 44 51 65 54 47 49 47 45 48 57 74 85 93 103 112 122 129 128 122 141 129 101 95 87 87 88 92 85 91 90 94 108 139 147 134 131 129 129 126 115 98 85 79 72 65 52 39 43 44 50 63 51 44 45 44 43 46 55 73 83 91 102 112 122 130 131 128 138 112 99 93 87 101 104 101 104 97 92 91 96 104 130 141 130 129 129 126 115 97 83 78 72 67 51 37 44 45 49 59 53 46 45 44 44 45 52 73 82 89 100 110 120 128 132 133 130 102 104 90 85 115 130 123 116 127 115 88 94 99 108 128 128 130 131 127 114 98 84 77 73 67 49 36 43 45 47 53 61 52 50 48 47 45 51 72 82 88 98 108 118 127 133 136 132 96 100 92 91 111 126 119 118 126 116 88 88 101 94 119 123 128 132 126 112 97 84 77 72 64 46 35 42 43 45 47 57 49 47 46 46 44 49 71 82 87 97 107 118 126 132 136 124 103 94 84 80 91 109 109 109 110 97 76 71 83 85 101 116 123 129 125 111 95 83 77 71 62 45 36 42 42 46 45 57 49 46 45 45 41 45 67 82 86 95 107 117 125 131 134 125 110 86 83 85 89 112 121 119 123 97 81 88 85 98 107 112 119 126 125 112 96 84 79 71 62 46 39 43 42 47 45 58 49 42 44 44 41 41 63 78 81 94 102 112 128 130 126 116 125 134 144 125 85 91 104 98 103 84 80 127 139 132 124 116 113 119 121 108 93 84 76 70 58 46 38 40 46 44 46 58 57 45 43 43 45 38 52 77 83 89 100 113 121 121 115 121 127 126 145 164 134 108 98 91 100 104 128 165 145 119 117 114 110 110 112 106 94 84 78 66 56 45 49 45 42 42 42 85 62 55 48 49 41 46 51 68 82 85 95 110 114 114 109 114 123 103 87 112 133 137 132 136 129 122 120 109 92 96 109 108 107 106 105 100 90 80 75 64 53 42 55 53 41 42 40 109 76 65 58 61 45 48 46 58 75 85 92 102 110 113 109 110 115 110 90 81 92 105 109 102 99 96 92 81 88 101 106 101 104 109 108 97 87 80 73 63 51 43 50 62 45 45 43 116 100 65 50 50 51 46 53 53 62 79 88 95 106 110 109 106 98 102 102 89 86 87 88 88 90 83 85 90 97 95 103 97 93 106 112 94 81 78 69 54 50 53 45 67 51 45 46 108 110 87 66 49 43 40 44 49 47 64 78 88 100 104 106 109 107 103 99 97 99 92 86 85 88 87 90 93 96 96 110 103 89 102 112 90 74 72 62 42 53 66 50 64 57 44 46 114 114 112 93 65 45 48 43 48 46 51 64 79 93 100 101 106 112 105 101 97 95 88 90 88 86 91 95 95 101 102 108 113 101 108 108 84 70 64 50 39 60 73 61 54 64 45 45 101 112 117 117 96 79 65 53 51 57 50 54 72 88 98 98 101 111 107 106 103 104 103 102 99 101 104 104 109 112 112 122 110 110 113 100 74 64 56 37 42 66 72 69 44 70 48 46'"
      ]
     },
     "execution_count": 11,
     "metadata": {},
     "output_type": "execute_result"
    }
   ],
   "source": [
    "df['pixels'][312]"
   ]
  },
  {
   "cell_type": "code",
   "execution_count": 12,
   "id": "b875e404",
   "metadata": {},
   "outputs": [
    {
     "data": {
      "text/html": [
       "<div>\n",
       "<style scoped>\n",
       "    .dataframe tbody tr th:only-of-type {\n",
       "        vertical-align: middle;\n",
       "    }\n",
       "\n",
       "    .dataframe tbody tr th {\n",
       "        vertical-align: top;\n",
       "    }\n",
       "\n",
       "    .dataframe thead th {\n",
       "        text-align: right;\n",
       "    }\n",
       "</style>\n",
       "<table border=\"1\" class=\"dataframe\">\n",
       "  <thead>\n",
       "    <tr style=\"text-align: right;\">\n",
       "      <th></th>\n",
       "      <th>pixels</th>\n",
       "      <th>emotion</th>\n",
       "    </tr>\n",
       "  </thead>\n",
       "  <tbody>\n",
       "    <tr>\n",
       "      <th>132</th>\n",
       "      <td>181 179 177 175 175 175 173 171 169 166 166 16...</td>\n",
       "      <td>0</td>\n",
       "    </tr>\n",
       "    <tr>\n",
       "      <th>293</th>\n",
       "      <td>181 179 177 175 175 175 173 171 169 166 166 16...</td>\n",
       "      <td>0</td>\n",
       "    </tr>\n",
       "    <tr>\n",
       "      <th>351</th>\n",
       "      <td>181 179 177 175 175 175 173 171 169 166 166 16...</td>\n",
       "      <td>0</td>\n",
       "    </tr>\n",
       "    <tr>\n",
       "      <th>1636</th>\n",
       "      <td>181 179 177 175 175 175 173 171 169 166 166 16...</td>\n",
       "      <td>0</td>\n",
       "    </tr>\n",
       "    <tr>\n",
       "      <th>2004</th>\n",
       "      <td>181 179 177 175 175 175 173 171 169 166 166 16...</td>\n",
       "      <td>0</td>\n",
       "    </tr>\n",
       "    <tr>\n",
       "      <th>2813</th>\n",
       "      <td>181 179 177 175 175 175 173 171 169 166 166 16...</td>\n",
       "      <td>0</td>\n",
       "    </tr>\n",
       "    <tr>\n",
       "      <th>3730</th>\n",
       "      <td>181 179 177 175 175 175 173 171 169 166 166 16...</td>\n",
       "      <td>0</td>\n",
       "    </tr>\n",
       "  </tbody>\n",
       "</table>\n",
       "</div>"
      ],
      "text/plain": [
       "                                                 pixels  emotion\n",
       "132   181 179 177 175 175 175 173 171 169 166 166 16...        0\n",
       "293   181 179 177 175 175 175 173 171 169 166 166 16...        0\n",
       "351   181 179 177 175 175 175 173 171 169 166 166 16...        0\n",
       "1636  181 179 177 175 175 175 173 171 169 166 166 16...        0\n",
       "2004  181 179 177 175 175 175 173 171 169 166 166 16...        0\n",
       "2813  181 179 177 175 175 175 173 171 169 166 166 16...        0\n",
       "3730  181 179 177 175 175 175 173 171 169 166 166 16...        0"
      ]
     },
     "execution_count": 12,
     "metadata": {},
     "output_type": "execute_result"
    }
   ],
   "source": [
    "df[df[\"pixels\"] == \"181 179 177 175 175 175 173 171 169 166 166 164 161 161 161 156 153 142 124 94 81 90 93 89 96 62 45 51 87 101 128 151 169 172 171 176 175 166 176 174 178 178 178 179 181 182 182 182 179 178 176 174 174 173 171 169 168 167 164 159 161 159 157 152 152 128 115 117 134 154 161 163 161 152 135 100 87 67 125 127 145 173 173 166 170 176 173 180 177 179 181 182 181 179 177 175 179 178 176 175 174 173 171 168 167 162 164 163 159 153 153 152 147 148 158 168 176 181 178 174 175 185 190 195 194 141 125 123 127 169 168 169 176 176 178 174 178 179 179 176 172 173 179 185 176 175 174 172 171 170 167 165 162 163 158 153 152 154 151 148 148 151 155 159 170 182 179 169 173 175 185 193 197 212 186 150 119 147 176 173 174 173 177 178 177 173 171 173 179 183 184 183 187 187 185 184 182 181 178 175 172 173 162 165 163 155 140 145 150 158 165 171 177 180 178 174 172 184 185 188 196 201 210 210 150 115 166 175 170 181 175 172 171 175 179 181 181 181 182 183 192 192 191 189 187 185 182 180 176 173 170 170 149 139 138 147 154 160 163 171 179 180 179 175 168 172 175 192 209 204 212 210 210 143 123 157 177 169 167 173 179 178 178 179 181 182 182 182 193 192 191 189 187 185 182 180 174 176 166 142 130 138 149 151 151 157 155 159 168 175 180 179 173 180 192 200 203 209 206 199 201 208 146 121 159 170 175 176 176 179 181 182 180 180 181 183 193 193 191 189 187 185 182 180 177 174 143 121 149 143 127 130 149 151 147 152 164 169 177 180 183 191 199 200 198 189 181 176 175 179 195 150 154 178 176 179 181 178 176 177 181 183 183 181 193 193 192 189 186 186 184 180 180 159 117 137 126 105 95 104 123 141 142 143 150 161 168 179 192 196 199 192 191 193 183 166 161 163 177 193 173 172 176 177 179 178 178 179 178 176 174 174 195 193 192 190 186 185 184 184 174 113 112 114 104 100 97 98 115 127 136 140 142 146 158 176 187 198 197 193 204 203 195 197 204 199 186 178 173 168 178 177 178 176 173 171 172 175 180 184 196 192 192 190 187 185 185 187 143 98 117 117 133 141 139 123 117 122 134 140 135 132 148 172 191 201 197 207 206 209 198 203 209 218 225 197 185 170 182 174 170 173 176 177 179 181 181 181 195 192 192 189 187 186 187 182 120 95 124 136 138 142 154 145 127 120 120 133 127 123 146 175 201 202 198 214 212 200 188 198 212 213 221 221 205 159 181 171 173 176 179 180 181 182 182 181 194 193 192 188 188 187 187 165 90 95 132 127 111 103 107 134 137 126 107 120 119 126 154 179 199 204 216 215 197 186 188 177 165 167 188 213 221 175 173 191 178 179 179 178 179 180 182 182 194 195 191 189 188 188 187 144 79 113 126 93 82 96 101 100 116 120 100 101 118 146 174 182 200 218 217 207 179 172 152 120 130 145 144 169 207 184 166 198 177 177 179 180 181 181 181 181 194 196 190 192 189 187 187 127 80 121 95 100 138 155 139 106 102 110 96 84 113 144 165 171 201 229 206 186 163 147 135 153 166 196 213 176 169 179 151 193 181 178 177 179 180 180 181 183 193 195 189 194 190 186 187 118 87 111 106 164 158 126 135 153 97 89 82 74 115 136 158 185 196 207 203 175 154 132 137 130 122 136 220 233 189 164 131 193 182 178 177 180 181 178 178 180 194 192 194 191 192 185 187 121 90 112 127 147 91 74 83 112 96 68 85 109 131 141 162 178 188 196 195 180 155 119 118 117 87 114 199 237 211 172 106 184 185 171 175 170 170 171 173 175 193 193 191 190 191 186 191 132 82 125 118 112 90 88 109 111 109 93 120 129 137 146 150 158 179 198 212 201 151 138 147 147 155 166 185 199 213 198 111 173 180 169 174 173 175 178 180 182 193 195 190 191 190 185 191 145 92 146 130 128 127 126 119 99 82 99 123 125 141 158 150 152 168 189 210 220 193 149 134 156 174 197 210 218 226 219 129 158 186 176 180 179 179 181 181 182 193 193 190 191 188 185 187 159 122 137 116 113 109 99 80 79 105 123 118 117 135 155 157 160 171 181 200 218 223 200 175 153 161 183 207 219 216 221 159 154 181 175 177 176 176 178 178 179 193 188 190 189 186 185 185 174 141 125 115 103 102 95 102 115 117 114 106 117 128 147 162 167 169 167 184 218 222 216 210 192 176 182 198 211 219 227 186 157 178 176 176 177 177 180 180 181 194 186 189 186 183 184 184 176 136 129 126 121 115 117 123 112 99 103 113 128 142 159 163 169 173 175 181 200 217 209 206 210 201 193 195 201 209 215 203 168 176 177 175 175 174 177 177 179 191 188 187 183 182 181 183 165 132 131 122 125 118 122 113 92 95 113 119 128 147 162 166 178 179 186 200 196 202 185 181 205 205 195 194 200 206 209 215 175 172 177 175 176 175 179 179 181 185 187 184 182 183 180 183 154 132 124 123 124 125 111 96 87 115 124 118 129 141 144 163 176 183 209 220 209 204 192 158 184 210 208 200 200 206 205 217 184 168 174 172 173 170 174 174 176 184 183 184 181 181 180 180 148 128 125 125 123 109 100 84 97 123 116 113 127 137 137 151 177 199 215 215 210 209 201 167 159 192 212 205 205 211 210 211 188 167 169 169 169 171 172 173 175 183 182 182 180 180 179 180 146 126 126 119 117 104 95 75 96 112 106 111 121 134 133 154 178 198 199 200 209 214 208 174 141 173 203 205 209 216 216 216 191 170 173 175 175 177 178 179 181 181 180 180 180 179 178 182 144 125 124 114 108 98 80 69 93 97 81 110 114 120 136 157 175 187 205 182 141 179 208 187 135 148 189 205 214 219 221 218 190 170 174 175 175 177 177 178 180 180 179 178 180 179 178 183 146 122 120 112 100 93 64 73 91 87 51 53 119 125 130 141 162 195 126 30 58 148 200 198 147 125 168 199 214 218 220 217 187 168 172 173 174 175 177 180 183 178 177 178 179 179 177 182 149 118 116 109 100 84 61 86 94 89 91 64 95 155 155 138 179 179 112 111 171 192 204 205 176 114 141 185 208 213 216 215 185 169 173 174 174 176 177 179 182 178 176 177 177 177 176 180 156 116 113 104 99 72 69 93 93 86 84 93 96 151 158 147 188 194 200 212 198 206 202 205 199 128 122 171 201 210 214 212 180 168 172 174 175 176 177 177 179 177 174 177 173 176 175 178 165 118 112 102 91 60 75 87 80 74 69 66 81 101 130 147 176 183 177 183 177 184 206 197 207 157 112 160 196 209 212 208 170 164 167 170 171 175 178 180 183 177 173 177 171 175 176 179 172 122 110 104 79 53 75 76 66 62 61 78 76 84 103 127 141 153 156 150 140 135 163 187 202 179 107 153 192 210 212 205 164 165 167 166 165 168 170 173 176 175 173 171 172 173 174 176 179 140 108 105 68 59 67 69 65 56 70 84 79 85 92 104 114 119 123 122 128 116 129 153 177 186 120 143 194 212 213 185 162 168 169 172 173 174 174 175 176 172 171 170 172 173 173 175 176 160 117 109 72 66 66 63 64 60 64 74 74 85 87 102 88 97 101 105 122 115 118 135 153 169 134 139 200 209 206 173 165 166 167 169 172 174 177 180 183 171 169 169 170 172 172 172 174 174 133 109 79 72 66 61 62 59 54 67 86 83 87 97 82 85 97 89 99 101 123 119 148 155 139 148 198 215 196 161 158 165 166 168 171 173 177 181 184 171 168 167 168 169 169 170 171 175 155 113 86 73 73 80 74 65 65 68 79 84 93 82 91 84 85 96 94 105 124 135 142 154 146 169 207 208 167 159 165 163 165 168 171 173 176 179 181 169 166 165 166 167 167 168 170 173 171 133 93 74 85 105 96 90 94 97 89 95 98 90 98 106 110 109 113 130 137 164 163 157 150 172 214 189 154 158 156 161 163 166 169 173 176 180 183 167 165 163 164 166 167 167 168 169 172 161 109 81 91 112 107 115 117 107 104 108 113 114 122 121 136 147 154 171 182 184 191 146 154 197 204 160 157 161 160 160 162 164 167 170 175 180 183 166 163 159 159 160 162 164 165 165 167 173 136 92 94 113 120 95 136 138 129 138 158 146 141 175 169 186 204 175 119 175 175 141 159 201 172 144 157 156 156 160 162 164 167 170 174 178 181 166 160 154 152 153 155 159 162 165 166 171 160 102 100 122 141 75 30 55 114 161 179 175 174 205 207 202 125 41 31 143 154 138 179 201 183 161 150 151 154 159 162 165 169 172 175 178 180 158 144 148 148 156 165 155 162 175 176 168 179 124 95 113 142 102 23 18 51 102 127 130 164 172 126 44 0 6 34 124 141 157 192 223 223 220 198 183 167 159 162 160 166 171 175 181 183 167 163 171 164 172 182 159 148 167 176 162 173 139 95 100 117 134 39 35 63 91 94 109 134 126 75 27 22 23 66 133 133 160 207 235 234 236 227 217 214 191 181 182 170 169 177 182 184 177 176 181 163 166 184 166 146 156 170 162 163 141 86 76 95 155 81 45 67 86 103 139 147 135 63 30 45 41 116 143 129 162 225 240 237 230 211 202 212 200 192 183 217 190 172 182 187 178 176 182 169 162 174 171 151 151 164 170 155 126 76 57 81 133 125 94 72 76 104 145 158 120 26 45 67 69 167 127 112 174 239 236 236 227 202 199 215 208 203 189 191 228 213 184 185 187 177 186 188 173 169 179 161 149 161 174 159 118 71 50 69 107 139 144 102 51 90 123 139 61 37 108 70 126 187 107 84 182 238 232 227 224 212 198 198 216 203 218 188 210 232 215 188 196 181 191 200 184 171 184 171 151 158 167 174 135 73 47 62 96 136 141 159 91 35 55 38 31 118 150 76 169 174 90 93 179 222 234 221 222 228 207 187 207 212 207 217 203 230 228 205 194 186 200 205 193 178 183 177 158 163 161 176 162 99 55 60 90 118 116 129 182 113 78 95 131 208 102 112 202 141 77 114 197 214 230 223 222 229 224 198 191 219 206 212 213 227 222 233 198 197 212 203 194 184 186 188 167 176 164 163 180 139 73 58 76 108 121 84 105 156 165 160 146 92 91 171 186 109 88 127 206 203 215 232 235 229 241 213 184 223 211 202 225 226 219 243\"]"
   ]
  },
  {
   "cell_type": "code",
   "execution_count": 13,
   "id": "f39241db",
   "metadata": {},
   "outputs": [
    {
     "data": {
      "image/png": "[encoded data removed]",
      "text/plain": [
       "<Figure size 432x216 with 3 Axes>"
      ]
     },
     "metadata": {
      "needs_background": "light"
     },
     "output_type": "display_data"
    }
   ],
   "source": [
    "# Indeks gambar yang akan ditampilkan\n",
    "indices = [132, 293, 351]  # Ganti dengan indeks yang sesuai\n",
    "\n",
    "# Buat subplot dengan 1 baris dan 3 kolom\n",
    "fig, axs = plt.subplots(1, 3, figsize=(6, 3))\n",
    "\n",
    "for i, idx in enumerate(indices):\n",
    "    # Ambil string piksel dari baris data yang sesuai\n",
    "    pixels_string = df.iloc[idx]['pixels']\n",
    "    # Konversi string piksel menjadi gambar\n",
    "    image = string_to_image(pixels_string)\n",
    "    # Tampilkan gambar pada subplot\n",
    "    axs[i].imshow(image, cmap='gray')\n",
    "    axs[i].axis('off')  # Matikan sumbu\n",
    "    axs[i].set_title(f'Gambar {idx}')  # Tambahkan judul\n",
    "\n",
    "plt.show()"
   ]
  },
  {
   "cell_type": "code",
   "execution_count": 14,
   "id": "10e853b8",
   "metadata": {},
   "outputs": [],
   "source": [
    "df_new = df.drop_duplicates(subset='pixels')"
   ]
  },
  {
   "cell_type": "code",
   "execution_count": 15,
   "id": "47910ee5",
   "metadata": {},
   "outputs": [
    {
     "data": {
      "text/plain": [
       "(33303, 2)"
      ]
     },
     "execution_count": 15,
     "metadata": {},
     "output_type": "execute_result"
    }
   ],
   "source": [
    "df_new.shape"
   ]
  },
  {
   "cell_type": "code",
   "execution_count": 16,
   "id": "66946654",
   "metadata": {},
   "outputs": [
    {
     "name": "stdout",
     "output_type": "stream",
     "text": [
      "Number of duplicate rows': 0\n"
     ]
    }
   ],
   "source": [
    "duplicate_count = df_new.duplicated(subset='pixels').sum()\n",
    "\n",
    "print(f\"Number of duplicate rows': {duplicate_count}\")"
   ]
  },
  {
   "cell_type": "code",
   "execution_count": 17,
   "id": "dfe07516",
   "metadata": {},
   "outputs": [],
   "source": [
    "df_new.to_csv('D://Kuliah//UPI//SEMESTER 8//dataset skripsi//fer2013v2_clean.csv', index=False)"
   ]
  },
  {
   "cell_type": "code",
   "execution_count": null,
   "id": "86b73eff",
   "metadata": {},
   "outputs": [],
   "source": []
  }
 ],
 "metadata": {
  "kernelspec": {
   "display_name": "Python 3 (ipykernel)",
   "language": "python",
   "name": "python3"
  },
  "language_info": {
   "codemirror_mode": {
    "name": "ipython",
    "version": 3
   },
   "file_extension": ".py",
   "mimetype": "text/x-python",
   "name": "python",
   "nbconvert_exporter": "python",
   "pygments_lexer": "ipython3",
   "version": "3.9.12"
  }
 },
 "nbformat": 4,
 "nbformat_minor": 5
}
