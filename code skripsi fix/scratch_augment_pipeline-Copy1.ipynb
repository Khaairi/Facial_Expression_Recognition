{
 "cells": [
  {
   "cell_type": "code",
   "execution_count": 1,
   "id": "a4f52c85-4ef4-4943-a521-ff740da659ed",
   "metadata": {},
   "outputs": [
    {
     "data": {
      "text/plain": [
       "'2.5.1+cu124'"
      ]
     },
     "execution_count": 1,
     "metadata": {},
     "output_type": "execute_result"
    }
   ],
   "source": [
    "import torch\n",
    "torch.__version__"
   ]
  },
  {
   "cell_type": "code",
   "execution_count": 2,
   "id": "85719059-ed85-4e86-a40a-e26217642235",
   "metadata": {},
   "outputs": [
    {
     "data": {
      "text/plain": [
       "'cuda'"
      ]
     },
     "execution_count": 2,
     "metadata": {},
     "output_type": "execute_result"
    }
   ],
   "source": [
    "device = \"cuda\" if torch.cuda.is_available() else \"cpu\"\n",
    "device"
   ]
  },
  {
   "cell_type": "code",
   "execution_count": 3,
   "id": "e1b309cc-ab32-4ea3-8c91-f1821515f136",
   "metadata": {},
   "outputs": [],
   "source": [
    "import numpy as np\n",
    "import pandas as pd\n",
    "import csv\n",
    "import torch\n",
    "from torch.utils.data import Dataset, DataLoader\n",
    "from torchvision import transforms\n",
    "from PIL import Image\n",
    "import matplotlib.pyplot as plt\n",
    "from sklearn.model_selection import train_test_split\n",
    "from sklearn.metrics import classification_report, confusion_matrix\n",
    "import torch.optim as optim\n",
    "from torch.optim.lr_scheduler import ReduceLROnPlateau\n",
    "from torch.optim import AdamW\n",
    "import os\n",
    "from tqdm import tqdm\n",
    "from sklearn.metrics import f1_score\n",
    "import random\n",
    "import gc"
   ]
  },
  {
   "cell_type": "code",
   "execution_count": 4,
   "id": "54ce6cf9-1fac-4143-97f0-f1c3e5359468",
   "metadata": {},
   "outputs": [],
   "source": [
    "# Set seed for reproducibility\n",
    "SEED = 123\n",
    "torch.manual_seed(SEED)\n",
    "random.seed(SEED)\n",
    "np.random.seed(SEED)"
   ]
  },
  {
   "cell_type": "markdown",
   "id": "08fe35ee-b631-403e-ae59-b7016ed13458",
   "metadata": {},
   "source": [
    "## Load Data"
   ]
  },
  {
   "cell_type": "code",
   "execution_count": 5,
   "id": "1bdddb0d-9e30-4147-938e-a8109e906f28",
   "metadata": {},
   "outputs": [],
   "source": [
    "class FERDataset(Dataset):\n",
    "    def __init__(self, dataframe, transform=None):\n",
    "        self.dataframe = dataframe\n",
    "        self.transform = transform\n",
    "\n",
    "        # Ekstrak label dan piksel\n",
    "        self.labels = self.dataframe['emotion'].values\n",
    "        self.pixels = self.dataframe['pixels'].apply(self.string_to_image).values\n",
    "\n",
    "    def string_to_image(self, pixels_string):\n",
    "        # Konversi string piksel menjadi numpy array dan reshape ke 48x48\n",
    "        pixels = np.array(pixels_string.split(), dtype='float32')\n",
    "        image = pixels.reshape(48, 48)\n",
    "        image = np.expand_dims(image, axis=-1)  # Tambahkan channel dimensi\n",
    "        return image\n",
    "\n",
    "    def __len__(self):\n",
    "        return len(self.dataframe)\n",
    "\n",
    "    def __getitem__(self, idx):\n",
    "        image = self.pixels[idx]\n",
    "        label = self.labels[idx]\n",
    "        \n",
    "        image = Image.fromarray(image.squeeze().astype('uint8'), mode='L')\n",
    "\n",
    "        # Jika ada transformasi, terapkan ke image\n",
    "        if self.transform:\n",
    "            image = self.transform(image)\n",
    "\n",
    "        return image, label"
   ]
  },
  {
   "cell_type": "code",
   "execution_count": 6,
   "id": "3fd05f22-3a1d-495e-ab37-5912522b0f9b",
   "metadata": {},
   "outputs": [
    {
     "name": "stdout",
     "output_type": "stream",
     "text": [
      "train transforms: Compose(\n",
      "    Resize(size=(224, 224), interpolation=bilinear, max_size=None, antialias=True)\n",
      "    RandomHorizontalFlip(p=0.5)\n",
      "    RandomRotation(degrees=[-10.0, 10.0], interpolation=nearest, expand=False, fill=0)\n",
      "    RandomResizedCrop(size=(224, 224), scale=(0.8, 1.0), ratio=(0.75, 1.3333), interpolation=bilinear, antialias=True)\n",
      "    ColorJitter(brightness=(0.8, 1.2), contrast=(0.8, 1.2), saturation=None, hue=None)\n",
      "    ToTensor()\n",
      "    Normalize(mean=[0.5], std=[0.5])\n",
      ")\n",
      "test transforms: Compose(\n",
      "    Resize(size=(224, 224), interpolation=bilinear, max_size=None, antialias=True)\n",
      "    ToTensor()\n",
      "    Normalize(mean=[0.5], std=[0.5])\n",
      ")\n"
     ]
    }
   ],
   "source": [
    "# Create image size\n",
    "IMG_SIZE = 224\n",
    "\n",
    "# Create transform pipeline manually\n",
    "train_transforms = transforms.Compose([\n",
    "    transforms.Resize((IMG_SIZE, IMG_SIZE)),\n",
    "    transforms.RandomHorizontalFlip(),  # Randomly flip horizontally\n",
    "    transforms.RandomRotation(10),     # Randomly rotate by 10 degrees\n",
    "    transforms.RandomResizedCrop(\n",
    "        size=IMG_SIZE,  # Output size\n",
    "        scale=(0.8, 1.0)  # Range of the random crop size relative to the input size\n",
    "    ),\n",
    "    transforms.ColorJitter(brightness=0.2, contrast=0.2),  # Adjust brightness\n",
    "    transforms.ToTensor(),\n",
    "    transforms.Normalize(mean=[0.5], std=[0.5])\n",
    "]) \n",
    "\n",
    "# Create transform pipeline manually\n",
    "test_transforms = transforms.Compose([\n",
    "    transforms.Resize((IMG_SIZE, IMG_SIZE)),\n",
    "    transforms.ToTensor(),\n",
    "    transforms.Normalize(mean=[0.5], std=[0.5])\n",
    "])\n",
    "\n",
    " \n",
    "print(f\"train transforms: {train_transforms}\")\n",
    "print(f\"test transforms: {test_transforms}\")"
   ]
  },
  {
   "cell_type": "code",
   "execution_count": 7,
   "id": "abb51cb0-db73-45d5-b795-d7bbe982676b",
   "metadata": {},
   "outputs": [
    {
     "name": "stdout",
     "output_type": "stream",
     "text": [
      "<class 'pandas.core.frame.DataFrame'>\n",
      "RangeIndex: 33325 entries, 0 to 33324\n",
      "Data columns (total 2 columns):\n",
      " #   Column   Non-Null Count  Dtype \n",
      "---  ------   --------------  ----- \n",
      " 0   pixels   33325 non-null  object\n",
      " 1   emotion  33325 non-null  int64 \n",
      "dtypes: int64(1), object(1)\n",
      "memory usage: 520.8+ KB\n"
     ]
    }
   ],
   "source": [
    "data = pd.read_csv('../Data/fer2013_clean.csv')\n",
    "data.info()"
   ]
  },
  {
   "cell_type": "code",
   "execution_count": 8,
   "id": "d525f87c-e3d3-4893-9194-b81b2a4b80d3",
   "metadata": {},
   "outputs": [
    {
     "name": "stdout",
     "output_type": "stream",
     "text": [
      "Train set size: 26992\n",
      "Validation set size: 3000\n",
      "Test set size: 3333\n"
     ]
    }
   ],
   "source": [
    "# pisahkan data train (80%), validation (10%), test (10%)\n",
    "data_train, data_test = train_test_split(data, test_size=0.1, stratify=data['emotion'], random_state=123)\n",
    "data_train, data_val = train_test_split(data_train, test_size=0.1, stratify=data_train['emotion'], random_state=123)\n",
    "\n",
    "# Cek ukuran masing-masing set untuk memastikan proporsi\n",
    "print(f'Train set size: {len(data_train)}')\n",
    "print(f'Validation set size: {len(data_val)}')\n",
    "print(f'Test set size: {len(data_test)}')"
   ]
  },
  {
   "cell_type": "code",
   "execution_count": 9,
   "id": "a112b864-08d8-42cb-a285-994f930f4259",
   "metadata": {},
   "outputs": [],
   "source": [
    "train_dataset = FERDataset(data_train, transform=train_transforms)\n",
    "val_dataset = FERDataset(data_val, transform=test_transforms)\n",
    "test_dataset = FERDataset(data_test, transform=test_transforms)\n",
    "class_names = ['Angry', 'Disgust', 'Fear', 'Happy', 'Sad', 'Surprise', 'Neutral']"
   ]
  },
  {
   "cell_type": "code",
   "execution_count": 10,
   "id": "4c40770a-6a57-48ca-a10f-8a6c3ff485f2",
   "metadata": {},
   "outputs": [
    {
     "name": "stdout",
     "output_type": "stream",
     "text": [
      "label2id: {'Angry': 0, 'Disgust': 1, 'Fear': 2, 'Happy': 3, 'Sad': 4, 'Surprise': 5, 'Neutral': 6}\n",
      "id2label: {0: 'Angry', 1: 'Disgust', 2: 'Fear', 3: 'Happy', 4: 'Sad', 5: 'Surprise', 6: 'Neutral'}\n"
     ]
    }
   ],
   "source": [
    "labels = ['Angry', 'Disgust', 'Fear', 'Happy', 'Sad', 'Surprise', 'Neutral']\n",
    "\n",
    "# Mapping dari label ke ID (label2id)\n",
    "label2id = {c: idx for idx, c in enumerate(labels)}\n",
    "\n",
    "# Mapping dari ID ke label (id2label)\n",
    "id2label = {idx: c for idx, c in enumerate(labels)}\n",
    "\n",
    "print(\"label2id:\", label2id)\n",
    "print(\"id2label:\", id2label)"
   ]
  },
  {
   "cell_type": "code",
   "execution_count": 11,
   "id": "27139b4d-f206-4e4f-82e6-6c26b311b7e9",
   "metadata": {},
   "outputs": [
    {
     "data": {
      "image/png": "[encoded data removed]",
      "text/plain": [
       "<Figure size 640x480 with 1 Axes>"
      ]
     },
     "metadata": {},
     "output_type": "display_data"
    }
   ],
   "source": [
    "# Ambil satu contoh dari train_dataset\n",
    "image, label = train_dataset[0]  # Index pertama dataset\n",
    "\n",
    "# Jika transform menghasilkan tensor, konversi ke format numpy\n",
    "if isinstance(image, torch.Tensor):\n",
    "    image = image.permute(1, 2, 0).numpy()  # (C, H, W) -> (H, W, C)\n",
    "\n",
    "# Plot gambar\n",
    "plt.imshow(image, cmap='gray')  # Gunakan cmap='gray' jika gambar grayscale\n",
    "plt.title(f\"Label: {label}\")\n",
    "plt.axis('off')  # Hilangkan sumbu\n",
    "plt.show()"
   ]
  },
  {
   "cell_type": "code",
   "execution_count": 12,
   "id": "6b8a0a00-f3ca-46e1-8080-faf95a66d2c9",
   "metadata": {},
   "outputs": [
    {
     "data": {
      "text/plain": [
       "torch.Size([1, 224, 224])"
      ]
     },
     "execution_count": 12,
     "metadata": {},
     "output_type": "execute_result"
    }
   ],
   "source": [
    "image, label = train_dataset[0]\n",
    "image.shape"
   ]
  },
  {
   "cell_type": "markdown",
   "id": "25f09b62-4109-49eb-ae60-3ce50168f049",
   "metadata": {},
   "source": [
    "## Build Vision Transformer (ViT) Model"
   ]
  },
  {
   "cell_type": "code",
   "execution_count": 13,
   "id": "5b7f5c19-e39f-478b-904a-4070f72d2ccf",
   "metadata": {},
   "outputs": [],
   "source": [
    "from torch import nn"
   ]
  },
  {
   "cell_type": "code",
   "execution_count": 14,
   "id": "27a7697f-f6eb-4ea2-ab66-bcfdacdf4a4b",
   "metadata": {},
   "outputs": [],
   "source": [
    "class PatchEmbedding(nn.Module):\n",
    "    def __init__(self, \n",
    "                 in_channels:int=1,\n",
    "                 patch_size:int=16,\n",
    "                 embedding_dim:int=768\n",
    "                ):\n",
    "        super().__init__()\n",
    "        \n",
    "        self.patcher = nn.Conv2d(in_channels=in_channels,\n",
    "                                 out_channels=embedding_dim,\n",
    "                                 kernel_size=patch_size,\n",
    "                                 stride=patch_size,\n",
    "                                 padding=0)\n",
    "    def forward(self, x):\n",
    "        image_resolution = x.shape[-1]\n",
    "        \n",
    "        x_patched = self.patcher(x) # (n_samples, embed_dim, n_patches ** 0.5, n_patches ** 0.5)\n",
    "        x_flattened = x_patched.flatten(2) # (n_samples, embed_dim, n_patches)\n",
    "        x = x_flattened.transpose(1, 2) # (n_samples, n_patches, embed_dim)\n",
    "        \n",
    "        return x"
   ]
  },
  {
   "cell_type": "code",
   "execution_count": 15,
   "id": "abc468a7-138e-48ca-a495-a91e0988bd0b",
   "metadata": {},
   "outputs": [],
   "source": [
    "class MultiheadSelfAttentionBlock(nn.Module):\n",
    "    def __init__(self,\n",
    "                 embedding_dim:int=768,\n",
    "                 num_heads:int=12,\n",
    "                 attn_dropout:float=0.):\n",
    "        super().__init__()\n",
    "        self.multihead_attn = nn.MultiheadAttention(embed_dim=embedding_dim,\n",
    "                                                    num_heads=num_heads,\n",
    "                                                    dropout=attn_dropout,\n",
    "                                                    batch_first=True)\n",
    "    def forward(self, x):\n",
    "        attn_output, _ = self.multihead_attn(query=x,\n",
    "                                             key=x,\n",
    "                                             value=x,\n",
    "                                             need_weights=False)\n",
    "        return attn_output"
   ]
  },
  {
   "cell_type": "code",
   "execution_count": 16,
   "id": "76cdbef5-da91-45c7-8847-9de18bcd77f5",
   "metadata": {},
   "outputs": [],
   "source": [
    "class MLPBlock(nn.Module):\n",
    "    def __init__(self,\n",
    "                 embedding_dim:int=768,\n",
    "                 mlp_size:int=3072,\n",
    "                 dropout:float=0.):\n",
    "        super().__init__()\n",
    "        self.mlp = nn.Sequential(\n",
    "            nn.Linear(in_features=embedding_dim,\n",
    "                      out_features=mlp_size),\n",
    "            nn.GELU(),\n",
    "            nn.Dropout(p=dropout),\n",
    "            nn.Linear(in_features=mlp_size,\n",
    "                      out_features=embedding_dim),\n",
    "            nn.Dropout(p=dropout)\n",
    "        )\n",
    "    def forward(self, x):\n",
    "        x = self.mlp(x)\n",
    "        return x"
   ]
  },
  {
   "cell_type": "code",
   "execution_count": 17,
   "id": "cee8d7b1-8603-4ade-8bed-32444a8c942f",
   "metadata": {},
   "outputs": [],
   "source": [
    "class TransformerEncoderBlock(nn.Module):\n",
    "    def __init__(self,\n",
    "                 embedding_dim:int=768,\n",
    "                 num_heads:int=12,\n",
    "                 mlp_size:int=3072,\n",
    "                 mlp_dropout:float=0.,\n",
    "                 attn_dropout:float=0.):\n",
    "        super().__init__()\n",
    "        self.layer_norm1 = nn.LayerNorm(normalized_shape=embedding_dim, eps=1e-6)\n",
    "        \n",
    "        self.msa_block = MultiheadSelfAttentionBlock(embedding_dim=embedding_dim,\n",
    "                                                     num_heads=num_heads,\n",
    "                                                     attn_dropout=attn_dropout)\n",
    "        \n",
    "        self.layer_norm2 = nn.LayerNorm(normalized_shape=embedding_dim, eps=1e-6)\n",
    "        \n",
    "        self.mlp_block =  MLPBlock(embedding_dim=embedding_dim,\n",
    "                                   mlp_size=mlp_size,\n",
    "                                   dropout=mlp_dropout)\n",
    "    def forward(self, x):\n",
    "        x = self.msa_block(self.layer_norm1(x)) + x \n",
    "        \n",
    "        x = self.mlp_block(self.layer_norm2(x)) + x \n",
    "        \n",
    "        return x"
   ]
  },
  {
   "cell_type": "code",
   "execution_count": 18,
   "id": "dfbe073e-b7c5-44c3-a123-d89a2152a467",
   "metadata": {},
   "outputs": [],
   "source": [
    "class ViT(nn.Module):\n",
    "    def __init__(self,\n",
    "                 img_size:int=224,\n",
    "                 in_channels:int=3,\n",
    "                 patch_size:int=16,\n",
    "                 num_transformer_layers:int=12,\n",
    "                 embedding_dim:int=768,\n",
    "                 mlp_size:int=3072,\n",
    "                 num_heads:int=12,\n",
    "                 attn_dropout:float=0.,\n",
    "                 mlp_dropout:float=0.,\n",
    "                 embedding_dropout:float=0.,\n",
    "                 num_classes:int=1000):\n",
    "        super().__init__()\n",
    "        self.num_patches = (img_size * img_size) // patch_size**2\n",
    "\n",
    "        self.patch_embedding = PatchEmbedding(in_channels=in_channels,\n",
    "                                              patch_size=patch_size,\n",
    "                                              embedding_dim=embedding_dim)\n",
    "                 \n",
    "        self.class_embedding = nn.Parameter(data=torch.randn(1, 1, embedding_dim),\n",
    "                                            requires_grad=True)\n",
    "        \n",
    "        self.position_embedding = nn.Parameter(data=torch.randn(1, self.num_patches+1, embedding_dim),\n",
    "                                               requires_grad=True)\n",
    "                \n",
    "        self.embedding_dropout = nn.Dropout(p=embedding_dropout)\n",
    "        \n",
    "        self.transformer_encoder = nn.Sequential(*[TransformerEncoderBlock(embedding_dim=embedding_dim,\n",
    "                                                                            num_heads=num_heads,\n",
    "                                                                            mlp_size=mlp_size,\n",
    "                                                                            mlp_dropout=mlp_dropout) for _ in range(num_transformer_layers)])\n",
    "       \n",
    "        self.classifier = nn.Sequential(\n",
    "            nn.LayerNorm(normalized_shape=embedding_dim, eps=1e-6),\n",
    "            nn.Linear(in_features=embedding_dim, \n",
    "                      out_features=num_classes)\n",
    "        )\n",
    "    \n",
    "    def forward(self, pixel_values, labels=None):\n",
    "        batch_size = pixel_values.shape[0]\n",
    "\n",
    "        x = self.patch_embedding(pixel_values) # (n_samples, num_patches, embed_dim)\n",
    "        \n",
    "        class_token = self.class_embedding.expand(batch_size, -1, -1) # (n_samples, 1, embed_dim)\n",
    "\n",
    "        x = torch.cat((class_token, x), dim=1) # (n_samples, 1 + n_patches, embed_dim)\n",
    "\n",
    "        x = self.position_embedding + x # add position embed\n",
    "\n",
    "        x = self.embedding_dropout(x)\n",
    "\n",
    "        x = self.transformer_encoder(x)\n",
    "\n",
    "        logits = self.classifier(x[:, 0])\n",
    "\n",
    "        # Jika labels diberikan, hitung loss\n",
    "        loss = None\n",
    "        if labels is not None:\n",
    "            loss_fn = nn.CrossEntropyLoss()\n",
    "            loss = loss_fn(logits, labels)\n",
    "    \n",
    "        return (loss, logits) if loss is not None else logits"
   ]
  },
  {
   "cell_type": "markdown",
   "id": "cccbb722-51b9-46af-90e2-4b80265eb878",
   "metadata": {},
   "source": [
    "## Model Training"
   ]
  },
  {
   "cell_type": "code",
   "execution_count": 19,
   "id": "64b28361-dae6-43fa-b846-69caa47259a3",
   "metadata": {},
   "outputs": [],
   "source": [
    "class BestModelSaver:\n",
    "    def __init__(self, save_path, model_name):\n",
    "        self.save_path = save_path\n",
    "        self.model_name = model_name\n",
    "        self.best_accuracy = -float('inf')\n",
    "        os.makedirs(self.save_path, exist_ok=True)\n",
    "\n",
    "    def save(self, model, current_accuracy, epoch):\n",
    "        if current_accuracy > self.best_accuracy:\n",
    "            self.best_accuracy = current_accuracy\n",
    "            model_path = os.path.join(self.save_path, f\"{self.model_name}_best.pt\")\n",
    "            torch.save(model.state_dict(), model_path)\n",
    "            print(f\"Best model saved at {model_path} with accuracy: {self.best_accuracy:.4f}\")"
   ]
  },
  {
   "cell_type": "code",
   "execution_count": 20,
   "id": "dc2344b3-32fa-4f94-9c56-13b3ac96ee3d",
   "metadata": {},
   "outputs": [],
   "source": [
    "class MetricsPlotter:\n",
    "    def __init__(self, save_path, model_name):\n",
    "        self.save_path = save_path\n",
    "        self.model_name = model_name\n",
    "        os.makedirs(self.save_path, exist_ok=True)\n",
    "\n",
    "    def plot_and_save(self, train_metrics, val_metrics, metric_name, epoch):\n",
    "        plt.figure(figsize=(10, 5))\n",
    "        plt.plot(range(1, len(train_metrics) + 1), train_metrics, label=f\"Training {metric_name}\", marker='o')\n",
    "        plt.plot(range(1, len(val_metrics) + 1), val_metrics, label=f\"Validation {metric_name}\", marker='o')\n",
    "        plt.title(f\"{self.model_name} {metric_name} per Epoch\")\n",
    "        plt.xlabel(\"Epoch\")\n",
    "        plt.ylabel(metric_name)\n",
    "        plt.legend()\n",
    "        plt.grid(True)\n",
    "        plot_path = os.path.join(self.save_path, f\"{self.model_name}_{metric_name.lower()}.png\")\n",
    "        plt.savefig(plot_path)\n",
    "        plt.close()"
   ]
  },
  {
   "cell_type": "code",
   "execution_count": 21,
   "id": "f0d1b5c8-e45c-4ed2-97f5-d89910c3752f",
   "metadata": {},
   "outputs": [],
   "source": [
    "class EarlyStopping:\n",
    "    def __init__(self, patience=10, min_delta=0):\n",
    "        self.patience = patience\n",
    "        self.min_delta = min_delta\n",
    "        self.best_loss = float('inf')\n",
    "        self.epochs_no_improve = 0\n",
    "        self.early_stop = False\n",
    "\n",
    "    def __call__(self, val_loss):\n",
    "        if val_loss < self.best_loss - self.min_delta:\n",
    "            self.best_loss = val_loss\n",
    "            self.epochs_no_improve = 0\n",
    "        else:\n",
    "            self.epochs_no_improve += 1\n",
    "\n",
    "        if self.epochs_no_improve >= self.patience:\n",
    "            self.early_stop = True\n",
    "\n",
    "        return self.early_stop"
   ]
  },
  {
   "cell_type": "code",
   "execution_count": 22,
   "id": "609373d7-9cf2-4ed5-853b-569cee7dbc81",
   "metadata": {},
   "outputs": [],
   "source": [
    "class Validator:\n",
    "    def __init__(self, model, criterion, device):\n",
    "        self.model = model\n",
    "        self.criterion = criterion\n",
    "        self.device = device\n",
    "\n",
    "    def validate(self, val_loader):\n",
    "        self.model.eval()\n",
    "        val_loss = 0.0\n",
    "        val_correct = 0\n",
    "        val_total = 0\n",
    "        all_targets = []\n",
    "        all_predicted = []\n",
    "\n",
    "        with torch.no_grad():  # Disable gradient computation\n",
    "            pbar = tqdm(val_loader, desc=\"Validation\")\n",
    "            for batch_idx, (inputs, targets) in enumerate(pbar):\n",
    "                inputs, targets = inputs.to(self.device), targets.to(self.device)\n",
    "\n",
    "                # Forward pass\n",
    "                outputs = self.model(inputs)\n",
    "                loss = self.criterion(outputs, targets)\n",
    "\n",
    "                # Update statistics\n",
    "                val_loss += loss.item()\n",
    "                _, predicted = outputs.max(1)\n",
    "                val_total += targets.size(0)\n",
    "                val_correct += predicted.eq(targets).sum().item()\n",
    "\n",
    "                # Collect all targets and predictions for F1-score\n",
    "                all_targets.extend(targets.cpu().numpy())\n",
    "                all_predicted.extend(predicted.cpu().numpy())\n",
    "\n",
    "                # Update progress bar\n",
    "                pbar.set_postfix({\n",
    "                    \"Loss\": f\"{val_loss / (batch_idx + 1):.4f}\",\n",
    "                    \"Acc\": f\"{val_correct / val_total:.4f}\"\n",
    "                })\n",
    "\n",
    "        # Calculate validation accuracy, loss, and F1-score\n",
    "        val_accuracy = val_correct / val_total\n",
    "        avg_val_loss = val_loss / len(val_loader)\n",
    "        val_f1 = f1_score(all_targets, all_predicted, average=\"weighted\")\n",
    "\n",
    "        return avg_val_loss, val_accuracy, val_f1"
   ]
  },
  {
   "cell_type": "code",
   "execution_count": 23,
   "id": "0b7c7cec-52ef-49f8-9559-ed24ee72a7dd",
   "metadata": {},
   "outputs": [],
   "source": [
    "patch_sizes = [16, 32]\n",
    "num_heads = [8]\n",
    "embedding_dims = [256, 384, 512, 768]\n",
    "num_transformer_layers = [6, 12]\n",
    "\n",
    "EPOCHS = 1000\n",
    "LEARNING_RATE = 3e-5\n",
    "NUM_CLASSES = 7\n",
    "SEED = 123\n",
    "BATCH_SIZE = 64\n",
    "DEVICE = torch.device(\"cuda\" if torch.cuda.is_available() else \"cpu\")"
   ]
  },
  {
   "cell_type": "code",
   "execution_count": 24,
   "id": "ea6989ec-a1d3-4e8d-b3e9-c1817ae066fe",
   "metadata": {},
   "outputs": [],
   "source": [
    "# Define the CSV file paths\n",
    "config_csv_path = \"../Experiment Augment Result/augment_model_configurations.csv\"\n",
    "epoch_csv_path = \"../Experiment Augment Result/augment_epoch_results.csv\"\n",
    "test_csv_path = \"../Experiment Augment Result/augment_test_results.csv\"\n",
    "\n",
    "# Check if the configuration CSV file exists. If not, create it and write the header.\n",
    "if not os.path.exists(config_csv_path):\n",
    "    with open(config_csv_path, mode='w', newline='') as file:\n",
    "        writer = csv.writer(file)\n",
    "        writer.writerow([\"Config\", \"Patch Size\", \"Num Heads\", \"Embedding Dim\", \"Num Transformer Layers\"])\n",
    "\n",
    "# Check if the epoch results CSV file exists. If not, create it and write the header.\n",
    "if not os.path.exists(epoch_csv_path):\n",
    "    with open(epoch_csv_path, mode='w', newline='') as file:\n",
    "        writer = csv.writer(file)\n",
    "        writer.writerow([\"Config\", \"Epoch\", \"Train Loss\", \"Train Acc\", \"Val Loss\", \"Val Acc\", \"F1 Score\", \"Learning Rate\"])\n",
    "        \n",
    "# Check if the epoch results CSV file exists. If not, create it and write the header.\n",
    "if not os.path.exists(test_csv_path):\n",
    "    with open(test_csv_path, mode='w', newline='') as file:\n",
    "        writer = csv.writer(file)\n",
    "        writer.writerow([\"Config\", \"Test Loss\", \"Test Acc\", \"F1 Score\"])"
   ]
  },
  {
   "cell_type": "code",
   "execution_count": null,
   "id": "36ece644-8389-406b-b8e9-802ac5a1f946",
   "metadata": {},
   "outputs": [
    {
     "name": "stdout",
     "output_type": "stream",
     "text": [
      "Start model1 with configuration patch size: 16, num_heads: 8, embedding_dims: 256, num_layers: 6\n"
     ]
    },
    {
     "name": "stderr",
     "output_type": "stream",
     "text": [
      "Epoch 1/1000: 100%|██████████| 422/422 [01:17<00:00,  5.42it/s, Loss=1.7900, Acc=0.2531]\n"
     ]
    },
    {
     "name": "stdout",
     "output_type": "stream",
     "text": [
      "Epoch 1/1000: Train Loss: 1.7900, Train Acc: 0.2531\n"
     ]
    },
    {
     "name": "stderr",
     "output_type": "stream",
     "text": [
      "Validation: 100%|██████████| 47/47 [00:02<00:00, 19.83it/s, Loss=1.7975, Acc=0.2597]\n"
     ]
    },
    {
     "name": "stdout",
     "output_type": "stream",
     "text": [
      "Epoch 1/1000: Val Loss: 1.7975, Val Acc: 0.2597, Val F1: 0.1670\n",
      "Current Learning Rate: 3e-05\n",
      "Best model saved at ../Experiment Augment Result/model1_augment_best.pt with accuracy: 0.2597\n"
     ]
    },
    {
     "name": "stderr",
     "output_type": "stream",
     "text": [
      "Epoch 2/1000: 100%|██████████| 422/422 [01:16<00:00,  5.48it/s, Loss=1.7566, Acc=0.2745]\n"
     ]
    },
    {
     "name": "stdout",
     "output_type": "stream",
     "text": [
      "Epoch 2/1000: Train Loss: 1.7566, Train Acc: 0.2745\n"
     ]
    },
    {
     "name": "stderr",
     "output_type": "stream",
     "text": [
      "Validation: 100%|██████████| 47/47 [00:02<00:00, 19.32it/s, Loss=1.7117, Acc=0.3097]\n"
     ]
    },
    {
     "name": "stdout",
     "output_type": "stream",
     "text": [
      "Epoch 2/1000: Val Loss: 1.7117, Val Acc: 0.3097, Val F1: 0.2354\n",
      "Current Learning Rate: 3e-05\n",
      "Best model saved at ../Experiment Augment Result/model1_augment_best.pt with accuracy: 0.3097\n"
     ]
    },
    {
     "name": "stderr",
     "output_type": "stream",
     "text": [
      "Epoch 3/1000: 100%|██████████| 422/422 [01:16<00:00,  5.50it/s, Loss=1.6944, Acc=0.3255]\n"
     ]
    },
    {
     "name": "stdout",
     "output_type": "stream",
     "text": [
      "Epoch 3/1000: Train Loss: 1.6944, Train Acc: 0.3255\n"
     ]
    },
    {
     "name": "stderr",
     "output_type": "stream",
     "text": [
      "Validation: 100%|██████████| 47/47 [00:02<00:00, 19.24it/s, Loss=1.6803, Acc=0.3250]\n"
     ]
    },
    {
     "name": "stdout",
     "output_type": "stream",
     "text": [
      "Epoch 3/1000: Val Loss: 1.6803, Val Acc: 0.3250, Val F1: 0.2520\n",
      "Current Learning Rate: 3e-05\n",
      "Best model saved at ../Experiment Augment Result/model1_augment_best.pt with accuracy: 0.3250\n"
     ]
    },
    {
     "name": "stderr",
     "output_type": "stream",
     "text": [
      "Epoch 4/1000: 100%|██████████| 422/422 [01:18<00:00,  5.40it/s, Loss=1.6647, Acc=0.3410]\n"
     ]
    },
    {
     "name": "stdout",
     "output_type": "stream",
     "text": [
      "Epoch 4/1000: Train Loss: 1.6647, Train Acc: 0.3410\n"
     ]
    },
    {
     "name": "stderr",
     "output_type": "stream",
     "text": [
      "Validation: 100%|██████████| 47/47 [00:02<00:00, 18.73it/s, Loss=1.6384, Acc=0.3540]\n"
     ]
    },
    {
     "name": "stdout",
     "output_type": "stream",
     "text": [
      "Epoch 4/1000: Val Loss: 1.6384, Val Acc: 0.3540, Val F1: 0.2880\n",
      "Current Learning Rate: 3e-05\n",
      "Best model saved at ../Experiment Augment Result/model1_augment_best.pt with accuracy: 0.3540\n"
     ]
    },
    {
     "name": "stderr",
     "output_type": "stream",
     "text": [
      "Epoch 5/1000: 100%|██████████| 422/422 [01:17<00:00,  5.44it/s, Loss=1.6420, Acc=0.3508]\n"
     ]
    },
    {
     "name": "stdout",
     "output_type": "stream",
     "text": [
      "Epoch 5/1000: Train Loss: 1.6420, Train Acc: 0.3508\n"
     ]
    },
    {
     "name": "stderr",
     "output_type": "stream",
     "text": [
      "Validation: 100%|██████████| 47/47 [00:02<00:00, 18.53it/s, Loss=1.6251, Acc=0.3653]\n"
     ]
    },
    {
     "name": "stdout",
     "output_type": "stream",
     "text": [
      "Epoch 5/1000: Val Loss: 1.6251, Val Acc: 0.3653, Val F1: 0.2921\n",
      "Current Learning Rate: 3e-05\n",
      "Best model saved at ../Experiment Augment Result/model1_augment_best.pt with accuracy: 0.3653\n"
     ]
    },
    {
     "name": "stderr",
     "output_type": "stream",
     "text": [
      "Epoch 6/1000: 100%|██████████| 422/422 [01:18<00:00,  5.41it/s, Loss=1.6273, Acc=0.3545]\n"
     ]
    },
    {
     "name": "stdout",
     "output_type": "stream",
     "text": [
      "Epoch 6/1000: Train Loss: 1.6273, Train Acc: 0.3545\n"
     ]
    },
    {
     "name": "stderr",
     "output_type": "stream",
     "text": [
      "Validation: 100%|██████████| 47/47 [00:02<00:00, 19.52it/s, Loss=1.6218, Acc=0.3670]\n"
     ]
    },
    {
     "name": "stdout",
     "output_type": "stream",
     "text": [
      "Epoch 6/1000: Val Loss: 1.6218, Val Acc: 0.3670, Val F1: 0.3285\n",
      "Current Learning Rate: 3e-05\n",
      "Best model saved at ../Experiment Augment Result/model1_augment_best.pt with accuracy: 0.3670\n"
     ]
    },
    {
     "name": "stderr",
     "output_type": "stream",
     "text": [
      "Epoch 7/1000: 100%|██████████| 422/422 [01:17<00:00,  5.43it/s, Loss=1.6145, Acc=0.3643]\n"
     ]
    },
    {
     "name": "stdout",
     "output_type": "stream",
     "text": [
      "Epoch 7/1000: Train Loss: 1.6145, Train Acc: 0.3643\n"
     ]
    },
    {
     "name": "stderr",
     "output_type": "stream",
     "text": [
      "Validation: 100%|██████████| 47/47 [00:02<00:00, 19.50it/s, Loss=1.5993, Acc=0.3737]\n"
     ]
    },
    {
     "name": "stdout",
     "output_type": "stream",
     "text": [
      "Epoch 7/1000: Val Loss: 1.5993, Val Acc: 0.3737, Val F1: 0.3426\n",
      "Current Learning Rate: 3e-05\n",
      "Best model saved at ../Experiment Augment Result/model1_augment_best.pt with accuracy: 0.3737\n"
     ]
    },
    {
     "name": "stderr",
     "output_type": "stream",
     "text": [
      "Epoch 8/1000: 100%|██████████| 422/422 [01:17<00:00,  5.48it/s, Loss=1.6033, Acc=0.3704]\n"
     ]
    },
    {
     "name": "stdout",
     "output_type": "stream",
     "text": [
      "Epoch 8/1000: Train Loss: 1.6033, Train Acc: 0.3704\n"
     ]
    },
    {
     "name": "stderr",
     "output_type": "stream",
     "text": [
      "Validation: 100%|██████████| 47/47 [00:02<00:00, 19.48it/s, Loss=1.5813, Acc=0.3837]\n"
     ]
    },
    {
     "name": "stdout",
     "output_type": "stream",
     "text": [
      "Epoch 8/1000: Val Loss: 1.5813, Val Acc: 0.3837, Val F1: 0.3527\n",
      "Current Learning Rate: 3e-05\n",
      "Best model saved at ../Experiment Augment Result/model1_augment_best.pt with accuracy: 0.3837\n"
     ]
    },
    {
     "name": "stderr",
     "output_type": "stream",
     "text": [
      "Epoch 9/1000: 100%|██████████| 422/422 [01:17<00:00,  5.47it/s, Loss=1.5970, Acc=0.3714]\n"
     ]
    },
    {
     "name": "stdout",
     "output_type": "stream",
     "text": [
      "Epoch 9/1000: Train Loss: 1.5970, Train Acc: 0.3714\n"
     ]
    },
    {
     "name": "stderr",
     "output_type": "stream",
     "text": [
      "Validation: 100%|██████████| 47/47 [00:02<00:00, 19.50it/s, Loss=1.5790, Acc=0.3790]\n"
     ]
    },
    {
     "name": "stdout",
     "output_type": "stream",
     "text": [
      "Epoch 9/1000: Val Loss: 1.5790, Val Acc: 0.3790, Val F1: 0.3265\n",
      "Current Learning Rate: 3e-05\n"
     ]
    },
    {
     "name": "stderr",
     "output_type": "stream",
     "text": [
      "Epoch 10/1000: 100%|██████████| 422/422 [01:17<00:00,  5.43it/s, Loss=1.5880, Acc=0.3741]\n"
     ]
    },
    {
     "name": "stdout",
     "output_type": "stream",
     "text": [
      "Epoch 10/1000: Train Loss: 1.5880, Train Acc: 0.3741\n"
     ]
    },
    {
     "name": "stderr",
     "output_type": "stream",
     "text": [
      "Validation: 100%|██████████| 47/47 [00:02<00:00, 19.50it/s, Loss=1.5577, Acc=0.3930]\n"
     ]
    },
    {
     "name": "stdout",
     "output_type": "stream",
     "text": [
      "Epoch 10/1000: Val Loss: 1.5577, Val Acc: 0.3930, Val F1: 0.3374\n",
      "Current Learning Rate: 3e-05\n",
      "Best model saved at ../Experiment Augment Result/model1_augment_best.pt with accuracy: 0.3930\n"
     ]
    },
    {
     "name": "stderr",
     "output_type": "stream",
     "text": [
      "Epoch 11/1000: 100%|██████████| 422/422 [01:16<00:00,  5.51it/s, Loss=1.5763, Acc=0.3797]\n"
     ]
    },
    {
     "name": "stdout",
     "output_type": "stream",
     "text": [
      "Epoch 11/1000: Train Loss: 1.5763, Train Acc: 0.3797\n"
     ]
    },
    {
     "name": "stderr",
     "output_type": "stream",
     "text": [
      "Validation: 100%|██████████| 47/47 [00:02<00:00, 19.43it/s, Loss=1.5563, Acc=0.3900]\n"
     ]
    },
    {
     "name": "stdout",
     "output_type": "stream",
     "text": [
      "Epoch 11/1000: Val Loss: 1.5563, Val Acc: 0.3900, Val F1: 0.3663\n",
      "Current Learning Rate: 3e-05\n"
     ]
    },
    {
     "name": "stderr",
     "output_type": "stream",
     "text": [
      "Epoch 12/1000: 100%|██████████| 422/422 [01:16<00:00,  5.50it/s, Loss=1.5698, Acc=0.3823]\n"
     ]
    },
    {
     "name": "stdout",
     "output_type": "stream",
     "text": [
      "Epoch 12/1000: Train Loss: 1.5698, Train Acc: 0.3823\n"
     ]
    },
    {
     "name": "stderr",
     "output_type": "stream",
     "text": [
      "Validation: 100%|██████████| 47/47 [00:02<00:00, 19.48it/s, Loss=1.5481, Acc=0.3817]\n"
     ]
    },
    {
     "name": "stdout",
     "output_type": "stream",
     "text": [
      "Epoch 12/1000: Val Loss: 1.5481, Val Acc: 0.3817, Val F1: 0.3245\n",
      "Current Learning Rate: 3e-05\n"
     ]
    },
    {
     "name": "stderr",
     "output_type": "stream",
     "text": [
      "Epoch 13/1000: 100%|██████████| 422/422 [01:16<00:00,  5.49it/s, Loss=1.5613, Acc=0.3856]\n"
     ]
    },
    {
     "name": "stdout",
     "output_type": "stream",
     "text": [
      "Epoch 13/1000: Train Loss: 1.5613, Train Acc: 0.3856\n"
     ]
    },
    {
     "name": "stderr",
     "output_type": "stream",
     "text": [
      "Validation: 100%|██████████| 47/47 [00:02<00:00, 19.47it/s, Loss=1.5333, Acc=0.3957]\n"
     ]
    },
    {
     "name": "stdout",
     "output_type": "stream",
     "text": [
      "Epoch 13/1000: Val Loss: 1.5333, Val Acc: 0.3957, Val F1: 0.3658\n",
      "Current Learning Rate: 3e-05\n",
      "Best model saved at ../Experiment Augment Result/model1_augment_best.pt with accuracy: 0.3957\n"
     ]
    },
    {
     "name": "stderr",
     "output_type": "stream",
     "text": [
      "Epoch 14/1000: 100%|██████████| 422/422 [01:17<00:00,  5.46it/s, Loss=1.5472, Acc=0.3947]\n"
     ]
    },
    {
     "name": "stdout",
     "output_type": "stream",
     "text": [
      "Epoch 14/1000: Train Loss: 1.5472, Train Acc: 0.3947\n"
     ]
    },
    {
     "name": "stderr",
     "output_type": "stream",
     "text": [
      "Validation: 100%|██████████| 47/47 [00:02<00:00, 19.51it/s, Loss=1.5369, Acc=0.3913]\n"
     ]
    },
    {
     "name": "stdout",
     "output_type": "stream",
     "text": [
      "Epoch 14/1000: Val Loss: 1.5369, Val Acc: 0.3913, Val F1: 0.3430\n",
      "Current Learning Rate: 3e-05\n"
     ]
    },
    {
     "name": "stderr",
     "output_type": "stream",
     "text": [
      "Epoch 15/1000: 100%|██████████| 422/422 [01:17<00:00,  5.44it/s, Loss=1.5432, Acc=0.3942]\n"
     ]
    },
    {
     "name": "stdout",
     "output_type": "stream",
     "text": [
      "Epoch 15/1000: Train Loss: 1.5432, Train Acc: 0.3942\n"
     ]
    },
    {
     "name": "stderr",
     "output_type": "stream",
     "text": [
      "Validation: 100%|██████████| 47/47 [00:02<00:00, 19.51it/s, Loss=1.5124, Acc=0.4023]\n"
     ]
    },
    {
     "name": "stdout",
     "output_type": "stream",
     "text": [
      "Epoch 15/1000: Val Loss: 1.5124, Val Acc: 0.4023, Val F1: 0.3817\n",
      "Current Learning Rate: 3e-05\n",
      "Best model saved at ../Experiment Augment Result/model1_augment_best.pt with accuracy: 0.4023\n"
     ]
    },
    {
     "name": "stderr",
     "output_type": "stream",
     "text": [
      "Epoch 16/1000: 100%|██████████| 422/422 [01:21<00:00,  5.17it/s, Loss=1.5307, Acc=0.4014]\n"
     ]
    },
    {
     "name": "stdout",
     "output_type": "stream",
     "text": [
      "Epoch 16/1000: Train Loss: 1.5307, Train Acc: 0.4014\n"
     ]
    },
    {
     "name": "stderr",
     "output_type": "stream",
     "text": [
      "Validation: 100%|██████████| 47/47 [00:02<00:00, 18.53it/s, Loss=1.5132, Acc=0.4057]\n"
     ]
    },
    {
     "name": "stdout",
     "output_type": "stream",
     "text": [
      "Epoch 16/1000: Val Loss: 1.5132, Val Acc: 0.4057, Val F1: 0.3904\n",
      "Current Learning Rate: 3e-05\n",
      "Best model saved at ../Experiment Augment Result/model1_augment_best.pt with accuracy: 0.4057\n"
     ]
    },
    {
     "name": "stderr",
     "output_type": "stream",
     "text": [
      "Epoch 17/1000: 100%|██████████| 422/422 [01:17<00:00,  5.41it/s, Loss=1.5208, Acc=0.4049]\n"
     ]
    },
    {
     "name": "stdout",
     "output_type": "stream",
     "text": [
      "Epoch 17/1000: Train Loss: 1.5208, Train Acc: 0.4049\n"
     ]
    },
    {
     "name": "stderr",
     "output_type": "stream",
     "text": [
      "Validation: 100%|██████████| 47/47 [00:02<00:00, 19.70it/s, Loss=1.4973, Acc=0.4180]\n"
     ]
    },
    {
     "name": "stdout",
     "output_type": "stream",
     "text": [
      "Epoch 17/1000: Val Loss: 1.4973, Val Acc: 0.4180, Val F1: 0.3914\n",
      "Current Learning Rate: 3e-05\n",
      "Best model saved at ../Experiment Augment Result/model1_augment_best.pt with accuracy: 0.4180\n"
     ]
    },
    {
     "name": "stderr",
     "output_type": "stream",
     "text": [
      "Epoch 18/1000: 100%|██████████| 422/422 [01:16<00:00,  5.50it/s, Loss=1.5096, Acc=0.4125]\n"
     ]
    },
    {
     "name": "stdout",
     "output_type": "stream",
     "text": [
      "Epoch 18/1000: Train Loss: 1.5096, Train Acc: 0.4125\n"
     ]
    },
    {
     "name": "stderr",
     "output_type": "stream",
     "text": [
      "Validation: 100%|██████████| 47/47 [00:02<00:00, 20.23it/s, Loss=1.5026, Acc=0.4107]\n"
     ]
    },
    {
     "name": "stdout",
     "output_type": "stream",
     "text": [
      "Epoch 18/1000: Val Loss: 1.5026, Val Acc: 0.4107, Val F1: 0.3859\n",
      "Current Learning Rate: 3e-05\n"
     ]
    },
    {
     "name": "stderr",
     "output_type": "stream",
     "text": [
      "Epoch 19/1000: 100%|██████████| 422/422 [01:19<00:00,  5.34it/s, Loss=1.5011, Acc=0.4128]\n"
     ]
    },
    {
     "name": "stdout",
     "output_type": "stream",
     "text": [
      "Epoch 19/1000: Train Loss: 1.5011, Train Acc: 0.4128\n"
     ]
    },
    {
     "name": "stderr",
     "output_type": "stream",
     "text": [
      "Validation: 100%|██████████| 47/47 [00:02<00:00, 20.24it/s, Loss=1.4789, Acc=0.4140]\n"
     ]
    },
    {
     "name": "stdout",
     "output_type": "stream",
     "text": [
      "Epoch 19/1000: Val Loss: 1.4789, Val Acc: 0.4140, Val F1: 0.3728\n",
      "Current Learning Rate: 3e-05\n"
     ]
    },
    {
     "name": "stderr",
     "output_type": "stream",
     "text": [
      "Epoch 20/1000: 100%|██████████| 422/422 [01:16<00:00,  5.50it/s, Loss=1.4886, Acc=0.4218]\n"
     ]
    },
    {
     "name": "stdout",
     "output_type": "stream",
     "text": [
      "Epoch 20/1000: Train Loss: 1.4886, Train Acc: 0.4218\n"
     ]
    },
    {
     "name": "stderr",
     "output_type": "stream",
     "text": [
      "Validation: 100%|██████████| 47/47 [00:02<00:00, 20.29it/s, Loss=1.4632, Acc=0.4297]\n"
     ]
    },
    {
     "name": "stdout",
     "output_type": "stream",
     "text": [
      "Epoch 20/1000: Val Loss: 1.4632, Val Acc: 0.4297, Val F1: 0.3992\n",
      "Current Learning Rate: 3e-05\n",
      "Best model saved at ../Experiment Augment Result/model1_augment_best.pt with accuracy: 0.4297\n"
     ]
    },
    {
     "name": "stderr",
     "output_type": "stream",
     "text": [
      "Epoch 21/1000: 100%|██████████| 422/422 [01:18<00:00,  5.36it/s, Loss=1.4794, Acc=0.4231]\n"
     ]
    },
    {
     "name": "stdout",
     "output_type": "stream",
     "text": [
      "Epoch 21/1000: Train Loss: 1.4794, Train Acc: 0.4231\n"
     ]
    },
    {
     "name": "stderr",
     "output_type": "stream",
     "text": [
      "Validation: 100%|██████████| 47/47 [00:02<00:00, 20.26it/s, Loss=1.4771, Acc=0.4110]\n"
     ]
    },
    {
     "name": "stdout",
     "output_type": "stream",
     "text": [
      "Epoch 21/1000: Val Loss: 1.4771, Val Acc: 0.4110, Val F1: 0.4052\n",
      "Current Learning Rate: 3e-05\n"
     ]
    },
    {
     "name": "stderr",
     "output_type": "stream",
     "text": [
      "Epoch 22/1000: 100%|██████████| 422/422 [01:19<00:00,  5.34it/s, Loss=1.4731, Acc=0.4280]\n"
     ]
    },
    {
     "name": "stdout",
     "output_type": "stream",
     "text": [
      "Epoch 22/1000: Train Loss: 1.4731, Train Acc: 0.4280\n"
     ]
    },
    {
     "name": "stderr",
     "output_type": "stream",
     "text": [
      "Validation: 100%|██████████| 47/47 [00:02<00:00, 20.07it/s, Loss=1.4488, Acc=0.4307]\n"
     ]
    },
    {
     "name": "stdout",
     "output_type": "stream",
     "text": [
      "Epoch 22/1000: Val Loss: 1.4488, Val Acc: 0.4307, Val F1: 0.4025\n",
      "Current Learning Rate: 3e-05\n",
      "Best model saved at ../Experiment Augment Result/model1_augment_best.pt with accuracy: 0.4307\n"
     ]
    },
    {
     "name": "stderr",
     "output_type": "stream",
     "text": [
      "Epoch 23/1000: 100%|██████████| 422/422 [01:20<00:00,  5.24it/s, Loss=1.4588, Acc=0.4311]\n"
     ]
    },
    {
     "name": "stdout",
     "output_type": "stream",
     "text": [
      "Epoch 23/1000: Train Loss: 1.4588, Train Acc: 0.4311\n"
     ]
    },
    {
     "name": "stderr",
     "output_type": "stream",
     "text": [
      "Validation: 100%|██████████| 47/47 [00:02<00:00, 17.77it/s, Loss=1.4532, Acc=0.4260]\n"
     ]
    },
    {
     "name": "stdout",
     "output_type": "stream",
     "text": [
      "Epoch 23/1000: Val Loss: 1.4532, Val Acc: 0.4260, Val F1: 0.3999\n",
      "Current Learning Rate: 3e-05\n"
     ]
    },
    {
     "name": "stderr",
     "output_type": "stream",
     "text": [
      "Epoch 24/1000: 100%|██████████| 422/422 [01:17<00:00,  5.44it/s, Loss=1.4545, Acc=0.4330]\n"
     ]
    },
    {
     "name": "stdout",
     "output_type": "stream",
     "text": [
      "Epoch 24/1000: Train Loss: 1.4545, Train Acc: 0.4330\n"
     ]
    },
    {
     "name": "stderr",
     "output_type": "stream",
     "text": [
      "Validation: 100%|██████████| 47/47 [00:02<00:00, 20.30it/s, Loss=1.4335, Acc=0.4397]\n"
     ]
    },
    {
     "name": "stdout",
     "output_type": "stream",
     "text": [
      "Epoch 24/1000: Val Loss: 1.4335, Val Acc: 0.4397, Val F1: 0.4303\n",
      "Current Learning Rate: 3e-05\n",
      "Best model saved at ../Experiment Augment Result/model1_augment_best.pt with accuracy: 0.4397\n"
     ]
    },
    {
     "name": "stderr",
     "output_type": "stream",
     "text": [
      "Epoch 25/1000: 100%|██████████| 422/422 [01:15<00:00,  5.56it/s, Loss=1.4427, Acc=0.4387]\n"
     ]
    },
    {
     "name": "stdout",
     "output_type": "stream",
     "text": [
      "Epoch 25/1000: Train Loss: 1.4427, Train Acc: 0.4387\n"
     ]
    },
    {
     "name": "stderr",
     "output_type": "stream",
     "text": [
      "Validation: 100%|██████████| 47/47 [00:02<00:00, 20.31it/s, Loss=1.4202, Acc=0.4480]\n"
     ]
    },
    {
     "name": "stdout",
     "output_type": "stream",
     "text": [
      "Epoch 25/1000: Val Loss: 1.4202, Val Acc: 0.4480, Val F1: 0.4335\n",
      "Current Learning Rate: 3e-05\n",
      "Best model saved at ../Experiment Augment Result/model1_augment_best.pt with accuracy: 0.4480\n"
     ]
    },
    {
     "name": "stderr",
     "output_type": "stream",
     "text": [
      "Epoch 26/1000: 100%|██████████| 422/422 [01:15<00:00,  5.55it/s, Loss=1.4336, Acc=0.4413]\n"
     ]
    },
    {
     "name": "stdout",
     "output_type": "stream",
     "text": [
      "Epoch 26/1000: Train Loss: 1.4336, Train Acc: 0.4413\n"
     ]
    },
    {
     "name": "stderr",
     "output_type": "stream",
     "text": [
      "Validation: 100%|██████████| 47/47 [00:02<00:00, 20.28it/s, Loss=1.4177, Acc=0.4560]\n"
     ]
    },
    {
     "name": "stdout",
     "output_type": "stream",
     "text": [
      "Epoch 26/1000: Val Loss: 1.4177, Val Acc: 0.4560, Val F1: 0.4298\n",
      "Current Learning Rate: 3e-05\n",
      "Best model saved at ../Experiment Augment Result/model1_augment_best.pt with accuracy: 0.4560\n"
     ]
    },
    {
     "name": "stderr",
     "output_type": "stream",
     "text": [
      "Epoch 27/1000: 100%|██████████| 422/422 [01:18<00:00,  5.40it/s, Loss=1.4276, Acc=0.4430]\n"
     ]
    },
    {
     "name": "stdout",
     "output_type": "stream",
     "text": [
      "Epoch 27/1000: Train Loss: 1.4276, Train Acc: 0.4430\n"
     ]
    },
    {
     "name": "stderr",
     "output_type": "stream",
     "text": [
      "Validation: 100%|██████████| 47/47 [00:02<00:00, 20.27it/s, Loss=1.4191, Acc=0.4477]\n"
     ]
    },
    {
     "name": "stdout",
     "output_type": "stream",
     "text": [
      "Epoch 27/1000: Val Loss: 1.4191, Val Acc: 0.4477, Val F1: 0.4274\n",
      "Current Learning Rate: 3e-05\n"
     ]
    },
    {
     "name": "stderr",
     "output_type": "stream",
     "text": [
      "Epoch 28/1000: 100%|██████████| 422/422 [01:16<00:00,  5.53it/s, Loss=1.4148, Acc=0.4492]\n"
     ]
    },
    {
     "name": "stdout",
     "output_type": "stream",
     "text": [
      "Epoch 28/1000: Train Loss: 1.4148, Train Acc: 0.4492\n"
     ]
    },
    {
     "name": "stderr",
     "output_type": "stream",
     "text": [
      "Validation: 100%|██████████| 47/47 [00:02<00:00, 20.27it/s, Loss=1.4132, Acc=0.4443]\n"
     ]
    },
    {
     "name": "stdout",
     "output_type": "stream",
     "text": [
      "Epoch 28/1000: Val Loss: 1.4132, Val Acc: 0.4443, Val F1: 0.4211\n",
      "Current Learning Rate: 3e-05\n"
     ]
    },
    {
     "name": "stderr",
     "output_type": "stream",
     "text": [
      "Epoch 29/1000: 100%|██████████| 422/422 [01:16<00:00,  5.49it/s, Loss=1.4077, Acc=0.4538]\n"
     ]
    },
    {
     "name": "stdout",
     "output_type": "stream",
     "text": [
      "Epoch 29/1000: Train Loss: 1.4077, Train Acc: 0.4538\n"
     ]
    },
    {
     "name": "stderr",
     "output_type": "stream",
     "text": [
      "Validation: 100%|██████████| 47/47 [00:02<00:00, 20.25it/s, Loss=1.4172, Acc=0.4460]\n"
     ]
    },
    {
     "name": "stdout",
     "output_type": "stream",
     "text": [
      "Epoch 29/1000: Val Loss: 1.4172, Val Acc: 0.4460, Val F1: 0.4298\n",
      "Current Learning Rate: 3e-05\n"
     ]
    },
    {
     "name": "stderr",
     "output_type": "stream",
     "text": [
      "Epoch 30/1000: 100%|██████████| 422/422 [01:17<00:00,  5.47it/s, Loss=1.3958, Acc=0.4595]\n"
     ]
    },
    {
     "name": "stdout",
     "output_type": "stream",
     "text": [
      "Epoch 30/1000: Train Loss: 1.3958, Train Acc: 0.4595\n"
     ]
    },
    {
     "name": "stderr",
     "output_type": "stream",
     "text": [
      "Validation: 100%|██████████| 47/47 [00:02<00:00, 19.46it/s, Loss=1.4094, Acc=0.4483]\n"
     ]
    },
    {
     "name": "stdout",
     "output_type": "stream",
     "text": [
      "Epoch 30/1000: Val Loss: 1.4094, Val Acc: 0.4483, Val F1: 0.4183\n",
      "Current Learning Rate: 3e-05\n"
     ]
    },
    {
     "name": "stderr",
     "output_type": "stream",
     "text": [
      "Epoch 31/1000: 100%|██████████| 422/422 [01:18<00:00,  5.37it/s, Loss=1.3897, Acc=0.4632]\n"
     ]
    },
    {
     "name": "stdout",
     "output_type": "stream",
     "text": [
      "Epoch 31/1000: Train Loss: 1.3897, Train Acc: 0.4632\n"
     ]
    },
    {
     "name": "stderr",
     "output_type": "stream",
     "text": [
      "Validation: 100%|██████████| 47/47 [00:02<00:00, 19.42it/s, Loss=1.3992, Acc=0.4483]\n"
     ]
    },
    {
     "name": "stdout",
     "output_type": "stream",
     "text": [
      "Epoch 31/1000: Val Loss: 1.3992, Val Acc: 0.4483, Val F1: 0.4422\n",
      "Current Learning Rate: 3e-05\n"
     ]
    },
    {
     "name": "stderr",
     "output_type": "stream",
     "text": [
      "Epoch 32/1000: 100%|██████████| 422/422 [01:18<00:00,  5.40it/s, Loss=1.3830, Acc=0.4666]\n"
     ]
    },
    {
     "name": "stdout",
     "output_type": "stream",
     "text": [
      "Epoch 32/1000: Train Loss: 1.3830, Train Acc: 0.4666\n"
     ]
    },
    {
     "name": "stderr",
     "output_type": "stream",
     "text": [
      "Validation: 100%|██████████| 47/47 [00:02<00:00, 19.50it/s, Loss=1.4004, Acc=0.4440]\n"
     ]
    },
    {
     "name": "stdout",
     "output_type": "stream",
     "text": [
      "Epoch 32/1000: Val Loss: 1.4004, Val Acc: 0.4440, Val F1: 0.4395\n",
      "Current Learning Rate: 3e-05\n"
     ]
    },
    {
     "name": "stderr",
     "output_type": "stream",
     "text": [
      "Epoch 33/1000: 100%|██████████| 422/422 [01:18<00:00,  5.40it/s, Loss=1.3723, Acc=0.4652]\n"
     ]
    },
    {
     "name": "stdout",
     "output_type": "stream",
     "text": [
      "Epoch 33/1000: Train Loss: 1.3723, Train Acc: 0.4652\n"
     ]
    },
    {
     "name": "stderr",
     "output_type": "stream",
     "text": [
      "Validation: 100%|██████████| 47/47 [00:02<00:00, 19.46it/s, Loss=1.3875, Acc=0.4623]\n"
     ]
    },
    {
     "name": "stdout",
     "output_type": "stream",
     "text": [
      "Epoch 33/1000: Val Loss: 1.3875, Val Acc: 0.4623, Val F1: 0.4525\n",
      "Current Learning Rate: 3e-05\n",
      "Best model saved at ../Experiment Augment Result/model1_augment_best.pt with accuracy: 0.4623\n"
     ]
    },
    {
     "name": "stderr",
     "output_type": "stream",
     "text": [
      "Epoch 34/1000: 100%|██████████| 422/422 [01:18<00:00,  5.36it/s, Loss=1.3717, Acc=0.4702]\n"
     ]
    },
    {
     "name": "stdout",
     "output_type": "stream",
     "text": [
      "Epoch 34/1000: Train Loss: 1.3717, Train Acc: 0.4702\n"
     ]
    },
    {
     "name": "stderr",
     "output_type": "stream",
     "text": [
      "Validation: 100%|██████████| 47/47 [00:02<00:00, 19.46it/s, Loss=1.3824, Acc=0.4627]\n"
     ]
    },
    {
     "name": "stdout",
     "output_type": "stream",
     "text": [
      "Epoch 34/1000: Val Loss: 1.3824, Val Acc: 0.4627, Val F1: 0.4527\n",
      "Current Learning Rate: 3e-05\n",
      "Best model saved at ../Experiment Augment Result/model1_augment_best.pt with accuracy: 0.4627\n"
     ]
    },
    {
     "name": "stderr",
     "output_type": "stream",
     "text": [
      "Epoch 35/1000: 100%|██████████| 422/422 [01:18<00:00,  5.41it/s, Loss=1.3637, Acc=0.4716]\n"
     ]
    },
    {
     "name": "stdout",
     "output_type": "stream",
     "text": [
      "Epoch 35/1000: Train Loss: 1.3637, Train Acc: 0.4716\n"
     ]
    },
    {
     "name": "stderr",
     "output_type": "stream",
     "text": [
      "Validation: 100%|██████████| 47/47 [00:02<00:00, 19.46it/s, Loss=1.3746, Acc=0.4763]\n"
     ]
    },
    {
     "name": "stdout",
     "output_type": "stream",
     "text": [
      "Epoch 35/1000: Val Loss: 1.3746, Val Acc: 0.4763, Val F1: 0.4559\n",
      "Current Learning Rate: 3e-05\n",
      "Best model saved at ../Experiment Augment Result/model1_augment_best.pt with accuracy: 0.4763\n"
     ]
    },
    {
     "name": "stderr",
     "output_type": "stream",
     "text": [
      "Epoch 36/1000: 100%|██████████| 422/422 [01:18<00:00,  5.38it/s, Loss=1.3540, Acc=0.4736]\n"
     ]
    },
    {
     "name": "stdout",
     "output_type": "stream",
     "text": [
      "Epoch 36/1000: Train Loss: 1.3540, Train Acc: 0.4736\n"
     ]
    },
    {
     "name": "stderr",
     "output_type": "stream",
     "text": [
      "Validation: 100%|██████████| 47/47 [00:02<00:00, 19.38it/s, Loss=1.3831, Acc=0.4543]\n"
     ]
    },
    {
     "name": "stdout",
     "output_type": "stream",
     "text": [
      "Epoch 36/1000: Val Loss: 1.3831, Val Acc: 0.4543, Val F1: 0.4461\n",
      "Current Learning Rate: 3e-05\n"
     ]
    },
    {
     "name": "stderr",
     "output_type": "stream",
     "text": [
      "Epoch 37/1000: 100%|██████████| 422/422 [01:18<00:00,  5.37it/s, Loss=1.3514, Acc=0.4737]\n"
     ]
    },
    {
     "name": "stdout",
     "output_type": "stream",
     "text": [
      "Epoch 37/1000: Train Loss: 1.3514, Train Acc: 0.4737\n"
     ]
    },
    {
     "name": "stderr",
     "output_type": "stream",
     "text": [
      "Validation: 100%|██████████| 47/47 [00:02<00:00, 19.21it/s, Loss=1.3798, Acc=0.4720]\n"
     ]
    },
    {
     "name": "stdout",
     "output_type": "stream",
     "text": [
      "Epoch 37/1000: Val Loss: 1.3798, Val Acc: 0.4720, Val F1: 0.4596\n",
      "Current Learning Rate: 3e-05\n"
     ]
    },
    {
     "name": "stderr",
     "output_type": "stream",
     "text": [
      "Epoch 38/1000: 100%|██████████| 422/422 [01:19<00:00,  5.33it/s, Loss=1.3442, Acc=0.4802]\n"
     ]
    },
    {
     "name": "stdout",
     "output_type": "stream",
     "text": [
      "Epoch 38/1000: Train Loss: 1.3442, Train Acc: 0.4802\n"
     ]
    },
    {
     "name": "stderr",
     "output_type": "stream",
     "text": [
      "Validation: 100%|██████████| 47/47 [00:02<00:00, 19.40it/s, Loss=1.3735, Acc=0.4663]\n"
     ]
    },
    {
     "name": "stdout",
     "output_type": "stream",
     "text": [
      "Epoch 38/1000: Val Loss: 1.3735, Val Acc: 0.4663, Val F1: 0.4436\n",
      "Current Learning Rate: 3e-05\n"
     ]
    },
    {
     "name": "stderr",
     "output_type": "stream",
     "text": [
      "Epoch 39/1000: 100%|██████████| 422/422 [01:22<00:00,  5.12it/s, Loss=1.3316, Acc=0.4850]\n"
     ]
    },
    {
     "name": "stdout",
     "output_type": "stream",
     "text": [
      "Epoch 39/1000: Train Loss: 1.3316, Train Acc: 0.4850\n"
     ]
    },
    {
     "name": "stderr",
     "output_type": "stream",
     "text": [
      "Validation: 100%|██████████| 47/47 [00:02<00:00, 19.04it/s, Loss=1.3510, Acc=0.4763]\n"
     ]
    },
    {
     "name": "stdout",
     "output_type": "stream",
     "text": [
      "Epoch 39/1000: Val Loss: 1.3510, Val Acc: 0.4763, Val F1: 0.4632\n",
      "Current Learning Rate: 3e-05\n"
     ]
    },
    {
     "name": "stderr",
     "output_type": "stream",
     "text": [
      "Epoch 40/1000: 100%|██████████| 422/422 [01:17<00:00,  5.44it/s, Loss=1.3281, Acc=0.4868]\n"
     ]
    },
    {
     "name": "stdout",
     "output_type": "stream",
     "text": [
      "Epoch 40/1000: Train Loss: 1.3281, Train Acc: 0.4868\n"
     ]
    },
    {
     "name": "stderr",
     "output_type": "stream",
     "text": [
      "Validation: 100%|██████████| 47/47 [00:02<00:00, 19.24it/s, Loss=1.3536, Acc=0.4783]\n"
     ]
    },
    {
     "name": "stdout",
     "output_type": "stream",
     "text": [
      "Epoch 40/1000: Val Loss: 1.3536, Val Acc: 0.4783, Val F1: 0.4614\n",
      "Current Learning Rate: 3e-05\n",
      "Best model saved at ../Experiment Augment Result/model1_augment_best.pt with accuracy: 0.4783\n"
     ]
    },
    {
     "name": "stderr",
     "output_type": "stream",
     "text": [
      "Epoch 41/1000: 100%|██████████| 422/422 [01:20<00:00,  5.25it/s, Loss=1.3220, Acc=0.4878]\n"
     ]
    },
    {
     "name": "stdout",
     "output_type": "stream",
     "text": [
      "Epoch 41/1000: Train Loss: 1.3220, Train Acc: 0.4878\n"
     ]
    },
    {
     "name": "stderr",
     "output_type": "stream",
     "text": [
      "Validation: 100%|██████████| 47/47 [00:02<00:00, 19.12it/s, Loss=1.3701, Acc=0.4683]\n"
     ]
    },
    {
     "name": "stdout",
     "output_type": "stream",
     "text": [
      "Epoch 41/1000: Val Loss: 1.3701, Val Acc: 0.4683, Val F1: 0.4629\n",
      "Current Learning Rate: 3e-05\n"
     ]
    },
    {
     "name": "stderr",
     "output_type": "stream",
     "text": [
      "Epoch 42/1000: 100%|██████████| 422/422 [01:18<00:00,  5.36it/s, Loss=1.3135, Acc=0.4928]\n"
     ]
    },
    {
     "name": "stdout",
     "output_type": "stream",
     "text": [
      "Epoch 42/1000: Train Loss: 1.3135, Train Acc: 0.4928\n"
     ]
    },
    {
     "name": "stderr",
     "output_type": "stream",
     "text": [
      "Validation: 100%|██████████| 47/47 [00:02<00:00, 20.10it/s, Loss=1.3491, Acc=0.4793]\n"
     ]
    },
    {
     "name": "stdout",
     "output_type": "stream",
     "text": [
      "Epoch 42/1000: Val Loss: 1.3491, Val Acc: 0.4793, Val F1: 0.4780\n",
      "Current Learning Rate: 3e-05\n",
      "Best model saved at ../Experiment Augment Result/model1_augment_best.pt with accuracy: 0.4793\n"
     ]
    },
    {
     "name": "stderr",
     "output_type": "stream",
     "text": [
      "Epoch 43/1000: 100%|██████████| 422/422 [01:18<00:00,  5.38it/s, Loss=1.3082, Acc=0.4941]\n"
     ]
    },
    {
     "name": "stdout",
     "output_type": "stream",
     "text": [
      "Epoch 43/1000: Train Loss: 1.3082, Train Acc: 0.4941\n"
     ]
    },
    {
     "name": "stderr",
     "output_type": "stream",
     "text": [
      "Validation: 100%|██████████| 47/47 [00:02<00:00, 19.49it/s, Loss=1.3512, Acc=0.4740]\n"
     ]
    },
    {
     "name": "stdout",
     "output_type": "stream",
     "text": [
      "Epoch 43/1000: Val Loss: 1.3512, Val Acc: 0.4740, Val F1: 0.4699\n",
      "Current Learning Rate: 3e-05\n"
     ]
    },
    {
     "name": "stderr",
     "output_type": "stream",
     "text": [
      "Epoch 44/1000: 100%|██████████| 422/422 [01:17<00:00,  5.48it/s, Loss=1.2972, Acc=0.4979]\n"
     ]
    },
    {
     "name": "stdout",
     "output_type": "stream",
     "text": [
      "Epoch 44/1000: Train Loss: 1.2972, Train Acc: 0.4979\n"
     ]
    },
    {
     "name": "stderr",
     "output_type": "stream",
     "text": [
      "Validation: 100%|██████████| 47/47 [00:02<00:00, 19.43it/s, Loss=1.3430, Acc=0.4900]\n"
     ]
    },
    {
     "name": "stdout",
     "output_type": "stream",
     "text": [
      "Epoch 44/1000: Val Loss: 1.3430, Val Acc: 0.4900, Val F1: 0.4832\n",
      "Current Learning Rate: 3e-05\n",
      "Best model saved at ../Experiment Augment Result/model1_augment_best.pt with accuracy: 0.4900\n"
     ]
    },
    {
     "name": "stderr",
     "output_type": "stream",
     "text": [
      "Epoch 45/1000: 100%|██████████| 422/422 [01:20<00:00,  5.24it/s, Loss=1.2963, Acc=0.4963]\n"
     ]
    },
    {
     "name": "stdout",
     "output_type": "stream",
     "text": [
      "Epoch 45/1000: Train Loss: 1.2963, Train Acc: 0.4963\n"
     ]
    },
    {
     "name": "stderr",
     "output_type": "stream",
     "text": [
      "Validation: 100%|██████████| 47/47 [00:02<00:00, 18.45it/s, Loss=1.3358, Acc=0.4907]\n"
     ]
    },
    {
     "name": "stdout",
     "output_type": "stream",
     "text": [
      "Epoch 45/1000: Val Loss: 1.3358, Val Acc: 0.4907, Val F1: 0.4759\n",
      "Current Learning Rate: 3e-05\n",
      "Best model saved at ../Experiment Augment Result/model1_augment_best.pt with accuracy: 0.4907\n"
     ]
    },
    {
     "name": "stderr",
     "output_type": "stream",
     "text": [
      "Epoch 46/1000: 100%|██████████| 422/422 [01:17<00:00,  5.42it/s, Loss=1.2861, Acc=0.5057]\n"
     ]
    },
    {
     "name": "stdout",
     "output_type": "stream",
     "text": [
      "Epoch 46/1000: Train Loss: 1.2861, Train Acc: 0.5057\n"
     ]
    },
    {
     "name": "stderr",
     "output_type": "stream",
     "text": [
      "Validation: 100%|██████████| 47/47 [00:02<00:00, 19.48it/s, Loss=1.3458, Acc=0.4857]\n"
     ]
    },
    {
     "name": "stdout",
     "output_type": "stream",
     "text": [
      "Epoch 46/1000: Val Loss: 1.3458, Val Acc: 0.4857, Val F1: 0.4729\n",
      "Current Learning Rate: 3e-05\n"
     ]
    },
    {
     "name": "stderr",
     "output_type": "stream",
     "text": [
      "Epoch 47/1000: 100%|██████████| 422/422 [01:17<00:00,  5.47it/s, Loss=1.2800, Acc=0.5057]\n"
     ]
    },
    {
     "name": "stdout",
     "output_type": "stream",
     "text": [
      "Epoch 47/1000: Train Loss: 1.2800, Train Acc: 0.5057\n"
     ]
    },
    {
     "name": "stderr",
     "output_type": "stream",
     "text": [
      "Validation: 100%|██████████| 47/47 [00:02<00:00, 19.46it/s, Loss=1.3421, Acc=0.4883]\n"
     ]
    },
    {
     "name": "stdout",
     "output_type": "stream",
     "text": [
      "Epoch 47/1000: Val Loss: 1.3421, Val Acc: 0.4883, Val F1: 0.4682\n",
      "Current Learning Rate: 3e-05\n"
     ]
    },
    {
     "name": "stderr",
     "output_type": "stream",
     "text": [
      "Epoch 48/1000: 100%|██████████| 422/422 [01:17<00:00,  5.44it/s, Loss=1.2730, Acc=0.5109]\n"
     ]
    },
    {
     "name": "stdout",
     "output_type": "stream",
     "text": [
      "Epoch 48/1000: Train Loss: 1.2730, Train Acc: 0.5109\n"
     ]
    },
    {
     "name": "stderr",
     "output_type": "stream",
     "text": [
      "Validation: 100%|██████████| 47/47 [00:02<00:00, 19.01it/s, Loss=1.3207, Acc=0.4873]\n"
     ]
    },
    {
     "name": "stdout",
     "output_type": "stream",
     "text": [
      "Epoch 48/1000: Val Loss: 1.3207, Val Acc: 0.4873, Val F1: 0.4690\n",
      "Current Learning Rate: 3e-05\n"
     ]
    },
    {
     "name": "stderr",
     "output_type": "stream",
     "text": [
      "Epoch 49/1000: 100%|██████████| 422/422 [01:20<00:00,  5.24it/s, Loss=1.2663, Acc=0.5128]\n"
     ]
    },
    {
     "name": "stdout",
     "output_type": "stream",
     "text": [
      "Epoch 49/1000: Train Loss: 1.2663, Train Acc: 0.5128\n"
     ]
    },
    {
     "name": "stderr",
     "output_type": "stream",
     "text": [
      "Validation: 100%|██████████| 47/47 [00:02<00:00, 19.49it/s, Loss=1.3305, Acc=0.4877]\n"
     ]
    },
    {
     "name": "stdout",
     "output_type": "stream",
     "text": [
      "Epoch 49/1000: Val Loss: 1.3305, Val Acc: 0.4877, Val F1: 0.4835\n",
      "Current Learning Rate: 3e-05\n"
     ]
    },
    {
     "name": "stderr",
     "output_type": "stream",
     "text": [
      "Epoch 50/1000: 100%|██████████| 422/422 [01:18<00:00,  5.37it/s, Loss=1.2657, Acc=0.5113]\n"
     ]
    },
    {
     "name": "stdout",
     "output_type": "stream",
     "text": [
      "Epoch 50/1000: Train Loss: 1.2657, Train Acc: 0.5113\n"
     ]
    },
    {
     "name": "stderr",
     "output_type": "stream",
     "text": [
      "Validation: 100%|██████████| 47/47 [00:02<00:00, 19.06it/s, Loss=1.3043, Acc=0.5037]\n"
     ]
    },
    {
     "name": "stdout",
     "output_type": "stream",
     "text": [
      "Epoch 50/1000: Val Loss: 1.3043, Val Acc: 0.5037, Val F1: 0.4940\n",
      "Current Learning Rate: 3e-05\n",
      "Best model saved at ../Experiment Augment Result/model1_augment_best.pt with accuracy: 0.5037\n"
     ]
    },
    {
     "name": "stderr",
     "output_type": "stream",
     "text": [
      "Epoch 51/1000: 100%|██████████| 422/422 [01:18<00:00,  5.39it/s, Loss=1.2571, Acc=0.5166]\n"
     ]
    },
    {
     "name": "stdout",
     "output_type": "stream",
     "text": [
      "Epoch 51/1000: Train Loss: 1.2571, Train Acc: 0.5166\n"
     ]
    },
    {
     "name": "stderr",
     "output_type": "stream",
     "text": [
      "Validation: 100%|██████████| 47/47 [00:02<00:00, 18.80it/s, Loss=1.3073, Acc=0.5020]\n"
     ]
    },
    {
     "name": "stdout",
     "output_type": "stream",
     "text": [
      "Epoch 51/1000: Val Loss: 1.3073, Val Acc: 0.5020, Val F1: 0.4920\n",
      "Current Learning Rate: 3e-05\n"
     ]
    },
    {
     "name": "stderr",
     "output_type": "stream",
     "text": [
      "Epoch 52/1000: 100%|██████████| 422/422 [01:17<00:00,  5.44it/s, Loss=1.2532, Acc=0.5152]\n"
     ]
    },
    {
     "name": "stdout",
     "output_type": "stream",
     "text": [
      "Epoch 52/1000: Train Loss: 1.2532, Train Acc: 0.5152\n"
     ]
    },
    {
     "name": "stderr",
     "output_type": "stream",
     "text": [
      "Validation: 100%|██████████| 47/47 [00:02<00:00, 19.51it/s, Loss=1.3314, Acc=0.4903]\n"
     ]
    },
    {
     "name": "stdout",
     "output_type": "stream",
     "text": [
      "Epoch 52/1000: Val Loss: 1.3314, Val Acc: 0.4903, Val F1: 0.4887\n",
      "Current Learning Rate: 3e-05\n"
     ]
    },
    {
     "name": "stderr",
     "output_type": "stream",
     "text": [
      "Epoch 53/1000: 100%|██████████| 422/422 [01:19<00:00,  5.28it/s, Loss=1.2447, Acc=0.5223]\n"
     ]
    },
    {
     "name": "stdout",
     "output_type": "stream",
     "text": [
      "Epoch 53/1000: Train Loss: 1.2447, Train Acc: 0.5223\n"
     ]
    },
    {
     "name": "stderr",
     "output_type": "stream",
     "text": [
      "Validation: 100%|██████████| 47/47 [00:02<00:00, 19.06it/s, Loss=1.3300, Acc=0.4947]\n"
     ]
    },
    {
     "name": "stdout",
     "output_type": "stream",
     "text": [
      "Epoch 53/1000: Val Loss: 1.3300, Val Acc: 0.4947, Val F1: 0.4872\n",
      "Current Learning Rate: 3e-05\n"
     ]
    },
    {
     "name": "stderr",
     "output_type": "stream",
     "text": [
      "Epoch 54/1000: 100%|██████████| 422/422 [01:19<00:00,  5.32it/s, Loss=1.2433, Acc=0.5217]\n"
     ]
    },
    {
     "name": "stdout",
     "output_type": "stream",
     "text": [
      "Epoch 54/1000: Train Loss: 1.2433, Train Acc: 0.5217\n"
     ]
    },
    {
     "name": "stderr",
     "output_type": "stream",
     "text": [
      "Validation: 100%|██████████| 47/47 [00:02<00:00, 19.51it/s, Loss=1.3095, Acc=0.4970]\n"
     ]
    },
    {
     "name": "stdout",
     "output_type": "stream",
     "text": [
      "Epoch 54/1000: Val Loss: 1.3095, Val Acc: 0.4970, Val F1: 0.4861\n",
      "Current Learning Rate: 3e-05\n"
     ]
    },
    {
     "name": "stderr",
     "output_type": "stream",
     "text": [
      "Epoch 55/1000: 100%|██████████| 422/422 [01:18<00:00,  5.40it/s, Loss=1.2264, Acc=0.5286]\n"
     ]
    },
    {
     "name": "stdout",
     "output_type": "stream",
     "text": [
      "Epoch 55/1000: Train Loss: 1.2264, Train Acc: 0.5286\n"
     ]
    },
    {
     "name": "stderr",
     "output_type": "stream",
     "text": [
      "Validation: 100%|██████████| 47/47 [00:02<00:00, 19.50it/s, Loss=1.3198, Acc=0.4903]\n"
     ]
    },
    {
     "name": "stdout",
     "output_type": "stream",
     "text": [
      "Epoch 55/1000: Val Loss: 1.3198, Val Acc: 0.4903, Val F1: 0.4869\n",
      "Current Learning Rate: 3e-05\n"
     ]
    },
    {
     "name": "stderr",
     "output_type": "stream",
     "text": [
      "Epoch 56/1000: 100%|██████████| 422/422 [01:16<00:00,  5.48it/s, Loss=1.2287, Acc=0.5273]\n"
     ]
    },
    {
     "name": "stdout",
     "output_type": "stream",
     "text": [
      "Epoch 56/1000: Train Loss: 1.2287, Train Acc: 0.5273\n"
     ]
    },
    {
     "name": "stderr",
     "output_type": "stream",
     "text": [
      "Validation: 100%|██████████| 47/47 [00:02<00:00, 19.43it/s, Loss=1.2948, Acc=0.5080]\n"
     ]
    },
    {
     "name": "stdout",
     "output_type": "stream",
     "text": [
      "Epoch 56/1000: Val Loss: 1.2948, Val Acc: 0.5080, Val F1: 0.4970\n",
      "Current Learning Rate: 3e-05\n",
      "Best model saved at ../Experiment Augment Result/model1_augment_best.pt with accuracy: 0.5080\n"
     ]
    },
    {
     "name": "stderr",
     "output_type": "stream",
     "text": [
      "Epoch 57/1000: 100%|██████████| 422/422 [01:17<00:00,  5.44it/s, Loss=1.2152, Acc=0.5328]\n"
     ]
    },
    {
     "name": "stdout",
     "output_type": "stream",
     "text": [
      "Epoch 57/1000: Train Loss: 1.2152, Train Acc: 0.5328\n"
     ]
    },
    {
     "name": "stderr",
     "output_type": "stream",
     "text": [
      "Validation: 100%|██████████| 47/47 [00:02<00:00, 19.39it/s, Loss=1.3158, Acc=0.5000]\n"
     ]
    },
    {
     "name": "stdout",
     "output_type": "stream",
     "text": [
      "Epoch 57/1000: Val Loss: 1.3158, Val Acc: 0.5000, Val F1: 0.4944\n",
      "Current Learning Rate: 3e-05\n"
     ]
    },
    {
     "name": "stderr",
     "output_type": "stream",
     "text": [
      "Epoch 58/1000: 100%|██████████| 422/422 [01:21<00:00,  5.16it/s, Loss=1.2096, Acc=0.5343]\n"
     ]
    },
    {
     "name": "stdout",
     "output_type": "stream",
     "text": [
      "Epoch 58/1000: Train Loss: 1.2096, Train Acc: 0.5343\n"
     ]
    },
    {
     "name": "stderr",
     "output_type": "stream",
     "text": [
      "Validation: 100%|██████████| 47/47 [00:02<00:00, 19.43it/s, Loss=1.2953, Acc=0.4993]\n"
     ]
    },
    {
     "name": "stdout",
     "output_type": "stream",
     "text": [
      "Epoch 58/1000: Val Loss: 1.2953, Val Acc: 0.4993, Val F1: 0.4867\n",
      "Current Learning Rate: 3e-05\n"
     ]
    },
    {
     "name": "stderr",
     "output_type": "stream",
     "text": [
      "Epoch 59/1000: 100%|██████████| 422/422 [01:18<00:00,  5.40it/s, Loss=1.2064, Acc=0.5358]\n"
     ]
    },
    {
     "name": "stdout",
     "output_type": "stream",
     "text": [
      "Epoch 59/1000: Train Loss: 1.2064, Train Acc: 0.5358\n"
     ]
    },
    {
     "name": "stderr",
     "output_type": "stream",
     "text": [
      "Validation: 100%|██████████| 47/47 [00:02<00:00, 19.47it/s, Loss=1.3019, Acc=0.5010]\n"
     ]
    },
    {
     "name": "stdout",
     "output_type": "stream",
     "text": [
      "Epoch 59/1000: Val Loss: 1.3019, Val Acc: 0.5010, Val F1: 0.4932\n",
      "Current Learning Rate: 3e-05\n"
     ]
    },
    {
     "name": "stderr",
     "output_type": "stream",
     "text": [
      "Epoch 60/1000: 100%|██████████| 422/422 [01:19<00:00,  5.31it/s, Loss=1.2020, Acc=0.5390]\n"
     ]
    },
    {
     "name": "stdout",
     "output_type": "stream",
     "text": [
      "Epoch 60/1000: Train Loss: 1.2020, Train Acc: 0.5390\n"
     ]
    },
    {
     "name": "stderr",
     "output_type": "stream",
     "text": [
      "Validation: 100%|██████████| 47/47 [00:02<00:00, 19.43it/s, Loss=1.2874, Acc=0.5143]\n"
     ]
    },
    {
     "name": "stdout",
     "output_type": "stream",
     "text": [
      "Epoch 60/1000: Val Loss: 1.2874, Val Acc: 0.5143, Val F1: 0.5048\n",
      "Current Learning Rate: 3e-05\n",
      "Best model saved at ../Experiment Augment Result/model1_augment_best.pt with accuracy: 0.5143\n"
     ]
    },
    {
     "name": "stderr",
     "output_type": "stream",
     "text": [
      "Epoch 61/1000: 100%|██████████| 422/422 [01:18<00:00,  5.34it/s, Loss=1.1968, Acc=0.5410]\n"
     ]
    },
    {
     "name": "stdout",
     "output_type": "stream",
     "text": [
      "Epoch 61/1000: Train Loss: 1.1968, Train Acc: 0.5410\n"
     ]
    },
    {
     "name": "stderr",
     "output_type": "stream",
     "text": [
      "Validation: 100%|██████████| 47/47 [00:02<00:00, 18.97it/s, Loss=1.3021, Acc=0.5067]\n"
     ]
    },
    {
     "name": "stdout",
     "output_type": "stream",
     "text": [
      "Epoch 61/1000: Val Loss: 1.3021, Val Acc: 0.5067, Val F1: 0.5036\n",
      "Current Learning Rate: 3e-05\n"
     ]
    },
    {
     "name": "stderr",
     "output_type": "stream",
     "text": [
      "Epoch 62/1000: 100%|██████████| 422/422 [01:18<00:00,  5.36it/s, Loss=1.1814, Acc=0.5473]\n"
     ]
    },
    {
     "name": "stdout",
     "output_type": "stream",
     "text": [
      "Epoch 62/1000: Train Loss: 1.1814, Train Acc: 0.5473\n"
     ]
    },
    {
     "name": "stderr",
     "output_type": "stream",
     "text": [
      "Validation: 100%|██████████| 47/47 [00:02<00:00, 19.46it/s, Loss=1.2921, Acc=0.5130]\n"
     ]
    },
    {
     "name": "stdout",
     "output_type": "stream",
     "text": [
      "Epoch 62/1000: Val Loss: 1.2921, Val Acc: 0.5130, Val F1: 0.5078\n",
      "Current Learning Rate: 3e-05\n"
     ]
    },
    {
     "name": "stderr",
     "output_type": "stream",
     "text": [
      "Epoch 63/1000: 100%|██████████| 422/422 [01:17<00:00,  5.44it/s, Loss=1.1791, Acc=0.5489]\n"
     ]
    },
    {
     "name": "stdout",
     "output_type": "stream",
     "text": [
      "Epoch 63/1000: Train Loss: 1.1791, Train Acc: 0.5489\n"
     ]
    },
    {
     "name": "stderr",
     "output_type": "stream",
     "text": [
      "Validation: 100%|██████████| 47/47 [00:02<00:00, 19.44it/s, Loss=1.2925, Acc=0.5053]\n"
     ]
    },
    {
     "name": "stdout",
     "output_type": "stream",
     "text": [
      "Epoch 63/1000: Val Loss: 1.2925, Val Acc: 0.5053, Val F1: 0.4977\n",
      "Current Learning Rate: 3e-05\n"
     ]
    },
    {
     "name": "stderr",
     "output_type": "stream",
     "text": [
      "Epoch 64/1000: 100%|██████████| 422/422 [01:17<00:00,  5.44it/s, Loss=1.1684, Acc=0.5539]\n"
     ]
    },
    {
     "name": "stdout",
     "output_type": "stream",
     "text": [
      "Epoch 64/1000: Train Loss: 1.1684, Train Acc: 0.5539\n"
     ]
    },
    {
     "name": "stderr",
     "output_type": "stream",
     "text": [
      "Validation: 100%|██████████| 47/47 [00:02<00:00, 19.48it/s, Loss=1.2862, Acc=0.5087]\n"
     ]
    },
    {
     "name": "stdout",
     "output_type": "stream",
     "text": [
      "Epoch 64/1000: Val Loss: 1.2862, Val Acc: 0.5087, Val F1: 0.4998\n",
      "Current Learning Rate: 3e-05\n"
     ]
    },
    {
     "name": "stderr",
     "output_type": "stream",
     "text": [
      "Epoch 65/1000: 100%|██████████| 422/422 [01:18<00:00,  5.36it/s, Loss=1.1660, Acc=0.5509]\n"
     ]
    },
    {
     "name": "stdout",
     "output_type": "stream",
     "text": [
      "Epoch 65/1000: Train Loss: 1.1660, Train Acc: 0.5509\n"
     ]
    },
    {
     "name": "stderr",
     "output_type": "stream",
     "text": [
      "Validation: 100%|██████████| 47/47 [00:02<00:00, 19.53it/s, Loss=1.2788, Acc=0.5233]\n"
     ]
    },
    {
     "name": "stdout",
     "output_type": "stream",
     "text": [
      "Epoch 65/1000: Val Loss: 1.2788, Val Acc: 0.5233, Val F1: 0.5175\n",
      "Current Learning Rate: 3e-05\n",
      "Best model saved at ../Experiment Augment Result/model1_augment_best.pt with accuracy: 0.5233\n"
     ]
    },
    {
     "name": "stderr",
     "output_type": "stream",
     "text": [
      "Epoch 66/1000: 100%|██████████| 422/422 [01:17<00:00,  5.45it/s, Loss=1.1589, Acc=0.5593]\n"
     ]
    },
    {
     "name": "stdout",
     "output_type": "stream",
     "text": [
      "Epoch 66/1000: Train Loss: 1.1589, Train Acc: 0.5593\n"
     ]
    },
    {
     "name": "stderr",
     "output_type": "stream",
     "text": [
      "Validation: 100%|██████████| 47/47 [00:02<00:00, 19.50it/s, Loss=1.3000, Acc=0.5107]\n"
     ]
    },
    {
     "name": "stdout",
     "output_type": "stream",
     "text": [
      "Epoch 66/1000: Val Loss: 1.3000, Val Acc: 0.5107, Val F1: 0.5009\n",
      "Current Learning Rate: 3e-05\n"
     ]
    },
    {
     "name": "stderr",
     "output_type": "stream",
     "text": [
      "Epoch 67/1000: 100%|██████████| 422/422 [01:17<00:00,  5.43it/s, Loss=1.1515, Acc=0.5610]\n"
     ]
    },
    {
     "name": "stdout",
     "output_type": "stream",
     "text": [
      "Epoch 67/1000: Train Loss: 1.1515, Train Acc: 0.5610\n"
     ]
    },
    {
     "name": "stderr",
     "output_type": "stream",
     "text": [
      "Validation: 100%|██████████| 47/47 [00:02<00:00, 19.44it/s, Loss=1.2900, Acc=0.5143]\n"
     ]
    },
    {
     "name": "stdout",
     "output_type": "stream",
     "text": [
      "Epoch 67/1000: Val Loss: 1.2900, Val Acc: 0.5143, Val F1: 0.4998\n",
      "Current Learning Rate: 3e-05\n"
     ]
    },
    {
     "name": "stderr",
     "output_type": "stream",
     "text": [
      "Epoch 68/1000: 100%|██████████| 422/422 [01:17<00:00,  5.46it/s, Loss=1.1492, Acc=0.5607]\n"
     ]
    },
    {
     "name": "stdout",
     "output_type": "stream",
     "text": [
      "Epoch 68/1000: Train Loss: 1.1492, Train Acc: 0.5607\n"
     ]
    },
    {
     "name": "stderr",
     "output_type": "stream",
     "text": [
      "Validation: 100%|██████████| 47/47 [00:02<00:00, 19.24it/s, Loss=1.3052, Acc=0.5053]\n"
     ]
    },
    {
     "name": "stdout",
     "output_type": "stream",
     "text": [
      "Epoch 68/1000: Val Loss: 1.3052, Val Acc: 0.5053, Val F1: 0.4951\n",
      "Current Learning Rate: 3e-05\n"
     ]
    },
    {
     "name": "stderr",
     "output_type": "stream",
     "text": [
      "Epoch 69/1000: 100%|██████████| 422/422 [01:17<00:00,  5.42it/s, Loss=1.1372, Acc=0.5664]\n"
     ]
    },
    {
     "name": "stdout",
     "output_type": "stream",
     "text": [
      "Epoch 69/1000: Train Loss: 1.1372, Train Acc: 0.5664\n"
     ]
    },
    {
     "name": "stderr",
     "output_type": "stream",
     "text": [
      "Validation: 100%|██████████| 47/47 [00:02<00:00, 19.12it/s, Loss=1.2766, Acc=0.5237]\n"
     ]
    },
    {
     "name": "stdout",
     "output_type": "stream",
     "text": [
      "Epoch 69/1000: Val Loss: 1.2766, Val Acc: 0.5237, Val F1: 0.5136\n",
      "Current Learning Rate: 3e-05\n",
      "Best model saved at ../Experiment Augment Result/model1_augment_best.pt with accuracy: 0.5237\n"
     ]
    },
    {
     "name": "stderr",
     "output_type": "stream",
     "text": [
      "Epoch 70/1000: 100%|██████████| 422/422 [01:21<00:00,  5.15it/s, Loss=1.1266, Acc=0.5697]\n"
     ]
    },
    {
     "name": "stdout",
     "output_type": "stream",
     "text": [
      "Epoch 70/1000: Train Loss: 1.1266, Train Acc: 0.5697\n"
     ]
    },
    {
     "name": "stderr",
     "output_type": "stream",
     "text": [
      "Validation: 100%|██████████| 47/47 [00:02<00:00, 19.44it/s, Loss=1.2694, Acc=0.5237]\n"
     ]
    },
    {
     "name": "stdout",
     "output_type": "stream",
     "text": [
      "Epoch 70/1000: Val Loss: 1.2694, Val Acc: 0.5237, Val F1: 0.5171\n",
      "Current Learning Rate: 3e-05\n"
     ]
    },
    {
     "name": "stderr",
     "output_type": "stream",
     "text": [
      "Epoch 71/1000: 100%|██████████| 422/422 [01:17<00:00,  5.46it/s, Loss=1.1245, Acc=0.5664]\n"
     ]
    },
    {
     "name": "stdout",
     "output_type": "stream",
     "text": [
      "Epoch 71/1000: Train Loss: 1.1245, Train Acc: 0.5664\n"
     ]
    },
    {
     "name": "stderr",
     "output_type": "stream",
     "text": [
      "Validation: 100%|██████████| 47/47 [00:02<00:00, 19.47it/s, Loss=1.2828, Acc=0.5247]\n"
     ]
    },
    {
     "name": "stdout",
     "output_type": "stream",
     "text": [
      "Epoch 71/1000: Val Loss: 1.2828, Val Acc: 0.5247, Val F1: 0.5179\n",
      "Current Learning Rate: 3e-05\n",
      "Best model saved at ../Experiment Augment Result/model1_augment_best.pt with accuracy: 0.5247\n"
     ]
    },
    {
     "name": "stderr",
     "output_type": "stream",
     "text": [
      "Epoch 72/1000: 100%|██████████| 422/422 [01:16<00:00,  5.49it/s, Loss=1.1131, Acc=0.5764]\n"
     ]
    },
    {
     "name": "stdout",
     "output_type": "stream",
     "text": [
      "Epoch 72/1000: Train Loss: 1.1131, Train Acc: 0.5764\n"
     ]
    },
    {
     "name": "stderr",
     "output_type": "stream",
     "text": [
      "Validation: 100%|██████████| 47/47 [00:02<00:00, 19.47it/s, Loss=1.2837, Acc=0.5170]\n"
     ]
    },
    {
     "name": "stdout",
     "output_type": "stream",
     "text": [
      "Epoch 72/1000: Val Loss: 1.2837, Val Acc: 0.5170, Val F1: 0.5136\n",
      "Current Learning Rate: 3e-05\n"
     ]
    },
    {
     "name": "stderr",
     "output_type": "stream",
     "text": [
      "Epoch 73/1000: 100%|██████████| 422/422 [01:17<00:00,  5.47it/s, Loss=1.1097, Acc=0.5746]\n"
     ]
    },
    {
     "name": "stdout",
     "output_type": "stream",
     "text": [
      "Epoch 73/1000: Train Loss: 1.1097, Train Acc: 0.5746\n"
     ]
    },
    {
     "name": "stderr",
     "output_type": "stream",
     "text": [
      "Validation: 100%|██████████| 47/47 [00:02<00:00, 19.44it/s, Loss=1.2798, Acc=0.5153]\n"
     ]
    },
    {
     "name": "stdout",
     "output_type": "stream",
     "text": [
      "Epoch 73/1000: Val Loss: 1.2798, Val Acc: 0.5153, Val F1: 0.5106\n",
      "Current Learning Rate: 3e-05\n"
     ]
    },
    {
     "name": "stderr",
     "output_type": "stream",
     "text": [
      "Epoch 74/1000: 100%|██████████| 422/422 [01:18<00:00,  5.35it/s, Loss=1.1007, Acc=0.5835]\n"
     ]
    },
    {
     "name": "stdout",
     "output_type": "stream",
     "text": [
      "Epoch 74/1000: Train Loss: 1.1007, Train Acc: 0.5835\n"
     ]
    },
    {
     "name": "stderr",
     "output_type": "stream",
     "text": [
      "Validation: 100%|██████████| 47/47 [00:02<00:00, 19.36it/s, Loss=1.2716, Acc=0.5177]\n"
     ]
    },
    {
     "name": "stdout",
     "output_type": "stream",
     "text": [
      "Epoch 74/1000: Val Loss: 1.2716, Val Acc: 0.5177, Val F1: 0.5142\n",
      "Current Learning Rate: 3e-05\n"
     ]
    },
    {
     "name": "stderr",
     "output_type": "stream",
     "text": [
      "Epoch 75/1000: 100%|██████████| 422/422 [01:17<00:00,  5.42it/s, Loss=1.0959, Acc=0.5783]\n"
     ]
    },
    {
     "name": "stdout",
     "output_type": "stream",
     "text": [
      "Epoch 75/1000: Train Loss: 1.0959, Train Acc: 0.5783\n"
     ]
    },
    {
     "name": "stderr",
     "output_type": "stream",
     "text": [
      "Validation: 100%|██████████| 47/47 [00:02<00:00, 19.39it/s, Loss=1.2736, Acc=0.5237]\n"
     ]
    },
    {
     "name": "stdout",
     "output_type": "stream",
     "text": [
      "Epoch 75/1000: Val Loss: 1.2736, Val Acc: 0.5237, Val F1: 0.5200\n",
      "Current Learning Rate: 3e-05\n"
     ]
    },
    {
     "name": "stderr",
     "output_type": "stream",
     "text": [
      "Epoch 76/1000: 100%|██████████| 422/422 [01:16<00:00,  5.50it/s, Loss=1.0861, Acc=0.5857]\n"
     ]
    },
    {
     "name": "stdout",
     "output_type": "stream",
     "text": [
      "Epoch 76/1000: Train Loss: 1.0861, Train Acc: 0.5857\n"
     ]
    },
    {
     "name": "stderr",
     "output_type": "stream",
     "text": [
      "Validation: 100%|██████████| 47/47 [00:02<00:00, 19.51it/s, Loss=1.2962, Acc=0.5080]\n"
     ]
    },
    {
     "name": "stdout",
     "output_type": "stream",
     "text": [
      "Epoch 76/1000: Val Loss: 1.2962, Val Acc: 0.5080, Val F1: 0.5081\n",
      "Current Learning Rate: 3e-06\n"
     ]
    },
    {
     "name": "stderr",
     "output_type": "stream",
     "text": [
      "Epoch 77/1000: 100%|██████████| 422/422 [01:16<00:00,  5.51it/s, Loss=1.0351, Acc=0.6080]\n"
     ]
    },
    {
     "name": "stdout",
     "output_type": "stream",
     "text": [
      "Epoch 77/1000: Train Loss: 1.0351, Train Acc: 0.6080\n"
     ]
    },
    {
     "name": "stderr",
     "output_type": "stream",
     "text": [
      "Validation: 100%|██████████| 47/47 [00:02<00:00, 19.45it/s, Loss=1.2708, Acc=0.5317]\n"
     ]
    },
    {
     "name": "stdout",
     "output_type": "stream",
     "text": [
      "Epoch 77/1000: Val Loss: 1.2708, Val Acc: 0.5317, Val F1: 0.5274\n",
      "Current Learning Rate: 3e-06\n",
      "Best model saved at ../Experiment Augment Result/model1_augment_best.pt with accuracy: 0.5317\n"
     ]
    },
    {
     "name": "stderr",
     "output_type": "stream",
     "text": [
      "Epoch 78/1000: 100%|██████████| 422/422 [01:16<00:00,  5.50it/s, Loss=1.0113, Acc=0.6173]\n"
     ]
    },
    {
     "name": "stdout",
     "output_type": "stream",
     "text": [
      "Epoch 78/1000: Train Loss: 1.0113, Train Acc: 0.6173\n"
     ]
    },
    {
     "name": "stderr",
     "output_type": "stream",
     "text": [
      "Validation: 100%|██████████| 47/47 [00:02<00:00, 20.21it/s, Loss=1.2723, Acc=0.5320]\n"
     ]
    },
    {
     "name": "stdout",
     "output_type": "stream",
     "text": [
      "Epoch 78/1000: Val Loss: 1.2723, Val Acc: 0.5320, Val F1: 0.5277\n",
      "Current Learning Rate: 3e-06\n",
      "Best model saved at ../Experiment Augment Result/model1_augment_best.pt with accuracy: 0.5320\n"
     ]
    },
    {
     "name": "stderr",
     "output_type": "stream",
     "text": [
      "Epoch 79/1000: 100%|██████████| 422/422 [01:17<00:00,  5.44it/s, Loss=1.0110, Acc=0.6202]\n"
     ]
    },
    {
     "name": "stdout",
     "output_type": "stream",
     "text": [
      "Epoch 79/1000: Train Loss: 1.0110, Train Acc: 0.6202\n"
     ]
    },
    {
     "name": "stderr",
     "output_type": "stream",
     "text": [
      "Validation: 100%|██████████| 47/47 [00:02<00:00, 18.77it/s, Loss=1.2720, Acc=0.5340]\n"
     ]
    },
    {
     "name": "stdout",
     "output_type": "stream",
     "text": [
      "Epoch 79/1000: Val Loss: 1.2720, Val Acc: 0.5340, Val F1: 0.5281\n",
      "Current Learning Rate: 3e-06\n",
      "Best model saved at ../Experiment Augment Result/model1_augment_best.pt with accuracy: 0.5340\n"
     ]
    },
    {
     "name": "stderr",
     "output_type": "stream",
     "text": [
      "Epoch 80/1000: 100%|██████████| 422/422 [01:17<00:00,  5.42it/s, Loss=0.9942, Acc=0.6247]\n"
     ]
    },
    {
     "name": "stdout",
     "output_type": "stream",
     "text": [
      "Epoch 80/1000: Train Loss: 0.9942, Train Acc: 0.6247\n"
     ]
    },
    {
     "name": "stderr",
     "output_type": "stream",
     "text": [
      "Validation: 100%|██████████| 47/47 [00:02<00:00, 19.49it/s, Loss=1.2719, Acc=0.5373]\n"
     ]
    },
    {
     "name": "stdout",
     "output_type": "stream",
     "text": [
      "Epoch 80/1000: Val Loss: 1.2719, Val Acc: 0.5373, Val F1: 0.5298\n",
      "Current Learning Rate: 3e-06\n",
      "Best model saved at ../Experiment Augment Result/model1_augment_best.pt with accuracy: 0.5373\n"
     ]
    },
    {
     "name": "stderr",
     "output_type": "stream",
     "text": [
      "Epoch 81/1000: 100%|██████████| 422/422 [01:17<00:00,  5.48it/s, Loss=0.9960, Acc=0.6257]\n"
     ]
    },
    {
     "name": "stdout",
     "output_type": "stream",
     "text": [
      "Epoch 81/1000: Train Loss: 0.9960, Train Acc: 0.6257\n"
     ]
    },
    {
     "name": "stderr",
     "output_type": "stream",
     "text": [
      "Validation: 100%|██████████| 47/47 [00:02<00:00, 19.47it/s, Loss=1.2690, Acc=0.5333]\n"
     ]
    },
    {
     "name": "stdout",
     "output_type": "stream",
     "text": [
      "Epoch 81/1000: Val Loss: 1.2690, Val Acc: 0.5333, Val F1: 0.5282\n",
      "Current Learning Rate: 3e-06\n"
     ]
    },
    {
     "name": "stderr",
     "output_type": "stream",
     "text": [
      "Epoch 82/1000: 100%|██████████| 422/422 [01:17<00:00,  5.45it/s, Loss=0.9948, Acc=0.6239]\n"
     ]
    },
    {
     "name": "stdout",
     "output_type": "stream",
     "text": [
      "Epoch 82/1000: Train Loss: 0.9948, Train Acc: 0.6239\n"
     ]
    },
    {
     "name": "stderr",
     "output_type": "stream",
     "text": [
      "Validation: 100%|██████████| 47/47 [00:02<00:00, 19.29it/s, Loss=1.2744, Acc=0.5303]\n"
     ]
    },
    {
     "name": "stdout",
     "output_type": "stream",
     "text": [
      "Epoch 82/1000: Val Loss: 1.2744, Val Acc: 0.5303, Val F1: 0.5267\n",
      "Current Learning Rate: 3e-06\n"
     ]
    },
    {
     "name": "stderr",
     "output_type": "stream",
     "text": [
      "Epoch 83/1000: 100%|██████████| 422/422 [01:16<00:00,  5.50it/s, Loss=0.9847, Acc=0.6304]\n"
     ]
    },
    {
     "name": "stdout",
     "output_type": "stream",
     "text": [
      "Epoch 83/1000: Train Loss: 0.9847, Train Acc: 0.6304\n"
     ]
    },
    {
     "name": "stderr",
     "output_type": "stream",
     "text": [
      "Validation: 100%|██████████| 47/47 [00:02<00:00, 19.43it/s, Loss=1.2756, Acc=0.5320]\n"
     ]
    },
    {
     "name": "stdout",
     "output_type": "stream",
     "text": [
      "Epoch 83/1000: Val Loss: 1.2756, Val Acc: 0.5320, Val F1: 0.5256\n",
      "Current Learning Rate: 3e-06\n"
     ]
    },
    {
     "name": "stderr",
     "output_type": "stream",
     "text": [
      "Epoch 84/1000: 100%|██████████| 422/422 [01:22<00:00,  5.13it/s, Loss=0.9846, Acc=0.6287]\n"
     ]
    },
    {
     "name": "stdout",
     "output_type": "stream",
     "text": [
      "Epoch 84/1000: Train Loss: 0.9846, Train Acc: 0.6287\n"
     ]
    },
    {
     "name": "stderr",
     "output_type": "stream",
     "text": [
      "Validation: 100%|██████████| 47/47 [00:02<00:00, 19.48it/s, Loss=1.2667, Acc=0.5373]\n"
     ]
    },
    {
     "name": "stdout",
     "output_type": "stream",
     "text": [
      "Epoch 84/1000: Val Loss: 1.2667, Val Acc: 0.5373, Val F1: 0.5318\n",
      "Current Learning Rate: 3e-06\n"
     ]
    },
    {
     "name": "stderr",
     "output_type": "stream",
     "text": [
      "Epoch 85/1000: 100%|██████████| 422/422 [01:16<00:00,  5.49it/s, Loss=0.9855, Acc=0.6273]\n"
     ]
    },
    {
     "name": "stdout",
     "output_type": "stream",
     "text": [
      "Epoch 85/1000: Train Loss: 0.9855, Train Acc: 0.6273\n"
     ]
    },
    {
     "name": "stderr",
     "output_type": "stream",
     "text": [
      "Validation: 100%|██████████| 47/47 [00:02<00:00, 19.49it/s, Loss=1.2750, Acc=0.5300]\n"
     ]
    },
    {
     "name": "stdout",
     "output_type": "stream",
     "text": [
      "Epoch 85/1000: Val Loss: 1.2750, Val Acc: 0.5300, Val F1: 0.5249\n",
      "Current Learning Rate: 3e-06\n"
     ]
    },
    {
     "name": "stderr",
     "output_type": "stream",
     "text": [
      "Epoch 86/1000: 100%|██████████| 422/422 [01:17<00:00,  5.48it/s, Loss=0.9807, Acc=0.6294]\n"
     ]
    },
    {
     "name": "stdout",
     "output_type": "stream",
     "text": [
      "Epoch 86/1000: Train Loss: 0.9807, Train Acc: 0.6294\n"
     ]
    },
    {
     "name": "stderr",
     "output_type": "stream",
     "text": [
      "Validation: 100%|██████████| 47/47 [00:02<00:00, 19.48it/s, Loss=1.2768, Acc=0.5460]\n"
     ]
    },
    {
     "name": "stdout",
     "output_type": "stream",
     "text": [
      "Epoch 86/1000: Val Loss: 1.2768, Val Acc: 0.5460, Val F1: 0.5389\n",
      "Current Learning Rate: 3e-06\n",
      "Best model saved at ../Experiment Augment Result/model1_augment_best.pt with accuracy: 0.5460\n"
     ]
    },
    {
     "name": "stderr",
     "output_type": "stream",
     "text": [
      "Epoch 87/1000: 100%|██████████| 422/422 [01:17<00:00,  5.45it/s, Loss=0.9727, Acc=0.6335]\n"
     ]
    },
    {
     "name": "stdout",
     "output_type": "stream",
     "text": [
      "Epoch 87/1000: Train Loss: 0.9727, Train Acc: 0.6335\n"
     ]
    },
    {
     "name": "stderr",
     "output_type": "stream",
     "text": [
      "Validation: 100%|██████████| 47/47 [00:02<00:00, 19.42it/s, Loss=1.2781, Acc=0.5360]\n"
     ]
    },
    {
     "name": "stdout",
     "output_type": "stream",
     "text": [
      "Epoch 87/1000: Val Loss: 1.2781, Val Acc: 0.5360, Val F1: 0.5307\n",
      "Current Learning Rate: 3e-06\n"
     ]
    },
    {
     "name": "stderr",
     "output_type": "stream",
     "text": [
      "Epoch 88/1000: 100%|██████████| 422/422 [01:17<00:00,  5.47it/s, Loss=0.9719, Acc=0.6330]\n"
     ]
    },
    {
     "name": "stdout",
     "output_type": "stream",
     "text": [
      "Epoch 88/1000: Train Loss: 0.9719, Train Acc: 0.6330\n"
     ]
    },
    {
     "name": "stderr",
     "output_type": "stream",
     "text": [
      "Validation: 100%|██████████| 47/47 [00:02<00:00, 19.47it/s, Loss=1.2820, Acc=0.5333]\n"
     ]
    },
    {
     "name": "stdout",
     "output_type": "stream",
     "text": [
      "Epoch 88/1000: Val Loss: 1.2820, Val Acc: 0.5333, Val F1: 0.5265\n",
      "Current Learning Rate: 3e-06\n"
     ]
    },
    {
     "name": "stderr",
     "output_type": "stream",
     "text": [
      "Epoch 89/1000: 100%|██████████| 422/422 [01:17<00:00,  5.45it/s, Loss=0.9725, Acc=0.6324]\n"
     ]
    },
    {
     "name": "stdout",
     "output_type": "stream",
     "text": [
      "Epoch 89/1000: Train Loss: 0.9725, Train Acc: 0.6324\n"
     ]
    },
    {
     "name": "stderr",
     "output_type": "stream",
     "text": [
      "Validation: 100%|██████████| 47/47 [00:02<00:00, 19.45it/s, Loss=1.2828, Acc=0.5297]\n"
     ]
    },
    {
     "name": "stdout",
     "output_type": "stream",
     "text": [
      "Epoch 89/1000: Val Loss: 1.2828, Val Acc: 0.5297, Val F1: 0.5246\n",
      "Current Learning Rate: 3e-06\n"
     ]
    },
    {
     "name": "stderr",
     "output_type": "stream",
     "text": [
      "Epoch 90/1000: 100%|██████████| 422/422 [01:17<00:00,  5.42it/s, Loss=0.9700, Acc=0.6342]\n"
     ]
    },
    {
     "name": "stdout",
     "output_type": "stream",
     "text": [
      "Epoch 90/1000: Train Loss: 0.9700, Train Acc: 0.6342\n"
     ]
    },
    {
     "name": "stderr",
     "output_type": "stream",
     "text": [
      "Validation: 100%|██████████| 47/47 [00:02<00:00, 19.47it/s, Loss=1.2793, Acc=0.5297]\n"
     ]
    },
    {
     "name": "stdout",
     "output_type": "stream",
     "text": [
      "Epoch 90/1000: Val Loss: 1.2793, Val Acc: 0.5297, Val F1: 0.5236\n",
      "Current Learning Rate: 3.0000000000000004e-07\n"
     ]
    },
    {
     "name": "stderr",
     "output_type": "stream",
     "text": [
      "Epoch 91/1000: 100%|██████████| 422/422 [01:16<00:00,  5.48it/s, Loss=0.9654, Acc=0.6369]\n"
     ]
    },
    {
     "name": "stdout",
     "output_type": "stream",
     "text": [
      "Epoch 91/1000: Train Loss: 0.9654, Train Acc: 0.6369\n"
     ]
    },
    {
     "name": "stderr",
     "output_type": "stream",
     "text": [
      "Validation: 100%|██████████| 47/47 [00:02<00:00, 18.05it/s, Loss=1.2776, Acc=0.5317]\n"
     ]
    },
    {
     "name": "stdout",
     "output_type": "stream",
     "text": [
      "Epoch 91/1000: Val Loss: 1.2776, Val Acc: 0.5317, Val F1: 0.5267\n",
      "Current Learning Rate: 3.0000000000000004e-07\n"
     ]
    },
    {
     "name": "stderr",
     "output_type": "stream",
     "text": [
      "Epoch 92/1000: 100%|██████████| 422/422 [01:22<00:00,  5.14it/s, Loss=0.9619, Acc=0.6367]\n"
     ]
    },
    {
     "name": "stdout",
     "output_type": "stream",
     "text": [
      "Epoch 92/1000: Train Loss: 0.9619, Train Acc: 0.6367\n"
     ]
    },
    {
     "name": "stderr",
     "output_type": "stream",
     "text": [
      "Validation: 100%|██████████| 47/47 [00:02<00:00, 18.69it/s, Loss=1.2775, Acc=0.5307]\n"
     ]
    },
    {
     "name": "stdout",
     "output_type": "stream",
     "text": [
      "Epoch 92/1000: Val Loss: 1.2775, Val Acc: 0.5307, Val F1: 0.5257\n",
      "Current Learning Rate: 3.0000000000000004e-07\n"
     ]
    },
    {
     "name": "stderr",
     "output_type": "stream",
     "text": [
      "Epoch 93/1000: 100%|██████████| 422/422 [01:18<00:00,  5.35it/s, Loss=0.9565, Acc=0.6394]\n"
     ]
    },
    {
     "name": "stdout",
     "output_type": "stream",
     "text": [
      "Epoch 93/1000: Train Loss: 0.9565, Train Acc: 0.6394\n"
     ]
    },
    {
     "name": "stderr",
     "output_type": "stream",
     "text": [
      "Validation: 100%|██████████| 47/47 [00:02<00:00, 19.37it/s, Loss=1.2787, Acc=0.5307]\n"
     ]
    },
    {
     "name": "stdout",
     "output_type": "stream",
     "text": [
      "Epoch 93/1000: Val Loss: 1.2787, Val Acc: 0.5307, Val F1: 0.5258\n",
      "Current Learning Rate: 3.0000000000000004e-07\n"
     ]
    },
    {
     "name": "stderr",
     "output_type": "stream",
     "text": [
      "Epoch 94/1000: 100%|██████████| 422/422 [01:17<00:00,  5.42it/s, Loss=0.9582, Acc=0.6415]\n"
     ]
    },
    {
     "name": "stdout",
     "output_type": "stream",
     "text": [
      "Epoch 94/1000: Train Loss: 0.9582, Train Acc: 0.6415\n"
     ]
    },
    {
     "name": "stderr",
     "output_type": "stream",
     "text": [
      "Validation: 100%|██████████| 47/47 [00:02<00:00, 19.49it/s, Loss=1.2784, Acc=0.5313]\n"
     ]
    },
    {
     "name": "stdout",
     "output_type": "stream",
     "text": [
      "Epoch 94/1000: Val Loss: 1.2784, Val Acc: 0.5313, Val F1: 0.5267\n",
      "Current Learning Rate: 3.0000000000000004e-07\n"
     ]
    },
    {
     "name": "stderr",
     "output_type": "stream",
     "text": [
      "Epoch 95/1000: 100%|██████████| 422/422 [01:19<00:00,  5.31it/s, Loss=0.9609, Acc=0.6383]\n"
     ]
    },
    {
     "name": "stdout",
     "output_type": "stream",
     "text": [
      "Epoch 95/1000: Train Loss: 0.9609, Train Acc: 0.6383\n"
     ]
    },
    {
     "name": "stderr",
     "output_type": "stream",
     "text": [
      "Validation: 100%|██████████| 47/47 [00:02<00:00, 19.09it/s, Loss=1.2783, Acc=0.5303]\n"
     ]
    },
    {
     "name": "stdout",
     "output_type": "stream",
     "text": [
      "Epoch 95/1000: Val Loss: 1.2783, Val Acc: 0.5303, Val F1: 0.5258\n",
      "Current Learning Rate: 3.0000000000000004e-07\n"
     ]
    },
    {
     "name": "stderr",
     "output_type": "stream",
     "text": [
      "Epoch 96/1000: 100%|██████████| 422/422 [01:21<00:00,  5.20it/s, Loss=0.9593, Acc=0.6373]\n"
     ]
    },
    {
     "name": "stdout",
     "output_type": "stream",
     "text": [
      "Epoch 96/1000: Train Loss: 0.9593, Train Acc: 0.6373\n"
     ]
    },
    {
     "name": "stderr",
     "output_type": "stream",
     "text": [
      "Validation: 100%|██████████| 47/47 [00:02<00:00, 19.49it/s, Loss=1.2786, Acc=0.5310]\n"
     ]
    },
    {
     "name": "stdout",
     "output_type": "stream",
     "text": [
      "Epoch 96/1000: Val Loss: 1.2786, Val Acc: 0.5310, Val F1: 0.5263\n",
      "Current Learning Rate: 3.0000000000000004e-08\n"
     ]
    },
    {
     "name": "stderr",
     "output_type": "stream",
     "text": [
      "Epoch 97/1000: 100%|██████████| 422/422 [01:16<00:00,  5.49it/s, Loss=0.9566, Acc=0.6410]\n"
     ]
    },
    {
     "name": "stdout",
     "output_type": "stream",
     "text": [
      "Epoch 97/1000: Train Loss: 0.9566, Train Acc: 0.6410\n"
     ]
    },
    {
     "name": "stderr",
     "output_type": "stream",
     "text": [
      "Validation: 100%|██████████| 47/47 [00:02<00:00, 19.49it/s, Loss=1.2792, Acc=0.5300]\n"
     ]
    },
    {
     "name": "stdout",
     "output_type": "stream",
     "text": [
      "Epoch 97/1000: Val Loss: 1.2792, Val Acc: 0.5300, Val F1: 0.5252\n",
      "Current Learning Rate: 3.0000000000000004e-08\n"
     ]
    },
    {
     "name": "stderr",
     "output_type": "stream",
     "text": [
      "Epoch 98/1000: 100%|██████████| 422/422 [01:16<00:00,  5.50it/s, Loss=0.9590, Acc=0.6389]\n"
     ]
    },
    {
     "name": "stdout",
     "output_type": "stream",
     "text": [
      "Epoch 98/1000: Train Loss: 0.9590, Train Acc: 0.6389\n"
     ]
    },
    {
     "name": "stderr",
     "output_type": "stream",
     "text": [
      "Validation: 100%|██████████| 47/47 [00:02<00:00, 19.49it/s, Loss=1.2789, Acc=0.5300]\n"
     ]
    },
    {
     "name": "stdout",
     "output_type": "stream",
     "text": [
      "Epoch 98/1000: Val Loss: 1.2789, Val Acc: 0.5300, Val F1: 0.5252\n",
      "Current Learning Rate: 3.0000000000000004e-08\n"
     ]
    },
    {
     "name": "stderr",
     "output_type": "stream",
     "text": [
      "Epoch 99/1000: 100%|██████████| 422/422 [01:17<00:00,  5.45it/s, Loss=0.9556, Acc=0.6408]\n"
     ]
    },
    {
     "name": "stdout",
     "output_type": "stream",
     "text": [
      "Epoch 99/1000: Train Loss: 0.9556, Train Acc: 0.6408\n"
     ]
    },
    {
     "name": "stderr",
     "output_type": "stream",
     "text": [
      "Validation: 100%|██████████| 47/47 [00:02<00:00, 19.50it/s, Loss=1.2785, Acc=0.5310]\n"
     ]
    },
    {
     "name": "stdout",
     "output_type": "stream",
     "text": [
      "Epoch 99/1000: Val Loss: 1.2785, Val Acc: 0.5310, Val F1: 0.5263\n",
      "Current Learning Rate: 3.0000000000000004e-08\n",
      "Early stopping triggered at epoch 99!\n"
     ]
    },
    {
     "name": "stderr",
     "output_type": "stream",
     "text": [
      "Testing: 100%|██████████| 53/53 [00:02<00:00, 19.71it/s, Loss=1.2923, Acc=0.5344]\n"
     ]
    },
    {
     "name": "stdout",
     "output_type": "stream",
     "text": [
      "Test Loss: 1.2923, Test Acc: 0.5344, Test F1: 0.5251\n",
      "Start model2 with configuration patch size: 16, num_heads: 8, embedding_dims: 256, num_layers: 12\n"
     ]
    },
    {
     "name": "stderr",
     "output_type": "stream",
     "text": [
      "Epoch 1/1000: 100%|██████████| 422/422 [02:17<00:00,  3.07it/s, Loss=1.7918, Acc=0.2502]\n"
     ]
    },
    {
     "name": "stdout",
     "output_type": "stream",
     "text": [
      "Epoch 1/1000: Train Loss: 1.7918, Train Acc: 0.2502\n"
     ]
    },
    {
     "name": "stderr",
     "output_type": "stream",
     "text": [
      "Validation: 100%|██████████| 47/47 [00:04<00:00, 11.02it/s, Loss=1.7896, Acc=0.2593]\n"
     ]
    },
    {
     "name": "stdout",
     "output_type": "stream",
     "text": [
      "Epoch 1/1000: Val Loss: 1.7896, Val Acc: 0.2593, Val F1: 0.1086\n",
      "Current Learning Rate: 3e-05\n",
      "Best model saved at ../Experiment Augment Result/model2_augment_best.pt with accuracy: 0.2593\n"
     ]
    },
    {
     "name": "stderr",
     "output_type": "stream",
     "text": [
      "Epoch 2/1000: 100%|██████████| 422/422 [02:20<00:00,  3.01it/s, Loss=1.7725, Acc=0.2635]\n"
     ]
    },
    {
     "name": "stdout",
     "output_type": "stream",
     "text": [
      "Epoch 2/1000: Train Loss: 1.7725, Train Acc: 0.2635\n"
     ]
    },
    {
     "name": "stderr",
     "output_type": "stream",
     "text": [
      "Validation: 100%|██████████| 47/47 [00:04<00:00, 11.03it/s, Loss=1.7588, Acc=0.2697]\n"
     ]
    },
    {
     "name": "stdout",
     "output_type": "stream",
     "text": [
      "Epoch 2/1000: Val Loss: 1.7588, Val Acc: 0.2697, Val F1: 0.1836\n",
      "Current Learning Rate: 3e-05\n",
      "Best model saved at ../Experiment Augment Result/model2_augment_best.pt with accuracy: 0.2697\n"
     ]
    },
    {
     "name": "stderr",
     "output_type": "stream",
     "text": [
      "Epoch 3/1000: 100%|██████████| 422/422 [02:19<00:00,  3.02it/s, Loss=1.7119, Acc=0.3058]\n"
     ]
    },
    {
     "name": "stdout",
     "output_type": "stream",
     "text": [
      "Epoch 3/1000: Train Loss: 1.7119, Train Acc: 0.3058\n"
     ]
    },
    {
     "name": "stderr",
     "output_type": "stream",
     "text": [
      "Validation: 100%|██████████| 47/47 [00:04<00:00, 10.90it/s, Loss=1.6630, Acc=0.3443]\n"
     ]
    },
    {
     "name": "stdout",
     "output_type": "stream",
     "text": [
      "Epoch 3/1000: Val Loss: 1.6630, Val Acc: 0.3443, Val F1: 0.2684\n",
      "Current Learning Rate: 3e-05\n",
      "Best model saved at ../Experiment Augment Result/model2_augment_best.pt with accuracy: 0.3443\n"
     ]
    },
    {
     "name": "stderr",
     "output_type": "stream",
     "text": [
      "Epoch 4/1000: 100%|██████████| 422/422 [02:20<00:00,  3.00it/s, Loss=1.6669, Acc=0.3337]\n"
     ]
    },
    {
     "name": "stdout",
     "output_type": "stream",
     "text": [
      "Epoch 4/1000: Train Loss: 1.6669, Train Acc: 0.3337\n"
     ]
    },
    {
     "name": "stderr",
     "output_type": "stream",
     "text": [
      "Validation: 100%|██████████| 47/47 [00:04<00:00, 10.87it/s, Loss=1.6563, Acc=0.3443]\n"
     ]
    },
    {
     "name": "stdout",
     "output_type": "stream",
     "text": [
      "Epoch 4/1000: Val Loss: 1.6563, Val Acc: 0.3443, Val F1: 0.3192\n",
      "Current Learning Rate: 3e-05\n"
     ]
    },
    {
     "name": "stderr",
     "output_type": "stream",
     "text": [
      "Epoch 5/1000: 100%|██████████| 422/422 [02:18<00:00,  3.05it/s, Loss=1.6456, Acc=0.3478]\n"
     ]
    },
    {
     "name": "stdout",
     "output_type": "stream",
     "text": [
      "Epoch 5/1000: Train Loss: 1.6456, Train Acc: 0.3478\n"
     ]
    },
    {
     "name": "stderr",
     "output_type": "stream",
     "text": [
      "Validation: 100%|██████████| 47/47 [00:04<00:00, 11.08it/s, Loss=1.6324, Acc=0.3570]\n"
     ]
    },
    {
     "name": "stdout",
     "output_type": "stream",
     "text": [
      "Epoch 5/1000: Val Loss: 1.6324, Val Acc: 0.3570, Val F1: 0.2776\n",
      "Current Learning Rate: 3e-05\n",
      "Best model saved at ../Experiment Augment Result/model2_augment_best.pt with accuracy: 0.3570\n"
     ]
    },
    {
     "name": "stderr",
     "output_type": "stream",
     "text": [
      "Epoch 6/1000: 100%|██████████| 422/422 [02:17<00:00,  3.07it/s, Loss=1.6318, Acc=0.3547]\n"
     ]
    },
    {
     "name": "stdout",
     "output_type": "stream",
     "text": [
      "Epoch 6/1000: Train Loss: 1.6318, Train Acc: 0.3547\n"
     ]
    },
    {
     "name": "stderr",
     "output_type": "stream",
     "text": [
      "Validation: 100%|██████████| 47/47 [00:04<00:00, 11.09it/s, Loss=1.6227, Acc=0.3607]\n"
     ]
    },
    {
     "name": "stdout",
     "output_type": "stream",
     "text": [
      "Epoch 6/1000: Val Loss: 1.6227, Val Acc: 0.3607, Val F1: 0.2885\n",
      "Current Learning Rate: 3e-05\n",
      "Best model saved at ../Experiment Augment Result/model2_augment_best.pt with accuracy: 0.3607\n"
     ]
    },
    {
     "name": "stderr",
     "output_type": "stream",
     "text": [
      "Epoch 7/1000: 100%|██████████| 422/422 [02:18<00:00,  3.05it/s, Loss=1.6163, Acc=0.3627]\n"
     ]
    },
    {
     "name": "stdout",
     "output_type": "stream",
     "text": [
      "Epoch 7/1000: Train Loss: 1.6163, Train Acc: 0.3627\n"
     ]
    },
    {
     "name": "stderr",
     "output_type": "stream",
     "text": [
      "Validation: 100%|██████████| 47/47 [00:04<00:00, 11.10it/s, Loss=1.5884, Acc=0.3853]\n"
     ]
    },
    {
     "name": "stdout",
     "output_type": "stream",
     "text": [
      "Epoch 7/1000: Val Loss: 1.5884, Val Acc: 0.3853, Val F1: 0.3324\n",
      "Current Learning Rate: 3e-05\n",
      "Best model saved at ../Experiment Augment Result/model2_augment_best.pt with accuracy: 0.3853\n"
     ]
    },
    {
     "name": "stderr",
     "output_type": "stream",
     "text": [
      "Epoch 8/1000: 100%|██████████| 422/422 [02:18<00:00,  3.04it/s, Loss=1.6066, Acc=0.3692]\n"
     ]
    },
    {
     "name": "stdout",
     "output_type": "stream",
     "text": [
      "Epoch 8/1000: Train Loss: 1.6066, Train Acc: 0.3692\n"
     ]
    },
    {
     "name": "stderr",
     "output_type": "stream",
     "text": [
      "Validation: 100%|██████████| 47/47 [00:04<00:00, 11.11it/s, Loss=1.6017, Acc=0.3867]\n"
     ]
    },
    {
     "name": "stdout",
     "output_type": "stream",
     "text": [
      "Epoch 8/1000: Val Loss: 1.6017, Val Acc: 0.3867, Val F1: 0.3288\n",
      "Current Learning Rate: 3e-05\n",
      "Best model saved at ../Experiment Augment Result/model2_augment_best.pt with accuracy: 0.3867\n"
     ]
    },
    {
     "name": "stderr",
     "output_type": "stream",
     "text": [
      "Epoch 9/1000: 100%|██████████| 422/422 [02:17<00:00,  3.07it/s, Loss=1.5952, Acc=0.3727]\n"
     ]
    },
    {
     "name": "stdout",
     "output_type": "stream",
     "text": [
      "Epoch 9/1000: Train Loss: 1.5952, Train Acc: 0.3727\n"
     ]
    },
    {
     "name": "stderr",
     "output_type": "stream",
     "text": [
      "Validation: 100%|██████████| 47/47 [00:04<00:00, 11.12it/s, Loss=1.5746, Acc=0.3847]\n"
     ]
    },
    {
     "name": "stdout",
     "output_type": "stream",
     "text": [
      "Epoch 9/1000: Val Loss: 1.5746, Val Acc: 0.3847, Val F1: 0.3473\n",
      "Current Learning Rate: 3e-05\n"
     ]
    },
    {
     "name": "stderr",
     "output_type": "stream",
     "text": [
      "Epoch 10/1000: 100%|██████████| 422/422 [02:19<00:00,  3.03it/s, Loss=1.5800, Acc=0.3817]\n"
     ]
    },
    {
     "name": "stdout",
     "output_type": "stream",
     "text": [
      "Epoch 10/1000: Train Loss: 1.5800, Train Acc: 0.3817\n"
     ]
    },
    {
     "name": "stderr",
     "output_type": "stream",
     "text": [
      "Validation: 100%|██████████| 47/47 [00:04<00:00, 11.00it/s, Loss=1.5670, Acc=0.3937]\n"
     ]
    },
    {
     "name": "stdout",
     "output_type": "stream",
     "text": [
      "Epoch 10/1000: Val Loss: 1.5670, Val Acc: 0.3937, Val F1: 0.3583\n",
      "Current Learning Rate: 3e-05\n",
      "Best model saved at ../Experiment Augment Result/model2_augment_best.pt with accuracy: 0.3937\n"
     ]
    },
    {
     "name": "stderr",
     "output_type": "stream",
     "text": [
      "Epoch 11/1000: 100%|██████████| 422/422 [02:17<00:00,  3.08it/s, Loss=1.5711, Acc=0.3820]\n"
     ]
    },
    {
     "name": "stdout",
     "output_type": "stream",
     "text": [
      "Epoch 11/1000: Train Loss: 1.5711, Train Acc: 0.3820\n"
     ]
    },
    {
     "name": "stderr",
     "output_type": "stream",
     "text": [
      "Validation: 100%|██████████| 47/47 [00:04<00:00, 11.12it/s, Loss=1.5518, Acc=0.3957]\n"
     ]
    },
    {
     "name": "stdout",
     "output_type": "stream",
     "text": [
      "Epoch 11/1000: Val Loss: 1.5518, Val Acc: 0.3957, Val F1: 0.3517\n",
      "Current Learning Rate: 3e-05\n",
      "Best model saved at ../Experiment Augment Result/model2_augment_best.pt with accuracy: 0.3957\n"
     ]
    },
    {
     "name": "stderr",
     "output_type": "stream",
     "text": [
      "Epoch 12/1000: 100%|██████████| 422/422 [02:17<00:00,  3.06it/s, Loss=1.5555, Acc=0.3913]\n"
     ]
    },
    {
     "name": "stdout",
     "output_type": "stream",
     "text": [
      "Epoch 12/1000: Train Loss: 1.5555, Train Acc: 0.3913\n"
     ]
    },
    {
     "name": "stderr",
     "output_type": "stream",
     "text": [
      "Validation: 100%|██████████| 47/47 [00:04<00:00, 11.13it/s, Loss=1.5258, Acc=0.3993]\n"
     ]
    },
    {
     "name": "stdout",
     "output_type": "stream",
     "text": [
      "Epoch 12/1000: Val Loss: 1.5258, Val Acc: 0.3993, Val F1: 0.3541\n",
      "Current Learning Rate: 3e-05\n",
      "Best model saved at ../Experiment Augment Result/model2_augment_best.pt with accuracy: 0.3993\n"
     ]
    },
    {
     "name": "stderr",
     "output_type": "stream",
     "text": [
      "Epoch 13/1000: 100%|██████████| 422/422 [02:18<00:00,  3.05it/s, Loss=1.5425, Acc=0.3913]\n"
     ]
    },
    {
     "name": "stdout",
     "output_type": "stream",
     "text": [
      "Epoch 13/1000: Train Loss: 1.5425, Train Acc: 0.3913\n"
     ]
    },
    {
     "name": "stderr",
     "output_type": "stream",
     "text": [
      "Validation: 100%|██████████| 47/47 [00:04<00:00, 11.37it/s, Loss=1.5108, Acc=0.4077]\n"
     ]
    },
    {
     "name": "stdout",
     "output_type": "stream",
     "text": [
      "Epoch 13/1000: Val Loss: 1.5108, Val Acc: 0.4077, Val F1: 0.3566\n",
      "Current Learning Rate: 3e-05\n",
      "Best model saved at ../Experiment Augment Result/model2_augment_best.pt with accuracy: 0.4077\n"
     ]
    },
    {
     "name": "stderr",
     "output_type": "stream",
     "text": [
      "Epoch 14/1000: 100%|██████████| 422/422 [02:18<00:00,  3.04it/s, Loss=1.5326, Acc=0.4010]\n"
     ]
    },
    {
     "name": "stdout",
     "output_type": "stream",
     "text": [
      "Epoch 14/1000: Train Loss: 1.5326, Train Acc: 0.4010\n"
     ]
    },
    {
     "name": "stderr",
     "output_type": "stream",
     "text": [
      "Validation: 100%|██████████| 47/47 [00:04<00:00, 11.37it/s, Loss=1.4987, Acc=0.4130]\n"
     ]
    },
    {
     "name": "stdout",
     "output_type": "stream",
     "text": [
      "Epoch 14/1000: Val Loss: 1.4987, Val Acc: 0.4130, Val F1: 0.3725\n",
      "Current Learning Rate: 3e-05\n",
      "Best model saved at ../Experiment Augment Result/model2_augment_best.pt with accuracy: 0.4130\n"
     ]
    },
    {
     "name": "stderr",
     "output_type": "stream",
     "text": [
      "Epoch 15/1000: 100%|██████████| 422/422 [02:16<00:00,  3.10it/s, Loss=1.5232, Acc=0.4042]\n"
     ]
    },
    {
     "name": "stdout",
     "output_type": "stream",
     "text": [
      "Epoch 15/1000: Train Loss: 1.5232, Train Acc: 0.4042\n"
     ]
    },
    {
     "name": "stderr",
     "output_type": "stream",
     "text": [
      "Validation: 100%|██████████| 47/47 [00:04<00:00, 11.08it/s, Loss=1.4961, Acc=0.4250]\n"
     ]
    },
    {
     "name": "stdout",
     "output_type": "stream",
     "text": [
      "Epoch 15/1000: Val Loss: 1.4961, Val Acc: 0.4250, Val F1: 0.3694\n",
      "Current Learning Rate: 3e-05\n",
      "Best model saved at ../Experiment Augment Result/model2_augment_best.pt with accuracy: 0.4250\n"
     ]
    },
    {
     "name": "stderr",
     "output_type": "stream",
     "text": [
      "Epoch 16/1000: 100%|██████████| 422/422 [02:17<00:00,  3.08it/s, Loss=1.5059, Acc=0.4112]\n"
     ]
    },
    {
     "name": "stdout",
     "output_type": "stream",
     "text": [
      "Epoch 16/1000: Train Loss: 1.5059, Train Acc: 0.4112\n"
     ]
    },
    {
     "name": "stderr",
     "output_type": "stream",
     "text": [
      "Validation: 100%|██████████| 47/47 [00:04<00:00, 11.10it/s, Loss=1.4798, Acc=0.4250]\n"
     ]
    },
    {
     "name": "stdout",
     "output_type": "stream",
     "text": [
      "Epoch 16/1000: Val Loss: 1.4798, Val Acc: 0.4250, Val F1: 0.3737\n",
      "Current Learning Rate: 3e-05\n"
     ]
    },
    {
     "name": "stderr",
     "output_type": "stream",
     "text": [
      "Epoch 17/1000: 100%|██████████| 422/422 [02:17<00:00,  3.07it/s, Loss=1.4928, Acc=0.4165]\n"
     ]
    },
    {
     "name": "stdout",
     "output_type": "stream",
     "text": [
      "Epoch 17/1000: Train Loss: 1.4928, Train Acc: 0.4165\n"
     ]
    },
    {
     "name": "stderr",
     "output_type": "stream",
     "text": [
      "Validation: 100%|██████████| 47/47 [00:04<00:00, 10.59it/s, Loss=1.4739, Acc=0.4250]\n"
     ]
    },
    {
     "name": "stdout",
     "output_type": "stream",
     "text": [
      "Epoch 17/1000: Val Loss: 1.4739, Val Acc: 0.4250, Val F1: 0.3780\n",
      "Current Learning Rate: 3e-05\n"
     ]
    },
    {
     "name": "stderr",
     "output_type": "stream",
     "text": [
      "Epoch 18/1000: 100%|██████████| 422/422 [02:18<00:00,  3.04it/s, Loss=1.4792, Acc=0.4223]\n"
     ]
    },
    {
     "name": "stdout",
     "output_type": "stream",
     "text": [
      "Epoch 18/1000: Train Loss: 1.4792, Train Acc: 0.4223\n"
     ]
    },
    {
     "name": "stderr",
     "output_type": "stream",
     "text": [
      "Validation: 100%|██████████| 47/47 [00:04<00:00, 11.12it/s, Loss=1.4507, Acc=0.4327]\n"
     ]
    },
    {
     "name": "stdout",
     "output_type": "stream",
     "text": [
      "Epoch 18/1000: Val Loss: 1.4507, Val Acc: 0.4327, Val F1: 0.3980\n",
      "Current Learning Rate: 3e-05\n",
      "Best model saved at ../Experiment Augment Result/model2_augment_best.pt with accuracy: 0.4327\n"
     ]
    },
    {
     "name": "stderr",
     "output_type": "stream",
     "text": [
      "Epoch 19/1000: 100%|██████████| 422/422 [02:21<00:00,  2.99it/s, Loss=1.4725, Acc=0.4241]\n"
     ]
    },
    {
     "name": "stdout",
     "output_type": "stream",
     "text": [
      "Epoch 19/1000: Train Loss: 1.4725, Train Acc: 0.4241\n"
     ]
    },
    {
     "name": "stderr",
     "output_type": "stream",
     "text": [
      "Validation: 100%|██████████| 47/47 [00:04<00:00, 10.49it/s, Loss=1.4733, Acc=0.4177]\n"
     ]
    },
    {
     "name": "stdout",
     "output_type": "stream",
     "text": [
      "Epoch 19/1000: Val Loss: 1.4733, Val Acc: 0.4177, Val F1: 0.3817\n",
      "Current Learning Rate: 3e-05\n"
     ]
    },
    {
     "name": "stderr",
     "output_type": "stream",
     "text": [
      "Epoch 20/1000: 100%|██████████| 422/422 [02:18<00:00,  3.05it/s, Loss=1.4553, Acc=0.4321]\n"
     ]
    },
    {
     "name": "stdout",
     "output_type": "stream",
     "text": [
      "Epoch 20/1000: Train Loss: 1.4553, Train Acc: 0.4321\n"
     ]
    },
    {
     "name": "stderr",
     "output_type": "stream",
     "text": [
      "Validation: 100%|██████████| 47/47 [00:04<00:00, 11.12it/s, Loss=1.4346, Acc=0.4353]\n"
     ]
    },
    {
     "name": "stdout",
     "output_type": "stream",
     "text": [
      "Epoch 20/1000: Val Loss: 1.4346, Val Acc: 0.4353, Val F1: 0.4260\n",
      "Current Learning Rate: 3e-05\n",
      "Best model saved at ../Experiment Augment Result/model2_augment_best.pt with accuracy: 0.4353\n"
     ]
    },
    {
     "name": "stderr",
     "output_type": "stream",
     "text": [
      "Epoch 21/1000: 100%|██████████| 422/422 [02:16<00:00,  3.09it/s, Loss=1.4458, Acc=0.4391]\n"
     ]
    },
    {
     "name": "stdout",
     "output_type": "stream",
     "text": [
      "Epoch 21/1000: Train Loss: 1.4458, Train Acc: 0.4391\n"
     ]
    },
    {
     "name": "stderr",
     "output_type": "stream",
     "text": [
      "Validation: 100%|██████████| 47/47 [00:04<00:00, 11.12it/s, Loss=1.4254, Acc=0.4403]\n"
     ]
    },
    {
     "name": "stdout",
     "output_type": "stream",
     "text": [
      "Epoch 21/1000: Val Loss: 1.4254, Val Acc: 0.4403, Val F1: 0.4167\n",
      "Current Learning Rate: 3e-05\n",
      "Best model saved at ../Experiment Augment Result/model2_augment_best.pt with accuracy: 0.4403\n"
     ]
    },
    {
     "name": "stderr",
     "output_type": "stream",
     "text": [
      "Epoch 22/1000: 100%|██████████| 422/422 [02:17<00:00,  3.08it/s, Loss=1.4369, Acc=0.4394]\n"
     ]
    },
    {
     "name": "stdout",
     "output_type": "stream",
     "text": [
      "Epoch 22/1000: Train Loss: 1.4369, Train Acc: 0.4394\n"
     ]
    },
    {
     "name": "stderr",
     "output_type": "stream",
     "text": [
      "Validation: 100%|██████████| 47/47 [00:04<00:00, 11.10it/s, Loss=1.4094, Acc=0.4453]\n"
     ]
    },
    {
     "name": "stdout",
     "output_type": "stream",
     "text": [
      "Epoch 22/1000: Val Loss: 1.4094, Val Acc: 0.4453, Val F1: 0.4221\n",
      "Current Learning Rate: 3e-05\n",
      "Best model saved at ../Experiment Augment Result/model2_augment_best.pt with accuracy: 0.4453\n"
     ]
    },
    {
     "name": "stderr",
     "output_type": "stream",
     "text": [
      "Epoch 23/1000: 100%|██████████| 422/422 [02:16<00:00,  3.08it/s, Loss=1.4207, Acc=0.4489]\n"
     ]
    },
    {
     "name": "stdout",
     "output_type": "stream",
     "text": [
      "Epoch 23/1000: Train Loss: 1.4207, Train Acc: 0.4489\n"
     ]
    },
    {
     "name": "stderr",
     "output_type": "stream",
     "text": [
      "Validation: 100%|██████████| 47/47 [00:04<00:00, 11.11it/s, Loss=1.4238, Acc=0.4447]\n"
     ]
    },
    {
     "name": "stdout",
     "output_type": "stream",
     "text": [
      "Epoch 23/1000: Val Loss: 1.4238, Val Acc: 0.4447, Val F1: 0.4203\n",
      "Current Learning Rate: 3e-05\n"
     ]
    },
    {
     "name": "stderr",
     "output_type": "stream",
     "text": [
      "Epoch 24/1000: 100%|██████████| 422/422 [02:16<00:00,  3.08it/s, Loss=1.4134, Acc=0.4490]\n"
     ]
    },
    {
     "name": "stdout",
     "output_type": "stream",
     "text": [
      "Epoch 24/1000: Train Loss: 1.4134, Train Acc: 0.4490\n"
     ]
    },
    {
     "name": "stderr",
     "output_type": "stream",
     "text": [
      "Validation: 100%|██████████| 47/47 [00:04<00:00, 11.11it/s, Loss=1.3837, Acc=0.4603]\n"
     ]
    },
    {
     "name": "stdout",
     "output_type": "stream",
     "text": [
      "Epoch 24/1000: Val Loss: 1.3837, Val Acc: 0.4603, Val F1: 0.4458\n",
      "Current Learning Rate: 3e-05\n",
      "Best model saved at ../Experiment Augment Result/model2_augment_best.pt with accuracy: 0.4603\n"
     ]
    },
    {
     "name": "stderr",
     "output_type": "stream",
     "text": [
      "Epoch 25/1000: 100%|██████████| 422/422 [02:16<00:00,  3.09it/s, Loss=1.3950, Acc=0.4556]\n"
     ]
    },
    {
     "name": "stdout",
     "output_type": "stream",
     "text": [
      "Epoch 25/1000: Train Loss: 1.3950, Train Acc: 0.4556\n"
     ]
    },
    {
     "name": "stderr",
     "output_type": "stream",
     "text": [
      "Validation: 100%|██████████| 47/47 [00:04<00:00, 11.35it/s, Loss=1.3857, Acc=0.4590]\n"
     ]
    },
    {
     "name": "stdout",
     "output_type": "stream",
     "text": [
      "Epoch 25/1000: Val Loss: 1.3857, Val Acc: 0.4590, Val F1: 0.4449\n",
      "Current Learning Rate: 3e-05\n"
     ]
    },
    {
     "name": "stderr",
     "output_type": "stream",
     "text": [
      "Epoch 26/1000: 100%|██████████| 422/422 [02:19<00:00,  3.03it/s, Loss=1.3907, Acc=0.4590]\n"
     ]
    },
    {
     "name": "stdout",
     "output_type": "stream",
     "text": [
      "Epoch 26/1000: Train Loss: 1.3907, Train Acc: 0.4590\n"
     ]
    },
    {
     "name": "stderr",
     "output_type": "stream",
     "text": [
      "Validation: 100%|██████████| 47/47 [00:04<00:00, 11.17it/s, Loss=1.3835, Acc=0.4657]\n"
     ]
    },
    {
     "name": "stdout",
     "output_type": "stream",
     "text": [
      "Epoch 26/1000: Val Loss: 1.3835, Val Acc: 0.4657, Val F1: 0.4296\n",
      "Current Learning Rate: 3e-05\n",
      "Best model saved at ../Experiment Augment Result/model2_augment_best.pt with accuracy: 0.4657\n"
     ]
    },
    {
     "name": "stderr",
     "output_type": "stream",
     "text": [
      "Epoch 27/1000: 100%|██████████| 422/422 [02:18<00:00,  3.04it/s, Loss=1.3719, Acc=0.4687]\n"
     ]
    },
    {
     "name": "stdout",
     "output_type": "stream",
     "text": [
      "Epoch 27/1000: Train Loss: 1.3719, Train Acc: 0.4687\n"
     ]
    },
    {
     "name": "stderr",
     "output_type": "stream",
     "text": [
      "Validation: 100%|██████████| 47/47 [00:04<00:00, 10.90it/s, Loss=1.3688, Acc=0.4583]\n"
     ]
    },
    {
     "name": "stdout",
     "output_type": "stream",
     "text": [
      "Epoch 27/1000: Val Loss: 1.3688, Val Acc: 0.4583, Val F1: 0.4385\n",
      "Current Learning Rate: 3e-05\n"
     ]
    },
    {
     "name": "stderr",
     "output_type": "stream",
     "text": [
      "Epoch 28/1000: 100%|██████████| 422/422 [02:20<00:00,  3.01it/s, Loss=1.3686, Acc=0.4691]\n"
     ]
    },
    {
     "name": "stdout",
     "output_type": "stream",
     "text": [
      "Epoch 28/1000: Train Loss: 1.3686, Train Acc: 0.4691\n"
     ]
    },
    {
     "name": "stderr",
     "output_type": "stream",
     "text": [
      "Validation: 100%|██████████| 47/47 [00:04<00:00, 10.55it/s, Loss=1.3716, Acc=0.4473]\n"
     ]
    },
    {
     "name": "stdout",
     "output_type": "stream",
     "text": [
      "Epoch 28/1000: Val Loss: 1.3716, Val Acc: 0.4473, Val F1: 0.4323\n",
      "Current Learning Rate: 3e-05\n"
     ]
    },
    {
     "name": "stderr",
     "output_type": "stream",
     "text": [
      "Epoch 29/1000: 100%|██████████| 422/422 [02:19<00:00,  3.03it/s, Loss=1.3548, Acc=0.4740]\n"
     ]
    },
    {
     "name": "stdout",
     "output_type": "stream",
     "text": [
      "Epoch 29/1000: Train Loss: 1.3548, Train Acc: 0.4740\n"
     ]
    },
    {
     "name": "stderr",
     "output_type": "stream",
     "text": [
      "Validation: 100%|██████████| 47/47 [00:04<00:00, 11.09it/s, Loss=1.3512, Acc=0.4693]\n"
     ]
    },
    {
     "name": "stdout",
     "output_type": "stream",
     "text": [
      "Epoch 29/1000: Val Loss: 1.3512, Val Acc: 0.4693, Val F1: 0.4580\n",
      "Current Learning Rate: 3e-05\n",
      "Best model saved at ../Experiment Augment Result/model2_augment_best.pt with accuracy: 0.4693\n"
     ]
    },
    {
     "name": "stderr",
     "output_type": "stream",
     "text": [
      "Epoch 30/1000: 100%|██████████| 422/422 [02:18<00:00,  3.06it/s, Loss=1.3461, Acc=0.4795]\n"
     ]
    },
    {
     "name": "stdout",
     "output_type": "stream",
     "text": [
      "Epoch 30/1000: Train Loss: 1.3461, Train Acc: 0.4795\n"
     ]
    },
    {
     "name": "stderr",
     "output_type": "stream",
     "text": [
      "Validation: 100%|██████████| 47/47 [00:04<00:00, 11.07it/s, Loss=1.3632, Acc=0.4700]\n"
     ]
    },
    {
     "name": "stdout",
     "output_type": "stream",
     "text": [
      "Epoch 30/1000: Val Loss: 1.3632, Val Acc: 0.4700, Val F1: 0.4516\n",
      "Current Learning Rate: 3e-05\n",
      "Best model saved at ../Experiment Augment Result/model2_augment_best.pt with accuracy: 0.4700\n"
     ]
    },
    {
     "name": "stderr",
     "output_type": "stream",
     "text": [
      "Epoch 31/1000: 100%|██████████| 422/422 [02:17<00:00,  3.07it/s, Loss=1.3327, Acc=0.4836]\n"
     ]
    },
    {
     "name": "stdout",
     "output_type": "stream",
     "text": [
      "Epoch 31/1000: Train Loss: 1.3327, Train Acc: 0.4836\n"
     ]
    },
    {
     "name": "stderr",
     "output_type": "stream",
     "text": [
      "Validation: 100%|██████████| 47/47 [00:04<00:00, 11.08it/s, Loss=1.3471, Acc=0.4803]\n"
     ]
    },
    {
     "name": "stdout",
     "output_type": "stream",
     "text": [
      "Epoch 31/1000: Val Loss: 1.3471, Val Acc: 0.4803, Val F1: 0.4667\n",
      "Current Learning Rate: 3e-05\n",
      "Best model saved at ../Experiment Augment Result/model2_augment_best.pt with accuracy: 0.4803\n"
     ]
    },
    {
     "name": "stderr",
     "output_type": "stream",
     "text": [
      "Epoch 32/1000: 100%|██████████| 422/422 [02:19<00:00,  3.03it/s, Loss=1.3279, Acc=0.4839]\n"
     ]
    },
    {
     "name": "stdout",
     "output_type": "stream",
     "text": [
      "Epoch 32/1000: Train Loss: 1.3279, Train Acc: 0.4839\n"
     ]
    },
    {
     "name": "stderr",
     "output_type": "stream",
     "text": [
      "Validation: 100%|██████████| 47/47 [00:04<00:00, 11.09it/s, Loss=1.3542, Acc=0.4790]\n"
     ]
    },
    {
     "name": "stdout",
     "output_type": "stream",
     "text": [
      "Epoch 32/1000: Val Loss: 1.3542, Val Acc: 0.4790, Val F1: 0.4601\n",
      "Current Learning Rate: 3e-05\n"
     ]
    },
    {
     "name": "stderr",
     "output_type": "stream",
     "text": [
      "Epoch 33/1000: 100%|██████████| 422/422 [02:17<00:00,  3.08it/s, Loss=1.3222, Acc=0.4884]\n"
     ]
    },
    {
     "name": "stdout",
     "output_type": "stream",
     "text": [
      "Epoch 33/1000: Train Loss: 1.3222, Train Acc: 0.4884\n"
     ]
    },
    {
     "name": "stderr",
     "output_type": "stream",
     "text": [
      "Validation: 100%|██████████| 47/47 [00:04<00:00, 11.10it/s, Loss=1.3258, Acc=0.4837]\n"
     ]
    },
    {
     "name": "stdout",
     "output_type": "stream",
     "text": [
      "Epoch 33/1000: Val Loss: 1.3258, Val Acc: 0.4837, Val F1: 0.4694\n",
      "Current Learning Rate: 3e-05\n",
      "Best model saved at ../Experiment Augment Result/model2_augment_best.pt with accuracy: 0.4837\n"
     ]
    },
    {
     "name": "stderr",
     "output_type": "stream",
     "text": [
      "Epoch 34/1000: 100%|██████████| 422/422 [02:19<00:00,  3.03it/s, Loss=1.3093, Acc=0.4924]\n"
     ]
    },
    {
     "name": "stdout",
     "output_type": "stream",
     "text": [
      "Epoch 34/1000: Train Loss: 1.3093, Train Acc: 0.4924\n"
     ]
    },
    {
     "name": "stderr",
     "output_type": "stream",
     "text": [
      "Validation: 100%|██████████| 47/47 [00:04<00:00, 11.08it/s, Loss=1.3256, Acc=0.4930]\n"
     ]
    },
    {
     "name": "stdout",
     "output_type": "stream",
     "text": [
      "Epoch 34/1000: Val Loss: 1.3256, Val Acc: 0.4930, Val F1: 0.4785\n",
      "Current Learning Rate: 3e-05\n",
      "Best model saved at ../Experiment Augment Result/model2_augment_best.pt with accuracy: 0.4930\n"
     ]
    },
    {
     "name": "stderr",
     "output_type": "stream",
     "text": [
      "Epoch 35/1000: 100%|██████████| 422/422 [02:18<00:00,  3.05it/s, Loss=1.2986, Acc=0.4972]\n"
     ]
    },
    {
     "name": "stdout",
     "output_type": "stream",
     "text": [
      "Epoch 35/1000: Train Loss: 1.2986, Train Acc: 0.4972\n"
     ]
    },
    {
     "name": "stderr",
     "output_type": "stream",
     "text": [
      "Validation: 100%|██████████| 47/47 [00:04<00:00, 11.10it/s, Loss=1.3346, Acc=0.4870]\n"
     ]
    },
    {
     "name": "stdout",
     "output_type": "stream",
     "text": [
      "Epoch 35/1000: Val Loss: 1.3346, Val Acc: 0.4870, Val F1: 0.4475\n",
      "Current Learning Rate: 3e-05\n"
     ]
    },
    {
     "name": "stderr",
     "output_type": "stream",
     "text": [
      "Epoch 36/1000: 100%|██████████| 422/422 [02:16<00:00,  3.08it/s, Loss=1.2904, Acc=0.5024]\n"
     ]
    },
    {
     "name": "stdout",
     "output_type": "stream",
     "text": [
      "Epoch 36/1000: Train Loss: 1.2904, Train Acc: 0.5024\n"
     ]
    },
    {
     "name": "stderr",
     "output_type": "stream",
     "text": [
      "Validation: 100%|██████████| 47/47 [00:04<00:00, 11.11it/s, Loss=1.3151, Acc=0.4960]\n"
     ]
    },
    {
     "name": "stdout",
     "output_type": "stream",
     "text": [
      "Epoch 36/1000: Val Loss: 1.3151, Val Acc: 0.4960, Val F1: 0.4779\n",
      "Current Learning Rate: 3e-05\n",
      "Best model saved at ../Experiment Augment Result/model2_augment_best.pt with accuracy: 0.4960\n"
     ]
    },
    {
     "name": "stderr",
     "output_type": "stream",
     "text": [
      "Epoch 37/1000: 100%|██████████| 422/422 [02:18<00:00,  3.05it/s, Loss=1.2825, Acc=0.5034]\n"
     ]
    },
    {
     "name": "stdout",
     "output_type": "stream",
     "text": [
      "Epoch 37/1000: Train Loss: 1.2825, Train Acc: 0.5034\n"
     ]
    },
    {
     "name": "stderr",
     "output_type": "stream",
     "text": [
      "Validation: 100%|██████████| 47/47 [00:04<00:00, 11.11it/s, Loss=1.3134, Acc=0.4833]\n"
     ]
    },
    {
     "name": "stdout",
     "output_type": "stream",
     "text": [
      "Epoch 37/1000: Val Loss: 1.3134, Val Acc: 0.4833, Val F1: 0.4628\n",
      "Current Learning Rate: 3e-05\n"
     ]
    },
    {
     "name": "stderr",
     "output_type": "stream",
     "text": [
      "Epoch 38/1000: 100%|██████████| 422/422 [02:18<00:00,  3.05it/s, Loss=1.2680, Acc=0.5096]\n"
     ]
    },
    {
     "name": "stdout",
     "output_type": "stream",
     "text": [
      "Epoch 38/1000: Train Loss: 1.2680, Train Acc: 0.5096\n"
     ]
    },
    {
     "name": "stderr",
     "output_type": "stream",
     "text": [
      "Validation: 100%|██████████| 47/47 [00:04<00:00, 11.12it/s, Loss=1.2966, Acc=0.4973]\n"
     ]
    },
    {
     "name": "stdout",
     "output_type": "stream",
     "text": [
      "Epoch 38/1000: Val Loss: 1.2966, Val Acc: 0.4973, Val F1: 0.4800\n",
      "Current Learning Rate: 3e-05\n",
      "Best model saved at ../Experiment Augment Result/model2_augment_best.pt with accuracy: 0.4973\n"
     ]
    },
    {
     "name": "stderr",
     "output_type": "stream",
     "text": [
      "Epoch 39/1000: 100%|██████████| 422/422 [02:18<00:00,  3.05it/s, Loss=1.2631, Acc=0.5127]\n"
     ]
    },
    {
     "name": "stdout",
     "output_type": "stream",
     "text": [
      "Epoch 39/1000: Train Loss: 1.2631, Train Acc: 0.5127\n"
     ]
    },
    {
     "name": "stderr",
     "output_type": "stream",
     "text": [
      "Validation: 100%|██████████| 47/47 [00:04<00:00, 11.01it/s, Loss=1.2857, Acc=0.4970]\n"
     ]
    },
    {
     "name": "stdout",
     "output_type": "stream",
     "text": [
      "Epoch 39/1000: Val Loss: 1.2857, Val Acc: 0.4970, Val F1: 0.4924\n",
      "Current Learning Rate: 3e-05\n"
     ]
    },
    {
     "name": "stderr",
     "output_type": "stream",
     "text": [
      "Epoch 40/1000: 100%|██████████| 422/422 [02:17<00:00,  3.06it/s, Loss=1.2511, Acc=0.5170]\n"
     ]
    },
    {
     "name": "stdout",
     "output_type": "stream",
     "text": [
      "Epoch 40/1000: Train Loss: 1.2511, Train Acc: 0.5170\n"
     ]
    },
    {
     "name": "stderr",
     "output_type": "stream",
     "text": [
      "Validation: 100%|██████████| 47/47 [00:04<00:00, 11.10it/s, Loss=1.2952, Acc=0.5060]\n"
     ]
    },
    {
     "name": "stdout",
     "output_type": "stream",
     "text": [
      "Epoch 40/1000: Val Loss: 1.2952, Val Acc: 0.5060, Val F1: 0.4890\n",
      "Current Learning Rate: 3e-05\n",
      "Best model saved at ../Experiment Augment Result/model2_augment_best.pt with accuracy: 0.5060\n"
     ]
    },
    {
     "name": "stderr",
     "output_type": "stream",
     "text": [
      "Epoch 41/1000: 100%|██████████| 422/422 [02:20<00:00,  3.01it/s, Loss=1.2385, Acc=0.5224]\n"
     ]
    },
    {
     "name": "stdout",
     "output_type": "stream",
     "text": [
      "Epoch 41/1000: Train Loss: 1.2385, Train Acc: 0.5224\n"
     ]
    },
    {
     "name": "stderr",
     "output_type": "stream",
     "text": [
      "Validation: 100%|██████████| 47/47 [00:04<00:00, 11.06it/s, Loss=1.2910, Acc=0.5003]\n"
     ]
    },
    {
     "name": "stdout",
     "output_type": "stream",
     "text": [
      "Epoch 41/1000: Val Loss: 1.2910, Val Acc: 0.5003, Val F1: 0.4911\n",
      "Current Learning Rate: 3e-05\n"
     ]
    },
    {
     "name": "stderr",
     "output_type": "stream",
     "text": [
      "Epoch 42/1000: 100%|██████████| 422/422 [02:20<00:00,  3.01it/s, Loss=1.2364, Acc=0.5209]\n"
     ]
    },
    {
     "name": "stdout",
     "output_type": "stream",
     "text": [
      "Epoch 42/1000: Train Loss: 1.2364, Train Acc: 0.5209\n"
     ]
    },
    {
     "name": "stderr",
     "output_type": "stream",
     "text": [
      "Validation: 100%|██████████| 47/47 [00:04<00:00, 11.10it/s, Loss=1.2880, Acc=0.4913]\n"
     ]
    },
    {
     "name": "stdout",
     "output_type": "stream",
     "text": [
      "Epoch 42/1000: Val Loss: 1.2880, Val Acc: 0.4913, Val F1: 0.4807\n",
      "Current Learning Rate: 3e-05\n"
     ]
    },
    {
     "name": "stderr",
     "output_type": "stream",
     "text": [
      "Epoch 43/1000: 100%|██████████| 422/422 [02:17<00:00,  3.07it/s, Loss=1.2318, Acc=0.5228]\n"
     ]
    },
    {
     "name": "stdout",
     "output_type": "stream",
     "text": [
      "Epoch 43/1000: Train Loss: 1.2318, Train Acc: 0.5228\n"
     ]
    },
    {
     "name": "stderr",
     "output_type": "stream",
     "text": [
      "Validation: 100%|██████████| 47/47 [00:04<00:00, 11.11it/s, Loss=1.2979, Acc=0.4870]\n"
     ]
    },
    {
     "name": "stdout",
     "output_type": "stream",
     "text": [
      "Epoch 43/1000: Val Loss: 1.2979, Val Acc: 0.4870, Val F1: 0.4841\n",
      "Current Learning Rate: 3e-05\n"
     ]
    },
    {
     "name": "stderr",
     "output_type": "stream",
     "text": [
      "Epoch 44/1000: 100%|██████████| 422/422 [02:17<00:00,  3.07it/s, Loss=1.2201, Acc=0.5323]\n"
     ]
    },
    {
     "name": "stdout",
     "output_type": "stream",
     "text": [
      "Epoch 44/1000: Train Loss: 1.2201, Train Acc: 0.5323\n"
     ]
    },
    {
     "name": "stderr",
     "output_type": "stream",
     "text": [
      "Validation: 100%|██████████| 47/47 [00:04<00:00, 11.11it/s, Loss=1.2819, Acc=0.5037]\n"
     ]
    },
    {
     "name": "stdout",
     "output_type": "stream",
     "text": [
      "Epoch 44/1000: Val Loss: 1.2819, Val Acc: 0.5037, Val F1: 0.4943\n",
      "Current Learning Rate: 3e-05\n"
     ]
    },
    {
     "name": "stderr",
     "output_type": "stream",
     "text": [
      "Epoch 45/1000: 100%|██████████| 422/422 [02:18<00:00,  3.04it/s, Loss=1.2143, Acc=0.5348]\n"
     ]
    },
    {
     "name": "stdout",
     "output_type": "stream",
     "text": [
      "Epoch 45/1000: Train Loss: 1.2143, Train Acc: 0.5348\n"
     ]
    },
    {
     "name": "stderr",
     "output_type": "stream",
     "text": [
      "Validation: 100%|██████████| 47/47 [00:04<00:00, 11.10it/s, Loss=1.2718, Acc=0.5010]\n"
     ]
    },
    {
     "name": "stdout",
     "output_type": "stream",
     "text": [
      "Epoch 45/1000: Val Loss: 1.2718, Val Acc: 0.5010, Val F1: 0.4828\n",
      "Current Learning Rate: 3e-05\n"
     ]
    },
    {
     "name": "stderr",
     "output_type": "stream",
     "text": [
      "Epoch 46/1000: 100%|██████████| 422/422 [02:18<00:00,  3.04it/s, Loss=1.2012, Acc=0.5394]\n"
     ]
    },
    {
     "name": "stdout",
     "output_type": "stream",
     "text": [
      "Epoch 46/1000: Train Loss: 1.2012, Train Acc: 0.5394\n"
     ]
    },
    {
     "name": "stderr",
     "output_type": "stream",
     "text": [
      "Validation: 100%|██████████| 47/47 [00:04<00:00, 11.11it/s, Loss=1.2580, Acc=0.5150]\n"
     ]
    },
    {
     "name": "stdout",
     "output_type": "stream",
     "text": [
      "Epoch 46/1000: Val Loss: 1.2580, Val Acc: 0.5150, Val F1: 0.5005\n",
      "Current Learning Rate: 3e-05\n",
      "Best model saved at ../Experiment Augment Result/model2_augment_best.pt with accuracy: 0.5150\n"
     ]
    },
    {
     "name": "stderr",
     "output_type": "stream",
     "text": [
      "Epoch 47/1000: 100%|██████████| 422/422 [02:18<00:00,  3.05it/s, Loss=1.1895, Acc=0.5456]\n"
     ]
    },
    {
     "name": "stdout",
     "output_type": "stream",
     "text": [
      "Epoch 47/1000: Train Loss: 1.1895, Train Acc: 0.5456\n"
     ]
    },
    {
     "name": "stderr",
     "output_type": "stream",
     "text": [
      "Validation: 100%|██████████| 47/47 [00:04<00:00, 11.14it/s, Loss=1.2574, Acc=0.5150]\n"
     ]
    },
    {
     "name": "stdout",
     "output_type": "stream",
     "text": [
      "Epoch 47/1000: Val Loss: 1.2574, Val Acc: 0.5150, Val F1: 0.5040\n",
      "Current Learning Rate: 3e-05\n"
     ]
    },
    {
     "name": "stderr",
     "output_type": "stream",
     "text": [
      "Epoch 48/1000: 100%|██████████| 422/422 [02:17<00:00,  3.06it/s, Loss=1.1824, Acc=0.5453]\n"
     ]
    },
    {
     "name": "stdout",
     "output_type": "stream",
     "text": [
      "Epoch 48/1000: Train Loss: 1.1824, Train Acc: 0.5453\n"
     ]
    },
    {
     "name": "stderr",
     "output_type": "stream",
     "text": [
      "Validation: 100%|██████████| 47/47 [00:04<00:00, 11.08it/s, Loss=1.2610, Acc=0.5147]\n"
     ]
    },
    {
     "name": "stdout",
     "output_type": "stream",
     "text": [
      "Epoch 48/1000: Val Loss: 1.2610, Val Acc: 0.5147, Val F1: 0.5006\n",
      "Current Learning Rate: 3e-05\n"
     ]
    },
    {
     "name": "stderr",
     "output_type": "stream",
     "text": [
      "Epoch 49/1000: 100%|██████████| 422/422 [02:18<00:00,  3.04it/s, Loss=1.1656, Acc=0.5525]\n"
     ]
    },
    {
     "name": "stdout",
     "output_type": "stream",
     "text": [
      "Epoch 49/1000: Train Loss: 1.1656, Train Acc: 0.5525\n"
     ]
    },
    {
     "name": "stderr",
     "output_type": "stream",
     "text": [
      "Validation: 100%|██████████| 47/47 [00:04<00:00, 11.10it/s, Loss=1.2759, Acc=0.5123]\n"
     ]
    },
    {
     "name": "stdout",
     "output_type": "stream",
     "text": [
      "Epoch 49/1000: Val Loss: 1.2759, Val Acc: 0.5123, Val F1: 0.4973\n",
      "Current Learning Rate: 3e-05\n"
     ]
    },
    {
     "name": "stderr",
     "output_type": "stream",
     "text": [
      "Epoch 50/1000: 100%|██████████| 422/422 [02:20<00:00,  3.00it/s, Loss=1.1619, Acc=0.5543]\n"
     ]
    },
    {
     "name": "stdout",
     "output_type": "stream",
     "text": [
      "Epoch 50/1000: Train Loss: 1.1619, Train Acc: 0.5543\n"
     ]
    },
    {
     "name": "stderr",
     "output_type": "stream",
     "text": [
      "Validation: 100%|██████████| 47/47 [00:04<00:00, 11.07it/s, Loss=1.2531, Acc=0.5193]\n"
     ]
    },
    {
     "name": "stdout",
     "output_type": "stream",
     "text": [
      "Epoch 50/1000: Val Loss: 1.2531, Val Acc: 0.5193, Val F1: 0.5131\n",
      "Current Learning Rate: 3e-05\n",
      "Best model saved at ../Experiment Augment Result/model2_augment_best.pt with accuracy: 0.5193\n"
     ]
    },
    {
     "name": "stderr",
     "output_type": "stream",
     "text": [
      "Epoch 51/1000: 100%|██████████| 422/422 [02:17<00:00,  3.07it/s, Loss=1.1554, Acc=0.5573]\n"
     ]
    },
    {
     "name": "stdout",
     "output_type": "stream",
     "text": [
      "Epoch 51/1000: Train Loss: 1.1554, Train Acc: 0.5573\n"
     ]
    },
    {
     "name": "stderr",
     "output_type": "stream",
     "text": [
      "Validation: 100%|██████████| 47/47 [00:04<00:00, 11.08it/s, Loss=1.2508, Acc=0.5210]\n"
     ]
    },
    {
     "name": "stdout",
     "output_type": "stream",
     "text": [
      "Epoch 51/1000: Val Loss: 1.2508, Val Acc: 0.5210, Val F1: 0.5073\n",
      "Current Learning Rate: 3e-05\n",
      "Best model saved at ../Experiment Augment Result/model2_augment_best.pt with accuracy: 0.5210\n"
     ]
    },
    {
     "name": "stderr",
     "output_type": "stream",
     "text": [
      "Epoch 52/1000: 100%|██████████| 422/422 [02:16<00:00,  3.08it/s, Loss=1.1533, Acc=0.5614]\n"
     ]
    },
    {
     "name": "stdout",
     "output_type": "stream",
     "text": [
      "Epoch 52/1000: Train Loss: 1.1533, Train Acc: 0.5614\n"
     ]
    },
    {
     "name": "stderr",
     "output_type": "stream",
     "text": [
      "Validation: 100%|██████████| 47/47 [00:04<00:00, 11.06it/s, Loss=1.2428, Acc=0.5293]\n"
     ]
    },
    {
     "name": "stdout",
     "output_type": "stream",
     "text": [
      "Epoch 52/1000: Val Loss: 1.2428, Val Acc: 0.5293, Val F1: 0.5213\n",
      "Current Learning Rate: 3e-05\n",
      "Best model saved at ../Experiment Augment Result/model2_augment_best.pt with accuracy: 0.5293\n"
     ]
    },
    {
     "name": "stderr",
     "output_type": "stream",
     "text": [
      "Epoch 53/1000: 100%|██████████| 422/422 [02:18<00:00,  3.06it/s, Loss=1.1341, Acc=0.5654]\n"
     ]
    },
    {
     "name": "stdout",
     "output_type": "stream",
     "text": [
      "Epoch 53/1000: Train Loss: 1.1341, Train Acc: 0.5654\n"
     ]
    },
    {
     "name": "stderr",
     "output_type": "stream",
     "text": [
      "Validation: 100%|██████████| 47/47 [00:04<00:00, 11.08it/s, Loss=1.2343, Acc=0.5243]\n"
     ]
    },
    {
     "name": "stdout",
     "output_type": "stream",
     "text": [
      "Epoch 53/1000: Val Loss: 1.2343, Val Acc: 0.5243, Val F1: 0.5101\n",
      "Current Learning Rate: 3e-05\n"
     ]
    },
    {
     "name": "stderr",
     "output_type": "stream",
     "text": [
      "Epoch 54/1000: 100%|██████████| 422/422 [02:17<00:00,  3.07it/s, Loss=1.1279, Acc=0.5676]\n"
     ]
    },
    {
     "name": "stdout",
     "output_type": "stream",
     "text": [
      "Epoch 54/1000: Train Loss: 1.1279, Train Acc: 0.5676\n"
     ]
    },
    {
     "name": "stderr",
     "output_type": "stream",
     "text": [
      "Validation: 100%|██████████| 47/47 [00:04<00:00, 11.05it/s, Loss=1.2571, Acc=0.5190]\n"
     ]
    },
    {
     "name": "stdout",
     "output_type": "stream",
     "text": [
      "Epoch 54/1000: Val Loss: 1.2571, Val Acc: 0.5190, Val F1: 0.5029\n",
      "Current Learning Rate: 3e-05\n"
     ]
    },
    {
     "name": "stderr",
     "output_type": "stream",
     "text": [
      "Epoch 55/1000: 100%|██████████| 422/422 [02:17<00:00,  3.08it/s, Loss=1.1219, Acc=0.5702]\n"
     ]
    },
    {
     "name": "stdout",
     "output_type": "stream",
     "text": [
      "Epoch 55/1000: Train Loss: 1.1219, Train Acc: 0.5702\n"
     ]
    },
    {
     "name": "stderr",
     "output_type": "stream",
     "text": [
      "Validation: 100%|██████████| 47/47 [00:04<00:00, 11.11it/s, Loss=1.2463, Acc=0.5263]\n"
     ]
    },
    {
     "name": "stdout",
     "output_type": "stream",
     "text": [
      "Epoch 55/1000: Val Loss: 1.2463, Val Acc: 0.5263, Val F1: 0.5116\n",
      "Current Learning Rate: 3e-05\n"
     ]
    },
    {
     "name": "stderr",
     "output_type": "stream",
     "text": [
      "Epoch 56/1000: 100%|██████████| 422/422 [02:17<00:00,  3.08it/s, Loss=1.1116, Acc=0.5757]\n"
     ]
    },
    {
     "name": "stdout",
     "output_type": "stream",
     "text": [
      "Epoch 56/1000: Train Loss: 1.1116, Train Acc: 0.5757\n"
     ]
    },
    {
     "name": "stderr",
     "output_type": "stream",
     "text": [
      "Validation: 100%|██████████| 47/47 [00:04<00:00, 10.76it/s, Loss=1.2173, Acc=0.5317]\n"
     ]
    },
    {
     "name": "stdout",
     "output_type": "stream",
     "text": [
      "Epoch 56/1000: Val Loss: 1.2173, Val Acc: 0.5317, Val F1: 0.5141\n",
      "Current Learning Rate: 3e-05\n",
      "Best model saved at ../Experiment Augment Result/model2_augment_best.pt with accuracy: 0.5317\n"
     ]
    },
    {
     "name": "stderr",
     "output_type": "stream",
     "text": [
      "Epoch 57/1000: 100%|██████████| 422/422 [02:17<00:00,  3.07it/s, Loss=1.0988, Acc=0.5810]\n"
     ]
    },
    {
     "name": "stdout",
     "output_type": "stream",
     "text": [
      "Epoch 57/1000: Train Loss: 1.0988, Train Acc: 0.5810\n"
     ]
    },
    {
     "name": "stderr",
     "output_type": "stream",
     "text": [
      "Validation: 100%|██████████| 47/47 [00:04<00:00, 11.11it/s, Loss=1.2361, Acc=0.5263]\n"
     ]
    },
    {
     "name": "stdout",
     "output_type": "stream",
     "text": [
      "Epoch 57/1000: Val Loss: 1.2361, Val Acc: 0.5263, Val F1: 0.5182\n",
      "Current Learning Rate: 3e-05\n"
     ]
    },
    {
     "name": "stderr",
     "output_type": "stream",
     "text": [
      "Epoch 58/1000: 100%|██████████| 422/422 [02:17<00:00,  3.06it/s, Loss=1.0939, Acc=0.5807]\n"
     ]
    },
    {
     "name": "stdout",
     "output_type": "stream",
     "text": [
      "Epoch 58/1000: Train Loss: 1.0939, Train Acc: 0.5807\n"
     ]
    },
    {
     "name": "stderr",
     "output_type": "stream",
     "text": [
      "Validation: 100%|██████████| 47/47 [00:04<00:00, 11.07it/s, Loss=1.2405, Acc=0.5243]\n"
     ]
    },
    {
     "name": "stdout",
     "output_type": "stream",
     "text": [
      "Epoch 58/1000: Val Loss: 1.2405, Val Acc: 0.5243, Val F1: 0.5190\n",
      "Current Learning Rate: 3e-05\n"
     ]
    },
    {
     "name": "stderr",
     "output_type": "stream",
     "text": [
      "Epoch 59/1000: 100%|██████████| 422/422 [02:17<00:00,  3.07it/s, Loss=1.0842, Acc=0.5876]\n"
     ]
    },
    {
     "name": "stdout",
     "output_type": "stream",
     "text": [
      "Epoch 59/1000: Train Loss: 1.0842, Train Acc: 0.5876\n"
     ]
    },
    {
     "name": "stderr",
     "output_type": "stream",
     "text": [
      "Validation: 100%|██████████| 47/47 [00:04<00:00, 11.06it/s, Loss=1.2575, Acc=0.5180]\n"
     ]
    },
    {
     "name": "stdout",
     "output_type": "stream",
     "text": [
      "Epoch 59/1000: Val Loss: 1.2575, Val Acc: 0.5180, Val F1: 0.5097\n",
      "Current Learning Rate: 3e-05\n"
     ]
    },
    {
     "name": "stderr",
     "output_type": "stream",
     "text": [
      "Epoch 60/1000: 100%|██████████| 422/422 [02:17<00:00,  3.08it/s, Loss=1.0783, Acc=0.5923]\n"
     ]
    },
    {
     "name": "stdout",
     "output_type": "stream",
     "text": [
      "Epoch 60/1000: Train Loss: 1.0783, Train Acc: 0.5923\n"
     ]
    },
    {
     "name": "stderr",
     "output_type": "stream",
     "text": [
      "Validation: 100%|██████████| 47/47 [00:04<00:00, 10.90it/s, Loss=1.2496, Acc=0.5333]\n"
     ]
    },
    {
     "name": "stdout",
     "output_type": "stream",
     "text": [
      "Epoch 60/1000: Val Loss: 1.2496, Val Acc: 0.5333, Val F1: 0.5186\n",
      "Current Learning Rate: 3e-05\n",
      "Best model saved at ../Experiment Augment Result/model2_augment_best.pt with accuracy: 0.5333\n"
     ]
    },
    {
     "name": "stderr",
     "output_type": "stream",
     "text": [
      "Epoch 61/1000: 100%|██████████| 422/422 [02:16<00:00,  3.08it/s, Loss=1.0658, Acc=0.5966]\n"
     ]
    },
    {
     "name": "stdout",
     "output_type": "stream",
     "text": [
      "Epoch 61/1000: Train Loss: 1.0658, Train Acc: 0.5966\n"
     ]
    },
    {
     "name": "stderr",
     "output_type": "stream",
     "text": [
      "Validation: 100%|██████████| 47/47 [00:04<00:00, 11.11it/s, Loss=1.2319, Acc=0.5330]\n"
     ]
    },
    {
     "name": "stdout",
     "output_type": "stream",
     "text": [
      "Epoch 61/1000: Val Loss: 1.2319, Val Acc: 0.5330, Val F1: 0.5257\n",
      "Current Learning Rate: 3e-05\n"
     ]
    },
    {
     "name": "stderr",
     "output_type": "stream",
     "text": [
      "Epoch 62/1000: 100%|██████████| 422/422 [02:17<00:00,  3.06it/s, Loss=1.0596, Acc=0.5953]\n"
     ]
    },
    {
     "name": "stdout",
     "output_type": "stream",
     "text": [
      "Epoch 62/1000: Train Loss: 1.0596, Train Acc: 0.5953\n"
     ]
    },
    {
     "name": "stderr",
     "output_type": "stream",
     "text": [
      "Validation: 100%|██████████| 47/47 [00:04<00:00, 11.11it/s, Loss=1.2328, Acc=0.5373]\n"
     ]
    },
    {
     "name": "stdout",
     "output_type": "stream",
     "text": [
      "Epoch 62/1000: Val Loss: 1.2328, Val Acc: 0.5373, Val F1: 0.5288\n",
      "Current Learning Rate: 3e-06\n",
      "Best model saved at ../Experiment Augment Result/model2_augment_best.pt with accuracy: 0.5373\n"
     ]
    },
    {
     "name": "stderr",
     "output_type": "stream",
     "text": [
      "Epoch 63/1000: 100%|██████████| 422/422 [02:16<00:00,  3.08it/s, Loss=0.9994, Acc=0.6200]\n"
     ]
    },
    {
     "name": "stdout",
     "output_type": "stream",
     "text": [
      "Epoch 63/1000: Train Loss: 0.9994, Train Acc: 0.6200\n"
     ]
    },
    {
     "name": "stderr",
     "output_type": "stream",
     "text": [
      "Validation: 100%|██████████| 47/47 [00:04<00:00, 11.07it/s, Loss=1.2055, Acc=0.5427]\n"
     ]
    },
    {
     "name": "stdout",
     "output_type": "stream",
     "text": [
      "Epoch 63/1000: Val Loss: 1.2055, Val Acc: 0.5427, Val F1: 0.5348\n",
      "Current Learning Rate: 3e-06\n",
      "Best model saved at ../Experiment Augment Result/model2_augment_best.pt with accuracy: 0.5427\n"
     ]
    },
    {
     "name": "stderr",
     "output_type": "stream",
     "text": [
      "Epoch 64/1000: 100%|██████████| 422/422 [02:16<00:00,  3.10it/s, Loss=0.9703, Acc=0.6333]\n"
     ]
    },
    {
     "name": "stdout",
     "output_type": "stream",
     "text": [
      "Epoch 64/1000: Train Loss: 0.9703, Train Acc: 0.6333\n"
     ]
    },
    {
     "name": "stderr",
     "output_type": "stream",
     "text": [
      "Validation: 100%|██████████| 47/47 [00:04<00:00, 11.11it/s, Loss=1.2016, Acc=0.5487]\n"
     ]
    },
    {
     "name": "stdout",
     "output_type": "stream",
     "text": [
      "Epoch 64/1000: Val Loss: 1.2016, Val Acc: 0.5487, Val F1: 0.5415\n",
      "Current Learning Rate: 3e-06\n",
      "Best model saved at ../Experiment Augment Result/model2_augment_best.pt with accuracy: 0.5487\n"
     ]
    },
    {
     "name": "stderr",
     "output_type": "stream",
     "text": [
      "Epoch 65/1000: 100%|██████████| 422/422 [02:16<00:00,  3.09it/s, Loss=0.9621, Acc=0.6382]\n"
     ]
    },
    {
     "name": "stdout",
     "output_type": "stream",
     "text": [
      "Epoch 65/1000: Train Loss: 0.9621, Train Acc: 0.6382\n"
     ]
    },
    {
     "name": "stderr",
     "output_type": "stream",
     "text": [
      "Validation: 100%|██████████| 47/47 [00:04<00:00, 11.11it/s, Loss=1.2023, Acc=0.5473]\n"
     ]
    },
    {
     "name": "stdout",
     "output_type": "stream",
     "text": [
      "Epoch 65/1000: Val Loss: 1.2023, Val Acc: 0.5473, Val F1: 0.5407\n",
      "Current Learning Rate: 3e-06\n"
     ]
    },
    {
     "name": "stderr",
     "output_type": "stream",
     "text": [
      "Epoch 66/1000: 100%|██████████| 422/422 [02:17<00:00,  3.07it/s, Loss=0.9566, Acc=0.6406]\n"
     ]
    },
    {
     "name": "stdout",
     "output_type": "stream",
     "text": [
      "Epoch 66/1000: Train Loss: 0.9566, Train Acc: 0.6406\n"
     ]
    },
    {
     "name": "stderr",
     "output_type": "stream",
     "text": [
      "Validation: 100%|██████████| 47/47 [00:04<00:00, 11.08it/s, Loss=1.1995, Acc=0.5500]\n"
     ]
    },
    {
     "name": "stdout",
     "output_type": "stream",
     "text": [
      "Epoch 66/1000: Val Loss: 1.1995, Val Acc: 0.5500, Val F1: 0.5424\n",
      "Current Learning Rate: 3e-06\n",
      "Best model saved at ../Experiment Augment Result/model2_augment_best.pt with accuracy: 0.5500\n"
     ]
    },
    {
     "name": "stderr",
     "output_type": "stream",
     "text": [
      "Epoch 67/1000: 100%|██████████| 422/422 [02:20<00:00,  3.00it/s, Loss=0.9478, Acc=0.6408]\n"
     ]
    },
    {
     "name": "stdout",
     "output_type": "stream",
     "text": [
      "Epoch 67/1000: Train Loss: 0.9478, Train Acc: 0.6408\n"
     ]
    },
    {
     "name": "stderr",
     "output_type": "stream",
     "text": [
      "Validation: 100%|██████████| 47/47 [00:04<00:00, 11.04it/s, Loss=1.2011, Acc=0.5513]\n"
     ]
    },
    {
     "name": "stdout",
     "output_type": "stream",
     "text": [
      "Epoch 67/1000: Val Loss: 1.2011, Val Acc: 0.5513, Val F1: 0.5443\n",
      "Current Learning Rate: 3e-06\n",
      "Best model saved at ../Experiment Augment Result/model2_augment_best.pt with accuracy: 0.5513\n"
     ]
    },
    {
     "name": "stderr",
     "output_type": "stream",
     "text": [
      "Epoch 68/1000: 100%|██████████| 422/422 [02:17<00:00,  3.08it/s, Loss=0.9444, Acc=0.6437]\n"
     ]
    },
    {
     "name": "stdout",
     "output_type": "stream",
     "text": [
      "Epoch 68/1000: Train Loss: 0.9444, Train Acc: 0.6437\n"
     ]
    },
    {
     "name": "stderr",
     "output_type": "stream",
     "text": [
      "Validation: 100%|██████████| 47/47 [00:04<00:00, 11.30it/s, Loss=1.2042, Acc=0.5523]\n"
     ]
    },
    {
     "name": "stdout",
     "output_type": "stream",
     "text": [
      "Epoch 68/1000: Val Loss: 1.2042, Val Acc: 0.5523, Val F1: 0.5454\n",
      "Current Learning Rate: 3e-06\n",
      "Best model saved at ../Experiment Augment Result/model2_augment_best.pt with accuracy: 0.5523\n"
     ]
    },
    {
     "name": "stderr",
     "output_type": "stream",
     "text": [
      "Epoch 69/1000: 100%|██████████| 422/422 [02:17<00:00,  3.06it/s, Loss=0.9414, Acc=0.6454]\n"
     ]
    },
    {
     "name": "stdout",
     "output_type": "stream",
     "text": [
      "Epoch 69/1000: Train Loss: 0.9414, Train Acc: 0.6454\n"
     ]
    },
    {
     "name": "stderr",
     "output_type": "stream",
     "text": [
      "Validation: 100%|██████████| 47/47 [00:04<00:00, 11.17it/s, Loss=1.2046, Acc=0.5490]\n"
     ]
    },
    {
     "name": "stdout",
     "output_type": "stream",
     "text": [
      "Epoch 69/1000: Val Loss: 1.2046, Val Acc: 0.5490, Val F1: 0.5419\n",
      "Current Learning Rate: 3e-06\n"
     ]
    },
    {
     "name": "stderr",
     "output_type": "stream",
     "text": [
      "Epoch 70/1000: 100%|██████████| 422/422 [02:17<00:00,  3.06it/s, Loss=0.9352, Acc=0.6514]\n"
     ]
    },
    {
     "name": "stdout",
     "output_type": "stream",
     "text": [
      "Epoch 70/1000: Train Loss: 0.9352, Train Acc: 0.6514\n"
     ]
    },
    {
     "name": "stderr",
     "output_type": "stream",
     "text": [
      "Validation: 100%|██████████| 47/47 [00:04<00:00, 11.09it/s, Loss=1.2063, Acc=0.5523]\n"
     ]
    },
    {
     "name": "stdout",
     "output_type": "stream",
     "text": [
      "Epoch 70/1000: Val Loss: 1.2063, Val Acc: 0.5523, Val F1: 0.5467\n",
      "Current Learning Rate: 3e-06\n"
     ]
    },
    {
     "name": "stderr",
     "output_type": "stream",
     "text": [
      "Epoch 71/1000: 100%|██████████| 422/422 [02:18<00:00,  3.04it/s, Loss=0.9338, Acc=0.6488]\n"
     ]
    },
    {
     "name": "stdout",
     "output_type": "stream",
     "text": [
      "Epoch 71/1000: Train Loss: 0.9338, Train Acc: 0.6488\n"
     ]
    },
    {
     "name": "stderr",
     "output_type": "stream",
     "text": [
      "Validation: 100%|██████████| 47/47 [00:04<00:00, 11.05it/s, Loss=1.2092, Acc=0.5557]\n"
     ]
    },
    {
     "name": "stdout",
     "output_type": "stream",
     "text": [
      "Epoch 71/1000: Val Loss: 1.2092, Val Acc: 0.5557, Val F1: 0.5493\n",
      "Current Learning Rate: 3e-06\n",
      "Best model saved at ../Experiment Augment Result/model2_augment_best.pt with accuracy: 0.5557\n"
     ]
    },
    {
     "name": "stderr",
     "output_type": "stream",
     "text": [
      "Epoch 72/1000: 100%|██████████| 422/422 [02:16<00:00,  3.08it/s, Loss=0.9279, Acc=0.6499]\n"
     ]
    },
    {
     "name": "stdout",
     "output_type": "stream",
     "text": [
      "Epoch 72/1000: Train Loss: 0.9279, Train Acc: 0.6499\n"
     ]
    },
    {
     "name": "stderr",
     "output_type": "stream",
     "text": [
      "Validation: 100%|██████████| 47/47 [00:04<00:00, 11.11it/s, Loss=1.2145, Acc=0.5527]\n"
     ]
    },
    {
     "name": "stdout",
     "output_type": "stream",
     "text": [
      "Epoch 72/1000: Val Loss: 1.2145, Val Acc: 0.5527, Val F1: 0.5449\n",
      "Current Learning Rate: 3.0000000000000004e-07\n"
     ]
    },
    {
     "name": "stderr",
     "output_type": "stream",
     "text": [
      "Epoch 73/1000: 100%|██████████| 422/422 [02:16<00:00,  3.08it/s, Loss=0.9188, Acc=0.6521]\n"
     ]
    },
    {
     "name": "stdout",
     "output_type": "stream",
     "text": [
      "Epoch 73/1000: Train Loss: 0.9188, Train Acc: 0.6521\n"
     ]
    },
    {
     "name": "stderr",
     "output_type": "stream",
     "text": [
      "Validation: 100%|██████████| 47/47 [00:04<00:00, 10.84it/s, Loss=1.2112, Acc=0.5523]\n"
     ]
    },
    {
     "name": "stdout",
     "output_type": "stream",
     "text": [
      "Epoch 73/1000: Val Loss: 1.2112, Val Acc: 0.5523, Val F1: 0.5458\n",
      "Current Learning Rate: 3.0000000000000004e-07\n"
     ]
    },
    {
     "name": "stderr",
     "output_type": "stream",
     "text": [
      "Epoch 74/1000: 100%|██████████| 422/422 [02:18<00:00,  3.04it/s, Loss=0.9202, Acc=0.6530]\n"
     ]
    },
    {
     "name": "stdout",
     "output_type": "stream",
     "text": [
      "Epoch 74/1000: Train Loss: 0.9202, Train Acc: 0.6530\n"
     ]
    },
    {
     "name": "stderr",
     "output_type": "stream",
     "text": [
      "Validation: 100%|██████████| 47/47 [00:04<00:00, 11.35it/s, Loss=1.2088, Acc=0.5497]\n"
     ]
    },
    {
     "name": "stdout",
     "output_type": "stream",
     "text": [
      "Epoch 74/1000: Val Loss: 1.2088, Val Acc: 0.5497, Val F1: 0.5430\n",
      "Current Learning Rate: 3.0000000000000004e-07\n"
     ]
    },
    {
     "name": "stderr",
     "output_type": "stream",
     "text": [
      "Epoch 75/1000: 100%|██████████| 422/422 [02:24<00:00,  2.92it/s, Loss=0.9177, Acc=0.6559]\n"
     ]
    },
    {
     "name": "stdout",
     "output_type": "stream",
     "text": [
      "Epoch 75/1000: Train Loss: 0.9177, Train Acc: 0.6559\n"
     ]
    },
    {
     "name": "stderr",
     "output_type": "stream",
     "text": [
      "Validation: 100%|██████████| 47/47 [00:04<00:00, 11.27it/s, Loss=1.2105, Acc=0.5500]\n"
     ]
    },
    {
     "name": "stdout",
     "output_type": "stream",
     "text": [
      "Epoch 75/1000: Val Loss: 1.2105, Val Acc: 0.5500, Val F1: 0.5438\n",
      "Current Learning Rate: 3.0000000000000004e-07\n"
     ]
    },
    {
     "name": "stderr",
     "output_type": "stream",
     "text": [
      "Epoch 76/1000: 100%|██████████| 422/422 [02:18<00:00,  3.04it/s, Loss=0.9132, Acc=0.6584]\n"
     ]
    },
    {
     "name": "stdout",
     "output_type": "stream",
     "text": [
      "Epoch 76/1000: Train Loss: 0.9132, Train Acc: 0.6584\n"
     ]
    },
    {
     "name": "stderr",
     "output_type": "stream",
     "text": [
      "Validation: 100%|██████████| 47/47 [00:04<00:00, 11.10it/s, Loss=1.2113, Acc=0.5513]\n"
     ]
    },
    {
     "name": "stdout",
     "output_type": "stream",
     "text": [
      "Epoch 76/1000: Val Loss: 1.2113, Val Acc: 0.5513, Val F1: 0.5449\n",
      "Current Learning Rate: 3.0000000000000004e-07\n"
     ]
    },
    {
     "name": "stderr",
     "output_type": "stream",
     "text": [
      "Epoch 77/1000: 100%|██████████| 422/422 [02:19<00:00,  3.04it/s, Loss=0.9125, Acc=0.6575]\n"
     ]
    },
    {
     "name": "stdout",
     "output_type": "stream",
     "text": [
      "Epoch 77/1000: Train Loss: 0.9125, Train Acc: 0.6575\n"
     ]
    },
    {
     "name": "stderr",
     "output_type": "stream",
     "text": [
      "Validation: 100%|██████████| 47/47 [00:04<00:00, 11.29it/s, Loss=1.2117, Acc=0.5493]\n"
     ]
    },
    {
     "name": "stdout",
     "output_type": "stream",
     "text": [
      "Epoch 77/1000: Val Loss: 1.2117, Val Acc: 0.5493, Val F1: 0.5426\n",
      "Current Learning Rate: 3.0000000000000004e-07\n"
     ]
    },
    {
     "name": "stderr",
     "output_type": "stream",
     "text": [
      "Epoch 78/1000: 100%|██████████| 422/422 [02:17<00:00,  3.07it/s, Loss=0.9232, Acc=0.6542]\n"
     ]
    },
    {
     "name": "stdout",
     "output_type": "stream",
     "text": [
      "Epoch 78/1000: Train Loss: 0.9232, Train Acc: 0.6542\n"
     ]
    },
    {
     "name": "stderr",
     "output_type": "stream",
     "text": [
      "Validation: 100%|██████████| 47/47 [00:04<00:00, 11.35it/s, Loss=1.2110, Acc=0.5533]\n"
     ]
    },
    {
     "name": "stdout",
     "output_type": "stream",
     "text": [
      "Epoch 78/1000: Val Loss: 1.2110, Val Acc: 0.5533, Val F1: 0.5471\n",
      "Current Learning Rate: 3.0000000000000004e-08\n"
     ]
    },
    {
     "name": "stderr",
     "output_type": "stream",
     "text": [
      "Epoch 79/1000: 100%|██████████| 422/422 [02:16<00:00,  3.09it/s, Loss=0.9110, Acc=0.6596]\n"
     ]
    },
    {
     "name": "stdout",
     "output_type": "stream",
     "text": [
      "Epoch 79/1000: Train Loss: 0.9110, Train Acc: 0.6596\n"
     ]
    },
    {
     "name": "stderr",
     "output_type": "stream",
     "text": [
      "Validation: 100%|██████████| 47/47 [00:04<00:00, 11.12it/s, Loss=1.2111, Acc=0.5527]\n"
     ]
    },
    {
     "name": "stdout",
     "output_type": "stream",
     "text": [
      "Epoch 79/1000: Val Loss: 1.2111, Val Acc: 0.5527, Val F1: 0.5462\n",
      "Current Learning Rate: 3.0000000000000004e-08\n"
     ]
    },
    {
     "name": "stderr",
     "output_type": "stream",
     "text": [
      "Epoch 80/1000: 100%|██████████| 422/422 [02:16<00:00,  3.09it/s, Loss=0.9083, Acc=0.6599]\n"
     ]
    },
    {
     "name": "stdout",
     "output_type": "stream",
     "text": [
      "Epoch 80/1000: Train Loss: 0.9083, Train Acc: 0.6599\n"
     ]
    },
    {
     "name": "stderr",
     "output_type": "stream",
     "text": [
      "Validation: 100%|██████████| 47/47 [00:04<00:00, 11.11it/s, Loss=1.2111, Acc=0.5517]\n"
     ]
    },
    {
     "name": "stdout",
     "output_type": "stream",
     "text": [
      "Epoch 80/1000: Val Loss: 1.2111, Val Acc: 0.5517, Val F1: 0.5454\n",
      "Current Learning Rate: 3.0000000000000004e-08\n"
     ]
    },
    {
     "name": "stderr",
     "output_type": "stream",
     "text": [
      "Epoch 81/1000: 100%|██████████| 422/422 [02:18<00:00,  3.05it/s, Loss=0.9165, Acc=0.6585]\n"
     ]
    },
    {
     "name": "stdout",
     "output_type": "stream",
     "text": [
      "Epoch 81/1000: Train Loss: 0.9165, Train Acc: 0.6585\n"
     ]
    },
    {
     "name": "stderr",
     "output_type": "stream",
     "text": [
      "Validation: 100%|██████████| 47/47 [00:04<00:00, 11.24it/s, Loss=1.2096, Acc=0.5517]\n"
     ]
    },
    {
     "name": "stdout",
     "output_type": "stream",
     "text": [
      "Epoch 81/1000: Val Loss: 1.2096, Val Acc: 0.5517, Val F1: 0.5454\n",
      "Current Learning Rate: 3.0000000000000004e-08\n",
      "Early stopping triggered at epoch 81!\n"
     ]
    },
    {
     "name": "stderr",
     "output_type": "stream",
     "text": [
      "Testing: 100%|██████████| 53/53 [00:04<00:00, 11.43it/s, Loss=1.2145, Acc=0.5599]\n"
     ]
    },
    {
     "name": "stdout",
     "output_type": "stream",
     "text": [
      "Test Loss: 1.2145, Test Acc: 0.5599, Test F1: 0.5534\n",
      "Start model3 with configuration patch size: 16, num_heads: 8, embedding_dims: 384, num_layers: 6\n"
     ]
    },
    {
     "name": "stderr",
     "output_type": "stream",
     "text": [
      "Epoch 1/1000: 100%|██████████| 422/422 [01:44<00:00,  4.02it/s, Loss=1.7805, Acc=0.2609]\n"
     ]
    },
    {
     "name": "stdout",
     "output_type": "stream",
     "text": [
      "Epoch 1/1000: Train Loss: 1.7805, Train Acc: 0.2609\n"
     ]
    },
    {
     "name": "stderr",
     "output_type": "stream",
     "text": [
      "Validation: 100%|██████████| 47/47 [00:03<00:00, 14.78it/s, Loss=1.7481, Acc=0.2857]\n"
     ]
    },
    {
     "name": "stdout",
     "output_type": "stream",
     "text": [
      "Epoch 1/1000: Val Loss: 1.7481, Val Acc: 0.2857, Val F1: 0.1900\n",
      "Current Learning Rate: 3e-05\n",
      "Best model saved at ../Experiment Augment Result/model3_augment_best.pt with accuracy: 0.2857\n"
     ]
    },
    {
     "name": "stderr",
     "output_type": "stream",
     "text": [
      "Epoch 2/1000: 100%|██████████| 422/422 [01:44<00:00,  4.05it/s, Loss=1.7083, Acc=0.3109]\n"
     ]
    },
    {
     "name": "stdout",
     "output_type": "stream",
     "text": [
      "Epoch 2/1000: Train Loss: 1.7083, Train Acc: 0.3109\n"
     ]
    },
    {
     "name": "stderr",
     "output_type": "stream",
     "text": [
      "Validation: 100%|██████████| 47/47 [00:03<00:00, 14.71it/s, Loss=1.6922, Acc=0.3383]\n"
     ]
    },
    {
     "name": "stdout",
     "output_type": "stream",
     "text": [
      "Epoch 2/1000: Val Loss: 1.6922, Val Acc: 0.3383, Val F1: 0.2759\n",
      "Current Learning Rate: 3e-05\n",
      "Best model saved at ../Experiment Augment Result/model3_augment_best.pt with accuracy: 0.3383\n"
     ]
    },
    {
     "name": "stderr",
     "output_type": "stream",
     "text": [
      "Epoch 3/1000: 100%|██████████| 422/422 [01:43<00:00,  4.07it/s, Loss=1.6778, Acc=0.3347]\n"
     ]
    },
    {
     "name": "stdout",
     "output_type": "stream",
     "text": [
      "Epoch 3/1000: Train Loss: 1.6778, Train Acc: 0.3347\n"
     ]
    },
    {
     "name": "stderr",
     "output_type": "stream",
     "text": [
      "Validation: 100%|██████████| 47/47 [00:03<00:00, 14.58it/s, Loss=1.6556, Acc=0.3427]\n"
     ]
    },
    {
     "name": "stdout",
     "output_type": "stream",
     "text": [
      "Epoch 3/1000: Val Loss: 1.6556, Val Acc: 0.3427, Val F1: 0.2910\n",
      "Current Learning Rate: 3e-05\n",
      "Best model saved at ../Experiment Augment Result/model3_augment_best.pt with accuracy: 0.3427\n"
     ]
    },
    {
     "name": "stderr",
     "output_type": "stream",
     "text": [
      "Epoch 4/1000: 100%|██████████| 422/422 [01:43<00:00,  4.07it/s, Loss=1.6525, Acc=0.3433]\n"
     ]
    },
    {
     "name": "stdout",
     "output_type": "stream",
     "text": [
      "Epoch 4/1000: Train Loss: 1.6525, Train Acc: 0.3433\n"
     ]
    },
    {
     "name": "stderr",
     "output_type": "stream",
     "text": [
      "Validation: 100%|██████████| 47/47 [00:03<00:00, 14.38it/s, Loss=1.6320, Acc=0.3560]\n"
     ]
    },
    {
     "name": "stdout",
     "output_type": "stream",
     "text": [
      "Epoch 4/1000: Val Loss: 1.6320, Val Acc: 0.3560, Val F1: 0.3046\n",
      "Current Learning Rate: 3e-05\n",
      "Best model saved at ../Experiment Augment Result/model3_augment_best.pt with accuracy: 0.3560\n"
     ]
    },
    {
     "name": "stderr",
     "output_type": "stream",
     "text": [
      "Epoch 5/1000: 100%|██████████| 422/422 [01:43<00:00,  4.06it/s, Loss=1.6323, Acc=0.3567]\n"
     ]
    },
    {
     "name": "stdout",
     "output_type": "stream",
     "text": [
      "Epoch 5/1000: Train Loss: 1.6323, Train Acc: 0.3567\n"
     ]
    },
    {
     "name": "stderr",
     "output_type": "stream",
     "text": [
      "Validation: 100%|██████████| 47/47 [00:03<00:00, 14.53it/s, Loss=1.6237, Acc=0.3643]\n"
     ]
    },
    {
     "name": "stdout",
     "output_type": "stream",
     "text": [
      "Epoch 5/1000: Val Loss: 1.6237, Val Acc: 0.3643, Val F1: 0.2923\n",
      "Current Learning Rate: 3e-05\n",
      "Best model saved at ../Experiment Augment Result/model3_augment_best.pt with accuracy: 0.3643\n"
     ]
    },
    {
     "name": "stderr",
     "output_type": "stream",
     "text": [
      "Epoch 6/1000: 100%|██████████| 422/422 [01:43<00:00,  4.06it/s, Loss=1.6182, Acc=0.3620]\n"
     ]
    },
    {
     "name": "stdout",
     "output_type": "stream",
     "text": [
      "Epoch 6/1000: Train Loss: 1.6182, Train Acc: 0.3620\n"
     ]
    },
    {
     "name": "stderr",
     "output_type": "stream",
     "text": [
      "Validation: 100%|██████████| 47/47 [00:03<00:00, 14.50it/s, Loss=1.5996, Acc=0.3647]\n"
     ]
    },
    {
     "name": "stdout",
     "output_type": "stream",
     "text": [
      "Epoch 6/1000: Val Loss: 1.5996, Val Acc: 0.3647, Val F1: 0.2984\n",
      "Current Learning Rate: 3e-05\n",
      "Best model saved at ../Experiment Augment Result/model3_augment_best.pt with accuracy: 0.3647\n"
     ]
    },
    {
     "name": "stderr",
     "output_type": "stream",
     "text": [
      "Epoch 7/1000: 100%|██████████| 422/422 [01:43<00:00,  4.08it/s, Loss=1.6034, Acc=0.3721]\n"
     ]
    },
    {
     "name": "stdout",
     "output_type": "stream",
     "text": [
      "Epoch 7/1000: Train Loss: 1.6034, Train Acc: 0.3721\n"
     ]
    },
    {
     "name": "stderr",
     "output_type": "stream",
     "text": [
      "Validation: 100%|██████████| 47/47 [00:03<00:00, 14.59it/s, Loss=1.5706, Acc=0.3823]\n"
     ]
    },
    {
     "name": "stdout",
     "output_type": "stream",
     "text": [
      "Epoch 7/1000: Val Loss: 1.5706, Val Acc: 0.3823, Val F1: 0.3319\n",
      "Current Learning Rate: 3e-05\n",
      "Best model saved at ../Experiment Augment Result/model3_augment_best.pt with accuracy: 0.3823\n"
     ]
    },
    {
     "name": "stderr",
     "output_type": "stream",
     "text": [
      "Epoch 8/1000: 100%|██████████| 422/422 [01:44<00:00,  4.04it/s, Loss=1.5886, Acc=0.3783]\n"
     ]
    },
    {
     "name": "stdout",
     "output_type": "stream",
     "text": [
      "Epoch 8/1000: Train Loss: 1.5886, Train Acc: 0.3783\n"
     ]
    },
    {
     "name": "stderr",
     "output_type": "stream",
     "text": [
      "Validation: 100%|██████████| 47/47 [00:03<00:00, 14.04it/s, Loss=1.5824, Acc=0.3813]\n"
     ]
    },
    {
     "name": "stdout",
     "output_type": "stream",
     "text": [
      "Epoch 8/1000: Val Loss: 1.5824, Val Acc: 0.3813, Val F1: 0.3205\n",
      "Current Learning Rate: 3e-05\n"
     ]
    },
    {
     "name": "stderr",
     "output_type": "stream",
     "text": [
      "Epoch 9/1000: 100%|██████████| 422/422 [01:45<00:00,  4.01it/s, Loss=1.5821, Acc=0.3816]\n"
     ]
    },
    {
     "name": "stdout",
     "output_type": "stream",
     "text": [
      "Epoch 9/1000: Train Loss: 1.5821, Train Acc: 0.3816\n"
     ]
    },
    {
     "name": "stderr",
     "output_type": "stream",
     "text": [
      "Validation: 100%|██████████| 47/47 [00:03<00:00, 14.40it/s, Loss=1.5415, Acc=0.3973]\n"
     ]
    },
    {
     "name": "stdout",
     "output_type": "stream",
     "text": [
      "Epoch 9/1000: Val Loss: 1.5415, Val Acc: 0.3973, Val F1: 0.3609\n",
      "Current Learning Rate: 3e-05\n",
      "Best model saved at ../Experiment Augment Result/model3_augment_best.pt with accuracy: 0.3973\n"
     ]
    },
    {
     "name": "stderr",
     "output_type": "stream",
     "text": [
      "Epoch 10/1000: 100%|██████████| 422/422 [01:45<00:00,  3.99it/s, Loss=1.5655, Acc=0.3846]\n"
     ]
    },
    {
     "name": "stdout",
     "output_type": "stream",
     "text": [
      "Epoch 10/1000: Train Loss: 1.5655, Train Acc: 0.3846\n"
     ]
    },
    {
     "name": "stderr",
     "output_type": "stream",
     "text": [
      "Validation: 100%|██████████| 47/47 [00:03<00:00, 14.45it/s, Loss=1.5312, Acc=0.3937]\n"
     ]
    },
    {
     "name": "stdout",
     "output_type": "stream",
     "text": [
      "Epoch 10/1000: Val Loss: 1.5312, Val Acc: 0.3937, Val F1: 0.3466\n",
      "Current Learning Rate: 3e-05\n"
     ]
    },
    {
     "name": "stderr",
     "output_type": "stream",
     "text": [
      "Epoch 11/1000: 100%|██████████| 422/422 [01:44<00:00,  4.03it/s, Loss=1.5548, Acc=0.3900]\n"
     ]
    },
    {
     "name": "stdout",
     "output_type": "stream",
     "text": [
      "Epoch 11/1000: Train Loss: 1.5548, Train Acc: 0.3900\n"
     ]
    },
    {
     "name": "stderr",
     "output_type": "stream",
     "text": [
      "Validation: 100%|██████████| 47/47 [00:03<00:00, 14.35it/s, Loss=1.5310, Acc=0.3997]\n"
     ]
    },
    {
     "name": "stdout",
     "output_type": "stream",
     "text": [
      "Epoch 11/1000: Val Loss: 1.5310, Val Acc: 0.3997, Val F1: 0.3569\n",
      "Current Learning Rate: 3e-05\n",
      "Best model saved at ../Experiment Augment Result/model3_augment_best.pt with accuracy: 0.3997\n"
     ]
    },
    {
     "name": "stderr",
     "output_type": "stream",
     "text": [
      "Epoch 12/1000: 100%|██████████| 422/422 [01:47<00:00,  3.93it/s, Loss=1.5394, Acc=0.3964]\n"
     ]
    },
    {
     "name": "stdout",
     "output_type": "stream",
     "text": [
      "Epoch 12/1000: Train Loss: 1.5394, Train Acc: 0.3964\n"
     ]
    },
    {
     "name": "stderr",
     "output_type": "stream",
     "text": [
      "Validation: 100%|██████████| 47/47 [00:03<00:00, 14.40it/s, Loss=1.5017, Acc=0.4160]\n"
     ]
    },
    {
     "name": "stdout",
     "output_type": "stream",
     "text": [
      "Epoch 12/1000: Val Loss: 1.5017, Val Acc: 0.4160, Val F1: 0.3663\n",
      "Current Learning Rate: 3e-05\n",
      "Best model saved at ../Experiment Augment Result/model3_augment_best.pt with accuracy: 0.4160\n"
     ]
    },
    {
     "name": "stderr",
     "output_type": "stream",
     "text": [
      "Epoch 13/1000: 100%|██████████| 422/422 [01:47<00:00,  3.93it/s, Loss=1.5246, Acc=0.4077]\n"
     ]
    },
    {
     "name": "stdout",
     "output_type": "stream",
     "text": [
      "Epoch 13/1000: Train Loss: 1.5246, Train Acc: 0.4077\n"
     ]
    },
    {
     "name": "stderr",
     "output_type": "stream",
     "text": [
      "Validation: 100%|██████████| 47/47 [00:03<00:00, 14.47it/s, Loss=1.5009, Acc=0.4117]\n"
     ]
    },
    {
     "name": "stdout",
     "output_type": "stream",
     "text": [
      "Epoch 13/1000: Val Loss: 1.5009, Val Acc: 0.4117, Val F1: 0.3696\n",
      "Current Learning Rate: 3e-05\n"
     ]
    },
    {
     "name": "stderr",
     "output_type": "stream",
     "text": [
      "Epoch 14/1000: 100%|██████████| 422/422 [01:44<00:00,  4.04it/s, Loss=1.5153, Acc=0.4072]\n"
     ]
    },
    {
     "name": "stdout",
     "output_type": "stream",
     "text": [
      "Epoch 14/1000: Train Loss: 1.5153, Train Acc: 0.4072\n"
     ]
    },
    {
     "name": "stderr",
     "output_type": "stream",
     "text": [
      "Validation: 100%|██████████| 47/47 [00:03<00:00, 14.43it/s, Loss=1.4701, Acc=0.4283]\n"
     ]
    },
    {
     "name": "stdout",
     "output_type": "stream",
     "text": [
      "Epoch 14/1000: Val Loss: 1.4701, Val Acc: 0.4283, Val F1: 0.4006\n",
      "Current Learning Rate: 3e-05\n",
      "Best model saved at ../Experiment Augment Result/model3_augment_best.pt with accuracy: 0.4283\n"
     ]
    },
    {
     "name": "stderr",
     "output_type": "stream",
     "text": [
      "Epoch 15/1000: 100%|██████████| 422/422 [01:45<00:00,  3.99it/s, Loss=1.5013, Acc=0.4138]\n"
     ]
    },
    {
     "name": "stdout",
     "output_type": "stream",
     "text": [
      "Epoch 15/1000: Train Loss: 1.5013, Train Acc: 0.4138\n"
     ]
    },
    {
     "name": "stderr",
     "output_type": "stream",
     "text": [
      "Validation: 100%|██████████| 47/47 [00:03<00:00, 14.76it/s, Loss=1.4835, Acc=0.4187]\n"
     ]
    },
    {
     "name": "stdout",
     "output_type": "stream",
     "text": [
      "Epoch 15/1000: Val Loss: 1.4835, Val Acc: 0.4187, Val F1: 0.3815\n",
      "Current Learning Rate: 3e-05\n"
     ]
    },
    {
     "name": "stderr",
     "output_type": "stream",
     "text": [
      "Epoch 16/1000: 100%|██████████| 422/422 [01:50<00:00,  3.83it/s, Loss=1.4936, Acc=0.4172]\n"
     ]
    },
    {
     "name": "stdout",
     "output_type": "stream",
     "text": [
      "Epoch 16/1000: Train Loss: 1.4936, Train Acc: 0.4172\n"
     ]
    },
    {
     "name": "stderr",
     "output_type": "stream",
     "text": [
      "Validation: 100%|██████████| 47/47 [00:03<00:00, 14.46it/s, Loss=1.4686, Acc=0.4317]\n"
     ]
    },
    {
     "name": "stdout",
     "output_type": "stream",
     "text": [
      "Epoch 16/1000: Val Loss: 1.4686, Val Acc: 0.4317, Val F1: 0.4147\n",
      "Current Learning Rate: 3e-05\n",
      "Best model saved at ../Experiment Augment Result/model3_augment_best.pt with accuracy: 0.4317\n"
     ]
    },
    {
     "name": "stderr",
     "output_type": "stream",
     "text": [
      "Epoch 17/1000: 100%|██████████| 422/422 [01:43<00:00,  4.10it/s, Loss=1.4823, Acc=0.4220]\n"
     ]
    },
    {
     "name": "stdout",
     "output_type": "stream",
     "text": [
      "Epoch 17/1000: Train Loss: 1.4823, Train Acc: 0.4220\n"
     ]
    },
    {
     "name": "stderr",
     "output_type": "stream",
     "text": [
      "Validation: 100%|██████████| 47/47 [00:03<00:00, 14.91it/s, Loss=1.4567, Acc=0.4387]\n"
     ]
    },
    {
     "name": "stdout",
     "output_type": "stream",
     "text": [
      "Epoch 17/1000: Val Loss: 1.4567, Val Acc: 0.4387, Val F1: 0.4222\n",
      "Current Learning Rate: 3e-05\n",
      "Best model saved at ../Experiment Augment Result/model3_augment_best.pt with accuracy: 0.4387\n"
     ]
    },
    {
     "name": "stderr",
     "output_type": "stream",
     "text": [
      "Epoch 18/1000: 100%|██████████| 422/422 [01:42<00:00,  4.12it/s, Loss=1.4708, Acc=0.4273]\n"
     ]
    },
    {
     "name": "stdout",
     "output_type": "stream",
     "text": [
      "Epoch 18/1000: Train Loss: 1.4708, Train Acc: 0.4273\n"
     ]
    },
    {
     "name": "stderr",
     "output_type": "stream",
     "text": [
      "Validation: 100%|██████████| 47/47 [00:03<00:00, 15.00it/s, Loss=1.4558, Acc=0.4290]\n"
     ]
    },
    {
     "name": "stdout",
     "output_type": "stream",
     "text": [
      "Epoch 18/1000: Val Loss: 1.4558, Val Acc: 0.4290, Val F1: 0.3935\n",
      "Current Learning Rate: 3e-05\n"
     ]
    },
    {
     "name": "stderr",
     "output_type": "stream",
     "text": [
      "Epoch 19/1000: 100%|██████████| 422/422 [01:44<00:00,  4.06it/s, Loss=1.4636, Acc=0.4324]\n"
     ]
    },
    {
     "name": "stdout",
     "output_type": "stream",
     "text": [
      "Epoch 19/1000: Train Loss: 1.4636, Train Acc: 0.4324\n"
     ]
    },
    {
     "name": "stderr",
     "output_type": "stream",
     "text": [
      "Validation: 100%|██████████| 47/47 [00:03<00:00, 14.02it/s, Loss=1.4464, Acc=0.4397]\n"
     ]
    },
    {
     "name": "stdout",
     "output_type": "stream",
     "text": [
      "Epoch 19/1000: Val Loss: 1.4464, Val Acc: 0.4397, Val F1: 0.4159\n",
      "Current Learning Rate: 3e-05\n",
      "Best model saved at ../Experiment Augment Result/model3_augment_best.pt with accuracy: 0.4397\n"
     ]
    },
    {
     "name": "stderr",
     "output_type": "stream",
     "text": [
      "Epoch 20/1000: 100%|██████████| 422/422 [01:44<00:00,  4.02it/s, Loss=1.4523, Acc=0.4372]\n"
     ]
    },
    {
     "name": "stdout",
     "output_type": "stream",
     "text": [
      "Epoch 20/1000: Train Loss: 1.4523, Train Acc: 0.4372\n"
     ]
    },
    {
     "name": "stderr",
     "output_type": "stream",
     "text": [
      "Validation: 100%|██████████| 47/47 [00:03<00:00, 14.57it/s, Loss=1.4319, Acc=0.4363]\n"
     ]
    },
    {
     "name": "stdout",
     "output_type": "stream",
     "text": [
      "Epoch 20/1000: Val Loss: 1.4319, Val Acc: 0.4363, Val F1: 0.4193\n",
      "Current Learning Rate: 3e-05\n"
     ]
    },
    {
     "name": "stderr",
     "output_type": "stream",
     "text": [
      "Epoch 21/1000: 100%|██████████| 422/422 [01:43<00:00,  4.10it/s, Loss=1.4436, Acc=0.4389]\n"
     ]
    },
    {
     "name": "stdout",
     "output_type": "stream",
     "text": [
      "Epoch 21/1000: Train Loss: 1.4436, Train Acc: 0.4389\n"
     ]
    },
    {
     "name": "stderr",
     "output_type": "stream",
     "text": [
      "Validation: 100%|██████████| 47/47 [00:03<00:00, 14.58it/s, Loss=1.4390, Acc=0.4293]\n"
     ]
    },
    {
     "name": "stdout",
     "output_type": "stream",
     "text": [
      "Epoch 21/1000: Val Loss: 1.4390, Val Acc: 0.4293, Val F1: 0.4208\n",
      "Current Learning Rate: 3e-05\n"
     ]
    },
    {
     "name": "stderr",
     "output_type": "stream",
     "text": [
      "Epoch 22/1000: 100%|██████████| 422/422 [01:43<00:00,  4.08it/s, Loss=1.4301, Acc=0.4449]\n"
     ]
    },
    {
     "name": "stdout",
     "output_type": "stream",
     "text": [
      "Epoch 22/1000: Train Loss: 1.4301, Train Acc: 0.4449\n"
     ]
    },
    {
     "name": "stderr",
     "output_type": "stream",
     "text": [
      "Validation: 100%|██████████| 47/47 [00:03<00:00, 14.56it/s, Loss=1.4144, Acc=0.4467]\n"
     ]
    },
    {
     "name": "stdout",
     "output_type": "stream",
     "text": [
      "Epoch 22/1000: Val Loss: 1.4144, Val Acc: 0.4467, Val F1: 0.4305\n",
      "Current Learning Rate: 3e-05\n",
      "Best model saved at ../Experiment Augment Result/model3_augment_best.pt with accuracy: 0.4467\n"
     ]
    },
    {
     "name": "stderr",
     "output_type": "stream",
     "text": [
      "Epoch 23/1000: 100%|██████████| 422/422 [01:43<00:00,  4.08it/s, Loss=1.4205, Acc=0.4464]\n"
     ]
    },
    {
     "name": "stdout",
     "output_type": "stream",
     "text": [
      "Epoch 23/1000: Train Loss: 1.4205, Train Acc: 0.4464\n"
     ]
    },
    {
     "name": "stderr",
     "output_type": "stream",
     "text": [
      "Validation: 100%|██████████| 47/47 [00:03<00:00, 14.58it/s, Loss=1.4118, Acc=0.4547]\n"
     ]
    },
    {
     "name": "stdout",
     "output_type": "stream",
     "text": [
      "Epoch 23/1000: Val Loss: 1.4118, Val Acc: 0.4547, Val F1: 0.4385\n",
      "Current Learning Rate: 3e-05\n",
      "Best model saved at ../Experiment Augment Result/model3_augment_best.pt with accuracy: 0.4547\n"
     ]
    },
    {
     "name": "stderr",
     "output_type": "stream",
     "text": [
      "Epoch 24/1000: 100%|██████████| 422/422 [01:44<00:00,  4.05it/s, Loss=1.4095, Acc=0.4524]\n"
     ]
    },
    {
     "name": "stdout",
     "output_type": "stream",
     "text": [
      "Epoch 24/1000: Train Loss: 1.4095, Train Acc: 0.4524\n"
     ]
    },
    {
     "name": "stderr",
     "output_type": "stream",
     "text": [
      "Validation: 100%|██████████| 47/47 [00:03<00:00, 14.58it/s, Loss=1.4015, Acc=0.4550]\n"
     ]
    },
    {
     "name": "stdout",
     "output_type": "stream",
     "text": [
      "Epoch 24/1000: Val Loss: 1.4015, Val Acc: 0.4550, Val F1: 0.4292\n",
      "Current Learning Rate: 3e-05\n",
      "Best model saved at ../Experiment Augment Result/model3_augment_best.pt with accuracy: 0.4550\n"
     ]
    },
    {
     "name": "stderr",
     "output_type": "stream",
     "text": [
      "Epoch 25/1000: 100%|██████████| 422/422 [01:45<00:00,  4.00it/s, Loss=1.4010, Acc=0.4552]\n"
     ]
    },
    {
     "name": "stdout",
     "output_type": "stream",
     "text": [
      "Epoch 25/1000: Train Loss: 1.4010, Train Acc: 0.4552\n"
     ]
    },
    {
     "name": "stderr",
     "output_type": "stream",
     "text": [
      "Validation: 100%|██████████| 47/47 [00:03<00:00, 14.60it/s, Loss=1.3980, Acc=0.4603]\n"
     ]
    },
    {
     "name": "stdout",
     "output_type": "stream",
     "text": [
      "Epoch 25/1000: Val Loss: 1.3980, Val Acc: 0.4603, Val F1: 0.4394\n",
      "Current Learning Rate: 3e-05\n",
      "Best model saved at ../Experiment Augment Result/model3_augment_best.pt with accuracy: 0.4603\n"
     ]
    },
    {
     "name": "stderr",
     "output_type": "stream",
     "text": [
      "Epoch 26/1000: 100%|██████████| 422/422 [01:44<00:00,  4.05it/s, Loss=1.3967, Acc=0.4580]\n"
     ]
    },
    {
     "name": "stdout",
     "output_type": "stream",
     "text": [
      "Epoch 26/1000: Train Loss: 1.3967, Train Acc: 0.4580\n"
     ]
    },
    {
     "name": "stderr",
     "output_type": "stream",
     "text": [
      "Validation: 100%|██████████| 47/47 [00:03<00:00, 14.59it/s, Loss=1.3951, Acc=0.4547]\n"
     ]
    },
    {
     "name": "stdout",
     "output_type": "stream",
     "text": [
      "Epoch 26/1000: Val Loss: 1.3951, Val Acc: 0.4547, Val F1: 0.4232\n",
      "Current Learning Rate: 3e-05\n"
     ]
    },
    {
     "name": "stderr",
     "output_type": "stream",
     "text": [
      "Epoch 27/1000: 100%|██████████| 422/422 [01:44<00:00,  4.05it/s, Loss=1.3867, Acc=0.4617]\n"
     ]
    },
    {
     "name": "stdout",
     "output_type": "stream",
     "text": [
      "Epoch 27/1000: Train Loss: 1.3867, Train Acc: 0.4617\n"
     ]
    },
    {
     "name": "stderr",
     "output_type": "stream",
     "text": [
      "Validation: 100%|██████████| 47/47 [00:03<00:00, 14.57it/s, Loss=1.3876, Acc=0.4583]\n"
     ]
    },
    {
     "name": "stdout",
     "output_type": "stream",
     "text": [
      "Epoch 27/1000: Val Loss: 1.3876, Val Acc: 0.4583, Val F1: 0.4394\n",
      "Current Learning Rate: 3e-05\n"
     ]
    },
    {
     "name": "stderr",
     "output_type": "stream",
     "text": [
      "Epoch 28/1000: 100%|██████████| 422/422 [01:44<00:00,  4.02it/s, Loss=1.3809, Acc=0.4627]\n"
     ]
    },
    {
     "name": "stdout",
     "output_type": "stream",
     "text": [
      "Epoch 28/1000: Train Loss: 1.3809, Train Acc: 0.4627\n"
     ]
    },
    {
     "name": "stderr",
     "output_type": "stream",
     "text": [
      "Validation: 100%|██████████| 47/47 [00:03<00:00, 14.30it/s, Loss=1.3820, Acc=0.4603]\n"
     ]
    },
    {
     "name": "stdout",
     "output_type": "stream",
     "text": [
      "Epoch 28/1000: Val Loss: 1.3820, Val Acc: 0.4603, Val F1: 0.4452\n",
      "Current Learning Rate: 3e-05\n"
     ]
    },
    {
     "name": "stderr",
     "output_type": "stream",
     "text": [
      "Epoch 29/1000: 100%|██████████| 422/422 [01:44<00:00,  4.03it/s, Loss=1.3727, Acc=0.4669]\n"
     ]
    },
    {
     "name": "stdout",
     "output_type": "stream",
     "text": [
      "Epoch 29/1000: Train Loss: 1.3727, Train Acc: 0.4669\n"
     ]
    },
    {
     "name": "stderr",
     "output_type": "stream",
     "text": [
      "Validation: 100%|██████████| 47/47 [00:03<00:00, 14.48it/s, Loss=1.3762, Acc=0.4587]\n"
     ]
    },
    {
     "name": "stdout",
     "output_type": "stream",
     "text": [
      "Epoch 29/1000: Val Loss: 1.3762, Val Acc: 0.4587, Val F1: 0.4509\n",
      "Current Learning Rate: 3e-05\n"
     ]
    },
    {
     "name": "stderr",
     "output_type": "stream",
     "text": [
      "Epoch 30/1000: 100%|██████████| 422/422 [01:43<00:00,  4.06it/s, Loss=1.3659, Acc=0.4720]\n"
     ]
    },
    {
     "name": "stdout",
     "output_type": "stream",
     "text": [
      "Epoch 30/1000: Train Loss: 1.3659, Train Acc: 0.4720\n"
     ]
    },
    {
     "name": "stderr",
     "output_type": "stream",
     "text": [
      "Validation: 100%|██████████| 47/47 [00:03<00:00, 14.28it/s, Loss=1.3837, Acc=0.4657]\n"
     ]
    },
    {
     "name": "stdout",
     "output_type": "stream",
     "text": [
      "Epoch 30/1000: Val Loss: 1.3837, Val Acc: 0.4657, Val F1: 0.4547\n",
      "Current Learning Rate: 3e-05\n",
      "Best model saved at ../Experiment Augment Result/model3_augment_best.pt with accuracy: 0.4657\n"
     ]
    },
    {
     "name": "stderr",
     "output_type": "stream",
     "text": [
      "Epoch 31/1000: 100%|██████████| 422/422 [01:43<00:00,  4.08it/s, Loss=1.3598, Acc=0.4747]\n"
     ]
    },
    {
     "name": "stdout",
     "output_type": "stream",
     "text": [
      "Epoch 31/1000: Train Loss: 1.3598, Train Acc: 0.4747\n"
     ]
    },
    {
     "name": "stderr",
     "output_type": "stream",
     "text": [
      "Validation: 100%|██████████| 47/47 [00:03<00:00, 14.58it/s, Loss=1.3640, Acc=0.4703]\n"
     ]
    },
    {
     "name": "stdout",
     "output_type": "stream",
     "text": [
      "Epoch 31/1000: Val Loss: 1.3640, Val Acc: 0.4703, Val F1: 0.4536\n",
      "Current Learning Rate: 3e-05\n",
      "Best model saved at ../Experiment Augment Result/model3_augment_best.pt with accuracy: 0.4703\n"
     ]
    },
    {
     "name": "stderr",
     "output_type": "stream",
     "text": [
      "Epoch 32/1000: 100%|██████████| 422/422 [01:43<00:00,  4.08it/s, Loss=1.3481, Acc=0.4763]\n"
     ]
    },
    {
     "name": "stdout",
     "output_type": "stream",
     "text": [
      "Epoch 32/1000: Train Loss: 1.3481, Train Acc: 0.4763\n"
     ]
    },
    {
     "name": "stderr",
     "output_type": "stream",
     "text": [
      "Validation: 100%|██████████| 47/47 [00:03<00:00, 14.99it/s, Loss=1.3670, Acc=0.4663]\n"
     ]
    },
    {
     "name": "stdout",
     "output_type": "stream",
     "text": [
      "Epoch 32/1000: Val Loss: 1.3670, Val Acc: 0.4663, Val F1: 0.4476\n",
      "Current Learning Rate: 3e-05\n"
     ]
    },
    {
     "name": "stderr",
     "output_type": "stream",
     "text": [
      "Epoch 33/1000: 100%|██████████| 422/422 [01:42<00:00,  4.12it/s, Loss=1.3392, Acc=0.4836]\n"
     ]
    },
    {
     "name": "stdout",
     "output_type": "stream",
     "text": [
      "Epoch 33/1000: Train Loss: 1.3392, Train Acc: 0.4836\n"
     ]
    },
    {
     "name": "stderr",
     "output_type": "stream",
     "text": [
      "Validation: 100%|██████████| 47/47 [00:03<00:00, 14.96it/s, Loss=1.3539, Acc=0.4750]\n"
     ]
    },
    {
     "name": "stdout",
     "output_type": "stream",
     "text": [
      "Epoch 33/1000: Val Loss: 1.3539, Val Acc: 0.4750, Val F1: 0.4613\n",
      "Current Learning Rate: 3e-05\n",
      "Best model saved at ../Experiment Augment Result/model3_augment_best.pt with accuracy: 0.4750\n"
     ]
    },
    {
     "name": "stderr",
     "output_type": "stream",
     "text": [
      "Epoch 34/1000: 100%|██████████| 422/422 [01:43<00:00,  4.09it/s, Loss=1.3342, Acc=0.4838]\n"
     ]
    },
    {
     "name": "stdout",
     "output_type": "stream",
     "text": [
      "Epoch 34/1000: Train Loss: 1.3342, Train Acc: 0.4838\n"
     ]
    },
    {
     "name": "stderr",
     "output_type": "stream",
     "text": [
      "Validation: 100%|██████████| 47/47 [00:03<00:00, 14.64it/s, Loss=1.3593, Acc=0.4743]\n"
     ]
    },
    {
     "name": "stdout",
     "output_type": "stream",
     "text": [
      "Epoch 34/1000: Val Loss: 1.3593, Val Acc: 0.4743, Val F1: 0.4487\n",
      "Current Learning Rate: 3e-05\n"
     ]
    },
    {
     "name": "stderr",
     "output_type": "stream",
     "text": [
      "Epoch 35/1000: 100%|██████████| 422/422 [01:45<00:00,  4.00it/s, Loss=1.3290, Acc=0.4888]\n"
     ]
    },
    {
     "name": "stdout",
     "output_type": "stream",
     "text": [
      "Epoch 35/1000: Train Loss: 1.3290, Train Acc: 0.4888\n"
     ]
    },
    {
     "name": "stderr",
     "output_type": "stream",
     "text": [
      "Validation: 100%|██████████| 47/47 [00:03<00:00, 14.57it/s, Loss=1.3522, Acc=0.4783]\n"
     ]
    },
    {
     "name": "stdout",
     "output_type": "stream",
     "text": [
      "Epoch 35/1000: Val Loss: 1.3522, Val Acc: 0.4783, Val F1: 0.4589\n",
      "Current Learning Rate: 3e-05\n",
      "Best model saved at ../Experiment Augment Result/model3_augment_best.pt with accuracy: 0.4783\n"
     ]
    },
    {
     "name": "stderr",
     "output_type": "stream",
     "text": [
      "Epoch 36/1000: 100%|██████████| 422/422 [01:42<00:00,  4.10it/s, Loss=1.3177, Acc=0.4927]\n"
     ]
    },
    {
     "name": "stdout",
     "output_type": "stream",
     "text": [
      "Epoch 36/1000: Train Loss: 1.3177, Train Acc: 0.4927\n"
     ]
    },
    {
     "name": "stderr",
     "output_type": "stream",
     "text": [
      "Validation: 100%|██████████| 47/47 [00:03<00:00, 14.54it/s, Loss=1.3638, Acc=0.4617]\n"
     ]
    },
    {
     "name": "stdout",
     "output_type": "stream",
     "text": [
      "Epoch 36/1000: Val Loss: 1.3638, Val Acc: 0.4617, Val F1: 0.4608\n",
      "Current Learning Rate: 3e-05\n"
     ]
    },
    {
     "name": "stderr",
     "output_type": "stream",
     "text": [
      "Epoch 37/1000: 100%|██████████| 422/422 [01:44<00:00,  4.03it/s, Loss=1.3102, Acc=0.4923]\n"
     ]
    },
    {
     "name": "stdout",
     "output_type": "stream",
     "text": [
      "Epoch 37/1000: Train Loss: 1.3102, Train Acc: 0.4923\n"
     ]
    },
    {
     "name": "stderr",
     "output_type": "stream",
     "text": [
      "Validation: 100%|██████████| 47/47 [00:03<00:00, 14.48it/s, Loss=1.3837, Acc=0.4727]\n"
     ]
    },
    {
     "name": "stdout",
     "output_type": "stream",
     "text": [
      "Epoch 37/1000: Val Loss: 1.3837, Val Acc: 0.4727, Val F1: 0.4472\n",
      "Current Learning Rate: 3e-05\n"
     ]
    },
    {
     "name": "stderr",
     "output_type": "stream",
     "text": [
      "Epoch 38/1000: 100%|██████████| 422/422 [01:44<00:00,  4.05it/s, Loss=1.2981, Acc=0.5003]\n"
     ]
    },
    {
     "name": "stdout",
     "output_type": "stream",
     "text": [
      "Epoch 38/1000: Train Loss: 1.2981, Train Acc: 0.5003\n"
     ]
    },
    {
     "name": "stderr",
     "output_type": "stream",
     "text": [
      "Validation: 100%|██████████| 47/47 [00:03<00:00, 14.57it/s, Loss=1.3408, Acc=0.4823]\n"
     ]
    },
    {
     "name": "stdout",
     "output_type": "stream",
     "text": [
      "Epoch 38/1000: Val Loss: 1.3408, Val Acc: 0.4823, Val F1: 0.4622\n",
      "Current Learning Rate: 3e-05\n",
      "Best model saved at ../Experiment Augment Result/model3_augment_best.pt with accuracy: 0.4823\n"
     ]
    },
    {
     "name": "stderr",
     "output_type": "stream",
     "text": [
      "Epoch 39/1000: 100%|██████████| 422/422 [01:43<00:00,  4.10it/s, Loss=1.2982, Acc=0.5015]\n"
     ]
    },
    {
     "name": "stdout",
     "output_type": "stream",
     "text": [
      "Epoch 39/1000: Train Loss: 1.2982, Train Acc: 0.5015\n"
     ]
    },
    {
     "name": "stderr",
     "output_type": "stream",
     "text": [
      "Validation: 100%|██████████| 47/47 [00:03<00:00, 14.59it/s, Loss=1.3481, Acc=0.4833]\n"
     ]
    },
    {
     "name": "stdout",
     "output_type": "stream",
     "text": [
      "Epoch 39/1000: Val Loss: 1.3481, Val Acc: 0.4833, Val F1: 0.4699\n",
      "Current Learning Rate: 3e-05\n",
      "Best model saved at ../Experiment Augment Result/model3_augment_best.pt with accuracy: 0.4833\n"
     ]
    },
    {
     "name": "stderr",
     "output_type": "stream",
     "text": [
      "Epoch 40/1000: 100%|██████████| 422/422 [01:47<00:00,  3.93it/s, Loss=1.2884, Acc=0.5053]\n"
     ]
    },
    {
     "name": "stdout",
     "output_type": "stream",
     "text": [
      "Epoch 40/1000: Train Loss: 1.2884, Train Acc: 0.5053\n"
     ]
    },
    {
     "name": "stderr",
     "output_type": "stream",
     "text": [
      "Validation: 100%|██████████| 47/47 [00:03<00:00, 14.49it/s, Loss=1.3377, Acc=0.4837]\n"
     ]
    },
    {
     "name": "stdout",
     "output_type": "stream",
     "text": [
      "Epoch 40/1000: Val Loss: 1.3377, Val Acc: 0.4837, Val F1: 0.4643\n",
      "Current Learning Rate: 3e-05\n",
      "Best model saved at ../Experiment Augment Result/model3_augment_best.pt with accuracy: 0.4837\n"
     ]
    },
    {
     "name": "stderr",
     "output_type": "stream",
     "text": [
      "Epoch 41/1000: 100%|██████████| 422/422 [01:43<00:00,  4.08it/s, Loss=1.2801, Acc=0.5079]\n"
     ]
    },
    {
     "name": "stdout",
     "output_type": "stream",
     "text": [
      "Epoch 41/1000: Train Loss: 1.2801, Train Acc: 0.5079\n"
     ]
    },
    {
     "name": "stderr",
     "output_type": "stream",
     "text": [
      "Validation: 100%|██████████| 47/47 [00:03<00:00, 14.61it/s, Loss=1.3364, Acc=0.4847]\n"
     ]
    },
    {
     "name": "stdout",
     "output_type": "stream",
     "text": [
      "Epoch 41/1000: Val Loss: 1.3364, Val Acc: 0.4847, Val F1: 0.4723\n",
      "Current Learning Rate: 3e-05\n",
      "Best model saved at ../Experiment Augment Result/model3_augment_best.pt with accuracy: 0.4847\n"
     ]
    },
    {
     "name": "stderr",
     "output_type": "stream",
     "text": [
      "Epoch 42/1000: 100%|██████████| 422/422 [01:44<00:00,  4.06it/s, Loss=1.2777, Acc=0.5068]\n"
     ]
    },
    {
     "name": "stdout",
     "output_type": "stream",
     "text": [
      "Epoch 42/1000: Train Loss: 1.2777, Train Acc: 0.5068\n"
     ]
    },
    {
     "name": "stderr",
     "output_type": "stream",
     "text": [
      "Validation: 100%|██████████| 47/47 [00:03<00:00, 14.58it/s, Loss=1.3399, Acc=0.4820]\n"
     ]
    },
    {
     "name": "stdout",
     "output_type": "stream",
     "text": [
      "Epoch 42/1000: Val Loss: 1.3399, Val Acc: 0.4820, Val F1: 0.4686\n",
      "Current Learning Rate: 3e-05\n"
     ]
    },
    {
     "name": "stderr",
     "output_type": "stream",
     "text": [
      "Epoch 43/1000: 100%|██████████| 422/422 [01:44<00:00,  4.03it/s, Loss=1.2687, Acc=0.5132]\n"
     ]
    },
    {
     "name": "stdout",
     "output_type": "stream",
     "text": [
      "Epoch 43/1000: Train Loss: 1.2687, Train Acc: 0.5132\n"
     ]
    },
    {
     "name": "stderr",
     "output_type": "stream",
     "text": [
      "Validation: 100%|██████████| 47/47 [00:03<00:00, 14.48it/s, Loss=1.3306, Acc=0.4867]\n"
     ]
    },
    {
     "name": "stdout",
     "output_type": "stream",
     "text": [
      "Epoch 43/1000: Val Loss: 1.3306, Val Acc: 0.4867, Val F1: 0.4734\n",
      "Current Learning Rate: 3e-05\n",
      "Best model saved at ../Experiment Augment Result/model3_augment_best.pt with accuracy: 0.4867\n"
     ]
    },
    {
     "name": "stderr",
     "output_type": "stream",
     "text": [
      "Epoch 44/1000: 100%|██████████| 422/422 [01:44<00:00,  4.04it/s, Loss=1.2585, Acc=0.5158]\n"
     ]
    },
    {
     "name": "stdout",
     "output_type": "stream",
     "text": [
      "Epoch 44/1000: Train Loss: 1.2585, Train Acc: 0.5158\n"
     ]
    },
    {
     "name": "stderr",
     "output_type": "stream",
     "text": [
      "Validation: 100%|██████████| 47/47 [00:03<00:00, 14.55it/s, Loss=1.3380, Acc=0.4880]\n"
     ]
    },
    {
     "name": "stdout",
     "output_type": "stream",
     "text": [
      "Epoch 44/1000: Val Loss: 1.3380, Val Acc: 0.4880, Val F1: 0.4633\n",
      "Current Learning Rate: 3e-05\n",
      "Best model saved at ../Experiment Augment Result/model3_augment_best.pt with accuracy: 0.4880\n"
     ]
    },
    {
     "name": "stderr",
     "output_type": "stream",
     "text": [
      "Epoch 45/1000: 100%|██████████| 422/422 [01:43<00:00,  4.09it/s, Loss=1.2553, Acc=0.5220]\n"
     ]
    },
    {
     "name": "stdout",
     "output_type": "stream",
     "text": [
      "Epoch 45/1000: Train Loss: 1.2553, Train Acc: 0.5220\n"
     ]
    },
    {
     "name": "stderr",
     "output_type": "stream",
     "text": [
      "Validation: 100%|██████████| 47/47 [00:03<00:00, 14.45it/s, Loss=1.3130, Acc=0.4940]\n"
     ]
    },
    {
     "name": "stdout",
     "output_type": "stream",
     "text": [
      "Epoch 45/1000: Val Loss: 1.3130, Val Acc: 0.4940, Val F1: 0.4789\n",
      "Current Learning Rate: 3e-05\n",
      "Best model saved at ../Experiment Augment Result/model3_augment_best.pt with accuracy: 0.4940\n"
     ]
    },
    {
     "name": "stderr",
     "output_type": "stream",
     "text": [
      "Epoch 46/1000: 100%|██████████| 422/422 [01:45<00:00,  4.01it/s, Loss=1.2510, Acc=0.5194]\n"
     ]
    },
    {
     "name": "stdout",
     "output_type": "stream",
     "text": [
      "Epoch 46/1000: Train Loss: 1.2510, Train Acc: 0.5194\n"
     ]
    },
    {
     "name": "stderr",
     "output_type": "stream",
     "text": [
      "Validation: 100%|██████████| 47/47 [00:03<00:00, 14.00it/s, Loss=1.3368, Acc=0.4873]\n"
     ]
    },
    {
     "name": "stdout",
     "output_type": "stream",
     "text": [
      "Epoch 46/1000: Val Loss: 1.3368, Val Acc: 0.4873, Val F1: 0.4836\n",
      "Current Learning Rate: 3e-05\n"
     ]
    },
    {
     "name": "stderr",
     "output_type": "stream",
     "text": [
      "Epoch 47/1000: 100%|██████████| 422/422 [01:48<00:00,  3.89it/s, Loss=1.2384, Acc=0.5237]\n"
     ]
    },
    {
     "name": "stdout",
     "output_type": "stream",
     "text": [
      "Epoch 47/1000: Train Loss: 1.2384, Train Acc: 0.5237\n"
     ]
    },
    {
     "name": "stderr",
     "output_type": "stream",
     "text": [
      "Validation: 100%|██████████| 47/47 [00:03<00:00, 14.45it/s, Loss=1.3194, Acc=0.4917]\n"
     ]
    },
    {
     "name": "stdout",
     "output_type": "stream",
     "text": [
      "Epoch 47/1000: Val Loss: 1.3194, Val Acc: 0.4917, Val F1: 0.4868\n",
      "Current Learning Rate: 3e-05\n"
     ]
    },
    {
     "name": "stderr",
     "output_type": "stream",
     "text": [
      "Epoch 48/1000: 100%|██████████| 422/422 [01:43<00:00,  4.07it/s, Loss=1.2331, Acc=0.5262]\n"
     ]
    },
    {
     "name": "stdout",
     "output_type": "stream",
     "text": [
      "Epoch 48/1000: Train Loss: 1.2331, Train Acc: 0.5262\n"
     ]
    },
    {
     "name": "stderr",
     "output_type": "stream",
     "text": [
      "Validation: 100%|██████████| 47/47 [00:03<00:00, 14.58it/s, Loss=1.3146, Acc=0.4920]\n"
     ]
    },
    {
     "name": "stdout",
     "output_type": "stream",
     "text": [
      "Epoch 48/1000: Val Loss: 1.3146, Val Acc: 0.4920, Val F1: 0.4870\n",
      "Current Learning Rate: 3e-05\n"
     ]
    },
    {
     "name": "stderr",
     "output_type": "stream",
     "text": [
      "Epoch 49/1000: 100%|██████████| 422/422 [01:44<00:00,  4.05it/s, Loss=1.2225, Acc=0.5263]\n"
     ]
    },
    {
     "name": "stdout",
     "output_type": "stream",
     "text": [
      "Epoch 49/1000: Train Loss: 1.2225, Train Acc: 0.5263\n"
     ]
    },
    {
     "name": "stderr",
     "output_type": "stream",
     "text": [
      "Validation: 100%|██████████| 47/47 [00:03<00:00, 14.46it/s, Loss=1.3125, Acc=0.4890]\n"
     ]
    },
    {
     "name": "stdout",
     "output_type": "stream",
     "text": [
      "Epoch 49/1000: Val Loss: 1.3125, Val Acc: 0.4890, Val F1: 0.4815\n",
      "Current Learning Rate: 3e-05\n"
     ]
    },
    {
     "name": "stderr",
     "output_type": "stream",
     "text": [
      "Epoch 50/1000: 100%|██████████| 422/422 [01:43<00:00,  4.06it/s, Loss=1.2132, Acc=0.5310]\n"
     ]
    },
    {
     "name": "stdout",
     "output_type": "stream",
     "text": [
      "Epoch 50/1000: Train Loss: 1.2132, Train Acc: 0.5310\n"
     ]
    },
    {
     "name": "stderr",
     "output_type": "stream",
     "text": [
      "Validation: 100%|██████████| 47/47 [00:03<00:00, 14.37it/s, Loss=1.3079, Acc=0.5110]\n"
     ]
    },
    {
     "name": "stdout",
     "output_type": "stream",
     "text": [
      "Epoch 50/1000: Val Loss: 1.3079, Val Acc: 0.5110, Val F1: 0.4895\n",
      "Current Learning Rate: 3e-05\n",
      "Best model saved at ../Experiment Augment Result/model3_augment_best.pt with accuracy: 0.5110\n"
     ]
    },
    {
     "name": "stderr",
     "output_type": "stream",
     "text": [
      "Epoch 51/1000: 100%|██████████| 422/422 [01:43<00:00,  4.07it/s, Loss=1.2108, Acc=0.5325]\n"
     ]
    },
    {
     "name": "stdout",
     "output_type": "stream",
     "text": [
      "Epoch 51/1000: Train Loss: 1.2108, Train Acc: 0.5325\n"
     ]
    },
    {
     "name": "stderr",
     "output_type": "stream",
     "text": [
      "Validation: 100%|██████████| 47/47 [00:03<00:00, 14.48it/s, Loss=1.3121, Acc=0.4973]\n"
     ]
    },
    {
     "name": "stdout",
     "output_type": "stream",
     "text": [
      "Epoch 51/1000: Val Loss: 1.3121, Val Acc: 0.4973, Val F1: 0.4784\n",
      "Current Learning Rate: 3e-05\n"
     ]
    },
    {
     "name": "stderr",
     "output_type": "stream",
     "text": [
      "Epoch 52/1000: 100%|██████████| 422/422 [01:45<00:00,  4.01it/s, Loss=1.2030, Acc=0.5380]\n"
     ]
    },
    {
     "name": "stdout",
     "output_type": "stream",
     "text": [
      "Epoch 52/1000: Train Loss: 1.2030, Train Acc: 0.5380\n"
     ]
    },
    {
     "name": "stderr",
     "output_type": "stream",
     "text": [
      "Validation: 100%|██████████| 47/47 [00:03<00:00, 14.37it/s, Loss=1.2932, Acc=0.5080]\n"
     ]
    },
    {
     "name": "stdout",
     "output_type": "stream",
     "text": [
      "Epoch 52/1000: Val Loss: 1.2932, Val Acc: 0.5080, Val F1: 0.4956\n",
      "Current Learning Rate: 3e-05\n"
     ]
    },
    {
     "name": "stderr",
     "output_type": "stream",
     "text": [
      "Epoch 53/1000: 100%|██████████| 422/422 [01:43<00:00,  4.08it/s, Loss=1.1951, Acc=0.5400]\n"
     ]
    },
    {
     "name": "stdout",
     "output_type": "stream",
     "text": [
      "Epoch 53/1000: Train Loss: 1.1951, Train Acc: 0.5400\n"
     ]
    },
    {
     "name": "stderr",
     "output_type": "stream",
     "text": [
      "Validation: 100%|██████████| 47/47 [00:03<00:00, 14.58it/s, Loss=1.2941, Acc=0.5137]\n"
     ]
    },
    {
     "name": "stdout",
     "output_type": "stream",
     "text": [
      "Epoch 53/1000: Val Loss: 1.2941, Val Acc: 0.5137, Val F1: 0.5028\n",
      "Current Learning Rate: 3e-05\n",
      "Best model saved at ../Experiment Augment Result/model3_augment_best.pt with accuracy: 0.5137\n"
     ]
    },
    {
     "name": "stderr",
     "output_type": "stream",
     "text": [
      "Epoch 54/1000: 100%|██████████| 422/422 [01:43<00:00,  4.06it/s, Loss=1.1838, Acc=0.5425]\n"
     ]
    },
    {
     "name": "stdout",
     "output_type": "stream",
     "text": [
      "Epoch 54/1000: Train Loss: 1.1838, Train Acc: 0.5425\n"
     ]
    },
    {
     "name": "stderr",
     "output_type": "stream",
     "text": [
      "Validation: 100%|██████████| 47/47 [00:03<00:00, 14.38it/s, Loss=1.2828, Acc=0.5080]\n"
     ]
    },
    {
     "name": "stdout",
     "output_type": "stream",
     "text": [
      "Epoch 54/1000: Val Loss: 1.2828, Val Acc: 0.5080, Val F1: 0.5066\n",
      "Current Learning Rate: 3e-05\n"
     ]
    },
    {
     "name": "stderr",
     "output_type": "stream",
     "text": [
      "Epoch 55/1000: 100%|██████████| 422/422 [01:43<00:00,  4.09it/s, Loss=1.1790, Acc=0.5502]\n"
     ]
    },
    {
     "name": "stdout",
     "output_type": "stream",
     "text": [
      "Epoch 55/1000: Train Loss: 1.1790, Train Acc: 0.5502\n"
     ]
    },
    {
     "name": "stderr",
     "output_type": "stream",
     "text": [
      "Validation: 100%|██████████| 47/47 [00:03<00:00, 14.59it/s, Loss=1.2989, Acc=0.5113]\n"
     ]
    },
    {
     "name": "stdout",
     "output_type": "stream",
     "text": [
      "Epoch 55/1000: Val Loss: 1.2989, Val Acc: 0.5113, Val F1: 0.4995\n",
      "Current Learning Rate: 3e-05\n"
     ]
    },
    {
     "name": "stderr",
     "output_type": "stream",
     "text": [
      "Epoch 56/1000: 100%|██████████| 422/422 [01:42<00:00,  4.10it/s, Loss=1.1716, Acc=0.5539]\n"
     ]
    },
    {
     "name": "stdout",
     "output_type": "stream",
     "text": [
      "Epoch 56/1000: Train Loss: 1.1716, Train Acc: 0.5539\n"
     ]
    },
    {
     "name": "stderr",
     "output_type": "stream",
     "text": [
      "Validation: 100%|██████████| 47/47 [00:03<00:00, 14.57it/s, Loss=1.2890, Acc=0.5057]\n"
     ]
    },
    {
     "name": "stdout",
     "output_type": "stream",
     "text": [
      "Epoch 56/1000: Val Loss: 1.2890, Val Acc: 0.5057, Val F1: 0.4963\n",
      "Current Learning Rate: 3e-05\n"
     ]
    },
    {
     "name": "stderr",
     "output_type": "stream",
     "text": [
      "Epoch 57/1000: 100%|██████████| 422/422 [01:46<00:00,  3.96it/s, Loss=1.1638, Acc=0.5517]\n"
     ]
    },
    {
     "name": "stdout",
     "output_type": "stream",
     "text": [
      "Epoch 57/1000: Train Loss: 1.1638, Train Acc: 0.5517\n"
     ]
    },
    {
     "name": "stderr",
     "output_type": "stream",
     "text": [
      "Validation: 100%|██████████| 47/47 [00:03<00:00, 14.46it/s, Loss=1.2834, Acc=0.5040]\n"
     ]
    },
    {
     "name": "stdout",
     "output_type": "stream",
     "text": [
      "Epoch 57/1000: Val Loss: 1.2834, Val Acc: 0.5040, Val F1: 0.4927\n",
      "Current Learning Rate: 3e-05\n"
     ]
    },
    {
     "name": "stderr",
     "output_type": "stream",
     "text": [
      "Epoch 58/1000: 100%|██████████| 422/422 [01:48<00:00,  3.87it/s, Loss=1.1548, Acc=0.5574]\n"
     ]
    },
    {
     "name": "stdout",
     "output_type": "stream",
     "text": [
      "Epoch 58/1000: Train Loss: 1.1548, Train Acc: 0.5574\n"
     ]
    },
    {
     "name": "stderr",
     "output_type": "stream",
     "text": [
      "Validation: 100%|██████████| 47/47 [00:03<00:00, 14.45it/s, Loss=1.2857, Acc=0.5037]\n"
     ]
    },
    {
     "name": "stdout",
     "output_type": "stream",
     "text": [
      "Epoch 58/1000: Val Loss: 1.2857, Val Acc: 0.5037, Val F1: 0.5017\n",
      "Current Learning Rate: 3e-05\n"
     ]
    },
    {
     "name": "stderr",
     "output_type": "stream",
     "text": [
      "Epoch 59/1000: 100%|██████████| 422/422 [01:44<00:00,  4.04it/s, Loss=1.1485, Acc=0.5610]\n"
     ]
    },
    {
     "name": "stdout",
     "output_type": "stream",
     "text": [
      "Epoch 59/1000: Train Loss: 1.1485, Train Acc: 0.5610\n"
     ]
    },
    {
     "name": "stderr",
     "output_type": "stream",
     "text": [
      "Validation: 100%|██████████| 47/47 [00:03<00:00, 14.57it/s, Loss=1.2785, Acc=0.5063]\n"
     ]
    },
    {
     "name": "stdout",
     "output_type": "stream",
     "text": [
      "Epoch 59/1000: Val Loss: 1.2785, Val Acc: 0.5063, Val F1: 0.5040\n",
      "Current Learning Rate: 3e-05\n"
     ]
    },
    {
     "name": "stderr",
     "output_type": "stream",
     "text": [
      "Epoch 60/1000: 100%|██████████| 422/422 [01:43<00:00,  4.09it/s, Loss=1.1389, Acc=0.5658]\n"
     ]
    },
    {
     "name": "stdout",
     "output_type": "stream",
     "text": [
      "Epoch 60/1000: Train Loss: 1.1389, Train Acc: 0.5658\n"
     ]
    },
    {
     "name": "stderr",
     "output_type": "stream",
     "text": [
      "Validation: 100%|██████████| 47/47 [00:03<00:00, 14.55it/s, Loss=1.2882, Acc=0.5077]\n"
     ]
    },
    {
     "name": "stdout",
     "output_type": "stream",
     "text": [
      "Epoch 60/1000: Val Loss: 1.2882, Val Acc: 0.5077, Val F1: 0.4999\n",
      "Current Learning Rate: 3e-05\n"
     ]
    },
    {
     "name": "stderr",
     "output_type": "stream",
     "text": [
      "Epoch 61/1000: 100%|██████████| 422/422 [01:43<00:00,  4.09it/s, Loss=1.1344, Acc=0.5658]\n"
     ]
    },
    {
     "name": "stdout",
     "output_type": "stream",
     "text": [
      "Epoch 61/1000: Train Loss: 1.1344, Train Acc: 0.5658\n"
     ]
    },
    {
     "name": "stderr",
     "output_type": "stream",
     "text": [
      "Validation: 100%|██████████| 47/47 [00:03<00:00, 14.54it/s, Loss=1.2965, Acc=0.5063]\n"
     ]
    },
    {
     "name": "stdout",
     "output_type": "stream",
     "text": [
      "Epoch 61/1000: Val Loss: 1.2965, Val Acc: 0.5063, Val F1: 0.4894\n",
      "Current Learning Rate: 3e-05\n"
     ]
    },
    {
     "name": "stderr",
     "output_type": "stream",
     "text": [
      "Epoch 62/1000: 100%|██████████| 422/422 [01:44<00:00,  4.05it/s, Loss=1.1311, Acc=0.5642]\n"
     ]
    },
    {
     "name": "stdout",
     "output_type": "stream",
     "text": [
      "Epoch 62/1000: Train Loss: 1.1311, Train Acc: 0.5642\n"
     ]
    },
    {
     "name": "stderr",
     "output_type": "stream",
     "text": [
      "Validation: 100%|██████████| 47/47 [00:03<00:00, 14.58it/s, Loss=1.2692, Acc=0.5117]\n"
     ]
    },
    {
     "name": "stdout",
     "output_type": "stream",
     "text": [
      "Epoch 62/1000: Val Loss: 1.2692, Val Acc: 0.5117, Val F1: 0.5061\n",
      "Current Learning Rate: 3e-05\n"
     ]
    },
    {
     "name": "stderr",
     "output_type": "stream",
     "text": [
      "Epoch 63/1000: 100%|██████████| 422/422 [01:50<00:00,  3.82it/s, Loss=1.1195, Acc=0.5730]\n"
     ]
    },
    {
     "name": "stdout",
     "output_type": "stream",
     "text": [
      "Epoch 63/1000: Train Loss: 1.1195, Train Acc: 0.5730\n"
     ]
    },
    {
     "name": "stderr",
     "output_type": "stream",
     "text": [
      "Validation: 100%|██████████| 47/47 [00:03<00:00, 14.60it/s, Loss=1.3057, Acc=0.5017]\n"
     ]
    },
    {
     "name": "stdout",
     "output_type": "stream",
     "text": [
      "Epoch 63/1000: Val Loss: 1.3057, Val Acc: 0.5017, Val F1: 0.4941\n",
      "Current Learning Rate: 3e-05\n"
     ]
    },
    {
     "name": "stderr",
     "output_type": "stream",
     "text": [
      "Epoch 64/1000: 100%|██████████| 422/422 [01:45<00:00,  3.99it/s, Loss=1.1146, Acc=0.5776]\n"
     ]
    },
    {
     "name": "stdout",
     "output_type": "stream",
     "text": [
      "Epoch 64/1000: Train Loss: 1.1146, Train Acc: 0.5776\n"
     ]
    },
    {
     "name": "stderr",
     "output_type": "stream",
     "text": [
      "Validation: 100%|██████████| 47/47 [00:03<00:00, 14.47it/s, Loss=1.2732, Acc=0.5087]\n"
     ]
    },
    {
     "name": "stdout",
     "output_type": "stream",
     "text": [
      "Epoch 64/1000: Val Loss: 1.2732, Val Acc: 0.5087, Val F1: 0.5032\n",
      "Current Learning Rate: 3e-05\n"
     ]
    },
    {
     "name": "stderr",
     "output_type": "stream",
     "text": [
      "Epoch 65/1000: 100%|██████████| 422/422 [01:43<00:00,  4.08it/s, Loss=1.1036, Acc=0.5798]\n"
     ]
    },
    {
     "name": "stdout",
     "output_type": "stream",
     "text": [
      "Epoch 65/1000: Train Loss: 1.1036, Train Acc: 0.5798\n"
     ]
    },
    {
     "name": "stderr",
     "output_type": "stream",
     "text": [
      "Validation: 100%|██████████| 47/47 [00:03<00:00, 14.58it/s, Loss=1.2842, Acc=0.5197]\n"
     ]
    },
    {
     "name": "stdout",
     "output_type": "stream",
     "text": [
      "Epoch 65/1000: Val Loss: 1.2842, Val Acc: 0.5197, Val F1: 0.5114\n",
      "Current Learning Rate: 3e-05\n",
      "Best model saved at ../Experiment Augment Result/model3_augment_best.pt with accuracy: 0.5197\n"
     ]
    },
    {
     "name": "stderr",
     "output_type": "stream",
     "text": [
      "Epoch 66/1000: 100%|██████████| 422/422 [01:43<00:00,  4.08it/s, Loss=1.0899, Acc=0.5812]\n"
     ]
    },
    {
     "name": "stdout",
     "output_type": "stream",
     "text": [
      "Epoch 66/1000: Train Loss: 1.0899, Train Acc: 0.5812\n"
     ]
    },
    {
     "name": "stderr",
     "output_type": "stream",
     "text": [
      "Validation: 100%|██████████| 47/47 [00:03<00:00, 14.57it/s, Loss=1.2589, Acc=0.5253]\n"
     ]
    },
    {
     "name": "stdout",
     "output_type": "stream",
     "text": [
      "Epoch 66/1000: Val Loss: 1.2589, Val Acc: 0.5253, Val F1: 0.5213\n",
      "Current Learning Rate: 3e-05\n",
      "Best model saved at ../Experiment Augment Result/model3_augment_best.pt with accuracy: 0.5253\n"
     ]
    },
    {
     "name": "stderr",
     "output_type": "stream",
     "text": [
      "Epoch 67/1000: 100%|██████████| 422/422 [01:43<00:00,  4.08it/s, Loss=1.0893, Acc=0.5868]\n"
     ]
    },
    {
     "name": "stdout",
     "output_type": "stream",
     "text": [
      "Epoch 67/1000: Train Loss: 1.0893, Train Acc: 0.5868\n"
     ]
    },
    {
     "name": "stderr",
     "output_type": "stream",
     "text": [
      "Validation: 100%|██████████| 47/47 [00:03<00:00, 14.59it/s, Loss=1.2626, Acc=0.5270]\n"
     ]
    },
    {
     "name": "stdout",
     "output_type": "stream",
     "text": [
      "Epoch 67/1000: Val Loss: 1.2626, Val Acc: 0.5270, Val F1: 0.5144\n",
      "Current Learning Rate: 3e-05\n",
      "Best model saved at ../Experiment Augment Result/model3_augment_best.pt with accuracy: 0.5270\n"
     ]
    },
    {
     "name": "stderr",
     "output_type": "stream",
     "text": [
      "Epoch 68/1000: 100%|██████████| 422/422 [01:46<00:00,  3.98it/s, Loss=1.0782, Acc=0.5920]\n"
     ]
    },
    {
     "name": "stdout",
     "output_type": "stream",
     "text": [
      "Epoch 68/1000: Train Loss: 1.0782, Train Acc: 0.5920\n"
     ]
    },
    {
     "name": "stderr",
     "output_type": "stream",
     "text": [
      "Validation: 100%|██████████| 47/47 [00:03<00:00, 14.54it/s, Loss=1.2709, Acc=0.5240]\n"
     ]
    },
    {
     "name": "stdout",
     "output_type": "stream",
     "text": [
      "Epoch 68/1000: Val Loss: 1.2709, Val Acc: 0.5240, Val F1: 0.5172\n",
      "Current Learning Rate: 3e-05\n"
     ]
    },
    {
     "name": "stderr",
     "output_type": "stream",
     "text": [
      "Epoch 69/1000: 100%|██████████| 422/422 [01:47<00:00,  3.93it/s, Loss=1.0712, Acc=0.5925]\n"
     ]
    },
    {
     "name": "stdout",
     "output_type": "stream",
     "text": [
      "Epoch 69/1000: Train Loss: 1.0712, Train Acc: 0.5925\n"
     ]
    },
    {
     "name": "stderr",
     "output_type": "stream",
     "text": [
      "Validation: 100%|██████████| 47/47 [00:03<00:00, 14.35it/s, Loss=1.2687, Acc=0.5187]\n"
     ]
    },
    {
     "name": "stdout",
     "output_type": "stream",
     "text": [
      "Epoch 69/1000: Val Loss: 1.2687, Val Acc: 0.5187, Val F1: 0.5130\n",
      "Current Learning Rate: 3e-05\n"
     ]
    },
    {
     "name": "stderr",
     "output_type": "stream",
     "text": [
      "Epoch 70/1000: 100%|██████████| 422/422 [01:42<00:00,  4.10it/s, Loss=1.0596, Acc=0.5984]\n"
     ]
    },
    {
     "name": "stdout",
     "output_type": "stream",
     "text": [
      "Epoch 70/1000: Train Loss: 1.0596, Train Acc: 0.5984\n"
     ]
    },
    {
     "name": "stderr",
     "output_type": "stream",
     "text": [
      "Validation: 100%|██████████| 47/47 [00:03<00:00, 14.77it/s, Loss=1.2738, Acc=0.5270]\n"
     ]
    },
    {
     "name": "stdout",
     "output_type": "stream",
     "text": [
      "Epoch 70/1000: Val Loss: 1.2738, Val Acc: 0.5270, Val F1: 0.5232\n",
      "Current Learning Rate: 3e-05\n"
     ]
    },
    {
     "name": "stderr",
     "output_type": "stream",
     "text": [
      "Epoch 71/1000: 100%|██████████| 422/422 [01:43<00:00,  4.08it/s, Loss=1.0564, Acc=0.6011]\n"
     ]
    },
    {
     "name": "stdout",
     "output_type": "stream",
     "text": [
      "Epoch 71/1000: Train Loss: 1.0564, Train Acc: 0.6011\n"
     ]
    },
    {
     "name": "stderr",
     "output_type": "stream",
     "text": [
      "Validation: 100%|██████████| 47/47 [00:03<00:00, 14.97it/s, Loss=1.2681, Acc=0.5287]\n"
     ]
    },
    {
     "name": "stdout",
     "output_type": "stream",
     "text": [
      "Epoch 71/1000: Val Loss: 1.2681, Val Acc: 0.5287, Val F1: 0.5151\n",
      "Current Learning Rate: 3e-05\n",
      "Best model saved at ../Experiment Augment Result/model3_augment_best.pt with accuracy: 0.5287\n"
     ]
    },
    {
     "name": "stderr",
     "output_type": "stream",
     "text": [
      "Epoch 72/1000: 100%|██████████| 422/422 [01:42<00:00,  4.11it/s, Loss=1.0464, Acc=0.6032]\n"
     ]
    },
    {
     "name": "stdout",
     "output_type": "stream",
     "text": [
      "Epoch 72/1000: Train Loss: 1.0464, Train Acc: 0.6032\n"
     ]
    },
    {
     "name": "stderr",
     "output_type": "stream",
     "text": [
      "Validation: 100%|██████████| 47/47 [00:03<00:00, 14.98it/s, Loss=1.2814, Acc=0.5073]\n"
     ]
    },
    {
     "name": "stdout",
     "output_type": "stream",
     "text": [
      "Epoch 72/1000: Val Loss: 1.2814, Val Acc: 0.5073, Val F1: 0.5058\n",
      "Current Learning Rate: 3e-06\n"
     ]
    },
    {
     "name": "stderr",
     "output_type": "stream",
     "text": [
      "Epoch 73/1000: 100%|██████████| 422/422 [01:42<00:00,  4.11it/s, Loss=0.9860, Acc=0.6294]\n"
     ]
    },
    {
     "name": "stdout",
     "output_type": "stream",
     "text": [
      "Epoch 73/1000: Train Loss: 0.9860, Train Acc: 0.6294\n"
     ]
    },
    {
     "name": "stderr",
     "output_type": "stream",
     "text": [
      "Validation: 100%|██████████| 47/47 [00:03<00:00, 14.80it/s, Loss=1.2514, Acc=0.5357]\n"
     ]
    },
    {
     "name": "stdout",
     "output_type": "stream",
     "text": [
      "Epoch 73/1000: Val Loss: 1.2514, Val Acc: 0.5357, Val F1: 0.5321\n",
      "Current Learning Rate: 3e-06\n",
      "Best model saved at ../Experiment Augment Result/model3_augment_best.pt with accuracy: 0.5357\n"
     ]
    },
    {
     "name": "stderr",
     "output_type": "stream",
     "text": [
      "Epoch 74/1000: 100%|██████████| 422/422 [01:43<00:00,  4.09it/s, Loss=0.9667, Acc=0.6404]\n"
     ]
    },
    {
     "name": "stdout",
     "output_type": "stream",
     "text": [
      "Epoch 74/1000: Train Loss: 0.9667, Train Acc: 0.6404\n"
     ]
    },
    {
     "name": "stderr",
     "output_type": "stream",
     "text": [
      "Validation: 100%|██████████| 47/47 [00:03<00:00, 14.33it/s, Loss=1.2530, Acc=0.5327]\n"
     ]
    },
    {
     "name": "stdout",
     "output_type": "stream",
     "text": [
      "Epoch 74/1000: Val Loss: 1.2530, Val Acc: 0.5327, Val F1: 0.5279\n",
      "Current Learning Rate: 3e-06\n"
     ]
    },
    {
     "name": "stderr",
     "output_type": "stream",
     "text": [
      "Epoch 75/1000: 100%|██████████| 422/422 [01:43<00:00,  4.09it/s, Loss=0.9527, Acc=0.6423]\n"
     ]
    },
    {
     "name": "stdout",
     "output_type": "stream",
     "text": [
      "Epoch 75/1000: Train Loss: 0.9527, Train Acc: 0.6423\n"
     ]
    },
    {
     "name": "stderr",
     "output_type": "stream",
     "text": [
      "Validation: 100%|██████████| 47/47 [00:03<00:00, 14.59it/s, Loss=1.2536, Acc=0.5383]\n"
     ]
    },
    {
     "name": "stdout",
     "output_type": "stream",
     "text": [
      "Epoch 75/1000: Val Loss: 1.2536, Val Acc: 0.5383, Val F1: 0.5334\n",
      "Current Learning Rate: 3e-06\n",
      "Best model saved at ../Experiment Augment Result/model3_augment_best.pt with accuracy: 0.5383\n"
     ]
    },
    {
     "name": "stderr",
     "output_type": "stream",
     "text": [
      "Epoch 76/1000: 100%|██████████| 422/422 [01:43<00:00,  4.06it/s, Loss=0.9494, Acc=0.6444]\n"
     ]
    },
    {
     "name": "stdout",
     "output_type": "stream",
     "text": [
      "Epoch 76/1000: Train Loss: 0.9494, Train Acc: 0.6444\n"
     ]
    },
    {
     "name": "stderr",
     "output_type": "stream",
     "text": [
      "Validation: 100%|██████████| 47/47 [00:03<00:00, 14.53it/s, Loss=1.2538, Acc=0.5327]\n"
     ]
    },
    {
     "name": "stdout",
     "output_type": "stream",
     "text": [
      "Epoch 76/1000: Val Loss: 1.2538, Val Acc: 0.5327, Val F1: 0.5281\n",
      "Current Learning Rate: 3e-06\n"
     ]
    },
    {
     "name": "stderr",
     "output_type": "stream",
     "text": [
      "Epoch 77/1000: 100%|██████████| 422/422 [01:47<00:00,  3.94it/s, Loss=0.9392, Acc=0.6467]\n"
     ]
    },
    {
     "name": "stdout",
     "output_type": "stream",
     "text": [
      "Epoch 77/1000: Train Loss: 0.9392, Train Acc: 0.6467\n"
     ]
    },
    {
     "name": "stderr",
     "output_type": "stream",
     "text": [
      "Validation: 100%|██████████| 47/47 [00:03<00:00, 14.62it/s, Loss=1.2576, Acc=0.5353]\n"
     ]
    },
    {
     "name": "stdout",
     "output_type": "stream",
     "text": [
      "Epoch 77/1000: Val Loss: 1.2576, Val Acc: 0.5353, Val F1: 0.5304\n",
      "Current Learning Rate: 3e-06\n"
     ]
    },
    {
     "name": "stderr",
     "output_type": "stream",
     "text": [
      "Epoch 78/1000: 100%|██████████| 422/422 [01:43<00:00,  4.07it/s, Loss=0.9292, Acc=0.6532]\n"
     ]
    },
    {
     "name": "stdout",
     "output_type": "stream",
     "text": [
      "Epoch 78/1000: Train Loss: 0.9292, Train Acc: 0.6532\n"
     ]
    },
    {
     "name": "stderr",
     "output_type": "stream",
     "text": [
      "Validation: 100%|██████████| 47/47 [00:03<00:00, 14.42it/s, Loss=1.2606, Acc=0.5370]\n"
     ]
    },
    {
     "name": "stdout",
     "output_type": "stream",
     "text": [
      "Epoch 78/1000: Val Loss: 1.2606, Val Acc: 0.5370, Val F1: 0.5325\n",
      "Current Learning Rate: 3e-06\n"
     ]
    },
    {
     "name": "stderr",
     "output_type": "stream",
     "text": [
      "Epoch 79/1000: 100%|██████████| 422/422 [01:44<00:00,  4.06it/s, Loss=0.9279, Acc=0.6524]\n"
     ]
    },
    {
     "name": "stdout",
     "output_type": "stream",
     "text": [
      "Epoch 79/1000: Train Loss: 0.9279, Train Acc: 0.6524\n"
     ]
    },
    {
     "name": "stderr",
     "output_type": "stream",
     "text": [
      "Validation: 100%|██████████| 47/47 [00:03<00:00, 14.38it/s, Loss=1.2658, Acc=0.5337]\n"
     ]
    },
    {
     "name": "stdout",
     "output_type": "stream",
     "text": [
      "Epoch 79/1000: Val Loss: 1.2658, Val Acc: 0.5337, Val F1: 0.5284\n",
      "Current Learning Rate: 3.0000000000000004e-07\n"
     ]
    },
    {
     "name": "stderr",
     "output_type": "stream",
     "text": [
      "Epoch 80/1000: 100%|██████████| 422/422 [01:43<00:00,  4.07it/s, Loss=0.9248, Acc=0.6561]\n"
     ]
    },
    {
     "name": "stdout",
     "output_type": "stream",
     "text": [
      "Epoch 80/1000: Train Loss: 0.9248, Train Acc: 0.6561\n"
     ]
    },
    {
     "name": "stderr",
     "output_type": "stream",
     "text": [
      "Validation: 100%|██████████| 47/47 [00:03<00:00, 14.30it/s, Loss=1.2649, Acc=0.5373]\n"
     ]
    },
    {
     "name": "stdout",
     "output_type": "stream",
     "text": [
      "Epoch 80/1000: Val Loss: 1.2649, Val Acc: 0.5373, Val F1: 0.5327\n",
      "Current Learning Rate: 3.0000000000000004e-07\n"
     ]
    },
    {
     "name": "stderr",
     "output_type": "stream",
     "text": [
      "Epoch 81/1000: 100%|██████████| 422/422 [01:43<00:00,  4.07it/s, Loss=0.9148, Acc=0.6588]\n"
     ]
    },
    {
     "name": "stdout",
     "output_type": "stream",
     "text": [
      "Epoch 81/1000: Train Loss: 0.9148, Train Acc: 0.6588\n"
     ]
    },
    {
     "name": "stderr",
     "output_type": "stream",
     "text": [
      "Validation: 100%|██████████| 47/47 [00:03<00:00, 14.21it/s, Loss=1.2644, Acc=0.5370]\n"
     ]
    },
    {
     "name": "stdout",
     "output_type": "stream",
     "text": [
      "Epoch 81/1000: Val Loss: 1.2644, Val Acc: 0.5370, Val F1: 0.5327\n",
      "Current Learning Rate: 3.0000000000000004e-07\n"
     ]
    },
    {
     "name": "stderr",
     "output_type": "stream",
     "text": [
      "Epoch 82/1000: 100%|██████████| 422/422 [01:44<00:00,  4.02it/s, Loss=0.9198, Acc=0.6566]\n"
     ]
    },
    {
     "name": "stdout",
     "output_type": "stream",
     "text": [
      "Epoch 82/1000: Train Loss: 0.9198, Train Acc: 0.6566\n"
     ]
    },
    {
     "name": "stderr",
     "output_type": "stream",
     "text": [
      "Validation: 100%|██████████| 47/47 [00:03<00:00, 14.60it/s, Loss=1.2656, Acc=0.5373]\n"
     ]
    },
    {
     "name": "stdout",
     "output_type": "stream",
     "text": [
      "Epoch 82/1000: Val Loss: 1.2656, Val Acc: 0.5373, Val F1: 0.5329\n",
      "Current Learning Rate: 3.0000000000000004e-07\n"
     ]
    },
    {
     "name": "stderr",
     "output_type": "stream",
     "text": [
      "Epoch 83/1000: 100%|██████████| 422/422 [01:43<00:00,  4.07it/s, Loss=0.9201, Acc=0.6572]\n"
     ]
    },
    {
     "name": "stdout",
     "output_type": "stream",
     "text": [
      "Epoch 83/1000: Train Loss: 0.9201, Train Acc: 0.6572\n"
     ]
    },
    {
     "name": "stderr",
     "output_type": "stream",
     "text": [
      "Validation: 100%|██████████| 47/47 [00:03<00:00, 14.57it/s, Loss=1.2646, Acc=0.5380]\n"
     ]
    },
    {
     "name": "stdout",
     "output_type": "stream",
     "text": [
      "Epoch 83/1000: Val Loss: 1.2646, Val Acc: 0.5380, Val F1: 0.5334\n",
      "Current Learning Rate: 3.0000000000000004e-07\n"
     ]
    },
    {
     "name": "stderr",
     "output_type": "stream",
     "text": [
      "Epoch 84/1000: 100%|██████████| 422/422 [01:44<00:00,  4.05it/s, Loss=0.9127, Acc=0.6595]\n"
     ]
    },
    {
     "name": "stdout",
     "output_type": "stream",
     "text": [
      "Epoch 84/1000: Train Loss: 0.9127, Train Acc: 0.6595\n"
     ]
    },
    {
     "name": "stderr",
     "output_type": "stream",
     "text": [
      "Validation: 100%|██████████| 47/47 [00:03<00:00, 14.48it/s, Loss=1.2653, Acc=0.5367]\n"
     ]
    },
    {
     "name": "stdout",
     "output_type": "stream",
     "text": [
      "Epoch 84/1000: Val Loss: 1.2653, Val Acc: 0.5367, Val F1: 0.5321\n",
      "Current Learning Rate: 3.0000000000000004e-07\n"
     ]
    },
    {
     "name": "stderr",
     "output_type": "stream",
     "text": [
      "Epoch 85/1000: 100%|██████████| 422/422 [01:43<00:00,  4.09it/s, Loss=0.9180, Acc=0.6565]\n"
     ]
    },
    {
     "name": "stdout",
     "output_type": "stream",
     "text": [
      "Epoch 85/1000: Train Loss: 0.9180, Train Acc: 0.6565\n"
     ]
    },
    {
     "name": "stderr",
     "output_type": "stream",
     "text": [
      "Validation: 100%|██████████| 47/47 [00:03<00:00, 14.44it/s, Loss=1.2646, Acc=0.5363]\n"
     ]
    },
    {
     "name": "stdout",
     "output_type": "stream",
     "text": [
      "Epoch 85/1000: Val Loss: 1.2646, Val Acc: 0.5363, Val F1: 0.5322\n",
      "Current Learning Rate: 3.0000000000000004e-08\n"
     ]
    },
    {
     "name": "stderr",
     "output_type": "stream",
     "text": [
      "Epoch 86/1000: 100%|██████████| 422/422 [01:44<00:00,  4.05it/s, Loss=0.9207, Acc=0.6541]\n"
     ]
    },
    {
     "name": "stdout",
     "output_type": "stream",
     "text": [
      "Epoch 86/1000: Train Loss: 0.9207, Train Acc: 0.6541\n"
     ]
    },
    {
     "name": "stderr",
     "output_type": "stream",
     "text": [
      "Validation: 100%|██████████| 47/47 [00:03<00:00, 14.48it/s, Loss=1.2652, Acc=0.5357]\n"
     ]
    },
    {
     "name": "stdout",
     "output_type": "stream",
     "text": [
      "Epoch 86/1000: Val Loss: 1.2652, Val Acc: 0.5357, Val F1: 0.5314\n",
      "Current Learning Rate: 3.0000000000000004e-08\n"
     ]
    },
    {
     "name": "stderr",
     "output_type": "stream",
     "text": [
      "Epoch 87/1000: 100%|██████████| 422/422 [01:44<00:00,  4.05it/s, Loss=0.9214, Acc=0.6566]\n"
     ]
    },
    {
     "name": "stdout",
     "output_type": "stream",
     "text": [
      "Epoch 87/1000: Train Loss: 0.9214, Train Acc: 0.6566\n"
     ]
    },
    {
     "name": "stderr",
     "output_type": "stream",
     "text": [
      "Validation: 100%|██████████| 47/47 [00:03<00:00, 14.58it/s, Loss=1.2643, Acc=0.5350]\n"
     ]
    },
    {
     "name": "stdout",
     "output_type": "stream",
     "text": [
      "Epoch 87/1000: Val Loss: 1.2643, Val Acc: 0.5350, Val F1: 0.5306\n",
      "Current Learning Rate: 3.0000000000000004e-08\n"
     ]
    },
    {
     "name": "stderr",
     "output_type": "stream",
     "text": [
      "Epoch 88/1000: 100%|██████████| 422/422 [01:44<00:00,  4.04it/s, Loss=0.9138, Acc=0.6615]\n"
     ]
    },
    {
     "name": "stdout",
     "output_type": "stream",
     "text": [
      "Epoch 88/1000: Train Loss: 0.9138, Train Acc: 0.6615\n"
     ]
    },
    {
     "name": "stderr",
     "output_type": "stream",
     "text": [
      "Validation: 100%|██████████| 47/47 [00:03<00:00, 14.59it/s, Loss=1.2644, Acc=0.5360]\n"
     ]
    },
    {
     "name": "stdout",
     "output_type": "stream",
     "text": [
      "Epoch 88/1000: Val Loss: 1.2644, Val Acc: 0.5360, Val F1: 0.5316\n",
      "Current Learning Rate: 3.0000000000000004e-08\n",
      "Early stopping triggered at epoch 88!\n"
     ]
    },
    {
     "name": "stderr",
     "output_type": "stream",
     "text": [
      "Testing: 100%|██████████| 53/53 [00:03<00:00, 14.74it/s, Loss=1.2419, Acc=0.5368]\n"
     ]
    },
    {
     "name": "stdout",
     "output_type": "stream",
     "text": [
      "Test Loss: 1.2419, Test Acc: 0.5368, Test F1: 0.5281\n",
      "Start model4 with configuration patch size: 16, num_heads: 8, embedding_dims: 384, num_layers: 12\n"
     ]
    },
    {
     "name": "stderr",
     "output_type": "stream",
     "text": [
      "Epoch 1/1000: 100%|██████████| 422/422 [03:10<00:00,  2.22it/s, Loss=1.7919, Acc=0.2533]\n"
     ]
    },
    {
     "name": "stdout",
     "output_type": "stream",
     "text": [
      "Epoch 1/1000: Train Loss: 1.7919, Train Acc: 0.2533\n"
     ]
    },
    {
     "name": "stderr",
     "output_type": "stream",
     "text": [
      "Validation: 100%|██████████| 47/47 [00:05<00:00,  8.03it/s, Loss=1.7813, Acc=0.2510]\n"
     ]
    },
    {
     "name": "stdout",
     "output_type": "stream",
     "text": [
      "Epoch 1/1000: Val Loss: 1.7813, Val Acc: 0.2510, Val F1: 0.1547\n",
      "Current Learning Rate: 3e-05\n",
      "Best model saved at ../Experiment Augment Result/model4_augment_best.pt with accuracy: 0.2510\n"
     ]
    },
    {
     "name": "stderr",
     "output_type": "stream",
     "text": [
      "Epoch 2/1000: 100%|██████████| 422/422 [03:10<00:00,  2.22it/s, Loss=1.7333, Acc=0.2895]\n"
     ]
    },
    {
     "name": "stdout",
     "output_type": "stream",
     "text": [
      "Epoch 2/1000: Train Loss: 1.7333, Train Acc: 0.2895\n"
     ]
    },
    {
     "name": "stderr",
     "output_type": "stream",
     "text": [
      "Validation: 100%|██████████| 47/47 [00:05<00:00,  8.04it/s, Loss=1.6839, Acc=0.3177]\n"
     ]
    },
    {
     "name": "stdout",
     "output_type": "stream",
     "text": [
      "Epoch 2/1000: Val Loss: 1.6839, Val Acc: 0.3177, Val F1: 0.2554\n",
      "Current Learning Rate: 3e-05\n",
      "Best model saved at ../Experiment Augment Result/model4_augment_best.pt with accuracy: 0.3177\n"
     ]
    },
    {
     "name": "stderr",
     "output_type": "stream",
     "text": [
      "Epoch 3/1000: 100%|██████████| 422/422 [03:09<00:00,  2.22it/s, Loss=1.6779, Acc=0.3289]\n"
     ]
    },
    {
     "name": "stdout",
     "output_type": "stream",
     "text": [
      "Epoch 3/1000: Train Loss: 1.6779, Train Acc: 0.3289\n"
     ]
    },
    {
     "name": "stderr",
     "output_type": "stream",
     "text": [
      "Validation: 100%|██████████| 47/47 [00:05<00:00,  8.04it/s, Loss=1.6449, Acc=0.3387]\n"
     ]
    },
    {
     "name": "stdout",
     "output_type": "stream",
     "text": [
      "Epoch 3/1000: Val Loss: 1.6449, Val Acc: 0.3387, Val F1: 0.2840\n",
      "Current Learning Rate: 3e-05\n",
      "Best model saved at ../Experiment Augment Result/model4_augment_best.pt with accuracy: 0.3387\n"
     ]
    },
    {
     "name": "stderr",
     "output_type": "stream",
     "text": [
      "Epoch 4/1000: 100%|██████████| 422/422 [03:12<00:00,  2.19it/s, Loss=1.6484, Acc=0.3460]\n"
     ]
    },
    {
     "name": "stdout",
     "output_type": "stream",
     "text": [
      "Epoch 4/1000: Train Loss: 1.6484, Train Acc: 0.3460\n"
     ]
    },
    {
     "name": "stderr",
     "output_type": "stream",
     "text": [
      "Validation: 100%|██████████| 47/47 [00:05<00:00,  8.01it/s, Loss=1.6256, Acc=0.3697]\n"
     ]
    },
    {
     "name": "stdout",
     "output_type": "stream",
     "text": [
      "Epoch 4/1000: Val Loss: 1.6256, Val Acc: 0.3697, Val F1: 0.3372\n",
      "Current Learning Rate: 3e-05\n",
      "Best model saved at ../Experiment Augment Result/model4_augment_best.pt with accuracy: 0.3697\n"
     ]
    },
    {
     "name": "stderr",
     "output_type": "stream",
     "text": [
      "Epoch 5/1000: 100%|██████████| 422/422 [03:10<00:00,  2.21it/s, Loss=1.6328, Acc=0.3533]\n"
     ]
    },
    {
     "name": "stdout",
     "output_type": "stream",
     "text": [
      "Epoch 5/1000: Train Loss: 1.6328, Train Acc: 0.3533\n"
     ]
    },
    {
     "name": "stderr",
     "output_type": "stream",
     "text": [
      "Validation: 100%|██████████| 47/47 [00:05<00:00,  8.03it/s, Loss=1.5975, Acc=0.3720]\n"
     ]
    },
    {
     "name": "stdout",
     "output_type": "stream",
     "text": [
      "Epoch 5/1000: Val Loss: 1.5975, Val Acc: 0.3720, Val F1: 0.3263\n",
      "Current Learning Rate: 3e-05\n",
      "Best model saved at ../Experiment Augment Result/model4_augment_best.pt with accuracy: 0.3720\n"
     ]
    },
    {
     "name": "stderr",
     "output_type": "stream",
     "text": [
      "Epoch 6/1000: 100%|██████████| 422/422 [03:12<00:00,  2.19it/s, Loss=1.6087, Acc=0.3647]\n"
     ]
    },
    {
     "name": "stdout",
     "output_type": "stream",
     "text": [
      "Epoch 6/1000: Train Loss: 1.6087, Train Acc: 0.3647\n"
     ]
    },
    {
     "name": "stderr",
     "output_type": "stream",
     "text": [
      "Validation: 100%|██████████| 47/47 [00:05<00:00,  7.93it/s, Loss=1.5721, Acc=0.3820]\n"
     ]
    },
    {
     "name": "stdout",
     "output_type": "stream",
     "text": [
      "Epoch 6/1000: Val Loss: 1.5721, Val Acc: 0.3820, Val F1: 0.3561\n",
      "Current Learning Rate: 3e-05\n",
      "Best model saved at ../Experiment Augment Result/model4_augment_best.pt with accuracy: 0.3820\n"
     ]
    },
    {
     "name": "stderr",
     "output_type": "stream",
     "text": [
      "Epoch 7/1000: 100%|██████████| 422/422 [03:10<00:00,  2.22it/s, Loss=1.5989, Acc=0.3719]\n"
     ]
    },
    {
     "name": "stdout",
     "output_type": "stream",
     "text": [
      "Epoch 7/1000: Train Loss: 1.5989, Train Acc: 0.3719\n"
     ]
    },
    {
     "name": "stderr",
     "output_type": "stream",
     "text": [
      "Validation: 100%|██████████| 47/47 [00:05<00:00,  8.00it/s, Loss=1.5674, Acc=0.3867]\n"
     ]
    },
    {
     "name": "stdout",
     "output_type": "stream",
     "text": [
      "Epoch 7/1000: Val Loss: 1.5674, Val Acc: 0.3867, Val F1: 0.3554\n",
      "Current Learning Rate: 3e-05\n",
      "Best model saved at ../Experiment Augment Result/model4_augment_best.pt with accuracy: 0.3867\n"
     ]
    },
    {
     "name": "stderr",
     "output_type": "stream",
     "text": [
      "Epoch 8/1000: 100%|██████████| 422/422 [03:12<00:00,  2.19it/s, Loss=1.5858, Acc=0.3753]\n"
     ]
    },
    {
     "name": "stdout",
     "output_type": "stream",
     "text": [
      "Epoch 8/1000: Train Loss: 1.5858, Train Acc: 0.3753\n"
     ]
    },
    {
     "name": "stderr",
     "output_type": "stream",
     "text": [
      "Validation: 100%|██████████| 47/47 [00:05<00:00,  8.05it/s, Loss=1.5533, Acc=0.3910]\n"
     ]
    },
    {
     "name": "stdout",
     "output_type": "stream",
     "text": [
      "Epoch 8/1000: Val Loss: 1.5533, Val Acc: 0.3910, Val F1: 0.3656\n",
      "Current Learning Rate: 3e-05\n",
      "Best model saved at ../Experiment Augment Result/model4_augment_best.pt with accuracy: 0.3910\n"
     ]
    },
    {
     "name": "stderr",
     "output_type": "stream",
     "text": [
      "Epoch 9/1000: 100%|██████████| 422/422 [03:10<00:00,  2.22it/s, Loss=1.5662, Acc=0.3889]\n"
     ]
    },
    {
     "name": "stdout",
     "output_type": "stream",
     "text": [
      "Epoch 9/1000: Train Loss: 1.5662, Train Acc: 0.3889\n"
     ]
    },
    {
     "name": "stderr",
     "output_type": "stream",
     "text": [
      "Validation: 100%|██████████| 47/47 [00:05<00:00,  8.04it/s, Loss=1.5419, Acc=0.3947]\n"
     ]
    },
    {
     "name": "stdout",
     "output_type": "stream",
     "text": [
      "Epoch 9/1000: Val Loss: 1.5419, Val Acc: 0.3947, Val F1: 0.3572\n",
      "Current Learning Rate: 3e-05\n",
      "Best model saved at ../Experiment Augment Result/model4_augment_best.pt with accuracy: 0.3947\n"
     ]
    },
    {
     "name": "stderr",
     "output_type": "stream",
     "text": [
      "Epoch 10/1000: 100%|██████████| 422/422 [03:10<00:00,  2.21it/s, Loss=1.5554, Acc=0.3929]\n"
     ]
    },
    {
     "name": "stdout",
     "output_type": "stream",
     "text": [
      "Epoch 10/1000: Train Loss: 1.5554, Train Acc: 0.3929\n"
     ]
    },
    {
     "name": "stderr",
     "output_type": "stream",
     "text": [
      "Validation: 100%|██████████| 47/47 [00:05<00:00,  8.03it/s, Loss=1.5301, Acc=0.3973]\n"
     ]
    },
    {
     "name": "stdout",
     "output_type": "stream",
     "text": [
      "Epoch 10/1000: Val Loss: 1.5301, Val Acc: 0.3973, Val F1: 0.3688\n",
      "Current Learning Rate: 3e-05\n",
      "Best model saved at ../Experiment Augment Result/model4_augment_best.pt with accuracy: 0.3973\n"
     ]
    },
    {
     "name": "stderr",
     "output_type": "stream",
     "text": [
      "Epoch 11/1000: 100%|██████████| 422/422 [03:10<00:00,  2.22it/s, Loss=1.5430, Acc=0.3946]\n"
     ]
    },
    {
     "name": "stdout",
     "output_type": "stream",
     "text": [
      "Epoch 11/1000: Train Loss: 1.5430, Train Acc: 0.3946\n"
     ]
    },
    {
     "name": "stderr",
     "output_type": "stream",
     "text": [
      "Validation: 100%|██████████| 47/47 [00:05<00:00,  8.03it/s, Loss=1.5196, Acc=0.4043]\n"
     ]
    },
    {
     "name": "stdout",
     "output_type": "stream",
     "text": [
      "Epoch 11/1000: Val Loss: 1.5196, Val Acc: 0.4043, Val F1: 0.3515\n",
      "Current Learning Rate: 3e-05\n",
      "Best model saved at ../Experiment Augment Result/model4_augment_best.pt with accuracy: 0.4043\n"
     ]
    },
    {
     "name": "stderr",
     "output_type": "stream",
     "text": [
      "Epoch 12/1000: 100%|██████████| 422/422 [03:12<00:00,  2.19it/s, Loss=1.5253, Acc=0.4032]\n"
     ]
    },
    {
     "name": "stdout",
     "output_type": "stream",
     "text": [
      "Epoch 12/1000: Train Loss: 1.5253, Train Acc: 0.4032\n"
     ]
    },
    {
     "name": "stderr",
     "output_type": "stream",
     "text": [
      "Validation: 100%|██████████| 47/47 [00:05<00:00,  8.03it/s, Loss=1.4887, Acc=0.4197]\n"
     ]
    },
    {
     "name": "stdout",
     "output_type": "stream",
     "text": [
      "Epoch 12/1000: Val Loss: 1.4887, Val Acc: 0.4197, Val F1: 0.3946\n",
      "Current Learning Rate: 3e-05\n",
      "Best model saved at ../Experiment Augment Result/model4_augment_best.pt with accuracy: 0.4197\n"
     ]
    },
    {
     "name": "stderr",
     "output_type": "stream",
     "text": [
      "Epoch 13/1000: 100%|██████████| 422/422 [03:10<00:00,  2.21it/s, Loss=1.5096, Acc=0.4101]\n"
     ]
    },
    {
     "name": "stdout",
     "output_type": "stream",
     "text": [
      "Epoch 13/1000: Train Loss: 1.5096, Train Acc: 0.4101\n"
     ]
    },
    {
     "name": "stderr",
     "output_type": "stream",
     "text": [
      "Validation: 100%|██████████| 47/47 [00:05<00:00,  8.03it/s, Loss=1.4801, Acc=0.4237]\n"
     ]
    },
    {
     "name": "stdout",
     "output_type": "stream",
     "text": [
      "Epoch 13/1000: Val Loss: 1.4801, Val Acc: 0.4237, Val F1: 0.3801\n",
      "Current Learning Rate: 3e-05\n",
      "Best model saved at ../Experiment Augment Result/model4_augment_best.pt with accuracy: 0.4237\n"
     ]
    },
    {
     "name": "stderr",
     "output_type": "stream",
     "text": [
      "Epoch 14/1000: 100%|██████████| 422/422 [03:11<00:00,  2.21it/s, Loss=1.4933, Acc=0.4173]\n"
     ]
    },
    {
     "name": "stdout",
     "output_type": "stream",
     "text": [
      "Epoch 14/1000: Train Loss: 1.4933, Train Acc: 0.4173\n"
     ]
    },
    {
     "name": "stderr",
     "output_type": "stream",
     "text": [
      "Validation: 100%|██████████| 47/47 [00:05<00:00,  8.01it/s, Loss=1.4536, Acc=0.4317]\n"
     ]
    },
    {
     "name": "stdout",
     "output_type": "stream",
     "text": [
      "Epoch 14/1000: Val Loss: 1.4536, Val Acc: 0.4317, Val F1: 0.4025\n",
      "Current Learning Rate: 3e-05\n",
      "Best model saved at ../Experiment Augment Result/model4_augment_best.pt with accuracy: 0.4317\n"
     ]
    },
    {
     "name": "stderr",
     "output_type": "stream",
     "text": [
      "Epoch 15/1000: 100%|██████████| 422/422 [03:13<00:00,  2.18it/s, Loss=1.4803, Acc=0.4231]\n"
     ]
    },
    {
     "name": "stdout",
     "output_type": "stream",
     "text": [
      "Epoch 15/1000: Train Loss: 1.4803, Train Acc: 0.4231\n"
     ]
    },
    {
     "name": "stderr",
     "output_type": "stream",
     "text": [
      "Validation: 100%|██████████| 47/47 [00:05<00:00,  8.04it/s, Loss=1.4537, Acc=0.4320]\n"
     ]
    },
    {
     "name": "stdout",
     "output_type": "stream",
     "text": [
      "Epoch 15/1000: Val Loss: 1.4537, Val Acc: 0.4320, Val F1: 0.3946\n",
      "Current Learning Rate: 3e-05\n",
      "Best model saved at ../Experiment Augment Result/model4_augment_best.pt with accuracy: 0.4320\n"
     ]
    },
    {
     "name": "stderr",
     "output_type": "stream",
     "text": [
      "Epoch 16/1000: 100%|██████████| 422/422 [03:12<00:00,  2.20it/s, Loss=1.4607, Acc=0.4313]\n"
     ]
    },
    {
     "name": "stdout",
     "output_type": "stream",
     "text": [
      "Epoch 16/1000: Train Loss: 1.4607, Train Acc: 0.4313\n"
     ]
    },
    {
     "name": "stderr",
     "output_type": "stream",
     "text": [
      "Validation: 100%|██████████| 47/47 [00:05<00:00,  8.08it/s, Loss=1.4297, Acc=0.4387]\n"
     ]
    },
    {
     "name": "stdout",
     "output_type": "stream",
     "text": [
      "Epoch 16/1000: Val Loss: 1.4297, Val Acc: 0.4387, Val F1: 0.4190\n",
      "Current Learning Rate: 3e-05\n",
      "Best model saved at ../Experiment Augment Result/model4_augment_best.pt with accuracy: 0.4387\n"
     ]
    },
    {
     "name": "stderr",
     "output_type": "stream",
     "text": [
      "Epoch 17/1000: 100%|██████████| 422/422 [03:12<00:00,  2.20it/s, Loss=1.4502, Acc=0.4352]\n"
     ]
    },
    {
     "name": "stdout",
     "output_type": "stream",
     "text": [
      "Epoch 17/1000: Train Loss: 1.4502, Train Acc: 0.4352\n"
     ]
    },
    {
     "name": "stderr",
     "output_type": "stream",
     "text": [
      "Validation: 100%|██████████| 47/47 [00:05<00:00,  8.03it/s, Loss=1.4452, Acc=0.4327]\n"
     ]
    },
    {
     "name": "stdout",
     "output_type": "stream",
     "text": [
      "Epoch 17/1000: Val Loss: 1.4452, Val Acc: 0.4327, Val F1: 0.3989\n",
      "Current Learning Rate: 3e-05\n"
     ]
    },
    {
     "name": "stderr",
     "output_type": "stream",
     "text": [
      "Epoch 18/1000: 100%|██████████| 422/422 [03:11<00:00,  2.21it/s, Loss=1.4345, Acc=0.4435]\n"
     ]
    },
    {
     "name": "stdout",
     "output_type": "stream",
     "text": [
      "Epoch 18/1000: Train Loss: 1.4345, Train Acc: 0.4435\n"
     ]
    },
    {
     "name": "stderr",
     "output_type": "stream",
     "text": [
      "Validation: 100%|██████████| 47/47 [00:05<00:00,  8.01it/s, Loss=1.4157, Acc=0.4490]\n"
     ]
    },
    {
     "name": "stdout",
     "output_type": "stream",
     "text": [
      "Epoch 18/1000: Val Loss: 1.4157, Val Acc: 0.4490, Val F1: 0.4164\n",
      "Current Learning Rate: 3e-05\n",
      "Best model saved at ../Experiment Augment Result/model4_augment_best.pt with accuracy: 0.4490\n"
     ]
    },
    {
     "name": "stderr",
     "output_type": "stream",
     "text": [
      "Epoch 19/1000: 100%|██████████| 422/422 [03:13<00:00,  2.18it/s, Loss=1.4230, Acc=0.4517]\n"
     ]
    },
    {
     "name": "stdout",
     "output_type": "stream",
     "text": [
      "Epoch 19/1000: Train Loss: 1.4230, Train Acc: 0.4517\n"
     ]
    },
    {
     "name": "stderr",
     "output_type": "stream",
     "text": [
      "Validation: 100%|██████████| 47/47 [00:05<00:00,  8.04it/s, Loss=1.4074, Acc=0.4487]\n"
     ]
    },
    {
     "name": "stdout",
     "output_type": "stream",
     "text": [
      "Epoch 19/1000: Val Loss: 1.4074, Val Acc: 0.4487, Val F1: 0.4310\n",
      "Current Learning Rate: 3e-05\n"
     ]
    },
    {
     "name": "stderr",
     "output_type": "stream",
     "text": [
      "Epoch 20/1000: 100%|██████████| 422/422 [03:11<00:00,  2.21it/s, Loss=1.4038, Acc=0.4527]\n"
     ]
    },
    {
     "name": "stdout",
     "output_type": "stream",
     "text": [
      "Epoch 20/1000: Train Loss: 1.4038, Train Acc: 0.4527\n"
     ]
    },
    {
     "name": "stderr",
     "output_type": "stream",
     "text": [
      "Validation: 100%|██████████| 47/47 [00:05<00:00,  8.01it/s, Loss=1.3955, Acc=0.4533]\n"
     ]
    },
    {
     "name": "stdout",
     "output_type": "stream",
     "text": [
      "Epoch 20/1000: Val Loss: 1.3955, Val Acc: 0.4533, Val F1: 0.4410\n",
      "Current Learning Rate: 3e-05\n",
      "Best model saved at ../Experiment Augment Result/model4_augment_best.pt with accuracy: 0.4533\n"
     ]
    },
    {
     "name": "stderr",
     "output_type": "stream",
     "text": [
      "Epoch 21/1000: 100%|██████████| 422/422 [03:10<00:00,  2.21it/s, Loss=1.3991, Acc=0.4548]\n"
     ]
    },
    {
     "name": "stdout",
     "output_type": "stream",
     "text": [
      "Epoch 21/1000: Train Loss: 1.3991, Train Acc: 0.4548\n"
     ]
    },
    {
     "name": "stderr",
     "output_type": "stream",
     "text": [
      "Validation: 100%|██████████| 47/47 [00:06<00:00,  7.73it/s, Loss=1.3898, Acc=0.4640]\n"
     ]
    },
    {
     "name": "stdout",
     "output_type": "stream",
     "text": [
      "Epoch 21/1000: Val Loss: 1.3898, Val Acc: 0.4640, Val F1: 0.4431\n",
      "Current Learning Rate: 3e-05\n",
      "Best model saved at ../Experiment Augment Result/model4_augment_best.pt with accuracy: 0.4640\n"
     ]
    },
    {
     "name": "stderr",
     "output_type": "stream",
     "text": [
      "Epoch 22/1000: 100%|██████████| 422/422 [03:09<00:00,  2.22it/s, Loss=1.3847, Acc=0.4638]\n"
     ]
    },
    {
     "name": "stdout",
     "output_type": "stream",
     "text": [
      "Epoch 22/1000: Train Loss: 1.3847, Train Acc: 0.4638\n"
     ]
    },
    {
     "name": "stderr",
     "output_type": "stream",
     "text": [
      "Validation: 100%|██████████| 47/47 [00:05<00:00,  8.01it/s, Loss=1.4054, Acc=0.4483]\n"
     ]
    },
    {
     "name": "stdout",
     "output_type": "stream",
     "text": [
      "Epoch 22/1000: Val Loss: 1.4054, Val Acc: 0.4483, Val F1: 0.4096\n",
      "Current Learning Rate: 3e-05\n"
     ]
    },
    {
     "name": "stderr",
     "output_type": "stream",
     "text": [
      "Epoch 23/1000: 100%|██████████| 422/422 [03:09<00:00,  2.22it/s, Loss=1.3740, Acc=0.4655]\n"
     ]
    },
    {
     "name": "stdout",
     "output_type": "stream",
     "text": [
      "Epoch 23/1000: Train Loss: 1.3740, Train Acc: 0.4655\n"
     ]
    },
    {
     "name": "stderr",
     "output_type": "stream",
     "text": [
      "Validation: 100%|██████████| 47/47 [00:05<00:00,  7.97it/s, Loss=1.3756, Acc=0.4747]\n"
     ]
    },
    {
     "name": "stdout",
     "output_type": "stream",
     "text": [
      "Epoch 23/1000: Val Loss: 1.3756, Val Acc: 0.4747, Val F1: 0.4560\n",
      "Current Learning Rate: 3e-05\n",
      "Best model saved at ../Experiment Augment Result/model4_augment_best.pt with accuracy: 0.4747\n"
     ]
    },
    {
     "name": "stderr",
     "output_type": "stream",
     "text": [
      "Epoch 24/1000: 100%|██████████| 422/422 [03:15<00:00,  2.16it/s, Loss=1.3610, Acc=0.4682]\n"
     ]
    },
    {
     "name": "stdout",
     "output_type": "stream",
     "text": [
      "Epoch 24/1000: Train Loss: 1.3610, Train Acc: 0.4682\n"
     ]
    },
    {
     "name": "stderr",
     "output_type": "stream",
     "text": [
      "Validation: 100%|██████████| 47/47 [00:05<00:00,  8.03it/s, Loss=1.3744, Acc=0.4697]\n"
     ]
    },
    {
     "name": "stdout",
     "output_type": "stream",
     "text": [
      "Epoch 24/1000: Val Loss: 1.3744, Val Acc: 0.4697, Val F1: 0.4373\n",
      "Current Learning Rate: 3e-05\n"
     ]
    },
    {
     "name": "stderr",
     "output_type": "stream",
     "text": [
      "Epoch 25/1000: 100%|██████████| 422/422 [03:09<00:00,  2.23it/s, Loss=1.3503, Acc=0.4774]\n"
     ]
    },
    {
     "name": "stdout",
     "output_type": "stream",
     "text": [
      "Epoch 25/1000: Train Loss: 1.3503, Train Acc: 0.4774\n"
     ]
    },
    {
     "name": "stderr",
     "output_type": "stream",
     "text": [
      "Validation: 100%|██████████| 47/47 [00:05<00:00,  8.04it/s, Loss=1.3737, Acc=0.4693]\n"
     ]
    },
    {
     "name": "stdout",
     "output_type": "stream",
     "text": [
      "Epoch 25/1000: Val Loss: 1.3737, Val Acc: 0.4693, Val F1: 0.4446\n",
      "Current Learning Rate: 3e-05\n"
     ]
    },
    {
     "name": "stderr",
     "output_type": "stream",
     "text": [
      "Epoch 26/1000: 100%|██████████| 422/422 [03:10<00:00,  2.21it/s, Loss=1.3335, Acc=0.4840]\n"
     ]
    },
    {
     "name": "stdout",
     "output_type": "stream",
     "text": [
      "Epoch 26/1000: Train Loss: 1.3335, Train Acc: 0.4840\n"
     ]
    },
    {
     "name": "stderr",
     "output_type": "stream",
     "text": [
      "Validation: 100%|██████████| 47/47 [00:05<00:00,  8.02it/s, Loss=1.3548, Acc=0.4730]\n"
     ]
    },
    {
     "name": "stdout",
     "output_type": "stream",
     "text": [
      "Epoch 26/1000: Val Loss: 1.3548, Val Acc: 0.4730, Val F1: 0.4617\n",
      "Current Learning Rate: 3e-05\n"
     ]
    },
    {
     "name": "stderr",
     "output_type": "stream",
     "text": [
      "Epoch 27/1000: 100%|██████████| 422/422 [03:09<00:00,  2.23it/s, Loss=1.3284, Acc=0.4838]\n"
     ]
    },
    {
     "name": "stdout",
     "output_type": "stream",
     "text": [
      "Epoch 27/1000: Train Loss: 1.3284, Train Acc: 0.4838\n"
     ]
    },
    {
     "name": "stderr",
     "output_type": "stream",
     "text": [
      "Validation: 100%|██████████| 47/47 [00:05<00:00,  8.03it/s, Loss=1.3545, Acc=0.4780]\n"
     ]
    },
    {
     "name": "stdout",
     "output_type": "stream",
     "text": [
      "Epoch 27/1000: Val Loss: 1.3545, Val Acc: 0.4780, Val F1: 0.4642\n",
      "Current Learning Rate: 3e-05\n",
      "Best model saved at ../Experiment Augment Result/model4_augment_best.pt with accuracy: 0.4780\n"
     ]
    },
    {
     "name": "stderr",
     "output_type": "stream",
     "text": [
      "Epoch 28/1000: 100%|██████████| 422/422 [03:10<00:00,  2.21it/s, Loss=1.3141, Acc=0.4935]\n"
     ]
    },
    {
     "name": "stdout",
     "output_type": "stream",
     "text": [
      "Epoch 28/1000: Train Loss: 1.3141, Train Acc: 0.4935\n"
     ]
    },
    {
     "name": "stderr",
     "output_type": "stream",
     "text": [
      "Validation: 100%|██████████| 47/47 [00:05<00:00,  7.97it/s, Loss=1.3345, Acc=0.4780]\n"
     ]
    },
    {
     "name": "stdout",
     "output_type": "stream",
     "text": [
      "Epoch 28/1000: Val Loss: 1.3345, Val Acc: 0.4780, Val F1: 0.4639\n",
      "Current Learning Rate: 3e-05\n"
     ]
    },
    {
     "name": "stderr",
     "output_type": "stream",
     "text": [
      "Epoch 29/1000: 100%|██████████| 422/422 [03:12<00:00,  2.19it/s, Loss=1.3057, Acc=0.4946]\n"
     ]
    },
    {
     "name": "stdout",
     "output_type": "stream",
     "text": [
      "Epoch 29/1000: Train Loss: 1.3057, Train Acc: 0.4946\n"
     ]
    },
    {
     "name": "stderr",
     "output_type": "stream",
     "text": [
      "Validation: 100%|██████████| 47/47 [00:05<00:00,  8.04it/s, Loss=1.3249, Acc=0.4783]\n"
     ]
    },
    {
     "name": "stdout",
     "output_type": "stream",
     "text": [
      "Epoch 29/1000: Val Loss: 1.3249, Val Acc: 0.4783, Val F1: 0.4633\n",
      "Current Learning Rate: 3e-05\n",
      "Best model saved at ../Experiment Augment Result/model4_augment_best.pt with accuracy: 0.4783\n"
     ]
    },
    {
     "name": "stderr",
     "output_type": "stream",
     "text": [
      "Epoch 30/1000: 100%|██████████| 422/422 [03:09<00:00,  2.22it/s, Loss=1.2973, Acc=0.4967]\n"
     ]
    },
    {
     "name": "stdout",
     "output_type": "stream",
     "text": [
      "Epoch 30/1000: Train Loss: 1.2973, Train Acc: 0.4967\n"
     ]
    },
    {
     "name": "stderr",
     "output_type": "stream",
     "text": [
      "Validation: 100%|██████████| 47/47 [00:05<00:00,  8.04it/s, Loss=1.3325, Acc=0.4843]\n"
     ]
    },
    {
     "name": "stdout",
     "output_type": "stream",
     "text": [
      "Epoch 30/1000: Val Loss: 1.3325, Val Acc: 0.4843, Val F1: 0.4690\n",
      "Current Learning Rate: 3e-05\n",
      "Best model saved at ../Experiment Augment Result/model4_augment_best.pt with accuracy: 0.4843\n"
     ]
    },
    {
     "name": "stderr",
     "output_type": "stream",
     "text": [
      "Epoch 31/1000: 100%|██████████| 422/422 [03:09<00:00,  2.22it/s, Loss=1.2828, Acc=0.5080]\n"
     ]
    },
    {
     "name": "stdout",
     "output_type": "stream",
     "text": [
      "Epoch 31/1000: Train Loss: 1.2828, Train Acc: 0.5080\n"
     ]
    },
    {
     "name": "stderr",
     "output_type": "stream",
     "text": [
      "Validation: 100%|██████████| 47/47 [00:05<00:00,  8.03it/s, Loss=1.3231, Acc=0.4860]\n"
     ]
    },
    {
     "name": "stdout",
     "output_type": "stream",
     "text": [
      "Epoch 31/1000: Val Loss: 1.3231, Val Acc: 0.4860, Val F1: 0.4727\n",
      "Current Learning Rate: 3e-05\n",
      "Best model saved at ../Experiment Augment Result/model4_augment_best.pt with accuracy: 0.4860\n"
     ]
    },
    {
     "name": "stderr",
     "output_type": "stream",
     "text": [
      "Epoch 32/1000: 100%|██████████| 422/422 [03:13<00:00,  2.18it/s, Loss=1.2732, Acc=0.5133]\n"
     ]
    },
    {
     "name": "stdout",
     "output_type": "stream",
     "text": [
      "Epoch 32/1000: Train Loss: 1.2732, Train Acc: 0.5133\n"
     ]
    },
    {
     "name": "stderr",
     "output_type": "stream",
     "text": [
      "Validation: 100%|██████████| 47/47 [00:06<00:00,  7.77it/s, Loss=1.3180, Acc=0.4907]\n"
     ]
    },
    {
     "name": "stdout",
     "output_type": "stream",
     "text": [
      "Epoch 32/1000: Val Loss: 1.3180, Val Acc: 0.4907, Val F1: 0.4724\n",
      "Current Learning Rate: 3e-05\n",
      "Best model saved at ../Experiment Augment Result/model4_augment_best.pt with accuracy: 0.4907\n"
     ]
    },
    {
     "name": "stderr",
     "output_type": "stream",
     "text": [
      "Epoch 33/1000: 100%|██████████| 422/422 [03:11<00:00,  2.21it/s, Loss=1.2636, Acc=0.5102]\n"
     ]
    },
    {
     "name": "stdout",
     "output_type": "stream",
     "text": [
      "Epoch 33/1000: Train Loss: 1.2636, Train Acc: 0.5102\n"
     ]
    },
    {
     "name": "stderr",
     "output_type": "stream",
     "text": [
      "Validation: 100%|██████████| 47/47 [00:05<00:00,  7.93it/s, Loss=1.3207, Acc=0.4883]\n"
     ]
    },
    {
     "name": "stdout",
     "output_type": "stream",
     "text": [
      "Epoch 33/1000: Val Loss: 1.3207, Val Acc: 0.4883, Val F1: 0.4824\n",
      "Current Learning Rate: 3e-05\n"
     ]
    },
    {
     "name": "stderr",
     "output_type": "stream",
     "text": [
      "Epoch 34/1000: 100%|██████████| 422/422 [03:11<00:00,  2.20it/s, Loss=1.2536, Acc=0.5180]\n"
     ]
    },
    {
     "name": "stdout",
     "output_type": "stream",
     "text": [
      "Epoch 34/1000: Train Loss: 1.2536, Train Acc: 0.5180\n"
     ]
    },
    {
     "name": "stderr",
     "output_type": "stream",
     "text": [
      "Validation: 100%|██████████| 47/47 [00:05<00:00,  8.04it/s, Loss=1.2996, Acc=0.4930]\n"
     ]
    },
    {
     "name": "stdout",
     "output_type": "stream",
     "text": [
      "Epoch 34/1000: Val Loss: 1.2996, Val Acc: 0.4930, Val F1: 0.4867\n",
      "Current Learning Rate: 3e-05\n",
      "Best model saved at ../Experiment Augment Result/model4_augment_best.pt with accuracy: 0.4930\n"
     ]
    },
    {
     "name": "stderr",
     "output_type": "stream",
     "text": [
      "Epoch 35/1000: 100%|██████████| 422/422 [03:12<00:00,  2.20it/s, Loss=1.2489, Acc=0.5189]\n"
     ]
    },
    {
     "name": "stdout",
     "output_type": "stream",
     "text": [
      "Epoch 35/1000: Train Loss: 1.2489, Train Acc: 0.5189\n"
     ]
    },
    {
     "name": "stderr",
     "output_type": "stream",
     "text": [
      "Validation: 100%|██████████| 47/47 [00:05<00:00,  7.99it/s, Loss=1.2935, Acc=0.5023]\n"
     ]
    },
    {
     "name": "stdout",
     "output_type": "stream",
     "text": [
      "Epoch 35/1000: Val Loss: 1.2935, Val Acc: 0.5023, Val F1: 0.4848\n",
      "Current Learning Rate: 3e-05\n",
      "Best model saved at ../Experiment Augment Result/model4_augment_best.pt with accuracy: 0.5023\n"
     ]
    },
    {
     "name": "stderr",
     "output_type": "stream",
     "text": [
      "Epoch 36/1000: 100%|██████████| 422/422 [03:11<00:00,  2.21it/s, Loss=1.2335, Acc=0.5246]\n"
     ]
    },
    {
     "name": "stdout",
     "output_type": "stream",
     "text": [
      "Epoch 36/1000: Train Loss: 1.2335, Train Acc: 0.5246\n"
     ]
    },
    {
     "name": "stderr",
     "output_type": "stream",
     "text": [
      "Validation: 100%|██████████| 47/47 [00:05<00:00,  8.00it/s, Loss=1.2945, Acc=0.4967]\n"
     ]
    },
    {
     "name": "stdout",
     "output_type": "stream",
     "text": [
      "Epoch 36/1000: Val Loss: 1.2945, Val Acc: 0.4967, Val F1: 0.4839\n",
      "Current Learning Rate: 3e-05\n"
     ]
    },
    {
     "name": "stderr",
     "output_type": "stream",
     "text": [
      "Epoch 37/1000: 100%|██████████| 422/422 [03:13<00:00,  2.19it/s, Loss=1.2259, Acc=0.5301]\n"
     ]
    },
    {
     "name": "stdout",
     "output_type": "stream",
     "text": [
      "Epoch 37/1000: Train Loss: 1.2259, Train Acc: 0.5301\n"
     ]
    },
    {
     "name": "stderr",
     "output_type": "stream",
     "text": [
      "Validation: 100%|██████████| 47/47 [00:05<00:00,  8.01it/s, Loss=1.2957, Acc=0.5007]\n"
     ]
    },
    {
     "name": "stdout",
     "output_type": "stream",
     "text": [
      "Epoch 37/1000: Val Loss: 1.2957, Val Acc: 0.5007, Val F1: 0.4780\n",
      "Current Learning Rate: 3e-05\n"
     ]
    },
    {
     "name": "stderr",
     "output_type": "stream",
     "text": [
      "Epoch 38/1000: 100%|██████████| 422/422 [03:10<00:00,  2.22it/s, Loss=1.2148, Acc=0.5312]\n"
     ]
    },
    {
     "name": "stdout",
     "output_type": "stream",
     "text": [
      "Epoch 38/1000: Train Loss: 1.2148, Train Acc: 0.5312\n"
     ]
    },
    {
     "name": "stderr",
     "output_type": "stream",
     "text": [
      "Validation: 100%|██████████| 47/47 [00:05<00:00,  8.14it/s, Loss=1.2808, Acc=0.5127]\n"
     ]
    },
    {
     "name": "stdout",
     "output_type": "stream",
     "text": [
      "Epoch 38/1000: Val Loss: 1.2808, Val Acc: 0.5127, Val F1: 0.4961\n",
      "Current Learning Rate: 3e-05\n",
      "Best model saved at ../Experiment Augment Result/model4_augment_best.pt with accuracy: 0.5127\n"
     ]
    },
    {
     "name": "stderr",
     "output_type": "stream",
     "text": [
      "Epoch 39/1000: 100%|██████████| 422/422 [03:08<00:00,  2.23it/s, Loss=1.2018, Acc=0.5371]\n"
     ]
    },
    {
     "name": "stdout",
     "output_type": "stream",
     "text": [
      "Epoch 39/1000: Train Loss: 1.2018, Train Acc: 0.5371\n"
     ]
    },
    {
     "name": "stderr",
     "output_type": "stream",
     "text": [
      "Validation: 100%|██████████| 47/47 [00:05<00:00,  8.09it/s, Loss=1.2851, Acc=0.4997]\n"
     ]
    },
    {
     "name": "stdout",
     "output_type": "stream",
     "text": [
      "Epoch 39/1000: Val Loss: 1.2851, Val Acc: 0.4997, Val F1: 0.4893\n",
      "Current Learning Rate: 3e-05\n"
     ]
    },
    {
     "name": "stderr",
     "output_type": "stream",
     "text": [
      "Epoch 40/1000: 100%|██████████| 422/422 [03:08<00:00,  2.24it/s, Loss=1.1974, Acc=0.5385]\n"
     ]
    },
    {
     "name": "stdout",
     "output_type": "stream",
     "text": [
      "Epoch 40/1000: Train Loss: 1.1974, Train Acc: 0.5385\n"
     ]
    },
    {
     "name": "stderr",
     "output_type": "stream",
     "text": [
      "Validation: 100%|██████████| 47/47 [00:05<00:00,  8.11it/s, Loss=1.2839, Acc=0.5070]\n"
     ]
    },
    {
     "name": "stdout",
     "output_type": "stream",
     "text": [
      "Epoch 40/1000: Val Loss: 1.2839, Val Acc: 0.5070, Val F1: 0.4909\n",
      "Current Learning Rate: 3e-05\n"
     ]
    },
    {
     "name": "stderr",
     "output_type": "stream",
     "text": [
      "Epoch 41/1000: 100%|██████████| 422/422 [03:09<00:00,  2.23it/s, Loss=1.1862, Acc=0.5419]\n"
     ]
    },
    {
     "name": "stdout",
     "output_type": "stream",
     "text": [
      "Epoch 41/1000: Train Loss: 1.1862, Train Acc: 0.5419\n"
     ]
    },
    {
     "name": "stderr",
     "output_type": "stream",
     "text": [
      "Validation: 100%|██████████| 47/47 [00:05<00:00,  8.08it/s, Loss=1.2894, Acc=0.5130]\n"
     ]
    },
    {
     "name": "stdout",
     "output_type": "stream",
     "text": [
      "Epoch 41/1000: Val Loss: 1.2894, Val Acc: 0.5130, Val F1: 0.4881\n",
      "Current Learning Rate: 3e-05\n",
      "Best model saved at ../Experiment Augment Result/model4_augment_best.pt with accuracy: 0.5130\n"
     ]
    },
    {
     "name": "stderr",
     "output_type": "stream",
     "text": [
      "Epoch 42/1000: 100%|██████████| 422/422 [03:08<00:00,  2.24it/s, Loss=1.1749, Acc=0.5493]\n"
     ]
    },
    {
     "name": "stdout",
     "output_type": "stream",
     "text": [
      "Epoch 42/1000: Train Loss: 1.1749, Train Acc: 0.5493\n"
     ]
    },
    {
     "name": "stderr",
     "output_type": "stream",
     "text": [
      "Validation: 100%|██████████| 47/47 [00:05<00:00,  8.13it/s, Loss=1.2678, Acc=0.5190]\n"
     ]
    },
    {
     "name": "stdout",
     "output_type": "stream",
     "text": [
      "Epoch 42/1000: Val Loss: 1.2678, Val Acc: 0.5190, Val F1: 0.5070\n",
      "Current Learning Rate: 3e-05\n",
      "Best model saved at ../Experiment Augment Result/model4_augment_best.pt with accuracy: 0.5190\n"
     ]
    },
    {
     "name": "stderr",
     "output_type": "stream",
     "text": [
      "Epoch 43/1000: 100%|██████████| 422/422 [03:09<00:00,  2.23it/s, Loss=1.1677, Acc=0.5517]\n"
     ]
    },
    {
     "name": "stdout",
     "output_type": "stream",
     "text": [
      "Epoch 43/1000: Train Loss: 1.1677, Train Acc: 0.5517\n"
     ]
    },
    {
     "name": "stderr",
     "output_type": "stream",
     "text": [
      "Validation: 100%|██████████| 47/47 [00:05<00:00,  8.03it/s, Loss=1.2646, Acc=0.5120]\n"
     ]
    },
    {
     "name": "stdout",
     "output_type": "stream",
     "text": [
      "Epoch 43/1000: Val Loss: 1.2646, Val Acc: 0.5120, Val F1: 0.4968\n",
      "Current Learning Rate: 3e-05\n"
     ]
    },
    {
     "name": "stderr",
     "output_type": "stream",
     "text": [
      "Epoch 44/1000: 100%|██████████| 422/422 [03:09<00:00,  2.23it/s, Loss=1.1601, Acc=0.5541]\n"
     ]
    },
    {
     "name": "stdout",
     "output_type": "stream",
     "text": [
      "Epoch 44/1000: Train Loss: 1.1601, Train Acc: 0.5541\n"
     ]
    },
    {
     "name": "stderr",
     "output_type": "stream",
     "text": [
      "Validation: 100%|██████████| 47/47 [00:05<00:00,  8.05it/s, Loss=1.2655, Acc=0.5153]\n"
     ]
    },
    {
     "name": "stdout",
     "output_type": "stream",
     "text": [
      "Epoch 44/1000: Val Loss: 1.2655, Val Acc: 0.5153, Val F1: 0.5048\n",
      "Current Learning Rate: 3e-05\n"
     ]
    },
    {
     "name": "stderr",
     "output_type": "stream",
     "text": [
      "Epoch 45/1000: 100%|██████████| 422/422 [03:09<00:00,  2.23it/s, Loss=1.1572, Acc=0.5593]\n"
     ]
    },
    {
     "name": "stdout",
     "output_type": "stream",
     "text": [
      "Epoch 45/1000: Train Loss: 1.1572, Train Acc: 0.5593\n"
     ]
    },
    {
     "name": "stderr",
     "output_type": "stream",
     "text": [
      "Validation: 100%|██████████| 47/47 [00:05<00:00,  8.05it/s, Loss=1.2680, Acc=0.5213]\n"
     ]
    },
    {
     "name": "stdout",
     "output_type": "stream",
     "text": [
      "Epoch 45/1000: Val Loss: 1.2680, Val Acc: 0.5213, Val F1: 0.4999\n",
      "Current Learning Rate: 3e-05\n",
      "Best model saved at ../Experiment Augment Result/model4_augment_best.pt with accuracy: 0.5213\n"
     ]
    },
    {
     "name": "stderr",
     "output_type": "stream",
     "text": [
      "Epoch 46/1000: 100%|██████████| 422/422 [03:09<00:00,  2.23it/s, Loss=1.1375, Acc=0.5662]\n"
     ]
    },
    {
     "name": "stdout",
     "output_type": "stream",
     "text": [
      "Epoch 46/1000: Train Loss: 1.1375, Train Acc: 0.5662\n"
     ]
    },
    {
     "name": "stderr",
     "output_type": "stream",
     "text": [
      "Validation: 100%|██████████| 47/47 [00:05<00:00,  8.03it/s, Loss=1.2586, Acc=0.5173]\n"
     ]
    },
    {
     "name": "stdout",
     "output_type": "stream",
     "text": [
      "Epoch 46/1000: Val Loss: 1.2586, Val Acc: 0.5173, Val F1: 0.5034\n",
      "Current Learning Rate: 3e-05\n"
     ]
    },
    {
     "name": "stderr",
     "output_type": "stream",
     "text": [
      "Epoch 47/1000: 100%|██████████| 422/422 [03:09<00:00,  2.23it/s, Loss=1.1318, Acc=0.5672]\n"
     ]
    },
    {
     "name": "stdout",
     "output_type": "stream",
     "text": [
      "Epoch 47/1000: Train Loss: 1.1318, Train Acc: 0.5672\n"
     ]
    },
    {
     "name": "stderr",
     "output_type": "stream",
     "text": [
      "Validation: 100%|██████████| 47/47 [00:05<00:00,  8.02it/s, Loss=1.2523, Acc=0.5243]\n"
     ]
    },
    {
     "name": "stdout",
     "output_type": "stream",
     "text": [
      "Epoch 47/1000: Val Loss: 1.2523, Val Acc: 0.5243, Val F1: 0.5139\n",
      "Current Learning Rate: 3e-05\n",
      "Best model saved at ../Experiment Augment Result/model4_augment_best.pt with accuracy: 0.5243\n"
     ]
    },
    {
     "name": "stderr",
     "output_type": "stream",
     "text": [
      "Epoch 48/1000: 100%|██████████| 422/422 [03:09<00:00,  2.23it/s, Loss=1.1194, Acc=0.5727]\n"
     ]
    },
    {
     "name": "stdout",
     "output_type": "stream",
     "text": [
      "Epoch 48/1000: Train Loss: 1.1194, Train Acc: 0.5727\n"
     ]
    },
    {
     "name": "stderr",
     "output_type": "stream",
     "text": [
      "Validation: 100%|██████████| 47/47 [00:05<00:00,  8.04it/s, Loss=1.2499, Acc=0.5203]\n"
     ]
    },
    {
     "name": "stdout",
     "output_type": "stream",
     "text": [
      "Epoch 48/1000: Val Loss: 1.2499, Val Acc: 0.5203, Val F1: 0.5097\n",
      "Current Learning Rate: 3e-05\n"
     ]
    },
    {
     "name": "stderr",
     "output_type": "stream",
     "text": [
      "Epoch 49/1000: 100%|██████████| 422/422 [03:10<00:00,  2.21it/s, Loss=1.1048, Acc=0.5749]\n"
     ]
    },
    {
     "name": "stdout",
     "output_type": "stream",
     "text": [
      "Epoch 49/1000: Train Loss: 1.1048, Train Acc: 0.5749\n"
     ]
    },
    {
     "name": "stderr",
     "output_type": "stream",
     "text": [
      "Validation: 100%|██████████| 47/47 [00:05<00:00,  8.01it/s, Loss=1.2591, Acc=0.5203]\n"
     ]
    },
    {
     "name": "stdout",
     "output_type": "stream",
     "text": [
      "Epoch 49/1000: Val Loss: 1.2591, Val Acc: 0.5203, Val F1: 0.5024\n",
      "Current Learning Rate: 3e-05\n"
     ]
    },
    {
     "name": "stderr",
     "output_type": "stream",
     "text": [
      "Epoch 50/1000: 100%|██████████| 422/422 [03:09<00:00,  2.22it/s, Loss=1.0951, Acc=0.5847]\n"
     ]
    },
    {
     "name": "stdout",
     "output_type": "stream",
     "text": [
      "Epoch 50/1000: Train Loss: 1.0951, Train Acc: 0.5847\n"
     ]
    },
    {
     "name": "stderr",
     "output_type": "stream",
     "text": [
      "Validation: 100%|██████████| 47/47 [00:05<00:00,  7.99it/s, Loss=1.2601, Acc=0.5217]\n"
     ]
    },
    {
     "name": "stdout",
     "output_type": "stream",
     "text": [
      "Epoch 50/1000: Val Loss: 1.2601, Val Acc: 0.5217, Val F1: 0.5124\n",
      "Current Learning Rate: 3e-05\n"
     ]
    },
    {
     "name": "stderr",
     "output_type": "stream",
     "text": [
      "Epoch 51/1000: 100%|██████████| 422/422 [03:10<00:00,  2.22it/s, Loss=1.0891, Acc=0.5837]\n"
     ]
    },
    {
     "name": "stdout",
     "output_type": "stream",
     "text": [
      "Epoch 51/1000: Train Loss: 1.0891, Train Acc: 0.5837\n"
     ]
    },
    {
     "name": "stderr",
     "output_type": "stream",
     "text": [
      "Validation: 100%|██████████| 47/47 [00:05<00:00,  8.04it/s, Loss=1.2459, Acc=0.5173]\n"
     ]
    },
    {
     "name": "stdout",
     "output_type": "stream",
     "text": [
      "Epoch 51/1000: Val Loss: 1.2459, Val Acc: 0.5173, Val F1: 0.5126\n",
      "Current Learning Rate: 3e-05\n"
     ]
    },
    {
     "name": "stderr",
     "output_type": "stream",
     "text": [
      "Epoch 52/1000: 100%|██████████| 422/422 [03:11<00:00,  2.20it/s, Loss=1.0758, Acc=0.5907]\n"
     ]
    },
    {
     "name": "stdout",
     "output_type": "stream",
     "text": [
      "Epoch 52/1000: Train Loss: 1.0758, Train Acc: 0.5907\n"
     ]
    },
    {
     "name": "stderr",
     "output_type": "stream",
     "text": [
      "Validation: 100%|██████████| 47/47 [00:05<00:00,  8.04it/s, Loss=1.2686, Acc=0.5263]\n"
     ]
    },
    {
     "name": "stdout",
     "output_type": "stream",
     "text": [
      "Epoch 52/1000: Val Loss: 1.2686, Val Acc: 0.5263, Val F1: 0.5106\n",
      "Current Learning Rate: 3e-05\n",
      "Best model saved at ../Experiment Augment Result/model4_augment_best.pt with accuracy: 0.5263\n"
     ]
    },
    {
     "name": "stderr",
     "output_type": "stream",
     "text": [
      "Epoch 53/1000: 100%|██████████| 422/422 [03:09<00:00,  2.22it/s, Loss=1.0674, Acc=0.5946]\n"
     ]
    },
    {
     "name": "stdout",
     "output_type": "stream",
     "text": [
      "Epoch 53/1000: Train Loss: 1.0674, Train Acc: 0.5946\n"
     ]
    },
    {
     "name": "stderr",
     "output_type": "stream",
     "text": [
      "Validation: 100%|██████████| 47/47 [00:05<00:00,  8.03it/s, Loss=1.2670, Acc=0.5230]\n"
     ]
    },
    {
     "name": "stdout",
     "output_type": "stream",
     "text": [
      "Epoch 53/1000: Val Loss: 1.2670, Val Acc: 0.5230, Val F1: 0.5196\n",
      "Current Learning Rate: 3e-05\n"
     ]
    },
    {
     "name": "stderr",
     "output_type": "stream",
     "text": [
      "Epoch 54/1000: 100%|██████████| 422/422 [03:09<00:00,  2.22it/s, Loss=1.0606, Acc=0.5980]\n"
     ]
    },
    {
     "name": "stdout",
     "output_type": "stream",
     "text": [
      "Epoch 54/1000: Train Loss: 1.0606, Train Acc: 0.5980\n"
     ]
    },
    {
     "name": "stderr",
     "output_type": "stream",
     "text": [
      "Validation: 100%|██████████| 47/47 [00:05<00:00,  7.99it/s, Loss=1.2555, Acc=0.5287]\n"
     ]
    },
    {
     "name": "stdout",
     "output_type": "stream",
     "text": [
      "Epoch 54/1000: Val Loss: 1.2555, Val Acc: 0.5287, Val F1: 0.5174\n",
      "Current Learning Rate: 3e-05\n",
      "Best model saved at ../Experiment Augment Result/model4_augment_best.pt with accuracy: 0.5287\n"
     ]
    },
    {
     "name": "stderr",
     "output_type": "stream",
     "text": [
      "Epoch 55/1000: 100%|██████████| 422/422 [03:10<00:00,  2.22it/s, Loss=1.0510, Acc=0.5987]\n"
     ]
    },
    {
     "name": "stdout",
     "output_type": "stream",
     "text": [
      "Epoch 55/1000: Train Loss: 1.0510, Train Acc: 0.5987\n"
     ]
    },
    {
     "name": "stderr",
     "output_type": "stream",
     "text": [
      "Validation: 100%|██████████| 47/47 [00:05<00:00,  8.03it/s, Loss=1.2458, Acc=0.5327]\n"
     ]
    },
    {
     "name": "stdout",
     "output_type": "stream",
     "text": [
      "Epoch 55/1000: Val Loss: 1.2458, Val Acc: 0.5327, Val F1: 0.5228\n",
      "Current Learning Rate: 3e-05\n",
      "Best model saved at ../Experiment Augment Result/model4_augment_best.pt with accuracy: 0.5327\n"
     ]
    },
    {
     "name": "stderr",
     "output_type": "stream",
     "text": [
      "Epoch 56/1000: 100%|██████████| 422/422 [03:09<00:00,  2.23it/s, Loss=1.0400, Acc=0.6041]\n"
     ]
    },
    {
     "name": "stdout",
     "output_type": "stream",
     "text": [
      "Epoch 56/1000: Train Loss: 1.0400, Train Acc: 0.6041\n"
     ]
    },
    {
     "name": "stderr",
     "output_type": "stream",
     "text": [
      "Validation: 100%|██████████| 47/47 [00:05<00:00,  8.05it/s, Loss=1.2409, Acc=0.5300]\n"
     ]
    },
    {
     "name": "stdout",
     "output_type": "stream",
     "text": [
      "Epoch 56/1000: Val Loss: 1.2409, Val Acc: 0.5300, Val F1: 0.5245\n",
      "Current Learning Rate: 3e-05\n"
     ]
    },
    {
     "name": "stderr",
     "output_type": "stream",
     "text": [
      "Epoch 57/1000: 100%|██████████| 422/422 [03:10<00:00,  2.22it/s, Loss=1.0331, Acc=0.6067]\n"
     ]
    },
    {
     "name": "stdout",
     "output_type": "stream",
     "text": [
      "Epoch 57/1000: Train Loss: 1.0331, Train Acc: 0.6067\n"
     ]
    },
    {
     "name": "stderr",
     "output_type": "stream",
     "text": [
      "Validation: 100%|██████████| 47/47 [00:05<00:00,  8.05it/s, Loss=1.2632, Acc=0.5217]\n"
     ]
    },
    {
     "name": "stdout",
     "output_type": "stream",
     "text": [
      "Epoch 57/1000: Val Loss: 1.2632, Val Acc: 0.5217, Val F1: 0.5125\n",
      "Current Learning Rate: 3e-05\n"
     ]
    },
    {
     "name": "stderr",
     "output_type": "stream",
     "text": [
      "Epoch 58/1000: 100%|██████████| 422/422 [03:09<00:00,  2.22it/s, Loss=1.0187, Acc=0.6117]\n"
     ]
    },
    {
     "name": "stdout",
     "output_type": "stream",
     "text": [
      "Epoch 58/1000: Train Loss: 1.0187, Train Acc: 0.6117\n"
     ]
    },
    {
     "name": "stderr",
     "output_type": "stream",
     "text": [
      "Validation: 100%|██████████| 47/47 [00:05<00:00,  8.04it/s, Loss=1.2550, Acc=0.5293]\n"
     ]
    },
    {
     "name": "stdout",
     "output_type": "stream",
     "text": [
      "Epoch 58/1000: Val Loss: 1.2550, Val Acc: 0.5293, Val F1: 0.5314\n",
      "Current Learning Rate: 3e-05\n"
     ]
    },
    {
     "name": "stderr",
     "output_type": "stream",
     "text": [
      "Epoch 59/1000:   7%|▋         | 29/422 [00:13<02:56,  2.23it/s, Loss=1.0138, Acc=0.6191]IOPub message rate exceeded.\n",
      "The Jupyter server will temporarily stop sending output\n",
      "to the client in order to avoid crashing it.\n",
      "To change this limit, set the config variable\n",
      "`--ServerApp.iopub_msg_rate_limit`.\n",
      "\n",
      "Current values:\n",
      "ServerApp.iopub_msg_rate_limit=1000.0 (msgs/sec)\n",
      "ServerApp.rate_limit_window=3.0 (secs)\n",
      "\n",
      "Epoch 75/1000: 100%|██████████| 422/422 [03:08<00:00,  2.23it/s, Loss=0.7767, Acc=0.7116]\n"
     ]
    },
    {
     "name": "stdout",
     "output_type": "stream",
     "text": [
      "Epoch 75/1000: Train Loss: 0.7767, Train Acc: 0.7116\n"
     ]
    },
    {
     "name": "stderr",
     "output_type": "stream",
     "text": [
      "Validation: 100%|██████████| 47/47 [00:05<00:00,  7.99it/s, Loss=1.2739, Acc=0.5520]\n"
     ]
    },
    {
     "name": "stdout",
     "output_type": "stream",
     "text": [
      "Epoch 75/1000: Val Loss: 1.2739, Val Acc: 0.5520, Val F1: 0.5470\n",
      "Current Learning Rate: 3.0000000000000004e-07\n",
      "Early stopping triggered at epoch 75!\n"
     ]
    },
    {
     "name": "stderr",
     "output_type": "stream",
     "text": [
      "Testing: 100%|██████████| 53/53 [00:06<00:00,  8.25it/s, Loss=1.2681, Acc=0.5524]\n"
     ]
    },
    {
     "name": "stdout",
     "output_type": "stream",
     "text": [
      "Test Loss: 1.2681, Test Acc: 0.5524, Test F1: 0.5462\n",
      "Start model5 with configuration patch size: 16, num_heads: 8, embedding_dims: 512, num_layers: 6\n"
     ]
    },
    {
     "name": "stderr",
     "output_type": "stream",
     "text": [
      "Epoch 1/1000: 100%|██████████| 422/422 [02:09<00:00,  3.26it/s, Loss=1.7780, Acc=0.2665]\n"
     ]
    },
    {
     "name": "stdout",
     "output_type": "stream",
     "text": [
      "Epoch 1/1000: Train Loss: 1.7780, Train Acc: 0.2665\n"
     ]
    },
    {
     "name": "stderr",
     "output_type": "stream",
     "text": [
      "Validation: 100%|██████████| 47/47 [00:03<00:00, 11.87it/s, Loss=1.7567, Acc=0.2840]\n"
     ]
    },
    {
     "name": "stdout",
     "output_type": "stream",
     "text": [
      "Epoch 1/1000: Val Loss: 1.7567, Val Acc: 0.2840, Val F1: 0.1722\n",
      "Current Learning Rate: 3e-05\n",
      "Best model saved at ../Experiment Augment Result/model5_augment_best.pt with accuracy: 0.2840\n"
     ]
    },
    {
     "name": "stderr",
     "output_type": "stream",
     "text": [
      "Epoch 2/1000: 100%|██████████| 422/422 [02:08<00:00,  3.29it/s, Loss=1.6968, Acc=0.3214]\n"
     ]
    },
    {
     "name": "stdout",
     "output_type": "stream",
     "text": [
      "Epoch 2/1000: Train Loss: 1.6968, Train Acc: 0.3214\n"
     ]
    },
    {
     "name": "stderr",
     "output_type": "stream",
     "text": [
      "Validation: 100%|██████████| 47/47 [00:03<00:00, 11.90it/s, Loss=1.6493, Acc=0.3617]\n"
     ]
    },
    {
     "name": "stdout",
     "output_type": "stream",
     "text": [
      "Epoch 2/1000: Val Loss: 1.6493, Val Acc: 0.3617, Val F1: 0.3219\n",
      "Current Learning Rate: 3e-05\n",
      "Best model saved at ../Experiment Augment Result/model5_augment_best.pt with accuracy: 0.3617\n"
     ]
    },
    {
     "name": "stderr",
     "output_type": "stream",
     "text": [
      "Epoch 3/1000: 100%|██████████| 422/422 [02:09<00:00,  3.26it/s, Loss=1.6577, Acc=0.3424]\n"
     ]
    },
    {
     "name": "stdout",
     "output_type": "stream",
     "text": [
      "Epoch 3/1000: Train Loss: 1.6577, Train Acc: 0.3424\n"
     ]
    },
    {
     "name": "stderr",
     "output_type": "stream",
     "text": [
      "Validation: 100%|██████████| 47/47 [00:03<00:00, 11.91it/s, Loss=1.6340, Acc=0.3587]\n"
     ]
    },
    {
     "name": "stdout",
     "output_type": "stream",
     "text": [
      "Epoch 3/1000: Val Loss: 1.6340, Val Acc: 0.3587, Val F1: 0.3416\n",
      "Current Learning Rate: 3e-05\n"
     ]
    },
    {
     "name": "stderr",
     "output_type": "stream",
     "text": [
      "Epoch 4/1000: 100%|██████████| 422/422 [02:08<00:00,  3.29it/s, Loss=1.6378, Acc=0.3540]\n"
     ]
    },
    {
     "name": "stdout",
     "output_type": "stream",
     "text": [
      "Epoch 4/1000: Train Loss: 1.6378, Train Acc: 0.3540\n"
     ]
    },
    {
     "name": "stderr",
     "output_type": "stream",
     "text": [
      "Validation: 100%|██████████| 47/47 [00:04<00:00, 11.64it/s, Loss=1.6240, Acc=0.3600]\n"
     ]
    },
    {
     "name": "stdout",
     "output_type": "stream",
     "text": [
      "Epoch 4/1000: Val Loss: 1.6240, Val Acc: 0.3600, Val F1: 0.3463\n",
      "Current Learning Rate: 3e-05\n"
     ]
    },
    {
     "name": "stderr",
     "output_type": "stream",
     "text": [
      "Epoch 5/1000: 100%|██████████| 422/422 [02:08<00:00,  3.28it/s, Loss=1.6237, Acc=0.3592]\n"
     ]
    },
    {
     "name": "stdout",
     "output_type": "stream",
     "text": [
      "Epoch 5/1000: Train Loss: 1.6237, Train Acc: 0.3592\n"
     ]
    },
    {
     "name": "stderr",
     "output_type": "stream",
     "text": [
      "Validation: 100%|██████████| 47/47 [00:04<00:00, 11.63it/s, Loss=1.6104, Acc=0.3713]\n"
     ]
    },
    {
     "name": "stdout",
     "output_type": "stream",
     "text": [
      "Epoch 5/1000: Val Loss: 1.6104, Val Acc: 0.3713, Val F1: 0.3367\n",
      "Current Learning Rate: 3e-05\n",
      "Best model saved at ../Experiment Augment Result/model5_augment_best.pt with accuracy: 0.3713\n"
     ]
    },
    {
     "name": "stderr",
     "output_type": "stream",
     "text": [
      "Epoch 6/1000: 100%|██████████| 422/422 [02:10<00:00,  3.23it/s, Loss=1.6097, Acc=0.3643]\n"
     ]
    },
    {
     "name": "stdout",
     "output_type": "stream",
     "text": [
      "Epoch 6/1000: Train Loss: 1.6097, Train Acc: 0.3643\n"
     ]
    },
    {
     "name": "stderr",
     "output_type": "stream",
     "text": [
      "Validation: 100%|██████████| 47/47 [00:04<00:00, 11.57it/s, Loss=1.5914, Acc=0.3717]\n"
     ]
    },
    {
     "name": "stdout",
     "output_type": "stream",
     "text": [
      "Epoch 6/1000: Val Loss: 1.5914, Val Acc: 0.3717, Val F1: 0.3303\n",
      "Current Learning Rate: 3e-05\n",
      "Best model saved at ../Experiment Augment Result/model5_augment_best.pt with accuracy: 0.3717\n"
     ]
    },
    {
     "name": "stderr",
     "output_type": "stream",
     "text": [
      "Epoch 7/1000: 100%|██████████| 422/422 [02:12<00:00,  3.18it/s, Loss=1.5964, Acc=0.3720]\n"
     ]
    },
    {
     "name": "stdout",
     "output_type": "stream",
     "text": [
      "Epoch 7/1000: Train Loss: 1.5964, Train Acc: 0.3720\n"
     ]
    },
    {
     "name": "stderr",
     "output_type": "stream",
     "text": [
      "Validation: 100%|██████████| 47/47 [00:04<00:00, 11.67it/s, Loss=1.5876, Acc=0.3827]\n"
     ]
    },
    {
     "name": "stdout",
     "output_type": "stream",
     "text": [
      "Epoch 7/1000: Val Loss: 1.5876, Val Acc: 0.3827, Val F1: 0.3232\n",
      "Current Learning Rate: 3e-05\n",
      "Best model saved at ../Experiment Augment Result/model5_augment_best.pt with accuracy: 0.3827\n"
     ]
    },
    {
     "name": "stderr",
     "output_type": "stream",
     "text": [
      "Epoch 8/1000: 100%|██████████| 422/422 [02:09<00:00,  3.27it/s, Loss=1.5861, Acc=0.3780]\n"
     ]
    },
    {
     "name": "stdout",
     "output_type": "stream",
     "text": [
      "Epoch 8/1000: Train Loss: 1.5861, Train Acc: 0.3780\n"
     ]
    },
    {
     "name": "stderr",
     "output_type": "stream",
     "text": [
      "Validation: 100%|██████████| 47/47 [00:04<00:00, 11.61it/s, Loss=1.5512, Acc=0.3963]\n"
     ]
    },
    {
     "name": "stdout",
     "output_type": "stream",
     "text": [
      "Epoch 8/1000: Val Loss: 1.5512, Val Acc: 0.3963, Val F1: 0.3729\n",
      "Current Learning Rate: 3e-05\n",
      "Best model saved at ../Experiment Augment Result/model5_augment_best.pt with accuracy: 0.3963\n"
     ]
    },
    {
     "name": "stderr",
     "output_type": "stream",
     "text": [
      "Epoch 9/1000: 100%|██████████| 422/422 [02:09<00:00,  3.27it/s, Loss=1.5690, Acc=0.3853]\n"
     ]
    },
    {
     "name": "stdout",
     "output_type": "stream",
     "text": [
      "Epoch 9/1000: Train Loss: 1.5690, Train Acc: 0.3853\n"
     ]
    },
    {
     "name": "stderr",
     "output_type": "stream",
     "text": [
      "Validation: 100%|██████████| 47/47 [00:04<00:00, 11.61it/s, Loss=1.5448, Acc=0.3923]\n"
     ]
    },
    {
     "name": "stdout",
     "output_type": "stream",
     "text": [
      "Epoch 9/1000: Val Loss: 1.5448, Val Acc: 0.3923, Val F1: 0.3480\n",
      "Current Learning Rate: 3e-05\n"
     ]
    },
    {
     "name": "stderr",
     "output_type": "stream",
     "text": [
      "Epoch 10/1000: 100%|██████████| 422/422 [02:09<00:00,  3.26it/s, Loss=1.5542, Acc=0.3904]\n"
     ]
    },
    {
     "name": "stdout",
     "output_type": "stream",
     "text": [
      "Epoch 10/1000: Train Loss: 1.5542, Train Acc: 0.3904\n"
     ]
    },
    {
     "name": "stderr",
     "output_type": "stream",
     "text": [
      "Validation: 100%|██████████| 47/47 [00:04<00:00, 11.63it/s, Loss=1.5188, Acc=0.4127]\n"
     ]
    },
    {
     "name": "stdout",
     "output_type": "stream",
     "text": [
      "Epoch 10/1000: Val Loss: 1.5188, Val Acc: 0.4127, Val F1: 0.3756\n",
      "Current Learning Rate: 3e-05\n",
      "Best model saved at ../Experiment Augment Result/model5_augment_best.pt with accuracy: 0.4127\n"
     ]
    },
    {
     "name": "stderr",
     "output_type": "stream",
     "text": [
      "Epoch 11/1000: 100%|██████████| 422/422 [02:09<00:00,  3.26it/s, Loss=1.5389, Acc=0.3970]\n"
     ]
    },
    {
     "name": "stdout",
     "output_type": "stream",
     "text": [
      "Epoch 11/1000: Train Loss: 1.5389, Train Acc: 0.3970\n"
     ]
    },
    {
     "name": "stderr",
     "output_type": "stream",
     "text": [
      "Validation: 100%|██████████| 47/47 [00:04<00:00, 11.62it/s, Loss=1.5211, Acc=0.3970]\n"
     ]
    },
    {
     "name": "stdout",
     "output_type": "stream",
     "text": [
      "Epoch 11/1000: Val Loss: 1.5211, Val Acc: 0.3970, Val F1: 0.3452\n",
      "Current Learning Rate: 3e-05\n"
     ]
    },
    {
     "name": "stderr",
     "output_type": "stream",
     "text": [
      "Epoch 12/1000: 100%|██████████| 422/422 [02:10<00:00,  3.22it/s, Loss=1.5229, Acc=0.4034]\n"
     ]
    },
    {
     "name": "stdout",
     "output_type": "stream",
     "text": [
      "Epoch 12/1000: Train Loss: 1.5229, Train Acc: 0.4034\n"
     ]
    },
    {
     "name": "stderr",
     "output_type": "stream",
     "text": [
      "Validation: 100%|██████████| 47/47 [00:04<00:00, 11.64it/s, Loss=1.4958, Acc=0.4130]\n"
     ]
    },
    {
     "name": "stdout",
     "output_type": "stream",
     "text": [
      "Epoch 12/1000: Val Loss: 1.4958, Val Acc: 0.4130, Val F1: 0.3661\n",
      "Current Learning Rate: 3e-05\n",
      "Best model saved at ../Experiment Augment Result/model5_augment_best.pt with accuracy: 0.4130\n"
     ]
    },
    {
     "name": "stderr",
     "output_type": "stream",
     "text": [
      "Epoch 13/1000: 100%|██████████| 422/422 [02:10<00:00,  3.24it/s, Loss=1.5064, Acc=0.4117]\n"
     ]
    },
    {
     "name": "stdout",
     "output_type": "stream",
     "text": [
      "Epoch 13/1000: Train Loss: 1.5064, Train Acc: 0.4117\n"
     ]
    },
    {
     "name": "stderr",
     "output_type": "stream",
     "text": [
      "Validation: 100%|██████████| 47/47 [00:04<00:00, 11.58it/s, Loss=1.4778, Acc=0.4217]\n"
     ]
    },
    {
     "name": "stdout",
     "output_type": "stream",
     "text": [
      "Epoch 13/1000: Val Loss: 1.4778, Val Acc: 0.4217, Val F1: 0.4007\n",
      "Current Learning Rate: 3e-05\n",
      "Best model saved at ../Experiment Augment Result/model5_augment_best.pt with accuracy: 0.4217\n"
     ]
    },
    {
     "name": "stderr",
     "output_type": "stream",
     "text": [
      "Epoch 14/1000: 100%|██████████| 422/422 [02:10<00:00,  3.23it/s, Loss=1.4921, Acc=0.4180]\n"
     ]
    },
    {
     "name": "stdout",
     "output_type": "stream",
     "text": [
      "Epoch 14/1000: Train Loss: 1.4921, Train Acc: 0.4180\n"
     ]
    },
    {
     "name": "stderr",
     "output_type": "stream",
     "text": [
      "Validation: 100%|██████████| 47/47 [00:04<00:00, 11.43it/s, Loss=1.4636, Acc=0.4287]\n"
     ]
    },
    {
     "name": "stdout",
     "output_type": "stream",
     "text": [
      "Epoch 14/1000: Val Loss: 1.4636, Val Acc: 0.4287, Val F1: 0.3900\n",
      "Current Learning Rate: 3e-05\n",
      "Best model saved at ../Experiment Augment Result/model5_augment_best.pt with accuracy: 0.4287\n"
     ]
    },
    {
     "name": "stderr",
     "output_type": "stream",
     "text": [
      "Epoch 15/1000: 100%|██████████| 422/422 [02:09<00:00,  3.26it/s, Loss=1.4720, Acc=0.4275]\n"
     ]
    },
    {
     "name": "stdout",
     "output_type": "stream",
     "text": [
      "Epoch 15/1000: Train Loss: 1.4720, Train Acc: 0.4275\n"
     ]
    },
    {
     "name": "stderr",
     "output_type": "stream",
     "text": [
      "Validation: 100%|██████████| 47/47 [00:04<00:00, 11.62it/s, Loss=1.4426, Acc=0.4387]\n"
     ]
    },
    {
     "name": "stdout",
     "output_type": "stream",
     "text": [
      "Epoch 15/1000: Val Loss: 1.4426, Val Acc: 0.4387, Val F1: 0.4167\n",
      "Current Learning Rate: 3e-05\n",
      "Best model saved at ../Experiment Augment Result/model5_augment_best.pt with accuracy: 0.4387\n"
     ]
    },
    {
     "name": "stderr",
     "output_type": "stream",
     "text": [
      "Epoch 16/1000: 100%|██████████| 422/422 [02:09<00:00,  3.26it/s, Loss=1.4613, Acc=0.4315]\n"
     ]
    },
    {
     "name": "stdout",
     "output_type": "stream",
     "text": [
      "Epoch 16/1000: Train Loss: 1.4613, Train Acc: 0.4315\n"
     ]
    },
    {
     "name": "stderr",
     "output_type": "stream",
     "text": [
      "Validation: 100%|██████████| 47/47 [00:03<00:00, 11.89it/s, Loss=1.4361, Acc=0.4447]\n"
     ]
    },
    {
     "name": "stdout",
     "output_type": "stream",
     "text": [
      "Epoch 16/1000: Val Loss: 1.4361, Val Acc: 0.4447, Val F1: 0.4241\n",
      "Current Learning Rate: 3e-05\n",
      "Best model saved at ../Experiment Augment Result/model5_augment_best.pt with accuracy: 0.4447\n"
     ]
    },
    {
     "name": "stderr",
     "output_type": "stream",
     "text": [
      "Epoch 17/1000: 100%|██████████| 422/422 [02:10<00:00,  3.24it/s, Loss=1.4544, Acc=0.4347]\n"
     ]
    },
    {
     "name": "stdout",
     "output_type": "stream",
     "text": [
      "Epoch 17/1000: Train Loss: 1.4544, Train Acc: 0.4347\n"
     ]
    },
    {
     "name": "stderr",
     "output_type": "stream",
     "text": [
      "Validation: 100%|██████████| 47/47 [00:03<00:00, 11.94it/s, Loss=1.4407, Acc=0.4373]\n"
     ]
    },
    {
     "name": "stdout",
     "output_type": "stream",
     "text": [
      "Epoch 17/1000: Val Loss: 1.4407, Val Acc: 0.4373, Val F1: 0.4009\n",
      "Current Learning Rate: 3e-05\n"
     ]
    },
    {
     "name": "stderr",
     "output_type": "stream",
     "text": [
      "Epoch 18/1000: 100%|██████████| 422/422 [02:09<00:00,  3.26it/s, Loss=1.4371, Acc=0.4417]\n"
     ]
    },
    {
     "name": "stdout",
     "output_type": "stream",
     "text": [
      "Epoch 18/1000: Train Loss: 1.4371, Train Acc: 0.4417\n"
     ]
    },
    {
     "name": "stderr",
     "output_type": "stream",
     "text": [
      "Validation: 100%|██████████| 47/47 [00:03<00:00, 11.92it/s, Loss=1.4143, Acc=0.4487]\n"
     ]
    },
    {
     "name": "stdout",
     "output_type": "stream",
     "text": [
      "Epoch 18/1000: Val Loss: 1.4143, Val Acc: 0.4487, Val F1: 0.4212\n",
      "Current Learning Rate: 3e-05\n",
      "Best model saved at ../Experiment Augment Result/model5_augment_best.pt with accuracy: 0.4487\n"
     ]
    },
    {
     "name": "stderr",
     "output_type": "stream",
     "text": [
      "Epoch 19/1000: 100%|██████████| 422/422 [02:09<00:00,  3.27it/s, Loss=1.4247, Acc=0.4484]\n"
     ]
    },
    {
     "name": "stdout",
     "output_type": "stream",
     "text": [
      "Epoch 19/1000: Train Loss: 1.4247, Train Acc: 0.4484\n"
     ]
    },
    {
     "name": "stderr",
     "output_type": "stream",
     "text": [
      "Validation: 100%|██████████| 47/47 [00:03<00:00, 11.83it/s, Loss=1.4445, Acc=0.4340]\n"
     ]
    },
    {
     "name": "stdout",
     "output_type": "stream",
     "text": [
      "Epoch 19/1000: Val Loss: 1.4445, Val Acc: 0.4340, Val F1: 0.4415\n",
      "Current Learning Rate: 3e-05\n"
     ]
    },
    {
     "name": "stderr",
     "output_type": "stream",
     "text": [
      "Epoch 20/1000: 100%|██████████| 422/422 [02:10<00:00,  3.24it/s, Loss=1.4186, Acc=0.4486]\n"
     ]
    },
    {
     "name": "stdout",
     "output_type": "stream",
     "text": [
      "Epoch 20/1000: Train Loss: 1.4186, Train Acc: 0.4486\n"
     ]
    },
    {
     "name": "stderr",
     "output_type": "stream",
     "text": [
      "Validation: 100%|██████████| 47/47 [00:04<00:00, 11.73it/s, Loss=1.3984, Acc=0.4540]\n"
     ]
    },
    {
     "name": "stdout",
     "output_type": "stream",
     "text": [
      "Epoch 20/1000: Val Loss: 1.3984, Val Acc: 0.4540, Val F1: 0.4265\n",
      "Current Learning Rate: 3e-05\n",
      "Best model saved at ../Experiment Augment Result/model5_augment_best.pt with accuracy: 0.4540\n"
     ]
    },
    {
     "name": "stderr",
     "output_type": "stream",
     "text": [
      "Epoch 21/1000: 100%|██████████| 422/422 [02:09<00:00,  3.27it/s, Loss=1.4017, Acc=0.4548]\n"
     ]
    },
    {
     "name": "stdout",
     "output_type": "stream",
     "text": [
      "Epoch 21/1000: Train Loss: 1.4017, Train Acc: 0.4548\n"
     ]
    },
    {
     "name": "stderr",
     "output_type": "stream",
     "text": [
      "Validation: 100%|██████████| 47/47 [00:03<00:00, 11.90it/s, Loss=1.4041, Acc=0.4533]\n"
     ]
    },
    {
     "name": "stdout",
     "output_type": "stream",
     "text": [
      "Epoch 21/1000: Val Loss: 1.4041, Val Acc: 0.4533, Val F1: 0.4331\n",
      "Current Learning Rate: 3e-05\n"
     ]
    },
    {
     "name": "stderr",
     "output_type": "stream",
     "text": [
      "Epoch 22/1000: 100%|██████████| 422/422 [02:10<00:00,  3.24it/s, Loss=1.3973, Acc=0.4551]\n"
     ]
    },
    {
     "name": "stdout",
     "output_type": "stream",
     "text": [
      "Epoch 22/1000: Train Loss: 1.3973, Train Acc: 0.4551\n"
     ]
    },
    {
     "name": "stderr",
     "output_type": "stream",
     "text": [
      "Validation: 100%|██████████| 47/47 [00:03<00:00, 11.78it/s, Loss=1.4080, Acc=0.4513]\n"
     ]
    },
    {
     "name": "stdout",
     "output_type": "stream",
     "text": [
      "Epoch 22/1000: Val Loss: 1.4080, Val Acc: 0.4513, Val F1: 0.4319\n",
      "Current Learning Rate: 3e-05\n"
     ]
    },
    {
     "name": "stderr",
     "output_type": "stream",
     "text": [
      "Epoch 23/1000: 100%|██████████| 422/422 [02:08<00:00,  3.28it/s, Loss=1.3838, Acc=0.4625]\n"
     ]
    },
    {
     "name": "stdout",
     "output_type": "stream",
     "text": [
      "Epoch 23/1000: Train Loss: 1.3838, Train Acc: 0.4625\n"
     ]
    },
    {
     "name": "stderr",
     "output_type": "stream",
     "text": [
      "Validation: 100%|██████████| 47/47 [00:03<00:00, 11.76it/s, Loss=1.3836, Acc=0.4577]\n"
     ]
    },
    {
     "name": "stdout",
     "output_type": "stream",
     "text": [
      "Epoch 23/1000: Val Loss: 1.3836, Val Acc: 0.4577, Val F1: 0.4487\n",
      "Current Learning Rate: 3e-05\n",
      "Best model saved at ../Experiment Augment Result/model5_augment_best.pt with accuracy: 0.4577\n"
     ]
    },
    {
     "name": "stderr",
     "output_type": "stream",
     "text": [
      "Epoch 24/1000: 100%|██████████| 422/422 [02:12<00:00,  3.18it/s, Loss=1.3775, Acc=0.4677]\n"
     ]
    },
    {
     "name": "stdout",
     "output_type": "stream",
     "text": [
      "Epoch 24/1000: Train Loss: 1.3775, Train Acc: 0.4677\n"
     ]
    },
    {
     "name": "stderr",
     "output_type": "stream",
     "text": [
      "Validation: 100%|██████████| 47/47 [00:03<00:00, 11.83it/s, Loss=1.3764, Acc=0.4527]\n"
     ]
    },
    {
     "name": "stdout",
     "output_type": "stream",
     "text": [
      "Epoch 24/1000: Val Loss: 1.3764, Val Acc: 0.4527, Val F1: 0.4457\n",
      "Current Learning Rate: 3e-05\n"
     ]
    },
    {
     "name": "stderr",
     "output_type": "stream",
     "text": [
      "Epoch 25/1000: 100%|██████████| 422/422 [02:09<00:00,  3.27it/s, Loss=1.3696, Acc=0.4703]\n"
     ]
    },
    {
     "name": "stdout",
     "output_type": "stream",
     "text": [
      "Epoch 25/1000: Train Loss: 1.3696, Train Acc: 0.4703\n"
     ]
    },
    {
     "name": "stderr",
     "output_type": "stream",
     "text": [
      "Validation: 100%|██████████| 47/47 [00:04<00:00, 11.66it/s, Loss=1.3701, Acc=0.4677]\n"
     ]
    },
    {
     "name": "stdout",
     "output_type": "stream",
     "text": [
      "Epoch 25/1000: Val Loss: 1.3701, Val Acc: 0.4677, Val F1: 0.4516\n",
      "Current Learning Rate: 3e-05\n",
      "Best model saved at ../Experiment Augment Result/model5_augment_best.pt with accuracy: 0.4677\n"
     ]
    },
    {
     "name": "stderr",
     "output_type": "stream",
     "text": [
      "Epoch 26/1000: 100%|██████████| 422/422 [02:09<00:00,  3.26it/s, Loss=1.3614, Acc=0.4722]\n"
     ]
    },
    {
     "name": "stdout",
     "output_type": "stream",
     "text": [
      "Epoch 26/1000: Train Loss: 1.3614, Train Acc: 0.4722\n"
     ]
    },
    {
     "name": "stderr",
     "output_type": "stream",
     "text": [
      "Validation: 100%|██████████| 47/47 [00:04<00:00, 11.66it/s, Loss=1.3931, Acc=0.4627]\n"
     ]
    },
    {
     "name": "stdout",
     "output_type": "stream",
     "text": [
      "Epoch 26/1000: Val Loss: 1.3931, Val Acc: 0.4627, Val F1: 0.4590\n",
      "Current Learning Rate: 3e-05\n"
     ]
    },
    {
     "name": "stderr",
     "output_type": "stream",
     "text": [
      "Epoch 27/1000: 100%|██████████| 422/422 [02:08<00:00,  3.27it/s, Loss=1.3516, Acc=0.4805]\n"
     ]
    },
    {
     "name": "stdout",
     "output_type": "stream",
     "text": [
      "Epoch 27/1000: Train Loss: 1.3516, Train Acc: 0.4805\n"
     ]
    },
    {
     "name": "stderr",
     "output_type": "stream",
     "text": [
      "Validation: 100%|██████████| 47/47 [00:04<00:00, 11.64it/s, Loss=1.3537, Acc=0.4683]\n"
     ]
    },
    {
     "name": "stdout",
     "output_type": "stream",
     "text": [
      "Epoch 27/1000: Val Loss: 1.3537, Val Acc: 0.4683, Val F1: 0.4490\n",
      "Current Learning Rate: 3e-05\n",
      "Best model saved at ../Experiment Augment Result/model5_augment_best.pt with accuracy: 0.4683\n"
     ]
    },
    {
     "name": "stderr",
     "output_type": "stream",
     "text": [
      "Epoch 28/1000: 100%|██████████| 422/422 [02:10<00:00,  3.24it/s, Loss=1.3417, Acc=0.4813]\n"
     ]
    },
    {
     "name": "stdout",
     "output_type": "stream",
     "text": [
      "Epoch 28/1000: Train Loss: 1.3417, Train Acc: 0.4813\n"
     ]
    },
    {
     "name": "stderr",
     "output_type": "stream",
     "text": [
      "Validation: 100%|██████████| 47/47 [00:04<00:00, 11.60it/s, Loss=1.3834, Acc=0.4613]\n"
     ]
    },
    {
     "name": "stdout",
     "output_type": "stream",
     "text": [
      "Epoch 28/1000: Val Loss: 1.3834, Val Acc: 0.4613, Val F1: 0.4275\n",
      "Current Learning Rate: 3e-05\n"
     ]
    },
    {
     "name": "stderr",
     "output_type": "stream",
     "text": [
      "Epoch 29/1000: 100%|██████████| 422/422 [02:10<00:00,  3.24it/s, Loss=1.3279, Acc=0.4845]\n"
     ]
    },
    {
     "name": "stdout",
     "output_type": "stream",
     "text": [
      "Epoch 29/1000: Train Loss: 1.3279, Train Acc: 0.4845\n"
     ]
    },
    {
     "name": "stderr",
     "output_type": "stream",
     "text": [
      "Validation: 100%|██████████| 47/47 [00:04<00:00, 11.64it/s, Loss=1.3604, Acc=0.4747]\n"
     ]
    },
    {
     "name": "stdout",
     "output_type": "stream",
     "text": [
      "Epoch 29/1000: Val Loss: 1.3604, Val Acc: 0.4747, Val F1: 0.4574\n",
      "Current Learning Rate: 3e-05\n",
      "Best model saved at ../Experiment Augment Result/model5_augment_best.pt with accuracy: 0.4747\n"
     ]
    },
    {
     "name": "stderr",
     "output_type": "stream",
     "text": [
      "Epoch 30/1000: 100%|██████████| 422/422 [02:09<00:00,  3.26it/s, Loss=1.3251, Acc=0.4898]\n"
     ]
    },
    {
     "name": "stdout",
     "output_type": "stream",
     "text": [
      "Epoch 30/1000: Train Loss: 1.3251, Train Acc: 0.4898\n"
     ]
    },
    {
     "name": "stderr",
     "output_type": "stream",
     "text": [
      "Validation: 100%|██████████| 47/47 [00:04<00:00, 11.64it/s, Loss=1.3502, Acc=0.4780]\n"
     ]
    },
    {
     "name": "stdout",
     "output_type": "stream",
     "text": [
      "Epoch 30/1000: Val Loss: 1.3502, Val Acc: 0.4780, Val F1: 0.4461\n",
      "Current Learning Rate: 3e-05\n",
      "Best model saved at ../Experiment Augment Result/model5_augment_best.pt with accuracy: 0.4780\n"
     ]
    },
    {
     "name": "stderr",
     "output_type": "stream",
     "text": [
      "Epoch 31/1000: 100%|██████████| 422/422 [02:09<00:00,  3.26it/s, Loss=1.3203, Acc=0.4882]\n"
     ]
    },
    {
     "name": "stdout",
     "output_type": "stream",
     "text": [
      "Epoch 31/1000: Train Loss: 1.3203, Train Acc: 0.4882\n"
     ]
    },
    {
     "name": "stderr",
     "output_type": "stream",
     "text": [
      "Validation: 100%|██████████| 47/47 [00:04<00:00, 11.62it/s, Loss=1.3420, Acc=0.4677]\n"
     ]
    },
    {
     "name": "stdout",
     "output_type": "stream",
     "text": [
      "Epoch 31/1000: Val Loss: 1.3420, Val Acc: 0.4677, Val F1: 0.4467\n",
      "Current Learning Rate: 3e-05\n"
     ]
    },
    {
     "name": "stderr",
     "output_type": "stream",
     "text": [
      "Epoch 32/1000: 100%|██████████| 422/422 [02:11<00:00,  3.22it/s, Loss=1.3119, Acc=0.4957]\n"
     ]
    },
    {
     "name": "stdout",
     "output_type": "stream",
     "text": [
      "Epoch 32/1000: Train Loss: 1.3119, Train Acc: 0.4957\n"
     ]
    },
    {
     "name": "stderr",
     "output_type": "stream",
     "text": [
      "Validation: 100%|██████████| 47/47 [00:04<00:00, 11.65it/s, Loss=1.3489, Acc=0.4697]\n"
     ]
    },
    {
     "name": "stdout",
     "output_type": "stream",
     "text": [
      "Epoch 32/1000: Val Loss: 1.3489, Val Acc: 0.4697, Val F1: 0.4454\n",
      "Current Learning Rate: 3e-05\n"
     ]
    },
    {
     "name": "stderr",
     "output_type": "stream",
     "text": [
      "Epoch 33/1000: 100%|██████████| 422/422 [02:09<00:00,  3.25it/s, Loss=1.3021, Acc=0.4980]\n"
     ]
    },
    {
     "name": "stdout",
     "output_type": "stream",
     "text": [
      "Epoch 33/1000: Train Loss: 1.3021, Train Acc: 0.4980\n"
     ]
    },
    {
     "name": "stderr",
     "output_type": "stream",
     "text": [
      "Validation: 100%|██████████| 47/47 [00:04<00:00, 11.54it/s, Loss=1.3312, Acc=0.4790]\n"
     ]
    },
    {
     "name": "stdout",
     "output_type": "stream",
     "text": [
      "Epoch 33/1000: Val Loss: 1.3312, Val Acc: 0.4790, Val F1: 0.4658\n",
      "Current Learning Rate: 3e-05\n",
      "Best model saved at ../Experiment Augment Result/model5_augment_best.pt with accuracy: 0.4790\n"
     ]
    },
    {
     "name": "stderr",
     "output_type": "stream",
     "text": [
      "Epoch 34/1000: 100%|██████████| 422/422 [02:08<00:00,  3.27it/s, Loss=1.2906, Acc=0.5049]\n"
     ]
    },
    {
     "name": "stdout",
     "output_type": "stream",
     "text": [
      "Epoch 34/1000: Train Loss: 1.2906, Train Acc: 0.5049\n"
     ]
    },
    {
     "name": "stderr",
     "output_type": "stream",
     "text": [
      "Validation: 100%|██████████| 47/47 [00:04<00:00, 11.62it/s, Loss=1.3541, Acc=0.4733]\n"
     ]
    },
    {
     "name": "stdout",
     "output_type": "stream",
     "text": [
      "Epoch 34/1000: Val Loss: 1.3541, Val Acc: 0.4733, Val F1: 0.4395\n",
      "Current Learning Rate: 3e-05\n"
     ]
    },
    {
     "name": "stderr",
     "output_type": "stream",
     "text": [
      "Epoch 35/1000: 100%|██████████| 422/422 [02:08<00:00,  3.28it/s, Loss=1.2839, Acc=0.5033]\n"
     ]
    },
    {
     "name": "stdout",
     "output_type": "stream",
     "text": [
      "Epoch 35/1000: Train Loss: 1.2839, Train Acc: 0.5033\n"
     ]
    },
    {
     "name": "stderr",
     "output_type": "stream",
     "text": [
      "Validation: 100%|██████████| 47/47 [00:04<00:00, 11.50it/s, Loss=1.3474, Acc=0.4770]\n"
     ]
    },
    {
     "name": "stdout",
     "output_type": "stream",
     "text": [
      "Epoch 35/1000: Val Loss: 1.3474, Val Acc: 0.4770, Val F1: 0.4647\n",
      "Current Learning Rate: 3e-05\n"
     ]
    },
    {
     "name": "stderr",
     "output_type": "stream",
     "text": [
      "Epoch 36/1000: 100%|██████████| 422/422 [02:10<00:00,  3.24it/s, Loss=1.2769, Acc=0.5099]\n"
     ]
    },
    {
     "name": "stdout",
     "output_type": "stream",
     "text": [
      "Epoch 36/1000: Train Loss: 1.2769, Train Acc: 0.5099\n"
     ]
    },
    {
     "name": "stderr",
     "output_type": "stream",
     "text": [
      "Validation: 100%|██████████| 47/47 [00:04<00:00, 11.21it/s, Loss=1.3507, Acc=0.4707]\n"
     ]
    },
    {
     "name": "stdout",
     "output_type": "stream",
     "text": [
      "Epoch 36/1000: Val Loss: 1.3507, Val Acc: 0.4707, Val F1: 0.4534\n",
      "Current Learning Rate: 3e-05\n"
     ]
    },
    {
     "name": "stderr",
     "output_type": "stream",
     "text": [
      "Epoch 37/1000: 100%|██████████| 422/422 [02:09<00:00,  3.26it/s, Loss=1.2659, Acc=0.5109]\n"
     ]
    },
    {
     "name": "stdout",
     "output_type": "stream",
     "text": [
      "Epoch 37/1000: Train Loss: 1.2659, Train Acc: 0.5109\n"
     ]
    },
    {
     "name": "stderr",
     "output_type": "stream",
     "text": [
      "Validation: 100%|██████████| 47/47 [00:04<00:00, 11.60it/s, Loss=1.3238, Acc=0.4887]\n"
     ]
    },
    {
     "name": "stdout",
     "output_type": "stream",
     "text": [
      "Epoch 37/1000: Val Loss: 1.3238, Val Acc: 0.4887, Val F1: 0.4760\n",
      "Current Learning Rate: 3e-05\n",
      "Best model saved at ../Experiment Augment Result/model5_augment_best.pt with accuracy: 0.4887\n"
     ]
    },
    {
     "name": "stderr",
     "output_type": "stream",
     "text": [
      "Epoch 38/1000: 100%|██████████| 422/422 [02:09<00:00,  3.26it/s, Loss=1.2569, Acc=0.5187]\n"
     ]
    },
    {
     "name": "stdout",
     "output_type": "stream",
     "text": [
      "Epoch 38/1000: Train Loss: 1.2569, Train Acc: 0.5187\n"
     ]
    },
    {
     "name": "stderr",
     "output_type": "stream",
     "text": [
      "Validation: 100%|██████████| 47/47 [00:04<00:00, 11.63it/s, Loss=1.3250, Acc=0.4833]\n"
     ]
    },
    {
     "name": "stdout",
     "output_type": "stream",
     "text": [
      "Epoch 38/1000: Val Loss: 1.3250, Val Acc: 0.4833, Val F1: 0.4594\n",
      "Current Learning Rate: 3e-05\n"
     ]
    },
    {
     "name": "stderr",
     "output_type": "stream",
     "text": [
      "Epoch 39/1000: 100%|██████████| 422/422 [02:09<00:00,  3.25it/s, Loss=1.2517, Acc=0.5183]\n"
     ]
    },
    {
     "name": "stdout",
     "output_type": "stream",
     "text": [
      "Epoch 39/1000: Train Loss: 1.2517, Train Acc: 0.5183\n"
     ]
    },
    {
     "name": "stderr",
     "output_type": "stream",
     "text": [
      "Validation: 100%|██████████| 47/47 [00:04<00:00, 11.56it/s, Loss=1.3068, Acc=0.4903]\n"
     ]
    },
    {
     "name": "stdout",
     "output_type": "stream",
     "text": [
      "Epoch 39/1000: Val Loss: 1.3068, Val Acc: 0.4903, Val F1: 0.4783\n",
      "Current Learning Rate: 3e-05\n",
      "Best model saved at ../Experiment Augment Result/model5_augment_best.pt with accuracy: 0.4903\n"
     ]
    },
    {
     "name": "stderr",
     "output_type": "stream",
     "text": [
      "Epoch 40/1000: 100%|██████████| 422/422 [02:10<00:00,  3.24it/s, Loss=1.2392, Acc=0.5241]\n"
     ]
    },
    {
     "name": "stdout",
     "output_type": "stream",
     "text": [
      "Epoch 40/1000: Train Loss: 1.2392, Train Acc: 0.5241\n"
     ]
    },
    {
     "name": "stderr",
     "output_type": "stream",
     "text": [
      "Validation: 100%|██████████| 47/47 [00:04<00:00, 11.66it/s, Loss=1.3249, Acc=0.4927]\n"
     ]
    },
    {
     "name": "stdout",
     "output_type": "stream",
     "text": [
      "Epoch 40/1000: Val Loss: 1.3249, Val Acc: 0.4927, Val F1: 0.4798\n",
      "Current Learning Rate: 3e-05\n",
      "Best model saved at ../Experiment Augment Result/model5_augment_best.pt with accuracy: 0.4927\n"
     ]
    },
    {
     "name": "stderr",
     "output_type": "stream",
     "text": [
      "Epoch 41/1000: 100%|██████████| 422/422 [02:10<00:00,  3.24it/s, Loss=1.2318, Acc=0.5269]\n"
     ]
    },
    {
     "name": "stdout",
     "output_type": "stream",
     "text": [
      "Epoch 41/1000: Train Loss: 1.2318, Train Acc: 0.5269\n"
     ]
    },
    {
     "name": "stderr",
     "output_type": "stream",
     "text": [
      "Validation: 100%|██████████| 47/47 [00:04<00:00, 11.64it/s, Loss=1.2992, Acc=0.4987]\n"
     ]
    },
    {
     "name": "stdout",
     "output_type": "stream",
     "text": [
      "Epoch 41/1000: Val Loss: 1.2992, Val Acc: 0.4987, Val F1: 0.4798\n",
      "Current Learning Rate: 3e-05\n",
      "Best model saved at ../Experiment Augment Result/model5_augment_best.pt with accuracy: 0.4987\n"
     ]
    },
    {
     "name": "stderr",
     "output_type": "stream",
     "text": [
      "Epoch 42/1000: 100%|██████████| 422/422 [02:09<00:00,  3.26it/s, Loss=1.2291, Acc=0.5270]\n"
     ]
    },
    {
     "name": "stdout",
     "output_type": "stream",
     "text": [
      "Epoch 42/1000: Train Loss: 1.2291, Train Acc: 0.5270\n"
     ]
    },
    {
     "name": "stderr",
     "output_type": "stream",
     "text": [
      "Validation: 100%|██████████| 47/47 [00:04<00:00, 11.65it/s, Loss=1.3229, Acc=0.4833]\n"
     ]
    },
    {
     "name": "stdout",
     "output_type": "stream",
     "text": [
      "Epoch 42/1000: Val Loss: 1.3229, Val Acc: 0.4833, Val F1: 0.4593\n",
      "Current Learning Rate: 3e-05\n"
     ]
    },
    {
     "name": "stderr",
     "output_type": "stream",
     "text": [
      "Epoch 43/1000: 100%|██████████| 422/422 [02:08<00:00,  3.27it/s, Loss=1.2144, Acc=0.5302]\n"
     ]
    },
    {
     "name": "stdout",
     "output_type": "stream",
     "text": [
      "Epoch 43/1000: Train Loss: 1.2144, Train Acc: 0.5302\n"
     ]
    },
    {
     "name": "stderr",
     "output_type": "stream",
     "text": [
      "Validation: 100%|██████████| 47/47 [00:04<00:00, 11.60it/s, Loss=1.2983, Acc=0.4983]\n"
     ]
    },
    {
     "name": "stdout",
     "output_type": "stream",
     "text": [
      "Epoch 43/1000: Val Loss: 1.2983, Val Acc: 0.4983, Val F1: 0.4885\n",
      "Current Learning Rate: 3e-05\n"
     ]
    },
    {
     "name": "stderr",
     "output_type": "stream",
     "text": [
      "Epoch 44/1000: 100%|██████████| 422/422 [02:09<00:00,  3.27it/s, Loss=1.2082, Acc=0.5366]\n"
     ]
    },
    {
     "name": "stdout",
     "output_type": "stream",
     "text": [
      "Epoch 44/1000: Train Loss: 1.2082, Train Acc: 0.5366\n"
     ]
    },
    {
     "name": "stderr",
     "output_type": "stream",
     "text": [
      "Validation: 100%|██████████| 47/47 [00:04<00:00, 11.63it/s, Loss=1.3000, Acc=0.4940]\n"
     ]
    },
    {
     "name": "stdout",
     "output_type": "stream",
     "text": [
      "Epoch 44/1000: Val Loss: 1.3000, Val Acc: 0.4940, Val F1: 0.4799\n",
      "Current Learning Rate: 3e-05\n"
     ]
    },
    {
     "name": "stderr",
     "output_type": "stream",
     "text": [
      "Epoch 45/1000: 100%|██████████| 422/422 [02:10<00:00,  3.24it/s, Loss=1.2024, Acc=0.5393]\n"
     ]
    },
    {
     "name": "stdout",
     "output_type": "stream",
     "text": [
      "Epoch 45/1000: Train Loss: 1.2024, Train Acc: 0.5393\n"
     ]
    },
    {
     "name": "stderr",
     "output_type": "stream",
     "text": [
      "Validation: 100%|██████████| 47/47 [00:04<00:00, 11.59it/s, Loss=1.2953, Acc=0.5010]\n"
     ]
    },
    {
     "name": "stdout",
     "output_type": "stream",
     "text": [
      "Epoch 45/1000: Val Loss: 1.2953, Val Acc: 0.5010, Val F1: 0.4886\n",
      "Current Learning Rate: 3e-05\n",
      "Best model saved at ../Experiment Augment Result/model5_augment_best.pt with accuracy: 0.5010\n"
     ]
    },
    {
     "name": "stderr",
     "output_type": "stream",
     "text": [
      "Epoch 46/1000: 100%|██████████| 422/422 [02:10<00:00,  3.24it/s, Loss=1.1962, Acc=0.5424]\n"
     ]
    },
    {
     "name": "stdout",
     "output_type": "stream",
     "text": [
      "Epoch 46/1000: Train Loss: 1.1962, Train Acc: 0.5424\n"
     ]
    },
    {
     "name": "stderr",
     "output_type": "stream",
     "text": [
      "Validation: 100%|██████████| 47/47 [00:04<00:00, 11.63it/s, Loss=1.3176, Acc=0.4957]\n"
     ]
    },
    {
     "name": "stdout",
     "output_type": "stream",
     "text": [
      "Epoch 46/1000: Val Loss: 1.3176, Val Acc: 0.4957, Val F1: 0.4768\n",
      "Current Learning Rate: 3e-05\n"
     ]
    },
    {
     "name": "stderr",
     "output_type": "stream",
     "text": [
      "Epoch 47/1000: 100%|██████████| 422/422 [02:09<00:00,  3.25it/s, Loss=1.1867, Acc=0.5461]\n"
     ]
    },
    {
     "name": "stdout",
     "output_type": "stream",
     "text": [
      "Epoch 47/1000: Train Loss: 1.1867, Train Acc: 0.5461\n"
     ]
    },
    {
     "name": "stderr",
     "output_type": "stream",
     "text": [
      "Validation: 100%|██████████| 47/47 [00:04<00:00, 11.59it/s, Loss=1.2782, Acc=0.5110]\n"
     ]
    },
    {
     "name": "stdout",
     "output_type": "stream",
     "text": [
      "Epoch 47/1000: Val Loss: 1.2782, Val Acc: 0.5110, Val F1: 0.5043\n",
      "Current Learning Rate: 3e-05\n",
      "Best model saved at ../Experiment Augment Result/model5_augment_best.pt with accuracy: 0.5110\n"
     ]
    },
    {
     "name": "stderr",
     "output_type": "stream",
     "text": [
      "Epoch 48/1000: 100%|██████████| 422/422 [02:09<00:00,  3.26it/s, Loss=1.1826, Acc=0.5502]\n"
     ]
    },
    {
     "name": "stdout",
     "output_type": "stream",
     "text": [
      "Epoch 48/1000: Train Loss: 1.1826, Train Acc: 0.5502\n"
     ]
    },
    {
     "name": "stderr",
     "output_type": "stream",
     "text": [
      "Validation: 100%|██████████| 47/47 [00:04<00:00, 11.59it/s, Loss=1.3080, Acc=0.4937]\n"
     ]
    },
    {
     "name": "stdout",
     "output_type": "stream",
     "text": [
      "Epoch 48/1000: Val Loss: 1.3080, Val Acc: 0.4937, Val F1: 0.4768\n",
      "Current Learning Rate: 3e-05\n"
     ]
    },
    {
     "name": "stderr",
     "output_type": "stream",
     "text": [
      "Epoch 49/1000: 100%|██████████| 422/422 [02:12<00:00,  3.18it/s, Loss=1.1663, Acc=0.5516]\n"
     ]
    },
    {
     "name": "stdout",
     "output_type": "stream",
     "text": [
      "Epoch 49/1000: Train Loss: 1.1663, Train Acc: 0.5516\n"
     ]
    },
    {
     "name": "stderr",
     "output_type": "stream",
     "text": [
      "Validation: 100%|██████████| 47/47 [00:04<00:00, 11.42it/s, Loss=1.2957, Acc=0.5017]\n"
     ]
    },
    {
     "name": "stdout",
     "output_type": "stream",
     "text": [
      "Epoch 49/1000: Val Loss: 1.2957, Val Acc: 0.5017, Val F1: 0.4898\n",
      "Current Learning Rate: 3e-05\n"
     ]
    },
    {
     "name": "stderr",
     "output_type": "stream",
     "text": [
      "Epoch 50/1000: 100%|██████████| 422/422 [02:10<00:00,  3.24it/s, Loss=1.1652, Acc=0.5534]\n"
     ]
    },
    {
     "name": "stdout",
     "output_type": "stream",
     "text": [
      "Epoch 50/1000: Train Loss: 1.1652, Train Acc: 0.5534\n"
     ]
    },
    {
     "name": "stderr",
     "output_type": "stream",
     "text": [
      "Validation: 100%|██████████| 47/47 [00:04<00:00, 11.64it/s, Loss=1.2939, Acc=0.5047]\n"
     ]
    },
    {
     "name": "stdout",
     "output_type": "stream",
     "text": [
      "Epoch 50/1000: Val Loss: 1.2939, Val Acc: 0.5047, Val F1: 0.4968\n",
      "Current Learning Rate: 3e-05\n"
     ]
    },
    {
     "name": "stderr",
     "output_type": "stream",
     "text": [
      "Epoch 51/1000: 100%|██████████| 422/422 [02:09<00:00,  3.25it/s, Loss=1.1535, Acc=0.5596]\n"
     ]
    },
    {
     "name": "stdout",
     "output_type": "stream",
     "text": [
      "Epoch 51/1000: Train Loss: 1.1535, Train Acc: 0.5596\n"
     ]
    },
    {
     "name": "stderr",
     "output_type": "stream",
     "text": [
      "Validation: 100%|██████████| 47/47 [00:04<00:00, 11.55it/s, Loss=1.2802, Acc=0.4960]\n"
     ]
    },
    {
     "name": "stdout",
     "output_type": "stream",
     "text": [
      "Epoch 51/1000: Val Loss: 1.2802, Val Acc: 0.4960, Val F1: 0.4859\n",
      "Current Learning Rate: 3e-05\n"
     ]
    },
    {
     "name": "stderr",
     "output_type": "stream",
     "text": [
      "Epoch 52/1000: 100%|██████████| 422/422 [02:11<00:00,  3.22it/s, Loss=1.1433, Acc=0.5598]\n"
     ]
    },
    {
     "name": "stdout",
     "output_type": "stream",
     "text": [
      "Epoch 52/1000: Train Loss: 1.1433, Train Acc: 0.5598\n"
     ]
    },
    {
     "name": "stderr",
     "output_type": "stream",
     "text": [
      "Validation: 100%|██████████| 47/47 [00:04<00:00, 11.38it/s, Loss=1.2870, Acc=0.5090]\n"
     ]
    },
    {
     "name": "stdout",
     "output_type": "stream",
     "text": [
      "Epoch 52/1000: Val Loss: 1.2870, Val Acc: 0.5090, Val F1: 0.4885\n",
      "Current Learning Rate: 3e-05\n"
     ]
    },
    {
     "name": "stderr",
     "output_type": "stream",
     "text": [
      "Epoch 53/1000: 100%|██████████| 422/422 [02:09<00:00,  3.26it/s, Loss=1.1395, Acc=0.5662]\n"
     ]
    },
    {
     "name": "stdout",
     "output_type": "stream",
     "text": [
      "Epoch 53/1000: Train Loss: 1.1395, Train Acc: 0.5662\n"
     ]
    },
    {
     "name": "stderr",
     "output_type": "stream",
     "text": [
      "Validation: 100%|██████████| 47/47 [00:04<00:00, 11.66it/s, Loss=1.2895, Acc=0.5087]\n"
     ]
    },
    {
     "name": "stdout",
     "output_type": "stream",
     "text": [
      "Epoch 53/1000: Val Loss: 1.2895, Val Acc: 0.5087, Val F1: 0.4917\n",
      "Current Learning Rate: 3e-06\n"
     ]
    },
    {
     "name": "stderr",
     "output_type": "stream",
     "text": [
      "Epoch 54/1000: 100%|██████████| 422/422 [02:13<00:00,  3.15it/s, Loss=1.0788, Acc=0.5898]\n"
     ]
    },
    {
     "name": "stdout",
     "output_type": "stream",
     "text": [
      "Epoch 54/1000: Train Loss: 1.0788, Train Acc: 0.5898\n"
     ]
    },
    {
     "name": "stderr",
     "output_type": "stream",
     "text": [
      "Validation: 100%|██████████| 47/47 [00:04<00:00, 11.51it/s, Loss=1.2616, Acc=0.5160]\n"
     ]
    },
    {
     "name": "stdout",
     "output_type": "stream",
     "text": [
      "Epoch 54/1000: Val Loss: 1.2616, Val Acc: 0.5160, Val F1: 0.5076\n",
      "Current Learning Rate: 3e-06\n",
      "Best model saved at ../Experiment Augment Result/model5_augment_best.pt with accuracy: 0.5160\n"
     ]
    },
    {
     "name": "stderr",
     "output_type": "stream",
     "text": [
      "Epoch 55/1000: 100%|██████████| 422/422 [02:12<00:00,  3.19it/s, Loss=1.0602, Acc=0.5991]\n"
     ]
    },
    {
     "name": "stdout",
     "output_type": "stream",
     "text": [
      "Epoch 55/1000: Train Loss: 1.0602, Train Acc: 0.5991\n"
     ]
    },
    {
     "name": "stderr",
     "output_type": "stream",
     "text": [
      "Validation: 100%|██████████| 47/47 [00:04<00:00, 11.56it/s, Loss=1.2600, Acc=0.5190]\n"
     ]
    },
    {
     "name": "stdout",
     "output_type": "stream",
     "text": [
      "Epoch 55/1000: Val Loss: 1.2600, Val Acc: 0.5190, Val F1: 0.5103\n",
      "Current Learning Rate: 3e-06\n",
      "Best model saved at ../Experiment Augment Result/model5_augment_best.pt with accuracy: 0.5190\n"
     ]
    },
    {
     "name": "stderr",
     "output_type": "stream",
     "text": [
      "Epoch 56/1000: 100%|██████████| 422/422 [02:09<00:00,  3.25it/s, Loss=1.0537, Acc=0.6005]\n"
     ]
    },
    {
     "name": "stdout",
     "output_type": "stream",
     "text": [
      "Epoch 56/1000: Train Loss: 1.0537, Train Acc: 0.6005\n"
     ]
    },
    {
     "name": "stderr",
     "output_type": "stream",
     "text": [
      "Validation: 100%|██████████| 47/47 [00:03<00:00, 11.94it/s, Loss=1.2594, Acc=0.5217]\n"
     ]
    },
    {
     "name": "stdout",
     "output_type": "stream",
     "text": [
      "Epoch 56/1000: Val Loss: 1.2594, Val Acc: 0.5217, Val F1: 0.5153\n",
      "Current Learning Rate: 3e-06\n",
      "Best model saved at ../Experiment Augment Result/model5_augment_best.pt with accuracy: 0.5217\n"
     ]
    },
    {
     "name": "stderr",
     "output_type": "stream",
     "text": [
      "Epoch 57/1000: 100%|██████████| 422/422 [02:08<00:00,  3.29it/s, Loss=1.0466, Acc=0.6041]\n"
     ]
    },
    {
     "name": "stdout",
     "output_type": "stream",
     "text": [
      "Epoch 57/1000: Train Loss: 1.0466, Train Acc: 0.6041\n"
     ]
    },
    {
     "name": "stderr",
     "output_type": "stream",
     "text": [
      "Validation: 100%|██████████| 47/47 [00:03<00:00, 11.89it/s, Loss=1.2645, Acc=0.5263]\n"
     ]
    },
    {
     "name": "stdout",
     "output_type": "stream",
     "text": [
      "Epoch 57/1000: Val Loss: 1.2645, Val Acc: 0.5263, Val F1: 0.5175\n",
      "Current Learning Rate: 3e-06\n",
      "Best model saved at ../Experiment Augment Result/model5_augment_best.pt with accuracy: 0.5263\n"
     ]
    },
    {
     "name": "stderr",
     "output_type": "stream",
     "text": [
      "Epoch 58/1000: 100%|██████████| 422/422 [02:08<00:00,  3.28it/s, Loss=1.0454, Acc=0.6048]\n"
     ]
    },
    {
     "name": "stdout",
     "output_type": "stream",
     "text": [
      "Epoch 58/1000: Train Loss: 1.0454, Train Acc: 0.6048\n"
     ]
    },
    {
     "name": "stderr",
     "output_type": "stream",
     "text": [
      "Validation: 100%|██████████| 47/47 [00:03<00:00, 11.93it/s, Loss=1.2635, Acc=0.5253]\n"
     ]
    },
    {
     "name": "stdout",
     "output_type": "stream",
     "text": [
      "Epoch 58/1000: Val Loss: 1.2635, Val Acc: 0.5253, Val F1: 0.5201\n",
      "Current Learning Rate: 3e-06\n"
     ]
    },
    {
     "name": "stderr",
     "output_type": "stream",
     "text": [
      "Epoch 59/1000: 100%|██████████| 422/422 [02:09<00:00,  3.26it/s, Loss=1.0398, Acc=0.6081]\n"
     ]
    },
    {
     "name": "stdout",
     "output_type": "stream",
     "text": [
      "Epoch 59/1000: Train Loss: 1.0398, Train Acc: 0.6081\n"
     ]
    },
    {
     "name": "stderr",
     "output_type": "stream",
     "text": [
      "Validation: 100%|██████████| 47/47 [00:04<00:00, 11.70it/s, Loss=1.2611, Acc=0.5267]\n"
     ]
    },
    {
     "name": "stdout",
     "output_type": "stream",
     "text": [
      "Epoch 59/1000: Val Loss: 1.2611, Val Acc: 0.5267, Val F1: 0.5176\n",
      "Current Learning Rate: 3e-06\n",
      "Best model saved at ../Experiment Augment Result/model5_augment_best.pt with accuracy: 0.5267\n"
     ]
    },
    {
     "name": "stderr",
     "output_type": "stream",
     "text": [
      "Epoch 60/1000: 100%|██████████| 422/422 [02:08<00:00,  3.27it/s, Loss=1.0369, Acc=0.6064]\n"
     ]
    },
    {
     "name": "stdout",
     "output_type": "stream",
     "text": [
      "Epoch 60/1000: Train Loss: 1.0369, Train Acc: 0.6064\n"
     ]
    },
    {
     "name": "stderr",
     "output_type": "stream",
     "text": [
      "Validation: 100%|██████████| 47/47 [00:03<00:00, 11.91it/s, Loss=1.2654, Acc=0.5217]\n"
     ]
    },
    {
     "name": "stdout",
     "output_type": "stream",
     "text": [
      "Epoch 60/1000: Val Loss: 1.2654, Val Acc: 0.5217, Val F1: 0.5152\n",
      "Current Learning Rate: 3e-06\n"
     ]
    },
    {
     "name": "stderr",
     "output_type": "stream",
     "text": [
      "Epoch 61/1000: 100%|██████████| 422/422 [02:11<00:00,  3.20it/s, Loss=1.0361, Acc=0.6079]\n"
     ]
    },
    {
     "name": "stdout",
     "output_type": "stream",
     "text": [
      "Epoch 61/1000: Train Loss: 1.0361, Train Acc: 0.6079\n"
     ]
    },
    {
     "name": "stderr",
     "output_type": "stream",
     "text": [
      "Validation: 100%|██████████| 47/47 [00:03<00:00, 11.84it/s, Loss=1.2655, Acc=0.5217]\n"
     ]
    },
    {
     "name": "stdout",
     "output_type": "stream",
     "text": [
      "Epoch 61/1000: Val Loss: 1.2655, Val Acc: 0.5217, Val F1: 0.5147\n",
      "Current Learning Rate: 3e-06\n"
     ]
    },
    {
     "name": "stderr",
     "output_type": "stream",
     "text": [
      "Epoch 62/1000: 100%|██████████| 422/422 [02:10<00:00,  3.25it/s, Loss=1.0237, Acc=0.6128]\n"
     ]
    },
    {
     "name": "stdout",
     "output_type": "stream",
     "text": [
      "Epoch 62/1000: Train Loss: 1.0237, Train Acc: 0.6128\n"
     ]
    },
    {
     "name": "stderr",
     "output_type": "stream",
     "text": [
      "Validation: 100%|██████████| 47/47 [00:03<00:00, 11.93it/s, Loss=1.2680, Acc=0.5180]\n"
     ]
    },
    {
     "name": "stdout",
     "output_type": "stream",
     "text": [
      "Epoch 62/1000: Val Loss: 1.2680, Val Acc: 0.5180, Val F1: 0.5125\n",
      "Current Learning Rate: 3.0000000000000004e-07\n"
     ]
    },
    {
     "name": "stderr",
     "output_type": "stream",
     "text": [
      "Epoch 63/1000: 100%|██████████| 422/422 [02:13<00:00,  3.17it/s, Loss=1.0173, Acc=0.6156]\n"
     ]
    },
    {
     "name": "stdout",
     "output_type": "stream",
     "text": [
      "Epoch 63/1000: Train Loss: 1.0173, Train Acc: 0.6156\n"
     ]
    },
    {
     "name": "stderr",
     "output_type": "stream",
     "text": [
      "Validation: 100%|██████████| 47/47 [00:04<00:00, 11.72it/s, Loss=1.2653, Acc=0.5223]\n"
     ]
    },
    {
     "name": "stdout",
     "output_type": "stream",
     "text": [
      "Epoch 63/1000: Val Loss: 1.2653, Val Acc: 0.5223, Val F1: 0.5169\n",
      "Current Learning Rate: 3.0000000000000004e-07\n"
     ]
    },
    {
     "name": "stderr",
     "output_type": "stream",
     "text": [
      "Epoch 64/1000: 100%|██████████| 422/422 [02:09<00:00,  3.27it/s, Loss=1.0158, Acc=0.6133]\n"
     ]
    },
    {
     "name": "stdout",
     "output_type": "stream",
     "text": [
      "Epoch 64/1000: Train Loss: 1.0158, Train Acc: 0.6133\n"
     ]
    },
    {
     "name": "stderr",
     "output_type": "stream",
     "text": [
      "Validation: 100%|██████████| 47/47 [00:04<00:00, 11.53it/s, Loss=1.2654, Acc=0.5210]\n"
     ]
    },
    {
     "name": "stdout",
     "output_type": "stream",
     "text": [
      "Epoch 64/1000: Val Loss: 1.2654, Val Acc: 0.5210, Val F1: 0.5163\n",
      "Current Learning Rate: 3.0000000000000004e-07\n"
     ]
    },
    {
     "name": "stderr",
     "output_type": "stream",
     "text": [
      "Epoch 65/1000: 100%|██████████| 422/422 [02:09<00:00,  3.25it/s, Loss=1.0154, Acc=0.6153]\n"
     ]
    },
    {
     "name": "stdout",
     "output_type": "stream",
     "text": [
      "Epoch 65/1000: Train Loss: 1.0154, Train Acc: 0.6153\n"
     ]
    },
    {
     "name": "stderr",
     "output_type": "stream",
     "text": [
      "Validation: 100%|██████████| 47/47 [00:04<00:00, 11.50it/s, Loss=1.2651, Acc=0.5213]\n"
     ]
    },
    {
     "name": "stdout",
     "output_type": "stream",
     "text": [
      "Epoch 65/1000: Val Loss: 1.2651, Val Acc: 0.5213, Val F1: 0.5153\n",
      "Current Learning Rate: 3.0000000000000004e-07\n"
     ]
    },
    {
     "name": "stderr",
     "output_type": "stream",
     "text": [
      "Epoch 66/1000: 100%|██████████| 422/422 [02:14<00:00,  3.14it/s, Loss=1.0177, Acc=0.6160]\n"
     ]
    },
    {
     "name": "stdout",
     "output_type": "stream",
     "text": [
      "Epoch 66/1000: Train Loss: 1.0177, Train Acc: 0.6160\n"
     ]
    },
    {
     "name": "stderr",
     "output_type": "stream",
     "text": [
      "Validation: 100%|██████████| 47/47 [00:04<00:00, 11.39it/s, Loss=1.2649, Acc=0.5220]\n"
     ]
    },
    {
     "name": "stdout",
     "output_type": "stream",
     "text": [
      "Epoch 66/1000: Val Loss: 1.2649, Val Acc: 0.5220, Val F1: 0.5158\n",
      "Current Learning Rate: 3.0000000000000004e-07\n"
     ]
    },
    {
     "name": "stderr",
     "output_type": "stream",
     "text": [
      "Epoch 67/1000: 100%|██████████| 422/422 [02:09<00:00,  3.27it/s, Loss=1.0112, Acc=0.6173]\n"
     ]
    },
    {
     "name": "stdout",
     "output_type": "stream",
     "text": [
      "Epoch 67/1000: Train Loss: 1.0112, Train Acc: 0.6173\n"
     ]
    },
    {
     "name": "stderr",
     "output_type": "stream",
     "text": [
      "Validation: 100%|██████████| 47/47 [00:04<00:00, 11.44it/s, Loss=1.2654, Acc=0.5233]\n"
     ]
    },
    {
     "name": "stdout",
     "output_type": "stream",
     "text": [
      "Epoch 67/1000: Val Loss: 1.2654, Val Acc: 0.5233, Val F1: 0.5178\n",
      "Current Learning Rate: 3.0000000000000004e-07\n"
     ]
    },
    {
     "name": "stderr",
     "output_type": "stream",
     "text": [
      "Epoch 68/1000: 100%|██████████| 422/422 [02:09<00:00,  3.27it/s, Loss=1.0131, Acc=0.6158]\n"
     ]
    },
    {
     "name": "stdout",
     "output_type": "stream",
     "text": [
      "Epoch 68/1000: Train Loss: 1.0131, Train Acc: 0.6158\n"
     ]
    },
    {
     "name": "stderr",
     "output_type": "stream",
     "text": [
      "Validation: 100%|██████████| 47/47 [00:04<00:00, 11.62it/s, Loss=1.2644, Acc=0.5230]\n"
     ]
    },
    {
     "name": "stdout",
     "output_type": "stream",
     "text": [
      "Epoch 68/1000: Val Loss: 1.2644, Val Acc: 0.5230, Val F1: 0.5162\n",
      "Current Learning Rate: 3.0000000000000004e-08\n"
     ]
    },
    {
     "name": "stderr",
     "output_type": "stream",
     "text": [
      "Epoch 69/1000: 100%|██████████| 422/422 [02:09<00:00,  3.27it/s, Loss=1.0119, Acc=0.6159]\n"
     ]
    },
    {
     "name": "stdout",
     "output_type": "stream",
     "text": [
      "Epoch 69/1000: Train Loss: 1.0119, Train Acc: 0.6159\n"
     ]
    },
    {
     "name": "stderr",
     "output_type": "stream",
     "text": [
      "Validation: 100%|██████████| 47/47 [00:04<00:00, 11.65it/s, Loss=1.2642, Acc=0.5230]\n"
     ]
    },
    {
     "name": "stdout",
     "output_type": "stream",
     "text": [
      "Epoch 69/1000: Val Loss: 1.2642, Val Acc: 0.5230, Val F1: 0.5165\n",
      "Current Learning Rate: 3.0000000000000004e-08\n"
     ]
    },
    {
     "name": "stderr",
     "output_type": "stream",
     "text": [
      "Epoch 70/1000: 100%|██████████| 422/422 [02:09<00:00,  3.27it/s, Loss=1.0097, Acc=0.6189]\n"
     ]
    },
    {
     "name": "stdout",
     "output_type": "stream",
     "text": [
      "Epoch 70/1000: Train Loss: 1.0097, Train Acc: 0.6189\n"
     ]
    },
    {
     "name": "stderr",
     "output_type": "stream",
     "text": [
      "Validation: 100%|██████████| 47/47 [00:04<00:00, 11.65it/s, Loss=1.2647, Acc=0.5233]\n"
     ]
    },
    {
     "name": "stdout",
     "output_type": "stream",
     "text": [
      "Epoch 70/1000: Val Loss: 1.2647, Val Acc: 0.5233, Val F1: 0.5171\n",
      "Current Learning Rate: 3.0000000000000004e-08\n"
     ]
    },
    {
     "name": "stderr",
     "output_type": "stream",
     "text": [
      "Epoch 71/1000: 100%|██████████| 422/422 [02:10<00:00,  3.23it/s, Loss=1.0177, Acc=0.6123]\n"
     ]
    },
    {
     "name": "stdout",
     "output_type": "stream",
     "text": [
      "Epoch 71/1000: Train Loss: 1.0177, Train Acc: 0.6123\n"
     ]
    },
    {
     "name": "stderr",
     "output_type": "stream",
     "text": [
      "Validation: 100%|██████████| 47/47 [00:04<00:00, 11.18it/s, Loss=1.2648, Acc=0.5233]\n"
     ]
    },
    {
     "name": "stdout",
     "output_type": "stream",
     "text": [
      "Epoch 71/1000: Val Loss: 1.2648, Val Acc: 0.5233, Val F1: 0.5173\n",
      "Current Learning Rate: 3.0000000000000004e-08\n",
      "Early stopping triggered at epoch 71!\n"
     ]
    },
    {
     "name": "stderr",
     "output_type": "stream",
     "text": [
      "Testing: 100%|██████████| 53/53 [00:04<00:00, 11.79it/s, Loss=1.2444, Acc=0.5437]\n"
     ]
    },
    {
     "name": "stdout",
     "output_type": "stream",
     "text": [
      "Test Loss: 1.2444, Test Acc: 0.5437, Test F1: 0.5331\n",
      "Start model6 with configuration patch size: 16, num_heads: 8, embedding_dims: 512, num_layers: 12\n"
     ]
    },
    {
     "name": "stderr",
     "output_type": "stream",
     "text": [
      "Epoch 1/1000: 100%|██████████| 422/422 [04:02<00:00,  1.74it/s, Loss=1.7806, Acc=0.2584]\n"
     ]
    },
    {
     "name": "stdout",
     "output_type": "stream",
     "text": [
      "Epoch 1/1000: Train Loss: 1.7806, Train Acc: 0.2584\n"
     ]
    },
    {
     "name": "stderr",
     "output_type": "stream",
     "text": [
      "Validation: 100%|██████████| 47/47 [00:07<00:00,  6.28it/s, Loss=1.7321, Acc=0.2950]\n"
     ]
    },
    {
     "name": "stdout",
     "output_type": "stream",
     "text": [
      "Epoch 1/1000: Val Loss: 1.7321, Val Acc: 0.2950, Val F1: 0.2334\n",
      "Current Learning Rate: 3e-05\n",
      "Best model saved at ../Experiment Augment Result/model6_augment_best.pt with accuracy: 0.2950\n"
     ]
    },
    {
     "name": "stderr",
     "output_type": "stream",
     "text": [
      "Epoch 2/1000: 100%|██████████| 422/422 [04:02<00:00,  1.74it/s, Loss=1.6931, Acc=0.3226]\n"
     ]
    },
    {
     "name": "stdout",
     "output_type": "stream",
     "text": [
      "Epoch 2/1000: Train Loss: 1.6931, Train Acc: 0.3226\n"
     ]
    },
    {
     "name": "stderr",
     "output_type": "stream",
     "text": [
      "Validation: 100%|██████████| 47/47 [00:07<00:00,  6.38it/s, Loss=1.6805, Acc=0.3430]\n"
     ]
    },
    {
     "name": "stdout",
     "output_type": "stream",
     "text": [
      "Epoch 2/1000: Val Loss: 1.6805, Val Acc: 0.3430, Val F1: 0.2689\n",
      "Current Learning Rate: 3e-05\n",
      "Best model saved at ../Experiment Augment Result/model6_augment_best.pt with accuracy: 0.3430\n"
     ]
    },
    {
     "name": "stderr",
     "output_type": "stream",
     "text": [
      "Epoch 3/1000: 100%|██████████| 422/422 [04:03<00:00,  1.73it/s, Loss=1.6571, Acc=0.3438]\n"
     ]
    },
    {
     "name": "stdout",
     "output_type": "stream",
     "text": [
      "Epoch 3/1000: Train Loss: 1.6571, Train Acc: 0.3438\n"
     ]
    },
    {
     "name": "stderr",
     "output_type": "stream",
     "text": [
      "Validation: 100%|██████████| 47/47 [00:07<00:00,  6.31it/s, Loss=1.6764, Acc=0.3533]\n"
     ]
    },
    {
     "name": "stdout",
     "output_type": "stream",
     "text": [
      "Epoch 3/1000: Val Loss: 1.6764, Val Acc: 0.3533, Val F1: 0.2752\n",
      "Current Learning Rate: 3e-05\n",
      "Best model saved at ../Experiment Augment Result/model6_augment_best.pt with accuracy: 0.3533\n"
     ]
    },
    {
     "name": "stderr",
     "output_type": "stream",
     "text": [
      "Epoch 4/1000: 100%|██████████| 422/422 [04:02<00:00,  1.74it/s, Loss=1.6336, Acc=0.3525]\n"
     ]
    },
    {
     "name": "stdout",
     "output_type": "stream",
     "text": [
      "Epoch 4/1000: Train Loss: 1.6336, Train Acc: 0.3525\n"
     ]
    },
    {
     "name": "stderr",
     "output_type": "stream",
     "text": [
      "Validation: 100%|██████████| 47/47 [00:07<00:00,  6.30it/s, Loss=1.6100, Acc=0.3693]\n"
     ]
    },
    {
     "name": "stdout",
     "output_type": "stream",
     "text": [
      "Epoch 4/1000: Val Loss: 1.6100, Val Acc: 0.3693, Val F1: 0.3371\n",
      "Current Learning Rate: 3e-05\n",
      "Best model saved at ../Experiment Augment Result/model6_augment_best.pt with accuracy: 0.3693\n"
     ]
    },
    {
     "name": "stderr",
     "output_type": "stream",
     "text": [
      "Epoch 5/1000: 100%|██████████| 422/422 [04:04<00:00,  1.72it/s, Loss=1.6148, Acc=0.3650]\n"
     ]
    },
    {
     "name": "stdout",
     "output_type": "stream",
     "text": [
      "Epoch 5/1000: Train Loss: 1.6148, Train Acc: 0.3650\n"
     ]
    },
    {
     "name": "stderr",
     "output_type": "stream",
     "text": [
      "Validation: 100%|██████████| 47/47 [00:07<00:00,  6.30it/s, Loss=1.5739, Acc=0.3863]\n"
     ]
    },
    {
     "name": "stdout",
     "output_type": "stream",
     "text": [
      "Epoch 5/1000: Val Loss: 1.5739, Val Acc: 0.3863, Val F1: 0.3445\n",
      "Current Learning Rate: 3e-05\n",
      "Best model saved at ../Experiment Augment Result/model6_augment_best.pt with accuracy: 0.3863\n"
     ]
    },
    {
     "name": "stderr",
     "output_type": "stream",
     "text": [
      "Epoch 6/1000: 100%|██████████| 422/422 [04:02<00:00,  1.74it/s, Loss=1.6036, Acc=0.3682]\n"
     ]
    },
    {
     "name": "stdout",
     "output_type": "stream",
     "text": [
      "Epoch 6/1000: Train Loss: 1.6036, Train Acc: 0.3682\n"
     ]
    },
    {
     "name": "stderr",
     "output_type": "stream",
     "text": [
      "Validation: 100%|██████████| 47/47 [00:07<00:00,  6.27it/s, Loss=1.5688, Acc=0.3890]\n"
     ]
    },
    {
     "name": "stdout",
     "output_type": "stream",
     "text": [
      "Epoch 6/1000: Val Loss: 1.5688, Val Acc: 0.3890, Val F1: 0.3446\n",
      "Current Learning Rate: 3e-05\n",
      "Best model saved at ../Experiment Augment Result/model6_augment_best.pt with accuracy: 0.3890\n"
     ]
    },
    {
     "name": "stderr",
     "output_type": "stream",
     "text": [
      "Epoch 7/1000: 100%|██████████| 422/422 [04:01<00:00,  1.74it/s, Loss=1.5863, Acc=0.3779]\n"
     ]
    },
    {
     "name": "stdout",
     "output_type": "stream",
     "text": [
      "Epoch 7/1000: Train Loss: 1.5863, Train Acc: 0.3779\n"
     ]
    },
    {
     "name": "stderr",
     "output_type": "stream",
     "text": [
      "Validation: 100%|██████████| 47/47 [00:07<00:00,  6.32it/s, Loss=1.5773, Acc=0.3820]\n"
     ]
    },
    {
     "name": "stdout",
     "output_type": "stream",
     "text": [
      "Epoch 7/1000: Val Loss: 1.5773, Val Acc: 0.3820, Val F1: 0.3161\n",
      "Current Learning Rate: 3e-05\n"
     ]
    },
    {
     "name": "stderr",
     "output_type": "stream",
     "text": [
      "Epoch 8/1000: 100%|██████████| 422/422 [04:03<00:00,  1.74it/s, Loss=1.5776, Acc=0.3806]\n"
     ]
    },
    {
     "name": "stdout",
     "output_type": "stream",
     "text": [
      "Epoch 8/1000: Train Loss: 1.5776, Train Acc: 0.3806\n"
     ]
    },
    {
     "name": "stderr",
     "output_type": "stream",
     "text": [
      "Validation: 100%|██████████| 47/47 [00:07<00:00,  6.30it/s, Loss=1.5488, Acc=0.3937]\n"
     ]
    },
    {
     "name": "stdout",
     "output_type": "stream",
     "text": [
      "Epoch 8/1000: Val Loss: 1.5488, Val Acc: 0.3937, Val F1: 0.3498\n",
      "Current Learning Rate: 3e-05\n",
      "Best model saved at ../Experiment Augment Result/model6_augment_best.pt with accuracy: 0.3937\n"
     ]
    },
    {
     "name": "stderr",
     "output_type": "stream",
     "text": [
      "Epoch 9/1000: 100%|██████████| 422/422 [04:04<00:00,  1.73it/s, Loss=1.5662, Acc=0.3831]\n"
     ]
    },
    {
     "name": "stdout",
     "output_type": "stream",
     "text": [
      "Epoch 9/1000: Train Loss: 1.5662, Train Acc: 0.3831\n"
     ]
    },
    {
     "name": "stderr",
     "output_type": "stream",
     "text": [
      "Validation: 100%|██████████| 47/47 [00:07<00:00,  6.21it/s, Loss=1.5563, Acc=0.3930]\n"
     ]
    },
    {
     "name": "stdout",
     "output_type": "stream",
     "text": [
      "Epoch 9/1000: Val Loss: 1.5563, Val Acc: 0.3930, Val F1: 0.3299\n",
      "Current Learning Rate: 3e-05\n"
     ]
    },
    {
     "name": "stderr",
     "output_type": "stream",
     "text": [
      "Epoch 10/1000: 100%|██████████| 422/422 [04:03<00:00,  1.74it/s, Loss=1.5514, Acc=0.3933]\n"
     ]
    },
    {
     "name": "stdout",
     "output_type": "stream",
     "text": [
      "Epoch 10/1000: Train Loss: 1.5514, Train Acc: 0.3933\n"
     ]
    },
    {
     "name": "stderr",
     "output_type": "stream",
     "text": [
      "Validation: 100%|██████████| 47/47 [00:07<00:00,  6.30it/s, Loss=1.5194, Acc=0.4040]\n"
     ]
    },
    {
     "name": "stdout",
     "output_type": "stream",
     "text": [
      "Epoch 10/1000: Val Loss: 1.5194, Val Acc: 0.4040, Val F1: 0.3657\n",
      "Current Learning Rate: 3e-05\n",
      "Best model saved at ../Experiment Augment Result/model6_augment_best.pt with accuracy: 0.4040\n"
     ]
    },
    {
     "name": "stderr",
     "output_type": "stream",
     "text": [
      "Epoch 11/1000: 100%|██████████| 422/422 [04:03<00:00,  1.73it/s, Loss=1.5344, Acc=0.3988]\n"
     ]
    },
    {
     "name": "stdout",
     "output_type": "stream",
     "text": [
      "Epoch 11/1000: Train Loss: 1.5344, Train Acc: 0.3988\n"
     ]
    },
    {
     "name": "stderr",
     "output_type": "stream",
     "text": [
      "Validation: 100%|██████████| 47/47 [00:07<00:00,  6.33it/s, Loss=1.5171, Acc=0.4107]\n"
     ]
    },
    {
     "name": "stdout",
     "output_type": "stream",
     "text": [
      "Epoch 11/1000: Val Loss: 1.5171, Val Acc: 0.4107, Val F1: 0.3898\n",
      "Current Learning Rate: 3e-05\n",
      "Best model saved at ../Experiment Augment Result/model6_augment_best.pt with accuracy: 0.4107\n"
     ]
    },
    {
     "name": "stderr",
     "output_type": "stream",
     "text": [
      "Epoch 12/1000: 100%|██████████| 422/422 [04:01<00:00,  1.75it/s, Loss=1.5266, Acc=0.4044]\n"
     ]
    },
    {
     "name": "stdout",
     "output_type": "stream",
     "text": [
      "Epoch 12/1000: Train Loss: 1.5266, Train Acc: 0.4044\n"
     ]
    },
    {
     "name": "stderr",
     "output_type": "stream",
     "text": [
      "Validation: 100%|██████████| 47/47 [00:07<00:00,  6.38it/s, Loss=1.4988, Acc=0.4090]\n"
     ]
    },
    {
     "name": "stdout",
     "output_type": "stream",
     "text": [
      "Epoch 12/1000: Val Loss: 1.4988, Val Acc: 0.4090, Val F1: 0.3696\n",
      "Current Learning Rate: 3e-05\n"
     ]
    },
    {
     "name": "stderr",
     "output_type": "stream",
     "text": [
      "Epoch 13/1000: 100%|██████████| 422/422 [04:02<00:00,  1.74it/s, Loss=1.5111, Acc=0.4080]\n"
     ]
    },
    {
     "name": "stdout",
     "output_type": "stream",
     "text": [
      "Epoch 13/1000: Train Loss: 1.5111, Train Acc: 0.4080\n"
     ]
    },
    {
     "name": "stderr",
     "output_type": "stream",
     "text": [
      "Validation: 100%|██████████| 47/47 [00:07<00:00,  6.31it/s, Loss=1.4763, Acc=0.4237]\n"
     ]
    },
    {
     "name": "stdout",
     "output_type": "stream",
     "text": [
      "Epoch 13/1000: Val Loss: 1.4763, Val Acc: 0.4237, Val F1: 0.3946\n",
      "Current Learning Rate: 3e-05\n",
      "Best model saved at ../Experiment Augment Result/model6_augment_best.pt with accuracy: 0.4237\n"
     ]
    },
    {
     "name": "stderr",
     "output_type": "stream",
     "text": [
      "Epoch 14/1000: 100%|██████████| 422/422 [04:01<00:00,  1.74it/s, Loss=1.4977, Acc=0.4164]\n"
     ]
    },
    {
     "name": "stdout",
     "output_type": "stream",
     "text": [
      "Epoch 14/1000: Train Loss: 1.4977, Train Acc: 0.4164\n"
     ]
    },
    {
     "name": "stderr",
     "output_type": "stream",
     "text": [
      "Validation: 100%|██████████| 47/47 [00:07<00:00,  6.31it/s, Loss=1.4710, Acc=0.4237]\n"
     ]
    },
    {
     "name": "stdout",
     "output_type": "stream",
     "text": [
      "Epoch 14/1000: Val Loss: 1.4710, Val Acc: 0.4237, Val F1: 0.3978\n",
      "Current Learning Rate: 3e-05\n"
     ]
    },
    {
     "name": "stderr",
     "output_type": "stream",
     "text": [
      "Epoch 15/1000: 100%|██████████| 422/422 [04:02<00:00,  1.74it/s, Loss=1.4838, Acc=0.4195]\n"
     ]
    },
    {
     "name": "stdout",
     "output_type": "stream",
     "text": [
      "Epoch 15/1000: Train Loss: 1.4838, Train Acc: 0.4195\n"
     ]
    },
    {
     "name": "stderr",
     "output_type": "stream",
     "text": [
      "Validation: 100%|██████████| 47/47 [00:07<00:00,  6.32it/s, Loss=1.4561, Acc=0.4297]\n"
     ]
    },
    {
     "name": "stdout",
     "output_type": "stream",
     "text": [
      "Epoch 15/1000: Val Loss: 1.4561, Val Acc: 0.4297, Val F1: 0.3967\n",
      "Current Learning Rate: 3e-05\n",
      "Best model saved at ../Experiment Augment Result/model6_augment_best.pt with accuracy: 0.4297\n"
     ]
    },
    {
     "name": "stderr",
     "output_type": "stream",
     "text": [
      "Epoch 16/1000: 100%|██████████| 422/422 [04:01<00:00,  1.75it/s, Loss=1.4702, Acc=0.4272]\n"
     ]
    },
    {
     "name": "stdout",
     "output_type": "stream",
     "text": [
      "Epoch 16/1000: Train Loss: 1.4702, Train Acc: 0.4272\n"
     ]
    },
    {
     "name": "stderr",
     "output_type": "stream",
     "text": [
      "Validation: 100%|██████████| 47/47 [00:07<00:00,  6.30it/s, Loss=1.4620, Acc=0.4273]\n"
     ]
    },
    {
     "name": "stdout",
     "output_type": "stream",
     "text": [
      "Epoch 16/1000: Val Loss: 1.4620, Val Acc: 0.4273, Val F1: 0.3785\n",
      "Current Learning Rate: 3e-05\n"
     ]
    },
    {
     "name": "stderr",
     "output_type": "stream",
     "text": [
      "Epoch 17/1000: 100%|██████████| 422/422 [04:03<00:00,  1.74it/s, Loss=1.4588, Acc=0.4340]\n"
     ]
    },
    {
     "name": "stdout",
     "output_type": "stream",
     "text": [
      "Epoch 17/1000: Train Loss: 1.4588, Train Acc: 0.4340\n"
     ]
    },
    {
     "name": "stderr",
     "output_type": "stream",
     "text": [
      "Validation: 100%|██████████| 47/47 [00:07<00:00,  6.33it/s, Loss=1.4468, Acc=0.4353]\n"
     ]
    },
    {
     "name": "stdout",
     "output_type": "stream",
     "text": [
      "Epoch 17/1000: Val Loss: 1.4468, Val Acc: 0.4353, Val F1: 0.4337\n",
      "Current Learning Rate: 3e-05\n",
      "Best model saved at ../Experiment Augment Result/model6_augment_best.pt with accuracy: 0.4353\n"
     ]
    },
    {
     "name": "stderr",
     "output_type": "stream",
     "text": [
      "Epoch 18/1000: 100%|██████████| 422/422 [04:00<00:00,  1.75it/s, Loss=1.4467, Acc=0.4365]\n"
     ]
    },
    {
     "name": "stdout",
     "output_type": "stream",
     "text": [
      "Epoch 18/1000: Train Loss: 1.4467, Train Acc: 0.4365\n"
     ]
    },
    {
     "name": "stderr",
     "output_type": "stream",
     "text": [
      "Validation: 100%|██████████| 47/47 [00:07<00:00,  6.39it/s, Loss=1.4575, Acc=0.4250]\n"
     ]
    },
    {
     "name": "stdout",
     "output_type": "stream",
     "text": [
      "Epoch 18/1000: Val Loss: 1.4575, Val Acc: 0.4250, Val F1: 0.4109\n",
      "Current Learning Rate: 3e-05\n"
     ]
    },
    {
     "name": "stderr",
     "output_type": "stream",
     "text": [
      "Epoch 19/1000: 100%|██████████| 422/422 [04:00<00:00,  1.75it/s, Loss=1.4284, Acc=0.4453]\n"
     ]
    },
    {
     "name": "stdout",
     "output_type": "stream",
     "text": [
      "Epoch 19/1000: Train Loss: 1.4284, Train Acc: 0.4453\n"
     ]
    },
    {
     "name": "stderr",
     "output_type": "stream",
     "text": [
      "Validation: 100%|██████████| 47/47 [00:07<00:00,  6.39it/s, Loss=1.4190, Acc=0.4487]\n"
     ]
    },
    {
     "name": "stdout",
     "output_type": "stream",
     "text": [
      "Epoch 19/1000: Val Loss: 1.4190, Val Acc: 0.4487, Val F1: 0.4135\n",
      "Current Learning Rate: 3e-05\n",
      "Best model saved at ../Experiment Augment Result/model6_augment_best.pt with accuracy: 0.4487\n"
     ]
    },
    {
     "name": "stderr",
     "output_type": "stream",
     "text": [
      "Epoch 20/1000: 100%|██████████| 422/422 [04:02<00:00,  1.74it/s, Loss=1.4191, Acc=0.4470]\n"
     ]
    },
    {
     "name": "stdout",
     "output_type": "stream",
     "text": [
      "Epoch 20/1000: Train Loss: 1.4191, Train Acc: 0.4470\n"
     ]
    },
    {
     "name": "stderr",
     "output_type": "stream",
     "text": [
      "Validation: 100%|██████████| 47/47 [00:07<00:00,  6.36it/s, Loss=1.4178, Acc=0.4487]\n"
     ]
    },
    {
     "name": "stdout",
     "output_type": "stream",
     "text": [
      "Epoch 20/1000: Val Loss: 1.4178, Val Acc: 0.4487, Val F1: 0.4256\n",
      "Current Learning Rate: 3e-05\n"
     ]
    },
    {
     "name": "stderr",
     "output_type": "stream",
     "text": [
      "Epoch 21/1000: 100%|██████████| 422/422 [04:01<00:00,  1.74it/s, Loss=1.4127, Acc=0.4481]\n"
     ]
    },
    {
     "name": "stdout",
     "output_type": "stream",
     "text": [
      "Epoch 21/1000: Train Loss: 1.4127, Train Acc: 0.4481\n"
     ]
    },
    {
     "name": "stderr",
     "output_type": "stream",
     "text": [
      "Validation: 100%|██████████| 47/47 [00:07<00:00,  6.37it/s, Loss=1.4059, Acc=0.4470]\n"
     ]
    },
    {
     "name": "stdout",
     "output_type": "stream",
     "text": [
      "Epoch 21/1000: Val Loss: 1.4059, Val Acc: 0.4470, Val F1: 0.4205\n",
      "Current Learning Rate: 3e-05\n"
     ]
    },
    {
     "name": "stderr",
     "output_type": "stream",
     "text": [
      "Epoch 22/1000: 100%|██████████| 422/422 [04:01<00:00,  1.75it/s, Loss=1.3984, Acc=0.4548]\n"
     ]
    },
    {
     "name": "stdout",
     "output_type": "stream",
     "text": [
      "Epoch 22/1000: Train Loss: 1.3984, Train Acc: 0.4548\n"
     ]
    },
    {
     "name": "stderr",
     "output_type": "stream",
     "text": [
      "Validation: 100%|██████████| 47/47 [00:07<00:00,  6.34it/s, Loss=1.3843, Acc=0.4530]\n"
     ]
    },
    {
     "name": "stdout",
     "output_type": "stream",
     "text": [
      "Epoch 22/1000: Val Loss: 1.3843, Val Acc: 0.4530, Val F1: 0.4283\n",
      "Current Learning Rate: 3e-05\n",
      "Best model saved at ../Experiment Augment Result/model6_augment_best.pt with accuracy: 0.4530\n"
     ]
    },
    {
     "name": "stderr",
     "output_type": "stream",
     "text": [
      "Epoch 23/1000: 100%|██████████| 422/422 [04:01<00:00,  1.75it/s, Loss=1.3850, Acc=0.4613]\n"
     ]
    },
    {
     "name": "stdout",
     "output_type": "stream",
     "text": [
      "Epoch 23/1000: Train Loss: 1.3850, Train Acc: 0.4613\n"
     ]
    },
    {
     "name": "stderr",
     "output_type": "stream",
     "text": [
      "Validation: 100%|██████████| 47/47 [00:07<00:00,  6.31it/s, Loss=1.3736, Acc=0.4727]\n"
     ]
    },
    {
     "name": "stdout",
     "output_type": "stream",
     "text": [
      "Epoch 23/1000: Val Loss: 1.3736, Val Acc: 0.4727, Val F1: 0.4502\n",
      "Current Learning Rate: 3e-05\n",
      "Best model saved at ../Experiment Augment Result/model6_augment_best.pt with accuracy: 0.4727\n"
     ]
    },
    {
     "name": "stderr",
     "output_type": "stream",
     "text": [
      "Epoch 24/1000: 100%|██████████| 422/422 [04:02<00:00,  1.74it/s, Loss=1.3681, Acc=0.4674]\n"
     ]
    },
    {
     "name": "stdout",
     "output_type": "stream",
     "text": [
      "Epoch 24/1000: Train Loss: 1.3681, Train Acc: 0.4674\n"
     ]
    },
    {
     "name": "stderr",
     "output_type": "stream",
     "text": [
      "Validation: 100%|██████████| 47/47 [00:07<00:00,  6.36it/s, Loss=1.3706, Acc=0.4753]\n"
     ]
    },
    {
     "name": "stdout",
     "output_type": "stream",
     "text": [
      "Epoch 24/1000: Val Loss: 1.3706, Val Acc: 0.4753, Val F1: 0.4592\n",
      "Current Learning Rate: 3e-05\n",
      "Best model saved at ../Experiment Augment Result/model6_augment_best.pt with accuracy: 0.4753\n"
     ]
    },
    {
     "name": "stderr",
     "output_type": "stream",
     "text": [
      "Epoch 25/1000: 100%|██████████| 422/422 [04:02<00:00,  1.74it/s, Loss=1.3576, Acc=0.4718]\n"
     ]
    },
    {
     "name": "stdout",
     "output_type": "stream",
     "text": [
      "Epoch 25/1000: Train Loss: 1.3576, Train Acc: 0.4718\n"
     ]
    },
    {
     "name": "stderr",
     "output_type": "stream",
     "text": [
      "Validation: 100%|██████████| 47/47 [00:07<00:00,  6.33it/s, Loss=1.3574, Acc=0.4703]\n"
     ]
    },
    {
     "name": "stdout",
     "output_type": "stream",
     "text": [
      "Epoch 25/1000: Val Loss: 1.3574, Val Acc: 0.4703, Val F1: 0.4532\n",
      "Current Learning Rate: 3e-05\n"
     ]
    },
    {
     "name": "stderr",
     "output_type": "stream",
     "text": [
      "Epoch 26/1000: 100%|██████████| 422/422 [04:02<00:00,  1.74it/s, Loss=1.3471, Acc=0.4774]\n"
     ]
    },
    {
     "name": "stdout",
     "output_type": "stream",
     "text": [
      "Epoch 26/1000: Train Loss: 1.3471, Train Acc: 0.4774\n"
     ]
    },
    {
     "name": "stderr",
     "output_type": "stream",
     "text": [
      "Validation: 100%|██████████| 47/47 [00:07<00:00,  6.31it/s, Loss=1.3640, Acc=0.4710]\n"
     ]
    },
    {
     "name": "stdout",
     "output_type": "stream",
     "text": [
      "Epoch 26/1000: Val Loss: 1.3640, Val Acc: 0.4710, Val F1: 0.4643\n",
      "Current Learning Rate: 3e-05\n"
     ]
    },
    {
     "name": "stderr",
     "output_type": "stream",
     "text": [
      "Epoch 27/1000: 100%|██████████| 422/422 [04:02<00:00,  1.74it/s, Loss=1.3298, Acc=0.4855]\n"
     ]
    },
    {
     "name": "stdout",
     "output_type": "stream",
     "text": [
      "Epoch 27/1000: Train Loss: 1.3298, Train Acc: 0.4855\n"
     ]
    },
    {
     "name": "stderr",
     "output_type": "stream",
     "text": [
      "Validation: 100%|██████████| 47/47 [00:07<00:00,  6.30it/s, Loss=1.3639, Acc=0.4687]\n"
     ]
    },
    {
     "name": "stdout",
     "output_type": "stream",
     "text": [
      "Epoch 27/1000: Val Loss: 1.3639, Val Acc: 0.4687, Val F1: 0.4542\n",
      "Current Learning Rate: 3e-05\n"
     ]
    },
    {
     "name": "stderr",
     "output_type": "stream",
     "text": [
      "Epoch 28/1000: 100%|██████████| 422/422 [04:04<00:00,  1.73it/s, Loss=1.3223, Acc=0.4876]\n"
     ]
    },
    {
     "name": "stdout",
     "output_type": "stream",
     "text": [
      "Epoch 28/1000: Train Loss: 1.3223, Train Acc: 0.4876\n"
     ]
    },
    {
     "name": "stderr",
     "output_type": "stream",
     "text": [
      "Validation: 100%|██████████| 47/47 [00:07<00:00,  6.31it/s, Loss=1.3616, Acc=0.4710]\n"
     ]
    },
    {
     "name": "stdout",
     "output_type": "stream",
     "text": [
      "Epoch 28/1000: Val Loss: 1.3616, Val Acc: 0.4710, Val F1: 0.4656\n",
      "Current Learning Rate: 3e-05\n"
     ]
    },
    {
     "name": "stderr",
     "output_type": "stream",
     "text": [
      "Epoch 29/1000: 100%|██████████| 422/422 [04:02<00:00,  1.74it/s, Loss=1.3147, Acc=0.4899]\n"
     ]
    },
    {
     "name": "stdout",
     "output_type": "stream",
     "text": [
      "Epoch 29/1000: Train Loss: 1.3147, Train Acc: 0.4899\n"
     ]
    },
    {
     "name": "stderr",
     "output_type": "stream",
     "text": [
      "Validation: 100%|██████████| 47/47 [00:07<00:00,  6.31it/s, Loss=1.3252, Acc=0.4870]\n"
     ]
    },
    {
     "name": "stdout",
     "output_type": "stream",
     "text": [
      "Epoch 29/1000: Val Loss: 1.3252, Val Acc: 0.4870, Val F1: 0.4658\n",
      "Current Learning Rate: 3e-05\n",
      "Best model saved at ../Experiment Augment Result/model6_augment_best.pt with accuracy: 0.4870\n"
     ]
    },
    {
     "name": "stderr",
     "output_type": "stream",
     "text": [
      "Epoch 30/1000: 100%|██████████| 422/422 [04:03<00:00,  1.73it/s, Loss=1.3048, Acc=0.4976]\n"
     ]
    },
    {
     "name": "stdout",
     "output_type": "stream",
     "text": [
      "Epoch 30/1000: Train Loss: 1.3048, Train Acc: 0.4976\n"
     ]
    },
    {
     "name": "stderr",
     "output_type": "stream",
     "text": [
      "Validation: 100%|██████████| 47/47 [00:07<00:00,  6.30it/s, Loss=1.3190, Acc=0.4810]\n"
     ]
    },
    {
     "name": "stdout",
     "output_type": "stream",
     "text": [
      "Epoch 30/1000: Val Loss: 1.3190, Val Acc: 0.4810, Val F1: 0.4691\n",
      "Current Learning Rate: 3e-05\n"
     ]
    },
    {
     "name": "stderr",
     "output_type": "stream",
     "text": [
      "Epoch 31/1000: 100%|██████████| 422/422 [04:03<00:00,  1.74it/s, Loss=1.2873, Acc=0.5031]\n"
     ]
    },
    {
     "name": "stdout",
     "output_type": "stream",
     "text": [
      "Epoch 31/1000: Train Loss: 1.2873, Train Acc: 0.5031\n"
     ]
    },
    {
     "name": "stderr",
     "output_type": "stream",
     "text": [
      "Validation: 100%|██████████| 47/47 [00:07<00:00,  6.21it/s, Loss=1.3706, Acc=0.4607]\n"
     ]
    },
    {
     "name": "stdout",
     "output_type": "stream",
     "text": [
      "Epoch 31/1000: Val Loss: 1.3706, Val Acc: 0.4607, Val F1: 0.4574\n",
      "Current Learning Rate: 3e-05\n"
     ]
    },
    {
     "name": "stderr",
     "output_type": "stream",
     "text": [
      "Epoch 32/1000: 100%|██████████| 422/422 [04:02<00:00,  1.74it/s, Loss=1.2841, Acc=0.5025]\n"
     ]
    },
    {
     "name": "stdout",
     "output_type": "stream",
     "text": [
      "Epoch 32/1000: Train Loss: 1.2841, Train Acc: 0.5025\n"
     ]
    },
    {
     "name": "stderr",
     "output_type": "stream",
     "text": [
      "Validation: 100%|██████████| 47/47 [00:07<00:00,  6.30it/s, Loss=1.3271, Acc=0.4960]\n"
     ]
    },
    {
     "name": "stdout",
     "output_type": "stream",
     "text": [
      "Epoch 32/1000: Val Loss: 1.3271, Val Acc: 0.4960, Val F1: 0.4787\n",
      "Current Learning Rate: 3e-05\n",
      "Best model saved at ../Experiment Augment Result/model6_augment_best.pt with accuracy: 0.4960\n"
     ]
    },
    {
     "name": "stderr",
     "output_type": "stream",
     "text": [
      "Epoch 33/1000: 100%|██████████| 422/422 [04:04<00:00,  1.73it/s, Loss=1.2657, Acc=0.5113]\n"
     ]
    },
    {
     "name": "stdout",
     "output_type": "stream",
     "text": [
      "Epoch 33/1000: Train Loss: 1.2657, Train Acc: 0.5113\n"
     ]
    },
    {
     "name": "stderr",
     "output_type": "stream",
     "text": [
      "Validation: 100%|██████████| 47/47 [00:07<00:00,  6.38it/s, Loss=1.3238, Acc=0.4920]\n"
     ]
    },
    {
     "name": "stdout",
     "output_type": "stream",
     "text": [
      "Epoch 33/1000: Val Loss: 1.3238, Val Acc: 0.4920, Val F1: 0.4847\n",
      "Current Learning Rate: 3e-05\n"
     ]
    },
    {
     "name": "stderr",
     "output_type": "stream",
     "text": [
      "Epoch 34/1000: 100%|██████████| 422/422 [04:01<00:00,  1.75it/s, Loss=1.2603, Acc=0.5135]\n"
     ]
    },
    {
     "name": "stdout",
     "output_type": "stream",
     "text": [
      "Epoch 34/1000: Train Loss: 1.2603, Train Acc: 0.5135\n"
     ]
    },
    {
     "name": "stderr",
     "output_type": "stream",
     "text": [
      "Validation: 100%|██████████| 47/47 [00:07<00:00,  6.38it/s, Loss=1.3052, Acc=0.4983]\n"
     ]
    },
    {
     "name": "stdout",
     "output_type": "stream",
     "text": [
      "Epoch 34/1000: Val Loss: 1.3052, Val Acc: 0.4983, Val F1: 0.4782\n",
      "Current Learning Rate: 3e-05\n",
      "Best model saved at ../Experiment Augment Result/model6_augment_best.pt with accuracy: 0.4983\n"
     ]
    },
    {
     "name": "stderr",
     "output_type": "stream",
     "text": [
      "Epoch 35/1000: 100%|██████████| 422/422 [04:02<00:00,  1.74it/s, Loss=1.2471, Acc=0.5176]\n"
     ]
    },
    {
     "name": "stdout",
     "output_type": "stream",
     "text": [
      "Epoch 35/1000: Train Loss: 1.2471, Train Acc: 0.5176\n"
     ]
    },
    {
     "name": "stderr",
     "output_type": "stream",
     "text": [
      "Validation: 100%|██████████| 47/47 [00:07<00:00,  6.31it/s, Loss=1.3128, Acc=0.4917]\n"
     ]
    },
    {
     "name": "stdout",
     "output_type": "stream",
     "text": [
      "Epoch 35/1000: Val Loss: 1.3128, Val Acc: 0.4917, Val F1: 0.4944\n",
      "Current Learning Rate: 3e-05\n"
     ]
    },
    {
     "name": "stderr",
     "output_type": "stream",
     "text": [
      "Epoch 36/1000: 100%|██████████| 422/422 [04:02<00:00,  1.74it/s, Loss=1.2343, Acc=0.5218]\n"
     ]
    },
    {
     "name": "stdout",
     "output_type": "stream",
     "text": [
      "Epoch 36/1000: Train Loss: 1.2343, Train Acc: 0.5218\n"
     ]
    },
    {
     "name": "stderr",
     "output_type": "stream",
     "text": [
      "Validation: 100%|██████████| 47/47 [00:07<00:00,  6.36it/s, Loss=1.2991, Acc=0.4970]\n"
     ]
    },
    {
     "name": "stdout",
     "output_type": "stream",
     "text": [
      "Epoch 36/1000: Val Loss: 1.2991, Val Acc: 0.4970, Val F1: 0.4945\n",
      "Current Learning Rate: 3e-05\n"
     ]
    },
    {
     "name": "stderr",
     "output_type": "stream",
     "text": [
      "Epoch 37/1000: 100%|██████████| 422/422 [04:01<00:00,  1.74it/s, Loss=1.2261, Acc=0.5277]\n"
     ]
    },
    {
     "name": "stdout",
     "output_type": "stream",
     "text": [
      "Epoch 37/1000: Train Loss: 1.2261, Train Acc: 0.5277\n"
     ]
    },
    {
     "name": "stderr",
     "output_type": "stream",
     "text": [
      "Validation: 100%|██████████| 47/47 [00:07<00:00,  6.30it/s, Loss=1.2801, Acc=0.5127]\n"
     ]
    },
    {
     "name": "stdout",
     "output_type": "stream",
     "text": [
      "Epoch 37/1000: Val Loss: 1.2801, Val Acc: 0.5127, Val F1: 0.4949\n",
      "Current Learning Rate: 3e-05\n",
      "Best model saved at ../Experiment Augment Result/model6_augment_best.pt with accuracy: 0.5127\n"
     ]
    },
    {
     "name": "stderr",
     "output_type": "stream",
     "text": [
      "Epoch 38/1000: 100%|██████████| 422/422 [04:05<00:00,  1.72it/s, Loss=1.2148, Acc=0.5343]\n"
     ]
    },
    {
     "name": "stdout",
     "output_type": "stream",
     "text": [
      "Epoch 38/1000: Train Loss: 1.2148, Train Acc: 0.5343\n"
     ]
    },
    {
     "name": "stderr",
     "output_type": "stream",
     "text": [
      "Validation: 100%|██████████| 47/47 [00:07<00:00,  6.28it/s, Loss=1.2908, Acc=0.5060]\n"
     ]
    },
    {
     "name": "stdout",
     "output_type": "stream",
     "text": [
      "Epoch 38/1000: Val Loss: 1.2908, Val Acc: 0.5060, Val F1: 0.4960\n",
      "Current Learning Rate: 3e-05\n"
     ]
    },
    {
     "name": "stderr",
     "output_type": "stream",
     "text": [
      "Epoch 39/1000: 100%|██████████| 422/422 [04:02<00:00,  1.74it/s, Loss=1.2041, Acc=0.5383]\n"
     ]
    },
    {
     "name": "stdout",
     "output_type": "stream",
     "text": [
      "Epoch 39/1000: Train Loss: 1.2041, Train Acc: 0.5383\n"
     ]
    },
    {
     "name": "stderr",
     "output_type": "stream",
     "text": [
      "Validation: 100%|██████████| 47/47 [00:07<00:00,  6.28it/s, Loss=1.2751, Acc=0.5083]\n"
     ]
    },
    {
     "name": "stdout",
     "output_type": "stream",
     "text": [
      "Epoch 39/1000: Val Loss: 1.2751, Val Acc: 0.5083, Val F1: 0.4888\n",
      "Current Learning Rate: 3e-05\n"
     ]
    },
    {
     "name": "stderr",
     "output_type": "stream",
     "text": [
      "Epoch 40/1000: 100%|██████████| 422/422 [04:03<00:00,  1.73it/s, Loss=1.1970, Acc=0.5424]\n"
     ]
    },
    {
     "name": "stdout",
     "output_type": "stream",
     "text": [
      "Epoch 40/1000: Train Loss: 1.1970, Train Acc: 0.5424\n"
     ]
    },
    {
     "name": "stderr",
     "output_type": "stream",
     "text": [
      "Validation: 100%|██████████| 47/47 [00:07<00:00,  6.26it/s, Loss=1.2776, Acc=0.5067]\n"
     ]
    },
    {
     "name": "stdout",
     "output_type": "stream",
     "text": [
      "Epoch 40/1000: Val Loss: 1.2776, Val Acc: 0.5067, Val F1: 0.4922\n",
      "Current Learning Rate: 3e-05\n"
     ]
    },
    {
     "name": "stderr",
     "output_type": "stream",
     "text": [
      "Epoch 41/1000: 100%|██████████| 422/422 [04:01<00:00,  1.74it/s, Loss=1.1866, Acc=0.5463]\n"
     ]
    },
    {
     "name": "stdout",
     "output_type": "stream",
     "text": [
      "Epoch 41/1000: Train Loss: 1.1866, Train Acc: 0.5463\n"
     ]
    },
    {
     "name": "stderr",
     "output_type": "stream",
     "text": [
      "Validation: 100%|██████████| 47/47 [00:07<00:00,  6.31it/s, Loss=1.2724, Acc=0.5093]\n"
     ]
    },
    {
     "name": "stdout",
     "output_type": "stream",
     "text": [
      "Epoch 41/1000: Val Loss: 1.2724, Val Acc: 0.5093, Val F1: 0.5103\n",
      "Current Learning Rate: 3e-05\n"
     ]
    },
    {
     "name": "stderr",
     "output_type": "stream",
     "text": [
      "Epoch 42/1000: 100%|██████████| 422/422 [04:04<00:00,  1.73it/s, Loss=1.1712, Acc=0.5518]\n"
     ]
    },
    {
     "name": "stdout",
     "output_type": "stream",
     "text": [
      "Epoch 42/1000: Train Loss: 1.1712, Train Acc: 0.5518\n"
     ]
    },
    {
     "name": "stderr",
     "output_type": "stream",
     "text": [
      "Validation: 100%|██████████| 47/47 [00:07<00:00,  6.32it/s, Loss=1.2549, Acc=0.5173]\n"
     ]
    },
    {
     "name": "stdout",
     "output_type": "stream",
     "text": [
      "Epoch 42/1000: Val Loss: 1.2549, Val Acc: 0.5173, Val F1: 0.5085\n",
      "Current Learning Rate: 3e-05\n",
      "Best model saved at ../Experiment Augment Result/model6_augment_best.pt with accuracy: 0.5173\n"
     ]
    },
    {
     "name": "stderr",
     "output_type": "stream",
     "text": [
      "Epoch 43/1000: 100%|██████████| 422/422 [04:04<00:00,  1.73it/s, Loss=1.1630, Acc=0.5488]\n"
     ]
    },
    {
     "name": "stdout",
     "output_type": "stream",
     "text": [
      "Epoch 43/1000: Train Loss: 1.1630, Train Acc: 0.5488\n"
     ]
    },
    {
     "name": "stderr",
     "output_type": "stream",
     "text": [
      "Validation: 100%|██████████| 47/47 [00:07<00:00,  6.31it/s, Loss=1.2653, Acc=0.5223]\n"
     ]
    },
    {
     "name": "stdout",
     "output_type": "stream",
     "text": [
      "Epoch 43/1000: Val Loss: 1.2653, Val Acc: 0.5223, Val F1: 0.5055\n",
      "Current Learning Rate: 3e-05\n",
      "Best model saved at ../Experiment Augment Result/model6_augment_best.pt with accuracy: 0.5223\n"
     ]
    },
    {
     "name": "stderr",
     "output_type": "stream",
     "text": [
      "Epoch 44/1000: 100%|██████████| 422/422 [04:02<00:00,  1.74it/s, Loss=1.1513, Acc=0.5553]\n"
     ]
    },
    {
     "name": "stdout",
     "output_type": "stream",
     "text": [
      "Epoch 44/1000: Train Loss: 1.1513, Train Acc: 0.5553\n"
     ]
    },
    {
     "name": "stderr",
     "output_type": "stream",
     "text": [
      "Validation: 100%|██████████| 47/47 [00:07<00:00,  6.30it/s, Loss=1.2857, Acc=0.5093]\n"
     ]
    },
    {
     "name": "stdout",
     "output_type": "stream",
     "text": [
      "Epoch 44/1000: Val Loss: 1.2857, Val Acc: 0.5093, Val F1: 0.5067\n",
      "Current Learning Rate: 3e-05\n"
     ]
    },
    {
     "name": "stderr",
     "output_type": "stream",
     "text": [
      "Epoch 45/1000: 100%|██████████| 422/422 [04:02<00:00,  1.74it/s, Loss=1.1471, Acc=0.5589]\n"
     ]
    },
    {
     "name": "stdout",
     "output_type": "stream",
     "text": [
      "Epoch 45/1000: Train Loss: 1.1471, Train Acc: 0.5589\n"
     ]
    },
    {
     "name": "stderr",
     "output_type": "stream",
     "text": [
      "Validation: 100%|██████████| 47/47 [00:07<00:00,  6.31it/s, Loss=1.2738, Acc=0.5090]\n"
     ]
    },
    {
     "name": "stdout",
     "output_type": "stream",
     "text": [
      "Epoch 45/1000: Val Loss: 1.2738, Val Acc: 0.5090, Val F1: 0.4959\n",
      "Current Learning Rate: 3e-05\n"
     ]
    },
    {
     "name": "stderr",
     "output_type": "stream",
     "text": [
      "Epoch 46/1000: 100%|██████████| 422/422 [04:01<00:00,  1.75it/s, Loss=1.1307, Acc=0.5679]\n"
     ]
    },
    {
     "name": "stdout",
     "output_type": "stream",
     "text": [
      "Epoch 46/1000: Train Loss: 1.1307, Train Acc: 0.5679\n"
     ]
    },
    {
     "name": "stderr",
     "output_type": "stream",
     "text": [
      "Validation: 100%|██████████| 47/47 [00:07<00:00,  6.29it/s, Loss=1.2660, Acc=0.5157]\n"
     ]
    },
    {
     "name": "stdout",
     "output_type": "stream",
     "text": [
      "Epoch 46/1000: Val Loss: 1.2660, Val Acc: 0.5157, Val F1: 0.5085\n",
      "Current Learning Rate: 3e-05\n"
     ]
    },
    {
     "name": "stderr",
     "output_type": "stream",
     "text": [
      "Epoch 47/1000: 100%|██████████| 422/422 [04:04<00:00,  1.73it/s, Loss=1.1161, Acc=0.5701]\n"
     ]
    },
    {
     "name": "stdout",
     "output_type": "stream",
     "text": [
      "Epoch 47/1000: Train Loss: 1.1161, Train Acc: 0.5701\n"
     ]
    },
    {
     "name": "stderr",
     "output_type": "stream",
     "text": [
      "Validation: 100%|██████████| 47/47 [00:07<00:00,  6.31it/s, Loss=1.2420, Acc=0.5310]\n"
     ]
    },
    {
     "name": "stdout",
     "output_type": "stream",
     "text": [
      "Epoch 47/1000: Val Loss: 1.2420, Val Acc: 0.5310, Val F1: 0.5280\n",
      "Current Learning Rate: 3e-05\n",
      "Best model saved at ../Experiment Augment Result/model6_augment_best.pt with accuracy: 0.5310\n"
     ]
    },
    {
     "name": "stderr",
     "output_type": "stream",
     "text": [
      "Epoch 48/1000: 100%|██████████| 422/422 [04:01<00:00,  1.75it/s, Loss=1.1072, Acc=0.5775]\n"
     ]
    },
    {
     "name": "stdout",
     "output_type": "stream",
     "text": [
      "Epoch 48/1000: Train Loss: 1.1072, Train Acc: 0.5775\n"
     ]
    },
    {
     "name": "stderr",
     "output_type": "stream",
     "text": [
      "Validation: 100%|██████████| 47/47 [00:07<00:00,  6.31it/s, Loss=1.2384, Acc=0.5257]\n"
     ]
    },
    {
     "name": "stdout",
     "output_type": "stream",
     "text": [
      "Epoch 48/1000: Val Loss: 1.2384, Val Acc: 0.5257, Val F1: 0.5139\n",
      "Current Learning Rate: 3e-05\n"
     ]
    },
    {
     "name": "stderr",
     "output_type": "stream",
     "text": [
      "Epoch 49/1000: 100%|██████████| 422/422 [04:02<00:00,  1.74it/s, Loss=1.0916, Acc=0.5820]\n"
     ]
    },
    {
     "name": "stdout",
     "output_type": "stream",
     "text": [
      "Epoch 49/1000: Train Loss: 1.0916, Train Acc: 0.5820\n"
     ]
    },
    {
     "name": "stderr",
     "output_type": "stream",
     "text": [
      "Validation: 100%|██████████| 47/47 [00:07<00:00,  6.30it/s, Loss=1.2449, Acc=0.5300]\n"
     ]
    },
    {
     "name": "stdout",
     "output_type": "stream",
     "text": [
      "Epoch 49/1000: Val Loss: 1.2449, Val Acc: 0.5300, Val F1: 0.5213\n",
      "Current Learning Rate: 3e-05\n"
     ]
    },
    {
     "name": "stderr",
     "output_type": "stream",
     "text": [
      "Epoch 50/1000: 100%|██████████| 422/422 [04:02<00:00,  1.74it/s, Loss=1.0876, Acc=0.5812]\n"
     ]
    },
    {
     "name": "stdout",
     "output_type": "stream",
     "text": [
      "Epoch 50/1000: Train Loss: 1.0876, Train Acc: 0.5812\n"
     ]
    },
    {
     "name": "stderr",
     "output_type": "stream",
     "text": [
      "Validation: 100%|██████████| 47/47 [00:07<00:00,  6.30it/s, Loss=1.2333, Acc=0.5310]\n"
     ]
    },
    {
     "name": "stdout",
     "output_type": "stream",
     "text": [
      "Epoch 50/1000: Val Loss: 1.2333, Val Acc: 0.5310, Val F1: 0.5260\n",
      "Current Learning Rate: 3e-05\n"
     ]
    },
    {
     "name": "stderr",
     "output_type": "stream",
     "text": [
      "Epoch 51/1000: 100%|██████████| 422/422 [04:06<00:00,  1.71it/s, Loss=1.0830, Acc=0.5865]\n"
     ]
    },
    {
     "name": "stdout",
     "output_type": "stream",
     "text": [
      "Epoch 51/1000: Train Loss: 1.0830, Train Acc: 0.5865\n"
     ]
    },
    {
     "name": "stderr",
     "output_type": "stream",
     "text": [
      "Validation: 100%|██████████| 47/47 [00:07<00:00,  6.27it/s, Loss=1.2338, Acc=0.5367]\n"
     ]
    },
    {
     "name": "stdout",
     "output_type": "stream",
     "text": [
      "Epoch 51/1000: Val Loss: 1.2338, Val Acc: 0.5367, Val F1: 0.5282\n",
      "Current Learning Rate: 3e-05\n",
      "Best model saved at ../Experiment Augment Result/model6_augment_best.pt with accuracy: 0.5367\n"
     ]
    },
    {
     "name": "stderr",
     "output_type": "stream",
     "text": [
      "Epoch 52/1000: 100%|██████████| 422/422 [04:02<00:00,  1.74it/s, Loss=1.0644, Acc=0.5903]\n"
     ]
    },
    {
     "name": "stdout",
     "output_type": "stream",
     "text": [
      "Epoch 52/1000: Train Loss: 1.0644, Train Acc: 0.5903\n"
     ]
    },
    {
     "name": "stderr",
     "output_type": "stream",
     "text": [
      "Validation: 100%|██████████| 47/47 [00:07<00:00,  6.25it/s, Loss=1.2304, Acc=0.5277]\n"
     ]
    },
    {
     "name": "stdout",
     "output_type": "stream",
     "text": [
      "Epoch 52/1000: Val Loss: 1.2304, Val Acc: 0.5277, Val F1: 0.5196\n",
      "Current Learning Rate: 3e-05\n"
     ]
    },
    {
     "name": "stderr",
     "output_type": "stream",
     "text": [
      "Epoch 53/1000: 100%|██████████| 422/422 [04:03<00:00,  1.74it/s, Loss=1.0511, Acc=0.6010]\n"
     ]
    },
    {
     "name": "stdout",
     "output_type": "stream",
     "text": [
      "Epoch 53/1000: Train Loss: 1.0511, Train Acc: 0.6010\n"
     ]
    },
    {
     "name": "stderr",
     "output_type": "stream",
     "text": [
      "Validation: 100%|██████████| 47/47 [00:07<00:00,  6.30it/s, Loss=1.2649, Acc=0.5293]\n"
     ]
    },
    {
     "name": "stdout",
     "output_type": "stream",
     "text": [
      "Epoch 53/1000: Val Loss: 1.2649, Val Acc: 0.5293, Val F1: 0.5119\n",
      "Current Learning Rate: 3e-05\n"
     ]
    },
    {
     "name": "stderr",
     "output_type": "stream",
     "text": [
      "Epoch 54/1000: 100%|██████████| 422/422 [04:04<00:00,  1.73it/s, Loss=1.0372, Acc=0.6054]\n"
     ]
    },
    {
     "name": "stdout",
     "output_type": "stream",
     "text": [
      "Epoch 54/1000: Train Loss: 1.0372, Train Acc: 0.6054\n"
     ]
    },
    {
     "name": "stderr",
     "output_type": "stream",
     "text": [
      "Validation: 100%|██████████| 47/47 [00:07<00:00,  6.28it/s, Loss=1.2527, Acc=0.5370]\n"
     ]
    },
    {
     "name": "stdout",
     "output_type": "stream",
     "text": [
      "Epoch 54/1000: Val Loss: 1.2527, Val Acc: 0.5370, Val F1: 0.5233\n",
      "Current Learning Rate: 3e-05\n",
      "Best model saved at ../Experiment Augment Result/model6_augment_best.pt with accuracy: 0.5370\n"
     ]
    },
    {
     "name": "stderr",
     "output_type": "stream",
     "text": [
      "Epoch 55/1000: 100%|██████████| 422/422 [04:03<00:00,  1.73it/s, Loss=1.0274, Acc=0.6090]\n"
     ]
    },
    {
     "name": "stdout",
     "output_type": "stream",
     "text": [
      "Epoch 55/1000: Train Loss: 1.0274, Train Acc: 0.6090\n"
     ]
    },
    {
     "name": "stderr",
     "output_type": "stream",
     "text": [
      "Validation: 100%|██████████| 47/47 [00:07<00:00,  6.33it/s, Loss=1.2591, Acc=0.5270]\n"
     ]
    },
    {
     "name": "stdout",
     "output_type": "stream",
     "text": [
      "Epoch 55/1000: Val Loss: 1.2591, Val Acc: 0.5270, Val F1: 0.5164\n",
      "Current Learning Rate: 3e-05\n"
     ]
    },
    {
     "name": "stderr",
     "output_type": "stream",
     "text": [
      "Epoch 56/1000: 100%|██████████| 422/422 [04:02<00:00,  1.74it/s, Loss=1.0168, Acc=0.6179]\n"
     ]
    },
    {
     "name": "stdout",
     "output_type": "stream",
     "text": [
      "Epoch 56/1000: Train Loss: 1.0168, Train Acc: 0.6179\n"
     ]
    },
    {
     "name": "stderr",
     "output_type": "stream",
     "text": [
      "Validation: 100%|██████████| 47/47 [00:07<00:00,  6.35it/s, Loss=1.2486, Acc=0.5290]\n"
     ]
    },
    {
     "name": "stdout",
     "output_type": "stream",
     "text": [
      "Epoch 56/1000: Val Loss: 1.2486, Val Acc: 0.5290, Val F1: 0.5270\n",
      "Current Learning Rate: 3e-05\n"
     ]
    },
    {
     "name": "stderr",
     "output_type": "stream",
     "text": [
      "Epoch 57/1000: 100%|██████████| 422/422 [04:02<00:00,  1.74it/s, Loss=1.0012, Acc=0.6214]\n"
     ]
    },
    {
     "name": "stdout",
     "output_type": "stream",
     "text": [
      "Epoch 57/1000: Train Loss: 1.0012, Train Acc: 0.6214\n"
     ]
    },
    {
     "name": "stderr",
     "output_type": "stream",
     "text": [
      "Validation: 100%|██████████| 47/47 [00:07<00:00,  6.38it/s, Loss=1.2652, Acc=0.5273]\n"
     ]
    },
    {
     "name": "stdout",
     "output_type": "stream",
     "text": [
      "Epoch 57/1000: Val Loss: 1.2652, Val Acc: 0.5273, Val F1: 0.5223\n",
      "Current Learning Rate: 3e-05\n"
     ]
    },
    {
     "name": "stderr",
     "output_type": "stream",
     "text": [
      "Epoch 58/1000: 100%|██████████| 422/422 [04:01<00:00,  1.75it/s, Loss=0.9952, Acc=0.6206]\n"
     ]
    },
    {
     "name": "stdout",
     "output_type": "stream",
     "text": [
      "Epoch 58/1000: Train Loss: 0.9952, Train Acc: 0.6206\n"
     ]
    },
    {
     "name": "stderr",
     "output_type": "stream",
     "text": [
      "Validation: 100%|██████████| 47/47 [00:07<00:00,  6.38it/s, Loss=1.2304, Acc=0.5320]\n"
     ]
    },
    {
     "name": "stdout",
     "output_type": "stream",
     "text": [
      "Epoch 58/1000: Val Loss: 1.2304, Val Acc: 0.5320, Val F1: 0.5264\n",
      "Current Learning Rate: 3e-06\n"
     ]
    },
    {
     "name": "stderr",
     "output_type": "stream",
     "text": [
      "Epoch 59/1000: 100%|██████████| 422/422 [04:02<00:00,  1.74it/s, Loss=0.9225, Acc=0.6520]\n"
     ]
    },
    {
     "name": "stdout",
     "output_type": "stream",
     "text": [
      "Epoch 59/1000: Train Loss: 0.9225, Train Acc: 0.6520\n"
     ]
    },
    {
     "name": "stderr",
     "output_type": "stream",
     "text": [
      "Validation: 100%|██████████| 47/47 [00:07<00:00,  6.39it/s, Loss=1.2200, Acc=0.5407]\n"
     ]
    },
    {
     "name": "stdout",
     "output_type": "stream",
     "text": [
      "Epoch 59/1000: Val Loss: 1.2200, Val Acc: 0.5407, Val F1: 0.5364\n",
      "Current Learning Rate: 3e-06\n",
      "Best model saved at ../Experiment Augment Result/model6_augment_best.pt with accuracy: 0.5407\n"
     ]
    },
    {
     "name": "stderr",
     "output_type": "stream",
     "text": [
      "Epoch 60/1000: 100%|██████████| 422/422 [04:02<00:00,  1.74it/s, Loss=0.8965, Acc=0.6604]\n"
     ]
    },
    {
     "name": "stdout",
     "output_type": "stream",
     "text": [
      "Epoch 60/1000: Train Loss: 0.8965, Train Acc: 0.6604\n"
     ]
    },
    {
     "name": "stderr",
     "output_type": "stream",
     "text": [
      "Validation: 100%|██████████| 47/47 [00:07<00:00,  6.38it/s, Loss=1.2231, Acc=0.5447]\n"
     ]
    },
    {
     "name": "stdout",
     "output_type": "stream",
     "text": [
      "Epoch 60/1000: Val Loss: 1.2231, Val Acc: 0.5447, Val F1: 0.5409\n",
      "Current Learning Rate: 3e-06\n",
      "Best model saved at ../Experiment Augment Result/model6_augment_best.pt with accuracy: 0.5447\n"
     ]
    },
    {
     "name": "stderr",
     "output_type": "stream",
     "text": [
      "Epoch 61/1000: 100%|██████████| 422/422 [04:01<00:00,  1.75it/s, Loss=0.8847, Acc=0.6697]\n"
     ]
    },
    {
     "name": "stdout",
     "output_type": "stream",
     "text": [
      "Epoch 61/1000: Train Loss: 0.8847, Train Acc: 0.6697\n"
     ]
    },
    {
     "name": "stderr",
     "output_type": "stream",
     "text": [
      "Validation: 100%|██████████| 47/47 [00:07<00:00,  6.36it/s, Loss=1.2262, Acc=0.5430]\n"
     ]
    },
    {
     "name": "stdout",
     "output_type": "stream",
     "text": [
      "Epoch 61/1000: Val Loss: 1.2262, Val Acc: 0.5430, Val F1: 0.5380\n",
      "Current Learning Rate: 3e-06\n"
     ]
    },
    {
     "name": "stderr",
     "output_type": "stream",
     "text": [
      "Epoch 62/1000: 100%|██████████| 422/422 [04:01<00:00,  1.75it/s, Loss=0.8711, Acc=0.6742]\n"
     ]
    },
    {
     "name": "stdout",
     "output_type": "stream",
     "text": [
      "Epoch 62/1000: Train Loss: 0.8711, Train Acc: 0.6742\n"
     ]
    },
    {
     "name": "stderr",
     "output_type": "stream",
     "text": [
      "Validation: 100%|██████████| 47/47 [00:07<00:00,  6.31it/s, Loss=1.2297, Acc=0.5470]\n"
     ]
    },
    {
     "name": "stdout",
     "output_type": "stream",
     "text": [
      "Epoch 62/1000: Val Loss: 1.2297, Val Acc: 0.5470, Val F1: 0.5412\n",
      "Current Learning Rate: 3e-06\n",
      "Best model saved at ../Experiment Augment Result/model6_augment_best.pt with accuracy: 0.5470\n"
     ]
    },
    {
     "name": "stderr",
     "output_type": "stream",
     "text": [
      "Epoch 63/1000: 100%|██████████| 422/422 [04:01<00:00,  1.75it/s, Loss=0.8637, Acc=0.6755]\n"
     ]
    },
    {
     "name": "stdout",
     "output_type": "stream",
     "text": [
      "Epoch 63/1000: Train Loss: 0.8637, Train Acc: 0.6755\n"
     ]
    },
    {
     "name": "stderr",
     "output_type": "stream",
     "text": [
      "Validation: 100%|██████████| 47/47 [00:07<00:00,  6.32it/s, Loss=1.2283, Acc=0.5463]\n"
     ]
    },
    {
     "name": "stdout",
     "output_type": "stream",
     "text": [
      "Epoch 63/1000: Val Loss: 1.2283, Val Acc: 0.5463, Val F1: 0.5403\n",
      "Current Learning Rate: 3e-06\n"
     ]
    },
    {
     "name": "stderr",
     "output_type": "stream",
     "text": [
      "Epoch 64/1000: 100%|██████████| 422/422 [04:02<00:00,  1.74it/s, Loss=0.8561, Acc=0.6780]\n"
     ]
    },
    {
     "name": "stdout",
     "output_type": "stream",
     "text": [
      "Epoch 64/1000: Train Loss: 0.8561, Train Acc: 0.6780\n"
     ]
    },
    {
     "name": "stderr",
     "output_type": "stream",
     "text": [
      "Validation: 100%|██████████| 47/47 [00:07<00:00,  6.38it/s, Loss=1.2360, Acc=0.5477]\n"
     ]
    },
    {
     "name": "stdout",
     "output_type": "stream",
     "text": [
      "Epoch 64/1000: Val Loss: 1.2360, Val Acc: 0.5477, Val F1: 0.5439\n",
      "Current Learning Rate: 3e-06\n",
      "Best model saved at ../Experiment Augment Result/model6_augment_best.pt with accuracy: 0.5477\n"
     ]
    },
    {
     "name": "stderr",
     "output_type": "stream",
     "text": [
      "Epoch 65/1000: 100%|██████████| 422/422 [04:00<00:00,  1.75it/s, Loss=0.8501, Acc=0.6821]\n"
     ]
    },
    {
     "name": "stdout",
     "output_type": "stream",
     "text": [
      "Epoch 65/1000: Train Loss: 0.8501, Train Acc: 0.6821\n"
     ]
    },
    {
     "name": "stderr",
     "output_type": "stream",
     "text": [
      "Validation: 100%|██████████| 47/47 [00:07<00:00,  6.39it/s, Loss=1.2346, Acc=0.5470]\n"
     ]
    },
    {
     "name": "stdout",
     "output_type": "stream",
     "text": [
      "Epoch 65/1000: Val Loss: 1.2346, Val Acc: 0.5470, Val F1: 0.5419\n",
      "Current Learning Rate: 3.0000000000000004e-07\n"
     ]
    },
    {
     "name": "stderr",
     "output_type": "stream",
     "text": [
      "Epoch 66/1000: 100%|██████████| 422/422 [04:06<00:00,  1.72it/s, Loss=0.8438, Acc=0.6844]\n"
     ]
    },
    {
     "name": "stdout",
     "output_type": "stream",
     "text": [
      "Epoch 66/1000: Train Loss: 0.8438, Train Acc: 0.6844\n"
     ]
    },
    {
     "name": "stderr",
     "output_type": "stream",
     "text": [
      "Validation: 100%|██████████| 47/47 [00:07<00:00,  6.39it/s, Loss=1.2341, Acc=0.5440]\n"
     ]
    },
    {
     "name": "stdout",
     "output_type": "stream",
     "text": [
      "Epoch 66/1000: Val Loss: 1.2341, Val Acc: 0.5440, Val F1: 0.5400\n",
      "Current Learning Rate: 3.0000000000000004e-07\n"
     ]
    },
    {
     "name": "stderr",
     "output_type": "stream",
     "text": [
      "Epoch 67/1000: 100%|██████████| 422/422 [04:00<00:00,  1.75it/s, Loss=0.8358, Acc=0.6896]\n"
     ]
    },
    {
     "name": "stdout",
     "output_type": "stream",
     "text": [
      "Epoch 67/1000: Train Loss: 0.8358, Train Acc: 0.6896\n"
     ]
    },
    {
     "name": "stderr",
     "output_type": "stream",
     "text": [
      "Validation: 100%|██████████| 47/47 [00:07<00:00,  6.39it/s, Loss=1.2357, Acc=0.5463]\n"
     ]
    },
    {
     "name": "stdout",
     "output_type": "stream",
     "text": [
      "Epoch 67/1000: Val Loss: 1.2357, Val Acc: 0.5463, Val F1: 0.5424\n",
      "Current Learning Rate: 3.0000000000000004e-07\n"
     ]
    },
    {
     "name": "stderr",
     "output_type": "stream",
     "text": [
      "Epoch 68/1000: 100%|██████████| 422/422 [04:00<00:00,  1.75it/s, Loss=0.8361, Acc=0.6875]\n"
     ]
    },
    {
     "name": "stdout",
     "output_type": "stream",
     "text": [
      "Epoch 68/1000: Train Loss: 0.8361, Train Acc: 0.6875\n"
     ]
    },
    {
     "name": "stderr",
     "output_type": "stream",
     "text": [
      "Validation: 100%|██████████| 47/47 [00:07<00:00,  6.31it/s, Loss=1.2363, Acc=0.5477]\n"
     ]
    },
    {
     "name": "stdout",
     "output_type": "stream",
     "text": [
      "Epoch 68/1000: Val Loss: 1.2363, Val Acc: 0.5477, Val F1: 0.5434\n",
      "Current Learning Rate: 3.0000000000000004e-07\n"
     ]
    },
    {
     "name": "stderr",
     "output_type": "stream",
     "text": [
      "Epoch 69/1000: 100%|██████████| 422/422 [04:00<00:00,  1.75it/s, Loss=0.8376, Acc=0.6862]\n"
     ]
    },
    {
     "name": "stdout",
     "output_type": "stream",
     "text": [
      "Epoch 69/1000: Train Loss: 0.8376, Train Acc: 0.6862\n"
     ]
    },
    {
     "name": "stderr",
     "output_type": "stream",
     "text": [
      "Validation: 100%|██████████| 47/47 [00:07<00:00,  6.39it/s, Loss=1.2369, Acc=0.5453]\n"
     ]
    },
    {
     "name": "stdout",
     "output_type": "stream",
     "text": [
      "Epoch 69/1000: Val Loss: 1.2369, Val Acc: 0.5453, Val F1: 0.5408\n",
      "Current Learning Rate: 3.0000000000000004e-07\n"
     ]
    },
    {
     "name": "stderr",
     "output_type": "stream",
     "text": [
      "Epoch 70/1000: 100%|██████████| 422/422 [04:03<00:00,  1.74it/s, Loss=0.8373, Acc=0.6851]\n"
     ]
    },
    {
     "name": "stdout",
     "output_type": "stream",
     "text": [
      "Epoch 70/1000: Train Loss: 0.8373, Train Acc: 0.6851\n"
     ]
    },
    {
     "name": "stderr",
     "output_type": "stream",
     "text": [
      "Validation: 100%|██████████| 47/47 [00:07<00:00,  6.04it/s, Loss=1.2359, Acc=0.5483]\n"
     ]
    },
    {
     "name": "stdout",
     "output_type": "stream",
     "text": [
      "Epoch 70/1000: Val Loss: 1.2359, Val Acc: 0.5483, Val F1: 0.5446\n",
      "Current Learning Rate: 3.0000000000000004e-07\n",
      "Best model saved at ../Experiment Augment Result/model6_augment_best.pt with accuracy: 0.5483\n"
     ]
    },
    {
     "name": "stderr",
     "output_type": "stream",
     "text": [
      "Epoch 71/1000: 100%|██████████| 422/422 [04:02<00:00,  1.74it/s, Loss=0.8358, Acc=0.6870]\n"
     ]
    },
    {
     "name": "stdout",
     "output_type": "stream",
     "text": [
      "Epoch 71/1000: Train Loss: 0.8358, Train Acc: 0.6870\n"
     ]
    },
    {
     "name": "stderr",
     "output_type": "stream",
     "text": [
      "Validation: 100%|██████████| 47/47 [00:07<00:00,  6.39it/s, Loss=1.2366, Acc=0.5470]\n"
     ]
    },
    {
     "name": "stdout",
     "output_type": "stream",
     "text": [
      "Epoch 71/1000: Val Loss: 1.2366, Val Acc: 0.5470, Val F1: 0.5430\n",
      "Current Learning Rate: 3.0000000000000004e-08\n"
     ]
    },
    {
     "name": "stderr",
     "output_type": "stream",
     "text": [
      "Epoch 72/1000: 100%|██████████| 422/422 [04:01<00:00,  1.75it/s, Loss=0.8343, Acc=0.6866]\n"
     ]
    },
    {
     "name": "stdout",
     "output_type": "stream",
     "text": [
      "Epoch 72/1000: Train Loss: 0.8343, Train Acc: 0.6866\n"
     ]
    },
    {
     "name": "stderr",
     "output_type": "stream",
     "text": [
      "Validation: 100%|██████████| 47/47 [00:07<00:00,  6.37it/s, Loss=1.2373, Acc=0.5460]\n"
     ]
    },
    {
     "name": "stdout",
     "output_type": "stream",
     "text": [
      "Epoch 72/1000: Val Loss: 1.2373, Val Acc: 0.5460, Val F1: 0.5421\n",
      "Current Learning Rate: 3.0000000000000004e-08\n"
     ]
    },
    {
     "name": "stderr",
     "output_type": "stream",
     "text": [
      "Epoch 73/1000: 100%|██████████| 422/422 [04:06<00:00,  1.71it/s, Loss=0.8358, Acc=0.6896]\n"
     ]
    },
    {
     "name": "stdout",
     "output_type": "stream",
     "text": [
      "Epoch 73/1000: Train Loss: 0.8358, Train Acc: 0.6896\n"
     ]
    },
    {
     "name": "stderr",
     "output_type": "stream",
     "text": [
      "Validation: 100%|██████████| 47/47 [00:07<00:00,  6.37it/s, Loss=1.2361, Acc=0.5460]\n"
     ]
    },
    {
     "name": "stdout",
     "output_type": "stream",
     "text": [
      "Epoch 73/1000: Val Loss: 1.2361, Val Acc: 0.5460, Val F1: 0.5420\n",
      "Current Learning Rate: 3.0000000000000004e-08\n"
     ]
    },
    {
     "name": "stderr",
     "output_type": "stream",
     "text": [
      "Epoch 74/1000: 100%|██████████| 422/422 [04:03<00:00,  1.73it/s, Loss=0.8357, Acc=0.6883]\n"
     ]
    },
    {
     "name": "stdout",
     "output_type": "stream",
     "text": [
      "Epoch 74/1000: Train Loss: 0.8357, Train Acc: 0.6883\n"
     ]
    },
    {
     "name": "stderr",
     "output_type": "stream",
     "text": [
      "Validation: 100%|██████████| 47/47 [00:07<00:00,  6.37it/s, Loss=1.2365, Acc=0.5477]\n"
     ]
    },
    {
     "name": "stdout",
     "output_type": "stream",
     "text": [
      "Epoch 74/1000: Val Loss: 1.2365, Val Acc: 0.5477, Val F1: 0.5435\n",
      "Current Learning Rate: 3.0000000000000004e-08\n",
      "Early stopping triggered at epoch 74!\n"
     ]
    },
    {
     "name": "stderr",
     "output_type": "stream",
     "text": [
      "Testing: 100%|██████████| 53/53 [00:08<00:00,  6.49it/s, Loss=1.2259, Acc=0.5638]\n"
     ]
    },
    {
     "name": "stdout",
     "output_type": "stream",
     "text": [
      "Test Loss: 1.2259, Test Acc: 0.5638, Test F1: 0.5575\n",
      "Start model7 with configuration patch size: 16, num_heads: 8, embedding_dims: 768, num_layers: 6\n"
     ]
    },
    {
     "name": "stderr",
     "output_type": "stream",
     "text": [
      "Epoch 1/1000: 100%|██████████| 422/422 [03:18<00:00,  2.13it/s, Loss=1.7683, Acc=0.2714]\n"
     ]
    },
    {
     "name": "stdout",
     "output_type": "stream",
     "text": [
      "Epoch 1/1000: Train Loss: 1.7683, Train Acc: 0.2714\n"
     ]
    },
    {
     "name": "stderr",
     "output_type": "stream",
     "text": [
      "Validation: 100%|██████████| 47/47 [00:06<00:00,  7.43it/s, Loss=1.7034, Acc=0.3100]\n"
     ]
    },
    {
     "name": "stdout",
     "output_type": "stream",
     "text": [
      "Epoch 1/1000: Val Loss: 1.7034, Val Acc: 0.3100, Val F1: 0.2251\n",
      "Current Learning Rate: 3e-05\n",
      "Best model saved at ../Experiment Augment Result/model7_augment_best.pt with accuracy: 0.3100\n"
     ]
    },
    {
     "name": "stderr",
     "output_type": "stream",
     "text": [
      "Epoch 2/1000: 100%|██████████| 422/422 [03:23<00:00,  2.07it/s, Loss=1.6799, Acc=0.3307]\n"
     ]
    },
    {
     "name": "stdout",
     "output_type": "stream",
     "text": [
      "Epoch 2/1000: Train Loss: 1.6799, Train Acc: 0.3307\n"
     ]
    },
    {
     "name": "stderr",
     "output_type": "stream",
     "text": [
      "Validation: 100%|██████████| 47/47 [00:06<00:00,  7.77it/s, Loss=1.6524, Acc=0.3390]\n"
     ]
    },
    {
     "name": "stdout",
     "output_type": "stream",
     "text": [
      "Epoch 2/1000: Val Loss: 1.6524, Val Acc: 0.3390, Val F1: 0.2695\n",
      "Current Learning Rate: 3e-05\n",
      "Best model saved at ../Experiment Augment Result/model7_augment_best.pt with accuracy: 0.3390\n"
     ]
    },
    {
     "name": "stderr",
     "output_type": "stream",
     "text": [
      "Epoch 3/1000: 100%|██████████| 422/422 [03:20<00:00,  2.11it/s, Loss=1.6520, Acc=0.3451]\n"
     ]
    },
    {
     "name": "stdout",
     "output_type": "stream",
     "text": [
      "Epoch 3/1000: Train Loss: 1.6520, Train Acc: 0.3451\n"
     ]
    },
    {
     "name": "stderr",
     "output_type": "stream",
     "text": [
      "Validation: 100%|██████████| 47/47 [00:05<00:00,  7.88it/s, Loss=1.6499, Acc=0.3480]\n"
     ]
    },
    {
     "name": "stdout",
     "output_type": "stream",
     "text": [
      "Epoch 3/1000: Val Loss: 1.6499, Val Acc: 0.3480, Val F1: 0.3030\n",
      "Current Learning Rate: 3e-05\n",
      "Best model saved at ../Experiment Augment Result/model7_augment_best.pt with accuracy: 0.3480\n"
     ]
    },
    {
     "name": "stderr",
     "output_type": "stream",
     "text": [
      "Epoch 4/1000: 100%|██████████| 422/422 [03:16<00:00,  2.15it/s, Loss=1.6341, Acc=0.3537]\n"
     ]
    },
    {
     "name": "stdout",
     "output_type": "stream",
     "text": [
      "Epoch 4/1000: Train Loss: 1.6341, Train Acc: 0.3537\n"
     ]
    },
    {
     "name": "stderr",
     "output_type": "stream",
     "text": [
      "Validation: 100%|██████████| 47/47 [00:05<00:00,  7.88it/s, Loss=1.6019, Acc=0.3770]\n"
     ]
    },
    {
     "name": "stdout",
     "output_type": "stream",
     "text": [
      "Epoch 4/1000: Val Loss: 1.6019, Val Acc: 0.3770, Val F1: 0.3343\n",
      "Current Learning Rate: 3e-05\n",
      "Best model saved at ../Experiment Augment Result/model7_augment_best.pt with accuracy: 0.3770\n"
     ]
    },
    {
     "name": "stderr",
     "output_type": "stream",
     "text": [
      "Epoch 5/1000: 100%|██████████| 422/422 [03:17<00:00,  2.13it/s, Loss=1.6164, Acc=0.3636]\n"
     ]
    },
    {
     "name": "stdout",
     "output_type": "stream",
     "text": [
      "Epoch 5/1000: Train Loss: 1.6164, Train Acc: 0.3636\n"
     ]
    },
    {
     "name": "stderr",
     "output_type": "stream",
     "text": [
      "Validation: 100%|██████████| 47/47 [00:05<00:00,  7.87it/s, Loss=1.5957, Acc=0.3773]\n"
     ]
    },
    {
     "name": "stdout",
     "output_type": "stream",
     "text": [
      "Epoch 5/1000: Val Loss: 1.5957, Val Acc: 0.3773, Val F1: 0.3385\n",
      "Current Learning Rate: 3e-05\n",
      "Best model saved at ../Experiment Augment Result/model7_augment_best.pt with accuracy: 0.3773\n"
     ]
    },
    {
     "name": "stderr",
     "output_type": "stream",
     "text": [
      "Epoch 6/1000: 100%|██████████| 422/422 [03:15<00:00,  2.16it/s, Loss=1.6041, Acc=0.3709]\n"
     ]
    },
    {
     "name": "stdout",
     "output_type": "stream",
     "text": [
      "Epoch 6/1000: Train Loss: 1.6041, Train Acc: 0.3709\n"
     ]
    },
    {
     "name": "stderr",
     "output_type": "stream",
     "text": [
      "Validation: 100%|██████████| 47/47 [00:05<00:00,  7.84it/s, Loss=1.5672, Acc=0.3857]\n"
     ]
    },
    {
     "name": "stdout",
     "output_type": "stream",
     "text": [
      "Epoch 6/1000: Val Loss: 1.5672, Val Acc: 0.3857, Val F1: 0.3339\n",
      "Current Learning Rate: 3e-05\n",
      "Best model saved at ../Experiment Augment Result/model7_augment_best.pt with accuracy: 0.3857\n"
     ]
    },
    {
     "name": "stderr",
     "output_type": "stream",
     "text": [
      "Epoch 7/1000: 100%|██████████| 422/422 [03:16<00:00,  2.14it/s, Loss=1.5835, Acc=0.3786]\n"
     ]
    },
    {
     "name": "stdout",
     "output_type": "stream",
     "text": [
      "Epoch 7/1000: Train Loss: 1.5835, Train Acc: 0.3786\n"
     ]
    },
    {
     "name": "stderr",
     "output_type": "stream",
     "text": [
      "Validation: 100%|██████████| 47/47 [00:06<00:00,  7.75it/s, Loss=1.5679, Acc=0.3910]\n"
     ]
    },
    {
     "name": "stdout",
     "output_type": "stream",
     "text": [
      "Epoch 7/1000: Val Loss: 1.5679, Val Acc: 0.3910, Val F1: 0.3614\n",
      "Current Learning Rate: 3e-05\n",
      "Best model saved at ../Experiment Augment Result/model7_augment_best.pt with accuracy: 0.3910\n"
     ]
    },
    {
     "name": "stderr",
     "output_type": "stream",
     "text": [
      "Epoch 8/1000: 100%|██████████| 422/422 [03:18<00:00,  2.13it/s, Loss=1.5770, Acc=0.3800]\n"
     ]
    },
    {
     "name": "stdout",
     "output_type": "stream",
     "text": [
      "Epoch 8/1000: Train Loss: 1.5770, Train Acc: 0.3800\n"
     ]
    },
    {
     "name": "stderr",
     "output_type": "stream",
     "text": [
      "Validation: 100%|██████████| 47/47 [00:05<00:00,  7.88it/s, Loss=1.5436, Acc=0.3940]\n"
     ]
    },
    {
     "name": "stdout",
     "output_type": "stream",
     "text": [
      "Epoch 8/1000: Val Loss: 1.5436, Val Acc: 0.3940, Val F1: 0.3577\n",
      "Current Learning Rate: 3e-05\n",
      "Best model saved at ../Experiment Augment Result/model7_augment_best.pt with accuracy: 0.3940\n"
     ]
    },
    {
     "name": "stderr",
     "output_type": "stream",
     "text": [
      "Epoch 9/1000: 100%|██████████| 422/422 [03:18<00:00,  2.12it/s, Loss=1.5593, Acc=0.3899]\n"
     ]
    },
    {
     "name": "stdout",
     "output_type": "stream",
     "text": [
      "Epoch 9/1000: Train Loss: 1.5593, Train Acc: 0.3899\n"
     ]
    },
    {
     "name": "stderr",
     "output_type": "stream",
     "text": [
      "Validation: 100%|██████████| 47/47 [00:06<00:00,  7.81it/s, Loss=1.5194, Acc=0.4073]\n"
     ]
    },
    {
     "name": "stdout",
     "output_type": "stream",
     "text": [
      "Epoch 9/1000: Val Loss: 1.5194, Val Acc: 0.4073, Val F1: 0.3833\n",
      "Current Learning Rate: 3e-05\n",
      "Best model saved at ../Experiment Augment Result/model7_augment_best.pt with accuracy: 0.4073\n"
     ]
    },
    {
     "name": "stderr",
     "output_type": "stream",
     "text": [
      "Epoch 10/1000: 100%|██████████| 422/422 [03:17<00:00,  2.14it/s, Loss=1.5460, Acc=0.3938]\n"
     ]
    },
    {
     "name": "stdout",
     "output_type": "stream",
     "text": [
      "Epoch 10/1000: Train Loss: 1.5460, Train Acc: 0.3938\n"
     ]
    },
    {
     "name": "stderr",
     "output_type": "stream",
     "text": [
      "Validation: 100%|██████████| 47/47 [00:05<00:00,  7.86it/s, Loss=1.5392, Acc=0.4007]\n"
     ]
    },
    {
     "name": "stdout",
     "output_type": "stream",
     "text": [
      "Epoch 10/1000: Val Loss: 1.5392, Val Acc: 0.4007, Val F1: 0.3612\n",
      "Current Learning Rate: 3e-05\n"
     ]
    },
    {
     "name": "stderr",
     "output_type": "stream",
     "text": [
      "Epoch 11/1000: 100%|██████████| 422/422 [03:16<00:00,  2.14it/s, Loss=1.5341, Acc=0.4021]\n"
     ]
    },
    {
     "name": "stdout",
     "output_type": "stream",
     "text": [
      "Epoch 11/1000: Train Loss: 1.5341, Train Acc: 0.4021\n"
     ]
    },
    {
     "name": "stderr",
     "output_type": "stream",
     "text": [
      "Validation: 100%|██████████| 47/47 [00:05<00:00,  7.86it/s, Loss=1.5232, Acc=0.3967]\n"
     ]
    },
    {
     "name": "stdout",
     "output_type": "stream",
     "text": [
      "Epoch 11/1000: Val Loss: 1.5232, Val Acc: 0.3967, Val F1: 0.3571\n",
      "Current Learning Rate: 3e-05\n"
     ]
    },
    {
     "name": "stderr",
     "output_type": "stream",
     "text": [
      "Epoch 12/1000: 100%|██████████| 422/422 [03:17<00:00,  2.14it/s, Loss=1.5224, Acc=0.4049]\n"
     ]
    },
    {
     "name": "stdout",
     "output_type": "stream",
     "text": [
      "Epoch 12/1000: Train Loss: 1.5224, Train Acc: 0.4049\n"
     ]
    },
    {
     "name": "stderr",
     "output_type": "stream",
     "text": [
      "Validation: 100%|██████████| 47/47 [00:06<00:00,  7.54it/s, Loss=1.5019, Acc=0.4127]\n"
     ]
    },
    {
     "name": "stdout",
     "output_type": "stream",
     "text": [
      "Epoch 12/1000: Val Loss: 1.5019, Val Acc: 0.4127, Val F1: 0.3900\n",
      "Current Learning Rate: 3e-05\n",
      "Best model saved at ../Experiment Augment Result/model7_augment_best.pt with accuracy: 0.4127\n"
     ]
    },
    {
     "name": "stderr",
     "output_type": "stream",
     "text": [
      "Epoch 13/1000: 100%|██████████| 422/422 [03:17<00:00,  2.14it/s, Loss=1.5016, Acc=0.4125]\n"
     ]
    },
    {
     "name": "stdout",
     "output_type": "stream",
     "text": [
      "Epoch 13/1000: Train Loss: 1.5016, Train Acc: 0.4125\n"
     ]
    },
    {
     "name": "stderr",
     "output_type": "stream",
     "text": [
      "Validation: 100%|██████████| 47/47 [00:05<00:00,  7.87it/s, Loss=1.4845, Acc=0.4170]\n"
     ]
    },
    {
     "name": "stdout",
     "output_type": "stream",
     "text": [
      "Epoch 13/1000: Val Loss: 1.4845, Val Acc: 0.4170, Val F1: 0.3998\n",
      "Current Learning Rate: 3e-05\n",
      "Best model saved at ../Experiment Augment Result/model7_augment_best.pt with accuracy: 0.4170\n"
     ]
    },
    {
     "name": "stderr",
     "output_type": "stream",
     "text": [
      "Epoch 14/1000: 100%|██████████| 422/422 [03:19<00:00,  2.11it/s, Loss=1.4989, Acc=0.4142]\n"
     ]
    },
    {
     "name": "stdout",
     "output_type": "stream",
     "text": [
      "Epoch 14/1000: Train Loss: 1.4989, Train Acc: 0.4142\n"
     ]
    },
    {
     "name": "stderr",
     "output_type": "stream",
     "text": [
      "Validation: 100%|██████████| 47/47 [00:05<00:00,  7.88it/s, Loss=1.4900, Acc=0.4177]\n"
     ]
    },
    {
     "name": "stdout",
     "output_type": "stream",
     "text": [
      "Epoch 14/1000: Val Loss: 1.4900, Val Acc: 0.4177, Val F1: 0.3885\n",
      "Current Learning Rate: 3e-05\n",
      "Best model saved at ../Experiment Augment Result/model7_augment_best.pt with accuracy: 0.4177\n"
     ]
    },
    {
     "name": "stderr",
     "output_type": "stream",
     "text": [
      "Epoch 15/1000: 100%|██████████| 422/422 [03:17<00:00,  2.13it/s, Loss=1.4786, Acc=0.4223]\n"
     ]
    },
    {
     "name": "stdout",
     "output_type": "stream",
     "text": [
      "Epoch 15/1000: Train Loss: 1.4786, Train Acc: 0.4223\n"
     ]
    },
    {
     "name": "stderr",
     "output_type": "stream",
     "text": [
      "Validation: 100%|██████████| 47/47 [00:06<00:00,  7.82it/s, Loss=1.4573, Acc=0.4260]\n"
     ]
    },
    {
     "name": "stdout",
     "output_type": "stream",
     "text": [
      "Epoch 15/1000: Val Loss: 1.4573, Val Acc: 0.4260, Val F1: 0.4204\n",
      "Current Learning Rate: 3e-05\n",
      "Best model saved at ../Experiment Augment Result/model7_augment_best.pt with accuracy: 0.4260\n"
     ]
    },
    {
     "name": "stderr",
     "output_type": "stream",
     "text": [
      "Epoch 16/1000: 100%|██████████| 422/422 [03:16<00:00,  2.15it/s, Loss=1.4629, Acc=0.4312]\n"
     ]
    },
    {
     "name": "stdout",
     "output_type": "stream",
     "text": [
      "Epoch 16/1000: Train Loss: 1.4629, Train Acc: 0.4312\n"
     ]
    },
    {
     "name": "stderr",
     "output_type": "stream",
     "text": [
      "Validation: 100%|██████████| 47/47 [00:05<00:00,  7.87it/s, Loss=1.4517, Acc=0.4310]\n"
     ]
    },
    {
     "name": "stdout",
     "output_type": "stream",
     "text": [
      "Epoch 16/1000: Val Loss: 1.4517, Val Acc: 0.4310, Val F1: 0.3943\n",
      "Current Learning Rate: 3e-05\n",
      "Best model saved at ../Experiment Augment Result/model7_augment_best.pt with accuracy: 0.4310\n"
     ]
    },
    {
     "name": "stderr",
     "output_type": "stream",
     "text": [
      "Epoch 17/1000: 100%|██████████| 422/422 [03:16<00:00,  2.15it/s, Loss=1.4532, Acc=0.4328]\n"
     ]
    },
    {
     "name": "stdout",
     "output_type": "stream",
     "text": [
      "Epoch 17/1000: Train Loss: 1.4532, Train Acc: 0.4328\n"
     ]
    },
    {
     "name": "stderr",
     "output_type": "stream",
     "text": [
      "Validation: 100%|██████████| 47/47 [00:06<00:00,  7.76it/s, Loss=1.4435, Acc=0.4257]\n"
     ]
    },
    {
     "name": "stdout",
     "output_type": "stream",
     "text": [
      "Epoch 17/1000: Val Loss: 1.4435, Val Acc: 0.4257, Val F1: 0.4181\n",
      "Current Learning Rate: 3e-05\n"
     ]
    },
    {
     "name": "stderr",
     "output_type": "stream",
     "text": [
      "Epoch 18/1000: 100%|██████████| 422/422 [03:17<00:00,  2.14it/s, Loss=1.4400, Acc=0.4415]\n"
     ]
    },
    {
     "name": "stdout",
     "output_type": "stream",
     "text": [
      "Epoch 18/1000: Train Loss: 1.4400, Train Acc: 0.4415\n"
     ]
    },
    {
     "name": "stderr",
     "output_type": "stream",
     "text": [
      "Validation: 100%|██████████| 47/47 [00:06<00:00,  7.74it/s, Loss=1.4437, Acc=0.4333]\n"
     ]
    },
    {
     "name": "stdout",
     "output_type": "stream",
     "text": [
      "Epoch 18/1000: Val Loss: 1.4437, Val Acc: 0.4333, Val F1: 0.4206\n",
      "Current Learning Rate: 3e-05\n",
      "Best model saved at ../Experiment Augment Result/model7_augment_best.pt with accuracy: 0.4333\n"
     ]
    },
    {
     "name": "stderr",
     "output_type": "stream",
     "text": [
      "Epoch 19/1000: 100%|██████████| 422/422 [03:17<00:00,  2.14it/s, Loss=1.4281, Acc=0.4453]\n"
     ]
    },
    {
     "name": "stdout",
     "output_type": "stream",
     "text": [
      "Epoch 19/1000: Train Loss: 1.4281, Train Acc: 0.4453\n"
     ]
    },
    {
     "name": "stderr",
     "output_type": "stream",
     "text": [
      "Validation: 100%|██████████| 47/47 [00:06<00:00,  7.76it/s, Loss=1.4206, Acc=0.4403]\n"
     ]
    },
    {
     "name": "stdout",
     "output_type": "stream",
     "text": [
      "Epoch 19/1000: Val Loss: 1.4206, Val Acc: 0.4403, Val F1: 0.4151\n",
      "Current Learning Rate: 3e-05\n",
      "Best model saved at ../Experiment Augment Result/model7_augment_best.pt with accuracy: 0.4403\n"
     ]
    },
    {
     "name": "stderr",
     "output_type": "stream",
     "text": [
      "Epoch 20/1000: 100%|██████████| 422/422 [03:17<00:00,  2.14it/s, Loss=1.4257, Acc=0.4452]\n"
     ]
    },
    {
     "name": "stdout",
     "output_type": "stream",
     "text": [
      "Epoch 20/1000: Train Loss: 1.4257, Train Acc: 0.4452\n"
     ]
    },
    {
     "name": "stderr",
     "output_type": "stream",
     "text": [
      "Validation: 100%|██████████| 47/47 [00:06<00:00,  7.73it/s, Loss=1.4222, Acc=0.4527]\n"
     ]
    },
    {
     "name": "stdout",
     "output_type": "stream",
     "text": [
      "Epoch 20/1000: Val Loss: 1.4222, Val Acc: 0.4527, Val F1: 0.4382\n",
      "Current Learning Rate: 3e-05\n",
      "Best model saved at ../Experiment Augment Result/model7_augment_best.pt with accuracy: 0.4527\n"
     ]
    },
    {
     "name": "stderr",
     "output_type": "stream",
     "text": [
      "Epoch 21/1000: 100%|██████████| 422/422 [03:19<00:00,  2.12it/s, Loss=1.4111, Acc=0.4537]\n"
     ]
    },
    {
     "name": "stdout",
     "output_type": "stream",
     "text": [
      "Epoch 21/1000: Train Loss: 1.4111, Train Acc: 0.4537\n"
     ]
    },
    {
     "name": "stderr",
     "output_type": "stream",
     "text": [
      "Validation: 100%|██████████| 47/47 [00:06<00:00,  7.74it/s, Loss=1.4078, Acc=0.4470]\n"
     ]
    },
    {
     "name": "stdout",
     "output_type": "stream",
     "text": [
      "Epoch 21/1000: Val Loss: 1.4078, Val Acc: 0.4470, Val F1: 0.4326\n",
      "Current Learning Rate: 3e-05\n"
     ]
    },
    {
     "name": "stderr",
     "output_type": "stream",
     "text": [
      "Epoch 22/1000: 100%|██████████| 422/422 [03:18<00:00,  2.13it/s, Loss=1.3978, Acc=0.4591]\n"
     ]
    },
    {
     "name": "stdout",
     "output_type": "stream",
     "text": [
      "Epoch 22/1000: Train Loss: 1.3978, Train Acc: 0.4591\n"
     ]
    },
    {
     "name": "stderr",
     "output_type": "stream",
     "text": [
      "Validation: 100%|██████████| 47/47 [00:06<00:00,  7.65it/s, Loss=1.4138, Acc=0.4373]\n"
     ]
    },
    {
     "name": "stdout",
     "output_type": "stream",
     "text": [
      "Epoch 22/1000: Val Loss: 1.4138, Val Acc: 0.4373, Val F1: 0.4171\n",
      "Current Learning Rate: 3e-05\n"
     ]
    },
    {
     "name": "stderr",
     "output_type": "stream",
     "text": [
      "Epoch 23/1000: 100%|██████████| 422/422 [03:17<00:00,  2.14it/s, Loss=1.3923, Acc=0.4611]\n"
     ]
    },
    {
     "name": "stdout",
     "output_type": "stream",
     "text": [
      "Epoch 23/1000: Train Loss: 1.3923, Train Acc: 0.4611\n"
     ]
    },
    {
     "name": "stderr",
     "output_type": "stream",
     "text": [
      "Validation: 100%|██████████| 47/47 [00:06<00:00,  7.72it/s, Loss=1.3897, Acc=0.4537]\n"
     ]
    },
    {
     "name": "stdout",
     "output_type": "stream",
     "text": [
      "Epoch 23/1000: Val Loss: 1.3897, Val Acc: 0.4537, Val F1: 0.4297\n",
      "Current Learning Rate: 3e-05\n",
      "Best model saved at ../Experiment Augment Result/model7_augment_best.pt with accuracy: 0.4537\n"
     ]
    },
    {
     "name": "stderr",
     "output_type": "stream",
     "text": [
      "Epoch 24/1000: 100%|██████████| 422/422 [03:17<00:00,  2.13it/s, Loss=1.3809, Acc=0.4644]\n"
     ]
    },
    {
     "name": "stdout",
     "output_type": "stream",
     "text": [
      "Epoch 24/1000: Train Loss: 1.3809, Train Acc: 0.4644\n"
     ]
    },
    {
     "name": "stderr",
     "output_type": "stream",
     "text": [
      "Validation: 100%|██████████| 47/47 [00:06<00:00,  7.75it/s, Loss=1.3710, Acc=0.4603]\n"
     ]
    },
    {
     "name": "stdout",
     "output_type": "stream",
     "text": [
      "Epoch 24/1000: Val Loss: 1.3710, Val Acc: 0.4603, Val F1: 0.4446\n",
      "Current Learning Rate: 3e-05\n",
      "Best model saved at ../Experiment Augment Result/model7_augment_best.pt with accuracy: 0.4603\n"
     ]
    },
    {
     "name": "stderr",
     "output_type": "stream",
     "text": [
      "Epoch 25/1000: 100%|██████████| 422/422 [03:19<00:00,  2.12it/s, Loss=1.3723, Acc=0.4672]\n"
     ]
    },
    {
     "name": "stdout",
     "output_type": "stream",
     "text": [
      "Epoch 25/1000: Train Loss: 1.3723, Train Acc: 0.4672\n"
     ]
    },
    {
     "name": "stderr",
     "output_type": "stream",
     "text": [
      "Validation: 100%|██████████| 47/47 [00:06<00:00,  7.74it/s, Loss=1.3737, Acc=0.4607]\n"
     ]
    },
    {
     "name": "stdout",
     "output_type": "stream",
     "text": [
      "Epoch 25/1000: Val Loss: 1.3737, Val Acc: 0.4607, Val F1: 0.4431\n",
      "Current Learning Rate: 3e-05\n",
      "Best model saved at ../Experiment Augment Result/model7_augment_best.pt with accuracy: 0.4607\n"
     ]
    },
    {
     "name": "stderr",
     "output_type": "stream",
     "text": [
      "Epoch 26/1000: 100%|██████████| 422/422 [03:20<00:00,  2.11it/s, Loss=1.3609, Acc=0.4721]\n"
     ]
    },
    {
     "name": "stdout",
     "output_type": "stream",
     "text": [
      "Epoch 26/1000: Train Loss: 1.3609, Train Acc: 0.4721\n"
     ]
    },
    {
     "name": "stderr",
     "output_type": "stream",
     "text": [
      "Validation: 100%|██████████| 47/47 [00:06<00:00,  7.73it/s, Loss=1.3744, Acc=0.4600]\n"
     ]
    },
    {
     "name": "stdout",
     "output_type": "stream",
     "text": [
      "Epoch 26/1000: Val Loss: 1.3744, Val Acc: 0.4600, Val F1: 0.4375\n",
      "Current Learning Rate: 3e-05\n"
     ]
    },
    {
     "name": "stderr",
     "output_type": "stream",
     "text": [
      "Epoch 27/1000: 100%|██████████| 422/422 [03:17<00:00,  2.13it/s, Loss=1.3549, Acc=0.4765]\n"
     ]
    },
    {
     "name": "stdout",
     "output_type": "stream",
     "text": [
      "Epoch 27/1000: Train Loss: 1.3549, Train Acc: 0.4765\n"
     ]
    },
    {
     "name": "stderr",
     "output_type": "stream",
     "text": [
      "Validation: 100%|██████████| 47/47 [00:06<00:00,  7.76it/s, Loss=1.3696, Acc=0.4670]\n"
     ]
    },
    {
     "name": "stdout",
     "output_type": "stream",
     "text": [
      "Epoch 27/1000: Val Loss: 1.3696, Val Acc: 0.4670, Val F1: 0.4563\n",
      "Current Learning Rate: 3e-05\n",
      "Best model saved at ../Experiment Augment Result/model7_augment_best.pt with accuracy: 0.4670\n"
     ]
    },
    {
     "name": "stderr",
     "output_type": "stream",
     "text": [
      "Epoch 28/1000: 100%|██████████| 422/422 [03:17<00:00,  2.14it/s, Loss=1.3393, Acc=0.4833]\n"
     ]
    },
    {
     "name": "stdout",
     "output_type": "stream",
     "text": [
      "Epoch 28/1000: Train Loss: 1.3393, Train Acc: 0.4833\n"
     ]
    },
    {
     "name": "stderr",
     "output_type": "stream",
     "text": [
      "Validation: 100%|██████████| 47/47 [00:06<00:00,  7.73it/s, Loss=1.3593, Acc=0.4770]\n"
     ]
    },
    {
     "name": "stdout",
     "output_type": "stream",
     "text": [
      "Epoch 28/1000: Val Loss: 1.3593, Val Acc: 0.4770, Val F1: 0.4551\n",
      "Current Learning Rate: 3e-05\n",
      "Best model saved at ../Experiment Augment Result/model7_augment_best.pt with accuracy: 0.4770\n"
     ]
    },
    {
     "name": "stderr",
     "output_type": "stream",
     "text": [
      "Epoch 29/1000: 100%|██████████| 422/422 [03:17<00:00,  2.14it/s, Loss=1.3292, Acc=0.4849]\n"
     ]
    },
    {
     "name": "stdout",
     "output_type": "stream",
     "text": [
      "Epoch 29/1000: Train Loss: 1.3292, Train Acc: 0.4849\n"
     ]
    },
    {
     "name": "stderr",
     "output_type": "stream",
     "text": [
      "Validation: 100%|██████████| 47/47 [00:06<00:00,  7.74it/s, Loss=1.3600, Acc=0.4690]\n"
     ]
    },
    {
     "name": "stdout",
     "output_type": "stream",
     "text": [
      "Epoch 29/1000: Val Loss: 1.3600, Val Acc: 0.4690, Val F1: 0.4549\n",
      "Current Learning Rate: 3e-05\n"
     ]
    },
    {
     "name": "stderr",
     "output_type": "stream",
     "text": [
      "Epoch 30/1000: 100%|██████████| 422/422 [03:18<00:00,  2.12it/s, Loss=1.3214, Acc=0.4883]\n"
     ]
    },
    {
     "name": "stdout",
     "output_type": "stream",
     "text": [
      "Epoch 30/1000: Train Loss: 1.3214, Train Acc: 0.4883\n"
     ]
    },
    {
     "name": "stderr",
     "output_type": "stream",
     "text": [
      "Validation: 100%|██████████| 47/47 [00:06<00:00,  7.74it/s, Loss=1.3559, Acc=0.4677]\n"
     ]
    },
    {
     "name": "stdout",
     "output_type": "stream",
     "text": [
      "Epoch 30/1000: Val Loss: 1.3559, Val Acc: 0.4677, Val F1: 0.4558\n",
      "Current Learning Rate: 3e-05\n"
     ]
    },
    {
     "name": "stderr",
     "output_type": "stream",
     "text": [
      "Epoch 31/1000: 100%|██████████| 422/422 [03:17<00:00,  2.14it/s, Loss=1.3127, Acc=0.4924]\n"
     ]
    },
    {
     "name": "stdout",
     "output_type": "stream",
     "text": [
      "Epoch 31/1000: Train Loss: 1.3127, Train Acc: 0.4924\n"
     ]
    },
    {
     "name": "stderr",
     "output_type": "stream",
     "text": [
      "Validation: 100%|██████████| 47/47 [00:06<00:00,  7.60it/s, Loss=1.3654, Acc=0.4700]\n"
     ]
    },
    {
     "name": "stdout",
     "output_type": "stream",
     "text": [
      "Epoch 31/1000: Val Loss: 1.3654, Val Acc: 0.4700, Val F1: 0.4427\n",
      "Current Learning Rate: 3e-05\n"
     ]
    },
    {
     "name": "stderr",
     "output_type": "stream",
     "text": [
      "Epoch 32/1000: 100%|██████████| 422/422 [03:17<00:00,  2.14it/s, Loss=1.3052, Acc=0.4987]\n"
     ]
    },
    {
     "name": "stdout",
     "output_type": "stream",
     "text": [
      "Epoch 32/1000: Train Loss: 1.3052, Train Acc: 0.4987\n"
     ]
    },
    {
     "name": "stderr",
     "output_type": "stream",
     "text": [
      "Validation: 100%|██████████| 47/47 [00:06<00:00,  7.73it/s, Loss=1.3584, Acc=0.4777]\n"
     ]
    },
    {
     "name": "stdout",
     "output_type": "stream",
     "text": [
      "Epoch 32/1000: Val Loss: 1.3584, Val Acc: 0.4777, Val F1: 0.4519\n",
      "Current Learning Rate: 3e-05\n",
      "Best model saved at ../Experiment Augment Result/model7_augment_best.pt with accuracy: 0.4777\n"
     ]
    },
    {
     "name": "stderr",
     "output_type": "stream",
     "text": [
      "Epoch 33/1000: 100%|██████████| 422/422 [03:17<00:00,  2.14it/s, Loss=1.2986, Acc=0.4976]\n"
     ]
    },
    {
     "name": "stdout",
     "output_type": "stream",
     "text": [
      "Epoch 33/1000: Train Loss: 1.2986, Train Acc: 0.4976\n"
     ]
    },
    {
     "name": "stderr",
     "output_type": "stream",
     "text": [
      "Validation: 100%|██████████| 47/47 [00:06<00:00,  7.76it/s, Loss=1.3478, Acc=0.4767]\n"
     ]
    },
    {
     "name": "stdout",
     "output_type": "stream",
     "text": [
      "Epoch 33/1000: Val Loss: 1.3478, Val Acc: 0.4767, Val F1: 0.4559\n",
      "Current Learning Rate: 3e-05\n"
     ]
    },
    {
     "name": "stderr",
     "output_type": "stream",
     "text": [
      "Epoch 34/1000: 100%|██████████| 422/422 [03:20<00:00,  2.11it/s, Loss=1.2848, Acc=0.5053]\n"
     ]
    },
    {
     "name": "stdout",
     "output_type": "stream",
     "text": [
      "Epoch 34/1000: Train Loss: 1.2848, Train Acc: 0.5053\n"
     ]
    },
    {
     "name": "stderr",
     "output_type": "stream",
     "text": [
      "Validation: 100%|██████████| 47/47 [00:06<00:00,  7.73it/s, Loss=1.3443, Acc=0.4750]\n"
     ]
    },
    {
     "name": "stdout",
     "output_type": "stream",
     "text": [
      "Epoch 34/1000: Val Loss: 1.3443, Val Acc: 0.4750, Val F1: 0.4717\n",
      "Current Learning Rate: 3e-05\n"
     ]
    },
    {
     "name": "stderr",
     "output_type": "stream",
     "text": [
      "Epoch 35/1000: 100%|██████████| 422/422 [03:16<00:00,  2.15it/s, Loss=1.2782, Acc=0.5082]\n"
     ]
    },
    {
     "name": "stdout",
     "output_type": "stream",
     "text": [
      "Epoch 35/1000: Train Loss: 1.2782, Train Acc: 0.5082\n"
     ]
    },
    {
     "name": "stderr",
     "output_type": "stream",
     "text": [
      "Validation: 100%|██████████| 47/47 [00:05<00:00,  7.84it/s, Loss=1.3450, Acc=0.4837]\n"
     ]
    },
    {
     "name": "stdout",
     "output_type": "stream",
     "text": [
      "Epoch 35/1000: Val Loss: 1.3450, Val Acc: 0.4837, Val F1: 0.4624\n",
      "Current Learning Rate: 3e-05\n",
      "Best model saved at ../Experiment Augment Result/model7_augment_best.pt with accuracy: 0.4837\n"
     ]
    },
    {
     "name": "stderr",
     "output_type": "stream",
     "text": [
      "Epoch 36/1000: 100%|██████████| 422/422 [03:16<00:00,  2.14it/s, Loss=1.2616, Acc=0.5146]\n"
     ]
    },
    {
     "name": "stdout",
     "output_type": "stream",
     "text": [
      "Epoch 36/1000: Train Loss: 1.2616, Train Acc: 0.5146\n"
     ]
    },
    {
     "name": "stderr",
     "output_type": "stream",
     "text": [
      "Validation: 100%|██████████| 47/47 [00:05<00:00,  7.87it/s, Loss=1.3450, Acc=0.4777]\n"
     ]
    },
    {
     "name": "stdout",
     "output_type": "stream",
     "text": [
      "Epoch 36/1000: Val Loss: 1.3450, Val Acc: 0.4777, Val F1: 0.4636\n",
      "Current Learning Rate: 3e-05\n"
     ]
    },
    {
     "name": "stderr",
     "output_type": "stream",
     "text": [
      "Epoch 37/1000: 100%|██████████| 422/422 [03:16<00:00,  2.15it/s, Loss=1.2616, Acc=0.5135]\n"
     ]
    },
    {
     "name": "stdout",
     "output_type": "stream",
     "text": [
      "Epoch 37/1000: Train Loss: 1.2616, Train Acc: 0.5135\n"
     ]
    },
    {
     "name": "stderr",
     "output_type": "stream",
     "text": [
      "Validation: 100%|██████████| 47/47 [00:06<00:00,  7.82it/s, Loss=1.3232, Acc=0.4843]\n"
     ]
    },
    {
     "name": "stdout",
     "output_type": "stream",
     "text": [
      "Epoch 37/1000: Val Loss: 1.3232, Val Acc: 0.4843, Val F1: 0.4740\n",
      "Current Learning Rate: 3e-05\n",
      "Best model saved at ../Experiment Augment Result/model7_augment_best.pt with accuracy: 0.4843\n"
     ]
    },
    {
     "name": "stderr",
     "output_type": "stream",
     "text": [
      "Epoch 38/1000: 100%|██████████| 422/422 [03:17<00:00,  2.14it/s, Loss=1.2474, Acc=0.5212]\n"
     ]
    },
    {
     "name": "stdout",
     "output_type": "stream",
     "text": [
      "Epoch 38/1000: Train Loss: 1.2474, Train Acc: 0.5212\n"
     ]
    },
    {
     "name": "stderr",
     "output_type": "stream",
     "text": [
      "Validation: 100%|██████████| 47/47 [00:06<00:00,  7.75it/s, Loss=1.3293, Acc=0.4670]\n"
     ]
    },
    {
     "name": "stdout",
     "output_type": "stream",
     "text": [
      "Epoch 38/1000: Val Loss: 1.3293, Val Acc: 0.4670, Val F1: 0.4651\n",
      "Current Learning Rate: 3e-05\n"
     ]
    },
    {
     "name": "stderr",
     "output_type": "stream",
     "text": [
      "Epoch 39/1000: 100%|██████████| 422/422 [03:17<00:00,  2.14it/s, Loss=1.2424, Acc=0.5232]\n"
     ]
    },
    {
     "name": "stdout",
     "output_type": "stream",
     "text": [
      "Epoch 39/1000: Train Loss: 1.2424, Train Acc: 0.5232\n"
     ]
    },
    {
     "name": "stderr",
     "output_type": "stream",
     "text": [
      "Validation: 100%|██████████| 47/47 [00:06<00:00,  7.73it/s, Loss=1.3034, Acc=0.4907]\n"
     ]
    },
    {
     "name": "stdout",
     "output_type": "stream",
     "text": [
      "Epoch 39/1000: Val Loss: 1.3034, Val Acc: 0.4907, Val F1: 0.4817\n",
      "Current Learning Rate: 3e-05\n",
      "Best model saved at ../Experiment Augment Result/model7_augment_best.pt with accuracy: 0.4907\n"
     ]
    },
    {
     "name": "stderr",
     "output_type": "stream",
     "text": [
      "Epoch 40/1000: 100%|██████████| 422/422 [03:17<00:00,  2.14it/s, Loss=1.2296, Acc=0.5286]\n"
     ]
    },
    {
     "name": "stdout",
     "output_type": "stream",
     "text": [
      "Epoch 40/1000: Train Loss: 1.2296, Train Acc: 0.5286\n"
     ]
    },
    {
     "name": "stderr",
     "output_type": "stream",
     "text": [
      "Validation: 100%|██████████| 47/47 [00:05<00:00,  7.88it/s, Loss=1.3143, Acc=0.4853]\n"
     ]
    },
    {
     "name": "stdout",
     "output_type": "stream",
     "text": [
      "Epoch 40/1000: Val Loss: 1.3143, Val Acc: 0.4853, Val F1: 0.4658\n",
      "Current Learning Rate: 3e-05\n"
     ]
    },
    {
     "name": "stderr",
     "output_type": "stream",
     "text": [
      "Epoch 41/1000: 100%|██████████| 422/422 [03:17<00:00,  2.14it/s, Loss=1.2208, Acc=0.5325]\n"
     ]
    },
    {
     "name": "stdout",
     "output_type": "stream",
     "text": [
      "Epoch 41/1000: Train Loss: 1.2208, Train Acc: 0.5325\n"
     ]
    },
    {
     "name": "stderr",
     "output_type": "stream",
     "text": [
      "Validation: 100%|██████████| 47/47 [00:06<00:00,  7.41it/s, Loss=1.3126, Acc=0.4947]\n"
     ]
    },
    {
     "name": "stdout",
     "output_type": "stream",
     "text": [
      "Epoch 41/1000: Val Loss: 1.3126, Val Acc: 0.4947, Val F1: 0.4828\n",
      "Current Learning Rate: 3e-05\n",
      "Best model saved at ../Experiment Augment Result/model7_augment_best.pt with accuracy: 0.4947\n"
     ]
    },
    {
     "name": "stderr",
     "output_type": "stream",
     "text": [
      "Epoch 42/1000: 100%|██████████| 422/422 [03:20<00:00,  2.10it/s, Loss=1.2197, Acc=0.5293]\n"
     ]
    },
    {
     "name": "stdout",
     "output_type": "stream",
     "text": [
      "Epoch 42/1000: Train Loss: 1.2197, Train Acc: 0.5293\n"
     ]
    },
    {
     "name": "stderr",
     "output_type": "stream",
     "text": [
      "Validation: 100%|██████████| 47/47 [00:06<00:00,  7.35it/s, Loss=1.3002, Acc=0.4860]\n"
     ]
    },
    {
     "name": "stdout",
     "output_type": "stream",
     "text": [
      "Epoch 42/1000: Val Loss: 1.3002, Val Acc: 0.4860, Val F1: 0.4734\n",
      "Current Learning Rate: 3e-05\n"
     ]
    },
    {
     "name": "stderr",
     "output_type": "stream",
     "text": [
      "Epoch 43/1000: 100%|██████████| 422/422 [03:17<00:00,  2.14it/s, Loss=1.2054, Acc=0.5394]\n"
     ]
    },
    {
     "name": "stdout",
     "output_type": "stream",
     "text": [
      "Epoch 43/1000: Train Loss: 1.2054, Train Acc: 0.5394\n"
     ]
    },
    {
     "name": "stderr",
     "output_type": "stream",
     "text": [
      "Validation: 100%|██████████| 47/47 [00:06<00:00,  7.74it/s, Loss=1.2983, Acc=0.5023]\n"
     ]
    },
    {
     "name": "stdout",
     "output_type": "stream",
     "text": [
      "Epoch 43/1000: Val Loss: 1.2983, Val Acc: 0.5023, Val F1: 0.4843\n",
      "Current Learning Rate: 3e-05\n",
      "Best model saved at ../Experiment Augment Result/model7_augment_best.pt with accuracy: 0.5023\n"
     ]
    },
    {
     "name": "stderr",
     "output_type": "stream",
     "text": [
      "Epoch 44/1000: 100%|██████████| 422/422 [03:20<00:00,  2.11it/s, Loss=1.1915, Acc=0.5445]\n"
     ]
    },
    {
     "name": "stdout",
     "output_type": "stream",
     "text": [
      "Epoch 44/1000: Train Loss: 1.1915, Train Acc: 0.5445\n"
     ]
    },
    {
     "name": "stderr",
     "output_type": "stream",
     "text": [
      "Validation: 100%|██████████| 47/47 [00:06<00:00,  7.74it/s, Loss=1.2949, Acc=0.4993]\n"
     ]
    },
    {
     "name": "stdout",
     "output_type": "stream",
     "text": [
      "Epoch 44/1000: Val Loss: 1.2949, Val Acc: 0.4993, Val F1: 0.4853\n",
      "Current Learning Rate: 3e-05\n"
     ]
    },
    {
     "name": "stderr",
     "output_type": "stream",
     "text": [
      "Epoch 45/1000: 100%|██████████| 422/422 [03:17<00:00,  2.14it/s, Loss=1.1871, Acc=0.5449]\n"
     ]
    },
    {
     "name": "stdout",
     "output_type": "stream",
     "text": [
      "Epoch 45/1000: Train Loss: 1.1871, Train Acc: 0.5449\n"
     ]
    },
    {
     "name": "stderr",
     "output_type": "stream",
     "text": [
      "Validation: 100%|██████████| 47/47 [00:06<00:00,  7.72it/s, Loss=1.2733, Acc=0.5137]\n"
     ]
    },
    {
     "name": "stdout",
     "output_type": "stream",
     "text": [
      "Epoch 45/1000: Val Loss: 1.2733, Val Acc: 0.5137, Val F1: 0.5071\n",
      "Current Learning Rate: 3e-05\n",
      "Best model saved at ../Experiment Augment Result/model7_augment_best.pt with accuracy: 0.5137\n"
     ]
    },
    {
     "name": "stderr",
     "output_type": "stream",
     "text": [
      "Epoch 46/1000: 100%|██████████| 422/422 [03:17<00:00,  2.14it/s, Loss=1.1758, Acc=0.5491]\n"
     ]
    },
    {
     "name": "stdout",
     "output_type": "stream",
     "text": [
      "Epoch 46/1000: Train Loss: 1.1758, Train Acc: 0.5491\n"
     ]
    },
    {
     "name": "stderr",
     "output_type": "stream",
     "text": [
      "Validation: 100%|██████████| 47/47 [00:06<00:00,  7.72it/s, Loss=1.2849, Acc=0.4937]\n"
     ]
    },
    {
     "name": "stdout",
     "output_type": "stream",
     "text": [
      "Epoch 46/1000: Val Loss: 1.2849, Val Acc: 0.4937, Val F1: 0.4802\n",
      "Current Learning Rate: 3e-05\n"
     ]
    },
    {
     "name": "stderr",
     "output_type": "stream",
     "text": [
      "Epoch 47/1000: 100%|██████████| 422/422 [03:17<00:00,  2.14it/s, Loss=1.1623, Acc=0.5563]\n"
     ]
    },
    {
     "name": "stdout",
     "output_type": "stream",
     "text": [
      "Epoch 47/1000: Train Loss: 1.1623, Train Acc: 0.5563\n"
     ]
    },
    {
     "name": "stderr",
     "output_type": "stream",
     "text": [
      "Validation: 100%|██████████| 47/47 [00:06<00:00,  7.72it/s, Loss=1.2935, Acc=0.4967]\n"
     ]
    },
    {
     "name": "stdout",
     "output_type": "stream",
     "text": [
      "Epoch 47/1000: Val Loss: 1.2935, Val Acc: 0.4967, Val F1: 0.4891\n",
      "Current Learning Rate: 3e-05\n"
     ]
    },
    {
     "name": "stderr",
     "output_type": "stream",
     "text": [
      "Epoch 48/1000: 100%|██████████| 422/422 [03:17<00:00,  2.14it/s, Loss=1.1613, Acc=0.5556]\n"
     ]
    },
    {
     "name": "stdout",
     "output_type": "stream",
     "text": [
      "Epoch 48/1000: Train Loss: 1.1613, Train Acc: 0.5556\n"
     ]
    },
    {
     "name": "stderr",
     "output_type": "stream",
     "text": [
      "Validation: 100%|██████████| 47/47 [00:06<00:00,  7.75it/s, Loss=1.2858, Acc=0.5060]\n"
     ]
    },
    {
     "name": "stdout",
     "output_type": "stream",
     "text": [
      "Epoch 48/1000: Val Loss: 1.2858, Val Acc: 0.5060, Val F1: 0.4899\n",
      "Current Learning Rate: 3e-05\n"
     ]
    },
    {
     "name": "stderr",
     "output_type": "stream",
     "text": [
      "Epoch 49/1000: 100%|██████████| 422/422 [03:18<00:00,  2.12it/s, Loss=1.1467, Acc=0.5611]\n"
     ]
    },
    {
     "name": "stdout",
     "output_type": "stream",
     "text": [
      "Epoch 49/1000: Train Loss: 1.1467, Train Acc: 0.5611\n"
     ]
    },
    {
     "name": "stderr",
     "output_type": "stream",
     "text": [
      "Validation: 100%|██████████| 47/47 [00:06<00:00,  7.67it/s, Loss=1.2720, Acc=0.5007]\n"
     ]
    },
    {
     "name": "stdout",
     "output_type": "stream",
     "text": [
      "Epoch 49/1000: Val Loss: 1.2720, Val Acc: 0.5007, Val F1: 0.4873\n",
      "Current Learning Rate: 3e-05\n"
     ]
    },
    {
     "name": "stderr",
     "output_type": "stream",
     "text": [
      "Epoch 50/1000: 100%|██████████| 422/422 [03:16<00:00,  2.14it/s, Loss=1.1442, Acc=0.5638]\n"
     ]
    },
    {
     "name": "stdout",
     "output_type": "stream",
     "text": [
      "Epoch 50/1000: Train Loss: 1.1442, Train Acc: 0.5638\n"
     ]
    },
    {
     "name": "stderr",
     "output_type": "stream",
     "text": [
      "Validation: 100%|██████████| 47/47 [00:06<00:00,  7.63it/s, Loss=1.2674, Acc=0.5173]\n"
     ]
    },
    {
     "name": "stdout",
     "output_type": "stream",
     "text": [
      "Epoch 50/1000: Val Loss: 1.2674, Val Acc: 0.5173, Val F1: 0.5081\n",
      "Current Learning Rate: 3e-05\n",
      "Best model saved at ../Experiment Augment Result/model7_augment_best.pt with accuracy: 0.5173\n"
     ]
    },
    {
     "name": "stderr",
     "output_type": "stream",
     "text": [
      "Epoch 51/1000: 100%|██████████| 422/422 [03:21<00:00,  2.09it/s, Loss=1.1229, Acc=0.5691]\n"
     ]
    },
    {
     "name": "stdout",
     "output_type": "stream",
     "text": [
      "Epoch 51/1000: Train Loss: 1.1229, Train Acc: 0.5691\n"
     ]
    },
    {
     "name": "stderr",
     "output_type": "stream",
     "text": [
      "Validation: 100%|██████████| 47/47 [00:06<00:00,  7.72it/s, Loss=1.2885, Acc=0.5123]\n"
     ]
    },
    {
     "name": "stdout",
     "output_type": "stream",
     "text": [
      "Epoch 51/1000: Val Loss: 1.2885, Val Acc: 0.5123, Val F1: 0.4891\n",
      "Current Learning Rate: 3e-05\n"
     ]
    },
    {
     "name": "stderr",
     "output_type": "stream",
     "text": [
      "Epoch 52/1000: 100%|██████████| 422/422 [03:20<00:00,  2.11it/s, Loss=1.1255, Acc=0.5686]\n"
     ]
    },
    {
     "name": "stdout",
     "output_type": "stream",
     "text": [
      "Epoch 52/1000: Train Loss: 1.1255, Train Acc: 0.5686\n"
     ]
    },
    {
     "name": "stderr",
     "output_type": "stream",
     "text": [
      "Validation: 100%|██████████| 47/47 [00:06<00:00,  7.73it/s, Loss=1.2583, Acc=0.5190]\n"
     ]
    },
    {
     "name": "stdout",
     "output_type": "stream",
     "text": [
      "Epoch 52/1000: Val Loss: 1.2583, Val Acc: 0.5190, Val F1: 0.5095\n",
      "Current Learning Rate: 3e-05\n",
      "Best model saved at ../Experiment Augment Result/model7_augment_best.pt with accuracy: 0.5190\n"
     ]
    },
    {
     "name": "stderr",
     "output_type": "stream",
     "text": [
      "Epoch 53/1000: 100%|██████████| 422/422 [03:18<00:00,  2.13it/s, Loss=1.1092, Acc=0.5761]\n"
     ]
    },
    {
     "name": "stdout",
     "output_type": "stream",
     "text": [
      "Epoch 53/1000: Train Loss: 1.1092, Train Acc: 0.5761\n"
     ]
    },
    {
     "name": "stderr",
     "output_type": "stream",
     "text": [
      "Validation: 100%|██████████| 47/47 [00:06<00:00,  7.73it/s, Loss=1.2642, Acc=0.5160]\n"
     ]
    },
    {
     "name": "stdout",
     "output_type": "stream",
     "text": [
      "Epoch 53/1000: Val Loss: 1.2642, Val Acc: 0.5160, Val F1: 0.5081\n",
      "Current Learning Rate: 3e-05\n"
     ]
    },
    {
     "name": "stderr",
     "output_type": "stream",
     "text": [
      "Epoch 54/1000: 100%|██████████| 422/422 [03:18<00:00,  2.13it/s, Loss=1.1025, Acc=0.5810]\n"
     ]
    },
    {
     "name": "stdout",
     "output_type": "stream",
     "text": [
      "Epoch 54/1000: Train Loss: 1.1025, Train Acc: 0.5810\n"
     ]
    },
    {
     "name": "stderr",
     "output_type": "stream",
     "text": [
      "Validation: 100%|██████████| 47/47 [00:06<00:00,  7.75it/s, Loss=1.2433, Acc=0.5190]\n"
     ]
    },
    {
     "name": "stdout",
     "output_type": "stream",
     "text": [
      "Epoch 54/1000: Val Loss: 1.2433, Val Acc: 0.5190, Val F1: 0.5147\n",
      "Current Learning Rate: 3e-05\n"
     ]
    },
    {
     "name": "stderr",
     "output_type": "stream",
     "text": [
      "Epoch 55/1000: 100%|██████████| 422/422 [03:17<00:00,  2.14it/s, Loss=1.0908, Acc=0.5848]\n"
     ]
    },
    {
     "name": "stdout",
     "output_type": "stream",
     "text": [
      "Epoch 55/1000: Train Loss: 1.0908, Train Acc: 0.5848\n"
     ]
    },
    {
     "name": "stderr",
     "output_type": "stream",
     "text": [
      "Validation: 100%|██████████| 47/47 [00:06<00:00,  7.66it/s, Loss=1.2627, Acc=0.5220]\n"
     ]
    },
    {
     "name": "stdout",
     "output_type": "stream",
     "text": [
      "Epoch 55/1000: Val Loss: 1.2627, Val Acc: 0.5220, Val F1: 0.5092\n",
      "Current Learning Rate: 3e-05\n",
      "Best model saved at ../Experiment Augment Result/model7_augment_best.pt with accuracy: 0.5220\n"
     ]
    },
    {
     "name": "stderr",
     "output_type": "stream",
     "text": [
      "Epoch 56/1000: 100%|██████████| 422/422 [03:18<00:00,  2.12it/s, Loss=1.0873, Acc=0.5852]\n"
     ]
    },
    {
     "name": "stdout",
     "output_type": "stream",
     "text": [
      "Epoch 56/1000: Train Loss: 1.0873, Train Acc: 0.5852\n"
     ]
    },
    {
     "name": "stderr",
     "output_type": "stream",
     "text": [
      "Validation: 100%|██████████| 47/47 [00:06<00:00,  7.73it/s, Loss=1.2460, Acc=0.5157]\n"
     ]
    },
    {
     "name": "stdout",
     "output_type": "stream",
     "text": [
      "Epoch 56/1000: Val Loss: 1.2460, Val Acc: 0.5157, Val F1: 0.5015\n",
      "Current Learning Rate: 3e-05\n"
     ]
    },
    {
     "name": "stderr",
     "output_type": "stream",
     "text": [
      "Epoch 57/1000: 100%|██████████| 422/422 [03:17<00:00,  2.14it/s, Loss=1.0703, Acc=0.5925]\n"
     ]
    },
    {
     "name": "stdout",
     "output_type": "stream",
     "text": [
      "Epoch 57/1000: Train Loss: 1.0703, Train Acc: 0.5925\n"
     ]
    },
    {
     "name": "stderr",
     "output_type": "stream",
     "text": [
      "Validation: 100%|██████████| 47/47 [00:06<00:00,  7.74it/s, Loss=1.2742, Acc=0.5110]\n"
     ]
    },
    {
     "name": "stdout",
     "output_type": "stream",
     "text": [
      "Epoch 57/1000: Val Loss: 1.2742, Val Acc: 0.5110, Val F1: 0.4989\n",
      "Current Learning Rate: 3e-05\n"
     ]
    },
    {
     "name": "stderr",
     "output_type": "stream",
     "text": [
      "Epoch 58/1000: 100%|██████████| 422/422 [03:18<00:00,  2.13it/s, Loss=1.0659, Acc=0.5957]\n"
     ]
    },
    {
     "name": "stdout",
     "output_type": "stream",
     "text": [
      "Epoch 58/1000: Train Loss: 1.0659, Train Acc: 0.5957\n"
     ]
    },
    {
     "name": "stderr",
     "output_type": "stream",
     "text": [
      "Validation: 100%|██████████| 47/47 [00:05<00:00,  7.87it/s, Loss=1.2494, Acc=0.5153]\n"
     ]
    },
    {
     "name": "stdout",
     "output_type": "stream",
     "text": [
      "Epoch 58/1000: Val Loss: 1.2494, Val Acc: 0.5153, Val F1: 0.5146\n",
      "Current Learning Rate: 3e-05\n"
     ]
    },
    {
     "name": "stderr",
     "output_type": "stream",
     "text": [
      "Epoch 59/1000: 100%|██████████| 422/422 [03:16<00:00,  2.14it/s, Loss=1.0545, Acc=0.6044]\n"
     ]
    },
    {
     "name": "stdout",
     "output_type": "stream",
     "text": [
      "Epoch 59/1000: Train Loss: 1.0545, Train Acc: 0.6044\n"
     ]
    },
    {
     "name": "stderr",
     "output_type": "stream",
     "text": [
      "Validation: 100%|██████████| 47/47 [00:06<00:00,  7.75it/s, Loss=1.2693, Acc=0.5237]\n"
     ]
    },
    {
     "name": "stdout",
     "output_type": "stream",
     "text": [
      "Epoch 59/1000: Val Loss: 1.2693, Val Acc: 0.5237, Val F1: 0.5073\n",
      "Current Learning Rate: 3e-05\n",
      "Best model saved at ../Experiment Augment Result/model7_augment_best.pt with accuracy: 0.5237\n"
     ]
    },
    {
     "name": "stderr",
     "output_type": "stream",
     "text": [
      "Epoch 60/1000: 100%|██████████| 422/422 [03:17<00:00,  2.13it/s, Loss=1.0377, Acc=0.6047]\n"
     ]
    },
    {
     "name": "stdout",
     "output_type": "stream",
     "text": [
      "Epoch 60/1000: Train Loss: 1.0377, Train Acc: 0.6047\n"
     ]
    },
    {
     "name": "stderr",
     "output_type": "stream",
     "text": [
      "Validation: 100%|██████████| 47/47 [00:06<00:00,  7.74it/s, Loss=1.2875, Acc=0.5177]\n"
     ]
    },
    {
     "name": "stdout",
     "output_type": "stream",
     "text": [
      "Epoch 60/1000: Val Loss: 1.2875, Val Acc: 0.5177, Val F1: 0.5030\n",
      "Current Learning Rate: 3e-06\n"
     ]
    },
    {
     "name": "stderr",
     "output_type": "stream",
     "text": [
      "Epoch 61/1000: 100%|██████████| 422/422 [03:17<00:00,  2.13it/s, Loss=0.9707, Acc=0.6338]\n"
     ]
    },
    {
     "name": "stdout",
     "output_type": "stream",
     "text": [
      "Epoch 61/1000: Train Loss: 0.9707, Train Acc: 0.6338\n"
     ]
    },
    {
     "name": "stderr",
     "output_type": "stream",
     "text": [
      "Validation: 100%|██████████| 47/47 [00:06<00:00,  7.75it/s, Loss=1.2436, Acc=0.5237]\n"
     ]
    },
    {
     "name": "stdout",
     "output_type": "stream",
     "text": [
      "Epoch 61/1000: Val Loss: 1.2436, Val Acc: 0.5237, Val F1: 0.5175\n",
      "Current Learning Rate: 3e-06\n"
     ]
    },
    {
     "name": "stderr",
     "output_type": "stream",
     "text": [
      "Epoch 62/1000: 100%|██████████| 422/422 [03:16<00:00,  2.14it/s, Loss=0.9486, Acc=0.6440]\n"
     ]
    },
    {
     "name": "stdout",
     "output_type": "stream",
     "text": [
      "Epoch 62/1000: Train Loss: 0.9486, Train Acc: 0.6440\n"
     ]
    },
    {
     "name": "stderr",
     "output_type": "stream",
     "text": [
      "Validation: 100%|██████████| 47/47 [00:06<00:00,  7.71it/s, Loss=1.2415, Acc=0.5300]\n"
     ]
    },
    {
     "name": "stdout",
     "output_type": "stream",
     "text": [
      "Epoch 62/1000: Val Loss: 1.2415, Val Acc: 0.5300, Val F1: 0.5240\n",
      "Current Learning Rate: 3e-06\n",
      "Best model saved at ../Experiment Augment Result/model7_augment_best.pt with accuracy: 0.5300\n"
     ]
    },
    {
     "name": "stderr",
     "output_type": "stream",
     "text": [
      "Epoch 63/1000: 100%|██████████| 422/422 [03:18<00:00,  2.13it/s, Loss=0.9423, Acc=0.6428]\n"
     ]
    },
    {
     "name": "stdout",
     "output_type": "stream",
     "text": [
      "Epoch 63/1000: Train Loss: 0.9423, Train Acc: 0.6428\n"
     ]
    },
    {
     "name": "stderr",
     "output_type": "stream",
     "text": [
      "Validation: 100%|██████████| 47/47 [00:06<00:00,  7.75it/s, Loss=1.2354, Acc=0.5330]\n"
     ]
    },
    {
     "name": "stdout",
     "output_type": "stream",
     "text": [
      "Epoch 63/1000: Val Loss: 1.2354, Val Acc: 0.5330, Val F1: 0.5287\n",
      "Current Learning Rate: 3e-06\n",
      "Best model saved at ../Experiment Augment Result/model7_augment_best.pt with accuracy: 0.5330\n"
     ]
    },
    {
     "name": "stderr",
     "output_type": "stream",
     "text": [
      "Epoch 64/1000: 100%|██████████| 422/422 [03:17<00:00,  2.14it/s, Loss=0.9368, Acc=0.6469]\n"
     ]
    },
    {
     "name": "stdout",
     "output_type": "stream",
     "text": [
      "Epoch 64/1000: Train Loss: 0.9368, Train Acc: 0.6469\n"
     ]
    },
    {
     "name": "stderr",
     "output_type": "stream",
     "text": [
      "Validation: 100%|██████████| 47/47 [00:06<00:00,  7.75it/s, Loss=1.2290, Acc=0.5263]\n"
     ]
    },
    {
     "name": "stdout",
     "output_type": "stream",
     "text": [
      "Epoch 64/1000: Val Loss: 1.2290, Val Acc: 0.5263, Val F1: 0.5211\n",
      "Current Learning Rate: 3e-06\n"
     ]
    },
    {
     "name": "stderr",
     "output_type": "stream",
     "text": [
      "Epoch 65/1000: 100%|██████████| 422/422 [03:17<00:00,  2.13it/s, Loss=0.9183, Acc=0.6563]\n"
     ]
    },
    {
     "name": "stdout",
     "output_type": "stream",
     "text": [
      "Epoch 65/1000: Train Loss: 0.9183, Train Acc: 0.6563\n"
     ]
    },
    {
     "name": "stderr",
     "output_type": "stream",
     "text": [
      "Validation: 100%|██████████| 47/47 [00:05<00:00,  7.84it/s, Loss=1.2364, Acc=0.5290]\n"
     ]
    },
    {
     "name": "stdout",
     "output_type": "stream",
     "text": [
      "Epoch 65/1000: Val Loss: 1.2364, Val Acc: 0.5290, Val F1: 0.5255\n",
      "Current Learning Rate: 3e-06\n"
     ]
    },
    {
     "name": "stderr",
     "output_type": "stream",
     "text": [
      "Epoch 66/1000: 100%|██████████| 422/422 [03:17<00:00,  2.14it/s, Loss=0.9206, Acc=0.6529]\n"
     ]
    },
    {
     "name": "stdout",
     "output_type": "stream",
     "text": [
      "Epoch 66/1000: Train Loss: 0.9206, Train Acc: 0.6529\n"
     ]
    },
    {
     "name": "stderr",
     "output_type": "stream",
     "text": [
      "Validation: 100%|██████████| 47/47 [00:06<00:00,  7.75it/s, Loss=1.2375, Acc=0.5280]\n"
     ]
    },
    {
     "name": "stdout",
     "output_type": "stream",
     "text": [
      "Epoch 66/1000: Val Loss: 1.2375, Val Acc: 0.5280, Val F1: 0.5230\n",
      "Current Learning Rate: 3e-06\n"
     ]
    },
    {
     "name": "stderr",
     "output_type": "stream",
     "text": [
      "Epoch 67/1000: 100%|██████████| 422/422 [03:16<00:00,  2.15it/s, Loss=0.9111, Acc=0.6571]\n"
     ]
    },
    {
     "name": "stdout",
     "output_type": "stream",
     "text": [
      "Epoch 67/1000: Train Loss: 0.9111, Train Acc: 0.6571\n"
     ]
    },
    {
     "name": "stderr",
     "output_type": "stream",
     "text": [
      "Validation: 100%|██████████| 47/47 [00:05<00:00,  7.86it/s, Loss=1.2369, Acc=0.5250]\n"
     ]
    },
    {
     "name": "stdout",
     "output_type": "stream",
     "text": [
      "Epoch 67/1000: Val Loss: 1.2369, Val Acc: 0.5250, Val F1: 0.5206\n",
      "Current Learning Rate: 3e-06\n"
     ]
    },
    {
     "name": "stderr",
     "output_type": "stream",
     "text": [
      "Epoch 68/1000: 100%|██████████| 422/422 [03:16<00:00,  2.14it/s, Loss=0.9083, Acc=0.6618]\n"
     ]
    },
    {
     "name": "stdout",
     "output_type": "stream",
     "text": [
      "Epoch 68/1000: Train Loss: 0.9083, Train Acc: 0.6618\n"
     ]
    },
    {
     "name": "stderr",
     "output_type": "stream",
     "text": [
      "Validation: 100%|██████████| 47/47 [00:06<00:00,  7.75it/s, Loss=1.2411, Acc=0.5353]\n"
     ]
    },
    {
     "name": "stdout",
     "output_type": "stream",
     "text": [
      "Epoch 68/1000: Val Loss: 1.2411, Val Acc: 0.5353, Val F1: 0.5286\n",
      "Current Learning Rate: 3e-06\n",
      "Best model saved at ../Experiment Augment Result/model7_augment_best.pt with accuracy: 0.5353\n"
     ]
    },
    {
     "name": "stderr",
     "output_type": "stream",
     "text": [
      "Epoch 69/1000: 100%|██████████| 422/422 [03:16<00:00,  2.15it/s, Loss=0.9063, Acc=0.6598]\n"
     ]
    },
    {
     "name": "stdout",
     "output_type": "stream",
     "text": [
      "Epoch 69/1000: Train Loss: 0.9063, Train Acc: 0.6598\n"
     ]
    },
    {
     "name": "stderr",
     "output_type": "stream",
     "text": [
      "Validation: 100%|██████████| 47/47 [00:05<00:00,  7.85it/s, Loss=1.2429, Acc=0.5313]\n"
     ]
    },
    {
     "name": "stdout",
     "output_type": "stream",
     "text": [
      "Epoch 69/1000: Val Loss: 1.2429, Val Acc: 0.5313, Val F1: 0.5259\n",
      "Current Learning Rate: 3e-06\n"
     ]
    },
    {
     "name": "stderr",
     "output_type": "stream",
     "text": [
      "Epoch 70/1000: 100%|██████████| 422/422 [03:16<00:00,  2.14it/s, Loss=0.8937, Acc=0.6655]\n"
     ]
    },
    {
     "name": "stdout",
     "output_type": "stream",
     "text": [
      "Epoch 70/1000: Train Loss: 0.8937, Train Acc: 0.6655\n"
     ]
    },
    {
     "name": "stderr",
     "output_type": "stream",
     "text": [
      "Validation: 100%|██████████| 47/47 [00:05<00:00,  7.84it/s, Loss=1.2413, Acc=0.5330]\n"
     ]
    },
    {
     "name": "stdout",
     "output_type": "stream",
     "text": [
      "Epoch 70/1000: Val Loss: 1.2413, Val Acc: 0.5330, Val F1: 0.5274\n",
      "Current Learning Rate: 3.0000000000000004e-07\n"
     ]
    },
    {
     "name": "stderr",
     "output_type": "stream",
     "text": [
      "Epoch 71/1000: 100%|██████████| 422/422 [03:18<00:00,  2.13it/s, Loss=0.8847, Acc=0.6685]\n"
     ]
    },
    {
     "name": "stdout",
     "output_type": "stream",
     "text": [
      "Epoch 71/1000: Train Loss: 0.8847, Train Acc: 0.6685\n"
     ]
    },
    {
     "name": "stderr",
     "output_type": "stream",
     "text": [
      "Validation: 100%|██████████| 47/47 [00:06<00:00,  7.74it/s, Loss=1.2387, Acc=0.5347]\n"
     ]
    },
    {
     "name": "stdout",
     "output_type": "stream",
     "text": [
      "Epoch 71/1000: Val Loss: 1.2387, Val Acc: 0.5347, Val F1: 0.5301\n",
      "Current Learning Rate: 3.0000000000000004e-07\n"
     ]
    },
    {
     "name": "stderr",
     "output_type": "stream",
     "text": [
      "Epoch 72/1000: 100%|██████████| 422/422 [03:17<00:00,  2.14it/s, Loss=0.8827, Acc=0.6680]\n"
     ]
    },
    {
     "name": "stdout",
     "output_type": "stream",
     "text": [
      "Epoch 72/1000: Train Loss: 0.8827, Train Acc: 0.6680\n"
     ]
    },
    {
     "name": "stderr",
     "output_type": "stream",
     "text": [
      "Validation: 100%|██████████| 47/47 [00:06<00:00,  7.75it/s, Loss=1.2385, Acc=0.5360]\n"
     ]
    },
    {
     "name": "stdout",
     "output_type": "stream",
     "text": [
      "Epoch 72/1000: Val Loss: 1.2385, Val Acc: 0.5360, Val F1: 0.5315\n",
      "Current Learning Rate: 3.0000000000000004e-07\n",
      "Best model saved at ../Experiment Augment Result/model7_augment_best.pt with accuracy: 0.5360\n"
     ]
    },
    {
     "name": "stderr",
     "output_type": "stream",
     "text": [
      "Epoch 73/1000: 100%|██████████| 422/422 [03:18<00:00,  2.12it/s, Loss=0.8830, Acc=0.6696]\n"
     ]
    },
    {
     "name": "stdout",
     "output_type": "stream",
     "text": [
      "Epoch 73/1000: Train Loss: 0.8830, Train Acc: 0.6696\n"
     ]
    },
    {
     "name": "stderr",
     "output_type": "stream",
     "text": [
      "Validation: 100%|██████████| 47/47 [00:06<00:00,  7.80it/s, Loss=1.2388, Acc=0.5383]\n"
     ]
    },
    {
     "name": "stdout",
     "output_type": "stream",
     "text": [
      "Epoch 73/1000: Val Loss: 1.2388, Val Acc: 0.5383, Val F1: 0.5336\n",
      "Current Learning Rate: 3.0000000000000004e-07\n",
      "Best model saved at ../Experiment Augment Result/model7_augment_best.pt with accuracy: 0.5383\n"
     ]
    },
    {
     "name": "stderr",
     "output_type": "stream",
     "text": [
      "Epoch 74/1000: 100%|██████████| 422/422 [03:18<00:00,  2.13it/s, Loss=0.8828, Acc=0.6691]\n"
     ]
    },
    {
     "name": "stdout",
     "output_type": "stream",
     "text": [
      "Epoch 74/1000: Train Loss: 0.8828, Train Acc: 0.6691\n"
     ]
    },
    {
     "name": "stderr",
     "output_type": "stream",
     "text": [
      "Validation: 100%|██████████| 47/47 [00:06<00:00,  7.59it/s, Loss=1.2383, Acc=0.5360]\n"
     ]
    },
    {
     "name": "stdout",
     "output_type": "stream",
     "text": [
      "Epoch 74/1000: Val Loss: 1.2383, Val Acc: 0.5360, Val F1: 0.5314\n",
      "Current Learning Rate: 3.0000000000000004e-07\n"
     ]
    },
    {
     "name": "stderr",
     "output_type": "stream",
     "text": [
      "Epoch 75/1000: 100%|██████████| 422/422 [03:17<00:00,  2.13it/s, Loss=0.8870, Acc=0.6649]\n"
     ]
    },
    {
     "name": "stdout",
     "output_type": "stream",
     "text": [
      "Epoch 75/1000: Train Loss: 0.8870, Train Acc: 0.6649\n"
     ]
    },
    {
     "name": "stderr",
     "output_type": "stream",
     "text": [
      "Validation: 100%|██████████| 47/47 [00:06<00:00,  7.74it/s, Loss=1.2388, Acc=0.5370]\n"
     ]
    },
    {
     "name": "stdout",
     "output_type": "stream",
     "text": [
      "Epoch 75/1000: Val Loss: 1.2388, Val Acc: 0.5370, Val F1: 0.5319\n",
      "Current Learning Rate: 3.0000000000000004e-07\n"
     ]
    },
    {
     "name": "stderr",
     "output_type": "stream",
     "text": [
      "Epoch 76/1000: 100%|██████████| 422/422 [03:17<00:00,  2.13it/s, Loss=0.8778, Acc=0.6703]\n"
     ]
    },
    {
     "name": "stdout",
     "output_type": "stream",
     "text": [
      "Epoch 76/1000: Train Loss: 0.8778, Train Acc: 0.6703\n"
     ]
    },
    {
     "name": "stderr",
     "output_type": "stream",
     "text": [
      "Validation: 100%|██████████| 47/47 [00:06<00:00,  7.81it/s, Loss=1.2371, Acc=0.5363]\n"
     ]
    },
    {
     "name": "stdout",
     "output_type": "stream",
     "text": [
      "Epoch 76/1000: Val Loss: 1.2371, Val Acc: 0.5363, Val F1: 0.5320\n",
      "Current Learning Rate: 3.0000000000000004e-08\n"
     ]
    },
    {
     "name": "stderr",
     "output_type": "stream",
     "text": [
      "Epoch 77/1000: 100%|██████████| 422/422 [03:17<00:00,  2.13it/s, Loss=0.8844, Acc=0.6685]\n"
     ]
    },
    {
     "name": "stdout",
     "output_type": "stream",
     "text": [
      "Epoch 77/1000: Train Loss: 0.8844, Train Acc: 0.6685\n"
     ]
    },
    {
     "name": "stderr",
     "output_type": "stream",
     "text": [
      "Validation: 100%|██████████| 47/47 [00:06<00:00,  7.76it/s, Loss=1.2378, Acc=0.5363]\n"
     ]
    },
    {
     "name": "stdout",
     "output_type": "stream",
     "text": [
      "Epoch 77/1000: Val Loss: 1.2378, Val Acc: 0.5363, Val F1: 0.5319\n",
      "Current Learning Rate: 3.0000000000000004e-08\n"
     ]
    },
    {
     "name": "stderr",
     "output_type": "stream",
     "text": [
      "Epoch 78/1000: 100%|██████████| 422/422 [03:17<00:00,  2.14it/s, Loss=0.8838, Acc=0.6660]\n"
     ]
    },
    {
     "name": "stdout",
     "output_type": "stream",
     "text": [
      "Epoch 78/1000: Train Loss: 0.8838, Train Acc: 0.6660\n"
     ]
    },
    {
     "name": "stderr",
     "output_type": "stream",
     "text": [
      "Validation: 100%|██████████| 47/47 [00:06<00:00,  7.74it/s, Loss=1.2370, Acc=0.5367]\n"
     ]
    },
    {
     "name": "stdout",
     "output_type": "stream",
     "text": [
      "Epoch 78/1000: Val Loss: 1.2370, Val Acc: 0.5367, Val F1: 0.5322\n",
      "Current Learning Rate: 3.0000000000000004e-08\n"
     ]
    },
    {
     "name": "stderr",
     "output_type": "stream",
     "text": [
      "Epoch 79/1000: 100%|██████████| 422/422 [03:17<00:00,  2.13it/s, Loss=0.8832, Acc=0.6718]\n"
     ]
    },
    {
     "name": "stdout",
     "output_type": "stream",
     "text": [
      "Epoch 79/1000: Train Loss: 0.8832, Train Acc: 0.6718\n"
     ]
    },
    {
     "name": "stderr",
     "output_type": "stream",
     "text": [
      "Validation: 100%|██████████| 47/47 [00:06<00:00,  7.68it/s, Loss=1.2367, Acc=0.5367]\n"
     ]
    },
    {
     "name": "stdout",
     "output_type": "stream",
     "text": [
      "Epoch 79/1000: Val Loss: 1.2367, Val Acc: 0.5367, Val F1: 0.5322\n",
      "Current Learning Rate: 3.0000000000000004e-08\n",
      "Early stopping triggered at epoch 79!\n"
     ]
    },
    {
     "name": "stderr",
     "output_type": "stream",
     "text": [
      "Testing: 100%|██████████| 53/53 [00:06<00:00,  7.87it/s, Loss=1.2131, Acc=0.5620]\n"
     ]
    },
    {
     "name": "stdout",
     "output_type": "stream",
     "text": [
      "Test Loss: 1.2131, Test Acc: 0.5620, Test F1: 0.5551\n",
      "Start model8 with configuration patch size: 16, num_heads: 8, embedding_dims: 768, num_layers: 12\n"
     ]
    },
    {
     "name": "stderr",
     "output_type": "stream",
     "text": [
      "Epoch 1/1000: 100%|██████████| 422/422 [06:16<00:00,  1.12it/s, Loss=1.7843, Acc=0.2561]\n"
     ]
    },
    {
     "name": "stdout",
     "output_type": "stream",
     "text": [
      "Epoch 1/1000: Train Loss: 1.7843, Train Acc: 0.2561\n"
     ]
    },
    {
     "name": "stderr",
     "output_type": "stream",
     "text": [
      "Validation: 100%|██████████| 47/47 [00:11<00:00,  4.09it/s, Loss=1.7179, Acc=0.2990]\n"
     ]
    },
    {
     "name": "stdout",
     "output_type": "stream",
     "text": [
      "Epoch 1/1000: Val Loss: 1.7179, Val Acc: 0.2990, Val F1: 0.2252\n",
      "Current Learning Rate: 3e-05\n",
      "Best model saved at ../Experiment Augment Result/model8_augment_best.pt with accuracy: 0.2990\n"
     ]
    },
    {
     "name": "stderr",
     "output_type": "stream",
     "text": [
      "Epoch 2/1000: 100%|██████████| 422/422 [06:16<00:00,  1.12it/s, Loss=1.6776, Acc=0.3326]\n"
     ]
    },
    {
     "name": "stdout",
     "output_type": "stream",
     "text": [
      "Epoch 2/1000: Train Loss: 1.6776, Train Acc: 0.3326\n"
     ]
    },
    {
     "name": "stderr",
     "output_type": "stream",
     "text": [
      "Validation: 100%|██████████| 47/47 [00:11<00:00,  4.09it/s, Loss=1.6713, Acc=0.3270]\n"
     ]
    },
    {
     "name": "stdout",
     "output_type": "stream",
     "text": [
      "Epoch 2/1000: Val Loss: 1.6713, Val Acc: 0.3270, Val F1: 0.2370\n",
      "Current Learning Rate: 3e-05\n",
      "Best model saved at ../Experiment Augment Result/model8_augment_best.pt with accuracy: 0.3270\n"
     ]
    },
    {
     "name": "stderr",
     "output_type": "stream",
     "text": [
      "Epoch 3/1000: 100%|██████████| 422/422 [06:16<00:00,  1.12it/s, Loss=1.6451, Acc=0.3511]\n"
     ]
    },
    {
     "name": "stdout",
     "output_type": "stream",
     "text": [
      "Epoch 3/1000: Train Loss: 1.6451, Train Acc: 0.3511\n"
     ]
    },
    {
     "name": "stderr",
     "output_type": "stream",
     "text": [
      "Validation: 100%|██████████| 47/47 [00:11<00:00,  4.08it/s, Loss=1.6576, Acc=0.3357]\n"
     ]
    },
    {
     "name": "stdout",
     "output_type": "stream",
     "text": [
      "Epoch 3/1000: Val Loss: 1.6576, Val Acc: 0.3357, Val F1: 0.3208\n",
      "Current Learning Rate: 3e-05\n",
      "Best model saved at ../Experiment Augment Result/model8_augment_best.pt with accuracy: 0.3357\n"
     ]
    },
    {
     "name": "stderr",
     "output_type": "stream",
     "text": [
      "Epoch 4/1000: 100%|██████████| 422/422 [06:16<00:00,  1.12it/s, Loss=1.6282, Acc=0.3558]\n"
     ]
    },
    {
     "name": "stdout",
     "output_type": "stream",
     "text": [
      "Epoch 4/1000: Train Loss: 1.6282, Train Acc: 0.3558\n"
     ]
    },
    {
     "name": "stderr",
     "output_type": "stream",
     "text": [
      "Validation: 100%|██████████| 47/47 [00:11<00:00,  4.10it/s, Loss=1.6109, Acc=0.3770]\n"
     ]
    },
    {
     "name": "stdout",
     "output_type": "stream",
     "text": [
      "Epoch 4/1000: Val Loss: 1.6109, Val Acc: 0.3770, Val F1: 0.3071\n",
      "Current Learning Rate: 3e-05\n",
      "Best model saved at ../Experiment Augment Result/model8_augment_best.pt with accuracy: 0.3770\n"
     ]
    },
    {
     "name": "stderr",
     "output_type": "stream",
     "text": [
      "Epoch 5/1000: 100%|██████████| 422/422 [06:17<00:00,  1.12it/s, Loss=1.6030, Acc=0.3710]\n"
     ]
    },
    {
     "name": "stdout",
     "output_type": "stream",
     "text": [
      "Epoch 5/1000: Train Loss: 1.6030, Train Acc: 0.3710\n"
     ]
    },
    {
     "name": "stderr",
     "output_type": "stream",
     "text": [
      "Validation: 100%|██████████| 47/47 [00:11<00:00,  4.08it/s, Loss=1.5753, Acc=0.3813]\n"
     ]
    },
    {
     "name": "stdout",
     "output_type": "stream",
     "text": [
      "Epoch 5/1000: Val Loss: 1.5753, Val Acc: 0.3813, Val F1: 0.3493\n",
      "Current Learning Rate: 3e-05\n",
      "Best model saved at ../Experiment Augment Result/model8_augment_best.pt with accuracy: 0.3813\n"
     ]
    },
    {
     "name": "stderr",
     "output_type": "stream",
     "text": [
      "Epoch 6/1000: 100%|██████████| 422/422 [06:16<00:00,  1.12it/s, Loss=1.5899, Acc=0.3740]\n"
     ]
    },
    {
     "name": "stdout",
     "output_type": "stream",
     "text": [
      "Epoch 6/1000: Train Loss: 1.5899, Train Acc: 0.3740\n"
     ]
    },
    {
     "name": "stderr",
     "output_type": "stream",
     "text": [
      "Validation: 100%|██████████| 47/47 [00:11<00:00,  4.09it/s, Loss=1.5640, Acc=0.3897]\n"
     ]
    },
    {
     "name": "stdout",
     "output_type": "stream",
     "text": [
      "Epoch 6/1000: Val Loss: 1.5640, Val Acc: 0.3897, Val F1: 0.3545\n",
      "Current Learning Rate: 3e-05\n",
      "Best model saved at ../Experiment Augment Result/model8_augment_best.pt with accuracy: 0.3897\n"
     ]
    },
    {
     "name": "stderr",
     "output_type": "stream",
     "text": [
      "Epoch 7/1000: 100%|██████████| 422/422 [06:17<00:00,  1.12it/s, Loss=1.5702, Acc=0.3853]\n"
     ]
    },
    {
     "name": "stdout",
     "output_type": "stream",
     "text": [
      "Epoch 7/1000: Train Loss: 1.5702, Train Acc: 0.3853\n"
     ]
    },
    {
     "name": "stderr",
     "output_type": "stream",
     "text": [
      "Validation: 100%|██████████| 47/47 [00:11<00:00,  4.09it/s, Loss=1.5291, Acc=0.4027]\n"
     ]
    },
    {
     "name": "stdout",
     "output_type": "stream",
     "text": [
      "Epoch 7/1000: Val Loss: 1.5291, Val Acc: 0.4027, Val F1: 0.3792\n",
      "Current Learning Rate: 3e-05\n",
      "Best model saved at ../Experiment Augment Result/model8_augment_best.pt with accuracy: 0.4027\n"
     ]
    },
    {
     "name": "stderr",
     "output_type": "stream",
     "text": [
      "Epoch 8/1000: 100%|██████████| 422/422 [06:19<00:00,  1.11it/s, Loss=1.5599, Acc=0.3893]\n"
     ]
    },
    {
     "name": "stdout",
     "output_type": "stream",
     "text": [
      "Epoch 8/1000: Train Loss: 1.5599, Train Acc: 0.3893\n"
     ]
    },
    {
     "name": "stderr",
     "output_type": "stream",
     "text": [
      "Validation: 100%|██████████| 47/47 [00:11<00:00,  4.09it/s, Loss=1.5400, Acc=0.4003]\n"
     ]
    },
    {
     "name": "stdout",
     "output_type": "stream",
     "text": [
      "Epoch 8/1000: Val Loss: 1.5400, Val Acc: 0.4003, Val F1: 0.3462\n",
      "Current Learning Rate: 3e-05\n"
     ]
    },
    {
     "name": "stderr",
     "output_type": "stream",
     "text": [
      "Epoch 9/1000: 100%|██████████| 422/422 [06:19<00:00,  1.11it/s, Loss=1.5438, Acc=0.3962]\n"
     ]
    },
    {
     "name": "stdout",
     "output_type": "stream",
     "text": [
      "Epoch 9/1000: Train Loss: 1.5438, Train Acc: 0.3962\n"
     ]
    },
    {
     "name": "stderr",
     "output_type": "stream",
     "text": [
      "Validation: 100%|██████████| 47/47 [00:11<00:00,  4.08it/s, Loss=1.5065, Acc=0.4060]\n"
     ]
    },
    {
     "name": "stdout",
     "output_type": "stream",
     "text": [
      "Epoch 9/1000: Val Loss: 1.5065, Val Acc: 0.4060, Val F1: 0.3700\n",
      "Current Learning Rate: 3e-05\n",
      "Best model saved at ../Experiment Augment Result/model8_augment_best.pt with accuracy: 0.4060\n"
     ]
    },
    {
     "name": "stderr",
     "output_type": "stream",
     "text": [
      "Epoch 10/1000: 100%|██████████| 422/422 [06:17<00:00,  1.12it/s, Loss=1.5283, Acc=0.4003]\n"
     ]
    },
    {
     "name": "stdout",
     "output_type": "stream",
     "text": [
      "Epoch 10/1000: Train Loss: 1.5283, Train Acc: 0.4003\n"
     ]
    },
    {
     "name": "stderr",
     "output_type": "stream",
     "text": [
      "Validation: 100%|██████████| 47/47 [00:11<00:00,  4.09it/s, Loss=1.4971, Acc=0.4077]\n"
     ]
    },
    {
     "name": "stdout",
     "output_type": "stream",
     "text": [
      "Epoch 10/1000: Val Loss: 1.4971, Val Acc: 0.4077, Val F1: 0.3752\n",
      "Current Learning Rate: 3e-05\n",
      "Best model saved at ../Experiment Augment Result/model8_augment_best.pt with accuracy: 0.4077\n"
     ]
    },
    {
     "name": "stderr",
     "output_type": "stream",
     "text": [
      "Epoch 11/1000: 100%|██████████| 422/422 [06:16<00:00,  1.12it/s, Loss=1.5086, Acc=0.4106]\n"
     ]
    },
    {
     "name": "stdout",
     "output_type": "stream",
     "text": [
      "Epoch 11/1000: Train Loss: 1.5086, Train Acc: 0.4106\n"
     ]
    },
    {
     "name": "stderr",
     "output_type": "stream",
     "text": [
      "Validation: 100%|██████████| 47/47 [00:11<00:00,  4.08it/s, Loss=1.4866, Acc=0.4223]\n"
     ]
    },
    {
     "name": "stdout",
     "output_type": "stream",
     "text": [
      "Epoch 11/1000: Val Loss: 1.4866, Val Acc: 0.4223, Val F1: 0.4024\n",
      "Current Learning Rate: 3e-05\n",
      "Best model saved at ../Experiment Augment Result/model8_augment_best.pt with accuracy: 0.4223\n"
     ]
    },
    {
     "name": "stderr",
     "output_type": "stream",
     "text": [
      "Epoch 12/1000: 100%|██████████| 422/422 [06:16<00:00,  1.12it/s, Loss=1.4966, Acc=0.4120]\n"
     ]
    },
    {
     "name": "stdout",
     "output_type": "stream",
     "text": [
      "Epoch 12/1000: Train Loss: 1.4966, Train Acc: 0.4120\n"
     ]
    },
    {
     "name": "stderr",
     "output_type": "stream",
     "text": [
      "Validation: 100%|██████████| 47/47 [00:11<00:00,  4.09it/s, Loss=1.4611, Acc=0.4360]\n"
     ]
    },
    {
     "name": "stdout",
     "output_type": "stream",
     "text": [
      "Epoch 12/1000: Val Loss: 1.4611, Val Acc: 0.4360, Val F1: 0.4180\n",
      "Current Learning Rate: 3e-05\n",
      "Best model saved at ../Experiment Augment Result/model8_augment_best.pt with accuracy: 0.4360\n"
     ]
    },
    {
     "name": "stderr",
     "output_type": "stream",
     "text": [
      "Epoch 13/1000: 100%|██████████| 422/422 [06:16<00:00,  1.12it/s, Loss=1.4809, Acc=0.4231]\n"
     ]
    },
    {
     "name": "stdout",
     "output_type": "stream",
     "text": [
      "Epoch 13/1000: Train Loss: 1.4809, Train Acc: 0.4231\n"
     ]
    },
    {
     "name": "stderr",
     "output_type": "stream",
     "text": [
      "Validation: 100%|██████████| 47/47 [00:11<00:00,  4.08it/s, Loss=1.4637, Acc=0.4333]\n"
     ]
    },
    {
     "name": "stdout",
     "output_type": "stream",
     "text": [
      "Epoch 13/1000: Val Loss: 1.4637, Val Acc: 0.4333, Val F1: 0.3980\n",
      "Current Learning Rate: 3e-05\n"
     ]
    },
    {
     "name": "stderr",
     "output_type": "stream",
     "text": [
      "Epoch 14/1000: 100%|██████████| 422/422 [06:16<00:00,  1.12it/s, Loss=1.4642, Acc=0.4323]\n"
     ]
    },
    {
     "name": "stdout",
     "output_type": "stream",
     "text": [
      "Epoch 14/1000: Train Loss: 1.4642, Train Acc: 0.4323\n"
     ]
    },
    {
     "name": "stderr",
     "output_type": "stream",
     "text": [
      "Validation: 100%|██████████| 47/47 [00:11<00:00,  4.09it/s, Loss=1.4413, Acc=0.4353]\n"
     ]
    },
    {
     "name": "stdout",
     "output_type": "stream",
     "text": [
      "Epoch 14/1000: Val Loss: 1.4413, Val Acc: 0.4353, Val F1: 0.4105\n",
      "Current Learning Rate: 3e-05\n"
     ]
    },
    {
     "name": "stderr",
     "output_type": "stream",
     "text": [
      "Epoch 15/1000: 100%|██████████| 422/422 [06:17<00:00,  1.12it/s, Loss=1.4506, Acc=0.4359]\n"
     ]
    },
    {
     "name": "stdout",
     "output_type": "stream",
     "text": [
      "Epoch 15/1000: Train Loss: 1.4506, Train Acc: 0.4359\n"
     ]
    },
    {
     "name": "stderr",
     "output_type": "stream",
     "text": [
      "Validation: 100%|██████████| 47/47 [00:11<00:00,  4.07it/s, Loss=1.4287, Acc=0.4487]\n"
     ]
    },
    {
     "name": "stdout",
     "output_type": "stream",
     "text": [
      "Epoch 15/1000: Val Loss: 1.4287, Val Acc: 0.4487, Val F1: 0.4077\n",
      "Current Learning Rate: 3e-05\n",
      "Best model saved at ../Experiment Augment Result/model8_augment_best.pt with accuracy: 0.4487\n"
     ]
    },
    {
     "name": "stderr",
     "output_type": "stream",
     "text": [
      "Epoch 16/1000:  84%|████████▍ | 355/422 [05:17<00:59,  1.12it/s, Loss=1.4323, Acc=0.4424]"
     ]
    }
   ],
   "source": [
    "train_loader = DataLoader(train_dataset, batch_size=BATCH_SIZE, shuffle=True, generator=torch.Generator().manual_seed(SEED))\n",
    "val_loader = DataLoader(val_dataset, batch_size=BATCH_SIZE, shuffle=True, generator=torch.Generator().manual_seed(SEED))\n",
    "test_loader = DataLoader(test_dataset, batch_size=BATCH_SIZE, shuffle=False, generator=torch.Generator().manual_seed(SEED))\n",
    "\n",
    "# Open the configuration CSV file in append mode\n",
    "with open(config_csv_path, mode='a', newline='') as config_file, \\\n",
    "     open(epoch_csv_path, mode='a', newline='') as epoch_file, \\\n",
    "     open(test_csv_path, mode='a', newline='') as test_file:\n",
    "    \n",
    "    config_writer = csv.writer(config_file)\n",
    "    epoch_writer = csv.writer(epoch_file)\n",
    "    test_writer = csv.writer(test_file)\n",
    "\n",
    "    idx = 1\n",
    "\n",
    "    for patch_size in patch_sizes:\n",
    "        for num_head in num_heads:\n",
    "            for embedding_dim in embedding_dims:\n",
    "                for num_transformer_layer in num_transformer_layers:\n",
    "                    print(f\"Start model{idx} with configuration patch size: {patch_size}, num_heads: {num_head}, embedding_dims: {embedding_dim}, num_layers: {num_transformer_layer}\")\n",
    "\n",
    "                    # Model initialization\n",
    "                    model = ViT(num_classes=len(class_names), \n",
    "                                in_channels=1, \n",
    "                                patch_size=patch_size, \n",
    "                                num_heads=num_head, \n",
    "                                embedding_dim=embedding_dim, \n",
    "                                num_transformer_layers=num_transformer_layer)\n",
    "\n",
    "                    model = model.to(DEVICE)\n",
    "\n",
    "                    # Initialize BestModelSaver and MetricsPlotter\n",
    "                    model_saver = BestModelSaver(save_path=\"../Experiment Augment Result\", model_name=f\"model{idx}_augment\")\n",
    "                    metrics_plotter = MetricsPlotter(save_path=\"../Experiment Augment Result\", model_name=f\"model{idx}_augment\")\n",
    "\n",
    "                    optimizer = optim.AdamW(model.parameters(), lr=LEARNING_RATE)\n",
    "                    criterion = nn.CrossEntropyLoss()\n",
    "\n",
    "                    # Define the learning rate scheduler\n",
    "                    scheduler = ReduceLROnPlateau(optimizer, mode='min', factor=0.1, patience=5)\n",
    "                    early_stopping = EarlyStopping(patience=15, min_delta=0)\n",
    "\n",
    "                    # Initialize Validator\n",
    "                    validator = Validator(model=model, criterion=criterion, device=DEVICE)\n",
    "\n",
    "                    # Initialize lists to store training and validation metrics\n",
    "                    train_losses = []\n",
    "                    val_losses = []\n",
    "                    train_accuracies = []\n",
    "                    val_accuracies = []\n",
    "\n",
    "                    for epoch in range(EPOCHS):\n",
    "                        model.train()\n",
    "                        train_loss = 0.0\n",
    "                        correct = 0\n",
    "                        total = 0\n",
    "\n",
    "                        # Training\n",
    "                        pbar = tqdm(train_loader, desc=f\"Epoch {epoch + 1}/{EPOCHS}\")\n",
    "                        for batch_idx, (inputs, targets) in enumerate(pbar):\n",
    "                            inputs, targets = inputs.to(DEVICE), targets.to(DEVICE)\n",
    "\n",
    "                            # Zero the gradients\n",
    "                            optimizer.zero_grad()\n",
    "\n",
    "                            # Forward pass\n",
    "                            outputs = model(inputs)\n",
    "                            loss = criterion(outputs, targets)\n",
    "\n",
    "                            # Backward pass and optimize\n",
    "                            loss.backward()\n",
    "                            optimizer.step()\n",
    "\n",
    "                            # Update statistics\n",
    "                            train_loss += loss.item()\n",
    "                            _, predicted = outputs.max(1)\n",
    "                            total += targets.size(0)\n",
    "                            correct += predicted.eq(targets).sum().item()\n",
    "\n",
    "                            # Update progress bar\n",
    "                            pbar.set_postfix({\n",
    "                                \"Loss\": f\"{train_loss / (batch_idx + 1):.4f}\",\n",
    "                                \"Acc\": f\"{correct / total:.4f}\"\n",
    "                            })\n",
    "\n",
    "                        # Calculate training accuracy and loss\n",
    "                        train_accuracy = correct / total\n",
    "                        avg_train_loss = train_loss / len(train_loader)\n",
    "                        train_losses.append(avg_train_loss)\n",
    "                        train_accuracies.append(train_accuracy)\n",
    "\n",
    "                        # Print training summary\n",
    "                        print(f\"Epoch {epoch + 1}/{EPOCHS}: \"\n",
    "                              f\"Train Loss: {avg_train_loss:.4f}, \"\n",
    "                              f\"Train Acc: {train_accuracy:.4f}\")\n",
    "\n",
    "                        # ===== VALIDATION =======\n",
    "                        avg_val_loss, val_accuracy, val_f1 = validator.validate(val_loader)\n",
    "                        val_losses.append(avg_val_loss)\n",
    "                        val_accuracies.append(val_accuracy)\n",
    "\n",
    "                        # Print validation summary\n",
    "                        print(f\"Epoch {epoch + 1}/{EPOCHS}: \"\n",
    "                              f\"Val Loss: {avg_val_loss:.4f}, \"\n",
    "                              f\"Val Acc: {val_accuracy:.4f}, \"\n",
    "                              f\"Val F1: {val_f1:.4f}\")\n",
    "\n",
    "                        # Step the learning rate scheduler based on validation loss\n",
    "                        scheduler.step(avg_val_loss)\n",
    "\n",
    "                        # Print the current learning rate\n",
    "                        current_lr = optimizer.param_groups[0]['lr']\n",
    "                        print(f\"Current Learning Rate: {current_lr}\")\n",
    "\n",
    "                        # Save the best model based on validation accuracy\n",
    "                        model_saver.save(model, val_accuracy, epoch)\n",
    "\n",
    "                        # Save loss and accuracy plots\n",
    "                        metrics_plotter.plot_and_save(train_losses, val_losses, \"Loss\", epoch)\n",
    "                        metrics_plotter.plot_and_save(train_accuracies, val_accuracies, \"Accuracy\", epoch)\n",
    "                        \n",
    "                        # Save epoch results to CSV\n",
    "                        epoch_writer.writerow([\n",
    "                            idx,  # Config\n",
    "                            epoch + 1,  # Epoch\n",
    "                            avg_train_loss,  # Train Loss\n",
    "                            train_accuracy,  # Train Acc\n",
    "                            avg_val_loss,  # Val Loss\n",
    "                            val_accuracy,  # Val Acc\n",
    "                            val_f1,  # F1 Score\n",
    "                            current_lr  # Learning Rate\n",
    "                        ])\n",
    "\n",
    "                        # Early stopping check\n",
    "                        if early_stopping(avg_val_loss):\n",
    "                            print(f\"Early stopping triggered at epoch {epoch + 1}!\")\n",
    "                            break\n",
    "\n",
    "                    # Clear GPU memory after each configuration\n",
    "                    del model, optimizer, scheduler\n",
    "                    torch.cuda.empty_cache()\n",
    "                    gc.collect()\n",
    "\n",
    "                    # ======= TESTING ========\n",
    "                    best_model = ViT(num_classes=len(class_names), \n",
    "                                    in_channels=1, \n",
    "                                    patch_size=patch_size, \n",
    "                                    num_heads=num_head, \n",
    "                                    embedding_dim=embedding_dim, \n",
    "                                    num_transformer_layers=num_transformer_layer)\n",
    "                    best_model.to(DEVICE)\n",
    "                    best_model.load_state_dict(torch.load(f\"../Experiment Augment Result/model{idx}_augment_best.pt\", weights_only=False))\n",
    "\n",
    "                    best_model.eval()\n",
    "                    test_loss = 0.0\n",
    "                    test_correct = 0\n",
    "                    test_total = 0\n",
    "                    all_test_targets = []\n",
    "                    all_test_predicted = []\n",
    "\n",
    "                    with torch.no_grad():  # Disable gradient computation\n",
    "                        pbar = tqdm(test_loader, desc=\"Testing\")\n",
    "                        for batch_idx, (inputs, targets) in enumerate(pbar):\n",
    "                            inputs, targets = inputs.to(DEVICE), targets.to(DEVICE)\n",
    "\n",
    "                            # Forward pass\n",
    "                            outputs = best_model(inputs)\n",
    "                            loss = criterion(outputs, targets)\n",
    "\n",
    "                            # Update statistics\n",
    "                            test_loss += loss.item()\n",
    "                            _, predicted = outputs.max(1)\n",
    "                            test_total += targets.size(0)\n",
    "                            test_correct += predicted.eq(targets).sum().item()\n",
    "\n",
    "                            # Collect all targets and predictions\n",
    "                            all_test_targets.extend(targets.cpu().numpy())\n",
    "                            all_test_predicted.extend(predicted.cpu().numpy())\n",
    "\n",
    "                            # Update progress bar\n",
    "                            pbar.set_postfix({\n",
    "                                \"Loss\": f\"{test_loss / (batch_idx + 1):.4f}\",\n",
    "                                \"Acc\": f\"{test_correct / test_total:.4f}\"\n",
    "                            })\n",
    "\n",
    "                    # Calculate test accuracy, loss, and F1-score\n",
    "                    test_accuracy = test_correct / test_total\n",
    "                    avg_test_loss = test_loss / len(test_loader)\n",
    "                    test_f1 = f1_score(all_test_targets, all_test_predicted, average=\"weighted\")\n",
    "\n",
    "                    # Print test summary\n",
    "                    print(f\"Test Loss: {avg_test_loss:.4f}, \"\n",
    "                          f\"Test Acc: {test_accuracy:.4f}, \"\n",
    "                          f\"Test F1: {test_f1:.4f}\")\n",
    "\n",
    "                    # Clear GPU memory after each configuration\n",
    "                    del best_model\n",
    "                    torch.cuda.empty_cache()\n",
    "                    gc.collect()\n",
    "                    \n",
    "                    # Save the configuration to the CSV file\n",
    "                    test_writer.writerow([idx, avg_test_loss, test_accuracy, test_f1])\n",
    "                    config_writer.writerow([idx, patch_size, num_head, embedding_dim, num_transformer_layer])\n",
    "\n",
    "                    idx+=1"
   ]
  },
  {
   "cell_type": "code",
   "execution_count": null,
   "id": "02d1a78b-c049-45c7-8036-ab6cb3322a55",
   "metadata": {},
   "outputs": [],
   "source": []
  }
 ],
 "metadata": {
  "kernelspec": {
   "display_name": "Python 3 (ipykernel)",
   "language": "python",
   "name": "python3"
  },
  "language_info": {
   "codemirror_mode": {
    "name": "ipython",
    "version": 3
   },
   "file_extension": ".py",
   "mimetype": "text/x-python",
   "name": "python",
   "nbconvert_exporter": "python",
   "pygments_lexer": "ipython3",
   "version": "3.12.7"
  }
 },
 "nbformat": 4,
 "nbformat_minor": 5
}
