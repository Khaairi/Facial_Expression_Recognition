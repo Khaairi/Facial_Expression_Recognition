{
 "cells": [
  {
   "cell_type": "code",
   "execution_count": 1,
   "id": "a4f52c85-4ef4-4943-a521-ff740da659ed",
   "metadata": {},
   "outputs": [
    {
     "data": {
      "text/plain": [
       "'2.5.0+cu124'"
      ]
     },
     "execution_count": 1,
     "metadata": {},
     "output_type": "execute_result"
    }
   ],
   "source": [
    "import torch\n",
    "torch.__version__"
   ]
  },
  {
   "cell_type": "code",
   "execution_count": 2,
   "id": "85719059-ed85-4e86-a40a-e26217642235",
   "metadata": {},
   "outputs": [
    {
     "data": {
      "text/plain": [
       "'cuda'"
      ]
     },
     "execution_count": 2,
     "metadata": {},
     "output_type": "execute_result"
    }
   ],
   "source": [
    "device = \"cuda\" if torch.cuda.is_available() else \"cpu\"\n",
    "device"
   ]
  },
  {
   "cell_type": "code",
   "execution_count": 3,
   "id": "e1b309cc-ab32-4ea3-8c91-f1821515f136",
   "metadata": {},
   "outputs": [
    {
     "name": "stderr",
     "output_type": "stream",
     "text": [
      "C:\\Users\\MoKha\\anaconda3\\lib\\site-packages\\pandas\\core\\computation\\expressions.py:21: UserWarning: Pandas requires version '2.8.4' or newer of 'numexpr' (version '2.8.1' currently installed).\n",
      "  from pandas.core.computation.check import NUMEXPR_INSTALLED\n",
      "C:\\Users\\MoKha\\anaconda3\\lib\\site-packages\\pandas\\core\\arrays\\masked.py:60: UserWarning: Pandas requires version '1.3.6' or newer of 'bottleneck' (version '1.3.4' currently installed).\n",
      "  from pandas.core import (\n"
     ]
    }
   ],
   "source": [
    "import numpy as np\n",
    "import pandas as pd\n",
    "import csv\n",
    "import torch\n",
    "from torch.utils.data import Dataset, DataLoader\n",
    "from torchvision import transforms\n",
    "from PIL import Image\n",
    "import matplotlib.pyplot as plt\n",
    "from sklearn.model_selection import train_test_split\n",
    "from sklearn.metrics import classification_report, confusion_matrix\n",
    "import torch.optim as optim\n",
    "from torch.optim.lr_scheduler import ReduceLROnPlateau\n",
    "from torch.optim import AdamW\n",
    "import os\n",
    "from tqdm import tqdm\n",
    "from sklearn.metrics import f1_score\n",
    "from torchvision.models import mobilenet_v3_large\n",
    "import random\n",
    "import gc\n",
    "import math"
   ]
  },
  {
   "cell_type": "code",
   "execution_count": 4,
   "id": "54ce6cf9-1fac-4143-97f0-f1c3e5359468",
   "metadata": {},
   "outputs": [],
   "source": [
    "# Set seed for reproducibility\n",
    "SEED = 123\n",
    "torch.manual_seed(SEED)\n",
    "random.seed(SEED)\n",
    "np.random.seed(SEED)"
   ]
  },
  {
   "cell_type": "markdown",
   "id": "08fe35ee-b631-403e-ae59-b7016ed13458",
   "metadata": {},
   "source": [
    "## Load Data"
   ]
  },
  {
   "cell_type": "code",
   "execution_count": 5,
   "id": "1bdddb0d-9e30-4147-938e-a8109e906f28",
   "metadata": {},
   "outputs": [],
   "source": [
    "class FERDataset(Dataset):\n",
    "    def __init__(self, dataframe, transform=None):\n",
    "        self.dataframe = dataframe\n",
    "        self.transform = transform\n",
    "\n",
    "        # Ekstrak label dan piksel\n",
    "        self.labels = self.dataframe['emotion'].values\n",
    "        self.pixels = self.dataframe['pixels'].apply(self.string_to_image).values\n",
    "\n",
    "    def string_to_image(self, pixels_string):\n",
    "        # Konversi string piksel menjadi numpy array dan reshape ke 48x48\n",
    "        pixels = np.array(pixels_string.split(), dtype='float32')\n",
    "        image = pixels.reshape(48, 48)\n",
    "        image = np.expand_dims(image, axis=-1)  # Tambahkan channel dimensi\n",
    "        return image\n",
    "\n",
    "    def __len__(self):\n",
    "        return len(self.dataframe)\n",
    "\n",
    "    def __getitem__(self, idx):\n",
    "        image = self.pixels[idx]\n",
    "        label = self.labels[idx]\n",
    "        \n",
    "        image = Image.fromarray(image.squeeze().astype('uint8'), mode='L')\n",
    "\n",
    "        # Jika ada transformasi, terapkan ke image\n",
    "        if self.transform:\n",
    "            image = self.transform(image)\n",
    "\n",
    "        return image, label"
   ]
  },
  {
   "cell_type": "code",
   "execution_count": 6,
   "id": "3fd05f22-3a1d-495e-ab37-5912522b0f9b",
   "metadata": {},
   "outputs": [
    {
     "name": "stdout",
     "output_type": "stream",
     "text": [
      "train transforms: Compose(\n",
      "    Resize(size=(224, 224), interpolation=bilinear, max_size=None, antialias=True)\n",
      "    ToTensor()\n",
      "    Normalize(mean=[0.5], std=[0.5])\n",
      ")\n",
      "test transforms: Compose(\n",
      "    Resize(size=(224, 224), interpolation=bilinear, max_size=None, antialias=True)\n",
      "    ToTensor()\n",
      "    Normalize(mean=[0.5], std=[0.5])\n",
      ")\n"
     ]
    }
   ],
   "source": [
    "# Create image size\n",
    "IMG_SIZE = 224\n",
    "\n",
    "# Create transform pipeline manually\n",
    "train_transforms = transforms.Compose([\n",
    "    transforms.Resize((IMG_SIZE, IMG_SIZE)),\n",
    "    transforms.ToTensor(),\n",
    "    transforms.Normalize(mean=[0.5], std=[0.5])\n",
    "]) \n",
    "\n",
    "# Create transform pipeline manually\n",
    "test_transforms = transforms.Compose([\n",
    "    transforms.Resize((IMG_SIZE, IMG_SIZE)),\n",
    "    transforms.ToTensor(),\n",
    "    transforms.Normalize(mean=[0.5], std=[0.5])\n",
    "])\n",
    "\n",
    " \n",
    "print(f\"train transforms: {train_transforms}\")\n",
    "print(f\"test transforms: {test_transforms}\")"
   ]
  },
  {
   "cell_type": "code",
   "execution_count": 7,
   "id": "abb51cb0-db73-45d5-b795-d7bbe982676b",
   "metadata": {},
   "outputs": [
    {
     "name": "stdout",
     "output_type": "stream",
     "text": [
      "<class 'pandas.core.frame.DataFrame'>\n",
      "RangeIndex: 33303 entries, 0 to 33302\n",
      "Data columns (total 2 columns):\n",
      " #   Column   Non-Null Count  Dtype \n",
      "---  ------   --------------  ----- \n",
      " 0   pixels   33303 non-null  object\n",
      " 1   emotion  33303 non-null  int64 \n",
      "dtypes: int64(1), object(1)\n",
      "memory usage: 520.5+ KB\n"
     ]
    }
   ],
   "source": [
    "data = pd.read_csv('D://Kuliah//UPI//SEMESTER 8//dataset skripsi//fer2013v2_clean.csv')\n",
    "data.info()"
   ]
  },
  {
   "cell_type": "code",
   "execution_count": 8,
   "id": "d525f87c-e3d3-4893-9194-b81b2a4b80d3",
   "metadata": {},
   "outputs": [
    {
     "name": "stdout",
     "output_type": "stream",
     "text": [
      "Train set size: 26974\n",
      "Validation set size: 2998\n",
      "Test set size: 3331\n"
     ]
    }
   ],
   "source": [
    "# pisahkan data train (80%), validation (10%), test (10%)\n",
    "data_train, data_test = train_test_split(data, test_size=0.1, stratify=data['emotion'], random_state=123)\n",
    "data_train, data_val = train_test_split(data_train, test_size=0.1, stratify=data_train['emotion'], random_state=123)\n",
    "\n",
    "# Cek ukuran masing-masing set untuk memastikan proporsi\n",
    "print(f'Train set size: {len(data_train)}')\n",
    "print(f'Validation set size: {len(data_val)}')\n",
    "print(f'Test set size: {len(data_test)}')"
   ]
  },
  {
   "cell_type": "code",
   "execution_count": 9,
   "id": "09d0ed00",
   "metadata": {},
   "outputs": [],
   "source": [
    "train_dataset = FERDataset(data_train, transform=train_transforms)\n",
    "val_dataset = FERDataset(data_val, transform=test_transforms)\n",
    "test_dataset = FERDataset(data_test, transform=test_transforms)\n",
    "class_names = ['Angry', 'Disgust', 'Fear', 'Happy', 'Sad', 'Surprise', 'Neutral']"
   ]
  },
  {
   "cell_type": "code",
   "execution_count": 10,
   "id": "4c40770a-6a57-48ca-a10f-8a6c3ff485f2",
   "metadata": {},
   "outputs": [
    {
     "data": {
      "image/png": "[encoded data removed]",
      "text/plain": [
       "<Figure size 432x288 with 1 Axes>"
      ]
     },
     "metadata": {
      "needs_background": "light"
     },
     "output_type": "display_data"
    }
   ],
   "source": [
    "# Ambil satu contoh dari train_dataset\n",
    "image, label = train_dataset[0]  # Index pertama dataset\n",
    "\n",
    "# Jika transform menghasilkan tensor, konversi ke format numpy\n",
    "if isinstance(image, torch.Tensor):\n",
    "    image = image.permute(1, 2, 0).numpy()  # (C, H, W) -> (H, W, C)\n",
    "\n",
    "# Plot gambar\n",
    "plt.imshow(image, cmap='gray')  # Gunakan cmap='gray' jika gambar grayscale\n",
    "plt.title(f\"Label: {label}\")\n",
    "plt.axis('off')  # Hilangkan sumbu\n",
    "plt.show()"
   ]
  },
  {
   "cell_type": "code",
   "execution_count": 11,
   "id": "6b8a0a00-f3ca-46e1-8080-faf95a66d2c9",
   "metadata": {},
   "outputs": [
    {
     "data": {
      "text/plain": [
       "torch.Size([1, 224, 224])"
      ]
     },
     "execution_count": 11,
     "metadata": {},
     "output_type": "execute_result"
    }
   ],
   "source": [
    "image, label = train_dataset[0]\n",
    "image.shape"
   ]
  },
  {
   "cell_type": "markdown",
   "id": "25f09b62-4109-49eb-ae60-3ce50168f049",
   "metadata": {},
   "source": [
    "## Build Vision Transformer (ViT) Model"
   ]
  },
  {
   "cell_type": "code",
   "execution_count": 12,
   "id": "5b7f5c19-e39f-478b-904a-4070f72d2ccf",
   "metadata": {},
   "outputs": [],
   "source": [
    "from torch import nn"
   ]
  },
  {
   "cell_type": "code",
   "execution_count": 13,
   "id": "c828db51",
   "metadata": {},
   "outputs": [],
   "source": [
    "class PatchEmbedding(nn.Module):\n",
    "    def __init__(self, \n",
    "                 in_channels:int=1,\n",
    "                 patch_size:int=16,\n",
    "                 embedding_dim:int=768\n",
    "                ):\n",
    "        super().__init__()\n",
    "        \n",
    "        self.patcher = nn.Conv2d(in_channels=in_channels,\n",
    "                                 out_channels=embedding_dim,\n",
    "                                 kernel_size=patch_size,\n",
    "                                 stride=patch_size,\n",
    "                                 padding=0)\n",
    "    def forward(self, x):\n",
    "        image_resolution = x.shape[-1]\n",
    "        \n",
    "        x_patched = self.patcher(x) # (n_samples, embed_dim, n_patches ** 0.5, n_patches ** 0.5)\n",
    "        x_flattened = x_patched.flatten(2) # (n_samples, embed_dim, n_patches)\n",
    "        x = x_flattened.transpose(1, 2) # (n_samples, n_patches, embed_dim)\n",
    "        \n",
    "        return x"
   ]
  },
  {
   "cell_type": "code",
   "execution_count": 14,
   "id": "abc468a7-138e-48ca-a495-a91e0988bd0b",
   "metadata": {},
   "outputs": [],
   "source": [
    "class MultiheadSelfAttentionBlock(nn.Module):\n",
    "    def __init__(self,\n",
    "                 embedding_dim:int=768,\n",
    "                 num_heads:int=12,\n",
    "                 attn_dropout:float=0.):\n",
    "        super().__init__()\n",
    "        self.multihead_attn = nn.MultiheadAttention(embed_dim=embedding_dim,\n",
    "                                                    num_heads=num_heads,\n",
    "                                                    dropout=attn_dropout,\n",
    "                                                    batch_first=True)\n",
    "    def forward(self, x):\n",
    "        attn_output, _ = self.multihead_attn(query=x,\n",
    "                                             key=x,\n",
    "                                             value=x,\n",
    "                                             need_weights=False)\n",
    "        return attn_output"
   ]
  },
  {
   "cell_type": "code",
   "execution_count": 15,
   "id": "76cdbef5-da91-45c7-8847-9de18bcd77f5",
   "metadata": {},
   "outputs": [],
   "source": [
    "class MLPBlock(nn.Module):\n",
    "    def __init__(self,\n",
    "                 embedding_dim:int=768,\n",
    "                 mlp_size:int=3072,\n",
    "                 dropout:float=0.):\n",
    "        super().__init__()\n",
    "        self.mlp = nn.Sequential(\n",
    "            nn.Linear(in_features=embedding_dim,\n",
    "                      out_features=mlp_size),\n",
    "            nn.GELU(),\n",
    "            nn.Dropout(p=dropout),\n",
    "            nn.Linear(in_features=mlp_size,\n",
    "                      out_features=embedding_dim),\n",
    "            nn.Dropout(p=dropout)\n",
    "        )\n",
    "    def forward(self, x):\n",
    "        x = self.mlp(x)\n",
    "        return x"
   ]
  },
  {
   "cell_type": "code",
   "execution_count": 16,
   "id": "cee8d7b1-8603-4ade-8bed-32444a8c942f",
   "metadata": {},
   "outputs": [],
   "source": [
    "class TransformerEncoderBlock(nn.Module):\n",
    "    def __init__(self,\n",
    "                 embedding_dim:int=768,\n",
    "                 num_heads:int=12,\n",
    "                 mlp_size:int=3072,\n",
    "                 mlp_dropout:float=0.,\n",
    "                 attn_dropout:float=0.):\n",
    "        super().__init__()\n",
    "        self.layer_norm1 = nn.LayerNorm(normalized_shape=embedding_dim, eps=1e-6)\n",
    "        \n",
    "        self.msa_block = MultiheadSelfAttentionBlock(embedding_dim=embedding_dim,\n",
    "                                                     num_heads=num_heads,\n",
    "                                                     attn_dropout=attn_dropout)\n",
    "        \n",
    "        self.layer_norm2 = nn.LayerNorm(normalized_shape=embedding_dim, eps=1e-6)\n",
    "        \n",
    "        self.mlp_block =  MLPBlock(embedding_dim=embedding_dim,\n",
    "                                   mlp_size=mlp_size,\n",
    "                                   dropout=mlp_dropout)\n",
    "    def forward(self, x):\n",
    "        x = self.msa_block(self.layer_norm1(x)) + x \n",
    "        \n",
    "        x = self.mlp_block(self.layer_norm2(x)) + x \n",
    "        \n",
    "        return x"
   ]
  },
  {
   "cell_type": "code",
   "execution_count": 17,
   "id": "dfbe073e-b7c5-44c3-a123-d89a2152a467",
   "metadata": {},
   "outputs": [],
   "source": [
    "class ViT(nn.Module):\n",
    "    def __init__(self,\n",
    "                 img_size:int=224,\n",
    "                 in_channels:int=3,\n",
    "                 patch_size:int=16,\n",
    "                 num_transformer_layers:int=12,\n",
    "                 embedding_dim:int=768,\n",
    "                 mlp_size:int=3072,\n",
    "                 num_heads:int=12,\n",
    "                 attn_dropout:float=0.,\n",
    "                 mlp_dropout:float=0.,\n",
    "                 embedding_dropout:float=0.,\n",
    "                 num_classes:int=1000):\n",
    "        super().__init__()\n",
    "        self.num_patches = (img_size * img_size) // patch_size**2\n",
    "\n",
    "        self.patch_embedding = PatchEmbedding(in_channels=in_channels,\n",
    "                                              patch_size=patch_size,\n",
    "                                              embedding_dim=embedding_dim)\n",
    "                 \n",
    "        self.class_embedding = nn.Parameter(data=torch.randn(1, 1, embedding_dim),\n",
    "                                            requires_grad=True)\n",
    "        \n",
    "        self.position_embedding = nn.Parameter(data=torch.randn(1, self.num_patches+1, embedding_dim),\n",
    "                                               requires_grad=True)\n",
    "                \n",
    "        self.embedding_dropout = nn.Dropout(p=embedding_dropout)\n",
    "        \n",
    "        self.transformer_encoder = nn.Sequential(*[TransformerEncoderBlock(embedding_dim=embedding_dim,\n",
    "                                                                            num_heads=num_heads,\n",
    "                                                                            mlp_size=mlp_size,\n",
    "                                                                            mlp_dropout=mlp_dropout) for _ in range(num_transformer_layers)])\n",
    "       \n",
    "        self.norm = nn.LayerNorm(normalized_shape=embedding_dim, eps=1e-6)\n",
    "        self.head = nn.Linear(in_features=embedding_dim, out_features=num_classes)\n",
    "    \n",
    "    def forward(self, pixel_values, labels=None):\n",
    "        batch_size = pixel_values.shape[0]\n",
    "\n",
    "        x = self.patch_embedding(pixel_values) # (n_samples, num_patches, embed_dim)\n",
    "        \n",
    "        class_token = self.class_embedding.expand(batch_size, -1, -1) # (n_samples, 1, embed_dim)\n",
    "\n",
    "        x = torch.cat((class_token, x), dim=1) # (n_samples, 1 + n_patches, embed_dim)\n",
    "\n",
    "        x = self.position_embedding + x # add position embed\n",
    "\n",
    "        x = self.embedding_dropout(x)\n",
    "\n",
    "        x = self.transformer_encoder(x)\n",
    "\n",
    "        x = self.norm(x)\n",
    "        \n",
    "        cls_token_final = x[:, 0]\n",
    "\n",
    "        logits = self.head(cls_token_final)\n",
    "    \n",
    "        return logits"
   ]
  },
  {
   "cell_type": "markdown",
   "id": "cccbb722-51b9-46af-90e2-4b80265eb878",
   "metadata": {},
   "source": [
    "## Model Training"
   ]
  },
  {
   "cell_type": "code",
   "execution_count": 18,
   "id": "64b28361-dae6-43fa-b846-69caa47259a3",
   "metadata": {},
   "outputs": [],
   "source": [
    "class BestModelSaver:\n",
    "    def __init__(self, save_path, model_name):\n",
    "        self.save_path = save_path\n",
    "        self.model_name = model_name\n",
    "        self.best_accuracy = -float('inf')\n",
    "        os.makedirs(self.save_path, exist_ok=True)\n",
    "\n",
    "    def save(self, model, current_accuracy, epoch):\n",
    "        if current_accuracy > self.best_accuracy:\n",
    "            self.best_accuracy = current_accuracy\n",
    "            model_path = os.path.join(self.save_path, f\"{self.model_name}_best.pt\")\n",
    "            torch.save(model.state_dict(), model_path)\n",
    "            print(f\"Best model saved at {model_path} with accuracy: {self.best_accuracy:.4f}\")"
   ]
  },
  {
   "cell_type": "code",
   "execution_count": 19,
   "id": "dc2344b3-32fa-4f94-9c56-13b3ac96ee3d",
   "metadata": {},
   "outputs": [],
   "source": [
    "class MetricsPlotter:\n",
    "    def __init__(self, save_path, model_name):\n",
    "        self.save_path = save_path\n",
    "        self.model_name = model_name\n",
    "        os.makedirs(self.save_path, exist_ok=True)\n",
    "\n",
    "    def plot_and_save(self, train_metrics, val_metrics, metric_name, epoch):\n",
    "        plt.figure(figsize=(10, 5))\n",
    "        plt.plot(range(1, len(train_metrics) + 1), train_metrics, label=f\"Training {metric_name}\", marker='o')\n",
    "        plt.plot(range(1, len(val_metrics) + 1), val_metrics, label=f\"Validation {metric_name}\", marker='o')\n",
    "        plt.title(f\"{self.model_name} {metric_name} per Epoch\")\n",
    "        plt.xlabel(\"Epoch\")\n",
    "        plt.ylabel(metric_name)\n",
    "        plt.legend()\n",
    "        plt.grid(True)\n",
    "        plot_path = os.path.join(self.save_path, f\"{self.model_name}_{metric_name.lower()}.png\")\n",
    "        plt.savefig(plot_path)\n",
    "        plt.close()"
   ]
  },
  {
   "cell_type": "code",
   "execution_count": 20,
   "id": "f0d1b5c8-e45c-4ed2-97f5-d89910c3752f",
   "metadata": {},
   "outputs": [],
   "source": [
    "class EarlyStopping:\n",
    "    def __init__(self, patience=10, min_delta=0):\n",
    "        self.patience = patience\n",
    "        self.min_delta = min_delta\n",
    "        self.best_loss = float('inf')\n",
    "        self.epochs_no_improve = 0\n",
    "        self.early_stop = False\n",
    "\n",
    "    def __call__(self, val_loss):\n",
    "        if val_loss < self.best_loss - self.min_delta:\n",
    "            self.best_loss = val_loss\n",
    "            self.epochs_no_improve = 0\n",
    "        else:\n",
    "            self.epochs_no_improve += 1\n",
    "\n",
    "        if self.epochs_no_improve >= self.patience:\n",
    "            self.early_stop = True\n",
    "\n",
    "        return self.early_stop"
   ]
  },
  {
   "cell_type": "code",
   "execution_count": 21,
   "id": "609373d7-9cf2-4ed5-853b-569cee7dbc81",
   "metadata": {},
   "outputs": [],
   "source": [
    "class Validator:\n",
    "    def __init__(self, model, criterion, device):\n",
    "        self.model = model\n",
    "        self.criterion = criterion\n",
    "        self.device = device\n",
    "\n",
    "    def validate(self, val_loader):\n",
    "        self.model.eval()\n",
    "        val_loss = 0.0\n",
    "        val_correct = 0\n",
    "        val_total = 0\n",
    "        all_targets = []\n",
    "        all_predicted = []\n",
    "\n",
    "        with torch.no_grad():  # Disable gradient computation\n",
    "            pbar = tqdm(val_loader, desc=\"Validation\")\n",
    "            for batch_idx, (inputs, targets) in enumerate(pbar):\n",
    "                inputs, targets = inputs.to(self.device), targets.to(self.device)\n",
    "\n",
    "                # Forward pass\n",
    "                outputs = self.model(inputs)\n",
    "                loss = self.criterion(outputs, targets)\n",
    "\n",
    "                # Update statistics\n",
    "                val_loss += loss.item()\n",
    "                _, predicted = outputs.max(1)\n",
    "                val_total += targets.size(0)\n",
    "                val_correct += predicted.eq(targets).sum().item()\n",
    "\n",
    "                # Collect all targets and predictions for F1-score\n",
    "                all_targets.extend(targets.cpu().numpy())\n",
    "                all_predicted.extend(predicted.cpu().numpy())\n",
    "\n",
    "                # Update progress bar\n",
    "                pbar.set_postfix({\n",
    "                    \"Loss\": f\"{val_loss / (batch_idx + 1):.4f}\",\n",
    "                    \"Acc\": f\"{val_correct / val_total:.4f}\"\n",
    "                })\n",
    "\n",
    "        # Calculate validation accuracy, loss, and F1-score\n",
    "        val_accuracy = val_correct / val_total\n",
    "        avg_val_loss = val_loss / len(val_loader)\n",
    "        val_f1 = f1_score(all_targets, all_predicted, average=\"weighted\")\n",
    "\n",
    "        return avg_val_loss, val_accuracy, val_f1"
   ]
  },
  {
   "cell_type": "code",
   "execution_count": 22,
   "id": "0b7c7cec-52ef-49f8-9559-ed24ee72a7dd",
   "metadata": {},
   "outputs": [],
   "source": [
    "dropouts = [0.1, 0.3, 0.5, 0.7]\n",
    "\n",
    "EPOCHS = 1000\n",
    "LEARNING_RATE = 3e-5\n",
    "NUM_CLASSES = 7\n",
    "SEED = 123\n",
    "BATCH_SIZE = 64\n",
    "DEVICE = torch.device(\"cuda\" if torch.cuda.is_available() else \"cpu\")"
   ]
  },
  {
   "cell_type": "code",
   "execution_count": 23,
   "id": "ea6989ec-a1d3-4e8d-b3e9-c1817ae066fe",
   "metadata": {},
   "outputs": [],
   "source": [
    "# Define the CSV file paths\n",
    "epoch_csv_path = \"D://Kuliah//UPI//SEMESTER 8//hasil eksperimen 2//attn_dropout_epoch_results2.csv\"\n",
    "test_csv_path = \"D://Kuliah//UPI//SEMESTER 8//hasil eksperimen 2//attn_dropout_test_results2.csv\"\n",
    "\n",
    "# Check if the epoch results CSV file exists. If not, create it and write the header.\n",
    "if not os.path.exists(epoch_csv_path):\n",
    "    with open(epoch_csv_path, mode='w', newline='') as file:\n",
    "        writer = csv.writer(file)\n",
    "        writer.writerow([\"Attn Dropout\", \"Epoch\", \"Train Loss\", \"Train Acc\", \"Val Loss\", \"Val Acc\", \"F1 Score\", \"Learning Rate\"])\n",
    "        \n",
    "# Check if the epoch results CSV file exists. If not, create it and write the header.\n",
    "if not os.path.exists(test_csv_path):\n",
    "    with open(test_csv_path, mode='w', newline='') as file:\n",
    "        writer = csv.writer(file)\n",
    "        writer.writerow([\"Attn Dropout\", \"Test Loss\", \"Test Acc\", \"F1 Score\"])"
   ]
  },
  {
   "cell_type": "code",
   "execution_count": 24,
   "id": "36ece644-8389-406b-b8e9-802ac5a1f946",
   "metadata": {
    "scrolled": false
   },
   "outputs": [
    {
     "name": "stdout",
     "output_type": "stream",
     "text": [
      "Start model1 with configuration dropout: 0.1\n"
     ]
    },
    {
     "name": "stderr",
     "output_type": "stream",
     "text": [
      "Epoch 1/1000: 100%|█████████████████████████████████████████| 422/422 [00:36<00:00, 11.48it/s, Loss=1.7663, Acc=0.2633]\n"
     ]
    },
    {
     "name": "stdout",
     "output_type": "stream",
     "text": [
      "Epoch 1/1000: Train Loss: 1.7663, Train Acc: 0.2633\n"
     ]
    },
    {
     "name": "stderr",
     "output_type": "stream",
     "text": [
      "Validation: 100%|█████████████████████████████████████████████| 47/47 [00:01<00:00, 23.65it/s, Loss=1.6888, Acc=0.3192]\n"
     ]
    },
    {
     "name": "stdout",
     "output_type": "stream",
     "text": [
      "Epoch 1/1000: Val Loss: 1.6888, Val Acc: 0.3192, Val F1: 0.2267\n",
      "Current Learning Rate: 3e-05\n",
      "Best model saved at D://Kuliah//UPI//SEMESTER 8//hasil eksperimen 2\\model1_dropout_best.pt with accuracy: 0.3192\n"
     ]
    },
    {
     "name": "stderr",
     "output_type": "stream",
     "text": [
      "Epoch 2/1000: 100%|█████████████████████████████████████████| 422/422 [00:37<00:00, 11.24it/s, Loss=1.6442, Acc=0.3550]\n"
     ]
    },
    {
     "name": "stdout",
     "output_type": "stream",
     "text": [
      "Epoch 2/1000: Train Loss: 1.6442, Train Acc: 0.3550\n"
     ]
    },
    {
     "name": "stderr",
     "output_type": "stream",
     "text": [
      "Validation: 100%|█████████████████████████████████████████████| 47/47 [00:02<00:00, 20.18it/s, Loss=1.6097, Acc=0.3689]\n"
     ]
    },
    {
     "name": "stdout",
     "output_type": "stream",
     "text": [
      "Epoch 2/1000: Val Loss: 1.6097, Val Acc: 0.3689, Val F1: 0.3320\n",
      "Current Learning Rate: 3e-05\n",
      "Best model saved at D://Kuliah//UPI//SEMESTER 8//hasil eksperimen 2\\model1_dropout_best.pt with accuracy: 0.3689\n"
     ]
    },
    {
     "name": "stderr",
     "output_type": "stream",
     "text": [
      "Epoch 3/1000: 100%|█████████████████████████████████████████| 422/422 [00:38<00:00, 10.97it/s, Loss=1.5877, Acc=0.3783]\n"
     ]
    },
    {
     "name": "stdout",
     "output_type": "stream",
     "text": [
      "Epoch 3/1000: Train Loss: 1.5877, Train Acc: 0.3783\n"
     ]
    },
    {
     "name": "stderr",
     "output_type": "stream",
     "text": [
      "Validation: 100%|█████████████████████████████████████████████| 47/47 [00:02<00:00, 21.43it/s, Loss=1.5726, Acc=0.3869]\n"
     ]
    },
    {
     "name": "stdout",
     "output_type": "stream",
     "text": [
      "Epoch 3/1000: Val Loss: 1.5726, Val Acc: 0.3869, Val F1: 0.3511\n",
      "Current Learning Rate: 3e-05\n",
      "Best model saved at D://Kuliah//UPI//SEMESTER 8//hasil eksperimen 2\\model1_dropout_best.pt with accuracy: 0.3869\n"
     ]
    },
    {
     "name": "stderr",
     "output_type": "stream",
     "text": [
      "Epoch 4/1000: 100%|█████████████████████████████████████████| 422/422 [00:39<00:00, 10.81it/s, Loss=1.5456, Acc=0.3960]\n"
     ]
    },
    {
     "name": "stdout",
     "output_type": "stream",
     "text": [
      "Epoch 4/1000: Train Loss: 1.5456, Train Acc: 0.3960\n"
     ]
    },
    {
     "name": "stderr",
     "output_type": "stream",
     "text": [
      "Validation: 100%|█████████████████████████████████████████████| 47/47 [00:02<00:00, 20.19it/s, Loss=1.5371, Acc=0.4039]\n"
     ]
    },
    {
     "name": "stdout",
     "output_type": "stream",
     "text": [
      "Epoch 4/1000: Val Loss: 1.5371, Val Acc: 0.4039, Val F1: 0.3757\n",
      "Current Learning Rate: 3e-05\n",
      "Best model saved at D://Kuliah//UPI//SEMESTER 8//hasil eksperimen 2\\model1_dropout_best.pt with accuracy: 0.4039\n"
     ]
    },
    {
     "name": "stderr",
     "output_type": "stream",
     "text": [
      "Epoch 5/1000: 100%|█████████████████████████████████████████| 422/422 [00:40<00:00, 10.49it/s, Loss=1.5162, Acc=0.4102]\n"
     ]
    },
    {
     "name": "stdout",
     "output_type": "stream",
     "text": [
      "Epoch 5/1000: Train Loss: 1.5162, Train Acc: 0.4102\n"
     ]
    },
    {
     "name": "stderr",
     "output_type": "stream",
     "text": [
      "Validation: 100%|█████████████████████████████████████████████| 47/47 [00:02<00:00, 20.15it/s, Loss=1.5394, Acc=0.4083]\n"
     ]
    },
    {
     "name": "stdout",
     "output_type": "stream",
     "text": [
      "Epoch 5/1000: Val Loss: 1.5394, Val Acc: 0.4083, Val F1: 0.3992\n",
      "Current Learning Rate: 3e-05\n",
      "Best model saved at D://Kuliah//UPI//SEMESTER 8//hasil eksperimen 2\\model1_dropout_best.pt with accuracy: 0.4083\n"
     ]
    },
    {
     "name": "stderr",
     "output_type": "stream",
     "text": [
      "Epoch 6/1000: 100%|█████████████████████████████████████████| 422/422 [00:40<00:00, 10.53it/s, Loss=1.4871, Acc=0.4221]\n"
     ]
    },
    {
     "name": "stdout",
     "output_type": "stream",
     "text": [
      "Epoch 6/1000: Train Loss: 1.4871, Train Acc: 0.4221\n"
     ]
    },
    {
     "name": "stderr",
     "output_type": "stream",
     "text": [
      "Validation: 100%|█████████████████████████████████████████████| 47/47 [00:02<00:00, 18.92it/s, Loss=1.4997, Acc=0.4239]\n"
     ]
    },
    {
     "name": "stdout",
     "output_type": "stream",
     "text": [
      "Epoch 6/1000: Val Loss: 1.4997, Val Acc: 0.4239, Val F1: 0.3864\n",
      "Current Learning Rate: 3e-05\n",
      "Best model saved at D://Kuliah//UPI//SEMESTER 8//hasil eksperimen 2\\model1_dropout_best.pt with accuracy: 0.4239\n"
     ]
    },
    {
     "name": "stderr",
     "output_type": "stream",
     "text": [
      "Epoch 7/1000: 100%|█████████████████████████████████████████| 422/422 [00:39<00:00, 10.61it/s, Loss=1.4611, Acc=0.4293]\n"
     ]
    },
    {
     "name": "stdout",
     "output_type": "stream",
     "text": [
      "Epoch 7/1000: Train Loss: 1.4611, Train Acc: 0.4293\n"
     ]
    },
    {
     "name": "stderr",
     "output_type": "stream",
     "text": [
      "Validation: 100%|█████████████████████████████████████████████| 47/47 [00:02<00:00, 19.96it/s, Loss=1.4932, Acc=0.4209]\n"
     ]
    },
    {
     "name": "stdout",
     "output_type": "stream",
     "text": [
      "Epoch 7/1000: Val Loss: 1.4932, Val Acc: 0.4209, Val F1: 0.3906\n",
      "Current Learning Rate: 3e-05\n"
     ]
    },
    {
     "name": "stderr",
     "output_type": "stream",
     "text": [
      "Epoch 8/1000: 100%|█████████████████████████████████████████| 422/422 [00:39<00:00, 10.59it/s, Loss=1.4315, Acc=0.4439]\n"
     ]
    },
    {
     "name": "stdout",
     "output_type": "stream",
     "text": [
      "Epoch 8/1000: Train Loss: 1.4315, Train Acc: 0.4439\n"
     ]
    },
    {
     "name": "stderr",
     "output_type": "stream",
     "text": [
      "Validation: 100%|█████████████████████████████████████████████| 47/47 [00:02<00:00, 19.64it/s, Loss=1.4750, Acc=0.4286]\n"
     ]
    },
    {
     "name": "stdout",
     "output_type": "stream",
     "text": [
      "Epoch 8/1000: Val Loss: 1.4750, Val Acc: 0.4286, Val F1: 0.4129\n",
      "Current Learning Rate: 3e-05\n",
      "Best model saved at D://Kuliah//UPI//SEMESTER 8//hasil eksperimen 2\\model1_dropout_best.pt with accuracy: 0.4286\n"
     ]
    },
    {
     "name": "stderr",
     "output_type": "stream",
     "text": [
      "Epoch 9/1000: 100%|█████████████████████████████████████████| 422/422 [00:39<00:00, 10.61it/s, Loss=1.4010, Acc=0.4560]\n"
     ]
    },
    {
     "name": "stdout",
     "output_type": "stream",
     "text": [
      "Epoch 9/1000: Train Loss: 1.4010, Train Acc: 0.4560\n"
     ]
    },
    {
     "name": "stderr",
     "output_type": "stream",
     "text": [
      "Validation: 100%|█████████████████████████████████████████████| 47/47 [00:02<00:00, 19.47it/s, Loss=1.4797, Acc=0.4300]\n"
     ]
    },
    {
     "name": "stdout",
     "output_type": "stream",
     "text": [
      "Epoch 9/1000: Val Loss: 1.4797, Val Acc: 0.4300, Val F1: 0.4240\n",
      "Current Learning Rate: 3e-05\n",
      "Best model saved at D://Kuliah//UPI//SEMESTER 8//hasil eksperimen 2\\model1_dropout_best.pt with accuracy: 0.4300\n"
     ]
    },
    {
     "name": "stderr",
     "output_type": "stream",
     "text": [
      "Epoch 10/1000: 100%|████████████████████████████████████████| 422/422 [00:39<00:00, 10.59it/s, Loss=1.3655, Acc=0.4721]\n"
     ]
    },
    {
     "name": "stdout",
     "output_type": "stream",
     "text": [
      "Epoch 10/1000: Train Loss: 1.3655, Train Acc: 0.4721\n"
     ]
    },
    {
     "name": "stderr",
     "output_type": "stream",
     "text": [
      "Validation: 100%|█████████████████████████████████████████████| 47/47 [00:02<00:00, 18.33it/s, Loss=1.4529, Acc=0.4363]\n"
     ]
    },
    {
     "name": "stdout",
     "output_type": "stream",
     "text": [
      "Epoch 10/1000: Val Loss: 1.4529, Val Acc: 0.4363, Val F1: 0.4139\n",
      "Current Learning Rate: 3e-05\n",
      "Best model saved at D://Kuliah//UPI//SEMESTER 8//hasil eksperimen 2\\model1_dropout_best.pt with accuracy: 0.4363\n"
     ]
    },
    {
     "name": "stderr",
     "output_type": "stream",
     "text": [
      "Epoch 11/1000: 100%|████████████████████████████████████████| 422/422 [00:40<00:00, 10.50it/s, Loss=1.3296, Acc=0.4869]\n"
     ]
    },
    {
     "name": "stdout",
     "output_type": "stream",
     "text": [
      "Epoch 11/1000: Train Loss: 1.3296, Train Acc: 0.4869\n"
     ]
    },
    {
     "name": "stderr",
     "output_type": "stream",
     "text": [
      "Validation: 100%|█████████████████████████████████████████████| 47/47 [00:02<00:00, 18.36it/s, Loss=1.4628, Acc=0.4426]\n"
     ]
    },
    {
     "name": "stdout",
     "output_type": "stream",
     "text": [
      "Epoch 11/1000: Val Loss: 1.4628, Val Acc: 0.4426, Val F1: 0.4256\n",
      "Current Learning Rate: 3e-05\n",
      "Best model saved at D://Kuliah//UPI//SEMESTER 8//hasil eksperimen 2\\model1_dropout_best.pt with accuracy: 0.4426\n"
     ]
    },
    {
     "name": "stderr",
     "output_type": "stream",
     "text": [
      "Epoch 12/1000: 100%|████████████████████████████████████████| 422/422 [00:40<00:00, 10.54it/s, Loss=1.2872, Acc=0.5059]\n"
     ]
    },
    {
     "name": "stdout",
     "output_type": "stream",
     "text": [
      "Epoch 12/1000: Train Loss: 1.2872, Train Acc: 0.5059\n"
     ]
    },
    {
     "name": "stderr",
     "output_type": "stream",
     "text": [
      "Validation: 100%|█████████████████████████████████████████████| 47/47 [00:02<00:00, 18.89it/s, Loss=1.4506, Acc=0.4463]\n"
     ]
    },
    {
     "name": "stdout",
     "output_type": "stream",
     "text": [
      "Epoch 12/1000: Val Loss: 1.4506, Val Acc: 0.4463, Val F1: 0.4236\n",
      "Current Learning Rate: 3e-05\n",
      "Best model saved at D://Kuliah//UPI//SEMESTER 8//hasil eksperimen 2\\model1_dropout_best.pt with accuracy: 0.4463\n"
     ]
    },
    {
     "name": "stderr",
     "output_type": "stream",
     "text": [
      "Epoch 13/1000: 100%|████████████████████████████████████████| 422/422 [00:40<00:00, 10.50it/s, Loss=1.2367, Acc=0.5257]\n"
     ]
    },
    {
     "name": "stdout",
     "output_type": "stream",
     "text": [
      "Epoch 13/1000: Train Loss: 1.2367, Train Acc: 0.5257\n"
     ]
    },
    {
     "name": "stderr",
     "output_type": "stream",
     "text": [
      "Validation: 100%|█████████████████████████████████████████████| 47/47 [00:02<00:00, 18.99it/s, Loss=1.4515, Acc=0.4503]\n"
     ]
    },
    {
     "name": "stdout",
     "output_type": "stream",
     "text": [
      "Epoch 13/1000: Val Loss: 1.4515, Val Acc: 0.4503, Val F1: 0.4226\n",
      "Current Learning Rate: 3e-05\n",
      "Best model saved at D://Kuliah//UPI//SEMESTER 8//hasil eksperimen 2\\model1_dropout_best.pt with accuracy: 0.4503\n"
     ]
    },
    {
     "name": "stderr",
     "output_type": "stream",
     "text": [
      "Epoch 14/1000: 100%|████████████████████████████████████████| 422/422 [00:40<00:00, 10.42it/s, Loss=1.1851, Acc=0.5484]\n"
     ]
    },
    {
     "name": "stdout",
     "output_type": "stream",
     "text": [
      "Epoch 14/1000: Train Loss: 1.1851, Train Acc: 0.5484\n"
     ]
    },
    {
     "name": "stderr",
     "output_type": "stream",
     "text": [
      "Validation: 100%|█████████████████████████████████████████████| 47/47 [00:02<00:00, 19.60it/s, Loss=1.4985, Acc=0.4350]\n"
     ]
    },
    {
     "name": "stdout",
     "output_type": "stream",
     "text": [
      "Epoch 14/1000: Val Loss: 1.4985, Val Acc: 0.4350, Val F1: 0.4325\n",
      "Current Learning Rate: 3e-05\n"
     ]
    },
    {
     "name": "stderr",
     "output_type": "stream",
     "text": [
      "Epoch 15/1000: 100%|████████████████████████████████████████| 422/422 [00:40<00:00, 10.55it/s, Loss=1.1263, Acc=0.5699]\n"
     ]
    },
    {
     "name": "stdout",
     "output_type": "stream",
     "text": [
      "Epoch 15/1000: Train Loss: 1.1263, Train Acc: 0.5699\n"
     ]
    },
    {
     "name": "stderr",
     "output_type": "stream",
     "text": [
      "Validation: 100%|█████████████████████████████████████████████| 47/47 [00:02<00:00, 18.96it/s, Loss=1.4882, Acc=0.4556]\n"
     ]
    },
    {
     "name": "stdout",
     "output_type": "stream",
     "text": [
      "Epoch 15/1000: Val Loss: 1.4882, Val Acc: 0.4556, Val F1: 0.4284\n",
      "Current Learning Rate: 3e-05\n",
      "Best model saved at D://Kuliah//UPI//SEMESTER 8//hasil eksperimen 2\\model1_dropout_best.pt with accuracy: 0.4556\n"
     ]
    },
    {
     "name": "stderr",
     "output_type": "stream",
     "text": [
      "Epoch 16/1000: 100%|████████████████████████████████████████| 422/422 [00:40<00:00, 10.53it/s, Loss=1.0555, Acc=0.6048]\n"
     ]
    },
    {
     "name": "stdout",
     "output_type": "stream",
     "text": [
      "Epoch 16/1000: Train Loss: 1.0555, Train Acc: 0.6048\n"
     ]
    },
    {
     "name": "stderr",
     "output_type": "stream",
     "text": [
      "Validation: 100%|█████████████████████████████████████████████| 47/47 [00:02<00:00, 19.92it/s, Loss=1.5225, Acc=0.4440]\n"
     ]
    },
    {
     "name": "stdout",
     "output_type": "stream",
     "text": [
      "Epoch 16/1000: Val Loss: 1.5225, Val Acc: 0.4440, Val F1: 0.4434\n",
      "Current Learning Rate: 3e-05\n"
     ]
    },
    {
     "name": "stderr",
     "output_type": "stream",
     "text": [
      "Epoch 17/1000: 100%|████████████████████████████████████████| 422/422 [00:40<00:00, 10.54it/s, Loss=0.9809, Acc=0.6322]\n"
     ]
    },
    {
     "name": "stdout",
     "output_type": "stream",
     "text": [
      "Epoch 17/1000: Train Loss: 0.9809, Train Acc: 0.6322\n"
     ]
    },
    {
     "name": "stderr",
     "output_type": "stream",
     "text": [
      "Validation: 100%|█████████████████████████████████████████████| 47/47 [00:02<00:00, 20.05it/s, Loss=1.5420, Acc=0.4473]\n"
     ]
    },
    {
     "name": "stdout",
     "output_type": "stream",
     "text": [
      "Epoch 17/1000: Val Loss: 1.5420, Val Acc: 0.4473, Val F1: 0.4353\n",
      "Current Learning Rate: 3e-05\n"
     ]
    },
    {
     "name": "stderr",
     "output_type": "stream",
     "text": [
      "Epoch 18/1000: 100%|████████████████████████████████████████| 422/422 [00:39<00:00, 10.64it/s, Loss=0.8935, Acc=0.6719]\n"
     ]
    },
    {
     "name": "stdout",
     "output_type": "stream",
     "text": [
      "Epoch 18/1000: Train Loss: 0.8935, Train Acc: 0.6719\n"
     ]
    },
    {
     "name": "stderr",
     "output_type": "stream",
     "text": [
      "Validation: 100%|█████████████████████████████████████████████| 47/47 [00:02<00:00, 18.79it/s, Loss=1.5984, Acc=0.4490]\n"
     ]
    },
    {
     "name": "stdout",
     "output_type": "stream",
     "text": [
      "Epoch 18/1000: Val Loss: 1.5984, Val Acc: 0.4490, Val F1: 0.4475\n",
      "Current Learning Rate: 3e-06\n"
     ]
    },
    {
     "name": "stderr",
     "output_type": "stream",
     "text": [
      "Epoch 19/1000: 100%|████████████████████████████████████████| 422/422 [00:40<00:00, 10.36it/s, Loss=0.6692, Acc=0.7709]\n"
     ]
    },
    {
     "name": "stdout",
     "output_type": "stream",
     "text": [
      "Epoch 19/1000: Train Loss: 0.6692, Train Acc: 0.7709\n"
     ]
    },
    {
     "name": "stderr",
     "output_type": "stream",
     "text": [
      "Validation: 100%|█████████████████████████████████████████████| 47/47 [00:02<00:00, 18.95it/s, Loss=1.6783, Acc=0.4586]\n"
     ]
    },
    {
     "name": "stdout",
     "output_type": "stream",
     "text": [
      "Epoch 19/1000: Val Loss: 1.6783, Val Acc: 0.4586, Val F1: 0.4560\n",
      "Current Learning Rate: 3e-06\n",
      "Best model saved at D://Kuliah//UPI//SEMESTER 8//hasil eksperimen 2\\model1_dropout_best.pt with accuracy: 0.4586\n"
     ]
    },
    {
     "name": "stderr",
     "output_type": "stream",
     "text": [
      "Epoch 20/1000: 100%|████████████████████████████████████████| 422/422 [00:41<00:00, 10.28it/s, Loss=0.6097, Acc=0.7959]\n"
     ]
    },
    {
     "name": "stdout",
     "output_type": "stream",
     "text": [
      "Epoch 20/1000: Train Loss: 0.6097, Train Acc: 0.7959\n"
     ]
    },
    {
     "name": "stderr",
     "output_type": "stream",
     "text": [
      "Validation: 100%|█████████████████████████████████████████████| 47/47 [00:02<00:00, 19.37it/s, Loss=1.7311, Acc=0.4590]\n"
     ]
    },
    {
     "name": "stdout",
     "output_type": "stream",
     "text": [
      "Epoch 20/1000: Val Loss: 1.7311, Val Acc: 0.4590, Val F1: 0.4582\n",
      "Current Learning Rate: 3e-06\n",
      "Best model saved at D://Kuliah//UPI//SEMESTER 8//hasil eksperimen 2\\model1_dropout_best.pt with accuracy: 0.4590\n"
     ]
    },
    {
     "name": "stderr",
     "output_type": "stream",
     "text": [
      "Epoch 21/1000: 100%|████████████████████████████████████████| 422/422 [00:40<00:00, 10.45it/s, Loss=0.5764, Acc=0.8069]\n"
     ]
    },
    {
     "name": "stdout",
     "output_type": "stream",
     "text": [
      "Epoch 21/1000: Train Loss: 0.5764, Train Acc: 0.8069\n"
     ]
    },
    {
     "name": "stderr",
     "output_type": "stream",
     "text": [
      "Validation: 100%|█████████████████████████████████████████████| 47/47 [00:02<00:00, 18.17it/s, Loss=1.7789, Acc=0.4586]\n"
     ]
    },
    {
     "name": "stdout",
     "output_type": "stream",
     "text": [
      "Epoch 21/1000: Val Loss: 1.7789, Val Acc: 0.4586, Val F1: 0.4542\n",
      "Current Learning Rate: 3e-06\n"
     ]
    },
    {
     "name": "stderr",
     "output_type": "stream",
     "text": [
      "Epoch 22/1000: 100%|████████████████████████████████████████| 422/422 [00:39<00:00, 10.56it/s, Loss=0.5475, Acc=0.8188]\n"
     ]
    },
    {
     "name": "stdout",
     "output_type": "stream",
     "text": [
      "Epoch 22/1000: Train Loss: 0.5475, Train Acc: 0.8188\n"
     ]
    },
    {
     "name": "stderr",
     "output_type": "stream",
     "text": [
      "Validation: 100%|█████████████████████████████████████████████| 47/47 [00:02<00:00, 19.92it/s, Loss=1.8160, Acc=0.4536]\n"
     ]
    },
    {
     "name": "stdout",
     "output_type": "stream",
     "text": [
      "Epoch 22/1000: Val Loss: 1.8160, Val Acc: 0.4536, Val F1: 0.4512\n",
      "Current Learning Rate: 3e-06\n"
     ]
    },
    {
     "name": "stderr",
     "output_type": "stream",
     "text": [
      "Epoch 23/1000: 100%|████████████████████████████████████████| 422/422 [00:40<00:00, 10.53it/s, Loss=0.5213, Acc=0.8287]\n"
     ]
    },
    {
     "name": "stdout",
     "output_type": "stream",
     "text": [
      "Epoch 23/1000: Train Loss: 0.5213, Train Acc: 0.8287\n"
     ]
    },
    {
     "name": "stderr",
     "output_type": "stream",
     "text": [
      "Validation: 100%|█████████████████████████████████████████████| 47/47 [00:02<00:00, 19.50it/s, Loss=1.8658, Acc=0.4603]\n"
     ]
    },
    {
     "name": "stdout",
     "output_type": "stream",
     "text": [
      "Epoch 23/1000: Val Loss: 1.8658, Val Acc: 0.4603, Val F1: 0.4581\n",
      "Current Learning Rate: 3e-06\n",
      "Best model saved at D://Kuliah//UPI//SEMESTER 8//hasil eksperimen 2\\model1_dropout_best.pt with accuracy: 0.4603\n"
     ]
    },
    {
     "name": "stderr",
     "output_type": "stream",
     "text": [
      "Epoch 24/1000: 100%|████████████████████████████████████████| 422/422 [00:40<00:00, 10.54it/s, Loss=0.4964, Acc=0.8387]\n"
     ]
    },
    {
     "name": "stdout",
     "output_type": "stream",
     "text": [
      "Epoch 24/1000: Train Loss: 0.4964, Train Acc: 0.8387\n"
     ]
    },
    {
     "name": "stderr",
     "output_type": "stream",
     "text": [
      "Validation: 100%|█████████████████████████████████████████████| 47/47 [00:02<00:00, 17.63it/s, Loss=1.9265, Acc=0.4563]\n"
     ]
    },
    {
     "name": "stdout",
     "output_type": "stream",
     "text": [
      "Epoch 24/1000: Val Loss: 1.9265, Val Acc: 0.4563, Val F1: 0.4507\n",
      "Current Learning Rate: 3.0000000000000004e-07\n"
     ]
    },
    {
     "name": "stderr",
     "output_type": "stream",
     "text": [
      "Epoch 25/1000: 100%|████████████████████████████████████████| 422/422 [00:41<00:00, 10.18it/s, Loss=0.4589, Acc=0.8562]\n"
     ]
    },
    {
     "name": "stdout",
     "output_type": "stream",
     "text": [
      "Epoch 25/1000: Train Loss: 0.4589, Train Acc: 0.8562\n"
     ]
    },
    {
     "name": "stderr",
     "output_type": "stream",
     "text": [
      "Validation: 100%|█████████████████████████████████████████████| 47/47 [00:03<00:00, 15.63it/s, Loss=1.9254, Acc=0.4556]\n"
     ]
    },
    {
     "name": "stdout",
     "output_type": "stream",
     "text": [
      "Epoch 25/1000: Val Loss: 1.9254, Val Acc: 0.4556, Val F1: 0.4531\n",
      "Current Learning Rate: 3.0000000000000004e-07\n"
     ]
    },
    {
     "name": "stderr",
     "output_type": "stream",
     "text": [
      "Epoch 26/1000: 100%|████████████████████████████████████████| 422/422 [00:40<00:00, 10.45it/s, Loss=0.4542, Acc=0.8582]\n"
     ]
    },
    {
     "name": "stdout",
     "output_type": "stream",
     "text": [
      "Epoch 26/1000: Train Loss: 0.4542, Train Acc: 0.8582\n"
     ]
    },
    {
     "name": "stderr",
     "output_type": "stream",
     "text": [
      "Validation: 100%|█████████████████████████████████████████████| 47/47 [00:02<00:00, 18.36it/s, Loss=1.9333, Acc=0.4566]\n"
     ]
    },
    {
     "name": "stdout",
     "output_type": "stream",
     "text": [
      "Epoch 26/1000: Val Loss: 1.9333, Val Acc: 0.4566, Val F1: 0.4533\n",
      "Current Learning Rate: 3.0000000000000004e-07\n"
     ]
    },
    {
     "name": "stderr",
     "output_type": "stream",
     "text": [
      "Epoch 27/1000: 100%|████████████████████████████████████████| 422/422 [00:41<00:00, 10.24it/s, Loss=0.4512, Acc=0.8602]\n"
     ]
    },
    {
     "name": "stdout",
     "output_type": "stream",
     "text": [
      "Epoch 27/1000: Train Loss: 0.4512, Train Acc: 0.8602\n"
     ]
    },
    {
     "name": "stderr",
     "output_type": "stream",
     "text": [
      "Validation: 100%|█████████████████████████████████████████████| 47/47 [00:02<00:00, 18.05it/s, Loss=1.9396, Acc=0.4566]\n"
     ]
    },
    {
     "name": "stdout",
     "output_type": "stream",
     "text": [
      "Epoch 27/1000: Val Loss: 1.9396, Val Acc: 0.4566, Val F1: 0.4526\n",
      "Current Learning Rate: 3.0000000000000004e-07\n",
      "Early stopping triggered at epoch 27!\n"
     ]
    },
    {
     "name": "stderr",
     "output_type": "stream",
     "text": [
      "Testing: 100%|████████████████████████████████████████████████| 53/53 [00:03<00:00, 16.54it/s, Loss=1.8030, Acc=0.4578]\n"
     ]
    },
    {
     "name": "stdout",
     "output_type": "stream",
     "text": [
      "Test Loss: 1.8030, Test Acc: 0.4578, Test F1: 0.4556\n",
      "Start model2 with configuration dropout: 0.3\n"
     ]
    },
    {
     "name": "stderr",
     "output_type": "stream",
     "text": [
      "Epoch 1/1000: 100%|█████████████████████████████████████████| 422/422 [00:40<00:00, 10.34it/s, Loss=1.7580, Acc=0.2742]\n"
     ]
    },
    {
     "name": "stdout",
     "output_type": "stream",
     "text": [
      "Epoch 1/1000: Train Loss: 1.7580, Train Acc: 0.2742\n"
     ]
    },
    {
     "name": "stderr",
     "output_type": "stream",
     "text": [
      "Validation: 100%|█████████████████████████████████████████████| 47/47 [00:02<00:00, 19.56it/s, Loss=1.7206, Acc=0.3089]\n"
     ]
    },
    {
     "name": "stdout",
     "output_type": "stream",
     "text": [
      "Epoch 1/1000: Val Loss: 1.7206, Val Acc: 0.3089, Val F1: 0.2628\n",
      "Current Learning Rate: 3e-05\n",
      "Best model saved at D://Kuliah//UPI//SEMESTER 8//hasil eksperimen 2\\model2_dropout_best.pt with accuracy: 0.3089\n"
     ]
    },
    {
     "name": "stderr",
     "output_type": "stream",
     "text": [
      "Epoch 2/1000: 100%|█████████████████████████████████████████| 422/422 [00:40<00:00, 10.39it/s, Loss=1.6415, Acc=0.3510]\n"
     ]
    },
    {
     "name": "stdout",
     "output_type": "stream",
     "text": [
      "Epoch 2/1000: Train Loss: 1.6415, Train Acc: 0.3510\n"
     ]
    },
    {
     "name": "stderr",
     "output_type": "stream",
     "text": [
      "Validation: 100%|█████████████████████████████████████████████| 47/47 [00:02<00:00, 19.18it/s, Loss=1.6155, Acc=0.3749]\n"
     ]
    },
    {
     "name": "stdout",
     "output_type": "stream",
     "text": [
      "Epoch 2/1000: Val Loss: 1.6155, Val Acc: 0.3749, Val F1: 0.3133\n",
      "Current Learning Rate: 3e-05\n",
      "Best model saved at D://Kuliah//UPI//SEMESTER 8//hasil eksperimen 2\\model2_dropout_best.pt with accuracy: 0.3749\n"
     ]
    },
    {
     "name": "stderr",
     "output_type": "stream",
     "text": [
      "Epoch 3/1000: 100%|█████████████████████████████████████████| 422/422 [00:40<00:00, 10.41it/s, Loss=1.5805, Acc=0.3827]\n"
     ]
    },
    {
     "name": "stdout",
     "output_type": "stream",
     "text": [
      "Epoch 3/1000: Train Loss: 1.5805, Train Acc: 0.3827\n"
     ]
    },
    {
     "name": "stderr",
     "output_type": "stream",
     "text": [
      "Validation: 100%|█████████████████████████████████████████████| 47/47 [00:02<00:00, 18.72it/s, Loss=1.5705, Acc=0.3993]\n"
     ]
    },
    {
     "name": "stdout",
     "output_type": "stream",
     "text": [
      "Epoch 3/1000: Val Loss: 1.5705, Val Acc: 0.3993, Val F1: 0.3328\n",
      "Current Learning Rate: 3e-05\n",
      "Best model saved at D://Kuliah//UPI//SEMESTER 8//hasil eksperimen 2\\model2_dropout_best.pt with accuracy: 0.3993\n"
     ]
    },
    {
     "name": "stderr",
     "output_type": "stream",
     "text": [
      "Epoch 4/1000: 100%|█████████████████████████████████████████| 422/422 [00:40<00:00, 10.35it/s, Loss=1.5377, Acc=0.4007]\n"
     ]
    },
    {
     "name": "stdout",
     "output_type": "stream",
     "text": [
      "Epoch 4/1000: Train Loss: 1.5377, Train Acc: 0.4007\n"
     ]
    },
    {
     "name": "stderr",
     "output_type": "stream",
     "text": [
      "Validation: 100%|█████████████████████████████████████████████| 47/47 [00:02<00:00, 18.47it/s, Loss=1.5329, Acc=0.4076]\n"
     ]
    },
    {
     "name": "stdout",
     "output_type": "stream",
     "text": [
      "Epoch 4/1000: Val Loss: 1.5329, Val Acc: 0.4076, Val F1: 0.3805\n",
      "Current Learning Rate: 3e-05\n",
      "Best model saved at D://Kuliah//UPI//SEMESTER 8//hasil eksperimen 2\\model2_dropout_best.pt with accuracy: 0.4076\n"
     ]
    },
    {
     "name": "stderr",
     "output_type": "stream",
     "text": [
      "Epoch 5/1000: 100%|█████████████████████████████████████████| 422/422 [00:40<00:00, 10.49it/s, Loss=1.5071, Acc=0.4177]\n"
     ]
    },
    {
     "name": "stdout",
     "output_type": "stream",
     "text": [
      "Epoch 5/1000: Train Loss: 1.5071, Train Acc: 0.4177\n"
     ]
    },
    {
     "name": "stderr",
     "output_type": "stream",
     "text": [
      "Validation: 100%|█████████████████████████████████████████████| 47/47 [00:02<00:00, 19.06it/s, Loss=1.5249, Acc=0.4059]\n"
     ]
    },
    {
     "name": "stdout",
     "output_type": "stream",
     "text": [
      "Epoch 5/1000: Val Loss: 1.5249, Val Acc: 0.4059, Val F1: 0.3725\n",
      "Current Learning Rate: 3e-05\n"
     ]
    },
    {
     "name": "stderr",
     "output_type": "stream",
     "text": [
      "Epoch 6/1000: 100%|█████████████████████████████████████████| 422/422 [00:40<00:00, 10.30it/s, Loss=1.4795, Acc=0.4241]\n"
     ]
    },
    {
     "name": "stdout",
     "output_type": "stream",
     "text": [
      "Epoch 6/1000: Train Loss: 1.4795, Train Acc: 0.4241\n"
     ]
    },
    {
     "name": "stderr",
     "output_type": "stream",
     "text": [
      "Validation: 100%|█████████████████████████████████████████████| 47/47 [00:02<00:00, 17.94it/s, Loss=1.5066, Acc=0.4203]\n"
     ]
    },
    {
     "name": "stdout",
     "output_type": "stream",
     "text": [
      "Epoch 6/1000: Val Loss: 1.5066, Val Acc: 0.4203, Val F1: 0.4070\n",
      "Current Learning Rate: 3e-05\n",
      "Best model saved at D://Kuliah//UPI//SEMESTER 8//hasil eksperimen 2\\model2_dropout_best.pt with accuracy: 0.4203\n"
     ]
    },
    {
     "name": "stderr",
     "output_type": "stream",
     "text": [
      "Epoch 7/1000: 100%|█████████████████████████████████████████| 422/422 [00:40<00:00, 10.32it/s, Loss=1.4516, Acc=0.4355]\n"
     ]
    },
    {
     "name": "stdout",
     "output_type": "stream",
     "text": [
      "Epoch 7/1000: Train Loss: 1.4516, Train Acc: 0.4355\n"
     ]
    },
    {
     "name": "stderr",
     "output_type": "stream",
     "text": [
      "Validation: 100%|█████████████████████████████████████████████| 47/47 [00:02<00:00, 19.41it/s, Loss=1.4718, Acc=0.4260]\n"
     ]
    },
    {
     "name": "stdout",
     "output_type": "stream",
     "text": [
      "Epoch 7/1000: Val Loss: 1.4718, Val Acc: 0.4260, Val F1: 0.4084\n",
      "Current Learning Rate: 3e-05\n",
      "Best model saved at D://Kuliah//UPI//SEMESTER 8//hasil eksperimen 2\\model2_dropout_best.pt with accuracy: 0.4260\n"
     ]
    },
    {
     "name": "stderr",
     "output_type": "stream",
     "text": [
      "Epoch 8/1000: 100%|█████████████████████████████████████████| 422/422 [00:41<00:00, 10.28it/s, Loss=1.4249, Acc=0.4489]\n"
     ]
    },
    {
     "name": "stdout",
     "output_type": "stream",
     "text": [
      "Epoch 8/1000: Train Loss: 1.4249, Train Acc: 0.4489\n"
     ]
    },
    {
     "name": "stderr",
     "output_type": "stream",
     "text": [
      "Validation: 100%|█████████████████████████████████████████████| 47/47 [00:02<00:00, 16.04it/s, Loss=1.4599, Acc=0.4406]\n"
     ]
    },
    {
     "name": "stdout",
     "output_type": "stream",
     "text": [
      "Epoch 8/1000: Val Loss: 1.4599, Val Acc: 0.4406, Val F1: 0.4071\n",
      "Current Learning Rate: 3e-05\n",
      "Best model saved at D://Kuliah//UPI//SEMESTER 8//hasil eksperimen 2\\model2_dropout_best.pt with accuracy: 0.4406\n"
     ]
    },
    {
     "name": "stderr",
     "output_type": "stream",
     "text": [
      "Epoch 9/1000: 100%|█████████████████████████████████████████| 422/422 [00:40<00:00, 10.39it/s, Loss=1.3954, Acc=0.4580]\n"
     ]
    },
    {
     "name": "stdout",
     "output_type": "stream",
     "text": [
      "Epoch 9/1000: Train Loss: 1.3954, Train Acc: 0.4580\n"
     ]
    },
    {
     "name": "stderr",
     "output_type": "stream",
     "text": [
      "Validation: 100%|█████████████████████████████████████████████| 47/47 [00:02<00:00, 19.61it/s, Loss=1.4708, Acc=0.4313]\n"
     ]
    },
    {
     "name": "stdout",
     "output_type": "stream",
     "text": [
      "Epoch 9/1000: Val Loss: 1.4708, Val Acc: 0.4313, Val F1: 0.4235\n",
      "Current Learning Rate: 3e-05\n"
     ]
    },
    {
     "name": "stderr",
     "output_type": "stream",
     "text": [
      "Epoch 10/1000: 100%|████████████████████████████████████████| 422/422 [00:41<00:00, 10.24it/s, Loss=1.3592, Acc=0.4773]\n"
     ]
    },
    {
     "name": "stdout",
     "output_type": "stream",
     "text": [
      "Epoch 10/1000: Train Loss: 1.3592, Train Acc: 0.4773\n"
     ]
    },
    {
     "name": "stderr",
     "output_type": "stream",
     "text": [
      "Validation: 100%|█████████████████████████████████████████████| 47/47 [00:02<00:00, 17.30it/s, Loss=1.4407, Acc=0.4446]\n"
     ]
    },
    {
     "name": "stdout",
     "output_type": "stream",
     "text": [
      "Epoch 10/1000: Val Loss: 1.4407, Val Acc: 0.4446, Val F1: 0.4246\n",
      "Current Learning Rate: 3e-05\n",
      "Best model saved at D://Kuliah//UPI//SEMESTER 8//hasil eksperimen 2\\model2_dropout_best.pt with accuracy: 0.4446\n"
     ]
    },
    {
     "name": "stderr",
     "output_type": "stream",
     "text": [
      "Epoch 11/1000: 100%|████████████████████████████████████████| 422/422 [00:40<00:00, 10.40it/s, Loss=1.3198, Acc=0.4919]\n"
     ]
    },
    {
     "name": "stdout",
     "output_type": "stream",
     "text": [
      "Epoch 11/1000: Train Loss: 1.3198, Train Acc: 0.4919\n"
     ]
    },
    {
     "name": "stderr",
     "output_type": "stream",
     "text": [
      "Validation: 100%|█████████████████████████████████████████████| 47/47 [00:02<00:00, 17.06it/s, Loss=1.4366, Acc=0.4446]\n"
     ]
    },
    {
     "name": "stdout",
     "output_type": "stream",
     "text": [
      "Epoch 11/1000: Val Loss: 1.4366, Val Acc: 0.4446, Val F1: 0.4334\n",
      "Current Learning Rate: 3e-05\n"
     ]
    },
    {
     "name": "stderr",
     "output_type": "stream",
     "text": [
      "Epoch 12/1000: 100%|████████████████████████████████████████| 422/422 [00:41<00:00, 10.24it/s, Loss=1.2790, Acc=0.5063]\n"
     ]
    },
    {
     "name": "stdout",
     "output_type": "stream",
     "text": [
      "Epoch 12/1000: Train Loss: 1.2790, Train Acc: 0.5063\n"
     ]
    },
    {
     "name": "stderr",
     "output_type": "stream",
     "text": [
      "Validation: 100%|█████████████████████████████████████████████| 47/47 [00:02<00:00, 18.81it/s, Loss=1.4560, Acc=0.4460]\n"
     ]
    },
    {
     "name": "stdout",
     "output_type": "stream",
     "text": [
      "Epoch 12/1000: Val Loss: 1.4560, Val Acc: 0.4460, Val F1: 0.4292\n",
      "Current Learning Rate: 3e-05\n",
      "Best model saved at D://Kuliah//UPI//SEMESTER 8//hasil eksperimen 2\\model2_dropout_best.pt with accuracy: 0.4460\n"
     ]
    },
    {
     "name": "stderr",
     "output_type": "stream",
     "text": [
      "Epoch 13/1000: 100%|████████████████████████████████████████| 422/422 [00:41<00:00, 10.26it/s, Loss=1.2246, Acc=0.5294]\n"
     ]
    },
    {
     "name": "stdout",
     "output_type": "stream",
     "text": [
      "Epoch 13/1000: Train Loss: 1.2246, Train Acc: 0.5294\n"
     ]
    },
    {
     "name": "stderr",
     "output_type": "stream",
     "text": [
      "Validation: 100%|█████████████████████████████████████████████| 47/47 [00:02<00:00, 21.09it/s, Loss=1.4500, Acc=0.4346]\n"
     ]
    },
    {
     "name": "stdout",
     "output_type": "stream",
     "text": [
      "Epoch 13/1000: Val Loss: 1.4500, Val Acc: 0.4346, Val F1: 0.4264\n",
      "Current Learning Rate: 3e-05\n"
     ]
    },
    {
     "name": "stderr",
     "output_type": "stream",
     "text": [
      "Epoch 14/1000: 100%|████████████████████████████████████████| 422/422 [00:39<00:00, 10.67it/s, Loss=1.1685, Acc=0.5539]\n"
     ]
    },
    {
     "name": "stdout",
     "output_type": "stream",
     "text": [
      "Epoch 14/1000: Train Loss: 1.1685, Train Acc: 0.5539\n"
     ]
    },
    {
     "name": "stderr",
     "output_type": "stream",
     "text": [
      "Validation: 100%|█████████████████████████████████████████████| 47/47 [00:02<00:00, 17.89it/s, Loss=1.4514, Acc=0.4543]\n"
     ]
    },
    {
     "name": "stdout",
     "output_type": "stream",
     "text": [
      "Epoch 14/1000: Val Loss: 1.4514, Val Acc: 0.4543, Val F1: 0.4334\n",
      "Current Learning Rate: 3e-05\n",
      "Best model saved at D://Kuliah//UPI//SEMESTER 8//hasil eksperimen 2\\model2_dropout_best.pt with accuracy: 0.4543\n"
     ]
    },
    {
     "name": "stderr",
     "output_type": "stream",
     "text": [
      "Epoch 15/1000: 100%|████████████████████████████████████████| 422/422 [00:39<00:00, 10.72it/s, Loss=1.0987, Acc=0.5843]\n"
     ]
    },
    {
     "name": "stdout",
     "output_type": "stream",
     "text": [
      "Epoch 15/1000: Train Loss: 1.0987, Train Acc: 0.5843\n"
     ]
    },
    {
     "name": "stderr",
     "output_type": "stream",
     "text": [
      "Validation: 100%|█████████████████████████████████████████████| 47/47 [00:02<00:00, 19.63it/s, Loss=1.4888, Acc=0.4563]\n"
     ]
    },
    {
     "name": "stdout",
     "output_type": "stream",
     "text": [
      "Epoch 15/1000: Val Loss: 1.4888, Val Acc: 0.4563, Val F1: 0.4472\n",
      "Current Learning Rate: 3e-05\n",
      "Best model saved at D://Kuliah//UPI//SEMESTER 8//hasil eksperimen 2\\model2_dropout_best.pt with accuracy: 0.4563\n"
     ]
    },
    {
     "name": "stderr",
     "output_type": "stream",
     "text": [
      "Epoch 16/1000: 100%|████████████████████████████████████████| 422/422 [00:39<00:00, 10.63it/s, Loss=1.0340, Acc=0.6081]\n"
     ]
    },
    {
     "name": "stdout",
     "output_type": "stream",
     "text": [
      "Epoch 16/1000: Train Loss: 1.0340, Train Acc: 0.6081\n"
     ]
    },
    {
     "name": "stderr",
     "output_type": "stream",
     "text": [
      "Validation: 100%|█████████████████████████████████████████████| 47/47 [00:02<00:00, 18.94it/s, Loss=1.5041, Acc=0.4526]\n"
     ]
    },
    {
     "name": "stdout",
     "output_type": "stream",
     "text": [
      "Epoch 16/1000: Val Loss: 1.5041, Val Acc: 0.4526, Val F1: 0.4495\n",
      "Current Learning Rate: 3e-05\n"
     ]
    },
    {
     "name": "stderr",
     "output_type": "stream",
     "text": [
      "Epoch 17/1000: 100%|████████████████████████████████████████| 422/422 [00:41<00:00, 10.22it/s, Loss=0.9495, Acc=0.6437]\n"
     ]
    },
    {
     "name": "stdout",
     "output_type": "stream",
     "text": [
      "Epoch 17/1000: Train Loss: 0.9495, Train Acc: 0.6437\n"
     ]
    },
    {
     "name": "stderr",
     "output_type": "stream",
     "text": [
      "Validation: 100%|█████████████████████████████████████████████| 47/47 [00:02<00:00, 19.04it/s, Loss=1.5628, Acc=0.4410]\n"
     ]
    },
    {
     "name": "stdout",
     "output_type": "stream",
     "text": [
      "Epoch 17/1000: Val Loss: 1.5628, Val Acc: 0.4410, Val F1: 0.4351\n",
      "Current Learning Rate: 3e-06\n"
     ]
    },
    {
     "name": "stderr",
     "output_type": "stream",
     "text": [
      "Epoch 18/1000: 100%|████████████████████████████████████████| 422/422 [00:41<00:00, 10.07it/s, Loss=0.7395, Acc=0.7415]\n"
     ]
    },
    {
     "name": "stdout",
     "output_type": "stream",
     "text": [
      "Epoch 18/1000: Train Loss: 0.7395, Train Acc: 0.7415\n"
     ]
    },
    {
     "name": "stderr",
     "output_type": "stream",
     "text": [
      "Validation: 100%|█████████████████████████████████████████████| 47/47 [00:03<00:00, 15.65it/s, Loss=1.5948, Acc=0.4556]\n"
     ]
    },
    {
     "name": "stdout",
     "output_type": "stream",
     "text": [
      "Epoch 18/1000: Val Loss: 1.5948, Val Acc: 0.4556, Val F1: 0.4520\n",
      "Current Learning Rate: 3e-06\n"
     ]
    },
    {
     "name": "stderr",
     "output_type": "stream",
     "text": [
      "Epoch 19/1000: 100%|████████████████████████████████████████| 422/422 [00:40<00:00, 10.38it/s, Loss=0.6836, Acc=0.7667]\n"
     ]
    },
    {
     "name": "stdout",
     "output_type": "stream",
     "text": [
      "Epoch 19/1000: Train Loss: 0.6836, Train Acc: 0.7667\n"
     ]
    },
    {
     "name": "stderr",
     "output_type": "stream",
     "text": [
      "Validation: 100%|█████████████████████████████████████████████| 47/47 [00:02<00:00, 18.10it/s, Loss=1.6345, Acc=0.4556]\n"
     ]
    },
    {
     "name": "stdout",
     "output_type": "stream",
     "text": [
      "Epoch 19/1000: Val Loss: 1.6345, Val Acc: 0.4556, Val F1: 0.4521\n",
      "Current Learning Rate: 3e-06\n"
     ]
    },
    {
     "name": "stderr",
     "output_type": "stream",
     "text": [
      "Epoch 20/1000: 100%|████████████████████████████████████████| 422/422 [00:40<00:00, 10.50it/s, Loss=0.6524, Acc=0.7770]\n"
     ]
    },
    {
     "name": "stdout",
     "output_type": "stream",
     "text": [
      "Epoch 20/1000: Train Loss: 0.6524, Train Acc: 0.7770\n"
     ]
    },
    {
     "name": "stderr",
     "output_type": "stream",
     "text": [
      "Validation: 100%|█████████████████████████████████████████████| 47/47 [00:02<00:00, 16.43it/s, Loss=1.6808, Acc=0.4540]\n"
     ]
    },
    {
     "name": "stdout",
     "output_type": "stream",
     "text": [
      "Epoch 20/1000: Val Loss: 1.6808, Val Acc: 0.4540, Val F1: 0.4500\n",
      "Current Learning Rate: 3e-06\n"
     ]
    },
    {
     "name": "stderr",
     "output_type": "stream",
     "text": [
      "Epoch 21/1000: 100%|████████████████████████████████████████| 422/422 [00:41<00:00, 10.28it/s, Loss=0.6243, Acc=0.7873]\n"
     ]
    },
    {
     "name": "stdout",
     "output_type": "stream",
     "text": [
      "Epoch 21/1000: Train Loss: 0.6243, Train Acc: 0.7873\n"
     ]
    },
    {
     "name": "stderr",
     "output_type": "stream",
     "text": [
      "Validation: 100%|█████████████████████████████████████████████| 47/47 [00:02<00:00, 18.09it/s, Loss=1.7209, Acc=0.4493]\n"
     ]
    },
    {
     "name": "stdout",
     "output_type": "stream",
     "text": [
      "Epoch 21/1000: Val Loss: 1.7209, Val Acc: 0.4493, Val F1: 0.4481\n",
      "Current Learning Rate: 3e-06\n"
     ]
    },
    {
     "name": "stderr",
     "output_type": "stream",
     "text": [
      "Epoch 22/1000: 100%|████████████████████████████████████████| 422/422 [00:40<00:00, 10.30it/s, Loss=0.5985, Acc=0.7977]\n"
     ]
    },
    {
     "name": "stdout",
     "output_type": "stream",
     "text": [
      "Epoch 22/1000: Train Loss: 0.5985, Train Acc: 0.7977\n"
     ]
    },
    {
     "name": "stderr",
     "output_type": "stream",
     "text": [
      "Validation: 100%|█████████████████████████████████████████████| 47/47 [00:02<00:00, 18.71it/s, Loss=1.7547, Acc=0.4493]\n"
     ]
    },
    {
     "name": "stdout",
     "output_type": "stream",
     "text": [
      "Epoch 22/1000: Val Loss: 1.7547, Val Acc: 0.4493, Val F1: 0.4476\n",
      "Current Learning Rate: 3e-06\n"
     ]
    },
    {
     "name": "stderr",
     "output_type": "stream",
     "text": [
      "Epoch 23/1000: 100%|████████████████████████████████████████| 422/422 [00:40<00:00, 10.31it/s, Loss=0.5733, Acc=0.8071]\n"
     ]
    },
    {
     "name": "stdout",
     "output_type": "stream",
     "text": [
      "Epoch 23/1000: Train Loss: 0.5733, Train Acc: 0.8071\n"
     ]
    },
    {
     "name": "stderr",
     "output_type": "stream",
     "text": [
      "Validation: 100%|█████████████████████████████████████████████| 47/47 [00:02<00:00, 18.09it/s, Loss=1.7824, Acc=0.4503]\n"
     ]
    },
    {
     "name": "stdout",
     "output_type": "stream",
     "text": [
      "Epoch 23/1000: Val Loss: 1.7824, Val Acc: 0.4503, Val F1: 0.4485\n",
      "Current Learning Rate: 3.0000000000000004e-07\n"
     ]
    },
    {
     "name": "stderr",
     "output_type": "stream",
     "text": [
      "Epoch 24/1000: 100%|████████████████████████████████████████| 422/422 [00:40<00:00, 10.36it/s, Loss=0.5364, Acc=0.8248]\n"
     ]
    },
    {
     "name": "stdout",
     "output_type": "stream",
     "text": [
      "Epoch 24/1000: Train Loss: 0.5364, Train Acc: 0.8248\n"
     ]
    },
    {
     "name": "stderr",
     "output_type": "stream",
     "text": [
      "Validation: 100%|█████████████████████████████████████████████| 47/47 [00:02<00:00, 18.61it/s, Loss=1.7972, Acc=0.4480]\n"
     ]
    },
    {
     "name": "stdout",
     "output_type": "stream",
     "text": [
      "Epoch 24/1000: Val Loss: 1.7972, Val Acc: 0.4480, Val F1: 0.4460\n",
      "Current Learning Rate: 3.0000000000000004e-07\n"
     ]
    },
    {
     "name": "stderr",
     "output_type": "stream",
     "text": [
      "Epoch 25/1000: 100%|████████████████████████████████████████| 422/422 [00:41<00:00, 10.29it/s, Loss=0.5316, Acc=0.8276]\n"
     ]
    },
    {
     "name": "stdout",
     "output_type": "stream",
     "text": [
      "Epoch 25/1000: Train Loss: 0.5316, Train Acc: 0.8276\n"
     ]
    },
    {
     "name": "stderr",
     "output_type": "stream",
     "text": [
      "Validation: 100%|█████████████████████████████████████████████| 47/47 [00:02<00:00, 18.55it/s, Loss=1.8035, Acc=0.4473]\n"
     ]
    },
    {
     "name": "stdout",
     "output_type": "stream",
     "text": [
      "Epoch 25/1000: Val Loss: 1.8035, Val Acc: 0.4473, Val F1: 0.4449\n",
      "Current Learning Rate: 3.0000000000000004e-07\n"
     ]
    },
    {
     "name": "stderr",
     "output_type": "stream",
     "text": [
      "Epoch 26/1000: 100%|████████████████████████████████████████| 422/422 [00:40<00:00, 10.33it/s, Loss=0.5284, Acc=0.8286]\n"
     ]
    },
    {
     "name": "stdout",
     "output_type": "stream",
     "text": [
      "Epoch 26/1000: Train Loss: 0.5284, Train Acc: 0.8286\n"
     ]
    },
    {
     "name": "stderr",
     "output_type": "stream",
     "text": [
      "Validation: 100%|█████████████████████████████████████████████| 47/47 [00:02<00:00, 18.53it/s, Loss=1.8097, Acc=0.4480]\n"
     ]
    },
    {
     "name": "stdout",
     "output_type": "stream",
     "text": [
      "Epoch 26/1000: Val Loss: 1.8097, Val Acc: 0.4480, Val F1: 0.4451\n",
      "Current Learning Rate: 3.0000000000000004e-07\n",
      "Early stopping triggered at epoch 26!\n"
     ]
    },
    {
     "name": "stderr",
     "output_type": "stream",
     "text": [
      "Testing: 100%|████████████████████████████████████████████████| 53/53 [00:03<00:00, 17.63it/s, Loss=1.4778, Acc=0.4578]\n"
     ]
    },
    {
     "name": "stdout",
     "output_type": "stream",
     "text": [
      "Test Loss: 1.4778, Test Acc: 0.4578, Test F1: 0.4481\n",
      "Start model3 with configuration dropout: 0.5\n"
     ]
    },
    {
     "name": "stderr",
     "output_type": "stream",
     "text": [
      "Epoch 1/1000: 100%|█████████████████████████████████████████| 422/422 [00:40<00:00, 10.34it/s, Loss=1.7560, Acc=0.2789]\n"
     ]
    },
    {
     "name": "stdout",
     "output_type": "stream",
     "text": [
      "Epoch 1/1000: Train Loss: 1.7560, Train Acc: 0.2789\n"
     ]
    },
    {
     "name": "stderr",
     "output_type": "stream",
     "text": [
      "Validation: 100%|█████████████████████████████████████████████| 47/47 [00:02<00:00, 18.63it/s, Loss=1.7118, Acc=0.3119]\n"
     ]
    },
    {
     "name": "stdout",
     "output_type": "stream",
     "text": [
      "Epoch 1/1000: Val Loss: 1.7118, Val Acc: 0.3119, Val F1: 0.2466\n",
      "Current Learning Rate: 3e-05\n",
      "Best model saved at D://Kuliah//UPI//SEMESTER 8//hasil eksperimen 2\\model3_dropout_best.pt with accuracy: 0.3119\n"
     ]
    },
    {
     "name": "stderr",
     "output_type": "stream",
     "text": [
      "Epoch 2/1000: 100%|█████████████████████████████████████████| 422/422 [00:41<00:00, 10.28it/s, Loss=1.6453, Acc=0.3526]\n"
     ]
    },
    {
     "name": "stdout",
     "output_type": "stream",
     "text": [
      "Epoch 2/1000: Train Loss: 1.6453, Train Acc: 0.3526\n"
     ]
    },
    {
     "name": "stderr",
     "output_type": "stream",
     "text": [
      "Validation: 100%|█████████████████████████████████████████████| 47/47 [00:02<00:00, 18.73it/s, Loss=1.6166, Acc=0.3719]\n"
     ]
    },
    {
     "name": "stdout",
     "output_type": "stream",
     "text": [
      "Epoch 2/1000: Val Loss: 1.6166, Val Acc: 0.3719, Val F1: 0.3454\n",
      "Current Learning Rate: 3e-05\n",
      "Best model saved at D://Kuliah//UPI//SEMESTER 8//hasil eksperimen 2\\model3_dropout_best.pt with accuracy: 0.3719\n"
     ]
    },
    {
     "name": "stderr",
     "output_type": "stream",
     "text": [
      "Epoch 3/1000: 100%|█████████████████████████████████████████| 422/422 [00:40<00:00, 10.31it/s, Loss=1.5833, Acc=0.3803]\n"
     ]
    },
    {
     "name": "stdout",
     "output_type": "stream",
     "text": [
      "Epoch 3/1000: Train Loss: 1.5833, Train Acc: 0.3803\n"
     ]
    },
    {
     "name": "stderr",
     "output_type": "stream",
     "text": [
      "Validation: 100%|█████████████████████████████████████████████| 47/47 [00:02<00:00, 18.75it/s, Loss=1.5936, Acc=0.3756]\n"
     ]
    },
    {
     "name": "stdout",
     "output_type": "stream",
     "text": [
      "Epoch 3/1000: Val Loss: 1.5936, Val Acc: 0.3756, Val F1: 0.3401\n",
      "Current Learning Rate: 3e-05\n",
      "Best model saved at D://Kuliah//UPI//SEMESTER 8//hasil eksperimen 2\\model3_dropout_best.pt with accuracy: 0.3756\n"
     ]
    },
    {
     "name": "stderr",
     "output_type": "stream",
     "text": [
      "Epoch 4/1000: 100%|█████████████████████████████████████████| 422/422 [00:40<00:00, 10.36it/s, Loss=1.5437, Acc=0.3969]\n"
     ]
    },
    {
     "name": "stdout",
     "output_type": "stream",
     "text": [
      "Epoch 4/1000: Train Loss: 1.5437, Train Acc: 0.3969\n"
     ]
    },
    {
     "name": "stderr",
     "output_type": "stream",
     "text": [
      "Validation: 100%|█████████████████████████████████████████████| 47/47 [00:02<00:00, 18.08it/s, Loss=1.5518, Acc=0.3896]\n"
     ]
    },
    {
     "name": "stdout",
     "output_type": "stream",
     "text": [
      "Epoch 4/1000: Val Loss: 1.5518, Val Acc: 0.3896, Val F1: 0.3711\n",
      "Current Learning Rate: 3e-05\n",
      "Best model saved at D://Kuliah//UPI//SEMESTER 8//hasil eksperimen 2\\model3_dropout_best.pt with accuracy: 0.3896\n"
     ]
    },
    {
     "name": "stderr",
     "output_type": "stream",
     "text": [
      "Epoch 5/1000: 100%|█████████████████████████████████████████| 422/422 [00:40<00:00, 10.36it/s, Loss=1.5091, Acc=0.4114]\n"
     ]
    },
    {
     "name": "stdout",
     "output_type": "stream",
     "text": [
      "Epoch 5/1000: Train Loss: 1.5091, Train Acc: 0.4114\n"
     ]
    },
    {
     "name": "stderr",
     "output_type": "stream",
     "text": [
      "Validation: 100%|█████████████████████████████████████████████| 47/47 [00:02<00:00, 18.29it/s, Loss=1.5183, Acc=0.4089]\n"
     ]
    },
    {
     "name": "stdout",
     "output_type": "stream",
     "text": [
      "Epoch 5/1000: Val Loss: 1.5183, Val Acc: 0.4089, Val F1: 0.3852\n",
      "Current Learning Rate: 3e-05\n",
      "Best model saved at D://Kuliah//UPI//SEMESTER 8//hasil eksperimen 2\\model3_dropout_best.pt with accuracy: 0.4089\n"
     ]
    },
    {
     "name": "stderr",
     "output_type": "stream",
     "text": [
      "Epoch 6/1000: 100%|█████████████████████████████████████████| 422/422 [00:41<00:00, 10.28it/s, Loss=1.4801, Acc=0.4234]\n"
     ]
    },
    {
     "name": "stdout",
     "output_type": "stream",
     "text": [
      "Epoch 6/1000: Train Loss: 1.4801, Train Acc: 0.4234\n"
     ]
    },
    {
     "name": "stderr",
     "output_type": "stream",
     "text": [
      "Validation: 100%|█████████████████████████████████████████████| 47/47 [00:02<00:00, 18.94it/s, Loss=1.4966, Acc=0.4169]\n"
     ]
    },
    {
     "name": "stdout",
     "output_type": "stream",
     "text": [
      "Epoch 6/1000: Val Loss: 1.4966, Val Acc: 0.4169, Val F1: 0.3711\n",
      "Current Learning Rate: 3e-05\n",
      "Best model saved at D://Kuliah//UPI//SEMESTER 8//hasil eksperimen 2\\model3_dropout_best.pt with accuracy: 0.4169\n"
     ]
    },
    {
     "name": "stderr",
     "output_type": "stream",
     "text": [
      "Epoch 7/1000: 100%|█████████████████████████████████████████| 422/422 [00:42<00:00, 10.00it/s, Loss=1.4504, Acc=0.4363]\n"
     ]
    },
    {
     "name": "stdout",
     "output_type": "stream",
     "text": [
      "Epoch 7/1000: Train Loss: 1.4504, Train Acc: 0.4363\n"
     ]
    },
    {
     "name": "stderr",
     "output_type": "stream",
     "text": [
      "Validation: 100%|█████████████████████████████████████████████| 47/47 [00:02<00:00, 17.16it/s, Loss=1.4720, Acc=0.4306]\n"
     ]
    },
    {
     "name": "stdout",
     "output_type": "stream",
     "text": [
      "Epoch 7/1000: Val Loss: 1.4720, Val Acc: 0.4306, Val F1: 0.4166\n",
      "Current Learning Rate: 3e-05\n",
      "Best model saved at D://Kuliah//UPI//SEMESTER 8//hasil eksperimen 2\\model3_dropout_best.pt with accuracy: 0.4306\n"
     ]
    },
    {
     "name": "stderr",
     "output_type": "stream",
     "text": [
      "Epoch 8/1000: 100%|█████████████████████████████████████████| 422/422 [00:41<00:00, 10.22it/s, Loss=1.4219, Acc=0.4503]\n"
     ]
    },
    {
     "name": "stdout",
     "output_type": "stream",
     "text": [
      "Epoch 8/1000: Train Loss: 1.4219, Train Acc: 0.4503\n"
     ]
    },
    {
     "name": "stderr",
     "output_type": "stream",
     "text": [
      "Validation: 100%|█████████████████████████████████████████████| 47/47 [00:02<00:00, 18.75it/s, Loss=1.4548, Acc=0.4373]\n"
     ]
    },
    {
     "name": "stdout",
     "output_type": "stream",
     "text": [
      "Epoch 8/1000: Val Loss: 1.4548, Val Acc: 0.4373, Val F1: 0.4021\n",
      "Current Learning Rate: 3e-05\n",
      "Best model saved at D://Kuliah//UPI//SEMESTER 8//hasil eksperimen 2\\model3_dropout_best.pt with accuracy: 0.4373\n"
     ]
    },
    {
     "name": "stderr",
     "output_type": "stream",
     "text": [
      "Epoch 9/1000: 100%|█████████████████████████████████████████| 422/422 [00:40<00:00, 10.33it/s, Loss=1.3835, Acc=0.4652]\n"
     ]
    },
    {
     "name": "stdout",
     "output_type": "stream",
     "text": [
      "Epoch 9/1000: Train Loss: 1.3835, Train Acc: 0.4652\n"
     ]
    },
    {
     "name": "stderr",
     "output_type": "stream",
     "text": [
      "Validation: 100%|█████████████████████████████████████████████| 47/47 [00:02<00:00, 18.66it/s, Loss=1.4415, Acc=0.4463]\n"
     ]
    },
    {
     "name": "stdout",
     "output_type": "stream",
     "text": [
      "Epoch 9/1000: Val Loss: 1.4415, Val Acc: 0.4463, Val F1: 0.4326\n",
      "Current Learning Rate: 3e-05\n",
      "Best model saved at D://Kuliah//UPI//SEMESTER 8//hasil eksperimen 2\\model3_dropout_best.pt with accuracy: 0.4463\n"
     ]
    },
    {
     "name": "stderr",
     "output_type": "stream",
     "text": [
      "Epoch 10/1000: 100%|████████████████████████████████████████| 422/422 [00:41<00:00, 10.24it/s, Loss=1.3510, Acc=0.4776]\n"
     ]
    },
    {
     "name": "stdout",
     "output_type": "stream",
     "text": [
      "Epoch 10/1000: Train Loss: 1.3510, Train Acc: 0.4776\n"
     ]
    },
    {
     "name": "stderr",
     "output_type": "stream",
     "text": [
      "Validation: 100%|█████████████████████████████████████████████| 47/47 [00:02<00:00, 18.65it/s, Loss=1.4223, Acc=0.4530]\n"
     ]
    },
    {
     "name": "stdout",
     "output_type": "stream",
     "text": [
      "Epoch 10/1000: Val Loss: 1.4223, Val Acc: 0.4530, Val F1: 0.4392\n",
      "Current Learning Rate: 3e-05\n",
      "Best model saved at D://Kuliah//UPI//SEMESTER 8//hasil eksperimen 2\\model3_dropout_best.pt with accuracy: 0.4530\n"
     ]
    },
    {
     "name": "stderr",
     "output_type": "stream",
     "text": [
      "Epoch 11/1000: 100%|████████████████████████████████████████| 422/422 [00:41<00:00, 10.17it/s, Loss=1.3094, Acc=0.4972]\n"
     ]
    },
    {
     "name": "stdout",
     "output_type": "stream",
     "text": [
      "Epoch 11/1000: Train Loss: 1.3094, Train Acc: 0.4972\n"
     ]
    },
    {
     "name": "stderr",
     "output_type": "stream",
     "text": [
      "Validation: 100%|█████████████████████████████████████████████| 47/47 [00:02<00:00, 18.46it/s, Loss=1.4168, Acc=0.4640]\n"
     ]
    },
    {
     "name": "stdout",
     "output_type": "stream",
     "text": [
      "Epoch 11/1000: Val Loss: 1.4168, Val Acc: 0.4640, Val F1: 0.4498\n",
      "Current Learning Rate: 3e-05\n",
      "Best model saved at D://Kuliah//UPI//SEMESTER 8//hasil eksperimen 2\\model3_dropout_best.pt with accuracy: 0.4640\n"
     ]
    },
    {
     "name": "stderr",
     "output_type": "stream",
     "text": [
      "Epoch 12/1000: 100%|████████████████████████████████████████| 422/422 [00:41<00:00, 10.25it/s, Loss=1.2554, Acc=0.5185]\n"
     ]
    },
    {
     "name": "stdout",
     "output_type": "stream",
     "text": [
      "Epoch 12/1000: Train Loss: 1.2554, Train Acc: 0.5185\n"
     ]
    },
    {
     "name": "stderr",
     "output_type": "stream",
     "text": [
      "Validation: 100%|█████████████████████████████████████████████| 47/47 [00:02<00:00, 18.38it/s, Loss=1.4320, Acc=0.4530]\n"
     ]
    },
    {
     "name": "stdout",
     "output_type": "stream",
     "text": [
      "Epoch 12/1000: Val Loss: 1.4320, Val Acc: 0.4530, Val F1: 0.4385\n",
      "Current Learning Rate: 3e-05\n"
     ]
    },
    {
     "name": "stderr",
     "output_type": "stream",
     "text": [
      "Epoch 13/1000: 100%|████████████████████████████████████████| 422/422 [00:41<00:00, 10.24it/s, Loss=1.2016, Acc=0.5401]\n"
     ]
    },
    {
     "name": "stdout",
     "output_type": "stream",
     "text": [
      "Epoch 13/1000: Train Loss: 1.2016, Train Acc: 0.5401\n"
     ]
    },
    {
     "name": "stderr",
     "output_type": "stream",
     "text": [
      "Validation: 100%|█████████████████████████████████████████████| 47/47 [00:02<00:00, 17.82it/s, Loss=1.4337, Acc=0.4580]\n"
     ]
    },
    {
     "name": "stdout",
     "output_type": "stream",
     "text": [
      "Epoch 13/1000: Val Loss: 1.4337, Val Acc: 0.4580, Val F1: 0.4533\n",
      "Current Learning Rate: 3e-05\n"
     ]
    },
    {
     "name": "stderr",
     "output_type": "stream",
     "text": [
      "Epoch 14/1000: 100%|████████████████████████████████████████| 422/422 [00:41<00:00, 10.27it/s, Loss=1.1400, Acc=0.5683]\n"
     ]
    },
    {
     "name": "stdout",
     "output_type": "stream",
     "text": [
      "Epoch 14/1000: Train Loss: 1.1400, Train Acc: 0.5683\n"
     ]
    },
    {
     "name": "stderr",
     "output_type": "stream",
     "text": [
      "Validation: 100%|█████████████████████████████████████████████| 47/47 [00:02<00:00, 18.12it/s, Loss=1.4682, Acc=0.4590]\n"
     ]
    },
    {
     "name": "stdout",
     "output_type": "stream",
     "text": [
      "Epoch 14/1000: Val Loss: 1.4682, Val Acc: 0.4590, Val F1: 0.4471\n",
      "Current Learning Rate: 3e-05\n"
     ]
    },
    {
     "name": "stderr",
     "output_type": "stream",
     "text": [
      "Epoch 15/1000: 100%|████████████████████████████████████████| 422/422 [00:42<00:00,  9.96it/s, Loss=1.0711, Acc=0.5932]\n"
     ]
    },
    {
     "name": "stdout",
     "output_type": "stream",
     "text": [
      "Epoch 15/1000: Train Loss: 1.0711, Train Acc: 0.5932\n"
     ]
    },
    {
     "name": "stderr",
     "output_type": "stream",
     "text": [
      "Validation: 100%|█████████████████████████████████████████████| 47/47 [00:02<00:00, 16.09it/s, Loss=1.4806, Acc=0.4603]\n"
     ]
    },
    {
     "name": "stdout",
     "output_type": "stream",
     "text": [
      "Epoch 15/1000: Val Loss: 1.4806, Val Acc: 0.4603, Val F1: 0.4564\n",
      "Current Learning Rate: 3e-05\n"
     ]
    },
    {
     "name": "stderr",
     "output_type": "stream",
     "text": [
      "Epoch 16/1000: 100%|████████████████████████████████████████| 422/422 [00:44<00:00,  9.50it/s, Loss=0.9914, Acc=0.6306]\n"
     ]
    },
    {
     "name": "stdout",
     "output_type": "stream",
     "text": [
      "Epoch 16/1000: Train Loss: 0.9914, Train Acc: 0.6306\n"
     ]
    },
    {
     "name": "stderr",
     "output_type": "stream",
     "text": [
      "Validation: 100%|█████████████████████████████████████████████| 47/47 [00:02<00:00, 18.38it/s, Loss=1.5126, Acc=0.4593]\n"
     ]
    },
    {
     "name": "stdout",
     "output_type": "stream",
     "text": [
      "Epoch 16/1000: Val Loss: 1.5126, Val Acc: 0.4593, Val F1: 0.4531\n",
      "Current Learning Rate: 3e-05\n"
     ]
    },
    {
     "name": "stderr",
     "output_type": "stream",
     "text": [
      "Epoch 17/1000: 100%|████████████████████████████████████████| 422/422 [00:41<00:00, 10.21it/s, Loss=0.8979, Acc=0.6656]\n"
     ]
    },
    {
     "name": "stdout",
     "output_type": "stream",
     "text": [
      "Epoch 17/1000: Train Loss: 0.8979, Train Acc: 0.6656\n"
     ]
    },
    {
     "name": "stderr",
     "output_type": "stream",
     "text": [
      "Validation: 100%|█████████████████████████████████████████████| 47/47 [00:02<00:00, 17.50it/s, Loss=1.6386, Acc=0.4590]\n"
     ]
    },
    {
     "name": "stdout",
     "output_type": "stream",
     "text": [
      "Epoch 17/1000: Val Loss: 1.6386, Val Acc: 0.4590, Val F1: 0.4407\n",
      "Current Learning Rate: 3e-06\n"
     ]
    },
    {
     "name": "stderr",
     "output_type": "stream",
     "text": [
      "Epoch 18/1000: 100%|████████████████████████████████████████| 422/422 [00:41<00:00, 10.19it/s, Loss=0.6695, Acc=0.7659]\n"
     ]
    },
    {
     "name": "stdout",
     "output_type": "stream",
     "text": [
      "Epoch 18/1000: Train Loss: 0.6695, Train Acc: 0.7659\n"
     ]
    },
    {
     "name": "stderr",
     "output_type": "stream",
     "text": [
      "Validation: 100%|█████████████████████████████████████████████| 47/47 [00:02<00:00, 17.58it/s, Loss=1.6229, Acc=0.4540]\n"
     ]
    },
    {
     "name": "stdout",
     "output_type": "stream",
     "text": [
      "Epoch 18/1000: Val Loss: 1.6229, Val Acc: 0.4540, Val F1: 0.4485\n",
      "Current Learning Rate: 3e-06\n"
     ]
    },
    {
     "name": "stderr",
     "output_type": "stream",
     "text": [
      "Epoch 19/1000: 100%|████████████████████████████████████████| 422/422 [00:41<00:00, 10.05it/s, Loss=0.6097, Acc=0.7935]\n"
     ]
    },
    {
     "name": "stdout",
     "output_type": "stream",
     "text": [
      "Epoch 19/1000: Train Loss: 0.6097, Train Acc: 0.7935\n"
     ]
    },
    {
     "name": "stderr",
     "output_type": "stream",
     "text": [
      "Validation: 100%|█████████████████████████████████████████████| 47/47 [00:02<00:00, 16.42it/s, Loss=1.6628, Acc=0.4603]\n"
     ]
    },
    {
     "name": "stdout",
     "output_type": "stream",
     "text": [
      "Epoch 19/1000: Val Loss: 1.6628, Val Acc: 0.4603, Val F1: 0.4570\n",
      "Current Learning Rate: 3e-06\n"
     ]
    },
    {
     "name": "stderr",
     "output_type": "stream",
     "text": [
      "Epoch 20/1000: 100%|████████████████████████████████████████| 422/422 [00:39<00:00, 10.78it/s, Loss=0.5746, Acc=0.8075]\n"
     ]
    },
    {
     "name": "stdout",
     "output_type": "stream",
     "text": [
      "Epoch 20/1000: Train Loss: 0.5746, Train Acc: 0.8075\n"
     ]
    },
    {
     "name": "stderr",
     "output_type": "stream",
     "text": [
      "Validation: 100%|█████████████████████████████████████████████| 47/47 [00:02<00:00, 20.08it/s, Loss=1.7150, Acc=0.4523]\n"
     ]
    },
    {
     "name": "stdout",
     "output_type": "stream",
     "text": [
      "Epoch 20/1000: Val Loss: 1.7150, Val Acc: 0.4523, Val F1: 0.4507\n",
      "Current Learning Rate: 3e-06\n"
     ]
    },
    {
     "name": "stderr",
     "output_type": "stream",
     "text": [
      "Epoch 21/1000: 100%|████████████████████████████████████████| 422/422 [00:38<00:00, 11.05it/s, Loss=0.5450, Acc=0.8185]\n"
     ]
    },
    {
     "name": "stdout",
     "output_type": "stream",
     "text": [
      "Epoch 21/1000: Train Loss: 0.5450, Train Acc: 0.8185\n"
     ]
    },
    {
     "name": "stderr",
     "output_type": "stream",
     "text": [
      "Validation: 100%|█████████████████████████████████████████████| 47/47 [00:02<00:00, 20.70it/s, Loss=1.7591, Acc=0.4463]\n"
     ]
    },
    {
     "name": "stdout",
     "output_type": "stream",
     "text": [
      "Epoch 21/1000: Val Loss: 1.7591, Val Acc: 0.4463, Val F1: 0.4459\n",
      "Current Learning Rate: 3e-06\n"
     ]
    },
    {
     "name": "stderr",
     "output_type": "stream",
     "text": [
      "Epoch 22/1000: 100%|████████████████████████████████████████| 422/422 [00:37<00:00, 11.14it/s, Loss=0.5172, Acc=0.8299]\n"
     ]
    },
    {
     "name": "stdout",
     "output_type": "stream",
     "text": [
      "Epoch 22/1000: Train Loss: 0.5172, Train Acc: 0.8299\n"
     ]
    },
    {
     "name": "stderr",
     "output_type": "stream",
     "text": [
      "Validation: 100%|█████████████████████████████████████████████| 47/47 [00:02<00:00, 20.46it/s, Loss=1.8025, Acc=0.4490]\n"
     ]
    },
    {
     "name": "stdout",
     "output_type": "stream",
     "text": [
      "Epoch 22/1000: Val Loss: 1.8025, Val Acc: 0.4490, Val F1: 0.4463\n",
      "Current Learning Rate: 3e-06\n"
     ]
    },
    {
     "name": "stderr",
     "output_type": "stream",
     "text": [
      "Epoch 23/1000: 100%|████████████████████████████████████████| 422/422 [00:37<00:00, 11.17it/s, Loss=0.4914, Acc=0.8403]\n"
     ]
    },
    {
     "name": "stdout",
     "output_type": "stream",
     "text": [
      "Epoch 23/1000: Train Loss: 0.4914, Train Acc: 0.8403\n"
     ]
    },
    {
     "name": "stderr",
     "output_type": "stream",
     "text": [
      "Validation: 100%|█████████████████████████████████████████████| 47/47 [00:02<00:00, 20.86it/s, Loss=1.8401, Acc=0.4526]\n"
     ]
    },
    {
     "name": "stdout",
     "output_type": "stream",
     "text": [
      "Epoch 23/1000: Val Loss: 1.8401, Val Acc: 0.4526, Val F1: 0.4504\n",
      "Current Learning Rate: 3.0000000000000004e-07\n"
     ]
    },
    {
     "name": "stderr",
     "output_type": "stream",
     "text": [
      "Epoch 24/1000: 100%|████████████████████████████████████████| 422/422 [00:37<00:00, 11.12it/s, Loss=0.4522, Acc=0.8600]\n"
     ]
    },
    {
     "name": "stdout",
     "output_type": "stream",
     "text": [
      "Epoch 24/1000: Train Loss: 0.4522, Train Acc: 0.8600\n"
     ]
    },
    {
     "name": "stderr",
     "output_type": "stream",
     "text": [
      "Validation: 100%|█████████████████████████████████████████████| 47/47 [00:02<00:00, 21.06it/s, Loss=1.8438, Acc=0.4490]\n"
     ]
    },
    {
     "name": "stdout",
     "output_type": "stream",
     "text": [
      "Epoch 24/1000: Val Loss: 1.8438, Val Acc: 0.4490, Val F1: 0.4463\n",
      "Current Learning Rate: 3.0000000000000004e-07\n"
     ]
    },
    {
     "name": "stderr",
     "output_type": "stream",
     "text": [
      "Epoch 25/1000: 100%|████████████████████████████████████████| 422/422 [00:37<00:00, 11.16it/s, Loss=0.4469, Acc=0.8611]\n"
     ]
    },
    {
     "name": "stdout",
     "output_type": "stream",
     "text": [
      "Epoch 25/1000: Train Loss: 0.4469, Train Acc: 0.8611\n"
     ]
    },
    {
     "name": "stderr",
     "output_type": "stream",
     "text": [
      "Validation: 100%|█████████████████████████████████████████████| 47/47 [00:02<00:00, 20.64it/s, Loss=1.8540, Acc=0.4453]\n"
     ]
    },
    {
     "name": "stdout",
     "output_type": "stream",
     "text": [
      "Epoch 25/1000: Val Loss: 1.8540, Val Acc: 0.4453, Val F1: 0.4435\n",
      "Current Learning Rate: 3.0000000000000004e-07\n"
     ]
    },
    {
     "name": "stderr",
     "output_type": "stream",
     "text": [
      "Epoch 26/1000: 100%|████████████████████████████████████████| 422/422 [00:37<00:00, 11.11it/s, Loss=0.4438, Acc=0.8620]\n"
     ]
    },
    {
     "name": "stdout",
     "output_type": "stream",
     "text": [
      "Epoch 26/1000: Train Loss: 0.4438, Train Acc: 0.8620\n"
     ]
    },
    {
     "name": "stderr",
     "output_type": "stream",
     "text": [
      "Validation: 100%|█████████████████████████████████████████████| 47/47 [00:02<00:00, 20.59it/s, Loss=1.8592, Acc=0.4490]\n"
     ]
    },
    {
     "name": "stdout",
     "output_type": "stream",
     "text": [
      "Epoch 26/1000: Val Loss: 1.8592, Val Acc: 0.4490, Val F1: 0.4470\n",
      "Current Learning Rate: 3.0000000000000004e-07\n",
      "Early stopping triggered at epoch 26!\n"
     ]
    },
    {
     "name": "stderr",
     "output_type": "stream",
     "text": [
      "Testing: 100%|████████████████████████████████████████████████| 53/53 [00:02<00:00, 18.86it/s, Loss=1.4256, Acc=0.4578]\n"
     ]
    },
    {
     "name": "stdout",
     "output_type": "stream",
     "text": [
      "Test Loss: 1.4256, Test Acc: 0.4578, Test F1: 0.4418\n",
      "Start model4 with configuration dropout: 0.7\n"
     ]
    },
    {
     "name": "stderr",
     "output_type": "stream",
     "text": [
      "Epoch 1/1000: 100%|█████████████████████████████████████████| 422/422 [00:37<00:00, 11.15it/s, Loss=1.7544, Acc=0.2778]\n"
     ]
    },
    {
     "name": "stdout",
     "output_type": "stream",
     "text": [
      "Epoch 1/1000: Train Loss: 1.7544, Train Acc: 0.2778\n"
     ]
    },
    {
     "name": "stderr",
     "output_type": "stream",
     "text": [
      "Validation: 100%|█████████████████████████████████████████████| 47/47 [00:02<00:00, 20.51it/s, Loss=1.7009, Acc=0.3132]\n"
     ]
    },
    {
     "name": "stdout",
     "output_type": "stream",
     "text": [
      "Epoch 1/1000: Val Loss: 1.7009, Val Acc: 0.3132, Val F1: 0.2539\n",
      "Current Learning Rate: 3e-05\n",
      "Best model saved at D://Kuliah//UPI//SEMESTER 8//hasil eksperimen 2\\model4_dropout_best.pt with accuracy: 0.3132\n"
     ]
    },
    {
     "name": "stderr",
     "output_type": "stream",
     "text": [
      "Epoch 2/1000: 100%|█████████████████████████████████████████| 422/422 [00:37<00:00, 11.13it/s, Loss=1.6534, Acc=0.3475]\n"
     ]
    },
    {
     "name": "stdout",
     "output_type": "stream",
     "text": [
      "Epoch 2/1000: Train Loss: 1.6534, Train Acc: 0.3475\n"
     ]
    },
    {
     "name": "stderr",
     "output_type": "stream",
     "text": [
      "Validation: 100%|█████████████████████████████████████████████| 47/47 [00:02<00:00, 20.78it/s, Loss=1.6194, Acc=0.3592]\n"
     ]
    },
    {
     "name": "stdout",
     "output_type": "stream",
     "text": [
      "Epoch 2/1000: Val Loss: 1.6194, Val Acc: 0.3592, Val F1: 0.3199\n",
      "Current Learning Rate: 3e-05\n",
      "Best model saved at D://Kuliah//UPI//SEMESTER 8//hasil eksperimen 2\\model4_dropout_best.pt with accuracy: 0.3592\n"
     ]
    },
    {
     "name": "stderr",
     "output_type": "stream",
     "text": [
      "Epoch 3/1000: 100%|█████████████████████████████████████████| 422/422 [00:37<00:00, 11.12it/s, Loss=1.5867, Acc=0.3770]\n"
     ]
    },
    {
     "name": "stdout",
     "output_type": "stream",
     "text": [
      "Epoch 3/1000: Train Loss: 1.5867, Train Acc: 0.3770\n"
     ]
    },
    {
     "name": "stderr",
     "output_type": "stream",
     "text": [
      "Validation: 100%|█████████████████████████████████████████████| 47/47 [00:02<00:00, 20.73it/s, Loss=1.5714, Acc=0.3829]\n"
     ]
    },
    {
     "name": "stdout",
     "output_type": "stream",
     "text": [
      "Epoch 3/1000: Val Loss: 1.5714, Val Acc: 0.3829, Val F1: 0.3425\n",
      "Current Learning Rate: 3e-05\n",
      "Best model saved at D://Kuliah//UPI//SEMESTER 8//hasil eksperimen 2\\model4_dropout_best.pt with accuracy: 0.3829\n"
     ]
    },
    {
     "name": "stderr",
     "output_type": "stream",
     "text": [
      "Epoch 4/1000: 100%|█████████████████████████████████████████| 422/422 [00:37<00:00, 11.15it/s, Loss=1.5464, Acc=0.3973]\n"
     ]
    },
    {
     "name": "stdout",
     "output_type": "stream",
     "text": [
      "Epoch 4/1000: Train Loss: 1.5464, Train Acc: 0.3973\n"
     ]
    },
    {
     "name": "stderr",
     "output_type": "stream",
     "text": [
      "Validation: 100%|█████████████████████████████████████████████| 47/47 [00:02<00:00, 20.69it/s, Loss=1.5473, Acc=0.3956]\n"
     ]
    },
    {
     "name": "stdout",
     "output_type": "stream",
     "text": [
      "Epoch 4/1000: Val Loss: 1.5473, Val Acc: 0.3956, Val F1: 0.3758\n",
      "Current Learning Rate: 3e-05\n",
      "Best model saved at D://Kuliah//UPI//SEMESTER 8//hasil eksperimen 2\\model4_dropout_best.pt with accuracy: 0.3956\n"
     ]
    },
    {
     "name": "stderr",
     "output_type": "stream",
     "text": [
      "Epoch 5/1000: 100%|█████████████████████████████████████████| 422/422 [00:37<00:00, 11.15it/s, Loss=1.5152, Acc=0.4128]\n"
     ]
    },
    {
     "name": "stdout",
     "output_type": "stream",
     "text": [
      "Epoch 5/1000: Train Loss: 1.5152, Train Acc: 0.4128\n"
     ]
    },
    {
     "name": "stderr",
     "output_type": "stream",
     "text": [
      "Validation: 100%|█████████████████████████████████████████████| 47/47 [00:02<00:00, 21.02it/s, Loss=1.5134, Acc=0.4136]\n"
     ]
    },
    {
     "name": "stdout",
     "output_type": "stream",
     "text": [
      "Epoch 5/1000: Val Loss: 1.5134, Val Acc: 0.4136, Val F1: 0.3749\n",
      "Current Learning Rate: 3e-05\n",
      "Best model saved at D://Kuliah//UPI//SEMESTER 8//hasil eksperimen 2\\model4_dropout_best.pt with accuracy: 0.4136\n"
     ]
    },
    {
     "name": "stderr",
     "output_type": "stream",
     "text": [
      "Epoch 6/1000: 100%|█████████████████████████████████████████| 422/422 [00:37<00:00, 11.17it/s, Loss=1.4824, Acc=0.4242]\n"
     ]
    },
    {
     "name": "stdout",
     "output_type": "stream",
     "text": [
      "Epoch 6/1000: Train Loss: 1.4824, Train Acc: 0.4242\n"
     ]
    },
    {
     "name": "stderr",
     "output_type": "stream",
     "text": [
      "Validation: 100%|█████████████████████████████████████████████| 47/47 [00:02<00:00, 20.35it/s, Loss=1.4882, Acc=0.4229]\n"
     ]
    },
    {
     "name": "stdout",
     "output_type": "stream",
     "text": [
      "Epoch 6/1000: Val Loss: 1.4882, Val Acc: 0.4229, Val F1: 0.3984\n",
      "Current Learning Rate: 3e-05\n",
      "Best model saved at D://Kuliah//UPI//SEMESTER 8//hasil eksperimen 2\\model4_dropout_best.pt with accuracy: 0.4229\n"
     ]
    },
    {
     "name": "stderr",
     "output_type": "stream",
     "text": [
      "Epoch 7/1000: 100%|█████████████████████████████████████████| 422/422 [00:37<00:00, 11.15it/s, Loss=1.4555, Acc=0.4363]\n"
     ]
    },
    {
     "name": "stdout",
     "output_type": "stream",
     "text": [
      "Epoch 7/1000: Train Loss: 1.4555, Train Acc: 0.4363\n"
     ]
    },
    {
     "name": "stderr",
     "output_type": "stream",
     "text": [
      "Validation: 100%|█████████████████████████████████████████████| 47/47 [00:02<00:00, 21.07it/s, Loss=1.4838, Acc=0.4370]\n"
     ]
    },
    {
     "name": "stdout",
     "output_type": "stream",
     "text": [
      "Epoch 7/1000: Val Loss: 1.4838, Val Acc: 0.4370, Val F1: 0.4193\n",
      "Current Learning Rate: 3e-05\n",
      "Best model saved at D://Kuliah//UPI//SEMESTER 8//hasil eksperimen 2\\model4_dropout_best.pt with accuracy: 0.4370\n"
     ]
    },
    {
     "name": "stderr",
     "output_type": "stream",
     "text": [
      "Epoch 8/1000: 100%|█████████████████████████████████████████| 422/422 [00:37<00:00, 11.13it/s, Loss=1.4252, Acc=0.4491]\n"
     ]
    },
    {
     "name": "stdout",
     "output_type": "stream",
     "text": [
      "Epoch 8/1000: Train Loss: 1.4252, Train Acc: 0.4491\n"
     ]
    },
    {
     "name": "stderr",
     "output_type": "stream",
     "text": [
      "Validation: 100%|█████████████████████████████████████████████| 47/47 [00:02<00:00, 20.60it/s, Loss=1.4609, Acc=0.4430]\n"
     ]
    },
    {
     "name": "stdout",
     "output_type": "stream",
     "text": [
      "Epoch 8/1000: Val Loss: 1.4609, Val Acc: 0.4430, Val F1: 0.4156\n",
      "Current Learning Rate: 3e-05\n",
      "Best model saved at D://Kuliah//UPI//SEMESTER 8//hasil eksperimen 2\\model4_dropout_best.pt with accuracy: 0.4430\n"
     ]
    },
    {
     "name": "stderr",
     "output_type": "stream",
     "text": [
      "Epoch 9/1000: 100%|█████████████████████████████████████████| 422/422 [00:37<00:00, 11.14it/s, Loss=1.3947, Acc=0.4619]\n"
     ]
    },
    {
     "name": "stdout",
     "output_type": "stream",
     "text": [
      "Epoch 9/1000: Train Loss: 1.3947, Train Acc: 0.4619\n"
     ]
    },
    {
     "name": "stderr",
     "output_type": "stream",
     "text": [
      "Validation: 100%|█████████████████████████████████████████████| 47/47 [00:02<00:00, 20.38it/s, Loss=1.4828, Acc=0.4386]\n"
     ]
    },
    {
     "name": "stdout",
     "output_type": "stream",
     "text": [
      "Epoch 9/1000: Val Loss: 1.4828, Val Acc: 0.4386, Val F1: 0.3914\n",
      "Current Learning Rate: 3e-05\n"
     ]
    },
    {
     "name": "stderr",
     "output_type": "stream",
     "text": [
      "Epoch 10/1000: 100%|████████████████████████████████████████| 422/422 [00:37<00:00, 11.19it/s, Loss=1.3610, Acc=0.4768]\n"
     ]
    },
    {
     "name": "stdout",
     "output_type": "stream",
     "text": [
      "Epoch 10/1000: Train Loss: 1.3610, Train Acc: 0.4768\n"
     ]
    },
    {
     "name": "stderr",
     "output_type": "stream",
     "text": [
      "Validation: 100%|█████████████████████████████████████████████| 47/47 [00:02<00:00, 20.83it/s, Loss=1.4285, Acc=0.4506]\n"
     ]
    },
    {
     "name": "stdout",
     "output_type": "stream",
     "text": [
      "Epoch 10/1000: Val Loss: 1.4285, Val Acc: 0.4506, Val F1: 0.4288\n",
      "Current Learning Rate: 3e-05\n",
      "Best model saved at D://Kuliah//UPI//SEMESTER 8//hasil eksperimen 2\\model4_dropout_best.pt with accuracy: 0.4506\n"
     ]
    },
    {
     "name": "stderr",
     "output_type": "stream",
     "text": [
      "Epoch 11/1000: 100%|████████████████████████████████████████| 422/422 [00:37<00:00, 11.15it/s, Loss=1.3197, Acc=0.4927]\n"
     ]
    },
    {
     "name": "stdout",
     "output_type": "stream",
     "text": [
      "Epoch 11/1000: Train Loss: 1.3197, Train Acc: 0.4927\n"
     ]
    },
    {
     "name": "stderr",
     "output_type": "stream",
     "text": [
      "Validation: 100%|█████████████████████████████████████████████| 47/47 [00:02<00:00, 20.69it/s, Loss=1.4106, Acc=0.4673]\n"
     ]
    },
    {
     "name": "stdout",
     "output_type": "stream",
     "text": [
      "Epoch 11/1000: Val Loss: 1.4106, Val Acc: 0.4673, Val F1: 0.4466\n",
      "Current Learning Rate: 3e-05\n",
      "Best model saved at D://Kuliah//UPI//SEMESTER 8//hasil eksperimen 2\\model4_dropout_best.pt with accuracy: 0.4673\n"
     ]
    },
    {
     "name": "stderr",
     "output_type": "stream",
     "text": [
      "Epoch 12/1000: 100%|████████████████████████████████████████| 422/422 [00:37<00:00, 11.13it/s, Loss=1.2730, Acc=0.5122]\n"
     ]
    },
    {
     "name": "stdout",
     "output_type": "stream",
     "text": [
      "Epoch 12/1000: Train Loss: 1.2730, Train Acc: 0.5122\n"
     ]
    },
    {
     "name": "stderr",
     "output_type": "stream",
     "text": [
      "Validation: 100%|█████████████████████████████████████████████| 47/47 [00:02<00:00, 20.46it/s, Loss=1.4367, Acc=0.4513]\n"
     ]
    },
    {
     "name": "stdout",
     "output_type": "stream",
     "text": [
      "Epoch 12/1000: Val Loss: 1.4367, Val Acc: 0.4513, Val F1: 0.4182\n",
      "Current Learning Rate: 3e-05\n"
     ]
    },
    {
     "name": "stderr",
     "output_type": "stream",
     "text": [
      "Epoch 13/1000: 100%|████████████████████████████████████████| 422/422 [00:37<00:00, 11.15it/s, Loss=1.2294, Acc=0.5305]\n"
     ]
    },
    {
     "name": "stdout",
     "output_type": "stream",
     "text": [
      "Epoch 13/1000: Train Loss: 1.2294, Train Acc: 0.5305\n"
     ]
    },
    {
     "name": "stderr",
     "output_type": "stream",
     "text": [
      "Validation: 100%|█████████████████████████████████████████████| 47/47 [00:02<00:00, 20.53it/s, Loss=1.4231, Acc=0.4486]\n"
     ]
    },
    {
     "name": "stdout",
     "output_type": "stream",
     "text": [
      "Epoch 13/1000: Val Loss: 1.4231, Val Acc: 0.4486, Val F1: 0.4483\n",
      "Current Learning Rate: 3e-05\n"
     ]
    },
    {
     "name": "stderr",
     "output_type": "stream",
     "text": [
      "Epoch 14/1000: 100%|████████████████████████████████████████| 422/422 [00:37<00:00, 11.16it/s, Loss=1.1659, Acc=0.5588]\n"
     ]
    },
    {
     "name": "stdout",
     "output_type": "stream",
     "text": [
      "Epoch 14/1000: Train Loss: 1.1659, Train Acc: 0.5588\n"
     ]
    },
    {
     "name": "stderr",
     "output_type": "stream",
     "text": [
      "Validation: 100%|█████████████████████████████████████████████| 47/47 [00:02<00:00, 20.52it/s, Loss=1.4317, Acc=0.4656]\n"
     ]
    },
    {
     "name": "stdout",
     "output_type": "stream",
     "text": [
      "Epoch 14/1000: Val Loss: 1.4317, Val Acc: 0.4656, Val F1: 0.4474\n",
      "Current Learning Rate: 3e-05\n"
     ]
    },
    {
     "name": "stderr",
     "output_type": "stream",
     "text": [
      "Epoch 15/1000: 100%|████████████████████████████████████████| 422/422 [00:37<00:00, 11.15it/s, Loss=1.1012, Acc=0.5823]\n"
     ]
    },
    {
     "name": "stdout",
     "output_type": "stream",
     "text": [
      "Epoch 15/1000: Train Loss: 1.1012, Train Acc: 0.5823\n"
     ]
    },
    {
     "name": "stderr",
     "output_type": "stream",
     "text": [
      "Validation: 100%|█████████████████████████████████████████████| 47/47 [00:02<00:00, 20.59it/s, Loss=1.4660, Acc=0.4690]\n"
     ]
    },
    {
     "name": "stdout",
     "output_type": "stream",
     "text": [
      "Epoch 15/1000: Val Loss: 1.4660, Val Acc: 0.4690, Val F1: 0.4509\n",
      "Current Learning Rate: 3e-05\n",
      "Best model saved at D://Kuliah//UPI//SEMESTER 8//hasil eksperimen 2\\model4_dropout_best.pt with accuracy: 0.4690\n"
     ]
    },
    {
     "name": "stderr",
     "output_type": "stream",
     "text": [
      "Epoch 16/1000: 100%|████████████████████████████████████████| 422/422 [00:38<00:00, 11.10it/s, Loss=1.0294, Acc=0.6157]\n"
     ]
    },
    {
     "name": "stdout",
     "output_type": "stream",
     "text": [
      "Epoch 16/1000: Train Loss: 1.0294, Train Acc: 0.6157\n"
     ]
    },
    {
     "name": "stderr",
     "output_type": "stream",
     "text": [
      "Validation: 100%|█████████████████████████████████████████████| 47/47 [00:02<00:00, 20.33it/s, Loss=1.4692, Acc=0.4626]\n"
     ]
    },
    {
     "name": "stdout",
     "output_type": "stream",
     "text": [
      "Epoch 16/1000: Val Loss: 1.4692, Val Acc: 0.4626, Val F1: 0.4509\n",
      "Current Learning Rate: 3e-05\n"
     ]
    },
    {
     "name": "stderr",
     "output_type": "stream",
     "text": [
      "Epoch 17/1000: 100%|████████████████████████████████████████| 422/422 [00:37<00:00, 11.16it/s, Loss=0.9482, Acc=0.6464]\n"
     ]
    },
    {
     "name": "stdout",
     "output_type": "stream",
     "text": [
      "Epoch 17/1000: Train Loss: 0.9482, Train Acc: 0.6464\n"
     ]
    },
    {
     "name": "stderr",
     "output_type": "stream",
     "text": [
      "Validation: 100%|█████████████████████████████████████████████| 47/47 [00:02<00:00, 20.47it/s, Loss=1.5410, Acc=0.4496]\n"
     ]
    },
    {
     "name": "stdout",
     "output_type": "stream",
     "text": [
      "Epoch 17/1000: Val Loss: 1.5410, Val Acc: 0.4496, Val F1: 0.4504\n",
      "Current Learning Rate: 3e-06\n"
     ]
    },
    {
     "name": "stderr",
     "output_type": "stream",
     "text": [
      "Epoch 18/1000: 100%|████████████████████████████████████████| 422/422 [00:37<00:00, 11.21it/s, Loss=0.7283, Acc=0.7487]\n"
     ]
    },
    {
     "name": "stdout",
     "output_type": "stream",
     "text": [
      "Epoch 18/1000: Train Loss: 0.7283, Train Acc: 0.7487\n"
     ]
    },
    {
     "name": "stderr",
     "output_type": "stream",
     "text": [
      "Validation: 100%|█████████████████████████████████████████████| 47/47 [00:02<00:00, 20.98it/s, Loss=1.5507, Acc=0.4563]\n"
     ]
    },
    {
     "name": "stdout",
     "output_type": "stream",
     "text": [
      "Epoch 18/1000: Val Loss: 1.5507, Val Acc: 0.4563, Val F1: 0.4557\n",
      "Current Learning Rate: 3e-06\n"
     ]
    },
    {
     "name": "stderr",
     "output_type": "stream",
     "text": [
      "Epoch 19/1000: 100%|████████████████████████████████████████| 422/422 [00:37<00:00, 11.25it/s, Loss=0.6715, Acc=0.7721]\n"
     ]
    },
    {
     "name": "stdout",
     "output_type": "stream",
     "text": [
      "Epoch 19/1000: Train Loss: 0.6715, Train Acc: 0.7721\n"
     ]
    },
    {
     "name": "stderr",
     "output_type": "stream",
     "text": [
      "Validation: 100%|█████████████████████████████████████████████| 47/47 [00:02<00:00, 21.09it/s, Loss=1.5866, Acc=0.4596]\n"
     ]
    },
    {
     "name": "stdout",
     "output_type": "stream",
     "text": [
      "Epoch 19/1000: Val Loss: 1.5866, Val Acc: 0.4596, Val F1: 0.4596\n",
      "Current Learning Rate: 3e-06\n"
     ]
    },
    {
     "name": "stderr",
     "output_type": "stream",
     "text": [
      "Epoch 20/1000: 100%|████████████████████████████████████████| 422/422 [00:37<00:00, 11.21it/s, Loss=0.6389, Acc=0.7831]\n"
     ]
    },
    {
     "name": "stdout",
     "output_type": "stream",
     "text": [
      "Epoch 20/1000: Train Loss: 0.6389, Train Acc: 0.7831\n"
     ]
    },
    {
     "name": "stderr",
     "output_type": "stream",
     "text": [
      "Validation: 100%|█████████████████████████████████████████████| 47/47 [00:02<00:00, 21.02it/s, Loss=1.6256, Acc=0.4560]\n"
     ]
    },
    {
     "name": "stdout",
     "output_type": "stream",
     "text": [
      "Epoch 20/1000: Val Loss: 1.6256, Val Acc: 0.4560, Val F1: 0.4550\n",
      "Current Learning Rate: 3e-06\n"
     ]
    },
    {
     "name": "stderr",
     "output_type": "stream",
     "text": [
      "Epoch 21/1000: 100%|████████████████████████████████████████| 422/422 [00:37<00:00, 11.21it/s, Loss=0.6108, Acc=0.7947]\n"
     ]
    },
    {
     "name": "stdout",
     "output_type": "stream",
     "text": [
      "Epoch 21/1000: Train Loss: 0.6108, Train Acc: 0.7947\n"
     ]
    },
    {
     "name": "stderr",
     "output_type": "stream",
     "text": [
      "Validation: 100%|█████████████████████████████████████████████| 47/47 [00:02<00:00, 20.51it/s, Loss=1.6607, Acc=0.4540]\n"
     ]
    },
    {
     "name": "stdout",
     "output_type": "stream",
     "text": [
      "Epoch 21/1000: Val Loss: 1.6607, Val Acc: 0.4540, Val F1: 0.4526\n",
      "Current Learning Rate: 3e-06\n"
     ]
    },
    {
     "name": "stderr",
     "output_type": "stream",
     "text": [
      "Epoch 22/1000: 100%|████████████████████████████████████████| 422/422 [00:37<00:00, 11.20it/s, Loss=0.5851, Acc=0.8022]\n"
     ]
    },
    {
     "name": "stdout",
     "output_type": "stream",
     "text": [
      "Epoch 22/1000: Train Loss: 0.5851, Train Acc: 0.8022\n"
     ]
    },
    {
     "name": "stderr",
     "output_type": "stream",
     "text": [
      "Validation: 100%|█████████████████████████████████████████████| 47/47 [00:02<00:00, 20.41it/s, Loss=1.6958, Acc=0.4516]\n"
     ]
    },
    {
     "name": "stdout",
     "output_type": "stream",
     "text": [
      "Epoch 22/1000: Val Loss: 1.6958, Val Acc: 0.4516, Val F1: 0.4526\n",
      "Current Learning Rate: 3e-06\n"
     ]
    },
    {
     "name": "stderr",
     "output_type": "stream",
     "text": [
      "Epoch 23/1000: 100%|████████████████████████████████████████| 422/422 [00:37<00:00, 11.21it/s, Loss=0.5603, Acc=0.8131]\n"
     ]
    },
    {
     "name": "stdout",
     "output_type": "stream",
     "text": [
      "Epoch 23/1000: Train Loss: 0.5603, Train Acc: 0.8131\n"
     ]
    },
    {
     "name": "stderr",
     "output_type": "stream",
     "text": [
      "Validation: 100%|█████████████████████████████████████████████| 47/47 [00:02<00:00, 20.91it/s, Loss=1.7212, Acc=0.4566]\n"
     ]
    },
    {
     "name": "stdout",
     "output_type": "stream",
     "text": [
      "Epoch 23/1000: Val Loss: 1.7212, Val Acc: 0.4566, Val F1: 0.4553\n",
      "Current Learning Rate: 3.0000000000000004e-07\n"
     ]
    },
    {
     "name": "stderr",
     "output_type": "stream",
     "text": [
      "Epoch 24/1000: 100%|████████████████████████████████████████| 422/422 [00:37<00:00, 11.20it/s, Loss=0.5216, Acc=0.8334]\n"
     ]
    },
    {
     "name": "stdout",
     "output_type": "stream",
     "text": [
      "Epoch 24/1000: Train Loss: 0.5216, Train Acc: 0.8334\n"
     ]
    },
    {
     "name": "stderr",
     "output_type": "stream",
     "text": [
      "Validation: 100%|█████████████████████████████████████████████| 47/47 [00:02<00:00, 20.73it/s, Loss=1.7328, Acc=0.4480]\n"
     ]
    },
    {
     "name": "stdout",
     "output_type": "stream",
     "text": [
      "Epoch 24/1000: Val Loss: 1.7328, Val Acc: 0.4480, Val F1: 0.4488\n",
      "Current Learning Rate: 3.0000000000000004e-07\n"
     ]
    },
    {
     "name": "stderr",
     "output_type": "stream",
     "text": [
      "Epoch 25/1000: 100%|████████████████████████████████████████| 422/422 [00:37<00:00, 11.21it/s, Loss=0.5169, Acc=0.8350]\n"
     ]
    },
    {
     "name": "stdout",
     "output_type": "stream",
     "text": [
      "Epoch 25/1000: Train Loss: 0.5169, Train Acc: 0.8350\n"
     ]
    },
    {
     "name": "stderr",
     "output_type": "stream",
     "text": [
      "Validation: 100%|█████████████████████████████████████████████| 47/47 [00:02<00:00, 20.83it/s, Loss=1.7395, Acc=0.4493]\n"
     ]
    },
    {
     "name": "stdout",
     "output_type": "stream",
     "text": [
      "Epoch 25/1000: Val Loss: 1.7395, Val Acc: 0.4493, Val F1: 0.4497\n",
      "Current Learning Rate: 3.0000000000000004e-07\n"
     ]
    },
    {
     "name": "stderr",
     "output_type": "stream",
     "text": [
      "Epoch 26/1000: 100%|████████████████████████████████████████| 422/422 [00:37<00:00, 11.19it/s, Loss=0.5140, Acc=0.8358]\n"
     ]
    },
    {
     "name": "stdout",
     "output_type": "stream",
     "text": [
      "Epoch 26/1000: Train Loss: 0.5140, Train Acc: 0.8358\n"
     ]
    },
    {
     "name": "stderr",
     "output_type": "stream",
     "text": [
      "Validation: 100%|█████████████████████████████████████████████| 47/47 [00:02<00:00, 21.06it/s, Loss=1.7431, Acc=0.4490]\n"
     ]
    },
    {
     "name": "stdout",
     "output_type": "stream",
     "text": [
      "Epoch 26/1000: Val Loss: 1.7431, Val Acc: 0.4490, Val F1: 0.4493\n",
      "Current Learning Rate: 3.0000000000000004e-07\n",
      "Early stopping triggered at epoch 26!\n"
     ]
    },
    {
     "name": "stderr",
     "output_type": "stream",
     "text": [
      "Testing: 100%|████████████████████████████████████████████████| 53/53 [00:02<00:00, 19.51it/s, Loss=1.5133, Acc=0.4443]\n"
     ]
    },
    {
     "name": "stdout",
     "output_type": "stream",
     "text": [
      "Test Loss: 1.5133, Test Acc: 0.4443, Test F1: 0.4245\n"
     ]
    }
   ],
   "source": [
    "train_loader = DataLoader(train_dataset, batch_size=BATCH_SIZE, shuffle=True, generator=torch.Generator().manual_seed(SEED))\n",
    "val_loader = DataLoader(val_dataset, batch_size=BATCH_SIZE, shuffle=False, generator=torch.Generator().manual_seed(SEED))\n",
    "test_loader = DataLoader(test_dataset, batch_size=BATCH_SIZE, shuffle=False, generator=torch.Generator().manual_seed(SEED))\n",
    "\n",
    "# Open the configuration CSV file in append mode\n",
    "with open(epoch_csv_path, mode='a', newline='') as epoch_file, \\\n",
    "     open(test_csv_path, mode='a', newline='') as test_file:\n",
    "    \n",
    "    epoch_writer = csv.writer(epoch_file)\n",
    "    test_writer = csv.writer(test_file)\n",
    "\n",
    "    idx = 1\n",
    "\n",
    "    for dropout in dropouts:\n",
    "        print(f\"Start model{idx} with configuration dropout: {dropout}\")\n",
    "\n",
    "        # Model initialization\n",
    "        model = ViT(num_classes=len(class_names), \n",
    "                    in_channels=1, \n",
    "                    patch_size=32, \n",
    "                    num_heads=4, \n",
    "                    embedding_dim=256, \n",
    "                    num_transformer_layers=6,\n",
    "                    attn_dropout=dropout)\n",
    "\n",
    "        model = model.to(DEVICE)\n",
    "\n",
    "        # Initialize BestModelSaver and MetricsPlotter\n",
    "        model_saver = BestModelSaver(save_path=\"D://Kuliah//UPI//SEMESTER 8//hasil eksperimen 2\", model_name=f\"model{idx}_dropout\")\n",
    "        metrics_plotter = MetricsPlotter(save_path=\"D://Kuliah//UPI//SEMESTER 8//hasil eksperimen 2\", model_name=f\"model{idx}_dropout\")\n",
    "\n",
    "        optimizer = optim.AdamW(model.parameters(), lr=LEARNING_RATE)\n",
    "        criterion = nn.CrossEntropyLoss()\n",
    "\n",
    "        # Define the learning rate scheduler\n",
    "        scheduler = ReduceLROnPlateau(optimizer, mode='min', factor=0.1, patience=5)\n",
    "        early_stopping = EarlyStopping(patience=15, min_delta=0)\n",
    "\n",
    "        # Initialize Validator\n",
    "        validator = Validator(model=model, criterion=criterion, device=DEVICE)\n",
    "\n",
    "        # Initialize lists to store training and validation metrics\n",
    "        train_losses = []\n",
    "        val_losses = []\n",
    "        train_accuracies = []\n",
    "        val_accuracies = []\n",
    "\n",
    "        for epoch in range(EPOCHS):\n",
    "            model.train()\n",
    "            train_loss = 0.0\n",
    "            correct = 0\n",
    "            total = 0\n",
    "\n",
    "            # Training\n",
    "            pbar = tqdm(train_loader, desc=f\"Epoch {epoch + 1}/{EPOCHS}\")\n",
    "            for batch_idx, (inputs, targets) in enumerate(pbar):\n",
    "                inputs, targets = inputs.to(DEVICE), targets.to(DEVICE)\n",
    "\n",
    "                # Zero the gradients\n",
    "                optimizer.zero_grad()\n",
    "\n",
    "                # Forward pass\n",
    "                outputs = model(inputs)\n",
    "                loss = criterion(outputs, targets)\n",
    "\n",
    "                # Backward pass and optimize\n",
    "                loss.backward()\n",
    "                optimizer.step()\n",
    "\n",
    "                # Update statistics\n",
    "                train_loss += loss.item()\n",
    "                _, predicted = outputs.max(1)\n",
    "                total += targets.size(0)\n",
    "                correct += predicted.eq(targets).sum().item()\n",
    "\n",
    "                # Update progress bar\n",
    "                pbar.set_postfix({\n",
    "                    \"Loss\": f\"{train_loss / (batch_idx + 1):.4f}\",\n",
    "                    \"Acc\": f\"{correct / total:.4f}\"\n",
    "                })\n",
    "\n",
    "            # Calculate training accuracy and loss\n",
    "            train_accuracy = correct / total\n",
    "            avg_train_loss = train_loss / len(train_loader)\n",
    "            train_losses.append(avg_train_loss)\n",
    "            train_accuracies.append(train_accuracy)\n",
    "\n",
    "            # Print training summary\n",
    "            print(f\"Epoch {epoch + 1}/{EPOCHS}: \"\n",
    "                  f\"Train Loss: {avg_train_loss:.4f}, \"\n",
    "                  f\"Train Acc: {train_accuracy:.4f}\")\n",
    "\n",
    "            # ===== VALIDATION =======\n",
    "            avg_val_loss, val_accuracy, val_f1 = validator.validate(val_loader)\n",
    "            val_losses.append(avg_val_loss)\n",
    "            val_accuracies.append(val_accuracy)\n",
    "\n",
    "            # Print validation summary\n",
    "            print(f\"Epoch {epoch + 1}/{EPOCHS}: \"\n",
    "                  f\"Val Loss: {avg_val_loss:.4f}, \"\n",
    "                  f\"Val Acc: {val_accuracy:.4f}, \"\n",
    "                  f\"Val F1: {val_f1:.4f}\")\n",
    "\n",
    "            # Step the learning rate scheduler based on validation loss\n",
    "            scheduler.step(avg_val_loss)\n",
    "\n",
    "            # Print the current learning rate\n",
    "            current_lr = optimizer.param_groups[0]['lr']\n",
    "            print(f\"Current Learning Rate: {current_lr}\")\n",
    "\n",
    "            # Save the best model based on validation accuracy\n",
    "            model_saver.save(model, val_accuracy, epoch)\n",
    "\n",
    "            # Save loss and accuracy plots\n",
    "            metrics_plotter.plot_and_save(train_losses, val_losses, \"Loss\", epoch)\n",
    "            metrics_plotter.plot_and_save(train_accuracies, val_accuracies, \"Accuracy\", epoch)\n",
    "\n",
    "            # Save epoch results to CSV\n",
    "            epoch_writer.writerow([\n",
    "                dropout,  # Config\n",
    "                epoch + 1,  # Epoch\n",
    "                avg_train_loss,  # Train Loss\n",
    "                train_accuracy,  # Train Acc\n",
    "                avg_val_loss,  # Val Loss\n",
    "                val_accuracy,  # Val Acc\n",
    "                val_f1,  # F1 Score\n",
    "                current_lr  # Learning Rate\n",
    "            ])\n",
    "\n",
    "            # Early stopping check\n",
    "            if early_stopping(avg_val_loss):\n",
    "                print(f\"Early stopping triggered at epoch {epoch + 1}!\")\n",
    "                break\n",
    "\n",
    "        # Clear GPU memory after each configuration\n",
    "        del model, optimizer, scheduler\n",
    "        torch.cuda.empty_cache()\n",
    "        gc.collect()\n",
    "\n",
    "        # ======= TESTING ========\n",
    "        best_model = ViT(num_classes=len(class_names), \n",
    "                            in_channels=1, \n",
    "                            patch_size=32, \n",
    "                            num_heads=4, \n",
    "                            embedding_dim=256, \n",
    "                            num_transformer_layers=6,\n",
    "                            attn_dropout=dropout)\n",
    "        best_model.to(DEVICE)\n",
    "        best_model.load_state_dict(torch.load(f\"D://Kuliah//UPI//SEMESTER 8//hasil eksperimen 2//model{idx}_dropout_best.pt\", weights_only=False))\n",
    "\n",
    "        best_model.eval()\n",
    "        test_loss = 0.0\n",
    "        test_correct = 0\n",
    "        test_total = 0\n",
    "        all_test_targets = []\n",
    "        all_test_predicted = []\n",
    "\n",
    "        with torch.no_grad():  # Disable gradient computation\n",
    "            pbar = tqdm(test_loader, desc=\"Testing\")\n",
    "            for batch_idx, (inputs, targets) in enumerate(pbar):\n",
    "                inputs, targets = inputs.to(DEVICE), targets.to(DEVICE)\n",
    "\n",
    "                # Forward pass\n",
    "                outputs = best_model(inputs)\n",
    "                loss = criterion(outputs, targets)\n",
    "\n",
    "                # Update statistics\n",
    "                test_loss += loss.item()\n",
    "                _, predicted = outputs.max(1)\n",
    "                test_total += targets.size(0)\n",
    "                test_correct += predicted.eq(targets).sum().item()\n",
    "\n",
    "                # Collect all targets and predictions\n",
    "                all_test_targets.extend(targets.cpu().numpy())\n",
    "                all_test_predicted.extend(predicted.cpu().numpy())\n",
    "\n",
    "                # Update progress bar\n",
    "                pbar.set_postfix({\n",
    "                    \"Loss\": f\"{test_loss / (batch_idx + 1):.4f}\",\n",
    "                    \"Acc\": f\"{test_correct / test_total:.4f}\"\n",
    "                })\n",
    "\n",
    "        # Calculate test accuracy, loss, and F1-score\n",
    "        test_accuracy = test_correct / test_total\n",
    "        avg_test_loss = test_loss / len(test_loader)\n",
    "        test_f1 = f1_score(all_test_targets, all_test_predicted, average=\"weighted\")\n",
    "\n",
    "        # Print test summary\n",
    "        print(f\"Test Loss: {avg_test_loss:.4f}, \"\n",
    "              f\"Test Acc: {test_accuracy:.4f}, \"\n",
    "              f\"Test F1: {test_f1:.4f}\")\n",
    "\n",
    "        # Clear GPU memory after each configuration\n",
    "        del best_model\n",
    "        torch.cuda.empty_cache()\n",
    "        gc.collect()\n",
    "\n",
    "        # Save the configuration to the CSV file\n",
    "        test_writer.writerow([dropout, avg_test_loss, test_accuracy, test_f1])\n",
    "\n",
    "        idx+=1"
   ]
  },
  {
   "cell_type": "code",
   "execution_count": null,
   "id": "02d1a78b-c049-45c7-8036-ab6cb3322a55",
   "metadata": {},
   "outputs": [],
   "source": []
  }
 ],
 "metadata": {
  "kernelspec": {
   "display_name": "Python 3 (ipykernel)",
   "language": "python",
   "name": "python3"
  },
  "language_info": {
   "codemirror_mode": {
    "name": "ipython",
    "version": 3
   },
   "file_extension": ".py",
   "mimetype": "text/x-python",
   "name": "python",
   "nbconvert_exporter": "python",
   "pygments_lexer": "ipython3",
   "version": "3.9.12"
  }
 },
 "nbformat": 4,
 "nbformat_minor": 5
}
