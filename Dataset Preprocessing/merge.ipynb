{
 "cells": [
  {
   "cell_type": "code",
   "execution_count": 1,
   "id": "32205228",
   "metadata": {},
   "outputs": [
    {
     "name": "stderr",
     "output_type": "stream",
     "text": [
      "C:\\Users\\MoKha\\anaconda3\\lib\\site-packages\\pandas\\core\\computation\\expressions.py:21: UserWarning: Pandas requires version '2.8.4' or newer of 'numexpr' (version '2.8.1' currently installed).\n",
      "  from pandas.core.computation.check import NUMEXPR_INSTALLED\n",
      "C:\\Users\\MoKha\\anaconda3\\lib\\site-packages\\pandas\\core\\arrays\\masked.py:60: UserWarning: Pandas requires version '1.3.6' or newer of 'bottleneck' (version '1.3.4' currently installed).\n",
      "  from pandas.core import (\n"
     ]
    }
   ],
   "source": [
    "import numpy as np\n",
    "import pandas as pd\n",
    "from sklearn.model_selection import train_test_split\n",
    "import seaborn as sns\n",
    "import matplotlib.pyplot as plt"
   ]
  },
  {
   "cell_type": "markdown",
   "id": "848a5046",
   "metadata": {},
   "source": [
    "## Merge"
   ]
  },
  {
   "cell_type": "code",
   "execution_count": 2,
   "id": "d40cf128",
   "metadata": {},
   "outputs": [
    {
     "name": "stdout",
     "output_type": "stream",
     "text": [
      "<class 'pandas.core.frame.DataFrame'>\n",
      "RangeIndex: 28350 entries, 0 to 28349\n",
      "Data columns (total 4 columns):\n",
      " #   Column         Non-Null Count  Dtype \n",
      "---  ------         --------------  ----- \n",
      " 0   emotion        28350 non-null  int64 \n",
      " 1    Usage         28350 non-null  object\n",
      " 2    pixels        28350 non-null  object\n",
      " 3   face_detected  28350 non-null  int64 \n",
      "dtypes: int64(2), object(2)\n",
      "memory usage: 886.1+ KB\n"
     ]
    }
   ],
   "source": [
    "fer2013 = pd.read_csv('D:\\\\Kuliah\\\\UPI\\\\SEMESTER 7\\\\skripsi\\\\dataset fix\\\\fer_clean.csv')\n",
    "fer2013.info()"
   ]
  },
  {
   "cell_type": "code",
   "execution_count": 3,
   "id": "918e31b4",
   "metadata": {},
   "outputs": [
    {
     "name": "stdout",
     "output_type": "stream",
     "text": [
      "<class 'pandas.core.frame.DataFrame'>\n",
      "RangeIndex: 11530 entries, 0 to 11529\n",
      "Data columns (total 4 columns):\n",
      " #   Column         Non-Null Count  Dtype \n",
      "---  ------         --------------  ----- \n",
      " 0    pixels        11530 non-null  object\n",
      " 1   emotion        11530 non-null  int64 \n",
      " 2    Usage         11530 non-null  object\n",
      " 3   face_detected  11530 non-null  int64 \n",
      "dtypes: int64(2), object(2)\n",
      "memory usage: 360.4+ KB\n"
     ]
    }
   ],
   "source": [
    "rafdb = pd.read_csv('D:\\\\Kuliah\\\\UPI\\\\SEMESTER 7\\\\skripsi\\\\dataset fix\\\\rafdb_clean.csv')\n",
    "rafdb.info()"
   ]
  },
  {
   "cell_type": "code",
   "execution_count": 4,
   "id": "e09ccda2",
   "metadata": {},
   "outputs": [
    {
     "name": "stdout",
     "output_type": "stream",
     "text": [
      "<class 'pandas.core.frame.DataFrame'>\n",
      "RangeIndex: 27049 entries, 0 to 27048\n",
      "Data columns (total 4 columns):\n",
      " #   Column         Non-Null Count  Dtype \n",
      "---  ------         --------------  ----- \n",
      " 0    pixels        27049 non-null  object\n",
      " 1   emotion        27049 non-null  int64 \n",
      " 2    Usage         27049 non-null  object\n",
      " 3   face_detected  27049 non-null  int64 \n",
      "dtypes: int64(2), object(2)\n",
      "memory usage: 845.4+ KB\n"
     ]
    }
   ],
   "source": [
    "affectnet = pd.read_csv('D:\\\\Kuliah\\\\UPI\\\\SEMESTER 7\\\\skripsi\\\\dataset fix\\\\affectnet_clean.csv')\n",
    "affectnet.info()"
   ]
  },
  {
   "cell_type": "code",
   "execution_count": 5,
   "id": "61960fcd",
   "metadata": {},
   "outputs": [],
   "source": [
    "tambah = pd.concat([rafdb, affectnet], ignore_index=True)"
   ]
  },
  {
   "cell_type": "code",
   "execution_count": 6,
   "id": "82d3eccf",
   "metadata": {},
   "outputs": [
    {
     "name": "stdout",
     "output_type": "stream",
     "text": [
      "<class 'pandas.core.frame.DataFrame'>\n",
      "RangeIndex: 38579 entries, 0 to 38578\n",
      "Data columns (total 4 columns):\n",
      " #   Column         Non-Null Count  Dtype \n",
      "---  ------         --------------  ----- \n",
      " 0    pixels        38579 non-null  object\n",
      " 1   emotion        38579 non-null  int64 \n",
      " 2    Usage         38579 non-null  object\n",
      " 3   face_detected  38579 non-null  int64 \n",
      "dtypes: int64(2), object(2)\n",
      "memory usage: 1.2+ MB\n"
     ]
    }
   ],
   "source": [
    "tambah.info()"
   ]
  },
  {
   "cell_type": "code",
   "execution_count": 7,
   "id": "ac9815ed",
   "metadata": {},
   "outputs": [
    {
     "data": {
      "text/html": [
       "<div>\n",
       "<style scoped>\n",
       "    .dataframe tbody tr th:only-of-type {\n",
       "        vertical-align: middle;\n",
       "    }\n",
       "\n",
       "    .dataframe tbody tr th {\n",
       "        vertical-align: top;\n",
       "    }\n",
       "\n",
       "    .dataframe thead th {\n",
       "        text-align: right;\n",
       "    }\n",
       "</style>\n",
       "<table border=\"1\" class=\"dataframe\">\n",
       "  <thead>\n",
       "    <tr style=\"text-align: right;\">\n",
       "      <th></th>\n",
       "      <th>emotion</th>\n",
       "      <th>number</th>\n",
       "    </tr>\n",
       "  </thead>\n",
       "  <tbody>\n",
       "    <tr>\n",
       "      <th>0</th>\n",
       "      <td>3</td>\n",
       "      <td>7585</td>\n",
       "    </tr>\n",
       "    <tr>\n",
       "      <th>1</th>\n",
       "      <td>6</td>\n",
       "      <td>5377</td>\n",
       "    </tr>\n",
       "    <tr>\n",
       "      <th>2</th>\n",
       "      <td>4</td>\n",
       "      <td>4529</td>\n",
       "    </tr>\n",
       "    <tr>\n",
       "      <th>3</th>\n",
       "      <td>0</td>\n",
       "      <td>3975</td>\n",
       "    </tr>\n",
       "    <tr>\n",
       "      <th>4</th>\n",
       "      <td>2</td>\n",
       "      <td>3798</td>\n",
       "    </tr>\n",
       "    <tr>\n",
       "      <th>5</th>\n",
       "      <td>5</td>\n",
       "      <td>2736</td>\n",
       "    </tr>\n",
       "    <tr>\n",
       "      <th>6</th>\n",
       "      <td>1</td>\n",
       "      <td>350</td>\n",
       "    </tr>\n",
       "  </tbody>\n",
       "</table>\n",
       "</div>"
      ],
      "text/plain": [
       "   emotion  number\n",
       "0        3    7585\n",
       "1        6    5377\n",
       "2        4    4529\n",
       "3        0    3975\n",
       "4        2    3798\n",
       "5        5    2736\n",
       "6        1     350"
      ]
     },
     "execution_count": 7,
     "metadata": {},
     "output_type": "execute_result"
    }
   ],
   "source": [
    "# emotion_labels = {0:'Angry', 1:'Disgust', 2:'Fear', 3:'Happy', 4:'Sad', 5:'Surprise', 6:'Neutral'}\n",
    "emotion_counts = fer2013['emotion'].value_counts(sort=True).reset_index()\n",
    "emotion_counts.columns = ['emotion', 'number']\n",
    "emotion_counts['emotion'] = emotion_counts['emotion']\n",
    "emotion_counts"
   ]
  },
  {
   "cell_type": "code",
   "execution_count": 8,
   "id": "e3263b24",
   "metadata": {},
   "outputs": [],
   "source": [
    "average_count = emotion_counts['number'].mean()"
   ]
  },
  {
   "cell_type": "code",
   "execution_count": 9,
   "id": "6bf8b688",
   "metadata": {},
   "outputs": [],
   "source": [
    "emotion_counts['to_add'] = np.maximum(0, (average_count - emotion_counts['number']).astype(int))"
   ]
  },
  {
   "cell_type": "code",
   "execution_count": 10,
   "id": "6f0d6d2d",
   "metadata": {},
   "outputs": [],
   "source": [
    "tambah = tambah.sample(frac=1, random_state=42).reset_index()"
   ]
  },
  {
   "cell_type": "code",
   "execution_count": 11,
   "id": "fb870fa2",
   "metadata": {},
   "outputs": [],
   "source": [
    "final_data = []\n",
    "for emotion, to_add in zip(emotion_counts['emotion'], emotion_counts['to_add']):\n",
    "    # Ambil sejumlah data dari dataset tambahan sesuai kebutuhan\n",
    "    data_tambah = tambah[tambah['emotion'] == emotion].head(to_add)\n",
    "    \n",
    "    # Tambahkan data ke dataset utama\n",
    "    final_data.append(data_tambah)"
   ]
  },
  {
   "cell_type": "code",
   "execution_count": 12,
   "id": "54935a33",
   "metadata": {},
   "outputs": [],
   "source": [
    "data_tambahan = pd.concat(final_data)\n",
    "data_tambahan = data_tambahan.drop(columns=['index'])\n",
    "data_tambahan.reset_index(drop=True, inplace=True)"
   ]
  },
  {
   "cell_type": "code",
   "execution_count": 13,
   "id": "c1b0cafa",
   "metadata": {},
   "outputs": [],
   "source": [
    "final_dataset = pd.concat([fer2013, data_tambahan], ignore_index=True)"
   ]
  },
  {
   "cell_type": "code",
   "execution_count": 14,
   "id": "f31a083a",
   "metadata": {},
   "outputs": [
    {
     "name": "stdout",
     "output_type": "stream",
     "text": [
      "<class 'pandas.core.frame.DataFrame'>\n",
      "RangeIndex: 33277 entries, 0 to 33276\n",
      "Data columns (total 4 columns):\n",
      " #   Column         Non-Null Count  Dtype \n",
      "---  ------         --------------  ----- \n",
      " 0   emotion        33277 non-null  int64 \n",
      " 1    Usage         33277 non-null  object\n",
      " 2    pixels        33277 non-null  object\n",
      " 3   face_detected  33277 non-null  int64 \n",
      "dtypes: int64(2), object(2)\n",
      "memory usage: 1.0+ MB\n"
     ]
    }
   ],
   "source": [
    "final_dataset.info()"
   ]
  },
  {
   "cell_type": "code",
   "execution_count": 15,
   "id": "8ace678a",
   "metadata": {},
   "outputs": [
    {
     "data": {
      "text/html": [
       "<div>\n",
       "<style scoped>\n",
       "    .dataframe tbody tr th:only-of-type {\n",
       "        vertical-align: middle;\n",
       "    }\n",
       "\n",
       "    .dataframe tbody tr th {\n",
       "        vertical-align: top;\n",
       "    }\n",
       "\n",
       "    .dataframe thead th {\n",
       "        text-align: right;\n",
       "    }\n",
       "</style>\n",
       "<table border=\"1\" class=\"dataframe\">\n",
       "  <thead>\n",
       "    <tr style=\"text-align: right;\">\n",
       "      <th></th>\n",
       "      <th>emotion</th>\n",
       "      <th>Usage</th>\n",
       "      <th>pixels</th>\n",
       "      <th>face_detected</th>\n",
       "    </tr>\n",
       "  </thead>\n",
       "  <tbody>\n",
       "    <tr>\n",
       "      <th>0</th>\n",
       "      <td>0</td>\n",
       "      <td>Training</td>\n",
       "      <td>70 80 82 72 58 58 60 63 54 58 60 48 89 115 121...</td>\n",
       "      <td>1</td>\n",
       "    </tr>\n",
       "    <tr>\n",
       "      <th>1</th>\n",
       "      <td>0</td>\n",
       "      <td>Training</td>\n",
       "      <td>151 150 147 155 148 133 111 140 170 174 182 15...</td>\n",
       "      <td>1</td>\n",
       "    </tr>\n",
       "    <tr>\n",
       "      <th>2</th>\n",
       "      <td>2</td>\n",
       "      <td>Training</td>\n",
       "      <td>231 212 156 164 174 138 161 173 182 200 106 38...</td>\n",
       "      <td>1</td>\n",
       "    </tr>\n",
       "    <tr>\n",
       "      <th>3</th>\n",
       "      <td>6</td>\n",
       "      <td>Training</td>\n",
       "      <td>4 0 0 0 0 0 0 0 0 0 0 0 3 15 23 28 48 50 58 84...</td>\n",
       "      <td>1</td>\n",
       "    </tr>\n",
       "    <tr>\n",
       "      <th>4</th>\n",
       "      <td>2</td>\n",
       "      <td>Training</td>\n",
       "      <td>55 55 55 55 55 54 60 68 54 85 151 163 170 179 ...</td>\n",
       "      <td>1</td>\n",
       "    </tr>\n",
       "  </tbody>\n",
       "</table>\n",
       "</div>"
      ],
      "text/plain": [
       "   emotion     Usage                                             pixels  \\\n",
       "0        0  Training  70 80 82 72 58 58 60 63 54 58 60 48 89 115 121...   \n",
       "1        0  Training  151 150 147 155 148 133 111 140 170 174 182 15...   \n",
       "2        2  Training  231 212 156 164 174 138 161 173 182 200 106 38...   \n",
       "3        6  Training  4 0 0 0 0 0 0 0 0 0 0 0 3 15 23 28 48 50 58 84...   \n",
       "4        2  Training  55 55 55 55 55 54 60 68 54 85 151 163 170 179 ...   \n",
       "\n",
       "   face_detected  \n",
       "0              1  \n",
       "1              1  \n",
       "2              1  \n",
       "3              1  \n",
       "4              1  "
      ]
     },
     "execution_count": 15,
     "metadata": {},
     "output_type": "execute_result"
    }
   ],
   "source": [
    "final_dataset.head()"
   ]
  },
  {
   "cell_type": "code",
   "execution_count": 16,
   "id": "5d4c1e86",
   "metadata": {},
   "outputs": [
    {
     "data": {
      "text/html": [
       "<div>\n",
       "<style scoped>\n",
       "    .dataframe tbody tr th:only-of-type {\n",
       "        vertical-align: middle;\n",
       "    }\n",
       "\n",
       "    .dataframe tbody tr th {\n",
       "        vertical-align: top;\n",
       "    }\n",
       "\n",
       "    .dataframe thead th {\n",
       "        text-align: right;\n",
       "    }\n",
       "</style>\n",
       "<table border=\"1\" class=\"dataframe\">\n",
       "  <thead>\n",
       "    <tr style=\"text-align: right;\">\n",
       "      <th></th>\n",
       "      <th>emotion</th>\n",
       "      <th>number</th>\n",
       "    </tr>\n",
       "  </thead>\n",
       "  <tbody>\n",
       "    <tr>\n",
       "      <th>0</th>\n",
       "      <td>Happy</td>\n",
       "      <td>7585</td>\n",
       "    </tr>\n",
       "    <tr>\n",
       "      <th>1</th>\n",
       "      <td>Neutral</td>\n",
       "      <td>5377</td>\n",
       "    </tr>\n",
       "    <tr>\n",
       "      <th>2</th>\n",
       "      <td>Sad</td>\n",
       "      <td>4529</td>\n",
       "    </tr>\n",
       "    <tr>\n",
       "      <th>3</th>\n",
       "      <td>Angry</td>\n",
       "      <td>4050</td>\n",
       "    </tr>\n",
       "    <tr>\n",
       "      <th>4</th>\n",
       "      <td>Fear</td>\n",
       "      <td>4050</td>\n",
       "    </tr>\n",
       "    <tr>\n",
       "      <th>5</th>\n",
       "      <td>Surprise</td>\n",
       "      <td>4050</td>\n",
       "    </tr>\n",
       "    <tr>\n",
       "      <th>6</th>\n",
       "      <td>Disgust</td>\n",
       "      <td>3636</td>\n",
       "    </tr>\n",
       "  </tbody>\n",
       "</table>\n",
       "</div>"
      ],
      "text/plain": [
       "    emotion  number\n",
       "0     Happy    7585\n",
       "1   Neutral    5377\n",
       "2       Sad    4529\n",
       "3     Angry    4050\n",
       "4      Fear    4050\n",
       "5  Surprise    4050\n",
       "6   Disgust    3636"
      ]
     },
     "execution_count": 16,
     "metadata": {},
     "output_type": "execute_result"
    }
   ],
   "source": [
    "emotion_labels = {0:'Angry', 1:'Disgust', 2:'Fear', 3:'Happy', 4:'Sad', 5:'Surprise', 6:'Neutral'}\n",
    "emotion_counts = final_dataset['emotion'].value_counts(sort=True).reset_index()\n",
    "emotion_counts.columns = ['emotion', 'number']\n",
    "emotion_counts['emotion'] = emotion_counts['emotion'].map(emotion_labels)\n",
    "emotion_counts"
   ]
  },
  {
   "cell_type": "code",
   "execution_count": 17,
   "id": "42eaa261",
   "metadata": {
    "scrolled": false
   },
   "outputs": [
    {
     "name": "stderr",
     "output_type": "stream",
     "text": [
      "C:\\Users\\MoKha\\AppData\\Local\\Temp\\ipykernel_23860\\2536846650.py:7: FutureWarning: \n",
      "\n",
      "Passing `palette` without assigning `hue` is deprecated and will be removed in v0.14.0. Assign the `x` variable to `hue` and set `legend=False` for the same effect.\n",
      "\n",
      "  sns.barplot(x=emotion_counts_sorted.emotion, y=emotion_counts_sorted.number, palette=colors)\n",
      "C:\\Users\\MoKha\\AppData\\Local\\Temp\\ipykernel_23860\\2536846650.py:13: UserWarning: No artists with labels found to put in legend.  Note that artists whose label start with an underscore are ignored when legend() is called with no argument.\n",
      "  plt.legend()\n"
     ]
    },
    {
     "data": {
      "image/png": "[encoded data removed]",
      "text/plain": [
       "<Figure size 720x324 with 1 Axes>"
      ]
     },
     "metadata": {
      "needs_background": "light"
     },
     "output_type": "display_data"
    }
   ],
   "source": [
    "emotion_counts_sorted = emotion_counts.sort_values(by='number', ascending=True)\n",
    "\n",
    "# Define colors and plot\n",
    "colors = sns.color_palette(\"Blues\", len(emotion_counts_sorted))\n",
    "\n",
    "plt.figure(figsize=(10, 4.5))\n",
    "sns.barplot(x=emotion_counts_sorted.emotion, y=emotion_counts_sorted.number, palette=colors)\n",
    "plt.title('Final Dataset Class Distribution')\n",
    "plt.ylabel('Number', fontsize=12)\n",
    "plt.xlabel('Emotions', fontsize=12)\n",
    "\n",
    "# Add a legend to display the average line label\n",
    "plt.legend()\n",
    "\n",
    "plt.show()"
   ]
  },
  {
   "cell_type": "code",
   "execution_count": 18,
   "id": "a9551347",
   "metadata": {},
   "outputs": [
    {
     "name": "stdout",
     "output_type": "stream",
     "text": [
      "<class 'pandas.core.frame.DataFrame'>\n",
      "RangeIndex: 33277 entries, 0 to 33276\n",
      "Data columns (total 2 columns):\n",
      " #   Column   Non-Null Count  Dtype \n",
      "---  ------   --------------  ----- \n",
      " 0   emotion  33277 non-null  int64 \n",
      " 1   pixel    33277 non-null  object\n",
      "dtypes: int64(1), object(1)\n",
      "memory usage: 520.1+ KB\n"
     ]
    }
   ],
   "source": [
    "final_dataset = final_dataset[['emotion', ' pixels']].rename(columns={' pixels': 'pixel'})\n",
    "final_dataset.info()"
   ]
  },
  {
   "cell_type": "code",
   "execution_count": null,
   "id": "c65394e2",
   "metadata": {},
   "outputs": [],
   "source": [
    "final_dataset.to_csv('D:\\\\Kuliah\\\\UPI\\\\SEMESTER 7\\\\skripsi\\\\dataset fix\\\\base.csv', index=False)"
   ]
  },
  {
   "cell_type": "markdown",
   "id": "7cc74bdc",
   "metadata": {},
   "source": [
    "## Split data train, validation dan test"
   ]
  },
  {
   "cell_type": "code",
   "execution_count": 19,
   "id": "17f13e16",
   "metadata": {},
   "outputs": [],
   "source": [
    "# Pertama, pisahkan data train (90%) dan test (10%)\n",
    "data_train_val, data_test = train_test_split(final_dataset, test_size=0.1, stratify=final_dataset['emotion'], random_state=42)"
   ]
  },
  {
   "cell_type": "code",
   "execution_count": 20,
   "id": "b2734898",
   "metadata": {},
   "outputs": [
    {
     "name": "stdout",
     "output_type": "stream",
     "text": [
      "<class 'pandas.core.frame.DataFrame'>\n",
      "Index: 29949 entries, 109 to 12323\n",
      "Data columns (total 2 columns):\n",
      " #   Column   Non-Null Count  Dtype \n",
      "---  ------   --------------  ----- \n",
      " 0   emotion  29949 non-null  int64 \n",
      " 1   pixel    29949 non-null  object\n",
      "dtypes: int64(1), object(1)\n",
      "memory usage: 701.9+ KB\n"
     ]
    }
   ],
   "source": [
    "data_train_val.info()"
   ]
  },
  {
   "cell_type": "code",
   "execution_count": 21,
   "id": "13eddb8d",
   "metadata": {},
   "outputs": [
    {
     "data": {
      "text/html": [
       "<div>\n",
       "<style scoped>\n",
       "    .dataframe tbody tr th:only-of-type {\n",
       "        vertical-align: middle;\n",
       "    }\n",
       "\n",
       "    .dataframe tbody tr th {\n",
       "        vertical-align: top;\n",
       "    }\n",
       "\n",
       "    .dataframe thead th {\n",
       "        text-align: right;\n",
       "    }\n",
       "</style>\n",
       "<table border=\"1\" class=\"dataframe\">\n",
       "  <thead>\n",
       "    <tr style=\"text-align: right;\">\n",
       "      <th></th>\n",
       "      <th>emotion</th>\n",
       "      <th>number</th>\n",
       "    </tr>\n",
       "  </thead>\n",
       "  <tbody>\n",
       "    <tr>\n",
       "      <th>0</th>\n",
       "      <td>Happy</td>\n",
       "      <td>6827</td>\n",
       "    </tr>\n",
       "    <tr>\n",
       "      <th>1</th>\n",
       "      <td>Neutral</td>\n",
       "      <td>4839</td>\n",
       "    </tr>\n",
       "    <tr>\n",
       "      <th>2</th>\n",
       "      <td>Sad</td>\n",
       "      <td>4076</td>\n",
       "    </tr>\n",
       "    <tr>\n",
       "      <th>3</th>\n",
       "      <td>Angry</td>\n",
       "      <td>3645</td>\n",
       "    </tr>\n",
       "    <tr>\n",
       "      <th>4</th>\n",
       "      <td>Surprise</td>\n",
       "      <td>3645</td>\n",
       "    </tr>\n",
       "    <tr>\n",
       "      <th>5</th>\n",
       "      <td>Fear</td>\n",
       "      <td>3645</td>\n",
       "    </tr>\n",
       "    <tr>\n",
       "      <th>6</th>\n",
       "      <td>Disgust</td>\n",
       "      <td>3272</td>\n",
       "    </tr>\n",
       "  </tbody>\n",
       "</table>\n",
       "</div>"
      ],
      "text/plain": [
       "    emotion  number\n",
       "0     Happy    6827\n",
       "1   Neutral    4839\n",
       "2       Sad    4076\n",
       "3     Angry    3645\n",
       "4  Surprise    3645\n",
       "5      Fear    3645\n",
       "6   Disgust    3272"
      ]
     },
     "execution_count": 21,
     "metadata": {},
     "output_type": "execute_result"
    }
   ],
   "source": [
    "emotion_labels = {0:'Angry', 1:'Disgust', 2:'Fear', 3:'Happy', 4:'Sad', 5:'Surprise', 6:'Neutral'}\n",
    "emotion_counts = data_train_val['emotion'].value_counts(sort=True).reset_index()\n",
    "emotion_counts.columns = ['emotion', 'number']\n",
    "emotion_counts['emotion'] = emotion_counts['emotion'].map(emotion_labels)\n",
    "emotion_counts"
   ]
  },
  {
   "cell_type": "code",
   "execution_count": 22,
   "id": "6873840f",
   "metadata": {},
   "outputs": [
    {
     "name": "stderr",
     "output_type": "stream",
     "text": [
      "C:\\Users\\MoKha\\AppData\\Local\\Temp\\ipykernel_23860\\2403482571.py:7: FutureWarning: \n",
      "\n",
      "Passing `palette` without assigning `hue` is deprecated and will be removed in v0.14.0. Assign the `x` variable to `hue` and set `legend=False` for the same effect.\n",
      "\n",
      "  sns.barplot(x=emotion_counts_sorted.emotion, y=emotion_counts_sorted.number, palette=colors)\n",
      "C:\\Users\\MoKha\\AppData\\Local\\Temp\\ipykernel_23860\\2403482571.py:13: UserWarning: No artists with labels found to put in legend.  Note that artists whose label start with an underscore are ignored when legend() is called with no argument.\n",
      "  plt.legend()\n"
     ]
    },
    {
     "data": {
      "image/png": "[encoded data removed]",
      "text/plain": [
       "<Figure size 720x324 with 1 Axes>"
      ]
     },
     "metadata": {
      "needs_background": "light"
     },
     "output_type": "display_data"
    }
   ],
   "source": [
    "emotion_counts_sorted = emotion_counts.sort_values(by='number', ascending=True)\n",
    "\n",
    "# Define colors and plot\n",
    "colors = sns.color_palette(\"Blues\", len(emotion_counts_sorted))\n",
    "\n",
    "plt.figure(figsize=(10, 4.5))\n",
    "sns.barplot(x=emotion_counts_sorted.emotion, y=emotion_counts_sorted.number, palette=colors)\n",
    "plt.title('Train Val Data Class Distribution')\n",
    "plt.ylabel('Number', fontsize=12)\n",
    "plt.xlabel('Emotions', fontsize=12)\n",
    "\n",
    "# Add a legend to display the average line label\n",
    "plt.legend()\n",
    "\n",
    "plt.show()"
   ]
  },
  {
   "cell_type": "code",
   "execution_count": 23,
   "id": "e8c2927a",
   "metadata": {},
   "outputs": [
    {
     "name": "stdout",
     "output_type": "stream",
     "text": [
      "<class 'pandas.core.frame.DataFrame'>\n",
      "Index: 3328 entries, 19513 to 22303\n",
      "Data columns (total 2 columns):\n",
      " #   Column   Non-Null Count  Dtype \n",
      "---  ------   --------------  ----- \n",
      " 0   emotion  3328 non-null   int64 \n",
      " 1   pixel    3328 non-null   object\n",
      "dtypes: int64(1), object(1)\n",
      "memory usage: 78.0+ KB\n"
     ]
    }
   ],
   "source": [
    "data_test.info()"
   ]
  },
  {
   "cell_type": "code",
   "execution_count": 24,
   "id": "362f65ca",
   "metadata": {},
   "outputs": [
    {
     "data": {
      "text/html": [
       "<div>\n",
       "<style scoped>\n",
       "    .dataframe tbody tr th:only-of-type {\n",
       "        vertical-align: middle;\n",
       "    }\n",
       "\n",
       "    .dataframe tbody tr th {\n",
       "        vertical-align: top;\n",
       "    }\n",
       "\n",
       "    .dataframe thead th {\n",
       "        text-align: right;\n",
       "    }\n",
       "</style>\n",
       "<table border=\"1\" class=\"dataframe\">\n",
       "  <thead>\n",
       "    <tr style=\"text-align: right;\">\n",
       "      <th></th>\n",
       "      <th>emotion</th>\n",
       "      <th>number</th>\n",
       "    </tr>\n",
       "  </thead>\n",
       "  <tbody>\n",
       "    <tr>\n",
       "      <th>0</th>\n",
       "      <td>Happy</td>\n",
       "      <td>758</td>\n",
       "    </tr>\n",
       "    <tr>\n",
       "      <th>1</th>\n",
       "      <td>Neutral</td>\n",
       "      <td>538</td>\n",
       "    </tr>\n",
       "    <tr>\n",
       "      <th>2</th>\n",
       "      <td>Sad</td>\n",
       "      <td>453</td>\n",
       "    </tr>\n",
       "    <tr>\n",
       "      <th>3</th>\n",
       "      <td>Fear</td>\n",
       "      <td>405</td>\n",
       "    </tr>\n",
       "    <tr>\n",
       "      <th>4</th>\n",
       "      <td>Angry</td>\n",
       "      <td>405</td>\n",
       "    </tr>\n",
       "    <tr>\n",
       "      <th>5</th>\n",
       "      <td>Surprise</td>\n",
       "      <td>405</td>\n",
       "    </tr>\n",
       "    <tr>\n",
       "      <th>6</th>\n",
       "      <td>Disgust</td>\n",
       "      <td>364</td>\n",
       "    </tr>\n",
       "  </tbody>\n",
       "</table>\n",
       "</div>"
      ],
      "text/plain": [
       "    emotion  number\n",
       "0     Happy     758\n",
       "1   Neutral     538\n",
       "2       Sad     453\n",
       "3      Fear     405\n",
       "4     Angry     405\n",
       "5  Surprise     405\n",
       "6   Disgust     364"
      ]
     },
     "execution_count": 24,
     "metadata": {},
     "output_type": "execute_result"
    }
   ],
   "source": [
    "emotion_labels = {0:'Angry', 1:'Disgust', 2:'Fear', 3:'Happy', 4:'Sad', 5:'Surprise', 6:'Neutral'}\n",
    "emotion_counts = data_test['emotion'].value_counts(sort=True).reset_index()\n",
    "emotion_counts.columns = ['emotion', 'number']\n",
    "emotion_counts['emotion'] = emotion_counts['emotion'].map(emotion_labels)\n",
    "emotion_counts"
   ]
  },
  {
   "cell_type": "code",
   "execution_count": 25,
   "id": "7e1b706c",
   "metadata": {},
   "outputs": [
    {
     "name": "stderr",
     "output_type": "stream",
     "text": [
      "C:\\Users\\MoKha\\AppData\\Local\\Temp\\ipykernel_23860\\2766979976.py:7: FutureWarning: \n",
      "\n",
      "Passing `palette` without assigning `hue` is deprecated and will be removed in v0.14.0. Assign the `x` variable to `hue` and set `legend=False` for the same effect.\n",
      "\n",
      "  sns.barplot(x=emotion_counts_sorted.emotion, y=emotion_counts_sorted.number, palette=colors)\n",
      "C:\\Users\\MoKha\\AppData\\Local\\Temp\\ipykernel_23860\\2766979976.py:13: UserWarning: No artists with labels found to put in legend.  Note that artists whose label start with an underscore are ignored when legend() is called with no argument.\n",
      "  plt.legend()\n"
     ]
    },
    {
     "data": {
      "image/png": "[encoded data removed]",
      "text/plain": [
       "<Figure size 720x324 with 1 Axes>"
      ]
     },
     "metadata": {
      "needs_background": "light"
     },
     "output_type": "display_data"
    }
   ],
   "source": [
    "emotion_counts_sorted = emotion_counts.sort_values(by='number', ascending=True)\n",
    "\n",
    "# Define colors and plot\n",
    "colors = sns.color_palette(\"Blues\", len(emotion_counts_sorted))\n",
    "\n",
    "plt.figure(figsize=(10, 4.5))\n",
    "sns.barplot(x=emotion_counts_sorted.emotion, y=emotion_counts_sorted.number, palette=colors)\n",
    "plt.title('Test Data Class Distribution')\n",
    "plt.ylabel('Number', fontsize=12)\n",
    "plt.xlabel('Emotions', fontsize=12)\n",
    "\n",
    "# Add a legend to display the average line label\n",
    "plt.legend()\n",
    "\n",
    "plt.show()"
   ]
  },
  {
   "cell_type": "code",
   "execution_count": 27,
   "id": "9e66eb52",
   "metadata": {},
   "outputs": [],
   "source": [
    "data_train_val.to_csv('D:\\\\Kuliah\\\\UPI\\\\SEMESTER 7\\\\skripsi\\\\dataset fix\\\\train_val.csv', index=False)"
   ]
  },
  {
   "cell_type": "code",
   "execution_count": 28,
   "id": "66e593f3",
   "metadata": {},
   "outputs": [],
   "source": [
    "data_test.to_csv('D:\\\\Kuliah\\\\UPI\\\\SEMESTER 7\\\\skripsi\\\\dataset fix\\\\test.csv', index=False)"
   ]
  },
  {
   "cell_type": "markdown",
   "id": "b6302401",
   "metadata": {},
   "source": [
    "## Downsampling"
   ]
  },
  {
   "cell_type": "code",
   "execution_count": 30,
   "id": "215aa080",
   "metadata": {},
   "outputs": [
    {
     "data": {
      "text/html": [
       "<div>\n",
       "<style scoped>\n",
       "    .dataframe tbody tr th:only-of-type {\n",
       "        vertical-align: middle;\n",
       "    }\n",
       "\n",
       "    .dataframe tbody tr th {\n",
       "        vertical-align: top;\n",
       "    }\n",
       "\n",
       "    .dataframe thead th {\n",
       "        text-align: right;\n",
       "    }\n",
       "</style>\n",
       "<table border=\"1\" class=\"dataframe\">\n",
       "  <thead>\n",
       "    <tr style=\"text-align: right;\">\n",
       "      <th></th>\n",
       "      <th>emotion</th>\n",
       "      <th>pixel</th>\n",
       "    </tr>\n",
       "  </thead>\n",
       "  <tbody>\n",
       "    <tr>\n",
       "      <th>109</th>\n",
       "      <td>0</td>\n",
       "      <td>254 253 253 245 215 175 179 137 62 29 25 50 11...</td>\n",
       "    </tr>\n",
       "    <tr>\n",
       "      <th>17677</th>\n",
       "      <td>3</td>\n",
       "      <td>21 24 28 30 24 24 21 26 31 31 38 59 92 125 148...</td>\n",
       "    </tr>\n",
       "    <tr>\n",
       "      <th>30661</th>\n",
       "      <td>1</td>\n",
       "      <td>126 116 117 127 126 139 157 183 205 225 237 22...</td>\n",
       "    </tr>\n",
       "    <tr>\n",
       "      <th>6126</th>\n",
       "      <td>6</td>\n",
       "      <td>255 255 255 255 255 255 254 255 239 49 20 6 0 ...</td>\n",
       "    </tr>\n",
       "    <tr>\n",
       "      <th>21726</th>\n",
       "      <td>3</td>\n",
       "      <td>172 171 176 179 125 77 97 129 146 161 163 158 ...</td>\n",
       "    </tr>\n",
       "  </tbody>\n",
       "</table>\n",
       "</div>"
      ],
      "text/plain": [
       "       emotion                                              pixel\n",
       "109          0  254 253 253 245 215 175 179 137 62 29 25 50 11...\n",
       "17677        3  21 24 28 30 24 24 21 26 31 31 38 59 92 125 148...\n",
       "30661        1  126 116 117 127 126 139 157 183 205 225 237 22...\n",
       "6126         6  255 255 255 255 255 255 254 255 239 49 20 6 0 ...\n",
       "21726        3  172 171 176 179 125 77 97 129 146 161 163 158 ..."
      ]
     },
     "execution_count": 30,
     "metadata": {},
     "output_type": "execute_result"
    }
   ],
   "source": [
    "data_train_val.head()"
   ]
  },
  {
   "cell_type": "code",
   "execution_count": 31,
   "id": "7d2798ea",
   "metadata": {},
   "outputs": [
    {
     "data": {
      "text/html": [
       "<div>\n",
       "<style scoped>\n",
       "    .dataframe tbody tr th:only-of-type {\n",
       "        vertical-align: middle;\n",
       "    }\n",
       "\n",
       "    .dataframe tbody tr th {\n",
       "        vertical-align: top;\n",
       "    }\n",
       "\n",
       "    .dataframe thead th {\n",
       "        text-align: right;\n",
       "    }\n",
       "</style>\n",
       "<table border=\"1\" class=\"dataframe\">\n",
       "  <thead>\n",
       "    <tr style=\"text-align: right;\">\n",
       "      <th></th>\n",
       "      <th>emotion</th>\n",
       "      <th>number</th>\n",
       "    </tr>\n",
       "  </thead>\n",
       "  <tbody>\n",
       "    <tr>\n",
       "      <th>0</th>\n",
       "      <td>3</td>\n",
       "      <td>6827</td>\n",
       "    </tr>\n",
       "    <tr>\n",
       "      <th>1</th>\n",
       "      <td>6</td>\n",
       "      <td>4839</td>\n",
       "    </tr>\n",
       "    <tr>\n",
       "      <th>2</th>\n",
       "      <td>4</td>\n",
       "      <td>4076</td>\n",
       "    </tr>\n",
       "    <tr>\n",
       "      <th>3</th>\n",
       "      <td>0</td>\n",
       "      <td>3645</td>\n",
       "    </tr>\n",
       "    <tr>\n",
       "      <th>4</th>\n",
       "      <td>5</td>\n",
       "      <td>3645</td>\n",
       "    </tr>\n",
       "    <tr>\n",
       "      <th>5</th>\n",
       "      <td>2</td>\n",
       "      <td>3645</td>\n",
       "    </tr>\n",
       "    <tr>\n",
       "      <th>6</th>\n",
       "      <td>1</td>\n",
       "      <td>3272</td>\n",
       "    </tr>\n",
       "  </tbody>\n",
       "</table>\n",
       "</div>"
      ],
      "text/plain": [
       "   emotion  number\n",
       "0        3    6827\n",
       "1        6    4839\n",
       "2        4    4076\n",
       "3        0    3645\n",
       "4        5    3645\n",
       "5        2    3645\n",
       "6        1    3272"
      ]
     },
     "execution_count": 31,
     "metadata": {},
     "output_type": "execute_result"
    }
   ],
   "source": [
    "emotion_counts = data_train_val['emotion'].value_counts(sort=True).reset_index()\n",
    "emotion_counts.columns = ['emotion', 'number']\n",
    "emotion_counts['emotion'] = emotion_counts['emotion']\n",
    "emotion_counts"
   ]
  },
  {
   "cell_type": "code",
   "execution_count": 33,
   "id": "153f1507",
   "metadata": {},
   "outputs": [],
   "source": [
    "balanced_data = []\n",
    "for emotion, count in zip(emotion_counts['emotion'], emotion_counts['number']):\n",
    "    emotion_data = data_train_val[data_train_val['emotion'] == emotion]\n",
    "    if count > 3645:\n",
    "        # Downsample data\n",
    "        downsampled_data = emotion_data.sample(n=int(3645), random_state=42)\n",
    "        balanced_data.append(downsampled_data)\n",
    "    else:\n",
    "        # Tidak perlu downsampling, tambahkan data asli\n",
    "        balanced_data.append(emotion_data)"
   ]
  },
  {
   "cell_type": "code",
   "execution_count": 34,
   "id": "75eac53d",
   "metadata": {},
   "outputs": [],
   "source": [
    "downsample = pd.concat(balanced_data)"
   ]
  },
  {
   "cell_type": "code",
   "execution_count": 35,
   "id": "a0dcbab6",
   "metadata": {},
   "outputs": [],
   "source": [
    "downsample = downsample.sample(frac=1, random_state=42).reset_index(drop=True)"
   ]
  },
  {
   "cell_type": "code",
   "execution_count": 36,
   "id": "c28d19f1",
   "metadata": {},
   "outputs": [
    {
     "name": "stdout",
     "output_type": "stream",
     "text": [
      "<class 'pandas.core.frame.DataFrame'>\n",
      "RangeIndex: 25142 entries, 0 to 25141\n",
      "Data columns (total 2 columns):\n",
      " #   Column   Non-Null Count  Dtype \n",
      "---  ------   --------------  ----- \n",
      " 0   emotion  25142 non-null  int64 \n",
      " 1   pixel    25142 non-null  object\n",
      "dtypes: int64(1), object(1)\n",
      "memory usage: 393.0+ KB\n"
     ]
    }
   ],
   "source": [
    "downsample.info()"
   ]
  },
  {
   "cell_type": "code",
   "execution_count": 37,
   "id": "84178d5f",
   "metadata": {},
   "outputs": [
    {
     "data": {
      "text/html": [
       "<div>\n",
       "<style scoped>\n",
       "    .dataframe tbody tr th:only-of-type {\n",
       "        vertical-align: middle;\n",
       "    }\n",
       "\n",
       "    .dataframe tbody tr th {\n",
       "        vertical-align: top;\n",
       "    }\n",
       "\n",
       "    .dataframe thead th {\n",
       "        text-align: right;\n",
       "    }\n",
       "</style>\n",
       "<table border=\"1\" class=\"dataframe\">\n",
       "  <thead>\n",
       "    <tr style=\"text-align: right;\">\n",
       "      <th></th>\n",
       "      <th>emotion</th>\n",
       "      <th>pixel</th>\n",
       "    </tr>\n",
       "  </thead>\n",
       "  <tbody>\n",
       "    <tr>\n",
       "      <th>0</th>\n",
       "      <td>5</td>\n",
       "      <td>65 53 43 37 29 27 27 29 30 33 34 34 32 30 28 2...</td>\n",
       "    </tr>\n",
       "    <tr>\n",
       "      <th>1</th>\n",
       "      <td>1</td>\n",
       "      <td>173 190 199 215 217 224 221 223 228 229 229 23...</td>\n",
       "    </tr>\n",
       "    <tr>\n",
       "      <th>2</th>\n",
       "      <td>1</td>\n",
       "      <td>78 80 83 84 86 112 143 151 150 142 92 153 113 ...</td>\n",
       "    </tr>\n",
       "    <tr>\n",
       "      <th>3</th>\n",
       "      <td>6</td>\n",
       "      <td>67 93 97 83 63 54 72 57 57 57 46 36 56 51 48 4...</td>\n",
       "    </tr>\n",
       "    <tr>\n",
       "      <th>4</th>\n",
       "      <td>0</td>\n",
       "      <td>151 155 154 159 162 163 164 164 164 169 173 17...</td>\n",
       "    </tr>\n",
       "  </tbody>\n",
       "</table>\n",
       "</div>"
      ],
      "text/plain": [
       "   emotion                                              pixel\n",
       "0        5  65 53 43 37 29 27 27 29 30 33 34 34 32 30 28 2...\n",
       "1        1  173 190 199 215 217 224 221 223 228 229 229 23...\n",
       "2        1  78 80 83 84 86 112 143 151 150 142 92 153 113 ...\n",
       "3        6  67 93 97 83 63 54 72 57 57 57 46 36 56 51 48 4...\n",
       "4        0  151 155 154 159 162 163 164 164 164 169 173 17..."
      ]
     },
     "execution_count": 37,
     "metadata": {},
     "output_type": "execute_result"
    }
   ],
   "source": [
    "downsample.head()"
   ]
  },
  {
   "cell_type": "code",
   "execution_count": 38,
   "id": "708f632a",
   "metadata": {},
   "outputs": [
    {
     "data": {
      "text/html": [
       "<div>\n",
       "<style scoped>\n",
       "    .dataframe tbody tr th:only-of-type {\n",
       "        vertical-align: middle;\n",
       "    }\n",
       "\n",
       "    .dataframe tbody tr th {\n",
       "        vertical-align: top;\n",
       "    }\n",
       "\n",
       "    .dataframe thead th {\n",
       "        text-align: right;\n",
       "    }\n",
       "</style>\n",
       "<table border=\"1\" class=\"dataframe\">\n",
       "  <thead>\n",
       "    <tr style=\"text-align: right;\">\n",
       "      <th></th>\n",
       "      <th>emotion</th>\n",
       "      <th>number</th>\n",
       "    </tr>\n",
       "  </thead>\n",
       "  <tbody>\n",
       "    <tr>\n",
       "      <th>0</th>\n",
       "      <td>Surprise</td>\n",
       "      <td>3645</td>\n",
       "    </tr>\n",
       "    <tr>\n",
       "      <th>1</th>\n",
       "      <td>Neutral</td>\n",
       "      <td>3645</td>\n",
       "    </tr>\n",
       "    <tr>\n",
       "      <th>2</th>\n",
       "      <td>Angry</td>\n",
       "      <td>3645</td>\n",
       "    </tr>\n",
       "    <tr>\n",
       "      <th>3</th>\n",
       "      <td>Happy</td>\n",
       "      <td>3645</td>\n",
       "    </tr>\n",
       "    <tr>\n",
       "      <th>4</th>\n",
       "      <td>Fear</td>\n",
       "      <td>3645</td>\n",
       "    </tr>\n",
       "    <tr>\n",
       "      <th>5</th>\n",
       "      <td>Sad</td>\n",
       "      <td>3645</td>\n",
       "    </tr>\n",
       "    <tr>\n",
       "      <th>6</th>\n",
       "      <td>Disgust</td>\n",
       "      <td>3272</td>\n",
       "    </tr>\n",
       "  </tbody>\n",
       "</table>\n",
       "</div>"
      ],
      "text/plain": [
       "    emotion  number\n",
       "0  Surprise    3645\n",
       "1   Neutral    3645\n",
       "2     Angry    3645\n",
       "3     Happy    3645\n",
       "4      Fear    3645\n",
       "5       Sad    3645\n",
       "6   Disgust    3272"
      ]
     },
     "execution_count": 38,
     "metadata": {},
     "output_type": "execute_result"
    }
   ],
   "source": [
    "emotion_labels = {0:'Angry', 1:'Disgust', 2:'Fear', 3:'Happy', 4:'Sad', 5:'Surprise', 6:'Neutral'}\n",
    "emotion_counts = downsample['emotion'].value_counts(sort=True).reset_index()\n",
    "emotion_counts.columns = ['emotion', 'number']\n",
    "emotion_counts['emotion'] = emotion_counts['emotion'].map(emotion_labels)\n",
    "emotion_counts"
   ]
  },
  {
   "cell_type": "code",
   "execution_count": 39,
   "id": "7e662bc5",
   "metadata": {},
   "outputs": [
    {
     "name": "stderr",
     "output_type": "stream",
     "text": [
      "C:\\Users\\MoKha\\AppData\\Local\\Temp\\ipykernel_23860\\246477380.py:7: FutureWarning: \n",
      "\n",
      "Passing `palette` without assigning `hue` is deprecated and will be removed in v0.14.0. Assign the `x` variable to `hue` and set `legend=False` for the same effect.\n",
      "\n",
      "  sns.barplot(x=emotion_counts_sorted.emotion, y=emotion_counts_sorted.number, palette=colors)\n",
      "C:\\Users\\MoKha\\AppData\\Local\\Temp\\ipykernel_23860\\246477380.py:13: UserWarning: No artists with labels found to put in legend.  Note that artists whose label start with an underscore are ignored when legend() is called with no argument.\n",
      "  plt.legend()\n"
     ]
    },
    {
     "data": {
      "image/png": "[encoded data removed]",
      "text/plain": [
       "<Figure size 720x324 with 1 Axes>"
      ]
     },
     "metadata": {
      "needs_background": "light"
     },
     "output_type": "display_data"
    }
   ],
   "source": [
    "emotion_counts_sorted = emotion_counts.sort_values(by='number', ascending=True)\n",
    "\n",
    "# Define colors and plot\n",
    "colors = sns.color_palette(\"Blues\", len(emotion_counts_sorted))\n",
    "\n",
    "plt.figure(figsize=(10, 4.5))\n",
    "sns.barplot(x=emotion_counts_sorted.emotion, y=emotion_counts_sorted.number, palette=colors)\n",
    "plt.title('Downsample Class Distribution')\n",
    "plt.ylabel('Number', fontsize=12)\n",
    "plt.xlabel('Emotions', fontsize=12)\n",
    "\n",
    "# Add a legend to display the average line label\n",
    "plt.legend()\n",
    "\n",
    "plt.show()"
   ]
  },
  {
   "cell_type": "code",
   "execution_count": 40,
   "id": "70f5c72d",
   "metadata": {},
   "outputs": [],
   "source": [
    "downsample.to_csv('D:\\\\Kuliah\\\\UPI\\\\SEMESTER 7\\\\skripsi\\\\dataset fix\\\\balance_train_val.csv', index=False)"
   ]
  },
  {
   "cell_type": "code",
   "execution_count": null,
   "id": "1c708e09",
   "metadata": {},
   "outputs": [],
   "source": []
  }
 ],
 "metadata": {
  "kernelspec": {
   "display_name": "Python 3 (ipykernel)",
   "language": "python",
   "name": "python3"
  },
  "language_info": {
   "codemirror_mode": {
    "name": "ipython",
    "version": 3
   },
   "file_extension": ".py",
   "mimetype": "text/x-python",
   "name": "python",
   "nbconvert_exporter": "python",
   "pygments_lexer": "ipython3",
   "version": "3.9.12"
  }
 },
 "nbformat": 4,
 "nbformat_minor": 5
}
