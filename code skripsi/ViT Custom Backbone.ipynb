{
 "cells": [
  {
   "cell_type": "code",
   "execution_count": 1,
   "id": "a4f52c85-4ef4-4943-a521-ff740da659ed",
   "metadata": {},
   "outputs": [
    {
     "data": {
      "text/plain": [
       "'2.5.1+cu124'"
      ]
     },
     "execution_count": 1,
     "metadata": {},
     "output_type": "execute_result"
    }
   ],
   "source": [
    "import torch\n",
    "torch.__version__"
   ]
  },
  {
   "cell_type": "code",
   "execution_count": 2,
   "id": "85719059-ed85-4e86-a40a-e26217642235",
   "metadata": {},
   "outputs": [
    {
     "data": {
      "text/plain": [
       "'cuda'"
      ]
     },
     "execution_count": 2,
     "metadata": {},
     "output_type": "execute_result"
    }
   ],
   "source": [
    "device = \"cuda\" if torch.cuda.is_available() else \"cpu\"\n",
    "device"
   ]
  },
  {
   "cell_type": "code",
   "execution_count": 3,
   "id": "e1b309cc-ab32-4ea3-8c91-f1821515f136",
   "metadata": {},
   "outputs": [],
   "source": [
    "import numpy as np\n",
    "import pandas as pd\n",
    "import torch\n",
    "from torch.utils.data import Dataset, DataLoader\n",
    "from torchvision import transforms\n",
    "from PIL import Image\n",
    "import matplotlib.pyplot as plt\n",
    "from sklearn.model_selection import train_test_split\n",
    "from sklearn.metrics import confusion_matrix, ConfusionMatrixDisplay\n",
    "from mlxtend.plotting import plot_confusion_matrix\n",
    "import os"
   ]
  },
  {
   "cell_type": "markdown",
   "id": "08fe35ee-b631-403e-ae59-b7016ed13458",
   "metadata": {},
   "source": [
    "## Load Data"
   ]
  },
  {
   "cell_type": "code",
   "execution_count": 4,
   "id": "1bdddb0d-9e30-4147-938e-a8109e906f28",
   "metadata": {},
   "outputs": [],
   "source": [
    "class FERDataset(Dataset):\n",
    "    def __init__(self, dataframe, transform=None):\n",
    "        self.dataframe = dataframe\n",
    "        self.transform = transform\n",
    "\n",
    "        # Ekstrak label dan piksel\n",
    "        self.labels = self.dataframe['emotion'].values\n",
    "        self.pixels = self.dataframe['pixel'].apply(self.string_to_image).values\n",
    "\n",
    "    def string_to_image(self, pixels_string):\n",
    "        # Konversi string piksel menjadi numpy array dan reshape ke 48x48\n",
    "        pixels = np.array(pixels_string.split(), dtype='float32')\n",
    "        image = pixels.reshape(48, 48)\n",
    "        image = np.expand_dims(image, axis=-1)  # Tambahkan channel dimensi\n",
    "        return image\n",
    "\n",
    "    def __len__(self):\n",
    "        return len(self.dataframe)\n",
    "\n",
    "    def __getitem__(self, idx):\n",
    "        image = self.pixels[idx]\n",
    "        label = self.labels[idx]\n",
    "        \n",
    "        image = Image.fromarray(image.squeeze().astype('uint8'), mode='L')\n",
    "\n",
    "        # Jika ada transformasi, terapkan ke image\n",
    "        if self.transform:\n",
    "            image = self.transform(image)\n",
    "\n",
    "        return image, label"
   ]
  },
  {
   "cell_type": "code",
   "execution_count": 5,
   "id": "3fd05f22-3a1d-495e-ab37-5912522b0f9b",
   "metadata": {},
   "outputs": [
    {
     "name": "stdout",
     "output_type": "stream",
     "text": [
      "transforms: Compose(\n",
      "    Grayscale(num_output_channels=3)\n",
      "    Resize(size=(224, 224), interpolation=bilinear, max_size=None, antialias=True)\n",
      "    ToTensor()\n",
      ")\n"
     ]
    }
   ],
   "source": [
    "# Create image size\n",
    "IMG_SIZE = 224\n",
    "\n",
    "# Create transform pipeline manually\n",
    "manual_transforms = transforms.Compose([\n",
    "    transforms.Grayscale(num_output_channels=3),\n",
    "    transforms.Resize((IMG_SIZE, IMG_SIZE)),\n",
    "    transforms.ToTensor(),\n",
    "])           \n",
    "print(f\"transforms: {manual_transforms}\")"
   ]
  },
  {
   "cell_type": "code",
   "execution_count": 6,
   "id": "abb51cb0-db73-45d5-b795-d7bbe982676b",
   "metadata": {},
   "outputs": [
    {
     "name": "stdout",
     "output_type": "stream",
     "text": [
      "<class 'pandas.core.frame.DataFrame'>\n",
      "RangeIndex: 29949 entries, 0 to 29948\n",
      "Data columns (total 2 columns):\n",
      " #   Column   Non-Null Count  Dtype \n",
      "---  ------   --------------  ----- \n",
      " 0   emotion  29949 non-null  int64 \n",
      " 1   pixel    29949 non-null  object\n",
      "dtypes: int64(1), object(1)\n",
      "memory usage: 468.1+ KB\n"
     ]
    }
   ],
   "source": [
    "data_train_val = pd.read_csv('../Khaairi/Data/train_val.csv')\n",
    "data_train_val.info()"
   ]
  },
  {
   "cell_type": "code",
   "execution_count": 7,
   "id": "de936582-fdc5-4975-b08a-a0aafaee8110",
   "metadata": {},
   "outputs": [
    {
     "name": "stdout",
     "output_type": "stream",
     "text": [
      "<class 'pandas.core.frame.DataFrame'>\n",
      "RangeIndex: 3328 entries, 0 to 3327\n",
      "Data columns (total 2 columns):\n",
      " #   Column   Non-Null Count  Dtype \n",
      "---  ------   --------------  ----- \n",
      " 0   emotion  3328 non-null   int64 \n",
      " 1   pixel    3328 non-null   object\n",
      "dtypes: int64(1), object(1)\n",
      "memory usage: 52.1+ KB\n"
     ]
    }
   ],
   "source": [
    "data_test = pd.read_csv('../Khaairi/Data/test.csv')\n",
    "data_test.info()"
   ]
  },
  {
   "cell_type": "code",
   "execution_count": 8,
   "id": "d525f87c-e3d3-4893-9194-b81b2a4b80d3",
   "metadata": {},
   "outputs": [
    {
     "name": "stdout",
     "output_type": "stream",
     "text": [
      "Train set size: 26954\n",
      "Validation set size: 2995\n",
      "Test set size: 3328\n"
     ]
    }
   ],
   "source": [
    "# Pertama, pisahkan data train (90%) dan validation (10%)\n",
    "data_train, data_val = train_test_split(data_train_val, test_size=0.1, stratify=data_train_val['emotion'], random_state=42)\n",
    "\n",
    "# Cek ukuran masing-masing set untuk memastikan proporsi\n",
    "print(f'Train set size: {len(data_train)}')\n",
    "print(f'Validation set size: {len(data_val)}')\n",
    "print(f'Test set size: {len(data_test)}')"
   ]
  },
  {
   "cell_type": "code",
   "execution_count": 9,
   "id": "a112b864-08d8-42cb-a285-994f930f4259",
   "metadata": {},
   "outputs": [],
   "source": [
    "train_dataset = FERDataset(data_train, transform=manual_transforms)\n",
    "val_dataset = FERDataset(data_val, transform=manual_transforms)\n",
    "test_dataset = FERDataset(data_test, transform=manual_transforms)\n",
    "class_names = ['Angry', 'Disgust', 'Fear', 'Happy', 'Sad', 'Surprise', 'Neutral']"
   ]
  },
  {
   "cell_type": "code",
   "execution_count": 10,
   "id": "4c40770a-6a57-48ca-a10f-8a6c3ff485f2",
   "metadata": {},
   "outputs": [
    {
     "name": "stdout",
     "output_type": "stream",
     "text": [
      "label2id: {'Angry': 0, 'Disgust': 1, 'Fear': 2, 'Happy': 3, 'Sad': 4, 'Surprise': 5, 'Neutral': 6}\n",
      "id2label: {0: 'Angry', 1: 'Disgust', 2: 'Fear', 3: 'Happy', 4: 'Sad', 5: 'Surprise', 6: 'Neutral'}\n"
     ]
    }
   ],
   "source": [
    "labels = ['Angry', 'Disgust', 'Fear', 'Happy', 'Sad', 'Surprise', 'Neutral']\n",
    "\n",
    "# Mapping dari label ke ID (label2id)\n",
    "label2id = {c: idx for idx, c in enumerate(labels)}\n",
    "\n",
    "# Mapping dari ID ke label (id2label)\n",
    "id2label = {idx: c for idx, c in enumerate(labels)}\n",
    "\n",
    "print(\"label2id:\", label2id)\n",
    "print(\"id2label:\", id2label)"
   ]
  },
  {
   "cell_type": "code",
   "execution_count": 11,
   "id": "27139b4d-f206-4e4f-82e6-6c26b311b7e9",
   "metadata": {},
   "outputs": [
    {
     "data": {
      "image/png": "[encoded data removed]",
      "text/plain": [
       "<Figure size 640x480 with 1 Axes>"
      ]
     },
     "metadata": {},
     "output_type": "display_data"
    }
   ],
   "source": [
    "# Ambil satu contoh dari train_dataset\n",
    "image, label = train_dataset[0]  # Index pertama dataset\n",
    "\n",
    "# Jika transform menghasilkan tensor, konversi ke format numpy\n",
    "if isinstance(image, torch.Tensor):\n",
    "    image = image.permute(1, 2, 0).numpy()  # (C, H, W) -> (H, W, C)\n",
    "\n",
    "# Plot gambar\n",
    "plt.imshow(image, cmap='gray')  # Gunakan cmap='gray' jika gambar grayscale\n",
    "plt.title(f\"Label: {label}\")\n",
    "plt.axis('off')  # Hilangkan sumbu\n",
    "plt.show()"
   ]
  },
  {
   "cell_type": "code",
   "execution_count": 12,
   "id": "6b8a0a00-f3ca-46e1-8080-faf95a66d2c9",
   "metadata": {},
   "outputs": [
    {
     "data": {
      "text/plain": [
       "torch.Size([3, 224, 224])"
      ]
     },
     "execution_count": 12,
     "metadata": {},
     "output_type": "execute_result"
    }
   ],
   "source": [
    "image, label = train_dataset[0]\n",
    "image.shape"
   ]
  },
  {
   "cell_type": "markdown",
   "id": "25f09b62-4109-49eb-ae60-3ce50168f049",
   "metadata": {},
   "source": [
    "## Build Vision Transformer (ViT) Model"
   ]
  },
  {
   "cell_type": "code",
   "execution_count": 13,
   "id": "5b7f5c19-e39f-478b-904a-4070f72d2ccf",
   "metadata": {},
   "outputs": [],
   "source": [
    "from torch import nn\n",
    "from torchvision.models import resnet50"
   ]
  },
  {
   "cell_type": "code",
   "execution_count": 14,
   "id": "c778c759-8e55-473a-9013-322f0eddfd29",
   "metadata": {},
   "outputs": [],
   "source": [
    "class ResNetBackbone(nn.Module):\n",
    "    def __init__(self, embedding_dim: int = 768):\n",
    "        super().__init__()\n",
    "        # Load pretrained ResNet and remove the fully connected layers\n",
    "        resnet = resnet50(pretrained=True)\n",
    "        self.backbone = nn.Sequential(*list(resnet.children())[:-2])  # Extract feature maps\n",
    "        \n",
    "        # Project ResNet output to match embedding_dim\n",
    "        self.projection = nn.Conv2d(in_channels=2048,  # Output channels of ResNet backbone\n",
    "                                    out_channels=embedding_dim,\n",
    "                                    kernel_size=1)\n",
    "        \n",
    "    def forward(self, x):\n",
    "        # Extract features using ResNet backbone\n",
    "        x = self.backbone(x)  # Shape: [batch_size, 2048, H, W]\n",
    "        x = self.projection(x)  # Shape: [batch_size, embedding_dim, H, W]\n",
    "        return x"
   ]
  },
  {
   "cell_type": "code",
   "execution_count": 15,
   "id": "abc468a7-138e-48ca-a495-a91e0988bd0b",
   "metadata": {},
   "outputs": [],
   "source": [
    "class MultiheadSelfAttentionBlock(nn.Module):\n",
    "    def __init__(self,\n",
    "                 embedding_dim:int=768,\n",
    "                 num_heads:int=12,\n",
    "                 attn_dropout:float=0):\n",
    "        super().__init__()\n",
    "        \n",
    "        self.layer_norm = nn.LayerNorm(normalized_shape=embedding_dim)\n",
    "        \n",
    "        self.multihead_attn = nn.MultiheadAttention(embed_dim=embedding_dim,\n",
    "                                                    num_heads=num_heads,\n",
    "                                                    dropout=attn_dropout,\n",
    "                                                    batch_first=True)\n",
    "        \n",
    "    def forward(self, x):\n",
    "        x = self.layer_norm(x)\n",
    "        attn_output, _ = self.multihead_attn(query=x,\n",
    "                                             key=x,\n",
    "                                             value=x,\n",
    "                                             need_weights=False)\n",
    "        return attn_output"
   ]
  },
  {
   "cell_type": "code",
   "execution_count": 16,
   "id": "76cdbef5-da91-45c7-8847-9de18bcd77f5",
   "metadata": {},
   "outputs": [],
   "source": [
    "class MLPBlock(nn.Module):\n",
    "    def __init__(self,\n",
    "                 embedding_dim:int=768,\n",
    "                 mlp_size:int=3072,\n",
    "                 dropout:float=0.1):\n",
    "        super().__init__()\n",
    "        \n",
    "        self.layer_norm = nn.LayerNorm(normalized_shape=embedding_dim)\n",
    "        \n",
    "        self.mlp = nn.Sequential(\n",
    "            nn.Linear(in_features=embedding_dim,\n",
    "                      out_features=mlp_size),\n",
    "            nn.GELU(),\n",
    "            nn.Dropout(p=dropout),\n",
    "            nn.Linear(in_features=mlp_size,\n",
    "                      out_features=embedding_dim),\n",
    "            nn.Dropout(p=dropout)\n",
    "        )\n",
    "    \n",
    "    def forward(self, x):\n",
    "        x = self.layer_norm(x)\n",
    "        x = self.mlp(x)\n",
    "        return x"
   ]
  },
  {
   "cell_type": "code",
   "execution_count": 17,
   "id": "cee8d7b1-8603-4ade-8bed-32444a8c942f",
   "metadata": {},
   "outputs": [],
   "source": [
    "class TransformerEncoderBlock(nn.Module):\n",
    "    def __init__(self,\n",
    "                 embedding_dim:int=768,\n",
    "                 num_heads:int=12,\n",
    "                 mlp_size:int=3072,\n",
    "                 mlp_dropout:float=0.1,\n",
    "                 attn_dropout:float=0):\n",
    "        super().__init__()\n",
    "\n",
    "        self.msa_block = MultiheadSelfAttentionBlock(embedding_dim=embedding_dim,\n",
    "                                                     num_heads=num_heads,\n",
    "                                                     attn_dropout=attn_dropout)\n",
    "        \n",
    "        self.mlp_block =  MLPBlock(embedding_dim=embedding_dim,\n",
    "                                   mlp_size=mlp_size,\n",
    "                                   dropout=mlp_dropout)\n",
    "         \n",
    "    def forward(self, x):\n",
    "        x = self.msa_block(x) + x \n",
    "        \n",
    "        x = self.mlp_block(x) + x \n",
    "        \n",
    "        return x"
   ]
  },
  {
   "cell_type": "code",
   "execution_count": 18,
   "id": "dfbe073e-b7c5-44c3-a123-d89a2152a467",
   "metadata": {},
   "outputs": [],
   "source": [
    "class ViTWithResNet(nn.Module):\n",
    "    def __init__(self,\n",
    "                 img_size: int = 224,\n",
    "                 in_channels: int = 3,\n",
    "                 patch_size: int = 16,\n",
    "                 num_transformer_layers: int = 12,\n",
    "                 embedding_dim: int = 768,\n",
    "                 mlp_size: int = 3072,\n",
    "                 num_heads: int = 12,\n",
    "                 attn_dropout: float = 0,\n",
    "                 mlp_dropout: float = 0.1,\n",
    "                 embedding_dropout: float = 0.1,\n",
    "                 num_classes: int = 1000):\n",
    "        super().__init__()\n",
    "\n",
    "        # ResNet Backbone\n",
    "        self.resnet_backbone = ResNetBackbone(embedding_dim=embedding_dim)\n",
    "\n",
    "        # Calculate the number of patches based on ResNet output size\n",
    "        self.num_patches = None  # Assuming fixed ResNet output\n",
    "\n",
    "        # Class embedding\n",
    "        self.class_embedding = nn.Parameter(data=torch.randn(1, 1, embedding_dim),\n",
    "                                            requires_grad=True)\n",
    "\n",
    "        self.embedding_dim = 768\n",
    "        \n",
    "        # Positional embedding\n",
    "        self.position_embedding = None\n",
    "        \n",
    "        self.embedding_dropout = nn.Dropout(p=embedding_dropout)\n",
    "\n",
    "        # Transformer Encoder\n",
    "        self.transformer_encoder = nn.Sequential(*[\n",
    "            TransformerEncoderBlock(embedding_dim=embedding_dim,\n",
    "                                    num_heads=num_heads,\n",
    "                                    mlp_size=mlp_size,\n",
    "                                    mlp_dropout=mlp_dropout) \n",
    "            for _ in range(num_transformer_layers)\n",
    "        ])\n",
    "\n",
    "        # Classifier\n",
    "        self.classifier = nn.Sequential(\n",
    "            nn.LayerNorm(normalized_shape=embedding_dim),\n",
    "            nn.Linear(in_features=embedding_dim,\n",
    "                      out_features=num_classes)\n",
    "        )\n",
    "\n",
    "    def forward(self, pixel_values, labels=None):\n",
    "        batch_size = pixel_values.shape[0]\n",
    "        # print(f\"Input shape: {pixel_values.shape}\")  # Cetak bentuk input\n",
    "        \n",
    "        # Extract features using ResNet backbone\n",
    "        resnet_features = self.resnet_backbone(pixel_values)  # Shape: [batch_size, embedding_dim, H, W]\n",
    "        # print(f\"ResNet features shape: {resnet_features.shape}\")\n",
    "\n",
    "        _, _, H, W = resnet_features.shape\n",
    "        self.num_patches = H * W\n",
    "\n",
    "        # Initialize positional embedding if not already\n",
    "        if self.position_embedding is None:\n",
    "            self.position_embedding = nn.Parameter(data=torch.randn(1, self.num_patches + 1, self.embedding_dim),\n",
    "                                                   requires_grad=True).to(device)\n",
    "        \n",
    "        # Flatten features into patch tokens\n",
    "        x = resnet_features.flatten(2).transpose(1, 2)  # Shape: [batch_size, num_patches, embedding_dim]\n",
    "        # print(f\"Patch tokens shape: {x.shape}\")\n",
    "        \n",
    "        # Add class token\n",
    "        class_token = self.class_embedding.expand(batch_size, -1, -1)\n",
    "        # print(f\"Class token shape: {class_token.shape}\")\n",
    "        x = torch.cat((class_token, x), dim=1)  # Shape: [batch_size, num_patches + 1, embedding_dim]\n",
    "        # print(f\"After adding class token shape: {x.shape}\")\n",
    "        \n",
    "        # Add positional embedding\n",
    "        self.position_embedding = self.position_embedding.to(x.device)\n",
    "        x = x + self.position_embedding.expand(batch_size, -1, -1)\n",
    "        # print(f\"After adding positional embedding shape: {x.shape}\")\n",
    "        \n",
    "        # Apply dropout\n",
    "        x = self.embedding_dropout(x)\n",
    "        # print(f\"After embedding dropout shape: {x.shape}\")\n",
    "        \n",
    "        # Pass through Transformer Encoder\n",
    "        x = self.transformer_encoder(x)\n",
    "        # print(f\"After Transformer Encoder shape: {x.shape}\")\n",
    "        \n",
    "        # Get classification logits\n",
    "        logits = self.classifier(x[:, 0])  # Use class token for classification\n",
    "        # print(f\"Logits shape: {logits.shape}\")\n",
    "    \n",
    "        # Calculate loss if labels are provided\n",
    "        loss = None\n",
    "        if labels is not None:\n",
    "            loss_fn = nn.CrossEntropyLoss()\n",
    "            loss = loss_fn(logits, labels)\n",
    "            # print(f\"Loss: {loss.item()}\")\n",
    "        \n",
    "        return (loss, logits) if loss is not None else logits"
   ]
  },
  {
   "cell_type": "markdown",
   "id": "cccbb722-51b9-46af-90e2-4b80265eb878",
   "metadata": {},
   "source": [
    "## Model Training"
   ]
  },
  {
   "cell_type": "code",
   "execution_count": 19,
   "id": "64b28361-dae6-43fa-b846-69caa47259a3",
   "metadata": {},
   "outputs": [
    {
     "name": "stderr",
     "output_type": "stream",
     "text": [
      "/home/ilkom/.local/lib/python3.12/site-packages/torchvision/models/_utils.py:208: UserWarning: The parameter 'pretrained' is deprecated since 0.13 and may be removed in the future, please use 'weights' instead.\n",
      "  warnings.warn(\n",
      "/home/ilkom/.local/lib/python3.12/site-packages/torchvision/models/_utils.py:223: UserWarning: Arguments other than a weight enum or `None` for 'weights' are deprecated since 0.13 and may be removed in the future. The current behavior is equivalent to passing `weights=ResNet50_Weights.IMAGENET1K_V1`. You can also use `weights=ResNet50_Weights.DEFAULT` to get the most up-to-date weights.\n",
      "  warnings.warn(msg)\n"
     ]
    }
   ],
   "source": [
    "device = torch.device(\"cuda\" if torch.cuda.is_available() else \"cpu\")\n",
    "vit = ViTWithResNet(num_classes=len(class_names), in_channels=3).to(device)"
   ]
  },
  {
   "cell_type": "code",
   "execution_count": 20,
   "id": "dc2344b3-32fa-4f94-9c56-13b3ac96ee3d",
   "metadata": {},
   "outputs": [
    {
     "data": {
      "text/plain": [
       "========================================================================================================================\n",
       "Layer (type (var_name))                                      Input Shape     Output Shape    Param #         Trainable\n",
       "========================================================================================================================\n",
       "ViTWithResNet (ViTWithResNet)                                [1, 3, 224, 224] [1, 7]          768             True\n",
       "├─ResNetBackbone (resnet_backbone)                           [1, 3, 224, 224] [1, 768, 7, 7]  --              True\n",
       "│    └─Sequential (backbone)                                 [1, 3, 224, 224] [1, 2048, 7, 7] --              True\n",
       "│    │    └─Conv2d (0)                                       [1, 3, 224, 224] [1, 64, 112, 112] 9,408           True\n",
       "│    │    └─BatchNorm2d (1)                                  [1, 64, 112, 112] [1, 64, 112, 112] 128             True\n",
       "│    │    └─ReLU (2)                                         [1, 64, 112, 112] [1, 64, 112, 112] --              --\n",
       "│    │    └─MaxPool2d (3)                                    [1, 64, 112, 112] [1, 64, 56, 56] --              --\n",
       "│    │    └─Sequential (4)                                   [1, 64, 56, 56] [1, 256, 56, 56] 215,808         True\n",
       "│    │    └─Sequential (5)                                   [1, 256, 56, 56] [1, 512, 28, 28] 1,219,584       True\n",
       "│    │    └─Sequential (6)                                   [1, 512, 28, 28] [1, 1024, 14, 14] 7,098,368       True\n",
       "│    │    └─Sequential (7)                                   [1, 1024, 14, 14] [1, 2048, 7, 7] 14,964,736      True\n",
       "│    └─Conv2d (projection)                                   [1, 2048, 7, 7] [1, 768, 7, 7]  1,573,632       True\n",
       "├─Dropout (embedding_dropout)                                [1, 50, 768]    [1, 50, 768]    --              --\n",
       "├─Sequential (transformer_encoder)                           [1, 50, 768]    [1, 50, 768]    --              True\n",
       "│    └─TransformerEncoderBlock (0)                           [1, 50, 768]    [1, 50, 768]    --              True\n",
       "│    │    └─MultiheadSelfAttentionBlock (msa_block)          [1, 50, 768]    [1, 50, 768]    2,363,904       True\n",
       "│    │    └─MLPBlock (mlp_block)                             [1, 50, 768]    [1, 50, 768]    4,723,968       True\n",
       "│    └─TransformerEncoderBlock (1)                           [1, 50, 768]    [1, 50, 768]    --              True\n",
       "│    │    └─MultiheadSelfAttentionBlock (msa_block)          [1, 50, 768]    [1, 50, 768]    2,363,904       True\n",
       "│    │    └─MLPBlock (mlp_block)                             [1, 50, 768]    [1, 50, 768]    4,723,968       True\n",
       "│    └─TransformerEncoderBlock (2)                           [1, 50, 768]    [1, 50, 768]    --              True\n",
       "│    │    └─MultiheadSelfAttentionBlock (msa_block)          [1, 50, 768]    [1, 50, 768]    2,363,904       True\n",
       "│    │    └─MLPBlock (mlp_block)                             [1, 50, 768]    [1, 50, 768]    4,723,968       True\n",
       "│    └─TransformerEncoderBlock (3)                           [1, 50, 768]    [1, 50, 768]    --              True\n",
       "│    │    └─MultiheadSelfAttentionBlock (msa_block)          [1, 50, 768]    [1, 50, 768]    2,363,904       True\n",
       "│    │    └─MLPBlock (mlp_block)                             [1, 50, 768]    [1, 50, 768]    4,723,968       True\n",
       "│    └─TransformerEncoderBlock (4)                           [1, 50, 768]    [1, 50, 768]    --              True\n",
       "│    │    └─MultiheadSelfAttentionBlock (msa_block)          [1, 50, 768]    [1, 50, 768]    2,363,904       True\n",
       "│    │    └─MLPBlock (mlp_block)                             [1, 50, 768]    [1, 50, 768]    4,723,968       True\n",
       "│    └─TransformerEncoderBlock (5)                           [1, 50, 768]    [1, 50, 768]    --              True\n",
       "│    │    └─MultiheadSelfAttentionBlock (msa_block)          [1, 50, 768]    [1, 50, 768]    2,363,904       True\n",
       "│    │    └─MLPBlock (mlp_block)                             [1, 50, 768]    [1, 50, 768]    4,723,968       True\n",
       "│    └─TransformerEncoderBlock (6)                           [1, 50, 768]    [1, 50, 768]    --              True\n",
       "│    │    └─MultiheadSelfAttentionBlock (msa_block)          [1, 50, 768]    [1, 50, 768]    2,363,904       True\n",
       "│    │    └─MLPBlock (mlp_block)                             [1, 50, 768]    [1, 50, 768]    4,723,968       True\n",
       "│    └─TransformerEncoderBlock (7)                           [1, 50, 768]    [1, 50, 768]    --              True\n",
       "│    │    └─MultiheadSelfAttentionBlock (msa_block)          [1, 50, 768]    [1, 50, 768]    2,363,904       True\n",
       "│    │    └─MLPBlock (mlp_block)                             [1, 50, 768]    [1, 50, 768]    4,723,968       True\n",
       "│    └─TransformerEncoderBlock (8)                           [1, 50, 768]    [1, 50, 768]    --              True\n",
       "│    │    └─MultiheadSelfAttentionBlock (msa_block)          [1, 50, 768]    [1, 50, 768]    2,363,904       True\n",
       "│    │    └─MLPBlock (mlp_block)                             [1, 50, 768]    [1, 50, 768]    4,723,968       True\n",
       "│    └─TransformerEncoderBlock (9)                           [1, 50, 768]    [1, 50, 768]    --              True\n",
       "│    │    └─MultiheadSelfAttentionBlock (msa_block)          [1, 50, 768]    [1, 50, 768]    2,363,904       True\n",
       "│    │    └─MLPBlock (mlp_block)                             [1, 50, 768]    [1, 50, 768]    4,723,968       True\n",
       "│    └─TransformerEncoderBlock (10)                          [1, 50, 768]    [1, 50, 768]    --              True\n",
       "│    │    └─MultiheadSelfAttentionBlock (msa_block)          [1, 50, 768]    [1, 50, 768]    2,363,904       True\n",
       "│    │    └─MLPBlock (mlp_block)                             [1, 50, 768]    [1, 50, 768]    4,723,968       True\n",
       "│    └─TransformerEncoderBlock (11)                          [1, 50, 768]    [1, 50, 768]    --              True\n",
       "│    │    └─MultiheadSelfAttentionBlock (msa_block)          [1, 50, 768]    [1, 50, 768]    2,363,904       True\n",
       "│    │    └─MLPBlock (mlp_block)                             [1, 50, 768]    [1, 50, 768]    4,723,968       True\n",
       "├─Sequential (classifier)                                    [1, 768]        [1, 7]          --              True\n",
       "│    └─LayerNorm (0)                                         [1, 768]        [1, 768]        1,536           True\n",
       "│    └─Linear (1)                                            [1, 768]        [1, 7]          5,383           True\n",
       "========================================================================================================================\n",
       "Total params: 110,143,815\n",
       "Trainable params: 110,143,815\n",
       "Non-trainable params: 0\n",
       "Total mult-adds (Units.GIGABYTES): 4.22\n",
       "========================================================================================================================\n",
       "Input size (MB): 0.60\n",
       "Forward/backward pass size (MB): 203.94\n",
       "Params size (MB): 327.18\n",
       "Estimated Total Size (MB): 531.72\n",
       "========================================================================================================================"
      ]
     },
     "execution_count": 20,
     "metadata": {},
     "output_type": "execute_result"
    }
   ],
   "source": [
    "from torchinfo import summary\n",
    "\n",
    "summary(\n",
    "    model=vit,\n",
    "    input_size=(1, 3, 224, 224),  # (batch_size, in_channels, img_size, img_size)\n",
    "    col_names=[\"input_size\", \"output_size\", \"num_params\", \"trainable\"],\n",
    "    col_width=15,\n",
    "    row_settings=[\"var_names\"],\n",
    ")"
   ]
  },
  {
   "cell_type": "code",
   "execution_count": 21,
   "id": "6458aec2-02bd-40f4-8bdb-b51df5722f42",
   "metadata": {},
   "outputs": [
    {
     "name": "stderr",
     "output_type": "stream",
     "text": [
      "/home/ilkom/.local/lib/python3.12/site-packages/tqdm/auto.py:21: TqdmWarning: IProgress not found. Please update jupyter and ipywidgets. See https://ipywidgets.readthedocs.io/en/stable/user_install.html\n",
      "  from .autonotebook import tqdm as notebook_tqdm\n"
     ]
    }
   ],
   "source": [
    "from transformers import TrainerCallback, TrainingArguments, Trainer\n",
    "\n",
    "# Callback untuk menyimpan model terbaik dan loss\n",
    "class SaveBestModelCallback(TrainerCallback):\n",
    "    def __init__(self, save_path, metric_name='eval_accuracy'):\n",
    "        super().__init__()\n",
    "        self.best_metric = -float('inf')  # Menyimpan metrik terbaik\n",
    "        self.metric_name = metric_name\n",
    "        self.save_path = save_path\n",
    "        self.train_losses = []  # Menyimpan training loss per epoch\n",
    "        self.eval_losses = []   # Menyimpan validation loss per epoch\n",
    "        self.accuracies = []  # Menyimpan accuracy per epoch\n",
    "        os.makedirs(self.save_path, exist_ok=True)\n",
    "    \n",
    "    def on_evaluate(self, args, state, control, metrics, **kwargs):\n",
    "        if 'eval_loss' in metrics:\n",
    "            self.eval_losses.append(metrics['eval_loss'])\n",
    "        if 'eval_accuracy' in metrics:\n",
    "            self.accuracies.append(metrics['eval_accuracy'])\n",
    "        # Periksa apakah metrik saat ini lebih baik dari yang terbaik\n",
    "        if self.metric_name in metrics and metrics[self.metric_name] > self.best_metric:\n",
    "            self.best_metric = metrics[self.metric_name]\n",
    "            model_path = os.path.join(self.save_path, \"backbone_best_model.pt\")\n",
    "            torch.save(kwargs['model'].state_dict(), model_path)\n",
    "            print(f\"Model terbaik disimpan di {model_path} dengan {self.metric_name}: {self.best_metric:.4f}\")\n",
    "    \n",
    "    def on_epoch_end(self, args, state, control, **kwargs):\n",
    "        # Ambil training loss dan accuracy dari log_history\n",
    "        if state.log_history:\n",
    "            if \"loss\" in state.log_history[-1]:\n",
    "                self.train_losses.append(state.log_history[-1][\"loss\"])\n",
    "\n",
    "        # Simpan grafik loss\n",
    "        loss_path = os.path.join(self.save_path, \"backbone_loss_plot.png\")\n",
    "        plt.figure(figsize=(10, 5))\n",
    "        plt.plot(range(1, len(self.train_losses) + 1), self.train_losses, label=\"Training Loss\", marker='o')\n",
    "        if self.eval_losses:\n",
    "            plt.plot(range(1, len(self.eval_losses) + 1), self.eval_losses, label=\"Validation Loss\", marker='o')\n",
    "        plt.title(\"Loss per Epoch\")\n",
    "        plt.xlabel(\"Epoch\")\n",
    "        plt.ylabel(\"Loss\")\n",
    "        plt.legend()\n",
    "        plt.grid(True)\n",
    "        plt.savefig(loss_path)\n",
    "        plt.close()\n",
    "        print(f\"Grafik loss disimpan untuk epoch {state.epoch}\")\n",
    "        \n",
    "        # Simpan grafik accuracy\n",
    "        accuracy_path = os.path.join(self.save_path, \"backbone_accuracy_plot.png\")\n",
    "        plt.figure(figsize=(10, 5))\n",
    "        plt.plot(range(1, len(self.accuracies) + 1), self.accuracies, label=\"Accuracy\", marker='o')\n",
    "        plt.title(\"Accuracy per Epoch\")\n",
    "        plt.xlabel(\"Epoch\")\n",
    "        plt.ylabel(\"Accuracy\")\n",
    "        plt.legend()\n",
    "        plt.grid(True)\n",
    "        plt.savefig(accuracy_path)\n",
    "        plt.close()\n",
    "        print(f\"Grafik accuracy disimpan untuk epoch {state.epoch}\")"
   ]
  },
  {
   "cell_type": "code",
   "execution_count": 22,
   "id": "f42ea7f9-82ee-4009-87db-4b889eb45b5f",
   "metadata": {},
   "outputs": [
    {
     "name": "stderr",
     "output_type": "stream",
     "text": [
      "/home/ilkom/.local/lib/python3.12/site-packages/transformers/training_args.py:1568: FutureWarning: `evaluation_strategy` is deprecated and will be removed in version 4.46 of 🤗 Transformers. Use `eval_strategy` instead\n",
      "  warnings.warn(\n"
     ]
    }
   ],
   "source": [
    "training_args = TrainingArguments(\n",
    "    output_dir=\"../Khaairi/Result\",\n",
    "    per_device_train_batch_size=16,\n",
    "    per_device_eval_batch_size=16,\n",
    "    evaluation_strategy=\"epoch\",\n",
    "    save_strategy=\"no\",\n",
    "    logging_steps=100,\n",
    "    num_train_epochs=1000,\n",
    "    learning_rate=3e-4,\n",
    "    remove_unused_columns=False,\n",
    ")"
   ]
  },
  {
   "cell_type": "code",
   "execution_count": 23,
   "id": "0f17a395-89c7-446b-b249-bf0d453b5d81",
   "metadata": {},
   "outputs": [],
   "source": [
    "def collate_fn(batch):\n",
    "    pixel_values = torch.stack([x[0] for x in batch])  # Mengambil pixel_values (index 0)\n",
    "    labels = torch.tensor([x[1] for x in batch])       # Mengambil labels (index 1)\n",
    "    return {\n",
    "        'pixel_values': pixel_values,\n",
    "        'labels': labels\n",
    "    }"
   ]
  },
  {
   "cell_type": "code",
   "execution_count": 24,
   "id": "2f34f363-516a-4e49-a07d-0307cd147f48",
   "metadata": {},
   "outputs": [],
   "source": [
    "import evaluate\n",
    "\n",
    "# Memuat metrik\n",
    "accuracy = evaluate.load('accuracy')\n",
    "f1 = evaluate.load('f1')\n",
    "\n",
    "# Fungsi untuk menghitung metrik\n",
    "def compute_metrics(eval_preds):\n",
    "    logits, labels = eval_preds\n",
    "    predictions = np.argmax(logits, axis=1)\n",
    "\n",
    "    # Menghitung accuracy\n",
    "    accuracy_score = accuracy.compute(predictions=predictions, references=labels)\n",
    "\n",
    "    # Menghitung F1 score\n",
    "    f1_score = f1.compute(predictions=predictions, references=labels, average='weighted')\n",
    "\n",
    "    # Menggabungkan kedua metrik\n",
    "    metrics = {\n",
    "        'accuracy': accuracy_score['accuracy'],\n",
    "        'f1': f1_score['f1']\n",
    "    }\n",
    "\n",
    "    return metrics"
   ]
  },
  {
   "cell_type": "code",
   "execution_count": 25,
   "id": "3bf7dc32-a7e8-4a2d-963a-ee239f6787a8",
   "metadata": {},
   "outputs": [],
   "source": [
    "trainer = Trainer(\n",
    "    model=vit,\n",
    "    args=training_args,\n",
    "    data_collator=collate_fn,\n",
    "    compute_metrics=compute_metrics,\n",
    "    train_dataset=train_dataset,\n",
    "    eval_dataset=val_dataset,\n",
    "    callbacks=[SaveBestModelCallback(save_path = '../Khaairi/Result')]\n",
    ")"
   ]
  },
  {
   "cell_type": "code",
   "execution_count": 26,
   "id": "bdae27e3-91d8-4296-80c9-1a3f0432c539",
   "metadata": {},
   "outputs": [
    {
     "name": "stderr",
     "output_type": "stream",
     "text": [
      "/home/ilkom/.local/lib/python3.12/site-packages/torch/nn/parallel/_functions.py:71: UserWarning: Was asked to gather along dimension 0, but all input tensors were scalars; will instead unsqueeze and return a vector.\n",
      "  warnings.warn(\n"
     ]
    },
    {
     "data": {
      "text/html": [
       "\n",
       "    <div>\n",
       "      \n",
       "      <progress value='45334' max='843000' style='width:300px; height:20px; vertical-align: middle;'></progress>\n",
       "      [ 45334/843000 9:26:53 < 166:14:56, 1.33 it/s, Epoch 53.78/1000]\n",
       "    </div>\n",
       "    <table border=\"1\" class=\"dataframe\">\n",
       "  <thead>\n",
       " <tr style=\"text-align: left;\">\n",
       "      <th>Epoch</th>\n",
       "      <th>Training Loss</th>\n",
       "      <th>Validation Loss</th>\n",
       "      <th>Accuracy</th>\n",
       "      <th>F1</th>\n",
       "    </tr>\n",
       "  </thead>\n",
       "  <tbody>\n",
       "    <tr>\n",
       "      <td>1</td>\n",
       "      <td>1.400900</td>\n",
       "      <td>1.308967</td>\n",
       "      <td>0.490150</td>\n",
       "      <td>0.437827</td>\n",
       "    </tr>\n",
       "    <tr>\n",
       "      <td>2</td>\n",
       "      <td>1.331000</td>\n",
       "      <td>1.289938</td>\n",
       "      <td>0.512187</td>\n",
       "      <td>0.486472</td>\n",
       "    </tr>\n",
       "    <tr>\n",
       "      <td>3</td>\n",
       "      <td>1.294900</td>\n",
       "      <td>1.273205</td>\n",
       "      <td>0.510851</td>\n",
       "      <td>0.484427</td>\n",
       "    </tr>\n",
       "    <tr>\n",
       "      <td>4</td>\n",
       "      <td>1.245200</td>\n",
       "      <td>1.413310</td>\n",
       "      <td>0.456093</td>\n",
       "      <td>0.453531</td>\n",
       "    </tr>\n",
       "    <tr>\n",
       "      <td>5</td>\n",
       "      <td>1.235500</td>\n",
       "      <td>1.260541</td>\n",
       "      <td>0.517195</td>\n",
       "      <td>0.461561</td>\n",
       "    </tr>\n",
       "    <tr>\n",
       "      <td>6</td>\n",
       "      <td>1.218600</td>\n",
       "      <td>1.233751</td>\n",
       "      <td>0.531886</td>\n",
       "      <td>0.485172</td>\n",
       "    </tr>\n",
       "    <tr>\n",
       "      <td>7</td>\n",
       "      <td>1.145800</td>\n",
       "      <td>1.218453</td>\n",
       "      <td>0.526544</td>\n",
       "      <td>0.499824</td>\n",
       "    </tr>\n",
       "    <tr>\n",
       "      <td>8</td>\n",
       "      <td>1.159500</td>\n",
       "      <td>1.172582</td>\n",
       "      <td>0.562270</td>\n",
       "      <td>0.541316</td>\n",
       "    </tr>\n",
       "    <tr>\n",
       "      <td>9</td>\n",
       "      <td>1.144000</td>\n",
       "      <td>1.176829</td>\n",
       "      <td>0.549583</td>\n",
       "      <td>0.535017</td>\n",
       "    </tr>\n",
       "    <tr>\n",
       "      <td>10</td>\n",
       "      <td>1.131800</td>\n",
       "      <td>1.239635</td>\n",
       "      <td>0.525876</td>\n",
       "      <td>0.514269</td>\n",
       "    </tr>\n",
       "    <tr>\n",
       "      <td>11</td>\n",
       "      <td>1.148900</td>\n",
       "      <td>1.186341</td>\n",
       "      <td>0.536227</td>\n",
       "      <td>0.527648</td>\n",
       "    </tr>\n",
       "    <tr>\n",
       "      <td>12</td>\n",
       "      <td>1.131900</td>\n",
       "      <td>1.163062</td>\n",
       "      <td>0.554925</td>\n",
       "      <td>0.525503</td>\n",
       "    </tr>\n",
       "    <tr>\n",
       "      <td>13</td>\n",
       "      <td>1.075400</td>\n",
       "      <td>1.123596</td>\n",
       "      <td>0.566277</td>\n",
       "      <td>0.554655</td>\n",
       "    </tr>\n",
       "    <tr>\n",
       "      <td>14</td>\n",
       "      <td>1.078500</td>\n",
       "      <td>1.163834</td>\n",
       "      <td>0.557930</td>\n",
       "      <td>0.530389</td>\n",
       "    </tr>\n",
       "    <tr>\n",
       "      <td>15</td>\n",
       "      <td>1.010700</td>\n",
       "      <td>1.126781</td>\n",
       "      <td>0.562938</td>\n",
       "      <td>0.547495</td>\n",
       "    </tr>\n",
       "    <tr>\n",
       "      <td>16</td>\n",
       "      <td>1.032300</td>\n",
       "      <td>1.108881</td>\n",
       "      <td>0.582638</td>\n",
       "      <td>0.562741</td>\n",
       "    </tr>\n",
       "    <tr>\n",
       "      <td>17</td>\n",
       "      <td>1.009100</td>\n",
       "      <td>1.106935</td>\n",
       "      <td>0.576294</td>\n",
       "      <td>0.566875</td>\n",
       "    </tr>\n",
       "    <tr>\n",
       "      <td>18</td>\n",
       "      <td>1.026000</td>\n",
       "      <td>1.151717</td>\n",
       "      <td>0.564274</td>\n",
       "      <td>0.561353</td>\n",
       "    </tr>\n",
       "    <tr>\n",
       "      <td>19</td>\n",
       "      <td>0.965400</td>\n",
       "      <td>1.167607</td>\n",
       "      <td>0.553923</td>\n",
       "      <td>0.540233</td>\n",
       "    </tr>\n",
       "    <tr>\n",
       "      <td>20</td>\n",
       "      <td>0.982400</td>\n",
       "      <td>1.095883</td>\n",
       "      <td>0.580634</td>\n",
       "      <td>0.575996</td>\n",
       "    </tr>\n",
       "    <tr>\n",
       "      <td>21</td>\n",
       "      <td>0.950300</td>\n",
       "      <td>1.159619</td>\n",
       "      <td>0.569950</td>\n",
       "      <td>0.554739</td>\n",
       "    </tr>\n",
       "    <tr>\n",
       "      <td>22</td>\n",
       "      <td>0.968200</td>\n",
       "      <td>1.153680</td>\n",
       "      <td>0.563940</td>\n",
       "      <td>0.556641</td>\n",
       "    </tr>\n",
       "    <tr>\n",
       "      <td>23</td>\n",
       "      <td>0.918300</td>\n",
       "      <td>1.097918</td>\n",
       "      <td>0.588982</td>\n",
       "      <td>0.582803</td>\n",
       "    </tr>\n",
       "    <tr>\n",
       "      <td>24</td>\n",
       "      <td>0.902000</td>\n",
       "      <td>1.090801</td>\n",
       "      <td>0.602003</td>\n",
       "      <td>0.586962</td>\n",
       "    </tr>\n",
       "    <tr>\n",
       "      <td>25</td>\n",
       "      <td>0.900700</td>\n",
       "      <td>1.142121</td>\n",
       "      <td>0.578965</td>\n",
       "      <td>0.572776</td>\n",
       "    </tr>\n",
       "    <tr>\n",
       "      <td>26</td>\n",
       "      <td>0.875200</td>\n",
       "      <td>1.088033</td>\n",
       "      <td>0.588982</td>\n",
       "      <td>0.593177</td>\n",
       "    </tr>\n",
       "    <tr>\n",
       "      <td>27</td>\n",
       "      <td>0.896200</td>\n",
       "      <td>1.105915</td>\n",
       "      <td>0.586978</td>\n",
       "      <td>0.569629</td>\n",
       "    </tr>\n",
       "    <tr>\n",
       "      <td>28</td>\n",
       "      <td>0.893000</td>\n",
       "      <td>1.086811</td>\n",
       "      <td>0.602003</td>\n",
       "      <td>0.598344</td>\n",
       "    </tr>\n",
       "    <tr>\n",
       "      <td>29</td>\n",
       "      <td>0.822900</td>\n",
       "      <td>1.093960</td>\n",
       "      <td>0.593656</td>\n",
       "      <td>0.590414</td>\n",
       "    </tr>\n",
       "    <tr>\n",
       "      <td>30</td>\n",
       "      <td>0.775800</td>\n",
       "      <td>1.108622</td>\n",
       "      <td>0.603005</td>\n",
       "      <td>0.602099</td>\n",
       "    </tr>\n",
       "    <tr>\n",
       "      <td>31</td>\n",
       "      <td>0.732900</td>\n",
       "      <td>1.185999</td>\n",
       "      <td>0.585977</td>\n",
       "      <td>0.583736</td>\n",
       "    </tr>\n",
       "    <tr>\n",
       "      <td>32</td>\n",
       "      <td>0.729400</td>\n",
       "      <td>1.190084</td>\n",
       "      <td>0.590985</td>\n",
       "      <td>0.588526</td>\n",
       "    </tr>\n",
       "    <tr>\n",
       "      <td>33</td>\n",
       "      <td>0.682400</td>\n",
       "      <td>1.213425</td>\n",
       "      <td>0.598331</td>\n",
       "      <td>0.596323</td>\n",
       "    </tr>\n",
       "    <tr>\n",
       "      <td>34</td>\n",
       "      <td>0.639500</td>\n",
       "      <td>1.303611</td>\n",
       "      <td>0.589649</td>\n",
       "      <td>0.575504</td>\n",
       "    </tr>\n",
       "    <tr>\n",
       "      <td>35</td>\n",
       "      <td>0.593700</td>\n",
       "      <td>1.282396</td>\n",
       "      <td>0.587312</td>\n",
       "      <td>0.584522</td>\n",
       "    </tr>\n",
       "    <tr>\n",
       "      <td>36</td>\n",
       "      <td>0.597100</td>\n",
       "      <td>1.389789</td>\n",
       "      <td>0.600668</td>\n",
       "      <td>0.602491</td>\n",
       "    </tr>\n",
       "    <tr>\n",
       "      <td>37</td>\n",
       "      <td>0.537800</td>\n",
       "      <td>1.319219</td>\n",
       "      <td>0.594324</td>\n",
       "      <td>0.593210</td>\n",
       "    </tr>\n",
       "    <tr>\n",
       "      <td>38</td>\n",
       "      <td>0.521000</td>\n",
       "      <td>1.545348</td>\n",
       "      <td>0.585977</td>\n",
       "      <td>0.584553</td>\n",
       "    </tr>\n",
       "    <tr>\n",
       "      <td>39</td>\n",
       "      <td>0.466900</td>\n",
       "      <td>1.373775</td>\n",
       "      <td>0.594658</td>\n",
       "      <td>0.590879</td>\n",
       "    </tr>\n",
       "    <tr>\n",
       "      <td>40</td>\n",
       "      <td>0.488600</td>\n",
       "      <td>1.432274</td>\n",
       "      <td>0.590651</td>\n",
       "      <td>0.589786</td>\n",
       "    </tr>\n",
       "    <tr>\n",
       "      <td>41</td>\n",
       "      <td>0.430200</td>\n",
       "      <td>1.573109</td>\n",
       "      <td>0.576962</td>\n",
       "      <td>0.574482</td>\n",
       "    </tr>\n",
       "    <tr>\n",
       "      <td>42</td>\n",
       "      <td>0.405900</td>\n",
       "      <td>1.605800</td>\n",
       "      <td>0.583306</td>\n",
       "      <td>0.583403</td>\n",
       "    </tr>\n",
       "    <tr>\n",
       "      <td>43</td>\n",
       "      <td>0.422300</td>\n",
       "      <td>1.563803</td>\n",
       "      <td>0.580634</td>\n",
       "      <td>0.582202</td>\n",
       "    </tr>\n",
       "    <tr>\n",
       "      <td>44</td>\n",
       "      <td>0.400000</td>\n",
       "      <td>1.606514</td>\n",
       "      <td>0.576628</td>\n",
       "      <td>0.578604</td>\n",
       "    </tr>\n",
       "    <tr>\n",
       "      <td>45</td>\n",
       "      <td>0.373600</td>\n",
       "      <td>1.746108</td>\n",
       "      <td>0.563606</td>\n",
       "      <td>0.567014</td>\n",
       "    </tr>\n",
       "    <tr>\n",
       "      <td>46</td>\n",
       "      <td>0.319400</td>\n",
       "      <td>1.679264</td>\n",
       "      <td>0.584975</td>\n",
       "      <td>0.589113</td>\n",
       "    </tr>\n",
       "    <tr>\n",
       "      <td>47</td>\n",
       "      <td>0.346100</td>\n",
       "      <td>1.722395</td>\n",
       "      <td>0.579299</td>\n",
       "      <td>0.583609</td>\n",
       "    </tr>\n",
       "    <tr>\n",
       "      <td>48</td>\n",
       "      <td>0.320700</td>\n",
       "      <td>1.768825</td>\n",
       "      <td>0.587312</td>\n",
       "      <td>0.588913</td>\n",
       "    </tr>\n",
       "    <tr>\n",
       "      <td>49</td>\n",
       "      <td>0.353000</td>\n",
       "      <td>1.629342</td>\n",
       "      <td>0.589649</td>\n",
       "      <td>0.585239</td>\n",
       "    </tr>\n",
       "    <tr>\n",
       "      <td>50</td>\n",
       "      <td>0.337700</td>\n",
       "      <td>1.742557</td>\n",
       "      <td>0.563940</td>\n",
       "      <td>0.570499</td>\n",
       "    </tr>\n",
       "    <tr>\n",
       "      <td>51</td>\n",
       "      <td>0.288900</td>\n",
       "      <td>1.945767</td>\n",
       "      <td>0.578965</td>\n",
       "      <td>0.575869</td>\n",
       "    </tr>\n",
       "    <tr>\n",
       "      <td>52</td>\n",
       "      <td>0.266600</td>\n",
       "      <td>1.932954</td>\n",
       "      <td>0.586644</td>\n",
       "      <td>0.586542</td>\n",
       "    </tr>\n",
       "    <tr>\n",
       "      <td>53</td>\n",
       "      <td>0.221800</td>\n",
       "      <td>1.972788</td>\n",
       "      <td>0.591647</td>\n",
       "      <td>0.593557</td>\n",
       "    </tr>\n",
       "  </tbody>\n",
       "</table><p>\n",
       "    <div>\n",
       "      \n",
       "      <progress value='104' max='104' style='width:300px; height:20px; vertical-align: middle;'></progress>\n",
       "      [104/104 00:33]\n",
       "    </div>\n",
       "    "
      ],
      "text/plain": [
       "<IPython.core.display.HTML object>"
      ]
     },
     "metadata": {},
     "output_type": "display_data"
    },
    {
     "name": "stdout",
     "output_type": "stream",
     "text": [
      "Grafik loss disimpan untuk epoch 1.0\n",
      "Grafik accuracy disimpan untuk epoch 1.0\n",
      "Model terbaik disimpan di ../Khaairi/Result/backbone_best_model.pt dengan eval_accuracy: 0.4902\n"
     ]
    },
    {
     "name": "stderr",
     "output_type": "stream",
     "text": [
      "/home/ilkom/.local/lib/python3.12/site-packages/torch/nn/parallel/_functions.py:71: UserWarning: Was asked to gather along dimension 0, but all input tensors were scalars; will instead unsqueeze and return a vector.\n",
      "  warnings.warn(\n"
     ]
    },
    {
     "name": "stdout",
     "output_type": "stream",
     "text": [
      "Grafik loss disimpan untuk epoch 2.0\n",
      "Grafik accuracy disimpan untuk epoch 2.0\n",
      "Model terbaik disimpan di ../Khaairi/Result/backbone_best_model.pt dengan eval_accuracy: 0.5122\n"
     ]
    },
    {
     "name": "stderr",
     "output_type": "stream",
     "text": [
      "/home/ilkom/.local/lib/python3.12/site-packages/torch/nn/parallel/_functions.py:71: UserWarning: Was asked to gather along dimension 0, but all input tensors were scalars; will instead unsqueeze and return a vector.\n",
      "  warnings.warn(\n"
     ]
    },
    {
     "name": "stdout",
     "output_type": "stream",
     "text": [
      "Grafik loss disimpan untuk epoch 3.0\n",
      "Grafik accuracy disimpan untuk epoch 3.0\n"
     ]
    },
    {
     "name": "stderr",
     "output_type": "stream",
     "text": [
      "/home/ilkom/.local/lib/python3.12/site-packages/torch/nn/parallel/_functions.py:71: UserWarning: Was asked to gather along dimension 0, but all input tensors were scalars; will instead unsqueeze and return a vector.\n",
      "  warnings.warn(\n"
     ]
    },
    {
     "name": "stdout",
     "output_type": "stream",
     "text": [
      "Grafik loss disimpan untuk epoch 4.0\n",
      "Grafik accuracy disimpan untuk epoch 4.0\n"
     ]
    },
    {
     "name": "stderr",
     "output_type": "stream",
     "text": [
      "/home/ilkom/.local/lib/python3.12/site-packages/torch/nn/parallel/_functions.py:71: UserWarning: Was asked to gather along dimension 0, but all input tensors were scalars; will instead unsqueeze and return a vector.\n",
      "  warnings.warn(\n"
     ]
    },
    {
     "name": "stdout",
     "output_type": "stream",
     "text": [
      "Grafik loss disimpan untuk epoch 5.0\n",
      "Grafik accuracy disimpan untuk epoch 5.0\n",
      "Model terbaik disimpan di ../Khaairi/Result/backbone_best_model.pt dengan eval_accuracy: 0.5172\n"
     ]
    },
    {
     "name": "stderr",
     "output_type": "stream",
     "text": [
      "/home/ilkom/.local/lib/python3.12/site-packages/torch/nn/parallel/_functions.py:71: UserWarning: Was asked to gather along dimension 0, but all input tensors were scalars; will instead unsqueeze and return a vector.\n",
      "  warnings.warn(\n"
     ]
    },
    {
     "name": "stdout",
     "output_type": "stream",
     "text": [
      "Grafik loss disimpan untuk epoch 6.0\n",
      "Grafik accuracy disimpan untuk epoch 6.0\n",
      "Model terbaik disimpan di ../Khaairi/Result/backbone_best_model.pt dengan eval_accuracy: 0.5319\n"
     ]
    },
    {
     "name": "stderr",
     "output_type": "stream",
     "text": [
      "/home/ilkom/.local/lib/python3.12/site-packages/torch/nn/parallel/_functions.py:71: UserWarning: Was asked to gather along dimension 0, but all input tensors were scalars; will instead unsqueeze and return a vector.\n",
      "  warnings.warn(\n"
     ]
    },
    {
     "name": "stdout",
     "output_type": "stream",
     "text": [
      "Grafik loss disimpan untuk epoch 7.0\n",
      "Grafik accuracy disimpan untuk epoch 7.0\n"
     ]
    },
    {
     "name": "stderr",
     "output_type": "stream",
     "text": [
      "/home/ilkom/.local/lib/python3.12/site-packages/torch/nn/parallel/_functions.py:71: UserWarning: Was asked to gather along dimension 0, but all input tensors were scalars; will instead unsqueeze and return a vector.\n",
      "  warnings.warn(\n"
     ]
    },
    {
     "name": "stdout",
     "output_type": "stream",
     "text": [
      "Grafik loss disimpan untuk epoch 8.0\n",
      "Grafik accuracy disimpan untuk epoch 8.0\n",
      "Model terbaik disimpan di ../Khaairi/Result/backbone_best_model.pt dengan eval_accuracy: 0.5623\n"
     ]
    },
    {
     "name": "stderr",
     "output_type": "stream",
     "text": [
      "/home/ilkom/.local/lib/python3.12/site-packages/torch/nn/parallel/_functions.py:71: UserWarning: Was asked to gather along dimension 0, but all input tensors were scalars; will instead unsqueeze and return a vector.\n",
      "  warnings.warn(\n"
     ]
    },
    {
     "name": "stdout",
     "output_type": "stream",
     "text": [
      "Grafik loss disimpan untuk epoch 10.0\n",
      "Grafik accuracy disimpan untuk epoch 10.0\n"
     ]
    },
    {
     "name": "stderr",
     "output_type": "stream",
     "text": [
      "/home/ilkom/.local/lib/python3.12/site-packages/torch/nn/parallel/_functions.py:71: UserWarning: Was asked to gather along dimension 0, but all input tensors were scalars; will instead unsqueeze and return a vector.\n",
      "  warnings.warn(\n"
     ]
    },
    {
     "name": "stdout",
     "output_type": "stream",
     "text": [
      "Grafik loss disimpan untuk epoch 11.0\n",
      "Grafik accuracy disimpan untuk epoch 11.0\n"
     ]
    },
    {
     "name": "stderr",
     "output_type": "stream",
     "text": [
      "/home/ilkom/.local/lib/python3.12/site-packages/torch/nn/parallel/_functions.py:71: UserWarning: Was asked to gather along dimension 0, but all input tensors were scalars; will instead unsqueeze and return a vector.\n",
      "  warnings.warn(\n"
     ]
    },
    {
     "name": "stdout",
     "output_type": "stream",
     "text": [
      "Grafik loss disimpan untuk epoch 12.0\n",
      "Grafik accuracy disimpan untuk epoch 12.0\n"
     ]
    },
    {
     "name": "stderr",
     "output_type": "stream",
     "text": [
      "/home/ilkom/.local/lib/python3.12/site-packages/torch/nn/parallel/_functions.py:71: UserWarning: Was asked to gather along dimension 0, but all input tensors were scalars; will instead unsqueeze and return a vector.\n",
      "  warnings.warn(\n"
     ]
    },
    {
     "name": "stdout",
     "output_type": "stream",
     "text": [
      "Grafik loss disimpan untuk epoch 13.0\n",
      "Grafik accuracy disimpan untuk epoch 13.0\n",
      "Model terbaik disimpan di ../Khaairi/Result/backbone_best_model.pt dengan eval_accuracy: 0.5663\n"
     ]
    },
    {
     "name": "stderr",
     "output_type": "stream",
     "text": [
      "/home/ilkom/.local/lib/python3.12/site-packages/torch/nn/parallel/_functions.py:71: UserWarning: Was asked to gather along dimension 0, but all input tensors were scalars; will instead unsqueeze and return a vector.\n",
      "  warnings.warn(\n"
     ]
    },
    {
     "name": "stdout",
     "output_type": "stream",
     "text": [
      "Grafik loss disimpan untuk epoch 14.0\n",
      "Grafik accuracy disimpan untuk epoch 14.0\n"
     ]
    },
    {
     "name": "stderr",
     "output_type": "stream",
     "text": [
      "/home/ilkom/.local/lib/python3.12/site-packages/torch/nn/parallel/_functions.py:71: UserWarning: Was asked to gather along dimension 0, but all input tensors were scalars; will instead unsqueeze and return a vector.\n",
      "  warnings.warn(\n"
     ]
    },
    {
     "name": "stdout",
     "output_type": "stream",
     "text": [
      "Grafik loss disimpan untuk epoch 15.0\n",
      "Grafik accuracy disimpan untuk epoch 15.0\n"
     ]
    },
    {
     "name": "stderr",
     "output_type": "stream",
     "text": [
      "/home/ilkom/.local/lib/python3.12/site-packages/torch/nn/parallel/_functions.py:71: UserWarning: Was asked to gather along dimension 0, but all input tensors were scalars; will instead unsqueeze and return a vector.\n",
      "  warnings.warn(\n"
     ]
    },
    {
     "name": "stdout",
     "output_type": "stream",
     "text": [
      "Grafik loss disimpan untuk epoch 16.0\n",
      "Grafik accuracy disimpan untuk epoch 16.0\n",
      "Model terbaik disimpan di ../Khaairi/Result/backbone_best_model.pt dengan eval_accuracy: 0.5826\n"
     ]
    },
    {
     "name": "stderr",
     "output_type": "stream",
     "text": [
      "/home/ilkom/.local/lib/python3.12/site-packages/torch/nn/parallel/_functions.py:71: UserWarning: Was asked to gather along dimension 0, but all input tensors were scalars; will instead unsqueeze and return a vector.\n",
      "  warnings.warn(\n"
     ]
    },
    {
     "name": "stdout",
     "output_type": "stream",
     "text": [
      "Grafik loss disimpan untuk epoch 17.0\n",
      "Grafik accuracy disimpan untuk epoch 17.0\n"
     ]
    },
    {
     "name": "stderr",
     "output_type": "stream",
     "text": [
      "/home/ilkom/.local/lib/python3.12/site-packages/torch/nn/parallel/_functions.py:71: UserWarning: Was asked to gather along dimension 0, but all input tensors were scalars; will instead unsqueeze and return a vector.\n",
      "  warnings.warn(\n"
     ]
    },
    {
     "name": "stdout",
     "output_type": "stream",
     "text": [
      "Grafik loss disimpan untuk epoch 18.0\n",
      "Grafik accuracy disimpan untuk epoch 18.0\n"
     ]
    },
    {
     "name": "stderr",
     "output_type": "stream",
     "text": [
      "/home/ilkom/.local/lib/python3.12/site-packages/torch/nn/parallel/_functions.py:71: UserWarning: Was asked to gather along dimension 0, but all input tensors were scalars; will instead unsqueeze and return a vector.\n",
      "  warnings.warn(\n"
     ]
    },
    {
     "name": "stdout",
     "output_type": "stream",
     "text": [
      "Grafik loss disimpan untuk epoch 19.0\n",
      "Grafik accuracy disimpan untuk epoch 19.0\n"
     ]
    },
    {
     "name": "stderr",
     "output_type": "stream",
     "text": [
      "/home/ilkom/.local/lib/python3.12/site-packages/torch/nn/parallel/_functions.py:71: UserWarning: Was asked to gather along dimension 0, but all input tensors were scalars; will instead unsqueeze and return a vector.\n",
      "  warnings.warn(\n"
     ]
    },
    {
     "name": "stdout",
     "output_type": "stream",
     "text": [
      "Grafik loss disimpan untuk epoch 20.0\n",
      "Grafik accuracy disimpan untuk epoch 20.0\n"
     ]
    },
    {
     "name": "stderr",
     "output_type": "stream",
     "text": [
      "/home/ilkom/.local/lib/python3.12/site-packages/torch/nn/parallel/_functions.py:71: UserWarning: Was asked to gather along dimension 0, but all input tensors were scalars; will instead unsqueeze and return a vector.\n",
      "  warnings.warn(\n"
     ]
    },
    {
     "name": "stdout",
     "output_type": "stream",
     "text": [
      "Grafik loss disimpan untuk epoch 21.0\n",
      "Grafik accuracy disimpan untuk epoch 21.0\n"
     ]
    },
    {
     "name": "stderr",
     "output_type": "stream",
     "text": [
      "/home/ilkom/.local/lib/python3.12/site-packages/torch/nn/parallel/_functions.py:71: UserWarning: Was asked to gather along dimension 0, but all input tensors were scalars; will instead unsqueeze and return a vector.\n",
      "  warnings.warn(\n"
     ]
    },
    {
     "name": "stdout",
     "output_type": "stream",
     "text": [
      "Grafik loss disimpan untuk epoch 22.0\n",
      "Grafik accuracy disimpan untuk epoch 22.0\n"
     ]
    },
    {
     "name": "stderr",
     "output_type": "stream",
     "text": [
      "/home/ilkom/.local/lib/python3.12/site-packages/torch/nn/parallel/_functions.py:71: UserWarning: Was asked to gather along dimension 0, but all input tensors were scalars; will instead unsqueeze and return a vector.\n",
      "  warnings.warn(\n"
     ]
    },
    {
     "name": "stdout",
     "output_type": "stream",
     "text": [
      "Grafik loss disimpan untuk epoch 23.0\n",
      "Grafik accuracy disimpan untuk epoch 23.0\n",
      "Model terbaik disimpan di ../Khaairi/Result/backbone_best_model.pt dengan eval_accuracy: 0.5890\n"
     ]
    },
    {
     "name": "stderr",
     "output_type": "stream",
     "text": [
      "/home/ilkom/.local/lib/python3.12/site-packages/torch/nn/parallel/_functions.py:71: UserWarning: Was asked to gather along dimension 0, but all input tensors were scalars; will instead unsqueeze and return a vector.\n",
      "  warnings.warn(\n"
     ]
    },
    {
     "name": "stdout",
     "output_type": "stream",
     "text": [
      "Grafik loss disimpan untuk epoch 24.0\n",
      "Grafik accuracy disimpan untuk epoch 24.0\n",
      "Model terbaik disimpan di ../Khaairi/Result/backbone_best_model.pt dengan eval_accuracy: 0.6020\n"
     ]
    },
    {
     "name": "stderr",
     "output_type": "stream",
     "text": [
      "/home/ilkom/.local/lib/python3.12/site-packages/torch/nn/parallel/_functions.py:71: UserWarning: Was asked to gather along dimension 0, but all input tensors were scalars; will instead unsqueeze and return a vector.\n",
      "  warnings.warn(\n"
     ]
    },
    {
     "name": "stdout",
     "output_type": "stream",
     "text": [
      "Grafik loss disimpan untuk epoch 25.0\n",
      "Grafik accuracy disimpan untuk epoch 25.0\n"
     ]
    },
    {
     "name": "stderr",
     "output_type": "stream",
     "text": [
      "/home/ilkom/.local/lib/python3.12/site-packages/torch/nn/parallel/_functions.py:71: UserWarning: Was asked to gather along dimension 0, but all input tensors were scalars; will instead unsqueeze and return a vector.\n",
      "  warnings.warn(\n"
     ]
    },
    {
     "name": "stdout",
     "output_type": "stream",
     "text": [
      "Grafik loss disimpan untuk epoch 26.0\n",
      "Grafik accuracy disimpan untuk epoch 26.0\n"
     ]
    },
    {
     "name": "stderr",
     "output_type": "stream",
     "text": [
      "/home/ilkom/.local/lib/python3.12/site-packages/torch/nn/parallel/_functions.py:71: UserWarning: Was asked to gather along dimension 0, but all input tensors were scalars; will instead unsqueeze and return a vector.\n",
      "  warnings.warn(\n"
     ]
    },
    {
     "name": "stdout",
     "output_type": "stream",
     "text": [
      "Grafik loss disimpan untuk epoch 27.0\n",
      "Grafik accuracy disimpan untuk epoch 27.0\n"
     ]
    },
    {
     "name": "stderr",
     "output_type": "stream",
     "text": [
      "/home/ilkom/.local/lib/python3.12/site-packages/torch/nn/parallel/_functions.py:71: UserWarning: Was asked to gather along dimension 0, but all input tensors were scalars; will instead unsqueeze and return a vector.\n",
      "  warnings.warn(\n"
     ]
    },
    {
     "name": "stdout",
     "output_type": "stream",
     "text": [
      "Grafik loss disimpan untuk epoch 28.0\n",
      "Grafik accuracy disimpan untuk epoch 28.0\n"
     ]
    },
    {
     "name": "stderr",
     "output_type": "stream",
     "text": [
      "/home/ilkom/.local/lib/python3.12/site-packages/torch/nn/parallel/_functions.py:71: UserWarning: Was asked to gather along dimension 0, but all input tensors were scalars; will instead unsqueeze and return a vector.\n",
      "  warnings.warn(\n"
     ]
    },
    {
     "name": "stdout",
     "output_type": "stream",
     "text": [
      "Grafik loss disimpan untuk epoch 29.0\n",
      "Grafik accuracy disimpan untuk epoch 29.0\n"
     ]
    },
    {
     "name": "stderr",
     "output_type": "stream",
     "text": [
      "/home/ilkom/.local/lib/python3.12/site-packages/torch/nn/parallel/_functions.py:71: UserWarning: Was asked to gather along dimension 0, but all input tensors were scalars; will instead unsqueeze and return a vector.\n",
      "  warnings.warn(\n"
     ]
    },
    {
     "name": "stdout",
     "output_type": "stream",
     "text": [
      "Grafik loss disimpan untuk epoch 30.0\n",
      "Grafik accuracy disimpan untuk epoch 30.0\n",
      "Model terbaik disimpan di ../Khaairi/Result/backbone_best_model.pt dengan eval_accuracy: 0.6030\n"
     ]
    },
    {
     "name": "stderr",
     "output_type": "stream",
     "text": [
      "/home/ilkom/.local/lib/python3.12/site-packages/torch/nn/parallel/_functions.py:71: UserWarning: Was asked to gather along dimension 0, but all input tensors were scalars; will instead unsqueeze and return a vector.\n",
      "  warnings.warn(\n"
     ]
    },
    {
     "name": "stdout",
     "output_type": "stream",
     "text": [
      "Grafik loss disimpan untuk epoch 31.0\n",
      "Grafik accuracy disimpan untuk epoch 31.0\n"
     ]
    },
    {
     "name": "stderr",
     "output_type": "stream",
     "text": [
      "/home/ilkom/.local/lib/python3.12/site-packages/torch/nn/parallel/_functions.py:71: UserWarning: Was asked to gather along dimension 0, but all input tensors were scalars; will instead unsqueeze and return a vector.\n",
      "  warnings.warn(\n"
     ]
    },
    {
     "name": "stdout",
     "output_type": "stream",
     "text": [
      "Grafik loss disimpan untuk epoch 32.0\n",
      "Grafik accuracy disimpan untuk epoch 32.0\n"
     ]
    },
    {
     "name": "stderr",
     "output_type": "stream",
     "text": [
      "/home/ilkom/.local/lib/python3.12/site-packages/torch/nn/parallel/_functions.py:71: UserWarning: Was asked to gather along dimension 0, but all input tensors were scalars; will instead unsqueeze and return a vector.\n",
      "  warnings.warn(\n"
     ]
    },
    {
     "name": "stdout",
     "output_type": "stream",
     "text": [
      "Grafik loss disimpan untuk epoch 33.0\n",
      "Grafik accuracy disimpan untuk epoch 33.0\n"
     ]
    },
    {
     "name": "stderr",
     "output_type": "stream",
     "text": [
      "/home/ilkom/.local/lib/python3.12/site-packages/torch/nn/parallel/_functions.py:71: UserWarning: Was asked to gather along dimension 0, but all input tensors were scalars; will instead unsqueeze and return a vector.\n",
      "  warnings.warn(\n"
     ]
    },
    {
     "name": "stdout",
     "output_type": "stream",
     "text": [
      "Grafik loss disimpan untuk epoch 34.0\n",
      "Grafik accuracy disimpan untuk epoch 34.0\n"
     ]
    },
    {
     "name": "stderr",
     "output_type": "stream",
     "text": [
      "/home/ilkom/.local/lib/python3.12/site-packages/torch/nn/parallel/_functions.py:71: UserWarning: Was asked to gather along dimension 0, but all input tensors were scalars; will instead unsqueeze and return a vector.\n",
      "  warnings.warn(\n"
     ]
    },
    {
     "name": "stdout",
     "output_type": "stream",
     "text": [
      "Grafik loss disimpan untuk epoch 35.0\n",
      "Grafik accuracy disimpan untuk epoch 35.0\n"
     ]
    },
    {
     "name": "stderr",
     "output_type": "stream",
     "text": [
      "/home/ilkom/.local/lib/python3.12/site-packages/torch/nn/parallel/_functions.py:71: UserWarning: Was asked to gather along dimension 0, but all input tensors were scalars; will instead unsqueeze and return a vector.\n",
      "  warnings.warn(\n"
     ]
    },
    {
     "name": "stdout",
     "output_type": "stream",
     "text": [
      "Grafik loss disimpan untuk epoch 36.0\n",
      "Grafik accuracy disimpan untuk epoch 36.0\n"
     ]
    },
    {
     "name": "stderr",
     "output_type": "stream",
     "text": [
      "/home/ilkom/.local/lib/python3.12/site-packages/torch/nn/parallel/_functions.py:71: UserWarning: Was asked to gather along dimension 0, but all input tensors were scalars; will instead unsqueeze and return a vector.\n",
      "  warnings.warn(\n"
     ]
    },
    {
     "name": "stdout",
     "output_type": "stream",
     "text": [
      "Grafik loss disimpan untuk epoch 37.0\n",
      "Grafik accuracy disimpan untuk epoch 37.0\n"
     ]
    },
    {
     "name": "stderr",
     "output_type": "stream",
     "text": [
      "/home/ilkom/.local/lib/python3.12/site-packages/torch/nn/parallel/_functions.py:71: UserWarning: Was asked to gather along dimension 0, but all input tensors were scalars; will instead unsqueeze and return a vector.\n",
      "  warnings.warn(\n"
     ]
    },
    {
     "name": "stdout",
     "output_type": "stream",
     "text": [
      "Grafik loss disimpan untuk epoch 38.0\n",
      "Grafik accuracy disimpan untuk epoch 38.0\n"
     ]
    },
    {
     "name": "stderr",
     "output_type": "stream",
     "text": [
      "/home/ilkom/.local/lib/python3.12/site-packages/torch/nn/parallel/_functions.py:71: UserWarning: Was asked to gather along dimension 0, but all input tensors were scalars; will instead unsqueeze and return a vector.\n",
      "  warnings.warn(\n"
     ]
    },
    {
     "name": "stdout",
     "output_type": "stream",
     "text": [
      "Grafik loss disimpan untuk epoch 39.0\n",
      "Grafik accuracy disimpan untuk epoch 39.0\n"
     ]
    },
    {
     "name": "stderr",
     "output_type": "stream",
     "text": [
      "/home/ilkom/.local/lib/python3.12/site-packages/torch/nn/parallel/_functions.py:71: UserWarning: Was asked to gather along dimension 0, but all input tensors were scalars; will instead unsqueeze and return a vector.\n",
      "  warnings.warn(\n"
     ]
    },
    {
     "name": "stdout",
     "output_type": "stream",
     "text": [
      "Grafik loss disimpan untuk epoch 40.0\n",
      "Grafik accuracy disimpan untuk epoch 40.0\n"
     ]
    },
    {
     "name": "stderr",
     "output_type": "stream",
     "text": [
      "/home/ilkom/.local/lib/python3.12/site-packages/torch/nn/parallel/_functions.py:71: UserWarning: Was asked to gather along dimension 0, but all input tensors were scalars; will instead unsqueeze and return a vector.\n",
      "  warnings.warn(\n"
     ]
    },
    {
     "name": "stdout",
     "output_type": "stream",
     "text": [
      "Grafik loss disimpan untuk epoch 41.0\n",
      "Grafik accuracy disimpan untuk epoch 41.0\n"
     ]
    },
    {
     "name": "stderr",
     "output_type": "stream",
     "text": [
      "/home/ilkom/.local/lib/python3.12/site-packages/torch/nn/parallel/_functions.py:71: UserWarning: Was asked to gather along dimension 0, but all input tensors were scalars; will instead unsqueeze and return a vector.\n",
      "  warnings.warn(\n"
     ]
    },
    {
     "name": "stdout",
     "output_type": "stream",
     "text": [
      "Grafik loss disimpan untuk epoch 42.0\n",
      "Grafik accuracy disimpan untuk epoch 42.0\n"
     ]
    },
    {
     "name": "stderr",
     "output_type": "stream",
     "text": [
      "/home/ilkom/.local/lib/python3.12/site-packages/torch/nn/parallel/_functions.py:71: UserWarning: Was asked to gather along dimension 0, but all input tensors were scalars; will instead unsqueeze and return a vector.\n",
      "  warnings.warn(\n"
     ]
    },
    {
     "name": "stdout",
     "output_type": "stream",
     "text": [
      "Grafik loss disimpan untuk epoch 43.0\n",
      "Grafik accuracy disimpan untuk epoch 43.0\n"
     ]
    },
    {
     "name": "stderr",
     "output_type": "stream",
     "text": [
      "/home/ilkom/.local/lib/python3.12/site-packages/torch/nn/parallel/_functions.py:71: UserWarning: Was asked to gather along dimension 0, but all input tensors were scalars; will instead unsqueeze and return a vector.\n",
      "  warnings.warn(\n"
     ]
    },
    {
     "name": "stdout",
     "output_type": "stream",
     "text": [
      "Grafik loss disimpan untuk epoch 44.0\n",
      "Grafik accuracy disimpan untuk epoch 44.0\n"
     ]
    },
    {
     "name": "stderr",
     "output_type": "stream",
     "text": [
      "/home/ilkom/.local/lib/python3.12/site-packages/torch/nn/parallel/_functions.py:71: UserWarning: Was asked to gather along dimension 0, but all input tensors were scalars; will instead unsqueeze and return a vector.\n",
      "  warnings.warn(\n"
     ]
    },
    {
     "name": "stdout",
     "output_type": "stream",
     "text": [
      "Grafik loss disimpan untuk epoch 45.0\n",
      "Grafik accuracy disimpan untuk epoch 45.0\n"
     ]
    },
    {
     "name": "stderr",
     "output_type": "stream",
     "text": [
      "/home/ilkom/.local/lib/python3.12/site-packages/torch/nn/parallel/_functions.py:71: UserWarning: Was asked to gather along dimension 0, but all input tensors were scalars; will instead unsqueeze and return a vector.\n",
      "  warnings.warn(\n"
     ]
    },
    {
     "name": "stdout",
     "output_type": "stream",
     "text": [
      "Grafik loss disimpan untuk epoch 46.0\n",
      "Grafik accuracy disimpan untuk epoch 46.0\n"
     ]
    },
    {
     "name": "stderr",
     "output_type": "stream",
     "text": [
      "/home/ilkom/.local/lib/python3.12/site-packages/torch/nn/parallel/_functions.py:71: UserWarning: Was asked to gather along dimension 0, but all input tensors were scalars; will instead unsqueeze and return a vector.\n",
      "  warnings.warn(\n"
     ]
    },
    {
     "name": "stdout",
     "output_type": "stream",
     "text": [
      "Grafik loss disimpan untuk epoch 47.0\n",
      "Grafik accuracy disimpan untuk epoch 47.0\n"
     ]
    },
    {
     "name": "stderr",
     "output_type": "stream",
     "text": [
      "/home/ilkom/.local/lib/python3.12/site-packages/torch/nn/parallel/_functions.py:71: UserWarning: Was asked to gather along dimension 0, but all input tensors were scalars; will instead unsqueeze and return a vector.\n",
      "  warnings.warn(\n"
     ]
    },
    {
     "name": "stdout",
     "output_type": "stream",
     "text": [
      "Grafik loss disimpan untuk epoch 48.0\n",
      "Grafik accuracy disimpan untuk epoch 48.0\n"
     ]
    },
    {
     "name": "stderr",
     "output_type": "stream",
     "text": [
      "/home/ilkom/.local/lib/python3.12/site-packages/torch/nn/parallel/_functions.py:71: UserWarning: Was asked to gather along dimension 0, but all input tensors were scalars; will instead unsqueeze and return a vector.\n",
      "  warnings.warn(\n"
     ]
    },
    {
     "name": "stdout",
     "output_type": "stream",
     "text": [
      "Grafik loss disimpan untuk epoch 49.0\n",
      "Grafik accuracy disimpan untuk epoch 49.0\n"
     ]
    },
    {
     "name": "stderr",
     "output_type": "stream",
     "text": [
      "/home/ilkom/.local/lib/python3.12/site-packages/torch/nn/parallel/_functions.py:71: UserWarning: Was asked to gather along dimension 0, but all input tensors were scalars; will instead unsqueeze and return a vector.\n",
      "  warnings.warn(\n"
     ]
    },
    {
     "name": "stdout",
     "output_type": "stream",
     "text": [
      "Grafik loss disimpan untuk epoch 50.0\n",
      "Grafik accuracy disimpan untuk epoch 50.0\n"
     ]
    },
    {
     "name": "stderr",
     "output_type": "stream",
     "text": [
      "/home/ilkom/.local/lib/python3.12/site-packages/torch/nn/parallel/_functions.py:71: UserWarning: Was asked to gather along dimension 0, but all input tensors were scalars; will instead unsqueeze and return a vector.\n",
      "  warnings.warn(\n"
     ]
    },
    {
     "name": "stdout",
     "output_type": "stream",
     "text": [
      "Grafik loss disimpan untuk epoch 51.0\n",
      "Grafik accuracy disimpan untuk epoch 51.0\n"
     ]
    },
    {
     "name": "stderr",
     "output_type": "stream",
     "text": [
      "/home/ilkom/.local/lib/python3.12/site-packages/torch/nn/parallel/_functions.py:71: UserWarning: Was asked to gather along dimension 0, but all input tensors were scalars; will instead unsqueeze and return a vector.\n",
      "  warnings.warn(\n"
     ]
    },
    {
     "name": "stdout",
     "output_type": "stream",
     "text": [
      "Grafik loss disimpan untuk epoch 52.0\n",
      "Grafik accuracy disimpan untuk epoch 52.0\n"
     ]
    },
    {
     "name": "stderr",
     "output_type": "stream",
     "text": [
      "/home/ilkom/.local/lib/python3.12/site-packages/torch/nn/parallel/_functions.py:71: UserWarning: Was asked to gather along dimension 0, but all input tensors were scalars; will instead unsqueeze and return a vector.\n",
      "  warnings.warn(\n"
     ]
    },
    {
     "name": "stdout",
     "output_type": "stream",
     "text": [
      "Grafik loss disimpan untuk epoch 53.0\n",
      "Grafik accuracy disimpan untuk epoch 53.0\n"
     ]
    },
    {
     "name": "stderr",
     "output_type": "stream",
     "text": [
      "/home/ilkom/.local/lib/python3.12/site-packages/torch/nn/parallel/_functions.py:71: UserWarning: Was asked to gather along dimension 0, but all input tensors were scalars; will instead unsqueeze and return a vector.\n",
      "  warnings.warn(\n"
     ]
    },
    {
     "ename": "KeyboardInterrupt",
     "evalue": "",
     "output_type": "error",
     "traceback": [
      "\u001b[0;31m---------------------------------------------------------------------------\u001b[0m",
      "\u001b[0;31mKeyboardInterrupt\u001b[0m                         Traceback (most recent call last)",
      "Cell \u001b[0;32mIn[26], line 1\u001b[0m\n\u001b[0;32m----> 1\u001b[0m trainer\u001b[38;5;241m.\u001b[39mtrain()\n",
      "File \u001b[0;32m~/.local/lib/python3.12/site-packages/transformers/trainer.py:2123\u001b[0m, in \u001b[0;36mTrainer.train\u001b[0;34m(self, resume_from_checkpoint, trial, ignore_keys_for_eval, **kwargs)\u001b[0m\n\u001b[1;32m   2121\u001b[0m         hf_hub_utils\u001b[38;5;241m.\u001b[39menable_progress_bars()\n\u001b[1;32m   2122\u001b[0m \u001b[38;5;28;01melse\u001b[39;00m:\n\u001b[0;32m-> 2123\u001b[0m     \u001b[38;5;28;01mreturn\u001b[39;00m inner_training_loop(\n\u001b[1;32m   2124\u001b[0m         args\u001b[38;5;241m=\u001b[39margs,\n\u001b[1;32m   2125\u001b[0m         resume_from_checkpoint\u001b[38;5;241m=\u001b[39mresume_from_checkpoint,\n\u001b[1;32m   2126\u001b[0m         trial\u001b[38;5;241m=\u001b[39mtrial,\n\u001b[1;32m   2127\u001b[0m         ignore_keys_for_eval\u001b[38;5;241m=\u001b[39mignore_keys_for_eval,\n\u001b[1;32m   2128\u001b[0m     )\n",
      "File \u001b[0;32m~/.local/lib/python3.12/site-packages/transformers/trainer.py:2486\u001b[0m, in \u001b[0;36mTrainer._inner_training_loop\u001b[0;34m(self, batch_size, args, resume_from_checkpoint, trial, ignore_keys_for_eval)\u001b[0m\n\u001b[1;32m   2480\u001b[0m \u001b[38;5;28;01mwith\u001b[39;00m context():\n\u001b[1;32m   2481\u001b[0m     tr_loss_step \u001b[38;5;241m=\u001b[39m \u001b[38;5;28mself\u001b[39m\u001b[38;5;241m.\u001b[39mtraining_step(model, inputs, num_items_in_batch)\n\u001b[1;32m   2483\u001b[0m \u001b[38;5;28;01mif\u001b[39;00m (\n\u001b[1;32m   2484\u001b[0m     args\u001b[38;5;241m.\u001b[39mlogging_nan_inf_filter\n\u001b[1;32m   2485\u001b[0m     \u001b[38;5;129;01mand\u001b[39;00m \u001b[38;5;129;01mnot\u001b[39;00m is_torch_xla_available()\n\u001b[0;32m-> 2486\u001b[0m     \u001b[38;5;129;01mand\u001b[39;00m (torch\u001b[38;5;241m.\u001b[39misnan(tr_loss_step) \u001b[38;5;129;01mor\u001b[39;00m torch\u001b[38;5;241m.\u001b[39misinf(tr_loss_step))\n\u001b[1;32m   2487\u001b[0m ):\n\u001b[1;32m   2488\u001b[0m     \u001b[38;5;66;03m# if loss is nan or inf simply add the average of previous logged losses\u001b[39;00m\n\u001b[1;32m   2489\u001b[0m     tr_loss \u001b[38;5;241m=\u001b[39m tr_loss \u001b[38;5;241m+\u001b[39m tr_loss \u001b[38;5;241m/\u001b[39m (\u001b[38;5;241m1\u001b[39m \u001b[38;5;241m+\u001b[39m \u001b[38;5;28mself\u001b[39m\u001b[38;5;241m.\u001b[39mstate\u001b[38;5;241m.\u001b[39mglobal_step \u001b[38;5;241m-\u001b[39m \u001b[38;5;28mself\u001b[39m\u001b[38;5;241m.\u001b[39m_globalstep_last_logged)\n\u001b[1;32m   2490\u001b[0m \u001b[38;5;28;01melse\u001b[39;00m:\n",
      "\u001b[0;31mKeyboardInterrupt\u001b[0m: "
     ]
    }
   ],
   "source": [
    "trainer.train()"
   ]
  },
  {
   "cell_type": "code",
   "execution_count": 27,
   "id": "07104b58-e255-40d0-b7b3-d7caa84e7474",
   "metadata": {},
   "outputs": [
    {
     "data": {
      "text/plain": [
       "{'eval_loss': 1.9727877378463745,\n",
       " 'eval_accuracy': 0.5916466346153846,\n",
       " 'eval_f1': 0.5935572361201289}"
      ]
     },
     "execution_count": 27,
     "metadata": {},
     "output_type": "execute_result"
    }
   ],
   "source": [
    "trainer.evaluate(test_dataset)"
   ]
  },
  {
   "cell_type": "code",
   "execution_count": 28,
   "id": "28f955d5-b1b7-44d4-aa7a-3df57e8c7b13",
   "metadata": {},
   "outputs": [
    {
     "name": "stderr",
     "output_type": "stream",
     "text": [
      "/home/ilkom/.local/lib/python3.12/site-packages/torch/nn/parallel/_functions.py:71: UserWarning: Was asked to gather along dimension 0, but all input tensors were scalars; will instead unsqueeze and return a vector.\n",
      "  warnings.warn(\n"
     ]
    }
   ],
   "source": [
    "# Melakukan prediksi pada dataset validasi\n",
    "predictions = trainer.predict(test_dataset)\n",
    "\n",
    "# Mendapatkan logits dan label sebenarnya\n",
    "logits = predictions.predictions\n",
    "labels = predictions.label_ids\n",
    "\n",
    "# Mendapatkan prediksi akhir dengan argmax\n",
    "y_pred = np.argmax(logits, axis=1)\n",
    "y_true = labels"
   ]
  },
  {
   "cell_type": "code",
   "execution_count": 29,
   "id": "1bfbfe6c-1fe5-4f91-b4d9-a99ec38ed7cc",
   "metadata": {},
   "outputs": [
    {
     "data": {
      "text/plain": [
       "<Figure size 1200x1000 with 0 Axes>"
      ]
     },
     "metadata": {},
     "output_type": "display_data"
    },
    {
     "data": {
      "image/png": "[encoded data removed]",
      "text/plain": [
       "<Figure size 640x480 with 2 Axes>"
      ]
     },
     "metadata": {},
     "output_type": "display_data"
    }
   ],
   "source": [
    "# Menghitung Confusion Matrix\n",
    "cm = confusion_matrix(y_true, y_pred)\n",
    "\n",
    "# Mengatur ukuran gambar\n",
    "plt.figure(figsize=(12, 10))\n",
    "\n",
    "# Menampilkan Confusion Matrix\n",
    "disp = ConfusionMatrixDisplay(confusion_matrix=cm, display_labels=list(id2label.values()))\n",
    "disp.plot(cmap=plt.cm.Blues, values_format='d')\n",
    "\n",
    "# Mengatur judul dan ukuran font\n",
    "plt.title(\"Confusion Matrix\", fontsize=18)\n",
    "plt.xticks(rotation=45, ha='right', fontsize=8)  # Ukuran font lebih kecil untuk sumbu x\n",
    "plt.yticks(fontsize=8)  # Ukuran font lebih kecil untuk sumbu y\n",
    "plt.xlabel('Predicted Labels', fontsize=12)\n",
    "plt.ylabel('True Labels', fontsize=12)\n",
    "\n",
    "# Tampilkan plot\n",
    "plt.show()"
   ]
  },
  {
   "cell_type": "markdown",
   "id": "499caa96-9541-4d48-b62a-08207a41f3a4",
   "metadata": {},
   "source": [
    "## Load Best Model"
   ]
  },
  {
   "cell_type": "code",
   "execution_count": 30,
   "id": "809a9df6-b011-4119-b778-a41f6ea2e706",
   "metadata": {},
   "outputs": [
    {
     "name": "stderr",
     "output_type": "stream",
     "text": [
      "/home/ilkom/.local/lib/python3.12/site-packages/torchvision/models/_utils.py:208: UserWarning: The parameter 'pretrained' is deprecated since 0.13 and may be removed in the future, please use 'weights' instead.\n",
      "  warnings.warn(\n",
      "/home/ilkom/.local/lib/python3.12/site-packages/torchvision/models/_utils.py:223: UserWarning: Arguments other than a weight enum or `None` for 'weights' are deprecated since 0.13 and may be removed in the future. The current behavior is equivalent to passing `weights=ResNet50_Weights.IMAGENET1K_V1`. You can also use `weights=ResNet50_Weights.DEFAULT` to get the most up-to-date weights.\n",
      "  warnings.warn(msg)\n"
     ]
    }
   ],
   "source": [
    "vit2 = ViTWithResNet(num_classes=len(class_names), in_channels=1)"
   ]
  },
  {
   "cell_type": "code",
   "execution_count": 31,
   "id": "8c9cdfe7-c306-4b52-91b2-795c10eabbf3",
   "metadata": {},
   "outputs": [
    {
     "name": "stderr",
     "output_type": "stream",
     "text": [
      "/tmp/ipykernel_772393/4253420381.py:3: FutureWarning: You are using `torch.load` with `weights_only=False` (the current default value), which uses the default pickle module implicitly. It is possible to construct malicious pickle data which will execute arbitrary code during unpickling (See https://github.com/pytorch/pytorch/blob/main/SECURITY.md#untrusted-models for more details). In a future release, the default value for `weights_only` will be flipped to `True`. This limits the functions that could be executed during unpickling. Arbitrary objects will no longer be allowed to be loaded via this mode unless they are explicitly allowlisted by the user via `torch.serialization.add_safe_globals`. We recommend you start setting `weights_only=True` for any use case where you don't have full control of the loaded file. Please open an issue on GitHub for any issues related to this experimental feature.\n",
      "  vit2.load_state_dict(torch.load(model_path))\n"
     ]
    },
    {
     "data": {
      "text/plain": [
       "<All keys matched successfully>"
      ]
     },
     "execution_count": 31,
     "metadata": {},
     "output_type": "execute_result"
    }
   ],
   "source": [
    "# Load state_dict\n",
    "model_path = \"../Khaairi/Result/backbone_best_model.pt\"\n",
    "vit2.load_state_dict(torch.load(model_path))"
   ]
  },
  {
   "cell_type": "code",
   "execution_count": 32,
   "id": "2659e52e-39b6-4fd1-94da-a1d974bdb4c6",
   "metadata": {},
   "outputs": [],
   "source": [
    "trainer = Trainer(\n",
    "    model=vit2,\n",
    "    args=training_args,\n",
    "    data_collator=collate_fn,\n",
    "    compute_metrics=compute_metrics,\n",
    "    train_dataset=train_dataset,\n",
    "    eval_dataset=val_dataset,\n",
    "    callbacks=[SaveBestModelCallback(save_path = '../Khaairi/Result')]\n",
    ")"
   ]
  },
  {
   "cell_type": "code",
   "execution_count": 33,
   "id": "da902688-c023-46f9-88fe-98e85f8905f8",
   "metadata": {},
   "outputs": [
    {
     "name": "stderr",
     "output_type": "stream",
     "text": [
      "/home/ilkom/.local/lib/python3.12/site-packages/torch/nn/parallel/_functions.py:71: UserWarning: Was asked to gather along dimension 0, but all input tensors were scalars; will instead unsqueeze and return a vector.\n",
      "  warnings.warn(\n"
     ]
    },
    {
     "data": {
      "text/html": [],
      "text/plain": [
       "<IPython.core.display.HTML object>"
      ]
     },
     "metadata": {},
     "output_type": "display_data"
    },
    {
     "name": "stdout",
     "output_type": "stream",
     "text": [
      "Model terbaik disimpan di ../Khaairi/Result/backbone_best_model.pt dengan eval_accuracy: 0.6082\n"
     ]
    },
    {
     "data": {
      "text/plain": [
       "{'eval_loss': 1.1050951480865479,\n",
       " 'eval_accuracy': 0.6081730769230769,\n",
       " 'eval_f1': 0.6074180217081226,\n",
       " 'eval_runtime': 33.6538,\n",
       " 'eval_samples_per_second': 98.889,\n",
       " 'eval_steps_per_second': 3.09}"
      ]
     },
     "execution_count": 33,
     "metadata": {},
     "output_type": "execute_result"
    }
   ],
   "source": [
    "trainer.evaluate(test_dataset)"
   ]
  },
  {
   "cell_type": "code",
   "execution_count": 34,
   "id": "e67fa567-b108-463c-834c-27e7c9a8058c",
   "metadata": {},
   "outputs": [
    {
     "name": "stderr",
     "output_type": "stream",
     "text": [
      "/home/ilkom/.local/lib/python3.12/site-packages/torch/nn/parallel/_functions.py:71: UserWarning: Was asked to gather along dimension 0, but all input tensors were scalars; will instead unsqueeze and return a vector.\n",
      "  warnings.warn(\n"
     ]
    }
   ],
   "source": [
    "# Melakukan prediksi pada dataset validasi\n",
    "predictions = trainer.predict(test_dataset)\n",
    "\n",
    "# Mendapatkan logits dan label sebenarnya\n",
    "logits = predictions.predictions\n",
    "labels = predictions.label_ids\n",
    "\n",
    "# Mendapatkan prediksi akhir dengan argmax\n",
    "y_pred = np.argmax(logits, axis=1)\n",
    "y_true = labels"
   ]
  },
  {
   "cell_type": "code",
   "execution_count": 35,
   "id": "93718435-6bbc-480a-adc5-dd75bb978f8d",
   "metadata": {},
   "outputs": [
    {
     "data": {
      "text/plain": [
       "<Figure size 1200x1000 with 0 Axes>"
      ]
     },
     "metadata": {},
     "output_type": "display_data"
    },
    {
     "data": {
      "image/png": "[encoded data removed]",
      "text/plain": [
       "<Figure size 640x480 with 2 Axes>"
      ]
     },
     "metadata": {},
     "output_type": "display_data"
    }
   ],
   "source": [
    "# Menghitung Confusion Matrix\n",
    "cm = confusion_matrix(y_true, y_pred)\n",
    "\n",
    "# Mengatur ukuran gambar\n",
    "plt.figure(figsize=(12, 10))\n",
    "\n",
    "# Menampilkan Confusion Matrix\n",
    "disp = ConfusionMatrixDisplay(confusion_matrix=cm, display_labels=list(id2label.values()))\n",
    "disp.plot(cmap=plt.cm.Blues, values_format='d')\n",
    "\n",
    "# Mengatur judul dan ukuran font\n",
    "plt.title(\"Confusion Matrix\", fontsize=18)\n",
    "plt.xticks(rotation=45, ha='right', fontsize=8)  # Ukuran font lebih kecil untuk sumbu x\n",
    "plt.yticks(fontsize=8)  # Ukuran font lebih kecil untuk sumbu y\n",
    "plt.xlabel('Predicted Labels', fontsize=12)\n",
    "plt.ylabel('True Labels', fontsize=12)\n",
    "\n",
    "# Tampilkan plot\n",
    "plt.show()"
   ]
  },
  {
   "cell_type": "code",
   "execution_count": null,
   "id": "36ece644-8389-406b-b8e9-802ac5a1f946",
   "metadata": {},
   "outputs": [],
   "source": []
  }
 ],
 "metadata": {
  "kernelspec": {
   "display_name": "Python 3 (ipykernel)",
   "language": "python",
   "name": "python3"
  },
  "language_info": {
   "codemirror_mode": {
    "name": "ipython",
    "version": 3
   },
   "file_extension": ".py",
   "mimetype": "text/x-python",
   "name": "python",
   "nbconvert_exporter": "python",
   "pygments_lexer": "ipython3",
   "version": "3.12.7"
  }
 },
 "nbformat": 4,
 "nbformat_minor": 5
}
