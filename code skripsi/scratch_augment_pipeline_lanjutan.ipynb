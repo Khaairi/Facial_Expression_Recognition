{
 "cells": [
  {
   "cell_type": "code",
   "execution_count": 1,
   "id": "a4f52c85-4ef4-4943-a521-ff740da659ed",
   "metadata": {},
   "outputs": [
    {
     "data": {
      "text/plain": [
       "'2.5.1+cu124'"
      ]
     },
     "execution_count": 1,
     "metadata": {},
     "output_type": "execute_result"
    }
   ],
   "source": [
    "import torch\n",
    "torch.__version__"
   ]
  },
  {
   "cell_type": "code",
   "execution_count": 2,
   "id": "85719059-ed85-4e86-a40a-e26217642235",
   "metadata": {},
   "outputs": [
    {
     "data": {
      "text/plain": [
       "'cuda:1'"
      ]
     },
     "execution_count": 2,
     "metadata": {},
     "output_type": "execute_result"
    }
   ],
   "source": [
    "device = \"cuda:1\" if torch.cuda.is_available() else \"cpu\"\n",
    "device"
   ]
  },
  {
   "cell_type": "code",
   "execution_count": 3,
   "id": "e1b309cc-ab32-4ea3-8c91-f1821515f136",
   "metadata": {},
   "outputs": [],
   "source": [
    "import numpy as np\n",
    "import pandas as pd\n",
    "import csv\n",
    "import torch\n",
    "from torch.utils.data import Dataset, DataLoader\n",
    "from torchvision import transforms\n",
    "from PIL import Image\n",
    "import matplotlib.pyplot as plt\n",
    "from sklearn.model_selection import train_test_split\n",
    "from sklearn.metrics import classification_report, confusion_matrix\n",
    "import torch.optim as optim\n",
    "from torch.optim.lr_scheduler import ReduceLROnPlateau\n",
    "from torch.optim import AdamW\n",
    "import os\n",
    "from tqdm import tqdm\n",
    "from sklearn.metrics import f1_score\n",
    "import random\n",
    "import gc"
   ]
  },
  {
   "cell_type": "code",
   "execution_count": 4,
   "id": "54ce6cf9-1fac-4143-97f0-f1c3e5359468",
   "metadata": {},
   "outputs": [],
   "source": [
    "# Set seed for reproducibility\n",
    "SEED = 123\n",
    "torch.manual_seed(SEED)\n",
    "random.seed(SEED)\n",
    "np.random.seed(SEED)"
   ]
  },
  {
   "cell_type": "markdown",
   "id": "08fe35ee-b631-403e-ae59-b7016ed13458",
   "metadata": {},
   "source": [
    "## Load Data"
   ]
  },
  {
   "cell_type": "code",
   "execution_count": 5,
   "id": "1bdddb0d-9e30-4147-938e-a8109e906f28",
   "metadata": {},
   "outputs": [],
   "source": [
    "class FERDataset(Dataset):\n",
    "    def __init__(self, dataframe, transform=None):\n",
    "        self.dataframe = dataframe\n",
    "        self.transform = transform\n",
    "\n",
    "        # Ekstrak label dan piksel\n",
    "        self.labels = self.dataframe['emotion'].values\n",
    "        self.pixels = self.dataframe['pixels'].apply(self.string_to_image).values\n",
    "\n",
    "    def string_to_image(self, pixels_string):\n",
    "        # Konversi string piksel menjadi numpy array dan reshape ke 48x48\n",
    "        pixels = np.array(pixels_string.split(), dtype='float32')\n",
    "        image = pixels.reshape(48, 48)\n",
    "        image = np.expand_dims(image, axis=-1)  # Tambahkan channel dimensi\n",
    "        return image\n",
    "\n",
    "    def __len__(self):\n",
    "        return len(self.dataframe)\n",
    "\n",
    "    def __getitem__(self, idx):\n",
    "        image = self.pixels[idx]\n",
    "        label = self.labels[idx]\n",
    "        \n",
    "        image = Image.fromarray(image.squeeze().astype('uint8'), mode='L')\n",
    "\n",
    "        # Jika ada transformasi, terapkan ke image\n",
    "        if self.transform:\n",
    "            image = self.transform(image)\n",
    "\n",
    "        return image, label"
   ]
  },
  {
   "cell_type": "code",
   "execution_count": 6,
   "id": "3fd05f22-3a1d-495e-ab37-5912522b0f9b",
   "metadata": {},
   "outputs": [
    {
     "name": "stdout",
     "output_type": "stream",
     "text": [
      "train transforms: Compose(\n",
      "    Resize(size=(224, 224), interpolation=bilinear, max_size=None, antialias=True)\n",
      "    RandomHorizontalFlip(p=0.5)\n",
      "    RandomRotation(degrees=[-10.0, 10.0], interpolation=nearest, expand=False, fill=0)\n",
      "    RandomResizedCrop(size=(224, 224), scale=(0.8, 1.0), ratio=(0.75, 1.3333), interpolation=bilinear, antialias=True)\n",
      "    ColorJitter(brightness=(0.8, 1.2), contrast=(0.8, 1.2), saturation=None, hue=None)\n",
      "    ToTensor()\n",
      "    Normalize(mean=[0.5], std=[0.5])\n",
      ")\n",
      "test transforms: Compose(\n",
      "    Resize(size=(224, 224), interpolation=bilinear, max_size=None, antialias=True)\n",
      "    ToTensor()\n",
      "    Normalize(mean=[0.5], std=[0.5])\n",
      ")\n"
     ]
    }
   ],
   "source": [
    "# Create image size\n",
    "IMG_SIZE = 224\n",
    "\n",
    "# Create transform pipeline manually\n",
    "train_transforms = transforms.Compose([\n",
    "    transforms.Resize((IMG_SIZE, IMG_SIZE)),\n",
    "    transforms.RandomHorizontalFlip(),  # Randomly flip horizontally\n",
    "    transforms.RandomRotation(10),     # Randomly rotate by 10 degrees\n",
    "    transforms.RandomResizedCrop(\n",
    "        size=IMG_SIZE,  # Output size\n",
    "        scale=(0.8, 1.0)  # Range of the random crop size relative to the input size\n",
    "    ),\n",
    "    transforms.ColorJitter(brightness=0.2, contrast=0.2),  # Adjust brightness\n",
    "    transforms.ToTensor(),\n",
    "    transforms.Normalize(mean=[0.5], std=[0.5])\n",
    "]) \n",
    "\n",
    "# Create transform pipeline manually\n",
    "test_transforms = transforms.Compose([\n",
    "    transforms.Resize((IMG_SIZE, IMG_SIZE)),\n",
    "    transforms.ToTensor(),\n",
    "    transforms.Normalize(mean=[0.5], std=[0.5])\n",
    "])\n",
    "\n",
    " \n",
    "print(f\"train transforms: {train_transforms}\")\n",
    "print(f\"test transforms: {test_transforms}\")"
   ]
  },
  {
   "cell_type": "code",
   "execution_count": 7,
   "id": "abb51cb0-db73-45d5-b795-d7bbe982676b",
   "metadata": {},
   "outputs": [
    {
     "name": "stdout",
     "output_type": "stream",
     "text": [
      "<class 'pandas.core.frame.DataFrame'>\n",
      "RangeIndex: 33325 entries, 0 to 33324\n",
      "Data columns (total 2 columns):\n",
      " #   Column   Non-Null Count  Dtype \n",
      "---  ------   --------------  ----- \n",
      " 0   pixels   33325 non-null  object\n",
      " 1   emotion  33325 non-null  int64 \n",
      "dtypes: int64(1), object(1)\n",
      "memory usage: 520.8+ KB\n"
     ]
    }
   ],
   "source": [
    "data = pd.read_csv('../Data/fer2013_clean.csv')\n",
    "data.info()"
   ]
  },
  {
   "cell_type": "code",
   "execution_count": 8,
   "id": "d525f87c-e3d3-4893-9194-b81b2a4b80d3",
   "metadata": {},
   "outputs": [
    {
     "name": "stdout",
     "output_type": "stream",
     "text": [
      "Train set size: 26992\n",
      "Validation set size: 3000\n",
      "Test set size: 3333\n"
     ]
    }
   ],
   "source": [
    "# pisahkan data train (80%), validation (10%), test (10%)\n",
    "data_train, data_test = train_test_split(data, test_size=0.1, stratify=data['emotion'], random_state=123)\n",
    "data_train, data_val = train_test_split(data_train, test_size=0.1, stratify=data_train['emotion'], random_state=123)\n",
    "\n",
    "# Cek ukuran masing-masing set untuk memastikan proporsi\n",
    "print(f'Train set size: {len(data_train)}')\n",
    "print(f'Validation set size: {len(data_val)}')\n",
    "print(f'Test set size: {len(data_test)}')"
   ]
  },
  {
   "cell_type": "code",
   "execution_count": 9,
   "id": "a112b864-08d8-42cb-a285-994f930f4259",
   "metadata": {},
   "outputs": [],
   "source": [
    "train_dataset = FERDataset(data_train, transform=train_transforms)\n",
    "val_dataset = FERDataset(data_val, transform=test_transforms)\n",
    "test_dataset = FERDataset(data_test, transform=test_transforms)\n",
    "class_names = ['Angry', 'Disgust', 'Fear', 'Happy', 'Sad', 'Surprise', 'Neutral']"
   ]
  },
  {
   "cell_type": "code",
   "execution_count": 10,
   "id": "4c40770a-6a57-48ca-a10f-8a6c3ff485f2",
   "metadata": {},
   "outputs": [
    {
     "name": "stdout",
     "output_type": "stream",
     "text": [
      "label2id: {'Angry': 0, 'Disgust': 1, 'Fear': 2, 'Happy': 3, 'Sad': 4, 'Surprise': 5, 'Neutral': 6}\n",
      "id2label: {0: 'Angry', 1: 'Disgust', 2: 'Fear', 3: 'Happy', 4: 'Sad', 5: 'Surprise', 6: 'Neutral'}\n"
     ]
    }
   ],
   "source": [
    "labels = ['Angry', 'Disgust', 'Fear', 'Happy', 'Sad', 'Surprise', 'Neutral']\n",
    "\n",
    "# Mapping dari label ke ID (label2id)\n",
    "label2id = {c: idx for idx, c in enumerate(labels)}\n",
    "\n",
    "# Mapping dari ID ke label (id2label)\n",
    "id2label = {idx: c for idx, c in enumerate(labels)}\n",
    "\n",
    "print(\"label2id:\", label2id)\n",
    "print(\"id2label:\", id2label)"
   ]
  },
  {
   "cell_type": "code",
   "execution_count": 11,
   "id": "27139b4d-f206-4e4f-82e6-6c26b311b7e9",
   "metadata": {},
   "outputs": [
    {
     "data": {
      "image/png": "[encoded data removed]",
      "text/plain": [
       "<Figure size 640x480 with 1 Axes>"
      ]
     },
     "metadata": {},
     "output_type": "display_data"
    }
   ],
   "source": [
    "# Ambil satu contoh dari train_dataset\n",
    "image, label = train_dataset[0]  # Index pertama dataset\n",
    "\n",
    "# Jika transform menghasilkan tensor, konversi ke format numpy\n",
    "if isinstance(image, torch.Tensor):\n",
    "    image = image.permute(1, 2, 0).numpy()  # (C, H, W) -> (H, W, C)\n",
    "\n",
    "# Plot gambar\n",
    "plt.imshow(image, cmap='gray')  # Gunakan cmap='gray' jika gambar grayscale\n",
    "plt.title(f\"Label: {label}\")\n",
    "plt.axis('off')  # Hilangkan sumbu\n",
    "plt.show()"
   ]
  },
  {
   "cell_type": "code",
   "execution_count": 12,
   "id": "6b8a0a00-f3ca-46e1-8080-faf95a66d2c9",
   "metadata": {},
   "outputs": [
    {
     "data": {
      "text/plain": [
       "torch.Size([1, 224, 224])"
      ]
     },
     "execution_count": 12,
     "metadata": {},
     "output_type": "execute_result"
    }
   ],
   "source": [
    "image, label = train_dataset[0]\n",
    "image.shape"
   ]
  },
  {
   "cell_type": "markdown",
   "id": "25f09b62-4109-49eb-ae60-3ce50168f049",
   "metadata": {},
   "source": [
    "## Build Vision Transformer (ViT) Model"
   ]
  },
  {
   "cell_type": "code",
   "execution_count": 13,
   "id": "5b7f5c19-e39f-478b-904a-4070f72d2ccf",
   "metadata": {},
   "outputs": [],
   "source": [
    "from torch import nn"
   ]
  },
  {
   "cell_type": "code",
   "execution_count": 14,
   "id": "27a7697f-f6eb-4ea2-ab66-bcfdacdf4a4b",
   "metadata": {},
   "outputs": [],
   "source": [
    "class PatchEmbedding(nn.Module):\n",
    "    def __init__(self, \n",
    "                 in_channels:int=1,\n",
    "                 patch_size:int=16,\n",
    "                 embedding_dim:int=768\n",
    "                ):\n",
    "        super().__init__()\n",
    "        \n",
    "        self.patcher = nn.Conv2d(in_channels=in_channels,\n",
    "                                 out_channels=embedding_dim,\n",
    "                                 kernel_size=patch_size,\n",
    "                                 stride=patch_size,\n",
    "                                 padding=0)\n",
    "    def forward(self, x):\n",
    "        image_resolution = x.shape[-1]\n",
    "        \n",
    "        x_patched = self.patcher(x) # (n_samples, embed_dim, n_patches ** 0.5, n_patches ** 0.5)\n",
    "        x_flattened = x_patched.flatten(2) # (n_samples, embed_dim, n_patches)\n",
    "        x = x_flattened.transpose(1, 2) # (n_samples, n_patches, embed_dim)\n",
    "        \n",
    "        return x"
   ]
  },
  {
   "cell_type": "code",
   "execution_count": 15,
   "id": "abc468a7-138e-48ca-a495-a91e0988bd0b",
   "metadata": {},
   "outputs": [],
   "source": [
    "class MultiheadSelfAttentionBlock(nn.Module):\n",
    "    def __init__(self,\n",
    "                 embedding_dim:int=768,\n",
    "                 num_heads:int=12,\n",
    "                 attn_dropout:float=0.):\n",
    "        super().__init__()\n",
    "        self.multihead_attn = nn.MultiheadAttention(embed_dim=embedding_dim,\n",
    "                                                    num_heads=num_heads,\n",
    "                                                    dropout=attn_dropout,\n",
    "                                                    batch_first=True)\n",
    "    def forward(self, x):\n",
    "        attn_output, _ = self.multihead_attn(query=x,\n",
    "                                             key=x,\n",
    "                                             value=x,\n",
    "                                             need_weights=False)\n",
    "        return attn_output"
   ]
  },
  {
   "cell_type": "code",
   "execution_count": 16,
   "id": "76cdbef5-da91-45c7-8847-9de18bcd77f5",
   "metadata": {},
   "outputs": [],
   "source": [
    "class MLPBlock(nn.Module):\n",
    "    def __init__(self,\n",
    "                 embedding_dim:int=768,\n",
    "                 mlp_size:int=3072,\n",
    "                 dropout:float=0.):\n",
    "        super().__init__()\n",
    "        self.mlp = nn.Sequential(\n",
    "            nn.Linear(in_features=embedding_dim,\n",
    "                      out_features=mlp_size),\n",
    "            nn.GELU(),\n",
    "            nn.Dropout(p=dropout),\n",
    "            nn.Linear(in_features=mlp_size,\n",
    "                      out_features=embedding_dim),\n",
    "            nn.Dropout(p=dropout)\n",
    "        )\n",
    "    def forward(self, x):\n",
    "        x = self.mlp(x)\n",
    "        return x"
   ]
  },
  {
   "cell_type": "code",
   "execution_count": 17,
   "id": "cee8d7b1-8603-4ade-8bed-32444a8c942f",
   "metadata": {},
   "outputs": [],
   "source": [
    "class TransformerEncoderBlock(nn.Module):\n",
    "    def __init__(self,\n",
    "                 embedding_dim:int=768,\n",
    "                 num_heads:int=12,\n",
    "                 mlp_size:int=3072,\n",
    "                 mlp_dropout:float=0.,\n",
    "                 attn_dropout:float=0.):\n",
    "        super().__init__()\n",
    "        self.layer_norm1 = nn.LayerNorm(normalized_shape=embedding_dim, eps=1e-6)\n",
    "        \n",
    "        self.msa_block = MultiheadSelfAttentionBlock(embedding_dim=embedding_dim,\n",
    "                                                     num_heads=num_heads,\n",
    "                                                     attn_dropout=attn_dropout)\n",
    "        \n",
    "        self.layer_norm2 = nn.LayerNorm(normalized_shape=embedding_dim, eps=1e-6)\n",
    "        \n",
    "        self.mlp_block =  MLPBlock(embedding_dim=embedding_dim,\n",
    "                                   mlp_size=mlp_size,\n",
    "                                   dropout=mlp_dropout)\n",
    "    def forward(self, x):\n",
    "        x = self.msa_block(self.layer_norm1(x)) + x \n",
    "        \n",
    "        x = self.mlp_block(self.layer_norm2(x)) + x \n",
    "        \n",
    "        return x"
   ]
  },
  {
   "cell_type": "code",
   "execution_count": 18,
   "id": "dfbe073e-b7c5-44c3-a123-d89a2152a467",
   "metadata": {},
   "outputs": [],
   "source": [
    "class ViT(nn.Module):\n",
    "    def __init__(self,\n",
    "                 img_size:int=224,\n",
    "                 in_channels:int=3,\n",
    "                 patch_size:int=16,\n",
    "                 num_transformer_layers:int=12,\n",
    "                 embedding_dim:int=768,\n",
    "                 mlp_size:int=3072,\n",
    "                 num_heads:int=12,\n",
    "                 attn_dropout:float=0.,\n",
    "                 mlp_dropout:float=0.,\n",
    "                 embedding_dropout:float=0.,\n",
    "                 num_classes:int=1000):\n",
    "        super().__init__()\n",
    "        self.num_patches = (img_size * img_size) // patch_size**2\n",
    "\n",
    "        self.patch_embedding = PatchEmbedding(in_channels=in_channels,\n",
    "                                              patch_size=patch_size,\n",
    "                                              embedding_dim=embedding_dim)\n",
    "                 \n",
    "        self.class_embedding = nn.Parameter(data=torch.randn(1, 1, embedding_dim),\n",
    "                                            requires_grad=True)\n",
    "        \n",
    "        self.position_embedding = nn.Parameter(data=torch.randn(1, self.num_patches+1, embedding_dim),\n",
    "                                               requires_grad=True)\n",
    "                \n",
    "        self.embedding_dropout = nn.Dropout(p=embedding_dropout)\n",
    "        \n",
    "        self.transformer_encoder = nn.Sequential(*[TransformerEncoderBlock(embedding_dim=embedding_dim,\n",
    "                                                                            num_heads=num_heads,\n",
    "                                                                            mlp_size=mlp_size,\n",
    "                                                                            mlp_dropout=mlp_dropout) for _ in range(num_transformer_layers)])\n",
    "       \n",
    "        self.classifier = nn.Sequential(\n",
    "            nn.LayerNorm(normalized_shape=embedding_dim, eps=1e-6),\n",
    "            nn.Linear(in_features=embedding_dim, \n",
    "                      out_features=num_classes)\n",
    "        )\n",
    "    \n",
    "    def forward(self, pixel_values, labels=None):\n",
    "        batch_size = pixel_values.shape[0]\n",
    "\n",
    "        x = self.patch_embedding(pixel_values) # (n_samples, num_patches, embed_dim)\n",
    "        \n",
    "        class_token = self.class_embedding.expand(batch_size, -1, -1) # (n_samples, 1, embed_dim)\n",
    "\n",
    "        x = torch.cat((class_token, x), dim=1) # (n_samples, 1 + n_patches, embed_dim)\n",
    "\n",
    "        x = self.position_embedding + x # add position embed\n",
    "\n",
    "        x = self.embedding_dropout(x)\n",
    "\n",
    "        x = self.transformer_encoder(x)\n",
    "\n",
    "        logits = self.classifier(x[:, 0])\n",
    "\n",
    "        # Jika labels diberikan, hitung loss\n",
    "        loss = None\n",
    "        if labels is not None:\n",
    "            loss_fn = nn.CrossEntropyLoss()\n",
    "            loss = loss_fn(logits, labels)\n",
    "    \n",
    "        return (loss, logits) if loss is not None else logits"
   ]
  },
  {
   "cell_type": "markdown",
   "id": "cccbb722-51b9-46af-90e2-4b80265eb878",
   "metadata": {},
   "source": [
    "## Model Training"
   ]
  },
  {
   "cell_type": "code",
   "execution_count": 19,
   "id": "64b28361-dae6-43fa-b846-69caa47259a3",
   "metadata": {},
   "outputs": [],
   "source": [
    "class BestModelSaver:\n",
    "    def __init__(self, save_path, model_name):\n",
    "        self.save_path = save_path\n",
    "        self.model_name = model_name\n",
    "        self.best_accuracy = -float('inf')\n",
    "        os.makedirs(self.save_path, exist_ok=True)\n",
    "\n",
    "    def save(self, model, current_accuracy, epoch):\n",
    "        if current_accuracy > self.best_accuracy:\n",
    "            self.best_accuracy = current_accuracy\n",
    "            model_path = os.path.join(self.save_path, f\"{self.model_name}_best.pt\")\n",
    "            torch.save(model.state_dict(), model_path)\n",
    "            print(f\"Best model saved at {model_path} with accuracy: {self.best_accuracy:.4f}\")"
   ]
  },
  {
   "cell_type": "code",
   "execution_count": 20,
   "id": "dc2344b3-32fa-4f94-9c56-13b3ac96ee3d",
   "metadata": {},
   "outputs": [],
   "source": [
    "class MetricsPlotter:\n",
    "    def __init__(self, save_path, model_name):\n",
    "        self.save_path = save_path\n",
    "        self.model_name = model_name\n",
    "        os.makedirs(self.save_path, exist_ok=True)\n",
    "\n",
    "    def plot_and_save(self, train_metrics, val_metrics, metric_name, epoch):\n",
    "        plt.figure(figsize=(10, 5))\n",
    "        plt.plot(range(1, len(train_metrics) + 1), train_metrics, label=f\"Training {metric_name}\", marker='o')\n",
    "        plt.plot(range(1, len(val_metrics) + 1), val_metrics, label=f\"Validation {metric_name}\", marker='o')\n",
    "        plt.title(f\"{self.model_name} {metric_name} per Epoch\")\n",
    "        plt.xlabel(\"Epoch\")\n",
    "        plt.ylabel(metric_name)\n",
    "        plt.legend()\n",
    "        plt.grid(True)\n",
    "        plot_path = os.path.join(self.save_path, f\"{self.model_name}_{metric_name.lower()}.png\")\n",
    "        plt.savefig(plot_path)\n",
    "        plt.close()"
   ]
  },
  {
   "cell_type": "code",
   "execution_count": 21,
   "id": "f0d1b5c8-e45c-4ed2-97f5-d89910c3752f",
   "metadata": {},
   "outputs": [],
   "source": [
    "class EarlyStopping:\n",
    "    def __init__(self, patience=10, min_delta=0):\n",
    "        self.patience = patience\n",
    "        self.min_delta = min_delta\n",
    "        self.best_loss = float('inf')\n",
    "        self.epochs_no_improve = 0\n",
    "        self.early_stop = False\n",
    "\n",
    "    def __call__(self, val_loss):\n",
    "        if val_loss < self.best_loss - self.min_delta:\n",
    "            self.best_loss = val_loss\n",
    "            self.epochs_no_improve = 0\n",
    "        else:\n",
    "            self.epochs_no_improve += 1\n",
    "\n",
    "        if self.epochs_no_improve >= self.patience:\n",
    "            self.early_stop = True\n",
    "\n",
    "        return self.early_stop"
   ]
  },
  {
   "cell_type": "code",
   "execution_count": 22,
   "id": "609373d7-9cf2-4ed5-853b-569cee7dbc81",
   "metadata": {},
   "outputs": [],
   "source": [
    "class Validator:\n",
    "    def __init__(self, model, criterion, device):\n",
    "        self.model = model\n",
    "        self.criterion = criterion\n",
    "        self.device = device\n",
    "\n",
    "    def validate(self, val_loader):\n",
    "        self.model.eval()\n",
    "        val_loss = 0.0\n",
    "        val_correct = 0\n",
    "        val_total = 0\n",
    "        all_targets = []\n",
    "        all_predicted = []\n",
    "\n",
    "        with torch.no_grad():  # Disable gradient computation\n",
    "            pbar = tqdm(val_loader, desc=\"Validation\")\n",
    "            for batch_idx, (inputs, targets) in enumerate(pbar):\n",
    "                inputs, targets = inputs.to(self.device), targets.to(self.device)\n",
    "\n",
    "                # Forward pass\n",
    "                outputs = self.model(inputs)\n",
    "                loss = self.criterion(outputs, targets)\n",
    "\n",
    "                # Update statistics\n",
    "                val_loss += loss.item()\n",
    "                _, predicted = outputs.max(1)\n",
    "                val_total += targets.size(0)\n",
    "                val_correct += predicted.eq(targets).sum().item()\n",
    "\n",
    "                # Collect all targets and predictions for F1-score\n",
    "                all_targets.extend(targets.cpu().numpy())\n",
    "                all_predicted.extend(predicted.cpu().numpy())\n",
    "\n",
    "                # Update progress bar\n",
    "                pbar.set_postfix({\n",
    "                    \"Loss\": f\"{val_loss / (batch_idx + 1):.4f}\",\n",
    "                    \"Acc\": f\"{val_correct / val_total:.4f}\"\n",
    "                })\n",
    "\n",
    "        # Calculate validation accuracy, loss, and F1-score\n",
    "        val_accuracy = val_correct / val_total\n",
    "        avg_val_loss = val_loss / len(val_loader)\n",
    "        val_f1 = f1_score(all_targets, all_predicted, average=\"weighted\")\n",
    "\n",
    "        return avg_val_loss, val_accuracy, val_f1"
   ]
  },
  {
   "cell_type": "code",
   "execution_count": 23,
   "id": "0b7c7cec-52ef-49f8-9559-ed24ee72a7dd",
   "metadata": {},
   "outputs": [],
   "source": [
    "patch_sizes = [32]\n",
    "num_heads = [8]\n",
    "embedding_dims = [256, 384, 512, 768]\n",
    "num_transformer_layers = [6, 12]\n",
    "\n",
    "EPOCHS = 1000\n",
    "LEARNING_RATE = 3e-5\n",
    "NUM_CLASSES = 7\n",
    "SEED = 123\n",
    "BATCH_SIZE = 64\n",
    "DEVICE = torch.device(\"cuda:1\" if torch.cuda.is_available() else \"cpu\")"
   ]
  },
  {
   "cell_type": "code",
   "execution_count": 24,
   "id": "ea6989ec-a1d3-4e8d-b3e9-c1817ae066fe",
   "metadata": {},
   "outputs": [],
   "source": [
    "# Define the CSV file paths\n",
    "config_csv_path = \"../Experiment Augment Result/augment_model_configurations2.csv\"\n",
    "epoch_csv_path = \"../Experiment Augment Result/augment_epoch_results2.csv\"\n",
    "test_csv_path = \"../Experiment Augment Result/augment_test_results2.csv\"\n",
    "\n",
    "# Check if the configuration CSV file exists. If not, create it and write the header.\n",
    "if not os.path.exists(config_csv_path):\n",
    "    with open(config_csv_path, mode='w', newline='') as file:\n",
    "        writer = csv.writer(file)\n",
    "        writer.writerow([\"Config\", \"Patch Size\", \"Num Heads\", \"Embedding Dim\", \"Num Transformer Layers\"])\n",
    "\n",
    "# Check if the epoch results CSV file exists. If not, create it and write the header.\n",
    "if not os.path.exists(epoch_csv_path):\n",
    "    with open(epoch_csv_path, mode='w', newline='') as file:\n",
    "        writer = csv.writer(file)\n",
    "        writer.writerow([\"Config\", \"Epoch\", \"Train Loss\", \"Train Acc\", \"Val Loss\", \"Val Acc\", \"F1 Score\", \"Learning Rate\"])\n",
    "        \n",
    "# Check if the epoch results CSV file exists. If not, create it and write the header.\n",
    "if not os.path.exists(test_csv_path):\n",
    "    with open(test_csv_path, mode='w', newline='') as file:\n",
    "        writer = csv.writer(file)\n",
    "        writer.writerow([\"Config\", \"Test Loss\", \"Test Acc\", \"F1 Score\"])"
   ]
  },
  {
   "cell_type": "code",
   "execution_count": 25,
   "id": "36ece644-8389-406b-b8e9-802ac5a1f946",
   "metadata": {},
   "outputs": [
    {
     "name": "stdout",
     "output_type": "stream",
     "text": [
      "Start model9 with configuration patch size: 32, num_heads: 8, embedding_dims: 256, num_layers: 6\n"
     ]
    },
    {
     "name": "stderr",
     "output_type": "stream",
     "text": [
      "Epoch 1/1000: 100%|██████████| 422/422 [00:34<00:00, 12.12it/s, Loss=1.7742, Acc=0.2622]\n"
     ]
    },
    {
     "name": "stdout",
     "output_type": "stream",
     "text": [
      "Epoch 1/1000: Train Loss: 1.7742, Train Acc: 0.2622\n"
     ]
    },
    {
     "name": "stderr",
     "output_type": "stream",
     "text": [
      "Validation: 100%|██████████| 47/47 [00:01<00:00, 31.63it/s, Loss=1.7677, Acc=0.2740]\n"
     ]
    },
    {
     "name": "stdout",
     "output_type": "stream",
     "text": [
      "Epoch 1/1000: Val Loss: 1.7677, Val Acc: 0.2740, Val F1: 0.2382\n",
      "Current Learning Rate: 3e-05\n",
      "Best model saved at ../Experiment Augment Result/model9_augment_best.pt with accuracy: 0.2740\n"
     ]
    },
    {
     "name": "stderr",
     "output_type": "stream",
     "text": [
      "Epoch 2/1000: 100%|██████████| 422/422 [00:34<00:00, 12.07it/s, Loss=1.7079, Acc=0.3094]\n"
     ]
    },
    {
     "name": "stdout",
     "output_type": "stream",
     "text": [
      "Epoch 2/1000: Train Loss: 1.7079, Train Acc: 0.3094\n"
     ]
    },
    {
     "name": "stderr",
     "output_type": "stream",
     "text": [
      "Validation: 100%|██████████| 47/47 [00:01<00:00, 31.70it/s, Loss=1.7039, Acc=0.3153]\n"
     ]
    },
    {
     "name": "stdout",
     "output_type": "stream",
     "text": [
      "Epoch 2/1000: Val Loss: 1.7039, Val Acc: 0.3153, Val F1: 0.2320\n",
      "Current Learning Rate: 3e-05\n",
      "Best model saved at ../Experiment Augment Result/model9_augment_best.pt with accuracy: 0.3153\n"
     ]
    },
    {
     "name": "stderr",
     "output_type": "stream",
     "text": [
      "Epoch 3/1000: 100%|██████████| 422/422 [00:34<00:00, 12.40it/s, Loss=1.6683, Acc=0.3352]\n"
     ]
    },
    {
     "name": "stdout",
     "output_type": "stream",
     "text": [
      "Epoch 3/1000: Train Loss: 1.6683, Train Acc: 0.3352\n"
     ]
    },
    {
     "name": "stderr",
     "output_type": "stream",
     "text": [
      "Validation: 100%|██████████| 47/47 [00:01<00:00, 31.73it/s, Loss=1.6364, Acc=0.3530]\n"
     ]
    },
    {
     "name": "stdout",
     "output_type": "stream",
     "text": [
      "Epoch 3/1000: Val Loss: 1.6364, Val Acc: 0.3530, Val F1: 0.2872\n",
      "Current Learning Rate: 3e-05\n",
      "Best model saved at ../Experiment Augment Result/model9_augment_best.pt with accuracy: 0.3530\n"
     ]
    },
    {
     "name": "stderr",
     "output_type": "stream",
     "text": [
      "Epoch 4/1000: 100%|██████████| 422/422 [00:34<00:00, 12.35it/s, Loss=1.6302, Acc=0.3571]\n"
     ]
    },
    {
     "name": "stdout",
     "output_type": "stream",
     "text": [
      "Epoch 4/1000: Train Loss: 1.6302, Train Acc: 0.3571\n"
     ]
    },
    {
     "name": "stderr",
     "output_type": "stream",
     "text": [
      "Validation: 100%|██████████| 47/47 [00:01<00:00, 31.48it/s, Loss=1.6038, Acc=0.3733]\n"
     ]
    },
    {
     "name": "stdout",
     "output_type": "stream",
     "text": [
      "Epoch 4/1000: Val Loss: 1.6038, Val Acc: 0.3733, Val F1: 0.3154\n",
      "Current Learning Rate: 3e-05\n",
      "Best model saved at ../Experiment Augment Result/model9_augment_best.pt with accuracy: 0.3733\n"
     ]
    },
    {
     "name": "stderr",
     "output_type": "stream",
     "text": [
      "Epoch 5/1000: 100%|██████████| 422/422 [00:34<00:00, 12.24it/s, Loss=1.6064, Acc=0.3688]\n"
     ]
    },
    {
     "name": "stdout",
     "output_type": "stream",
     "text": [
      "Epoch 5/1000: Train Loss: 1.6064, Train Acc: 0.3688\n"
     ]
    },
    {
     "name": "stderr",
     "output_type": "stream",
     "text": [
      "Validation: 100%|██████████| 47/47 [00:01<00:00, 31.04it/s, Loss=1.5852, Acc=0.3790]\n"
     ]
    },
    {
     "name": "stdout",
     "output_type": "stream",
     "text": [
      "Epoch 5/1000: Val Loss: 1.5852, Val Acc: 0.3790, Val F1: 0.3223\n",
      "Current Learning Rate: 3e-05\n",
      "Best model saved at ../Experiment Augment Result/model9_augment_best.pt with accuracy: 0.3790\n"
     ]
    },
    {
     "name": "stderr",
     "output_type": "stream",
     "text": [
      "Epoch 6/1000: 100%|██████████| 422/422 [00:34<00:00, 12.30it/s, Loss=1.5879, Acc=0.3795]\n"
     ]
    },
    {
     "name": "stdout",
     "output_type": "stream",
     "text": [
      "Epoch 6/1000: Train Loss: 1.5879, Train Acc: 0.3795\n"
     ]
    },
    {
     "name": "stderr",
     "output_type": "stream",
     "text": [
      "Validation: 100%|██████████| 47/47 [00:01<00:00, 29.42it/s, Loss=1.5702, Acc=0.3917]\n"
     ]
    },
    {
     "name": "stdout",
     "output_type": "stream",
     "text": [
      "Epoch 6/1000: Val Loss: 1.5702, Val Acc: 0.3917, Val F1: 0.3476\n",
      "Current Learning Rate: 3e-05\n",
      "Best model saved at ../Experiment Augment Result/model9_augment_best.pt with accuracy: 0.3917\n"
     ]
    },
    {
     "name": "stderr",
     "output_type": "stream",
     "text": [
      "Epoch 7/1000: 100%|██████████| 422/422 [00:35<00:00, 11.93it/s, Loss=1.5670, Acc=0.3883]\n"
     ]
    },
    {
     "name": "stdout",
     "output_type": "stream",
     "text": [
      "Epoch 7/1000: Train Loss: 1.5670, Train Acc: 0.3883\n"
     ]
    },
    {
     "name": "stderr",
     "output_type": "stream",
     "text": [
      "Validation: 100%|██████████| 47/47 [00:01<00:00, 31.71it/s, Loss=1.5425, Acc=0.3960]\n"
     ]
    },
    {
     "name": "stdout",
     "output_type": "stream",
     "text": [
      "Epoch 7/1000: Val Loss: 1.5425, Val Acc: 0.3960, Val F1: 0.3712\n",
      "Current Learning Rate: 3e-05\n",
      "Best model saved at ../Experiment Augment Result/model9_augment_best.pt with accuracy: 0.3960\n"
     ]
    },
    {
     "name": "stderr",
     "output_type": "stream",
     "text": [
      "Epoch 8/1000: 100%|██████████| 422/422 [00:34<00:00, 12.40it/s, Loss=1.5587, Acc=0.3909]\n"
     ]
    },
    {
     "name": "stdout",
     "output_type": "stream",
     "text": [
      "Epoch 8/1000: Train Loss: 1.5587, Train Acc: 0.3909\n"
     ]
    },
    {
     "name": "stderr",
     "output_type": "stream",
     "text": [
      "Validation: 100%|██████████| 47/47 [00:01<00:00, 31.74it/s, Loss=1.5264, Acc=0.4053]\n"
     ]
    },
    {
     "name": "stdout",
     "output_type": "stream",
     "text": [
      "Epoch 8/1000: Val Loss: 1.5264, Val Acc: 0.4053, Val F1: 0.3876\n",
      "Current Learning Rate: 3e-05\n",
      "Best model saved at ../Experiment Augment Result/model9_augment_best.pt with accuracy: 0.4053\n"
     ]
    },
    {
     "name": "stderr",
     "output_type": "stream",
     "text": [
      "Epoch 9/1000: 100%|██████████| 422/422 [00:34<00:00, 12.38it/s, Loss=1.5406, Acc=0.3971]\n"
     ]
    },
    {
     "name": "stdout",
     "output_type": "stream",
     "text": [
      "Epoch 9/1000: Train Loss: 1.5406, Train Acc: 0.3971\n"
     ]
    },
    {
     "name": "stderr",
     "output_type": "stream",
     "text": [
      "Validation: 100%|██████████| 47/47 [00:01<00:00, 31.66it/s, Loss=1.5337, Acc=0.3987]\n"
     ]
    },
    {
     "name": "stdout",
     "output_type": "stream",
     "text": [
      "Epoch 9/1000: Val Loss: 1.5337, Val Acc: 0.3987, Val F1: 0.3414\n",
      "Current Learning Rate: 3e-05\n"
     ]
    },
    {
     "name": "stderr",
     "output_type": "stream",
     "text": [
      "Epoch 10/1000: 100%|██████████| 422/422 [00:34<00:00, 12.37it/s, Loss=1.5241, Acc=0.4059]\n"
     ]
    },
    {
     "name": "stdout",
     "output_type": "stream",
     "text": [
      "Epoch 10/1000: Train Loss: 1.5241, Train Acc: 0.4059\n"
     ]
    },
    {
     "name": "stderr",
     "output_type": "stream",
     "text": [
      "Validation: 100%|██████████| 47/47 [00:01<00:00, 31.59it/s, Loss=1.5016, Acc=0.4137]\n"
     ]
    },
    {
     "name": "stdout",
     "output_type": "stream",
     "text": [
      "Epoch 10/1000: Val Loss: 1.5016, Val Acc: 0.4137, Val F1: 0.3663\n",
      "Current Learning Rate: 3e-05\n",
      "Best model saved at ../Experiment Augment Result/model9_augment_best.pt with accuracy: 0.4137\n"
     ]
    },
    {
     "name": "stderr",
     "output_type": "stream",
     "text": [
      "Epoch 11/1000: 100%|██████████| 422/422 [00:34<00:00, 12.41it/s, Loss=1.5087, Acc=0.4090]\n"
     ]
    },
    {
     "name": "stdout",
     "output_type": "stream",
     "text": [
      "Epoch 11/1000: Train Loss: 1.5087, Train Acc: 0.4090\n"
     ]
    },
    {
     "name": "stderr",
     "output_type": "stream",
     "text": [
      "Validation: 100%|██████████| 47/47 [00:01<00:00, 31.68it/s, Loss=1.5080, Acc=0.4013]\n"
     ]
    },
    {
     "name": "stdout",
     "output_type": "stream",
     "text": [
      "Epoch 11/1000: Val Loss: 1.5080, Val Acc: 0.4013, Val F1: 0.3887\n",
      "Current Learning Rate: 3e-05\n"
     ]
    },
    {
     "name": "stderr",
     "output_type": "stream",
     "text": [
      "Epoch 12/1000: 100%|██████████| 422/422 [00:34<00:00, 12.35it/s, Loss=1.5064, Acc=0.4109]\n"
     ]
    },
    {
     "name": "stdout",
     "output_type": "stream",
     "text": [
      "Epoch 12/1000: Train Loss: 1.5064, Train Acc: 0.4109\n"
     ]
    },
    {
     "name": "stderr",
     "output_type": "stream",
     "text": [
      "Validation: 100%|██████████| 47/47 [00:01<00:00, 31.68it/s, Loss=1.4854, Acc=0.4217]\n"
     ]
    },
    {
     "name": "stdout",
     "output_type": "stream",
     "text": [
      "Epoch 12/1000: Val Loss: 1.4854, Val Acc: 0.4217, Val F1: 0.3773\n",
      "Current Learning Rate: 3e-05\n",
      "Best model saved at ../Experiment Augment Result/model9_augment_best.pt with accuracy: 0.4217\n"
     ]
    },
    {
     "name": "stderr",
     "output_type": "stream",
     "text": [
      "Epoch 13/1000: 100%|██████████| 422/422 [00:34<00:00, 12.41it/s, Loss=1.4888, Acc=0.4181]\n"
     ]
    },
    {
     "name": "stdout",
     "output_type": "stream",
     "text": [
      "Epoch 13/1000: Train Loss: 1.4888, Train Acc: 0.4181\n"
     ]
    },
    {
     "name": "stderr",
     "output_type": "stream",
     "text": [
      "Validation: 100%|██████████| 47/47 [00:01<00:00, 31.53it/s, Loss=1.4615, Acc=0.4377]\n"
     ]
    },
    {
     "name": "stdout",
     "output_type": "stream",
     "text": [
      "Epoch 13/1000: Val Loss: 1.4615, Val Acc: 0.4377, Val F1: 0.4197\n",
      "Current Learning Rate: 3e-05\n",
      "Best model saved at ../Experiment Augment Result/model9_augment_best.pt with accuracy: 0.4377\n"
     ]
    },
    {
     "name": "stderr",
     "output_type": "stream",
     "text": [
      "Epoch 14/1000: 100%|██████████| 422/422 [00:34<00:00, 12.37it/s, Loss=1.4740, Acc=0.4235]\n"
     ]
    },
    {
     "name": "stdout",
     "output_type": "stream",
     "text": [
      "Epoch 14/1000: Train Loss: 1.4740, Train Acc: 0.4235\n"
     ]
    },
    {
     "name": "stderr",
     "output_type": "stream",
     "text": [
      "Validation: 100%|██████████| 47/47 [00:01<00:00, 31.38it/s, Loss=1.4826, Acc=0.4223]\n"
     ]
    },
    {
     "name": "stdout",
     "output_type": "stream",
     "text": [
      "Epoch 14/1000: Val Loss: 1.4826, Val Acc: 0.4223, Val F1: 0.3786\n",
      "Current Learning Rate: 3e-05\n"
     ]
    },
    {
     "name": "stderr",
     "output_type": "stream",
     "text": [
      "Epoch 15/1000: 100%|██████████| 422/422 [00:34<00:00, 12.40it/s, Loss=1.4655, Acc=0.4283]\n"
     ]
    },
    {
     "name": "stdout",
     "output_type": "stream",
     "text": [
      "Epoch 15/1000: Train Loss: 1.4655, Train Acc: 0.4283\n"
     ]
    },
    {
     "name": "stderr",
     "output_type": "stream",
     "text": [
      "Validation: 100%|██████████| 47/47 [00:01<00:00, 31.14it/s, Loss=1.4734, Acc=0.4217]\n"
     ]
    },
    {
     "name": "stdout",
     "output_type": "stream",
     "text": [
      "Epoch 15/1000: Val Loss: 1.4734, Val Acc: 0.4217, Val F1: 0.4195\n",
      "Current Learning Rate: 3e-05\n"
     ]
    },
    {
     "name": "stderr",
     "output_type": "stream",
     "text": [
      "Epoch 16/1000: 100%|██████████| 422/422 [00:34<00:00, 12.27it/s, Loss=1.4515, Acc=0.4362]\n"
     ]
    },
    {
     "name": "stdout",
     "output_type": "stream",
     "text": [
      "Epoch 16/1000: Train Loss: 1.4515, Train Acc: 0.4362\n"
     ]
    },
    {
     "name": "stderr",
     "output_type": "stream",
     "text": [
      "Validation: 100%|██████████| 47/47 [00:01<00:00, 32.96it/s, Loss=1.4519, Acc=0.4387]\n"
     ]
    },
    {
     "name": "stdout",
     "output_type": "stream",
     "text": [
      "Epoch 16/1000: Val Loss: 1.4519, Val Acc: 0.4387, Val F1: 0.4258\n",
      "Current Learning Rate: 3e-05\n",
      "Best model saved at ../Experiment Augment Result/model9_augment_best.pt with accuracy: 0.4387\n"
     ]
    },
    {
     "name": "stderr",
     "output_type": "stream",
     "text": [
      "Epoch 17/1000: 100%|██████████| 422/422 [00:33<00:00, 12.69it/s, Loss=1.4398, Acc=0.4416]\n"
     ]
    },
    {
     "name": "stdout",
     "output_type": "stream",
     "text": [
      "Epoch 17/1000: Train Loss: 1.4398, Train Acc: 0.4416\n"
     ]
    },
    {
     "name": "stderr",
     "output_type": "stream",
     "text": [
      "Validation: 100%|██████████| 47/47 [00:01<00:00, 31.81it/s, Loss=1.4253, Acc=0.4450]\n"
     ]
    },
    {
     "name": "stdout",
     "output_type": "stream",
     "text": [
      "Epoch 17/1000: Val Loss: 1.4253, Val Acc: 0.4450, Val F1: 0.4293\n",
      "Current Learning Rate: 3e-05\n",
      "Best model saved at ../Experiment Augment Result/model9_augment_best.pt with accuracy: 0.4450\n"
     ]
    },
    {
     "name": "stderr",
     "output_type": "stream",
     "text": [
      "Epoch 18/1000: 100%|██████████| 422/422 [00:34<00:00, 12.36it/s, Loss=1.4288, Acc=0.4478]\n"
     ]
    },
    {
     "name": "stdout",
     "output_type": "stream",
     "text": [
      "Epoch 18/1000: Train Loss: 1.4288, Train Acc: 0.4478\n"
     ]
    },
    {
     "name": "stderr",
     "output_type": "stream",
     "text": [
      "Validation: 100%|██████████| 47/47 [00:01<00:00, 31.66it/s, Loss=1.4383, Acc=0.4390]\n"
     ]
    },
    {
     "name": "stdout",
     "output_type": "stream",
     "text": [
      "Epoch 18/1000: Val Loss: 1.4383, Val Acc: 0.4390, Val F1: 0.4309\n",
      "Current Learning Rate: 3e-05\n"
     ]
    },
    {
     "name": "stderr",
     "output_type": "stream",
     "text": [
      "Epoch 19/1000: 100%|██████████| 422/422 [00:34<00:00, 12.39it/s, Loss=1.4156, Acc=0.4505]\n"
     ]
    },
    {
     "name": "stdout",
     "output_type": "stream",
     "text": [
      "Epoch 19/1000: Train Loss: 1.4156, Train Acc: 0.4505\n"
     ]
    },
    {
     "name": "stderr",
     "output_type": "stream",
     "text": [
      "Validation: 100%|██████████| 47/47 [00:01<00:00, 27.35it/s, Loss=1.4096, Acc=0.4507]\n"
     ]
    },
    {
     "name": "stdout",
     "output_type": "stream",
     "text": [
      "Epoch 19/1000: Val Loss: 1.4096, Val Acc: 0.4507, Val F1: 0.4218\n",
      "Current Learning Rate: 3e-05\n",
      "Best model saved at ../Experiment Augment Result/model9_augment_best.pt with accuracy: 0.4507\n"
     ]
    },
    {
     "name": "stderr",
     "output_type": "stream",
     "text": [
      "Epoch 20/1000: 100%|██████████| 422/422 [00:35<00:00, 11.92it/s, Loss=1.4050, Acc=0.4549]\n"
     ]
    },
    {
     "name": "stdout",
     "output_type": "stream",
     "text": [
      "Epoch 20/1000: Train Loss: 1.4050, Train Acc: 0.4549\n"
     ]
    },
    {
     "name": "stderr",
     "output_type": "stream",
     "text": [
      "Validation: 100%|██████████| 47/47 [00:01<00:00, 31.53it/s, Loss=1.4131, Acc=0.4543]\n"
     ]
    },
    {
     "name": "stdout",
     "output_type": "stream",
     "text": [
      "Epoch 20/1000: Val Loss: 1.4131, Val Acc: 0.4543, Val F1: 0.4256\n",
      "Current Learning Rate: 3e-05\n",
      "Best model saved at ../Experiment Augment Result/model9_augment_best.pt with accuracy: 0.4543\n"
     ]
    },
    {
     "name": "stderr",
     "output_type": "stream",
     "text": [
      "Epoch 21/1000: 100%|██████████| 422/422 [00:34<00:00, 12.32it/s, Loss=1.4011, Acc=0.4558]\n"
     ]
    },
    {
     "name": "stdout",
     "output_type": "stream",
     "text": [
      "Epoch 21/1000: Train Loss: 1.4011, Train Acc: 0.4558\n"
     ]
    },
    {
     "name": "stderr",
     "output_type": "stream",
     "text": [
      "Validation: 100%|██████████| 47/47 [00:01<00:00, 31.76it/s, Loss=1.3932, Acc=0.4580]\n"
     ]
    },
    {
     "name": "stdout",
     "output_type": "stream",
     "text": [
      "Epoch 21/1000: Val Loss: 1.3932, Val Acc: 0.4580, Val F1: 0.4501\n",
      "Current Learning Rate: 3e-05\n",
      "Best model saved at ../Experiment Augment Result/model9_augment_best.pt with accuracy: 0.4580\n"
     ]
    },
    {
     "name": "stderr",
     "output_type": "stream",
     "text": [
      "Epoch 22/1000: 100%|██████████| 422/422 [00:34<00:00, 12.15it/s, Loss=1.3900, Acc=0.4604]\n"
     ]
    },
    {
     "name": "stdout",
     "output_type": "stream",
     "text": [
      "Epoch 22/1000: Train Loss: 1.3900, Train Acc: 0.4604\n"
     ]
    },
    {
     "name": "stderr",
     "output_type": "stream",
     "text": [
      "Validation: 100%|██████████| 47/47 [00:01<00:00, 31.69it/s, Loss=1.3930, Acc=0.4650]\n"
     ]
    },
    {
     "name": "stdout",
     "output_type": "stream",
     "text": [
      "Epoch 22/1000: Val Loss: 1.3930, Val Acc: 0.4650, Val F1: 0.4414\n",
      "Current Learning Rate: 3e-05\n",
      "Best model saved at ../Experiment Augment Result/model9_augment_best.pt with accuracy: 0.4650\n"
     ]
    },
    {
     "name": "stderr",
     "output_type": "stream",
     "text": [
      "Epoch 23/1000: 100%|██████████| 422/422 [00:34<00:00, 12.31it/s, Loss=1.3792, Acc=0.4662]\n"
     ]
    },
    {
     "name": "stdout",
     "output_type": "stream",
     "text": [
      "Epoch 23/1000: Train Loss: 1.3792, Train Acc: 0.4662\n"
     ]
    },
    {
     "name": "stderr",
     "output_type": "stream",
     "text": [
      "Validation: 100%|██████████| 47/47 [00:01<00:00, 30.94it/s, Loss=1.3787, Acc=0.4610]\n"
     ]
    },
    {
     "name": "stdout",
     "output_type": "stream",
     "text": [
      "Epoch 23/1000: Val Loss: 1.3787, Val Acc: 0.4610, Val F1: 0.4353\n",
      "Current Learning Rate: 3e-05\n"
     ]
    },
    {
     "name": "stderr",
     "output_type": "stream",
     "text": [
      "Epoch 24/1000: 100%|██████████| 422/422 [00:35<00:00, 11.82it/s, Loss=1.3687, Acc=0.4715]\n"
     ]
    },
    {
     "name": "stdout",
     "output_type": "stream",
     "text": [
      "Epoch 24/1000: Train Loss: 1.3687, Train Acc: 0.4715\n"
     ]
    },
    {
     "name": "stderr",
     "output_type": "stream",
     "text": [
      "Validation: 100%|██████████| 47/47 [00:01<00:00, 29.68it/s, Loss=1.3802, Acc=0.4713]\n"
     ]
    },
    {
     "name": "stdout",
     "output_type": "stream",
     "text": [
      "Epoch 24/1000: Val Loss: 1.3802, Val Acc: 0.4713, Val F1: 0.4663\n",
      "Current Learning Rate: 3e-05\n",
      "Best model saved at ../Experiment Augment Result/model9_augment_best.pt with accuracy: 0.4713\n"
     ]
    },
    {
     "name": "stderr",
     "output_type": "stream",
     "text": [
      "Epoch 25/1000: 100%|██████████| 422/422 [00:34<00:00, 12.31it/s, Loss=1.3653, Acc=0.4706]\n"
     ]
    },
    {
     "name": "stdout",
     "output_type": "stream",
     "text": [
      "Epoch 25/1000: Train Loss: 1.3653, Train Acc: 0.4706\n"
     ]
    },
    {
     "name": "stderr",
     "output_type": "stream",
     "text": [
      "Validation: 100%|██████████| 47/47 [00:01<00:00, 31.69it/s, Loss=1.3651, Acc=0.4787]\n"
     ]
    },
    {
     "name": "stdout",
     "output_type": "stream",
     "text": [
      "Epoch 25/1000: Val Loss: 1.3651, Val Acc: 0.4787, Val F1: 0.4658\n",
      "Current Learning Rate: 3e-05\n",
      "Best model saved at ../Experiment Augment Result/model9_augment_best.pt with accuracy: 0.4787\n"
     ]
    },
    {
     "name": "stderr",
     "output_type": "stream",
     "text": [
      "Epoch 26/1000: 100%|██████████| 422/422 [00:35<00:00, 11.92it/s, Loss=1.3543, Acc=0.4760]\n"
     ]
    },
    {
     "name": "stdout",
     "output_type": "stream",
     "text": [
      "Epoch 26/1000: Train Loss: 1.3543, Train Acc: 0.4760\n"
     ]
    },
    {
     "name": "stderr",
     "output_type": "stream",
     "text": [
      "Validation: 100%|██████████| 47/47 [00:01<00:00, 31.69it/s, Loss=1.3633, Acc=0.4733]\n"
     ]
    },
    {
     "name": "stdout",
     "output_type": "stream",
     "text": [
      "Epoch 26/1000: Val Loss: 1.3633, Val Acc: 0.4733, Val F1: 0.4554\n",
      "Current Learning Rate: 3e-05\n"
     ]
    },
    {
     "name": "stderr",
     "output_type": "stream",
     "text": [
      "Epoch 27/1000: 100%|██████████| 422/422 [00:34<00:00, 12.31it/s, Loss=1.3462, Acc=0.4786]\n"
     ]
    },
    {
     "name": "stdout",
     "output_type": "stream",
     "text": [
      "Epoch 27/1000: Train Loss: 1.3462, Train Acc: 0.4786\n"
     ]
    },
    {
     "name": "stderr",
     "output_type": "stream",
     "text": [
      "Validation: 100%|██████████| 47/47 [00:01<00:00, 31.65it/s, Loss=1.3472, Acc=0.4800]\n"
     ]
    },
    {
     "name": "stdout",
     "output_type": "stream",
     "text": [
      "Epoch 27/1000: Val Loss: 1.3472, Val Acc: 0.4800, Val F1: 0.4673\n",
      "Current Learning Rate: 3e-05\n",
      "Best model saved at ../Experiment Augment Result/model9_augment_best.pt with accuracy: 0.4800\n"
     ]
    },
    {
     "name": "stderr",
     "output_type": "stream",
     "text": [
      "Epoch 28/1000: 100%|██████████| 422/422 [00:34<00:00, 12.41it/s, Loss=1.3318, Acc=0.4816]\n"
     ]
    },
    {
     "name": "stdout",
     "output_type": "stream",
     "text": [
      "Epoch 28/1000: Train Loss: 1.3318, Train Acc: 0.4816\n"
     ]
    },
    {
     "name": "stderr",
     "output_type": "stream",
     "text": [
      "Validation: 100%|██████████| 47/47 [00:01<00:00, 31.63it/s, Loss=1.3538, Acc=0.4773]\n"
     ]
    },
    {
     "name": "stdout",
     "output_type": "stream",
     "text": [
      "Epoch 28/1000: Val Loss: 1.3538, Val Acc: 0.4773, Val F1: 0.4566\n",
      "Current Learning Rate: 3e-05\n"
     ]
    },
    {
     "name": "stderr",
     "output_type": "stream",
     "text": [
      "Epoch 29/1000: 100%|██████████| 422/422 [00:33<00:00, 12.60it/s, Loss=1.3246, Acc=0.4887]\n"
     ]
    },
    {
     "name": "stdout",
     "output_type": "stream",
     "text": [
      "Epoch 29/1000: Train Loss: 1.3246, Train Acc: 0.4887\n"
     ]
    },
    {
     "name": "stderr",
     "output_type": "stream",
     "text": [
      "Validation: 100%|██████████| 47/47 [00:01<00:00, 33.70it/s, Loss=1.3483, Acc=0.4783]\n"
     ]
    },
    {
     "name": "stdout",
     "output_type": "stream",
     "text": [
      "Epoch 29/1000: Val Loss: 1.3483, Val Acc: 0.4783, Val F1: 0.4653\n",
      "Current Learning Rate: 3e-05\n"
     ]
    },
    {
     "name": "stderr",
     "output_type": "stream",
     "text": [
      "Epoch 30/1000: 100%|██████████| 422/422 [00:33<00:00, 12.75it/s, Loss=1.3178, Acc=0.4881]\n"
     ]
    },
    {
     "name": "stdout",
     "output_type": "stream",
     "text": [
      "Epoch 30/1000: Train Loss: 1.3178, Train Acc: 0.4881\n"
     ]
    },
    {
     "name": "stderr",
     "output_type": "stream",
     "text": [
      "Validation: 100%|██████████| 47/47 [00:01<00:00, 33.68it/s, Loss=1.3372, Acc=0.4847]\n"
     ]
    },
    {
     "name": "stdout",
     "output_type": "stream",
     "text": [
      "Epoch 30/1000: Val Loss: 1.3372, Val Acc: 0.4847, Val F1: 0.4621\n",
      "Current Learning Rate: 3e-05\n",
      "Best model saved at ../Experiment Augment Result/model9_augment_best.pt with accuracy: 0.4847\n"
     ]
    },
    {
     "name": "stderr",
     "output_type": "stream",
     "text": [
      "Epoch 31/1000: 100%|██████████| 422/422 [00:34<00:00, 12.07it/s, Loss=1.3086, Acc=0.4924]\n"
     ]
    },
    {
     "name": "stdout",
     "output_type": "stream",
     "text": [
      "Epoch 31/1000: Train Loss: 1.3086, Train Acc: 0.4924\n"
     ]
    },
    {
     "name": "stderr",
     "output_type": "stream",
     "text": [
      "Validation: 100%|██████████| 47/47 [00:01<00:00, 33.87it/s, Loss=1.3354, Acc=0.4947]\n"
     ]
    },
    {
     "name": "stdout",
     "output_type": "stream",
     "text": [
      "Epoch 31/1000: Val Loss: 1.3354, Val Acc: 0.4947, Val F1: 0.4770\n",
      "Current Learning Rate: 3e-05\n",
      "Best model saved at ../Experiment Augment Result/model9_augment_best.pt with accuracy: 0.4947\n"
     ]
    },
    {
     "name": "stderr",
     "output_type": "stream",
     "text": [
      "Epoch 32/1000: 100%|██████████| 422/422 [00:34<00:00, 12.33it/s, Loss=1.3031, Acc=0.4969]\n"
     ]
    },
    {
     "name": "stdout",
     "output_type": "stream",
     "text": [
      "Epoch 32/1000: Train Loss: 1.3031, Train Acc: 0.4969\n"
     ]
    },
    {
     "name": "stderr",
     "output_type": "stream",
     "text": [
      "Validation: 100%|██████████| 47/47 [00:01<00:00, 33.91it/s, Loss=1.3268, Acc=0.4900]\n"
     ]
    },
    {
     "name": "stdout",
     "output_type": "stream",
     "text": [
      "Epoch 32/1000: Val Loss: 1.3268, Val Acc: 0.4900, Val F1: 0.4852\n",
      "Current Learning Rate: 3e-05\n"
     ]
    },
    {
     "name": "stderr",
     "output_type": "stream",
     "text": [
      "Epoch 33/1000: 100%|██████████| 422/422 [00:33<00:00, 12.70it/s, Loss=1.2959, Acc=0.5017]\n"
     ]
    },
    {
     "name": "stdout",
     "output_type": "stream",
     "text": [
      "Epoch 33/1000: Train Loss: 1.2959, Train Acc: 0.5017\n"
     ]
    },
    {
     "name": "stderr",
     "output_type": "stream",
     "text": [
      "Validation: 100%|██████████| 47/47 [00:01<00:00, 33.86it/s, Loss=1.3317, Acc=0.4917]\n"
     ]
    },
    {
     "name": "stdout",
     "output_type": "stream",
     "text": [
      "Epoch 33/1000: Val Loss: 1.3317, Val Acc: 0.4917, Val F1: 0.4793\n",
      "Current Learning Rate: 3e-05\n"
     ]
    },
    {
     "name": "stderr",
     "output_type": "stream",
     "text": [
      "Epoch 34/1000: 100%|██████████| 422/422 [00:33<00:00, 12.43it/s, Loss=1.2916, Acc=0.5028]\n"
     ]
    },
    {
     "name": "stdout",
     "output_type": "stream",
     "text": [
      "Epoch 34/1000: Train Loss: 1.2916, Train Acc: 0.5028\n"
     ]
    },
    {
     "name": "stderr",
     "output_type": "stream",
     "text": [
      "Validation: 100%|██████████| 47/47 [00:01<00:00, 33.84it/s, Loss=1.3604, Acc=0.4723]\n"
     ]
    },
    {
     "name": "stdout",
     "output_type": "stream",
     "text": [
      "Epoch 34/1000: Val Loss: 1.3604, Val Acc: 0.4723, Val F1: 0.4758\n",
      "Current Learning Rate: 3e-05\n"
     ]
    },
    {
     "name": "stderr",
     "output_type": "stream",
     "text": [
      "Epoch 35/1000: 100%|██████████| 422/422 [00:34<00:00, 12.29it/s, Loss=1.2844, Acc=0.5063]\n"
     ]
    },
    {
     "name": "stdout",
     "output_type": "stream",
     "text": [
      "Epoch 35/1000: Train Loss: 1.2844, Train Acc: 0.5063\n"
     ]
    },
    {
     "name": "stderr",
     "output_type": "stream",
     "text": [
      "Validation: 100%|██████████| 47/47 [00:01<00:00, 33.84it/s, Loss=1.3185, Acc=0.4983]\n"
     ]
    },
    {
     "name": "stdout",
     "output_type": "stream",
     "text": [
      "Epoch 35/1000: Val Loss: 1.3185, Val Acc: 0.4983, Val F1: 0.4849\n",
      "Current Learning Rate: 3e-05\n",
      "Best model saved at ../Experiment Augment Result/model9_augment_best.pt with accuracy: 0.4983\n"
     ]
    },
    {
     "name": "stderr",
     "output_type": "stream",
     "text": [
      "Epoch 36/1000: 100%|██████████| 422/422 [00:33<00:00, 12.59it/s, Loss=1.2743, Acc=0.5096]\n"
     ]
    },
    {
     "name": "stdout",
     "output_type": "stream",
     "text": [
      "Epoch 36/1000: Train Loss: 1.2743, Train Acc: 0.5096\n"
     ]
    },
    {
     "name": "stderr",
     "output_type": "stream",
     "text": [
      "Validation: 100%|██████████| 47/47 [00:01<00:00, 33.55it/s, Loss=1.3238, Acc=0.4883]\n"
     ]
    },
    {
     "name": "stdout",
     "output_type": "stream",
     "text": [
      "Epoch 36/1000: Val Loss: 1.3238, Val Acc: 0.4883, Val F1: 0.4705\n",
      "Current Learning Rate: 3e-05\n"
     ]
    },
    {
     "name": "stderr",
     "output_type": "stream",
     "text": [
      "Epoch 37/1000: 100%|██████████| 422/422 [00:33<00:00, 12.64it/s, Loss=1.2728, Acc=0.5092]\n"
     ]
    },
    {
     "name": "stdout",
     "output_type": "stream",
     "text": [
      "Epoch 37/1000: Train Loss: 1.2728, Train Acc: 0.5092\n"
     ]
    },
    {
     "name": "stderr",
     "output_type": "stream",
     "text": [
      "Validation: 100%|██████████| 47/47 [00:01<00:00, 32.43it/s, Loss=1.3113, Acc=0.4967]\n"
     ]
    },
    {
     "name": "stdout",
     "output_type": "stream",
     "text": [
      "Epoch 37/1000: Val Loss: 1.3113, Val Acc: 0.4967, Val F1: 0.4799\n",
      "Current Learning Rate: 3e-05\n"
     ]
    },
    {
     "name": "stderr",
     "output_type": "stream",
     "text": [
      "Epoch 38/1000: 100%|██████████| 422/422 [00:34<00:00, 12.34it/s, Loss=1.2622, Acc=0.5161]\n"
     ]
    },
    {
     "name": "stdout",
     "output_type": "stream",
     "text": [
      "Epoch 38/1000: Train Loss: 1.2622, Train Acc: 0.5161\n"
     ]
    },
    {
     "name": "stderr",
     "output_type": "stream",
     "text": [
      "Validation: 100%|██████████| 47/47 [00:01<00:00, 30.16it/s, Loss=1.3067, Acc=0.4923]\n"
     ]
    },
    {
     "name": "stdout",
     "output_type": "stream",
     "text": [
      "Epoch 38/1000: Val Loss: 1.3067, Val Acc: 0.4923, Val F1: 0.4746\n",
      "Current Learning Rate: 3e-05\n"
     ]
    },
    {
     "name": "stderr",
     "output_type": "stream",
     "text": [
      "Epoch 39/1000: 100%|██████████| 422/422 [00:34<00:00, 12.10it/s, Loss=1.2519, Acc=0.5170]\n"
     ]
    },
    {
     "name": "stdout",
     "output_type": "stream",
     "text": [
      "Epoch 39/1000: Train Loss: 1.2519, Train Acc: 0.5170\n"
     ]
    },
    {
     "name": "stderr",
     "output_type": "stream",
     "text": [
      "Validation: 100%|██████████| 47/47 [00:01<00:00, 31.61it/s, Loss=1.2984, Acc=0.5043]\n"
     ]
    },
    {
     "name": "stdout",
     "output_type": "stream",
     "text": [
      "Epoch 39/1000: Val Loss: 1.2984, Val Acc: 0.5043, Val F1: 0.4958\n",
      "Current Learning Rate: 3e-05\n",
      "Best model saved at ../Experiment Augment Result/model9_augment_best.pt with accuracy: 0.5043\n"
     ]
    },
    {
     "name": "stderr",
     "output_type": "stream",
     "text": [
      "Epoch 40/1000: 100%|██████████| 422/422 [00:34<00:00, 12.35it/s, Loss=1.2488, Acc=0.5219]\n"
     ]
    },
    {
     "name": "stdout",
     "output_type": "stream",
     "text": [
      "Epoch 40/1000: Train Loss: 1.2488, Train Acc: 0.5219\n"
     ]
    },
    {
     "name": "stderr",
     "output_type": "stream",
     "text": [
      "Validation: 100%|██████████| 47/47 [00:01<00:00, 31.40it/s, Loss=1.3120, Acc=0.5063]\n"
     ]
    },
    {
     "name": "stdout",
     "output_type": "stream",
     "text": [
      "Epoch 40/1000: Val Loss: 1.3120, Val Acc: 0.5063, Val F1: 0.4907\n",
      "Current Learning Rate: 3e-05\n",
      "Best model saved at ../Experiment Augment Result/model9_augment_best.pt with accuracy: 0.5063\n"
     ]
    },
    {
     "name": "stderr",
     "output_type": "stream",
     "text": [
      "Epoch 41/1000: 100%|██████████| 422/422 [00:34<00:00, 12.36it/s, Loss=1.2466, Acc=0.5217]\n"
     ]
    },
    {
     "name": "stdout",
     "output_type": "stream",
     "text": [
      "Epoch 41/1000: Train Loss: 1.2466, Train Acc: 0.5217\n"
     ]
    },
    {
     "name": "stderr",
     "output_type": "stream",
     "text": [
      "Validation: 100%|██████████| 47/47 [00:01<00:00, 31.74it/s, Loss=1.3124, Acc=0.5000]\n"
     ]
    },
    {
     "name": "stdout",
     "output_type": "stream",
     "text": [
      "Epoch 41/1000: Val Loss: 1.3124, Val Acc: 0.5000, Val F1: 0.4985\n",
      "Current Learning Rate: 3e-05\n"
     ]
    },
    {
     "name": "stderr",
     "output_type": "stream",
     "text": [
      "Epoch 42/1000: 100%|██████████| 422/422 [00:34<00:00, 12.33it/s, Loss=1.2387, Acc=0.5237]\n"
     ]
    },
    {
     "name": "stdout",
     "output_type": "stream",
     "text": [
      "Epoch 42/1000: Train Loss: 1.2387, Train Acc: 0.5237\n"
     ]
    },
    {
     "name": "stderr",
     "output_type": "stream",
     "text": [
      "Validation: 100%|██████████| 47/47 [00:01<00:00, 31.74it/s, Loss=1.2929, Acc=0.5057]\n"
     ]
    },
    {
     "name": "stdout",
     "output_type": "stream",
     "text": [
      "Epoch 42/1000: Val Loss: 1.2929, Val Acc: 0.5057, Val F1: 0.5039\n",
      "Current Learning Rate: 3e-05\n"
     ]
    },
    {
     "name": "stderr",
     "output_type": "stream",
     "text": [
      "Epoch 43/1000: 100%|██████████| 422/422 [00:34<00:00, 12.34it/s, Loss=1.2255, Acc=0.5311]\n"
     ]
    },
    {
     "name": "stdout",
     "output_type": "stream",
     "text": [
      "Epoch 43/1000: Train Loss: 1.2255, Train Acc: 0.5311\n"
     ]
    },
    {
     "name": "stderr",
     "output_type": "stream",
     "text": [
      "Validation: 100%|██████████| 47/47 [00:01<00:00, 31.52it/s, Loss=1.2912, Acc=0.4990]\n"
     ]
    },
    {
     "name": "stdout",
     "output_type": "stream",
     "text": [
      "Epoch 43/1000: Val Loss: 1.2912, Val Acc: 0.4990, Val F1: 0.4888\n",
      "Current Learning Rate: 3e-05\n"
     ]
    },
    {
     "name": "stderr",
     "output_type": "stream",
     "text": [
      "Epoch 44/1000: 100%|██████████| 422/422 [00:35<00:00, 11.85it/s, Loss=1.2170, Acc=0.5322]\n"
     ]
    },
    {
     "name": "stdout",
     "output_type": "stream",
     "text": [
      "Epoch 44/1000: Train Loss: 1.2170, Train Acc: 0.5322\n"
     ]
    },
    {
     "name": "stderr",
     "output_type": "stream",
     "text": [
      "Validation: 100%|██████████| 47/47 [00:01<00:00, 31.64it/s, Loss=1.2928, Acc=0.5130]\n"
     ]
    },
    {
     "name": "stdout",
     "output_type": "stream",
     "text": [
      "Epoch 44/1000: Val Loss: 1.2928, Val Acc: 0.5130, Val F1: 0.5039\n",
      "Current Learning Rate: 3e-05\n",
      "Best model saved at ../Experiment Augment Result/model9_augment_best.pt with accuracy: 0.5130\n"
     ]
    },
    {
     "name": "stderr",
     "output_type": "stream",
     "text": [
      "Epoch 45/1000: 100%|██████████| 422/422 [00:33<00:00, 12.42it/s, Loss=1.2167, Acc=0.5316]\n"
     ]
    },
    {
     "name": "stdout",
     "output_type": "stream",
     "text": [
      "Epoch 45/1000: Train Loss: 1.2167, Train Acc: 0.5316\n"
     ]
    },
    {
     "name": "stderr",
     "output_type": "stream",
     "text": [
      "Validation: 100%|██████████| 47/47 [00:01<00:00, 31.38it/s, Loss=1.2835, Acc=0.5097]\n"
     ]
    },
    {
     "name": "stdout",
     "output_type": "stream",
     "text": [
      "Epoch 45/1000: Val Loss: 1.2835, Val Acc: 0.5097, Val F1: 0.5012\n",
      "Current Learning Rate: 3e-05\n"
     ]
    },
    {
     "name": "stderr",
     "output_type": "stream",
     "text": [
      "Epoch 46/1000: 100%|██████████| 422/422 [00:35<00:00, 11.90it/s, Loss=1.2070, Acc=0.5383]\n"
     ]
    },
    {
     "name": "stdout",
     "output_type": "stream",
     "text": [
      "Epoch 46/1000: Train Loss: 1.2070, Train Acc: 0.5383\n"
     ]
    },
    {
     "name": "stderr",
     "output_type": "stream",
     "text": [
      "Validation: 100%|██████████| 47/47 [00:01<00:00, 33.38it/s, Loss=1.2935, Acc=0.5070]\n"
     ]
    },
    {
     "name": "stdout",
     "output_type": "stream",
     "text": [
      "Epoch 46/1000: Val Loss: 1.2935, Val Acc: 0.5070, Val F1: 0.4975\n",
      "Current Learning Rate: 3e-05\n"
     ]
    },
    {
     "name": "stderr",
     "output_type": "stream",
     "text": [
      "Epoch 47/1000: 100%|██████████| 422/422 [00:33<00:00, 12.53it/s, Loss=1.2000, Acc=0.5440]\n"
     ]
    },
    {
     "name": "stdout",
     "output_type": "stream",
     "text": [
      "Epoch 47/1000: Train Loss: 1.2000, Train Acc: 0.5440\n"
     ]
    },
    {
     "name": "stderr",
     "output_type": "stream",
     "text": [
      "Validation: 100%|██████████| 47/47 [00:01<00:00, 31.62it/s, Loss=1.3041, Acc=0.5090]\n"
     ]
    },
    {
     "name": "stdout",
     "output_type": "stream",
     "text": [
      "Epoch 47/1000: Val Loss: 1.3041, Val Acc: 0.5090, Val F1: 0.4942\n",
      "Current Learning Rate: 3e-05\n"
     ]
    },
    {
     "name": "stderr",
     "output_type": "stream",
     "text": [
      "Epoch 48/1000: 100%|██████████| 422/422 [00:34<00:00, 12.19it/s, Loss=1.1902, Acc=0.5478]\n"
     ]
    },
    {
     "name": "stdout",
     "output_type": "stream",
     "text": [
      "Epoch 48/1000: Train Loss: 1.1902, Train Acc: 0.5478\n"
     ]
    },
    {
     "name": "stderr",
     "output_type": "stream",
     "text": [
      "Validation: 100%|██████████| 47/47 [00:01<00:00, 31.69it/s, Loss=1.2831, Acc=0.5153]\n"
     ]
    },
    {
     "name": "stdout",
     "output_type": "stream",
     "text": [
      "Epoch 48/1000: Val Loss: 1.2831, Val Acc: 0.5153, Val F1: 0.4956\n",
      "Current Learning Rate: 3e-05\n",
      "Best model saved at ../Experiment Augment Result/model9_augment_best.pt with accuracy: 0.5153\n"
     ]
    },
    {
     "name": "stderr",
     "output_type": "stream",
     "text": [
      "Epoch 49/1000: 100%|██████████| 422/422 [00:35<00:00, 12.00it/s, Loss=1.1829, Acc=0.5479]\n"
     ]
    },
    {
     "name": "stdout",
     "output_type": "stream",
     "text": [
      "Epoch 49/1000: Train Loss: 1.1829, Train Acc: 0.5479\n"
     ]
    },
    {
     "name": "stderr",
     "output_type": "stream",
     "text": [
      "Validation: 100%|██████████| 47/47 [00:01<00:00, 31.69it/s, Loss=1.2850, Acc=0.5140]\n"
     ]
    },
    {
     "name": "stdout",
     "output_type": "stream",
     "text": [
      "Epoch 49/1000: Val Loss: 1.2850, Val Acc: 0.5140, Val F1: 0.5117\n",
      "Current Learning Rate: 3e-05\n"
     ]
    },
    {
     "name": "stderr",
     "output_type": "stream",
     "text": [
      "Epoch 50/1000: 100%|██████████| 422/422 [00:34<00:00, 12.23it/s, Loss=1.1755, Acc=0.5499]\n"
     ]
    },
    {
     "name": "stdout",
     "output_type": "stream",
     "text": [
      "Epoch 50/1000: Train Loss: 1.1755, Train Acc: 0.5499\n"
     ]
    },
    {
     "name": "stderr",
     "output_type": "stream",
     "text": [
      "Validation: 100%|██████████| 47/47 [00:01<00:00, 31.67it/s, Loss=1.2737, Acc=0.5143]\n"
     ]
    },
    {
     "name": "stdout",
     "output_type": "stream",
     "text": [
      "Epoch 50/1000: Val Loss: 1.2737, Val Acc: 0.5143, Val F1: 0.5110\n",
      "Current Learning Rate: 3e-05\n"
     ]
    },
    {
     "name": "stderr",
     "output_type": "stream",
     "text": [
      "Epoch 51/1000: 100%|██████████| 422/422 [00:34<00:00, 12.37it/s, Loss=1.1711, Acc=0.5531]\n"
     ]
    },
    {
     "name": "stdout",
     "output_type": "stream",
     "text": [
      "Epoch 51/1000: Train Loss: 1.1711, Train Acc: 0.5531\n"
     ]
    },
    {
     "name": "stderr",
     "output_type": "stream",
     "text": [
      "Validation: 100%|██████████| 47/47 [00:01<00:00, 31.52it/s, Loss=1.2723, Acc=0.5170]\n"
     ]
    },
    {
     "name": "stdout",
     "output_type": "stream",
     "text": [
      "Epoch 51/1000: Val Loss: 1.2723, Val Acc: 0.5170, Val F1: 0.5107\n",
      "Current Learning Rate: 3e-05\n",
      "Best model saved at ../Experiment Augment Result/model9_augment_best.pt with accuracy: 0.5170\n"
     ]
    },
    {
     "name": "stderr",
     "output_type": "stream",
     "text": [
      "Epoch 52/1000: 100%|██████████| 422/422 [00:34<00:00, 12.22it/s, Loss=1.1623, Acc=0.5568]\n"
     ]
    },
    {
     "name": "stdout",
     "output_type": "stream",
     "text": [
      "Epoch 52/1000: Train Loss: 1.1623, Train Acc: 0.5568\n"
     ]
    },
    {
     "name": "stderr",
     "output_type": "stream",
     "text": [
      "Validation: 100%|██████████| 47/47 [00:01<00:00, 31.66it/s, Loss=1.2953, Acc=0.5080]\n"
     ]
    },
    {
     "name": "stdout",
     "output_type": "stream",
     "text": [
      "Epoch 52/1000: Val Loss: 1.2953, Val Acc: 0.5080, Val F1: 0.5092\n",
      "Current Learning Rate: 3e-05\n"
     ]
    },
    {
     "name": "stderr",
     "output_type": "stream",
     "text": [
      "Epoch 53/1000: 100%|██████████| 422/422 [00:35<00:00, 11.97it/s, Loss=1.1522, Acc=0.5610]\n"
     ]
    },
    {
     "name": "stdout",
     "output_type": "stream",
     "text": [
      "Epoch 53/1000: Train Loss: 1.1522, Train Acc: 0.5610\n"
     ]
    },
    {
     "name": "stderr",
     "output_type": "stream",
     "text": [
      "Validation: 100%|██████████| 47/47 [00:01<00:00, 32.08it/s, Loss=1.2827, Acc=0.5217]\n"
     ]
    },
    {
     "name": "stdout",
     "output_type": "stream",
     "text": [
      "Epoch 53/1000: Val Loss: 1.2827, Val Acc: 0.5217, Val F1: 0.5118\n",
      "Current Learning Rate: 3e-05\n",
      "Best model saved at ../Experiment Augment Result/model9_augment_best.pt with accuracy: 0.5217\n"
     ]
    },
    {
     "name": "stderr",
     "output_type": "stream",
     "text": [
      "Epoch 54/1000: 100%|██████████| 422/422 [00:33<00:00, 12.58it/s, Loss=1.1493, Acc=0.5618]\n"
     ]
    },
    {
     "name": "stdout",
     "output_type": "stream",
     "text": [
      "Epoch 54/1000: Train Loss: 1.1493, Train Acc: 0.5618\n"
     ]
    },
    {
     "name": "stderr",
     "output_type": "stream",
     "text": [
      "Validation: 100%|██████████| 47/47 [00:01<00:00, 33.48it/s, Loss=1.2607, Acc=0.5307]\n"
     ]
    },
    {
     "name": "stdout",
     "output_type": "stream",
     "text": [
      "Epoch 54/1000: Val Loss: 1.2607, Val Acc: 0.5307, Val F1: 0.5200\n",
      "Current Learning Rate: 3e-05\n",
      "Best model saved at ../Experiment Augment Result/model9_augment_best.pt with accuracy: 0.5307\n"
     ]
    },
    {
     "name": "stderr",
     "output_type": "stream",
     "text": [
      "Epoch 55/1000: 100%|██████████| 422/422 [00:34<00:00, 12.38it/s, Loss=1.1427, Acc=0.5641]\n"
     ]
    },
    {
     "name": "stdout",
     "output_type": "stream",
     "text": [
      "Epoch 55/1000: Train Loss: 1.1427, Train Acc: 0.5641\n"
     ]
    },
    {
     "name": "stderr",
     "output_type": "stream",
     "text": [
      "Validation: 100%|██████████| 47/47 [00:01<00:00, 31.70it/s, Loss=1.2658, Acc=0.5220]\n"
     ]
    },
    {
     "name": "stdout",
     "output_type": "stream",
     "text": [
      "Epoch 55/1000: Val Loss: 1.2658, Val Acc: 0.5220, Val F1: 0.5192\n",
      "Current Learning Rate: 3e-05\n"
     ]
    },
    {
     "name": "stderr",
     "output_type": "stream",
     "text": [
      "Epoch 56/1000: 100%|██████████| 422/422 [00:33<00:00, 12.67it/s, Loss=1.1381, Acc=0.5664]\n"
     ]
    },
    {
     "name": "stdout",
     "output_type": "stream",
     "text": [
      "Epoch 56/1000: Train Loss: 1.1381, Train Acc: 0.5664\n"
     ]
    },
    {
     "name": "stderr",
     "output_type": "stream",
     "text": [
      "Validation: 100%|██████████| 47/47 [00:01<00:00, 33.08it/s, Loss=1.2714, Acc=0.5177]\n"
     ]
    },
    {
     "name": "stdout",
     "output_type": "stream",
     "text": [
      "Epoch 56/1000: Val Loss: 1.2714, Val Acc: 0.5177, Val F1: 0.5048\n",
      "Current Learning Rate: 3e-05\n"
     ]
    },
    {
     "name": "stderr",
     "output_type": "stream",
     "text": [
      "Epoch 57/1000: 100%|██████████| 422/422 [00:33<00:00, 12.55it/s, Loss=1.1327, Acc=0.5677]\n"
     ]
    },
    {
     "name": "stdout",
     "output_type": "stream",
     "text": [
      "Epoch 57/1000: Train Loss: 1.1327, Train Acc: 0.5677\n"
     ]
    },
    {
     "name": "stderr",
     "output_type": "stream",
     "text": [
      "Validation: 100%|██████████| 47/47 [00:01<00:00, 32.41it/s, Loss=1.2725, Acc=0.5237]\n"
     ]
    },
    {
     "name": "stdout",
     "output_type": "stream",
     "text": [
      "Epoch 57/1000: Val Loss: 1.2725, Val Acc: 0.5237, Val F1: 0.5186\n",
      "Current Learning Rate: 3e-05\n"
     ]
    },
    {
     "name": "stderr",
     "output_type": "stream",
     "text": [
      "Epoch 58/1000: 100%|██████████| 422/422 [00:33<00:00, 12.68it/s, Loss=1.1231, Acc=0.5731]\n"
     ]
    },
    {
     "name": "stdout",
     "output_type": "stream",
     "text": [
      "Epoch 58/1000: Train Loss: 1.1231, Train Acc: 0.5731\n"
     ]
    },
    {
     "name": "stderr",
     "output_type": "stream",
     "text": [
      "Validation: 100%|██████████| 47/47 [00:01<00:00, 33.93it/s, Loss=1.2635, Acc=0.5257]\n"
     ]
    },
    {
     "name": "stdout",
     "output_type": "stream",
     "text": [
      "Epoch 58/1000: Val Loss: 1.2635, Val Acc: 0.5257, Val F1: 0.5203\n",
      "Current Learning Rate: 3e-05\n"
     ]
    },
    {
     "name": "stderr",
     "output_type": "stream",
     "text": [
      "Epoch 59/1000: 100%|██████████| 422/422 [00:32<00:00, 12.80it/s, Loss=1.1202, Acc=0.5724]\n"
     ]
    },
    {
     "name": "stdout",
     "output_type": "stream",
     "text": [
      "Epoch 59/1000: Train Loss: 1.1202, Train Acc: 0.5724\n"
     ]
    },
    {
     "name": "stderr",
     "output_type": "stream",
     "text": [
      "Validation: 100%|██████████| 47/47 [00:01<00:00, 33.83it/s, Loss=1.2815, Acc=0.5123]\n"
     ]
    },
    {
     "name": "stdout",
     "output_type": "stream",
     "text": [
      "Epoch 59/1000: Val Loss: 1.2815, Val Acc: 0.5123, Val F1: 0.5092\n",
      "Current Learning Rate: 3e-05\n"
     ]
    },
    {
     "name": "stderr",
     "output_type": "stream",
     "text": [
      "Epoch 60/1000: 100%|██████████| 422/422 [00:33<00:00, 12.44it/s, Loss=1.1058, Acc=0.5816]\n"
     ]
    },
    {
     "name": "stdout",
     "output_type": "stream",
     "text": [
      "Epoch 60/1000: Train Loss: 1.1058, Train Acc: 0.5816\n"
     ]
    },
    {
     "name": "stderr",
     "output_type": "stream",
     "text": [
      "Validation: 100%|██████████| 47/47 [00:01<00:00, 33.69it/s, Loss=1.2712, Acc=0.5233]\n"
     ]
    },
    {
     "name": "stdout",
     "output_type": "stream",
     "text": [
      "Epoch 60/1000: Val Loss: 1.2712, Val Acc: 0.5233, Val F1: 0.5165\n",
      "Current Learning Rate: 3e-06\n"
     ]
    },
    {
     "name": "stderr",
     "output_type": "stream",
     "text": [
      "Epoch 61/1000: 100%|██████████| 422/422 [00:33<00:00, 12.74it/s, Loss=1.0566, Acc=0.5990]\n"
     ]
    },
    {
     "name": "stdout",
     "output_type": "stream",
     "text": [
      "Epoch 61/1000: Train Loss: 1.0566, Train Acc: 0.5990\n"
     ]
    },
    {
     "name": "stderr",
     "output_type": "stream",
     "text": [
      "Validation: 100%|██████████| 47/47 [00:01<00:00, 33.87it/s, Loss=1.2436, Acc=0.5300]\n"
     ]
    },
    {
     "name": "stdout",
     "output_type": "stream",
     "text": [
      "Epoch 61/1000: Val Loss: 1.2436, Val Acc: 0.5300, Val F1: 0.5242\n",
      "Current Learning Rate: 3e-06\n"
     ]
    },
    {
     "name": "stderr",
     "output_type": "stream",
     "text": [
      "Epoch 62/1000: 100%|██████████| 422/422 [00:33<00:00, 12.44it/s, Loss=1.0436, Acc=0.6068]\n"
     ]
    },
    {
     "name": "stdout",
     "output_type": "stream",
     "text": [
      "Epoch 62/1000: Train Loss: 1.0436, Train Acc: 0.6068\n"
     ]
    },
    {
     "name": "stderr",
     "output_type": "stream",
     "text": [
      "Validation: 100%|██████████| 47/47 [00:01<00:00, 31.54it/s, Loss=1.2378, Acc=0.5313]\n"
     ]
    },
    {
     "name": "stdout",
     "output_type": "stream",
     "text": [
      "Epoch 62/1000: Val Loss: 1.2378, Val Acc: 0.5313, Val F1: 0.5274\n",
      "Current Learning Rate: 3e-06\n",
      "Best model saved at ../Experiment Augment Result/model9_augment_best.pt with accuracy: 0.5313\n"
     ]
    },
    {
     "name": "stderr",
     "output_type": "stream",
     "text": [
      "Epoch 63/1000: 100%|██████████| 422/422 [00:33<00:00, 12.61it/s, Loss=1.0310, Acc=0.6117]\n"
     ]
    },
    {
     "name": "stdout",
     "output_type": "stream",
     "text": [
      "Epoch 63/1000: Train Loss: 1.0310, Train Acc: 0.6117\n"
     ]
    },
    {
     "name": "stderr",
     "output_type": "stream",
     "text": [
      "Validation: 100%|██████████| 47/47 [00:01<00:00, 33.78it/s, Loss=1.2417, Acc=0.5333]\n"
     ]
    },
    {
     "name": "stdout",
     "output_type": "stream",
     "text": [
      "Epoch 63/1000: Val Loss: 1.2417, Val Acc: 0.5333, Val F1: 0.5258\n",
      "Current Learning Rate: 3e-06\n",
      "Best model saved at ../Experiment Augment Result/model9_augment_best.pt with accuracy: 0.5333\n"
     ]
    },
    {
     "name": "stderr",
     "output_type": "stream",
     "text": [
      "Epoch 64/1000: 100%|██████████| 422/422 [00:33<00:00, 12.60it/s, Loss=1.0273, Acc=0.6129]\n"
     ]
    },
    {
     "name": "stdout",
     "output_type": "stream",
     "text": [
      "Epoch 64/1000: Train Loss: 1.0273, Train Acc: 0.6129\n"
     ]
    },
    {
     "name": "stderr",
     "output_type": "stream",
     "text": [
      "Validation: 100%|██████████| 47/47 [00:01<00:00, 33.85it/s, Loss=1.2374, Acc=0.5313]\n"
     ]
    },
    {
     "name": "stdout",
     "output_type": "stream",
     "text": [
      "Epoch 64/1000: Val Loss: 1.2374, Val Acc: 0.5313, Val F1: 0.5256\n",
      "Current Learning Rate: 3e-06\n"
     ]
    },
    {
     "name": "stderr",
     "output_type": "stream",
     "text": [
      "Epoch 65/1000: 100%|██████████| 422/422 [00:33<00:00, 12.41it/s, Loss=1.0179, Acc=0.6201]\n"
     ]
    },
    {
     "name": "stdout",
     "output_type": "stream",
     "text": [
      "Epoch 65/1000: Train Loss: 1.0179, Train Acc: 0.6201\n"
     ]
    },
    {
     "name": "stderr",
     "output_type": "stream",
     "text": [
      "Validation: 100%|██████████| 47/47 [00:01<00:00, 33.93it/s, Loss=1.2366, Acc=0.5413]\n"
     ]
    },
    {
     "name": "stdout",
     "output_type": "stream",
     "text": [
      "Epoch 65/1000: Val Loss: 1.2366, Val Acc: 0.5413, Val F1: 0.5363\n",
      "Current Learning Rate: 3e-06\n",
      "Best model saved at ../Experiment Augment Result/model9_augment_best.pt with accuracy: 0.5413\n"
     ]
    },
    {
     "name": "stderr",
     "output_type": "stream",
     "text": [
      "Epoch 66/1000: 100%|██████████| 422/422 [00:33<00:00, 12.72it/s, Loss=1.0199, Acc=0.6156]\n"
     ]
    },
    {
     "name": "stdout",
     "output_type": "stream",
     "text": [
      "Epoch 66/1000: Train Loss: 1.0199, Train Acc: 0.6156\n"
     ]
    },
    {
     "name": "stderr",
     "output_type": "stream",
     "text": [
      "Validation: 100%|██████████| 47/47 [00:01<00:00, 33.85it/s, Loss=1.2405, Acc=0.5390]\n"
     ]
    },
    {
     "name": "stdout",
     "output_type": "stream",
     "text": [
      "Epoch 66/1000: Val Loss: 1.2405, Val Acc: 0.5390, Val F1: 0.5320\n",
      "Current Learning Rate: 3e-06\n"
     ]
    },
    {
     "name": "stderr",
     "output_type": "stream",
     "text": [
      "Epoch 67/1000: 100%|██████████| 422/422 [00:34<00:00, 12.39it/s, Loss=1.0158, Acc=0.6197]\n"
     ]
    },
    {
     "name": "stdout",
     "output_type": "stream",
     "text": [
      "Epoch 67/1000: Train Loss: 1.0158, Train Acc: 0.6197\n"
     ]
    },
    {
     "name": "stderr",
     "output_type": "stream",
     "text": [
      "Validation: 100%|██████████| 47/47 [00:01<00:00, 33.29it/s, Loss=1.2385, Acc=0.5380]\n"
     ]
    },
    {
     "name": "stdout",
     "output_type": "stream",
     "text": [
      "Epoch 67/1000: Val Loss: 1.2385, Val Acc: 0.5380, Val F1: 0.5317\n",
      "Current Learning Rate: 3e-06\n"
     ]
    },
    {
     "name": "stderr",
     "output_type": "stream",
     "text": [
      "Epoch 68/1000: 100%|██████████| 422/422 [00:33<00:00, 12.66it/s, Loss=1.0074, Acc=0.6213]\n"
     ]
    },
    {
     "name": "stdout",
     "output_type": "stream",
     "text": [
      "Epoch 68/1000: Train Loss: 1.0074, Train Acc: 0.6213\n"
     ]
    },
    {
     "name": "stderr",
     "output_type": "stream",
     "text": [
      "Validation: 100%|██████████| 47/47 [00:01<00:00, 33.82it/s, Loss=1.2395, Acc=0.5373]\n"
     ]
    },
    {
     "name": "stdout",
     "output_type": "stream",
     "text": [
      "Epoch 68/1000: Val Loss: 1.2395, Val Acc: 0.5373, Val F1: 0.5327\n",
      "Current Learning Rate: 3e-06\n"
     ]
    },
    {
     "name": "stderr",
     "output_type": "stream",
     "text": [
      "Epoch 69/1000: 100%|██████████| 422/422 [00:34<00:00, 12.15it/s, Loss=1.0084, Acc=0.6220]\n"
     ]
    },
    {
     "name": "stdout",
     "output_type": "stream",
     "text": [
      "Epoch 69/1000: Train Loss: 1.0084, Train Acc: 0.6220\n"
     ]
    },
    {
     "name": "stderr",
     "output_type": "stream",
     "text": [
      "Validation: 100%|██████████| 47/47 [00:01<00:00, 31.66it/s, Loss=1.2450, Acc=0.5357]\n"
     ]
    },
    {
     "name": "stdout",
     "output_type": "stream",
     "text": [
      "Epoch 69/1000: Val Loss: 1.2450, Val Acc: 0.5357, Val F1: 0.5307\n",
      "Current Learning Rate: 3e-06\n"
     ]
    },
    {
     "name": "stderr",
     "output_type": "stream",
     "text": [
      "Epoch 70/1000: 100%|██████████| 422/422 [00:33<00:00, 12.47it/s, Loss=1.0041, Acc=0.6178]\n"
     ]
    },
    {
     "name": "stdout",
     "output_type": "stream",
     "text": [
      "Epoch 70/1000: Train Loss: 1.0041, Train Acc: 0.6178\n"
     ]
    },
    {
     "name": "stderr",
     "output_type": "stream",
     "text": [
      "Validation: 100%|██████████| 47/47 [00:01<00:00, 31.39it/s, Loss=1.2372, Acc=0.5427]\n"
     ]
    },
    {
     "name": "stdout",
     "output_type": "stream",
     "text": [
      "Epoch 70/1000: Val Loss: 1.2372, Val Acc: 0.5427, Val F1: 0.5389\n",
      "Current Learning Rate: 3e-06\n",
      "Best model saved at ../Experiment Augment Result/model9_augment_best.pt with accuracy: 0.5427\n"
     ]
    },
    {
     "name": "stderr",
     "output_type": "stream",
     "text": [
      "Epoch 71/1000: 100%|██████████| 422/422 [00:34<00:00, 12.38it/s, Loss=1.0056, Acc=0.6237]\n"
     ]
    },
    {
     "name": "stdout",
     "output_type": "stream",
     "text": [
      "Epoch 71/1000: Train Loss: 1.0056, Train Acc: 0.6237\n"
     ]
    },
    {
     "name": "stderr",
     "output_type": "stream",
     "text": [
      "Validation: 100%|██████████| 47/47 [00:01<00:00, 32.86it/s, Loss=1.2372, Acc=0.5490]\n"
     ]
    },
    {
     "name": "stdout",
     "output_type": "stream",
     "text": [
      "Epoch 71/1000: Val Loss: 1.2372, Val Acc: 0.5490, Val F1: 0.5451\n",
      "Current Learning Rate: 3.0000000000000004e-07\n",
      "Best model saved at ../Experiment Augment Result/model9_augment_best.pt with accuracy: 0.5490\n"
     ]
    },
    {
     "name": "stderr",
     "output_type": "stream",
     "text": [
      "Epoch 72/1000: 100%|██████████| 422/422 [00:33<00:00, 12.61it/s, Loss=0.9976, Acc=0.6278]\n"
     ]
    },
    {
     "name": "stdout",
     "output_type": "stream",
     "text": [
      "Epoch 72/1000: Train Loss: 0.9976, Train Acc: 0.6278\n"
     ]
    },
    {
     "name": "stderr",
     "output_type": "stream",
     "text": [
      "Validation: 100%|██████████| 47/47 [00:01<00:00, 33.92it/s, Loss=1.2360, Acc=0.5507]\n"
     ]
    },
    {
     "name": "stdout",
     "output_type": "stream",
     "text": [
      "Epoch 72/1000: Val Loss: 1.2360, Val Acc: 0.5507, Val F1: 0.5458\n",
      "Current Learning Rate: 3.0000000000000004e-07\n",
      "Best model saved at ../Experiment Augment Result/model9_augment_best.pt with accuracy: 0.5507\n"
     ]
    },
    {
     "name": "stderr",
     "output_type": "stream",
     "text": [
      "Epoch 73/1000: 100%|██████████| 422/422 [00:33<00:00, 12.75it/s, Loss=0.9927, Acc=0.6291]\n"
     ]
    },
    {
     "name": "stdout",
     "output_type": "stream",
     "text": [
      "Epoch 73/1000: Train Loss: 0.9927, Train Acc: 0.6291\n"
     ]
    },
    {
     "name": "stderr",
     "output_type": "stream",
     "text": [
      "Validation: 100%|██████████| 47/47 [00:01<00:00, 33.87it/s, Loss=1.2368, Acc=0.5470]\n"
     ]
    },
    {
     "name": "stdout",
     "output_type": "stream",
     "text": [
      "Epoch 73/1000: Val Loss: 1.2368, Val Acc: 0.5470, Val F1: 0.5419\n",
      "Current Learning Rate: 3.0000000000000004e-07\n"
     ]
    },
    {
     "name": "stderr",
     "output_type": "stream",
     "text": [
      "Epoch 74/1000: 100%|██████████| 422/422 [00:33<00:00, 12.69it/s, Loss=0.9965, Acc=0.6236]\n"
     ]
    },
    {
     "name": "stdout",
     "output_type": "stream",
     "text": [
      "Epoch 74/1000: Train Loss: 0.9965, Train Acc: 0.6236\n"
     ]
    },
    {
     "name": "stderr",
     "output_type": "stream",
     "text": [
      "Validation: 100%|██████████| 47/47 [00:01<00:00, 33.46it/s, Loss=1.2362, Acc=0.5470]\n"
     ]
    },
    {
     "name": "stdout",
     "output_type": "stream",
     "text": [
      "Epoch 74/1000: Val Loss: 1.2362, Val Acc: 0.5470, Val F1: 0.5418\n",
      "Current Learning Rate: 3.0000000000000004e-07\n"
     ]
    },
    {
     "name": "stderr",
     "output_type": "stream",
     "text": [
      "Epoch 75/1000: 100%|██████████| 422/422 [00:33<00:00, 12.61it/s, Loss=0.9938, Acc=0.6258]\n"
     ]
    },
    {
     "name": "stdout",
     "output_type": "stream",
     "text": [
      "Epoch 75/1000: Train Loss: 0.9938, Train Acc: 0.6258\n"
     ]
    },
    {
     "name": "stderr",
     "output_type": "stream",
     "text": [
      "Validation: 100%|██████████| 47/47 [00:01<00:00, 30.62it/s, Loss=1.2380, Acc=0.5467]\n"
     ]
    },
    {
     "name": "stdout",
     "output_type": "stream",
     "text": [
      "Epoch 75/1000: Val Loss: 1.2380, Val Acc: 0.5467, Val F1: 0.5414\n",
      "Current Learning Rate: 3.0000000000000004e-07\n"
     ]
    },
    {
     "name": "stderr",
     "output_type": "stream",
     "text": [
      "Epoch 76/1000: 100%|██████████| 422/422 [00:34<00:00, 12.30it/s, Loss=0.9910, Acc=0.6266]\n"
     ]
    },
    {
     "name": "stdout",
     "output_type": "stream",
     "text": [
      "Epoch 76/1000: Train Loss: 0.9910, Train Acc: 0.6266\n"
     ]
    },
    {
     "name": "stderr",
     "output_type": "stream",
     "text": [
      "Validation: 100%|██████████| 47/47 [00:01<00:00, 31.28it/s, Loss=1.2372, Acc=0.5470]\n"
     ]
    },
    {
     "name": "stdout",
     "output_type": "stream",
     "text": [
      "Epoch 76/1000: Val Loss: 1.2372, Val Acc: 0.5470, Val F1: 0.5418\n",
      "Current Learning Rate: 3.0000000000000004e-07\n"
     ]
    },
    {
     "name": "stderr",
     "output_type": "stream",
     "text": [
      "Epoch 77/1000: 100%|██████████| 422/422 [00:34<00:00, 12.39it/s, Loss=0.9928, Acc=0.6284]\n"
     ]
    },
    {
     "name": "stdout",
     "output_type": "stream",
     "text": [
      "Epoch 77/1000: Train Loss: 0.9928, Train Acc: 0.6284\n"
     ]
    },
    {
     "name": "stderr",
     "output_type": "stream",
     "text": [
      "Validation: 100%|██████████| 47/47 [00:01<00:00, 32.25it/s, Loss=1.2372, Acc=0.5473]\n"
     ]
    },
    {
     "name": "stdout",
     "output_type": "stream",
     "text": [
      "Epoch 77/1000: Val Loss: 1.2372, Val Acc: 0.5473, Val F1: 0.5423\n",
      "Current Learning Rate: 3.0000000000000004e-07\n"
     ]
    },
    {
     "name": "stderr",
     "output_type": "stream",
     "text": [
      "Epoch 78/1000: 100%|██████████| 422/422 [00:34<00:00, 12.39it/s, Loss=0.9905, Acc=0.6254]\n"
     ]
    },
    {
     "name": "stdout",
     "output_type": "stream",
     "text": [
      "Epoch 78/1000: Train Loss: 0.9905, Train Acc: 0.6254\n"
     ]
    },
    {
     "name": "stderr",
     "output_type": "stream",
     "text": [
      "Validation: 100%|██████████| 47/47 [00:01<00:00, 31.58it/s, Loss=1.2375, Acc=0.5453]\n"
     ]
    },
    {
     "name": "stdout",
     "output_type": "stream",
     "text": [
      "Epoch 78/1000: Val Loss: 1.2375, Val Acc: 0.5453, Val F1: 0.5397\n",
      "Current Learning Rate: 3.0000000000000004e-08\n"
     ]
    },
    {
     "name": "stderr",
     "output_type": "stream",
     "text": [
      "Epoch 79/1000: 100%|██████████| 422/422 [00:34<00:00, 12.40it/s, Loss=0.9919, Acc=0.6279]\n"
     ]
    },
    {
     "name": "stdout",
     "output_type": "stream",
     "text": [
      "Epoch 79/1000: Train Loss: 0.9919, Train Acc: 0.6279\n"
     ]
    },
    {
     "name": "stderr",
     "output_type": "stream",
     "text": [
      "Validation: 100%|██████████| 47/47 [00:01<00:00, 31.59it/s, Loss=1.2372, Acc=0.5463]\n"
     ]
    },
    {
     "name": "stdout",
     "output_type": "stream",
     "text": [
      "Epoch 79/1000: Val Loss: 1.2372, Val Acc: 0.5463, Val F1: 0.5409\n",
      "Current Learning Rate: 3.0000000000000004e-08\n"
     ]
    },
    {
     "name": "stderr",
     "output_type": "stream",
     "text": [
      "Epoch 80/1000: 100%|██████████| 422/422 [00:34<00:00, 12.38it/s, Loss=0.9932, Acc=0.6269]\n"
     ]
    },
    {
     "name": "stdout",
     "output_type": "stream",
     "text": [
      "Epoch 80/1000: Train Loss: 0.9932, Train Acc: 0.6269\n"
     ]
    },
    {
     "name": "stderr",
     "output_type": "stream",
     "text": [
      "Validation: 100%|██████████| 47/47 [00:01<00:00, 31.61it/s, Loss=1.2373, Acc=0.5450]\n"
     ]
    },
    {
     "name": "stdout",
     "output_type": "stream",
     "text": [
      "Epoch 80/1000: Val Loss: 1.2373, Val Acc: 0.5450, Val F1: 0.5395\n",
      "Current Learning Rate: 3.0000000000000004e-08\n"
     ]
    },
    {
     "name": "stderr",
     "output_type": "stream",
     "text": [
      "Epoch 81/1000: 100%|██████████| 422/422 [00:34<00:00, 12.36it/s, Loss=0.9901, Acc=0.6290]\n"
     ]
    },
    {
     "name": "stdout",
     "output_type": "stream",
     "text": [
      "Epoch 81/1000: Train Loss: 0.9901, Train Acc: 0.6290\n"
     ]
    },
    {
     "name": "stderr",
     "output_type": "stream",
     "text": [
      "Validation: 100%|██████████| 47/47 [00:01<00:00, 31.76it/s, Loss=1.2372, Acc=0.5453]\n"
     ]
    },
    {
     "name": "stdout",
     "output_type": "stream",
     "text": [
      "Epoch 81/1000: Val Loss: 1.2372, Val Acc: 0.5453, Val F1: 0.5398\n",
      "Current Learning Rate: 3.0000000000000004e-08\n"
     ]
    },
    {
     "name": "stderr",
     "output_type": "stream",
     "text": [
      "Epoch 82/1000: 100%|██████████| 422/422 [00:34<00:00, 12.41it/s, Loss=0.9899, Acc=0.6279]\n"
     ]
    },
    {
     "name": "stdout",
     "output_type": "stream",
     "text": [
      "Epoch 82/1000: Train Loss: 0.9899, Train Acc: 0.6279\n"
     ]
    },
    {
     "name": "stderr",
     "output_type": "stream",
     "text": [
      "Validation: 100%|██████████| 47/47 [00:01<00:00, 31.01it/s, Loss=1.2374, Acc=0.5457]\n"
     ]
    },
    {
     "name": "stdout",
     "output_type": "stream",
     "text": [
      "Epoch 82/1000: Val Loss: 1.2374, Val Acc: 0.5457, Val F1: 0.5402\n",
      "Current Learning Rate: 3.0000000000000004e-08\n"
     ]
    },
    {
     "name": "stderr",
     "output_type": "stream",
     "text": [
      "Epoch 83/1000: 100%|██████████| 422/422 [00:34<00:00, 12.30it/s, Loss=0.9906, Acc=0.6278]\n"
     ]
    },
    {
     "name": "stdout",
     "output_type": "stream",
     "text": [
      "Epoch 83/1000: Train Loss: 0.9906, Train Acc: 0.6278\n"
     ]
    },
    {
     "name": "stderr",
     "output_type": "stream",
     "text": [
      "Validation: 100%|██████████| 47/47 [00:01<00:00, 31.07it/s, Loss=1.2371, Acc=0.5460]\n"
     ]
    },
    {
     "name": "stdout",
     "output_type": "stream",
     "text": [
      "Epoch 83/1000: Val Loss: 1.2371, Val Acc: 0.5460, Val F1: 0.5404\n",
      "Current Learning Rate: 3.0000000000000004e-08\n"
     ]
    },
    {
     "name": "stderr",
     "output_type": "stream",
     "text": [
      "Epoch 84/1000: 100%|██████████| 422/422 [00:34<00:00, 12.33it/s, Loss=0.9939, Acc=0.6267]\n"
     ]
    },
    {
     "name": "stdout",
     "output_type": "stream",
     "text": [
      "Epoch 84/1000: Train Loss: 0.9939, Train Acc: 0.6267\n"
     ]
    },
    {
     "name": "stderr",
     "output_type": "stream",
     "text": [
      "Validation: 100%|██████████| 47/47 [00:01<00:00, 31.83it/s, Loss=1.2374, Acc=0.5460]\n"
     ]
    },
    {
     "name": "stdout",
     "output_type": "stream",
     "text": [
      "Epoch 84/1000: Val Loss: 1.2374, Val Acc: 0.5460, Val F1: 0.5404\n",
      "Current Learning Rate: 3.0000000000000004e-09\n"
     ]
    },
    {
     "name": "stderr",
     "output_type": "stream",
     "text": [
      "Epoch 85/1000: 100%|██████████| 422/422 [00:34<00:00, 12.25it/s, Loss=0.9913, Acc=0.6276]\n"
     ]
    },
    {
     "name": "stdout",
     "output_type": "stream",
     "text": [
      "Epoch 85/1000: Train Loss: 0.9913, Train Acc: 0.6276\n"
     ]
    },
    {
     "name": "stderr",
     "output_type": "stream",
     "text": [
      "Validation: 100%|██████████| 47/47 [00:01<00:00, 31.53it/s, Loss=1.2380, Acc=0.5460]\n"
     ]
    },
    {
     "name": "stdout",
     "output_type": "stream",
     "text": [
      "Epoch 85/1000: Val Loss: 1.2380, Val Acc: 0.5460, Val F1: 0.5404\n",
      "Current Learning Rate: 3.0000000000000004e-09\n"
     ]
    },
    {
     "name": "stderr",
     "output_type": "stream",
     "text": [
      "Epoch 86/1000: 100%|██████████| 422/422 [00:34<00:00, 12.26it/s, Loss=0.9947, Acc=0.6253]\n"
     ]
    },
    {
     "name": "stdout",
     "output_type": "stream",
     "text": [
      "Epoch 86/1000: Train Loss: 0.9947, Train Acc: 0.6253\n"
     ]
    },
    {
     "name": "stderr",
     "output_type": "stream",
     "text": [
      "Validation: 100%|██████████| 47/47 [00:01<00:00, 31.69it/s, Loss=1.2368, Acc=0.5460]\n"
     ]
    },
    {
     "name": "stdout",
     "output_type": "stream",
     "text": [
      "Epoch 86/1000: Val Loss: 1.2368, Val Acc: 0.5460, Val F1: 0.5404\n",
      "Current Learning Rate: 3.0000000000000004e-09\n"
     ]
    },
    {
     "name": "stderr",
     "output_type": "stream",
     "text": [
      "Epoch 87/1000: 100%|██████████| 422/422 [00:34<00:00, 12.35it/s, Loss=0.9922, Acc=0.6267]\n"
     ]
    },
    {
     "name": "stdout",
     "output_type": "stream",
     "text": [
      "Epoch 87/1000: Train Loss: 0.9922, Train Acc: 0.6267\n"
     ]
    },
    {
     "name": "stderr",
     "output_type": "stream",
     "text": [
      "Validation: 100%|██████████| 47/47 [00:01<00:00, 29.14it/s, Loss=1.2376, Acc=0.5463]\n"
     ]
    },
    {
     "name": "stdout",
     "output_type": "stream",
     "text": [
      "Epoch 87/1000: Val Loss: 1.2376, Val Acc: 0.5463, Val F1: 0.5408\n",
      "Current Learning Rate: 3.0000000000000004e-09\n",
      "Early stopping triggered at epoch 87!\n"
     ]
    },
    {
     "name": "stderr",
     "output_type": "stream",
     "text": [
      "Testing: 100%|██████████| 53/53 [00:01<00:00, 31.99it/s, Loss=1.2533, Acc=0.5350]\n"
     ]
    },
    {
     "name": "stdout",
     "output_type": "stream",
     "text": [
      "Test Loss: 1.2533, Test Acc: 0.5350, Test F1: 0.5271\n",
      "Start model10 with configuration patch size: 32, num_heads: 8, embedding_dims: 256, num_layers: 12\n"
     ]
    },
    {
     "name": "stderr",
     "output_type": "stream",
     "text": [
      "Epoch 1/1000: 100%|██████████| 422/422 [00:47<00:00,  8.87it/s, Loss=1.7802, Acc=0.2606]\n"
     ]
    },
    {
     "name": "stdout",
     "output_type": "stream",
     "text": [
      "Epoch 1/1000: Train Loss: 1.7802, Train Acc: 0.2606\n"
     ]
    },
    {
     "name": "stderr",
     "output_type": "stream",
     "text": [
      "Validation: 100%|██████████| 47/47 [00:01<00:00, 24.70it/s, Loss=1.7510, Acc=0.2720]\n"
     ]
    },
    {
     "name": "stdout",
     "output_type": "stream",
     "text": [
      "Epoch 1/1000: Val Loss: 1.7510, Val Acc: 0.2720, Val F1: 0.2326\n",
      "Current Learning Rate: 3e-05\n",
      "Best model saved at ../Experiment Augment Result/model10_augment_best.pt with accuracy: 0.2720\n"
     ]
    },
    {
     "name": "stderr",
     "output_type": "stream",
     "text": [
      "Epoch 2/1000: 100%|██████████| 422/422 [00:47<00:00,  8.83it/s, Loss=1.7088, Acc=0.3124]\n"
     ]
    },
    {
     "name": "stdout",
     "output_type": "stream",
     "text": [
      "Epoch 2/1000: Train Loss: 1.7088, Train Acc: 0.3124\n"
     ]
    },
    {
     "name": "stderr",
     "output_type": "stream",
     "text": [
      "Validation: 100%|██████████| 47/47 [00:01<00:00, 24.82it/s, Loss=1.6733, Acc=0.3400]\n"
     ]
    },
    {
     "name": "stdout",
     "output_type": "stream",
     "text": [
      "Epoch 2/1000: Val Loss: 1.6733, Val Acc: 0.3400, Val F1: 0.2961\n",
      "Current Learning Rate: 3e-05\n",
      "Best model saved at ../Experiment Augment Result/model10_augment_best.pt with accuracy: 0.3400\n"
     ]
    },
    {
     "name": "stderr",
     "output_type": "stream",
     "text": [
      "Epoch 3/1000: 100%|██████████| 422/422 [00:47<00:00,  8.85it/s, Loss=1.6573, Acc=0.3386]\n"
     ]
    },
    {
     "name": "stdout",
     "output_type": "stream",
     "text": [
      "Epoch 3/1000: Train Loss: 1.6573, Train Acc: 0.3386\n"
     ]
    },
    {
     "name": "stderr",
     "output_type": "stream",
     "text": [
      "Validation: 100%|██████████| 47/47 [00:01<00:00, 24.86it/s, Loss=1.6270, Acc=0.3613]\n"
     ]
    },
    {
     "name": "stdout",
     "output_type": "stream",
     "text": [
      "Epoch 3/1000: Val Loss: 1.6270, Val Acc: 0.3613, Val F1: 0.2902\n",
      "Current Learning Rate: 3e-05\n",
      "Best model saved at ../Experiment Augment Result/model10_augment_best.pt with accuracy: 0.3613\n"
     ]
    },
    {
     "name": "stderr",
     "output_type": "stream",
     "text": [
      "Epoch 4/1000: 100%|██████████| 422/422 [00:47<00:00,  8.89it/s, Loss=1.6182, Acc=0.3646]\n"
     ]
    },
    {
     "name": "stdout",
     "output_type": "stream",
     "text": [
      "Epoch 4/1000: Train Loss: 1.6182, Train Acc: 0.3646\n"
     ]
    },
    {
     "name": "stderr",
     "output_type": "stream",
     "text": [
      "Validation: 100%|██████████| 47/47 [00:01<00:00, 24.76it/s, Loss=1.5923, Acc=0.3780]\n"
     ]
    },
    {
     "name": "stdout",
     "output_type": "stream",
     "text": [
      "Epoch 4/1000: Val Loss: 1.5923, Val Acc: 0.3780, Val F1: 0.3113\n",
      "Current Learning Rate: 3e-05\n",
      "Best model saved at ../Experiment Augment Result/model10_augment_best.pt with accuracy: 0.3780\n"
     ]
    },
    {
     "name": "stderr",
     "output_type": "stream",
     "text": [
      "Epoch 5/1000: 100%|██████████| 422/422 [00:48<00:00,  8.74it/s, Loss=1.5851, Acc=0.3803]\n"
     ]
    },
    {
     "name": "stdout",
     "output_type": "stream",
     "text": [
      "Epoch 5/1000: Train Loss: 1.5851, Train Acc: 0.3803\n"
     ]
    },
    {
     "name": "stderr",
     "output_type": "stream",
     "text": [
      "Validation: 100%|██████████| 47/47 [00:01<00:00, 24.77it/s, Loss=1.5555, Acc=0.3987]\n"
     ]
    },
    {
     "name": "stdout",
     "output_type": "stream",
     "text": [
      "Epoch 5/1000: Val Loss: 1.5555, Val Acc: 0.3987, Val F1: 0.3609\n",
      "Current Learning Rate: 3e-05\n",
      "Best model saved at ../Experiment Augment Result/model10_augment_best.pt with accuracy: 0.3987\n"
     ]
    },
    {
     "name": "stderr",
     "output_type": "stream",
     "text": [
      "Epoch 6/1000: 100%|██████████| 422/422 [00:47<00:00,  8.82it/s, Loss=1.5642, Acc=0.3896]\n"
     ]
    },
    {
     "name": "stdout",
     "output_type": "stream",
     "text": [
      "Epoch 6/1000: Train Loss: 1.5642, Train Acc: 0.3896\n"
     ]
    },
    {
     "name": "stderr",
     "output_type": "stream",
     "text": [
      "Validation: 100%|██████████| 47/47 [00:01<00:00, 24.55it/s, Loss=1.5446, Acc=0.4043]\n"
     ]
    },
    {
     "name": "stdout",
     "output_type": "stream",
     "text": [
      "Epoch 6/1000: Val Loss: 1.5446, Val Acc: 0.4043, Val F1: 0.3539\n",
      "Current Learning Rate: 3e-05\n",
      "Best model saved at ../Experiment Augment Result/model10_augment_best.pt with accuracy: 0.4043\n"
     ]
    },
    {
     "name": "stderr",
     "output_type": "stream",
     "text": [
      "Epoch 7/1000: 100%|██████████| 422/422 [00:49<00:00,  8.59it/s, Loss=1.5401, Acc=0.3983]\n"
     ]
    },
    {
     "name": "stdout",
     "output_type": "stream",
     "text": [
      "Epoch 7/1000: Train Loss: 1.5401, Train Acc: 0.3983\n"
     ]
    },
    {
     "name": "stderr",
     "output_type": "stream",
     "text": [
      "Validation: 100%|██████████| 47/47 [00:01<00:00, 24.78it/s, Loss=1.5204, Acc=0.4153]\n"
     ]
    },
    {
     "name": "stdout",
     "output_type": "stream",
     "text": [
      "Epoch 7/1000: Val Loss: 1.5204, Val Acc: 0.4153, Val F1: 0.3879\n",
      "Current Learning Rate: 3e-05\n",
      "Best model saved at ../Experiment Augment Result/model10_augment_best.pt with accuracy: 0.4153\n"
     ]
    },
    {
     "name": "stderr",
     "output_type": "stream",
     "text": [
      "Epoch 8/1000: 100%|██████████| 422/422 [00:49<00:00,  8.60it/s, Loss=1.5227, Acc=0.4075]\n"
     ]
    },
    {
     "name": "stdout",
     "output_type": "stream",
     "text": [
      "Epoch 8/1000: Train Loss: 1.5227, Train Acc: 0.4075\n"
     ]
    },
    {
     "name": "stderr",
     "output_type": "stream",
     "text": [
      "Validation: 100%|██████████| 47/47 [00:01<00:00, 23.91it/s, Loss=1.4875, Acc=0.4193]\n"
     ]
    },
    {
     "name": "stdout",
     "output_type": "stream",
     "text": [
      "Epoch 8/1000: Val Loss: 1.4875, Val Acc: 0.4193, Val F1: 0.4078\n",
      "Current Learning Rate: 3e-05\n",
      "Best model saved at ../Experiment Augment Result/model10_augment_best.pt with accuracy: 0.4193\n"
     ]
    },
    {
     "name": "stderr",
     "output_type": "stream",
     "text": [
      "Epoch 9/1000: 100%|██████████| 422/422 [00:48<00:00,  8.79it/s, Loss=1.5030, Acc=0.4145]\n"
     ]
    },
    {
     "name": "stdout",
     "output_type": "stream",
     "text": [
      "Epoch 9/1000: Train Loss: 1.5030, Train Acc: 0.4145\n"
     ]
    },
    {
     "name": "stderr",
     "output_type": "stream",
     "text": [
      "Validation: 100%|██████████| 47/47 [00:01<00:00, 24.82it/s, Loss=1.5102, Acc=0.4120]\n"
     ]
    },
    {
     "name": "stdout",
     "output_type": "stream",
     "text": [
      "Epoch 9/1000: Val Loss: 1.5102, Val Acc: 0.4120, Val F1: 0.3909\n",
      "Current Learning Rate: 3e-05\n"
     ]
    },
    {
     "name": "stderr",
     "output_type": "stream",
     "text": [
      "Epoch 10/1000: 100%|██████████| 422/422 [00:48<00:00,  8.76it/s, Loss=1.4862, Acc=0.4219]\n"
     ]
    },
    {
     "name": "stdout",
     "output_type": "stream",
     "text": [
      "Epoch 10/1000: Train Loss: 1.4862, Train Acc: 0.4219\n"
     ]
    },
    {
     "name": "stderr",
     "output_type": "stream",
     "text": [
      "Validation: 100%|██████████| 47/47 [00:01<00:00, 25.38it/s, Loss=1.4603, Acc=0.4307]\n"
     ]
    },
    {
     "name": "stdout",
     "output_type": "stream",
     "text": [
      "Epoch 10/1000: Val Loss: 1.4603, Val Acc: 0.4307, Val F1: 0.3967\n",
      "Current Learning Rate: 3e-05\n",
      "Best model saved at ../Experiment Augment Result/model10_augment_best.pt with accuracy: 0.4307\n"
     ]
    },
    {
     "name": "stderr",
     "output_type": "stream",
     "text": [
      "Epoch 11/1000: 100%|██████████| 422/422 [00:49<00:00,  8.54it/s, Loss=1.4710, Acc=0.4254]\n"
     ]
    },
    {
     "name": "stdout",
     "output_type": "stream",
     "text": [
      "Epoch 11/1000: Train Loss: 1.4710, Train Acc: 0.4254\n"
     ]
    },
    {
     "name": "stderr",
     "output_type": "stream",
     "text": [
      "Validation: 100%|██████████| 47/47 [00:01<00:00, 25.50it/s, Loss=1.4444, Acc=0.4430]\n"
     ]
    },
    {
     "name": "stdout",
     "output_type": "stream",
     "text": [
      "Epoch 11/1000: Val Loss: 1.4444, Val Acc: 0.4430, Val F1: 0.4101\n",
      "Current Learning Rate: 3e-05\n",
      "Best model saved at ../Experiment Augment Result/model10_augment_best.pt with accuracy: 0.4430\n"
     ]
    },
    {
     "name": "stderr",
     "output_type": "stream",
     "text": [
      "Epoch 12/1000: 100%|██████████| 422/422 [00:47<00:00,  8.88it/s, Loss=1.4579, Acc=0.4342]\n"
     ]
    },
    {
     "name": "stdout",
     "output_type": "stream",
     "text": [
      "Epoch 12/1000: Train Loss: 1.4579, Train Acc: 0.4342\n"
     ]
    },
    {
     "name": "stderr",
     "output_type": "stream",
     "text": [
      "Validation: 100%|██████████| 47/47 [00:01<00:00, 26.10it/s, Loss=1.4469, Acc=0.4473]\n"
     ]
    },
    {
     "name": "stdout",
     "output_type": "stream",
     "text": [
      "Epoch 12/1000: Val Loss: 1.4469, Val Acc: 0.4473, Val F1: 0.4281\n",
      "Current Learning Rate: 3e-05\n",
      "Best model saved at ../Experiment Augment Result/model10_augment_best.pt with accuracy: 0.4473\n"
     ]
    },
    {
     "name": "stderr",
     "output_type": "stream",
     "text": [
      "Epoch 13/1000: 100%|██████████| 422/422 [00:48<00:00,  8.79it/s, Loss=1.4449, Acc=0.4388]\n"
     ]
    },
    {
     "name": "stdout",
     "output_type": "stream",
     "text": [
      "Epoch 13/1000: Train Loss: 1.4449, Train Acc: 0.4388\n"
     ]
    },
    {
     "name": "stderr",
     "output_type": "stream",
     "text": [
      "Validation: 100%|██████████| 47/47 [00:01<00:00, 26.11it/s, Loss=1.4492, Acc=0.4463]\n"
     ]
    },
    {
     "name": "stdout",
     "output_type": "stream",
     "text": [
      "Epoch 13/1000: Val Loss: 1.4492, Val Acc: 0.4463, Val F1: 0.4188\n",
      "Current Learning Rate: 3e-05\n"
     ]
    },
    {
     "name": "stderr",
     "output_type": "stream",
     "text": [
      "Epoch 14/1000: 100%|██████████| 422/422 [00:47<00:00,  8.89it/s, Loss=1.4291, Acc=0.4423]\n"
     ]
    },
    {
     "name": "stdout",
     "output_type": "stream",
     "text": [
      "Epoch 14/1000: Train Loss: 1.4291, Train Acc: 0.4423\n"
     ]
    },
    {
     "name": "stderr",
     "output_type": "stream",
     "text": [
      "Validation: 100%|██████████| 47/47 [00:01<00:00, 26.03it/s, Loss=1.4325, Acc=0.4463]\n"
     ]
    },
    {
     "name": "stdout",
     "output_type": "stream",
     "text": [
      "Epoch 14/1000: Val Loss: 1.4325, Val Acc: 0.4463, Val F1: 0.4369\n",
      "Current Learning Rate: 3e-05\n"
     ]
    },
    {
     "name": "stderr",
     "output_type": "stream",
     "text": [
      "Epoch 15/1000: 100%|██████████| 422/422 [00:47<00:00,  8.97it/s, Loss=1.4208, Acc=0.4488]\n"
     ]
    },
    {
     "name": "stdout",
     "output_type": "stream",
     "text": [
      "Epoch 15/1000: Train Loss: 1.4208, Train Acc: 0.4488\n"
     ]
    },
    {
     "name": "stderr",
     "output_type": "stream",
     "text": [
      "Validation: 100%|██████████| 47/47 [00:01<00:00, 26.03it/s, Loss=1.4103, Acc=0.4533]\n"
     ]
    },
    {
     "name": "stdout",
     "output_type": "stream",
     "text": [
      "Epoch 15/1000: Val Loss: 1.4103, Val Acc: 0.4533, Val F1: 0.4236\n",
      "Current Learning Rate: 3e-05\n",
      "Best model saved at ../Experiment Augment Result/model10_augment_best.pt with accuracy: 0.4533\n"
     ]
    },
    {
     "name": "stderr",
     "output_type": "stream",
     "text": [
      "Epoch 16/1000: 100%|██████████| 422/422 [00:47<00:00,  8.92it/s, Loss=1.4118, Acc=0.4518]\n"
     ]
    },
    {
     "name": "stdout",
     "output_type": "stream",
     "text": [
      "Epoch 16/1000: Train Loss: 1.4118, Train Acc: 0.4518\n"
     ]
    },
    {
     "name": "stderr",
     "output_type": "stream",
     "text": [
      "Validation: 100%|██████████| 47/47 [00:02<00:00, 22.77it/s, Loss=1.4247, Acc=0.4597]\n"
     ]
    },
    {
     "name": "stdout",
     "output_type": "stream",
     "text": [
      "Epoch 16/1000: Val Loss: 1.4247, Val Acc: 0.4597, Val F1: 0.4539\n",
      "Current Learning Rate: 3e-05\n",
      "Best model saved at ../Experiment Augment Result/model10_augment_best.pt with accuracy: 0.4597\n"
     ]
    },
    {
     "name": "stderr",
     "output_type": "stream",
     "text": [
      "Epoch 17/1000: 100%|██████████| 422/422 [00:47<00:00,  8.88it/s, Loss=1.3973, Acc=0.4581]\n"
     ]
    },
    {
     "name": "stdout",
     "output_type": "stream",
     "text": [
      "Epoch 17/1000: Train Loss: 1.3973, Train Acc: 0.4581\n"
     ]
    },
    {
     "name": "stderr",
     "output_type": "stream",
     "text": [
      "Validation: 100%|██████████| 47/47 [00:01<00:00, 25.72it/s, Loss=1.4037, Acc=0.4590]\n"
     ]
    },
    {
     "name": "stdout",
     "output_type": "stream",
     "text": [
      "Epoch 17/1000: Val Loss: 1.4037, Val Acc: 0.4590, Val F1: 0.4273\n",
      "Current Learning Rate: 3e-05\n"
     ]
    },
    {
     "name": "stderr",
     "output_type": "stream",
     "text": [
      "Epoch 18/1000: 100%|██████████| 422/422 [00:47<00:00,  8.92it/s, Loss=1.3841, Acc=0.4603]\n"
     ]
    },
    {
     "name": "stdout",
     "output_type": "stream",
     "text": [
      "Epoch 18/1000: Train Loss: 1.3841, Train Acc: 0.4603\n"
     ]
    },
    {
     "name": "stderr",
     "output_type": "stream",
     "text": [
      "Validation: 100%|██████████| 47/47 [00:01<00:00, 25.81it/s, Loss=1.4045, Acc=0.4613]\n"
     ]
    },
    {
     "name": "stdout",
     "output_type": "stream",
     "text": [
      "Epoch 18/1000: Val Loss: 1.4045, Val Acc: 0.4613, Val F1: 0.4286\n",
      "Current Learning Rate: 3e-05\n",
      "Best model saved at ../Experiment Augment Result/model10_augment_best.pt with accuracy: 0.4613\n"
     ]
    },
    {
     "name": "stderr",
     "output_type": "stream",
     "text": [
      "Epoch 19/1000: 100%|██████████| 422/422 [00:47<00:00,  8.82it/s, Loss=1.3769, Acc=0.4670]\n"
     ]
    },
    {
     "name": "stdout",
     "output_type": "stream",
     "text": [
      "Epoch 19/1000: Train Loss: 1.3769, Train Acc: 0.4670\n"
     ]
    },
    {
     "name": "stderr",
     "output_type": "stream",
     "text": [
      "Validation: 100%|██████████| 47/47 [00:01<00:00, 24.86it/s, Loss=1.3748, Acc=0.4707]\n"
     ]
    },
    {
     "name": "stdout",
     "output_type": "stream",
     "text": [
      "Epoch 19/1000: Val Loss: 1.3748, Val Acc: 0.4707, Val F1: 0.4440\n",
      "Current Learning Rate: 3e-05\n",
      "Best model saved at ../Experiment Augment Result/model10_augment_best.pt with accuracy: 0.4707\n"
     ]
    },
    {
     "name": "stderr",
     "output_type": "stream",
     "text": [
      "Epoch 20/1000: 100%|██████████| 422/422 [00:47<00:00,  8.83it/s, Loss=1.3693, Acc=0.4686]\n"
     ]
    },
    {
     "name": "stdout",
     "output_type": "stream",
     "text": [
      "Epoch 20/1000: Train Loss: 1.3693, Train Acc: 0.4686\n"
     ]
    },
    {
     "name": "stderr",
     "output_type": "stream",
     "text": [
      "Validation: 100%|██████████| 47/47 [00:01<00:00, 24.81it/s, Loss=1.4433, Acc=0.4407]\n"
     ]
    },
    {
     "name": "stdout",
     "output_type": "stream",
     "text": [
      "Epoch 20/1000: Val Loss: 1.4433, Val Acc: 0.4407, Val F1: 0.4049\n",
      "Current Learning Rate: 3e-05\n"
     ]
    },
    {
     "name": "stderr",
     "output_type": "stream",
     "text": [
      "Epoch 21/1000: 100%|██████████| 422/422 [00:49<00:00,  8.57it/s, Loss=1.3544, Acc=0.4748]\n"
     ]
    },
    {
     "name": "stdout",
     "output_type": "stream",
     "text": [
      "Epoch 21/1000: Train Loss: 1.3544, Train Acc: 0.4748\n"
     ]
    },
    {
     "name": "stderr",
     "output_type": "stream",
     "text": [
      "Validation: 100%|██████████| 47/47 [00:01<00:00, 23.70it/s, Loss=1.3585, Acc=0.4773]\n"
     ]
    },
    {
     "name": "stdout",
     "output_type": "stream",
     "text": [
      "Epoch 21/1000: Val Loss: 1.3585, Val Acc: 0.4773, Val F1: 0.4620\n",
      "Current Learning Rate: 3e-05\n",
      "Best model saved at ../Experiment Augment Result/model10_augment_best.pt with accuracy: 0.4773\n"
     ]
    },
    {
     "name": "stderr",
     "output_type": "stream",
     "text": [
      "Epoch 22/1000: 100%|██████████| 422/422 [00:47<00:00,  8.82it/s, Loss=1.3438, Acc=0.4811]\n"
     ]
    },
    {
     "name": "stdout",
     "output_type": "stream",
     "text": [
      "Epoch 22/1000: Train Loss: 1.3438, Train Acc: 0.4811\n"
     ]
    },
    {
     "name": "stderr",
     "output_type": "stream",
     "text": [
      "Validation: 100%|██████████| 47/47 [00:01<00:00, 24.42it/s, Loss=1.3730, Acc=0.4663]\n"
     ]
    },
    {
     "name": "stdout",
     "output_type": "stream",
     "text": [
      "Epoch 22/1000: Val Loss: 1.3730, Val Acc: 0.4663, Val F1: 0.4387\n",
      "Current Learning Rate: 3e-05\n"
     ]
    },
    {
     "name": "stderr",
     "output_type": "stream",
     "text": [
      "Epoch 23/1000: 100%|██████████| 422/422 [00:48<00:00,  8.77it/s, Loss=1.3337, Acc=0.4830]\n"
     ]
    },
    {
     "name": "stdout",
     "output_type": "stream",
     "text": [
      "Epoch 23/1000: Train Loss: 1.3337, Train Acc: 0.4830\n"
     ]
    },
    {
     "name": "stderr",
     "output_type": "stream",
     "text": [
      "Validation: 100%|██████████| 47/47 [00:01<00:00, 24.73it/s, Loss=1.3681, Acc=0.4770]\n"
     ]
    },
    {
     "name": "stdout",
     "output_type": "stream",
     "text": [
      "Epoch 23/1000: Val Loss: 1.3681, Val Acc: 0.4770, Val F1: 0.4622\n",
      "Current Learning Rate: 3e-05\n"
     ]
    },
    {
     "name": "stderr",
     "output_type": "stream",
     "text": [
      "Epoch 24/1000: 100%|██████████| 422/422 [00:47<00:00,  8.82it/s, Loss=1.3242, Acc=0.4884]\n"
     ]
    },
    {
     "name": "stdout",
     "output_type": "stream",
     "text": [
      "Epoch 24/1000: Train Loss: 1.3242, Train Acc: 0.4884\n"
     ]
    },
    {
     "name": "stderr",
     "output_type": "stream",
     "text": [
      "Validation: 100%|██████████| 47/47 [00:01<00:00, 24.12it/s, Loss=1.3411, Acc=0.4770]\n"
     ]
    },
    {
     "name": "stdout",
     "output_type": "stream",
     "text": [
      "Epoch 24/1000: Val Loss: 1.3411, Val Acc: 0.4770, Val F1: 0.4503\n",
      "Current Learning Rate: 3e-05\n"
     ]
    },
    {
     "name": "stderr",
     "output_type": "stream",
     "text": [
      "Epoch 25/1000: 100%|██████████| 422/422 [00:50<00:00,  8.31it/s, Loss=1.3120, Acc=0.4918]\n"
     ]
    },
    {
     "name": "stdout",
     "output_type": "stream",
     "text": [
      "Epoch 25/1000: Train Loss: 1.3120, Train Acc: 0.4918\n"
     ]
    },
    {
     "name": "stderr",
     "output_type": "stream",
     "text": [
      "Validation: 100%|██████████| 47/47 [00:01<00:00, 25.66it/s, Loss=1.3685, Acc=0.4690]\n"
     ]
    },
    {
     "name": "stdout",
     "output_type": "stream",
     "text": [
      "Epoch 25/1000: Val Loss: 1.3685, Val Acc: 0.4690, Val F1: 0.4335\n",
      "Current Learning Rate: 3e-05\n"
     ]
    },
    {
     "name": "stderr",
     "output_type": "stream",
     "text": [
      "Epoch 26/1000: 100%|██████████| 422/422 [00:46<00:00,  9.01it/s, Loss=1.3043, Acc=0.4964]\n"
     ]
    },
    {
     "name": "stdout",
     "output_type": "stream",
     "text": [
      "Epoch 26/1000: Train Loss: 1.3043, Train Acc: 0.4964\n"
     ]
    },
    {
     "name": "stderr",
     "output_type": "stream",
     "text": [
      "Validation: 100%|██████████| 47/47 [00:01<00:00, 25.30it/s, Loss=1.3310, Acc=0.4840]\n"
     ]
    },
    {
     "name": "stdout",
     "output_type": "stream",
     "text": [
      "Epoch 26/1000: Val Loss: 1.3310, Val Acc: 0.4840, Val F1: 0.4683\n",
      "Current Learning Rate: 3e-05\n",
      "Best model saved at ../Experiment Augment Result/model10_augment_best.pt with accuracy: 0.4840\n"
     ]
    },
    {
     "name": "stderr",
     "output_type": "stream",
     "text": [
      "Epoch 27/1000: 100%|██████████| 422/422 [00:47<00:00,  8.93it/s, Loss=1.2961, Acc=0.4984]\n"
     ]
    },
    {
     "name": "stdout",
     "output_type": "stream",
     "text": [
      "Epoch 27/1000: Train Loss: 1.2961, Train Acc: 0.4984\n"
     ]
    },
    {
     "name": "stderr",
     "output_type": "stream",
     "text": [
      "Validation: 100%|██████████| 47/47 [00:01<00:00, 25.83it/s, Loss=1.3309, Acc=0.4883]\n"
     ]
    },
    {
     "name": "stdout",
     "output_type": "stream",
     "text": [
      "Epoch 27/1000: Val Loss: 1.3309, Val Acc: 0.4883, Val F1: 0.4622\n",
      "Current Learning Rate: 3e-05\n",
      "Best model saved at ../Experiment Augment Result/model10_augment_best.pt with accuracy: 0.4883\n"
     ]
    },
    {
     "name": "stderr",
     "output_type": "stream",
     "text": [
      "Epoch 28/1000: 100%|██████████| 422/422 [00:47<00:00,  8.92it/s, Loss=1.2838, Acc=0.5074]\n"
     ]
    },
    {
     "name": "stdout",
     "output_type": "stream",
     "text": [
      "Epoch 28/1000: Train Loss: 1.2838, Train Acc: 0.5074\n"
     ]
    },
    {
     "name": "stderr",
     "output_type": "stream",
     "text": [
      "Validation: 100%|██████████| 47/47 [00:01<00:00, 25.07it/s, Loss=1.3311, Acc=0.4907]\n"
     ]
    },
    {
     "name": "stdout",
     "output_type": "stream",
     "text": [
      "Epoch 28/1000: Val Loss: 1.3311, Val Acc: 0.4907, Val F1: 0.4737\n",
      "Current Learning Rate: 3e-05\n",
      "Best model saved at ../Experiment Augment Result/model10_augment_best.pt with accuracy: 0.4907\n"
     ]
    },
    {
     "name": "stderr",
     "output_type": "stream",
     "text": [
      "Epoch 29/1000: 100%|██████████| 422/422 [00:47<00:00,  8.86it/s, Loss=1.2758, Acc=0.5113]\n"
     ]
    },
    {
     "name": "stdout",
     "output_type": "stream",
     "text": [
      "Epoch 29/1000: Train Loss: 1.2758, Train Acc: 0.5113\n"
     ]
    },
    {
     "name": "stderr",
     "output_type": "stream",
     "text": [
      "Validation: 100%|██████████| 47/47 [00:01<00:00, 26.09it/s, Loss=1.3252, Acc=0.4810]\n"
     ]
    },
    {
     "name": "stdout",
     "output_type": "stream",
     "text": [
      "Epoch 29/1000: Val Loss: 1.3252, Val Acc: 0.4810, Val F1: 0.4531\n",
      "Current Learning Rate: 3e-05\n"
     ]
    },
    {
     "name": "stderr",
     "output_type": "stream",
     "text": [
      "Epoch 30/1000: 100%|██████████| 422/422 [00:47<00:00,  8.88it/s, Loss=1.2682, Acc=0.5122]\n"
     ]
    },
    {
     "name": "stdout",
     "output_type": "stream",
     "text": [
      "Epoch 30/1000: Train Loss: 1.2682, Train Acc: 0.5122\n"
     ]
    },
    {
     "name": "stderr",
     "output_type": "stream",
     "text": [
      "Validation: 100%|██████████| 47/47 [00:01<00:00, 24.75it/s, Loss=1.2995, Acc=0.4980]\n"
     ]
    },
    {
     "name": "stdout",
     "output_type": "stream",
     "text": [
      "Epoch 30/1000: Val Loss: 1.2995, Val Acc: 0.4980, Val F1: 0.4817\n",
      "Current Learning Rate: 3e-05\n",
      "Best model saved at ../Experiment Augment Result/model10_augment_best.pt with accuracy: 0.4980\n"
     ]
    },
    {
     "name": "stderr",
     "output_type": "stream",
     "text": [
      "Epoch 31/1000: 100%|██████████| 422/422 [00:48<00:00,  8.71it/s, Loss=1.2625, Acc=0.5173]\n"
     ]
    },
    {
     "name": "stdout",
     "output_type": "stream",
     "text": [
      "Epoch 31/1000: Train Loss: 1.2625, Train Acc: 0.5173\n"
     ]
    },
    {
     "name": "stderr",
     "output_type": "stream",
     "text": [
      "Validation: 100%|██████████| 47/47 [00:01<00:00, 24.79it/s, Loss=1.3213, Acc=0.4770]\n"
     ]
    },
    {
     "name": "stdout",
     "output_type": "stream",
     "text": [
      "Epoch 31/1000: Val Loss: 1.3213, Val Acc: 0.4770, Val F1: 0.4600\n",
      "Current Learning Rate: 3e-05\n"
     ]
    },
    {
     "name": "stderr",
     "output_type": "stream",
     "text": [
      "Epoch 32/1000: 100%|██████████| 422/422 [00:47<00:00,  8.88it/s, Loss=1.2517, Acc=0.5179]\n"
     ]
    },
    {
     "name": "stdout",
     "output_type": "stream",
     "text": [
      "Epoch 32/1000: Train Loss: 1.2517, Train Acc: 0.5179\n"
     ]
    },
    {
     "name": "stderr",
     "output_type": "stream",
     "text": [
      "Validation: 100%|██████████| 47/47 [00:01<00:00, 25.76it/s, Loss=1.2966, Acc=0.5030]\n"
     ]
    },
    {
     "name": "stdout",
     "output_type": "stream",
     "text": [
      "Epoch 32/1000: Val Loss: 1.2966, Val Acc: 0.5030, Val F1: 0.4916\n",
      "Current Learning Rate: 3e-05\n",
      "Best model saved at ../Experiment Augment Result/model10_augment_best.pt with accuracy: 0.5030\n"
     ]
    },
    {
     "name": "stderr",
     "output_type": "stream",
     "text": [
      "Epoch 33/1000: 100%|██████████| 422/422 [00:47<00:00,  8.92it/s, Loss=1.2358, Acc=0.5226]\n"
     ]
    },
    {
     "name": "stdout",
     "output_type": "stream",
     "text": [
      "Epoch 33/1000: Train Loss: 1.2358, Train Acc: 0.5226\n"
     ]
    },
    {
     "name": "stderr",
     "output_type": "stream",
     "text": [
      "Validation: 100%|██████████| 47/47 [00:01<00:00, 26.06it/s, Loss=1.2982, Acc=0.4927]\n"
     ]
    },
    {
     "name": "stdout",
     "output_type": "stream",
     "text": [
      "Epoch 33/1000: Val Loss: 1.2982, Val Acc: 0.4927, Val F1: 0.4821\n",
      "Current Learning Rate: 3e-05\n"
     ]
    },
    {
     "name": "stderr",
     "output_type": "stream",
     "text": [
      "Epoch 34/1000: 100%|██████████| 422/422 [00:47<00:00,  8.87it/s, Loss=1.2311, Acc=0.5282]\n"
     ]
    },
    {
     "name": "stdout",
     "output_type": "stream",
     "text": [
      "Epoch 34/1000: Train Loss: 1.2311, Train Acc: 0.5282\n"
     ]
    },
    {
     "name": "stderr",
     "output_type": "stream",
     "text": [
      "Validation: 100%|██████████| 47/47 [00:01<00:00, 26.10it/s, Loss=1.2958, Acc=0.4950]\n"
     ]
    },
    {
     "name": "stdout",
     "output_type": "stream",
     "text": [
      "Epoch 34/1000: Val Loss: 1.2958, Val Acc: 0.4950, Val F1: 0.4820\n",
      "Current Learning Rate: 3e-05\n"
     ]
    },
    {
     "name": "stderr",
     "output_type": "stream",
     "text": [
      "Epoch 35/1000: 100%|██████████| 422/422 [00:47<00:00,  8.95it/s, Loss=1.2222, Acc=0.5293]\n"
     ]
    },
    {
     "name": "stdout",
     "output_type": "stream",
     "text": [
      "Epoch 35/1000: Train Loss: 1.2222, Train Acc: 0.5293\n"
     ]
    },
    {
     "name": "stderr",
     "output_type": "stream",
     "text": [
      "Validation: 100%|██████████| 47/47 [00:01<00:00, 25.58it/s, Loss=1.3030, Acc=0.4993]\n"
     ]
    },
    {
     "name": "stdout",
     "output_type": "stream",
     "text": [
      "Epoch 35/1000: Val Loss: 1.3030, Val Acc: 0.4993, Val F1: 0.4914\n",
      "Current Learning Rate: 3e-05\n"
     ]
    },
    {
     "name": "stderr",
     "output_type": "stream",
     "text": [
      "Epoch 36/1000: 100%|██████████| 422/422 [00:47<00:00,  8.87it/s, Loss=1.2159, Acc=0.5325]\n"
     ]
    },
    {
     "name": "stdout",
     "output_type": "stream",
     "text": [
      "Epoch 36/1000: Train Loss: 1.2159, Train Acc: 0.5325\n"
     ]
    },
    {
     "name": "stderr",
     "output_type": "stream",
     "text": [
      "Validation: 100%|██████████| 47/47 [00:01<00:00, 25.33it/s, Loss=1.2733, Acc=0.5010]\n"
     ]
    },
    {
     "name": "stdout",
     "output_type": "stream",
     "text": [
      "Epoch 36/1000: Val Loss: 1.2733, Val Acc: 0.5010, Val F1: 0.4905\n",
      "Current Learning Rate: 3e-05\n"
     ]
    },
    {
     "name": "stderr",
     "output_type": "stream",
     "text": [
      "Epoch 37/1000: 100%|██████████| 422/422 [00:47<00:00,  8.81it/s, Loss=1.2017, Acc=0.5354]\n"
     ]
    },
    {
     "name": "stdout",
     "output_type": "stream",
     "text": [
      "Epoch 37/1000: Train Loss: 1.2017, Train Acc: 0.5354\n"
     ]
    },
    {
     "name": "stderr",
     "output_type": "stream",
     "text": [
      "Validation: 100%|██████████| 47/47 [00:01<00:00, 25.40it/s, Loss=1.3106, Acc=0.4900]\n"
     ]
    },
    {
     "name": "stdout",
     "output_type": "stream",
     "text": [
      "Epoch 37/1000: Val Loss: 1.3106, Val Acc: 0.4900, Val F1: 0.4795\n",
      "Current Learning Rate: 3e-05\n"
     ]
    },
    {
     "name": "stderr",
     "output_type": "stream",
     "text": [
      "Epoch 38/1000: 100%|██████████| 422/422 [00:47<00:00,  8.96it/s, Loss=1.2062, Acc=0.5366]\n"
     ]
    },
    {
     "name": "stdout",
     "output_type": "stream",
     "text": [
      "Epoch 38/1000: Train Loss: 1.2062, Train Acc: 0.5366\n"
     ]
    },
    {
     "name": "stderr",
     "output_type": "stream",
     "text": [
      "Validation: 100%|██████████| 47/47 [00:01<00:00, 25.93it/s, Loss=1.2862, Acc=0.5010]\n"
     ]
    },
    {
     "name": "stdout",
     "output_type": "stream",
     "text": [
      "Epoch 38/1000: Val Loss: 1.2862, Val Acc: 0.5010, Val F1: 0.4773\n",
      "Current Learning Rate: 3e-05\n"
     ]
    },
    {
     "name": "stderr",
     "output_type": "stream",
     "text": [
      "Epoch 39/1000: 100%|██████████| 422/422 [00:48<00:00,  8.72it/s, Loss=1.1918, Acc=0.5462]\n"
     ]
    },
    {
     "name": "stdout",
     "output_type": "stream",
     "text": [
      "Epoch 39/1000: Train Loss: 1.1918, Train Acc: 0.5462\n"
     ]
    },
    {
     "name": "stderr",
     "output_type": "stream",
     "text": [
      "Validation: 100%|██████████| 47/47 [00:01<00:00, 25.17it/s, Loss=1.2754, Acc=0.5017]\n"
     ]
    },
    {
     "name": "stdout",
     "output_type": "stream",
     "text": [
      "Epoch 39/1000: Val Loss: 1.2754, Val Acc: 0.5017, Val F1: 0.4789\n",
      "Current Learning Rate: 3e-05\n"
     ]
    },
    {
     "name": "stderr",
     "output_type": "stream",
     "text": [
      "Epoch 40/1000: 100%|██████████| 422/422 [00:47<00:00,  8.91it/s, Loss=1.1767, Acc=0.5478]\n"
     ]
    },
    {
     "name": "stdout",
     "output_type": "stream",
     "text": [
      "Epoch 40/1000: Train Loss: 1.1767, Train Acc: 0.5478\n"
     ]
    },
    {
     "name": "stderr",
     "output_type": "stream",
     "text": [
      "Validation: 100%|██████████| 47/47 [00:01<00:00, 24.75it/s, Loss=1.2825, Acc=0.4980]\n"
     ]
    },
    {
     "name": "stdout",
     "output_type": "stream",
     "text": [
      "Epoch 40/1000: Val Loss: 1.2825, Val Acc: 0.4980, Val F1: 0.4957\n",
      "Current Learning Rate: 3e-05\n"
     ]
    },
    {
     "name": "stderr",
     "output_type": "stream",
     "text": [
      "Epoch 41/1000: 100%|██████████| 422/422 [00:48<00:00,  8.70it/s, Loss=1.1681, Acc=0.5534]\n"
     ]
    },
    {
     "name": "stdout",
     "output_type": "stream",
     "text": [
      "Epoch 41/1000: Train Loss: 1.1681, Train Acc: 0.5534\n"
     ]
    },
    {
     "name": "stderr",
     "output_type": "stream",
     "text": [
      "Validation: 100%|██████████| 47/47 [00:01<00:00, 26.01it/s, Loss=1.2600, Acc=0.5173]\n"
     ]
    },
    {
     "name": "stdout",
     "output_type": "stream",
     "text": [
      "Epoch 41/1000: Val Loss: 1.2600, Val Acc: 0.5173, Val F1: 0.5024\n",
      "Current Learning Rate: 3e-05\n",
      "Best model saved at ../Experiment Augment Result/model10_augment_best.pt with accuracy: 0.5173\n"
     ]
    },
    {
     "name": "stderr",
     "output_type": "stream",
     "text": [
      "Epoch 42/1000: 100%|██████████| 422/422 [00:46<00:00,  9.00it/s, Loss=1.1635, Acc=0.5525]\n"
     ]
    },
    {
     "name": "stdout",
     "output_type": "stream",
     "text": [
      "Epoch 42/1000: Train Loss: 1.1635, Train Acc: 0.5525\n"
     ]
    },
    {
     "name": "stderr",
     "output_type": "stream",
     "text": [
      "Validation: 100%|██████████| 47/47 [00:01<00:00, 25.09it/s, Loss=1.2826, Acc=0.5073]\n"
     ]
    },
    {
     "name": "stdout",
     "output_type": "stream",
     "text": [
      "Epoch 42/1000: Val Loss: 1.2826, Val Acc: 0.5073, Val F1: 0.5046\n",
      "Current Learning Rate: 3e-05\n"
     ]
    },
    {
     "name": "stderr",
     "output_type": "stream",
     "text": [
      "Epoch 43/1000: 100%|██████████| 422/422 [00:47<00:00,  8.86it/s, Loss=1.1574, Acc=0.5554]\n"
     ]
    },
    {
     "name": "stdout",
     "output_type": "stream",
     "text": [
      "Epoch 43/1000: Train Loss: 1.1574, Train Acc: 0.5554\n"
     ]
    },
    {
     "name": "stderr",
     "output_type": "stream",
     "text": [
      "Validation: 100%|██████████| 47/47 [00:01<00:00, 25.64it/s, Loss=1.2535, Acc=0.5087]\n"
     ]
    },
    {
     "name": "stdout",
     "output_type": "stream",
     "text": [
      "Epoch 43/1000: Val Loss: 1.2535, Val Acc: 0.5087, Val F1: 0.4969\n",
      "Current Learning Rate: 3e-05\n"
     ]
    },
    {
     "name": "stderr",
     "output_type": "stream",
     "text": [
      "Epoch 44/1000: 100%|██████████| 422/422 [00:46<00:00,  9.02it/s, Loss=1.1516, Acc=0.5571]\n"
     ]
    },
    {
     "name": "stdout",
     "output_type": "stream",
     "text": [
      "Epoch 44/1000: Train Loss: 1.1516, Train Acc: 0.5571\n"
     ]
    },
    {
     "name": "stderr",
     "output_type": "stream",
     "text": [
      "Validation: 100%|██████████| 47/47 [00:01<00:00, 26.06it/s, Loss=1.2477, Acc=0.5163]\n"
     ]
    },
    {
     "name": "stdout",
     "output_type": "stream",
     "text": [
      "Epoch 44/1000: Val Loss: 1.2477, Val Acc: 0.5163, Val F1: 0.5102\n",
      "Current Learning Rate: 3e-05\n"
     ]
    },
    {
     "name": "stderr",
     "output_type": "stream",
     "text": [
      "Epoch 45/1000: 100%|██████████| 422/422 [00:47<00:00,  8.97it/s, Loss=1.1390, Acc=0.5670]\n"
     ]
    },
    {
     "name": "stdout",
     "output_type": "stream",
     "text": [
      "Epoch 45/1000: Train Loss: 1.1390, Train Acc: 0.5670\n"
     ]
    },
    {
     "name": "stderr",
     "output_type": "stream",
     "text": [
      "Validation: 100%|██████████| 47/47 [00:01<00:00, 25.97it/s, Loss=1.2566, Acc=0.5230]\n"
     ]
    },
    {
     "name": "stdout",
     "output_type": "stream",
     "text": [
      "Epoch 45/1000: Val Loss: 1.2566, Val Acc: 0.5230, Val F1: 0.5177\n",
      "Current Learning Rate: 3e-05\n",
      "Best model saved at ../Experiment Augment Result/model10_augment_best.pt with accuracy: 0.5230\n"
     ]
    },
    {
     "name": "stderr",
     "output_type": "stream",
     "text": [
      "Epoch 46/1000: 100%|██████████| 422/422 [00:47<00:00,  8.90it/s, Loss=1.1268, Acc=0.5674]\n"
     ]
    },
    {
     "name": "stdout",
     "output_type": "stream",
     "text": [
      "Epoch 46/1000: Train Loss: 1.1268, Train Acc: 0.5674\n"
     ]
    },
    {
     "name": "stderr",
     "output_type": "stream",
     "text": [
      "Validation: 100%|██████████| 47/47 [00:01<00:00, 24.79it/s, Loss=1.2589, Acc=0.5220]\n"
     ]
    },
    {
     "name": "stdout",
     "output_type": "stream",
     "text": [
      "Epoch 46/1000: Val Loss: 1.2589, Val Acc: 0.5220, Val F1: 0.5116\n",
      "Current Learning Rate: 3e-05\n"
     ]
    },
    {
     "name": "stderr",
     "output_type": "stream",
     "text": [
      "Epoch 47/1000: 100%|██████████| 422/422 [00:47<00:00,  8.85it/s, Loss=1.1188, Acc=0.5741]\n"
     ]
    },
    {
     "name": "stdout",
     "output_type": "stream",
     "text": [
      "Epoch 47/1000: Train Loss: 1.1188, Train Acc: 0.5741\n"
     ]
    },
    {
     "name": "stderr",
     "output_type": "stream",
     "text": [
      "Validation: 100%|██████████| 47/47 [00:01<00:00, 24.86it/s, Loss=1.2400, Acc=0.5237]\n"
     ]
    },
    {
     "name": "stdout",
     "output_type": "stream",
     "text": [
      "Epoch 47/1000: Val Loss: 1.2400, Val Acc: 0.5237, Val F1: 0.5089\n",
      "Current Learning Rate: 3e-05\n",
      "Best model saved at ../Experiment Augment Result/model10_augment_best.pt with accuracy: 0.5237\n"
     ]
    },
    {
     "name": "stderr",
     "output_type": "stream",
     "text": [
      "Epoch 48/1000: 100%|██████████| 422/422 [00:48<00:00,  8.78it/s, Loss=1.1087, Acc=0.5814]\n"
     ]
    },
    {
     "name": "stdout",
     "output_type": "stream",
     "text": [
      "Epoch 48/1000: Train Loss: 1.1087, Train Acc: 0.5814\n"
     ]
    },
    {
     "name": "stderr",
     "output_type": "stream",
     "text": [
      "Validation: 100%|██████████| 47/47 [00:01<00:00, 24.80it/s, Loss=1.2496, Acc=0.5177]\n"
     ]
    },
    {
     "name": "stdout",
     "output_type": "stream",
     "text": [
      "Epoch 48/1000: Val Loss: 1.2496, Val Acc: 0.5177, Val F1: 0.5109\n",
      "Current Learning Rate: 3e-05\n"
     ]
    },
    {
     "name": "stderr",
     "output_type": "stream",
     "text": [
      "Epoch 49/1000: 100%|██████████| 422/422 [00:48<00:00,  8.76it/s, Loss=1.1051, Acc=0.5798]\n"
     ]
    },
    {
     "name": "stdout",
     "output_type": "stream",
     "text": [
      "Epoch 49/1000: Train Loss: 1.1051, Train Acc: 0.5798\n"
     ]
    },
    {
     "name": "stderr",
     "output_type": "stream",
     "text": [
      "Validation: 100%|██████████| 47/47 [00:01<00:00, 24.84it/s, Loss=1.2543, Acc=0.5210]\n"
     ]
    },
    {
     "name": "stdout",
     "output_type": "stream",
     "text": [
      "Epoch 49/1000: Val Loss: 1.2543, Val Acc: 0.5210, Val F1: 0.5172\n",
      "Current Learning Rate: 3e-05\n"
     ]
    },
    {
     "name": "stderr",
     "output_type": "stream",
     "text": [
      "Epoch 50/1000: 100%|██████████| 422/422 [00:48<00:00,  8.73it/s, Loss=1.0937, Acc=0.5820]\n"
     ]
    },
    {
     "name": "stdout",
     "output_type": "stream",
     "text": [
      "Epoch 50/1000: Train Loss: 1.0937, Train Acc: 0.5820\n"
     ]
    },
    {
     "name": "stderr",
     "output_type": "stream",
     "text": [
      "Validation: 100%|██████████| 47/47 [00:01<00:00, 24.40it/s, Loss=1.2652, Acc=0.5170]\n"
     ]
    },
    {
     "name": "stdout",
     "output_type": "stream",
     "text": [
      "Epoch 50/1000: Val Loss: 1.2652, Val Acc: 0.5170, Val F1: 0.5119\n",
      "Current Learning Rate: 3e-05\n"
     ]
    },
    {
     "name": "stderr",
     "output_type": "stream",
     "text": [
      "Epoch 51/1000: 100%|██████████| 422/422 [00:47<00:00,  8.84it/s, Loss=1.0795, Acc=0.5927]\n"
     ]
    },
    {
     "name": "stdout",
     "output_type": "stream",
     "text": [
      "Epoch 51/1000: Train Loss: 1.0795, Train Acc: 0.5927\n"
     ]
    },
    {
     "name": "stderr",
     "output_type": "stream",
     "text": [
      "Validation: 100%|██████████| 47/47 [00:01<00:00, 25.73it/s, Loss=1.2504, Acc=0.5260]\n"
     ]
    },
    {
     "name": "stdout",
     "output_type": "stream",
     "text": [
      "Epoch 51/1000: Val Loss: 1.2504, Val Acc: 0.5260, Val F1: 0.5218\n",
      "Current Learning Rate: 3e-05\n",
      "Best model saved at ../Experiment Augment Result/model10_augment_best.pt with accuracy: 0.5260\n"
     ]
    },
    {
     "name": "stderr",
     "output_type": "stream",
     "text": [
      "Epoch 52/1000: 100%|██████████| 422/422 [00:47<00:00,  8.86it/s, Loss=1.0741, Acc=0.5925]\n"
     ]
    },
    {
     "name": "stdout",
     "output_type": "stream",
     "text": [
      "Epoch 52/1000: Train Loss: 1.0741, Train Acc: 0.5925\n"
     ]
    },
    {
     "name": "stderr",
     "output_type": "stream",
     "text": [
      "Validation: 100%|██████████| 47/47 [00:01<00:00, 24.86it/s, Loss=1.2384, Acc=0.5323]\n"
     ]
    },
    {
     "name": "stdout",
     "output_type": "stream",
     "text": [
      "Epoch 52/1000: Val Loss: 1.2384, Val Acc: 0.5323, Val F1: 0.5259\n",
      "Current Learning Rate: 3e-05\n",
      "Best model saved at ../Experiment Augment Result/model10_augment_best.pt with accuracy: 0.5323\n"
     ]
    },
    {
     "name": "stderr",
     "output_type": "stream",
     "text": [
      "Epoch 53/1000: 100%|██████████| 422/422 [00:47<00:00,  8.87it/s, Loss=1.0642, Acc=0.5967]\n"
     ]
    },
    {
     "name": "stdout",
     "output_type": "stream",
     "text": [
      "Epoch 53/1000: Train Loss: 1.0642, Train Acc: 0.5967\n"
     ]
    },
    {
     "name": "stderr",
     "output_type": "stream",
     "text": [
      "Validation: 100%|██████████| 47/47 [00:01<00:00, 25.63it/s, Loss=1.2605, Acc=0.5267]\n"
     ]
    },
    {
     "name": "stdout",
     "output_type": "stream",
     "text": [
      "Epoch 53/1000: Val Loss: 1.2605, Val Acc: 0.5267, Val F1: 0.5213\n",
      "Current Learning Rate: 3e-05\n"
     ]
    },
    {
     "name": "stderr",
     "output_type": "stream",
     "text": [
      "Epoch 54/1000: 100%|██████████| 422/422 [00:47<00:00,  8.97it/s, Loss=1.0605, Acc=0.5974]\n"
     ]
    },
    {
     "name": "stdout",
     "output_type": "stream",
     "text": [
      "Epoch 54/1000: Train Loss: 1.0605, Train Acc: 0.5974\n"
     ]
    },
    {
     "name": "stderr",
     "output_type": "stream",
     "text": [
      "Validation: 100%|██████████| 47/47 [00:01<00:00, 25.89it/s, Loss=1.2532, Acc=0.5217]\n"
     ]
    },
    {
     "name": "stdout",
     "output_type": "stream",
     "text": [
      "Epoch 54/1000: Val Loss: 1.2532, Val Acc: 0.5217, Val F1: 0.5180\n",
      "Current Learning Rate: 3e-05\n"
     ]
    },
    {
     "name": "stderr",
     "output_type": "stream",
     "text": [
      "Epoch 55/1000: 100%|██████████| 422/422 [00:46<00:00,  8.99it/s, Loss=1.0474, Acc=0.6040]\n"
     ]
    },
    {
     "name": "stdout",
     "output_type": "stream",
     "text": [
      "Epoch 55/1000: Train Loss: 1.0474, Train Acc: 0.6040\n"
     ]
    },
    {
     "name": "stderr",
     "output_type": "stream",
     "text": [
      "Validation: 100%|██████████| 47/47 [00:01<00:00, 25.32it/s, Loss=1.2527, Acc=0.5270]\n"
     ]
    },
    {
     "name": "stdout",
     "output_type": "stream",
     "text": [
      "Epoch 55/1000: Val Loss: 1.2527, Val Acc: 0.5270, Val F1: 0.5247\n",
      "Current Learning Rate: 3e-05\n"
     ]
    },
    {
     "name": "stderr",
     "output_type": "stream",
     "text": [
      "Epoch 56/1000: 100%|██████████| 422/422 [00:47<00:00,  8.97it/s, Loss=1.0398, Acc=0.6071]\n"
     ]
    },
    {
     "name": "stdout",
     "output_type": "stream",
     "text": [
      "Epoch 56/1000: Train Loss: 1.0398, Train Acc: 0.6071\n"
     ]
    },
    {
     "name": "stderr",
     "output_type": "stream",
     "text": [
      "Validation: 100%|██████████| 47/47 [00:01<00:00, 26.02it/s, Loss=1.2439, Acc=0.5373]\n"
     ]
    },
    {
     "name": "stdout",
     "output_type": "stream",
     "text": [
      "Epoch 56/1000: Val Loss: 1.2439, Val Acc: 0.5373, Val F1: 0.5331\n",
      "Current Learning Rate: 3e-05\n",
      "Best model saved at ../Experiment Augment Result/model10_augment_best.pt with accuracy: 0.5373\n"
     ]
    },
    {
     "name": "stderr",
     "output_type": "stream",
     "text": [
      "Epoch 57/1000: 100%|██████████| 422/422 [00:47<00:00,  8.98it/s, Loss=1.0259, Acc=0.6108]\n"
     ]
    },
    {
     "name": "stdout",
     "output_type": "stream",
     "text": [
      "Epoch 57/1000: Train Loss: 1.0259, Train Acc: 0.6108\n"
     ]
    },
    {
     "name": "stderr",
     "output_type": "stream",
     "text": [
      "Validation: 100%|██████████| 47/47 [00:01<00:00, 25.07it/s, Loss=1.2459, Acc=0.5300]\n"
     ]
    },
    {
     "name": "stdout",
     "output_type": "stream",
     "text": [
      "Epoch 57/1000: Val Loss: 1.2459, Val Acc: 0.5300, Val F1: 0.5196\n",
      "Current Learning Rate: 3e-05\n"
     ]
    },
    {
     "name": "stderr",
     "output_type": "stream",
     "text": [
      "Epoch 58/1000: 100%|██████████| 422/422 [00:47<00:00,  8.86it/s, Loss=1.0206, Acc=0.6157]\n"
     ]
    },
    {
     "name": "stdout",
     "output_type": "stream",
     "text": [
      "Epoch 58/1000: Train Loss: 1.0206, Train Acc: 0.6157\n"
     ]
    },
    {
     "name": "stderr",
     "output_type": "stream",
     "text": [
      "Validation: 100%|██████████| 47/47 [00:01<00:00, 26.08it/s, Loss=1.2655, Acc=0.5260]\n"
     ]
    },
    {
     "name": "stdout",
     "output_type": "stream",
     "text": [
      "Epoch 58/1000: Val Loss: 1.2655, Val Acc: 0.5260, Val F1: 0.5096\n",
      "Current Learning Rate: 3e-06\n"
     ]
    },
    {
     "name": "stderr",
     "output_type": "stream",
     "text": [
      "Epoch 59/1000: 100%|██████████| 422/422 [00:47<00:00,  8.94it/s, Loss=0.9523, Acc=0.6424]\n"
     ]
    },
    {
     "name": "stdout",
     "output_type": "stream",
     "text": [
      "Epoch 59/1000: Train Loss: 0.9523, Train Acc: 0.6424\n"
     ]
    },
    {
     "name": "stderr",
     "output_type": "stream",
     "text": [
      "Validation: 100%|██████████| 47/47 [00:01<00:00, 26.01it/s, Loss=1.2265, Acc=0.5380]\n"
     ]
    },
    {
     "name": "stdout",
     "output_type": "stream",
     "text": [
      "Epoch 59/1000: Val Loss: 1.2265, Val Acc: 0.5380, Val F1: 0.5318\n",
      "Current Learning Rate: 3e-06\n",
      "Best model saved at ../Experiment Augment Result/model10_augment_best.pt with accuracy: 0.5380\n"
     ]
    },
    {
     "name": "stderr",
     "output_type": "stream",
     "text": [
      "Epoch 60/1000: 100%|██████████| 422/422 [00:47<00:00,  8.90it/s, Loss=0.9212, Acc=0.6571]\n"
     ]
    },
    {
     "name": "stdout",
     "output_type": "stream",
     "text": [
      "Epoch 60/1000: Train Loss: 0.9212, Train Acc: 0.6571\n"
     ]
    },
    {
     "name": "stderr",
     "output_type": "stream",
     "text": [
      "Validation: 100%|██████████| 47/47 [00:01<00:00, 25.96it/s, Loss=1.2275, Acc=0.5417]\n"
     ]
    },
    {
     "name": "stdout",
     "output_type": "stream",
     "text": [
      "Epoch 60/1000: Val Loss: 1.2275, Val Acc: 0.5417, Val F1: 0.5354\n",
      "Current Learning Rate: 3e-06\n",
      "Best model saved at ../Experiment Augment Result/model10_augment_best.pt with accuracy: 0.5417\n"
     ]
    },
    {
     "name": "stderr",
     "output_type": "stream",
     "text": [
      "Epoch 61/1000: 100%|██████████| 422/422 [00:47<00:00,  8.93it/s, Loss=0.9158, Acc=0.6581]\n"
     ]
    },
    {
     "name": "stdout",
     "output_type": "stream",
     "text": [
      "Epoch 61/1000: Train Loss: 0.9158, Train Acc: 0.6581\n"
     ]
    },
    {
     "name": "stderr",
     "output_type": "stream",
     "text": [
      "Validation: 100%|██████████| 47/47 [00:01<00:00, 26.09it/s, Loss=1.2318, Acc=0.5383]\n"
     ]
    },
    {
     "name": "stdout",
     "output_type": "stream",
     "text": [
      "Epoch 61/1000: Val Loss: 1.2318, Val Acc: 0.5383, Val F1: 0.5326\n",
      "Current Learning Rate: 3e-06\n"
     ]
    },
    {
     "name": "stderr",
     "output_type": "stream",
     "text": [
      "Epoch 62/1000: 100%|██████████| 422/422 [00:47<00:00,  8.94it/s, Loss=0.9094, Acc=0.6600]\n"
     ]
    },
    {
     "name": "stdout",
     "output_type": "stream",
     "text": [
      "Epoch 62/1000: Train Loss: 0.9094, Train Acc: 0.6600\n"
     ]
    },
    {
     "name": "stderr",
     "output_type": "stream",
     "text": [
      "Validation: 100%|██████████| 47/47 [00:01<00:00, 25.86it/s, Loss=1.2286, Acc=0.5437]\n"
     ]
    },
    {
     "name": "stdout",
     "output_type": "stream",
     "text": [
      "Epoch 62/1000: Val Loss: 1.2286, Val Acc: 0.5437, Val F1: 0.5374\n",
      "Current Learning Rate: 3e-06\n",
      "Best model saved at ../Experiment Augment Result/model10_augment_best.pt with accuracy: 0.5437\n"
     ]
    },
    {
     "name": "stderr",
     "output_type": "stream",
     "text": [
      "Epoch 63/1000: 100%|██████████| 422/422 [00:49<00:00,  8.45it/s, Loss=0.9055, Acc=0.6628]\n"
     ]
    },
    {
     "name": "stdout",
     "output_type": "stream",
     "text": [
      "Epoch 63/1000: Train Loss: 0.9055, Train Acc: 0.6628\n"
     ]
    },
    {
     "name": "stderr",
     "output_type": "stream",
     "text": [
      "Validation: 100%|██████████| 47/47 [00:01<00:00, 24.67it/s, Loss=1.2318, Acc=0.5460]\n"
     ]
    },
    {
     "name": "stdout",
     "output_type": "stream",
     "text": [
      "Epoch 63/1000: Val Loss: 1.2318, Val Acc: 0.5460, Val F1: 0.5411\n",
      "Current Learning Rate: 3e-06\n",
      "Best model saved at ../Experiment Augment Result/model10_augment_best.pt with accuracy: 0.5460\n"
     ]
    },
    {
     "name": "stderr",
     "output_type": "stream",
     "text": [
      "Epoch 64/1000: 100%|██████████| 422/422 [00:47<00:00,  8.84it/s, Loss=0.9002, Acc=0.6638]\n"
     ]
    },
    {
     "name": "stdout",
     "output_type": "stream",
     "text": [
      "Epoch 64/1000: Train Loss: 0.9002, Train Acc: 0.6638\n"
     ]
    },
    {
     "name": "stderr",
     "output_type": "stream",
     "text": [
      "Validation: 100%|██████████| 47/47 [00:01<00:00, 24.74it/s, Loss=1.2361, Acc=0.5373]\n"
     ]
    },
    {
     "name": "stdout",
     "output_type": "stream",
     "text": [
      "Epoch 64/1000: Val Loss: 1.2361, Val Acc: 0.5373, Val F1: 0.5331\n",
      "Current Learning Rate: 3e-06\n"
     ]
    },
    {
     "name": "stderr",
     "output_type": "stream",
     "text": [
      "Epoch 65/1000: 100%|██████████| 422/422 [00:48<00:00,  8.76it/s, Loss=0.8937, Acc=0.6659]\n"
     ]
    },
    {
     "name": "stdout",
     "output_type": "stream",
     "text": [
      "Epoch 65/1000: Train Loss: 0.8937, Train Acc: 0.6659\n"
     ]
    },
    {
     "name": "stderr",
     "output_type": "stream",
     "text": [
      "Validation: 100%|██████████| 47/47 [00:01<00:00, 23.98it/s, Loss=1.2346, Acc=0.5430]\n"
     ]
    },
    {
     "name": "stdout",
     "output_type": "stream",
     "text": [
      "Epoch 65/1000: Val Loss: 1.2346, Val Acc: 0.5430, Val F1: 0.5383\n",
      "Current Learning Rate: 3.0000000000000004e-07\n"
     ]
    },
    {
     "name": "stderr",
     "output_type": "stream",
     "text": [
      "Epoch 66/1000: 100%|██████████| 422/422 [00:47<00:00,  8.81it/s, Loss=0.8839, Acc=0.6692]\n"
     ]
    },
    {
     "name": "stdout",
     "output_type": "stream",
     "text": [
      "Epoch 66/1000: Train Loss: 0.8839, Train Acc: 0.6692\n"
     ]
    },
    {
     "name": "stderr",
     "output_type": "stream",
     "text": [
      "Validation: 100%|██████████| 47/47 [00:01<00:00, 24.12it/s, Loss=1.2352, Acc=0.5407]\n"
     ]
    },
    {
     "name": "stdout",
     "output_type": "stream",
     "text": [
      "Epoch 66/1000: Val Loss: 1.2352, Val Acc: 0.5407, Val F1: 0.5363\n",
      "Current Learning Rate: 3.0000000000000004e-07\n"
     ]
    },
    {
     "name": "stderr",
     "output_type": "stream",
     "text": [
      "Epoch 67/1000: 100%|██████████| 422/422 [00:46<00:00,  8.99it/s, Loss=0.8832, Acc=0.6682]\n"
     ]
    },
    {
     "name": "stdout",
     "output_type": "stream",
     "text": [
      "Epoch 67/1000: Train Loss: 0.8832, Train Acc: 0.6682\n"
     ]
    },
    {
     "name": "stderr",
     "output_type": "stream",
     "text": [
      "Validation: 100%|██████████| 47/47 [00:01<00:00, 25.25it/s, Loss=1.2343, Acc=0.5410]\n"
     ]
    },
    {
     "name": "stdout",
     "output_type": "stream",
     "text": [
      "Epoch 67/1000: Val Loss: 1.2343, Val Acc: 0.5410, Val F1: 0.5368\n",
      "Current Learning Rate: 3.0000000000000004e-07\n"
     ]
    },
    {
     "name": "stderr",
     "output_type": "stream",
     "text": [
      "Epoch 68/1000: 100%|██████████| 422/422 [00:47<00:00,  8.80it/s, Loss=0.8789, Acc=0.6711]\n"
     ]
    },
    {
     "name": "stdout",
     "output_type": "stream",
     "text": [
      "Epoch 68/1000: Train Loss: 0.8789, Train Acc: 0.6711\n"
     ]
    },
    {
     "name": "stderr",
     "output_type": "stream",
     "text": [
      "Validation: 100%|██████████| 47/47 [00:01<00:00, 25.63it/s, Loss=1.2350, Acc=0.5430]\n"
     ]
    },
    {
     "name": "stdout",
     "output_type": "stream",
     "text": [
      "Epoch 68/1000: Val Loss: 1.2350, Val Acc: 0.5430, Val F1: 0.5386\n",
      "Current Learning Rate: 3.0000000000000004e-07\n"
     ]
    },
    {
     "name": "stderr",
     "output_type": "stream",
     "text": [
      "Epoch 69/1000: 100%|██████████| 422/422 [00:48<00:00,  8.78it/s, Loss=0.8821, Acc=0.6713]\n"
     ]
    },
    {
     "name": "stdout",
     "output_type": "stream",
     "text": [
      "Epoch 69/1000: Train Loss: 0.8821, Train Acc: 0.6713\n"
     ]
    },
    {
     "name": "stderr",
     "output_type": "stream",
     "text": [
      "Validation: 100%|██████████| 47/47 [00:01<00:00, 24.85it/s, Loss=1.2346, Acc=0.5440]\n"
     ]
    },
    {
     "name": "stdout",
     "output_type": "stream",
     "text": [
      "Epoch 69/1000: Val Loss: 1.2346, Val Acc: 0.5440, Val F1: 0.5386\n",
      "Current Learning Rate: 3.0000000000000004e-07\n"
     ]
    },
    {
     "name": "stderr",
     "output_type": "stream",
     "text": [
      "Epoch 70/1000: 100%|██████████| 422/422 [00:48<00:00,  8.63it/s, Loss=0.8778, Acc=0.6759]\n"
     ]
    },
    {
     "name": "stdout",
     "output_type": "stream",
     "text": [
      "Epoch 70/1000: Train Loss: 0.8778, Train Acc: 0.6759\n"
     ]
    },
    {
     "name": "stderr",
     "output_type": "stream",
     "text": [
      "Validation: 100%|██████████| 47/47 [00:01<00:00, 24.51it/s, Loss=1.2367, Acc=0.5420]\n"
     ]
    },
    {
     "name": "stdout",
     "output_type": "stream",
     "text": [
      "Epoch 70/1000: Val Loss: 1.2367, Val Acc: 0.5420, Val F1: 0.5375\n",
      "Current Learning Rate: 3.0000000000000004e-07\n"
     ]
    },
    {
     "name": "stderr",
     "output_type": "stream",
     "text": [
      "Epoch 71/1000: 100%|██████████| 422/422 [00:47<00:00,  8.87it/s, Loss=0.8822, Acc=0.6729]\n"
     ]
    },
    {
     "name": "stdout",
     "output_type": "stream",
     "text": [
      "Epoch 71/1000: Train Loss: 0.8822, Train Acc: 0.6729\n"
     ]
    },
    {
     "name": "stderr",
     "output_type": "stream",
     "text": [
      "Validation: 100%|██████████| 47/47 [00:01<00:00, 24.79it/s, Loss=1.2345, Acc=0.5427]\n"
     ]
    },
    {
     "name": "stdout",
     "output_type": "stream",
     "text": [
      "Epoch 71/1000: Val Loss: 1.2345, Val Acc: 0.5427, Val F1: 0.5377\n",
      "Current Learning Rate: 3.0000000000000004e-08\n"
     ]
    },
    {
     "name": "stderr",
     "output_type": "stream",
     "text": [
      "Epoch 72/1000: 100%|██████████| 422/422 [00:47<00:00,  8.87it/s, Loss=0.8801, Acc=0.6732]\n"
     ]
    },
    {
     "name": "stdout",
     "output_type": "stream",
     "text": [
      "Epoch 72/1000: Train Loss: 0.8801, Train Acc: 0.6732\n"
     ]
    },
    {
     "name": "stderr",
     "output_type": "stream",
     "text": [
      "Validation: 100%|██████████| 47/47 [00:01<00:00, 24.75it/s, Loss=1.2359, Acc=0.5427]\n"
     ]
    },
    {
     "name": "stdout",
     "output_type": "stream",
     "text": [
      "Epoch 72/1000: Val Loss: 1.2359, Val Acc: 0.5427, Val F1: 0.5377\n",
      "Current Learning Rate: 3.0000000000000004e-08\n"
     ]
    },
    {
     "name": "stderr",
     "output_type": "stream",
     "text": [
      "Epoch 73/1000: 100%|██████████| 422/422 [00:47<00:00,  8.82it/s, Loss=0.8757, Acc=0.6726]\n"
     ]
    },
    {
     "name": "stdout",
     "output_type": "stream",
     "text": [
      "Epoch 73/1000: Train Loss: 0.8757, Train Acc: 0.6726\n"
     ]
    },
    {
     "name": "stderr",
     "output_type": "stream",
     "text": [
      "Validation: 100%|██████████| 47/47 [00:01<00:00, 24.06it/s, Loss=1.2355, Acc=0.5430]\n"
     ]
    },
    {
     "name": "stdout",
     "output_type": "stream",
     "text": [
      "Epoch 73/1000: Val Loss: 1.2355, Val Acc: 0.5430, Val F1: 0.5381\n",
      "Current Learning Rate: 3.0000000000000004e-08\n"
     ]
    },
    {
     "name": "stderr",
     "output_type": "stream",
     "text": [
      "Epoch 74/1000: 100%|██████████| 422/422 [00:50<00:00,  8.31it/s, Loss=0.8778, Acc=0.6694]\n"
     ]
    },
    {
     "name": "stdout",
     "output_type": "stream",
     "text": [
      "Epoch 74/1000: Train Loss: 0.8778, Train Acc: 0.6694\n"
     ]
    },
    {
     "name": "stderr",
     "output_type": "stream",
     "text": [
      "Validation: 100%|██████████| 47/47 [00:01<00:00, 24.86it/s, Loss=1.2356, Acc=0.5430]\n"
     ]
    },
    {
     "name": "stdout",
     "output_type": "stream",
     "text": [
      "Epoch 74/1000: Val Loss: 1.2356, Val Acc: 0.5430, Val F1: 0.5380\n",
      "Current Learning Rate: 3.0000000000000004e-08\n",
      "Early stopping triggered at epoch 74!\n"
     ]
    },
    {
     "name": "stderr",
     "output_type": "stream",
     "text": [
      "Testing: 100%|██████████| 53/53 [00:02<00:00, 25.00it/s, Loss=1.2215, Acc=0.5572]\n"
     ]
    },
    {
     "name": "stdout",
     "output_type": "stream",
     "text": [
      "Test Loss: 1.2215, Test Acc: 0.5572, Test F1: 0.5495\n",
      "Start model11 with configuration patch size: 32, num_heads: 8, embedding_dims: 384, num_layers: 6\n"
     ]
    },
    {
     "name": "stderr",
     "output_type": "stream",
     "text": [
      "Epoch 1/1000: 100%|██████████| 422/422 [00:42<00:00, 10.02it/s, Loss=1.7676, Acc=0.2697]\n"
     ]
    },
    {
     "name": "stdout",
     "output_type": "stream",
     "text": [
      "Epoch 1/1000: Train Loss: 1.7676, Train Acc: 0.2697\n"
     ]
    },
    {
     "name": "stderr",
     "output_type": "stream",
     "text": [
      "Validation: 100%|██████████| 47/47 [00:01<00:00, 27.01it/s, Loss=1.7231, Acc=0.2983]\n"
     ]
    },
    {
     "name": "stdout",
     "output_type": "stream",
     "text": [
      "Epoch 1/1000: Val Loss: 1.7231, Val Acc: 0.2983, Val F1: 0.2120\n",
      "Current Learning Rate: 3e-05\n",
      "Best model saved at ../Experiment Augment Result/model11_augment_best.pt with accuracy: 0.2983\n"
     ]
    },
    {
     "name": "stderr",
     "output_type": "stream",
     "text": [
      "Epoch 2/1000: 100%|██████████| 422/422 [00:42<00:00, 10.02it/s, Loss=1.6876, Acc=0.3257]\n"
     ]
    },
    {
     "name": "stdout",
     "output_type": "stream",
     "text": [
      "Epoch 2/1000: Train Loss: 1.6876, Train Acc: 0.3257\n"
     ]
    },
    {
     "name": "stderr",
     "output_type": "stream",
     "text": [
      "Validation: 100%|██████████| 47/47 [00:01<00:00, 27.06it/s, Loss=1.6346, Acc=0.3627]\n"
     ]
    },
    {
     "name": "stdout",
     "output_type": "stream",
     "text": [
      "Epoch 2/1000: Val Loss: 1.6346, Val Acc: 0.3627, Val F1: 0.3074\n",
      "Current Learning Rate: 3e-05\n",
      "Best model saved at ../Experiment Augment Result/model11_augment_best.pt with accuracy: 0.3627\n"
     ]
    },
    {
     "name": "stderr",
     "output_type": "stream",
     "text": [
      "Epoch 3/1000: 100%|██████████| 422/422 [00:42<00:00, 10.00it/s, Loss=1.6346, Acc=0.3545]\n"
     ]
    },
    {
     "name": "stdout",
     "output_type": "stream",
     "text": [
      "Epoch 3/1000: Train Loss: 1.6346, Train Acc: 0.3545\n"
     ]
    },
    {
     "name": "stderr",
     "output_type": "stream",
     "text": [
      "Validation: 100%|██████████| 47/47 [00:01<00:00, 26.93it/s, Loss=1.5953, Acc=0.3807]\n"
     ]
    },
    {
     "name": "stdout",
     "output_type": "stream",
     "text": [
      "Epoch 3/1000: Val Loss: 1.5953, Val Acc: 0.3807, Val F1: 0.3257\n",
      "Current Learning Rate: 3e-05\n",
      "Best model saved at ../Experiment Augment Result/model11_augment_best.pt with accuracy: 0.3807\n"
     ]
    },
    {
     "name": "stderr",
     "output_type": "stream",
     "text": [
      "Epoch 4/1000: 100%|██████████| 422/422 [00:41<00:00, 10.12it/s, Loss=1.6076, Acc=0.3702]\n"
     ]
    },
    {
     "name": "stdout",
     "output_type": "stream",
     "text": [
      "Epoch 4/1000: Train Loss: 1.6076, Train Acc: 0.3702\n"
     ]
    },
    {
     "name": "stderr",
     "output_type": "stream",
     "text": [
      "Validation: 100%|██████████| 47/47 [00:01<00:00, 26.85it/s, Loss=1.5701, Acc=0.3843]\n"
     ]
    },
    {
     "name": "stdout",
     "output_type": "stream",
     "text": [
      "Epoch 4/1000: Val Loss: 1.5701, Val Acc: 0.3843, Val F1: 0.3417\n",
      "Current Learning Rate: 3e-05\n",
      "Best model saved at ../Experiment Augment Result/model11_augment_best.pt with accuracy: 0.3843\n"
     ]
    },
    {
     "name": "stderr",
     "output_type": "stream",
     "text": [
      "Epoch 5/1000: 100%|██████████| 422/422 [00:41<00:00, 10.06it/s, Loss=1.5779, Acc=0.3823]\n"
     ]
    },
    {
     "name": "stdout",
     "output_type": "stream",
     "text": [
      "Epoch 5/1000: Train Loss: 1.5779, Train Acc: 0.3823\n"
     ]
    },
    {
     "name": "stderr",
     "output_type": "stream",
     "text": [
      "Validation: 100%|██████████| 47/47 [00:01<00:00, 26.63it/s, Loss=1.5477, Acc=0.4050]\n"
     ]
    },
    {
     "name": "stdout",
     "output_type": "stream",
     "text": [
      "Epoch 5/1000: Val Loss: 1.5477, Val Acc: 0.4050, Val F1: 0.3611\n",
      "Current Learning Rate: 3e-05\n",
      "Best model saved at ../Experiment Augment Result/model11_augment_best.pt with accuracy: 0.4050\n"
     ]
    },
    {
     "name": "stderr",
     "output_type": "stream",
     "text": [
      "Epoch 6/1000: 100%|██████████| 422/422 [00:41<00:00, 10.11it/s, Loss=1.5626, Acc=0.3914]\n"
     ]
    },
    {
     "name": "stdout",
     "output_type": "stream",
     "text": [
      "Epoch 6/1000: Train Loss: 1.5626, Train Acc: 0.3914\n"
     ]
    },
    {
     "name": "stderr",
     "output_type": "stream",
     "text": [
      "Validation: 100%|██████████| 47/47 [00:01<00:00, 25.88it/s, Loss=1.5700, Acc=0.3913]\n"
     ]
    },
    {
     "name": "stdout",
     "output_type": "stream",
     "text": [
      "Epoch 6/1000: Val Loss: 1.5700, Val Acc: 0.3913, Val F1: 0.3296\n",
      "Current Learning Rate: 3e-05\n"
     ]
    },
    {
     "name": "stderr",
     "output_type": "stream",
     "text": [
      "Epoch 7/1000: 100%|██████████| 422/422 [00:41<00:00, 10.09it/s, Loss=1.5441, Acc=0.3963]\n"
     ]
    },
    {
     "name": "stdout",
     "output_type": "stream",
     "text": [
      "Epoch 7/1000: Train Loss: 1.5441, Train Acc: 0.3963\n"
     ]
    },
    {
     "name": "stderr",
     "output_type": "stream",
     "text": [
      "Validation: 100%|██████████| 47/47 [00:01<00:00, 26.87it/s, Loss=1.5359, Acc=0.4050]\n"
     ]
    },
    {
     "name": "stdout",
     "output_type": "stream",
     "text": [
      "Epoch 7/1000: Val Loss: 1.5359, Val Acc: 0.4050, Val F1: 0.3510\n",
      "Current Learning Rate: 3e-05\n"
     ]
    },
    {
     "name": "stderr",
     "output_type": "stream",
     "text": [
      "Epoch 8/1000: 100%|██████████| 422/422 [00:41<00:00, 10.14it/s, Loss=1.5321, Acc=0.4020]\n"
     ]
    },
    {
     "name": "stdout",
     "output_type": "stream",
     "text": [
      "Epoch 8/1000: Train Loss: 1.5321, Train Acc: 0.4020\n"
     ]
    },
    {
     "name": "stderr",
     "output_type": "stream",
     "text": [
      "Validation: 100%|██████████| 47/47 [00:01<00:00, 26.42it/s, Loss=1.5060, Acc=0.4220]\n"
     ]
    },
    {
     "name": "stdout",
     "output_type": "stream",
     "text": [
      "Epoch 8/1000: Val Loss: 1.5060, Val Acc: 0.4220, Val F1: 0.4009\n",
      "Current Learning Rate: 3e-05\n",
      "Best model saved at ../Experiment Augment Result/model11_augment_best.pt with accuracy: 0.4220\n"
     ]
    },
    {
     "name": "stderr",
     "output_type": "stream",
     "text": [
      "Epoch 9/1000: 100%|██████████| 422/422 [00:42<00:00,  9.89it/s, Loss=1.5148, Acc=0.4113]\n"
     ]
    },
    {
     "name": "stdout",
     "output_type": "stream",
     "text": [
      "Epoch 9/1000: Train Loss: 1.5148, Train Acc: 0.4113\n"
     ]
    },
    {
     "name": "stderr",
     "output_type": "stream",
     "text": [
      "Validation: 100%|██████████| 47/47 [00:01<00:00, 26.96it/s, Loss=1.5133, Acc=0.4150]\n"
     ]
    },
    {
     "name": "stdout",
     "output_type": "stream",
     "text": [
      "Epoch 9/1000: Val Loss: 1.5133, Val Acc: 0.4150, Val F1: 0.3921\n",
      "Current Learning Rate: 3e-05\n"
     ]
    },
    {
     "name": "stderr",
     "output_type": "stream",
     "text": [
      "Epoch 10/1000: 100%|██████████| 422/422 [00:41<00:00, 10.10it/s, Loss=1.5028, Acc=0.4134]\n"
     ]
    },
    {
     "name": "stdout",
     "output_type": "stream",
     "text": [
      "Epoch 10/1000: Train Loss: 1.5028, Train Acc: 0.4134\n"
     ]
    },
    {
     "name": "stderr",
     "output_type": "stream",
     "text": [
      "Validation: 100%|██████████| 47/47 [00:01<00:00, 25.77it/s, Loss=1.4961, Acc=0.4197]\n"
     ]
    },
    {
     "name": "stdout",
     "output_type": "stream",
     "text": [
      "Epoch 10/1000: Val Loss: 1.4961, Val Acc: 0.4197, Val F1: 0.4029\n",
      "Current Learning Rate: 3e-05\n"
     ]
    },
    {
     "name": "stderr",
     "output_type": "stream",
     "text": [
      "Epoch 11/1000: 100%|██████████| 422/422 [00:43<00:00,  9.78it/s, Loss=1.4896, Acc=0.4208]\n"
     ]
    },
    {
     "name": "stdout",
     "output_type": "stream",
     "text": [
      "Epoch 11/1000: Train Loss: 1.4896, Train Acc: 0.4208\n"
     ]
    },
    {
     "name": "stderr",
     "output_type": "stream",
     "text": [
      "Validation: 100%|██████████| 47/47 [00:01<00:00, 26.66it/s, Loss=1.4770, Acc=0.4257]\n"
     ]
    },
    {
     "name": "stdout",
     "output_type": "stream",
     "text": [
      "Epoch 11/1000: Val Loss: 1.4770, Val Acc: 0.4257, Val F1: 0.4195\n",
      "Current Learning Rate: 3e-05\n",
      "Best model saved at ../Experiment Augment Result/model11_augment_best.pt with accuracy: 0.4257\n"
     ]
    },
    {
     "name": "stderr",
     "output_type": "stream",
     "text": [
      "Epoch 12/1000: 100%|██████████| 422/422 [00:42<00:00, 10.01it/s, Loss=1.4778, Acc=0.4241]\n"
     ]
    },
    {
     "name": "stdout",
     "output_type": "stream",
     "text": [
      "Epoch 12/1000: Train Loss: 1.4778, Train Acc: 0.4241\n"
     ]
    },
    {
     "name": "stderr",
     "output_type": "stream",
     "text": [
      "Validation: 100%|██████████| 47/47 [00:01<00:00, 26.14it/s, Loss=1.4666, Acc=0.4363]\n"
     ]
    },
    {
     "name": "stdout",
     "output_type": "stream",
     "text": [
      "Epoch 12/1000: Val Loss: 1.4666, Val Acc: 0.4363, Val F1: 0.4105\n",
      "Current Learning Rate: 3e-05\n",
      "Best model saved at ../Experiment Augment Result/model11_augment_best.pt with accuracy: 0.4363\n"
     ]
    },
    {
     "name": "stderr",
     "output_type": "stream",
     "text": [
      "Epoch 13/1000: 100%|██████████| 422/422 [00:41<00:00, 10.06it/s, Loss=1.4627, Acc=0.4309]\n"
     ]
    },
    {
     "name": "stdout",
     "output_type": "stream",
     "text": [
      "Epoch 13/1000: Train Loss: 1.4627, Train Acc: 0.4309\n"
     ]
    },
    {
     "name": "stderr",
     "output_type": "stream",
     "text": [
      "Validation: 100%|██████████| 47/47 [00:01<00:00, 26.28it/s, Loss=1.4719, Acc=0.4317]\n"
     ]
    },
    {
     "name": "stdout",
     "output_type": "stream",
     "text": [
      "Epoch 13/1000: Val Loss: 1.4719, Val Acc: 0.4317, Val F1: 0.4252\n",
      "Current Learning Rate: 3e-05\n"
     ]
    },
    {
     "name": "stderr",
     "output_type": "stream",
     "text": [
      "Epoch 14/1000: 100%|██████████| 422/422 [00:42<00:00,  9.98it/s, Loss=1.4516, Acc=0.4404]\n"
     ]
    },
    {
     "name": "stdout",
     "output_type": "stream",
     "text": [
      "Epoch 14/1000: Train Loss: 1.4516, Train Acc: 0.4404\n"
     ]
    },
    {
     "name": "stderr",
     "output_type": "stream",
     "text": [
      "Validation: 100%|██████████| 47/47 [00:01<00:00, 26.52it/s, Loss=1.4617, Acc=0.4393]\n"
     ]
    },
    {
     "name": "stdout",
     "output_type": "stream",
     "text": [
      "Epoch 14/1000: Val Loss: 1.4617, Val Acc: 0.4393, Val F1: 0.4158\n",
      "Current Learning Rate: 3e-05\n",
      "Best model saved at ../Experiment Augment Result/model11_augment_best.pt with accuracy: 0.4393\n"
     ]
    },
    {
     "name": "stderr",
     "output_type": "stream",
     "text": [
      "Epoch 15/1000: 100%|██████████| 422/422 [00:42<00:00, 10.05it/s, Loss=1.4430, Acc=0.4415]\n"
     ]
    },
    {
     "name": "stdout",
     "output_type": "stream",
     "text": [
      "Epoch 15/1000: Train Loss: 1.4430, Train Acc: 0.4415\n"
     ]
    },
    {
     "name": "stderr",
     "output_type": "stream",
     "text": [
      "Validation: 100%|██████████| 47/47 [00:01<00:00, 26.68it/s, Loss=1.4405, Acc=0.4440]\n"
     ]
    },
    {
     "name": "stdout",
     "output_type": "stream",
     "text": [
      "Epoch 15/1000: Val Loss: 1.4405, Val Acc: 0.4440, Val F1: 0.4378\n",
      "Current Learning Rate: 3e-05\n",
      "Best model saved at ../Experiment Augment Result/model11_augment_best.pt with accuracy: 0.4440\n"
     ]
    },
    {
     "name": "stderr",
     "output_type": "stream",
     "text": [
      "Epoch 16/1000: 100%|██████████| 422/422 [00:41<00:00, 10.14it/s, Loss=1.4288, Acc=0.4459]\n"
     ]
    },
    {
     "name": "stdout",
     "output_type": "stream",
     "text": [
      "Epoch 16/1000: Train Loss: 1.4288, Train Acc: 0.4459\n"
     ]
    },
    {
     "name": "stderr",
     "output_type": "stream",
     "text": [
      "Validation: 100%|██████████| 47/47 [00:01<00:00, 26.42it/s, Loss=1.4166, Acc=0.4450]\n"
     ]
    },
    {
     "name": "stdout",
     "output_type": "stream",
     "text": [
      "Epoch 16/1000: Val Loss: 1.4166, Val Acc: 0.4450, Val F1: 0.4207\n",
      "Current Learning Rate: 3e-05\n",
      "Best model saved at ../Experiment Augment Result/model11_augment_best.pt with accuracy: 0.4450\n"
     ]
    },
    {
     "name": "stderr",
     "output_type": "stream",
     "text": [
      "Epoch 17/1000: 100%|██████████| 422/422 [00:41<00:00, 10.12it/s, Loss=1.4197, Acc=0.4466]\n"
     ]
    },
    {
     "name": "stdout",
     "output_type": "stream",
     "text": [
      "Epoch 17/1000: Train Loss: 1.4197, Train Acc: 0.4466\n"
     ]
    },
    {
     "name": "stderr",
     "output_type": "stream",
     "text": [
      "Validation: 100%|██████████| 47/47 [00:01<00:00, 27.02it/s, Loss=1.4072, Acc=0.4550]\n"
     ]
    },
    {
     "name": "stdout",
     "output_type": "stream",
     "text": [
      "Epoch 17/1000: Val Loss: 1.4072, Val Acc: 0.4550, Val F1: 0.4303\n",
      "Current Learning Rate: 3e-05\n",
      "Best model saved at ../Experiment Augment Result/model11_augment_best.pt with accuracy: 0.4550\n"
     ]
    },
    {
     "name": "stderr",
     "output_type": "stream",
     "text": [
      "Epoch 18/1000: 100%|██████████| 422/422 [00:41<00:00, 10.14it/s, Loss=1.4035, Acc=0.4556]\n"
     ]
    },
    {
     "name": "stdout",
     "output_type": "stream",
     "text": [
      "Epoch 18/1000: Train Loss: 1.4035, Train Acc: 0.4556\n"
     ]
    },
    {
     "name": "stderr",
     "output_type": "stream",
     "text": [
      "Validation: 100%|██████████| 47/47 [00:01<00:00, 26.89it/s, Loss=1.4296, Acc=0.4523]\n"
     ]
    },
    {
     "name": "stdout",
     "output_type": "stream",
     "text": [
      "Epoch 18/1000: Val Loss: 1.4296, Val Acc: 0.4523, Val F1: 0.4266\n",
      "Current Learning Rate: 3e-05\n"
     ]
    },
    {
     "name": "stderr",
     "output_type": "stream",
     "text": [
      "Epoch 19/1000: 100%|██████████| 422/422 [00:43<00:00,  9.75it/s, Loss=1.3992, Acc=0.4583]\n"
     ]
    },
    {
     "name": "stdout",
     "output_type": "stream",
     "text": [
      "Epoch 19/1000: Train Loss: 1.3992, Train Acc: 0.4583\n"
     ]
    },
    {
     "name": "stderr",
     "output_type": "stream",
     "text": [
      "Validation: 100%|██████████| 47/47 [00:01<00:00, 27.03it/s, Loss=1.3993, Acc=0.4663]\n"
     ]
    },
    {
     "name": "stdout",
     "output_type": "stream",
     "text": [
      "Epoch 19/1000: Val Loss: 1.3993, Val Acc: 0.4663, Val F1: 0.4516\n",
      "Current Learning Rate: 3e-05\n",
      "Best model saved at ../Experiment Augment Result/model11_augment_best.pt with accuracy: 0.4663\n"
     ]
    },
    {
     "name": "stderr",
     "output_type": "stream",
     "text": [
      "Epoch 20/1000: 100%|██████████| 422/422 [00:42<00:00,  9.97it/s, Loss=1.3834, Acc=0.4652]\n"
     ]
    },
    {
     "name": "stdout",
     "output_type": "stream",
     "text": [
      "Epoch 20/1000: Train Loss: 1.3834, Train Acc: 0.4652\n"
     ]
    },
    {
     "name": "stderr",
     "output_type": "stream",
     "text": [
      "Validation: 100%|██████████| 47/47 [00:01<00:00, 26.96it/s, Loss=1.3889, Acc=0.4677]\n"
     ]
    },
    {
     "name": "stdout",
     "output_type": "stream",
     "text": [
      "Epoch 20/1000: Val Loss: 1.3889, Val Acc: 0.4677, Val F1: 0.4481\n",
      "Current Learning Rate: 3e-05\n",
      "Best model saved at ../Experiment Augment Result/model11_augment_best.pt with accuracy: 0.4677\n"
     ]
    },
    {
     "name": "stderr",
     "output_type": "stream",
     "text": [
      "Epoch 21/1000: 100%|██████████| 422/422 [00:43<00:00,  9.75it/s, Loss=1.3767, Acc=0.4692]\n"
     ]
    },
    {
     "name": "stdout",
     "output_type": "stream",
     "text": [
      "Epoch 21/1000: Train Loss: 1.3767, Train Acc: 0.4692\n"
     ]
    },
    {
     "name": "stderr",
     "output_type": "stream",
     "text": [
      "Validation: 100%|██████████| 47/47 [00:01<00:00, 26.38it/s, Loss=1.3916, Acc=0.4617]\n"
     ]
    },
    {
     "name": "stdout",
     "output_type": "stream",
     "text": [
      "Epoch 21/1000: Val Loss: 1.3916, Val Acc: 0.4617, Val F1: 0.4288\n",
      "Current Learning Rate: 3e-05\n"
     ]
    },
    {
     "name": "stderr",
     "output_type": "stream",
     "text": [
      "Epoch 22/1000: 100%|██████████| 422/422 [00:41<00:00, 10.13it/s, Loss=1.3648, Acc=0.4678]\n"
     ]
    },
    {
     "name": "stdout",
     "output_type": "stream",
     "text": [
      "Epoch 22/1000: Train Loss: 1.3648, Train Acc: 0.4678\n"
     ]
    },
    {
     "name": "stderr",
     "output_type": "stream",
     "text": [
      "Validation: 100%|██████████| 47/47 [00:01<00:00, 26.34it/s, Loss=1.3776, Acc=0.4710]\n"
     ]
    },
    {
     "name": "stdout",
     "output_type": "stream",
     "text": [
      "Epoch 22/1000: Val Loss: 1.3776, Val Acc: 0.4710, Val F1: 0.4551\n",
      "Current Learning Rate: 3e-05\n",
      "Best model saved at ../Experiment Augment Result/model11_augment_best.pt with accuracy: 0.4710\n"
     ]
    },
    {
     "name": "stderr",
     "output_type": "stream",
     "text": [
      "Epoch 23/1000: 100%|██████████| 422/422 [00:41<00:00, 10.20it/s, Loss=1.3615, Acc=0.4722]\n"
     ]
    },
    {
     "name": "stdout",
     "output_type": "stream",
     "text": [
      "Epoch 23/1000: Train Loss: 1.3615, Train Acc: 0.4722\n"
     ]
    },
    {
     "name": "stderr",
     "output_type": "stream",
     "text": [
      "Validation: 100%|██████████| 47/47 [00:01<00:00, 28.47it/s, Loss=1.3825, Acc=0.4643]\n"
     ]
    },
    {
     "name": "stdout",
     "output_type": "stream",
     "text": [
      "Epoch 23/1000: Val Loss: 1.3825, Val Acc: 0.4643, Val F1: 0.4420\n",
      "Current Learning Rate: 3e-05\n"
     ]
    },
    {
     "name": "stderr",
     "output_type": "stream",
     "text": [
      "Epoch 24/1000: 100%|██████████| 422/422 [00:41<00:00, 10.20it/s, Loss=1.3499, Acc=0.4794]\n"
     ]
    },
    {
     "name": "stdout",
     "output_type": "stream",
     "text": [
      "Epoch 24/1000: Train Loss: 1.3499, Train Acc: 0.4794\n"
     ]
    },
    {
     "name": "stderr",
     "output_type": "stream",
     "text": [
      "Validation: 100%|██████████| 47/47 [00:01<00:00, 28.50it/s, Loss=1.3783, Acc=0.4637]\n"
     ]
    },
    {
     "name": "stdout",
     "output_type": "stream",
     "text": [
      "Epoch 24/1000: Val Loss: 1.3783, Val Acc: 0.4637, Val F1: 0.4313\n",
      "Current Learning Rate: 3e-05\n"
     ]
    },
    {
     "name": "stderr",
     "output_type": "stream",
     "text": [
      "Epoch 25/1000: 100%|██████████| 422/422 [00:41<00:00, 10.27it/s, Loss=1.3408, Acc=0.4817]\n"
     ]
    },
    {
     "name": "stdout",
     "output_type": "stream",
     "text": [
      "Epoch 25/1000: Train Loss: 1.3408, Train Acc: 0.4817\n"
     ]
    },
    {
     "name": "stderr",
     "output_type": "stream",
     "text": [
      "Validation: 100%|██████████| 47/47 [00:01<00:00, 28.51it/s, Loss=1.3646, Acc=0.4720]\n"
     ]
    },
    {
     "name": "stdout",
     "output_type": "stream",
     "text": [
      "Epoch 25/1000: Val Loss: 1.3646, Val Acc: 0.4720, Val F1: 0.4400\n",
      "Current Learning Rate: 3e-05\n",
      "Best model saved at ../Experiment Augment Result/model11_augment_best.pt with accuracy: 0.4720\n"
     ]
    },
    {
     "name": "stderr",
     "output_type": "stream",
     "text": [
      "Epoch 26/1000: 100%|██████████| 422/422 [00:41<00:00, 10.28it/s, Loss=1.3324, Acc=0.4871]\n"
     ]
    },
    {
     "name": "stdout",
     "output_type": "stream",
     "text": [
      "Epoch 26/1000: Train Loss: 1.3324, Train Acc: 0.4871\n"
     ]
    },
    {
     "name": "stderr",
     "output_type": "stream",
     "text": [
      "Validation: 100%|██████████| 47/47 [00:01<00:00, 26.92it/s, Loss=1.3583, Acc=0.4723]\n"
     ]
    },
    {
     "name": "stdout",
     "output_type": "stream",
     "text": [
      "Epoch 26/1000: Val Loss: 1.3583, Val Acc: 0.4723, Val F1: 0.4560\n",
      "Current Learning Rate: 3e-05\n",
      "Best model saved at ../Experiment Augment Result/model11_augment_best.pt with accuracy: 0.4723\n"
     ]
    },
    {
     "name": "stderr",
     "output_type": "stream",
     "text": [
      "Epoch 27/1000: 100%|██████████| 422/422 [00:42<00:00,  9.84it/s, Loss=1.3192, Acc=0.4910]\n"
     ]
    },
    {
     "name": "stdout",
     "output_type": "stream",
     "text": [
      "Epoch 27/1000: Train Loss: 1.3192, Train Acc: 0.4910\n"
     ]
    },
    {
     "name": "stderr",
     "output_type": "stream",
     "text": [
      "Validation: 100%|██████████| 47/47 [00:01<00:00, 26.96it/s, Loss=1.3535, Acc=0.4780]\n"
     ]
    },
    {
     "name": "stdout",
     "output_type": "stream",
     "text": [
      "Epoch 27/1000: Val Loss: 1.3535, Val Acc: 0.4780, Val F1: 0.4576\n",
      "Current Learning Rate: 3e-05\n",
      "Best model saved at ../Experiment Augment Result/model11_augment_best.pt with accuracy: 0.4780\n"
     ]
    },
    {
     "name": "stderr",
     "output_type": "stream",
     "text": [
      "Epoch 28/1000: 100%|██████████| 422/422 [00:41<00:00, 10.17it/s, Loss=1.3160, Acc=0.4930]\n"
     ]
    },
    {
     "name": "stdout",
     "output_type": "stream",
     "text": [
      "Epoch 28/1000: Train Loss: 1.3160, Train Acc: 0.4930\n"
     ]
    },
    {
     "name": "stderr",
     "output_type": "stream",
     "text": [
      "Validation: 100%|██████████| 47/47 [00:01<00:00, 26.39it/s, Loss=1.3411, Acc=0.4720]\n"
     ]
    },
    {
     "name": "stdout",
     "output_type": "stream",
     "text": [
      "Epoch 28/1000: Val Loss: 1.3411, Val Acc: 0.4720, Val F1: 0.4533\n",
      "Current Learning Rate: 3e-05\n"
     ]
    },
    {
     "name": "stderr",
     "output_type": "stream",
     "text": [
      "Epoch 29/1000: 100%|██████████| 422/422 [00:41<00:00, 10.16it/s, Loss=1.3088, Acc=0.4920]\n"
     ]
    },
    {
     "name": "stdout",
     "output_type": "stream",
     "text": [
      "Epoch 29/1000: Train Loss: 1.3088, Train Acc: 0.4920\n"
     ]
    },
    {
     "name": "stderr",
     "output_type": "stream",
     "text": [
      "Validation: 100%|██████████| 47/47 [00:01<00:00, 26.85it/s, Loss=1.3586, Acc=0.4763]\n"
     ]
    },
    {
     "name": "stdout",
     "output_type": "stream",
     "text": [
      "Epoch 29/1000: Val Loss: 1.3586, Val Acc: 0.4763, Val F1: 0.4669\n",
      "Current Learning Rate: 3e-05\n"
     ]
    },
    {
     "name": "stderr",
     "output_type": "stream",
     "text": [
      "Epoch 30/1000: 100%|██████████| 422/422 [00:42<00:00, 10.03it/s, Loss=1.2975, Acc=0.4965]\n"
     ]
    },
    {
     "name": "stdout",
     "output_type": "stream",
     "text": [
      "Epoch 30/1000: Train Loss: 1.2975, Train Acc: 0.4965\n"
     ]
    },
    {
     "name": "stderr",
     "output_type": "stream",
     "text": [
      "Validation: 100%|██████████| 47/47 [00:01<00:00, 25.88it/s, Loss=1.3544, Acc=0.4730]\n"
     ]
    },
    {
     "name": "stdout",
     "output_type": "stream",
     "text": [
      "Epoch 30/1000: Val Loss: 1.3544, Val Acc: 0.4730, Val F1: 0.4481\n",
      "Current Learning Rate: 3e-05\n"
     ]
    },
    {
     "name": "stderr",
     "output_type": "stream",
     "text": [
      "Epoch 31/1000: 100%|██████████| 422/422 [00:42<00:00,  9.88it/s, Loss=1.2880, Acc=0.5048]\n"
     ]
    },
    {
     "name": "stdout",
     "output_type": "stream",
     "text": [
      "Epoch 31/1000: Train Loss: 1.2880, Train Acc: 0.5048\n"
     ]
    },
    {
     "name": "stderr",
     "output_type": "stream",
     "text": [
      "Validation: 100%|██████████| 47/47 [00:01<00:00, 26.94it/s, Loss=1.3409, Acc=0.4803]\n"
     ]
    },
    {
     "name": "stdout",
     "output_type": "stream",
     "text": [
      "Epoch 31/1000: Val Loss: 1.3409, Val Acc: 0.4803, Val F1: 0.4626\n",
      "Current Learning Rate: 3e-05\n",
      "Best model saved at ../Experiment Augment Result/model11_augment_best.pt with accuracy: 0.4803\n"
     ]
    },
    {
     "name": "stderr",
     "output_type": "stream",
     "text": [
      "Epoch 32/1000: 100%|██████████| 422/422 [00:41<00:00, 10.16it/s, Loss=1.2787, Acc=0.5061]\n"
     ]
    },
    {
     "name": "stdout",
     "output_type": "stream",
     "text": [
      "Epoch 32/1000: Train Loss: 1.2787, Train Acc: 0.5061\n"
     ]
    },
    {
     "name": "stderr",
     "output_type": "stream",
     "text": [
      "Validation: 100%|██████████| 47/47 [00:01<00:00, 26.86it/s, Loss=1.3354, Acc=0.4790]\n"
     ]
    },
    {
     "name": "stdout",
     "output_type": "stream",
     "text": [
      "Epoch 32/1000: Val Loss: 1.3354, Val Acc: 0.4790, Val F1: 0.4603\n",
      "Current Learning Rate: 3e-05\n"
     ]
    },
    {
     "name": "stderr",
     "output_type": "stream",
     "text": [
      "Epoch 33/1000: 100%|██████████| 422/422 [00:41<00:00, 10.10it/s, Loss=1.2739, Acc=0.5108]\n"
     ]
    },
    {
     "name": "stdout",
     "output_type": "stream",
     "text": [
      "Epoch 33/1000: Train Loss: 1.2739, Train Acc: 0.5108\n"
     ]
    },
    {
     "name": "stderr",
     "output_type": "stream",
     "text": [
      "Validation: 100%|██████████| 47/47 [00:01<00:00, 26.34it/s, Loss=1.3193, Acc=0.4813]\n"
     ]
    },
    {
     "name": "stdout",
     "output_type": "stream",
     "text": [
      "Epoch 33/1000: Val Loss: 1.3193, Val Acc: 0.4813, Val F1: 0.4700\n",
      "Current Learning Rate: 3e-05\n",
      "Best model saved at ../Experiment Augment Result/model11_augment_best.pt with accuracy: 0.4813\n"
     ]
    },
    {
     "name": "stderr",
     "output_type": "stream",
     "text": [
      "Epoch 34/1000: 100%|██████████| 422/422 [00:41<00:00, 10.19it/s, Loss=1.2656, Acc=0.5122]\n"
     ]
    },
    {
     "name": "stdout",
     "output_type": "stream",
     "text": [
      "Epoch 34/1000: Train Loss: 1.2656, Train Acc: 0.5122\n"
     ]
    },
    {
     "name": "stderr",
     "output_type": "stream",
     "text": [
      "Validation: 100%|██████████| 47/47 [00:01<00:00, 26.91it/s, Loss=1.3296, Acc=0.4873]\n"
     ]
    },
    {
     "name": "stdout",
     "output_type": "stream",
     "text": [
      "Epoch 34/1000: Val Loss: 1.3296, Val Acc: 0.4873, Val F1: 0.4773\n",
      "Current Learning Rate: 3e-05\n",
      "Best model saved at ../Experiment Augment Result/model11_augment_best.pt with accuracy: 0.4873\n"
     ]
    },
    {
     "name": "stderr",
     "output_type": "stream",
     "text": [
      "Epoch 35/1000: 100%|██████████| 422/422 [00:43<00:00,  9.61it/s, Loss=1.2582, Acc=0.5141]\n"
     ]
    },
    {
     "name": "stdout",
     "output_type": "stream",
     "text": [
      "Epoch 35/1000: Train Loss: 1.2582, Train Acc: 0.5141\n"
     ]
    },
    {
     "name": "stderr",
     "output_type": "stream",
     "text": [
      "Validation: 100%|██████████| 47/47 [00:01<00:00, 27.75it/s, Loss=1.3296, Acc=0.4760]\n"
     ]
    },
    {
     "name": "stdout",
     "output_type": "stream",
     "text": [
      "Epoch 35/1000: Val Loss: 1.3296, Val Acc: 0.4760, Val F1: 0.4686\n",
      "Current Learning Rate: 3e-05\n"
     ]
    },
    {
     "name": "stderr",
     "output_type": "stream",
     "text": [
      "Epoch 36/1000: 100%|██████████| 422/422 [00:40<00:00, 10.40it/s, Loss=1.2543, Acc=0.5177]\n"
     ]
    },
    {
     "name": "stdout",
     "output_type": "stream",
     "text": [
      "Epoch 36/1000: Train Loss: 1.2543, Train Acc: 0.5177\n"
     ]
    },
    {
     "name": "stderr",
     "output_type": "stream",
     "text": [
      "Validation: 100%|██████████| 47/47 [00:01<00:00, 28.51it/s, Loss=1.3138, Acc=0.4923]\n"
     ]
    },
    {
     "name": "stdout",
     "output_type": "stream",
     "text": [
      "Epoch 36/1000: Val Loss: 1.3138, Val Acc: 0.4923, Val F1: 0.4817\n",
      "Current Learning Rate: 3e-05\n",
      "Best model saved at ../Experiment Augment Result/model11_augment_best.pt with accuracy: 0.4923\n"
     ]
    },
    {
     "name": "stderr",
     "output_type": "stream",
     "text": [
      "Epoch 37/1000: 100%|██████████| 422/422 [00:41<00:00, 10.16it/s, Loss=1.2433, Acc=0.5280]\n"
     ]
    },
    {
     "name": "stdout",
     "output_type": "stream",
     "text": [
      "Epoch 37/1000: Train Loss: 1.2433, Train Acc: 0.5280\n"
     ]
    },
    {
     "name": "stderr",
     "output_type": "stream",
     "text": [
      "Validation: 100%|██████████| 47/47 [00:01<00:00, 27.77it/s, Loss=1.3229, Acc=0.4913]\n"
     ]
    },
    {
     "name": "stdout",
     "output_type": "stream",
     "text": [
      "Epoch 37/1000: Val Loss: 1.3229, Val Acc: 0.4913, Val F1: 0.4704\n",
      "Current Learning Rate: 3e-05\n"
     ]
    },
    {
     "name": "stderr",
     "output_type": "stream",
     "text": [
      "Epoch 38/1000: 100%|██████████| 422/422 [00:40<00:00, 10.36it/s, Loss=1.2328, Acc=0.5310]\n"
     ]
    },
    {
     "name": "stdout",
     "output_type": "stream",
     "text": [
      "Epoch 38/1000: Train Loss: 1.2328, Train Acc: 0.5310\n"
     ]
    },
    {
     "name": "stderr",
     "output_type": "stream",
     "text": [
      "Validation: 100%|██████████| 47/47 [00:01<00:00, 28.27it/s, Loss=1.3064, Acc=0.5003]\n"
     ]
    },
    {
     "name": "stdout",
     "output_type": "stream",
     "text": [
      "Epoch 38/1000: Val Loss: 1.3064, Val Acc: 0.5003, Val F1: 0.4920\n",
      "Current Learning Rate: 3e-05\n",
      "Best model saved at ../Experiment Augment Result/model11_augment_best.pt with accuracy: 0.5003\n"
     ]
    },
    {
     "name": "stderr",
     "output_type": "stream",
     "text": [
      "Epoch 39/1000: 100%|██████████| 422/422 [00:42<00:00,  9.89it/s, Loss=1.2266, Acc=0.5300]\n"
     ]
    },
    {
     "name": "stdout",
     "output_type": "stream",
     "text": [
      "Epoch 39/1000: Train Loss: 1.2266, Train Acc: 0.5300\n"
     ]
    },
    {
     "name": "stderr",
     "output_type": "stream",
     "text": [
      "Validation: 100%|██████████| 47/47 [00:01<00:00, 27.76it/s, Loss=1.3300, Acc=0.4863]\n"
     ]
    },
    {
     "name": "stdout",
     "output_type": "stream",
     "text": [
      "Epoch 39/1000: Val Loss: 1.3300, Val Acc: 0.4863, Val F1: 0.4733\n",
      "Current Learning Rate: 3e-05\n"
     ]
    },
    {
     "name": "stderr",
     "output_type": "stream",
     "text": [
      "Epoch 40/1000: 100%|██████████| 422/422 [00:42<00:00,  9.94it/s, Loss=1.2177, Acc=0.5337]\n"
     ]
    },
    {
     "name": "stdout",
     "output_type": "stream",
     "text": [
      "Epoch 40/1000: Train Loss: 1.2177, Train Acc: 0.5337\n"
     ]
    },
    {
     "name": "stderr",
     "output_type": "stream",
     "text": [
      "Validation: 100%|██████████| 47/47 [00:01<00:00, 26.98it/s, Loss=1.3068, Acc=0.4987]\n"
     ]
    },
    {
     "name": "stdout",
     "output_type": "stream",
     "text": [
      "Epoch 40/1000: Val Loss: 1.3068, Val Acc: 0.4987, Val F1: 0.4882\n",
      "Current Learning Rate: 3e-05\n"
     ]
    },
    {
     "name": "stderr",
     "output_type": "stream",
     "text": [
      "Epoch 41/1000: 100%|██████████| 422/422 [00:42<00:00,  9.98it/s, Loss=1.2141, Acc=0.5347]\n"
     ]
    },
    {
     "name": "stdout",
     "output_type": "stream",
     "text": [
      "Epoch 41/1000: Train Loss: 1.2141, Train Acc: 0.5347\n"
     ]
    },
    {
     "name": "stderr",
     "output_type": "stream",
     "text": [
      "Validation: 100%|██████████| 47/47 [00:01<00:00, 25.25it/s, Loss=1.2999, Acc=0.4997]\n"
     ]
    },
    {
     "name": "stdout",
     "output_type": "stream",
     "text": [
      "Epoch 41/1000: Val Loss: 1.2999, Val Acc: 0.4997, Val F1: 0.4894\n",
      "Current Learning Rate: 3e-05\n"
     ]
    },
    {
     "name": "stderr",
     "output_type": "stream",
     "text": [
      "Epoch 42/1000: 100%|██████████| 422/422 [00:41<00:00, 10.15it/s, Loss=1.2026, Acc=0.5409]\n"
     ]
    },
    {
     "name": "stdout",
     "output_type": "stream",
     "text": [
      "Epoch 42/1000: Train Loss: 1.2026, Train Acc: 0.5409\n"
     ]
    },
    {
     "name": "stderr",
     "output_type": "stream",
     "text": [
      "Validation: 100%|██████████| 47/47 [00:01<00:00, 26.92it/s, Loss=1.3009, Acc=0.5020]\n"
     ]
    },
    {
     "name": "stdout",
     "output_type": "stream",
     "text": [
      "Epoch 42/1000: Val Loss: 1.3009, Val Acc: 0.5020, Val F1: 0.4886\n",
      "Current Learning Rate: 3e-05\n",
      "Best model saved at ../Experiment Augment Result/model11_augment_best.pt with accuracy: 0.5020\n"
     ]
    },
    {
     "name": "stderr",
     "output_type": "stream",
     "text": [
      "Epoch 43/1000: 100%|██████████| 422/422 [00:42<00:00, 10.00it/s, Loss=1.1886, Acc=0.5441]\n"
     ]
    },
    {
     "name": "stdout",
     "output_type": "stream",
     "text": [
      "Epoch 43/1000: Train Loss: 1.1886, Train Acc: 0.5441\n"
     ]
    },
    {
     "name": "stderr",
     "output_type": "stream",
     "text": [
      "Validation: 100%|██████████| 47/47 [00:01<00:00, 26.98it/s, Loss=1.3044, Acc=0.4857]\n"
     ]
    },
    {
     "name": "stdout",
     "output_type": "stream",
     "text": [
      "Epoch 43/1000: Val Loss: 1.3044, Val Acc: 0.4857, Val F1: 0.4746\n",
      "Current Learning Rate: 3e-05\n"
     ]
    },
    {
     "name": "stderr",
     "output_type": "stream",
     "text": [
      "Epoch 44/1000: 100%|██████████| 422/422 [00:41<00:00, 10.19it/s, Loss=1.1826, Acc=0.5480]\n"
     ]
    },
    {
     "name": "stdout",
     "output_type": "stream",
     "text": [
      "Epoch 44/1000: Train Loss: 1.1826, Train Acc: 0.5480\n"
     ]
    },
    {
     "name": "stderr",
     "output_type": "stream",
     "text": [
      "Validation: 100%|██████████| 47/47 [00:01<00:00, 26.36it/s, Loss=1.3164, Acc=0.4897]\n"
     ]
    },
    {
     "name": "stdout",
     "output_type": "stream",
     "text": [
      "Epoch 44/1000: Val Loss: 1.3164, Val Acc: 0.4897, Val F1: 0.4788\n",
      "Current Learning Rate: 3e-05\n"
     ]
    },
    {
     "name": "stderr",
     "output_type": "stream",
     "text": [
      "Epoch 45/1000: 100%|██████████| 422/422 [00:41<00:00, 10.13it/s, Loss=1.1815, Acc=0.5510]\n"
     ]
    },
    {
     "name": "stdout",
     "output_type": "stream",
     "text": [
      "Epoch 45/1000: Train Loss: 1.1815, Train Acc: 0.5510\n"
     ]
    },
    {
     "name": "stderr",
     "output_type": "stream",
     "text": [
      "Validation: 100%|██████████| 47/47 [00:01<00:00, 26.99it/s, Loss=1.2981, Acc=0.4957]\n"
     ]
    },
    {
     "name": "stdout",
     "output_type": "stream",
     "text": [
      "Epoch 45/1000: Val Loss: 1.2981, Val Acc: 0.4957, Val F1: 0.4886\n",
      "Current Learning Rate: 3e-05\n"
     ]
    },
    {
     "name": "stderr",
     "output_type": "stream",
     "text": [
      "Epoch 46/1000: 100%|██████████| 422/422 [00:43<00:00,  9.77it/s, Loss=1.1658, Acc=0.5536]\n"
     ]
    },
    {
     "name": "stdout",
     "output_type": "stream",
     "text": [
      "Epoch 46/1000: Train Loss: 1.1658, Train Acc: 0.5536\n"
     ]
    },
    {
     "name": "stderr",
     "output_type": "stream",
     "text": [
      "Validation: 100%|██████████| 47/47 [00:01<00:00, 26.99it/s, Loss=1.2917, Acc=0.5060]\n"
     ]
    },
    {
     "name": "stdout",
     "output_type": "stream",
     "text": [
      "Epoch 46/1000: Val Loss: 1.2917, Val Acc: 0.5060, Val F1: 0.4974\n",
      "Current Learning Rate: 3e-05\n",
      "Best model saved at ../Experiment Augment Result/model11_augment_best.pt with accuracy: 0.5060\n"
     ]
    },
    {
     "name": "stderr",
     "output_type": "stream",
     "text": [
      "Epoch 47/1000: 100%|██████████| 422/422 [00:43<00:00,  9.71it/s, Loss=1.1670, Acc=0.5527]\n"
     ]
    },
    {
     "name": "stdout",
     "output_type": "stream",
     "text": [
      "Epoch 47/1000: Train Loss: 1.1670, Train Acc: 0.5527\n"
     ]
    },
    {
     "name": "stderr",
     "output_type": "stream",
     "text": [
      "Validation: 100%|██████████| 47/47 [00:01<00:00, 26.98it/s, Loss=1.2949, Acc=0.5003]\n"
     ]
    },
    {
     "name": "stdout",
     "output_type": "stream",
     "text": [
      "Epoch 47/1000: Val Loss: 1.2949, Val Acc: 0.5003, Val F1: 0.4886\n",
      "Current Learning Rate: 3e-05\n"
     ]
    },
    {
     "name": "stderr",
     "output_type": "stream",
     "text": [
      "Epoch 48/1000: 100%|██████████| 422/422 [00:41<00:00, 10.08it/s, Loss=1.1592, Acc=0.5575]\n"
     ]
    },
    {
     "name": "stdout",
     "output_type": "stream",
     "text": [
      "Epoch 48/1000: Train Loss: 1.1592, Train Acc: 0.5575\n"
     ]
    },
    {
     "name": "stderr",
     "output_type": "stream",
     "text": [
      "Validation: 100%|██████████| 47/47 [00:01<00:00, 26.75it/s, Loss=1.2934, Acc=0.5023]\n"
     ]
    },
    {
     "name": "stdout",
     "output_type": "stream",
     "text": [
      "Epoch 48/1000: Val Loss: 1.2934, Val Acc: 0.5023, Val F1: 0.4994\n",
      "Current Learning Rate: 3e-05\n"
     ]
    },
    {
     "name": "stderr",
     "output_type": "stream",
     "text": [
      "Epoch 49/1000: 100%|██████████| 422/422 [00:42<00:00,  9.99it/s, Loss=1.1440, Acc=0.5632]\n"
     ]
    },
    {
     "name": "stdout",
     "output_type": "stream",
     "text": [
      "Epoch 49/1000: Train Loss: 1.1440, Train Acc: 0.5632\n"
     ]
    },
    {
     "name": "stderr",
     "output_type": "stream",
     "text": [
      "Validation: 100%|██████████| 47/47 [00:01<00:00, 26.60it/s, Loss=1.3027, Acc=0.5010]\n"
     ]
    },
    {
     "name": "stdout",
     "output_type": "stream",
     "text": [
      "Epoch 49/1000: Val Loss: 1.3027, Val Acc: 0.5010, Val F1: 0.4973\n",
      "Current Learning Rate: 3e-05\n"
     ]
    },
    {
     "name": "stderr",
     "output_type": "stream",
     "text": [
      "Epoch 50/1000: 100%|██████████| 422/422 [00:42<00:00,  9.97it/s, Loss=1.1405, Acc=0.5652]\n"
     ]
    },
    {
     "name": "stdout",
     "output_type": "stream",
     "text": [
      "Epoch 50/1000: Train Loss: 1.1405, Train Acc: 0.5652\n"
     ]
    },
    {
     "name": "stderr",
     "output_type": "stream",
     "text": [
      "Validation: 100%|██████████| 47/47 [00:01<00:00, 26.73it/s, Loss=1.2898, Acc=0.5010]\n"
     ]
    },
    {
     "name": "stdout",
     "output_type": "stream",
     "text": [
      "Epoch 50/1000: Val Loss: 1.2898, Val Acc: 0.5010, Val F1: 0.4878\n",
      "Current Learning Rate: 3e-05\n"
     ]
    },
    {
     "name": "stderr",
     "output_type": "stream",
     "text": [
      "Epoch 51/1000: 100%|██████████| 422/422 [00:41<00:00, 10.15it/s, Loss=1.1283, Acc=0.5714]\n"
     ]
    },
    {
     "name": "stdout",
     "output_type": "stream",
     "text": [
      "Epoch 51/1000: Train Loss: 1.1283, Train Acc: 0.5714\n"
     ]
    },
    {
     "name": "stderr",
     "output_type": "stream",
     "text": [
      "Validation: 100%|██████████| 47/47 [00:01<00:00, 26.94it/s, Loss=1.2884, Acc=0.5077]\n"
     ]
    },
    {
     "name": "stdout",
     "output_type": "stream",
     "text": [
      "Epoch 51/1000: Val Loss: 1.2884, Val Acc: 0.5077, Val F1: 0.4979\n",
      "Current Learning Rate: 3e-05\n",
      "Best model saved at ../Experiment Augment Result/model11_augment_best.pt with accuracy: 0.5077\n"
     ]
    },
    {
     "name": "stderr",
     "output_type": "stream",
     "text": [
      "Epoch 52/1000: 100%|██████████| 422/422 [00:41<00:00, 10.13it/s, Loss=1.1218, Acc=0.5736]\n"
     ]
    },
    {
     "name": "stdout",
     "output_type": "stream",
     "text": [
      "Epoch 52/1000: Train Loss: 1.1218, Train Acc: 0.5736\n"
     ]
    },
    {
     "name": "stderr",
     "output_type": "stream",
     "text": [
      "Validation: 100%|██████████| 47/47 [00:01<00:00, 26.62it/s, Loss=1.3122, Acc=0.4943]\n"
     ]
    },
    {
     "name": "stdout",
     "output_type": "stream",
     "text": [
      "Epoch 52/1000: Val Loss: 1.3122, Val Acc: 0.4943, Val F1: 0.4926\n",
      "Current Learning Rate: 3e-05\n"
     ]
    },
    {
     "name": "stderr",
     "output_type": "stream",
     "text": [
      "Epoch 53/1000: 100%|██████████| 422/422 [00:42<00:00,  9.93it/s, Loss=1.1105, Acc=0.5756]\n"
     ]
    },
    {
     "name": "stdout",
     "output_type": "stream",
     "text": [
      "Epoch 53/1000: Train Loss: 1.1105, Train Acc: 0.5756\n"
     ]
    },
    {
     "name": "stderr",
     "output_type": "stream",
     "text": [
      "Validation: 100%|██████████| 47/47 [00:01<00:00, 25.83it/s, Loss=1.2884, Acc=0.5157]\n"
     ]
    },
    {
     "name": "stdout",
     "output_type": "stream",
     "text": [
      "Epoch 53/1000: Val Loss: 1.2884, Val Acc: 0.5157, Val F1: 0.5027\n",
      "Current Learning Rate: 3e-05\n",
      "Best model saved at ../Experiment Augment Result/model11_augment_best.pt with accuracy: 0.5157\n"
     ]
    },
    {
     "name": "stderr",
     "output_type": "stream",
     "text": [
      "Epoch 54/1000: 100%|██████████| 422/422 [00:42<00:00,  9.83it/s, Loss=1.1111, Acc=0.5784]\n"
     ]
    },
    {
     "name": "stdout",
     "output_type": "stream",
     "text": [
      "Epoch 54/1000: Train Loss: 1.1111, Train Acc: 0.5784\n"
     ]
    },
    {
     "name": "stderr",
     "output_type": "stream",
     "text": [
      "Validation: 100%|██████████| 47/47 [00:01<00:00, 26.84it/s, Loss=1.2754, Acc=0.5163]\n"
     ]
    },
    {
     "name": "stdout",
     "output_type": "stream",
     "text": [
      "Epoch 54/1000: Val Loss: 1.2754, Val Acc: 0.5163, Val F1: 0.5070\n",
      "Current Learning Rate: 3e-05\n",
      "Best model saved at ../Experiment Augment Result/model11_augment_best.pt with accuracy: 0.5163\n"
     ]
    },
    {
     "name": "stderr",
     "output_type": "stream",
     "text": [
      "Epoch 55/1000: 100%|██████████| 422/422 [00:42<00:00,  9.95it/s, Loss=1.0968, Acc=0.5851]\n"
     ]
    },
    {
     "name": "stdout",
     "output_type": "stream",
     "text": [
      "Epoch 55/1000: Train Loss: 1.0968, Train Acc: 0.5851\n"
     ]
    },
    {
     "name": "stderr",
     "output_type": "stream",
     "text": [
      "Validation: 100%|██████████| 47/47 [00:01<00:00, 26.92it/s, Loss=1.2929, Acc=0.5067]\n"
     ]
    },
    {
     "name": "stdout",
     "output_type": "stream",
     "text": [
      "Epoch 55/1000: Val Loss: 1.2929, Val Acc: 0.5067, Val F1: 0.5043\n",
      "Current Learning Rate: 3e-05\n"
     ]
    },
    {
     "name": "stderr",
     "output_type": "stream",
     "text": [
      "Epoch 56/1000: 100%|██████████| 422/422 [00:41<00:00, 10.06it/s, Loss=1.0877, Acc=0.5893]\n"
     ]
    },
    {
     "name": "stdout",
     "output_type": "stream",
     "text": [
      "Epoch 56/1000: Train Loss: 1.0877, Train Acc: 0.5893\n"
     ]
    },
    {
     "name": "stderr",
     "output_type": "stream",
     "text": [
      "Validation: 100%|██████████| 47/47 [00:01<00:00, 26.99it/s, Loss=1.3102, Acc=0.5050]\n"
     ]
    },
    {
     "name": "stdout",
     "output_type": "stream",
     "text": [
      "Epoch 56/1000: Val Loss: 1.3102, Val Acc: 0.5050, Val F1: 0.4936\n",
      "Current Learning Rate: 3e-05\n"
     ]
    },
    {
     "name": "stderr",
     "output_type": "stream",
     "text": [
      "Epoch 57/1000: 100%|██████████| 422/422 [00:41<00:00, 10.09it/s, Loss=1.0747, Acc=0.5908]\n"
     ]
    },
    {
     "name": "stdout",
     "output_type": "stream",
     "text": [
      "Epoch 57/1000: Train Loss: 1.0747, Train Acc: 0.5908\n"
     ]
    },
    {
     "name": "stderr",
     "output_type": "stream",
     "text": [
      "Validation: 100%|██████████| 47/47 [00:01<00:00, 26.89it/s, Loss=1.2825, Acc=0.5227]\n"
     ]
    },
    {
     "name": "stdout",
     "output_type": "stream",
     "text": [
      "Epoch 57/1000: Val Loss: 1.2825, Val Acc: 0.5227, Val F1: 0.5096\n",
      "Current Learning Rate: 3e-05\n",
      "Best model saved at ../Experiment Augment Result/model11_augment_best.pt with accuracy: 0.5227\n"
     ]
    },
    {
     "name": "stderr",
     "output_type": "stream",
     "text": [
      "Epoch 58/1000: 100%|██████████| 422/422 [00:41<00:00, 10.14it/s, Loss=1.0779, Acc=0.5931]\n"
     ]
    },
    {
     "name": "stdout",
     "output_type": "stream",
     "text": [
      "Epoch 58/1000: Train Loss: 1.0779, Train Acc: 0.5931\n"
     ]
    },
    {
     "name": "stderr",
     "output_type": "stream",
     "text": [
      "Validation: 100%|██████████| 47/47 [00:01<00:00, 26.74it/s, Loss=1.2910, Acc=0.5167]\n"
     ]
    },
    {
     "name": "stdout",
     "output_type": "stream",
     "text": [
      "Epoch 58/1000: Val Loss: 1.2910, Val Acc: 0.5167, Val F1: 0.5051\n",
      "Current Learning Rate: 3e-05\n"
     ]
    },
    {
     "name": "stderr",
     "output_type": "stream",
     "text": [
      "Epoch 59/1000: 100%|██████████| 422/422 [00:42<00:00,  9.96it/s, Loss=1.0645, Acc=0.5950]\n"
     ]
    },
    {
     "name": "stdout",
     "output_type": "stream",
     "text": [
      "Epoch 59/1000: Train Loss: 1.0645, Train Acc: 0.5950\n"
     ]
    },
    {
     "name": "stderr",
     "output_type": "stream",
     "text": [
      "Validation: 100%|██████████| 47/47 [00:01<00:00, 26.79it/s, Loss=1.2811, Acc=0.5243]\n"
     ]
    },
    {
     "name": "stdout",
     "output_type": "stream",
     "text": [
      "Epoch 59/1000: Val Loss: 1.2811, Val Acc: 0.5243, Val F1: 0.5158\n",
      "Current Learning Rate: 3e-05\n",
      "Best model saved at ../Experiment Augment Result/model11_augment_best.pt with accuracy: 0.5243\n"
     ]
    },
    {
     "name": "stderr",
     "output_type": "stream",
     "text": [
      "Epoch 60/1000: 100%|██████████| 422/422 [00:42<00:00, 10.03it/s, Loss=1.0470, Acc=0.6043]\n"
     ]
    },
    {
     "name": "stdout",
     "output_type": "stream",
     "text": [
      "Epoch 60/1000: Train Loss: 1.0470, Train Acc: 0.6043\n"
     ]
    },
    {
     "name": "stderr",
     "output_type": "stream",
     "text": [
      "Validation: 100%|██████████| 47/47 [00:01<00:00, 26.91it/s, Loss=1.2981, Acc=0.5143]\n"
     ]
    },
    {
     "name": "stdout",
     "output_type": "stream",
     "text": [
      "Epoch 60/1000: Val Loss: 1.2981, Val Acc: 0.5143, Val F1: 0.5044\n",
      "Current Learning Rate: 3e-06\n"
     ]
    },
    {
     "name": "stderr",
     "output_type": "stream",
     "text": [
      "Epoch 61/1000: 100%|██████████| 422/422 [00:43<00:00,  9.81it/s, Loss=0.9974, Acc=0.6294]\n"
     ]
    },
    {
     "name": "stdout",
     "output_type": "stream",
     "text": [
      "Epoch 61/1000: Train Loss: 0.9974, Train Acc: 0.6294\n"
     ]
    },
    {
     "name": "stderr",
     "output_type": "stream",
     "text": [
      "Validation: 100%|██████████| 47/47 [00:01<00:00, 26.97it/s, Loss=1.2664, Acc=0.5203]\n"
     ]
    },
    {
     "name": "stdout",
     "output_type": "stream",
     "text": [
      "Epoch 61/1000: Val Loss: 1.2664, Val Acc: 0.5203, Val F1: 0.5144\n",
      "Current Learning Rate: 3e-06\n"
     ]
    },
    {
     "name": "stderr",
     "output_type": "stream",
     "text": [
      "Epoch 62/1000: 100%|██████████| 422/422 [00:41<00:00, 10.13it/s, Loss=0.9675, Acc=0.6361]\n"
     ]
    },
    {
     "name": "stdout",
     "output_type": "stream",
     "text": [
      "Epoch 62/1000: Train Loss: 0.9675, Train Acc: 0.6361\n"
     ]
    },
    {
     "name": "stderr",
     "output_type": "stream",
     "text": [
      "Validation: 100%|██████████| 47/47 [00:01<00:00, 26.98it/s, Loss=1.2694, Acc=0.5257]\n"
     ]
    },
    {
     "name": "stdout",
     "output_type": "stream",
     "text": [
      "Epoch 62/1000: Val Loss: 1.2694, Val Acc: 0.5257, Val F1: 0.5211\n",
      "Current Learning Rate: 3e-06\n",
      "Best model saved at ../Experiment Augment Result/model11_augment_best.pt with accuracy: 0.5257\n"
     ]
    },
    {
     "name": "stderr",
     "output_type": "stream",
     "text": [
      "Epoch 63/1000: 100%|██████████| 422/422 [00:41<00:00, 10.11it/s, Loss=0.9604, Acc=0.6420]\n"
     ]
    },
    {
     "name": "stdout",
     "output_type": "stream",
     "text": [
      "Epoch 63/1000: Train Loss: 0.9604, Train Acc: 0.6420\n"
     ]
    },
    {
     "name": "stderr",
     "output_type": "stream",
     "text": [
      "Validation: 100%|██████████| 47/47 [00:01<00:00, 26.96it/s, Loss=1.2716, Acc=0.5220]\n"
     ]
    },
    {
     "name": "stdout",
     "output_type": "stream",
     "text": [
      "Epoch 63/1000: Val Loss: 1.2716, Val Acc: 0.5220, Val F1: 0.5182\n",
      "Current Learning Rate: 3e-06\n"
     ]
    },
    {
     "name": "stderr",
     "output_type": "stream",
     "text": [
      "Epoch 64/1000: 100%|██████████| 422/422 [00:42<00:00, 10.05it/s, Loss=0.9540, Acc=0.6444]\n"
     ]
    },
    {
     "name": "stdout",
     "output_type": "stream",
     "text": [
      "Epoch 64/1000: Train Loss: 0.9540, Train Acc: 0.6444\n"
     ]
    },
    {
     "name": "stderr",
     "output_type": "stream",
     "text": [
      "Validation: 100%|██████████| 47/47 [00:01<00:00, 26.96it/s, Loss=1.2690, Acc=0.5227]\n"
     ]
    },
    {
     "name": "stdout",
     "output_type": "stream",
     "text": [
      "Epoch 64/1000: Val Loss: 1.2690, Val Acc: 0.5227, Val F1: 0.5163\n",
      "Current Learning Rate: 3e-06\n"
     ]
    },
    {
     "name": "stderr",
     "output_type": "stream",
     "text": [
      "Epoch 65/1000: 100%|██████████| 422/422 [00:41<00:00, 10.10it/s, Loss=0.9495, Acc=0.6474]\n"
     ]
    },
    {
     "name": "stdout",
     "output_type": "stream",
     "text": [
      "Epoch 65/1000: Train Loss: 0.9495, Train Acc: 0.6474\n"
     ]
    },
    {
     "name": "stderr",
     "output_type": "stream",
     "text": [
      "Validation: 100%|██████████| 47/47 [00:01<00:00, 26.97it/s, Loss=1.2755, Acc=0.5257]\n"
     ]
    },
    {
     "name": "stdout",
     "output_type": "stream",
     "text": [
      "Epoch 65/1000: Val Loss: 1.2755, Val Acc: 0.5257, Val F1: 0.5211\n",
      "Current Learning Rate: 3e-06\n"
     ]
    },
    {
     "name": "stderr",
     "output_type": "stream",
     "text": [
      "Epoch 66/1000: 100%|██████████| 422/422 [00:41<00:00, 10.16it/s, Loss=0.9466, Acc=0.6479]\n"
     ]
    },
    {
     "name": "stdout",
     "output_type": "stream",
     "text": [
      "Epoch 66/1000: Train Loss: 0.9466, Train Acc: 0.6479\n"
     ]
    },
    {
     "name": "stderr",
     "output_type": "stream",
     "text": [
      "Validation: 100%|██████████| 47/47 [00:01<00:00, 26.94it/s, Loss=1.2773, Acc=0.5243]\n"
     ]
    },
    {
     "name": "stdout",
     "output_type": "stream",
     "text": [
      "Epoch 66/1000: Val Loss: 1.2773, Val Acc: 0.5243, Val F1: 0.5171\n",
      "Current Learning Rate: 3e-06\n"
     ]
    },
    {
     "name": "stderr",
     "output_type": "stream",
     "text": [
      "Epoch 67/1000: 100%|██████████| 422/422 [00:41<00:00, 10.14it/s, Loss=0.9302, Acc=0.6530]\n"
     ]
    },
    {
     "name": "stdout",
     "output_type": "stream",
     "text": [
      "Epoch 67/1000: Train Loss: 0.9302, Train Acc: 0.6530\n"
     ]
    },
    {
     "name": "stderr",
     "output_type": "stream",
     "text": [
      "Validation: 100%|██████████| 47/47 [00:01<00:00, 26.96it/s, Loss=1.2818, Acc=0.5230]\n"
     ]
    },
    {
     "name": "stdout",
     "output_type": "stream",
     "text": [
      "Epoch 67/1000: Val Loss: 1.2818, Val Acc: 0.5230, Val F1: 0.5166\n",
      "Current Learning Rate: 3.0000000000000004e-07\n"
     ]
    },
    {
     "name": "stderr",
     "output_type": "stream",
     "text": [
      "Epoch 68/1000: 100%|██████████| 422/422 [00:42<00:00,  9.92it/s, Loss=0.9288, Acc=0.6533]\n"
     ]
    },
    {
     "name": "stdout",
     "output_type": "stream",
     "text": [
      "Epoch 68/1000: Train Loss: 0.9288, Train Acc: 0.6533\n"
     ]
    },
    {
     "name": "stderr",
     "output_type": "stream",
     "text": [
      "Validation: 100%|██████████| 47/47 [00:01<00:00, 26.91it/s, Loss=1.2789, Acc=0.5257]\n"
     ]
    },
    {
     "name": "stdout",
     "output_type": "stream",
     "text": [
      "Epoch 68/1000: Val Loss: 1.2789, Val Acc: 0.5257, Val F1: 0.5209\n",
      "Current Learning Rate: 3.0000000000000004e-07\n"
     ]
    },
    {
     "name": "stderr",
     "output_type": "stream",
     "text": [
      "Epoch 69/1000: 100%|██████████| 422/422 [00:41<00:00, 10.14it/s, Loss=0.9360, Acc=0.6504]\n"
     ]
    },
    {
     "name": "stdout",
     "output_type": "stream",
     "text": [
      "Epoch 69/1000: Train Loss: 0.9360, Train Acc: 0.6504\n"
     ]
    },
    {
     "name": "stderr",
     "output_type": "stream",
     "text": [
      "Validation: 100%|██████████| 47/47 [00:01<00:00, 26.91it/s, Loss=1.2785, Acc=0.5260]\n"
     ]
    },
    {
     "name": "stdout",
     "output_type": "stream",
     "text": [
      "Epoch 69/1000: Val Loss: 1.2785, Val Acc: 0.5260, Val F1: 0.5212\n",
      "Current Learning Rate: 3.0000000000000004e-07\n",
      "Best model saved at ../Experiment Augment Result/model11_augment_best.pt with accuracy: 0.5260\n"
     ]
    },
    {
     "name": "stderr",
     "output_type": "stream",
     "text": [
      "Epoch 70/1000: 100%|██████████| 422/422 [00:41<00:00, 10.10it/s, Loss=0.9270, Acc=0.6546]\n"
     ]
    },
    {
     "name": "stdout",
     "output_type": "stream",
     "text": [
      "Epoch 70/1000: Train Loss: 0.9270, Train Acc: 0.6546\n"
     ]
    },
    {
     "name": "stderr",
     "output_type": "stream",
     "text": [
      "Validation: 100%|██████████| 47/47 [00:01<00:00, 26.86it/s, Loss=1.2786, Acc=0.5260]\n"
     ]
    },
    {
     "name": "stdout",
     "output_type": "stream",
     "text": [
      "Epoch 70/1000: Val Loss: 1.2786, Val Acc: 0.5260, Val F1: 0.5213\n",
      "Current Learning Rate: 3.0000000000000004e-07\n"
     ]
    },
    {
     "name": "stderr",
     "output_type": "stream",
     "text": [
      "Epoch 71/1000: 100%|██████████| 422/422 [00:41<00:00, 10.13it/s, Loss=0.9273, Acc=0.6544]\n"
     ]
    },
    {
     "name": "stdout",
     "output_type": "stream",
     "text": [
      "Epoch 71/1000: Train Loss: 0.9273, Train Acc: 0.6544\n"
     ]
    },
    {
     "name": "stderr",
     "output_type": "stream",
     "text": [
      "Validation: 100%|██████████| 47/47 [00:01<00:00, 26.95it/s, Loss=1.2789, Acc=0.5223]\n"
     ]
    },
    {
     "name": "stdout",
     "output_type": "stream",
     "text": [
      "Epoch 71/1000: Val Loss: 1.2789, Val Acc: 0.5223, Val F1: 0.5177\n",
      "Current Learning Rate: 3.0000000000000004e-07\n"
     ]
    },
    {
     "name": "stderr",
     "output_type": "stream",
     "text": [
      "Epoch 72/1000: 100%|██████████| 422/422 [00:41<00:00, 10.27it/s, Loss=0.9289, Acc=0.6539]\n"
     ]
    },
    {
     "name": "stdout",
     "output_type": "stream",
     "text": [
      "Epoch 72/1000: Train Loss: 0.9289, Train Acc: 0.6539\n"
     ]
    },
    {
     "name": "stderr",
     "output_type": "stream",
     "text": [
      "Validation: 100%|██████████| 47/47 [00:01<00:00, 28.40it/s, Loss=1.2793, Acc=0.5210]\n"
     ]
    },
    {
     "name": "stdout",
     "output_type": "stream",
     "text": [
      "Epoch 72/1000: Val Loss: 1.2793, Val Acc: 0.5210, Val F1: 0.5160\n",
      "Current Learning Rate: 3.0000000000000004e-07\n"
     ]
    },
    {
     "name": "stderr",
     "output_type": "stream",
     "text": [
      "Epoch 73/1000: 100%|██████████| 422/422 [00:41<00:00, 10.09it/s, Loss=0.9314, Acc=0.6542]\n"
     ]
    },
    {
     "name": "stdout",
     "output_type": "stream",
     "text": [
      "Epoch 73/1000: Train Loss: 0.9314, Train Acc: 0.6542\n"
     ]
    },
    {
     "name": "stderr",
     "output_type": "stream",
     "text": [
      "Validation: 100%|██████████| 47/47 [00:01<00:00, 28.58it/s, Loss=1.2786, Acc=0.5247]\n"
     ]
    },
    {
     "name": "stdout",
     "output_type": "stream",
     "text": [
      "Epoch 73/1000: Val Loss: 1.2786, Val Acc: 0.5247, Val F1: 0.5196\n",
      "Current Learning Rate: 3.0000000000000004e-08\n"
     ]
    },
    {
     "name": "stderr",
     "output_type": "stream",
     "text": [
      "Epoch 74/1000: 100%|██████████| 422/422 [00:41<00:00, 10.10it/s, Loss=0.9268, Acc=0.6546]\n"
     ]
    },
    {
     "name": "stdout",
     "output_type": "stream",
     "text": [
      "Epoch 74/1000: Train Loss: 0.9268, Train Acc: 0.6546\n"
     ]
    },
    {
     "name": "stderr",
     "output_type": "stream",
     "text": [
      "Validation: 100%|██████████| 47/47 [00:01<00:00, 25.62it/s, Loss=1.2787, Acc=0.5260]\n"
     ]
    },
    {
     "name": "stdout",
     "output_type": "stream",
     "text": [
      "Epoch 74/1000: Val Loss: 1.2787, Val Acc: 0.5260, Val F1: 0.5210\n",
      "Current Learning Rate: 3.0000000000000004e-08\n"
     ]
    },
    {
     "name": "stderr",
     "output_type": "stream",
     "text": [
      "Epoch 75/1000: 100%|██████████| 422/422 [00:43<00:00,  9.73it/s, Loss=0.9243, Acc=0.6568]\n"
     ]
    },
    {
     "name": "stdout",
     "output_type": "stream",
     "text": [
      "Epoch 75/1000: Train Loss: 0.9243, Train Acc: 0.6568\n"
     ]
    },
    {
     "name": "stderr",
     "output_type": "stream",
     "text": [
      "Validation: 100%|██████████| 47/47 [00:01<00:00, 26.96it/s, Loss=1.2783, Acc=0.5260]\n"
     ]
    },
    {
     "name": "stdout",
     "output_type": "stream",
     "text": [
      "Epoch 75/1000: Val Loss: 1.2783, Val Acc: 0.5260, Val F1: 0.5210\n",
      "Current Learning Rate: 3.0000000000000004e-08\n"
     ]
    },
    {
     "name": "stderr",
     "output_type": "stream",
     "text": [
      "Epoch 76/1000: 100%|██████████| 422/422 [00:42<00:00,  9.93it/s, Loss=0.9190, Acc=0.6560]\n"
     ]
    },
    {
     "name": "stdout",
     "output_type": "stream",
     "text": [
      "Epoch 76/1000: Train Loss: 0.9190, Train Acc: 0.6560\n"
     ]
    },
    {
     "name": "stderr",
     "output_type": "stream",
     "text": [
      "Validation: 100%|██████████| 47/47 [00:01<00:00, 26.75it/s, Loss=1.2782, Acc=0.5257]\n"
     ]
    },
    {
     "name": "stdout",
     "output_type": "stream",
     "text": [
      "Epoch 76/1000: Val Loss: 1.2782, Val Acc: 0.5257, Val F1: 0.5206\n",
      "Current Learning Rate: 3.0000000000000004e-08\n",
      "Early stopping triggered at epoch 76!\n"
     ]
    },
    {
     "name": "stderr",
     "output_type": "stream",
     "text": [
      "Testing: 100%|██████████| 53/53 [00:01<00:00, 27.27it/s, Loss=1.2687, Acc=0.5389]\n"
     ]
    },
    {
     "name": "stdout",
     "output_type": "stream",
     "text": [
      "Test Loss: 1.2687, Test Acc: 0.5389, Test F1: 0.5304\n",
      "Start model12 with configuration patch size: 32, num_heads: 8, embedding_dims: 384, num_layers: 12\n"
     ]
    },
    {
     "name": "stderr",
     "output_type": "stream",
     "text": [
      "Epoch 1/1000: 100%|██████████| 422/422 [01:02<00:00,  6.80it/s, Loss=1.7786, Acc=0.2612]\n"
     ]
    },
    {
     "name": "stdout",
     "output_type": "stream",
     "text": [
      "Epoch 1/1000: Train Loss: 1.7786, Train Acc: 0.2612\n"
     ]
    },
    {
     "name": "stderr",
     "output_type": "stream",
     "text": [
      "Validation: 100%|██████████| 47/47 [00:02<00:00, 19.97it/s, Loss=1.7380, Acc=0.2883]\n"
     ]
    },
    {
     "name": "stdout",
     "output_type": "stream",
     "text": [
      "Epoch 1/1000: Val Loss: 1.7380, Val Acc: 0.2883, Val F1: 0.2175\n",
      "Current Learning Rate: 3e-05\n",
      "Best model saved at ../Experiment Augment Result/model12_augment_best.pt with accuracy: 0.2883\n"
     ]
    },
    {
     "name": "stderr",
     "output_type": "stream",
     "text": [
      "Epoch 2/1000: 100%|██████████| 422/422 [01:02<00:00,  6.79it/s, Loss=1.6818, Acc=0.3289]\n"
     ]
    },
    {
     "name": "stdout",
     "output_type": "stream",
     "text": [
      "Epoch 2/1000: Train Loss: 1.6818, Train Acc: 0.3289\n"
     ]
    },
    {
     "name": "stderr",
     "output_type": "stream",
     "text": [
      "Validation: 100%|██████████| 47/47 [00:02<00:00, 19.96it/s, Loss=1.6404, Acc=0.3623]\n"
     ]
    },
    {
     "name": "stdout",
     "output_type": "stream",
     "text": [
      "Epoch 2/1000: Val Loss: 1.6404, Val Acc: 0.3623, Val F1: 0.3061\n",
      "Current Learning Rate: 3e-05\n",
      "Best model saved at ../Experiment Augment Result/model12_augment_best.pt with accuracy: 0.3623\n"
     ]
    },
    {
     "name": "stderr",
     "output_type": "stream",
     "text": [
      "Epoch 3/1000: 100%|██████████| 422/422 [01:02<00:00,  6.76it/s, Loss=1.6292, Acc=0.3619]\n"
     ]
    },
    {
     "name": "stdout",
     "output_type": "stream",
     "text": [
      "Epoch 3/1000: Train Loss: 1.6292, Train Acc: 0.3619\n"
     ]
    },
    {
     "name": "stderr",
     "output_type": "stream",
     "text": [
      "Validation: 100%|██████████| 47/47 [00:02<00:00, 20.39it/s, Loss=1.6157, Acc=0.3653]\n"
     ]
    },
    {
     "name": "stdout",
     "output_type": "stream",
     "text": [
      "Epoch 3/1000: Val Loss: 1.6157, Val Acc: 0.3653, Val F1: 0.3416\n",
      "Current Learning Rate: 3e-05\n",
      "Best model saved at ../Experiment Augment Result/model12_augment_best.pt with accuracy: 0.3653\n"
     ]
    },
    {
     "name": "stderr",
     "output_type": "stream",
     "text": [
      "Epoch 4/1000: 100%|██████████| 422/422 [01:01<00:00,  6.81it/s, Loss=1.5962, Acc=0.3731]\n"
     ]
    },
    {
     "name": "stdout",
     "output_type": "stream",
     "text": [
      "Epoch 4/1000: Train Loss: 1.5962, Train Acc: 0.3731\n"
     ]
    },
    {
     "name": "stderr",
     "output_type": "stream",
     "text": [
      "Validation: 100%|██████████| 47/47 [00:02<00:00, 20.77it/s, Loss=1.5866, Acc=0.3830]\n"
     ]
    },
    {
     "name": "stdout",
     "output_type": "stream",
     "text": [
      "Epoch 4/1000: Val Loss: 1.5866, Val Acc: 0.3830, Val F1: 0.3169\n",
      "Current Learning Rate: 3e-05\n",
      "Best model saved at ../Experiment Augment Result/model12_augment_best.pt with accuracy: 0.3830\n"
     ]
    },
    {
     "name": "stderr",
     "output_type": "stream",
     "text": [
      "Epoch 5/1000: 100%|██████████| 422/422 [01:01<00:00,  6.84it/s, Loss=1.5661, Acc=0.3884]\n"
     ]
    },
    {
     "name": "stdout",
     "output_type": "stream",
     "text": [
      "Epoch 5/1000: Train Loss: 1.5661, Train Acc: 0.3884\n"
     ]
    },
    {
     "name": "stderr",
     "output_type": "stream",
     "text": [
      "Validation: 100%|██████████| 47/47 [00:02<00:00, 19.95it/s, Loss=1.5255, Acc=0.4070]\n"
     ]
    },
    {
     "name": "stdout",
     "output_type": "stream",
     "text": [
      "Epoch 5/1000: Val Loss: 1.5255, Val Acc: 0.4070, Val F1: 0.3721\n",
      "Current Learning Rate: 3e-05\n",
      "Best model saved at ../Experiment Augment Result/model12_augment_best.pt with accuracy: 0.4070\n"
     ]
    },
    {
     "name": "stderr",
     "output_type": "stream",
     "text": [
      "Epoch 6/1000: 100%|██████████| 422/422 [01:02<00:00,  6.78it/s, Loss=1.5469, Acc=0.3957]\n"
     ]
    },
    {
     "name": "stdout",
     "output_type": "stream",
     "text": [
      "Epoch 6/1000: Train Loss: 1.5469, Train Acc: 0.3957\n"
     ]
    },
    {
     "name": "stderr",
     "output_type": "stream",
     "text": [
      "Validation: 100%|██████████| 47/47 [00:02<00:00, 19.72it/s, Loss=1.5233, Acc=0.4183]\n"
     ]
    },
    {
     "name": "stdout",
     "output_type": "stream",
     "text": [
      "Epoch 6/1000: Val Loss: 1.5233, Val Acc: 0.4183, Val F1: 0.3948\n",
      "Current Learning Rate: 3e-05\n",
      "Best model saved at ../Experiment Augment Result/model12_augment_best.pt with accuracy: 0.4183\n"
     ]
    },
    {
     "name": "stderr",
     "output_type": "stream",
     "text": [
      "Epoch 7/1000: 100%|██████████| 422/422 [01:02<00:00,  6.77it/s, Loss=1.5287, Acc=0.3986]\n"
     ]
    },
    {
     "name": "stdout",
     "output_type": "stream",
     "text": [
      "Epoch 7/1000: Train Loss: 1.5287, Train Acc: 0.3986\n"
     ]
    },
    {
     "name": "stderr",
     "output_type": "stream",
     "text": [
      "Validation: 100%|██████████| 47/47 [00:02<00:00, 19.78it/s, Loss=1.5077, Acc=0.4150]\n"
     ]
    },
    {
     "name": "stdout",
     "output_type": "stream",
     "text": [
      "Epoch 7/1000: Val Loss: 1.5077, Val Acc: 0.4150, Val F1: 0.3893\n",
      "Current Learning Rate: 3e-05\n"
     ]
    },
    {
     "name": "stderr",
     "output_type": "stream",
     "text": [
      "Epoch 8/1000: 100%|██████████| 422/422 [01:02<00:00,  6.78it/s, Loss=1.5058, Acc=0.4139]\n"
     ]
    },
    {
     "name": "stdout",
     "output_type": "stream",
     "text": [
      "Epoch 8/1000: Train Loss: 1.5058, Train Acc: 0.4139\n"
     ]
    },
    {
     "name": "stderr",
     "output_type": "stream",
     "text": [
      "Validation: 100%|██████████| 47/47 [00:02<00:00, 19.64it/s, Loss=1.4780, Acc=0.4263]\n"
     ]
    },
    {
     "name": "stdout",
     "output_type": "stream",
     "text": [
      "Epoch 8/1000: Val Loss: 1.4780, Val Acc: 0.4263, Val F1: 0.3875\n",
      "Current Learning Rate: 3e-05\n",
      "Best model saved at ../Experiment Augment Result/model12_augment_best.pt with accuracy: 0.4263\n"
     ]
    },
    {
     "name": "stderr",
     "output_type": "stream",
     "text": [
      "Epoch 9/1000: 100%|██████████| 422/422 [01:02<00:00,  6.72it/s, Loss=1.4883, Acc=0.4175]\n"
     ]
    },
    {
     "name": "stdout",
     "output_type": "stream",
     "text": [
      "Epoch 9/1000: Train Loss: 1.4883, Train Acc: 0.4175\n"
     ]
    },
    {
     "name": "stderr",
     "output_type": "stream",
     "text": [
      "Validation: 100%|██████████| 47/47 [00:02<00:00, 19.82it/s, Loss=1.4980, Acc=0.4270]\n"
     ]
    },
    {
     "name": "stdout",
     "output_type": "stream",
     "text": [
      "Epoch 9/1000: Val Loss: 1.4980, Val Acc: 0.4270, Val F1: 0.4247\n",
      "Current Learning Rate: 3e-05\n",
      "Best model saved at ../Experiment Augment Result/model12_augment_best.pt with accuracy: 0.4270\n"
     ]
    },
    {
     "name": "stderr",
     "output_type": "stream",
     "text": [
      "Epoch 10/1000: 100%|██████████| 422/422 [01:04<00:00,  6.56it/s, Loss=1.4761, Acc=0.4262]\n"
     ]
    },
    {
     "name": "stdout",
     "output_type": "stream",
     "text": [
      "Epoch 10/1000: Train Loss: 1.4761, Train Acc: 0.4262\n"
     ]
    },
    {
     "name": "stderr",
     "output_type": "stream",
     "text": [
      "Validation: 100%|██████████| 47/47 [00:02<00:00, 19.81it/s, Loss=1.4495, Acc=0.4403]\n"
     ]
    },
    {
     "name": "stdout",
     "output_type": "stream",
     "text": [
      "Epoch 10/1000: Val Loss: 1.4495, Val Acc: 0.4403, Val F1: 0.4130\n",
      "Current Learning Rate: 3e-05\n",
      "Best model saved at ../Experiment Augment Result/model12_augment_best.pt with accuracy: 0.4403\n"
     ]
    },
    {
     "name": "stderr",
     "output_type": "stream",
     "text": [
      "Epoch 11/1000: 100%|██████████| 422/422 [01:02<00:00,  6.77it/s, Loss=1.4577, Acc=0.4335]\n"
     ]
    },
    {
     "name": "stdout",
     "output_type": "stream",
     "text": [
      "Epoch 11/1000: Train Loss: 1.4577, Train Acc: 0.4335\n"
     ]
    },
    {
     "name": "stderr",
     "output_type": "stream",
     "text": [
      "Validation: 100%|██████████| 47/47 [00:02<00:00, 19.90it/s, Loss=1.4537, Acc=0.4357]\n"
     ]
    },
    {
     "name": "stdout",
     "output_type": "stream",
     "text": [
      "Epoch 11/1000: Val Loss: 1.4537, Val Acc: 0.4357, Val F1: 0.3977\n",
      "Current Learning Rate: 3e-05\n"
     ]
    },
    {
     "name": "stderr",
     "output_type": "stream",
     "text": [
      "Epoch 12/1000: 100%|██████████| 422/422 [01:02<00:00,  6.77it/s, Loss=1.4428, Acc=0.4371]\n"
     ]
    },
    {
     "name": "stdout",
     "output_type": "stream",
     "text": [
      "Epoch 12/1000: Train Loss: 1.4428, Train Acc: 0.4371\n"
     ]
    },
    {
     "name": "stderr",
     "output_type": "stream",
     "text": [
      "Validation: 100%|██████████| 47/47 [00:02<00:00, 19.95it/s, Loss=1.4612, Acc=0.4350]\n"
     ]
    },
    {
     "name": "stdout",
     "output_type": "stream",
     "text": [
      "Epoch 12/1000: Val Loss: 1.4612, Val Acc: 0.4350, Val F1: 0.4036\n",
      "Current Learning Rate: 3e-05\n"
     ]
    },
    {
     "name": "stderr",
     "output_type": "stream",
     "text": [
      "Epoch 13/1000: 100%|██████████| 422/422 [01:02<00:00,  6.79it/s, Loss=1.4296, Acc=0.4415]\n"
     ]
    },
    {
     "name": "stdout",
     "output_type": "stream",
     "text": [
      "Epoch 13/1000: Train Loss: 1.4296, Train Acc: 0.4415\n"
     ]
    },
    {
     "name": "stderr",
     "output_type": "stream",
     "text": [
      "Validation: 100%|██████████| 47/47 [00:02<00:00, 19.96it/s, Loss=1.4201, Acc=0.4490]\n"
     ]
    },
    {
     "name": "stdout",
     "output_type": "stream",
     "text": [
      "Epoch 13/1000: Val Loss: 1.4201, Val Acc: 0.4490, Val F1: 0.4353\n",
      "Current Learning Rate: 3e-05\n",
      "Best model saved at ../Experiment Augment Result/model12_augment_best.pt with accuracy: 0.4490\n"
     ]
    },
    {
     "name": "stderr",
     "output_type": "stream",
     "text": [
      "Epoch 14/1000: 100%|██████████| 422/422 [01:02<00:00,  6.77it/s, Loss=1.4132, Acc=0.4505]\n"
     ]
    },
    {
     "name": "stdout",
     "output_type": "stream",
     "text": [
      "Epoch 14/1000: Train Loss: 1.4132, Train Acc: 0.4505\n"
     ]
    },
    {
     "name": "stderr",
     "output_type": "stream",
     "text": [
      "Validation: 100%|██████████| 47/47 [00:02<00:00, 19.97it/s, Loss=1.4057, Acc=0.4657]\n"
     ]
    },
    {
     "name": "stdout",
     "output_type": "stream",
     "text": [
      "Epoch 14/1000: Val Loss: 1.4057, Val Acc: 0.4657, Val F1: 0.4347\n",
      "Current Learning Rate: 3e-05\n",
      "Best model saved at ../Experiment Augment Result/model12_augment_best.pt with accuracy: 0.4657\n"
     ]
    },
    {
     "name": "stderr",
     "output_type": "stream",
     "text": [
      "Epoch 15/1000: 100%|██████████| 422/422 [01:02<00:00,  6.71it/s, Loss=1.4044, Acc=0.4530]\n"
     ]
    },
    {
     "name": "stdout",
     "output_type": "stream",
     "text": [
      "Epoch 15/1000: Train Loss: 1.4044, Train Acc: 0.4530\n"
     ]
    },
    {
     "name": "stderr",
     "output_type": "stream",
     "text": [
      "Validation: 100%|██████████| 47/47 [00:02<00:00, 19.92it/s, Loss=1.4056, Acc=0.4573]\n"
     ]
    },
    {
     "name": "stdout",
     "output_type": "stream",
     "text": [
      "Epoch 15/1000: Val Loss: 1.4056, Val Acc: 0.4573, Val F1: 0.4402\n",
      "Current Learning Rate: 3e-05\n"
     ]
    },
    {
     "name": "stderr",
     "output_type": "stream",
     "text": [
      "Epoch 16/1000: 100%|██████████| 422/422 [01:02<00:00,  6.77it/s, Loss=1.3885, Acc=0.4607]\n"
     ]
    },
    {
     "name": "stdout",
     "output_type": "stream",
     "text": [
      "Epoch 16/1000: Train Loss: 1.3885, Train Acc: 0.4607\n"
     ]
    },
    {
     "name": "stderr",
     "output_type": "stream",
     "text": [
      "Validation: 100%|██████████| 47/47 [00:02<00:00, 19.46it/s, Loss=1.3965, Acc=0.4530]\n"
     ]
    },
    {
     "name": "stdout",
     "output_type": "stream",
     "text": [
      "Epoch 16/1000: Val Loss: 1.3965, Val Acc: 0.4530, Val F1: 0.4462\n",
      "Current Learning Rate: 3e-05\n"
     ]
    },
    {
     "name": "stderr",
     "output_type": "stream",
     "text": [
      "Epoch 17/1000: 100%|██████████| 422/422 [01:02<00:00,  6.70it/s, Loss=1.3702, Acc=0.4715]\n"
     ]
    },
    {
     "name": "stdout",
     "output_type": "stream",
     "text": [
      "Epoch 17/1000: Train Loss: 1.3702, Train Acc: 0.4715\n"
     ]
    },
    {
     "name": "stderr",
     "output_type": "stream",
     "text": [
      "Validation: 100%|██████████| 47/47 [00:02<00:00, 19.96it/s, Loss=1.3905, Acc=0.4600]\n"
     ]
    },
    {
     "name": "stdout",
     "output_type": "stream",
     "text": [
      "Epoch 17/1000: Val Loss: 1.3905, Val Acc: 0.4600, Val F1: 0.4420\n",
      "Current Learning Rate: 3e-05\n"
     ]
    },
    {
     "name": "stderr",
     "output_type": "stream",
     "text": [
      "Epoch 18/1000: 100%|██████████| 422/422 [01:02<00:00,  6.72it/s, Loss=1.3603, Acc=0.4721]\n"
     ]
    },
    {
     "name": "stdout",
     "output_type": "stream",
     "text": [
      "Epoch 18/1000: Train Loss: 1.3603, Train Acc: 0.4721\n"
     ]
    },
    {
     "name": "stderr",
     "output_type": "stream",
     "text": [
      "Validation: 100%|██████████| 47/47 [00:02<00:00, 19.79it/s, Loss=1.3613, Acc=0.4780]\n"
     ]
    },
    {
     "name": "stdout",
     "output_type": "stream",
     "text": [
      "Epoch 18/1000: Val Loss: 1.3613, Val Acc: 0.4780, Val F1: 0.4602\n",
      "Current Learning Rate: 3e-05\n",
      "Best model saved at ../Experiment Augment Result/model12_augment_best.pt with accuracy: 0.4780\n"
     ]
    },
    {
     "name": "stderr",
     "output_type": "stream",
     "text": [
      "Epoch 19/1000: 100%|██████████| 422/422 [01:03<00:00,  6.67it/s, Loss=1.3513, Acc=0.4763]\n"
     ]
    },
    {
     "name": "stdout",
     "output_type": "stream",
     "text": [
      "Epoch 19/1000: Train Loss: 1.3513, Train Acc: 0.4763\n"
     ]
    },
    {
     "name": "stderr",
     "output_type": "stream",
     "text": [
      "Validation: 100%|██████████| 47/47 [00:02<00:00, 19.85it/s, Loss=1.3541, Acc=0.4840]\n"
     ]
    },
    {
     "name": "stdout",
     "output_type": "stream",
     "text": [
      "Epoch 19/1000: Val Loss: 1.3541, Val Acc: 0.4840, Val F1: 0.4601\n",
      "Current Learning Rate: 3e-05\n",
      "Best model saved at ../Experiment Augment Result/model12_augment_best.pt with accuracy: 0.4840\n"
     ]
    },
    {
     "name": "stderr",
     "output_type": "stream",
     "text": [
      "Epoch 20/1000: 100%|██████████| 422/422 [01:05<00:00,  6.47it/s, Loss=1.3386, Acc=0.4808]\n"
     ]
    },
    {
     "name": "stdout",
     "output_type": "stream",
     "text": [
      "Epoch 20/1000: Train Loss: 1.3386, Train Acc: 0.4808\n"
     ]
    },
    {
     "name": "stderr",
     "output_type": "stream",
     "text": [
      "Validation: 100%|██████████| 47/47 [00:02<00:00, 19.93it/s, Loss=1.3527, Acc=0.4793]\n"
     ]
    },
    {
     "name": "stdout",
     "output_type": "stream",
     "text": [
      "Epoch 20/1000: Val Loss: 1.3527, Val Acc: 0.4793, Val F1: 0.4641\n",
      "Current Learning Rate: 3e-05\n"
     ]
    },
    {
     "name": "stderr",
     "output_type": "stream",
     "text": [
      "Epoch 21/1000: 100%|██████████| 422/422 [01:02<00:00,  6.73it/s, Loss=1.3246, Acc=0.4885]\n"
     ]
    },
    {
     "name": "stdout",
     "output_type": "stream",
     "text": [
      "Epoch 21/1000: Train Loss: 1.3246, Train Acc: 0.4885\n"
     ]
    },
    {
     "name": "stderr",
     "output_type": "stream",
     "text": [
      "Validation: 100%|██████████| 47/47 [00:02<00:00, 19.78it/s, Loss=1.3424, Acc=0.4837]\n"
     ]
    },
    {
     "name": "stdout",
     "output_type": "stream",
     "text": [
      "Epoch 21/1000: Val Loss: 1.3424, Val Acc: 0.4837, Val F1: 0.4729\n",
      "Current Learning Rate: 3e-05\n"
     ]
    },
    {
     "name": "stderr",
     "output_type": "stream",
     "text": [
      "Epoch 22/1000: 100%|██████████| 422/422 [01:02<00:00,  6.70it/s, Loss=1.3078, Acc=0.4980]\n"
     ]
    },
    {
     "name": "stdout",
     "output_type": "stream",
     "text": [
      "Epoch 22/1000: Train Loss: 1.3078, Train Acc: 0.4980\n"
     ]
    },
    {
     "name": "stderr",
     "output_type": "stream",
     "text": [
      "Validation: 100%|██████████| 47/47 [00:02<00:00, 19.90it/s, Loss=1.3240, Acc=0.4913]\n"
     ]
    },
    {
     "name": "stdout",
     "output_type": "stream",
     "text": [
      "Epoch 22/1000: Val Loss: 1.3240, Val Acc: 0.4913, Val F1: 0.4794\n",
      "Current Learning Rate: 3e-05\n",
      "Best model saved at ../Experiment Augment Result/model12_augment_best.pt with accuracy: 0.4913\n"
     ]
    },
    {
     "name": "stderr",
     "output_type": "stream",
     "text": [
      "Epoch 23/1000: 100%|██████████| 422/422 [01:02<00:00,  6.79it/s, Loss=1.2980, Acc=0.5007]\n"
     ]
    },
    {
     "name": "stdout",
     "output_type": "stream",
     "text": [
      "Epoch 23/1000: Train Loss: 1.2980, Train Acc: 0.5007\n"
     ]
    },
    {
     "name": "stderr",
     "output_type": "stream",
     "text": [
      "Validation: 100%|██████████| 47/47 [00:02<00:00, 19.74it/s, Loss=1.3542, Acc=0.4763]\n"
     ]
    },
    {
     "name": "stdout",
     "output_type": "stream",
     "text": [
      "Epoch 23/1000: Val Loss: 1.3542, Val Acc: 0.4763, Val F1: 0.4655\n",
      "Current Learning Rate: 3e-05\n"
     ]
    },
    {
     "name": "stderr",
     "output_type": "stream",
     "text": [
      "Epoch 24/1000: 100%|██████████| 422/422 [01:02<00:00,  6.75it/s, Loss=1.2885, Acc=0.5047]\n"
     ]
    },
    {
     "name": "stdout",
     "output_type": "stream",
     "text": [
      "Epoch 24/1000: Train Loss: 1.2885, Train Acc: 0.5047\n"
     ]
    },
    {
     "name": "stderr",
     "output_type": "stream",
     "text": [
      "Validation: 100%|██████████| 47/47 [00:02<00:00, 19.87it/s, Loss=1.3288, Acc=0.4847]\n"
     ]
    },
    {
     "name": "stdout",
     "output_type": "stream",
     "text": [
      "Epoch 24/1000: Val Loss: 1.3288, Val Acc: 0.4847, Val F1: 0.4737\n",
      "Current Learning Rate: 3e-05\n"
     ]
    },
    {
     "name": "stderr",
     "output_type": "stream",
     "text": [
      "Epoch 25/1000: 100%|██████████| 422/422 [01:02<00:00,  6.74it/s, Loss=1.2789, Acc=0.5073]\n"
     ]
    },
    {
     "name": "stdout",
     "output_type": "stream",
     "text": [
      "Epoch 25/1000: Train Loss: 1.2789, Train Acc: 0.5073\n"
     ]
    },
    {
     "name": "stderr",
     "output_type": "stream",
     "text": [
      "Validation: 100%|██████████| 47/47 [00:02<00:00, 19.94it/s, Loss=1.3366, Acc=0.4773]\n"
     ]
    },
    {
     "name": "stdout",
     "output_type": "stream",
     "text": [
      "Epoch 25/1000: Val Loss: 1.3366, Val Acc: 0.4773, Val F1: 0.4623\n",
      "Current Learning Rate: 3e-05\n"
     ]
    },
    {
     "name": "stderr",
     "output_type": "stream",
     "text": [
      "Epoch 26/1000: 100%|██████████| 422/422 [01:02<00:00,  6.78it/s, Loss=1.2619, Acc=0.5157]\n"
     ]
    },
    {
     "name": "stdout",
     "output_type": "stream",
     "text": [
      "Epoch 26/1000: Train Loss: 1.2619, Train Acc: 0.5157\n"
     ]
    },
    {
     "name": "stderr",
     "output_type": "stream",
     "text": [
      "Validation: 100%|██████████| 47/47 [00:02<00:00, 19.90it/s, Loss=1.3251, Acc=0.4987]\n"
     ]
    },
    {
     "name": "stdout",
     "output_type": "stream",
     "text": [
      "Epoch 26/1000: Val Loss: 1.3251, Val Acc: 0.4987, Val F1: 0.4746\n",
      "Current Learning Rate: 3e-05\n",
      "Best model saved at ../Experiment Augment Result/model12_augment_best.pt with accuracy: 0.4987\n"
     ]
    },
    {
     "name": "stderr",
     "output_type": "stream",
     "text": [
      "Epoch 27/1000: 100%|██████████| 422/422 [01:02<00:00,  6.77it/s, Loss=1.2572, Acc=0.5159]\n"
     ]
    },
    {
     "name": "stdout",
     "output_type": "stream",
     "text": [
      "Epoch 27/1000: Train Loss: 1.2572, Train Acc: 0.5159\n"
     ]
    },
    {
     "name": "stderr",
     "output_type": "stream",
     "text": [
      "Validation: 100%|██████████| 47/47 [00:02<00:00, 19.94it/s, Loss=1.3035, Acc=0.4917]\n"
     ]
    },
    {
     "name": "stdout",
     "output_type": "stream",
     "text": [
      "Epoch 27/1000: Val Loss: 1.3035, Val Acc: 0.4917, Val F1: 0.4818\n",
      "Current Learning Rate: 3e-05\n"
     ]
    },
    {
     "name": "stderr",
     "output_type": "stream",
     "text": [
      "Epoch 28/1000: 100%|██████████| 422/422 [01:02<00:00,  6.78it/s, Loss=1.2464, Acc=0.5191]\n"
     ]
    },
    {
     "name": "stdout",
     "output_type": "stream",
     "text": [
      "Epoch 28/1000: Train Loss: 1.2464, Train Acc: 0.5191\n"
     ]
    },
    {
     "name": "stderr",
     "output_type": "stream",
     "text": [
      "Validation: 100%|██████████| 47/47 [00:02<00:00, 19.89it/s, Loss=1.3008, Acc=0.4990]\n"
     ]
    },
    {
     "name": "stdout",
     "output_type": "stream",
     "text": [
      "Epoch 28/1000: Val Loss: 1.3008, Val Acc: 0.4990, Val F1: 0.4890\n",
      "Current Learning Rate: 3e-05\n",
      "Best model saved at ../Experiment Augment Result/model12_augment_best.pt with accuracy: 0.4990\n"
     ]
    },
    {
     "name": "stderr",
     "output_type": "stream",
     "text": [
      "Epoch 29/1000: 100%|██████████| 422/422 [01:02<00:00,  6.80it/s, Loss=1.2328, Acc=0.5247]\n"
     ]
    },
    {
     "name": "stdout",
     "output_type": "stream",
     "text": [
      "Epoch 29/1000: Train Loss: 1.2328, Train Acc: 0.5247\n"
     ]
    },
    {
     "name": "stderr",
     "output_type": "stream",
     "text": [
      "Validation: 100%|██████████| 47/47 [00:02<00:00, 18.21it/s, Loss=1.3212, Acc=0.4907]\n"
     ]
    },
    {
     "name": "stdout",
     "output_type": "stream",
     "text": [
      "Epoch 29/1000: Val Loss: 1.3212, Val Acc: 0.4907, Val F1: 0.4839\n",
      "Current Learning Rate: 3e-05\n"
     ]
    },
    {
     "name": "stderr",
     "output_type": "stream",
     "text": [
      "Epoch 30/1000: 100%|██████████| 422/422 [01:02<00:00,  6.74it/s, Loss=1.2243, Acc=0.5311]\n"
     ]
    },
    {
     "name": "stdout",
     "output_type": "stream",
     "text": [
      "Epoch 30/1000: Train Loss: 1.2243, Train Acc: 0.5311\n"
     ]
    },
    {
     "name": "stderr",
     "output_type": "stream",
     "text": [
      "Validation: 100%|██████████| 47/47 [00:02<00:00, 20.80it/s, Loss=1.3287, Acc=0.4847]\n"
     ]
    },
    {
     "name": "stdout",
     "output_type": "stream",
     "text": [
      "Epoch 30/1000: Val Loss: 1.3287, Val Acc: 0.4847, Val F1: 0.4749\n",
      "Current Learning Rate: 3e-05\n"
     ]
    },
    {
     "name": "stderr",
     "output_type": "stream",
     "text": [
      "Epoch 31/1000: 100%|██████████| 422/422 [01:01<00:00,  6.83it/s, Loss=1.2125, Acc=0.5328]\n"
     ]
    },
    {
     "name": "stdout",
     "output_type": "stream",
     "text": [
      "Epoch 31/1000: Train Loss: 1.2125, Train Acc: 0.5328\n"
     ]
    },
    {
     "name": "stderr",
     "output_type": "stream",
     "text": [
      "Validation: 100%|██████████| 47/47 [00:02<00:00, 20.59it/s, Loss=1.2952, Acc=0.4947]\n"
     ]
    },
    {
     "name": "stdout",
     "output_type": "stream",
     "text": [
      "Epoch 31/1000: Val Loss: 1.2952, Val Acc: 0.4947, Val F1: 0.4897\n",
      "Current Learning Rate: 3e-05\n"
     ]
    },
    {
     "name": "stderr",
     "output_type": "stream",
     "text": [
      "Epoch 32/1000: 100%|██████████| 422/422 [01:01<00:00,  6.87it/s, Loss=1.2027, Acc=0.5370]\n"
     ]
    },
    {
     "name": "stdout",
     "output_type": "stream",
     "text": [
      "Epoch 32/1000: Train Loss: 1.2027, Train Acc: 0.5370\n"
     ]
    },
    {
     "name": "stderr",
     "output_type": "stream",
     "text": [
      "Validation: 100%|██████████| 47/47 [00:02<00:00, 19.70it/s, Loss=1.3009, Acc=0.5037]\n"
     ]
    },
    {
     "name": "stdout",
     "output_type": "stream",
     "text": [
      "Epoch 32/1000: Val Loss: 1.3009, Val Acc: 0.5037, Val F1: 0.4923\n",
      "Current Learning Rate: 3e-05\n",
      "Best model saved at ../Experiment Augment Result/model12_augment_best.pt with accuracy: 0.5037\n"
     ]
    },
    {
     "name": "stderr",
     "output_type": "stream",
     "text": [
      "Epoch 33/1000: 100%|██████████| 422/422 [01:01<00:00,  6.83it/s, Loss=1.1925, Acc=0.5390]\n"
     ]
    },
    {
     "name": "stdout",
     "output_type": "stream",
     "text": [
      "Epoch 33/1000: Train Loss: 1.1925, Train Acc: 0.5390\n"
     ]
    },
    {
     "name": "stderr",
     "output_type": "stream",
     "text": [
      "Validation: 100%|██████████| 47/47 [00:02<00:00, 20.38it/s, Loss=1.2821, Acc=0.5113]\n"
     ]
    },
    {
     "name": "stdout",
     "output_type": "stream",
     "text": [
      "Epoch 33/1000: Val Loss: 1.2821, Val Acc: 0.5113, Val F1: 0.5011\n",
      "Current Learning Rate: 3e-05\n",
      "Best model saved at ../Experiment Augment Result/model12_augment_best.pt with accuracy: 0.5113\n"
     ]
    },
    {
     "name": "stderr",
     "output_type": "stream",
     "text": [
      "Epoch 34/1000: 100%|██████████| 422/422 [01:01<00:00,  6.84it/s, Loss=1.1765, Acc=0.5475]\n"
     ]
    },
    {
     "name": "stdout",
     "output_type": "stream",
     "text": [
      "Epoch 34/1000: Train Loss: 1.1765, Train Acc: 0.5475\n"
     ]
    },
    {
     "name": "stderr",
     "output_type": "stream",
     "text": [
      "Validation: 100%|██████████| 47/47 [00:02<00:00, 20.35it/s, Loss=1.2939, Acc=0.5010]\n"
     ]
    },
    {
     "name": "stdout",
     "output_type": "stream",
     "text": [
      "Epoch 34/1000: Val Loss: 1.2939, Val Acc: 0.5010, Val F1: 0.5006\n",
      "Current Learning Rate: 3e-05\n"
     ]
    },
    {
     "name": "stderr",
     "output_type": "stream",
     "text": [
      "Epoch 35/1000: 100%|██████████| 422/422 [01:01<00:00,  6.82it/s, Loss=1.1658, Acc=0.5516]\n"
     ]
    },
    {
     "name": "stdout",
     "output_type": "stream",
     "text": [
      "Epoch 35/1000: Train Loss: 1.1658, Train Acc: 0.5516\n"
     ]
    },
    {
     "name": "stderr",
     "output_type": "stream",
     "text": [
      "Validation: 100%|██████████| 47/47 [00:02<00:00, 20.05it/s, Loss=1.2742, Acc=0.5140]\n"
     ]
    },
    {
     "name": "stdout",
     "output_type": "stream",
     "text": [
      "Epoch 35/1000: Val Loss: 1.2742, Val Acc: 0.5140, Val F1: 0.5027\n",
      "Current Learning Rate: 3e-05\n",
      "Best model saved at ../Experiment Augment Result/model12_augment_best.pt with accuracy: 0.5140\n"
     ]
    },
    {
     "name": "stderr",
     "output_type": "stream",
     "text": [
      "Epoch 36/1000: 100%|██████████| 422/422 [01:02<00:00,  6.76it/s, Loss=1.1608, Acc=0.5571]\n"
     ]
    },
    {
     "name": "stdout",
     "output_type": "stream",
     "text": [
      "Epoch 36/1000: Train Loss: 1.1608, Train Acc: 0.5571\n"
     ]
    },
    {
     "name": "stderr",
     "output_type": "stream",
     "text": [
      "Validation: 100%|██████████| 47/47 [00:02<00:00, 19.65it/s, Loss=1.2534, Acc=0.5163]\n"
     ]
    },
    {
     "name": "stdout",
     "output_type": "stream",
     "text": [
      "Epoch 36/1000: Val Loss: 1.2534, Val Acc: 0.5163, Val F1: 0.5053\n",
      "Current Learning Rate: 3e-05\n",
      "Best model saved at ../Experiment Augment Result/model12_augment_best.pt with accuracy: 0.5163\n"
     ]
    },
    {
     "name": "stderr",
     "output_type": "stream",
     "text": [
      "Epoch 37/1000: 100%|██████████| 422/422 [01:02<00:00,  6.74it/s, Loss=1.1416, Acc=0.5639]\n"
     ]
    },
    {
     "name": "stdout",
     "output_type": "stream",
     "text": [
      "Epoch 37/1000: Train Loss: 1.1416, Train Acc: 0.5639\n"
     ]
    },
    {
     "name": "stderr",
     "output_type": "stream",
     "text": [
      "Validation: 100%|██████████| 47/47 [00:02<00:00, 19.98it/s, Loss=1.2593, Acc=0.5177]\n"
     ]
    },
    {
     "name": "stdout",
     "output_type": "stream",
     "text": [
      "Epoch 37/1000: Val Loss: 1.2593, Val Acc: 0.5177, Val F1: 0.5068\n",
      "Current Learning Rate: 3e-05\n",
      "Best model saved at ../Experiment Augment Result/model12_augment_best.pt with accuracy: 0.5177\n"
     ]
    },
    {
     "name": "stderr",
     "output_type": "stream",
     "text": [
      "Epoch 38/1000: 100%|██████████| 422/422 [01:02<00:00,  6.78it/s, Loss=1.1382, Acc=0.5642]\n"
     ]
    },
    {
     "name": "stdout",
     "output_type": "stream",
     "text": [
      "Epoch 38/1000: Train Loss: 1.1382, Train Acc: 0.5642\n"
     ]
    },
    {
     "name": "stderr",
     "output_type": "stream",
     "text": [
      "Validation: 100%|██████████| 47/47 [00:02<00:00, 19.96it/s, Loss=1.2665, Acc=0.5113]\n"
     ]
    },
    {
     "name": "stdout",
     "output_type": "stream",
     "text": [
      "Epoch 38/1000: Val Loss: 1.2665, Val Acc: 0.5113, Val F1: 0.5051\n",
      "Current Learning Rate: 3e-05\n"
     ]
    },
    {
     "name": "stderr",
     "output_type": "stream",
     "text": [
      "Epoch 39/1000: 100%|██████████| 422/422 [01:02<00:00,  6.77it/s, Loss=1.1285, Acc=0.5662]\n"
     ]
    },
    {
     "name": "stdout",
     "output_type": "stream",
     "text": [
      "Epoch 39/1000: Train Loss: 1.1285, Train Acc: 0.5662\n"
     ]
    },
    {
     "name": "stderr",
     "output_type": "stream",
     "text": [
      "Validation: 100%|██████████| 47/47 [00:02<00:00, 19.94it/s, Loss=1.2437, Acc=0.5230]\n"
     ]
    },
    {
     "name": "stdout",
     "output_type": "stream",
     "text": [
      "Epoch 39/1000: Val Loss: 1.2437, Val Acc: 0.5230, Val F1: 0.5141\n",
      "Current Learning Rate: 3e-05\n",
      "Best model saved at ../Experiment Augment Result/model12_augment_best.pt with accuracy: 0.5230\n"
     ]
    },
    {
     "name": "stderr",
     "output_type": "stream",
     "text": [
      "Epoch 40/1000: 100%|██████████| 422/422 [01:02<00:00,  6.79it/s, Loss=1.1144, Acc=0.5743]\n"
     ]
    },
    {
     "name": "stdout",
     "output_type": "stream",
     "text": [
      "Epoch 40/1000: Train Loss: 1.1144, Train Acc: 0.5743\n"
     ]
    },
    {
     "name": "stderr",
     "output_type": "stream",
     "text": [
      "Validation: 100%|██████████| 47/47 [00:02<00:00, 19.98it/s, Loss=1.2785, Acc=0.5133]\n"
     ]
    },
    {
     "name": "stdout",
     "output_type": "stream",
     "text": [
      "Epoch 40/1000: Val Loss: 1.2785, Val Acc: 0.5133, Val F1: 0.5103\n",
      "Current Learning Rate: 3e-05\n"
     ]
    },
    {
     "name": "stderr",
     "output_type": "stream",
     "text": [
      "Epoch 41/1000: 100%|██████████| 422/422 [01:03<00:00,  6.66it/s, Loss=1.1059, Acc=0.5780]\n"
     ]
    },
    {
     "name": "stdout",
     "output_type": "stream",
     "text": [
      "Epoch 41/1000: Train Loss: 1.1059, Train Acc: 0.5780\n"
     ]
    },
    {
     "name": "stderr",
     "output_type": "stream",
     "text": [
      "Validation: 100%|██████████| 47/47 [00:02<00:00, 19.88it/s, Loss=1.2685, Acc=0.5183]\n"
     ]
    },
    {
     "name": "stdout",
     "output_type": "stream",
     "text": [
      "Epoch 41/1000: Val Loss: 1.2685, Val Acc: 0.5183, Val F1: 0.5095\n",
      "Current Learning Rate: 3e-05\n"
     ]
    },
    {
     "name": "stderr",
     "output_type": "stream",
     "text": [
      "Epoch 42/1000: 100%|██████████| 422/422 [01:02<00:00,  6.78it/s, Loss=1.0973, Acc=0.5842]\n"
     ]
    },
    {
     "name": "stdout",
     "output_type": "stream",
     "text": [
      "Epoch 42/1000: Train Loss: 1.0973, Train Acc: 0.5842\n"
     ]
    },
    {
     "name": "stderr",
     "output_type": "stream",
     "text": [
      "Validation: 100%|██████████| 47/47 [00:02<00:00, 19.83it/s, Loss=1.2411, Acc=0.5283]\n"
     ]
    },
    {
     "name": "stdout",
     "output_type": "stream",
     "text": [
      "Epoch 42/1000: Val Loss: 1.2411, Val Acc: 0.5283, Val F1: 0.5233\n",
      "Current Learning Rate: 3e-05\n",
      "Best model saved at ../Experiment Augment Result/model12_augment_best.pt with accuracy: 0.5283\n"
     ]
    },
    {
     "name": "stderr",
     "output_type": "stream",
     "text": [
      "Epoch 43/1000: 100%|██████████| 422/422 [01:02<00:00,  6.75it/s, Loss=1.0813, Acc=0.5901]\n"
     ]
    },
    {
     "name": "stdout",
     "output_type": "stream",
     "text": [
      "Epoch 43/1000: Train Loss: 1.0813, Train Acc: 0.5901\n"
     ]
    },
    {
     "name": "stderr",
     "output_type": "stream",
     "text": [
      "Validation: 100%|██████████| 47/47 [00:02<00:00, 19.96it/s, Loss=1.2759, Acc=0.5173]\n"
     ]
    },
    {
     "name": "stdout",
     "output_type": "stream",
     "text": [
      "Epoch 43/1000: Val Loss: 1.2759, Val Acc: 0.5173, Val F1: 0.5182\n",
      "Current Learning Rate: 3e-05\n"
     ]
    },
    {
     "name": "stderr",
     "output_type": "stream",
     "text": [
      "Epoch 44/1000: 100%|██████████| 422/422 [01:02<00:00,  6.75it/s, Loss=1.0737, Acc=0.5937]\n"
     ]
    },
    {
     "name": "stdout",
     "output_type": "stream",
     "text": [
      "Epoch 44/1000: Train Loss: 1.0737, Train Acc: 0.5937\n"
     ]
    },
    {
     "name": "stderr",
     "output_type": "stream",
     "text": [
      "Validation: 100%|██████████| 47/47 [00:02<00:00, 19.68it/s, Loss=1.2541, Acc=0.5250]\n"
     ]
    },
    {
     "name": "stdout",
     "output_type": "stream",
     "text": [
      "Epoch 44/1000: Val Loss: 1.2541, Val Acc: 0.5250, Val F1: 0.5190\n",
      "Current Learning Rate: 3e-05\n"
     ]
    },
    {
     "name": "stderr",
     "output_type": "stream",
     "text": [
      "Epoch 45/1000: 100%|██████████| 422/422 [01:02<00:00,  6.80it/s, Loss=1.0596, Acc=0.5996]\n"
     ]
    },
    {
     "name": "stdout",
     "output_type": "stream",
     "text": [
      "Epoch 45/1000: Train Loss: 1.0596, Train Acc: 0.5996\n"
     ]
    },
    {
     "name": "stderr",
     "output_type": "stream",
     "text": [
      "Validation: 100%|██████████| 47/47 [00:02<00:00, 19.78it/s, Loss=1.2516, Acc=0.5310]\n"
     ]
    },
    {
     "name": "stdout",
     "output_type": "stream",
     "text": [
      "Epoch 45/1000: Val Loss: 1.2516, Val Acc: 0.5310, Val F1: 0.5331\n",
      "Current Learning Rate: 3e-05\n",
      "Best model saved at ../Experiment Augment Result/model12_augment_best.pt with accuracy: 0.5310\n"
     ]
    },
    {
     "name": "stderr",
     "output_type": "stream",
     "text": [
      "Epoch 46/1000: 100%|██████████| 422/422 [01:02<00:00,  6.76it/s, Loss=1.0468, Acc=0.6053]\n"
     ]
    },
    {
     "name": "stdout",
     "output_type": "stream",
     "text": [
      "Epoch 46/1000: Train Loss: 1.0468, Train Acc: 0.6053\n"
     ]
    },
    {
     "name": "stderr",
     "output_type": "stream",
     "text": [
      "Validation: 100%|██████████| 47/47 [00:02<00:00, 19.94it/s, Loss=1.2427, Acc=0.5223]\n"
     ]
    },
    {
     "name": "stdout",
     "output_type": "stream",
     "text": [
      "Epoch 46/1000: Val Loss: 1.2427, Val Acc: 0.5223, Val F1: 0.5149\n",
      "Current Learning Rate: 3e-05\n"
     ]
    },
    {
     "name": "stderr",
     "output_type": "stream",
     "text": [
      "Epoch 47/1000: 100%|██████████| 422/422 [01:02<00:00,  6.77it/s, Loss=1.0321, Acc=0.6080]\n"
     ]
    },
    {
     "name": "stdout",
     "output_type": "stream",
     "text": [
      "Epoch 47/1000: Train Loss: 1.0321, Train Acc: 0.6080\n"
     ]
    },
    {
     "name": "stderr",
     "output_type": "stream",
     "text": [
      "Validation: 100%|██████████| 47/47 [00:02<00:00, 19.91it/s, Loss=1.2396, Acc=0.5263]\n"
     ]
    },
    {
     "name": "stdout",
     "output_type": "stream",
     "text": [
      "Epoch 47/1000: Val Loss: 1.2396, Val Acc: 0.5263, Val F1: 0.5221\n",
      "Current Learning Rate: 3e-05\n"
     ]
    },
    {
     "name": "stderr",
     "output_type": "stream",
     "text": [
      "Epoch 48/1000: 100%|██████████| 422/422 [01:03<00:00,  6.64it/s, Loss=1.0236, Acc=0.6165]\n"
     ]
    },
    {
     "name": "stdout",
     "output_type": "stream",
     "text": [
      "Epoch 48/1000: Train Loss: 1.0236, Train Acc: 0.6165\n"
     ]
    },
    {
     "name": "stderr",
     "output_type": "stream",
     "text": [
      "Validation: 100%|██████████| 47/47 [00:02<00:00, 18.09it/s, Loss=1.2605, Acc=0.5343]\n"
     ]
    },
    {
     "name": "stdout",
     "output_type": "stream",
     "text": [
      "Epoch 48/1000: Val Loss: 1.2605, Val Acc: 0.5343, Val F1: 0.5239\n",
      "Current Learning Rate: 3e-05\n",
      "Best model saved at ../Experiment Augment Result/model12_augment_best.pt with accuracy: 0.5343\n"
     ]
    },
    {
     "name": "stderr",
     "output_type": "stream",
     "text": [
      "Epoch 49/1000: 100%|██████████| 422/422 [01:02<00:00,  6.70it/s, Loss=1.0127, Acc=0.6179]\n"
     ]
    },
    {
     "name": "stdout",
     "output_type": "stream",
     "text": [
      "Epoch 49/1000: Train Loss: 1.0127, Train Acc: 0.6179\n"
     ]
    },
    {
     "name": "stderr",
     "output_type": "stream",
     "text": [
      "Validation: 100%|██████████| 47/47 [00:02<00:00, 20.41it/s, Loss=1.2631, Acc=0.5233]\n"
     ]
    },
    {
     "name": "stdout",
     "output_type": "stream",
     "text": [
      "Epoch 49/1000: Val Loss: 1.2631, Val Acc: 0.5233, Val F1: 0.5128\n",
      "Current Learning Rate: 3e-05\n"
     ]
    },
    {
     "name": "stderr",
     "output_type": "stream",
     "text": [
      "Epoch 50/1000: 100%|██████████| 422/422 [01:01<00:00,  6.85it/s, Loss=0.9990, Acc=0.6237]\n"
     ]
    },
    {
     "name": "stdout",
     "output_type": "stream",
     "text": [
      "Epoch 50/1000: Train Loss: 0.9990, Train Acc: 0.6237\n"
     ]
    },
    {
     "name": "stderr",
     "output_type": "stream",
     "text": [
      "Validation: 100%|██████████| 47/47 [00:02<00:00, 19.83it/s, Loss=1.2543, Acc=0.5230]\n"
     ]
    },
    {
     "name": "stdout",
     "output_type": "stream",
     "text": [
      "Epoch 50/1000: Val Loss: 1.2543, Val Acc: 0.5230, Val F1: 0.5221\n",
      "Current Learning Rate: 3e-05\n"
     ]
    },
    {
     "name": "stderr",
     "output_type": "stream",
     "text": [
      "Epoch 51/1000: 100%|██████████| 422/422 [01:02<00:00,  6.71it/s, Loss=0.9907, Acc=0.6244]\n"
     ]
    },
    {
     "name": "stdout",
     "output_type": "stream",
     "text": [
      "Epoch 51/1000: Train Loss: 0.9907, Train Acc: 0.6244\n"
     ]
    },
    {
     "name": "stderr",
     "output_type": "stream",
     "text": [
      "Validation: 100%|██████████| 47/47 [00:02<00:00, 19.94it/s, Loss=1.2425, Acc=0.5333]\n"
     ]
    },
    {
     "name": "stdout",
     "output_type": "stream",
     "text": [
      "Epoch 51/1000: Val Loss: 1.2425, Val Acc: 0.5333, Val F1: 0.5275\n",
      "Current Learning Rate: 3e-05\n"
     ]
    },
    {
     "name": "stderr",
     "output_type": "stream",
     "text": [
      "Epoch 52/1000: 100%|██████████| 422/422 [01:01<00:00,  6.82it/s, Loss=0.9770, Acc=0.6302]\n"
     ]
    },
    {
     "name": "stdout",
     "output_type": "stream",
     "text": [
      "Epoch 52/1000: Train Loss: 0.9770, Train Acc: 0.6302\n"
     ]
    },
    {
     "name": "stderr",
     "output_type": "stream",
     "text": [
      "Validation: 100%|██████████| 47/47 [00:02<00:00, 20.72it/s, Loss=1.2317, Acc=0.5387]\n"
     ]
    },
    {
     "name": "stdout",
     "output_type": "stream",
     "text": [
      "Epoch 52/1000: Val Loss: 1.2317, Val Acc: 0.5387, Val F1: 0.5335\n",
      "Current Learning Rate: 3e-05\n",
      "Best model saved at ../Experiment Augment Result/model12_augment_best.pt with accuracy: 0.5387\n"
     ]
    },
    {
     "name": "stderr",
     "output_type": "stream",
     "text": [
      "Epoch 53/1000: 100%|██████████| 422/422 [01:01<00:00,  6.87it/s, Loss=0.9623, Acc=0.6374]\n"
     ]
    },
    {
     "name": "stdout",
     "output_type": "stream",
     "text": [
      "Epoch 53/1000: Train Loss: 0.9623, Train Acc: 0.6374\n"
     ]
    },
    {
     "name": "stderr",
     "output_type": "stream",
     "text": [
      "Validation: 100%|██████████| 47/47 [00:02<00:00, 20.61it/s, Loss=1.2779, Acc=0.5350]\n"
     ]
    },
    {
     "name": "stdout",
     "output_type": "stream",
     "text": [
      "Epoch 53/1000: Val Loss: 1.2779, Val Acc: 0.5350, Val F1: 0.5196\n",
      "Current Learning Rate: 3e-05\n"
     ]
    },
    {
     "name": "stderr",
     "output_type": "stream",
     "text": [
      "Epoch 54/1000: 100%|██████████| 422/422 [01:02<00:00,  6.70it/s, Loss=0.9549, Acc=0.6417]\n"
     ]
    },
    {
     "name": "stdout",
     "output_type": "stream",
     "text": [
      "Epoch 54/1000: Train Loss: 0.9549, Train Acc: 0.6417\n"
     ]
    },
    {
     "name": "stderr",
     "output_type": "stream",
     "text": [
      "Validation: 100%|██████████| 47/47 [00:02<00:00, 20.30it/s, Loss=1.2679, Acc=0.5290]\n"
     ]
    },
    {
     "name": "stdout",
     "output_type": "stream",
     "text": [
      "Epoch 54/1000: Val Loss: 1.2679, Val Acc: 0.5290, Val F1: 0.5268\n",
      "Current Learning Rate: 3e-05\n"
     ]
    },
    {
     "name": "stderr",
     "output_type": "stream",
     "text": [
      "Epoch 55/1000: 100%|██████████| 422/422 [01:01<00:00,  6.82it/s, Loss=0.9430, Acc=0.6451]\n"
     ]
    },
    {
     "name": "stdout",
     "output_type": "stream",
     "text": [
      "Epoch 55/1000: Train Loss: 0.9430, Train Acc: 0.6451\n"
     ]
    },
    {
     "name": "stderr",
     "output_type": "stream",
     "text": [
      "Validation: 100%|██████████| 47/47 [00:02<00:00, 20.63it/s, Loss=1.2599, Acc=0.5367]\n"
     ]
    },
    {
     "name": "stdout",
     "output_type": "stream",
     "text": [
      "Epoch 55/1000: Val Loss: 1.2599, Val Acc: 0.5367, Val F1: 0.5302\n",
      "Current Learning Rate: 3e-05\n"
     ]
    },
    {
     "name": "stderr",
     "output_type": "stream",
     "text": [
      "Epoch 56/1000: 100%|██████████| 422/422 [01:01<00:00,  6.81it/s, Loss=0.9271, Acc=0.6545]\n"
     ]
    },
    {
     "name": "stdout",
     "output_type": "stream",
     "text": [
      "Epoch 56/1000: Train Loss: 0.9271, Train Acc: 0.6545\n"
     ]
    },
    {
     "name": "stderr",
     "output_type": "stream",
     "text": [
      "Validation: 100%|██████████| 47/47 [00:02<00:00, 20.54it/s, Loss=1.2479, Acc=0.5440]\n"
     ]
    },
    {
     "name": "stdout",
     "output_type": "stream",
     "text": [
      "Epoch 56/1000: Val Loss: 1.2479, Val Acc: 0.5440, Val F1: 0.5392\n",
      "Current Learning Rate: 3e-05\n",
      "Best model saved at ../Experiment Augment Result/model12_augment_best.pt with accuracy: 0.5440\n"
     ]
    },
    {
     "name": "stderr",
     "output_type": "stream",
     "text": [
      "Epoch 57/1000: 100%|██████████| 422/422 [01:02<00:00,  6.81it/s, Loss=0.9191, Acc=0.6551]\n"
     ]
    },
    {
     "name": "stdout",
     "output_type": "stream",
     "text": [
      "Epoch 57/1000: Train Loss: 0.9191, Train Acc: 0.6551\n"
     ]
    },
    {
     "name": "stderr",
     "output_type": "stream",
     "text": [
      "Validation: 100%|██████████| 47/47 [00:02<00:00, 20.61it/s, Loss=1.2699, Acc=0.5387]\n"
     ]
    },
    {
     "name": "stdout",
     "output_type": "stream",
     "text": [
      "Epoch 57/1000: Val Loss: 1.2699, Val Acc: 0.5387, Val F1: 0.5367\n",
      "Current Learning Rate: 3e-05\n"
     ]
    },
    {
     "name": "stderr",
     "output_type": "stream",
     "text": [
      "Epoch 58/1000: 100%|██████████| 422/422 [01:01<00:00,  6.84it/s, Loss=0.8990, Acc=0.6618]\n"
     ]
    },
    {
     "name": "stdout",
     "output_type": "stream",
     "text": [
      "Epoch 58/1000: Train Loss: 0.8990, Train Acc: 0.6618\n"
     ]
    },
    {
     "name": "stderr",
     "output_type": "stream",
     "text": [
      "Validation: 100%|██████████| 47/47 [00:02<00:00, 20.59it/s, Loss=1.2925, Acc=0.5317]\n"
     ]
    },
    {
     "name": "stdout",
     "output_type": "stream",
     "text": [
      "Epoch 58/1000: Val Loss: 1.2925, Val Acc: 0.5317, Val F1: 0.5307\n",
      "Current Learning Rate: 3e-06\n"
     ]
    },
    {
     "name": "stderr",
     "output_type": "stream",
     "text": [
      "Epoch 59/1000: 100%|██████████| 422/422 [01:02<00:00,  6.76it/s, Loss=0.8220, Acc=0.6935]\n"
     ]
    },
    {
     "name": "stdout",
     "output_type": "stream",
     "text": [
      "Epoch 59/1000: Train Loss: 0.8220, Train Acc: 0.6935\n"
     ]
    },
    {
     "name": "stderr",
     "output_type": "stream",
     "text": [
      "Validation: 100%|██████████| 47/47 [00:02<00:00, 19.98it/s, Loss=1.2541, Acc=0.5483]\n"
     ]
    },
    {
     "name": "stdout",
     "output_type": "stream",
     "text": [
      "Epoch 59/1000: Val Loss: 1.2541, Val Acc: 0.5483, Val F1: 0.5454\n",
      "Current Learning Rate: 3e-06\n",
      "Best model saved at ../Experiment Augment Result/model12_augment_best.pt with accuracy: 0.5483\n"
     ]
    },
    {
     "name": "stderr",
     "output_type": "stream",
     "text": [
      "Epoch 60/1000: 100%|██████████| 422/422 [01:02<00:00,  6.71it/s, Loss=0.7941, Acc=0.7076]\n"
     ]
    },
    {
     "name": "stdout",
     "output_type": "stream",
     "text": [
      "Epoch 60/1000: Train Loss: 0.7941, Train Acc: 0.7076\n"
     ]
    },
    {
     "name": "stderr",
     "output_type": "stream",
     "text": [
      "Validation: 100%|██████████| 47/47 [00:02<00:00, 19.90it/s, Loss=1.2595, Acc=0.5490]\n"
     ]
    },
    {
     "name": "stdout",
     "output_type": "stream",
     "text": [
      "Epoch 60/1000: Val Loss: 1.2595, Val Acc: 0.5490, Val F1: 0.5457\n",
      "Current Learning Rate: 3e-06\n",
      "Best model saved at ../Experiment Augment Result/model12_augment_best.pt with accuracy: 0.5490\n"
     ]
    },
    {
     "name": "stderr",
     "output_type": "stream",
     "text": [
      "Epoch 61/1000: 100%|██████████| 422/422 [01:02<00:00,  6.73it/s, Loss=0.7791, Acc=0.7131]\n"
     ]
    },
    {
     "name": "stdout",
     "output_type": "stream",
     "text": [
      "Epoch 61/1000: Train Loss: 0.7791, Train Acc: 0.7131\n"
     ]
    },
    {
     "name": "stderr",
     "output_type": "stream",
     "text": [
      "Validation: 100%|██████████| 47/47 [00:02<00:00, 19.94it/s, Loss=1.2679, Acc=0.5450]\n"
     ]
    },
    {
     "name": "stdout",
     "output_type": "stream",
     "text": [
      "Epoch 61/1000: Val Loss: 1.2679, Val Acc: 0.5450, Val F1: 0.5421\n",
      "Current Learning Rate: 3e-06\n"
     ]
    },
    {
     "name": "stderr",
     "output_type": "stream",
     "text": [
      "Epoch 62/1000: 100%|██████████| 422/422 [01:02<00:00,  6.70it/s, Loss=0.7698, Acc=0.7142]\n"
     ]
    },
    {
     "name": "stdout",
     "output_type": "stream",
     "text": [
      "Epoch 62/1000: Train Loss: 0.7698, Train Acc: 0.7142\n"
     ]
    },
    {
     "name": "stderr",
     "output_type": "stream",
     "text": [
      "Validation: 100%|██████████| 47/47 [00:02<00:00, 19.61it/s, Loss=1.2725, Acc=0.5470]\n"
     ]
    },
    {
     "name": "stdout",
     "output_type": "stream",
     "text": [
      "Epoch 62/1000: Val Loss: 1.2725, Val Acc: 0.5470, Val F1: 0.5450\n",
      "Current Learning Rate: 3e-06\n"
     ]
    },
    {
     "name": "stderr",
     "output_type": "stream",
     "text": [
      "Epoch 63/1000: 100%|██████████| 422/422 [01:03<00:00,  6.69it/s, Loss=0.7640, Acc=0.7206]\n"
     ]
    },
    {
     "name": "stdout",
     "output_type": "stream",
     "text": [
      "Epoch 63/1000: Train Loss: 0.7640, Train Acc: 0.7206\n"
     ]
    },
    {
     "name": "stderr",
     "output_type": "stream",
     "text": [
      "Validation: 100%|██████████| 47/47 [00:02<00:00, 19.94it/s, Loss=1.2823, Acc=0.5513]\n"
     ]
    },
    {
     "name": "stdout",
     "output_type": "stream",
     "text": [
      "Epoch 63/1000: Val Loss: 1.2823, Val Acc: 0.5513, Val F1: 0.5489\n",
      "Current Learning Rate: 3e-06\n",
      "Best model saved at ../Experiment Augment Result/model12_augment_best.pt with accuracy: 0.5513\n"
     ]
    },
    {
     "name": "stderr",
     "output_type": "stream",
     "text": [
      "Epoch 64/1000: 100%|██████████| 422/422 [01:02<00:00,  6.79it/s, Loss=0.7571, Acc=0.7221]\n"
     ]
    },
    {
     "name": "stdout",
     "output_type": "stream",
     "text": [
      "Epoch 64/1000: Train Loss: 0.7571, Train Acc: 0.7221\n"
     ]
    },
    {
     "name": "stderr",
     "output_type": "stream",
     "text": [
      "Validation: 100%|██████████| 47/47 [00:02<00:00, 19.95it/s, Loss=1.2905, Acc=0.5497]\n"
     ]
    },
    {
     "name": "stdout",
     "output_type": "stream",
     "text": [
      "Epoch 64/1000: Val Loss: 1.2905, Val Acc: 0.5497, Val F1: 0.5480\n",
      "Current Learning Rate: 3.0000000000000004e-07\n"
     ]
    },
    {
     "name": "stderr",
     "output_type": "stream",
     "text": [
      "Epoch 65/1000: 100%|██████████| 422/422 [01:02<00:00,  6.75it/s, Loss=0.7374, Acc=0.7264]\n"
     ]
    },
    {
     "name": "stdout",
     "output_type": "stream",
     "text": [
      "Epoch 65/1000: Train Loss: 0.7374, Train Acc: 0.7264\n"
     ]
    },
    {
     "name": "stderr",
     "output_type": "stream",
     "text": [
      "Validation: 100%|██████████| 47/47 [00:02<00:00, 19.93it/s, Loss=1.2881, Acc=0.5483]\n"
     ]
    },
    {
     "name": "stdout",
     "output_type": "stream",
     "text": [
      "Epoch 65/1000: Val Loss: 1.2881, Val Acc: 0.5483, Val F1: 0.5458\n",
      "Current Learning Rate: 3.0000000000000004e-07\n"
     ]
    },
    {
     "name": "stderr",
     "output_type": "stream",
     "text": [
      "Epoch 66/1000: 100%|██████████| 422/422 [01:02<00:00,  6.76it/s, Loss=0.7394, Acc=0.7297]\n"
     ]
    },
    {
     "name": "stdout",
     "output_type": "stream",
     "text": [
      "Epoch 66/1000: Train Loss: 0.7394, Train Acc: 0.7297\n"
     ]
    },
    {
     "name": "stderr",
     "output_type": "stream",
     "text": [
      "Validation: 100%|██████████| 47/47 [00:02<00:00, 19.77it/s, Loss=1.2884, Acc=0.5467]\n"
     ]
    },
    {
     "name": "stdout",
     "output_type": "stream",
     "text": [
      "Epoch 66/1000: Val Loss: 1.2884, Val Acc: 0.5467, Val F1: 0.5437\n",
      "Current Learning Rate: 3.0000000000000004e-07\n"
     ]
    },
    {
     "name": "stderr",
     "output_type": "stream",
     "text": [
      "Epoch 67/1000: 100%|██████████| 422/422 [01:02<00:00,  6.75it/s, Loss=0.7373, Acc=0.7270]\n"
     ]
    },
    {
     "name": "stdout",
     "output_type": "stream",
     "text": [
      "Epoch 67/1000: Train Loss: 0.7373, Train Acc: 0.7270\n"
     ]
    },
    {
     "name": "stderr",
     "output_type": "stream",
     "text": [
      "Validation: 100%|██████████| 47/47 [00:02<00:00, 20.01it/s, Loss=1.2884, Acc=0.5460]\n"
     ]
    },
    {
     "name": "stdout",
     "output_type": "stream",
     "text": [
      "Epoch 67/1000: Val Loss: 1.2884, Val Acc: 0.5460, Val F1: 0.5430\n",
      "Current Learning Rate: 3.0000000000000004e-07\n",
      "Early stopping triggered at epoch 67!\n"
     ]
    },
    {
     "name": "stderr",
     "output_type": "stream",
     "text": [
      "Testing: 100%|██████████| 53/53 [00:02<00:00, 20.15it/s, Loss=1.3050, Acc=0.5575]\n"
     ]
    },
    {
     "name": "stdout",
     "output_type": "stream",
     "text": [
      "Test Loss: 1.3050, Test Acc: 0.5575, Test F1: 0.5534\n",
      "Start model13 with configuration patch size: 32, num_heads: 8, embedding_dims: 512, num_layers: 6\n"
     ]
    },
    {
     "name": "stderr",
     "output_type": "stream",
     "text": [
      "Epoch 1/1000: 100%|██████████| 422/422 [00:50<00:00,  8.41it/s, Loss=1.7623, Acc=0.2727]\n"
     ]
    },
    {
     "name": "stdout",
     "output_type": "stream",
     "text": [
      "Epoch 1/1000: Train Loss: 1.7623, Train Acc: 0.2727\n"
     ]
    },
    {
     "name": "stderr",
     "output_type": "stream",
     "text": [
      "Validation: 100%|██████████| 47/47 [00:01<00:00, 23.60it/s, Loss=1.6770, Acc=0.3307]\n"
     ]
    },
    {
     "name": "stdout",
     "output_type": "stream",
     "text": [
      "Epoch 1/1000: Val Loss: 1.6770, Val Acc: 0.3307, Val F1: 0.2546\n",
      "Current Learning Rate: 3e-05\n",
      "Best model saved at ../Experiment Augment Result/model13_augment_best.pt with accuracy: 0.3307\n"
     ]
    },
    {
     "name": "stderr",
     "output_type": "stream",
     "text": [
      "Epoch 2/1000: 100%|██████████| 422/422 [00:49<00:00,  8.49it/s, Loss=1.6677, Acc=0.3378]\n"
     ]
    },
    {
     "name": "stdout",
     "output_type": "stream",
     "text": [
      "Epoch 2/1000: Train Loss: 1.6677, Train Acc: 0.3378\n"
     ]
    },
    {
     "name": "stderr",
     "output_type": "stream",
     "text": [
      "Validation: 100%|██████████| 47/47 [00:01<00:00, 23.72it/s, Loss=1.6306, Acc=0.3650]\n"
     ]
    },
    {
     "name": "stdout",
     "output_type": "stream",
     "text": [
      "Epoch 2/1000: Val Loss: 1.6306, Val Acc: 0.3650, Val F1: 0.3080\n",
      "Current Learning Rate: 3e-05\n",
      "Best model saved at ../Experiment Augment Result/model13_augment_best.pt with accuracy: 0.3650\n"
     ]
    },
    {
     "name": "stderr",
     "output_type": "stream",
     "text": [
      "Epoch 3/1000: 100%|██████████| 422/422 [00:49<00:00,  8.45it/s, Loss=1.6247, Acc=0.3593]\n"
     ]
    },
    {
     "name": "stdout",
     "output_type": "stream",
     "text": [
      "Epoch 3/1000: Train Loss: 1.6247, Train Acc: 0.3593\n"
     ]
    },
    {
     "name": "stderr",
     "output_type": "stream",
     "text": [
      "Validation: 100%|██████████| 47/47 [00:01<00:00, 23.64it/s, Loss=1.5796, Acc=0.3837]\n"
     ]
    },
    {
     "name": "stdout",
     "output_type": "stream",
     "text": [
      "Epoch 3/1000: Val Loss: 1.5796, Val Acc: 0.3837, Val F1: 0.3447\n",
      "Current Learning Rate: 3e-05\n",
      "Best model saved at ../Experiment Augment Result/model13_augment_best.pt with accuracy: 0.3837\n"
     ]
    },
    {
     "name": "stderr",
     "output_type": "stream",
     "text": [
      "Epoch 4/1000: 100%|██████████| 422/422 [00:49<00:00,  8.50it/s, Loss=1.6012, Acc=0.3744]\n"
     ]
    },
    {
     "name": "stdout",
     "output_type": "stream",
     "text": [
      "Epoch 4/1000: Train Loss: 1.6012, Train Acc: 0.3744\n"
     ]
    },
    {
     "name": "stderr",
     "output_type": "stream",
     "text": [
      "Validation: 100%|██████████| 47/47 [00:01<00:00, 23.65it/s, Loss=1.5606, Acc=0.3930]\n"
     ]
    },
    {
     "name": "stdout",
     "output_type": "stream",
     "text": [
      "Epoch 4/1000: Val Loss: 1.5606, Val Acc: 0.3930, Val F1: 0.3445\n",
      "Current Learning Rate: 3e-05\n",
      "Best model saved at ../Experiment Augment Result/model13_augment_best.pt with accuracy: 0.3930\n"
     ]
    },
    {
     "name": "stderr",
     "output_type": "stream",
     "text": [
      "Epoch 5/1000: 100%|██████████| 422/422 [00:51<00:00,  8.22it/s, Loss=1.5713, Acc=0.3892]\n"
     ]
    },
    {
     "name": "stdout",
     "output_type": "stream",
     "text": [
      "Epoch 5/1000: Train Loss: 1.5713, Train Acc: 0.3892\n"
     ]
    },
    {
     "name": "stderr",
     "output_type": "stream",
     "text": [
      "Validation: 100%|██████████| 47/47 [00:01<00:00, 23.58it/s, Loss=1.5749, Acc=0.3937]\n"
     ]
    },
    {
     "name": "stdout",
     "output_type": "stream",
     "text": [
      "Epoch 5/1000: Val Loss: 1.5749, Val Acc: 0.3937, Val F1: 0.3246\n",
      "Current Learning Rate: 3e-05\n",
      "Best model saved at ../Experiment Augment Result/model13_augment_best.pt with accuracy: 0.3937\n"
     ]
    },
    {
     "name": "stderr",
     "output_type": "stream",
     "text": [
      "Epoch 6/1000: 100%|██████████| 422/422 [00:50<00:00,  8.41it/s, Loss=1.5529, Acc=0.3916]\n"
     ]
    },
    {
     "name": "stdout",
     "output_type": "stream",
     "text": [
      "Epoch 6/1000: Train Loss: 1.5529, Train Acc: 0.3916\n"
     ]
    },
    {
     "name": "stderr",
     "output_type": "stream",
     "text": [
      "Validation: 100%|██████████| 47/47 [00:02<00:00, 22.45it/s, Loss=1.5172, Acc=0.4190]\n"
     ]
    },
    {
     "name": "stdout",
     "output_type": "stream",
     "text": [
      "Epoch 6/1000: Val Loss: 1.5172, Val Acc: 0.4190, Val F1: 0.3926\n",
      "Current Learning Rate: 3e-05\n",
      "Best model saved at ../Experiment Augment Result/model13_augment_best.pt with accuracy: 0.4190\n"
     ]
    },
    {
     "name": "stderr",
     "output_type": "stream",
     "text": [
      "Epoch 7/1000: 100%|██████████| 422/422 [00:53<00:00,  7.95it/s, Loss=1.5371, Acc=0.4026]\n"
     ]
    },
    {
     "name": "stdout",
     "output_type": "stream",
     "text": [
      "Epoch 7/1000: Train Loss: 1.5371, Train Acc: 0.4026\n"
     ]
    },
    {
     "name": "stderr",
     "output_type": "stream",
     "text": [
      "Validation: 100%|██████████| 47/47 [00:02<00:00, 23.45it/s, Loss=1.5191, Acc=0.4210]\n"
     ]
    },
    {
     "name": "stdout",
     "output_type": "stream",
     "text": [
      "Epoch 7/1000: Val Loss: 1.5191, Val Acc: 0.4210, Val F1: 0.3837\n",
      "Current Learning Rate: 3e-05\n",
      "Best model saved at ../Experiment Augment Result/model13_augment_best.pt with accuracy: 0.4210\n"
     ]
    },
    {
     "name": "stderr",
     "output_type": "stream",
     "text": [
      "Epoch 8/1000: 100%|██████████| 422/422 [00:54<00:00,  7.81it/s, Loss=1.5208, Acc=0.4076]\n"
     ]
    },
    {
     "name": "stdout",
     "output_type": "stream",
     "text": [
      "Epoch 8/1000: Train Loss: 1.5208, Train Acc: 0.4076\n"
     ]
    },
    {
     "name": "stderr",
     "output_type": "stream",
     "text": [
      "Validation: 100%|██████████| 47/47 [00:01<00:00, 23.69it/s, Loss=1.4909, Acc=0.4267]\n"
     ]
    },
    {
     "name": "stdout",
     "output_type": "stream",
     "text": [
      "Epoch 8/1000: Val Loss: 1.4909, Val Acc: 0.4267, Val F1: 0.3895\n",
      "Current Learning Rate: 3e-05\n",
      "Best model saved at ../Experiment Augment Result/model13_augment_best.pt with accuracy: 0.4267\n"
     ]
    },
    {
     "name": "stderr",
     "output_type": "stream",
     "text": [
      "Epoch 9/1000: 100%|██████████| 422/422 [00:50<00:00,  8.41it/s, Loss=1.5059, Acc=0.4113]\n"
     ]
    },
    {
     "name": "stdout",
     "output_type": "stream",
     "text": [
      "Epoch 9/1000: Train Loss: 1.5059, Train Acc: 0.4113\n"
     ]
    },
    {
     "name": "stderr",
     "output_type": "stream",
     "text": [
      "Validation: 100%|██████████| 47/47 [00:01<00:00, 23.70it/s, Loss=1.4898, Acc=0.4290]\n"
     ]
    },
    {
     "name": "stdout",
     "output_type": "stream",
     "text": [
      "Epoch 9/1000: Val Loss: 1.4898, Val Acc: 0.4290, Val F1: 0.3845\n",
      "Current Learning Rate: 3e-05\n",
      "Best model saved at ../Experiment Augment Result/model13_augment_best.pt with accuracy: 0.4290\n"
     ]
    },
    {
     "name": "stderr",
     "output_type": "stream",
     "text": [
      "Epoch 10/1000: 100%|██████████| 422/422 [00:50<00:00,  8.43it/s, Loss=1.4931, Acc=0.4169]\n"
     ]
    },
    {
     "name": "stdout",
     "output_type": "stream",
     "text": [
      "Epoch 10/1000: Train Loss: 1.4931, Train Acc: 0.4169\n"
     ]
    },
    {
     "name": "stderr",
     "output_type": "stream",
     "text": [
      "Validation: 100%|██████████| 47/47 [00:02<00:00, 23.18it/s, Loss=1.4762, Acc=0.4367]\n"
     ]
    },
    {
     "name": "stdout",
     "output_type": "stream",
     "text": [
      "Epoch 10/1000: Val Loss: 1.4762, Val Acc: 0.4367, Val F1: 0.4129\n",
      "Current Learning Rate: 3e-05\n",
      "Best model saved at ../Experiment Augment Result/model13_augment_best.pt with accuracy: 0.4367\n"
     ]
    },
    {
     "name": "stderr",
     "output_type": "stream",
     "text": [
      "Epoch 11/1000: 100%|██████████| 422/422 [00:49<00:00,  8.46it/s, Loss=1.4779, Acc=0.4226]\n"
     ]
    },
    {
     "name": "stdout",
     "output_type": "stream",
     "text": [
      "Epoch 11/1000: Train Loss: 1.4779, Train Acc: 0.4226\n"
     ]
    },
    {
     "name": "stderr",
     "output_type": "stream",
     "text": [
      "Validation: 100%|██████████| 47/47 [00:01<00:00, 23.67it/s, Loss=1.4560, Acc=0.4387]\n"
     ]
    },
    {
     "name": "stdout",
     "output_type": "stream",
     "text": [
      "Epoch 11/1000: Val Loss: 1.4560, Val Acc: 0.4387, Val F1: 0.4097\n",
      "Current Learning Rate: 3e-05\n",
      "Best model saved at ../Experiment Augment Result/model13_augment_best.pt with accuracy: 0.4387\n"
     ]
    },
    {
     "name": "stderr",
     "output_type": "stream",
     "text": [
      "Epoch 12/1000: 100%|██████████| 422/422 [00:50<00:00,  8.34it/s, Loss=1.4644, Acc=0.4288]\n"
     ]
    },
    {
     "name": "stdout",
     "output_type": "stream",
     "text": [
      "Epoch 12/1000: Train Loss: 1.4644, Train Acc: 0.4288\n"
     ]
    },
    {
     "name": "stderr",
     "output_type": "stream",
     "text": [
      "Validation: 100%|██████████| 47/47 [00:02<00:00, 23.23it/s, Loss=1.4592, Acc=0.4420]\n"
     ]
    },
    {
     "name": "stdout",
     "output_type": "stream",
     "text": [
      "Epoch 12/1000: Val Loss: 1.4592, Val Acc: 0.4420, Val F1: 0.4175\n",
      "Current Learning Rate: 3e-05\n",
      "Best model saved at ../Experiment Augment Result/model13_augment_best.pt with accuracy: 0.4420\n"
     ]
    },
    {
     "name": "stderr",
     "output_type": "stream",
     "text": [
      "Epoch 13/1000: 100%|██████████| 422/422 [00:50<00:00,  8.37it/s, Loss=1.4512, Acc=0.4349]\n"
     ]
    },
    {
     "name": "stdout",
     "output_type": "stream",
     "text": [
      "Epoch 13/1000: Train Loss: 1.4512, Train Acc: 0.4349\n"
     ]
    },
    {
     "name": "stderr",
     "output_type": "stream",
     "text": [
      "Validation: 100%|██████████| 47/47 [00:01<00:00, 23.75it/s, Loss=1.4561, Acc=0.4437]\n"
     ]
    },
    {
     "name": "stdout",
     "output_type": "stream",
     "text": [
      "Epoch 13/1000: Val Loss: 1.4561, Val Acc: 0.4437, Val F1: 0.4060\n",
      "Current Learning Rate: 3e-05\n",
      "Best model saved at ../Experiment Augment Result/model13_augment_best.pt with accuracy: 0.4437\n"
     ]
    },
    {
     "name": "stderr",
     "output_type": "stream",
     "text": [
      "Epoch 14/1000: 100%|██████████| 422/422 [00:49<00:00,  8.47it/s, Loss=1.4397, Acc=0.4412]\n"
     ]
    },
    {
     "name": "stdout",
     "output_type": "stream",
     "text": [
      "Epoch 14/1000: Train Loss: 1.4397, Train Acc: 0.4412\n"
     ]
    },
    {
     "name": "stderr",
     "output_type": "stream",
     "text": [
      "Validation: 100%|██████████| 47/47 [00:01<00:00, 23.72it/s, Loss=1.4163, Acc=0.4583]\n"
     ]
    },
    {
     "name": "stdout",
     "output_type": "stream",
     "text": [
      "Epoch 14/1000: Val Loss: 1.4163, Val Acc: 0.4583, Val F1: 0.4342\n",
      "Current Learning Rate: 3e-05\n",
      "Best model saved at ../Experiment Augment Result/model13_augment_best.pt with accuracy: 0.4583\n"
     ]
    },
    {
     "name": "stderr",
     "output_type": "stream",
     "text": [
      "Epoch 15/1000: 100%|██████████| 422/422 [00:50<00:00,  8.40it/s, Loss=1.4264, Acc=0.4466]\n"
     ]
    },
    {
     "name": "stdout",
     "output_type": "stream",
     "text": [
      "Epoch 15/1000: Train Loss: 1.4264, Train Acc: 0.4466\n"
     ]
    },
    {
     "name": "stderr",
     "output_type": "stream",
     "text": [
      "Validation: 100%|██████████| 47/47 [00:01<00:00, 23.51it/s, Loss=1.4416, Acc=0.4440]\n"
     ]
    },
    {
     "name": "stdout",
     "output_type": "stream",
     "text": [
      "Epoch 15/1000: Val Loss: 1.4416, Val Acc: 0.4440, Val F1: 0.4309\n",
      "Current Learning Rate: 3e-05\n"
     ]
    },
    {
     "name": "stderr",
     "output_type": "stream",
     "text": [
      "Epoch 16/1000: 100%|██████████| 422/422 [00:49<00:00,  8.49it/s, Loss=1.4134, Acc=0.4495]\n"
     ]
    },
    {
     "name": "stdout",
     "output_type": "stream",
     "text": [
      "Epoch 16/1000: Train Loss: 1.4134, Train Acc: 0.4495\n"
     ]
    },
    {
     "name": "stderr",
     "output_type": "stream",
     "text": [
      "Validation: 100%|██████████| 47/47 [00:01<00:00, 23.70it/s, Loss=1.4038, Acc=0.4643]\n"
     ]
    },
    {
     "name": "stdout",
     "output_type": "stream",
     "text": [
      "Epoch 16/1000: Val Loss: 1.4038, Val Acc: 0.4643, Val F1: 0.4353\n",
      "Current Learning Rate: 3e-05\n",
      "Best model saved at ../Experiment Augment Result/model13_augment_best.pt with accuracy: 0.4643\n"
     ]
    },
    {
     "name": "stderr",
     "output_type": "stream",
     "text": [
      "Epoch 17/1000: 100%|██████████| 422/422 [00:50<00:00,  8.33it/s, Loss=1.3980, Acc=0.4585]\n"
     ]
    },
    {
     "name": "stdout",
     "output_type": "stream",
     "text": [
      "Epoch 17/1000: Train Loss: 1.3980, Train Acc: 0.4585\n"
     ]
    },
    {
     "name": "stderr",
     "output_type": "stream",
     "text": [
      "Validation: 100%|██████████| 47/47 [00:02<00:00, 22.92it/s, Loss=1.4041, Acc=0.4533]\n"
     ]
    },
    {
     "name": "stdout",
     "output_type": "stream",
     "text": [
      "Epoch 17/1000: Val Loss: 1.4041, Val Acc: 0.4533, Val F1: 0.4480\n",
      "Current Learning Rate: 3e-05\n"
     ]
    },
    {
     "name": "stderr",
     "output_type": "stream",
     "text": [
      "Epoch 18/1000: 100%|██████████| 422/422 [00:49<00:00,  8.48it/s, Loss=1.3918, Acc=0.4620]\n"
     ]
    },
    {
     "name": "stdout",
     "output_type": "stream",
     "text": [
      "Epoch 18/1000: Train Loss: 1.3918, Train Acc: 0.4620\n"
     ]
    },
    {
     "name": "stderr",
     "output_type": "stream",
     "text": [
      "Validation: 100%|██████████| 47/47 [00:01<00:00, 23.69it/s, Loss=1.3863, Acc=0.4750]\n"
     ]
    },
    {
     "name": "stdout",
     "output_type": "stream",
     "text": [
      "Epoch 18/1000: Val Loss: 1.3863, Val Acc: 0.4750, Val F1: 0.4485\n",
      "Current Learning Rate: 3e-05\n",
      "Best model saved at ../Experiment Augment Result/model13_augment_best.pt with accuracy: 0.4750\n"
     ]
    },
    {
     "name": "stderr",
     "output_type": "stream",
     "text": [
      "Epoch 19/1000: 100%|██████████| 422/422 [00:51<00:00,  8.27it/s, Loss=1.3856, Acc=0.4634]\n"
     ]
    },
    {
     "name": "stdout",
     "output_type": "stream",
     "text": [
      "Epoch 19/1000: Train Loss: 1.3856, Train Acc: 0.4634\n"
     ]
    },
    {
     "name": "stderr",
     "output_type": "stream",
     "text": [
      "Validation: 100%|██████████| 47/47 [00:01<00:00, 23.69it/s, Loss=1.3796, Acc=0.4700]\n"
     ]
    },
    {
     "name": "stdout",
     "output_type": "stream",
     "text": [
      "Epoch 19/1000: Val Loss: 1.3796, Val Acc: 0.4700, Val F1: 0.4519\n",
      "Current Learning Rate: 3e-05\n"
     ]
    },
    {
     "name": "stderr",
     "output_type": "stream",
     "text": [
      "Epoch 20/1000: 100%|██████████| 422/422 [00:50<00:00,  8.42it/s, Loss=1.3738, Acc=0.4671]\n"
     ]
    },
    {
     "name": "stdout",
     "output_type": "stream",
     "text": [
      "Epoch 20/1000: Train Loss: 1.3738, Train Acc: 0.4671\n"
     ]
    },
    {
     "name": "stderr",
     "output_type": "stream",
     "text": [
      "Validation: 100%|██████████| 47/47 [00:02<00:00, 23.17it/s, Loss=1.3834, Acc=0.4710]\n"
     ]
    },
    {
     "name": "stdout",
     "output_type": "stream",
     "text": [
      "Epoch 20/1000: Val Loss: 1.3834, Val Acc: 0.4710, Val F1: 0.4494\n",
      "Current Learning Rate: 3e-05\n"
     ]
    },
    {
     "name": "stderr",
     "output_type": "stream",
     "text": [
      "Epoch 21/1000: 100%|██████████| 422/422 [00:50<00:00,  8.36it/s, Loss=1.3657, Acc=0.4711]\n"
     ]
    },
    {
     "name": "stdout",
     "output_type": "stream",
     "text": [
      "Epoch 21/1000: Train Loss: 1.3657, Train Acc: 0.4711\n"
     ]
    },
    {
     "name": "stderr",
     "output_type": "stream",
     "text": [
      "Validation: 100%|██████████| 47/47 [00:01<00:00, 24.26it/s, Loss=1.3698, Acc=0.4750]\n"
     ]
    },
    {
     "name": "stdout",
     "output_type": "stream",
     "text": [
      "Epoch 21/1000: Val Loss: 1.3698, Val Acc: 0.4750, Val F1: 0.4580\n",
      "Current Learning Rate: 3e-05\n"
     ]
    },
    {
     "name": "stderr",
     "output_type": "stream",
     "text": [
      "Epoch 22/1000: 100%|██████████| 422/422 [00:49<00:00,  8.56it/s, Loss=1.3468, Acc=0.4814]\n"
     ]
    },
    {
     "name": "stdout",
     "output_type": "stream",
     "text": [
      "Epoch 22/1000: Train Loss: 1.3468, Train Acc: 0.4814\n"
     ]
    },
    {
     "name": "stderr",
     "output_type": "stream",
     "text": [
      "Validation: 100%|██████████| 47/47 [00:01<00:00, 24.29it/s, Loss=1.3623, Acc=0.4763]\n"
     ]
    },
    {
     "name": "stdout",
     "output_type": "stream",
     "text": [
      "Epoch 22/1000: Val Loss: 1.3623, Val Acc: 0.4763, Val F1: 0.4658\n",
      "Current Learning Rate: 3e-05\n",
      "Best model saved at ../Experiment Augment Result/model13_augment_best.pt with accuracy: 0.4763\n"
     ]
    },
    {
     "name": "stderr",
     "output_type": "stream",
     "text": [
      "Epoch 23/1000: 100%|██████████| 422/422 [00:49<00:00,  8.55it/s, Loss=1.3441, Acc=0.4797]\n"
     ]
    },
    {
     "name": "stdout",
     "output_type": "stream",
     "text": [
      "Epoch 23/1000: Train Loss: 1.3441, Train Acc: 0.4797\n"
     ]
    },
    {
     "name": "stderr",
     "output_type": "stream",
     "text": [
      "Validation: 100%|██████████| 47/47 [00:01<00:00, 24.44it/s, Loss=1.3435, Acc=0.4767]\n"
     ]
    },
    {
     "name": "stdout",
     "output_type": "stream",
     "text": [
      "Epoch 23/1000: Val Loss: 1.3435, Val Acc: 0.4767, Val F1: 0.4709\n",
      "Current Learning Rate: 3e-05\n",
      "Best model saved at ../Experiment Augment Result/model13_augment_best.pt with accuracy: 0.4767\n"
     ]
    },
    {
     "name": "stderr",
     "output_type": "stream",
     "text": [
      "Epoch 24/1000: 100%|██████████| 422/422 [00:51<00:00,  8.26it/s, Loss=1.3369, Acc=0.4819]\n"
     ]
    },
    {
     "name": "stdout",
     "output_type": "stream",
     "text": [
      "Epoch 24/1000: Train Loss: 1.3369, Train Acc: 0.4819\n"
     ]
    },
    {
     "name": "stderr",
     "output_type": "stream",
     "text": [
      "Validation: 100%|██████████| 47/47 [00:02<00:00, 22.88it/s, Loss=1.3539, Acc=0.4707]\n"
     ]
    },
    {
     "name": "stdout",
     "output_type": "stream",
     "text": [
      "Epoch 24/1000: Val Loss: 1.3539, Val Acc: 0.4707, Val F1: 0.4542\n",
      "Current Learning Rate: 3e-05\n"
     ]
    },
    {
     "name": "stderr",
     "output_type": "stream",
     "text": [
      "Epoch 25/1000: 100%|██████████| 422/422 [00:49<00:00,  8.52it/s, Loss=1.3239, Acc=0.4875]\n"
     ]
    },
    {
     "name": "stdout",
     "output_type": "stream",
     "text": [
      "Epoch 25/1000: Train Loss: 1.3239, Train Acc: 0.4875\n"
     ]
    },
    {
     "name": "stderr",
     "output_type": "stream",
     "text": [
      "Validation: 100%|██████████| 47/47 [00:01<00:00, 24.01it/s, Loss=1.3369, Acc=0.4860]\n"
     ]
    },
    {
     "name": "stdout",
     "output_type": "stream",
     "text": [
      "Epoch 25/1000: Val Loss: 1.3369, Val Acc: 0.4860, Val F1: 0.4690\n",
      "Current Learning Rate: 3e-05\n",
      "Best model saved at ../Experiment Augment Result/model13_augment_best.pt with accuracy: 0.4860\n"
     ]
    },
    {
     "name": "stderr",
     "output_type": "stream",
     "text": [
      "Epoch 26/1000: 100%|██████████| 422/422 [00:49<00:00,  8.54it/s, Loss=1.3116, Acc=0.4970]\n"
     ]
    },
    {
     "name": "stdout",
     "output_type": "stream",
     "text": [
      "Epoch 26/1000: Train Loss: 1.3116, Train Acc: 0.4970\n"
     ]
    },
    {
     "name": "stderr",
     "output_type": "stream",
     "text": [
      "Validation: 100%|██████████| 47/47 [00:01<00:00, 24.81it/s, Loss=1.3406, Acc=0.4797]\n"
     ]
    },
    {
     "name": "stdout",
     "output_type": "stream",
     "text": [
      "Epoch 26/1000: Val Loss: 1.3406, Val Acc: 0.4797, Val F1: 0.4588\n",
      "Current Learning Rate: 3e-05\n"
     ]
    },
    {
     "name": "stderr",
     "output_type": "stream",
     "text": [
      "Epoch 27/1000: 100%|██████████| 422/422 [00:49<00:00,  8.48it/s, Loss=1.3053, Acc=0.4972]\n"
     ]
    },
    {
     "name": "stdout",
     "output_type": "stream",
     "text": [
      "Epoch 27/1000: Train Loss: 1.3053, Train Acc: 0.4972\n"
     ]
    },
    {
     "name": "stderr",
     "output_type": "stream",
     "text": [
      "Validation: 100%|██████████| 47/47 [00:01<00:00, 23.67it/s, Loss=1.3549, Acc=0.4797]\n"
     ]
    },
    {
     "name": "stdout",
     "output_type": "stream",
     "text": [
      "Epoch 27/1000: Val Loss: 1.3549, Val Acc: 0.4797, Val F1: 0.4757\n",
      "Current Learning Rate: 3e-05\n"
     ]
    },
    {
     "name": "stderr",
     "output_type": "stream",
     "text": [
      "Epoch 28/1000: 100%|██████████| 422/422 [00:49<00:00,  8.48it/s, Loss=1.2952, Acc=0.5023]\n"
     ]
    },
    {
     "name": "stdout",
     "output_type": "stream",
     "text": [
      "Epoch 28/1000: Train Loss: 1.2952, Train Acc: 0.5023\n"
     ]
    },
    {
     "name": "stderr",
     "output_type": "stream",
     "text": [
      "Validation: 100%|██████████| 47/47 [00:02<00:00, 22.99it/s, Loss=1.3372, Acc=0.4853]\n"
     ]
    },
    {
     "name": "stdout",
     "output_type": "stream",
     "text": [
      "Epoch 28/1000: Val Loss: 1.3372, Val Acc: 0.4853, Val F1: 0.4772\n",
      "Current Learning Rate: 3e-05\n"
     ]
    },
    {
     "name": "stderr",
     "output_type": "stream",
     "text": [
      "Epoch 29/1000: 100%|██████████| 422/422 [00:49<00:00,  8.60it/s, Loss=1.2852, Acc=0.5032]\n"
     ]
    },
    {
     "name": "stdout",
     "output_type": "stream",
     "text": [
      "Epoch 29/1000: Train Loss: 1.2852, Train Acc: 0.5032\n"
     ]
    },
    {
     "name": "stderr",
     "output_type": "stream",
     "text": [
      "Validation: 100%|██████████| 47/47 [00:01<00:00, 24.25it/s, Loss=1.3274, Acc=0.4893]\n"
     ]
    },
    {
     "name": "stdout",
     "output_type": "stream",
     "text": [
      "Epoch 29/1000: Val Loss: 1.3274, Val Acc: 0.4893, Val F1: 0.4804\n",
      "Current Learning Rate: 3e-05\n",
      "Best model saved at ../Experiment Augment Result/model13_augment_best.pt with accuracy: 0.4893\n"
     ]
    },
    {
     "name": "stderr",
     "output_type": "stream",
     "text": [
      "Epoch 30/1000: 100%|██████████| 422/422 [00:51<00:00,  8.15it/s, Loss=1.2797, Acc=0.5071]\n"
     ]
    },
    {
     "name": "stdout",
     "output_type": "stream",
     "text": [
      "Epoch 30/1000: Train Loss: 1.2797, Train Acc: 0.5071\n"
     ]
    },
    {
     "name": "stderr",
     "output_type": "stream",
     "text": [
      "Validation: 100%|██████████| 47/47 [00:01<00:00, 23.70it/s, Loss=1.3154, Acc=0.4870]\n"
     ]
    },
    {
     "name": "stdout",
     "output_type": "stream",
     "text": [
      "Epoch 30/1000: Val Loss: 1.3154, Val Acc: 0.4870, Val F1: 0.4795\n",
      "Current Learning Rate: 3e-05\n"
     ]
    },
    {
     "name": "stderr",
     "output_type": "stream",
     "text": [
      "Epoch 31/1000: 100%|██████████| 422/422 [00:52<00:00,  8.01it/s, Loss=1.2692, Acc=0.5096]\n"
     ]
    },
    {
     "name": "stdout",
     "output_type": "stream",
     "text": [
      "Epoch 31/1000: Train Loss: 1.2692, Train Acc: 0.5096\n"
     ]
    },
    {
     "name": "stderr",
     "output_type": "stream",
     "text": [
      "Validation: 100%|██████████| 47/47 [00:01<00:00, 24.87it/s, Loss=1.3207, Acc=0.4817]\n"
     ]
    },
    {
     "name": "stdout",
     "output_type": "stream",
     "text": [
      "Epoch 31/1000: Val Loss: 1.3207, Val Acc: 0.4817, Val F1: 0.4722\n",
      "Current Learning Rate: 3e-05\n"
     ]
    },
    {
     "name": "stderr",
     "output_type": "stream",
     "text": [
      "Epoch 32/1000: 100%|██████████| 422/422 [00:50<00:00,  8.31it/s, Loss=1.2559, Acc=0.5184]\n"
     ]
    },
    {
     "name": "stdout",
     "output_type": "stream",
     "text": [
      "Epoch 32/1000: Train Loss: 1.2559, Train Acc: 0.5184\n"
     ]
    },
    {
     "name": "stderr",
     "output_type": "stream",
     "text": [
      "Validation: 100%|██████████| 47/47 [00:02<00:00, 23.04it/s, Loss=1.3297, Acc=0.4917]\n"
     ]
    },
    {
     "name": "stdout",
     "output_type": "stream",
     "text": [
      "Epoch 32/1000: Val Loss: 1.3297, Val Acc: 0.4917, Val F1: 0.4757\n",
      "Current Learning Rate: 3e-05\n",
      "Best model saved at ../Experiment Augment Result/model13_augment_best.pt with accuracy: 0.4917\n"
     ]
    },
    {
     "name": "stderr",
     "output_type": "stream",
     "text": [
      "Epoch 33/1000: 100%|██████████| 422/422 [00:50<00:00,  8.38it/s, Loss=1.2458, Acc=0.5177]\n"
     ]
    },
    {
     "name": "stdout",
     "output_type": "stream",
     "text": [
      "Epoch 33/1000: Train Loss: 1.2458, Train Acc: 0.5177\n"
     ]
    },
    {
     "name": "stderr",
     "output_type": "stream",
     "text": [
      "Validation: 100%|██████████| 47/47 [00:01<00:00, 23.62it/s, Loss=1.3124, Acc=0.4977]\n"
     ]
    },
    {
     "name": "stdout",
     "output_type": "stream",
     "text": [
      "Epoch 33/1000: Val Loss: 1.3124, Val Acc: 0.4977, Val F1: 0.4958\n",
      "Current Learning Rate: 3e-05\n",
      "Best model saved at ../Experiment Augment Result/model13_augment_best.pt with accuracy: 0.4977\n"
     ]
    },
    {
     "name": "stderr",
     "output_type": "stream",
     "text": [
      "Epoch 34/1000: 100%|██████████| 422/422 [00:50<00:00,  8.38it/s, Loss=1.2421, Acc=0.5242]\n"
     ]
    },
    {
     "name": "stdout",
     "output_type": "stream",
     "text": [
      "Epoch 34/1000: Train Loss: 1.2421, Train Acc: 0.5242\n"
     ]
    },
    {
     "name": "stderr",
     "output_type": "stream",
     "text": [
      "Validation: 100%|██████████| 47/47 [00:02<00:00, 23.44it/s, Loss=1.3076, Acc=0.4797]\n"
     ]
    },
    {
     "name": "stdout",
     "output_type": "stream",
     "text": [
      "Epoch 34/1000: Val Loss: 1.3076, Val Acc: 0.4797, Val F1: 0.4614\n",
      "Current Learning Rate: 3e-05\n"
     ]
    },
    {
     "name": "stderr",
     "output_type": "stream",
     "text": [
      "Epoch 35/1000: 100%|██████████| 422/422 [00:51<00:00,  8.15it/s, Loss=1.2261, Acc=0.5280]\n"
     ]
    },
    {
     "name": "stdout",
     "output_type": "stream",
     "text": [
      "Epoch 35/1000: Train Loss: 1.2261, Train Acc: 0.5280\n"
     ]
    },
    {
     "name": "stderr",
     "output_type": "stream",
     "text": [
      "Validation: 100%|██████████| 47/47 [00:02<00:00, 22.01it/s, Loss=1.2888, Acc=0.5023]\n"
     ]
    },
    {
     "name": "stdout",
     "output_type": "stream",
     "text": [
      "Epoch 35/1000: Val Loss: 1.2888, Val Acc: 0.5023, Val F1: 0.4917\n",
      "Current Learning Rate: 3e-05\n",
      "Best model saved at ../Experiment Augment Result/model13_augment_best.pt with accuracy: 0.5023\n"
     ]
    },
    {
     "name": "stderr",
     "output_type": "stream",
     "text": [
      "Epoch 36/1000: 100%|██████████| 422/422 [00:50<00:00,  8.34it/s, Loss=1.2255, Acc=0.5299]\n"
     ]
    },
    {
     "name": "stdout",
     "output_type": "stream",
     "text": [
      "Epoch 36/1000: Train Loss: 1.2255, Train Acc: 0.5299\n"
     ]
    },
    {
     "name": "stderr",
     "output_type": "stream",
     "text": [
      "Validation: 100%|██████████| 47/47 [00:01<00:00, 23.69it/s, Loss=1.3164, Acc=0.4887]\n"
     ]
    },
    {
     "name": "stdout",
     "output_type": "stream",
     "text": [
      "Epoch 36/1000: Val Loss: 1.3164, Val Acc: 0.4887, Val F1: 0.4820\n",
      "Current Learning Rate: 3e-05\n"
     ]
    },
    {
     "name": "stderr",
     "output_type": "stream",
     "text": [
      "Epoch 37/1000: 100%|██████████| 422/422 [00:50<00:00,  8.35it/s, Loss=1.2061, Acc=0.5399]\n"
     ]
    },
    {
     "name": "stdout",
     "output_type": "stream",
     "text": [
      "Epoch 37/1000: Train Loss: 1.2061, Train Acc: 0.5399\n"
     ]
    },
    {
     "name": "stderr",
     "output_type": "stream",
     "text": [
      "Validation: 100%|██████████| 47/47 [00:01<00:00, 23.64it/s, Loss=1.2910, Acc=0.5040]\n"
     ]
    },
    {
     "name": "stdout",
     "output_type": "stream",
     "text": [
      "Epoch 37/1000: Val Loss: 1.2910, Val Acc: 0.5040, Val F1: 0.4911\n",
      "Current Learning Rate: 3e-05\n",
      "Best model saved at ../Experiment Augment Result/model13_augment_best.pt with accuracy: 0.5040\n"
     ]
    },
    {
     "name": "stderr",
     "output_type": "stream",
     "text": [
      "Epoch 38/1000: 100%|██████████| 422/422 [00:49<00:00,  8.56it/s, Loss=1.2068, Acc=0.5385]\n"
     ]
    },
    {
     "name": "stdout",
     "output_type": "stream",
     "text": [
      "Epoch 38/1000: Train Loss: 1.2068, Train Acc: 0.5385\n"
     ]
    },
    {
     "name": "stderr",
     "output_type": "stream",
     "text": [
      "Validation: 100%|██████████| 47/47 [00:01<00:00, 24.36it/s, Loss=1.2942, Acc=0.5010]\n"
     ]
    },
    {
     "name": "stdout",
     "output_type": "stream",
     "text": [
      "Epoch 38/1000: Val Loss: 1.2942, Val Acc: 0.5010, Val F1: 0.4892\n",
      "Current Learning Rate: 3e-05\n"
     ]
    },
    {
     "name": "stderr",
     "output_type": "stream",
     "text": [
      "Epoch 39/1000: 100%|██████████| 422/422 [00:49<00:00,  8.49it/s, Loss=1.1942, Acc=0.5438]\n"
     ]
    },
    {
     "name": "stdout",
     "output_type": "stream",
     "text": [
      "Epoch 39/1000: Train Loss: 1.1942, Train Acc: 0.5438\n"
     ]
    },
    {
     "name": "stderr",
     "output_type": "stream",
     "text": [
      "Validation: 100%|██████████| 47/47 [00:01<00:00, 24.73it/s, Loss=1.2840, Acc=0.5063]\n"
     ]
    },
    {
     "name": "stdout",
     "output_type": "stream",
     "text": [
      "Epoch 39/1000: Val Loss: 1.2840, Val Acc: 0.5063, Val F1: 0.5002\n",
      "Current Learning Rate: 3e-05\n",
      "Best model saved at ../Experiment Augment Result/model13_augment_best.pt with accuracy: 0.5063\n"
     ]
    },
    {
     "name": "stderr",
     "output_type": "stream",
     "text": [
      "Epoch 40/1000: 100%|██████████| 422/422 [00:49<00:00,  8.47it/s, Loss=1.1876, Acc=0.5422]\n"
     ]
    },
    {
     "name": "stdout",
     "output_type": "stream",
     "text": [
      "Epoch 40/1000: Train Loss: 1.1876, Train Acc: 0.5422\n"
     ]
    },
    {
     "name": "stderr",
     "output_type": "stream",
     "text": [
      "Validation: 100%|██████████| 47/47 [00:01<00:00, 24.83it/s, Loss=1.3088, Acc=0.4883]\n"
     ]
    },
    {
     "name": "stdout",
     "output_type": "stream",
     "text": [
      "Epoch 40/1000: Val Loss: 1.3088, Val Acc: 0.4883, Val F1: 0.4765\n",
      "Current Learning Rate: 3e-05\n"
     ]
    },
    {
     "name": "stderr",
     "output_type": "stream",
     "text": [
      "Epoch 41/1000: 100%|██████████| 422/422 [00:52<00:00,  8.03it/s, Loss=1.1802, Acc=0.5465]\n"
     ]
    },
    {
     "name": "stdout",
     "output_type": "stream",
     "text": [
      "Epoch 41/1000: Train Loss: 1.1802, Train Acc: 0.5465\n"
     ]
    },
    {
     "name": "stderr",
     "output_type": "stream",
     "text": [
      "Validation: 100%|██████████| 47/47 [00:01<00:00, 23.74it/s, Loss=1.2909, Acc=0.5017]\n"
     ]
    },
    {
     "name": "stdout",
     "output_type": "stream",
     "text": [
      "Epoch 41/1000: Val Loss: 1.2909, Val Acc: 0.5017, Val F1: 0.4892\n",
      "Current Learning Rate: 3e-05\n"
     ]
    },
    {
     "name": "stderr",
     "output_type": "stream",
     "text": [
      "Epoch 42/1000: 100%|██████████| 422/422 [00:50<00:00,  8.40it/s, Loss=1.1720, Acc=0.5531]\n"
     ]
    },
    {
     "name": "stdout",
     "output_type": "stream",
     "text": [
      "Epoch 42/1000: Train Loss: 1.1720, Train Acc: 0.5531\n"
     ]
    },
    {
     "name": "stderr",
     "output_type": "stream",
     "text": [
      "Validation: 100%|██████████| 47/47 [00:01<00:00, 23.67it/s, Loss=1.2812, Acc=0.4987]\n"
     ]
    },
    {
     "name": "stdout",
     "output_type": "stream",
     "text": [
      "Epoch 42/1000: Val Loss: 1.2812, Val Acc: 0.4987, Val F1: 0.4996\n",
      "Current Learning Rate: 3e-05\n"
     ]
    },
    {
     "name": "stderr",
     "output_type": "stream",
     "text": [
      "Epoch 43/1000: 100%|██████████| 422/422 [00:49<00:00,  8.45it/s, Loss=1.1542, Acc=0.5599]\n"
     ]
    },
    {
     "name": "stdout",
     "output_type": "stream",
     "text": [
      "Epoch 43/1000: Train Loss: 1.1542, Train Acc: 0.5599\n"
     ]
    },
    {
     "name": "stderr",
     "output_type": "stream",
     "text": [
      "Validation: 100%|██████████| 47/47 [00:01<00:00, 24.65it/s, Loss=1.2889, Acc=0.5083]\n"
     ]
    },
    {
     "name": "stdout",
     "output_type": "stream",
     "text": [
      "Epoch 43/1000: Val Loss: 1.2889, Val Acc: 0.5083, Val F1: 0.4997\n",
      "Current Learning Rate: 3e-05\n",
      "Best model saved at ../Experiment Augment Result/model13_augment_best.pt with accuracy: 0.5083\n"
     ]
    },
    {
     "name": "stderr",
     "output_type": "stream",
     "text": [
      "Epoch 44/1000: 100%|██████████| 422/422 [00:49<00:00,  8.57it/s, Loss=1.1520, Acc=0.5594]\n"
     ]
    },
    {
     "name": "stdout",
     "output_type": "stream",
     "text": [
      "Epoch 44/1000: Train Loss: 1.1520, Train Acc: 0.5594\n"
     ]
    },
    {
     "name": "stderr",
     "output_type": "stream",
     "text": [
      "Validation: 100%|██████████| 47/47 [00:01<00:00, 24.76it/s, Loss=1.2744, Acc=0.5133]\n"
     ]
    },
    {
     "name": "stdout",
     "output_type": "stream",
     "text": [
      "Epoch 44/1000: Val Loss: 1.2744, Val Acc: 0.5133, Val F1: 0.5063\n",
      "Current Learning Rate: 3e-05\n",
      "Best model saved at ../Experiment Augment Result/model13_augment_best.pt with accuracy: 0.5133\n"
     ]
    },
    {
     "name": "stderr",
     "output_type": "stream",
     "text": [
      "Epoch 45/1000: 100%|██████████| 422/422 [00:49<00:00,  8.53it/s, Loss=1.1429, Acc=0.5629]\n"
     ]
    },
    {
     "name": "stdout",
     "output_type": "stream",
     "text": [
      "Epoch 45/1000: Train Loss: 1.1429, Train Acc: 0.5629\n"
     ]
    },
    {
     "name": "stderr",
     "output_type": "stream",
     "text": [
      "Validation: 100%|██████████| 47/47 [00:01<00:00, 24.77it/s, Loss=1.2726, Acc=0.5117]\n"
     ]
    },
    {
     "name": "stdout",
     "output_type": "stream",
     "text": [
      "Epoch 45/1000: Val Loss: 1.2726, Val Acc: 0.5117, Val F1: 0.5086\n",
      "Current Learning Rate: 3e-05\n"
     ]
    },
    {
     "name": "stderr",
     "output_type": "stream",
     "text": [
      "Epoch 46/1000: 100%|██████████| 422/422 [00:49<00:00,  8.60it/s, Loss=1.1359, Acc=0.5647]\n"
     ]
    },
    {
     "name": "stdout",
     "output_type": "stream",
     "text": [
      "Epoch 46/1000: Train Loss: 1.1359, Train Acc: 0.5647\n"
     ]
    },
    {
     "name": "stderr",
     "output_type": "stream",
     "text": [
      "Validation: 100%|██████████| 47/47 [00:01<00:00, 24.70it/s, Loss=1.2744, Acc=0.5190]\n"
     ]
    },
    {
     "name": "stdout",
     "output_type": "stream",
     "text": [
      "Epoch 46/1000: Val Loss: 1.2744, Val Acc: 0.5190, Val F1: 0.5123\n",
      "Current Learning Rate: 3e-05\n",
      "Best model saved at ../Experiment Augment Result/model13_augment_best.pt with accuracy: 0.5190\n"
     ]
    },
    {
     "name": "stderr",
     "output_type": "stream",
     "text": [
      "Epoch 47/1000: 100%|██████████| 422/422 [00:49<00:00,  8.55it/s, Loss=1.1215, Acc=0.5733]\n"
     ]
    },
    {
     "name": "stdout",
     "output_type": "stream",
     "text": [
      "Epoch 47/1000: Train Loss: 1.1215, Train Acc: 0.5733\n"
     ]
    },
    {
     "name": "stderr",
     "output_type": "stream",
     "text": [
      "Validation: 100%|██████████| 47/47 [00:01<00:00, 24.70it/s, Loss=1.2906, Acc=0.5063]\n"
     ]
    },
    {
     "name": "stdout",
     "output_type": "stream",
     "text": [
      "Epoch 47/1000: Val Loss: 1.2906, Val Acc: 0.5063, Val F1: 0.5037\n",
      "Current Learning Rate: 3e-05\n"
     ]
    },
    {
     "name": "stderr",
     "output_type": "stream",
     "text": [
      "Epoch 48/1000: 100%|██████████| 422/422 [00:49<00:00,  8.47it/s, Loss=1.1149, Acc=0.5731]\n"
     ]
    },
    {
     "name": "stdout",
     "output_type": "stream",
     "text": [
      "Epoch 48/1000: Train Loss: 1.1149, Train Acc: 0.5731\n"
     ]
    },
    {
     "name": "stderr",
     "output_type": "stream",
     "text": [
      "Validation: 100%|██████████| 47/47 [00:01<00:00, 24.10it/s, Loss=1.2541, Acc=0.5257]\n"
     ]
    },
    {
     "name": "stdout",
     "output_type": "stream",
     "text": [
      "Epoch 48/1000: Val Loss: 1.2541, Val Acc: 0.5257, Val F1: 0.5158\n",
      "Current Learning Rate: 3e-05\n",
      "Best model saved at ../Experiment Augment Result/model13_augment_best.pt with accuracy: 0.5257\n"
     ]
    },
    {
     "name": "stderr",
     "output_type": "stream",
     "text": [
      "Epoch 49/1000: 100%|██████████| 422/422 [00:49<00:00,  8.61it/s, Loss=1.1051, Acc=0.5799]\n"
     ]
    },
    {
     "name": "stdout",
     "output_type": "stream",
     "text": [
      "Epoch 49/1000: Train Loss: 1.1051, Train Acc: 0.5799\n"
     ]
    },
    {
     "name": "stderr",
     "output_type": "stream",
     "text": [
      "Validation: 100%|██████████| 47/47 [00:01<00:00, 25.01it/s, Loss=1.2691, Acc=0.5113]\n"
     ]
    },
    {
     "name": "stdout",
     "output_type": "stream",
     "text": [
      "Epoch 49/1000: Val Loss: 1.2691, Val Acc: 0.5113, Val F1: 0.4952\n",
      "Current Learning Rate: 3e-05\n"
     ]
    },
    {
     "name": "stderr",
     "output_type": "stream",
     "text": [
      "Epoch 50/1000: 100%|██████████| 422/422 [00:49<00:00,  8.57it/s, Loss=1.0927, Acc=0.5813]\n"
     ]
    },
    {
     "name": "stdout",
     "output_type": "stream",
     "text": [
      "Epoch 50/1000: Train Loss: 1.0927, Train Acc: 0.5813\n"
     ]
    },
    {
     "name": "stderr",
     "output_type": "stream",
     "text": [
      "Validation: 100%|██████████| 47/47 [00:01<00:00, 23.93it/s, Loss=1.2604, Acc=0.5260]\n"
     ]
    },
    {
     "name": "stdout",
     "output_type": "stream",
     "text": [
      "Epoch 50/1000: Val Loss: 1.2604, Val Acc: 0.5260, Val F1: 0.5196\n",
      "Current Learning Rate: 3e-05\n",
      "Best model saved at ../Experiment Augment Result/model13_augment_best.pt with accuracy: 0.5260\n"
     ]
    },
    {
     "name": "stderr",
     "output_type": "stream",
     "text": [
      "Epoch 51/1000: 100%|██████████| 422/422 [00:49<00:00,  8.55it/s, Loss=1.0884, Acc=0.5872]\n"
     ]
    },
    {
     "name": "stdout",
     "output_type": "stream",
     "text": [
      "Epoch 51/1000: Train Loss: 1.0884, Train Acc: 0.5872\n"
     ]
    },
    {
     "name": "stderr",
     "output_type": "stream",
     "text": [
      "Validation: 100%|██████████| 47/47 [00:01<00:00, 23.62it/s, Loss=1.2744, Acc=0.5127]\n"
     ]
    },
    {
     "name": "stdout",
     "output_type": "stream",
     "text": [
      "Epoch 51/1000: Val Loss: 1.2744, Val Acc: 0.5127, Val F1: 0.5062\n",
      "Current Learning Rate: 3e-05\n"
     ]
    },
    {
     "name": "stderr",
     "output_type": "stream",
     "text": [
      "Epoch 52/1000: 100%|██████████| 422/422 [00:50<00:00,  8.27it/s, Loss=1.0745, Acc=0.5923]\n"
     ]
    },
    {
     "name": "stdout",
     "output_type": "stream",
     "text": [
      "Epoch 52/1000: Train Loss: 1.0745, Train Acc: 0.5923\n"
     ]
    },
    {
     "name": "stderr",
     "output_type": "stream",
     "text": [
      "Validation: 100%|██████████| 47/47 [00:01<00:00, 23.52it/s, Loss=1.2874, Acc=0.5187]\n"
     ]
    },
    {
     "name": "stdout",
     "output_type": "stream",
     "text": [
      "Epoch 52/1000: Val Loss: 1.2874, Val Acc: 0.5187, Val F1: 0.5081\n",
      "Current Learning Rate: 3e-05\n"
     ]
    },
    {
     "name": "stderr",
     "output_type": "stream",
     "text": [
      "Epoch 53/1000: 100%|██████████| 422/422 [00:49<00:00,  8.54it/s, Loss=1.0608, Acc=0.5990]\n"
     ]
    },
    {
     "name": "stdout",
     "output_type": "stream",
     "text": [
      "Epoch 53/1000: Train Loss: 1.0608, Train Acc: 0.5990\n"
     ]
    },
    {
     "name": "stderr",
     "output_type": "stream",
     "text": [
      "Validation: 100%|██████████| 47/47 [00:01<00:00, 24.69it/s, Loss=1.2680, Acc=0.5237]\n"
     ]
    },
    {
     "name": "stdout",
     "output_type": "stream",
     "text": [
      "Epoch 53/1000: Val Loss: 1.2680, Val Acc: 0.5237, Val F1: 0.5140\n",
      "Current Learning Rate: 3e-05\n"
     ]
    },
    {
     "name": "stderr",
     "output_type": "stream",
     "text": [
      "Epoch 54/1000: 100%|██████████| 422/422 [00:50<00:00,  8.41it/s, Loss=1.0553, Acc=0.6010]\n"
     ]
    },
    {
     "name": "stdout",
     "output_type": "stream",
     "text": [
      "Epoch 54/1000: Train Loss: 1.0553, Train Acc: 0.6010\n"
     ]
    },
    {
     "name": "stderr",
     "output_type": "stream",
     "text": [
      "Validation: 100%|██████████| 47/47 [00:01<00:00, 23.79it/s, Loss=1.2680, Acc=0.5190]\n"
     ]
    },
    {
     "name": "stdout",
     "output_type": "stream",
     "text": [
      "Epoch 54/1000: Val Loss: 1.2680, Val Acc: 0.5190, Val F1: 0.5097\n",
      "Current Learning Rate: 3e-06\n"
     ]
    },
    {
     "name": "stderr",
     "output_type": "stream",
     "text": [
      "Epoch 55/1000: 100%|██████████| 422/422 [00:50<00:00,  8.42it/s, Loss=0.9977, Acc=0.6226]\n"
     ]
    },
    {
     "name": "stdout",
     "output_type": "stream",
     "text": [
      "Epoch 55/1000: Train Loss: 0.9977, Train Acc: 0.6226\n"
     ]
    },
    {
     "name": "stderr",
     "output_type": "stream",
     "text": [
      "Validation: 100%|██████████| 47/47 [00:01<00:00, 23.51it/s, Loss=1.2414, Acc=0.5253]\n"
     ]
    },
    {
     "name": "stdout",
     "output_type": "stream",
     "text": [
      "Epoch 55/1000: Val Loss: 1.2414, Val Acc: 0.5253, Val F1: 0.5199\n",
      "Current Learning Rate: 3e-06\n"
     ]
    },
    {
     "name": "stderr",
     "output_type": "stream",
     "text": [
      "Epoch 56/1000: 100%|██████████| 422/422 [00:52<00:00,  7.98it/s, Loss=0.9753, Acc=0.6369]\n"
     ]
    },
    {
     "name": "stdout",
     "output_type": "stream",
     "text": [
      "Epoch 56/1000: Train Loss: 0.9753, Train Acc: 0.6369\n"
     ]
    },
    {
     "name": "stderr",
     "output_type": "stream",
     "text": [
      "Validation: 100%|██████████| 47/47 [00:02<00:00, 21.73it/s, Loss=1.2430, Acc=0.5310]\n"
     ]
    },
    {
     "name": "stdout",
     "output_type": "stream",
     "text": [
      "Epoch 56/1000: Val Loss: 1.2430, Val Acc: 0.5310, Val F1: 0.5256\n",
      "Current Learning Rate: 3e-06\n",
      "Best model saved at ../Experiment Augment Result/model13_augment_best.pt with accuracy: 0.5310\n"
     ]
    },
    {
     "name": "stderr",
     "output_type": "stream",
     "text": [
      "Epoch 57/1000: 100%|██████████| 422/422 [00:51<00:00,  8.12it/s, Loss=0.9588, Acc=0.6393]\n"
     ]
    },
    {
     "name": "stdout",
     "output_type": "stream",
     "text": [
      "Epoch 57/1000: Train Loss: 0.9588, Train Acc: 0.6393\n"
     ]
    },
    {
     "name": "stderr",
     "output_type": "stream",
     "text": [
      "Validation: 100%|██████████| 47/47 [00:01<00:00, 24.25it/s, Loss=1.2487, Acc=0.5323]\n"
     ]
    },
    {
     "name": "stdout",
     "output_type": "stream",
     "text": [
      "Epoch 57/1000: Val Loss: 1.2487, Val Acc: 0.5323, Val F1: 0.5281\n",
      "Current Learning Rate: 3e-06\n",
      "Best model saved at ../Experiment Augment Result/model13_augment_best.pt with accuracy: 0.5323\n"
     ]
    },
    {
     "name": "stderr",
     "output_type": "stream",
     "text": [
      "Epoch 58/1000: 100%|██████████| 422/422 [00:49<00:00,  8.55it/s, Loss=0.9572, Acc=0.6395]\n"
     ]
    },
    {
     "name": "stdout",
     "output_type": "stream",
     "text": [
      "Epoch 58/1000: Train Loss: 0.9572, Train Acc: 0.6395\n"
     ]
    },
    {
     "name": "stderr",
     "output_type": "stream",
     "text": [
      "Validation: 100%|██████████| 47/47 [00:01<00:00, 24.85it/s, Loss=1.2495, Acc=0.5283]\n"
     ]
    },
    {
     "name": "stdout",
     "output_type": "stream",
     "text": [
      "Epoch 58/1000: Val Loss: 1.2495, Val Acc: 0.5283, Val F1: 0.5244\n",
      "Current Learning Rate: 3e-06\n"
     ]
    },
    {
     "name": "stderr",
     "output_type": "stream",
     "text": [
      "Epoch 59/1000: 100%|██████████| 422/422 [00:49<00:00,  8.60it/s, Loss=0.9536, Acc=0.6446]\n"
     ]
    },
    {
     "name": "stdout",
     "output_type": "stream",
     "text": [
      "Epoch 59/1000: Train Loss: 0.9536, Train Acc: 0.6446\n"
     ]
    },
    {
     "name": "stderr",
     "output_type": "stream",
     "text": [
      "Validation: 100%|██████████| 47/47 [00:01<00:00, 23.62it/s, Loss=1.2525, Acc=0.5293]\n"
     ]
    },
    {
     "name": "stdout",
     "output_type": "stream",
     "text": [
      "Epoch 59/1000: Val Loss: 1.2525, Val Acc: 0.5293, Val F1: 0.5250\n",
      "Current Learning Rate: 3e-06\n"
     ]
    },
    {
     "name": "stderr",
     "output_type": "stream",
     "text": [
      "Epoch 60/1000: 100%|██████████| 422/422 [00:49<00:00,  8.58it/s, Loss=0.9452, Acc=0.6465]\n"
     ]
    },
    {
     "name": "stdout",
     "output_type": "stream",
     "text": [
      "Epoch 60/1000: Train Loss: 0.9452, Train Acc: 0.6465\n"
     ]
    },
    {
     "name": "stderr",
     "output_type": "stream",
     "text": [
      "Validation: 100%|██████████| 47/47 [00:01<00:00, 24.88it/s, Loss=1.2573, Acc=0.5313]\n"
     ]
    },
    {
     "name": "stdout",
     "output_type": "stream",
     "text": [
      "Epoch 60/1000: Val Loss: 1.2573, Val Acc: 0.5313, Val F1: 0.5251\n",
      "Current Learning Rate: 3e-06\n"
     ]
    },
    {
     "name": "stderr",
     "output_type": "stream",
     "text": [
      "Epoch 61/1000: 100%|██████████| 422/422 [00:49<00:00,  8.59it/s, Loss=0.9382, Acc=0.6485]\n"
     ]
    },
    {
     "name": "stdout",
     "output_type": "stream",
     "text": [
      "Epoch 61/1000: Train Loss: 0.9382, Train Acc: 0.6485\n"
     ]
    },
    {
     "name": "stderr",
     "output_type": "stream",
     "text": [
      "Validation: 100%|██████████| 47/47 [00:01<00:00, 23.97it/s, Loss=1.2607, Acc=0.5280]\n"
     ]
    },
    {
     "name": "stdout",
     "output_type": "stream",
     "text": [
      "Epoch 61/1000: Val Loss: 1.2607, Val Acc: 0.5280, Val F1: 0.5259\n",
      "Current Learning Rate: 3.0000000000000004e-07\n"
     ]
    },
    {
     "name": "stderr",
     "output_type": "stream",
     "text": [
      "Epoch 62/1000: 100%|██████████| 422/422 [00:50<00:00,  8.43it/s, Loss=0.9291, Acc=0.6523]\n"
     ]
    },
    {
     "name": "stdout",
     "output_type": "stream",
     "text": [
      "Epoch 62/1000: Train Loss: 0.9291, Train Acc: 0.6523\n"
     ]
    },
    {
     "name": "stderr",
     "output_type": "stream",
     "text": [
      "Validation: 100%|██████████| 47/47 [00:01<00:00, 23.66it/s, Loss=1.2587, Acc=0.5267]\n"
     ]
    },
    {
     "name": "stdout",
     "output_type": "stream",
     "text": [
      "Epoch 62/1000: Val Loss: 1.2587, Val Acc: 0.5267, Val F1: 0.5218\n",
      "Current Learning Rate: 3.0000000000000004e-07\n"
     ]
    },
    {
     "name": "stderr",
     "output_type": "stream",
     "text": [
      "Epoch 63/1000: 100%|██████████| 422/422 [00:50<00:00,  8.31it/s, Loss=0.9259, Acc=0.6551]\n"
     ]
    },
    {
     "name": "stdout",
     "output_type": "stream",
     "text": [
      "Epoch 63/1000: Train Loss: 0.9259, Train Acc: 0.6551\n"
     ]
    },
    {
     "name": "stderr",
     "output_type": "stream",
     "text": [
      "Validation: 100%|██████████| 47/47 [00:01<00:00, 23.73it/s, Loss=1.2591, Acc=0.5270]\n"
     ]
    },
    {
     "name": "stdout",
     "output_type": "stream",
     "text": [
      "Epoch 63/1000: Val Loss: 1.2591, Val Acc: 0.5270, Val F1: 0.5221\n",
      "Current Learning Rate: 3.0000000000000004e-07\n"
     ]
    },
    {
     "name": "stderr",
     "output_type": "stream",
     "text": [
      "Epoch 64/1000: 100%|██████████| 422/422 [00:49<00:00,  8.47it/s, Loss=0.9322, Acc=0.6541]\n"
     ]
    },
    {
     "name": "stdout",
     "output_type": "stream",
     "text": [
      "Epoch 64/1000: Train Loss: 0.9322, Train Acc: 0.6541\n"
     ]
    },
    {
     "name": "stderr",
     "output_type": "stream",
     "text": [
      "Validation: 100%|██████████| 47/47 [00:01<00:00, 23.70it/s, Loss=1.2584, Acc=0.5287]\n"
     ]
    },
    {
     "name": "stdout",
     "output_type": "stream",
     "text": [
      "Epoch 64/1000: Val Loss: 1.2584, Val Acc: 0.5287, Val F1: 0.5239\n",
      "Current Learning Rate: 3.0000000000000004e-07\n"
     ]
    },
    {
     "name": "stderr",
     "output_type": "stream",
     "text": [
      "Epoch 65/1000: 100%|██████████| 422/422 [00:49<00:00,  8.48it/s, Loss=0.9253, Acc=0.6540]\n"
     ]
    },
    {
     "name": "stdout",
     "output_type": "stream",
     "text": [
      "Epoch 65/1000: Train Loss: 0.9253, Train Acc: 0.6540\n"
     ]
    },
    {
     "name": "stderr",
     "output_type": "stream",
     "text": [
      "Validation: 100%|██████████| 47/47 [00:01<00:00, 24.25it/s, Loss=1.2586, Acc=0.5313]\n"
     ]
    },
    {
     "name": "stdout",
     "output_type": "stream",
     "text": [
      "Epoch 65/1000: Val Loss: 1.2586, Val Acc: 0.5313, Val F1: 0.5270\n",
      "Current Learning Rate: 3.0000000000000004e-07\n"
     ]
    },
    {
     "name": "stderr",
     "output_type": "stream",
     "text": [
      "Epoch 66/1000: 100%|██████████| 422/422 [00:49<00:00,  8.59it/s, Loss=0.9285, Acc=0.6514]\n"
     ]
    },
    {
     "name": "stdout",
     "output_type": "stream",
     "text": [
      "Epoch 66/1000: Train Loss: 0.9285, Train Acc: 0.6514\n"
     ]
    },
    {
     "name": "stderr",
     "output_type": "stream",
     "text": [
      "Validation: 100%|██████████| 47/47 [00:01<00:00, 24.53it/s, Loss=1.2585, Acc=0.5327]\n"
     ]
    },
    {
     "name": "stdout",
     "output_type": "stream",
     "text": [
      "Epoch 66/1000: Val Loss: 1.2585, Val Acc: 0.5327, Val F1: 0.5285\n",
      "Current Learning Rate: 3.0000000000000004e-07\n",
      "Best model saved at ../Experiment Augment Result/model13_augment_best.pt with accuracy: 0.5327\n"
     ]
    },
    {
     "name": "stderr",
     "output_type": "stream",
     "text": [
      "Epoch 67/1000: 100%|██████████| 422/422 [00:49<00:00,  8.58it/s, Loss=0.9234, Acc=0.6530]\n"
     ]
    },
    {
     "name": "stdout",
     "output_type": "stream",
     "text": [
      "Epoch 67/1000: Train Loss: 0.9234, Train Acc: 0.6530\n"
     ]
    },
    {
     "name": "stderr",
     "output_type": "stream",
     "text": [
      "Validation: 100%|██████████| 47/47 [00:01<00:00, 25.02it/s, Loss=1.2571, Acc=0.5307]\n"
     ]
    },
    {
     "name": "stdout",
     "output_type": "stream",
     "text": [
      "Epoch 67/1000: Val Loss: 1.2571, Val Acc: 0.5307, Val F1: 0.5256\n",
      "Current Learning Rate: 3.0000000000000004e-08\n"
     ]
    },
    {
     "name": "stderr",
     "output_type": "stream",
     "text": [
      "Epoch 68/1000: 100%|██████████| 422/422 [00:49<00:00,  8.45it/s, Loss=0.9286, Acc=0.6500]\n"
     ]
    },
    {
     "name": "stdout",
     "output_type": "stream",
     "text": [
      "Epoch 68/1000: Train Loss: 0.9286, Train Acc: 0.6500\n"
     ]
    },
    {
     "name": "stderr",
     "output_type": "stream",
     "text": [
      "Validation: 100%|██████████| 47/47 [00:01<00:00, 23.88it/s, Loss=1.2579, Acc=0.5307]\n"
     ]
    },
    {
     "name": "stdout",
     "output_type": "stream",
     "text": [
      "Epoch 68/1000: Val Loss: 1.2579, Val Acc: 0.5307, Val F1: 0.5256\n",
      "Current Learning Rate: 3.0000000000000004e-08\n"
     ]
    },
    {
     "name": "stderr",
     "output_type": "stream",
     "text": [
      "Epoch 69/1000: 100%|██████████| 422/422 [00:49<00:00,  8.59it/s, Loss=0.9198, Acc=0.6554]\n"
     ]
    },
    {
     "name": "stdout",
     "output_type": "stream",
     "text": [
      "Epoch 69/1000: Train Loss: 0.9198, Train Acc: 0.6554\n"
     ]
    },
    {
     "name": "stderr",
     "output_type": "stream",
     "text": [
      "Validation: 100%|██████████| 47/47 [00:01<00:00, 23.72it/s, Loss=1.2575, Acc=0.5310]\n"
     ]
    },
    {
     "name": "stdout",
     "output_type": "stream",
     "text": [
      "Epoch 69/1000: Val Loss: 1.2575, Val Acc: 0.5310, Val F1: 0.5260\n",
      "Current Learning Rate: 3.0000000000000004e-08\n"
     ]
    },
    {
     "name": "stderr",
     "output_type": "stream",
     "text": [
      "Epoch 70/1000: 100%|██████████| 422/422 [00:50<00:00,  8.39it/s, Loss=0.9253, Acc=0.6540]\n"
     ]
    },
    {
     "name": "stdout",
     "output_type": "stream",
     "text": [
      "Epoch 70/1000: Train Loss: 0.9253, Train Acc: 0.6540\n"
     ]
    },
    {
     "name": "stderr",
     "output_type": "stream",
     "text": [
      "Validation: 100%|██████████| 47/47 [00:01<00:00, 23.71it/s, Loss=1.2573, Acc=0.5307]\n"
     ]
    },
    {
     "name": "stdout",
     "output_type": "stream",
     "text": [
      "Epoch 70/1000: Val Loss: 1.2573, Val Acc: 0.5307, Val F1: 0.5257\n",
      "Current Learning Rate: 3.0000000000000004e-08\n",
      "Early stopping triggered at epoch 70!\n"
     ]
    },
    {
     "name": "stderr",
     "output_type": "stream",
     "text": [
      "Testing: 100%|██████████| 53/53 [00:02<00:00, 23.83it/s, Loss=1.2396, Acc=0.5458]\n"
     ]
    },
    {
     "name": "stdout",
     "output_type": "stream",
     "text": [
      "Test Loss: 1.2396, Test Acc: 0.5458, Test F1: 0.5386\n",
      "Start model14 with configuration patch size: 32, num_heads: 8, embedding_dims: 512, num_layers: 12\n"
     ]
    },
    {
     "name": "stderr",
     "output_type": "stream",
     "text": [
      "Epoch 1/1000: 100%|██████████| 422/422 [01:17<00:00,  5.43it/s, Loss=1.7743, Acc=0.2701]\n"
     ]
    },
    {
     "name": "stdout",
     "output_type": "stream",
     "text": [
      "Epoch 1/1000: Train Loss: 1.7743, Train Acc: 0.2701\n"
     ]
    },
    {
     "name": "stderr",
     "output_type": "stream",
     "text": [
      "Validation: 100%|██████████| 47/47 [00:02<00:00, 15.72it/s, Loss=1.7028, Acc=0.3190]\n"
     ]
    },
    {
     "name": "stdout",
     "output_type": "stream",
     "text": [
      "Epoch 1/1000: Val Loss: 1.7028, Val Acc: 0.3190, Val F1: 0.2723\n",
      "Current Learning Rate: 3e-05\n",
      "Best model saved at ../Experiment Augment Result/model14_augment_best.pt with accuracy: 0.3190\n"
     ]
    },
    {
     "name": "stderr",
     "output_type": "stream",
     "text": [
      "Epoch 2/1000: 100%|██████████| 422/422 [01:18<00:00,  5.39it/s, Loss=1.6739, Acc=0.3334]\n"
     ]
    },
    {
     "name": "stdout",
     "output_type": "stream",
     "text": [
      "Epoch 2/1000: Train Loss: 1.6739, Train Acc: 0.3334\n"
     ]
    },
    {
     "name": "stderr",
     "output_type": "stream",
     "text": [
      "Validation: 100%|██████████| 47/47 [00:02<00:00, 16.15it/s, Loss=1.6280, Acc=0.3563]\n"
     ]
    },
    {
     "name": "stdout",
     "output_type": "stream",
     "text": [
      "Epoch 2/1000: Val Loss: 1.6280, Val Acc: 0.3563, Val F1: 0.2958\n",
      "Current Learning Rate: 3e-05\n",
      "Best model saved at ../Experiment Augment Result/model14_augment_best.pt with accuracy: 0.3563\n"
     ]
    },
    {
     "name": "stderr",
     "output_type": "stream",
     "text": [
      "Epoch 3/1000: 100%|██████████| 422/422 [01:17<00:00,  5.41it/s, Loss=1.6220, Acc=0.3602]\n"
     ]
    },
    {
     "name": "stdout",
     "output_type": "stream",
     "text": [
      "Epoch 3/1000: Train Loss: 1.6220, Train Acc: 0.3602\n"
     ]
    },
    {
     "name": "stderr",
     "output_type": "stream",
     "text": [
      "Validation: 100%|██████████| 47/47 [00:02<00:00, 16.63it/s, Loss=1.5755, Acc=0.3847]\n"
     ]
    },
    {
     "name": "stdout",
     "output_type": "stream",
     "text": [
      "Epoch 3/1000: Val Loss: 1.5755, Val Acc: 0.3847, Val F1: 0.3295\n",
      "Current Learning Rate: 3e-05\n",
      "Best model saved at ../Experiment Augment Result/model14_augment_best.pt with accuracy: 0.3847\n"
     ]
    },
    {
     "name": "stderr",
     "output_type": "stream",
     "text": [
      "Epoch 4/1000: 100%|██████████| 422/422 [01:18<00:00,  5.35it/s, Loss=1.5866, Acc=0.3780]\n"
     ]
    },
    {
     "name": "stdout",
     "output_type": "stream",
     "text": [
      "Epoch 4/1000: Train Loss: 1.5866, Train Acc: 0.3780\n"
     ]
    },
    {
     "name": "stderr",
     "output_type": "stream",
     "text": [
      "Validation: 100%|██████████| 47/47 [00:02<00:00, 16.55it/s, Loss=1.5894, Acc=0.3810]\n"
     ]
    },
    {
     "name": "stdout",
     "output_type": "stream",
     "text": [
      "Epoch 4/1000: Val Loss: 1.5894, Val Acc: 0.3810, Val F1: 0.3346\n",
      "Current Learning Rate: 3e-05\n"
     ]
    },
    {
     "name": "stderr",
     "output_type": "stream",
     "text": [
      "Epoch 5/1000: 100%|██████████| 422/422 [01:18<00:00,  5.36it/s, Loss=1.5583, Acc=0.3897]\n"
     ]
    },
    {
     "name": "stdout",
     "output_type": "stream",
     "text": [
      "Epoch 5/1000: Train Loss: 1.5583, Train Acc: 0.3897\n"
     ]
    },
    {
     "name": "stderr",
     "output_type": "stream",
     "text": [
      "Validation: 100%|██████████| 47/47 [00:02<00:00, 16.66it/s, Loss=1.5412, Acc=0.3993]\n"
     ]
    },
    {
     "name": "stdout",
     "output_type": "stream",
     "text": [
      "Epoch 5/1000: Val Loss: 1.5412, Val Acc: 0.3993, Val F1: 0.3417\n",
      "Current Learning Rate: 3e-05\n",
      "Best model saved at ../Experiment Augment Result/model14_augment_best.pt with accuracy: 0.3993\n"
     ]
    },
    {
     "name": "stderr",
     "output_type": "stream",
     "text": [
      "Epoch 6/1000: 100%|██████████| 422/422 [01:18<00:00,  5.40it/s, Loss=1.5363, Acc=0.3987]\n"
     ]
    },
    {
     "name": "stdout",
     "output_type": "stream",
     "text": [
      "Epoch 6/1000: Train Loss: 1.5363, Train Acc: 0.3987\n"
     ]
    },
    {
     "name": "stderr",
     "output_type": "stream",
     "text": [
      "Validation: 100%|██████████| 47/47 [00:02<00:00, 16.62it/s, Loss=1.5012, Acc=0.4183]\n"
     ]
    },
    {
     "name": "stdout",
     "output_type": "stream",
     "text": [
      "Epoch 6/1000: Val Loss: 1.5012, Val Acc: 0.4183, Val F1: 0.3889\n",
      "Current Learning Rate: 3e-05\n",
      "Best model saved at ../Experiment Augment Result/model14_augment_best.pt with accuracy: 0.4183\n"
     ]
    },
    {
     "name": "stderr",
     "output_type": "stream",
     "text": [
      "Epoch 7/1000: 100%|██████████| 422/422 [01:20<00:00,  5.25it/s, Loss=1.5170, Acc=0.4054]\n"
     ]
    },
    {
     "name": "stdout",
     "output_type": "stream",
     "text": [
      "Epoch 7/1000: Train Loss: 1.5170, Train Acc: 0.4054\n"
     ]
    },
    {
     "name": "stderr",
     "output_type": "stream",
     "text": [
      "Validation: 100%|██████████| 47/47 [00:02<00:00, 16.71it/s, Loss=1.4989, Acc=0.4207]\n"
     ]
    },
    {
     "name": "stdout",
     "output_type": "stream",
     "text": [
      "Epoch 7/1000: Val Loss: 1.4989, Val Acc: 0.4207, Val F1: 0.3685\n",
      "Current Learning Rate: 3e-05\n",
      "Best model saved at ../Experiment Augment Result/model14_augment_best.pt with accuracy: 0.4207\n"
     ]
    },
    {
     "name": "stderr",
     "output_type": "stream",
     "text": [
      "Epoch 8/1000: 100%|██████████| 422/422 [01:18<00:00,  5.39it/s, Loss=1.4990, Acc=0.4160]\n"
     ]
    },
    {
     "name": "stdout",
     "output_type": "stream",
     "text": [
      "Epoch 8/1000: Train Loss: 1.4990, Train Acc: 0.4160\n"
     ]
    },
    {
     "name": "stderr",
     "output_type": "stream",
     "text": [
      "Validation: 100%|██████████| 47/47 [00:02<00:00, 16.71it/s, Loss=1.5126, Acc=0.4160]\n"
     ]
    },
    {
     "name": "stdout",
     "output_type": "stream",
     "text": [
      "Epoch 8/1000: Val Loss: 1.5126, Val Acc: 0.4160, Val F1: 0.3671\n",
      "Current Learning Rate: 3e-05\n"
     ]
    },
    {
     "name": "stderr",
     "output_type": "stream",
     "text": [
      "Epoch 9/1000: 100%|██████████| 422/422 [01:18<00:00,  5.38it/s, Loss=1.4831, Acc=0.4235]\n"
     ]
    },
    {
     "name": "stdout",
     "output_type": "stream",
     "text": [
      "Epoch 9/1000: Train Loss: 1.4831, Train Acc: 0.4235\n"
     ]
    },
    {
     "name": "stderr",
     "output_type": "stream",
     "text": [
      "Validation: 100%|██████████| 47/47 [00:02<00:00, 16.32it/s, Loss=1.4995, Acc=0.4230]\n"
     ]
    },
    {
     "name": "stdout",
     "output_type": "stream",
     "text": [
      "Epoch 9/1000: Val Loss: 1.4995, Val Acc: 0.4230, Val F1: 0.3784\n",
      "Current Learning Rate: 3e-05\n",
      "Best model saved at ../Experiment Augment Result/model14_augment_best.pt with accuracy: 0.4230\n"
     ]
    },
    {
     "name": "stderr",
     "output_type": "stream",
     "text": [
      "Epoch 10/1000: 100%|██████████| 422/422 [01:17<00:00,  5.43it/s, Loss=1.4753, Acc=0.4240]\n"
     ]
    },
    {
     "name": "stdout",
     "output_type": "stream",
     "text": [
      "Epoch 10/1000: Train Loss: 1.4753, Train Acc: 0.4240\n"
     ]
    },
    {
     "name": "stderr",
     "output_type": "stream",
     "text": [
      "Validation: 100%|██████████| 47/47 [00:02<00:00, 17.26it/s, Loss=1.4876, Acc=0.4180]\n"
     ]
    },
    {
     "name": "stdout",
     "output_type": "stream",
     "text": [
      "Epoch 10/1000: Val Loss: 1.4876, Val Acc: 0.4180, Val F1: 0.3632\n",
      "Current Learning Rate: 3e-05\n"
     ]
    },
    {
     "name": "stderr",
     "output_type": "stream",
     "text": [
      "Epoch 11/1000: 100%|██████████| 422/422 [01:18<00:00,  5.40it/s, Loss=1.4550, Acc=0.4334]\n"
     ]
    },
    {
     "name": "stdout",
     "output_type": "stream",
     "text": [
      "Epoch 11/1000: Train Loss: 1.4550, Train Acc: 0.4334\n"
     ]
    },
    {
     "name": "stderr",
     "output_type": "stream",
     "text": [
      "Validation: 100%|██████████| 47/47 [00:02<00:00, 16.77it/s, Loss=1.4405, Acc=0.4423]\n"
     ]
    },
    {
     "name": "stdout",
     "output_type": "stream",
     "text": [
      "Epoch 11/1000: Val Loss: 1.4405, Val Acc: 0.4423, Val F1: 0.4129\n",
      "Current Learning Rate: 3e-05\n",
      "Best model saved at ../Experiment Augment Result/model14_augment_best.pt with accuracy: 0.4423\n"
     ]
    },
    {
     "name": "stderr",
     "output_type": "stream",
     "text": [
      "Epoch 12/1000: 100%|██████████| 422/422 [01:18<00:00,  5.41it/s, Loss=1.4357, Acc=0.4396]\n"
     ]
    },
    {
     "name": "stdout",
     "output_type": "stream",
     "text": [
      "Epoch 12/1000: Train Loss: 1.4357, Train Acc: 0.4396\n"
     ]
    },
    {
     "name": "stderr",
     "output_type": "stream",
     "text": [
      "Validation: 100%|██████████| 47/47 [00:02<00:00, 16.37it/s, Loss=1.4459, Acc=0.4537]\n"
     ]
    },
    {
     "name": "stdout",
     "output_type": "stream",
     "text": [
      "Epoch 12/1000: Val Loss: 1.4459, Val Acc: 0.4537, Val F1: 0.4186\n",
      "Current Learning Rate: 3e-05\n",
      "Best model saved at ../Experiment Augment Result/model14_augment_best.pt with accuracy: 0.4537\n"
     ]
    },
    {
     "name": "stderr",
     "output_type": "stream",
     "text": [
      "Epoch 13/1000: 100%|██████████| 422/422 [01:19<00:00,  5.29it/s, Loss=1.4281, Acc=0.4444]\n"
     ]
    },
    {
     "name": "stdout",
     "output_type": "stream",
     "text": [
      "Epoch 13/1000: Train Loss: 1.4281, Train Acc: 0.4444\n"
     ]
    },
    {
     "name": "stderr",
     "output_type": "stream",
     "text": [
      "Validation: 100%|██████████| 47/47 [00:02<00:00, 16.56it/s, Loss=1.4357, Acc=0.4473]\n"
     ]
    },
    {
     "name": "stdout",
     "output_type": "stream",
     "text": [
      "Epoch 13/1000: Val Loss: 1.4357, Val Acc: 0.4473, Val F1: 0.4207\n",
      "Current Learning Rate: 3e-05\n"
     ]
    },
    {
     "name": "stderr",
     "output_type": "stream",
     "text": [
      "Epoch 14/1000: 100%|██████████| 422/422 [01:18<00:00,  5.40it/s, Loss=1.4092, Acc=0.4532]\n"
     ]
    },
    {
     "name": "stdout",
     "output_type": "stream",
     "text": [
      "Epoch 14/1000: Train Loss: 1.4092, Train Acc: 0.4532\n"
     ]
    },
    {
     "name": "stderr",
     "output_type": "stream",
     "text": [
      "Validation: 100%|██████████| 47/47 [00:02<00:00, 16.70it/s, Loss=1.4004, Acc=0.4667]\n"
     ]
    },
    {
     "name": "stdout",
     "output_type": "stream",
     "text": [
      "Epoch 14/1000: Val Loss: 1.4004, Val Acc: 0.4667, Val F1: 0.4330\n",
      "Current Learning Rate: 3e-05\n",
      "Best model saved at ../Experiment Augment Result/model14_augment_best.pt with accuracy: 0.4667\n"
     ]
    },
    {
     "name": "stderr",
     "output_type": "stream",
     "text": [
      "Epoch 15/1000: 100%|██████████| 422/422 [01:19<00:00,  5.31it/s, Loss=1.3950, Acc=0.4594]\n"
     ]
    },
    {
     "name": "stdout",
     "output_type": "stream",
     "text": [
      "Epoch 15/1000: Train Loss: 1.3950, Train Acc: 0.4594\n"
     ]
    },
    {
     "name": "stderr",
     "output_type": "stream",
     "text": [
      "Validation: 100%|██████████| 47/47 [00:02<00:00, 16.74it/s, Loss=1.4193, Acc=0.4550]\n"
     ]
    },
    {
     "name": "stdout",
     "output_type": "stream",
     "text": [
      "Epoch 15/1000: Val Loss: 1.4193, Val Acc: 0.4550, Val F1: 0.4198\n",
      "Current Learning Rate: 3e-05\n"
     ]
    },
    {
     "name": "stderr",
     "output_type": "stream",
     "text": [
      "Epoch 16/1000: 100%|██████████| 422/422 [01:20<00:00,  5.25it/s, Loss=1.3797, Acc=0.4645]\n"
     ]
    },
    {
     "name": "stdout",
     "output_type": "stream",
     "text": [
      "Epoch 16/1000: Train Loss: 1.3797, Train Acc: 0.4645\n"
     ]
    },
    {
     "name": "stderr",
     "output_type": "stream",
     "text": [
      "Validation: 100%|██████████| 47/47 [00:02<00:00, 16.72it/s, Loss=1.3744, Acc=0.4650]\n"
     ]
    },
    {
     "name": "stdout",
     "output_type": "stream",
     "text": [
      "Epoch 16/1000: Val Loss: 1.3744, Val Acc: 0.4650, Val F1: 0.4554\n",
      "Current Learning Rate: 3e-05\n"
     ]
    },
    {
     "name": "stderr",
     "output_type": "stream",
     "text": [
      "Epoch 17/1000: 100%|██████████| 422/422 [01:18<00:00,  5.39it/s, Loss=1.3720, Acc=0.4666]\n"
     ]
    },
    {
     "name": "stdout",
     "output_type": "stream",
     "text": [
      "Epoch 17/1000: Train Loss: 1.3720, Train Acc: 0.4666\n"
     ]
    },
    {
     "name": "stderr",
     "output_type": "stream",
     "text": [
      "Validation: 100%|██████████| 47/47 [00:02<00:00, 16.69it/s, Loss=1.4090, Acc=0.4590]\n"
     ]
    },
    {
     "name": "stdout",
     "output_type": "stream",
     "text": [
      "Epoch 17/1000: Val Loss: 1.4090, Val Acc: 0.4590, Val F1: 0.4519\n",
      "Current Learning Rate: 3e-05\n"
     ]
    },
    {
     "name": "stderr",
     "output_type": "stream",
     "text": [
      "Epoch 18/1000: 100%|██████████| 422/422 [01:18<00:00,  5.39it/s, Loss=1.3582, Acc=0.4733]\n"
     ]
    },
    {
     "name": "stdout",
     "output_type": "stream",
     "text": [
      "Epoch 18/1000: Train Loss: 1.3582, Train Acc: 0.4733\n"
     ]
    },
    {
     "name": "stderr",
     "output_type": "stream",
     "text": [
      "Validation: 100%|██████████| 47/47 [00:02<00:00, 16.69it/s, Loss=1.4056, Acc=0.4530]\n"
     ]
    },
    {
     "name": "stdout",
     "output_type": "stream",
     "text": [
      "Epoch 18/1000: Val Loss: 1.4056, Val Acc: 0.4530, Val F1: 0.4338\n",
      "Current Learning Rate: 3e-05\n"
     ]
    },
    {
     "name": "stderr",
     "output_type": "stream",
     "text": [
      "Epoch 19/1000: 100%|██████████| 422/422 [01:18<00:00,  5.35it/s, Loss=1.3450, Acc=0.4784]\n"
     ]
    },
    {
     "name": "stdout",
     "output_type": "stream",
     "text": [
      "Epoch 19/1000: Train Loss: 1.3450, Train Acc: 0.4784\n"
     ]
    },
    {
     "name": "stderr",
     "output_type": "stream",
     "text": [
      "Validation: 100%|██████████| 47/47 [00:02<00:00, 16.69it/s, Loss=1.3748, Acc=0.4653]\n"
     ]
    },
    {
     "name": "stdout",
     "output_type": "stream",
     "text": [
      "Epoch 19/1000: Val Loss: 1.3748, Val Acc: 0.4653, Val F1: 0.4450\n",
      "Current Learning Rate: 3e-05\n"
     ]
    },
    {
     "name": "stderr",
     "output_type": "stream",
     "text": [
      "Epoch 20/1000: 100%|██████████| 422/422 [01:18<00:00,  5.38it/s, Loss=1.3321, Acc=0.4858]\n"
     ]
    },
    {
     "name": "stdout",
     "output_type": "stream",
     "text": [
      "Epoch 20/1000: Train Loss: 1.3321, Train Acc: 0.4858\n"
     ]
    },
    {
     "name": "stderr",
     "output_type": "stream",
     "text": [
      "Validation: 100%|██████████| 47/47 [00:02<00:00, 16.67it/s, Loss=1.3347, Acc=0.4877]\n"
     ]
    },
    {
     "name": "stdout",
     "output_type": "stream",
     "text": [
      "Epoch 20/1000: Val Loss: 1.3347, Val Acc: 0.4877, Val F1: 0.4773\n",
      "Current Learning Rate: 3e-05\n",
      "Best model saved at ../Experiment Augment Result/model14_augment_best.pt with accuracy: 0.4877\n"
     ]
    },
    {
     "name": "stderr",
     "output_type": "stream",
     "text": [
      "Epoch 21/1000: 100%|██████████| 422/422 [01:18<00:00,  5.39it/s, Loss=1.3198, Acc=0.4887]\n"
     ]
    },
    {
     "name": "stdout",
     "output_type": "stream",
     "text": [
      "Epoch 21/1000: Train Loss: 1.3198, Train Acc: 0.4887\n"
     ]
    },
    {
     "name": "stderr",
     "output_type": "stream",
     "text": [
      "Validation: 100%|██████████| 47/47 [00:02<00:00, 16.70it/s, Loss=1.3377, Acc=0.4747]\n"
     ]
    },
    {
     "name": "stdout",
     "output_type": "stream",
     "text": [
      "Epoch 21/1000: Val Loss: 1.3377, Val Acc: 0.4747, Val F1: 0.4562\n",
      "Current Learning Rate: 3e-05\n"
     ]
    },
    {
     "name": "stderr",
     "output_type": "stream",
     "text": [
      "Epoch 22/1000: 100%|██████████| 422/422 [01:20<00:00,  5.23it/s, Loss=1.3112, Acc=0.4954]\n"
     ]
    },
    {
     "name": "stdout",
     "output_type": "stream",
     "text": [
      "Epoch 22/1000: Train Loss: 1.3112, Train Acc: 0.4954\n"
     ]
    },
    {
     "name": "stderr",
     "output_type": "stream",
     "text": [
      "Validation: 100%|██████████| 47/47 [00:02<00:00, 16.67it/s, Loss=1.3532, Acc=0.4773]\n"
     ]
    },
    {
     "name": "stdout",
     "output_type": "stream",
     "text": [
      "Epoch 22/1000: Val Loss: 1.3532, Val Acc: 0.4773, Val F1: 0.4442\n",
      "Current Learning Rate: 3e-05\n"
     ]
    },
    {
     "name": "stderr",
     "output_type": "stream",
     "text": [
      "Epoch 23/1000: 100%|██████████| 422/422 [01:18<00:00,  5.36it/s, Loss=1.2931, Acc=0.5020]\n"
     ]
    },
    {
     "name": "stdout",
     "output_type": "stream",
     "text": [
      "Epoch 23/1000: Train Loss: 1.2931, Train Acc: 0.5020\n"
     ]
    },
    {
     "name": "stderr",
     "output_type": "stream",
     "text": [
      "Validation: 100%|██████████| 47/47 [00:02<00:00, 16.76it/s, Loss=1.3338, Acc=0.4890]\n"
     ]
    },
    {
     "name": "stdout",
     "output_type": "stream",
     "text": [
      "Epoch 23/1000: Val Loss: 1.3338, Val Acc: 0.4890, Val F1: 0.4767\n",
      "Current Learning Rate: 3e-05\n",
      "Best model saved at ../Experiment Augment Result/model14_augment_best.pt with accuracy: 0.4890\n"
     ]
    },
    {
     "name": "stderr",
     "output_type": "stream",
     "text": [
      "Epoch 24/1000: 100%|██████████| 422/422 [01:18<00:00,  5.38it/s, Loss=1.2852, Acc=0.5020]\n"
     ]
    },
    {
     "name": "stdout",
     "output_type": "stream",
     "text": [
      "Epoch 24/1000: Train Loss: 1.2852, Train Acc: 0.5020\n"
     ]
    },
    {
     "name": "stderr",
     "output_type": "stream",
     "text": [
      "Validation: 100%|██████████| 47/47 [00:02<00:00, 16.66it/s, Loss=1.3355, Acc=0.4773]\n"
     ]
    },
    {
     "name": "stdout",
     "output_type": "stream",
     "text": [
      "Epoch 24/1000: Val Loss: 1.3355, Val Acc: 0.4773, Val F1: 0.4753\n",
      "Current Learning Rate: 3e-05\n"
     ]
    },
    {
     "name": "stderr",
     "output_type": "stream",
     "text": [
      "Epoch 25/1000: 100%|██████████| 422/422 [01:18<00:00,  5.35it/s, Loss=1.2728, Acc=0.5117]\n"
     ]
    },
    {
     "name": "stdout",
     "output_type": "stream",
     "text": [
      "Epoch 25/1000: Train Loss: 1.2728, Train Acc: 0.5117\n"
     ]
    },
    {
     "name": "stderr",
     "output_type": "stream",
     "text": [
      "Validation: 100%|██████████| 47/47 [00:02<00:00, 16.70it/s, Loss=1.3166, Acc=0.4907]\n"
     ]
    },
    {
     "name": "stdout",
     "output_type": "stream",
     "text": [
      "Epoch 25/1000: Val Loss: 1.3166, Val Acc: 0.4907, Val F1: 0.4641\n",
      "Current Learning Rate: 3e-05\n",
      "Best model saved at ../Experiment Augment Result/model14_augment_best.pt with accuracy: 0.4907\n"
     ]
    },
    {
     "name": "stderr",
     "output_type": "stream",
     "text": [
      "Epoch 26/1000: 100%|██████████| 422/422 [01:18<00:00,  5.39it/s, Loss=1.2589, Acc=0.5191]\n"
     ]
    },
    {
     "name": "stdout",
     "output_type": "stream",
     "text": [
      "Epoch 26/1000: Train Loss: 1.2589, Train Acc: 0.5191\n"
     ]
    },
    {
     "name": "stderr",
     "output_type": "stream",
     "text": [
      "Validation: 100%|██████████| 47/47 [00:02<00:00, 16.44it/s, Loss=1.3170, Acc=0.4860]\n"
     ]
    },
    {
     "name": "stdout",
     "output_type": "stream",
     "text": [
      "Epoch 26/1000: Val Loss: 1.3170, Val Acc: 0.4860, Val F1: 0.4721\n",
      "Current Learning Rate: 3e-05\n"
     ]
    },
    {
     "name": "stderr",
     "output_type": "stream",
     "text": [
      "Epoch 27/1000: 100%|██████████| 422/422 [01:19<00:00,  5.28it/s, Loss=1.2505, Acc=0.5162]\n"
     ]
    },
    {
     "name": "stdout",
     "output_type": "stream",
     "text": [
      "Epoch 27/1000: Train Loss: 1.2505, Train Acc: 0.5162\n"
     ]
    },
    {
     "name": "stderr",
     "output_type": "stream",
     "text": [
      "Validation: 100%|██████████| 47/47 [00:02<00:00, 16.65it/s, Loss=1.2975, Acc=0.5097]\n"
     ]
    },
    {
     "name": "stdout",
     "output_type": "stream",
     "text": [
      "Epoch 27/1000: Val Loss: 1.2975, Val Acc: 0.5097, Val F1: 0.5002\n",
      "Current Learning Rate: 3e-05\n",
      "Best model saved at ../Experiment Augment Result/model14_augment_best.pt with accuracy: 0.5097\n"
     ]
    },
    {
     "name": "stderr",
     "output_type": "stream",
     "text": [
      "Epoch 28/1000: 100%|██████████| 422/422 [01:18<00:00,  5.41it/s, Loss=1.2425, Acc=0.5220]\n"
     ]
    },
    {
     "name": "stdout",
     "output_type": "stream",
     "text": [
      "Epoch 28/1000: Train Loss: 1.2425, Train Acc: 0.5220\n"
     ]
    },
    {
     "name": "stderr",
     "output_type": "stream",
     "text": [
      "Validation: 100%|██████████| 47/47 [00:02<00:00, 16.66it/s, Loss=1.2960, Acc=0.5103]\n"
     ]
    },
    {
     "name": "stdout",
     "output_type": "stream",
     "text": [
      "Epoch 28/1000: Val Loss: 1.2960, Val Acc: 0.5103, Val F1: 0.4979\n",
      "Current Learning Rate: 3e-05\n",
      "Best model saved at ../Experiment Augment Result/model14_augment_best.pt with accuracy: 0.5103\n"
     ]
    },
    {
     "name": "stderr",
     "output_type": "stream",
     "text": [
      "Epoch 29/1000: 100%|██████████| 422/422 [01:17<00:00,  5.42it/s, Loss=1.2253, Acc=0.5306]\n"
     ]
    },
    {
     "name": "stdout",
     "output_type": "stream",
     "text": [
      "Epoch 29/1000: Train Loss: 1.2253, Train Acc: 0.5306\n"
     ]
    },
    {
     "name": "stderr",
     "output_type": "stream",
     "text": [
      "Validation: 100%|██████████| 47/47 [00:02<00:00, 16.65it/s, Loss=1.3159, Acc=0.4840]\n"
     ]
    },
    {
     "name": "stdout",
     "output_type": "stream",
     "text": [
      "Epoch 29/1000: Val Loss: 1.3159, Val Acc: 0.4840, Val F1: 0.4700\n",
      "Current Learning Rate: 3e-05\n"
     ]
    },
    {
     "name": "stderr",
     "output_type": "stream",
     "text": [
      "Epoch 30/1000: 100%|██████████| 422/422 [01:18<00:00,  5.40it/s, Loss=1.2197, Acc=0.5306]\n"
     ]
    },
    {
     "name": "stdout",
     "output_type": "stream",
     "text": [
      "Epoch 30/1000: Train Loss: 1.2197, Train Acc: 0.5306\n"
     ]
    },
    {
     "name": "stderr",
     "output_type": "stream",
     "text": [
      "Validation: 100%|██████████| 47/47 [00:02<00:00, 16.48it/s, Loss=1.2938, Acc=0.4987]\n"
     ]
    },
    {
     "name": "stdout",
     "output_type": "stream",
     "text": [
      "Epoch 30/1000: Val Loss: 1.2938, Val Acc: 0.4987, Val F1: 0.4836\n",
      "Current Learning Rate: 3e-05\n"
     ]
    },
    {
     "name": "stderr",
     "output_type": "stream",
     "text": [
      "Epoch 31/1000: 100%|██████████| 422/422 [01:17<00:00,  5.41it/s, Loss=1.2028, Acc=0.5362]\n"
     ]
    },
    {
     "name": "stdout",
     "output_type": "stream",
     "text": [
      "Epoch 31/1000: Train Loss: 1.2028, Train Acc: 0.5362\n"
     ]
    },
    {
     "name": "stderr",
     "output_type": "stream",
     "text": [
      "Validation: 100%|██████████| 47/47 [00:02<00:00, 16.69it/s, Loss=1.2907, Acc=0.5000]\n"
     ]
    },
    {
     "name": "stdout",
     "output_type": "stream",
     "text": [
      "Epoch 31/1000: Val Loss: 1.2907, Val Acc: 0.5000, Val F1: 0.4932\n",
      "Current Learning Rate: 3e-05\n"
     ]
    },
    {
     "name": "stderr",
     "output_type": "stream",
     "text": [
      "Epoch 32/1000: 100%|██████████| 422/422 [01:17<00:00,  5.41it/s, Loss=1.1945, Acc=0.5435]\n"
     ]
    },
    {
     "name": "stdout",
     "output_type": "stream",
     "text": [
      "Epoch 32/1000: Train Loss: 1.1945, Train Acc: 0.5435\n"
     ]
    },
    {
     "name": "stderr",
     "output_type": "stream",
     "text": [
      "Validation: 100%|██████████| 47/47 [00:02<00:00, 17.33it/s, Loss=1.2795, Acc=0.5027]\n"
     ]
    },
    {
     "name": "stdout",
     "output_type": "stream",
     "text": [
      "Epoch 32/1000: Val Loss: 1.2795, Val Acc: 0.5027, Val F1: 0.4992\n",
      "Current Learning Rate: 3e-05\n"
     ]
    },
    {
     "name": "stderr",
     "output_type": "stream",
     "text": [
      "Epoch 33/1000: 100%|██████████| 422/422 [01:17<00:00,  5.46it/s, Loss=1.1837, Acc=0.5443]\n"
     ]
    },
    {
     "name": "stdout",
     "output_type": "stream",
     "text": [
      "Epoch 33/1000: Train Loss: 1.1837, Train Acc: 0.5443\n"
     ]
    },
    {
     "name": "stderr",
     "output_type": "stream",
     "text": [
      "Validation: 100%|██████████| 47/47 [00:02<00:00, 17.25it/s, Loss=1.2969, Acc=0.5017]\n"
     ]
    },
    {
     "name": "stdout",
     "output_type": "stream",
     "text": [
      "Epoch 33/1000: Val Loss: 1.2969, Val Acc: 0.5017, Val F1: 0.4839\n",
      "Current Learning Rate: 3e-05\n"
     ]
    },
    {
     "name": "stderr",
     "output_type": "stream",
     "text": [
      "Epoch 34/1000: 100%|██████████| 422/422 [01:17<00:00,  5.43it/s, Loss=1.1771, Acc=0.5509]\n"
     ]
    },
    {
     "name": "stdout",
     "output_type": "stream",
     "text": [
      "Epoch 34/1000: Train Loss: 1.1771, Train Acc: 0.5509\n"
     ]
    },
    {
     "name": "stderr",
     "output_type": "stream",
     "text": [
      "Validation: 100%|██████████| 47/47 [00:02<00:00, 16.72it/s, Loss=1.2838, Acc=0.5043]\n"
     ]
    },
    {
     "name": "stdout",
     "output_type": "stream",
     "text": [
      "Epoch 34/1000: Val Loss: 1.2838, Val Acc: 0.5043, Val F1: 0.5085\n",
      "Current Learning Rate: 3e-05\n"
     ]
    },
    {
     "name": "stderr",
     "output_type": "stream",
     "text": [
      "Epoch 35/1000: 100%|██████████| 422/422 [01:18<00:00,  5.37it/s, Loss=1.1634, Acc=0.5538]\n"
     ]
    },
    {
     "name": "stdout",
     "output_type": "stream",
     "text": [
      "Epoch 35/1000: Train Loss: 1.1634, Train Acc: 0.5538\n"
     ]
    },
    {
     "name": "stderr",
     "output_type": "stream",
     "text": [
      "Validation: 100%|██████████| 47/47 [00:02<00:00, 16.71it/s, Loss=1.2803, Acc=0.5117]\n"
     ]
    },
    {
     "name": "stdout",
     "output_type": "stream",
     "text": [
      "Epoch 35/1000: Val Loss: 1.2803, Val Acc: 0.5117, Val F1: 0.5022\n",
      "Current Learning Rate: 3e-05\n",
      "Best model saved at ../Experiment Augment Result/model14_augment_best.pt with accuracy: 0.5117\n"
     ]
    },
    {
     "name": "stderr",
     "output_type": "stream",
     "text": [
      "Epoch 36/1000: 100%|██████████| 422/422 [01:19<00:00,  5.33it/s, Loss=1.1523, Acc=0.5612]\n"
     ]
    },
    {
     "name": "stdout",
     "output_type": "stream",
     "text": [
      "Epoch 36/1000: Train Loss: 1.1523, Train Acc: 0.5612\n"
     ]
    },
    {
     "name": "stderr",
     "output_type": "stream",
     "text": [
      "Validation: 100%|██████████| 47/47 [00:02<00:00, 16.38it/s, Loss=1.2781, Acc=0.5187]\n"
     ]
    },
    {
     "name": "stdout",
     "output_type": "stream",
     "text": [
      "Epoch 36/1000: Val Loss: 1.2781, Val Acc: 0.5187, Val F1: 0.5059\n",
      "Current Learning Rate: 3e-05\n",
      "Best model saved at ../Experiment Augment Result/model14_augment_best.pt with accuracy: 0.5187\n"
     ]
    },
    {
     "name": "stderr",
     "output_type": "stream",
     "text": [
      "Epoch 37/1000: 100%|██████████| 422/422 [01:18<00:00,  5.41it/s, Loss=1.1393, Acc=0.5667]\n"
     ]
    },
    {
     "name": "stdout",
     "output_type": "stream",
     "text": [
      "Epoch 37/1000: Train Loss: 1.1393, Train Acc: 0.5667\n"
     ]
    },
    {
     "name": "stderr",
     "output_type": "stream",
     "text": [
      "Validation: 100%|██████████| 47/47 [00:02<00:00, 16.72it/s, Loss=1.2721, Acc=0.5190]\n"
     ]
    },
    {
     "name": "stdout",
     "output_type": "stream",
     "text": [
      "Epoch 37/1000: Val Loss: 1.2721, Val Acc: 0.5190, Val F1: 0.5157\n",
      "Current Learning Rate: 3e-05\n",
      "Best model saved at ../Experiment Augment Result/model14_augment_best.pt with accuracy: 0.5190\n"
     ]
    },
    {
     "name": "stderr",
     "output_type": "stream",
     "text": [
      "Epoch 38/1000: 100%|██████████| 422/422 [01:18<00:00,  5.40it/s, Loss=1.1258, Acc=0.5691]\n"
     ]
    },
    {
     "name": "stdout",
     "output_type": "stream",
     "text": [
      "Epoch 38/1000: Train Loss: 1.1258, Train Acc: 0.5691\n"
     ]
    },
    {
     "name": "stderr",
     "output_type": "stream",
     "text": [
      "Validation: 100%|██████████| 47/47 [00:02<00:00, 15.80it/s, Loss=1.2773, Acc=0.5050]\n"
     ]
    },
    {
     "name": "stdout",
     "output_type": "stream",
     "text": [
      "Epoch 38/1000: Val Loss: 1.2773, Val Acc: 0.5050, Val F1: 0.4946\n",
      "Current Learning Rate: 3e-05\n"
     ]
    },
    {
     "name": "stderr",
     "output_type": "stream",
     "text": [
      "Epoch 39/1000: 100%|██████████| 422/422 [01:18<00:00,  5.38it/s, Loss=1.1197, Acc=0.5725]\n"
     ]
    },
    {
     "name": "stdout",
     "output_type": "stream",
     "text": [
      "Epoch 39/1000: Train Loss: 1.1197, Train Acc: 0.5725\n"
     ]
    },
    {
     "name": "stderr",
     "output_type": "stream",
     "text": [
      "Validation: 100%|██████████| 47/47 [00:02<00:00, 16.72it/s, Loss=1.2686, Acc=0.5133]\n"
     ]
    },
    {
     "name": "stdout",
     "output_type": "stream",
     "text": [
      "Epoch 39/1000: Val Loss: 1.2686, Val Acc: 0.5133, Val F1: 0.5065\n",
      "Current Learning Rate: 3e-05\n"
     ]
    },
    {
     "name": "stderr",
     "output_type": "stream",
     "text": [
      "Epoch 40/1000: 100%|██████████| 422/422 [01:18<00:00,  5.37it/s, Loss=1.1024, Acc=0.5806]\n"
     ]
    },
    {
     "name": "stdout",
     "output_type": "stream",
     "text": [
      "Epoch 40/1000: Train Loss: 1.1024, Train Acc: 0.5806\n"
     ]
    },
    {
     "name": "stderr",
     "output_type": "stream",
     "text": [
      "Validation: 100%|██████████| 47/47 [00:02<00:00, 16.77it/s, Loss=1.2996, Acc=0.5047]\n"
     ]
    },
    {
     "name": "stdout",
     "output_type": "stream",
     "text": [
      "Epoch 40/1000: Val Loss: 1.2996, Val Acc: 0.5047, Val F1: 0.4901\n",
      "Current Learning Rate: 3e-05\n"
     ]
    },
    {
     "name": "stderr",
     "output_type": "stream",
     "text": [
      "Epoch 41/1000: 100%|██████████| 422/422 [01:18<00:00,  5.40it/s, Loss=1.0889, Acc=0.5842]\n"
     ]
    },
    {
     "name": "stdout",
     "output_type": "stream",
     "text": [
      "Epoch 41/1000: Train Loss: 1.0889, Train Acc: 0.5842\n"
     ]
    },
    {
     "name": "stderr",
     "output_type": "stream",
     "text": [
      "Validation: 100%|██████████| 47/47 [00:02<00:00, 16.68it/s, Loss=1.2888, Acc=0.5107]\n"
     ]
    },
    {
     "name": "stdout",
     "output_type": "stream",
     "text": [
      "Epoch 41/1000: Val Loss: 1.2888, Val Acc: 0.5107, Val F1: 0.5024\n",
      "Current Learning Rate: 3e-05\n"
     ]
    },
    {
     "name": "stderr",
     "output_type": "stream",
     "text": [
      "Epoch 42/1000: 100%|██████████| 422/422 [01:18<00:00,  5.40it/s, Loss=1.0835, Acc=0.5873]\n"
     ]
    },
    {
     "name": "stdout",
     "output_type": "stream",
     "text": [
      "Epoch 42/1000: Train Loss: 1.0835, Train Acc: 0.5873\n"
     ]
    },
    {
     "name": "stderr",
     "output_type": "stream",
     "text": [
      "Validation: 100%|██████████| 47/47 [00:02<00:00, 16.70it/s, Loss=1.2804, Acc=0.5183]\n"
     ]
    },
    {
     "name": "stdout",
     "output_type": "stream",
     "text": [
      "Epoch 42/1000: Val Loss: 1.2804, Val Acc: 0.5183, Val F1: 0.5144\n",
      "Current Learning Rate: 3e-05\n"
     ]
    },
    {
     "name": "stderr",
     "output_type": "stream",
     "text": [
      "Epoch 43/1000: 100%|██████████| 422/422 [01:19<00:00,  5.33it/s, Loss=1.0730, Acc=0.5922]\n"
     ]
    },
    {
     "name": "stdout",
     "output_type": "stream",
     "text": [
      "Epoch 43/1000: Train Loss: 1.0730, Train Acc: 0.5922\n"
     ]
    },
    {
     "name": "stderr",
     "output_type": "stream",
     "text": [
      "Validation: 100%|██████████| 47/47 [00:02<00:00, 16.66it/s, Loss=1.2737, Acc=0.5200]\n"
     ]
    },
    {
     "name": "stdout",
     "output_type": "stream",
     "text": [
      "Epoch 43/1000: Val Loss: 1.2737, Val Acc: 0.5200, Val F1: 0.5162\n",
      "Current Learning Rate: 3e-05\n",
      "Best model saved at ../Experiment Augment Result/model14_augment_best.pt with accuracy: 0.5200\n"
     ]
    },
    {
     "name": "stderr",
     "output_type": "stream",
     "text": [
      "Epoch 44/1000: 100%|██████████| 422/422 [01:18<00:00,  5.39it/s, Loss=1.0616, Acc=0.5984]\n"
     ]
    },
    {
     "name": "stdout",
     "output_type": "stream",
     "text": [
      "Epoch 44/1000: Train Loss: 1.0616, Train Acc: 0.5984\n"
     ]
    },
    {
     "name": "stderr",
     "output_type": "stream",
     "text": [
      "Validation: 100%|██████████| 47/47 [00:02<00:00, 16.69it/s, Loss=1.2590, Acc=0.5187]\n"
     ]
    },
    {
     "name": "stdout",
     "output_type": "stream",
     "text": [
      "Epoch 44/1000: Val Loss: 1.2590, Val Acc: 0.5187, Val F1: 0.5140\n",
      "Current Learning Rate: 3e-05\n"
     ]
    },
    {
     "name": "stderr",
     "output_type": "stream",
     "text": [
      "Epoch 45/1000: 100%|██████████| 422/422 [01:19<00:00,  5.34it/s, Loss=1.0522, Acc=0.6033]\n"
     ]
    },
    {
     "name": "stdout",
     "output_type": "stream",
     "text": [
      "Epoch 45/1000: Train Loss: 1.0522, Train Acc: 0.6033\n"
     ]
    },
    {
     "name": "stderr",
     "output_type": "stream",
     "text": [
      "Validation: 100%|██████████| 47/47 [00:02<00:00, 16.71it/s, Loss=1.2650, Acc=0.5280]\n"
     ]
    },
    {
     "name": "stdout",
     "output_type": "stream",
     "text": [
      "Epoch 45/1000: Val Loss: 1.2650, Val Acc: 0.5280, Val F1: 0.5239\n",
      "Current Learning Rate: 3e-05\n",
      "Best model saved at ../Experiment Augment Result/model14_augment_best.pt with accuracy: 0.5280\n"
     ]
    },
    {
     "name": "stderr",
     "output_type": "stream",
     "text": [
      "Epoch 46/1000: 100%|██████████| 422/422 [01:18<00:00,  5.40it/s, Loss=1.0436, Acc=0.6019]\n"
     ]
    },
    {
     "name": "stdout",
     "output_type": "stream",
     "text": [
      "Epoch 46/1000: Train Loss: 1.0436, Train Acc: 0.6019\n"
     ]
    },
    {
     "name": "stderr",
     "output_type": "stream",
     "text": [
      "Validation: 100%|██████████| 47/47 [00:02<00:00, 16.68it/s, Loss=1.2695, Acc=0.5193]\n"
     ]
    },
    {
     "name": "stdout",
     "output_type": "stream",
     "text": [
      "Epoch 46/1000: Val Loss: 1.2695, Val Acc: 0.5193, Val F1: 0.5126\n",
      "Current Learning Rate: 3e-05\n"
     ]
    },
    {
     "name": "stderr",
     "output_type": "stream",
     "text": [
      "Epoch 47/1000: 100%|██████████| 422/422 [01:18<00:00,  5.39it/s, Loss=1.0252, Acc=0.6113]\n"
     ]
    },
    {
     "name": "stdout",
     "output_type": "stream",
     "text": [
      "Epoch 47/1000: Train Loss: 1.0252, Train Acc: 0.6113\n"
     ]
    },
    {
     "name": "stderr",
     "output_type": "stream",
     "text": [
      "Validation: 100%|██████████| 47/47 [00:02<00:00, 16.72it/s, Loss=1.2673, Acc=0.5317]\n"
     ]
    },
    {
     "name": "stdout",
     "output_type": "stream",
     "text": [
      "Epoch 47/1000: Val Loss: 1.2673, Val Acc: 0.5317, Val F1: 0.5218\n",
      "Current Learning Rate: 3e-05\n",
      "Best model saved at ../Experiment Augment Result/model14_augment_best.pt with accuracy: 0.5317\n"
     ]
    },
    {
     "name": "stderr",
     "output_type": "stream",
     "text": [
      "Epoch 48/1000: 100%|██████████| 422/422 [01:19<00:00,  5.32it/s, Loss=1.0132, Acc=0.6165]\n"
     ]
    },
    {
     "name": "stdout",
     "output_type": "stream",
     "text": [
      "Epoch 48/1000: Train Loss: 1.0132, Train Acc: 0.6165\n"
     ]
    },
    {
     "name": "stderr",
     "output_type": "stream",
     "text": [
      "Validation: 100%|██████████| 47/47 [00:02<00:00, 16.74it/s, Loss=1.2752, Acc=0.5287]\n"
     ]
    },
    {
     "name": "stdout",
     "output_type": "stream",
     "text": [
      "Epoch 48/1000: Val Loss: 1.2752, Val Acc: 0.5287, Val F1: 0.5195\n",
      "Current Learning Rate: 3e-05\n"
     ]
    },
    {
     "name": "stderr",
     "output_type": "stream",
     "text": [
      "Epoch 49/1000: 100%|██████████| 422/422 [01:18<00:00,  5.39it/s, Loss=1.0002, Acc=0.6225]\n"
     ]
    },
    {
     "name": "stdout",
     "output_type": "stream",
     "text": [
      "Epoch 49/1000: Train Loss: 1.0002, Train Acc: 0.6225\n"
     ]
    },
    {
     "name": "stderr",
     "output_type": "stream",
     "text": [
      "Validation: 100%|██████████| 47/47 [00:02<00:00, 16.58it/s, Loss=1.2814, Acc=0.5263]\n"
     ]
    },
    {
     "name": "stdout",
     "output_type": "stream",
     "text": [
      "Epoch 49/1000: Val Loss: 1.2814, Val Acc: 0.5263, Val F1: 0.5204\n",
      "Current Learning Rate: 3e-05\n"
     ]
    },
    {
     "name": "stderr",
     "output_type": "stream",
     "text": [
      "Epoch 50/1000: 100%|██████████| 422/422 [01:17<00:00,  5.41it/s, Loss=0.9968, Acc=0.6226]\n"
     ]
    },
    {
     "name": "stdout",
     "output_type": "stream",
     "text": [
      "Epoch 50/1000: Train Loss: 0.9968, Train Acc: 0.6226\n"
     ]
    },
    {
     "name": "stderr",
     "output_type": "stream",
     "text": [
      "Validation: 100%|██████████| 47/47 [00:02<00:00, 17.29it/s, Loss=1.2822, Acc=0.5360]\n"
     ]
    },
    {
     "name": "stdout",
     "output_type": "stream",
     "text": [
      "Epoch 50/1000: Val Loss: 1.2822, Val Acc: 0.5360, Val F1: 0.5284\n",
      "Current Learning Rate: 3e-06\n",
      "Best model saved at ../Experiment Augment Result/model14_augment_best.pt with accuracy: 0.5360\n"
     ]
    },
    {
     "name": "stderr",
     "output_type": "stream",
     "text": [
      "Epoch 51/1000: 100%|██████████| 422/422 [01:17<00:00,  5.43it/s, Loss=0.9138, Acc=0.6608]\n"
     ]
    },
    {
     "name": "stdout",
     "output_type": "stream",
     "text": [
      "Epoch 51/1000: Train Loss: 0.9138, Train Acc: 0.6608\n"
     ]
    },
    {
     "name": "stderr",
     "output_type": "stream",
     "text": [
      "Validation: 100%|██████████| 47/47 [00:02<00:00, 15.77it/s, Loss=1.2532, Acc=0.5427]\n"
     ]
    },
    {
     "name": "stdout",
     "output_type": "stream",
     "text": [
      "Epoch 51/1000: Val Loss: 1.2532, Val Acc: 0.5427, Val F1: 0.5365\n",
      "Current Learning Rate: 3e-06\n",
      "Best model saved at ../Experiment Augment Result/model14_augment_best.pt with accuracy: 0.5427\n"
     ]
    },
    {
     "name": "stderr",
     "output_type": "stream",
     "text": [
      "Epoch 52/1000: 100%|██████████| 422/422 [01:19<00:00,  5.28it/s, Loss=0.8770, Acc=0.6738]\n"
     ]
    },
    {
     "name": "stdout",
     "output_type": "stream",
     "text": [
      "Epoch 52/1000: Train Loss: 0.8770, Train Acc: 0.6738\n"
     ]
    },
    {
     "name": "stderr",
     "output_type": "stream",
     "text": [
      "Validation: 100%|██████████| 47/47 [00:02<00:00, 16.58it/s, Loss=1.2607, Acc=0.5440]\n"
     ]
    },
    {
     "name": "stdout",
     "output_type": "stream",
     "text": [
      "Epoch 52/1000: Val Loss: 1.2607, Val Acc: 0.5440, Val F1: 0.5399\n",
      "Current Learning Rate: 3e-06\n",
      "Best model saved at ../Experiment Augment Result/model14_augment_best.pt with accuracy: 0.5440\n"
     ]
    },
    {
     "name": "stderr",
     "output_type": "stream",
     "text": [
      "Epoch 53/1000: 100%|██████████| 422/422 [01:18<00:00,  5.36it/s, Loss=0.8686, Acc=0.6765]\n"
     ]
    },
    {
     "name": "stdout",
     "output_type": "stream",
     "text": [
      "Epoch 53/1000: Train Loss: 0.8686, Train Acc: 0.6765\n"
     ]
    },
    {
     "name": "stderr",
     "output_type": "stream",
     "text": [
      "Validation: 100%|██████████| 47/47 [00:02<00:00, 16.70it/s, Loss=1.2601, Acc=0.5433]\n"
     ]
    },
    {
     "name": "stdout",
     "output_type": "stream",
     "text": [
      "Epoch 53/1000: Val Loss: 1.2601, Val Acc: 0.5433, Val F1: 0.5376\n",
      "Current Learning Rate: 3e-06\n"
     ]
    },
    {
     "name": "stderr",
     "output_type": "stream",
     "text": [
      "Epoch 54/1000: 100%|██████████| 422/422 [01:18<00:00,  5.38it/s, Loss=0.8639, Acc=0.6786]\n"
     ]
    },
    {
     "name": "stdout",
     "output_type": "stream",
     "text": [
      "Epoch 54/1000: Train Loss: 0.8639, Train Acc: 0.6786\n"
     ]
    },
    {
     "name": "stderr",
     "output_type": "stream",
     "text": [
      "Validation: 100%|██████████| 47/47 [00:02<00:00, 16.73it/s, Loss=1.2636, Acc=0.5420]\n"
     ]
    },
    {
     "name": "stdout",
     "output_type": "stream",
     "text": [
      "Epoch 54/1000: Val Loss: 1.2636, Val Acc: 0.5420, Val F1: 0.5374\n",
      "Current Learning Rate: 3e-06\n"
     ]
    },
    {
     "name": "stderr",
     "output_type": "stream",
     "text": [
      "Epoch 55/1000: 100%|██████████| 422/422 [01:18<00:00,  5.39it/s, Loss=0.8522, Acc=0.6845]\n"
     ]
    },
    {
     "name": "stdout",
     "output_type": "stream",
     "text": [
      "Epoch 55/1000: Train Loss: 0.8522, Train Acc: 0.6845\n"
     ]
    },
    {
     "name": "stderr",
     "output_type": "stream",
     "text": [
      "Validation: 100%|██████████| 47/47 [00:02<00:00, 16.52it/s, Loss=1.2684, Acc=0.5387]\n"
     ]
    },
    {
     "name": "stdout",
     "output_type": "stream",
     "text": [
      "Epoch 55/1000: Val Loss: 1.2684, Val Acc: 0.5387, Val F1: 0.5353\n",
      "Current Learning Rate: 3e-06\n"
     ]
    },
    {
     "name": "stderr",
     "output_type": "stream",
     "text": [
      "Epoch 56/1000: 100%|██████████| 422/422 [01:18<00:00,  5.39it/s, Loss=0.8446, Acc=0.6847]\n"
     ]
    },
    {
     "name": "stdout",
     "output_type": "stream",
     "text": [
      "Epoch 56/1000: Train Loss: 0.8446, Train Acc: 0.6847\n"
     ]
    },
    {
     "name": "stderr",
     "output_type": "stream",
     "text": [
      "Validation: 100%|██████████| 47/47 [00:02<00:00, 16.70it/s, Loss=1.2745, Acc=0.5433]\n"
     ]
    },
    {
     "name": "stdout",
     "output_type": "stream",
     "text": [
      "Epoch 56/1000: Val Loss: 1.2745, Val Acc: 0.5433, Val F1: 0.5391\n",
      "Current Learning Rate: 3e-06\n"
     ]
    },
    {
     "name": "stderr",
     "output_type": "stream",
     "text": [
      "Epoch 57/1000: 100%|██████████| 422/422 [01:17<00:00,  5.41it/s, Loss=0.8375, Acc=0.6928]\n"
     ]
    },
    {
     "name": "stdout",
     "output_type": "stream",
     "text": [
      "Epoch 57/1000: Train Loss: 0.8375, Train Acc: 0.6928\n"
     ]
    },
    {
     "name": "stderr",
     "output_type": "stream",
     "text": [
      "Validation: 100%|██████████| 47/47 [00:02<00:00, 16.64it/s, Loss=1.2723, Acc=0.5397]\n"
     ]
    },
    {
     "name": "stdout",
     "output_type": "stream",
     "text": [
      "Epoch 57/1000: Val Loss: 1.2723, Val Acc: 0.5397, Val F1: 0.5335\n",
      "Current Learning Rate: 3.0000000000000004e-07\n"
     ]
    },
    {
     "name": "stderr",
     "output_type": "stream",
     "text": [
      "Epoch 58/1000: 100%|██████████| 422/422 [01:18<00:00,  5.38it/s, Loss=0.8228, Acc=0.6942]\n"
     ]
    },
    {
     "name": "stdout",
     "output_type": "stream",
     "text": [
      "Epoch 58/1000: Train Loss: 0.8228, Train Acc: 0.6942\n"
     ]
    },
    {
     "name": "stderr",
     "output_type": "stream",
     "text": [
      "Validation: 100%|██████████| 47/47 [00:02<00:00, 16.68it/s, Loss=1.2732, Acc=0.5380]\n"
     ]
    },
    {
     "name": "stdout",
     "output_type": "stream",
     "text": [
      "Epoch 58/1000: Val Loss: 1.2732, Val Acc: 0.5380, Val F1: 0.5325\n",
      "Current Learning Rate: 3.0000000000000004e-07\n"
     ]
    },
    {
     "name": "stderr",
     "output_type": "stream",
     "text": [
      "Epoch 59/1000: 100%|██████████| 422/422 [01:19<00:00,  5.30it/s, Loss=0.8259, Acc=0.6947]\n"
     ]
    },
    {
     "name": "stdout",
     "output_type": "stream",
     "text": [
      "Epoch 59/1000: Train Loss: 0.8259, Train Acc: 0.6947\n"
     ]
    },
    {
     "name": "stderr",
     "output_type": "stream",
     "text": [
      "Validation: 100%|██████████| 47/47 [00:02<00:00, 16.65it/s, Loss=1.2738, Acc=0.5380]\n"
     ]
    },
    {
     "name": "stdout",
     "output_type": "stream",
     "text": [
      "Epoch 59/1000: Val Loss: 1.2738, Val Acc: 0.5380, Val F1: 0.5318\n",
      "Current Learning Rate: 3.0000000000000004e-07\n"
     ]
    },
    {
     "name": "stderr",
     "output_type": "stream",
     "text": [
      "Epoch 60/1000: 100%|██████████| 422/422 [01:18<00:00,  5.37it/s, Loss=0.8291, Acc=0.6926]\n"
     ]
    },
    {
     "name": "stdout",
     "output_type": "stream",
     "text": [
      "Epoch 60/1000: Train Loss: 0.8291, Train Acc: 0.6926\n"
     ]
    },
    {
     "name": "stderr",
     "output_type": "stream",
     "text": [
      "Validation: 100%|██████████| 47/47 [00:02<00:00, 16.70it/s, Loss=1.2736, Acc=0.5390]\n"
     ]
    },
    {
     "name": "stdout",
     "output_type": "stream",
     "text": [
      "Epoch 60/1000: Val Loss: 1.2736, Val Acc: 0.5390, Val F1: 0.5328\n",
      "Current Learning Rate: 3.0000000000000004e-07\n"
     ]
    },
    {
     "name": "stderr",
     "output_type": "stream",
     "text": [
      "Epoch 61/1000: 100%|██████████| 422/422 [01:19<00:00,  5.33it/s, Loss=0.8290, Acc=0.6955]\n"
     ]
    },
    {
     "name": "stdout",
     "output_type": "stream",
     "text": [
      "Epoch 61/1000: Train Loss: 0.8290, Train Acc: 0.6955\n"
     ]
    },
    {
     "name": "stderr",
     "output_type": "stream",
     "text": [
      "Validation: 100%|██████████| 47/47 [00:02<00:00, 16.60it/s, Loss=1.2733, Acc=0.5390]\n"
     ]
    },
    {
     "name": "stdout",
     "output_type": "stream",
     "text": [
      "Epoch 61/1000: Val Loss: 1.2733, Val Acc: 0.5390, Val F1: 0.5327\n",
      "Current Learning Rate: 3.0000000000000004e-07\n"
     ]
    },
    {
     "name": "stderr",
     "output_type": "stream",
     "text": [
      "Epoch 62/1000: 100%|██████████| 422/422 [01:18<00:00,  5.37it/s, Loss=0.8186, Acc=0.6988]\n"
     ]
    },
    {
     "name": "stdout",
     "output_type": "stream",
     "text": [
      "Epoch 62/1000: Train Loss: 0.8186, Train Acc: 0.6988\n"
     ]
    },
    {
     "name": "stderr",
     "output_type": "stream",
     "text": [
      "Validation: 100%|██████████| 47/47 [00:02<00:00, 16.74it/s, Loss=1.2744, Acc=0.5383]\n"
     ]
    },
    {
     "name": "stdout",
     "output_type": "stream",
     "text": [
      "Epoch 62/1000: Val Loss: 1.2744, Val Acc: 0.5383, Val F1: 0.5320\n",
      "Current Learning Rate: 3.0000000000000004e-07\n"
     ]
    },
    {
     "name": "stderr",
     "output_type": "stream",
     "text": [
      "Epoch 63/1000: 100%|██████████| 422/422 [01:18<00:00,  5.39it/s, Loss=0.8200, Acc=0.6949]\n"
     ]
    },
    {
     "name": "stdout",
     "output_type": "stream",
     "text": [
      "Epoch 63/1000: Train Loss: 0.8200, Train Acc: 0.6949\n"
     ]
    },
    {
     "name": "stderr",
     "output_type": "stream",
     "text": [
      "Validation: 100%|██████████| 47/47 [00:02<00:00, 16.71it/s, Loss=1.2751, Acc=0.5400]\n"
     ]
    },
    {
     "name": "stdout",
     "output_type": "stream",
     "text": [
      "Epoch 63/1000: Val Loss: 1.2751, Val Acc: 0.5400, Val F1: 0.5342\n",
      "Current Learning Rate: 3.0000000000000004e-08\n"
     ]
    },
    {
     "name": "stderr",
     "output_type": "stream",
     "text": [
      "Epoch 64/1000: 100%|██████████| 422/422 [01:17<00:00,  5.46it/s, Loss=0.8177, Acc=0.6969]\n"
     ]
    },
    {
     "name": "stdout",
     "output_type": "stream",
     "text": [
      "Epoch 64/1000: Train Loss: 0.8177, Train Acc: 0.6969\n"
     ]
    },
    {
     "name": "stderr",
     "output_type": "stream",
     "text": [
      "Validation: 100%|██████████| 47/47 [00:02<00:00, 17.27it/s, Loss=1.2753, Acc=0.5403]\n"
     ]
    },
    {
     "name": "stdout",
     "output_type": "stream",
     "text": [
      "Epoch 64/1000: Val Loss: 1.2753, Val Acc: 0.5403, Val F1: 0.5345\n",
      "Current Learning Rate: 3.0000000000000004e-08\n"
     ]
    },
    {
     "name": "stderr",
     "output_type": "stream",
     "text": [
      "Epoch 65/1000: 100%|██████████| 422/422 [01:17<00:00,  5.41it/s, Loss=0.8124, Acc=0.6992]\n"
     ]
    },
    {
     "name": "stdout",
     "output_type": "stream",
     "text": [
      "Epoch 65/1000: Train Loss: 0.8124, Train Acc: 0.6992\n"
     ]
    },
    {
     "name": "stderr",
     "output_type": "stream",
     "text": [
      "Validation: 100%|██████████| 47/47 [00:02<00:00, 16.68it/s, Loss=1.2746, Acc=0.5400]\n"
     ]
    },
    {
     "name": "stdout",
     "output_type": "stream",
     "text": [
      "Epoch 65/1000: Val Loss: 1.2746, Val Acc: 0.5400, Val F1: 0.5343\n",
      "Current Learning Rate: 3.0000000000000004e-08\n"
     ]
    },
    {
     "name": "stderr",
     "output_type": "stream",
     "text": [
      "Epoch 66/1000: 100%|██████████| 422/422 [01:17<00:00,  5.45it/s, Loss=0.8114, Acc=0.6995]\n"
     ]
    },
    {
     "name": "stdout",
     "output_type": "stream",
     "text": [
      "Epoch 66/1000: Train Loss: 0.8114, Train Acc: 0.6995\n"
     ]
    },
    {
     "name": "stderr",
     "output_type": "stream",
     "text": [
      "Validation: 100%|██████████| 47/47 [00:02<00:00, 17.29it/s, Loss=1.2751, Acc=0.5413]\n"
     ]
    },
    {
     "name": "stdout",
     "output_type": "stream",
     "text": [
      "Epoch 66/1000: Val Loss: 1.2751, Val Acc: 0.5413, Val F1: 0.5356\n",
      "Current Learning Rate: 3.0000000000000004e-08\n",
      "Early stopping triggered at epoch 66!\n"
     ]
    },
    {
     "name": "stderr",
     "output_type": "stream",
     "text": [
      "Testing: 100%|██████████| 53/53 [00:03<00:00, 17.57it/s, Loss=1.2820, Acc=0.5464]\n"
     ]
    },
    {
     "name": "stdout",
     "output_type": "stream",
     "text": [
      "Test Loss: 1.2820, Test Acc: 0.5464, Test F1: 0.5397\n",
      "Start model15 with configuration patch size: 32, num_heads: 8, embedding_dims: 768, num_layers: 6\n"
     ]
    },
    {
     "name": "stderr",
     "output_type": "stream",
     "text": [
      "Epoch 1/1000: 100%|██████████| 422/422 [01:07<00:00,  6.28it/s, Loss=1.7562, Acc=0.2739]\n"
     ]
    },
    {
     "name": "stdout",
     "output_type": "stream",
     "text": [
      "Epoch 1/1000: Train Loss: 1.7562, Train Acc: 0.2739\n"
     ]
    },
    {
     "name": "stderr",
     "output_type": "stream",
     "text": [
      "Validation: 100%|██████████| 47/47 [00:02<00:00, 18.19it/s, Loss=1.6777, Acc=0.3300]\n"
     ]
    },
    {
     "name": "stdout",
     "output_type": "stream",
     "text": [
      "Epoch 1/1000: Val Loss: 1.6777, Val Acc: 0.3300, Val F1: 0.2939\n",
      "Current Learning Rate: 3e-05\n",
      "Best model saved at ../Experiment Augment Result/model15_augment_best.pt with accuracy: 0.3300\n"
     ]
    },
    {
     "name": "stderr",
     "output_type": "stream",
     "text": [
      "Epoch 2/1000: 100%|██████████| 422/422 [01:07<00:00,  6.25it/s, Loss=1.6666, Acc=0.3364]\n"
     ]
    },
    {
     "name": "stdout",
     "output_type": "stream",
     "text": [
      "Epoch 2/1000: Train Loss: 1.6666, Train Acc: 0.3364\n"
     ]
    },
    {
     "name": "stderr",
     "output_type": "stream",
     "text": [
      "Validation: 100%|██████████| 47/47 [00:02<00:00, 18.36it/s, Loss=1.6181, Acc=0.3647]\n"
     ]
    },
    {
     "name": "stdout",
     "output_type": "stream",
     "text": [
      "Epoch 2/1000: Val Loss: 1.6181, Val Acc: 0.3647, Val F1: 0.3403\n",
      "Current Learning Rate: 3e-05\n",
      "Best model saved at ../Experiment Augment Result/model15_augment_best.pt with accuracy: 0.3647\n"
     ]
    },
    {
     "name": "stderr",
     "output_type": "stream",
     "text": [
      "Epoch 3/1000: 100%|██████████| 422/422 [01:07<00:00,  6.25it/s, Loss=1.6202, Acc=0.3625]\n"
     ]
    },
    {
     "name": "stdout",
     "output_type": "stream",
     "text": [
      "Epoch 3/1000: Train Loss: 1.6202, Train Acc: 0.3625\n"
     ]
    },
    {
     "name": "stderr",
     "output_type": "stream",
     "text": [
      "Validation: 100%|██████████| 47/47 [00:02<00:00, 18.56it/s, Loss=1.5902, Acc=0.3800]\n"
     ]
    },
    {
     "name": "stdout",
     "output_type": "stream",
     "text": [
      "Epoch 3/1000: Val Loss: 1.5902, Val Acc: 0.3800, Val F1: 0.3361\n",
      "Current Learning Rate: 3e-05\n",
      "Best model saved at ../Experiment Augment Result/model15_augment_best.pt with accuracy: 0.3800\n"
     ]
    },
    {
     "name": "stderr",
     "output_type": "stream",
     "text": [
      "Epoch 4/1000: 100%|██████████| 422/422 [01:06<00:00,  6.34it/s, Loss=1.5900, Acc=0.3769]\n"
     ]
    },
    {
     "name": "stdout",
     "output_type": "stream",
     "text": [
      "Epoch 4/1000: Train Loss: 1.5900, Train Acc: 0.3769\n"
     ]
    },
    {
     "name": "stderr",
     "output_type": "stream",
     "text": [
      "Validation: 100%|██████████| 47/47 [00:02<00:00, 18.44it/s, Loss=1.5459, Acc=0.4017]\n"
     ]
    },
    {
     "name": "stdout",
     "output_type": "stream",
     "text": [
      "Epoch 4/1000: Val Loss: 1.5459, Val Acc: 0.4017, Val F1: 0.3637\n",
      "Current Learning Rate: 3e-05\n",
      "Best model saved at ../Experiment Augment Result/model15_augment_best.pt with accuracy: 0.4017\n"
     ]
    },
    {
     "name": "stderr",
     "output_type": "stream",
     "text": [
      "Epoch 5/1000: 100%|██████████| 422/422 [01:06<00:00,  6.30it/s, Loss=1.5580, Acc=0.3918]\n"
     ]
    },
    {
     "name": "stdout",
     "output_type": "stream",
     "text": [
      "Epoch 5/1000: Train Loss: 1.5580, Train Acc: 0.3918\n"
     ]
    },
    {
     "name": "stderr",
     "output_type": "stream",
     "text": [
      "Validation: 100%|██████████| 47/47 [00:02<00:00, 18.41it/s, Loss=1.5421, Acc=0.4023]\n"
     ]
    },
    {
     "name": "stdout",
     "output_type": "stream",
     "text": [
      "Epoch 5/1000: Val Loss: 1.5421, Val Acc: 0.4023, Val F1: 0.3784\n",
      "Current Learning Rate: 3e-05\n",
      "Best model saved at ../Experiment Augment Result/model15_augment_best.pt with accuracy: 0.4023\n"
     ]
    },
    {
     "name": "stderr",
     "output_type": "stream",
     "text": [
      "Epoch 6/1000: 100%|██████████| 422/422 [01:07<00:00,  6.25it/s, Loss=1.5408, Acc=0.3956]\n"
     ]
    },
    {
     "name": "stdout",
     "output_type": "stream",
     "text": [
      "Epoch 6/1000: Train Loss: 1.5408, Train Acc: 0.3956\n"
     ]
    },
    {
     "name": "stderr",
     "output_type": "stream",
     "text": [
      "Validation: 100%|██████████| 47/47 [00:02<00:00, 17.82it/s, Loss=1.5134, Acc=0.4190]\n"
     ]
    },
    {
     "name": "stdout",
     "output_type": "stream",
     "text": [
      "Epoch 6/1000: Val Loss: 1.5134, Val Acc: 0.4190, Val F1: 0.3947\n",
      "Current Learning Rate: 3e-05\n",
      "Best model saved at ../Experiment Augment Result/model15_augment_best.pt with accuracy: 0.4190\n"
     ]
    },
    {
     "name": "stderr",
     "output_type": "stream",
     "text": [
      "Epoch 7/1000: 100%|██████████| 422/422 [01:08<00:00,  6.20it/s, Loss=1.5230, Acc=0.4054]\n"
     ]
    },
    {
     "name": "stdout",
     "output_type": "stream",
     "text": [
      "Epoch 7/1000: Train Loss: 1.5230, Train Acc: 0.4054\n"
     ]
    },
    {
     "name": "stderr",
     "output_type": "stream",
     "text": [
      "Validation: 100%|██████████| 47/47 [00:02<00:00, 17.95it/s, Loss=1.5109, Acc=0.4127]\n"
     ]
    },
    {
     "name": "stdout",
     "output_type": "stream",
     "text": [
      "Epoch 7/1000: Val Loss: 1.5109, Val Acc: 0.4127, Val F1: 0.3944\n",
      "Current Learning Rate: 3e-05\n"
     ]
    },
    {
     "name": "stderr",
     "output_type": "stream",
     "text": [
      "Epoch 8/1000: 100%|██████████| 422/422 [01:07<00:00,  6.23it/s, Loss=1.5036, Acc=0.4093]\n"
     ]
    },
    {
     "name": "stdout",
     "output_type": "stream",
     "text": [
      "Epoch 8/1000: Train Loss: 1.5036, Train Acc: 0.4093\n"
     ]
    },
    {
     "name": "stderr",
     "output_type": "stream",
     "text": [
      "Validation: 100%|██████████| 47/47 [00:02<00:00, 17.58it/s, Loss=1.4765, Acc=0.4297]\n"
     ]
    },
    {
     "name": "stdout",
     "output_type": "stream",
     "text": [
      "Epoch 8/1000: Val Loss: 1.4765, Val Acc: 0.4297, Val F1: 0.3971\n",
      "Current Learning Rate: 3e-05\n",
      "Best model saved at ../Experiment Augment Result/model15_augment_best.pt with accuracy: 0.4297\n"
     ]
    },
    {
     "name": "stderr",
     "output_type": "stream",
     "text": [
      "Epoch 9/1000: 100%|██████████| 422/422 [01:07<00:00,  6.23it/s, Loss=1.4857, Acc=0.4187]\n"
     ]
    },
    {
     "name": "stdout",
     "output_type": "stream",
     "text": [
      "Epoch 9/1000: Train Loss: 1.4857, Train Acc: 0.4187\n"
     ]
    },
    {
     "name": "stderr",
     "output_type": "stream",
     "text": [
      "Validation: 100%|██████████| 47/47 [00:02<00:00, 17.81it/s, Loss=1.4974, Acc=0.4113]\n"
     ]
    },
    {
     "name": "stdout",
     "output_type": "stream",
     "text": [
      "Epoch 9/1000: Val Loss: 1.4974, Val Acc: 0.4113, Val F1: 0.4143\n",
      "Current Learning Rate: 3e-05\n"
     ]
    },
    {
     "name": "stderr",
     "output_type": "stream",
     "text": [
      "Epoch 10/1000: 100%|██████████| 422/422 [01:08<00:00,  6.20it/s, Loss=1.4721, Acc=0.4301]\n"
     ]
    },
    {
     "name": "stdout",
     "output_type": "stream",
     "text": [
      "Epoch 10/1000: Train Loss: 1.4721, Train Acc: 0.4301\n"
     ]
    },
    {
     "name": "stderr",
     "output_type": "stream",
     "text": [
      "Validation: 100%|██████████| 47/47 [00:02<00:00, 17.38it/s, Loss=1.4522, Acc=0.4363]\n"
     ]
    },
    {
     "name": "stdout",
     "output_type": "stream",
     "text": [
      "Epoch 10/1000: Val Loss: 1.4522, Val Acc: 0.4363, Val F1: 0.4180\n",
      "Current Learning Rate: 3e-05\n",
      "Best model saved at ../Experiment Augment Result/model15_augment_best.pt with accuracy: 0.4363\n"
     ]
    },
    {
     "name": "stderr",
     "output_type": "stream",
     "text": [
      "Epoch 11/1000: 100%|██████████| 422/422 [01:06<00:00,  6.32it/s, Loss=1.4577, Acc=0.4315]\n"
     ]
    },
    {
     "name": "stdout",
     "output_type": "stream",
     "text": [
      "Epoch 11/1000: Train Loss: 1.4577, Train Acc: 0.4315\n"
     ]
    },
    {
     "name": "stderr",
     "output_type": "stream",
     "text": [
      "Validation: 100%|██████████| 47/47 [00:02<00:00, 18.57it/s, Loss=1.4435, Acc=0.4387]\n"
     ]
    },
    {
     "name": "stdout",
     "output_type": "stream",
     "text": [
      "Epoch 11/1000: Val Loss: 1.4435, Val Acc: 0.4387, Val F1: 0.4183\n",
      "Current Learning Rate: 3e-05\n",
      "Best model saved at ../Experiment Augment Result/model15_augment_best.pt with accuracy: 0.4387\n"
     ]
    },
    {
     "name": "stderr",
     "output_type": "stream",
     "text": [
      "Epoch 12/1000: 100%|██████████| 422/422 [01:06<00:00,  6.31it/s, Loss=1.4447, Acc=0.4357]\n"
     ]
    },
    {
     "name": "stdout",
     "output_type": "stream",
     "text": [
      "Epoch 12/1000: Train Loss: 1.4447, Train Acc: 0.4357\n"
     ]
    },
    {
     "name": "stderr",
     "output_type": "stream",
     "text": [
      "Validation: 100%|██████████| 47/47 [00:02<00:00, 18.50it/s, Loss=1.4366, Acc=0.4487]\n"
     ]
    },
    {
     "name": "stdout",
     "output_type": "stream",
     "text": [
      "Epoch 12/1000: Val Loss: 1.4366, Val Acc: 0.4487, Val F1: 0.4324\n",
      "Current Learning Rate: 3e-05\n",
      "Best model saved at ../Experiment Augment Result/model15_augment_best.pt with accuracy: 0.4487\n"
     ]
    },
    {
     "name": "stderr",
     "output_type": "stream",
     "text": [
      "Epoch 13/1000: 100%|██████████| 422/422 [01:07<00:00,  6.22it/s, Loss=1.4331, Acc=0.4444]\n"
     ]
    },
    {
     "name": "stdout",
     "output_type": "stream",
     "text": [
      "Epoch 13/1000: Train Loss: 1.4331, Train Acc: 0.4444\n"
     ]
    },
    {
     "name": "stderr",
     "output_type": "stream",
     "text": [
      "Validation: 100%|██████████| 47/47 [00:02<00:00, 17.95it/s, Loss=1.4214, Acc=0.4430]\n"
     ]
    },
    {
     "name": "stdout",
     "output_type": "stream",
     "text": [
      "Epoch 13/1000: Val Loss: 1.4214, Val Acc: 0.4430, Val F1: 0.4271\n",
      "Current Learning Rate: 3e-05\n"
     ]
    },
    {
     "name": "stderr",
     "output_type": "stream",
     "text": [
      "Epoch 14/1000: 100%|██████████| 422/422 [01:08<00:00,  6.17it/s, Loss=1.4236, Acc=0.4444]\n"
     ]
    },
    {
     "name": "stdout",
     "output_type": "stream",
     "text": [
      "Epoch 14/1000: Train Loss: 1.4236, Train Acc: 0.4444\n"
     ]
    },
    {
     "name": "stderr",
     "output_type": "stream",
     "text": [
      "Validation: 100%|██████████| 47/47 [00:02<00:00, 17.95it/s, Loss=1.4545, Acc=0.4427]\n"
     ]
    },
    {
     "name": "stdout",
     "output_type": "stream",
     "text": [
      "Epoch 14/1000: Val Loss: 1.4545, Val Acc: 0.4427, Val F1: 0.4111\n",
      "Current Learning Rate: 3e-05\n"
     ]
    },
    {
     "name": "stderr",
     "output_type": "stream",
     "text": [
      "Epoch 15/1000: 100%|██████████| 422/422 [01:09<00:00,  6.11it/s, Loss=1.4105, Acc=0.4515]\n"
     ]
    },
    {
     "name": "stdout",
     "output_type": "stream",
     "text": [
      "Epoch 15/1000: Train Loss: 1.4105, Train Acc: 0.4515\n"
     ]
    },
    {
     "name": "stderr",
     "output_type": "stream",
     "text": [
      "Validation: 100%|██████████| 47/47 [00:02<00:00, 17.98it/s, Loss=1.4177, Acc=0.4553]\n"
     ]
    },
    {
     "name": "stdout",
     "output_type": "stream",
     "text": [
      "Epoch 15/1000: Val Loss: 1.4177, Val Acc: 0.4553, Val F1: 0.4473\n",
      "Current Learning Rate: 3e-05\n",
      "Best model saved at ../Experiment Augment Result/model15_augment_best.pt with accuracy: 0.4553\n"
     ]
    },
    {
     "name": "stderr",
     "output_type": "stream",
     "text": [
      "Epoch 16/1000: 100%|██████████| 422/422 [01:07<00:00,  6.28it/s, Loss=1.4008, Acc=0.4533]\n"
     ]
    },
    {
     "name": "stdout",
     "output_type": "stream",
     "text": [
      "Epoch 16/1000: Train Loss: 1.4008, Train Acc: 0.4533\n"
     ]
    },
    {
     "name": "stderr",
     "output_type": "stream",
     "text": [
      "Validation: 100%|██████████| 47/47 [00:02<00:00, 18.59it/s, Loss=1.3889, Acc=0.4587]\n"
     ]
    },
    {
     "name": "stdout",
     "output_type": "stream",
     "text": [
      "Epoch 16/1000: Val Loss: 1.3889, Val Acc: 0.4587, Val F1: 0.4452\n",
      "Current Learning Rate: 3e-05\n",
      "Best model saved at ../Experiment Augment Result/model15_augment_best.pt with accuracy: 0.4587\n"
     ]
    },
    {
     "name": "stderr",
     "output_type": "stream",
     "text": [
      "Epoch 17/1000: 100%|██████████| 422/422 [01:07<00:00,  6.26it/s, Loss=1.3886, Acc=0.4615]\n"
     ]
    },
    {
     "name": "stdout",
     "output_type": "stream",
     "text": [
      "Epoch 17/1000: Train Loss: 1.3886, Train Acc: 0.4615\n"
     ]
    },
    {
     "name": "stderr",
     "output_type": "stream",
     "text": [
      "Validation: 100%|██████████| 47/47 [00:02<00:00, 18.62it/s, Loss=1.4003, Acc=0.4490]\n"
     ]
    },
    {
     "name": "stdout",
     "output_type": "stream",
     "text": [
      "Epoch 17/1000: Val Loss: 1.4003, Val Acc: 0.4490, Val F1: 0.4184\n",
      "Current Learning Rate: 3e-05\n"
     ]
    },
    {
     "name": "stderr",
     "output_type": "stream",
     "text": [
      "Epoch 18/1000: 100%|██████████| 422/422 [01:07<00:00,  6.29it/s, Loss=1.3792, Acc=0.4647]\n"
     ]
    },
    {
     "name": "stdout",
     "output_type": "stream",
     "text": [
      "Epoch 18/1000: Train Loss: 1.3792, Train Acc: 0.4647\n"
     ]
    },
    {
     "name": "stderr",
     "output_type": "stream",
     "text": [
      "Validation: 100%|██████████| 47/47 [00:02<00:00, 17.86it/s, Loss=1.3987, Acc=0.4620]\n"
     ]
    },
    {
     "name": "stdout",
     "output_type": "stream",
     "text": [
      "Epoch 18/1000: Val Loss: 1.3987, Val Acc: 0.4620, Val F1: 0.4538\n",
      "Current Learning Rate: 3e-05\n",
      "Best model saved at ../Experiment Augment Result/model15_augment_best.pt with accuracy: 0.4620\n"
     ]
    },
    {
     "name": "stderr",
     "output_type": "stream",
     "text": [
      "Epoch 19/1000: 100%|██████████| 422/422 [01:07<00:00,  6.24it/s, Loss=1.3691, Acc=0.4710]\n"
     ]
    },
    {
     "name": "stdout",
     "output_type": "stream",
     "text": [
      "Epoch 19/1000: Train Loss: 1.3691, Train Acc: 0.4710\n"
     ]
    },
    {
     "name": "stderr",
     "output_type": "stream",
     "text": [
      "Validation: 100%|██████████| 47/47 [00:02<00:00, 18.56it/s, Loss=1.4139, Acc=0.4453]\n"
     ]
    },
    {
     "name": "stdout",
     "output_type": "stream",
     "text": [
      "Epoch 19/1000: Val Loss: 1.4139, Val Acc: 0.4453, Val F1: 0.4168\n",
      "Current Learning Rate: 3e-05\n"
     ]
    },
    {
     "name": "stderr",
     "output_type": "stream",
     "text": [
      "Epoch 20/1000: 100%|██████████| 422/422 [01:07<00:00,  6.28it/s, Loss=1.3552, Acc=0.4787]\n"
     ]
    },
    {
     "name": "stdout",
     "output_type": "stream",
     "text": [
      "Epoch 20/1000: Train Loss: 1.3552, Train Acc: 0.4787\n"
     ]
    },
    {
     "name": "stderr",
     "output_type": "stream",
     "text": [
      "Validation: 100%|██████████| 47/47 [00:02<00:00, 18.53it/s, Loss=1.3878, Acc=0.4550]\n"
     ]
    },
    {
     "name": "stdout",
     "output_type": "stream",
     "text": [
      "Epoch 20/1000: Val Loss: 1.3878, Val Acc: 0.4550, Val F1: 0.4336\n",
      "Current Learning Rate: 3e-05\n"
     ]
    },
    {
     "name": "stderr",
     "output_type": "stream",
     "text": [
      "Epoch 21/1000: 100%|██████████| 422/422 [01:06<00:00,  6.32it/s, Loss=1.3427, Acc=0.4823]\n"
     ]
    },
    {
     "name": "stdout",
     "output_type": "stream",
     "text": [
      "Epoch 21/1000: Train Loss: 1.3427, Train Acc: 0.4823\n"
     ]
    },
    {
     "name": "stderr",
     "output_type": "stream",
     "text": [
      "Validation: 100%|██████████| 47/47 [00:02<00:00, 18.57it/s, Loss=1.3660, Acc=0.4633]\n"
     ]
    },
    {
     "name": "stdout",
     "output_type": "stream",
     "text": [
      "Epoch 21/1000: Val Loss: 1.3660, Val Acc: 0.4633, Val F1: 0.4555\n",
      "Current Learning Rate: 3e-05\n",
      "Best model saved at ../Experiment Augment Result/model15_augment_best.pt with accuracy: 0.4633\n"
     ]
    },
    {
     "name": "stderr",
     "output_type": "stream",
     "text": [
      "Epoch 22/1000: 100%|██████████| 422/422 [01:07<00:00,  6.29it/s, Loss=1.3319, Acc=0.4838]\n"
     ]
    },
    {
     "name": "stdout",
     "output_type": "stream",
     "text": [
      "Epoch 22/1000: Train Loss: 1.3319, Train Acc: 0.4838\n"
     ]
    },
    {
     "name": "stderr",
     "output_type": "stream",
     "text": [
      "Validation: 100%|██████████| 47/47 [00:02<00:00, 18.37it/s, Loss=1.3665, Acc=0.4693]\n"
     ]
    },
    {
     "name": "stdout",
     "output_type": "stream",
     "text": [
      "Epoch 22/1000: Val Loss: 1.3665, Val Acc: 0.4693, Val F1: 0.4483\n",
      "Current Learning Rate: 3e-05\n",
      "Best model saved at ../Experiment Augment Result/model15_augment_best.pt with accuracy: 0.4693\n"
     ]
    },
    {
     "name": "stderr",
     "output_type": "stream",
     "text": [
      "Epoch 23/1000: 100%|██████████| 422/422 [01:07<00:00,  6.25it/s, Loss=1.3281, Acc=0.4878]\n"
     ]
    },
    {
     "name": "stdout",
     "output_type": "stream",
     "text": [
      "Epoch 23/1000: Train Loss: 1.3281, Train Acc: 0.4878\n"
     ]
    },
    {
     "name": "stderr",
     "output_type": "stream",
     "text": [
      "Validation: 100%|██████████| 47/47 [00:02<00:00, 17.97it/s, Loss=1.3458, Acc=0.4767]\n"
     ]
    },
    {
     "name": "stdout",
     "output_type": "stream",
     "text": [
      "Epoch 23/1000: Val Loss: 1.3458, Val Acc: 0.4767, Val F1: 0.4631\n",
      "Current Learning Rate: 3e-05\n",
      "Best model saved at ../Experiment Augment Result/model15_augment_best.pt with accuracy: 0.4767\n"
     ]
    },
    {
     "name": "stderr",
     "output_type": "stream",
     "text": [
      "Epoch 24/1000: 100%|██████████| 422/422 [01:07<00:00,  6.25it/s, Loss=1.3127, Acc=0.4927]\n"
     ]
    },
    {
     "name": "stdout",
     "output_type": "stream",
     "text": [
      "Epoch 24/1000: Train Loss: 1.3127, Train Acc: 0.4927\n"
     ]
    },
    {
     "name": "stderr",
     "output_type": "stream",
     "text": [
      "Validation: 100%|██████████| 47/47 [00:02<00:00, 18.58it/s, Loss=1.3564, Acc=0.4683]\n"
     ]
    },
    {
     "name": "stdout",
     "output_type": "stream",
     "text": [
      "Epoch 24/1000: Val Loss: 1.3564, Val Acc: 0.4683, Val F1: 0.4647\n",
      "Current Learning Rate: 3e-05\n"
     ]
    },
    {
     "name": "stderr",
     "output_type": "stream",
     "text": [
      "Epoch 25/1000: 100%|██████████| 422/422 [01:06<00:00,  6.30it/s, Loss=1.3084, Acc=0.4954]\n"
     ]
    },
    {
     "name": "stdout",
     "output_type": "stream",
     "text": [
      "Epoch 25/1000: Train Loss: 1.3084, Train Acc: 0.4954\n"
     ]
    },
    {
     "name": "stderr",
     "output_type": "stream",
     "text": [
      "Validation: 100%|██████████| 47/47 [00:02<00:00, 18.28it/s, Loss=1.3499, Acc=0.4683]\n"
     ]
    },
    {
     "name": "stdout",
     "output_type": "stream",
     "text": [
      "Epoch 25/1000: Val Loss: 1.3499, Val Acc: 0.4683, Val F1: 0.4565\n",
      "Current Learning Rate: 3e-05\n"
     ]
    },
    {
     "name": "stderr",
     "output_type": "stream",
     "text": [
      "Epoch 26/1000: 100%|██████████| 422/422 [01:06<00:00,  6.31it/s, Loss=1.2992, Acc=0.4956]\n"
     ]
    },
    {
     "name": "stdout",
     "output_type": "stream",
     "text": [
      "Epoch 26/1000: Train Loss: 1.2992, Train Acc: 0.4956\n"
     ]
    },
    {
     "name": "stderr",
     "output_type": "stream",
     "text": [
      "Validation: 100%|██████████| 47/47 [00:02<00:00, 18.57it/s, Loss=1.3587, Acc=0.4683]\n"
     ]
    },
    {
     "name": "stdout",
     "output_type": "stream",
     "text": [
      "Epoch 26/1000: Val Loss: 1.3587, Val Acc: 0.4683, Val F1: 0.4573\n",
      "Current Learning Rate: 3e-05\n"
     ]
    },
    {
     "name": "stderr",
     "output_type": "stream",
     "text": [
      "Epoch 27/1000: 100%|██████████| 422/422 [01:06<00:00,  6.31it/s, Loss=1.2792, Acc=0.5072]\n"
     ]
    },
    {
     "name": "stdout",
     "output_type": "stream",
     "text": [
      "Epoch 27/1000: Train Loss: 1.2792, Train Acc: 0.5072\n"
     ]
    },
    {
     "name": "stderr",
     "output_type": "stream",
     "text": [
      "Validation: 100%|██████████| 47/47 [00:02<00:00, 18.42it/s, Loss=1.3648, Acc=0.4750]\n"
     ]
    },
    {
     "name": "stdout",
     "output_type": "stream",
     "text": [
      "Epoch 27/1000: Val Loss: 1.3648, Val Acc: 0.4750, Val F1: 0.4468\n",
      "Current Learning Rate: 3e-05\n"
     ]
    },
    {
     "name": "stderr",
     "output_type": "stream",
     "text": [
      "Epoch 28/1000: 100%|██████████| 422/422 [01:06<00:00,  6.30it/s, Loss=1.2764, Acc=0.5083]\n"
     ]
    },
    {
     "name": "stdout",
     "output_type": "stream",
     "text": [
      "Epoch 28/1000: Train Loss: 1.2764, Train Acc: 0.5083\n"
     ]
    },
    {
     "name": "stderr",
     "output_type": "stream",
     "text": [
      "Validation: 100%|██████████| 47/47 [00:02<00:00, 18.53it/s, Loss=1.3588, Acc=0.4750]\n"
     ]
    },
    {
     "name": "stdout",
     "output_type": "stream",
     "text": [
      "Epoch 28/1000: Val Loss: 1.3588, Val Acc: 0.4750, Val F1: 0.4633\n",
      "Current Learning Rate: 3e-05\n"
     ]
    },
    {
     "name": "stderr",
     "output_type": "stream",
     "text": [
      "Epoch 29/1000: 100%|██████████| 422/422 [01:06<00:00,  6.32it/s, Loss=1.2715, Acc=0.5131]\n"
     ]
    },
    {
     "name": "stdout",
     "output_type": "stream",
     "text": [
      "Epoch 29/1000: Train Loss: 1.2715, Train Acc: 0.5131\n"
     ]
    },
    {
     "name": "stderr",
     "output_type": "stream",
     "text": [
      "Validation: 100%|██████████| 47/47 [00:02<00:00, 18.54it/s, Loss=1.3501, Acc=0.4810]\n"
     ]
    },
    {
     "name": "stdout",
     "output_type": "stream",
     "text": [
      "Epoch 29/1000: Val Loss: 1.3501, Val Acc: 0.4810, Val F1: 0.4580\n",
      "Current Learning Rate: 3e-06\n",
      "Best model saved at ../Experiment Augment Result/model15_augment_best.pt with accuracy: 0.4810\n"
     ]
    },
    {
     "name": "stderr",
     "output_type": "stream",
     "text": [
      "Epoch 30/1000: 100%|██████████| 422/422 [01:09<00:00,  6.09it/s, Loss=1.2197, Acc=0.5335]\n"
     ]
    },
    {
     "name": "stdout",
     "output_type": "stream",
     "text": [
      "Epoch 30/1000: Train Loss: 1.2197, Train Acc: 0.5335\n"
     ]
    },
    {
     "name": "stderr",
     "output_type": "stream",
     "text": [
      "Validation: 100%|██████████| 47/47 [00:02<00:00, 18.57it/s, Loss=1.3092, Acc=0.4983]\n"
     ]
    },
    {
     "name": "stdout",
     "output_type": "stream",
     "text": [
      "Epoch 30/1000: Val Loss: 1.3092, Val Acc: 0.4983, Val F1: 0.4878\n",
      "Current Learning Rate: 3e-06\n",
      "Best model saved at ../Experiment Augment Result/model15_augment_best.pt with accuracy: 0.4983\n"
     ]
    },
    {
     "name": "stderr",
     "output_type": "stream",
     "text": [
      "Epoch 31/1000: 100%|██████████| 422/422 [01:07<00:00,  6.24it/s, Loss=1.2058, Acc=0.5362]\n"
     ]
    },
    {
     "name": "stdout",
     "output_type": "stream",
     "text": [
      "Epoch 31/1000: Train Loss: 1.2058, Train Acc: 0.5362\n"
     ]
    },
    {
     "name": "stderr",
     "output_type": "stream",
     "text": [
      "Validation: 100%|██████████| 47/47 [00:02<00:00, 17.90it/s, Loss=1.3069, Acc=0.4983]\n"
     ]
    },
    {
     "name": "stdout",
     "output_type": "stream",
     "text": [
      "Epoch 31/1000: Val Loss: 1.3069, Val Acc: 0.4983, Val F1: 0.4875\n",
      "Current Learning Rate: 3e-06\n"
     ]
    },
    {
     "name": "stderr",
     "output_type": "stream",
     "text": [
      "Epoch 32/1000: 100%|██████████| 422/422 [01:08<00:00,  6.19it/s, Loss=1.1890, Acc=0.5437]\n"
     ]
    },
    {
     "name": "stdout",
     "output_type": "stream",
     "text": [
      "Epoch 32/1000: Train Loss: 1.1890, Train Acc: 0.5437\n"
     ]
    },
    {
     "name": "stderr",
     "output_type": "stream",
     "text": [
      "Validation: 100%|██████████| 47/47 [00:02<00:00, 17.89it/s, Loss=1.3064, Acc=0.4980]\n"
     ]
    },
    {
     "name": "stdout",
     "output_type": "stream",
     "text": [
      "Epoch 32/1000: Val Loss: 1.3064, Val Acc: 0.4980, Val F1: 0.4863\n",
      "Current Learning Rate: 3e-06\n"
     ]
    },
    {
     "name": "stderr",
     "output_type": "stream",
     "text": [
      "Epoch 33/1000: 100%|██████████| 422/422 [01:07<00:00,  6.22it/s, Loss=1.1844, Acc=0.5450]\n"
     ]
    },
    {
     "name": "stdout",
     "output_type": "stream",
     "text": [
      "Epoch 33/1000: Train Loss: 1.1844, Train Acc: 0.5450\n"
     ]
    },
    {
     "name": "stderr",
     "output_type": "stream",
     "text": [
      "Validation: 100%|██████████| 47/47 [00:02<00:00, 17.86it/s, Loss=1.3031, Acc=0.4957]\n"
     ]
    },
    {
     "name": "stdout",
     "output_type": "stream",
     "text": [
      "Epoch 33/1000: Val Loss: 1.3031, Val Acc: 0.4957, Val F1: 0.4838\n",
      "Current Learning Rate: 3e-06\n"
     ]
    },
    {
     "name": "stderr",
     "output_type": "stream",
     "text": [
      "Epoch 34/1000: 100%|██████████| 422/422 [01:07<00:00,  6.28it/s, Loss=1.1798, Acc=0.5476]\n"
     ]
    },
    {
     "name": "stdout",
     "output_type": "stream",
     "text": [
      "Epoch 34/1000: Train Loss: 1.1798, Train Acc: 0.5476\n"
     ]
    },
    {
     "name": "stderr",
     "output_type": "stream",
     "text": [
      "Validation: 100%|██████████| 47/47 [00:02<00:00, 18.56it/s, Loss=1.2977, Acc=0.4983]\n"
     ]
    },
    {
     "name": "stdout",
     "output_type": "stream",
     "text": [
      "Epoch 34/1000: Val Loss: 1.2977, Val Acc: 0.4983, Val F1: 0.4907\n",
      "Current Learning Rate: 3e-06\n"
     ]
    },
    {
     "name": "stderr",
     "output_type": "stream",
     "text": [
      "Epoch 35/1000: 100%|██████████| 422/422 [01:06<00:00,  6.30it/s, Loss=1.1745, Acc=0.5507]\n"
     ]
    },
    {
     "name": "stdout",
     "output_type": "stream",
     "text": [
      "Epoch 35/1000: Train Loss: 1.1745, Train Acc: 0.5507\n"
     ]
    },
    {
     "name": "stderr",
     "output_type": "stream",
     "text": [
      "Validation: 100%|██████████| 47/47 [00:02<00:00, 18.52it/s, Loss=1.2975, Acc=0.4970]\n"
     ]
    },
    {
     "name": "stdout",
     "output_type": "stream",
     "text": [
      "Epoch 35/1000: Val Loss: 1.2975, Val Acc: 0.4970, Val F1: 0.4874\n",
      "Current Learning Rate: 3e-06\n"
     ]
    },
    {
     "name": "stderr",
     "output_type": "stream",
     "text": [
      "Epoch 36/1000: 100%|██████████| 422/422 [01:06<00:00,  6.32it/s, Loss=1.1644, Acc=0.5541]\n"
     ]
    },
    {
     "name": "stdout",
     "output_type": "stream",
     "text": [
      "Epoch 36/1000: Train Loss: 1.1644, Train Acc: 0.5541\n"
     ]
    },
    {
     "name": "stderr",
     "output_type": "stream",
     "text": [
      "Validation: 100%|██████████| 47/47 [00:02<00:00, 18.33it/s, Loss=1.3004, Acc=0.4997]\n"
     ]
    },
    {
     "name": "stdout",
     "output_type": "stream",
     "text": [
      "Epoch 36/1000: Val Loss: 1.3004, Val Acc: 0.4997, Val F1: 0.4890\n",
      "Current Learning Rate: 3e-06\n",
      "Best model saved at ../Experiment Augment Result/model15_augment_best.pt with accuracy: 0.4997\n"
     ]
    },
    {
     "name": "stderr",
     "output_type": "stream",
     "text": [
      "Epoch 37/1000: 100%|██████████| 422/422 [01:08<00:00,  6.13it/s, Loss=1.1626, Acc=0.5553]\n"
     ]
    },
    {
     "name": "stdout",
     "output_type": "stream",
     "text": [
      "Epoch 37/1000: Train Loss: 1.1626, Train Acc: 0.5553\n"
     ]
    },
    {
     "name": "stderr",
     "output_type": "stream",
     "text": [
      "Validation: 100%|██████████| 47/47 [00:02<00:00, 17.81it/s, Loss=1.2933, Acc=0.5010]\n"
     ]
    },
    {
     "name": "stdout",
     "output_type": "stream",
     "text": [
      "Epoch 37/1000: Val Loss: 1.2933, Val Acc: 0.5010, Val F1: 0.4900\n",
      "Current Learning Rate: 3e-06\n",
      "Best model saved at ../Experiment Augment Result/model15_augment_best.pt with accuracy: 0.5010\n"
     ]
    },
    {
     "name": "stderr",
     "output_type": "stream",
     "text": [
      "Epoch 38/1000: 100%|██████████| 422/422 [01:07<00:00,  6.27it/s, Loss=1.1635, Acc=0.5533]\n"
     ]
    },
    {
     "name": "stdout",
     "output_type": "stream",
     "text": [
      "Epoch 38/1000: Train Loss: 1.1635, Train Acc: 0.5533\n"
     ]
    },
    {
     "name": "stderr",
     "output_type": "stream",
     "text": [
      "Validation: 100%|██████████| 47/47 [00:02<00:00, 18.58it/s, Loss=1.2902, Acc=0.4983]\n"
     ]
    },
    {
     "name": "stdout",
     "output_type": "stream",
     "text": [
      "Epoch 38/1000: Val Loss: 1.2902, Val Acc: 0.4983, Val F1: 0.4876\n",
      "Current Learning Rate: 3e-06\n"
     ]
    },
    {
     "name": "stderr",
     "output_type": "stream",
     "text": [
      "Epoch 39/1000: 100%|██████████| 422/422 [01:06<00:00,  6.31it/s, Loss=1.1583, Acc=0.5581]\n"
     ]
    },
    {
     "name": "stdout",
     "output_type": "stream",
     "text": [
      "Epoch 39/1000: Train Loss: 1.1583, Train Acc: 0.5581\n"
     ]
    },
    {
     "name": "stderr",
     "output_type": "stream",
     "text": [
      "Validation: 100%|██████████| 47/47 [00:02<00:00, 18.56it/s, Loss=1.2889, Acc=0.5010]\n"
     ]
    },
    {
     "name": "stdout",
     "output_type": "stream",
     "text": [
      "Epoch 39/1000: Val Loss: 1.2889, Val Acc: 0.5010, Val F1: 0.4906\n",
      "Current Learning Rate: 3e-06\n"
     ]
    },
    {
     "name": "stderr",
     "output_type": "stream",
     "text": [
      "Epoch 40/1000: 100%|██████████| 422/422 [01:07<00:00,  6.27it/s, Loss=1.1559, Acc=0.5582]\n"
     ]
    },
    {
     "name": "stdout",
     "output_type": "stream",
     "text": [
      "Epoch 40/1000: Train Loss: 1.1559, Train Acc: 0.5582\n"
     ]
    },
    {
     "name": "stderr",
     "output_type": "stream",
     "text": [
      "Validation: 100%|██████████| 47/47 [00:02<00:00, 18.59it/s, Loss=1.2877, Acc=0.5003]\n"
     ]
    },
    {
     "name": "stdout",
     "output_type": "stream",
     "text": [
      "Epoch 40/1000: Val Loss: 1.2877, Val Acc: 0.5003, Val F1: 0.4952\n",
      "Current Learning Rate: 3e-06\n"
     ]
    },
    {
     "name": "stderr",
     "output_type": "stream",
     "text": [
      "Epoch 41/1000: 100%|██████████| 422/422 [01:11<00:00,  5.92it/s, Loss=1.1497, Acc=0.5609]\n"
     ]
    },
    {
     "name": "stdout",
     "output_type": "stream",
     "text": [
      "Epoch 41/1000: Train Loss: 1.1497, Train Acc: 0.5609\n"
     ]
    },
    {
     "name": "stderr",
     "output_type": "stream",
     "text": [
      "Validation: 100%|██████████| 47/47 [00:02<00:00, 18.55it/s, Loss=1.2908, Acc=0.4987]\n"
     ]
    },
    {
     "name": "stdout",
     "output_type": "stream",
     "text": [
      "Epoch 41/1000: Val Loss: 1.2908, Val Acc: 0.4987, Val F1: 0.4884\n",
      "Current Learning Rate: 3e-06\n"
     ]
    },
    {
     "name": "stderr",
     "output_type": "stream",
     "text": [
      "Epoch 42/1000: 100%|██████████| 422/422 [01:08<00:00,  6.16it/s, Loss=1.1516, Acc=0.5609]\n"
     ]
    },
    {
     "name": "stdout",
     "output_type": "stream",
     "text": [
      "Epoch 42/1000: Train Loss: 1.1516, Train Acc: 0.5609\n"
     ]
    },
    {
     "name": "stderr",
     "output_type": "stream",
     "text": [
      "Validation: 100%|██████████| 47/47 [00:02<00:00, 18.60it/s, Loss=1.2888, Acc=0.4997]\n"
     ]
    },
    {
     "name": "stdout",
     "output_type": "stream",
     "text": [
      "Epoch 42/1000: Val Loss: 1.2888, Val Acc: 0.4997, Val F1: 0.4895\n",
      "Current Learning Rate: 3e-06\n"
     ]
    },
    {
     "name": "stderr",
     "output_type": "stream",
     "text": [
      "Epoch 43/1000: 100%|██████████| 422/422 [01:06<00:00,  6.33it/s, Loss=1.1467, Acc=0.5628]\n"
     ]
    },
    {
     "name": "stdout",
     "output_type": "stream",
     "text": [
      "Epoch 43/1000: Train Loss: 1.1467, Train Acc: 0.5628\n"
     ]
    },
    {
     "name": "stderr",
     "output_type": "stream",
     "text": [
      "Validation: 100%|██████████| 47/47 [00:02<00:00, 18.26it/s, Loss=1.2885, Acc=0.5003]\n"
     ]
    },
    {
     "name": "stdout",
     "output_type": "stream",
     "text": [
      "Epoch 43/1000: Val Loss: 1.2885, Val Acc: 0.5003, Val F1: 0.4940\n",
      "Current Learning Rate: 3e-06\n"
     ]
    },
    {
     "name": "stderr",
     "output_type": "stream",
     "text": [
      "Epoch 44/1000: 100%|██████████| 422/422 [01:06<00:00,  6.31it/s, Loss=1.1387, Acc=0.5651]\n"
     ]
    },
    {
     "name": "stdout",
     "output_type": "stream",
     "text": [
      "Epoch 44/1000: Train Loss: 1.1387, Train Acc: 0.5651\n"
     ]
    },
    {
     "name": "stderr",
     "output_type": "stream",
     "text": [
      "Validation: 100%|██████████| 47/47 [00:02<00:00, 18.61it/s, Loss=1.2902, Acc=0.5060]\n"
     ]
    },
    {
     "name": "stdout",
     "output_type": "stream",
     "text": [
      "Epoch 44/1000: Val Loss: 1.2902, Val Acc: 0.5060, Val F1: 0.5007\n",
      "Current Learning Rate: 3e-06\n",
      "Best model saved at ../Experiment Augment Result/model15_augment_best.pt with accuracy: 0.5060\n"
     ]
    },
    {
     "name": "stderr",
     "output_type": "stream",
     "text": [
      "Epoch 45/1000: 100%|██████████| 422/422 [01:07<00:00,  6.27it/s, Loss=1.1353, Acc=0.5641]\n"
     ]
    },
    {
     "name": "stdout",
     "output_type": "stream",
     "text": [
      "Epoch 45/1000: Train Loss: 1.1353, Train Acc: 0.5641\n"
     ]
    },
    {
     "name": "stderr",
     "output_type": "stream",
     "text": [
      "Validation: 100%|██████████| 47/47 [00:02<00:00, 18.29it/s, Loss=1.2884, Acc=0.5040]\n"
     ]
    },
    {
     "name": "stdout",
     "output_type": "stream",
     "text": [
      "Epoch 45/1000: Val Loss: 1.2884, Val Acc: 0.5040, Val F1: 0.4967\n",
      "Current Learning Rate: 3e-06\n"
     ]
    },
    {
     "name": "stderr",
     "output_type": "stream",
     "text": [
      "Epoch 46/1000: 100%|██████████| 422/422 [01:06<00:00,  6.31it/s, Loss=1.1337, Acc=0.5646]\n"
     ]
    },
    {
     "name": "stdout",
     "output_type": "stream",
     "text": [
      "Epoch 46/1000: Train Loss: 1.1337, Train Acc: 0.5646\n"
     ]
    },
    {
     "name": "stderr",
     "output_type": "stream",
     "text": [
      "Validation: 100%|██████████| 47/47 [00:02<00:00, 18.32it/s, Loss=1.2890, Acc=0.5027]\n"
     ]
    },
    {
     "name": "stdout",
     "output_type": "stream",
     "text": [
      "Epoch 46/1000: Val Loss: 1.2890, Val Acc: 0.5027, Val F1: 0.4959\n",
      "Current Learning Rate: 3.0000000000000004e-07\n"
     ]
    },
    {
     "name": "stderr",
     "output_type": "stream",
     "text": [
      "Epoch 47/1000: 100%|██████████| 422/422 [01:07<00:00,  6.24it/s, Loss=1.1223, Acc=0.5717]\n"
     ]
    },
    {
     "name": "stdout",
     "output_type": "stream",
     "text": [
      "Epoch 47/1000: Train Loss: 1.1223, Train Acc: 0.5717\n"
     ]
    },
    {
     "name": "stderr",
     "output_type": "stream",
     "text": [
      "Validation: 100%|██████████| 47/47 [00:02<00:00, 17.87it/s, Loss=1.2861, Acc=0.5040]\n"
     ]
    },
    {
     "name": "stdout",
     "output_type": "stream",
     "text": [
      "Epoch 47/1000: Val Loss: 1.2861, Val Acc: 0.5040, Val F1: 0.4970\n",
      "Current Learning Rate: 3.0000000000000004e-07\n"
     ]
    },
    {
     "name": "stderr",
     "output_type": "stream",
     "text": [
      "Epoch 48/1000: 100%|██████████| 422/422 [01:07<00:00,  6.21it/s, Loss=1.1277, Acc=0.5706]\n"
     ]
    },
    {
     "name": "stdout",
     "output_type": "stream",
     "text": [
      "Epoch 48/1000: Train Loss: 1.1277, Train Acc: 0.5706\n"
     ]
    },
    {
     "name": "stderr",
     "output_type": "stream",
     "text": [
      "Validation: 100%|██████████| 47/47 [00:02<00:00, 17.90it/s, Loss=1.2853, Acc=0.5020]\n"
     ]
    },
    {
     "name": "stdout",
     "output_type": "stream",
     "text": [
      "Epoch 48/1000: Val Loss: 1.2853, Val Acc: 0.5020, Val F1: 0.4946\n",
      "Current Learning Rate: 3.0000000000000004e-07\n"
     ]
    },
    {
     "name": "stderr",
     "output_type": "stream",
     "text": [
      "Epoch 49/1000: 100%|██████████| 422/422 [01:07<00:00,  6.24it/s, Loss=1.1233, Acc=0.5743]\n"
     ]
    },
    {
     "name": "stdout",
     "output_type": "stream",
     "text": [
      "Epoch 49/1000: Train Loss: 1.1233, Train Acc: 0.5743\n"
     ]
    },
    {
     "name": "stderr",
     "output_type": "stream",
     "text": [
      "Validation: 100%|██████████| 47/47 [00:02<00:00, 17.95it/s, Loss=1.2851, Acc=0.5013]\n"
     ]
    },
    {
     "name": "stdout",
     "output_type": "stream",
     "text": [
      "Epoch 49/1000: Val Loss: 1.2851, Val Acc: 0.5013, Val F1: 0.4936\n",
      "Current Learning Rate: 3.0000000000000004e-07\n"
     ]
    },
    {
     "name": "stderr",
     "output_type": "stream",
     "text": [
      "Epoch 50/1000: 100%|██████████| 422/422 [01:07<00:00,  6.25it/s, Loss=1.1266, Acc=0.5673]\n"
     ]
    },
    {
     "name": "stdout",
     "output_type": "stream",
     "text": [
      "Epoch 50/1000: Train Loss: 1.1266, Train Acc: 0.5673\n"
     ]
    },
    {
     "name": "stderr",
     "output_type": "stream",
     "text": [
      "Validation: 100%|██████████| 47/47 [00:02<00:00, 17.71it/s, Loss=1.2857, Acc=0.5027]\n"
     ]
    },
    {
     "name": "stdout",
     "output_type": "stream",
     "text": [
      "Epoch 50/1000: Val Loss: 1.2857, Val Acc: 0.5027, Val F1: 0.4950\n",
      "Current Learning Rate: 3.0000000000000004e-07\n"
     ]
    },
    {
     "name": "stderr",
     "output_type": "stream",
     "text": [
      "Epoch 51/1000: 100%|██████████| 422/422 [01:07<00:00,  6.21it/s, Loss=1.1246, Acc=0.5707]\n"
     ]
    },
    {
     "name": "stdout",
     "output_type": "stream",
     "text": [
      "Epoch 51/1000: Train Loss: 1.1246, Train Acc: 0.5707\n"
     ]
    },
    {
     "name": "stderr",
     "output_type": "stream",
     "text": [
      "Validation: 100%|██████████| 47/47 [00:02<00:00, 17.89it/s, Loss=1.2842, Acc=0.5030]\n"
     ]
    },
    {
     "name": "stdout",
     "output_type": "stream",
     "text": [
      "Epoch 51/1000: Val Loss: 1.2842, Val Acc: 0.5030, Val F1: 0.4954\n",
      "Current Learning Rate: 3.0000000000000004e-07\n"
     ]
    },
    {
     "name": "stderr",
     "output_type": "stream",
     "text": [
      "Epoch 52/1000: 100%|██████████| 422/422 [01:07<00:00,  6.28it/s, Loss=1.1214, Acc=0.5709]\n"
     ]
    },
    {
     "name": "stdout",
     "output_type": "stream",
     "text": [
      "Epoch 52/1000: Train Loss: 1.1214, Train Acc: 0.5709\n"
     ]
    },
    {
     "name": "stderr",
     "output_type": "stream",
     "text": [
      "Validation: 100%|██████████| 47/47 [00:02<00:00, 18.55it/s, Loss=1.2841, Acc=0.5060]\n"
     ]
    },
    {
     "name": "stdout",
     "output_type": "stream",
     "text": [
      "Epoch 52/1000: Val Loss: 1.2841, Val Acc: 0.5060, Val F1: 0.4996\n",
      "Current Learning Rate: 3.0000000000000004e-07\n"
     ]
    },
    {
     "name": "stderr",
     "output_type": "stream",
     "text": [
      "Epoch 53/1000: 100%|██████████| 422/422 [01:07<00:00,  6.28it/s, Loss=1.1267, Acc=0.5695]\n"
     ]
    },
    {
     "name": "stdout",
     "output_type": "stream",
     "text": [
      "Epoch 53/1000: Train Loss: 1.1267, Train Acc: 0.5695\n"
     ]
    },
    {
     "name": "stderr",
     "output_type": "stream",
     "text": [
      "Validation: 100%|██████████| 47/47 [00:02<00:00, 18.14it/s, Loss=1.2836, Acc=0.5047]\n"
     ]
    },
    {
     "name": "stdout",
     "output_type": "stream",
     "text": [
      "Epoch 53/1000: Val Loss: 1.2836, Val Acc: 0.5047, Val F1: 0.4968\n",
      "Current Learning Rate: 3.0000000000000004e-07\n"
     ]
    },
    {
     "name": "stderr",
     "output_type": "stream",
     "text": [
      "Epoch 54/1000: 100%|██████████| 422/422 [01:07<00:00,  6.25it/s, Loss=1.1173, Acc=0.5777]\n"
     ]
    },
    {
     "name": "stdout",
     "output_type": "stream",
     "text": [
      "Epoch 54/1000: Train Loss: 1.1173, Train Acc: 0.5777\n"
     ]
    },
    {
     "name": "stderr",
     "output_type": "stream",
     "text": [
      "Validation: 100%|██████████| 47/47 [00:02<00:00, 18.60it/s, Loss=1.2838, Acc=0.5043]\n"
     ]
    },
    {
     "name": "stdout",
     "output_type": "stream",
     "text": [
      "Epoch 54/1000: Val Loss: 1.2838, Val Acc: 0.5043, Val F1: 0.4967\n",
      "Current Learning Rate: 3.0000000000000004e-07\n"
     ]
    },
    {
     "name": "stderr",
     "output_type": "stream",
     "text": [
      "Epoch 55/1000: 100%|██████████| 422/422 [01:06<00:00,  6.30it/s, Loss=1.1212, Acc=0.5723]\n"
     ]
    },
    {
     "name": "stdout",
     "output_type": "stream",
     "text": [
      "Epoch 55/1000: Train Loss: 1.1212, Train Acc: 0.5723\n"
     ]
    },
    {
     "name": "stderr",
     "output_type": "stream",
     "text": [
      "Validation: 100%|██████████| 47/47 [00:02<00:00, 18.51it/s, Loss=1.2842, Acc=0.5037]\n"
     ]
    },
    {
     "name": "stdout",
     "output_type": "stream",
     "text": [
      "Epoch 55/1000: Val Loss: 1.2842, Val Acc: 0.5037, Val F1: 0.4966\n",
      "Current Learning Rate: 3.0000000000000004e-07\n"
     ]
    },
    {
     "name": "stderr",
     "output_type": "stream",
     "text": [
      "Epoch 56/1000: 100%|██████████| 422/422 [01:07<00:00,  6.29it/s, Loss=1.1204, Acc=0.5714]\n"
     ]
    },
    {
     "name": "stdout",
     "output_type": "stream",
     "text": [
      "Epoch 56/1000: Train Loss: 1.1204, Train Acc: 0.5714\n"
     ]
    },
    {
     "name": "stderr",
     "output_type": "stream",
     "text": [
      "Validation: 100%|██████████| 47/47 [00:02<00:00, 18.61it/s, Loss=1.2836, Acc=0.5033]\n"
     ]
    },
    {
     "name": "stdout",
     "output_type": "stream",
     "text": [
      "Epoch 56/1000: Val Loss: 1.2836, Val Acc: 0.5033, Val F1: 0.4961\n",
      "Current Learning Rate: 3.0000000000000004e-07\n"
     ]
    },
    {
     "name": "stderr",
     "output_type": "stream",
     "text": [
      "Epoch 57/1000: 100%|██████████| 422/422 [01:07<00:00,  6.23it/s, Loss=1.1210, Acc=0.5739]\n"
     ]
    },
    {
     "name": "stdout",
     "output_type": "stream",
     "text": [
      "Epoch 57/1000: Train Loss: 1.1210, Train Acc: 0.5739\n"
     ]
    },
    {
     "name": "stderr",
     "output_type": "stream",
     "text": [
      "Validation: 100%|██████████| 47/47 [00:02<00:00, 17.83it/s, Loss=1.2826, Acc=0.5030]\n"
     ]
    },
    {
     "name": "stdout",
     "output_type": "stream",
     "text": [
      "Epoch 57/1000: Val Loss: 1.2826, Val Acc: 0.5030, Val F1: 0.4967\n",
      "Current Learning Rate: 3.0000000000000004e-07\n"
     ]
    },
    {
     "name": "stderr",
     "output_type": "stream",
     "text": [
      "Epoch 58/1000: 100%|██████████| 422/422 [01:07<00:00,  6.23it/s, Loss=1.1151, Acc=0.5753]\n"
     ]
    },
    {
     "name": "stdout",
     "output_type": "stream",
     "text": [
      "Epoch 58/1000: Train Loss: 1.1151, Train Acc: 0.5753\n"
     ]
    },
    {
     "name": "stderr",
     "output_type": "stream",
     "text": [
      "Validation: 100%|██████████| 47/47 [00:02<00:00, 17.85it/s, Loss=1.2833, Acc=0.5033]\n"
     ]
    },
    {
     "name": "stdout",
     "output_type": "stream",
     "text": [
      "Epoch 58/1000: Val Loss: 1.2833, Val Acc: 0.5033, Val F1: 0.4963\n",
      "Current Learning Rate: 3.0000000000000004e-07\n"
     ]
    },
    {
     "name": "stderr",
     "output_type": "stream",
     "text": [
      "Epoch 59/1000: 100%|██████████| 422/422 [01:08<00:00,  6.16it/s, Loss=1.1225, Acc=0.5694]\n"
     ]
    },
    {
     "name": "stdout",
     "output_type": "stream",
     "text": [
      "Epoch 59/1000: Train Loss: 1.1225, Train Acc: 0.5694\n"
     ]
    },
    {
     "name": "stderr",
     "output_type": "stream",
     "text": [
      "Validation: 100%|██████████| 47/47 [00:02<00:00, 17.85it/s, Loss=1.2832, Acc=0.5033]\n"
     ]
    },
    {
     "name": "stdout",
     "output_type": "stream",
     "text": [
      "Epoch 59/1000: Val Loss: 1.2832, Val Acc: 0.5033, Val F1: 0.4960\n",
      "Current Learning Rate: 3.0000000000000004e-07\n"
     ]
    },
    {
     "name": "stderr",
     "output_type": "stream",
     "text": [
      "Epoch 60/1000: 100%|██████████| 422/422 [01:08<00:00,  6.17it/s, Loss=1.1166, Acc=0.5734]\n"
     ]
    },
    {
     "name": "stdout",
     "output_type": "stream",
     "text": [
      "Epoch 60/1000: Train Loss: 1.1166, Train Acc: 0.5734\n"
     ]
    },
    {
     "name": "stderr",
     "output_type": "stream",
     "text": [
      "Validation: 100%|██████████| 47/47 [00:02<00:00, 17.83it/s, Loss=1.2835, Acc=0.5010]\n"
     ]
    },
    {
     "name": "stdout",
     "output_type": "stream",
     "text": [
      "Epoch 60/1000: Val Loss: 1.2835, Val Acc: 0.5010, Val F1: 0.4945\n",
      "Current Learning Rate: 3.0000000000000004e-07\n"
     ]
    },
    {
     "name": "stderr",
     "output_type": "stream",
     "text": [
      "Epoch 61/1000: 100%|██████████| 422/422 [01:10<00:00,  6.00it/s, Loss=1.1148, Acc=0.5755]\n"
     ]
    },
    {
     "name": "stdout",
     "output_type": "stream",
     "text": [
      "Epoch 61/1000: Train Loss: 1.1148, Train Acc: 0.5755\n"
     ]
    },
    {
     "name": "stderr",
     "output_type": "stream",
     "text": [
      "Validation: 100%|██████████| 47/47 [00:02<00:00, 17.82it/s, Loss=1.2829, Acc=0.5033]\n"
     ]
    },
    {
     "name": "stdout",
     "output_type": "stream",
     "text": [
      "Epoch 61/1000: Val Loss: 1.2829, Val Acc: 0.5033, Val F1: 0.4959\n",
      "Current Learning Rate: 3.0000000000000004e-07\n"
     ]
    },
    {
     "name": "stderr",
     "output_type": "stream",
     "text": [
      "Epoch 62/1000: 100%|██████████| 422/422 [01:08<00:00,  6.19it/s, Loss=1.1185, Acc=0.5736]\n"
     ]
    },
    {
     "name": "stdout",
     "output_type": "stream",
     "text": [
      "Epoch 62/1000: Train Loss: 1.1185, Train Acc: 0.5736\n"
     ]
    },
    {
     "name": "stderr",
     "output_type": "stream",
     "text": [
      "Validation: 100%|██████████| 47/47 [00:02<00:00, 17.67it/s, Loss=1.2833, Acc=0.5053]\n"
     ]
    },
    {
     "name": "stdout",
     "output_type": "stream",
     "text": [
      "Epoch 62/1000: Val Loss: 1.2833, Val Acc: 0.5053, Val F1: 0.4987\n",
      "Current Learning Rate: 3.0000000000000004e-07\n"
     ]
    },
    {
     "name": "stderr",
     "output_type": "stream",
     "text": [
      "Epoch 63/1000: 100%|██████████| 422/422 [01:08<00:00,  6.20it/s, Loss=1.1172, Acc=0.5728]\n"
     ]
    },
    {
     "name": "stdout",
     "output_type": "stream",
     "text": [
      "Epoch 63/1000: Train Loss: 1.1172, Train Acc: 0.5728\n"
     ]
    },
    {
     "name": "stderr",
     "output_type": "stream",
     "text": [
      "Validation: 100%|██████████| 47/47 [00:02<00:00, 18.26it/s, Loss=1.2833, Acc=0.5043]\n"
     ]
    },
    {
     "name": "stdout",
     "output_type": "stream",
     "text": [
      "Epoch 63/1000: Val Loss: 1.2833, Val Acc: 0.5043, Val F1: 0.4976\n",
      "Current Learning Rate: 3.0000000000000004e-08\n"
     ]
    },
    {
     "name": "stderr",
     "output_type": "stream",
     "text": [
      "Epoch 64/1000: 100%|██████████| 422/422 [01:08<00:00,  6.16it/s, Loss=1.1187, Acc=0.5739]\n"
     ]
    },
    {
     "name": "stdout",
     "output_type": "stream",
     "text": [
      "Epoch 64/1000: Train Loss: 1.1187, Train Acc: 0.5739\n"
     ]
    },
    {
     "name": "stderr",
     "output_type": "stream",
     "text": [
      "Validation: 100%|██████████| 47/47 [00:02<00:00, 18.00it/s, Loss=1.2828, Acc=0.5027]\n"
     ]
    },
    {
     "name": "stdout",
     "output_type": "stream",
     "text": [
      "Epoch 64/1000: Val Loss: 1.2828, Val Acc: 0.5027, Val F1: 0.4960\n",
      "Current Learning Rate: 3.0000000000000004e-08\n"
     ]
    },
    {
     "name": "stderr",
     "output_type": "stream",
     "text": [
      "Epoch 65/1000: 100%|██████████| 422/422 [01:07<00:00,  6.23it/s, Loss=1.1141, Acc=0.5772]\n"
     ]
    },
    {
     "name": "stdout",
     "output_type": "stream",
     "text": [
      "Epoch 65/1000: Train Loss: 1.1141, Train Acc: 0.5772\n"
     ]
    },
    {
     "name": "stderr",
     "output_type": "stream",
     "text": [
      "Validation: 100%|██████████| 47/47 [00:02<00:00, 17.93it/s, Loss=1.2832, Acc=0.5017]\n"
     ]
    },
    {
     "name": "stdout",
     "output_type": "stream",
     "text": [
      "Epoch 65/1000: Val Loss: 1.2832, Val Acc: 0.5017, Val F1: 0.4951\n",
      "Current Learning Rate: 3.0000000000000004e-08\n"
     ]
    },
    {
     "name": "stderr",
     "output_type": "stream",
     "text": [
      "Epoch 66/1000: 100%|██████████| 422/422 [01:09<00:00,  6.11it/s, Loss=1.1118, Acc=0.5751]\n"
     ]
    },
    {
     "name": "stdout",
     "output_type": "stream",
     "text": [
      "Epoch 66/1000: Train Loss: 1.1118, Train Acc: 0.5751\n"
     ]
    },
    {
     "name": "stderr",
     "output_type": "stream",
     "text": [
      "Validation: 100%|██████████| 47/47 [00:02<00:00, 17.97it/s, Loss=1.2832, Acc=0.5030]\n"
     ]
    },
    {
     "name": "stdout",
     "output_type": "stream",
     "text": [
      "Epoch 66/1000: Val Loss: 1.2832, Val Acc: 0.5030, Val F1: 0.4963\n",
      "Current Learning Rate: 3.0000000000000004e-08\n"
     ]
    },
    {
     "name": "stderr",
     "output_type": "stream",
     "text": [
      "Epoch 67/1000: 100%|██████████| 422/422 [01:08<00:00,  6.18it/s, Loss=1.1140, Acc=0.5728]\n"
     ]
    },
    {
     "name": "stdout",
     "output_type": "stream",
     "text": [
      "Epoch 67/1000: Train Loss: 1.1140, Train Acc: 0.5728\n"
     ]
    },
    {
     "name": "stderr",
     "output_type": "stream",
     "text": [
      "Validation: 100%|██████████| 47/47 [00:02<00:00, 17.84it/s, Loss=1.2840, Acc=0.5033]\n"
     ]
    },
    {
     "name": "stdout",
     "output_type": "stream",
     "text": [
      "Epoch 67/1000: Val Loss: 1.2840, Val Acc: 0.5033, Val F1: 0.4966\n",
      "Current Learning Rate: 3.0000000000000004e-08\n"
     ]
    },
    {
     "name": "stderr",
     "output_type": "stream",
     "text": [
      "Epoch 68/1000: 100%|██████████| 422/422 [01:07<00:00,  6.22it/s, Loss=1.1203, Acc=0.5749]\n"
     ]
    },
    {
     "name": "stdout",
     "output_type": "stream",
     "text": [
      "Epoch 68/1000: Train Loss: 1.1203, Train Acc: 0.5749\n"
     ]
    },
    {
     "name": "stderr",
     "output_type": "stream",
     "text": [
      "Validation: 100%|██████████| 47/47 [00:02<00:00, 17.94it/s, Loss=1.2824, Acc=0.5040]\n"
     ]
    },
    {
     "name": "stdout",
     "output_type": "stream",
     "text": [
      "Epoch 68/1000: Val Loss: 1.2824, Val Acc: 0.5040, Val F1: 0.4972\n",
      "Current Learning Rate: 3.0000000000000004e-08\n"
     ]
    },
    {
     "name": "stderr",
     "output_type": "stream",
     "text": [
      "Epoch 69/1000: 100%|██████████| 422/422 [01:07<00:00,  6.22it/s, Loss=1.1152, Acc=0.5751]\n"
     ]
    },
    {
     "name": "stdout",
     "output_type": "stream",
     "text": [
      "Epoch 69/1000: Train Loss: 1.1152, Train Acc: 0.5751\n"
     ]
    },
    {
     "name": "stderr",
     "output_type": "stream",
     "text": [
      "Validation: 100%|██████████| 47/47 [00:02<00:00, 17.57it/s, Loss=1.2826, Acc=0.5040]\n"
     ]
    },
    {
     "name": "stdout",
     "output_type": "stream",
     "text": [
      "Epoch 69/1000: Val Loss: 1.2826, Val Acc: 0.5040, Val F1: 0.4971\n",
      "Current Learning Rate: 3.0000000000000004e-08\n"
     ]
    },
    {
     "name": "stderr",
     "output_type": "stream",
     "text": [
      "Epoch 70/1000: 100%|██████████| 422/422 [01:08<00:00,  6.12it/s, Loss=1.1179, Acc=0.5776]\n"
     ]
    },
    {
     "name": "stdout",
     "output_type": "stream",
     "text": [
      "Epoch 70/1000: Train Loss: 1.1179, Train Acc: 0.5776\n"
     ]
    },
    {
     "name": "stderr",
     "output_type": "stream",
     "text": [
      "Validation: 100%|██████████| 47/47 [00:02<00:00, 17.91it/s, Loss=1.2833, Acc=0.5033]\n"
     ]
    },
    {
     "name": "stdout",
     "output_type": "stream",
     "text": [
      "Epoch 70/1000: Val Loss: 1.2833, Val Acc: 0.5033, Val F1: 0.4966\n",
      "Current Learning Rate: 3.0000000000000004e-08\n"
     ]
    },
    {
     "name": "stderr",
     "output_type": "stream",
     "text": [
      "Epoch 71/1000: 100%|██████████| 422/422 [01:09<00:00,  6.08it/s, Loss=1.1143, Acc=0.5776]\n"
     ]
    },
    {
     "name": "stdout",
     "output_type": "stream",
     "text": [
      "Epoch 71/1000: Train Loss: 1.1143, Train Acc: 0.5776\n"
     ]
    },
    {
     "name": "stderr",
     "output_type": "stream",
     "text": [
      "Validation: 100%|██████████| 47/47 [00:02<00:00, 17.98it/s, Loss=1.2826, Acc=0.5037]\n"
     ]
    },
    {
     "name": "stdout",
     "output_type": "stream",
     "text": [
      "Epoch 71/1000: Val Loss: 1.2826, Val Acc: 0.5037, Val F1: 0.4969\n",
      "Current Learning Rate: 3.0000000000000004e-08\n"
     ]
    },
    {
     "name": "stderr",
     "output_type": "stream",
     "text": [
      "Epoch 72/1000: 100%|██████████| 422/422 [01:09<00:00,  6.11it/s, Loss=1.1141, Acc=0.5777]\n"
     ]
    },
    {
     "name": "stdout",
     "output_type": "stream",
     "text": [
      "Epoch 72/1000: Train Loss: 1.1141, Train Acc: 0.5777\n"
     ]
    },
    {
     "name": "stderr",
     "output_type": "stream",
     "text": [
      "Validation: 100%|██████████| 47/47 [00:02<00:00, 17.96it/s, Loss=1.2826, Acc=0.5033]\n"
     ]
    },
    {
     "name": "stdout",
     "output_type": "stream",
     "text": [
      "Epoch 72/1000: Val Loss: 1.2826, Val Acc: 0.5033, Val F1: 0.4965\n",
      "Current Learning Rate: 3.0000000000000004e-08\n"
     ]
    },
    {
     "name": "stderr",
     "output_type": "stream",
     "text": [
      "Epoch 73/1000: 100%|██████████| 422/422 [01:07<00:00,  6.22it/s, Loss=1.1133, Acc=0.5769]\n"
     ]
    },
    {
     "name": "stdout",
     "output_type": "stream",
     "text": [
      "Epoch 73/1000: Train Loss: 1.1133, Train Acc: 0.5769\n"
     ]
    },
    {
     "name": "stderr",
     "output_type": "stream",
     "text": [
      "Validation: 100%|██████████| 47/47 [00:02<00:00, 17.70it/s, Loss=1.2830, Acc=0.5043]\n"
     ]
    },
    {
     "name": "stdout",
     "output_type": "stream",
     "text": [
      "Epoch 73/1000: Val Loss: 1.2830, Val Acc: 0.5043, Val F1: 0.4975\n",
      "Current Learning Rate: 3.0000000000000004e-08\n"
     ]
    },
    {
     "name": "stderr",
     "output_type": "stream",
     "text": [
      "Epoch 74/1000: 100%|██████████| 422/422 [01:07<00:00,  6.24it/s, Loss=1.1198, Acc=0.5729]\n"
     ]
    },
    {
     "name": "stdout",
     "output_type": "stream",
     "text": [
      "Epoch 74/1000: Train Loss: 1.1198, Train Acc: 0.5729\n"
     ]
    },
    {
     "name": "stderr",
     "output_type": "stream",
     "text": [
      "Validation: 100%|██████████| 47/47 [00:02<00:00, 17.89it/s, Loss=1.2829, Acc=0.5040]\n"
     ]
    },
    {
     "name": "stdout",
     "output_type": "stream",
     "text": [
      "Epoch 74/1000: Val Loss: 1.2829, Val Acc: 0.5040, Val F1: 0.4971\n",
      "Current Learning Rate: 3.0000000000000004e-09\n"
     ]
    },
    {
     "name": "stderr",
     "output_type": "stream",
     "text": [
      "Epoch 75/1000: 100%|██████████| 422/422 [01:07<00:00,  6.22it/s, Loss=1.1149, Acc=0.5732]\n"
     ]
    },
    {
     "name": "stdout",
     "output_type": "stream",
     "text": [
      "Epoch 75/1000: Train Loss: 1.1149, Train Acc: 0.5732\n"
     ]
    },
    {
     "name": "stderr",
     "output_type": "stream",
     "text": [
      "Validation: 100%|██████████| 47/47 [00:02<00:00, 17.93it/s, Loss=1.2830, Acc=0.5037]\n"
     ]
    },
    {
     "name": "stdout",
     "output_type": "stream",
     "text": [
      "Epoch 75/1000: Val Loss: 1.2830, Val Acc: 0.5037, Val F1: 0.4967\n",
      "Current Learning Rate: 3.0000000000000004e-09\n"
     ]
    },
    {
     "name": "stderr",
     "output_type": "stream",
     "text": [
      "Epoch 76/1000: 100%|██████████| 422/422 [01:07<00:00,  6.22it/s, Loss=1.1156, Acc=0.5742]\n"
     ]
    },
    {
     "name": "stdout",
     "output_type": "stream",
     "text": [
      "Epoch 76/1000: Train Loss: 1.1156, Train Acc: 0.5742\n"
     ]
    },
    {
     "name": "stderr",
     "output_type": "stream",
     "text": [
      "Validation: 100%|██████████| 47/47 [00:02<00:00, 17.87it/s, Loss=1.2832, Acc=0.5040]\n"
     ]
    },
    {
     "name": "stdout",
     "output_type": "stream",
     "text": [
      "Epoch 76/1000: Val Loss: 1.2832, Val Acc: 0.5040, Val F1: 0.4970\n",
      "Current Learning Rate: 3.0000000000000004e-09\n"
     ]
    },
    {
     "name": "stderr",
     "output_type": "stream",
     "text": [
      "Epoch 77/1000: 100%|██████████| 422/422 [01:07<00:00,  6.21it/s, Loss=1.1141, Acc=0.5745]\n"
     ]
    },
    {
     "name": "stdout",
     "output_type": "stream",
     "text": [
      "Epoch 77/1000: Train Loss: 1.1141, Train Acc: 0.5745\n"
     ]
    },
    {
     "name": "stderr",
     "output_type": "stream",
     "text": [
      "Validation: 100%|██████████| 47/47 [00:02<00:00, 17.87it/s, Loss=1.2830, Acc=0.5040]\n"
     ]
    },
    {
     "name": "stdout",
     "output_type": "stream",
     "text": [
      "Epoch 77/1000: Val Loss: 1.2830, Val Acc: 0.5040, Val F1: 0.4970\n",
      "Current Learning Rate: 3.0000000000000004e-09\n"
     ]
    },
    {
     "name": "stderr",
     "output_type": "stream",
     "text": [
      "Epoch 78/1000: 100%|██████████| 422/422 [01:07<00:00,  6.24it/s, Loss=1.1126, Acc=0.5747]\n"
     ]
    },
    {
     "name": "stdout",
     "output_type": "stream",
     "text": [
      "Epoch 78/1000: Train Loss: 1.1126, Train Acc: 0.5747\n"
     ]
    },
    {
     "name": "stderr",
     "output_type": "stream",
     "text": [
      "Validation: 100%|██████████| 47/47 [00:02<00:00, 17.91it/s, Loss=1.2830, Acc=0.5040]\n"
     ]
    },
    {
     "name": "stdout",
     "output_type": "stream",
     "text": [
      "Epoch 78/1000: Val Loss: 1.2830, Val Acc: 0.5040, Val F1: 0.4970\n",
      "Current Learning Rate: 3.0000000000000004e-09\n"
     ]
    },
    {
     "name": "stderr",
     "output_type": "stream",
     "text": [
      "Epoch 79/1000: 100%|██████████| 422/422 [01:07<00:00,  6.22it/s, Loss=1.1183, Acc=0.5716]\n"
     ]
    },
    {
     "name": "stdout",
     "output_type": "stream",
     "text": [
      "Epoch 79/1000: Train Loss: 1.1183, Train Acc: 0.5716\n"
     ]
    },
    {
     "name": "stderr",
     "output_type": "stream",
     "text": [
      "Validation: 100%|██████████| 47/47 [00:02<00:00, 17.83it/s, Loss=1.2832, Acc=0.5040]\n"
     ]
    },
    {
     "name": "stdout",
     "output_type": "stream",
     "text": [
      "Epoch 79/1000: Val Loss: 1.2832, Val Acc: 0.5040, Val F1: 0.4970\n",
      "Current Learning Rate: 3.0000000000000004e-09\n"
     ]
    },
    {
     "name": "stderr",
     "output_type": "stream",
     "text": [
      "Epoch 80/1000: 100%|██████████| 422/422 [01:08<00:00,  6.20it/s, Loss=1.1212, Acc=0.5752]\n"
     ]
    },
    {
     "name": "stdout",
     "output_type": "stream",
     "text": [
      "Epoch 80/1000: Train Loss: 1.1212, Train Acc: 0.5752\n"
     ]
    },
    {
     "name": "stderr",
     "output_type": "stream",
     "text": [
      "Validation: 100%|██████████| 47/47 [00:02<00:00, 17.98it/s, Loss=1.2831, Acc=0.5043]\n"
     ]
    },
    {
     "name": "stdout",
     "output_type": "stream",
     "text": [
      "Epoch 80/1000: Val Loss: 1.2831, Val Acc: 0.5043, Val F1: 0.4974\n",
      "Current Learning Rate: 3.0000000000000004e-09\n"
     ]
    },
    {
     "name": "stderr",
     "output_type": "stream",
     "text": [
      "Epoch 81/1000: 100%|██████████| 422/422 [01:07<00:00,  6.23it/s, Loss=1.1150, Acc=0.5747]\n"
     ]
    },
    {
     "name": "stdout",
     "output_type": "stream",
     "text": [
      "Epoch 81/1000: Train Loss: 1.1150, Train Acc: 0.5747\n"
     ]
    },
    {
     "name": "stderr",
     "output_type": "stream",
     "text": [
      "Validation: 100%|██████████| 47/47 [00:02<00:00, 17.78it/s, Loss=1.2828, Acc=0.5040]\n"
     ]
    },
    {
     "name": "stdout",
     "output_type": "stream",
     "text": [
      "Epoch 81/1000: Val Loss: 1.2828, Val Acc: 0.5040, Val F1: 0.4970\n",
      "Current Learning Rate: 3.0000000000000004e-09\n"
     ]
    },
    {
     "name": "stderr",
     "output_type": "stream",
     "text": [
      "Epoch 82/1000: 100%|██████████| 422/422 [01:08<00:00,  6.18it/s, Loss=1.1116, Acc=0.5782]\n"
     ]
    },
    {
     "name": "stdout",
     "output_type": "stream",
     "text": [
      "Epoch 82/1000: Train Loss: 1.1116, Train Acc: 0.5782\n"
     ]
    },
    {
     "name": "stderr",
     "output_type": "stream",
     "text": [
      "Validation: 100%|██████████| 47/47 [00:02<00:00, 17.78it/s, Loss=1.2823, Acc=0.5047]\n"
     ]
    },
    {
     "name": "stdout",
     "output_type": "stream",
     "text": [
      "Epoch 82/1000: Val Loss: 1.2823, Val Acc: 0.5047, Val F1: 0.4977\n",
      "Current Learning Rate: 3.0000000000000004e-09\n"
     ]
    },
    {
     "name": "stderr",
     "output_type": "stream",
     "text": [
      "Epoch 83/1000: 100%|██████████| 422/422 [01:08<00:00,  6.19it/s, Loss=1.1192, Acc=0.5707]\n"
     ]
    },
    {
     "name": "stdout",
     "output_type": "stream",
     "text": [
      "Epoch 83/1000: Train Loss: 1.1192, Train Acc: 0.5707\n"
     ]
    },
    {
     "name": "stderr",
     "output_type": "stream",
     "text": [
      "Validation: 100%|██████████| 47/47 [00:02<00:00, 17.97it/s, Loss=1.2829, Acc=0.5047]\n"
     ]
    },
    {
     "name": "stdout",
     "output_type": "stream",
     "text": [
      "Epoch 83/1000: Val Loss: 1.2829, Val Acc: 0.5047, Val F1: 0.4977\n",
      "Current Learning Rate: 3.0000000000000004e-09\n"
     ]
    },
    {
     "name": "stderr",
     "output_type": "stream",
     "text": [
      "Epoch 84/1000: 100%|██████████| 422/422 [01:08<00:00,  6.20it/s, Loss=1.1180, Acc=0.5737]\n"
     ]
    },
    {
     "name": "stdout",
     "output_type": "stream",
     "text": [
      "Epoch 84/1000: Train Loss: 1.1180, Train Acc: 0.5737\n"
     ]
    },
    {
     "name": "stderr",
     "output_type": "stream",
     "text": [
      "Validation: 100%|██████████| 47/47 [00:02<00:00, 17.91it/s, Loss=1.2833, Acc=0.5043]\n"
     ]
    },
    {
     "name": "stdout",
     "output_type": "stream",
     "text": [
      "Epoch 84/1000: Val Loss: 1.2833, Val Acc: 0.5043, Val F1: 0.4974\n",
      "Current Learning Rate: 3.0000000000000004e-09\n"
     ]
    },
    {
     "name": "stderr",
     "output_type": "stream",
     "text": [
      "Epoch 85/1000: 100%|██████████| 422/422 [01:07<00:00,  6.21it/s, Loss=1.1115, Acc=0.5745]\n"
     ]
    },
    {
     "name": "stdout",
     "output_type": "stream",
     "text": [
      "Epoch 85/1000: Train Loss: 1.1115, Train Acc: 0.5745\n"
     ]
    },
    {
     "name": "stderr",
     "output_type": "stream",
     "text": [
      "Validation: 100%|██████████| 47/47 [00:02<00:00, 17.51it/s, Loss=1.2825, Acc=0.5043]\n"
     ]
    },
    {
     "name": "stdout",
     "output_type": "stream",
     "text": [
      "Epoch 85/1000: Val Loss: 1.2825, Val Acc: 0.5043, Val F1: 0.4974\n",
      "Current Learning Rate: 3.0000000000000004e-09\n"
     ]
    },
    {
     "name": "stderr",
     "output_type": "stream",
     "text": [
      "Epoch 86/1000: 100%|██████████| 422/422 [01:07<00:00,  6.21it/s, Loss=1.1169, Acc=0.5776]\n"
     ]
    },
    {
     "name": "stdout",
     "output_type": "stream",
     "text": [
      "Epoch 86/1000: Train Loss: 1.1169, Train Acc: 0.5776\n"
     ]
    },
    {
     "name": "stderr",
     "output_type": "stream",
     "text": [
      "Validation: 100%|██████████| 47/47 [00:02<00:00, 17.74it/s, Loss=1.2825, Acc=0.5043]\n"
     ]
    },
    {
     "name": "stdout",
     "output_type": "stream",
     "text": [
      "Epoch 86/1000: Val Loss: 1.2825, Val Acc: 0.5043, Val F1: 0.4974\n",
      "Current Learning Rate: 3.0000000000000004e-09\n"
     ]
    },
    {
     "name": "stderr",
     "output_type": "stream",
     "text": [
      "Epoch 87/1000: 100%|██████████| 422/422 [01:07<00:00,  6.23it/s, Loss=1.1135, Acc=0.5741]\n"
     ]
    },
    {
     "name": "stdout",
     "output_type": "stream",
     "text": [
      "Epoch 87/1000: Train Loss: 1.1135, Train Acc: 0.5741\n"
     ]
    },
    {
     "name": "stderr",
     "output_type": "stream",
     "text": [
      "Validation: 100%|██████████| 47/47 [00:02<00:00, 17.77it/s, Loss=1.2834, Acc=0.5040]\n"
     ]
    },
    {
     "name": "stdout",
     "output_type": "stream",
     "text": [
      "Epoch 87/1000: Val Loss: 1.2834, Val Acc: 0.5040, Val F1: 0.4970\n",
      "Current Learning Rate: 3.0000000000000004e-09\n"
     ]
    },
    {
     "name": "stderr",
     "output_type": "stream",
     "text": [
      "Epoch 88/1000: 100%|██████████| 422/422 [01:08<00:00,  6.18it/s, Loss=1.1148, Acc=0.5738]\n"
     ]
    },
    {
     "name": "stdout",
     "output_type": "stream",
     "text": [
      "Epoch 88/1000: Train Loss: 1.1148, Train Acc: 0.5738\n"
     ]
    },
    {
     "name": "stderr",
     "output_type": "stream",
     "text": [
      "Validation: 100%|██████████| 47/47 [00:02<00:00, 17.80it/s, Loss=1.2830, Acc=0.5040]\n"
     ]
    },
    {
     "name": "stdout",
     "output_type": "stream",
     "text": [
      "Epoch 88/1000: Val Loss: 1.2830, Val Acc: 0.5040, Val F1: 0.4970\n",
      "Current Learning Rate: 3.0000000000000004e-09\n"
     ]
    },
    {
     "name": "stderr",
     "output_type": "stream",
     "text": [
      "Epoch 89/1000: 100%|██████████| 422/422 [01:10<00:00,  6.03it/s, Loss=1.1159, Acc=0.5763]\n"
     ]
    },
    {
     "name": "stdout",
     "output_type": "stream",
     "text": [
      "Epoch 89/1000: Train Loss: 1.1159, Train Acc: 0.5763\n"
     ]
    },
    {
     "name": "stderr",
     "output_type": "stream",
     "text": [
      "Validation: 100%|██████████| 47/47 [00:02<00:00, 17.90it/s, Loss=1.2829, Acc=0.5040]\n"
     ]
    },
    {
     "name": "stdout",
     "output_type": "stream",
     "text": [
      "Epoch 89/1000: Val Loss: 1.2829, Val Acc: 0.5040, Val F1: 0.4970\n",
      "Current Learning Rate: 3.0000000000000004e-09\n"
     ]
    },
    {
     "name": "stderr",
     "output_type": "stream",
     "text": [
      "Epoch 90/1000: 100%|██████████| 422/422 [01:07<00:00,  6.22it/s, Loss=1.1106, Acc=0.5771]\n"
     ]
    },
    {
     "name": "stdout",
     "output_type": "stream",
     "text": [
      "Epoch 90/1000: Train Loss: 1.1106, Train Acc: 0.5771\n"
     ]
    },
    {
     "name": "stderr",
     "output_type": "stream",
     "text": [
      "Validation: 100%|██████████| 47/47 [00:02<00:00, 17.90it/s, Loss=1.2828, Acc=0.5040]\n"
     ]
    },
    {
     "name": "stdout",
     "output_type": "stream",
     "text": [
      "Epoch 90/1000: Val Loss: 1.2828, Val Acc: 0.5040, Val F1: 0.4970\n",
      "Current Learning Rate: 3.0000000000000004e-09\n"
     ]
    },
    {
     "name": "stderr",
     "output_type": "stream",
     "text": [
      "Epoch 91/1000: 100%|██████████| 422/422 [01:08<00:00,  6.20it/s, Loss=1.1069, Acc=0.5745]\n"
     ]
    },
    {
     "name": "stdout",
     "output_type": "stream",
     "text": [
      "Epoch 91/1000: Train Loss: 1.1069, Train Acc: 0.5745\n"
     ]
    },
    {
     "name": "stderr",
     "output_type": "stream",
     "text": [
      "Validation: 100%|██████████| 47/47 [00:02<00:00, 17.84it/s, Loss=1.2824, Acc=0.5040]\n"
     ]
    },
    {
     "name": "stdout",
     "output_type": "stream",
     "text": [
      "Epoch 91/1000: Val Loss: 1.2824, Val Acc: 0.5040, Val F1: 0.4970\n",
      "Current Learning Rate: 3.0000000000000004e-09\n"
     ]
    },
    {
     "name": "stderr",
     "output_type": "stream",
     "text": [
      "Epoch 92/1000: 100%|██████████| 422/422 [01:08<00:00,  6.19it/s, Loss=1.1171, Acc=0.5734]\n"
     ]
    },
    {
     "name": "stdout",
     "output_type": "stream",
     "text": [
      "Epoch 92/1000: Train Loss: 1.1171, Train Acc: 0.5734\n"
     ]
    },
    {
     "name": "stderr",
     "output_type": "stream",
     "text": [
      "Validation: 100%|██████████| 47/47 [00:02<00:00, 17.75it/s, Loss=1.2833, Acc=0.5040]\n"
     ]
    },
    {
     "name": "stdout",
     "output_type": "stream",
     "text": [
      "Epoch 92/1000: Val Loss: 1.2833, Val Acc: 0.5040, Val F1: 0.4970\n",
      "Current Learning Rate: 3.0000000000000004e-09\n"
     ]
    },
    {
     "name": "stderr",
     "output_type": "stream",
     "text": [
      "Epoch 93/1000: 100%|██████████| 422/422 [01:07<00:00,  6.22it/s, Loss=1.1102, Acc=0.5778]\n"
     ]
    },
    {
     "name": "stdout",
     "output_type": "stream",
     "text": [
      "Epoch 93/1000: Train Loss: 1.1102, Train Acc: 0.5778\n"
     ]
    },
    {
     "name": "stderr",
     "output_type": "stream",
     "text": [
      "Validation: 100%|██████████| 47/47 [00:02<00:00, 17.89it/s, Loss=1.2838, Acc=0.5040]\n"
     ]
    },
    {
     "name": "stdout",
     "output_type": "stream",
     "text": [
      "Epoch 93/1000: Val Loss: 1.2838, Val Acc: 0.5040, Val F1: 0.4970\n",
      "Current Learning Rate: 3.0000000000000004e-09\n"
     ]
    },
    {
     "name": "stderr",
     "output_type": "stream",
     "text": [
      "Epoch 94/1000: 100%|██████████| 422/422 [01:09<00:00,  6.09it/s, Loss=1.1153, Acc=0.5769]\n"
     ]
    },
    {
     "name": "stdout",
     "output_type": "stream",
     "text": [
      "Epoch 94/1000: Train Loss: 1.1153, Train Acc: 0.5769\n"
     ]
    },
    {
     "name": "stderr",
     "output_type": "stream",
     "text": [
      "Validation: 100%|██████████| 47/47 [00:02<00:00, 17.86it/s, Loss=1.2826, Acc=0.5040]\n"
     ]
    },
    {
     "name": "stdout",
     "output_type": "stream",
     "text": [
      "Epoch 94/1000: Val Loss: 1.2826, Val Acc: 0.5040, Val F1: 0.4970\n",
      "Current Learning Rate: 3.0000000000000004e-09\n"
     ]
    },
    {
     "name": "stderr",
     "output_type": "stream",
     "text": [
      "Epoch 95/1000: 100%|██████████| 422/422 [01:08<00:00,  6.20it/s, Loss=1.1153, Acc=0.5768]\n"
     ]
    },
    {
     "name": "stdout",
     "output_type": "stream",
     "text": [
      "Epoch 95/1000: Train Loss: 1.1153, Train Acc: 0.5768\n"
     ]
    },
    {
     "name": "stderr",
     "output_type": "stream",
     "text": [
      "Validation: 100%|██████████| 47/47 [00:02<00:00, 17.92it/s, Loss=1.2831, Acc=0.5040]\n"
     ]
    },
    {
     "name": "stdout",
     "output_type": "stream",
     "text": [
      "Epoch 95/1000: Val Loss: 1.2831, Val Acc: 0.5040, Val F1: 0.4970\n",
      "Current Learning Rate: 3.0000000000000004e-09\n"
     ]
    },
    {
     "name": "stderr",
     "output_type": "stream",
     "text": [
      "Epoch 96/1000: 100%|██████████| 422/422 [01:08<00:00,  6.20it/s, Loss=1.1213, Acc=0.5739]\n"
     ]
    },
    {
     "name": "stdout",
     "output_type": "stream",
     "text": [
      "Epoch 96/1000: Train Loss: 1.1213, Train Acc: 0.5739\n"
     ]
    },
    {
     "name": "stderr",
     "output_type": "stream",
     "text": [
      "Validation: 100%|██████████| 47/47 [00:02<00:00, 17.92it/s, Loss=1.2837, Acc=0.5040]\n"
     ]
    },
    {
     "name": "stdout",
     "output_type": "stream",
     "text": [
      "Epoch 96/1000: Val Loss: 1.2837, Val Acc: 0.5040, Val F1: 0.4970\n",
      "Current Learning Rate: 3.0000000000000004e-09\n"
     ]
    },
    {
     "name": "stderr",
     "output_type": "stream",
     "text": [
      "Epoch 97/1000: 100%|██████████| 422/422 [01:08<00:00,  6.15it/s, Loss=1.1148, Acc=0.5745]\n"
     ]
    },
    {
     "name": "stdout",
     "output_type": "stream",
     "text": [
      "Epoch 97/1000: Train Loss: 1.1148, Train Acc: 0.5745\n"
     ]
    },
    {
     "name": "stderr",
     "output_type": "stream",
     "text": [
      "Validation: 100%|██████████| 47/47 [00:02<00:00, 17.91it/s, Loss=1.2828, Acc=0.5040]\n"
     ]
    },
    {
     "name": "stdout",
     "output_type": "stream",
     "text": [
      "Epoch 97/1000: Val Loss: 1.2828, Val Acc: 0.5040, Val F1: 0.4970\n",
      "Current Learning Rate: 3.0000000000000004e-09\n",
      "Early stopping triggered at epoch 97!\n"
     ]
    },
    {
     "name": "stderr",
     "output_type": "stream",
     "text": [
      "Testing: 100%|██████████| 53/53 [00:02<00:00, 17.91it/s, Loss=1.2770, Acc=0.5230]\n"
     ]
    },
    {
     "name": "stdout",
     "output_type": "stream",
     "text": [
      "Test Loss: 1.2770, Test Acc: 0.5230, Test F1: 0.5129\n",
      "Start model16 with configuration patch size: 32, num_heads: 8, embedding_dims: 768, num_layers: 12\n"
     ]
    },
    {
     "name": "stderr",
     "output_type": "stream",
     "text": [
      "Epoch 1/1000: 100%|██████████| 422/422 [01:52<00:00,  3.74it/s, Loss=1.7667, Acc=0.2764]\n"
     ]
    },
    {
     "name": "stdout",
     "output_type": "stream",
     "text": [
      "Epoch 1/1000: Train Loss: 1.7667, Train Acc: 0.2764\n"
     ]
    },
    {
     "name": "stderr",
     "output_type": "stream",
     "text": [
      "Validation: 100%|██████████| 47/47 [00:03<00:00, 11.78it/s, Loss=1.7036, Acc=0.3133]\n"
     ]
    },
    {
     "name": "stdout",
     "output_type": "stream",
     "text": [
      "Epoch 1/1000: Val Loss: 1.7036, Val Acc: 0.3133, Val F1: 0.2445\n",
      "Current Learning Rate: 3e-05\n",
      "Best model saved at ../Experiment Augment Result/model16_augment_best.pt with accuracy: 0.3133\n"
     ]
    },
    {
     "name": "stderr",
     "output_type": "stream",
     "text": [
      "Epoch 2/1000: 100%|██████████| 422/422 [01:53<00:00,  3.71it/s, Loss=1.6633, Acc=0.3369]\n"
     ]
    },
    {
     "name": "stdout",
     "output_type": "stream",
     "text": [
      "Epoch 2/1000: Train Loss: 1.6633, Train Acc: 0.3369\n"
     ]
    },
    {
     "name": "stderr",
     "output_type": "stream",
     "text": [
      "Validation: 100%|██████████| 47/47 [00:03<00:00, 11.84it/s, Loss=1.6463, Acc=0.3570]\n"
     ]
    },
    {
     "name": "stdout",
     "output_type": "stream",
     "text": [
      "Epoch 2/1000: Val Loss: 1.6463, Val Acc: 0.3570, Val F1: 0.2686\n",
      "Current Learning Rate: 3e-05\n",
      "Best model saved at ../Experiment Augment Result/model16_augment_best.pt with accuracy: 0.3570\n"
     ]
    },
    {
     "name": "stderr",
     "output_type": "stream",
     "text": [
      "Epoch 3/1000: 100%|██████████| 422/422 [01:53<00:00,  3.72it/s, Loss=1.6072, Acc=0.3671]\n"
     ]
    },
    {
     "name": "stdout",
     "output_type": "stream",
     "text": [
      "Epoch 3/1000: Train Loss: 1.6072, Train Acc: 0.3671\n"
     ]
    },
    {
     "name": "stderr",
     "output_type": "stream",
     "text": [
      "Validation: 100%|██████████| 47/47 [00:03<00:00, 11.88it/s, Loss=1.5655, Acc=0.3857]\n"
     ]
    },
    {
     "name": "stdout",
     "output_type": "stream",
     "text": [
      "Epoch 3/1000: Val Loss: 1.5655, Val Acc: 0.3857, Val F1: 0.3493\n",
      "Current Learning Rate: 3e-05\n",
      "Best model saved at ../Experiment Augment Result/model16_augment_best.pt with accuracy: 0.3857\n"
     ]
    },
    {
     "name": "stderr",
     "output_type": "stream",
     "text": [
      "Epoch 4/1000: 100%|██████████| 422/422 [01:53<00:00,  3.72it/s, Loss=1.5772, Acc=0.3845]\n"
     ]
    },
    {
     "name": "stdout",
     "output_type": "stream",
     "text": [
      "Epoch 4/1000: Train Loss: 1.5772, Train Acc: 0.3845\n"
     ]
    },
    {
     "name": "stderr",
     "output_type": "stream",
     "text": [
      "Validation: 100%|██████████| 47/47 [00:03<00:00, 11.84it/s, Loss=1.5493, Acc=0.3903]\n"
     ]
    },
    {
     "name": "stdout",
     "output_type": "stream",
     "text": [
      "Epoch 4/1000: Val Loss: 1.5493, Val Acc: 0.3903, Val F1: 0.3517\n",
      "Current Learning Rate: 3e-05\n",
      "Best model saved at ../Experiment Augment Result/model16_augment_best.pt with accuracy: 0.3903\n"
     ]
    },
    {
     "name": "stderr",
     "output_type": "stream",
     "text": [
      "Epoch 5/1000: 100%|██████████| 422/422 [01:53<00:00,  3.71it/s, Loss=1.5552, Acc=0.3881]\n"
     ]
    },
    {
     "name": "stdout",
     "output_type": "stream",
     "text": [
      "Epoch 5/1000: Train Loss: 1.5552, Train Acc: 0.3881\n"
     ]
    },
    {
     "name": "stderr",
     "output_type": "stream",
     "text": [
      "Validation: 100%|██████████| 47/47 [00:03<00:00, 11.88it/s, Loss=1.5143, Acc=0.4103]\n"
     ]
    },
    {
     "name": "stdout",
     "output_type": "stream",
     "text": [
      "Epoch 5/1000: Val Loss: 1.5143, Val Acc: 0.4103, Val F1: 0.3650\n",
      "Current Learning Rate: 3e-05\n",
      "Best model saved at ../Experiment Augment Result/model16_augment_best.pt with accuracy: 0.4103\n"
     ]
    },
    {
     "name": "stderr",
     "output_type": "stream",
     "text": [
      "Epoch 6/1000: 100%|██████████| 422/422 [01:53<00:00,  3.73it/s, Loss=1.5342, Acc=0.4008]\n"
     ]
    },
    {
     "name": "stdout",
     "output_type": "stream",
     "text": [
      "Epoch 6/1000: Train Loss: 1.5342, Train Acc: 0.4008\n"
     ]
    },
    {
     "name": "stderr",
     "output_type": "stream",
     "text": [
      "Validation: 100%|██████████| 47/47 [00:03<00:00, 11.90it/s, Loss=1.5254, Acc=0.4030]\n"
     ]
    },
    {
     "name": "stdout",
     "output_type": "stream",
     "text": [
      "Epoch 6/1000: Val Loss: 1.5254, Val Acc: 0.4030, Val F1: 0.3352\n",
      "Current Learning Rate: 3e-05\n"
     ]
    },
    {
     "name": "stderr",
     "output_type": "stream",
     "text": [
      "Epoch 7/1000: 100%|██████████| 422/422 [01:53<00:00,  3.72it/s, Loss=1.5114, Acc=0.4114]\n"
     ]
    },
    {
     "name": "stdout",
     "output_type": "stream",
     "text": [
      "Epoch 7/1000: Train Loss: 1.5114, Train Acc: 0.4114\n"
     ]
    },
    {
     "name": "stderr",
     "output_type": "stream",
     "text": [
      "Validation: 100%|██████████| 47/47 [00:03<00:00, 11.90it/s, Loss=1.4816, Acc=0.4310]\n"
     ]
    },
    {
     "name": "stdout",
     "output_type": "stream",
     "text": [
      "Epoch 7/1000: Val Loss: 1.4816, Val Acc: 0.4310, Val F1: 0.3956\n",
      "Current Learning Rate: 3e-05\n",
      "Best model saved at ../Experiment Augment Result/model16_augment_best.pt with accuracy: 0.4310\n"
     ]
    },
    {
     "name": "stderr",
     "output_type": "stream",
     "text": [
      "Epoch 8/1000: 100%|██████████| 422/422 [01:53<00:00,  3.73it/s, Loss=1.4876, Acc=0.4215]\n"
     ]
    },
    {
     "name": "stdout",
     "output_type": "stream",
     "text": [
      "Epoch 8/1000: Train Loss: 1.4876, Train Acc: 0.4215\n"
     ]
    },
    {
     "name": "stderr",
     "output_type": "stream",
     "text": [
      "Validation: 100%|██████████| 47/47 [00:03<00:00, 11.85it/s, Loss=1.4837, Acc=0.4320]\n"
     ]
    },
    {
     "name": "stdout",
     "output_type": "stream",
     "text": [
      "Epoch 8/1000: Val Loss: 1.4837, Val Acc: 0.4320, Val F1: 0.4118\n",
      "Current Learning Rate: 3e-05\n",
      "Best model saved at ../Experiment Augment Result/model16_augment_best.pt with accuracy: 0.4320\n"
     ]
    },
    {
     "name": "stderr",
     "output_type": "stream",
     "text": [
      "Epoch 9/1000: 100%|██████████| 422/422 [01:53<00:00,  3.70it/s, Loss=1.4764, Acc=0.4246]\n"
     ]
    },
    {
     "name": "stdout",
     "output_type": "stream",
     "text": [
      "Epoch 9/1000: Train Loss: 1.4764, Train Acc: 0.4246\n"
     ]
    },
    {
     "name": "stderr",
     "output_type": "stream",
     "text": [
      "Validation: 100%|██████████| 47/47 [00:03<00:00, 11.87it/s, Loss=1.4510, Acc=0.4437]\n"
     ]
    },
    {
     "name": "stdout",
     "output_type": "stream",
     "text": [
      "Epoch 9/1000: Val Loss: 1.4510, Val Acc: 0.4437, Val F1: 0.4270\n",
      "Current Learning Rate: 3e-05\n",
      "Best model saved at ../Experiment Augment Result/model16_augment_best.pt with accuracy: 0.4437\n"
     ]
    },
    {
     "name": "stderr",
     "output_type": "stream",
     "text": [
      "Epoch 10/1000: 100%|██████████| 422/422 [01:54<00:00,  3.68it/s, Loss=1.4598, Acc=0.4326]\n"
     ]
    },
    {
     "name": "stdout",
     "output_type": "stream",
     "text": [
      "Epoch 10/1000: Train Loss: 1.4598, Train Acc: 0.4326\n"
     ]
    },
    {
     "name": "stderr",
     "output_type": "stream",
     "text": [
      "Validation: 100%|██████████| 47/47 [00:04<00:00, 11.66it/s, Loss=1.4547, Acc=0.4467]\n"
     ]
    },
    {
     "name": "stdout",
     "output_type": "stream",
     "text": [
      "Epoch 10/1000: Val Loss: 1.4547, Val Acc: 0.4467, Val F1: 0.4023\n",
      "Current Learning Rate: 3e-05\n",
      "Best model saved at ../Experiment Augment Result/model16_augment_best.pt with accuracy: 0.4467\n"
     ]
    },
    {
     "name": "stderr",
     "output_type": "stream",
     "text": [
      "Epoch 11/1000: 100%|██████████| 422/422 [01:53<00:00,  3.73it/s, Loss=1.4428, Acc=0.4383]\n"
     ]
    },
    {
     "name": "stdout",
     "output_type": "stream",
     "text": [
      "Epoch 11/1000: Train Loss: 1.4428, Train Acc: 0.4383\n"
     ]
    },
    {
     "name": "stderr",
     "output_type": "stream",
     "text": [
      "Validation: 100%|██████████| 47/47 [00:04<00:00, 11.68it/s, Loss=1.4438, Acc=0.4417]\n"
     ]
    },
    {
     "name": "stdout",
     "output_type": "stream",
     "text": [
      "Epoch 11/1000: Val Loss: 1.4438, Val Acc: 0.4417, Val F1: 0.4150\n",
      "Current Learning Rate: 3e-05\n"
     ]
    },
    {
     "name": "stderr",
     "output_type": "stream",
     "text": [
      "Epoch 12/1000: 100%|██████████| 422/422 [01:54<00:00,  3.70it/s, Loss=1.4292, Acc=0.4420]\n"
     ]
    },
    {
     "name": "stdout",
     "output_type": "stream",
     "text": [
      "Epoch 12/1000: Train Loss: 1.4292, Train Acc: 0.4420\n"
     ]
    },
    {
     "name": "stderr",
     "output_type": "stream",
     "text": [
      "Validation: 100%|██████████| 47/47 [00:03<00:00, 11.85it/s, Loss=1.4257, Acc=0.4563]\n"
     ]
    },
    {
     "name": "stdout",
     "output_type": "stream",
     "text": [
      "Epoch 12/1000: Val Loss: 1.4257, Val Acc: 0.4563, Val F1: 0.4395\n",
      "Current Learning Rate: 3e-05\n",
      "Best model saved at ../Experiment Augment Result/model16_augment_best.pt with accuracy: 0.4563\n"
     ]
    },
    {
     "name": "stderr",
     "output_type": "stream",
     "text": [
      "Epoch 13/1000: 100%|██████████| 422/422 [01:53<00:00,  3.71it/s, Loss=1.4170, Acc=0.4495]\n"
     ]
    },
    {
     "name": "stdout",
     "output_type": "stream",
     "text": [
      "Epoch 13/1000: Train Loss: 1.4170, Train Acc: 0.4495\n"
     ]
    },
    {
     "name": "stderr",
     "output_type": "stream",
     "text": [
      "Validation: 100%|██████████| 47/47 [00:03<00:00, 11.85it/s, Loss=1.4478, Acc=0.4433]\n"
     ]
    },
    {
     "name": "stdout",
     "output_type": "stream",
     "text": [
      "Epoch 13/1000: Val Loss: 1.4478, Val Acc: 0.4433, Val F1: 0.3997\n",
      "Current Learning Rate: 3e-05\n"
     ]
    },
    {
     "name": "stderr",
     "output_type": "stream",
     "text": [
      "Epoch 14/1000: 100%|██████████| 422/422 [01:52<00:00,  3.74it/s, Loss=1.3989, Acc=0.4578]\n"
     ]
    },
    {
     "name": "stdout",
     "output_type": "stream",
     "text": [
      "Epoch 14/1000: Train Loss: 1.3989, Train Acc: 0.4578\n"
     ]
    },
    {
     "name": "stderr",
     "output_type": "stream",
     "text": [
      "Validation: 100%|██████████| 47/47 [00:03<00:00, 11.88it/s, Loss=1.3920, Acc=0.4567]\n"
     ]
    },
    {
     "name": "stdout",
     "output_type": "stream",
     "text": [
      "Epoch 14/1000: Val Loss: 1.3920, Val Acc: 0.4567, Val F1: 0.4348\n",
      "Current Learning Rate: 3e-05\n",
      "Best model saved at ../Experiment Augment Result/model16_augment_best.pt with accuracy: 0.4567\n"
     ]
    },
    {
     "name": "stderr",
     "output_type": "stream",
     "text": [
      "Epoch 15/1000: 100%|██████████| 422/422 [01:53<00:00,  3.73it/s, Loss=1.3820, Acc=0.4644]\n"
     ]
    },
    {
     "name": "stdout",
     "output_type": "stream",
     "text": [
      "Epoch 15/1000: Train Loss: 1.3820, Train Acc: 0.4644\n"
     ]
    },
    {
     "name": "stderr",
     "output_type": "stream",
     "text": [
      "Validation: 100%|██████████| 47/47 [00:03<00:00, 11.89it/s, Loss=1.3854, Acc=0.4650]\n"
     ]
    },
    {
     "name": "stdout",
     "output_type": "stream",
     "text": [
      "Epoch 15/1000: Val Loss: 1.3854, Val Acc: 0.4650, Val F1: 0.4513\n",
      "Current Learning Rate: 3e-05\n",
      "Best model saved at ../Experiment Augment Result/model16_augment_best.pt with accuracy: 0.4650\n"
     ]
    },
    {
     "name": "stderr",
     "output_type": "stream",
     "text": [
      "Epoch 16/1000: 100%|██████████| 422/422 [01:53<00:00,  3.72it/s, Loss=1.3664, Acc=0.4702]\n"
     ]
    },
    {
     "name": "stdout",
     "output_type": "stream",
     "text": [
      "Epoch 16/1000: Train Loss: 1.3664, Train Acc: 0.4702\n"
     ]
    },
    {
     "name": "stderr",
     "output_type": "stream",
     "text": [
      "Validation: 100%|██████████| 47/47 [00:03<00:00, 11.88it/s, Loss=1.3643, Acc=0.4667]\n"
     ]
    },
    {
     "name": "stdout",
     "output_type": "stream",
     "text": [
      "Epoch 16/1000: Val Loss: 1.3643, Val Acc: 0.4667, Val F1: 0.4469\n",
      "Current Learning Rate: 3e-05\n",
      "Best model saved at ../Experiment Augment Result/model16_augment_best.pt with accuracy: 0.4667\n"
     ]
    },
    {
     "name": "stderr",
     "output_type": "stream",
     "text": [
      "Epoch 17/1000: 100%|██████████| 422/422 [01:54<00:00,  3.69it/s, Loss=1.3552, Acc=0.4759]\n"
     ]
    },
    {
     "name": "stdout",
     "output_type": "stream",
     "text": [
      "Epoch 17/1000: Train Loss: 1.3552, Train Acc: 0.4759\n"
     ]
    },
    {
     "name": "stderr",
     "output_type": "stream",
     "text": [
      "Validation: 100%|██████████| 47/47 [00:03<00:00, 11.82it/s, Loss=1.3593, Acc=0.4707]\n"
     ]
    },
    {
     "name": "stdout",
     "output_type": "stream",
     "text": [
      "Epoch 17/1000: Val Loss: 1.3593, Val Acc: 0.4707, Val F1: 0.4462\n",
      "Current Learning Rate: 3e-05\n",
      "Best model saved at ../Experiment Augment Result/model16_augment_best.pt with accuracy: 0.4707\n"
     ]
    },
    {
     "name": "stderr",
     "output_type": "stream",
     "text": [
      "Epoch 18/1000: 100%|██████████| 422/422 [01:53<00:00,  3.73it/s, Loss=1.3428, Acc=0.4826]\n"
     ]
    },
    {
     "name": "stdout",
     "output_type": "stream",
     "text": [
      "Epoch 18/1000: Train Loss: 1.3428, Train Acc: 0.4826\n"
     ]
    },
    {
     "name": "stderr",
     "output_type": "stream",
     "text": [
      "Validation: 100%|██████████| 47/47 [00:04<00:00, 11.74it/s, Loss=1.3847, Acc=0.4577]\n"
     ]
    },
    {
     "name": "stdout",
     "output_type": "stream",
     "text": [
      "Epoch 18/1000: Val Loss: 1.3847, Val Acc: 0.4577, Val F1: 0.4367\n",
      "Current Learning Rate: 3e-05\n"
     ]
    },
    {
     "name": "stderr",
     "output_type": "stream",
     "text": [
      "Epoch 19/1000: 100%|██████████| 422/422 [01:53<00:00,  3.72it/s, Loss=1.3314, Acc=0.4841]\n"
     ]
    },
    {
     "name": "stdout",
     "output_type": "stream",
     "text": [
      "Epoch 19/1000: Train Loss: 1.3314, Train Acc: 0.4841\n"
     ]
    },
    {
     "name": "stderr",
     "output_type": "stream",
     "text": [
      "Validation: 100%|██████████| 47/47 [00:03<00:00, 11.81it/s, Loss=1.3723, Acc=0.4587]\n"
     ]
    },
    {
     "name": "stdout",
     "output_type": "stream",
     "text": [
      "Epoch 19/1000: Val Loss: 1.3723, Val Acc: 0.4587, Val F1: 0.4406\n",
      "Current Learning Rate: 3e-05\n"
     ]
    },
    {
     "name": "stderr",
     "output_type": "stream",
     "text": [
      "Epoch 20/1000: 100%|██████████| 422/422 [01:53<00:00,  3.73it/s, Loss=1.3171, Acc=0.4925]\n"
     ]
    },
    {
     "name": "stdout",
     "output_type": "stream",
     "text": [
      "Epoch 20/1000: Train Loss: 1.3171, Train Acc: 0.4925\n"
     ]
    },
    {
     "name": "stderr",
     "output_type": "stream",
     "text": [
      "Validation: 100%|██████████| 47/47 [00:03<00:00, 11.86it/s, Loss=1.3470, Acc=0.4757]\n"
     ]
    },
    {
     "name": "stdout",
     "output_type": "stream",
     "text": [
      "Epoch 20/1000: Val Loss: 1.3470, Val Acc: 0.4757, Val F1: 0.4674\n",
      "Current Learning Rate: 3e-05\n",
      "Best model saved at ../Experiment Augment Result/model16_augment_best.pt with accuracy: 0.4757\n"
     ]
    },
    {
     "name": "stderr",
     "output_type": "stream",
     "text": [
      "Epoch 21/1000: 100%|██████████| 422/422 [01:53<00:00,  3.73it/s, Loss=1.3025, Acc=0.4984]\n"
     ]
    },
    {
     "name": "stdout",
     "output_type": "stream",
     "text": [
      "Epoch 21/1000: Train Loss: 1.3025, Train Acc: 0.4984\n"
     ]
    },
    {
     "name": "stderr",
     "output_type": "stream",
     "text": [
      "Validation: 100%|██████████| 47/47 [00:03<00:00, 11.98it/s, Loss=1.3418, Acc=0.4757]\n"
     ]
    },
    {
     "name": "stdout",
     "output_type": "stream",
     "text": [
      "Epoch 21/1000: Val Loss: 1.3418, Val Acc: 0.4757, Val F1: 0.4666\n",
      "Current Learning Rate: 3e-05\n"
     ]
    },
    {
     "name": "stderr",
     "output_type": "stream",
     "text": [
      "Epoch 22/1000: 100%|██████████| 422/422 [01:56<00:00,  3.63it/s, Loss=1.2894, Acc=0.5045]\n"
     ]
    },
    {
     "name": "stdout",
     "output_type": "stream",
     "text": [
      "Epoch 22/1000: Train Loss: 1.2894, Train Acc: 0.5045\n"
     ]
    },
    {
     "name": "stderr",
     "output_type": "stream",
     "text": [
      "Validation: 100%|██████████| 47/47 [00:03<00:00, 11.93it/s, Loss=1.3455, Acc=0.4763]\n"
     ]
    },
    {
     "name": "stdout",
     "output_type": "stream",
     "text": [
      "Epoch 22/1000: Val Loss: 1.3455, Val Acc: 0.4763, Val F1: 0.4578\n",
      "Current Learning Rate: 3e-05\n",
      "Best model saved at ../Experiment Augment Result/model16_augment_best.pt with accuracy: 0.4763\n"
     ]
    },
    {
     "name": "stderr",
     "output_type": "stream",
     "text": [
      "Epoch 23/1000: 100%|██████████| 422/422 [01:53<00:00,  3.73it/s, Loss=1.2811, Acc=0.5072]\n"
     ]
    },
    {
     "name": "stdout",
     "output_type": "stream",
     "text": [
      "Epoch 23/1000: Train Loss: 1.2811, Train Acc: 0.5072\n"
     ]
    },
    {
     "name": "stderr",
     "output_type": "stream",
     "text": [
      "Validation: 100%|██████████| 47/47 [00:04<00:00, 11.17it/s, Loss=1.3368, Acc=0.4820]\n"
     ]
    },
    {
     "name": "stdout",
     "output_type": "stream",
     "text": [
      "Epoch 23/1000: Val Loss: 1.3368, Val Acc: 0.4820, Val F1: 0.4659\n",
      "Current Learning Rate: 3e-05\n",
      "Best model saved at ../Experiment Augment Result/model16_augment_best.pt with accuracy: 0.4820\n"
     ]
    },
    {
     "name": "stderr",
     "output_type": "stream",
     "text": [
      "Epoch 24/1000: 100%|██████████| 422/422 [01:53<00:00,  3.71it/s, Loss=1.2656, Acc=0.5117]\n"
     ]
    },
    {
     "name": "stdout",
     "output_type": "stream",
     "text": [
      "Epoch 24/1000: Train Loss: 1.2656, Train Acc: 0.5117\n"
     ]
    },
    {
     "name": "stderr",
     "output_type": "stream",
     "text": [
      "Validation: 100%|██████████| 47/47 [00:03<00:00, 11.99it/s, Loss=1.3223, Acc=0.4827]\n"
     ]
    },
    {
     "name": "stdout",
     "output_type": "stream",
     "text": [
      "Epoch 24/1000: Val Loss: 1.3223, Val Acc: 0.4827, Val F1: 0.4635\n",
      "Current Learning Rate: 3e-05\n",
      "Best model saved at ../Experiment Augment Result/model16_augment_best.pt with accuracy: 0.4827\n"
     ]
    },
    {
     "name": "stderr",
     "output_type": "stream",
     "text": [
      "Epoch 25/1000: 100%|██████████| 422/422 [01:53<00:00,  3.73it/s, Loss=1.2611, Acc=0.5170]\n"
     ]
    },
    {
     "name": "stdout",
     "output_type": "stream",
     "text": [
      "Epoch 25/1000: Train Loss: 1.2611, Train Acc: 0.5170\n"
     ]
    },
    {
     "name": "stderr",
     "output_type": "stream",
     "text": [
      "Validation: 100%|██████████| 47/47 [00:03<00:00, 11.83it/s, Loss=1.3126, Acc=0.4907]\n"
     ]
    },
    {
     "name": "stdout",
     "output_type": "stream",
     "text": [
      "Epoch 25/1000: Val Loss: 1.3126, Val Acc: 0.4907, Val F1: 0.4808\n",
      "Current Learning Rate: 3e-05\n",
      "Best model saved at ../Experiment Augment Result/model16_augment_best.pt with accuracy: 0.4907\n"
     ]
    },
    {
     "name": "stderr",
     "output_type": "stream",
     "text": [
      "Epoch 26/1000: 100%|██████████| 422/422 [01:53<00:00,  3.73it/s, Loss=1.2435, Acc=0.5223]\n"
     ]
    },
    {
     "name": "stdout",
     "output_type": "stream",
     "text": [
      "Epoch 26/1000: Train Loss: 1.2435, Train Acc: 0.5223\n"
     ]
    },
    {
     "name": "stderr",
     "output_type": "stream",
     "text": [
      "Validation: 100%|██████████| 47/47 [00:03<00:00, 11.82it/s, Loss=1.3262, Acc=0.4823]\n"
     ]
    },
    {
     "name": "stdout",
     "output_type": "stream",
     "text": [
      "Epoch 26/1000: Val Loss: 1.3262, Val Acc: 0.4823, Val F1: 0.4654\n",
      "Current Learning Rate: 3e-05\n"
     ]
    },
    {
     "name": "stderr",
     "output_type": "stream",
     "text": [
      "Epoch 27/1000: 100%|██████████| 422/422 [01:52<00:00,  3.74it/s, Loss=1.2360, Acc=0.5240]\n"
     ]
    },
    {
     "name": "stdout",
     "output_type": "stream",
     "text": [
      "Epoch 27/1000: Train Loss: 1.2360, Train Acc: 0.5240\n"
     ]
    },
    {
     "name": "stderr",
     "output_type": "stream",
     "text": [
      "Validation: 100%|██████████| 47/47 [00:03<00:00, 11.84it/s, Loss=1.3160, Acc=0.4950]\n"
     ]
    },
    {
     "name": "stdout",
     "output_type": "stream",
     "text": [
      "Epoch 27/1000: Val Loss: 1.3160, Val Acc: 0.4950, Val F1: 0.4929\n",
      "Current Learning Rate: 3e-05\n",
      "Best model saved at ../Experiment Augment Result/model16_augment_best.pt with accuracy: 0.4950\n"
     ]
    },
    {
     "name": "stderr",
     "output_type": "stream",
     "text": [
      "Epoch 28/1000: 100%|██████████| 422/422 [01:52<00:00,  3.74it/s, Loss=1.2286, Acc=0.5300]\n"
     ]
    },
    {
     "name": "stdout",
     "output_type": "stream",
     "text": [
      "Epoch 28/1000: Train Loss: 1.2286, Train Acc: 0.5300\n"
     ]
    },
    {
     "name": "stderr",
     "output_type": "stream",
     "text": [
      "Validation: 100%|██████████| 47/47 [00:03<00:00, 11.87it/s, Loss=1.3052, Acc=0.4923]\n"
     ]
    },
    {
     "name": "stdout",
     "output_type": "stream",
     "text": [
      "Epoch 28/1000: Val Loss: 1.3052, Val Acc: 0.4923, Val F1: 0.4780\n",
      "Current Learning Rate: 3e-05\n"
     ]
    },
    {
     "name": "stderr",
     "output_type": "stream",
     "text": [
      "Epoch 29/1000: 100%|██████████| 422/422 [01:52<00:00,  3.74it/s, Loss=1.2135, Acc=0.5370]\n"
     ]
    },
    {
     "name": "stdout",
     "output_type": "stream",
     "text": [
      "Epoch 29/1000: Train Loss: 1.2135, Train Acc: 0.5370\n"
     ]
    },
    {
     "name": "stderr",
     "output_type": "stream",
     "text": [
      "Validation: 100%|██████████| 47/47 [00:03<00:00, 11.89it/s, Loss=1.2879, Acc=0.5030]\n"
     ]
    },
    {
     "name": "stdout",
     "output_type": "stream",
     "text": [
      "Epoch 29/1000: Val Loss: 1.2879, Val Acc: 0.5030, Val F1: 0.4959\n",
      "Current Learning Rate: 3e-05\n",
      "Best model saved at ../Experiment Augment Result/model16_augment_best.pt with accuracy: 0.5030\n"
     ]
    },
    {
     "name": "stderr",
     "output_type": "stream",
     "text": [
      "Epoch 30/1000: 100%|██████████| 422/422 [01:53<00:00,  3.72it/s, Loss=1.1938, Acc=0.5408]\n"
     ]
    },
    {
     "name": "stdout",
     "output_type": "stream",
     "text": [
      "Epoch 30/1000: Train Loss: 1.1938, Train Acc: 0.5408\n"
     ]
    },
    {
     "name": "stderr",
     "output_type": "stream",
     "text": [
      "Validation: 100%|██████████| 47/47 [00:03<00:00, 11.92it/s, Loss=1.3030, Acc=0.5020]\n"
     ]
    },
    {
     "name": "stdout",
     "output_type": "stream",
     "text": [
      "Epoch 30/1000: Val Loss: 1.3030, Val Acc: 0.5020, Val F1: 0.4886\n",
      "Current Learning Rate: 3e-05\n"
     ]
    },
    {
     "name": "stderr",
     "output_type": "stream",
     "text": [
      "Epoch 31/1000: 100%|██████████| 422/422 [01:53<00:00,  3.73it/s, Loss=1.1800, Acc=0.5499]\n"
     ]
    },
    {
     "name": "stdout",
     "output_type": "stream",
     "text": [
      "Epoch 31/1000: Train Loss: 1.1800, Train Acc: 0.5499\n"
     ]
    },
    {
     "name": "stderr",
     "output_type": "stream",
     "text": [
      "Validation: 100%|██████████| 47/47 [00:03<00:00, 11.85it/s, Loss=1.2974, Acc=0.4967]\n"
     ]
    },
    {
     "name": "stdout",
     "output_type": "stream",
     "text": [
      "Epoch 31/1000: Val Loss: 1.2974, Val Acc: 0.4967, Val F1: 0.4948\n",
      "Current Learning Rate: 3e-05\n"
     ]
    },
    {
     "name": "stderr",
     "output_type": "stream",
     "text": [
      "Epoch 32/1000: 100%|██████████| 422/422 [01:54<00:00,  3.70it/s, Loss=1.1687, Acc=0.5536]\n"
     ]
    },
    {
     "name": "stdout",
     "output_type": "stream",
     "text": [
      "Epoch 32/1000: Train Loss: 1.1687, Train Acc: 0.5536\n"
     ]
    },
    {
     "name": "stderr",
     "output_type": "stream",
     "text": [
      "Validation: 100%|██████████| 47/47 [00:04<00:00, 11.73it/s, Loss=1.3090, Acc=0.4953]\n"
     ]
    },
    {
     "name": "stdout",
     "output_type": "stream",
     "text": [
      "Epoch 32/1000: Val Loss: 1.3090, Val Acc: 0.4953, Val F1: 0.4805\n",
      "Current Learning Rate: 3e-05\n"
     ]
    },
    {
     "name": "stderr",
     "output_type": "stream",
     "text": [
      "Epoch 33/1000: 100%|██████████| 422/422 [01:54<00:00,  3.70it/s, Loss=1.1577, Acc=0.5582]\n"
     ]
    },
    {
     "name": "stdout",
     "output_type": "stream",
     "text": [
      "Epoch 33/1000: Train Loss: 1.1577, Train Acc: 0.5582\n"
     ]
    },
    {
     "name": "stderr",
     "output_type": "stream",
     "text": [
      "Validation: 100%|██████████| 47/47 [00:03<00:00, 11.84it/s, Loss=1.2684, Acc=0.5180]\n"
     ]
    },
    {
     "name": "stdout",
     "output_type": "stream",
     "text": [
      "Epoch 33/1000: Val Loss: 1.2684, Val Acc: 0.5180, Val F1: 0.5091\n",
      "Current Learning Rate: 3e-05\n",
      "Best model saved at ../Experiment Augment Result/model16_augment_best.pt with accuracy: 0.5180\n"
     ]
    },
    {
     "name": "stderr",
     "output_type": "stream",
     "text": [
      "Epoch 34/1000: 100%|██████████| 422/422 [01:52<00:00,  3.74it/s, Loss=1.1423, Acc=0.5646]\n"
     ]
    },
    {
     "name": "stdout",
     "output_type": "stream",
     "text": [
      "Epoch 34/1000: Train Loss: 1.1423, Train Acc: 0.5646\n"
     ]
    },
    {
     "name": "stderr",
     "output_type": "stream",
     "text": [
      "Validation: 100%|██████████| 47/47 [00:03<00:00, 11.91it/s, Loss=1.2884, Acc=0.5090]\n"
     ]
    },
    {
     "name": "stdout",
     "output_type": "stream",
     "text": [
      "Epoch 34/1000: Val Loss: 1.2884, Val Acc: 0.5090, Val F1: 0.4950\n",
      "Current Learning Rate: 3e-05\n"
     ]
    },
    {
     "name": "stderr",
     "output_type": "stream",
     "text": [
      "Epoch 35/1000: 100%|██████████| 422/422 [01:52<00:00,  3.74it/s, Loss=1.1393, Acc=0.5639]\n"
     ]
    },
    {
     "name": "stdout",
     "output_type": "stream",
     "text": [
      "Epoch 35/1000: Train Loss: 1.1393, Train Acc: 0.5639\n"
     ]
    },
    {
     "name": "stderr",
     "output_type": "stream",
     "text": [
      "Validation: 100%|██████████| 47/47 [00:03<00:00, 11.82it/s, Loss=1.2798, Acc=0.5110]\n"
     ]
    },
    {
     "name": "stdout",
     "output_type": "stream",
     "text": [
      "Epoch 35/1000: Val Loss: 1.2798, Val Acc: 0.5110, Val F1: 0.5036\n",
      "Current Learning Rate: 3e-05\n"
     ]
    },
    {
     "name": "stderr",
     "output_type": "stream",
     "text": [
      "Epoch 36/1000: 100%|██████████| 422/422 [01:52<00:00,  3.74it/s, Loss=1.1181, Acc=0.5736]\n"
     ]
    },
    {
     "name": "stdout",
     "output_type": "stream",
     "text": [
      "Epoch 36/1000: Train Loss: 1.1181, Train Acc: 0.5736\n"
     ]
    },
    {
     "name": "stderr",
     "output_type": "stream",
     "text": [
      "Validation: 100%|██████████| 47/47 [00:03<00:00, 11.86it/s, Loss=1.2891, Acc=0.5123]\n"
     ]
    },
    {
     "name": "stdout",
     "output_type": "stream",
     "text": [
      "Epoch 36/1000: Val Loss: 1.2891, Val Acc: 0.5123, Val F1: 0.5065\n",
      "Current Learning Rate: 3e-05\n"
     ]
    },
    {
     "name": "stderr",
     "output_type": "stream",
     "text": [
      "Epoch 37/1000: 100%|██████████| 422/422 [01:53<00:00,  3.73it/s, Loss=1.1091, Acc=0.5792]\n"
     ]
    },
    {
     "name": "stdout",
     "output_type": "stream",
     "text": [
      "Epoch 37/1000: Train Loss: 1.1091, Train Acc: 0.5792\n"
     ]
    },
    {
     "name": "stderr",
     "output_type": "stream",
     "text": [
      "Validation: 100%|██████████| 47/47 [00:03<00:00, 11.87it/s, Loss=1.2818, Acc=0.5107]\n"
     ]
    },
    {
     "name": "stdout",
     "output_type": "stream",
     "text": [
      "Epoch 37/1000: Val Loss: 1.2818, Val Acc: 0.5107, Val F1: 0.5001\n",
      "Current Learning Rate: 3e-05\n"
     ]
    },
    {
     "name": "stderr",
     "output_type": "stream",
     "text": [
      "Epoch 38/1000: 100%|██████████| 422/422 [01:53<00:00,  3.72it/s, Loss=1.1004, Acc=0.5823]\n"
     ]
    },
    {
     "name": "stdout",
     "output_type": "stream",
     "text": [
      "Epoch 38/1000: Train Loss: 1.1004, Train Acc: 0.5823\n"
     ]
    },
    {
     "name": "stderr",
     "output_type": "stream",
     "text": [
      "Validation: 100%|██████████| 47/47 [00:03<00:00, 11.86it/s, Loss=1.2851, Acc=0.5170]\n"
     ]
    },
    {
     "name": "stdout",
     "output_type": "stream",
     "text": [
      "Epoch 38/1000: Val Loss: 1.2851, Val Acc: 0.5170, Val F1: 0.5086\n",
      "Current Learning Rate: 3e-05\n"
     ]
    },
    {
     "name": "stderr",
     "output_type": "stream",
     "text": [
      "Epoch 39/1000: 100%|██████████| 422/422 [01:55<00:00,  3.66it/s, Loss=1.0822, Acc=0.5910]\n"
     ]
    },
    {
     "name": "stdout",
     "output_type": "stream",
     "text": [
      "Epoch 39/1000: Train Loss: 1.0822, Train Acc: 0.5910\n"
     ]
    },
    {
     "name": "stderr",
     "output_type": "stream",
     "text": [
      "Validation: 100%|██████████| 47/47 [00:03<00:00, 11.84it/s, Loss=1.2837, Acc=0.5050]\n"
     ]
    },
    {
     "name": "stdout",
     "output_type": "stream",
     "text": [
      "Epoch 39/1000: Val Loss: 1.2837, Val Acc: 0.5050, Val F1: 0.5031\n",
      "Current Learning Rate: 3e-06\n"
     ]
    },
    {
     "name": "stderr",
     "output_type": "stream",
     "text": [
      "Epoch 40/1000: 100%|██████████| 422/422 [01:53<00:00,  3.72it/s, Loss=1.0134, Acc=0.6164]\n"
     ]
    },
    {
     "name": "stdout",
     "output_type": "stream",
     "text": [
      "Epoch 40/1000: Train Loss: 1.0134, Train Acc: 0.6164\n"
     ]
    },
    {
     "name": "stderr",
     "output_type": "stream",
     "text": [
      "Validation: 100%|██████████| 47/47 [00:03<00:00, 11.80it/s, Loss=1.2489, Acc=0.5310]\n"
     ]
    },
    {
     "name": "stdout",
     "output_type": "stream",
     "text": [
      "Epoch 40/1000: Val Loss: 1.2489, Val Acc: 0.5310, Val F1: 0.5282\n",
      "Current Learning Rate: 3e-06\n",
      "Best model saved at ../Experiment Augment Result/model16_augment_best.pt with accuracy: 0.5310\n"
     ]
    },
    {
     "name": "stderr",
     "output_type": "stream",
     "text": [
      "Epoch 41/1000: 100%|██████████| 422/422 [01:54<00:00,  3.67it/s, Loss=0.9834, Acc=0.6287]\n"
     ]
    },
    {
     "name": "stdout",
     "output_type": "stream",
     "text": [
      "Epoch 41/1000: Train Loss: 0.9834, Train Acc: 0.6287\n"
     ]
    },
    {
     "name": "stderr",
     "output_type": "stream",
     "text": [
      "Validation: 100%|██████████| 47/47 [00:04<00:00, 11.63it/s, Loss=1.2486, Acc=0.5270]\n"
     ]
    },
    {
     "name": "stdout",
     "output_type": "stream",
     "text": [
      "Epoch 41/1000: Val Loss: 1.2486, Val Acc: 0.5270, Val F1: 0.5226\n",
      "Current Learning Rate: 3e-06\n"
     ]
    },
    {
     "name": "stderr",
     "output_type": "stream",
     "text": [
      "Epoch 42/1000: 100%|██████████| 422/422 [01:53<00:00,  3.71it/s, Loss=0.9616, Acc=0.6380]\n"
     ]
    },
    {
     "name": "stdout",
     "output_type": "stream",
     "text": [
      "Epoch 42/1000: Train Loss: 0.9616, Train Acc: 0.6380\n"
     ]
    },
    {
     "name": "stderr",
     "output_type": "stream",
     "text": [
      "Validation: 100%|██████████| 47/47 [00:03<00:00, 11.86it/s, Loss=1.2545, Acc=0.5297]\n"
     ]
    },
    {
     "name": "stdout",
     "output_type": "stream",
     "text": [
      "Epoch 42/1000: Val Loss: 1.2545, Val Acc: 0.5297, Val F1: 0.5252\n",
      "Current Learning Rate: 3e-06\n"
     ]
    },
    {
     "name": "stderr",
     "output_type": "stream",
     "text": [
      "Epoch 43/1000: 100%|██████████| 422/422 [01:53<00:00,  3.71it/s, Loss=0.9613, Acc=0.6385]\n"
     ]
    },
    {
     "name": "stdout",
     "output_type": "stream",
     "text": [
      "Epoch 43/1000: Train Loss: 0.9613, Train Acc: 0.6385\n"
     ]
    },
    {
     "name": "stderr",
     "output_type": "stream",
     "text": [
      "Validation: 100%|██████████| 47/47 [00:03<00:00, 11.82it/s, Loss=1.2509, Acc=0.5330]\n"
     ]
    },
    {
     "name": "stdout",
     "output_type": "stream",
     "text": [
      "Epoch 43/1000: Val Loss: 1.2509, Val Acc: 0.5330, Val F1: 0.5295\n",
      "Current Learning Rate: 3e-06\n",
      "Best model saved at ../Experiment Augment Result/model16_augment_best.pt with accuracy: 0.5330\n"
     ]
    },
    {
     "name": "stderr",
     "output_type": "stream",
     "text": [
      "Epoch 44/1000: 100%|██████████| 422/422 [01:53<00:00,  3.71it/s, Loss=0.9498, Acc=0.6457]\n"
     ]
    },
    {
     "name": "stdout",
     "output_type": "stream",
     "text": [
      "Epoch 44/1000: Train Loss: 0.9498, Train Acc: 0.6457\n"
     ]
    },
    {
     "name": "stderr",
     "output_type": "stream",
     "text": [
      "Validation: 100%|██████████| 47/47 [00:03<00:00, 11.86it/s, Loss=1.2541, Acc=0.5287]\n"
     ]
    },
    {
     "name": "stdout",
     "output_type": "stream",
     "text": [
      "Epoch 44/1000: Val Loss: 1.2541, Val Acc: 0.5287, Val F1: 0.5258\n",
      "Current Learning Rate: 3e-06\n"
     ]
    },
    {
     "name": "stderr",
     "output_type": "stream",
     "text": [
      "Epoch 45/1000: 100%|██████████| 422/422 [01:53<00:00,  3.73it/s, Loss=0.9444, Acc=0.6504]\n"
     ]
    },
    {
     "name": "stdout",
     "output_type": "stream",
     "text": [
      "Epoch 45/1000: Train Loss: 0.9444, Train Acc: 0.6504\n"
     ]
    },
    {
     "name": "stderr",
     "output_type": "stream",
     "text": [
      "Validation: 100%|██████████| 47/47 [00:03<00:00, 11.87it/s, Loss=1.2557, Acc=0.5307]\n"
     ]
    },
    {
     "name": "stdout",
     "output_type": "stream",
     "text": [
      "Epoch 45/1000: Val Loss: 1.2557, Val Acc: 0.5307, Val F1: 0.5280\n",
      "Current Learning Rate: 3e-06\n"
     ]
    },
    {
     "name": "stderr",
     "output_type": "stream",
     "text": [
      "Epoch 46/1000: 100%|██████████| 422/422 [01:53<00:00,  3.73it/s, Loss=0.9306, Acc=0.6508]\n"
     ]
    },
    {
     "name": "stdout",
     "output_type": "stream",
     "text": [
      "Epoch 46/1000: Train Loss: 0.9306, Train Acc: 0.6508\n"
     ]
    },
    {
     "name": "stderr",
     "output_type": "stream",
     "text": [
      "Validation: 100%|██████████| 47/47 [00:03<00:00, 11.88it/s, Loss=1.2537, Acc=0.5363]\n"
     ]
    },
    {
     "name": "stdout",
     "output_type": "stream",
     "text": [
      "Epoch 46/1000: Val Loss: 1.2537, Val Acc: 0.5363, Val F1: 0.5322\n",
      "Current Learning Rate: 3e-06\n",
      "Best model saved at ../Experiment Augment Result/model16_augment_best.pt with accuracy: 0.5363\n"
     ]
    },
    {
     "name": "stderr",
     "output_type": "stream",
     "text": [
      "Epoch 47/1000: 100%|██████████| 422/422 [01:53<00:00,  3.72it/s, Loss=0.9305, Acc=0.6526]\n"
     ]
    },
    {
     "name": "stdout",
     "output_type": "stream",
     "text": [
      "Epoch 47/1000: Train Loss: 0.9305, Train Acc: 0.6526\n"
     ]
    },
    {
     "name": "stderr",
     "output_type": "stream",
     "text": [
      "Validation: 100%|██████████| 47/47 [00:03<00:00, 11.92it/s, Loss=1.2627, Acc=0.5310]\n"
     ]
    },
    {
     "name": "stdout",
     "output_type": "stream",
     "text": [
      "Epoch 47/1000: Val Loss: 1.2627, Val Acc: 0.5310, Val F1: 0.5280\n",
      "Current Learning Rate: 3.0000000000000004e-07\n"
     ]
    },
    {
     "name": "stderr",
     "output_type": "stream",
     "text": [
      "Epoch 48/1000: 100%|██████████| 422/422 [01:53<00:00,  3.73it/s, Loss=0.9234, Acc=0.6547]\n"
     ]
    },
    {
     "name": "stdout",
     "output_type": "stream",
     "text": [
      "Epoch 48/1000: Train Loss: 0.9234, Train Acc: 0.6547\n"
     ]
    },
    {
     "name": "stderr",
     "output_type": "stream",
     "text": [
      "Validation: 100%|██████████| 47/47 [00:03<00:00, 11.86it/s, Loss=1.2599, Acc=0.5297]\n"
     ]
    },
    {
     "name": "stdout",
     "output_type": "stream",
     "text": [
      "Epoch 48/1000: Val Loss: 1.2599, Val Acc: 0.5297, Val F1: 0.5264\n",
      "Current Learning Rate: 3.0000000000000004e-07\n"
     ]
    },
    {
     "name": "stderr",
     "output_type": "stream",
     "text": [
      "Epoch 49/1000: 100%|██████████| 422/422 [01:53<00:00,  3.73it/s, Loss=0.9129, Acc=0.6584]\n"
     ]
    },
    {
     "name": "stdout",
     "output_type": "stream",
     "text": [
      "Epoch 49/1000: Train Loss: 0.9129, Train Acc: 0.6584\n"
     ]
    },
    {
     "name": "stderr",
     "output_type": "stream",
     "text": [
      "Validation: 100%|██████████| 47/47 [00:03<00:00, 11.93it/s, Loss=1.2587, Acc=0.5340]\n"
     ]
    },
    {
     "name": "stdout",
     "output_type": "stream",
     "text": [
      "Epoch 49/1000: Val Loss: 1.2587, Val Acc: 0.5340, Val F1: 0.5310\n",
      "Current Learning Rate: 3.0000000000000004e-07\n"
     ]
    },
    {
     "name": "stderr",
     "output_type": "stream",
     "text": [
      "Epoch 50/1000: 100%|██████████| 422/422 [01:53<00:00,  3.72it/s, Loss=0.9156, Acc=0.6568]\n"
     ]
    },
    {
     "name": "stdout",
     "output_type": "stream",
     "text": [
      "Epoch 50/1000: Train Loss: 0.9156, Train Acc: 0.6568\n"
     ]
    },
    {
     "name": "stderr",
     "output_type": "stream",
     "text": [
      "Validation: 100%|██████████| 47/47 [00:03<00:00, 11.84it/s, Loss=1.2576, Acc=0.5310]\n"
     ]
    },
    {
     "name": "stdout",
     "output_type": "stream",
     "text": [
      "Epoch 50/1000: Val Loss: 1.2576, Val Acc: 0.5310, Val F1: 0.5284\n",
      "Current Learning Rate: 3.0000000000000004e-07\n"
     ]
    },
    {
     "name": "stderr",
     "output_type": "stream",
     "text": [
      "Epoch 51/1000: 100%|██████████| 422/422 [01:54<00:00,  3.69it/s, Loss=0.9124, Acc=0.6573]\n"
     ]
    },
    {
     "name": "stdout",
     "output_type": "stream",
     "text": [
      "Epoch 51/1000: Train Loss: 0.9124, Train Acc: 0.6573\n"
     ]
    },
    {
     "name": "stderr",
     "output_type": "stream",
     "text": [
      "Validation: 100%|██████████| 47/47 [00:03<00:00, 11.99it/s, Loss=1.2577, Acc=0.5353]\n"
     ]
    },
    {
     "name": "stdout",
     "output_type": "stream",
     "text": [
      "Epoch 51/1000: Val Loss: 1.2577, Val Acc: 0.5353, Val F1: 0.5324\n",
      "Current Learning Rate: 3.0000000000000004e-07\n"
     ]
    },
    {
     "name": "stderr",
     "output_type": "stream",
     "text": [
      "Epoch 52/1000: 100%|██████████| 422/422 [01:52<00:00,  3.74it/s, Loss=0.9175, Acc=0.6593]\n"
     ]
    },
    {
     "name": "stdout",
     "output_type": "stream",
     "text": [
      "Epoch 52/1000: Train Loss: 0.9175, Train Acc: 0.6593\n"
     ]
    },
    {
     "name": "stderr",
     "output_type": "stream",
     "text": [
      "Validation: 100%|██████████| 47/47 [00:03<00:00, 12.10it/s, Loss=1.2577, Acc=0.5353]\n"
     ]
    },
    {
     "name": "stdout",
     "output_type": "stream",
     "text": [
      "Epoch 52/1000: Val Loss: 1.2577, Val Acc: 0.5353, Val F1: 0.5324\n",
      "Current Learning Rate: 3.0000000000000004e-07\n"
     ]
    },
    {
     "name": "stderr",
     "output_type": "stream",
     "text": [
      "Epoch 53/1000: 100%|██████████| 422/422 [01:52<00:00,  3.76it/s, Loss=0.9107, Acc=0.6609]\n"
     ]
    },
    {
     "name": "stdout",
     "output_type": "stream",
     "text": [
      "Epoch 53/1000: Train Loss: 0.9107, Train Acc: 0.6609\n"
     ]
    },
    {
     "name": "stderr",
     "output_type": "stream",
     "text": [
      "Validation: 100%|██████████| 47/47 [00:03<00:00, 12.15it/s, Loss=1.2586, Acc=0.5333]\n"
     ]
    },
    {
     "name": "stdout",
     "output_type": "stream",
     "text": [
      "Epoch 53/1000: Val Loss: 1.2586, Val Acc: 0.5333, Val F1: 0.5306\n",
      "Current Learning Rate: 3.0000000000000004e-08\n"
     ]
    },
    {
     "name": "stderr",
     "output_type": "stream",
     "text": [
      "Epoch 54/1000: 100%|██████████| 422/422 [01:53<00:00,  3.72it/s, Loss=0.9092, Acc=0.6613]\n"
     ]
    },
    {
     "name": "stdout",
     "output_type": "stream",
     "text": [
      "Epoch 54/1000: Train Loss: 0.9092, Train Acc: 0.6613\n"
     ]
    },
    {
     "name": "stderr",
     "output_type": "stream",
     "text": [
      "Validation: 100%|██████████| 47/47 [00:03<00:00, 12.04it/s, Loss=1.2582, Acc=0.5340]\n"
     ]
    },
    {
     "name": "stdout",
     "output_type": "stream",
     "text": [
      "Epoch 54/1000: Val Loss: 1.2582, Val Acc: 0.5340, Val F1: 0.5312\n",
      "Current Learning Rate: 3.0000000000000004e-08\n"
     ]
    },
    {
     "name": "stderr",
     "output_type": "stream",
     "text": [
      "Epoch 55/1000: 100%|██████████| 422/422 [01:52<00:00,  3.76it/s, Loss=0.9113, Acc=0.6611]\n"
     ]
    },
    {
     "name": "stdout",
     "output_type": "stream",
     "text": [
      "Epoch 55/1000: Train Loss: 0.9113, Train Acc: 0.6611\n"
     ]
    },
    {
     "name": "stderr",
     "output_type": "stream",
     "text": [
      "Validation: 100%|██████████| 47/47 [00:03<00:00, 11.92it/s, Loss=1.2584, Acc=0.5333]\n"
     ]
    },
    {
     "name": "stdout",
     "output_type": "stream",
     "text": [
      "Epoch 55/1000: Val Loss: 1.2584, Val Acc: 0.5333, Val F1: 0.5304\n",
      "Current Learning Rate: 3.0000000000000004e-08\n"
     ]
    },
    {
     "name": "stderr",
     "output_type": "stream",
     "text": [
      "Epoch 56/1000: 100%|██████████| 422/422 [01:53<00:00,  3.73it/s, Loss=0.9034, Acc=0.6637]\n"
     ]
    },
    {
     "name": "stdout",
     "output_type": "stream",
     "text": [
      "Epoch 56/1000: Train Loss: 0.9034, Train Acc: 0.6637\n"
     ]
    },
    {
     "name": "stderr",
     "output_type": "stream",
     "text": [
      "Validation: 100%|██████████| 47/47 [00:03<00:00, 11.87it/s, Loss=1.2575, Acc=0.5337]\n"
     ]
    },
    {
     "name": "stdout",
     "output_type": "stream",
     "text": [
      "Epoch 56/1000: Val Loss: 1.2575, Val Acc: 0.5337, Val F1: 0.5308\n",
      "Current Learning Rate: 3.0000000000000004e-08\n",
      "Early stopping triggered at epoch 56!\n"
     ]
    },
    {
     "name": "stderr",
     "output_type": "stream",
     "text": [
      "Testing: 100%|██████████| 53/53 [00:04<00:00, 12.08it/s, Loss=1.2692, Acc=0.5404]\n"
     ]
    },
    {
     "name": "stdout",
     "output_type": "stream",
     "text": [
      "Test Loss: 1.2692, Test Acc: 0.5404, Test F1: 0.5321\n"
     ]
    }
   ],
   "source": [
    "train_loader = DataLoader(train_dataset, batch_size=BATCH_SIZE, shuffle=True, generator=torch.Generator().manual_seed(SEED))\n",
    "val_loader = DataLoader(val_dataset, batch_size=BATCH_SIZE, shuffle=True, generator=torch.Generator().manual_seed(SEED))\n",
    "test_loader = DataLoader(test_dataset, batch_size=BATCH_SIZE, shuffle=False, generator=torch.Generator().manual_seed(SEED))\n",
    "\n",
    "# Open the configuration CSV file in append mode\n",
    "with open(config_csv_path, mode='a', newline='') as config_file, \\\n",
    "     open(epoch_csv_path, mode='a', newline='') as epoch_file, \\\n",
    "     open(test_csv_path, mode='a', newline='') as test_file:\n",
    "    \n",
    "    config_writer = csv.writer(config_file)\n",
    "    epoch_writer = csv.writer(epoch_file)\n",
    "    test_writer = csv.writer(test_file)\n",
    "\n",
    "    idx = 9\n",
    "\n",
    "    for patch_size in patch_sizes:\n",
    "        for num_head in num_heads:\n",
    "            for embedding_dim in embedding_dims:\n",
    "                for num_transformer_layer in num_transformer_layers:\n",
    "                    print(f\"Start model{idx} with configuration patch size: {patch_size}, num_heads: {num_head}, embedding_dims: {embedding_dim}, num_layers: {num_transformer_layer}\")\n",
    "                        \n",
    "                    # Model initialization\n",
    "                    model = ViT(num_classes=len(class_names), \n",
    "                                in_channels=1, \n",
    "                                patch_size=patch_size, \n",
    "                                num_heads=num_head, \n",
    "                                embedding_dim=embedding_dim, \n",
    "                                num_transformer_layers=num_transformer_layer)\n",
    "\n",
    "                    model = model.to(DEVICE)\n",
    "\n",
    "                    # Initialize BestModelSaver and MetricsPlotter\n",
    "                    model_saver = BestModelSaver(save_path=\"../Experiment Augment Result\", model_name=f\"model{idx}_augment\")\n",
    "                    metrics_plotter = MetricsPlotter(save_path=\"../Experiment Augment Result\", model_name=f\"model{idx}_augment\")\n",
    "\n",
    "                    optimizer = optim.AdamW(model.parameters(), lr=LEARNING_RATE)\n",
    "                    criterion = nn.CrossEntropyLoss()\n",
    "\n",
    "                    # Define the learning rate scheduler\n",
    "                    scheduler = ReduceLROnPlateau(optimizer, mode='min', factor=0.1, patience=5)\n",
    "                    early_stopping = EarlyStopping(patience=15, min_delta=0)\n",
    "\n",
    "                    # Initialize Validator\n",
    "                    validator = Validator(model=model, criterion=criterion, device=DEVICE)\n",
    "\n",
    "                    # Initialize lists to store training and validation metrics\n",
    "                    train_losses = []\n",
    "                    val_losses = []\n",
    "                    train_accuracies = []\n",
    "                    val_accuracies = []\n",
    "\n",
    "                    for epoch in range(EPOCHS):\n",
    "                        model.train()\n",
    "                        train_loss = 0.0\n",
    "                        correct = 0\n",
    "                        total = 0\n",
    "\n",
    "                        # Training\n",
    "                        pbar = tqdm(train_loader, desc=f\"Epoch {epoch + 1}/{EPOCHS}\")\n",
    "                        for batch_idx, (inputs, targets) in enumerate(pbar):\n",
    "                            inputs, targets = inputs.to(DEVICE), targets.to(DEVICE)\n",
    "\n",
    "                            # Zero the gradients\n",
    "                            optimizer.zero_grad()\n",
    "\n",
    "                            # Forward pass\n",
    "                            outputs = model(inputs)\n",
    "                            loss = criterion(outputs, targets)\n",
    "\n",
    "                            # Backward pass and optimize\n",
    "                            loss.backward()\n",
    "                            optimizer.step()\n",
    "\n",
    "                            # Update statistics\n",
    "                            train_loss += loss.item()\n",
    "                            _, predicted = outputs.max(1)\n",
    "                            total += targets.size(0)\n",
    "                            correct += predicted.eq(targets).sum().item()\n",
    "\n",
    "                            # Update progress bar\n",
    "                            pbar.set_postfix({\n",
    "                                \"Loss\": f\"{train_loss / (batch_idx + 1):.4f}\",\n",
    "                                \"Acc\": f\"{correct / total:.4f}\"\n",
    "                            })\n",
    "\n",
    "                        # Calculate training accuracy and loss\n",
    "                        train_accuracy = correct / total\n",
    "                        avg_train_loss = train_loss / len(train_loader)\n",
    "                        train_losses.append(avg_train_loss)\n",
    "                        train_accuracies.append(train_accuracy)\n",
    "\n",
    "                        # Print training summary\n",
    "                        print(f\"Epoch {epoch + 1}/{EPOCHS}: \"\n",
    "                              f\"Train Loss: {avg_train_loss:.4f}, \"\n",
    "                              f\"Train Acc: {train_accuracy:.4f}\")\n",
    "\n",
    "                        # ===== VALIDATION =======\n",
    "                        avg_val_loss, val_accuracy, val_f1 = validator.validate(val_loader)\n",
    "                        val_losses.append(avg_val_loss)\n",
    "                        val_accuracies.append(val_accuracy)\n",
    "\n",
    "                        # Print validation summary\n",
    "                        print(f\"Epoch {epoch + 1}/{EPOCHS}: \"\n",
    "                              f\"Val Loss: {avg_val_loss:.4f}, \"\n",
    "                              f\"Val Acc: {val_accuracy:.4f}, \"\n",
    "                              f\"Val F1: {val_f1:.4f}\")\n",
    "\n",
    "                        # Step the learning rate scheduler based on validation loss\n",
    "                        scheduler.step(avg_val_loss)\n",
    "\n",
    "                        # Print the current learning rate\n",
    "                        current_lr = optimizer.param_groups[0]['lr']\n",
    "                        print(f\"Current Learning Rate: {current_lr}\")\n",
    "\n",
    "                        # Save the best model based on validation accuracy\n",
    "                        model_saver.save(model, val_accuracy, epoch)\n",
    "\n",
    "                        # Save loss and accuracy plots\n",
    "                        metrics_plotter.plot_and_save(train_losses, val_losses, \"Loss\", epoch)\n",
    "                        metrics_plotter.plot_and_save(train_accuracies, val_accuracies, \"Accuracy\", epoch)\n",
    "                        \n",
    "                        # Save epoch results to CSV\n",
    "                        epoch_writer.writerow([\n",
    "                            idx,  # Config\n",
    "                            epoch + 1,  # Epoch\n",
    "                            avg_train_loss,  # Train Loss\n",
    "                            train_accuracy,  # Train Acc\n",
    "                            avg_val_loss,  # Val Loss\n",
    "                            val_accuracy,  # Val Acc\n",
    "                            val_f1,  # F1 Score\n",
    "                            current_lr  # Learning Rate\n",
    "                        ])\n",
    "\n",
    "                        # Early stopping check\n",
    "                        if early_stopping(avg_val_loss):\n",
    "                            print(f\"Early stopping triggered at epoch {epoch + 1}!\")\n",
    "                            break\n",
    "\n",
    "                    # Clear GPU memory after each configuration\n",
    "                    del model, optimizer, scheduler\n",
    "                    torch.cuda.empty_cache()\n",
    "                    gc.collect()\n",
    "\n",
    "                    # ======= TESTING ========\n",
    "                    best_model = ViT(num_classes=len(class_names), \n",
    "                                    in_channels=1, \n",
    "                                    patch_size=patch_size, \n",
    "                                    num_heads=num_head, \n",
    "                                    embedding_dim=embedding_dim, \n",
    "                                    num_transformer_layers=num_transformer_layer)\n",
    "                    best_model.to(DEVICE)\n",
    "                    best_model.load_state_dict(torch.load(f\"../Experiment Augment Result/model{idx}_augment_best.pt\", weights_only=False))\n",
    "\n",
    "                    best_model.eval()\n",
    "                    test_loss = 0.0\n",
    "                    test_correct = 0\n",
    "                    test_total = 0\n",
    "                    all_test_targets = []\n",
    "                    all_test_predicted = []\n",
    "\n",
    "                    with torch.no_grad():  # Disable gradient computation\n",
    "                        pbar = tqdm(test_loader, desc=\"Testing\")\n",
    "                        for batch_idx, (inputs, targets) in enumerate(pbar):\n",
    "                            inputs, targets = inputs.to(DEVICE), targets.to(DEVICE)\n",
    "\n",
    "                            # Forward pass\n",
    "                            outputs = best_model(inputs)\n",
    "                            loss = criterion(outputs, targets)\n",
    "\n",
    "                            # Update statistics\n",
    "                            test_loss += loss.item()\n",
    "                            _, predicted = outputs.max(1)\n",
    "                            test_total += targets.size(0)\n",
    "                            test_correct += predicted.eq(targets).sum().item()\n",
    "\n",
    "                            # Collect all targets and predictions\n",
    "                            all_test_targets.extend(targets.cpu().numpy())\n",
    "                            all_test_predicted.extend(predicted.cpu().numpy())\n",
    "\n",
    "                            # Update progress bar\n",
    "                            pbar.set_postfix({\n",
    "                                \"Loss\": f\"{test_loss / (batch_idx + 1):.4f}\",\n",
    "                                \"Acc\": f\"{test_correct / test_total:.4f}\"\n",
    "                            })\n",
    "\n",
    "                    # Calculate test accuracy, loss, and F1-score\n",
    "                    test_accuracy = test_correct / test_total\n",
    "                    avg_test_loss = test_loss / len(test_loader)\n",
    "                    test_f1 = f1_score(all_test_targets, all_test_predicted, average=\"weighted\")\n",
    "\n",
    "                    # Print test summary\n",
    "                    print(f\"Test Loss: {avg_test_loss:.4f}, \"\n",
    "                          f\"Test Acc: {test_accuracy:.4f}, \"\n",
    "                          f\"Test F1: {test_f1:.4f}\")\n",
    "\n",
    "                    # Clear GPU memory after each configuration\n",
    "                    del best_model\n",
    "                    torch.cuda.empty_cache()\n",
    "                    gc.collect()\n",
    "                    \n",
    "                    # Save the configuration to the CSV file\n",
    "                    test_writer.writerow([idx, avg_test_loss, test_accuracy, test_f1])\n",
    "                    config_writer.writerow([idx, patch_size, num_head, embedding_dim, num_transformer_layer])\n",
    "\n",
    "                    idx+=1"
   ]
  },
  {
   "cell_type": "code",
   "execution_count": null,
   "id": "02d1a78b-c049-45c7-8036-ab6cb3322a55",
   "metadata": {},
   "outputs": [],
   "source": []
  }
 ],
 "metadata": {
  "kernelspec": {
   "display_name": "Python 3 (ipykernel)",
   "language": "python",
   "name": "python3"
  },
  "language_info": {
   "codemirror_mode": {
    "name": "ipython",
    "version": 3
   },
   "file_extension": ".py",
   "mimetype": "text/x-python",
   "name": "python",
   "nbconvert_exporter": "python",
   "pygments_lexer": "ipython3",
   "version": "3.12.7"
  }
 },
 "nbformat": 4,
 "nbformat_minor": 5
}
