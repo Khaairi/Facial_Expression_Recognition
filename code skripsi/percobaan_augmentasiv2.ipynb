{
 "cells": [
  {
   "cell_type": "code",
   "execution_count": 1,
   "id": "a4f52c85-4ef4-4943-a521-ff740da659ed",
   "metadata": {},
   "outputs": [
    {
     "data": {
      "text/plain": [
       "'2.5.1+cu124'"
      ]
     },
     "execution_count": 1,
     "metadata": {},
     "output_type": "execute_result"
    }
   ],
   "source": [
    "import torch\n",
    "torch.__version__"
   ]
  },
  {
   "cell_type": "code",
   "execution_count": 2,
   "id": "85719059-ed85-4e86-a40a-e26217642235",
   "metadata": {},
   "outputs": [
    {
     "data": {
      "text/plain": [
       "'cuda'"
      ]
     },
     "execution_count": 2,
     "metadata": {},
     "output_type": "execute_result"
    }
   ],
   "source": [
    "device = \"cuda\" if torch.cuda.is_available() else \"cpu\"\n",
    "device"
   ]
  },
  {
   "cell_type": "code",
   "execution_count": 21,
   "id": "e1b309cc-ab32-4ea3-8c91-f1821515f136",
   "metadata": {},
   "outputs": [],
   "source": [
    "import numpy as np\n",
    "import pandas as pd\n",
    "import torch\n",
    "from torch.utils.data import Dataset, DataLoader\n",
    "from torchvision import transforms\n",
    "from PIL import Image\n",
    "import matplotlib.pyplot as plt\n",
    "from sklearn.model_selection import train_test_split\n",
    "# from sklearn.metrics import confusion_matrix, ConfusionMatrixDisplay\n",
    "# from mlxtend.plotting import plot_confusion_matrix\n",
    "from sklearn.metrics import classification_report, confusion_matrix\n",
    "import torch.optim as optim\n",
    "from torch.optim.lr_scheduler import ReduceLROnPlateau\n",
    "from torch.optim import AdamW\n",
    "import os\n",
    "from tqdm import tqdm\n",
    "from sklearn.metrics import f1_score"
   ]
  },
  {
   "cell_type": "markdown",
   "id": "08fe35ee-b631-403e-ae59-b7016ed13458",
   "metadata": {},
   "source": [
    "## Load Data"
   ]
  },
  {
   "cell_type": "code",
   "execution_count": 4,
   "id": "1bdddb0d-9e30-4147-938e-a8109e906f28",
   "metadata": {},
   "outputs": [],
   "source": [
    "class FERDataset(Dataset):\n",
    "    def __init__(self, dataframe, transform=None):\n",
    "        self.dataframe = dataframe\n",
    "        self.transform = transform\n",
    "\n",
    "        # Ekstrak label dan piksel\n",
    "        self.labels = self.dataframe['emotion'].values\n",
    "        self.pixels = self.dataframe['pixels'].apply(self.string_to_image).values\n",
    "\n",
    "    def string_to_image(self, pixels_string):\n",
    "        # Konversi string piksel menjadi numpy array dan reshape ke 48x48\n",
    "        pixels = np.array(pixels_string.split(), dtype='float32')\n",
    "        image = pixels.reshape(48, 48)\n",
    "        image = np.expand_dims(image, axis=-1)  # Tambahkan channel dimensi\n",
    "        return image\n",
    "\n",
    "    def __len__(self):\n",
    "        return len(self.dataframe)\n",
    "\n",
    "    def __getitem__(self, idx):\n",
    "        image = self.pixels[idx]\n",
    "        label = self.labels[idx]\n",
    "        \n",
    "        image = Image.fromarray(image.squeeze().astype('uint8'), mode='L')\n",
    "\n",
    "        # Jika ada transformasi, terapkan ke image\n",
    "        if self.transform:\n",
    "            image = self.transform(image)\n",
    "\n",
    "        return image, label"
   ]
  },
  {
   "cell_type": "code",
   "execution_count": 5,
   "id": "3fd05f22-3a1d-495e-ab37-5912522b0f9b",
   "metadata": {},
   "outputs": [
    {
     "name": "stdout",
     "output_type": "stream",
     "text": [
      "train transforms: Compose(\n",
      "    Resize(size=(224, 224), interpolation=bilinear, max_size=None, antialias=True)\n",
      "    RandomHorizontalFlip(p=0.5)\n",
      "    RandomRotation(degrees=[-10.0, 10.0], interpolation=nearest, expand=False, fill=0)\n",
      "    RandomResizedCrop(size=(224, 224), scale=(0.08, 1.0), ratio=(0.75, 1.3333), interpolation=bilinear, antialias=True)\n",
      "    ColorJitter(brightness=(0.8, 1.2), contrast=(0.8, 1.2), saturation=(0.8, 1.2), hue=(-0.1, 0.1))\n",
      "    ToTensor()\n",
      "    Normalize(mean=[0.5], std=[0.5])\n",
      ")\n",
      "test transforms: Compose(\n",
      "    Resize(size=(224, 224), interpolation=bilinear, max_size=None, antialias=True)\n",
      "    ToTensor()\n",
      "    Normalize(mean=[0.5], std=[0.5])\n",
      ")\n"
     ]
    }
   ],
   "source": [
    "# Create image size\n",
    "IMG_SIZE = 224\n",
    "\n",
    "# Create transform pipeline manually\n",
    "train_transforms = transforms.Compose([\n",
    "    transforms.Resize((IMG_SIZE, IMG_SIZE)),\n",
    "    transforms.RandomHorizontalFlip(),  # Randomly flip horizontally\n",
    "    transforms.RandomRotation(10),     # Randomly rotate by +/- 10 degrees\n",
    "    transforms.RandomResizedCrop(224), # Randomly crop and resize to 224x224\n",
    "    transforms.ColorJitter(brightness=0.2, contrast=0.2, saturation=0.2, hue=0.1),  # Adjust color\n",
    "    transforms.ToTensor(),\n",
    "    transforms.Normalize(mean=[0.5], std=[0.5])\n",
    "]) \n",
    "\n",
    "# Create transform pipeline manually\n",
    "test_transforms = transforms.Compose([\n",
    "    transforms.Resize((IMG_SIZE, IMG_SIZE)),\n",
    "    transforms.ToTensor(),\n",
    "    transforms.Normalize(mean=[0.5], std=[0.5])\n",
    "])\n",
    "\n",
    " \n",
    "print(f\"train transforms: {train_transforms}\")\n",
    "print(f\"test transforms: {test_transforms}\")"
   ]
  },
  {
   "cell_type": "code",
   "execution_count": 6,
   "id": "abb51cb0-db73-45d5-b795-d7bbe982676b",
   "metadata": {},
   "outputs": [
    {
     "name": "stdout",
     "output_type": "stream",
     "text": [
      "<class 'pandas.core.frame.DataFrame'>\n",
      "RangeIndex: 33325 entries, 0 to 33324\n",
      "Data columns (total 2 columns):\n",
      " #   Column   Non-Null Count  Dtype \n",
      "---  ------   --------------  ----- \n",
      " 0   pixels   33325 non-null  object\n",
      " 1   emotion  33325 non-null  int64 \n",
      "dtypes: int64(1), object(1)\n",
      "memory usage: 520.8+ KB\n"
     ]
    }
   ],
   "source": [
    "data = pd.read_csv('../Data/fer2013_clean.csv')\n",
    "data.info()"
   ]
  },
  {
   "cell_type": "code",
   "execution_count": 7,
   "id": "d525f87c-e3d3-4893-9194-b81b2a4b80d3",
   "metadata": {},
   "outputs": [
    {
     "name": "stdout",
     "output_type": "stream",
     "text": [
      "Train set size: 26992\n",
      "Validation set size: 3000\n",
      "Test set size: 3333\n"
     ]
    }
   ],
   "source": [
    "# Pertama, pisahkan data train (90%) dan validation (10%)\n",
    "data_train, data_test = train_test_split(data, test_size=0.1, stratify=data['emotion'], random_state=123)\n",
    "data_train, data_val = train_test_split(data_train, test_size=0.1, stratify=data_train['emotion'], random_state=123)\n",
    "\n",
    "# Cek ukuran masing-masing set untuk memastikan proporsi\n",
    "print(f'Train set size: {len(data_train)}')\n",
    "print(f'Validation set size: {len(data_val)}')\n",
    "print(f'Test set size: {len(data_test)}')"
   ]
  },
  {
   "cell_type": "code",
   "execution_count": 8,
   "id": "a112b864-08d8-42cb-a285-994f930f4259",
   "metadata": {},
   "outputs": [],
   "source": [
    "train_dataset = FERDataset(data_train, transform=train_transforms)\n",
    "val_dataset = FERDataset(data_val, transform=test_transforms)\n",
    "test_dataset = FERDataset(data_test, transform=test_transforms)\n",
    "class_names = ['Angry', 'Disgust', 'Fear', 'Happy', 'Sad', 'Surprise', 'Neutral']"
   ]
  },
  {
   "cell_type": "code",
   "execution_count": 9,
   "id": "4c40770a-6a57-48ca-a10f-8a6c3ff485f2",
   "metadata": {},
   "outputs": [
    {
     "name": "stdout",
     "output_type": "stream",
     "text": [
      "label2id: {'Angry': 0, 'Disgust': 1, 'Fear': 2, 'Happy': 3, 'Sad': 4, 'Surprise': 5, 'Neutral': 6}\n",
      "id2label: {0: 'Angry', 1: 'Disgust', 2: 'Fear', 3: 'Happy', 4: 'Sad', 5: 'Surprise', 6: 'Neutral'}\n"
     ]
    }
   ],
   "source": [
    "labels = ['Angry', 'Disgust', 'Fear', 'Happy', 'Sad', 'Surprise', 'Neutral']\n",
    "\n",
    "# Mapping dari label ke ID (label2id)\n",
    "label2id = {c: idx for idx, c in enumerate(labels)}\n",
    "\n",
    "# Mapping dari ID ke label (id2label)\n",
    "id2label = {idx: c for idx, c in enumerate(labels)}\n",
    "\n",
    "print(\"label2id:\", label2id)\n",
    "print(\"id2label:\", id2label)"
   ]
  },
  {
   "cell_type": "code",
   "execution_count": 10,
   "id": "27139b4d-f206-4e4f-82e6-6c26b311b7e9",
   "metadata": {},
   "outputs": [
    {
     "data": {
      "image/png": "[encoded data removed]",
      "text/plain": [
       "<Figure size 640x480 with 1 Axes>"
      ]
     },
     "metadata": {},
     "output_type": "display_data"
    }
   ],
   "source": [
    "# Ambil satu contoh dari train_dataset\n",
    "image, label = train_dataset[0]  # Index pertama dataset\n",
    "\n",
    "# Jika transform menghasilkan tensor, konversi ke format numpy\n",
    "if isinstance(image, torch.Tensor):\n",
    "    image = image.permute(1, 2, 0).numpy()  # (C, H, W) -> (H, W, C)\n",
    "\n",
    "# Plot gambar\n",
    "plt.imshow(image, cmap='gray')  # Gunakan cmap='gray' jika gambar grayscale\n",
    "plt.title(f\"Label: {label}\")\n",
    "plt.axis('off')  # Hilangkan sumbu\n",
    "plt.show()"
   ]
  },
  {
   "cell_type": "code",
   "execution_count": 11,
   "id": "6b8a0a00-f3ca-46e1-8080-faf95a66d2c9",
   "metadata": {},
   "outputs": [
    {
     "data": {
      "text/plain": [
       "torch.Size([1, 224, 224])"
      ]
     },
     "execution_count": 11,
     "metadata": {},
     "output_type": "execute_result"
    }
   ],
   "source": [
    "image, label = train_dataset[0]\n",
    "image.shape"
   ]
  },
  {
   "cell_type": "markdown",
   "id": "25f09b62-4109-49eb-ae60-3ce50168f049",
   "metadata": {},
   "source": [
    "## Build Vision Transformer (ViT) Model"
   ]
  },
  {
   "cell_type": "code",
   "execution_count": 12,
   "id": "5b7f5c19-e39f-478b-904a-4070f72d2ccf",
   "metadata": {},
   "outputs": [],
   "source": [
    "from torch import nn"
   ]
  },
  {
   "cell_type": "code",
   "execution_count": 13,
   "id": "27a7697f-f6eb-4ea2-ab66-bcfdacdf4a4b",
   "metadata": {},
   "outputs": [],
   "source": [
    "class PatchEmbedding(nn.Module):\n",
    "    def __init__(self, \n",
    "                 in_channels:int=1,\n",
    "                 patch_size:int=16,\n",
    "                 embedding_dim:int=768\n",
    "                ):\n",
    "        super().__init__()\n",
    "        \n",
    "        self.patcher = nn.Conv2d(in_channels=in_channels,\n",
    "                                 out_channels=embedding_dim,\n",
    "                                 kernel_size=patch_size,\n",
    "                                 stride=patch_size,\n",
    "                                 padding=0)\n",
    "    def forward(self, x):\n",
    "        image_resolution = x.shape[-1]\n",
    "        \n",
    "        x_patched = self.patcher(x) # (n_samples, embed_dim, n_patches ** 0.5, n_patches ** 0.5)\n",
    "        x_flattened = x_patched.flatten(2) # (n_samples, embed_dim, n_patches)\n",
    "        x = x_flattened.transpose(1, 2) # (n_samples, n_patches, embed_dim)\n",
    "        \n",
    "        return x"
   ]
  },
  {
   "cell_type": "code",
   "execution_count": 14,
   "id": "abc468a7-138e-48ca-a495-a91e0988bd0b",
   "metadata": {},
   "outputs": [],
   "source": [
    "class MultiheadSelfAttentionBlock(nn.Module):\n",
    "    def __init__(self,\n",
    "                 embedding_dim:int=768,\n",
    "                 num_heads:int=12,\n",
    "                 attn_dropout:float=0.):\n",
    "        super().__init__()\n",
    "        self.multihead_attn = nn.MultiheadAttention(embed_dim=embedding_dim,\n",
    "                                                    num_heads=num_heads,\n",
    "                                                    dropout=attn_dropout,\n",
    "                                                    batch_first=True)\n",
    "    def forward(self, x):\n",
    "        attn_output, _ = self.multihead_attn(query=x,\n",
    "                                             key=x,\n",
    "                                             value=x,\n",
    "                                             need_weights=False)\n",
    "        return attn_output"
   ]
  },
  {
   "cell_type": "code",
   "execution_count": 15,
   "id": "76cdbef5-da91-45c7-8847-9de18bcd77f5",
   "metadata": {},
   "outputs": [],
   "source": [
    "class MLPBlock(nn.Module):\n",
    "    def __init__(self,\n",
    "                 embedding_dim:int=768,\n",
    "                 mlp_size:int=3072,\n",
    "                 dropout:float=0.):\n",
    "        super().__init__()\n",
    "        self.mlp = nn.Sequential(\n",
    "            nn.Linear(in_features=embedding_dim,\n",
    "                      out_features=mlp_size),\n",
    "            nn.GELU(),\n",
    "            nn.Dropout(p=dropout),\n",
    "            nn.Linear(in_features=mlp_size,\n",
    "                      out_features=embedding_dim),\n",
    "            nn.Dropout(p=dropout)\n",
    "        )\n",
    "    def forward(self, x):\n",
    "        x = self.mlp(x)\n",
    "        return x"
   ]
  },
  {
   "cell_type": "code",
   "execution_count": 16,
   "id": "cee8d7b1-8603-4ade-8bed-32444a8c942f",
   "metadata": {},
   "outputs": [],
   "source": [
    "class TransformerEncoderBlock(nn.Module):\n",
    "    def __init__(self,\n",
    "                 embedding_dim:int=768,\n",
    "                 num_heads:int=12,\n",
    "                 mlp_size:int=3072,\n",
    "                 mlp_dropout:float=0.,\n",
    "                 attn_dropout:float=0.):\n",
    "        super().__init__()\n",
    "        self.layer_norm1 = nn.LayerNorm(normalized_shape=embedding_dim, eps=1e-6)\n",
    "        \n",
    "        self.msa_block = MultiheadSelfAttentionBlock(embedding_dim=embedding_dim,\n",
    "                                                     num_heads=num_heads,\n",
    "                                                     attn_dropout=attn_dropout)\n",
    "        \n",
    "        self.layer_norm2 = nn.LayerNorm(normalized_shape=embedding_dim, eps=1e-6)\n",
    "        \n",
    "        self.mlp_block =  MLPBlock(embedding_dim=embedding_dim,\n",
    "                                   mlp_size=mlp_size,\n",
    "                                   dropout=mlp_dropout)\n",
    "    def forward(self, x):\n",
    "        x = self.msa_block(self.layer_norm1(x)) + x \n",
    "        \n",
    "        x = self.mlp_block(self.layer_norm2(x)) + x \n",
    "        \n",
    "        return x"
   ]
  },
  {
   "cell_type": "code",
   "execution_count": 17,
   "id": "dfbe073e-b7c5-44c3-a123-d89a2152a467",
   "metadata": {},
   "outputs": [],
   "source": [
    "class ViT(nn.Module):\n",
    "    def __init__(self,\n",
    "                 img_size:int=224,\n",
    "                 in_channels:int=3,\n",
    "                 patch_size:int=16,\n",
    "                 num_transformer_layers:int=12,\n",
    "                 embedding_dim:int=768,\n",
    "                 mlp_size:int=3072,\n",
    "                 num_heads:int=12,\n",
    "                 attn_dropout:float=0.,\n",
    "                 mlp_dropout:float=0.,\n",
    "                 embedding_dropout:float=0.,\n",
    "                 num_classes:int=1000):\n",
    "        super().__init__()\n",
    "        self.num_patches = (img_size * img_size) // patch_size**2\n",
    "\n",
    "        self.patch_embedding = PatchEmbedding(in_channels=in_channels,\n",
    "                                              patch_size=patch_size,\n",
    "                                              embedding_dim=embedding_dim)\n",
    "                 \n",
    "        self.class_embedding = nn.Parameter(data=torch.randn(1, 1, embedding_dim),\n",
    "                                            requires_grad=True)\n",
    "        \n",
    "        self.position_embedding = nn.Parameter(data=torch.randn(1, self.num_patches+1, embedding_dim),\n",
    "                                               requires_grad=True)\n",
    "                \n",
    "        self.embedding_dropout = nn.Dropout(p=embedding_dropout)\n",
    "        \n",
    "        self.transformer_encoder = nn.Sequential(*[TransformerEncoderBlock(embedding_dim=embedding_dim,\n",
    "                                                                            num_heads=num_heads,\n",
    "                                                                            mlp_size=mlp_size,\n",
    "                                                                            mlp_dropout=mlp_dropout) for _ in range(num_transformer_layers)])\n",
    "       \n",
    "        self.classifier = nn.Sequential(\n",
    "            nn.LayerNorm(normalized_shape=embedding_dim, eps=1e-6),\n",
    "            nn.Linear(in_features=embedding_dim, \n",
    "                      out_features=num_classes)\n",
    "        )\n",
    "    \n",
    "    def forward(self, pixel_values, labels=None):\n",
    "        batch_size = pixel_values.shape[0]\n",
    "\n",
    "        x = self.patch_embedding(pixel_values) # (n_samples, num_patches, embed_dim)\n",
    "        \n",
    "        class_token = self.class_embedding.expand(batch_size, -1, -1) # (n_samples, 1, embed_dim)\n",
    "\n",
    "        x = torch.cat((class_token, x), dim=1) # (n_samples, 1 + n_patches, embed_dim)\n",
    "\n",
    "        x = self.position_embedding + x # add position embed\n",
    "\n",
    "        x = self.embedding_dropout(x)\n",
    "\n",
    "        x = self.transformer_encoder(x)\n",
    "\n",
    "        logits = self.classifier(x[:, 0])\n",
    "\n",
    "        # Jika labels diberikan, hitung loss\n",
    "        loss = None\n",
    "        if labels is not None:\n",
    "            loss_fn = nn.CrossEntropyLoss()\n",
    "            loss = loss_fn(logits, labels)\n",
    "    \n",
    "        return (loss, logits) if loss is not None else logits"
   ]
  },
  {
   "cell_type": "markdown",
   "id": "cccbb722-51b9-46af-90e2-4b80265eb878",
   "metadata": {},
   "source": [
    "## Model Training"
   ]
  },
  {
   "cell_type": "code",
   "execution_count": 18,
   "id": "64b28361-dae6-43fa-b846-69caa47259a3",
   "metadata": {},
   "outputs": [],
   "source": [
    "model = ViT(num_classes=len(class_names), in_channels=1, patch_size=32, num_heads=8, embedding_dim=512)"
   ]
  },
  {
   "cell_type": "code",
   "execution_count": 19,
   "id": "dc2344b3-32fa-4f94-9c56-13b3ac96ee3d",
   "metadata": {},
   "outputs": [
    {
     "data": {
      "text/plain": [
       "========================================================================================================================\n",
       "Layer (type (var_name))                                      Input Shape     Output Shape    Param #         Trainable\n",
       "========================================================================================================================\n",
       "ViT (ViT)                                                    [1, 1, 224, 224] [1, 7]          26,112          True\n",
       "├─PatchEmbedding (patch_embedding)                           [1, 1, 224, 224] [1, 49, 512]    --              True\n",
       "│    └─Conv2d (patcher)                                      [1, 1, 224, 224] [1, 512, 7, 7]  524,800         True\n",
       "├─Dropout (embedding_dropout)                                [1, 50, 512]    [1, 50, 512]    --              --\n",
       "├─Sequential (transformer_encoder)                           [1, 50, 512]    [1, 50, 512]    --              True\n",
       "│    └─TransformerEncoderBlock (0)                           [1, 50, 512]    [1, 50, 512]    --              True\n",
       "│    │    └─LayerNorm (layer_norm1)                          [1, 50, 512]    [1, 50, 512]    1,024           True\n",
       "│    │    └─MultiheadSelfAttentionBlock (msa_block)          [1, 50, 512]    [1, 50, 512]    1,050,624       True\n",
       "│    │    └─LayerNorm (layer_norm2)                          [1, 50, 512]    [1, 50, 512]    1,024           True\n",
       "│    │    └─MLPBlock (mlp_block)                             [1, 50, 512]    [1, 50, 512]    3,149,312       True\n",
       "│    └─TransformerEncoderBlock (1)                           [1, 50, 512]    [1, 50, 512]    --              True\n",
       "│    │    └─LayerNorm (layer_norm1)                          [1, 50, 512]    [1, 50, 512]    1,024           True\n",
       "│    │    └─MultiheadSelfAttentionBlock (msa_block)          [1, 50, 512]    [1, 50, 512]    1,050,624       True\n",
       "│    │    └─LayerNorm (layer_norm2)                          [1, 50, 512]    [1, 50, 512]    1,024           True\n",
       "│    │    └─MLPBlock (mlp_block)                             [1, 50, 512]    [1, 50, 512]    3,149,312       True\n",
       "│    └─TransformerEncoderBlock (2)                           [1, 50, 512]    [1, 50, 512]    --              True\n",
       "│    │    └─LayerNorm (layer_norm1)                          [1, 50, 512]    [1, 50, 512]    1,024           True\n",
       "│    │    └─MultiheadSelfAttentionBlock (msa_block)          [1, 50, 512]    [1, 50, 512]    1,050,624       True\n",
       "│    │    └─LayerNorm (layer_norm2)                          [1, 50, 512]    [1, 50, 512]    1,024           True\n",
       "│    │    └─MLPBlock (mlp_block)                             [1, 50, 512]    [1, 50, 512]    3,149,312       True\n",
       "│    └─TransformerEncoderBlock (3)                           [1, 50, 512]    [1, 50, 512]    --              True\n",
       "│    │    └─LayerNorm (layer_norm1)                          [1, 50, 512]    [1, 50, 512]    1,024           True\n",
       "│    │    └─MultiheadSelfAttentionBlock (msa_block)          [1, 50, 512]    [1, 50, 512]    1,050,624       True\n",
       "│    │    └─LayerNorm (layer_norm2)                          [1, 50, 512]    [1, 50, 512]    1,024           True\n",
       "│    │    └─MLPBlock (mlp_block)                             [1, 50, 512]    [1, 50, 512]    3,149,312       True\n",
       "│    └─TransformerEncoderBlock (4)                           [1, 50, 512]    [1, 50, 512]    --              True\n",
       "│    │    └─LayerNorm (layer_norm1)                          [1, 50, 512]    [1, 50, 512]    1,024           True\n",
       "│    │    └─MultiheadSelfAttentionBlock (msa_block)          [1, 50, 512]    [1, 50, 512]    1,050,624       True\n",
       "│    │    └─LayerNorm (layer_norm2)                          [1, 50, 512]    [1, 50, 512]    1,024           True\n",
       "│    │    └─MLPBlock (mlp_block)                             [1, 50, 512]    [1, 50, 512]    3,149,312       True\n",
       "│    └─TransformerEncoderBlock (5)                           [1, 50, 512]    [1, 50, 512]    --              True\n",
       "│    │    └─LayerNorm (layer_norm1)                          [1, 50, 512]    [1, 50, 512]    1,024           True\n",
       "│    │    └─MultiheadSelfAttentionBlock (msa_block)          [1, 50, 512]    [1, 50, 512]    1,050,624       True\n",
       "│    │    └─LayerNorm (layer_norm2)                          [1, 50, 512]    [1, 50, 512]    1,024           True\n",
       "│    │    └─MLPBlock (mlp_block)                             [1, 50, 512]    [1, 50, 512]    3,149,312       True\n",
       "│    └─TransformerEncoderBlock (6)                           [1, 50, 512]    [1, 50, 512]    --              True\n",
       "│    │    └─LayerNorm (layer_norm1)                          [1, 50, 512]    [1, 50, 512]    1,024           True\n",
       "│    │    └─MultiheadSelfAttentionBlock (msa_block)          [1, 50, 512]    [1, 50, 512]    1,050,624       True\n",
       "│    │    └─LayerNorm (layer_norm2)                          [1, 50, 512]    [1, 50, 512]    1,024           True\n",
       "│    │    └─MLPBlock (mlp_block)                             [1, 50, 512]    [1, 50, 512]    3,149,312       True\n",
       "│    └─TransformerEncoderBlock (7)                           [1, 50, 512]    [1, 50, 512]    --              True\n",
       "│    │    └─LayerNorm (layer_norm1)                          [1, 50, 512]    [1, 50, 512]    1,024           True\n",
       "│    │    └─MultiheadSelfAttentionBlock (msa_block)          [1, 50, 512]    [1, 50, 512]    1,050,624       True\n",
       "│    │    └─LayerNorm (layer_norm2)                          [1, 50, 512]    [1, 50, 512]    1,024           True\n",
       "│    │    └─MLPBlock (mlp_block)                             [1, 50, 512]    [1, 50, 512]    3,149,312       True\n",
       "│    └─TransformerEncoderBlock (8)                           [1, 50, 512]    [1, 50, 512]    --              True\n",
       "│    │    └─LayerNorm (layer_norm1)                          [1, 50, 512]    [1, 50, 512]    1,024           True\n",
       "│    │    └─MultiheadSelfAttentionBlock (msa_block)          [1, 50, 512]    [1, 50, 512]    1,050,624       True\n",
       "│    │    └─LayerNorm (layer_norm2)                          [1, 50, 512]    [1, 50, 512]    1,024           True\n",
       "│    │    └─MLPBlock (mlp_block)                             [1, 50, 512]    [1, 50, 512]    3,149,312       True\n",
       "│    └─TransformerEncoderBlock (9)                           [1, 50, 512]    [1, 50, 512]    --              True\n",
       "│    │    └─LayerNorm (layer_norm1)                          [1, 50, 512]    [1, 50, 512]    1,024           True\n",
       "│    │    └─MultiheadSelfAttentionBlock (msa_block)          [1, 50, 512]    [1, 50, 512]    1,050,624       True\n",
       "│    │    └─LayerNorm (layer_norm2)                          [1, 50, 512]    [1, 50, 512]    1,024           True\n",
       "│    │    └─MLPBlock (mlp_block)                             [1, 50, 512]    [1, 50, 512]    3,149,312       True\n",
       "│    └─TransformerEncoderBlock (10)                          [1, 50, 512]    [1, 50, 512]    --              True\n",
       "│    │    └─LayerNorm (layer_norm1)                          [1, 50, 512]    [1, 50, 512]    1,024           True\n",
       "│    │    └─MultiheadSelfAttentionBlock (msa_block)          [1, 50, 512]    [1, 50, 512]    1,050,624       True\n",
       "│    │    └─LayerNorm (layer_norm2)                          [1, 50, 512]    [1, 50, 512]    1,024           True\n",
       "│    │    └─MLPBlock (mlp_block)                             [1, 50, 512]    [1, 50, 512]    3,149,312       True\n",
       "│    └─TransformerEncoderBlock (11)                          [1, 50, 512]    [1, 50, 512]    --              True\n",
       "│    │    └─LayerNorm (layer_norm1)                          [1, 50, 512]    [1, 50, 512]    1,024           True\n",
       "│    │    └─MultiheadSelfAttentionBlock (msa_block)          [1, 50, 512]    [1, 50, 512]    1,050,624       True\n",
       "│    │    └─LayerNorm (layer_norm2)                          [1, 50, 512]    [1, 50, 512]    1,024           True\n",
       "│    │    └─MLPBlock (mlp_block)                             [1, 50, 512]    [1, 50, 512]    3,149,312       True\n",
       "├─Sequential (classifier)                                    [1, 512]        [1, 7]          --              True\n",
       "│    └─LayerNorm (0)                                         [1, 512]        [1, 512]        1,024           True\n",
       "│    └─Linear (1)                                            [1, 512]        [1, 7]          3,591           True\n",
       "========================================================================================================================\n",
       "Total params: 50,979,335\n",
       "Trainable params: 50,979,335\n",
       "Non-trainable params: 0\n",
       "Total mult-adds (Units.MEGABYTES): 63.54\n",
       "========================================================================================================================\n",
       "Input size (MB): 0.20\n",
       "Forward/backward pass size (MB): 22.32\n",
       "Params size (MB): 153.38\n",
       "Estimated Total Size (MB): 175.91\n",
       "========================================================================================================================"
      ]
     },
     "execution_count": 19,
     "metadata": {},
     "output_type": "execute_result"
    }
   ],
   "source": [
    "from torchinfo import summary\n",
    "\n",
    "summary(\n",
    "    model=model,\n",
    "    input_size=(1, 1, 224, 224),  # (batch_size, in_channels, img_size, img_size)\n",
    "    col_names=[\"input_size\", \"output_size\", \"num_params\", \"trainable\"],\n",
    "    col_width=15,\n",
    "    row_settings=[\"var_names\"],\n",
    ")"
   ]
  },
  {
   "cell_type": "code",
   "execution_count": 20,
   "id": "36ece644-8389-406b-b8e9-802ac5a1f946",
   "metadata": {
    "scrolled": true
   },
   "outputs": [
    {
     "name": "stderr",
     "output_type": "stream",
     "text": [
      "Epoch 1/1000: 100%|██████████| 422/422 [07:13<00:00,  1.03s/it, Loss=1.7957, Acc=0.2484]\n"
     ]
    },
    {
     "name": "stdout",
     "output_type": "stream",
     "text": [
      "Epoch 1/1000: Train Loss: 1.7957, Train Acc: 0.2484\n"
     ]
    },
    {
     "name": "stderr",
     "output_type": "stream",
     "text": [
      "Epoch 1/1000 (Validation): 100%|██████████| 47/47 [00:16<00:00,  2.77it/s, Loss=1.8065, Acc=0.2453]\n"
     ]
    },
    {
     "name": "stdout",
     "output_type": "stream",
     "text": [
      "Epoch 1/1000: Val Loss: 1.8065, Val Acc: 0.2453, Val F1: 0.1969\n",
      "Current Learning Rate: 3e-05\n",
      "Best model saved at ../Hasil Eksperimen/aug.pt with val accuracy: 0.2453\n"
     ]
    },
    {
     "name": "stderr",
     "output_type": "stream",
     "text": [
      "Epoch 2/1000: 100%|██████████| 422/422 [07:21<00:00,  1.05s/it, Loss=1.7706, Acc=0.2663]\n"
     ]
    },
    {
     "name": "stdout",
     "output_type": "stream",
     "text": [
      "Epoch 2/1000: Train Loss: 1.7706, Train Acc: 0.2663\n"
     ]
    },
    {
     "name": "stderr",
     "output_type": "stream",
     "text": [
      "Epoch 2/1000 (Validation): 100%|██████████| 47/47 [00:16<00:00,  2.83it/s, Loss=1.7428, Acc=0.2897]\n"
     ]
    },
    {
     "name": "stdout",
     "output_type": "stream",
     "text": [
      "Epoch 2/1000: Val Loss: 1.7428, Val Acc: 0.2897, Val F1: 0.1936\n",
      "Current Learning Rate: 3e-05\n",
      "Best model saved at ../Hasil Eksperimen/aug.pt with val accuracy: 0.2897\n"
     ]
    },
    {
     "name": "stderr",
     "output_type": "stream",
     "text": [
      "Epoch 3/1000: 100%|██████████| 422/422 [07:15<00:00,  1.03s/it, Loss=1.7595, Acc=0.2749]\n"
     ]
    },
    {
     "name": "stdout",
     "output_type": "stream",
     "text": [
      "Epoch 3/1000: Train Loss: 1.7595, Train Acc: 0.2749\n"
     ]
    },
    {
     "name": "stderr",
     "output_type": "stream",
     "text": [
      "Epoch 3/1000 (Validation): 100%|██████████| 47/47 [00:04<00:00, 10.44it/s, Loss=1.7365, Acc=0.2893]\n"
     ]
    },
    {
     "name": "stdout",
     "output_type": "stream",
     "text": [
      "Epoch 3/1000: Val Loss: 1.7365, Val Acc: 0.2893, Val F1: 0.1930\n",
      "Current Learning Rate: 3e-05\n"
     ]
    },
    {
     "name": "stderr",
     "output_type": "stream",
     "text": [
      "Epoch 4/1000: 100%|██████████| 422/422 [07:10<00:00,  1.02s/it, Loss=1.7525, Acc=0.2814]\n"
     ]
    },
    {
     "name": "stdout",
     "output_type": "stream",
     "text": [
      "Epoch 4/1000: Train Loss: 1.7525, Train Acc: 0.2814\n"
     ]
    },
    {
     "name": "stderr",
     "output_type": "stream",
     "text": [
      "Epoch 4/1000 (Validation): 100%|██████████| 47/47 [00:16<00:00,  2.82it/s, Loss=1.7072, Acc=0.2893]\n"
     ]
    },
    {
     "name": "stdout",
     "output_type": "stream",
     "text": [
      "Epoch 4/1000: Val Loss: 1.7072, Val Acc: 0.2893, Val F1: 0.1772\n",
      "Current Learning Rate: 3e-05\n"
     ]
    },
    {
     "name": "stderr",
     "output_type": "stream",
     "text": [
      "Epoch 5/1000: 100%|██████████| 422/422 [07:27<00:00,  1.06s/it, Loss=1.7441, Acc=0.2834]\n"
     ]
    },
    {
     "name": "stdout",
     "output_type": "stream",
     "text": [
      "Epoch 5/1000: Train Loss: 1.7441, Train Acc: 0.2834\n"
     ]
    },
    {
     "name": "stderr",
     "output_type": "stream",
     "text": [
      "Epoch 5/1000 (Validation): 100%|██████████| 47/47 [00:16<00:00,  2.90it/s, Loss=1.6892, Acc=0.3330]\n"
     ]
    },
    {
     "name": "stdout",
     "output_type": "stream",
     "text": [
      "Epoch 5/1000: Val Loss: 1.6892, Val Acc: 0.3330, Val F1: 0.2557\n",
      "Current Learning Rate: 3e-05\n",
      "Best model saved at ../Hasil Eksperimen/aug.pt with val accuracy: 0.3330\n"
     ]
    },
    {
     "name": "stderr",
     "output_type": "stream",
     "text": [
      "Epoch 6/1000: 100%|██████████| 422/422 [07:08<00:00,  1.02s/it, Loss=1.7368, Acc=0.2862]\n"
     ]
    },
    {
     "name": "stdout",
     "output_type": "stream",
     "text": [
      "Epoch 6/1000: Train Loss: 1.7368, Train Acc: 0.2862\n"
     ]
    },
    {
     "name": "stderr",
     "output_type": "stream",
     "text": [
      "Epoch 6/1000 (Validation): 100%|██████████| 47/47 [00:09<00:00,  5.07it/s, Loss=1.6993, Acc=0.3213]\n"
     ]
    },
    {
     "name": "stdout",
     "output_type": "stream",
     "text": [
      "Epoch 6/1000: Val Loss: 1.6993, Val Acc: 0.3213, Val F1: 0.2640\n",
      "Current Learning Rate: 3e-05\n"
     ]
    },
    {
     "name": "stderr",
     "output_type": "stream",
     "text": [
      "Epoch 7/1000: 100%|██████████| 422/422 [07:08<00:00,  1.02s/it, Loss=1.7251, Acc=0.2972]\n"
     ]
    },
    {
     "name": "stdout",
     "output_type": "stream",
     "text": [
      "Epoch 7/1000: Train Loss: 1.7251, Train Acc: 0.2972\n"
     ]
    },
    {
     "name": "stderr",
     "output_type": "stream",
     "text": [
      "Epoch 7/1000 (Validation): 100%|██████████| 47/47 [00:16<00:00,  2.86it/s, Loss=1.6486, Acc=0.3537]\n"
     ]
    },
    {
     "name": "stdout",
     "output_type": "stream",
     "text": [
      "Epoch 7/1000: Val Loss: 1.6486, Val Acc: 0.3537, Val F1: 0.3167\n",
      "Current Learning Rate: 3e-05\n",
      "Best model saved at ../Hasil Eksperimen/aug.pt with val accuracy: 0.3537\n"
     ]
    },
    {
     "name": "stderr",
     "output_type": "stream",
     "text": [
      "Epoch 8/1000: 100%|██████████| 422/422 [07:21<00:00,  1.05s/it, Loss=1.7098, Acc=0.3071]\n"
     ]
    },
    {
     "name": "stdout",
     "output_type": "stream",
     "text": [
      "Epoch 8/1000: Train Loss: 1.7098, Train Acc: 0.3071\n"
     ]
    },
    {
     "name": "stderr",
     "output_type": "stream",
     "text": [
      "Epoch 8/1000 (Validation): 100%|██████████| 47/47 [00:14<00:00,  3.23it/s, Loss=1.6453, Acc=0.3513]\n"
     ]
    },
    {
     "name": "stdout",
     "output_type": "stream",
     "text": [
      "Epoch 8/1000: Val Loss: 1.6453, Val Acc: 0.3513, Val F1: 0.3130\n",
      "Current Learning Rate: 3e-05\n"
     ]
    },
    {
     "name": "stderr",
     "output_type": "stream",
     "text": [
      "Epoch 9/1000: 100%|██████████| 422/422 [07:26<00:00,  1.06s/it, Loss=1.7048, Acc=0.3071]\n"
     ]
    },
    {
     "name": "stdout",
     "output_type": "stream",
     "text": [
      "Epoch 9/1000: Train Loss: 1.7048, Train Acc: 0.3071\n"
     ]
    },
    {
     "name": "stderr",
     "output_type": "stream",
     "text": [
      "Epoch 9/1000 (Validation): 100%|██████████| 47/47 [00:20<00:00,  2.30it/s, Loss=1.6334, Acc=0.3620]\n"
     ]
    },
    {
     "name": "stdout",
     "output_type": "stream",
     "text": [
      "Epoch 9/1000: Val Loss: 1.6334, Val Acc: 0.3620, Val F1: 0.2899\n",
      "Current Learning Rate: 3e-05\n",
      "Best model saved at ../Hasil Eksperimen/aug.pt with val accuracy: 0.3620\n"
     ]
    },
    {
     "name": "stderr",
     "output_type": "stream",
     "text": [
      "Epoch 10/1000: 100%|██████████| 422/422 [07:08<00:00,  1.02s/it, Loss=1.6937, Acc=0.3147]\n"
     ]
    },
    {
     "name": "stdout",
     "output_type": "stream",
     "text": [
      "Epoch 10/1000: Train Loss: 1.6937, Train Acc: 0.3147\n"
     ]
    },
    {
     "name": "stderr",
     "output_type": "stream",
     "text": [
      "Epoch 10/1000 (Validation): 100%|██████████| 47/47 [00:18<00:00,  2.49it/s, Loss=1.5975, Acc=0.3753]\n"
     ]
    },
    {
     "name": "stdout",
     "output_type": "stream",
     "text": [
      "Epoch 10/1000: Val Loss: 1.5975, Val Acc: 0.3753, Val F1: 0.3147\n",
      "Current Learning Rate: 3e-05\n",
      "Best model saved at ../Hasil Eksperimen/aug.pt with val accuracy: 0.3753\n"
     ]
    },
    {
     "name": "stderr",
     "output_type": "stream",
     "text": [
      "Epoch 11/1000: 100%|██████████| 422/422 [07:22<00:00,  1.05s/it, Loss=1.6827, Acc=0.3226]\n"
     ]
    },
    {
     "name": "stdout",
     "output_type": "stream",
     "text": [
      "Epoch 11/1000: Train Loss: 1.6827, Train Acc: 0.3226\n"
     ]
    },
    {
     "name": "stderr",
     "output_type": "stream",
     "text": [
      "Epoch 11/1000 (Validation): 100%|██████████| 47/47 [00:19<00:00,  2.43it/s, Loss=1.6088, Acc=0.3630]\n"
     ]
    },
    {
     "name": "stdout",
     "output_type": "stream",
     "text": [
      "Epoch 11/1000: Val Loss: 1.6088, Val Acc: 0.3630, Val F1: 0.3333\n",
      "Current Learning Rate: 3e-05\n"
     ]
    },
    {
     "name": "stderr",
     "output_type": "stream",
     "text": [
      "Epoch 12/1000: 100%|██████████| 422/422 [07:18<00:00,  1.04s/it, Loss=1.6811, Acc=0.3242]\n"
     ]
    },
    {
     "name": "stdout",
     "output_type": "stream",
     "text": [
      "Epoch 12/1000: Train Loss: 1.6811, Train Acc: 0.3242\n"
     ]
    },
    {
     "name": "stderr",
     "output_type": "stream",
     "text": [
      "Epoch 12/1000 (Validation): 100%|██████████| 47/47 [00:17<00:00,  2.67it/s, Loss=1.5979, Acc=0.3740]\n"
     ]
    },
    {
     "name": "stdout",
     "output_type": "stream",
     "text": [
      "Epoch 12/1000: Val Loss: 1.5979, Val Acc: 0.3740, Val F1: 0.3265\n",
      "Current Learning Rate: 3e-05\n"
     ]
    },
    {
     "name": "stderr",
     "output_type": "stream",
     "text": [
      "Epoch 13/1000: 100%|██████████| 422/422 [07:11<00:00,  1.02s/it, Loss=1.6736, Acc=0.3300]\n"
     ]
    },
    {
     "name": "stdout",
     "output_type": "stream",
     "text": [
      "Epoch 13/1000: Train Loss: 1.6736, Train Acc: 0.3300\n"
     ]
    },
    {
     "name": "stderr",
     "output_type": "stream",
     "text": [
      "Epoch 13/1000 (Validation): 100%|██████████| 47/47 [00:15<00:00,  2.94it/s, Loss=1.5877, Acc=0.3763]\n"
     ]
    },
    {
     "name": "stdout",
     "output_type": "stream",
     "text": [
      "Epoch 13/1000: Val Loss: 1.5877, Val Acc: 0.3763, Val F1: 0.3511\n",
      "Current Learning Rate: 3e-05\n",
      "Best model saved at ../Hasil Eksperimen/aug.pt with val accuracy: 0.3763\n"
     ]
    },
    {
     "name": "stderr",
     "output_type": "stream",
     "text": [
      "Epoch 14/1000: 100%|██████████| 422/422 [07:34<00:00,  1.08s/it, Loss=1.6638, Acc=0.3281]\n"
     ]
    },
    {
     "name": "stdout",
     "output_type": "stream",
     "text": [
      "Epoch 14/1000: Train Loss: 1.6638, Train Acc: 0.3281\n"
     ]
    },
    {
     "name": "stderr",
     "output_type": "stream",
     "text": [
      "Epoch 14/1000 (Validation): 100%|██████████| 47/47 [00:17<00:00,  2.68it/s, Loss=1.5940, Acc=0.3790]\n"
     ]
    },
    {
     "name": "stdout",
     "output_type": "stream",
     "text": [
      "Epoch 14/1000: Val Loss: 1.5940, Val Acc: 0.3790, Val F1: 0.3121\n",
      "Current Learning Rate: 3e-05\n",
      "Best model saved at ../Hasil Eksperimen/aug.pt with val accuracy: 0.3790\n"
     ]
    },
    {
     "name": "stderr",
     "output_type": "stream",
     "text": [
      "Epoch 15/1000: 100%|██████████| 422/422 [04:22<00:00,  1.61it/s, Loss=1.6613, Acc=0.3346]\n"
     ]
    },
    {
     "name": "stdout",
     "output_type": "stream",
     "text": [
      "Epoch 15/1000: Train Loss: 1.6613, Train Acc: 0.3346\n"
     ]
    },
    {
     "name": "stderr",
     "output_type": "stream",
     "text": [
      "Epoch 15/1000 (Validation): 100%|██████████| 47/47 [00:02<00:00, 20.17it/s, Loss=1.5607, Acc=0.3853]\n"
     ]
    },
    {
     "name": "stdout",
     "output_type": "stream",
     "text": [
      "Epoch 15/1000: Val Loss: 1.5607, Val Acc: 0.3853, Val F1: 0.3521\n",
      "Current Learning Rate: 3e-05\n",
      "Best model saved at ../Hasil Eksperimen/aug.pt with val accuracy: 0.3853\n"
     ]
    },
    {
     "name": "stderr",
     "output_type": "stream",
     "text": [
      "Epoch 16/1000: 100%|██████████| 422/422 [01:13<00:00,  5.74it/s, Loss=1.6462, Acc=0.3439]\n"
     ]
    },
    {
     "name": "stdout",
     "output_type": "stream",
     "text": [
      "Epoch 16/1000: Train Loss: 1.6462, Train Acc: 0.3439\n"
     ]
    },
    {
     "name": "stderr",
     "output_type": "stream",
     "text": [
      "Epoch 16/1000 (Validation): 100%|██████████| 47/47 [00:02<00:00, 19.93it/s, Loss=1.5696, Acc=0.3910]\n"
     ]
    },
    {
     "name": "stdout",
     "output_type": "stream",
     "text": [
      "Epoch 16/1000: Val Loss: 1.5696, Val Acc: 0.3910, Val F1: 0.3595\n",
      "Current Learning Rate: 3e-05\n",
      "Best model saved at ../Hasil Eksperimen/aug.pt with val accuracy: 0.3910\n"
     ]
    },
    {
     "name": "stderr",
     "output_type": "stream",
     "text": [
      "Epoch 17/1000: 100%|██████████| 422/422 [01:13<00:00,  5.71it/s, Loss=1.6448, Acc=0.3419]\n"
     ]
    },
    {
     "name": "stdout",
     "output_type": "stream",
     "text": [
      "Epoch 17/1000: Train Loss: 1.6448, Train Acc: 0.3419\n"
     ]
    },
    {
     "name": "stderr",
     "output_type": "stream",
     "text": [
      "Epoch 17/1000 (Validation): 100%|██████████| 47/47 [00:02<00:00, 19.29it/s, Loss=1.5413, Acc=0.4017]\n"
     ]
    },
    {
     "name": "stdout",
     "output_type": "stream",
     "text": [
      "Epoch 17/1000: Val Loss: 1.5413, Val Acc: 0.4017, Val F1: 0.3732\n",
      "Current Learning Rate: 3e-05\n",
      "Best model saved at ../Hasil Eksperimen/aug.pt with val accuracy: 0.4017\n"
     ]
    },
    {
     "name": "stderr",
     "output_type": "stream",
     "text": [
      "Epoch 18/1000: 100%|██████████| 422/422 [01:18<00:00,  5.39it/s, Loss=1.6361, Acc=0.3457]\n"
     ]
    },
    {
     "name": "stdout",
     "output_type": "stream",
     "text": [
      "Epoch 18/1000: Train Loss: 1.6361, Train Acc: 0.3457\n"
     ]
    },
    {
     "name": "stderr",
     "output_type": "stream",
     "text": [
      "Epoch 18/1000 (Validation): 100%|██████████| 47/47 [00:02<00:00, 19.07it/s, Loss=1.5569, Acc=0.3897]\n"
     ]
    },
    {
     "name": "stdout",
     "output_type": "stream",
     "text": [
      "Epoch 18/1000: Val Loss: 1.5569, Val Acc: 0.3897, Val F1: 0.3532\n",
      "Current Learning Rate: 3e-05\n"
     ]
    },
    {
     "name": "stderr",
     "output_type": "stream",
     "text": [
      "Epoch 19/1000: 100%|██████████| 422/422 [01:13<00:00,  5.72it/s, Loss=1.6311, Acc=0.3511]\n"
     ]
    },
    {
     "name": "stdout",
     "output_type": "stream",
     "text": [
      "Epoch 19/1000: Train Loss: 1.6311, Train Acc: 0.3511\n"
     ]
    },
    {
     "name": "stderr",
     "output_type": "stream",
     "text": [
      "Epoch 19/1000 (Validation): 100%|██████████| 47/47 [00:02<00:00, 19.31it/s, Loss=1.5655, Acc=0.3890]\n"
     ]
    },
    {
     "name": "stdout",
     "output_type": "stream",
     "text": [
      "Epoch 19/1000: Val Loss: 1.5655, Val Acc: 0.3890, Val F1: 0.3353\n",
      "Current Learning Rate: 3e-05\n"
     ]
    },
    {
     "name": "stderr",
     "output_type": "stream",
     "text": [
      "Epoch 20/1000: 100%|██████████| 422/422 [01:15<00:00,  5.62it/s, Loss=1.6260, Acc=0.3524]\n"
     ]
    },
    {
     "name": "stdout",
     "output_type": "stream",
     "text": [
      "Epoch 20/1000: Train Loss: 1.6260, Train Acc: 0.3524\n"
     ]
    },
    {
     "name": "stderr",
     "output_type": "stream",
     "text": [
      "Epoch 20/1000 (Validation): 100%|██████████| 47/47 [00:02<00:00, 19.27it/s, Loss=1.5491, Acc=0.3970]\n"
     ]
    },
    {
     "name": "stdout",
     "output_type": "stream",
     "text": [
      "Epoch 20/1000: Val Loss: 1.5491, Val Acc: 0.3970, Val F1: 0.3474\n",
      "Current Learning Rate: 3e-05\n"
     ]
    },
    {
     "name": "stderr",
     "output_type": "stream",
     "text": [
      "Epoch 21/1000: 100%|██████████| 422/422 [01:15<00:00,  5.62it/s, Loss=1.6180, Acc=0.3578]\n"
     ]
    },
    {
     "name": "stdout",
     "output_type": "stream",
     "text": [
      "Epoch 21/1000: Train Loss: 1.6180, Train Acc: 0.3578\n"
     ]
    },
    {
     "name": "stderr",
     "output_type": "stream",
     "text": [
      "Epoch 21/1000 (Validation): 100%|██████████| 47/47 [00:02<00:00, 19.35it/s, Loss=1.5460, Acc=0.4017]\n"
     ]
    },
    {
     "name": "stdout",
     "output_type": "stream",
     "text": [
      "Epoch 21/1000: Val Loss: 1.5460, Val Acc: 0.4017, Val F1: 0.3828\n",
      "Current Learning Rate: 3e-05\n"
     ]
    },
    {
     "name": "stderr",
     "output_type": "stream",
     "text": [
      "Epoch 22/1000: 100%|██████████| 422/422 [01:15<00:00,  5.58it/s, Loss=1.6192, Acc=0.3549]\n"
     ]
    },
    {
     "name": "stdout",
     "output_type": "stream",
     "text": [
      "Epoch 22/1000: Train Loss: 1.6192, Train Acc: 0.3549\n"
     ]
    },
    {
     "name": "stderr",
     "output_type": "stream",
     "text": [
      "Epoch 22/1000 (Validation): 100%|██████████| 47/47 [00:02<00:00, 19.39it/s, Loss=1.5346, Acc=0.3953]\n"
     ]
    },
    {
     "name": "stdout",
     "output_type": "stream",
     "text": [
      "Epoch 22/1000: Val Loss: 1.5346, Val Acc: 0.3953, Val F1: 0.3368\n",
      "Current Learning Rate: 3e-05\n"
     ]
    },
    {
     "name": "stderr",
     "output_type": "stream",
     "text": [
      "Epoch 23/1000: 100%|██████████| 422/422 [01:13<00:00,  5.71it/s, Loss=1.6080, Acc=0.3608]\n"
     ]
    },
    {
     "name": "stdout",
     "output_type": "stream",
     "text": [
      "Epoch 23/1000: Train Loss: 1.6080, Train Acc: 0.3608\n"
     ]
    },
    {
     "name": "stderr",
     "output_type": "stream",
     "text": [
      "Epoch 23/1000 (Validation): 100%|██████████| 47/47 [00:02<00:00, 19.37it/s, Loss=1.5195, Acc=0.4030]\n"
     ]
    },
    {
     "name": "stdout",
     "output_type": "stream",
     "text": [
      "Epoch 23/1000: Val Loss: 1.5195, Val Acc: 0.4030, Val F1: 0.3786\n",
      "Current Learning Rate: 3e-05\n",
      "Best model saved at ../Hasil Eksperimen/aug.pt with val accuracy: 0.4030\n"
     ]
    },
    {
     "name": "stderr",
     "output_type": "stream",
     "text": [
      "Epoch 24/1000: 100%|██████████| 422/422 [01:20<00:00,  5.25it/s, Loss=1.6034, Acc=0.3618]\n"
     ]
    },
    {
     "name": "stdout",
     "output_type": "stream",
     "text": [
      "Epoch 24/1000: Train Loss: 1.6034, Train Acc: 0.3618\n"
     ]
    },
    {
     "name": "stderr",
     "output_type": "stream",
     "text": [
      "Epoch 24/1000 (Validation): 100%|██████████| 47/47 [00:02<00:00, 19.39it/s, Loss=1.5208, Acc=0.4000]\n"
     ]
    },
    {
     "name": "stdout",
     "output_type": "stream",
     "text": [
      "Epoch 24/1000: Val Loss: 1.5208, Val Acc: 0.4000, Val F1: 0.3803\n",
      "Current Learning Rate: 3e-05\n"
     ]
    },
    {
     "name": "stderr",
     "output_type": "stream",
     "text": [
      "Epoch 25/1000: 100%|██████████| 422/422 [01:16<00:00,  5.55it/s, Loss=1.6023, Acc=0.3588]\n"
     ]
    },
    {
     "name": "stdout",
     "output_type": "stream",
     "text": [
      "Epoch 25/1000: Train Loss: 1.6023, Train Acc: 0.3588\n"
     ]
    },
    {
     "name": "stderr",
     "output_type": "stream",
     "text": [
      "Epoch 25/1000 (Validation): 100%|██████████| 47/47 [00:02<00:00, 19.35it/s, Loss=1.5034, Acc=0.4150]\n"
     ]
    },
    {
     "name": "stdout",
     "output_type": "stream",
     "text": [
      "Epoch 25/1000: Val Loss: 1.5034, Val Acc: 0.4150, Val F1: 0.3928\n",
      "Current Learning Rate: 3e-05\n",
      "Best model saved at ../Hasil Eksperimen/aug.pt with val accuracy: 0.4150\n"
     ]
    },
    {
     "name": "stderr",
     "output_type": "stream",
     "text": [
      "Epoch 26/1000: 100%|██████████| 422/422 [01:14<00:00,  5.67it/s, Loss=1.5931, Acc=0.3666]\n"
     ]
    },
    {
     "name": "stdout",
     "output_type": "stream",
     "text": [
      "Epoch 26/1000: Train Loss: 1.5931, Train Acc: 0.3666\n"
     ]
    },
    {
     "name": "stderr",
     "output_type": "stream",
     "text": [
      "Epoch 26/1000 (Validation): 100%|██████████| 47/47 [00:02<00:00, 19.32it/s, Loss=1.4875, Acc=0.4273]\n"
     ]
    },
    {
     "name": "stdout",
     "output_type": "stream",
     "text": [
      "Epoch 26/1000: Val Loss: 1.4875, Val Acc: 0.4273, Val F1: 0.3947\n",
      "Current Learning Rate: 3e-05\n",
      "Best model saved at ../Hasil Eksperimen/aug.pt with val accuracy: 0.4273\n"
     ]
    },
    {
     "name": "stderr",
     "output_type": "stream",
     "text": [
      "Epoch 27/1000: 100%|██████████| 422/422 [01:14<00:00,  5.69it/s, Loss=1.5884, Acc=0.3716]\n"
     ]
    },
    {
     "name": "stdout",
     "output_type": "stream",
     "text": [
      "Epoch 27/1000: Train Loss: 1.5884, Train Acc: 0.3716\n"
     ]
    },
    {
     "name": "stderr",
     "output_type": "stream",
     "text": [
      "Epoch 27/1000 (Validation): 100%|██████████| 47/47 [00:02<00:00, 19.24it/s, Loss=1.4846, Acc=0.4167]\n"
     ]
    },
    {
     "name": "stdout",
     "output_type": "stream",
     "text": [
      "Epoch 27/1000: Val Loss: 1.4846, Val Acc: 0.4167, Val F1: 0.4050\n",
      "Current Learning Rate: 3e-05\n"
     ]
    },
    {
     "name": "stderr",
     "output_type": "stream",
     "text": [
      "Epoch 28/1000: 100%|██████████| 422/422 [01:14<00:00,  5.63it/s, Loss=1.5801, Acc=0.3735]\n"
     ]
    },
    {
     "name": "stdout",
     "output_type": "stream",
     "text": [
      "Epoch 28/1000: Train Loss: 1.5801, Train Acc: 0.3735\n"
     ]
    },
    {
     "name": "stderr",
     "output_type": "stream",
     "text": [
      "Epoch 28/1000 (Validation): 100%|██████████| 47/47 [00:02<00:00, 19.25it/s, Loss=1.4935, Acc=0.4180]\n"
     ]
    },
    {
     "name": "stdout",
     "output_type": "stream",
     "text": [
      "Epoch 28/1000: Val Loss: 1.4935, Val Acc: 0.4180, Val F1: 0.3768\n",
      "Current Learning Rate: 3e-05\n"
     ]
    },
    {
     "name": "stderr",
     "output_type": "stream",
     "text": [
      "Epoch 29/1000: 100%|██████████| 422/422 [01:14<00:00,  5.64it/s, Loss=1.5699, Acc=0.3779]\n"
     ]
    },
    {
     "name": "stdout",
     "output_type": "stream",
     "text": [
      "Epoch 29/1000: Train Loss: 1.5699, Train Acc: 0.3779\n"
     ]
    },
    {
     "name": "stderr",
     "output_type": "stream",
     "text": [
      "Epoch 29/1000 (Validation): 100%|██████████| 47/47 [00:02<00:00, 19.37it/s, Loss=1.4967, Acc=0.4160]\n"
     ]
    },
    {
     "name": "stdout",
     "output_type": "stream",
     "text": [
      "Epoch 29/1000: Val Loss: 1.4967, Val Acc: 0.4160, Val F1: 0.3955\n",
      "Current Learning Rate: 3e-05\n"
     ]
    },
    {
     "name": "stderr",
     "output_type": "stream",
     "text": [
      "Epoch 30/1000: 100%|██████████| 422/422 [01:13<00:00,  5.71it/s, Loss=1.5675, Acc=0.3820]\n"
     ]
    },
    {
     "name": "stdout",
     "output_type": "stream",
     "text": [
      "Epoch 30/1000: Train Loss: 1.5675, Train Acc: 0.3820\n"
     ]
    },
    {
     "name": "stderr",
     "output_type": "stream",
     "text": [
      "Epoch 30/1000 (Validation): 100%|██████████| 47/47 [00:02<00:00, 19.30it/s, Loss=1.4754, Acc=0.4287]\n"
     ]
    },
    {
     "name": "stdout",
     "output_type": "stream",
     "text": [
      "Epoch 30/1000: Val Loss: 1.4754, Val Acc: 0.4287, Val F1: 0.3956\n",
      "Current Learning Rate: 3e-05\n",
      "Best model saved at ../Hasil Eksperimen/aug.pt with val accuracy: 0.4287\n"
     ]
    },
    {
     "name": "stderr",
     "output_type": "stream",
     "text": [
      "Epoch 31/1000: 100%|██████████| 422/422 [01:13<00:00,  5.74it/s, Loss=1.5611, Acc=0.3860]\n"
     ]
    },
    {
     "name": "stdout",
     "output_type": "stream",
     "text": [
      "Epoch 31/1000: Train Loss: 1.5611, Train Acc: 0.3860\n"
     ]
    },
    {
     "name": "stderr",
     "output_type": "stream",
     "text": [
      "Epoch 31/1000 (Validation): 100%|██████████| 47/47 [00:02<00:00, 19.25it/s, Loss=1.4834, Acc=0.4263]\n"
     ]
    },
    {
     "name": "stdout",
     "output_type": "stream",
     "text": [
      "Epoch 31/1000: Val Loss: 1.4834, Val Acc: 0.4263, Val F1: 0.4095\n",
      "Current Learning Rate: 3e-05\n"
     ]
    },
    {
     "name": "stderr",
     "output_type": "stream",
     "text": [
      "Epoch 32/1000: 100%|██████████| 422/422 [01:14<00:00,  5.64it/s, Loss=1.5550, Acc=0.3865]\n"
     ]
    },
    {
     "name": "stdout",
     "output_type": "stream",
     "text": [
      "Epoch 32/1000: Train Loss: 1.5550, Train Acc: 0.3865\n"
     ]
    },
    {
     "name": "stderr",
     "output_type": "stream",
     "text": [
      "Epoch 32/1000 (Validation): 100%|██████████| 47/47 [00:02<00:00, 19.17it/s, Loss=1.4712, Acc=0.4220]\n"
     ]
    },
    {
     "name": "stdout",
     "output_type": "stream",
     "text": [
      "Epoch 32/1000: Val Loss: 1.4712, Val Acc: 0.4220, Val F1: 0.4069\n",
      "Current Learning Rate: 3e-05\n"
     ]
    },
    {
     "name": "stderr",
     "output_type": "stream",
     "text": [
      "Epoch 33/1000: 100%|██████████| 422/422 [01:14<00:00,  5.65it/s, Loss=1.5500, Acc=0.3869]\n"
     ]
    },
    {
     "name": "stdout",
     "output_type": "stream",
     "text": [
      "Epoch 33/1000: Train Loss: 1.5500, Train Acc: 0.3869\n"
     ]
    },
    {
     "name": "stderr",
     "output_type": "stream",
     "text": [
      "Epoch 33/1000 (Validation): 100%|██████████| 47/47 [00:02<00:00, 19.34it/s, Loss=1.4681, Acc=0.4350]\n"
     ]
    },
    {
     "name": "stdout",
     "output_type": "stream",
     "text": [
      "Epoch 33/1000: Val Loss: 1.4681, Val Acc: 0.4350, Val F1: 0.4006\n",
      "Current Learning Rate: 3e-05\n",
      "Best model saved at ../Hasil Eksperimen/aug.pt with val accuracy: 0.4350\n"
     ]
    },
    {
     "name": "stderr",
     "output_type": "stream",
     "text": [
      "Epoch 34/1000: 100%|██████████| 422/422 [01:13<00:00,  5.71it/s, Loss=1.5435, Acc=0.3938]\n"
     ]
    },
    {
     "name": "stdout",
     "output_type": "stream",
     "text": [
      "Epoch 34/1000: Train Loss: 1.5435, Train Acc: 0.3938\n"
     ]
    },
    {
     "name": "stderr",
     "output_type": "stream",
     "text": [
      "Epoch 34/1000 (Validation): 100%|██████████| 47/47 [00:02<00:00, 19.30it/s, Loss=1.4607, Acc=0.4367]\n"
     ]
    },
    {
     "name": "stdout",
     "output_type": "stream",
     "text": [
      "Epoch 34/1000: Val Loss: 1.4607, Val Acc: 0.4367, Val F1: 0.4233\n",
      "Current Learning Rate: 3e-05\n",
      "Best model saved at ../Hasil Eksperimen/aug.pt with val accuracy: 0.4367\n"
     ]
    },
    {
     "name": "stderr",
     "output_type": "stream",
     "text": [
      "Epoch 35/1000: 100%|██████████| 422/422 [01:15<00:00,  5.58it/s, Loss=1.5391, Acc=0.3917]\n"
     ]
    },
    {
     "name": "stdout",
     "output_type": "stream",
     "text": [
      "Epoch 35/1000: Train Loss: 1.5391, Train Acc: 0.3917\n"
     ]
    },
    {
     "name": "stderr",
     "output_type": "stream",
     "text": [
      "Epoch 35/1000 (Validation): 100%|██████████| 47/47 [00:02<00:00, 19.24it/s, Loss=1.4427, Acc=0.4277]\n"
     ]
    },
    {
     "name": "stdout",
     "output_type": "stream",
     "text": [
      "Epoch 35/1000: Val Loss: 1.4427, Val Acc: 0.4277, Val F1: 0.4001\n",
      "Current Learning Rate: 3e-05\n"
     ]
    },
    {
     "name": "stderr",
     "output_type": "stream",
     "text": [
      "Epoch 36/1000: 100%|██████████| 422/422 [01:14<00:00,  5.69it/s, Loss=1.5326, Acc=0.3983]\n"
     ]
    },
    {
     "name": "stdout",
     "output_type": "stream",
     "text": [
      "Epoch 36/1000: Train Loss: 1.5326, Train Acc: 0.3983\n"
     ]
    },
    {
     "name": "stderr",
     "output_type": "stream",
     "text": [
      "Epoch 36/1000 (Validation): 100%|██████████| 47/47 [00:02<00:00, 19.34it/s, Loss=1.4657, Acc=0.4260]\n"
     ]
    },
    {
     "name": "stdout",
     "output_type": "stream",
     "text": [
      "Epoch 36/1000: Val Loss: 1.4657, Val Acc: 0.4260, Val F1: 0.3865\n",
      "Current Learning Rate: 3e-05\n"
     ]
    },
    {
     "name": "stderr",
     "output_type": "stream",
     "text": [
      "Epoch 37/1000: 100%|██████████| 422/422 [01:14<00:00,  5.63it/s, Loss=1.5283, Acc=0.3991]\n"
     ]
    },
    {
     "name": "stdout",
     "output_type": "stream",
     "text": [
      "Epoch 37/1000: Train Loss: 1.5283, Train Acc: 0.3991\n"
     ]
    },
    {
     "name": "stderr",
     "output_type": "stream",
     "text": [
      "Epoch 37/1000 (Validation): 100%|██████████| 47/47 [00:02<00:00, 19.40it/s, Loss=1.4561, Acc=0.4293]\n"
     ]
    },
    {
     "name": "stdout",
     "output_type": "stream",
     "text": [
      "Epoch 37/1000: Val Loss: 1.4561, Val Acc: 0.4293, Val F1: 0.3971\n",
      "Current Learning Rate: 3e-05\n"
     ]
    },
    {
     "name": "stderr",
     "output_type": "stream",
     "text": [
      "Epoch 38/1000: 100%|██████████| 422/422 [01:13<00:00,  5.73it/s, Loss=1.5231, Acc=0.3984]\n"
     ]
    },
    {
     "name": "stdout",
     "output_type": "stream",
     "text": [
      "Epoch 38/1000: Train Loss: 1.5231, Train Acc: 0.3984\n"
     ]
    },
    {
     "name": "stderr",
     "output_type": "stream",
     "text": [
      "Epoch 38/1000 (Validation): 100%|██████████| 47/47 [00:02<00:00, 19.31it/s, Loss=1.4359, Acc=0.4423]\n"
     ]
    },
    {
     "name": "stdout",
     "output_type": "stream",
     "text": [
      "Epoch 38/1000: Val Loss: 1.4359, Val Acc: 0.4423, Val F1: 0.4060\n",
      "Current Learning Rate: 3e-05\n",
      "Best model saved at ../Hasil Eksperimen/aug.pt with val accuracy: 0.4423\n"
     ]
    },
    {
     "name": "stderr",
     "output_type": "stream",
     "text": [
      "Epoch 39/1000: 100%|██████████| 422/422 [01:13<00:00,  5.71it/s, Loss=1.5162, Acc=0.4033]\n"
     ]
    },
    {
     "name": "stdout",
     "output_type": "stream",
     "text": [
      "Epoch 39/1000: Train Loss: 1.5162, Train Acc: 0.4033\n"
     ]
    },
    {
     "name": "stderr",
     "output_type": "stream",
     "text": [
      "Epoch 39/1000 (Validation): 100%|██████████| 47/47 [00:02<00:00, 19.32it/s, Loss=1.4214, Acc=0.4463]\n"
     ]
    },
    {
     "name": "stdout",
     "output_type": "stream",
     "text": [
      "Epoch 39/1000: Val Loss: 1.4214, Val Acc: 0.4463, Val F1: 0.4325\n",
      "Current Learning Rate: 3e-05\n",
      "Best model saved at ../Hasil Eksperimen/aug.pt with val accuracy: 0.4463\n"
     ]
    },
    {
     "name": "stderr",
     "output_type": "stream",
     "text": [
      "Epoch 40/1000: 100%|██████████| 422/422 [01:16<00:00,  5.53it/s, Loss=1.5120, Acc=0.4064]\n"
     ]
    },
    {
     "name": "stdout",
     "output_type": "stream",
     "text": [
      "Epoch 40/1000: Train Loss: 1.5120, Train Acc: 0.4064\n"
     ]
    },
    {
     "name": "stderr",
     "output_type": "stream",
     "text": [
      "Epoch 40/1000 (Validation): 100%|██████████| 47/47 [00:02<00:00, 18.69it/s, Loss=1.4062, Acc=0.4530]\n"
     ]
    },
    {
     "name": "stdout",
     "output_type": "stream",
     "text": [
      "Epoch 40/1000: Val Loss: 1.4062, Val Acc: 0.4530, Val F1: 0.4255\n",
      "Current Learning Rate: 3e-05\n",
      "Best model saved at ../Hasil Eksperimen/aug.pt with val accuracy: 0.4530\n"
     ]
    },
    {
     "name": "stderr",
     "output_type": "stream",
     "text": [
      "Epoch 41/1000: 100%|██████████| 422/422 [01:14<00:00,  5.68it/s, Loss=1.5035, Acc=0.4119]\n"
     ]
    },
    {
     "name": "stdout",
     "output_type": "stream",
     "text": [
      "Epoch 41/1000: Train Loss: 1.5035, Train Acc: 0.4119\n"
     ]
    },
    {
     "name": "stderr",
     "output_type": "stream",
     "text": [
      "Epoch 41/1000 (Validation): 100%|██████████| 47/47 [00:02<00:00, 19.96it/s, Loss=1.4574, Acc=0.4257]\n"
     ]
    },
    {
     "name": "stdout",
     "output_type": "stream",
     "text": [
      "Epoch 41/1000: Val Loss: 1.4574, Val Acc: 0.4257, Val F1: 0.4289\n",
      "Current Learning Rate: 3e-05\n"
     ]
    },
    {
     "name": "stderr",
     "output_type": "stream",
     "text": [
      "Epoch 42/1000: 100%|██████████| 422/422 [01:13<00:00,  5.73it/s, Loss=1.5040, Acc=0.4099]\n"
     ]
    },
    {
     "name": "stdout",
     "output_type": "stream",
     "text": [
      "Epoch 42/1000: Train Loss: 1.5040, Train Acc: 0.4099\n"
     ]
    },
    {
     "name": "stderr",
     "output_type": "stream",
     "text": [
      "Epoch 42/1000 (Validation): 100%|██████████| 47/47 [00:02<00:00, 20.00it/s, Loss=1.4012, Acc=0.4583]\n"
     ]
    },
    {
     "name": "stdout",
     "output_type": "stream",
     "text": [
      "Epoch 42/1000: Val Loss: 1.4012, Val Acc: 0.4583, Val F1: 0.4445\n",
      "Current Learning Rate: 3e-05\n",
      "Best model saved at ../Hasil Eksperimen/aug.pt with val accuracy: 0.4583\n"
     ]
    },
    {
     "name": "stderr",
     "output_type": "stream",
     "text": [
      "Epoch 43/1000: 100%|██████████| 422/422 [01:12<00:00,  5.82it/s, Loss=1.4982, Acc=0.4132]\n"
     ]
    },
    {
     "name": "stdout",
     "output_type": "stream",
     "text": [
      "Epoch 43/1000: Train Loss: 1.4982, Train Acc: 0.4132\n"
     ]
    },
    {
     "name": "stderr",
     "output_type": "stream",
     "text": [
      "Epoch 43/1000 (Validation): 100%|██████████| 47/47 [00:02<00:00, 20.13it/s, Loss=1.4041, Acc=0.4533]\n"
     ]
    },
    {
     "name": "stdout",
     "output_type": "stream",
     "text": [
      "Epoch 43/1000: Val Loss: 1.4041, Val Acc: 0.4533, Val F1: 0.4330\n",
      "Current Learning Rate: 3e-05\n"
     ]
    },
    {
     "name": "stderr",
     "output_type": "stream",
     "text": [
      "Epoch 44/1000: 100%|██████████| 422/422 [01:12<00:00,  5.81it/s, Loss=1.4933, Acc=0.4106]\n"
     ]
    },
    {
     "name": "stdout",
     "output_type": "stream",
     "text": [
      "Epoch 44/1000: Train Loss: 1.4933, Train Acc: 0.4106\n"
     ]
    },
    {
     "name": "stderr",
     "output_type": "stream",
     "text": [
      "Epoch 44/1000 (Validation): 100%|██████████| 47/47 [00:02<00:00, 20.11it/s, Loss=1.3917, Acc=0.4593]\n"
     ]
    },
    {
     "name": "stdout",
     "output_type": "stream",
     "text": [
      "Epoch 44/1000: Val Loss: 1.3917, Val Acc: 0.4593, Val F1: 0.4395\n",
      "Current Learning Rate: 3e-05\n",
      "Best model saved at ../Hasil Eksperimen/aug.pt with val accuracy: 0.4593\n"
     ]
    },
    {
     "name": "stderr",
     "output_type": "stream",
     "text": [
      "Epoch 45/1000: 100%|██████████| 422/422 [01:12<00:00,  5.80it/s, Loss=1.4899, Acc=0.4149]\n"
     ]
    },
    {
     "name": "stdout",
     "output_type": "stream",
     "text": [
      "Epoch 45/1000: Train Loss: 1.4899, Train Acc: 0.4149\n"
     ]
    },
    {
     "name": "stderr",
     "output_type": "stream",
     "text": [
      "Epoch 45/1000 (Validation): 100%|██████████| 47/47 [00:02<00:00, 20.13it/s, Loss=1.3871, Acc=0.4563]\n"
     ]
    },
    {
     "name": "stdout",
     "output_type": "stream",
     "text": [
      "Epoch 45/1000: Val Loss: 1.3871, Val Acc: 0.4563, Val F1: 0.4377\n",
      "Current Learning Rate: 3e-05\n"
     ]
    },
    {
     "name": "stderr",
     "output_type": "stream",
     "text": [
      "Epoch 46/1000: 100%|██████████| 422/422 [01:13<00:00,  5.77it/s, Loss=1.4833, Acc=0.4153]\n"
     ]
    },
    {
     "name": "stdout",
     "output_type": "stream",
     "text": [
      "Epoch 46/1000: Train Loss: 1.4833, Train Acc: 0.4153\n"
     ]
    },
    {
     "name": "stderr",
     "output_type": "stream",
     "text": [
      "Epoch 46/1000 (Validation): 100%|██████████| 47/47 [00:02<00:00, 20.18it/s, Loss=1.3909, Acc=0.4590]\n"
     ]
    },
    {
     "name": "stdout",
     "output_type": "stream",
     "text": [
      "Epoch 46/1000: Val Loss: 1.3909, Val Acc: 0.4590, Val F1: 0.4313\n",
      "Current Learning Rate: 3e-05\n"
     ]
    },
    {
     "name": "stderr",
     "output_type": "stream",
     "text": [
      "Epoch 47/1000: 100%|██████████| 422/422 [01:13<00:00,  5.78it/s, Loss=1.4756, Acc=0.4247]\n"
     ]
    },
    {
     "name": "stdout",
     "output_type": "stream",
     "text": [
      "Epoch 47/1000: Train Loss: 1.4756, Train Acc: 0.4247\n"
     ]
    },
    {
     "name": "stderr",
     "output_type": "stream",
     "text": [
      "Epoch 47/1000 (Validation): 100%|██████████| 47/47 [00:02<00:00, 20.15it/s, Loss=1.4283, Acc=0.4460]\n"
     ]
    },
    {
     "name": "stdout",
     "output_type": "stream",
     "text": [
      "Epoch 47/1000: Val Loss: 1.4283, Val Acc: 0.4460, Val F1: 0.4107\n",
      "Current Learning Rate: 3e-05\n"
     ]
    },
    {
     "name": "stderr",
     "output_type": "stream",
     "text": [
      "Epoch 48/1000: 100%|██████████| 422/422 [01:20<00:00,  5.25it/s, Loss=1.4722, Acc=0.4227]\n"
     ]
    },
    {
     "name": "stdout",
     "output_type": "stream",
     "text": [
      "Epoch 48/1000: Train Loss: 1.4722, Train Acc: 0.4227\n"
     ]
    },
    {
     "name": "stderr",
     "output_type": "stream",
     "text": [
      "Epoch 48/1000 (Validation): 100%|██████████| 47/47 [00:02<00:00, 18.30it/s, Loss=1.4032, Acc=0.4593]\n"
     ]
    },
    {
     "name": "stdout",
     "output_type": "stream",
     "text": [
      "Epoch 48/1000: Val Loss: 1.4032, Val Acc: 0.4593, Val F1: 0.4176\n",
      "Current Learning Rate: 3e-05\n"
     ]
    },
    {
     "name": "stderr",
     "output_type": "stream",
     "text": [
      "Epoch 49/1000: 100%|██████████| 422/422 [01:14<00:00,  5.66it/s, Loss=1.4705, Acc=0.4226]\n"
     ]
    },
    {
     "name": "stdout",
     "output_type": "stream",
     "text": [
      "Epoch 49/1000: Train Loss: 1.4705, Train Acc: 0.4226\n"
     ]
    },
    {
     "name": "stderr",
     "output_type": "stream",
     "text": [
      "Epoch 49/1000 (Validation): 100%|██████████| 47/47 [00:02<00:00, 20.14it/s, Loss=1.3915, Acc=0.4637]\n"
     ]
    },
    {
     "name": "stdout",
     "output_type": "stream",
     "text": [
      "Epoch 49/1000: Val Loss: 1.3915, Val Acc: 0.4637, Val F1: 0.4593\n",
      "Current Learning Rate: 3e-05\n",
      "Best model saved at ../Hasil Eksperimen/aug.pt with val accuracy: 0.4637\n"
     ]
    },
    {
     "name": "stderr",
     "output_type": "stream",
     "text": [
      "Epoch 50/1000: 100%|██████████| 422/422 [01:13<00:00,  5.77it/s, Loss=1.4592, Acc=0.4267]\n"
     ]
    },
    {
     "name": "stdout",
     "output_type": "stream",
     "text": [
      "Epoch 50/1000: Train Loss: 1.4592, Train Acc: 0.4267\n"
     ]
    },
    {
     "name": "stderr",
     "output_type": "stream",
     "text": [
      "Epoch 50/1000 (Validation): 100%|██████████| 47/47 [00:02<00:00, 20.04it/s, Loss=1.3620, Acc=0.4820]\n"
     ]
    },
    {
     "name": "stdout",
     "output_type": "stream",
     "text": [
      "Epoch 50/1000: Val Loss: 1.3620, Val Acc: 0.4820, Val F1: 0.4680\n",
      "Current Learning Rate: 3e-05\n",
      "Best model saved at ../Hasil Eksperimen/aug.pt with val accuracy: 0.4820\n"
     ]
    },
    {
     "name": "stderr",
     "output_type": "stream",
     "text": [
      "Epoch 51/1000: 100%|██████████| 422/422 [01:14<00:00,  5.66it/s, Loss=1.4585, Acc=0.4292]\n"
     ]
    },
    {
     "name": "stdout",
     "output_type": "stream",
     "text": [
      "Epoch 51/1000: Train Loss: 1.4585, Train Acc: 0.4292\n"
     ]
    },
    {
     "name": "stderr",
     "output_type": "stream",
     "text": [
      "Epoch 51/1000 (Validation): 100%|██████████| 47/47 [00:02<00:00, 19.42it/s, Loss=1.3764, Acc=0.4607]\n"
     ]
    },
    {
     "name": "stdout",
     "output_type": "stream",
     "text": [
      "Epoch 51/1000: Val Loss: 1.3764, Val Acc: 0.4607, Val F1: 0.4517\n",
      "Current Learning Rate: 3e-05\n"
     ]
    },
    {
     "name": "stderr",
     "output_type": "stream",
     "text": [
      "Epoch 52/1000: 100%|██████████| 422/422 [01:18<00:00,  5.38it/s, Loss=1.4541, Acc=0.4290]\n"
     ]
    },
    {
     "name": "stdout",
     "output_type": "stream",
     "text": [
      "Epoch 52/1000: Train Loss: 1.4541, Train Acc: 0.4290\n"
     ]
    },
    {
     "name": "stderr",
     "output_type": "stream",
     "text": [
      "Epoch 52/1000 (Validation): 100%|██████████| 47/47 [00:02<00:00, 19.34it/s, Loss=1.4029, Acc=0.4533]\n"
     ]
    },
    {
     "name": "stdout",
     "output_type": "stream",
     "text": [
      "Epoch 52/1000: Val Loss: 1.4029, Val Acc: 0.4533, Val F1: 0.4506\n",
      "Current Learning Rate: 3e-05\n"
     ]
    },
    {
     "name": "stderr",
     "output_type": "stream",
     "text": [
      "Epoch 53/1000: 100%|██████████| 422/422 [01:18<00:00,  5.36it/s, Loss=1.4512, Acc=0.4298]\n"
     ]
    },
    {
     "name": "stdout",
     "output_type": "stream",
     "text": [
      "Epoch 53/1000: Train Loss: 1.4512, Train Acc: 0.4298\n"
     ]
    },
    {
     "name": "stderr",
     "output_type": "stream",
     "text": [
      "Epoch 53/1000 (Validation): 100%|██████████| 47/47 [00:02<00:00, 17.95it/s, Loss=1.3667, Acc=0.4757]\n"
     ]
    },
    {
     "name": "stdout",
     "output_type": "stream",
     "text": [
      "Epoch 53/1000: Val Loss: 1.3667, Val Acc: 0.4757, Val F1: 0.4663\n",
      "Current Learning Rate: 3e-05\n"
     ]
    },
    {
     "name": "stderr",
     "output_type": "stream",
     "text": [
      "Epoch 54/1000: 100%|██████████| 422/422 [01:15<00:00,  5.63it/s, Loss=1.4478, Acc=0.4353]\n"
     ]
    },
    {
     "name": "stdout",
     "output_type": "stream",
     "text": [
      "Epoch 54/1000: Train Loss: 1.4478, Train Acc: 0.4353\n"
     ]
    },
    {
     "name": "stderr",
     "output_type": "stream",
     "text": [
      "Epoch 54/1000 (Validation): 100%|██████████| 47/47 [00:02<00:00, 17.46it/s, Loss=1.3677, Acc=0.4763]\n"
     ]
    },
    {
     "name": "stdout",
     "output_type": "stream",
     "text": [
      "Epoch 54/1000: Val Loss: 1.3677, Val Acc: 0.4763, Val F1: 0.4614\n",
      "Current Learning Rate: 3e-05\n"
     ]
    },
    {
     "name": "stderr",
     "output_type": "stream",
     "text": [
      "Epoch 55/1000: 100%|██████████| 422/422 [01:14<00:00,  5.67it/s, Loss=1.4406, Acc=0.4367]\n"
     ]
    },
    {
     "name": "stdout",
     "output_type": "stream",
     "text": [
      "Epoch 55/1000: Train Loss: 1.4406, Train Acc: 0.4367\n"
     ]
    },
    {
     "name": "stderr",
     "output_type": "stream",
     "text": [
      "Epoch 55/1000 (Validation): 100%|██████████| 47/47 [00:02<00:00, 19.38it/s, Loss=1.3506, Acc=0.4787]\n"
     ]
    },
    {
     "name": "stdout",
     "output_type": "stream",
     "text": [
      "Epoch 55/1000: Val Loss: 1.3506, Val Acc: 0.4787, Val F1: 0.4684\n",
      "Current Learning Rate: 3e-05\n"
     ]
    },
    {
     "name": "stderr",
     "output_type": "stream",
     "text": [
      "Epoch 56/1000: 100%|██████████| 422/422 [01:13<00:00,  5.73it/s, Loss=1.4332, Acc=0.4388]\n"
     ]
    },
    {
     "name": "stdout",
     "output_type": "stream",
     "text": [
      "Epoch 56/1000: Train Loss: 1.4332, Train Acc: 0.4388\n"
     ]
    },
    {
     "name": "stderr",
     "output_type": "stream",
     "text": [
      "Epoch 56/1000 (Validation): 100%|██████████| 47/47 [00:02<00:00, 19.38it/s, Loss=1.3540, Acc=0.4733]\n"
     ]
    },
    {
     "name": "stdout",
     "output_type": "stream",
     "text": [
      "Epoch 56/1000: Val Loss: 1.3540, Val Acc: 0.4733, Val F1: 0.4581\n",
      "Current Learning Rate: 3e-05\n"
     ]
    },
    {
     "name": "stderr",
     "output_type": "stream",
     "text": [
      "Epoch 57/1000: 100%|██████████| 422/422 [01:13<00:00,  5.74it/s, Loss=1.4290, Acc=0.4416]\n"
     ]
    },
    {
     "name": "stdout",
     "output_type": "stream",
     "text": [
      "Epoch 57/1000: Train Loss: 1.4290, Train Acc: 0.4416\n"
     ]
    },
    {
     "name": "stderr",
     "output_type": "stream",
     "text": [
      "Epoch 57/1000 (Validation): 100%|██████████| 47/47 [00:02<00:00, 19.14it/s, Loss=1.3634, Acc=0.4703]\n"
     ]
    },
    {
     "name": "stdout",
     "output_type": "stream",
     "text": [
      "Epoch 57/1000: Val Loss: 1.3634, Val Acc: 0.4703, Val F1: 0.4475\n",
      "Current Learning Rate: 3e-05\n"
     ]
    },
    {
     "name": "stderr",
     "output_type": "stream",
     "text": [
      "Epoch 58/1000: 100%|██████████| 422/422 [01:13<00:00,  5.74it/s, Loss=1.4230, Acc=0.4442]\n"
     ]
    },
    {
     "name": "stdout",
     "output_type": "stream",
     "text": [
      "Epoch 58/1000: Train Loss: 1.4230, Train Acc: 0.4442\n"
     ]
    },
    {
     "name": "stderr",
     "output_type": "stream",
     "text": [
      "Epoch 58/1000 (Validation): 100%|██████████| 47/47 [00:02<00:00, 19.39it/s, Loss=1.3383, Acc=0.4777]\n"
     ]
    },
    {
     "name": "stdout",
     "output_type": "stream",
     "text": [
      "Epoch 58/1000: Val Loss: 1.3383, Val Acc: 0.4777, Val F1: 0.4636\n",
      "Current Learning Rate: 3e-05\n"
     ]
    },
    {
     "name": "stderr",
     "output_type": "stream",
     "text": [
      "Epoch 59/1000: 100%|██████████| 422/422 [01:13<00:00,  5.71it/s, Loss=1.4183, Acc=0.4487]\n"
     ]
    },
    {
     "name": "stdout",
     "output_type": "stream",
     "text": [
      "Epoch 59/1000: Train Loss: 1.4183, Train Acc: 0.4487\n"
     ]
    },
    {
     "name": "stderr",
     "output_type": "stream",
     "text": [
      "Epoch 59/1000 (Validation): 100%|██████████| 47/47 [00:02<00:00, 19.19it/s, Loss=1.3298, Acc=0.4853]\n"
     ]
    },
    {
     "name": "stdout",
     "output_type": "stream",
     "text": [
      "Epoch 59/1000: Val Loss: 1.3298, Val Acc: 0.4853, Val F1: 0.4689\n",
      "Current Learning Rate: 3e-05\n",
      "Best model saved at ../Hasil Eksperimen/aug.pt with val accuracy: 0.4853\n"
     ]
    },
    {
     "name": "stderr",
     "output_type": "stream",
     "text": [
      "Epoch 60/1000: 100%|██████████| 422/422 [01:13<00:00,  5.73it/s, Loss=1.4171, Acc=0.4449]\n"
     ]
    },
    {
     "name": "stdout",
     "output_type": "stream",
     "text": [
      "Epoch 60/1000: Train Loss: 1.4171, Train Acc: 0.4449\n"
     ]
    },
    {
     "name": "stderr",
     "output_type": "stream",
     "text": [
      "Epoch 60/1000 (Validation): 100%|██████████| 47/47 [00:02<00:00, 18.65it/s, Loss=1.3185, Acc=0.4920]\n"
     ]
    },
    {
     "name": "stdout",
     "output_type": "stream",
     "text": [
      "Epoch 60/1000: Val Loss: 1.3185, Val Acc: 0.4920, Val F1: 0.4743\n",
      "Current Learning Rate: 3e-05\n",
      "Best model saved at ../Hasil Eksperimen/aug.pt with val accuracy: 0.4920\n"
     ]
    },
    {
     "name": "stderr",
     "output_type": "stream",
     "text": [
      "Epoch 61/1000: 100%|██████████| 422/422 [01:14<00:00,  5.68it/s, Loss=1.4059, Acc=0.4476]\n"
     ]
    },
    {
     "name": "stdout",
     "output_type": "stream",
     "text": [
      "Epoch 61/1000: Train Loss: 1.4059, Train Acc: 0.4476\n"
     ]
    },
    {
     "name": "stderr",
     "output_type": "stream",
     "text": [
      "Epoch 61/1000 (Validation): 100%|██████████| 47/47 [00:02<00:00, 19.39it/s, Loss=1.3296, Acc=0.4857]\n"
     ]
    },
    {
     "name": "stdout",
     "output_type": "stream",
     "text": [
      "Epoch 61/1000: Val Loss: 1.3296, Val Acc: 0.4857, Val F1: 0.4703\n",
      "Current Learning Rate: 3e-05\n"
     ]
    },
    {
     "name": "stderr",
     "output_type": "stream",
     "text": [
      "Epoch 62/1000: 100%|██████████| 422/422 [01:13<00:00,  5.74it/s, Loss=1.4015, Acc=0.4542]\n"
     ]
    },
    {
     "name": "stdout",
     "output_type": "stream",
     "text": [
      "Epoch 62/1000: Train Loss: 1.4015, Train Acc: 0.4542\n"
     ]
    },
    {
     "name": "stderr",
     "output_type": "stream",
     "text": [
      "Epoch 62/1000 (Validation): 100%|██████████| 47/47 [00:02<00:00, 19.24it/s, Loss=1.3278, Acc=0.4873]\n"
     ]
    },
    {
     "name": "stdout",
     "output_type": "stream",
     "text": [
      "Epoch 62/1000: Val Loss: 1.3278, Val Acc: 0.4873, Val F1: 0.4729\n",
      "Current Learning Rate: 3e-05\n"
     ]
    },
    {
     "name": "stderr",
     "output_type": "stream",
     "text": [
      "Epoch 63/1000: 100%|██████████| 422/422 [01:15<00:00,  5.61it/s, Loss=1.3994, Acc=0.4548]\n"
     ]
    },
    {
     "name": "stdout",
     "output_type": "stream",
     "text": [
      "Epoch 63/1000: Train Loss: 1.3994, Train Acc: 0.4548\n"
     ]
    },
    {
     "name": "stderr",
     "output_type": "stream",
     "text": [
      "Epoch 63/1000 (Validation): 100%|██████████| 47/47 [00:02<00:00, 19.41it/s, Loss=1.3226, Acc=0.4930]\n"
     ]
    },
    {
     "name": "stdout",
     "output_type": "stream",
     "text": [
      "Epoch 63/1000: Val Loss: 1.3226, Val Acc: 0.4930, Val F1: 0.4705\n",
      "Current Learning Rate: 3e-05\n",
      "Best model saved at ../Hasil Eksperimen/aug.pt with val accuracy: 0.4930\n"
     ]
    },
    {
     "name": "stderr",
     "output_type": "stream",
     "text": [
      "Epoch 64/1000: 100%|██████████| 422/422 [01:13<00:00,  5.74it/s, Loss=1.3938, Acc=0.4558]\n"
     ]
    },
    {
     "name": "stdout",
     "output_type": "stream",
     "text": [
      "Epoch 64/1000: Train Loss: 1.3938, Train Acc: 0.4558\n"
     ]
    },
    {
     "name": "stderr",
     "output_type": "stream",
     "text": [
      "Epoch 64/1000 (Validation): 100%|██████████| 47/47 [00:02<00:00, 19.07it/s, Loss=1.3343, Acc=0.4783]\n"
     ]
    },
    {
     "name": "stdout",
     "output_type": "stream",
     "text": [
      "Epoch 64/1000: Val Loss: 1.3343, Val Acc: 0.4783, Val F1: 0.4603\n",
      "Current Learning Rate: 3e-05\n"
     ]
    },
    {
     "name": "stderr",
     "output_type": "stream",
     "text": [
      "Epoch 65/1000: 100%|██████████| 422/422 [01:16<00:00,  5.51it/s, Loss=1.3908, Acc=0.4572]\n"
     ]
    },
    {
     "name": "stdout",
     "output_type": "stream",
     "text": [
      "Epoch 65/1000: Train Loss: 1.3908, Train Acc: 0.4572\n"
     ]
    },
    {
     "name": "stderr",
     "output_type": "stream",
     "text": [
      "Epoch 65/1000 (Validation): 100%|██████████| 47/47 [00:02<00:00, 19.40it/s, Loss=1.3097, Acc=0.4920]\n"
     ]
    },
    {
     "name": "stdout",
     "output_type": "stream",
     "text": [
      "Epoch 65/1000: Val Loss: 1.3097, Val Acc: 0.4920, Val F1: 0.4747\n",
      "Current Learning Rate: 3e-05\n"
     ]
    },
    {
     "name": "stderr",
     "output_type": "stream",
     "text": [
      "Epoch 66/1000: 100%|██████████| 422/422 [01:14<00:00,  5.70it/s, Loss=1.3858, Acc=0.4604]\n"
     ]
    },
    {
     "name": "stdout",
     "output_type": "stream",
     "text": [
      "Epoch 66/1000: Train Loss: 1.3858, Train Acc: 0.4604\n"
     ]
    },
    {
     "name": "stderr",
     "output_type": "stream",
     "text": [
      "Epoch 66/1000 (Validation): 100%|██████████| 47/47 [00:02<00:00, 19.35it/s, Loss=1.3087, Acc=0.4943]\n"
     ]
    },
    {
     "name": "stdout",
     "output_type": "stream",
     "text": [
      "Epoch 66/1000: Val Loss: 1.3087, Val Acc: 0.4943, Val F1: 0.4764\n",
      "Current Learning Rate: 3e-05\n",
      "Best model saved at ../Hasil Eksperimen/aug.pt with val accuracy: 0.4943\n"
     ]
    },
    {
     "name": "stderr",
     "output_type": "stream",
     "text": [
      "Epoch 67/1000: 100%|██████████| 422/422 [01:17<00:00,  5.42it/s, Loss=1.3788, Acc=0.4635]\n"
     ]
    },
    {
     "name": "stdout",
     "output_type": "stream",
     "text": [
      "Epoch 67/1000: Train Loss: 1.3788, Train Acc: 0.4635\n"
     ]
    },
    {
     "name": "stderr",
     "output_type": "stream",
     "text": [
      "Epoch 67/1000 (Validation): 100%|██████████| 47/47 [00:02<00:00, 19.37it/s, Loss=1.3098, Acc=0.4970]\n"
     ]
    },
    {
     "name": "stdout",
     "output_type": "stream",
     "text": [
      "Epoch 67/1000: Val Loss: 1.3098, Val Acc: 0.4970, Val F1: 0.4866\n",
      "Current Learning Rate: 3e-05\n",
      "Best model saved at ../Hasil Eksperimen/aug.pt with val accuracy: 0.4970\n"
     ]
    },
    {
     "name": "stderr",
     "output_type": "stream",
     "text": [
      "Epoch 68/1000: 100%|██████████| 422/422 [01:13<00:00,  5.70it/s, Loss=1.3814, Acc=0.4597]\n"
     ]
    },
    {
     "name": "stdout",
     "output_type": "stream",
     "text": [
      "Epoch 68/1000: Train Loss: 1.3814, Train Acc: 0.4597\n"
     ]
    },
    {
     "name": "stderr",
     "output_type": "stream",
     "text": [
      "Epoch 68/1000 (Validation): 100%|██████████| 47/47 [00:02<00:00, 19.29it/s, Loss=1.2982, Acc=0.5030]\n"
     ]
    },
    {
     "name": "stdout",
     "output_type": "stream",
     "text": [
      "Epoch 68/1000: Val Loss: 1.2982, Val Acc: 0.5030, Val F1: 0.4918\n",
      "Current Learning Rate: 3e-05\n",
      "Best model saved at ../Hasil Eksperimen/aug.pt with val accuracy: 0.5030\n"
     ]
    },
    {
     "name": "stderr",
     "output_type": "stream",
     "text": [
      "Epoch 69/1000: 100%|██████████| 422/422 [01:13<00:00,  5.72it/s, Loss=1.3754, Acc=0.4648]\n"
     ]
    },
    {
     "name": "stdout",
     "output_type": "stream",
     "text": [
      "Epoch 69/1000: Train Loss: 1.3754, Train Acc: 0.4648\n"
     ]
    },
    {
     "name": "stderr",
     "output_type": "stream",
     "text": [
      "Epoch 69/1000 (Validation): 100%|██████████| 47/47 [00:02<00:00, 19.28it/s, Loss=1.2953, Acc=0.4993]\n"
     ]
    },
    {
     "name": "stdout",
     "output_type": "stream",
     "text": [
      "Epoch 69/1000: Val Loss: 1.2953, Val Acc: 0.4993, Val F1: 0.4784\n",
      "Current Learning Rate: 3e-05\n"
     ]
    },
    {
     "name": "stderr",
     "output_type": "stream",
     "text": [
      "Epoch 70/1000: 100%|██████████| 422/422 [01:14<00:00,  5.68it/s, Loss=1.3658, Acc=0.4711]\n"
     ]
    },
    {
     "name": "stdout",
     "output_type": "stream",
     "text": [
      "Epoch 70/1000: Train Loss: 1.3658, Train Acc: 0.4711\n"
     ]
    },
    {
     "name": "stderr",
     "output_type": "stream",
     "text": [
      "Epoch 70/1000 (Validation): 100%|██████████| 47/47 [00:02<00:00, 19.37it/s, Loss=1.2747, Acc=0.5050]\n"
     ]
    },
    {
     "name": "stdout",
     "output_type": "stream",
     "text": [
      "Epoch 70/1000: Val Loss: 1.2747, Val Acc: 0.5050, Val F1: 0.4916\n",
      "Current Learning Rate: 3e-05\n",
      "Best model saved at ../Hasil Eksperimen/aug.pt with val accuracy: 0.5050\n"
     ]
    },
    {
     "name": "stderr",
     "output_type": "stream",
     "text": [
      "Epoch 71/1000: 100%|██████████| 422/422 [01:14<00:00,  5.70it/s, Loss=1.3604, Acc=0.4688]\n"
     ]
    },
    {
     "name": "stdout",
     "output_type": "stream",
     "text": [
      "Epoch 71/1000: Train Loss: 1.3604, Train Acc: 0.4688\n"
     ]
    },
    {
     "name": "stderr",
     "output_type": "stream",
     "text": [
      "Epoch 71/1000 (Validation): 100%|██████████| 47/47 [00:02<00:00, 19.31it/s, Loss=1.2910, Acc=0.5060]\n"
     ]
    },
    {
     "name": "stdout",
     "output_type": "stream",
     "text": [
      "Epoch 71/1000: Val Loss: 1.2910, Val Acc: 0.5060, Val F1: 0.4940\n",
      "Current Learning Rate: 3e-05\n",
      "Best model saved at ../Hasil Eksperimen/aug.pt with val accuracy: 0.5060\n"
     ]
    },
    {
     "name": "stderr",
     "output_type": "stream",
     "text": [
      "Epoch 72/1000: 100%|██████████| 422/422 [01:14<00:00,  5.65it/s, Loss=1.3546, Acc=0.4709]\n"
     ]
    },
    {
     "name": "stdout",
     "output_type": "stream",
     "text": [
      "Epoch 72/1000: Train Loss: 1.3546, Train Acc: 0.4709\n"
     ]
    },
    {
     "name": "stderr",
     "output_type": "stream",
     "text": [
      "Epoch 72/1000 (Validation): 100%|██████████| 47/47 [00:02<00:00, 19.10it/s, Loss=1.2774, Acc=0.5047]\n"
     ]
    },
    {
     "name": "stdout",
     "output_type": "stream",
     "text": [
      "Epoch 72/1000: Val Loss: 1.2774, Val Acc: 0.5047, Val F1: 0.4925\n",
      "Current Learning Rate: 3e-05\n"
     ]
    },
    {
     "name": "stderr",
     "output_type": "stream",
     "text": [
      "Epoch 73/1000: 100%|██████████| 422/422 [01:14<00:00,  5.68it/s, Loss=1.3453, Acc=0.4794]\n"
     ]
    },
    {
     "name": "stdout",
     "output_type": "stream",
     "text": [
      "Epoch 73/1000: Train Loss: 1.3453, Train Acc: 0.4794\n"
     ]
    },
    {
     "name": "stderr",
     "output_type": "stream",
     "text": [
      "Epoch 73/1000 (Validation): 100%|██████████| 47/47 [00:02<00:00, 18.67it/s, Loss=1.2730, Acc=0.5120]\n"
     ]
    },
    {
     "name": "stdout",
     "output_type": "stream",
     "text": [
      "Epoch 73/1000: Val Loss: 1.2730, Val Acc: 0.5120, Val F1: 0.5022\n",
      "Current Learning Rate: 3e-05\n",
      "Best model saved at ../Hasil Eksperimen/aug.pt with val accuracy: 0.5120\n"
     ]
    },
    {
     "name": "stderr",
     "output_type": "stream",
     "text": [
      "Epoch 74/1000: 100%|██████████| 422/422 [01:15<00:00,  5.58it/s, Loss=1.3448, Acc=0.4768]\n"
     ]
    },
    {
     "name": "stdout",
     "output_type": "stream",
     "text": [
      "Epoch 74/1000: Train Loss: 1.3448, Train Acc: 0.4768\n"
     ]
    },
    {
     "name": "stderr",
     "output_type": "stream",
     "text": [
      "Epoch 74/1000 (Validation): 100%|██████████| 47/47 [00:02<00:00, 19.41it/s, Loss=1.2906, Acc=0.5007]\n"
     ]
    },
    {
     "name": "stdout",
     "output_type": "stream",
     "text": [
      "Epoch 74/1000: Val Loss: 1.2906, Val Acc: 0.5007, Val F1: 0.4929\n",
      "Current Learning Rate: 3e-05\n"
     ]
    },
    {
     "name": "stderr",
     "output_type": "stream",
     "text": [
      "Epoch 75/1000: 100%|██████████| 422/422 [01:13<00:00,  5.73it/s, Loss=1.3352, Acc=0.4836]\n"
     ]
    },
    {
     "name": "stdout",
     "output_type": "stream",
     "text": [
      "Epoch 75/1000: Train Loss: 1.3352, Train Acc: 0.4836\n"
     ]
    },
    {
     "name": "stderr",
     "output_type": "stream",
     "text": [
      "Epoch 75/1000 (Validation): 100%|██████████| 47/47 [00:02<00:00, 19.33it/s, Loss=1.2688, Acc=0.5207]\n"
     ]
    },
    {
     "name": "stdout",
     "output_type": "stream",
     "text": [
      "Epoch 75/1000: Val Loss: 1.2688, Val Acc: 0.5207, Val F1: 0.5059\n",
      "Current Learning Rate: 3e-05\n",
      "Best model saved at ../Hasil Eksperimen/aug.pt with val accuracy: 0.5207\n"
     ]
    },
    {
     "name": "stderr",
     "output_type": "stream",
     "text": [
      "Epoch 76/1000: 100%|██████████| 422/422 [01:13<00:00,  5.74it/s, Loss=1.3371, Acc=0.4800]\n"
     ]
    },
    {
     "name": "stdout",
     "output_type": "stream",
     "text": [
      "Epoch 76/1000: Train Loss: 1.3371, Train Acc: 0.4800\n"
     ]
    },
    {
     "name": "stderr",
     "output_type": "stream",
     "text": [
      "Epoch 76/1000 (Validation): 100%|██████████| 47/47 [00:02<00:00, 19.36it/s, Loss=1.2804, Acc=0.5043]\n"
     ]
    },
    {
     "name": "stdout",
     "output_type": "stream",
     "text": [
      "Epoch 76/1000: Val Loss: 1.2804, Val Acc: 0.5043, Val F1: 0.4932\n",
      "Current Learning Rate: 3e-05\n"
     ]
    },
    {
     "name": "stderr",
     "output_type": "stream",
     "text": [
      "Epoch 77/1000: 100%|██████████| 422/422 [01:18<00:00,  5.37it/s, Loss=1.3261, Acc=0.4830]\n"
     ]
    },
    {
     "name": "stdout",
     "output_type": "stream",
     "text": [
      "Epoch 77/1000: Train Loss: 1.3261, Train Acc: 0.4830\n"
     ]
    },
    {
     "name": "stderr",
     "output_type": "stream",
     "text": [
      "Epoch 77/1000 (Validation): 100%|██████████| 47/47 [00:02<00:00, 19.24it/s, Loss=1.2608, Acc=0.5180]\n"
     ]
    },
    {
     "name": "stdout",
     "output_type": "stream",
     "text": [
      "Epoch 77/1000: Val Loss: 1.2608, Val Acc: 0.5180, Val F1: 0.5070\n",
      "Current Learning Rate: 3e-05\n"
     ]
    },
    {
     "name": "stderr",
     "output_type": "stream",
     "text": [
      "Epoch 78/1000: 100%|██████████| 422/422 [01:14<00:00,  5.65it/s, Loss=1.3242, Acc=0.4903]\n"
     ]
    },
    {
     "name": "stdout",
     "output_type": "stream",
     "text": [
      "Epoch 78/1000: Train Loss: 1.3242, Train Acc: 0.4903\n"
     ]
    },
    {
     "name": "stderr",
     "output_type": "stream",
     "text": [
      "Epoch 78/1000 (Validation): 100%|██████████| 47/47 [00:02<00:00, 19.92it/s, Loss=1.2625, Acc=0.5130]\n"
     ]
    },
    {
     "name": "stdout",
     "output_type": "stream",
     "text": [
      "Epoch 78/1000: Val Loss: 1.2625, Val Acc: 0.5130, Val F1: 0.4990\n",
      "Current Learning Rate: 3e-05\n"
     ]
    },
    {
     "name": "stderr",
     "output_type": "stream",
     "text": [
      "Epoch 79/1000: 100%|██████████| 422/422 [01:12<00:00,  5.82it/s, Loss=1.3236, Acc=0.4840]\n"
     ]
    },
    {
     "name": "stdout",
     "output_type": "stream",
     "text": [
      "Epoch 79/1000: Train Loss: 1.3236, Train Acc: 0.4840\n"
     ]
    },
    {
     "name": "stderr",
     "output_type": "stream",
     "text": [
      "Epoch 79/1000 (Validation): 100%|██████████| 47/47 [00:02<00:00, 20.10it/s, Loss=1.2638, Acc=0.5220]\n"
     ]
    },
    {
     "name": "stdout",
     "output_type": "stream",
     "text": [
      "Epoch 79/1000: Val Loss: 1.2638, Val Acc: 0.5220, Val F1: 0.5141\n",
      "Current Learning Rate: 3e-05\n",
      "Best model saved at ../Hasil Eksperimen/aug.pt with val accuracy: 0.5220\n"
     ]
    },
    {
     "name": "stderr",
     "output_type": "stream",
     "text": [
      "Epoch 80/1000: 100%|██████████| 422/422 [01:13<00:00,  5.76it/s, Loss=1.3192, Acc=0.4883]\n"
     ]
    },
    {
     "name": "stdout",
     "output_type": "stream",
     "text": [
      "Epoch 80/1000: Train Loss: 1.3192, Train Acc: 0.4883\n"
     ]
    },
    {
     "name": "stderr",
     "output_type": "stream",
     "text": [
      "Epoch 80/1000 (Validation): 100%|██████████| 47/47 [00:02<00:00, 19.24it/s, Loss=1.2539, Acc=0.5147]\n"
     ]
    },
    {
     "name": "stdout",
     "output_type": "stream",
     "text": [
      "Epoch 80/1000: Val Loss: 1.2539, Val Acc: 0.5147, Val F1: 0.4989\n",
      "Current Learning Rate: 3e-05\n"
     ]
    },
    {
     "name": "stderr",
     "output_type": "stream",
     "text": [
      "Epoch 81/1000: 100%|██████████| 422/422 [01:13<00:00,  5.72it/s, Loss=1.3183, Acc=0.4864]\n"
     ]
    },
    {
     "name": "stdout",
     "output_type": "stream",
     "text": [
      "Epoch 81/1000: Train Loss: 1.3183, Train Acc: 0.4864\n"
     ]
    },
    {
     "name": "stderr",
     "output_type": "stream",
     "text": [
      "Epoch 81/1000 (Validation): 100%|██████████| 47/47 [00:02<00:00, 19.49it/s, Loss=1.2642, Acc=0.5207]\n"
     ]
    },
    {
     "name": "stdout",
     "output_type": "stream",
     "text": [
      "Epoch 81/1000: Val Loss: 1.2642, Val Acc: 0.5207, Val F1: 0.5035\n",
      "Current Learning Rate: 3e-05\n"
     ]
    },
    {
     "name": "stderr",
     "output_type": "stream",
     "text": [
      "Epoch 82/1000: 100%|██████████| 422/422 [01:13<00:00,  5.72it/s, Loss=1.3084, Acc=0.4926]\n"
     ]
    },
    {
     "name": "stdout",
     "output_type": "stream",
     "text": [
      "Epoch 82/1000: Train Loss: 1.3084, Train Acc: 0.4926\n"
     ]
    },
    {
     "name": "stderr",
     "output_type": "stream",
     "text": [
      "Epoch 82/1000 (Validation): 100%|██████████| 47/47 [00:02<00:00, 19.37it/s, Loss=1.2742, Acc=0.5060]\n"
     ]
    },
    {
     "name": "stdout",
     "output_type": "stream",
     "text": [
      "Epoch 82/1000: Val Loss: 1.2742, Val Acc: 0.5060, Val F1: 0.4841\n",
      "Current Learning Rate: 3e-05\n"
     ]
    },
    {
     "name": "stderr",
     "output_type": "stream",
     "text": [
      "Epoch 83/1000: 100%|██████████| 422/422 [01:15<00:00,  5.61it/s, Loss=1.2980, Acc=0.5000]\n"
     ]
    },
    {
     "name": "stdout",
     "output_type": "stream",
     "text": [
      "Epoch 83/1000: Train Loss: 1.2980, Train Acc: 0.5000\n"
     ]
    },
    {
     "name": "stderr",
     "output_type": "stream",
     "text": [
      "Epoch 83/1000 (Validation): 100%|██████████| 47/47 [00:02<00:00, 19.36it/s, Loss=1.2495, Acc=0.5197]\n"
     ]
    },
    {
     "name": "stdout",
     "output_type": "stream",
     "text": [
      "Epoch 83/1000: Val Loss: 1.2495, Val Acc: 0.5197, Val F1: 0.5118\n",
      "Current Learning Rate: 3e-05\n"
     ]
    },
    {
     "name": "stderr",
     "output_type": "stream",
     "text": [
      "Epoch 84/1000: 100%|██████████| 422/422 [01:13<00:00,  5.74it/s, Loss=1.2964, Acc=0.4998]\n"
     ]
    },
    {
     "name": "stdout",
     "output_type": "stream",
     "text": [
      "Epoch 84/1000: Train Loss: 1.2964, Train Acc: 0.4998\n"
     ]
    },
    {
     "name": "stderr",
     "output_type": "stream",
     "text": [
      "Epoch 84/1000 (Validation): 100%|██████████| 47/47 [00:02<00:00, 19.39it/s, Loss=1.2588, Acc=0.5243]\n"
     ]
    },
    {
     "name": "stdout",
     "output_type": "stream",
     "text": [
      "Epoch 84/1000: Val Loss: 1.2588, Val Acc: 0.5243, Val F1: 0.5051\n",
      "Current Learning Rate: 3e-05\n",
      "Best model saved at ../Hasil Eksperimen/aug.pt with val accuracy: 0.5243\n"
     ]
    },
    {
     "name": "stderr",
     "output_type": "stream",
     "text": [
      "Epoch 85/1000: 100%|██████████| 422/422 [01:13<00:00,  5.74it/s, Loss=1.2983, Acc=0.4926]\n"
     ]
    },
    {
     "name": "stdout",
     "output_type": "stream",
     "text": [
      "Epoch 85/1000: Train Loss: 1.2983, Train Acc: 0.4926\n"
     ]
    },
    {
     "name": "stderr",
     "output_type": "stream",
     "text": [
      "Epoch 85/1000 (Validation): 100%|██████████| 47/47 [00:02<00:00, 19.22it/s, Loss=1.2583, Acc=0.5160]\n"
     ]
    },
    {
     "name": "stdout",
     "output_type": "stream",
     "text": [
      "Epoch 85/1000: Val Loss: 1.2583, Val Acc: 0.5160, Val F1: 0.5086\n",
      "Current Learning Rate: 3e-05\n"
     ]
    },
    {
     "name": "stderr",
     "output_type": "stream",
     "text": [
      "Epoch 86/1000: 100%|██████████| 422/422 [01:14<00:00,  5.64it/s, Loss=1.2895, Acc=0.4998]\n"
     ]
    },
    {
     "name": "stdout",
     "output_type": "stream",
     "text": [
      "Epoch 86/1000: Train Loss: 1.2895, Train Acc: 0.4998\n"
     ]
    },
    {
     "name": "stderr",
     "output_type": "stream",
     "text": [
      "Epoch 86/1000 (Validation): 100%|██████████| 47/47 [00:02<00:00, 19.26it/s, Loss=1.2419, Acc=0.5213]\n"
     ]
    },
    {
     "name": "stdout",
     "output_type": "stream",
     "text": [
      "Epoch 86/1000: Val Loss: 1.2419, Val Acc: 0.5213, Val F1: 0.5136\n",
      "Current Learning Rate: 3e-05\n"
     ]
    },
    {
     "name": "stderr",
     "output_type": "stream",
     "text": [
      "Epoch 87/1000: 100%|██████████| 422/422 [01:13<00:00,  5.74it/s, Loss=1.2883, Acc=0.5011]\n"
     ]
    },
    {
     "name": "stdout",
     "output_type": "stream",
     "text": [
      "Epoch 87/1000: Train Loss: 1.2883, Train Acc: 0.5011\n"
     ]
    },
    {
     "name": "stderr",
     "output_type": "stream",
     "text": [
      "Epoch 87/1000 (Validation): 100%|██████████| 47/47 [00:02<00:00, 19.37it/s, Loss=1.2517, Acc=0.5217]\n"
     ]
    },
    {
     "name": "stdout",
     "output_type": "stream",
     "text": [
      "Epoch 87/1000: Val Loss: 1.2517, Val Acc: 0.5217, Val F1: 0.5125\n",
      "Current Learning Rate: 3e-05\n"
     ]
    },
    {
     "name": "stderr",
     "output_type": "stream",
     "text": [
      "Epoch 88/1000: 100%|██████████| 422/422 [01:13<00:00,  5.71it/s, Loss=1.2800, Acc=0.5047]\n"
     ]
    },
    {
     "name": "stdout",
     "output_type": "stream",
     "text": [
      "Epoch 88/1000: Train Loss: 1.2800, Train Acc: 0.5047\n"
     ]
    },
    {
     "name": "stderr",
     "output_type": "stream",
     "text": [
      "Epoch 88/1000 (Validation): 100%|██████████| 47/47 [00:02<00:00, 19.38it/s, Loss=1.2303, Acc=0.5250]\n"
     ]
    },
    {
     "name": "stdout",
     "output_type": "stream",
     "text": [
      "Epoch 88/1000: Val Loss: 1.2303, Val Acc: 0.5250, Val F1: 0.5134\n",
      "Current Learning Rate: 3e-05\n",
      "Best model saved at ../Hasil Eksperimen/aug.pt with val accuracy: 0.5250\n"
     ]
    },
    {
     "name": "stderr",
     "output_type": "stream",
     "text": [
      "Epoch 89/1000: 100%|██████████| 422/422 [01:15<00:00,  5.57it/s, Loss=1.2774, Acc=0.5069]\n"
     ]
    },
    {
     "name": "stdout",
     "output_type": "stream",
     "text": [
      "Epoch 89/1000: Train Loss: 1.2774, Train Acc: 0.5069\n"
     ]
    },
    {
     "name": "stderr",
     "output_type": "stream",
     "text": [
      "Epoch 89/1000 (Validation): 100%|██████████| 47/47 [00:02<00:00, 19.35it/s, Loss=1.2232, Acc=0.5387]\n"
     ]
    },
    {
     "name": "stdout",
     "output_type": "stream",
     "text": [
      "Epoch 89/1000: Val Loss: 1.2232, Val Acc: 0.5387, Val F1: 0.5266\n",
      "Current Learning Rate: 3e-05\n",
      "Best model saved at ../Hasil Eksperimen/aug.pt with val accuracy: 0.5387\n"
     ]
    },
    {
     "name": "stderr",
     "output_type": "stream",
     "text": [
      "Epoch 90/1000: 100%|██████████| 422/422 [01:13<00:00,  5.74it/s, Loss=1.2695, Acc=0.5117]\n"
     ]
    },
    {
     "name": "stdout",
     "output_type": "stream",
     "text": [
      "Epoch 90/1000: Train Loss: 1.2695, Train Acc: 0.5117\n"
     ]
    },
    {
     "name": "stderr",
     "output_type": "stream",
     "text": [
      "Epoch 90/1000 (Validation): 100%|██████████| 47/47 [00:02<00:00, 18.99it/s, Loss=1.2378, Acc=0.5320]\n"
     ]
    },
    {
     "name": "stdout",
     "output_type": "stream",
     "text": [
      "Epoch 90/1000: Val Loss: 1.2378, Val Acc: 0.5320, Val F1: 0.5131\n",
      "Current Learning Rate: 3e-05\n"
     ]
    },
    {
     "name": "stderr",
     "output_type": "stream",
     "text": [
      "Epoch 91/1000: 100%|██████████| 422/422 [01:18<00:00,  5.40it/s, Loss=1.2655, Acc=0.5112]\n"
     ]
    },
    {
     "name": "stdout",
     "output_type": "stream",
     "text": [
      "Epoch 91/1000: Train Loss: 1.2655, Train Acc: 0.5112\n"
     ]
    },
    {
     "name": "stderr",
     "output_type": "stream",
     "text": [
      "Epoch 91/1000 (Validation): 100%|██████████| 47/47 [00:02<00:00, 17.20it/s, Loss=1.2201, Acc=0.5260]\n"
     ]
    },
    {
     "name": "stdout",
     "output_type": "stream",
     "text": [
      "Epoch 91/1000: Val Loss: 1.2201, Val Acc: 0.5260, Val F1: 0.5167\n",
      "Current Learning Rate: 3e-05\n"
     ]
    },
    {
     "name": "stderr",
     "output_type": "stream",
     "text": [
      "Epoch 92/1000: 100%|██████████| 422/422 [01:14<00:00,  5.66it/s, Loss=1.2607, Acc=0.5095]\n"
     ]
    },
    {
     "name": "stdout",
     "output_type": "stream",
     "text": [
      "Epoch 92/1000: Train Loss: 1.2607, Train Acc: 0.5095\n"
     ]
    },
    {
     "name": "stderr",
     "output_type": "stream",
     "text": [
      "Epoch 92/1000 (Validation): 100%|██████████| 47/47 [00:02<00:00, 19.23it/s, Loss=1.2213, Acc=0.5320]\n"
     ]
    },
    {
     "name": "stdout",
     "output_type": "stream",
     "text": [
      "Epoch 92/1000: Val Loss: 1.2213, Val Acc: 0.5320, Val F1: 0.5166\n",
      "Current Learning Rate: 3e-05\n"
     ]
    },
    {
     "name": "stderr",
     "output_type": "stream",
     "text": [
      "Epoch 93/1000: 100%|██████████| 422/422 [01:13<00:00,  5.72it/s, Loss=1.2604, Acc=0.5137]\n"
     ]
    },
    {
     "name": "stdout",
     "output_type": "stream",
     "text": [
      "Epoch 93/1000: Train Loss: 1.2604, Train Acc: 0.5137\n"
     ]
    },
    {
     "name": "stderr",
     "output_type": "stream",
     "text": [
      "Epoch 93/1000 (Validation): 100%|██████████| 47/47 [00:02<00:00, 19.19it/s, Loss=1.2045, Acc=0.5347]\n"
     ]
    },
    {
     "name": "stdout",
     "output_type": "stream",
     "text": [
      "Epoch 93/1000: Val Loss: 1.2045, Val Acc: 0.5347, Val F1: 0.5230\n",
      "Current Learning Rate: 3e-05\n"
     ]
    },
    {
     "name": "stderr",
     "output_type": "stream",
     "text": [
      "Epoch 94/1000: 100%|██████████| 422/422 [01:18<00:00,  5.35it/s, Loss=1.2488, Acc=0.5177]\n"
     ]
    },
    {
     "name": "stdout",
     "output_type": "stream",
     "text": [
      "Epoch 94/1000: Train Loss: 1.2488, Train Acc: 0.5177\n"
     ]
    },
    {
     "name": "stderr",
     "output_type": "stream",
     "text": [
      "Epoch 94/1000 (Validation): 100%|██████████| 47/47 [00:02<00:00, 19.21it/s, Loss=1.2428, Acc=0.5313]\n"
     ]
    },
    {
     "name": "stdout",
     "output_type": "stream",
     "text": [
      "Epoch 94/1000: Val Loss: 1.2428, Val Acc: 0.5313, Val F1: 0.5137\n",
      "Current Learning Rate: 3e-05\n"
     ]
    },
    {
     "name": "stderr",
     "output_type": "stream",
     "text": [
      "Epoch 95/1000: 100%|██████████| 422/422 [01:16<00:00,  5.49it/s, Loss=1.2511, Acc=0.5145]\n"
     ]
    },
    {
     "name": "stdout",
     "output_type": "stream",
     "text": [
      "Epoch 95/1000: Train Loss: 1.2511, Train Acc: 0.5145\n"
     ]
    },
    {
     "name": "stderr",
     "output_type": "stream",
     "text": [
      "Epoch 95/1000 (Validation): 100%|██████████| 47/47 [00:02<00:00, 18.40it/s, Loss=1.2063, Acc=0.5347]\n"
     ]
    },
    {
     "name": "stdout",
     "output_type": "stream",
     "text": [
      "Epoch 95/1000: Val Loss: 1.2063, Val Acc: 0.5347, Val F1: 0.5256\n",
      "Current Learning Rate: 3e-05\n"
     ]
    },
    {
     "name": "stderr",
     "output_type": "stream",
     "text": [
      "Epoch 96/1000: 100%|██████████| 422/422 [01:17<00:00,  5.42it/s, Loss=1.2476, Acc=0.5196]\n"
     ]
    },
    {
     "name": "stdout",
     "output_type": "stream",
     "text": [
      "Epoch 96/1000: Train Loss: 1.2476, Train Acc: 0.5196\n"
     ]
    },
    {
     "name": "stderr",
     "output_type": "stream",
     "text": [
      "Epoch 96/1000 (Validation): 100%|██████████| 47/47 [00:02<00:00, 19.36it/s, Loss=1.2134, Acc=0.5370]\n"
     ]
    },
    {
     "name": "stdout",
     "output_type": "stream",
     "text": [
      "Epoch 96/1000: Val Loss: 1.2134, Val Acc: 0.5370, Val F1: 0.5278\n",
      "Current Learning Rate: 3e-05\n"
     ]
    },
    {
     "name": "stderr",
     "output_type": "stream",
     "text": [
      "Epoch 97/1000: 100%|██████████| 422/422 [01:17<00:00,  5.43it/s, Loss=1.2451, Acc=0.5167]\n"
     ]
    },
    {
     "name": "stdout",
     "output_type": "stream",
     "text": [
      "Epoch 97/1000: Train Loss: 1.2451, Train Acc: 0.5167\n"
     ]
    },
    {
     "name": "stderr",
     "output_type": "stream",
     "text": [
      "Epoch 97/1000 (Validation): 100%|██████████| 47/47 [00:02<00:00, 18.93it/s, Loss=1.1926, Acc=0.5507]\n"
     ]
    },
    {
     "name": "stdout",
     "output_type": "stream",
     "text": [
      "Epoch 97/1000: Val Loss: 1.1926, Val Acc: 0.5507, Val F1: 0.5389\n",
      "Current Learning Rate: 3e-05\n",
      "Best model saved at ../Hasil Eksperimen/aug.pt with val accuracy: 0.5507\n"
     ]
    },
    {
     "name": "stderr",
     "output_type": "stream",
     "text": [
      "Epoch 98/1000: 100%|██████████| 422/422 [01:16<00:00,  5.54it/s, Loss=1.2312, Acc=0.5218]\n"
     ]
    },
    {
     "name": "stdout",
     "output_type": "stream",
     "text": [
      "Epoch 98/1000: Train Loss: 1.2312, Train Acc: 0.5218\n"
     ]
    },
    {
     "name": "stderr",
     "output_type": "stream",
     "text": [
      "Epoch 98/1000 (Validation): 100%|██████████| 47/47 [00:02<00:00, 19.98it/s, Loss=1.1992, Acc=0.5473]\n"
     ]
    },
    {
     "name": "stdout",
     "output_type": "stream",
     "text": [
      "Epoch 98/1000: Val Loss: 1.1992, Val Acc: 0.5473, Val F1: 0.5359\n",
      "Current Learning Rate: 3e-05\n"
     ]
    },
    {
     "name": "stderr",
     "output_type": "stream",
     "text": [
      "Epoch 99/1000: 100%|██████████| 422/422 [01:16<00:00,  5.53it/s, Loss=1.2355, Acc=0.5197]\n"
     ]
    },
    {
     "name": "stdout",
     "output_type": "stream",
     "text": [
      "Epoch 99/1000: Train Loss: 1.2355, Train Acc: 0.5197\n"
     ]
    },
    {
     "name": "stderr",
     "output_type": "stream",
     "text": [
      "Epoch 99/1000 (Validation): 100%|██████████| 47/47 [00:02<00:00, 18.11it/s, Loss=1.2018, Acc=0.5380]\n"
     ]
    },
    {
     "name": "stdout",
     "output_type": "stream",
     "text": [
      "Epoch 99/1000: Val Loss: 1.2018, Val Acc: 0.5380, Val F1: 0.5276\n",
      "Current Learning Rate: 3e-05\n"
     ]
    },
    {
     "name": "stderr",
     "output_type": "stream",
     "text": [
      "Epoch 100/1000: 100%|██████████| 422/422 [01:18<00:00,  5.38it/s, Loss=1.2276, Acc=0.5247]\n"
     ]
    },
    {
     "name": "stdout",
     "output_type": "stream",
     "text": [
      "Epoch 100/1000: Train Loss: 1.2276, Train Acc: 0.5247\n"
     ]
    },
    {
     "name": "stderr",
     "output_type": "stream",
     "text": [
      "Epoch 100/1000 (Validation): 100%|██████████| 47/47 [00:02<00:00, 19.33it/s, Loss=1.1936, Acc=0.5523]\n"
     ]
    },
    {
     "name": "stdout",
     "output_type": "stream",
     "text": [
      "Epoch 100/1000: Val Loss: 1.1936, Val Acc: 0.5523, Val F1: 0.5501\n",
      "Current Learning Rate: 3e-05\n",
      "Best model saved at ../Hasil Eksperimen/aug.pt with val accuracy: 0.5523\n"
     ]
    },
    {
     "name": "stderr",
     "output_type": "stream",
     "text": [
      "Epoch 101/1000: 100%|██████████| 422/422 [01:18<00:00,  5.38it/s, Loss=1.2299, Acc=0.5210]\n"
     ]
    },
    {
     "name": "stdout",
     "output_type": "stream",
     "text": [
      "Epoch 101/1000: Train Loss: 1.2299, Train Acc: 0.5210\n"
     ]
    },
    {
     "name": "stderr",
     "output_type": "stream",
     "text": [
      "Epoch 101/1000 (Validation): 100%|██████████| 47/47 [00:02<00:00, 17.84it/s, Loss=1.2233, Acc=0.5413]\n"
     ]
    },
    {
     "name": "stdout",
     "output_type": "stream",
     "text": [
      "Epoch 101/1000: Val Loss: 1.2233, Val Acc: 0.5413, Val F1: 0.5312\n",
      "Current Learning Rate: 3e-05\n"
     ]
    },
    {
     "name": "stderr",
     "output_type": "stream",
     "text": [
      "Epoch 102/1000: 100%|██████████| 422/422 [01:17<00:00,  5.47it/s, Loss=1.2244, Acc=0.5288]\n"
     ]
    },
    {
     "name": "stdout",
     "output_type": "stream",
     "text": [
      "Epoch 102/1000: Train Loss: 1.2244, Train Acc: 0.5288\n"
     ]
    },
    {
     "name": "stderr",
     "output_type": "stream",
     "text": [
      "Epoch 102/1000 (Validation): 100%|██████████| 47/47 [00:02<00:00, 18.95it/s, Loss=1.1858, Acc=0.5520]\n"
     ]
    },
    {
     "name": "stdout",
     "output_type": "stream",
     "text": [
      "Epoch 102/1000: Val Loss: 1.1858, Val Acc: 0.5520, Val F1: 0.5388\n",
      "Current Learning Rate: 3e-05\n"
     ]
    },
    {
     "name": "stderr",
     "output_type": "stream",
     "text": [
      "Epoch 103/1000: 100%|██████████| 422/422 [01:14<00:00,  5.63it/s, Loss=1.2204, Acc=0.5289]\n"
     ]
    },
    {
     "name": "stdout",
     "output_type": "stream",
     "text": [
      "Epoch 103/1000: Train Loss: 1.2204, Train Acc: 0.5289\n"
     ]
    },
    {
     "name": "stderr",
     "output_type": "stream",
     "text": [
      "Epoch 103/1000 (Validation): 100%|██████████| 47/47 [00:02<00:00, 19.36it/s, Loss=1.1824, Acc=0.5543]\n"
     ]
    },
    {
     "name": "stdout",
     "output_type": "stream",
     "text": [
      "Epoch 103/1000: Val Loss: 1.1824, Val Acc: 0.5543, Val F1: 0.5431\n",
      "Current Learning Rate: 3e-05\n",
      "Best model saved at ../Hasil Eksperimen/aug.pt with val accuracy: 0.5543\n"
     ]
    },
    {
     "name": "stderr",
     "output_type": "stream",
     "text": [
      "Epoch 104/1000: 100%|██████████| 422/422 [01:17<00:00,  5.43it/s, Loss=1.2143, Acc=0.5304]\n"
     ]
    },
    {
     "name": "stdout",
     "output_type": "stream",
     "text": [
      "Epoch 104/1000: Train Loss: 1.2143, Train Acc: 0.5304\n"
     ]
    },
    {
     "name": "stderr",
     "output_type": "stream",
     "text": [
      "Epoch 104/1000 (Validation): 100%|██████████| 47/47 [00:02<00:00, 18.34it/s, Loss=1.1783, Acc=0.5513]\n"
     ]
    },
    {
     "name": "stdout",
     "output_type": "stream",
     "text": [
      "Epoch 104/1000: Val Loss: 1.1783, Val Acc: 0.5513, Val F1: 0.5394\n",
      "Current Learning Rate: 3e-05\n"
     ]
    },
    {
     "name": "stderr",
     "output_type": "stream",
     "text": [
      "Epoch 105/1000: 100%|██████████| 422/422 [01:14<00:00,  5.63it/s, Loss=1.2148, Acc=0.5288]\n"
     ]
    },
    {
     "name": "stdout",
     "output_type": "stream",
     "text": [
      "Epoch 105/1000: Train Loss: 1.2148, Train Acc: 0.5288\n"
     ]
    },
    {
     "name": "stderr",
     "output_type": "stream",
     "text": [
      "Epoch 105/1000 (Validation): 100%|██████████| 47/47 [00:02<00:00, 19.14it/s, Loss=1.1863, Acc=0.5573]\n"
     ]
    },
    {
     "name": "stdout",
     "output_type": "stream",
     "text": [
      "Epoch 105/1000: Val Loss: 1.1863, Val Acc: 0.5573, Val F1: 0.5482\n",
      "Current Learning Rate: 3e-05\n",
      "Best model saved at ../Hasil Eksperimen/aug.pt with val accuracy: 0.5573\n"
     ]
    },
    {
     "name": "stderr",
     "output_type": "stream",
     "text": [
      "Epoch 106/1000: 100%|██████████| 422/422 [01:17<00:00,  5.45it/s, Loss=1.2097, Acc=0.5306]\n"
     ]
    },
    {
     "name": "stdout",
     "output_type": "stream",
     "text": [
      "Epoch 106/1000: Train Loss: 1.2097, Train Acc: 0.5306\n"
     ]
    },
    {
     "name": "stderr",
     "output_type": "stream",
     "text": [
      "Epoch 106/1000 (Validation): 100%|██████████| 47/47 [00:02<00:00, 19.10it/s, Loss=1.1878, Acc=0.5480]\n"
     ]
    },
    {
     "name": "stdout",
     "output_type": "stream",
     "text": [
      "Epoch 106/1000: Val Loss: 1.1878, Val Acc: 0.5480, Val F1: 0.5445\n",
      "Current Learning Rate: 3e-05\n"
     ]
    },
    {
     "name": "stderr",
     "output_type": "stream",
     "text": [
      "Epoch 107/1000: 100%|██████████| 422/422 [01:16<00:00,  5.55it/s, Loss=1.1996, Acc=0.5390]\n"
     ]
    },
    {
     "name": "stdout",
     "output_type": "stream",
     "text": [
      "Epoch 107/1000: Train Loss: 1.1996, Train Acc: 0.5390\n"
     ]
    },
    {
     "name": "stderr",
     "output_type": "stream",
     "text": [
      "Epoch 107/1000 (Validation): 100%|██████████| 47/47 [00:02<00:00, 19.34it/s, Loss=1.2158, Acc=0.5417]\n"
     ]
    },
    {
     "name": "stdout",
     "output_type": "stream",
     "text": [
      "Epoch 107/1000: Val Loss: 1.2158, Val Acc: 0.5417, Val F1: 0.5283\n",
      "Current Learning Rate: 3e-05\n"
     ]
    },
    {
     "name": "stderr",
     "output_type": "stream",
     "text": [
      "Epoch 108/1000: 100%|██████████| 422/422 [01:13<00:00,  5.72it/s, Loss=1.2038, Acc=0.5371]\n"
     ]
    },
    {
     "name": "stdout",
     "output_type": "stream",
     "text": [
      "Epoch 108/1000: Train Loss: 1.2038, Train Acc: 0.5371\n"
     ]
    },
    {
     "name": "stderr",
     "output_type": "stream",
     "text": [
      "Epoch 108/1000 (Validation): 100%|██████████| 47/47 [00:02<00:00, 19.35it/s, Loss=1.1856, Acc=0.5523]\n"
     ]
    },
    {
     "name": "stdout",
     "output_type": "stream",
     "text": [
      "Epoch 108/1000: Val Loss: 1.1856, Val Acc: 0.5523, Val F1: 0.5500\n",
      "Current Learning Rate: 3e-05\n"
     ]
    },
    {
     "name": "stderr",
     "output_type": "stream",
     "text": [
      "Epoch 109/1000: 100%|██████████| 422/422 [01:13<00:00,  5.73it/s, Loss=1.1883, Acc=0.5435]\n"
     ]
    },
    {
     "name": "stdout",
     "output_type": "stream",
     "text": [
      "Epoch 109/1000: Train Loss: 1.1883, Train Acc: 0.5435\n"
     ]
    },
    {
     "name": "stderr",
     "output_type": "stream",
     "text": [
      "Epoch 109/1000 (Validation): 100%|██████████| 47/47 [00:02<00:00, 19.39it/s, Loss=1.1958, Acc=0.5407]\n"
     ]
    },
    {
     "name": "stdout",
     "output_type": "stream",
     "text": [
      "Epoch 109/1000: Val Loss: 1.1958, Val Acc: 0.5407, Val F1: 0.5266\n",
      "Current Learning Rate: 3e-05\n"
     ]
    },
    {
     "name": "stderr",
     "output_type": "stream",
     "text": [
      "Epoch 110/1000: 100%|██████████| 422/422 [01:14<00:00,  5.70it/s, Loss=1.1911, Acc=0.5401]\n"
     ]
    },
    {
     "name": "stdout",
     "output_type": "stream",
     "text": [
      "Epoch 110/1000: Train Loss: 1.1911, Train Acc: 0.5401\n"
     ]
    },
    {
     "name": "stderr",
     "output_type": "stream",
     "text": [
      "Epoch 110/1000 (Validation): 100%|██████████| 47/47 [00:02<00:00, 19.40it/s, Loss=1.1795, Acc=0.5570]\n"
     ]
    },
    {
     "name": "stdout",
     "output_type": "stream",
     "text": [
      "Epoch 110/1000: Val Loss: 1.1795, Val Acc: 0.5570, Val F1: 0.5454\n",
      "Current Learning Rate: 3e-06\n"
     ]
    },
    {
     "name": "stderr",
     "output_type": "stream",
     "text": [
      "Epoch 111/1000: 100%|██████████| 422/422 [01:14<00:00,  5.68it/s, Loss=1.1578, Acc=0.5548]\n"
     ]
    },
    {
     "name": "stdout",
     "output_type": "stream",
     "text": [
      "Epoch 111/1000: Train Loss: 1.1578, Train Acc: 0.5548\n"
     ]
    },
    {
     "name": "stderr",
     "output_type": "stream",
     "text": [
      "Epoch 111/1000 (Validation): 100%|██████████| 47/47 [00:02<00:00, 19.40it/s, Loss=1.1620, Acc=0.5680]\n"
     ]
    },
    {
     "name": "stdout",
     "output_type": "stream",
     "text": [
      "Epoch 111/1000: Val Loss: 1.1620, Val Acc: 0.5680, Val F1: 0.5589\n",
      "Current Learning Rate: 3e-06\n",
      "Best model saved at ../Hasil Eksperimen/aug.pt with val accuracy: 0.5680\n"
     ]
    },
    {
     "name": "stderr",
     "output_type": "stream",
     "text": [
      "Epoch 112/1000: 100%|██████████| 422/422 [01:17<00:00,  5.45it/s, Loss=1.1397, Acc=0.5625]\n"
     ]
    },
    {
     "name": "stdout",
     "output_type": "stream",
     "text": [
      "Epoch 112/1000: Train Loss: 1.1397, Train Acc: 0.5625\n"
     ]
    },
    {
     "name": "stderr",
     "output_type": "stream",
     "text": [
      "Epoch 112/1000 (Validation): 100%|██████████| 47/47 [00:02<00:00, 19.38it/s, Loss=1.1614, Acc=0.5677]\n"
     ]
    },
    {
     "name": "stdout",
     "output_type": "stream",
     "text": [
      "Epoch 112/1000: Val Loss: 1.1614, Val Acc: 0.5677, Val F1: 0.5574\n",
      "Current Learning Rate: 3e-06\n"
     ]
    },
    {
     "name": "stderr",
     "output_type": "stream",
     "text": [
      "Epoch 113/1000: 100%|██████████| 422/422 [01:13<00:00,  5.74it/s, Loss=1.1305, Acc=0.5654]\n"
     ]
    },
    {
     "name": "stdout",
     "output_type": "stream",
     "text": [
      "Epoch 113/1000: Train Loss: 1.1305, Train Acc: 0.5654\n"
     ]
    },
    {
     "name": "stderr",
     "output_type": "stream",
     "text": [
      "Epoch 113/1000 (Validation): 100%|██████████| 47/47 [00:02<00:00, 19.39it/s, Loss=1.1550, Acc=0.5650]\n"
     ]
    },
    {
     "name": "stdout",
     "output_type": "stream",
     "text": [
      "Epoch 113/1000: Val Loss: 1.1550, Val Acc: 0.5650, Val F1: 0.5572\n",
      "Current Learning Rate: 3e-06\n"
     ]
    },
    {
     "name": "stderr",
     "output_type": "stream",
     "text": [
      "Epoch 114/1000: 100%|██████████| 422/422 [01:18<00:00,  5.37it/s, Loss=1.1287, Acc=0.5668]\n"
     ]
    },
    {
     "name": "stdout",
     "output_type": "stream",
     "text": [
      "Epoch 114/1000: Train Loss: 1.1287, Train Acc: 0.5668\n"
     ]
    },
    {
     "name": "stderr",
     "output_type": "stream",
     "text": [
      "Epoch 114/1000 (Validation): 100%|██████████| 47/47 [00:02<00:00, 19.70it/s, Loss=1.1527, Acc=0.5647]\n"
     ]
    },
    {
     "name": "stdout",
     "output_type": "stream",
     "text": [
      "Epoch 114/1000: Val Loss: 1.1527, Val Acc: 0.5647, Val F1: 0.5575\n",
      "Current Learning Rate: 3e-06\n"
     ]
    },
    {
     "name": "stderr",
     "output_type": "stream",
     "text": [
      "Epoch 115/1000: 100%|██████████| 422/422 [01:12<00:00,  5.79it/s, Loss=1.1273, Acc=0.5699]\n"
     ]
    },
    {
     "name": "stdout",
     "output_type": "stream",
     "text": [
      "Epoch 115/1000: Train Loss: 1.1273, Train Acc: 0.5699\n"
     ]
    },
    {
     "name": "stderr",
     "output_type": "stream",
     "text": [
      "Epoch 115/1000 (Validation): 100%|██████████| 47/47 [00:02<00:00, 20.06it/s, Loss=1.1505, Acc=0.5660]\n"
     ]
    },
    {
     "name": "stdout",
     "output_type": "stream",
     "text": [
      "Epoch 115/1000: Val Loss: 1.1505, Val Acc: 0.5660, Val F1: 0.5581\n",
      "Current Learning Rate: 3e-06\n"
     ]
    },
    {
     "name": "stderr",
     "output_type": "stream",
     "text": [
      "Epoch 116/1000: 100%|██████████| 422/422 [01:12<00:00,  5.81it/s, Loss=1.1228, Acc=0.5720]\n"
     ]
    },
    {
     "name": "stdout",
     "output_type": "stream",
     "text": [
      "Epoch 116/1000: Train Loss: 1.1228, Train Acc: 0.5720\n"
     ]
    },
    {
     "name": "stderr",
     "output_type": "stream",
     "text": [
      "Epoch 116/1000 (Validation): 100%|██████████| 47/47 [00:02<00:00, 20.11it/s, Loss=1.1516, Acc=0.5700]\n"
     ]
    },
    {
     "name": "stdout",
     "output_type": "stream",
     "text": [
      "Epoch 116/1000: Val Loss: 1.1516, Val Acc: 0.5700, Val F1: 0.5618\n",
      "Current Learning Rate: 3e-06\n",
      "Best model saved at ../Hasil Eksperimen/aug.pt with val accuracy: 0.5700\n"
     ]
    },
    {
     "name": "stderr",
     "output_type": "stream",
     "text": [
      "Epoch 117/1000: 100%|██████████| 422/422 [01:14<00:00,  5.64it/s, Loss=1.1254, Acc=0.5705]\n"
     ]
    },
    {
     "name": "stdout",
     "output_type": "stream",
     "text": [
      "Epoch 117/1000: Train Loss: 1.1254, Train Acc: 0.5705\n"
     ]
    },
    {
     "name": "stderr",
     "output_type": "stream",
     "text": [
      "Epoch 117/1000 (Validation): 100%|██████████| 47/47 [00:02<00:00, 20.14it/s, Loss=1.1550, Acc=0.5653]\n"
     ]
    },
    {
     "name": "stdout",
     "output_type": "stream",
     "text": [
      "Epoch 117/1000: Val Loss: 1.1550, Val Acc: 0.5653, Val F1: 0.5566\n",
      "Current Learning Rate: 3e-06\n"
     ]
    },
    {
     "name": "stderr",
     "output_type": "stream",
     "text": [
      "Epoch 118/1000: 100%|██████████| 422/422 [01:14<00:00,  5.70it/s, Loss=1.1232, Acc=0.5685]\n"
     ]
    },
    {
     "name": "stdout",
     "output_type": "stream",
     "text": [
      "Epoch 118/1000: Train Loss: 1.1232, Train Acc: 0.5685\n"
     ]
    },
    {
     "name": "stderr",
     "output_type": "stream",
     "text": [
      "Epoch 118/1000 (Validation): 100%|██████████| 47/47 [00:02<00:00, 19.40it/s, Loss=1.1460, Acc=0.5693]\n"
     ]
    },
    {
     "name": "stdout",
     "output_type": "stream",
     "text": [
      "Epoch 118/1000: Val Loss: 1.1460, Val Acc: 0.5693, Val F1: 0.5626\n",
      "Current Learning Rate: 3e-06\n"
     ]
    },
    {
     "name": "stderr",
     "output_type": "stream",
     "text": [
      "Epoch 119/1000: 100%|██████████| 422/422 [01:13<00:00,  5.72it/s, Loss=1.1136, Acc=0.5757]\n"
     ]
    },
    {
     "name": "stdout",
     "output_type": "stream",
     "text": [
      "Epoch 119/1000: Train Loss: 1.1136, Train Acc: 0.5757\n"
     ]
    },
    {
     "name": "stderr",
     "output_type": "stream",
     "text": [
      "Epoch 119/1000 (Validation): 100%|██████████| 47/47 [00:02<00:00, 18.97it/s, Loss=1.1498, Acc=0.5627]\n"
     ]
    },
    {
     "name": "stdout",
     "output_type": "stream",
     "text": [
      "Epoch 119/1000: Val Loss: 1.1498, Val Acc: 0.5627, Val F1: 0.5566\n",
      "Current Learning Rate: 3e-06\n"
     ]
    },
    {
     "name": "stderr",
     "output_type": "stream",
     "text": [
      "Epoch 120/1000: 100%|██████████| 422/422 [01:14<00:00,  5.70it/s, Loss=1.1212, Acc=0.5691]\n"
     ]
    },
    {
     "name": "stdout",
     "output_type": "stream",
     "text": [
      "Epoch 120/1000: Train Loss: 1.1212, Train Acc: 0.5691\n"
     ]
    },
    {
     "name": "stderr",
     "output_type": "stream",
     "text": [
      "Epoch 120/1000 (Validation): 100%|██████████| 47/47 [00:02<00:00, 19.37it/s, Loss=1.1416, Acc=0.5697]\n"
     ]
    },
    {
     "name": "stdout",
     "output_type": "stream",
     "text": [
      "Epoch 120/1000: Val Loss: 1.1416, Val Acc: 0.5697, Val F1: 0.5634\n",
      "Current Learning Rate: 3e-06\n"
     ]
    },
    {
     "name": "stderr",
     "output_type": "stream",
     "text": [
      "Epoch 121/1000: 100%|██████████| 422/422 [01:13<00:00,  5.74it/s, Loss=1.1126, Acc=0.5746]\n"
     ]
    },
    {
     "name": "stdout",
     "output_type": "stream",
     "text": [
      "Epoch 121/1000: Train Loss: 1.1126, Train Acc: 0.5746\n"
     ]
    },
    {
     "name": "stderr",
     "output_type": "stream",
     "text": [
      "Epoch 121/1000 (Validation): 100%|██████████| 47/47 [00:02<00:00, 19.37it/s, Loss=1.1472, Acc=0.5683]\n"
     ]
    },
    {
     "name": "stdout",
     "output_type": "stream",
     "text": [
      "Epoch 121/1000: Val Loss: 1.1472, Val Acc: 0.5683, Val F1: 0.5614\n",
      "Current Learning Rate: 3e-06\n"
     ]
    },
    {
     "name": "stderr",
     "output_type": "stream",
     "text": [
      "Epoch 122/1000: 100%|██████████| 422/422 [01:14<00:00,  5.67it/s, Loss=1.1098, Acc=0.5744]\n"
     ]
    },
    {
     "name": "stdout",
     "output_type": "stream",
     "text": [
      "Epoch 122/1000: Train Loss: 1.1098, Train Acc: 0.5744\n"
     ]
    },
    {
     "name": "stderr",
     "output_type": "stream",
     "text": [
      "Epoch 122/1000 (Validation): 100%|██████████| 47/47 [00:02<00:00, 17.80it/s, Loss=1.1473, Acc=0.5693]\n"
     ]
    },
    {
     "name": "stdout",
     "output_type": "stream",
     "text": [
      "Epoch 122/1000: Val Loss: 1.1473, Val Acc: 0.5693, Val F1: 0.5616\n",
      "Current Learning Rate: 3e-06\n"
     ]
    },
    {
     "name": "stderr",
     "output_type": "stream",
     "text": [
      "Epoch 123/1000: 100%|██████████| 422/422 [01:22<00:00,  5.12it/s, Loss=1.1069, Acc=0.5745]\n"
     ]
    },
    {
     "name": "stdout",
     "output_type": "stream",
     "text": [
      "Epoch 123/1000: Train Loss: 1.1069, Train Acc: 0.5745\n"
     ]
    },
    {
     "name": "stderr",
     "output_type": "stream",
     "text": [
      "Epoch 123/1000 (Validation): 100%|██████████| 47/47 [00:02<00:00, 19.37it/s, Loss=1.1423, Acc=0.5710]\n"
     ]
    },
    {
     "name": "stdout",
     "output_type": "stream",
     "text": [
      "Epoch 123/1000: Val Loss: 1.1423, Val Acc: 0.5710, Val F1: 0.5651\n",
      "Current Learning Rate: 3e-06\n",
      "Best model saved at ../Hasil Eksperimen/aug.pt with val accuracy: 0.5710\n"
     ]
    },
    {
     "name": "stderr",
     "output_type": "stream",
     "text": [
      "Epoch 124/1000: 100%|██████████| 422/422 [01:14<00:00,  5.65it/s, Loss=1.1076, Acc=0.5778]\n"
     ]
    },
    {
     "name": "stdout",
     "output_type": "stream",
     "text": [
      "Epoch 124/1000: Train Loss: 1.1076, Train Acc: 0.5778\n"
     ]
    },
    {
     "name": "stderr",
     "output_type": "stream",
     "text": [
      "Epoch 124/1000 (Validation): 100%|██████████| 47/47 [00:02<00:00, 19.12it/s, Loss=1.1426, Acc=0.5737]\n"
     ]
    },
    {
     "name": "stdout",
     "output_type": "stream",
     "text": [
      "Epoch 124/1000: Val Loss: 1.1426, Val Acc: 0.5737, Val F1: 0.5680\n",
      "Current Learning Rate: 3e-06\n",
      "Best model saved at ../Hasil Eksperimen/aug.pt with val accuracy: 0.5737\n"
     ]
    },
    {
     "name": "stderr",
     "output_type": "stream",
     "text": [
      "Epoch 125/1000: 100%|██████████| 422/422 [01:20<00:00,  5.21it/s, Loss=1.1056, Acc=0.5731]\n"
     ]
    },
    {
     "name": "stdout",
     "output_type": "stream",
     "text": [
      "Epoch 125/1000: Train Loss: 1.1056, Train Acc: 0.5731\n"
     ]
    },
    {
     "name": "stderr",
     "output_type": "stream",
     "text": [
      "Epoch 125/1000 (Validation): 100%|██████████| 47/47 [00:02<00:00, 19.30it/s, Loss=1.1477, Acc=0.5723]\n"
     ]
    },
    {
     "name": "stdout",
     "output_type": "stream",
     "text": [
      "Epoch 125/1000: Val Loss: 1.1477, Val Acc: 0.5723, Val F1: 0.5644\n",
      "Current Learning Rate: 3e-06\n"
     ]
    },
    {
     "name": "stderr",
     "output_type": "stream",
     "text": [
      "Epoch 126/1000: 100%|██████████| 422/422 [01:16<00:00,  5.50it/s, Loss=1.1092, Acc=0.5768]\n"
     ]
    },
    {
     "name": "stdout",
     "output_type": "stream",
     "text": [
      "Epoch 126/1000: Train Loss: 1.1092, Train Acc: 0.5768\n"
     ]
    },
    {
     "name": "stderr",
     "output_type": "stream",
     "text": [
      "Epoch 126/1000 (Validation): 100%|██████████| 47/47 [00:02<00:00, 19.02it/s, Loss=1.1418, Acc=0.5710]\n"
     ]
    },
    {
     "name": "stdout",
     "output_type": "stream",
     "text": [
      "Epoch 126/1000: Val Loss: 1.1418, Val Acc: 0.5710, Val F1: 0.5643\n",
      "Current Learning Rate: 3.0000000000000004e-07\n"
     ]
    },
    {
     "name": "stderr",
     "output_type": "stream",
     "text": [
      "Epoch 127/1000: 100%|██████████| 422/422 [01:14<00:00,  5.66it/s, Loss=1.1073, Acc=0.5759]\n"
     ]
    },
    {
     "name": "stdout",
     "output_type": "stream",
     "text": [
      "Epoch 127/1000: Train Loss: 1.1073, Train Acc: 0.5759\n"
     ]
    },
    {
     "name": "stderr",
     "output_type": "stream",
     "text": [
      "Epoch 127/1000 (Validation): 100%|██████████| 47/47 [00:02<00:00, 19.37it/s, Loss=1.1417, Acc=0.5713]\n"
     ]
    },
    {
     "name": "stdout",
     "output_type": "stream",
     "text": [
      "Epoch 127/1000: Val Loss: 1.1417, Val Acc: 0.5713, Val F1: 0.5654\n",
      "Current Learning Rate: 3.0000000000000004e-07\n"
     ]
    },
    {
     "name": "stderr",
     "output_type": "stream",
     "text": [
      "Epoch 128/1000: 100%|██████████| 422/422 [01:14<00:00,  5.66it/s, Loss=1.0982, Acc=0.5798]\n"
     ]
    },
    {
     "name": "stdout",
     "output_type": "stream",
     "text": [
      "Epoch 128/1000: Train Loss: 1.0982, Train Acc: 0.5798\n"
     ]
    },
    {
     "name": "stderr",
     "output_type": "stream",
     "text": [
      "Epoch 128/1000 (Validation): 100%|██████████| 47/47 [00:02<00:00, 19.34it/s, Loss=1.1403, Acc=0.5733]\n"
     ]
    },
    {
     "name": "stdout",
     "output_type": "stream",
     "text": [
      "Epoch 128/1000: Val Loss: 1.1403, Val Acc: 0.5733, Val F1: 0.5672\n",
      "Current Learning Rate: 3.0000000000000004e-07\n"
     ]
    },
    {
     "name": "stderr",
     "output_type": "stream",
     "text": [
      "Epoch 129/1000: 100%|██████████| 422/422 [01:13<00:00,  5.73it/s, Loss=1.1011, Acc=0.5795]\n"
     ]
    },
    {
     "name": "stdout",
     "output_type": "stream",
     "text": [
      "Epoch 129/1000: Train Loss: 1.1011, Train Acc: 0.5795\n"
     ]
    },
    {
     "name": "stderr",
     "output_type": "stream",
     "text": [
      "Epoch 129/1000 (Validation): 100%|██████████| 47/47 [00:02<00:00, 19.35it/s, Loss=1.1404, Acc=0.5740]\n"
     ]
    },
    {
     "name": "stdout",
     "output_type": "stream",
     "text": [
      "Epoch 129/1000: Val Loss: 1.1404, Val Acc: 0.5740, Val F1: 0.5680\n",
      "Current Learning Rate: 3.0000000000000004e-07\n",
      "Best model saved at ../Hasil Eksperimen/aug.pt with val accuracy: 0.5740\n"
     ]
    },
    {
     "name": "stderr",
     "output_type": "stream",
     "text": [
      "Epoch 130/1000: 100%|██████████| 422/422 [01:13<00:00,  5.72it/s, Loss=1.0992, Acc=0.5820]\n"
     ]
    },
    {
     "name": "stdout",
     "output_type": "stream",
     "text": [
      "Epoch 130/1000: Train Loss: 1.0992, Train Acc: 0.5820\n"
     ]
    },
    {
     "name": "stderr",
     "output_type": "stream",
     "text": [
      "Epoch 130/1000 (Validation): 100%|██████████| 47/47 [00:02<00:00, 18.06it/s, Loss=1.1400, Acc=0.5760]\n"
     ]
    },
    {
     "name": "stdout",
     "output_type": "stream",
     "text": [
      "Epoch 130/1000: Val Loss: 1.1400, Val Acc: 0.5760, Val F1: 0.5691\n",
      "Current Learning Rate: 3.0000000000000004e-07\n",
      "Best model saved at ../Hasil Eksperimen/aug.pt with val accuracy: 0.5760\n"
     ]
    },
    {
     "name": "stderr",
     "output_type": "stream",
     "text": [
      "Epoch 131/1000: 100%|██████████| 422/422 [01:13<00:00,  5.73it/s, Loss=1.0979, Acc=0.5813]\n"
     ]
    },
    {
     "name": "stdout",
     "output_type": "stream",
     "text": [
      "Epoch 131/1000: Train Loss: 1.0979, Train Acc: 0.5813\n"
     ]
    },
    {
     "name": "stderr",
     "output_type": "stream",
     "text": [
      "Epoch 131/1000 (Validation): 100%|██████████| 47/47 [00:02<00:00, 19.35it/s, Loss=1.1407, Acc=0.5763]\n"
     ]
    },
    {
     "name": "stdout",
     "output_type": "stream",
     "text": [
      "Epoch 131/1000: Val Loss: 1.1407, Val Acc: 0.5763, Val F1: 0.5692\n",
      "Current Learning Rate: 3.0000000000000004e-07\n",
      "Best model saved at ../Hasil Eksperimen/aug.pt with val accuracy: 0.5763\n"
     ]
    },
    {
     "name": "stderr",
     "output_type": "stream",
     "text": [
      "Epoch 132/1000: 100%|██████████| 422/422 [01:13<00:00,  5.74it/s, Loss=1.0956, Acc=0.5838]\n"
     ]
    },
    {
     "name": "stdout",
     "output_type": "stream",
     "text": [
      "Epoch 132/1000: Train Loss: 1.0956, Train Acc: 0.5838\n"
     ]
    },
    {
     "name": "stderr",
     "output_type": "stream",
     "text": [
      "Epoch 132/1000 (Validation): 100%|██████████| 47/47 [00:02<00:00, 19.99it/s, Loss=1.1408, Acc=0.5770]\n"
     ]
    },
    {
     "name": "stdout",
     "output_type": "stream",
     "text": [
      "Epoch 132/1000: Val Loss: 1.1408, Val Acc: 0.5770, Val F1: 0.5703\n",
      "Current Learning Rate: 3.0000000000000004e-07\n",
      "Best model saved at ../Hasil Eksperimen/aug.pt with val accuracy: 0.5770\n"
     ]
    },
    {
     "name": "stderr",
     "output_type": "stream",
     "text": [
      "Epoch 133/1000: 100%|██████████| 422/422 [01:15<00:00,  5.59it/s, Loss=1.1025, Acc=0.5787]\n"
     ]
    },
    {
     "name": "stdout",
     "output_type": "stream",
     "text": [
      "Epoch 133/1000: Train Loss: 1.1025, Train Acc: 0.5787\n"
     ]
    },
    {
     "name": "stderr",
     "output_type": "stream",
     "text": [
      "Epoch 133/1000 (Validation): 100%|██████████| 47/47 [00:02<00:00, 19.35it/s, Loss=1.1410, Acc=0.5767]\n"
     ]
    },
    {
     "name": "stdout",
     "output_type": "stream",
     "text": [
      "Epoch 133/1000: Val Loss: 1.1410, Val Acc: 0.5767, Val F1: 0.5701\n",
      "Current Learning Rate: 3.0000000000000004e-07\n"
     ]
    },
    {
     "name": "stderr",
     "output_type": "stream",
     "text": [
      "Epoch 134/1000: 100%|██████████| 422/422 [01:14<00:00,  5.68it/s, Loss=1.1073, Acc=0.5753]\n"
     ]
    },
    {
     "name": "stdout",
     "output_type": "stream",
     "text": [
      "Epoch 134/1000: Train Loss: 1.1073, Train Acc: 0.5753\n"
     ]
    },
    {
     "name": "stderr",
     "output_type": "stream",
     "text": [
      "Epoch 134/1000 (Validation): 100%|██████████| 47/47 [00:02<00:00, 19.62it/s, Loss=1.1413, Acc=0.5757]\n"
     ]
    },
    {
     "name": "stdout",
     "output_type": "stream",
     "text": [
      "Epoch 134/1000: Val Loss: 1.1413, Val Acc: 0.5757, Val F1: 0.5690\n",
      "Current Learning Rate: 3.0000000000000004e-07\n"
     ]
    },
    {
     "name": "stderr",
     "output_type": "stream",
     "text": [
      "Epoch 135/1000: 100%|██████████| 422/422 [01:12<00:00,  5.78it/s, Loss=1.0958, Acc=0.5781]\n"
     ]
    },
    {
     "name": "stdout",
     "output_type": "stream",
     "text": [
      "Epoch 135/1000: Train Loss: 1.0958, Train Acc: 0.5781\n"
     ]
    },
    {
     "name": "stderr",
     "output_type": "stream",
     "text": [
      "Epoch 135/1000 (Validation): 100%|██████████| 47/47 [00:02<00:00, 20.16it/s, Loss=1.1402, Acc=0.5750]\n"
     ]
    },
    {
     "name": "stdout",
     "output_type": "stream",
     "text": [
      "Epoch 135/1000: Val Loss: 1.1402, Val Acc: 0.5750, Val F1: 0.5682\n",
      "Current Learning Rate: 3.0000000000000004e-07\n"
     ]
    },
    {
     "name": "stderr",
     "output_type": "stream",
     "text": [
      "Epoch 136/1000: 100%|██████████| 422/422 [01:15<00:00,  5.61it/s, Loss=1.0968, Acc=0.5798]\n"
     ]
    },
    {
     "name": "stdout",
     "output_type": "stream",
     "text": [
      "Epoch 136/1000: Train Loss: 1.0968, Train Acc: 0.5798\n"
     ]
    },
    {
     "name": "stderr",
     "output_type": "stream",
     "text": [
      "Epoch 136/1000 (Validation): 100%|██████████| 47/47 [00:02<00:00, 19.36it/s, Loss=1.1396, Acc=0.5757]\n"
     ]
    },
    {
     "name": "stdout",
     "output_type": "stream",
     "text": [
      "Epoch 136/1000: Val Loss: 1.1396, Val Acc: 0.5757, Val F1: 0.5691\n",
      "Current Learning Rate: 3.0000000000000004e-07\n"
     ]
    },
    {
     "name": "stderr",
     "output_type": "stream",
     "text": [
      "Epoch 137/1000: 100%|██████████| 422/422 [01:17<00:00,  5.41it/s, Loss=1.0949, Acc=0.5846]\n"
     ]
    },
    {
     "name": "stdout",
     "output_type": "stream",
     "text": [
      "Epoch 137/1000: Train Loss: 1.0949, Train Acc: 0.5846\n"
     ]
    },
    {
     "name": "stderr",
     "output_type": "stream",
     "text": [
      "Epoch 137/1000 (Validation): 100%|██████████| 47/47 [00:02<00:00, 18.48it/s, Loss=1.1419, Acc=0.5777]\n"
     ]
    },
    {
     "name": "stdout",
     "output_type": "stream",
     "text": [
      "Epoch 137/1000: Val Loss: 1.1419, Val Acc: 0.5777, Val F1: 0.5711\n",
      "Current Learning Rate: 3.0000000000000004e-07\n",
      "Best model saved at ../Hasil Eksperimen/aug.pt with val accuracy: 0.5777\n"
     ]
    },
    {
     "name": "stderr",
     "output_type": "stream",
     "text": [
      "Epoch 138/1000: 100%|██████████| 422/422 [01:17<00:00,  5.42it/s, Loss=1.0975, Acc=0.5791]\n"
     ]
    },
    {
     "name": "stdout",
     "output_type": "stream",
     "text": [
      "Epoch 138/1000: Train Loss: 1.0975, Train Acc: 0.5791\n"
     ]
    },
    {
     "name": "stderr",
     "output_type": "stream",
     "text": [
      "Epoch 138/1000 (Validation): 100%|██████████| 47/47 [00:02<00:00, 19.58it/s, Loss=1.1424, Acc=0.5760]\n"
     ]
    },
    {
     "name": "stdout",
     "output_type": "stream",
     "text": [
      "Epoch 138/1000: Val Loss: 1.1424, Val Acc: 0.5760, Val F1: 0.5695\n",
      "Current Learning Rate: 3.0000000000000004e-07\n"
     ]
    },
    {
     "name": "stderr",
     "output_type": "stream",
     "text": [
      "Epoch 139/1000: 100%|██████████| 422/422 [01:13<00:00,  5.77it/s, Loss=1.1000, Acc=0.5814]\n"
     ]
    },
    {
     "name": "stdout",
     "output_type": "stream",
     "text": [
      "Epoch 139/1000: Train Loss: 1.1000, Train Acc: 0.5814\n"
     ]
    },
    {
     "name": "stderr",
     "output_type": "stream",
     "text": [
      "Epoch 139/1000 (Validation): 100%|██████████| 47/47 [00:02<00:00, 20.10it/s, Loss=1.1423, Acc=0.5770]\n"
     ]
    },
    {
     "name": "stdout",
     "output_type": "stream",
     "text": [
      "Epoch 139/1000: Val Loss: 1.1423, Val Acc: 0.5770, Val F1: 0.5702\n",
      "Current Learning Rate: 3.0000000000000004e-07\n"
     ]
    },
    {
     "name": "stderr",
     "output_type": "stream",
     "text": [
      "Epoch 140/1000: 100%|██████████| 422/422 [01:13<00:00,  5.77it/s, Loss=1.1048, Acc=0.5756]\n"
     ]
    },
    {
     "name": "stdout",
     "output_type": "stream",
     "text": [
      "Epoch 140/1000: Train Loss: 1.1048, Train Acc: 0.5756\n"
     ]
    },
    {
     "name": "stderr",
     "output_type": "stream",
     "text": [
      "Epoch 140/1000 (Validation): 100%|██████████| 47/47 [00:02<00:00, 20.06it/s, Loss=1.1421, Acc=0.5770]\n"
     ]
    },
    {
     "name": "stdout",
     "output_type": "stream",
     "text": [
      "Epoch 140/1000: Val Loss: 1.1421, Val Acc: 0.5770, Val F1: 0.5703\n",
      "Current Learning Rate: 3.0000000000000004e-07\n"
     ]
    },
    {
     "name": "stderr",
     "output_type": "stream",
     "text": [
      "Epoch 141/1000: 100%|██████████| 422/422 [01:14<00:00,  5.64it/s, Loss=1.0916, Acc=0.5794]\n"
     ]
    },
    {
     "name": "stdout",
     "output_type": "stream",
     "text": [
      "Epoch 141/1000: Train Loss: 1.0916, Train Acc: 0.5794\n"
     ]
    },
    {
     "name": "stderr",
     "output_type": "stream",
     "text": [
      "Epoch 141/1000 (Validation): 100%|██████████| 47/47 [00:02<00:00, 19.32it/s, Loss=1.1411, Acc=0.5777]\n"
     ]
    },
    {
     "name": "stdout",
     "output_type": "stream",
     "text": [
      "Epoch 141/1000: Val Loss: 1.1411, Val Acc: 0.5777, Val F1: 0.5708\n",
      "Current Learning Rate: 3.0000000000000004e-07\n"
     ]
    },
    {
     "name": "stderr",
     "output_type": "stream",
     "text": [
      "Epoch 142/1000: 100%|██████████| 422/422 [01:17<00:00,  5.41it/s, Loss=1.0953, Acc=0.5857]\n"
     ]
    },
    {
     "name": "stdout",
     "output_type": "stream",
     "text": [
      "Epoch 142/1000: Train Loss: 1.0953, Train Acc: 0.5857\n"
     ]
    },
    {
     "name": "stderr",
     "output_type": "stream",
     "text": [
      "Epoch 142/1000 (Validation): 100%|██████████| 47/47 [00:02<00:00, 19.38it/s, Loss=1.1399, Acc=0.5773]\n"
     ]
    },
    {
     "name": "stdout",
     "output_type": "stream",
     "text": [
      "Epoch 142/1000: Val Loss: 1.1399, Val Acc: 0.5773, Val F1: 0.5708\n",
      "Current Learning Rate: 3.0000000000000004e-08\n"
     ]
    },
    {
     "name": "stderr",
     "output_type": "stream",
     "text": [
      "Epoch 143/1000: 100%|██████████| 422/422 [01:14<00:00,  5.70it/s, Loss=1.0934, Acc=0.5844]\n"
     ]
    },
    {
     "name": "stdout",
     "output_type": "stream",
     "text": [
      "Epoch 143/1000: Train Loss: 1.0934, Train Acc: 0.5844\n"
     ]
    },
    {
     "name": "stderr",
     "output_type": "stream",
     "text": [
      "Epoch 143/1000 (Validation): 100%|██████████| 47/47 [00:02<00:00, 19.34it/s, Loss=1.1405, Acc=0.5773]\n"
     ]
    },
    {
     "name": "stdout",
     "output_type": "stream",
     "text": [
      "Epoch 143/1000: Val Loss: 1.1405, Val Acc: 0.5773, Val F1: 0.5708\n",
      "Current Learning Rate: 3.0000000000000004e-08\n"
     ]
    },
    {
     "name": "stderr",
     "output_type": "stream",
     "text": [
      "Epoch 144/1000: 100%|██████████| 422/422 [01:16<00:00,  5.50it/s, Loss=1.0909, Acc=0.5842]\n"
     ]
    },
    {
     "name": "stdout",
     "output_type": "stream",
     "text": [
      "Epoch 144/1000: Train Loss: 1.0909, Train Acc: 0.5842\n"
     ]
    },
    {
     "name": "stderr",
     "output_type": "stream",
     "text": [
      "Epoch 144/1000 (Validation): 100%|██████████| 47/47 [00:02<00:00, 19.35it/s, Loss=1.1404, Acc=0.5777]\n"
     ]
    },
    {
     "name": "stdout",
     "output_type": "stream",
     "text": [
      "Epoch 144/1000: Val Loss: 1.1404, Val Acc: 0.5777, Val F1: 0.5713\n",
      "Current Learning Rate: 3.0000000000000004e-08\n"
     ]
    },
    {
     "name": "stderr",
     "output_type": "stream",
     "text": [
      "Epoch 145/1000: 100%|██████████| 422/422 [01:13<00:00,  5.72it/s, Loss=1.1028, Acc=0.5762]\n"
     ]
    },
    {
     "name": "stdout",
     "output_type": "stream",
     "text": [
      "Epoch 145/1000: Train Loss: 1.1028, Train Acc: 0.5762\n"
     ]
    },
    {
     "name": "stderr",
     "output_type": "stream",
     "text": [
      "Epoch 145/1000 (Validation): 100%|██████████| 47/47 [00:02<00:00, 19.30it/s, Loss=1.1400, Acc=0.5777]\n"
     ]
    },
    {
     "name": "stdout",
     "output_type": "stream",
     "text": [
      "Epoch 145/1000: Val Loss: 1.1400, Val Acc: 0.5777, Val F1: 0.5713\n",
      "Current Learning Rate: 3.0000000000000004e-08\n"
     ]
    },
    {
     "name": "stderr",
     "output_type": "stream",
     "text": [
      "Epoch 146/1000: 100%|██████████| 422/422 [01:13<00:00,  5.73it/s, Loss=1.0908, Acc=0.5853]\n"
     ]
    },
    {
     "name": "stdout",
     "output_type": "stream",
     "text": [
      "Epoch 146/1000: Train Loss: 1.0908, Train Acc: 0.5853\n"
     ]
    },
    {
     "name": "stderr",
     "output_type": "stream",
     "text": [
      "Epoch 146/1000 (Validation): 100%|██████████| 47/47 [00:02<00:00, 19.32it/s, Loss=1.1398, Acc=0.5773]\n"
     ]
    },
    {
     "name": "stdout",
     "output_type": "stream",
     "text": [
      "Epoch 146/1000: Val Loss: 1.1398, Val Acc: 0.5773, Val F1: 0.5710\n",
      "Current Learning Rate: 3.0000000000000004e-08\n"
     ]
    },
    {
     "name": "stderr",
     "output_type": "stream",
     "text": [
      "Epoch 147/1000: 100%|██████████| 422/422 [01:18<00:00,  5.37it/s, Loss=1.0934, Acc=0.5805]\n"
     ]
    },
    {
     "name": "stdout",
     "output_type": "stream",
     "text": [
      "Epoch 147/1000: Train Loss: 1.0934, Train Acc: 0.5805\n"
     ]
    },
    {
     "name": "stderr",
     "output_type": "stream",
     "text": [
      "Epoch 147/1000 (Validation): 100%|██████████| 47/47 [00:02<00:00, 19.40it/s, Loss=1.1401, Acc=0.5773]\n"
     ]
    },
    {
     "name": "stdout",
     "output_type": "stream",
     "text": [
      "Epoch 147/1000: Val Loss: 1.1401, Val Acc: 0.5773, Val F1: 0.5710\n",
      "Current Learning Rate: 3.0000000000000004e-08\n"
     ]
    },
    {
     "name": "stderr",
     "output_type": "stream",
     "text": [
      "Epoch 148/1000: 100%|██████████| 422/422 [01:15<00:00,  5.56it/s, Loss=1.0984, Acc=0.5800]\n"
     ]
    },
    {
     "name": "stdout",
     "output_type": "stream",
     "text": [
      "Epoch 148/1000: Train Loss: 1.0984, Train Acc: 0.5800\n"
     ]
    },
    {
     "name": "stderr",
     "output_type": "stream",
     "text": [
      "Epoch 148/1000 (Validation): 100%|██████████| 47/47 [00:02<00:00, 17.81it/s, Loss=1.1396, Acc=0.5773]\n"
     ]
    },
    {
     "name": "stdout",
     "output_type": "stream",
     "text": [
      "Epoch 148/1000: Val Loss: 1.1396, Val Acc: 0.5773, Val F1: 0.5710\n",
      "Current Learning Rate: 3.0000000000000004e-09\n"
     ]
    },
    {
     "name": "stderr",
     "output_type": "stream",
     "text": [
      "Epoch 149/1000: 100%|██████████| 422/422 [01:14<00:00,  5.64it/s, Loss=1.0875, Acc=0.5841]\n"
     ]
    },
    {
     "name": "stdout",
     "output_type": "stream",
     "text": [
      "Epoch 149/1000: Train Loss: 1.0875, Train Acc: 0.5841\n"
     ]
    },
    {
     "name": "stderr",
     "output_type": "stream",
     "text": [
      "Epoch 149/1000 (Validation): 100%|██████████| 47/47 [00:02<00:00, 19.44it/s, Loss=1.1407, Acc=0.5773]\n"
     ]
    },
    {
     "name": "stdout",
     "output_type": "stream",
     "text": [
      "Epoch 149/1000: Val Loss: 1.1407, Val Acc: 0.5773, Val F1: 0.5710\n",
      "Current Learning Rate: 3.0000000000000004e-09\n"
     ]
    },
    {
     "name": "stderr",
     "output_type": "stream",
     "text": [
      "Epoch 150/1000: 100%|██████████| 422/422 [01:13<00:00,  5.77it/s, Loss=1.0934, Acc=0.5824]\n"
     ]
    },
    {
     "name": "stdout",
     "output_type": "stream",
     "text": [
      "Epoch 150/1000: Train Loss: 1.0934, Train Acc: 0.5824\n"
     ]
    },
    {
     "name": "stderr",
     "output_type": "stream",
     "text": [
      "Epoch 150/1000 (Validation): 100%|██████████| 47/47 [00:02<00:00, 20.13it/s, Loss=1.1404, Acc=0.5773]\n"
     ]
    },
    {
     "name": "stdout",
     "output_type": "stream",
     "text": [
      "Epoch 150/1000: Val Loss: 1.1404, Val Acc: 0.5773, Val F1: 0.5710\n",
      "Current Learning Rate: 3.0000000000000004e-09\n"
     ]
    },
    {
     "name": "stderr",
     "output_type": "stream",
     "text": [
      "Epoch 151/1000: 100%|██████████| 422/422 [01:12<00:00,  5.79it/s, Loss=1.0963, Acc=0.5825]\n"
     ]
    },
    {
     "name": "stdout",
     "output_type": "stream",
     "text": [
      "Epoch 151/1000: Train Loss: 1.0963, Train Acc: 0.5825\n"
     ]
    },
    {
     "name": "stderr",
     "output_type": "stream",
     "text": [
      "Epoch 151/1000 (Validation): 100%|██████████| 47/47 [00:02<00:00, 20.12it/s, Loss=1.1399, Acc=0.5773]\n"
     ]
    },
    {
     "name": "stdout",
     "output_type": "stream",
     "text": [
      "Epoch 151/1000: Val Loss: 1.1399, Val Acc: 0.5773, Val F1: 0.5709\n",
      "Current Learning Rate: 3.0000000000000004e-09\n"
     ]
    },
    {
     "name": "stderr",
     "output_type": "stream",
     "text": [
      "Epoch 152/1000: 100%|██████████| 422/422 [01:13<00:00,  5.71it/s, Loss=1.0957, Acc=0.5779]\n"
     ]
    },
    {
     "name": "stdout",
     "output_type": "stream",
     "text": [
      "Epoch 152/1000: Train Loss: 1.0957, Train Acc: 0.5779\n"
     ]
    },
    {
     "name": "stderr",
     "output_type": "stream",
     "text": [
      "Epoch 152/1000 (Validation): 100%|██████████| 47/47 [00:02<00:00, 19.38it/s, Loss=1.1399, Acc=0.5773]\n"
     ]
    },
    {
     "name": "stdout",
     "output_type": "stream",
     "text": [
      "Epoch 152/1000: Val Loss: 1.1399, Val Acc: 0.5773, Val F1: 0.5709\n",
      "Current Learning Rate: 3.0000000000000004e-09\n"
     ]
    },
    {
     "name": "stderr",
     "output_type": "stream",
     "text": [
      "Epoch 153/1000: 100%|██████████| 422/422 [01:14<00:00,  5.69it/s, Loss=1.0973, Acc=0.5798]\n"
     ]
    },
    {
     "name": "stdout",
     "output_type": "stream",
     "text": [
      "Epoch 153/1000: Train Loss: 1.0973, Train Acc: 0.5798\n"
     ]
    },
    {
     "name": "stderr",
     "output_type": "stream",
     "text": [
      "Epoch 153/1000 (Validation): 100%|██████████| 47/47 [00:02<00:00, 20.13it/s, Loss=1.1405, Acc=0.5773]\n"
     ]
    },
    {
     "name": "stdout",
     "output_type": "stream",
     "text": [
      "Epoch 153/1000: Val Loss: 1.1405, Val Acc: 0.5773, Val F1: 0.5709\n",
      "Current Learning Rate: 3.0000000000000004e-09\n"
     ]
    },
    {
     "name": "stderr",
     "output_type": "stream",
     "text": [
      "Epoch 154/1000: 100%|██████████| 422/422 [01:12<00:00,  5.81it/s, Loss=1.0976, Acc=0.5804]\n"
     ]
    },
    {
     "name": "stdout",
     "output_type": "stream",
     "text": [
      "Epoch 154/1000: Train Loss: 1.0976, Train Acc: 0.5804\n"
     ]
    },
    {
     "name": "stderr",
     "output_type": "stream",
     "text": [
      "Epoch 154/1000 (Validation): 100%|██████████| 47/47 [00:02<00:00, 20.11it/s, Loss=1.1408, Acc=0.5773]\n"
     ]
    },
    {
     "name": "stdout",
     "output_type": "stream",
     "text": [
      "Epoch 154/1000: Val Loss: 1.1408, Val Acc: 0.5773, Val F1: 0.5709\n",
      "Current Learning Rate: 3.0000000000000004e-09\n"
     ]
    },
    {
     "name": "stderr",
     "output_type": "stream",
     "text": [
      "Epoch 155/1000: 100%|██████████| 422/422 [01:13<00:00,  5.77it/s, Loss=1.0952, Acc=0.5817]\n"
     ]
    },
    {
     "name": "stdout",
     "output_type": "stream",
     "text": [
      "Epoch 155/1000: Train Loss: 1.0952, Train Acc: 0.5817\n"
     ]
    },
    {
     "name": "stderr",
     "output_type": "stream",
     "text": [
      "Epoch 155/1000 (Validation): 100%|██████████| 47/47 [00:02<00:00, 19.36it/s, Loss=1.1411, Acc=0.5773]\n"
     ]
    },
    {
     "name": "stdout",
     "output_type": "stream",
     "text": [
      "Epoch 155/1000: Val Loss: 1.1411, Val Acc: 0.5773, Val F1: 0.5709\n",
      "Current Learning Rate: 3.0000000000000004e-09\n"
     ]
    },
    {
     "name": "stderr",
     "output_type": "stream",
     "text": [
      "Epoch 156/1000: 100%|██████████| 422/422 [01:12<00:00,  5.80it/s, Loss=1.0895, Acc=0.5856]\n"
     ]
    },
    {
     "name": "stdout",
     "output_type": "stream",
     "text": [
      "Epoch 156/1000: Train Loss: 1.0895, Train Acc: 0.5856\n"
     ]
    },
    {
     "name": "stderr",
     "output_type": "stream",
     "text": [
      "Epoch 156/1000 (Validation): 100%|██████████| 47/47 [00:02<00:00, 20.16it/s, Loss=1.1400, Acc=0.5773]\n"
     ]
    },
    {
     "name": "stdout",
     "output_type": "stream",
     "text": [
      "Epoch 156/1000: Val Loss: 1.1400, Val Acc: 0.5773, Val F1: 0.5709\n",
      "Current Learning Rate: 3.0000000000000004e-09\n"
     ]
    },
    {
     "name": "stderr",
     "output_type": "stream",
     "text": [
      "Epoch 157/1000: 100%|██████████| 422/422 [01:14<00:00,  5.69it/s, Loss=1.0924, Acc=0.5798]\n"
     ]
    },
    {
     "name": "stdout",
     "output_type": "stream",
     "text": [
      "Epoch 157/1000: Train Loss: 1.0924, Train Acc: 0.5798\n"
     ]
    },
    {
     "name": "stderr",
     "output_type": "stream",
     "text": [
      "Epoch 157/1000 (Validation): 100%|██████████| 47/47 [00:02<00:00, 20.16it/s, Loss=1.1408, Acc=0.5773]\n"
     ]
    },
    {
     "name": "stdout",
     "output_type": "stream",
     "text": [
      "Epoch 157/1000: Val Loss: 1.1408, Val Acc: 0.5773, Val F1: 0.5709\n",
      "Current Learning Rate: 3.0000000000000004e-09\n"
     ]
    },
    {
     "name": "stderr",
     "output_type": "stream",
     "text": [
      "Epoch 158/1000: 100%|██████████| 422/422 [01:18<00:00,  5.38it/s, Loss=1.0913, Acc=0.5834]\n"
     ]
    },
    {
     "name": "stdout",
     "output_type": "stream",
     "text": [
      "Epoch 158/1000: Train Loss: 1.0913, Train Acc: 0.5834\n"
     ]
    },
    {
     "name": "stderr",
     "output_type": "stream",
     "text": [
      "Epoch 158/1000 (Validation): 100%|██████████| 47/47 [00:02<00:00, 20.18it/s, Loss=1.1397, Acc=0.5773]\n"
     ]
    },
    {
     "name": "stdout",
     "output_type": "stream",
     "text": [
      "Epoch 158/1000: Val Loss: 1.1397, Val Acc: 0.5773, Val F1: 0.5709\n",
      "Current Learning Rate: 3.0000000000000004e-09\n"
     ]
    },
    {
     "name": "stderr",
     "output_type": "stream",
     "text": [
      "Epoch 159/1000: 100%|██████████| 422/422 [01:12<00:00,  5.80it/s, Loss=1.0953, Acc=0.5836]\n"
     ]
    },
    {
     "name": "stdout",
     "output_type": "stream",
     "text": [
      "Epoch 159/1000: Train Loss: 1.0953, Train Acc: 0.5836\n"
     ]
    },
    {
     "name": "stderr",
     "output_type": "stream",
     "text": [
      "Epoch 159/1000 (Validation): 100%|██████████| 47/47 [00:02<00:00, 20.13it/s, Loss=1.1407, Acc=0.5773]\n"
     ]
    },
    {
     "name": "stdout",
     "output_type": "stream",
     "text": [
      "Epoch 159/1000: Val Loss: 1.1407, Val Acc: 0.5773, Val F1: 0.5709\n",
      "Current Learning Rate: 3.0000000000000004e-09\n"
     ]
    },
    {
     "name": "stderr",
     "output_type": "stream",
     "text": [
      "Epoch 160/1000: 100%|██████████| 422/422 [01:12<00:00,  5.78it/s, Loss=1.0882, Acc=0.5861]\n"
     ]
    },
    {
     "name": "stdout",
     "output_type": "stream",
     "text": [
      "Epoch 160/1000: Train Loss: 1.0882, Train Acc: 0.5861\n"
     ]
    },
    {
     "name": "stderr",
     "output_type": "stream",
     "text": [
      "Epoch 160/1000 (Validation): 100%|██████████| 47/47 [00:02<00:00, 20.11it/s, Loss=1.1400, Acc=0.5773]\n"
     ]
    },
    {
     "name": "stdout",
     "output_type": "stream",
     "text": [
      "Epoch 160/1000: Val Loss: 1.1400, Val Acc: 0.5773, Val F1: 0.5709\n",
      "Current Learning Rate: 3.0000000000000004e-09\n"
     ]
    },
    {
     "name": "stderr",
     "output_type": "stream",
     "text": [
      "Epoch 161/1000: 100%|██████████| 422/422 [01:14<00:00,  5.67it/s, Loss=1.0976, Acc=0.5779]\n"
     ]
    },
    {
     "name": "stdout",
     "output_type": "stream",
     "text": [
      "Epoch 161/1000: Train Loss: 1.0976, Train Acc: 0.5779\n"
     ]
    },
    {
     "name": "stderr",
     "output_type": "stream",
     "text": [
      "Epoch 161/1000 (Validation): 100%|██████████| 47/47 [00:02<00:00, 18.53it/s, Loss=1.1404, Acc=0.5773]\n"
     ]
    },
    {
     "name": "stdout",
     "output_type": "stream",
     "text": [
      "Epoch 161/1000: Val Loss: 1.1404, Val Acc: 0.5773, Val F1: 0.5709\n",
      "Current Learning Rate: 3.0000000000000004e-09\n"
     ]
    },
    {
     "name": "stderr",
     "output_type": "stream",
     "text": [
      "Epoch 162/1000: 100%|██████████| 422/422 [01:14<00:00,  5.69it/s, Loss=1.0952, Acc=0.5788]\n"
     ]
    },
    {
     "name": "stdout",
     "output_type": "stream",
     "text": [
      "Epoch 162/1000: Train Loss: 1.0952, Train Acc: 0.5788\n"
     ]
    },
    {
     "name": "stderr",
     "output_type": "stream",
     "text": [
      "Epoch 162/1000 (Validation): 100%|██████████| 47/47 [00:02<00:00, 20.14it/s, Loss=1.1406, Acc=0.5773]\n"
     ]
    },
    {
     "name": "stdout",
     "output_type": "stream",
     "text": [
      "Epoch 162/1000: Val Loss: 1.1406, Val Acc: 0.5773, Val F1: 0.5709\n",
      "Current Learning Rate: 3.0000000000000004e-09\n"
     ]
    },
    {
     "name": "stderr",
     "output_type": "stream",
     "text": [
      "Epoch 163/1000: 100%|██████████| 422/422 [01:13<00:00,  5.72it/s, Loss=1.0942, Acc=0.5822]\n"
     ]
    },
    {
     "name": "stdout",
     "output_type": "stream",
     "text": [
      "Epoch 163/1000: Train Loss: 1.0942, Train Acc: 0.5822\n"
     ]
    },
    {
     "name": "stderr",
     "output_type": "stream",
     "text": [
      "Epoch 163/1000 (Validation): 100%|██████████| 47/47 [00:02<00:00, 18.02it/s, Loss=1.1405, Acc=0.5773]\n"
     ]
    },
    {
     "name": "stdout",
     "output_type": "stream",
     "text": [
      "Epoch 163/1000: Val Loss: 1.1405, Val Acc: 0.5773, Val F1: 0.5709\n",
      "Current Learning Rate: 3.0000000000000004e-09\n"
     ]
    },
    {
     "name": "stderr",
     "output_type": "stream",
     "text": [
      "Epoch 164/1000: 100%|██████████| 422/422 [01:23<00:00,  5.06it/s, Loss=1.0916, Acc=0.5828]\n"
     ]
    },
    {
     "name": "stdout",
     "output_type": "stream",
     "text": [
      "Epoch 164/1000: Train Loss: 1.0916, Train Acc: 0.5828\n"
     ]
    },
    {
     "name": "stderr",
     "output_type": "stream",
     "text": [
      "Epoch 164/1000 (Validation): 100%|██████████| 47/47 [00:02<00:00, 18.79it/s, Loss=1.1407, Acc=0.5773]\n"
     ]
    },
    {
     "name": "stdout",
     "output_type": "stream",
     "text": [
      "Epoch 164/1000: Val Loss: 1.1407, Val Acc: 0.5773, Val F1: 0.5709\n",
      "Current Learning Rate: 3.0000000000000004e-09\n"
     ]
    },
    {
     "name": "stderr",
     "output_type": "stream",
     "text": [
      "Epoch 165/1000: 100%|██████████| 422/422 [01:13<00:00,  5.77it/s, Loss=1.0987, Acc=0.5811]\n"
     ]
    },
    {
     "name": "stdout",
     "output_type": "stream",
     "text": [
      "Epoch 165/1000: Train Loss: 1.0987, Train Acc: 0.5811\n"
     ]
    },
    {
     "name": "stderr",
     "output_type": "stream",
     "text": [
      "Epoch 165/1000 (Validation): 100%|██████████| 47/47 [00:02<00:00, 18.39it/s, Loss=1.1412, Acc=0.5773]\n"
     ]
    },
    {
     "name": "stdout",
     "output_type": "stream",
     "text": [
      "Epoch 165/1000: Val Loss: 1.1412, Val Acc: 0.5773, Val F1: 0.5709\n",
      "Current Learning Rate: 3.0000000000000004e-09\n"
     ]
    },
    {
     "name": "stderr",
     "output_type": "stream",
     "text": [
      "Epoch 166/1000: 100%|██████████| 422/422 [01:14<00:00,  5.64it/s, Loss=1.0969, Acc=0.5808]\n"
     ]
    },
    {
     "name": "stdout",
     "output_type": "stream",
     "text": [
      "Epoch 166/1000: Train Loss: 1.0969, Train Acc: 0.5808\n"
     ]
    },
    {
     "name": "stderr",
     "output_type": "stream",
     "text": [
      "Epoch 166/1000 (Validation): 100%|██████████| 47/47 [00:02<00:00, 19.69it/s, Loss=1.1401, Acc=0.5773]\n"
     ]
    },
    {
     "name": "stdout",
     "output_type": "stream",
     "text": [
      "Epoch 166/1000: Val Loss: 1.1401, Val Acc: 0.5773, Val F1: 0.5710\n",
      "Current Learning Rate: 3.0000000000000004e-09\n"
     ]
    },
    {
     "name": "stderr",
     "output_type": "stream",
     "text": [
      "Epoch 167/1000: 100%|██████████| 422/422 [01:13<00:00,  5.71it/s, Loss=1.1006, Acc=0.5779]\n"
     ]
    },
    {
     "name": "stdout",
     "output_type": "stream",
     "text": [
      "Epoch 167/1000: Train Loss: 1.1006, Train Acc: 0.5779\n"
     ]
    },
    {
     "name": "stderr",
     "output_type": "stream",
     "text": [
      "Epoch 167/1000 (Validation): 100%|██████████| 47/47 [00:02<00:00, 20.12it/s, Loss=1.1404, Acc=0.5773]\n"
     ]
    },
    {
     "name": "stdout",
     "output_type": "stream",
     "text": [
      "Epoch 167/1000: Val Loss: 1.1404, Val Acc: 0.5773, Val F1: 0.5709\n",
      "Current Learning Rate: 3.0000000000000004e-09\n"
     ]
    },
    {
     "name": "stderr",
     "output_type": "stream",
     "text": [
      "Epoch 168/1000: 100%|██████████| 422/422 [01:20<00:00,  5.22it/s, Loss=1.0990, Acc=0.5796]\n"
     ]
    },
    {
     "name": "stdout",
     "output_type": "stream",
     "text": [
      "Epoch 168/1000: Train Loss: 1.0990, Train Acc: 0.5796\n"
     ]
    },
    {
     "name": "stderr",
     "output_type": "stream",
     "text": [
      "Epoch 168/1000 (Validation): 100%|██████████| 47/47 [00:02<00:00, 19.34it/s, Loss=1.1407, Acc=0.5773]\n"
     ]
    },
    {
     "name": "stdout",
     "output_type": "stream",
     "text": [
      "Epoch 168/1000: Val Loss: 1.1407, Val Acc: 0.5773, Val F1: 0.5710\n",
      "Current Learning Rate: 3.0000000000000004e-09\n"
     ]
    },
    {
     "name": "stderr",
     "output_type": "stream",
     "text": [
      "Epoch 169/1000: 100%|██████████| 422/422 [01:12<00:00,  5.78it/s, Loss=1.0996, Acc=0.5804]\n"
     ]
    },
    {
     "name": "stdout",
     "output_type": "stream",
     "text": [
      "Epoch 169/1000: Train Loss: 1.0996, Train Acc: 0.5804\n"
     ]
    },
    {
     "name": "stderr",
     "output_type": "stream",
     "text": [
      "Epoch 169/1000 (Validation): 100%|██████████| 47/47 [00:02<00:00, 19.90it/s, Loss=1.1406, Acc=0.5773]\n"
     ]
    },
    {
     "name": "stdout",
     "output_type": "stream",
     "text": [
      "Epoch 169/1000: Val Loss: 1.1406, Val Acc: 0.5773, Val F1: 0.5710\n",
      "Current Learning Rate: 3.0000000000000004e-09\n"
     ]
    },
    {
     "name": "stderr",
     "output_type": "stream",
     "text": [
      "Epoch 170/1000: 100%|██████████| 422/422 [01:12<00:00,  5.80it/s, Loss=1.0971, Acc=0.5817]\n"
     ]
    },
    {
     "name": "stdout",
     "output_type": "stream",
     "text": [
      "Epoch 170/1000: Train Loss: 1.0971, Train Acc: 0.5817\n"
     ]
    },
    {
     "name": "stderr",
     "output_type": "stream",
     "text": [
      "Epoch 170/1000 (Validation): 100%|██████████| 47/47 [00:02<00:00, 20.11it/s, Loss=1.1411, Acc=0.5773]\n"
     ]
    },
    {
     "name": "stdout",
     "output_type": "stream",
     "text": [
      "Epoch 170/1000: Val Loss: 1.1411, Val Acc: 0.5773, Val F1: 0.5710\n",
      "Current Learning Rate: 3.0000000000000004e-09\n"
     ]
    },
    {
     "name": "stderr",
     "output_type": "stream",
     "text": [
      "Epoch 171/1000: 100%|██████████| 422/422 [01:12<00:00,  5.82it/s, Loss=1.1005, Acc=0.5778]\n"
     ]
    },
    {
     "name": "stdout",
     "output_type": "stream",
     "text": [
      "Epoch 171/1000: Train Loss: 1.1005, Train Acc: 0.5778\n"
     ]
    },
    {
     "name": "stderr",
     "output_type": "stream",
     "text": [
      "Epoch 171/1000 (Validation): 100%|██████████| 47/47 [00:02<00:00, 20.15it/s, Loss=1.1410, Acc=0.5773]\n"
     ]
    },
    {
     "name": "stdout",
     "output_type": "stream",
     "text": [
      "Epoch 171/1000: Val Loss: 1.1410, Val Acc: 0.5773, Val F1: 0.5709\n",
      "Current Learning Rate: 3.0000000000000004e-09\n"
     ]
    },
    {
     "name": "stderr",
     "output_type": "stream",
     "text": [
      "Epoch 172/1000: 100%|██████████| 422/422 [01:12<00:00,  5.82it/s, Loss=1.0937, Acc=0.5814]\n"
     ]
    },
    {
     "name": "stdout",
     "output_type": "stream",
     "text": [
      "Epoch 172/1000: Train Loss: 1.0937, Train Acc: 0.5814\n"
     ]
    },
    {
     "name": "stderr",
     "output_type": "stream",
     "text": [
      "Epoch 172/1000 (Validation): 100%|██████████| 47/47 [00:02<00:00, 19.46it/s, Loss=1.1404, Acc=0.5773]\n"
     ]
    },
    {
     "name": "stdout",
     "output_type": "stream",
     "text": [
      "Epoch 172/1000: Val Loss: 1.1404, Val Acc: 0.5773, Val F1: 0.5710\n",
      "Current Learning Rate: 3.0000000000000004e-09\n"
     ]
    },
    {
     "name": "stderr",
     "output_type": "stream",
     "text": [
      "Epoch 173/1000: 100%|██████████| 422/422 [01:18<00:00,  5.39it/s, Loss=1.0965, Acc=0.5837]\n"
     ]
    },
    {
     "name": "stdout",
     "output_type": "stream",
     "text": [
      "Epoch 173/1000: Train Loss: 1.0965, Train Acc: 0.5837\n"
     ]
    },
    {
     "name": "stderr",
     "output_type": "stream",
     "text": [
      "Epoch 173/1000 (Validation): 100%|██████████| 47/47 [00:02<00:00, 17.24it/s, Loss=1.1397, Acc=0.5773]\n"
     ]
    },
    {
     "name": "stdout",
     "output_type": "stream",
     "text": [
      "Epoch 173/1000: Val Loss: 1.1397, Val Acc: 0.5773, Val F1: 0.5709\n",
      "Current Learning Rate: 3.0000000000000004e-09\n"
     ]
    },
    {
     "name": "stderr",
     "output_type": "stream",
     "text": [
      "Epoch 174/1000: 100%|██████████| 422/422 [01:16<00:00,  5.52it/s, Loss=1.0899, Acc=0.5864]\n"
     ]
    },
    {
     "name": "stdout",
     "output_type": "stream",
     "text": [
      "Epoch 174/1000: Train Loss: 1.0899, Train Acc: 0.5864\n"
     ]
    },
    {
     "name": "stderr",
     "output_type": "stream",
     "text": [
      "Epoch 174/1000 (Validation): 100%|██████████| 47/47 [00:02<00:00, 20.05it/s, Loss=1.1413, Acc=0.5773]\n"
     ]
    },
    {
     "name": "stdout",
     "output_type": "stream",
     "text": [
      "Epoch 174/1000: Val Loss: 1.1413, Val Acc: 0.5773, Val F1: 0.5709\n",
      "Current Learning Rate: 3.0000000000000004e-09\n"
     ]
    },
    {
     "name": "stderr",
     "output_type": "stream",
     "text": [
      "Epoch 175/1000: 100%|██████████| 422/422 [01:16<00:00,  5.51it/s, Loss=1.0952, Acc=0.5804]\n"
     ]
    },
    {
     "name": "stdout",
     "output_type": "stream",
     "text": [
      "Epoch 175/1000: Train Loss: 1.0952, Train Acc: 0.5804\n"
     ]
    },
    {
     "name": "stderr",
     "output_type": "stream",
     "text": [
      "Epoch 175/1000 (Validation): 100%|██████████| 47/47 [00:02<00:00, 20.13it/s, Loss=1.1407, Acc=0.5773]\n"
     ]
    },
    {
     "name": "stdout",
     "output_type": "stream",
     "text": [
      "Epoch 175/1000: Val Loss: 1.1407, Val Acc: 0.5773, Val F1: 0.5709\n",
      "Current Learning Rate: 3.0000000000000004e-09\n"
     ]
    },
    {
     "name": "stderr",
     "output_type": "stream",
     "text": [
      "Epoch 176/1000: 100%|██████████| 422/422 [01:14<00:00,  5.70it/s, Loss=1.0951, Acc=0.5803]\n"
     ]
    },
    {
     "name": "stdout",
     "output_type": "stream",
     "text": [
      "Epoch 176/1000: Train Loss: 1.0951, Train Acc: 0.5803\n"
     ]
    },
    {
     "name": "stderr",
     "output_type": "stream",
     "text": [
      "Epoch 176/1000 (Validation): 100%|██████████| 47/47 [00:02<00:00, 19.33it/s, Loss=1.1410, Acc=0.5773]\n"
     ]
    },
    {
     "name": "stdout",
     "output_type": "stream",
     "text": [
      "Epoch 176/1000: Val Loss: 1.1410, Val Acc: 0.5773, Val F1: 0.5709\n",
      "Current Learning Rate: 3.0000000000000004e-09\n"
     ]
    },
    {
     "name": "stderr",
     "output_type": "stream",
     "text": [
      "Epoch 177/1000: 100%|██████████| 422/422 [01:13<00:00,  5.74it/s, Loss=1.1014, Acc=0.5793]\n"
     ]
    },
    {
     "name": "stdout",
     "output_type": "stream",
     "text": [
      "Epoch 177/1000: Train Loss: 1.1014, Train Acc: 0.5793\n"
     ]
    },
    {
     "name": "stderr",
     "output_type": "stream",
     "text": [
      "Epoch 177/1000 (Validation): 100%|██████████| 47/47 [00:02<00:00, 19.35it/s, Loss=1.1413, Acc=0.5773]\n"
     ]
    },
    {
     "name": "stdout",
     "output_type": "stream",
     "text": [
      "Epoch 177/1000: Val Loss: 1.1413, Val Acc: 0.5773, Val F1: 0.5709\n",
      "Current Learning Rate: 3.0000000000000004e-09\n"
     ]
    },
    {
     "name": "stderr",
     "output_type": "stream",
     "text": [
      "Epoch 178/1000: 100%|██████████| 422/422 [01:13<00:00,  5.71it/s, Loss=1.0876, Acc=0.5858]\n"
     ]
    },
    {
     "name": "stdout",
     "output_type": "stream",
     "text": [
      "Epoch 178/1000: Train Loss: 1.0876, Train Acc: 0.5858\n"
     ]
    },
    {
     "name": "stderr",
     "output_type": "stream",
     "text": [
      "Epoch 178/1000 (Validation): 100%|██████████| 47/47 [00:02<00:00, 19.02it/s, Loss=1.1411, Acc=0.5773]\n"
     ]
    },
    {
     "name": "stdout",
     "output_type": "stream",
     "text": [
      "Epoch 178/1000: Val Loss: 1.1411, Val Acc: 0.5773, Val F1: 0.5709\n",
      "Current Learning Rate: 3.0000000000000004e-09\n"
     ]
    },
    {
     "name": "stderr",
     "output_type": "stream",
     "text": [
      "Epoch 179/1000: 100%|██████████| 422/422 [01:13<00:00,  5.74it/s, Loss=1.0986, Acc=0.5798]\n"
     ]
    },
    {
     "name": "stdout",
     "output_type": "stream",
     "text": [
      "Epoch 179/1000: Train Loss: 1.0986, Train Acc: 0.5798\n"
     ]
    },
    {
     "name": "stderr",
     "output_type": "stream",
     "text": [
      "Epoch 179/1000 (Validation): 100%|██████████| 47/47 [00:02<00:00, 19.38it/s, Loss=1.1411, Acc=0.5773]\n"
     ]
    },
    {
     "name": "stdout",
     "output_type": "stream",
     "text": [
      "Epoch 179/1000: Val Loss: 1.1411, Val Acc: 0.5773, Val F1: 0.5709\n",
      "Current Learning Rate: 3.0000000000000004e-09\n"
     ]
    },
    {
     "name": "stderr",
     "output_type": "stream",
     "text": [
      "Epoch 180/1000:  32%|███▏      | 133/422 [00:23<00:50,  5.69it/s, Loss=1.0959, Acc=0.5778]\n"
     ]
    },
    {
     "ename": "KeyboardInterrupt",
     "evalue": "",
     "output_type": "error",
     "traceback": [
      "\u001b[0;31m---------------------------------------------------------------------------\u001b[0m",
      "\u001b[0;31mKeyboardInterrupt\u001b[0m                         Traceback (most recent call last)",
      "Cell \u001b[0;32mIn[20], line 54\u001b[0m\n\u001b[1;32m     51\u001b[0m optimizer\u001b[38;5;241m.\u001b[39mstep()\n\u001b[1;32m     53\u001b[0m \u001b[38;5;66;03m# Update statistics\u001b[39;00m\n\u001b[0;32m---> 54\u001b[0m train_loss \u001b[38;5;241m+\u001b[39m\u001b[38;5;241m=\u001b[39m loss\u001b[38;5;241m.\u001b[39mitem()\n\u001b[1;32m     55\u001b[0m _, predicted \u001b[38;5;241m=\u001b[39m outputs\u001b[38;5;241m.\u001b[39mmax(\u001b[38;5;241m1\u001b[39m)\n\u001b[1;32m     56\u001b[0m total \u001b[38;5;241m+\u001b[39m\u001b[38;5;241m=\u001b[39m targets\u001b[38;5;241m.\u001b[39msize(\u001b[38;5;241m0\u001b[39m)\n",
      "\u001b[0;31mKeyboardInterrupt\u001b[0m: "
     ]
    }
   ],
   "source": [
    "EPOCHS = 1000\n",
    "LEARNING_RATE = 3e-5\n",
    "NUM_CLASSES = 7\n",
    "SEED = 123\n",
    "BATCH_SIZE = 64\n",
    "DEVICE = torch.device(\"cuda\" if torch.cuda.is_available() else \"cpu\")\n",
    "\n",
    "train_loader = DataLoader(train_dataset, batch_size=BATCH_SIZE, shuffle=True, generator=torch.Generator().manual_seed(SEED))\n",
    "val_loader = DataLoader(val_dataset, batch_size=BATCH_SIZE, shuffle=True, generator=torch.Generator().manual_seed(SEED))\n",
    "test_loader = DataLoader(test_dataset, batch_size=BATCH_SIZE, shuffle=False, generator=torch.Generator().manual_seed(SEED))\n",
    "\n",
    "optimizer = optim.AdamW(model.parameters(), lr=LEARNING_RATE)\n",
    "criterion = nn.CrossEntropyLoss()\n",
    "\n",
    "# Define the learning rate scheduler\n",
    "scheduler = ReduceLROnPlateau(optimizer, mode='min', factor=0.1, patience=5)\n",
    "\n",
    "# Define path\n",
    "SAVE_PATH = \"../Hasil Eksperimen\"\n",
    "os.makedirs(SAVE_PATH, exist_ok=True)\n",
    "\n",
    "# Initialize lists to store training and validation metrics\n",
    "train_losses = []\n",
    "val_losses = []\n",
    "train_accuracies = []\n",
    "val_accuracies = []\n",
    "\n",
    "# Initialize the best metric for model saving\n",
    "best_val_accuracy = -float('inf')\n",
    "\n",
    "for epoch in range(EPOCHS):\n",
    "    model.train()\n",
    "    train_loss = 0.0\n",
    "    correct = 0\n",
    "    total = 0\n",
    "\n",
    "    # Training\n",
    "    pbar = tqdm(train_loader, desc=f\"Epoch {epoch + 1}/{EPOCHS}\")\n",
    "    for batch_idx, (inputs, targets) in enumerate(pbar):\n",
    "        inputs, targets = inputs.to(DEVICE), targets.to(DEVICE)\n",
    "\n",
    "        # Zero the gradients\n",
    "        optimizer.zero_grad()\n",
    "\n",
    "        # Forward pass\n",
    "        outputs = model(inputs)\n",
    "        loss = criterion(outputs, targets)\n",
    "\n",
    "        # Backward pass and optimize\n",
    "        loss.backward()\n",
    "        optimizer.step()\n",
    "\n",
    "        # Update statistics\n",
    "        train_loss += loss.item()\n",
    "        _, predicted = outputs.max(1)\n",
    "        total += targets.size(0)\n",
    "        correct += predicted.eq(targets).sum().item()\n",
    "\n",
    "        # Update progress bar\n",
    "        pbar.set_postfix({\n",
    "            \"Loss\": f\"{train_loss / (batch_idx + 1):.4f}\",\n",
    "            \"Acc\": f\"{correct / total:.4f}\"\n",
    "        })\n",
    "\n",
    "    # Calculate training accuracy and loss\n",
    "    train_accuracy = correct / total\n",
    "    avg_train_loss = train_loss / len(train_loader)\n",
    "    train_losses.append(avg_train_loss)\n",
    "    train_accuracies.append(train_accuracy)\n",
    "\n",
    "    # Print training summary\n",
    "    print(f\"Epoch {epoch + 1}/{EPOCHS}: \"\n",
    "          f\"Train Loss: {avg_train_loss:.4f}, \"\n",
    "          f\"Train Acc: {train_accuracy:.4f}\")\n",
    "\n",
    "    # Validation\n",
    "    model.eval()\n",
    "    val_loss = 0.0\n",
    "    val_correct = 0\n",
    "    val_total = 0\n",
    "    all_targets = []\n",
    "    all_predicted = []\n",
    "\n",
    "    with torch.no_grad():  # Disable gradient computation\n",
    "        pbar = tqdm(val_loader, desc=f\"Epoch {epoch + 1}/{EPOCHS} (Validation)\")\n",
    "        for batch_idx, (inputs, targets) in enumerate(pbar):\n",
    "            inputs, targets = inputs.to(DEVICE), targets.to(DEVICE)\n",
    "\n",
    "            # Forward pass\n",
    "            outputs = model(inputs)\n",
    "            loss = criterion(outputs, targets)\n",
    "\n",
    "            # Update statistics\n",
    "            val_loss += loss.item()\n",
    "            _, predicted = outputs.max(1)\n",
    "            val_total += targets.size(0)\n",
    "            val_correct += predicted.eq(targets).sum().item()\n",
    "\n",
    "            # Collect all targets and predictions for F1-score\n",
    "            all_targets.extend(targets.cpu().numpy())\n",
    "            all_predicted.extend(predicted.cpu().numpy())\n",
    "\n",
    "            # Update progress bar\n",
    "            pbar.set_postfix({\n",
    "                \"Loss\": f\"{val_loss / (batch_idx + 1):.4f}\",\n",
    "                \"Acc\": f\"{val_correct / val_total:.4f}\"\n",
    "            })\n",
    "\n",
    "    # Calculate validation accuracy, loss, and F1-score\n",
    "    val_accuracy = val_correct / val_total\n",
    "    avg_val_loss = val_loss / len(val_loader)\n",
    "    val_f1 = f1_score(all_targets, all_predicted, average=\"weighted\")\n",
    "    val_losses.append(avg_val_loss)\n",
    "    val_accuracies.append(val_accuracy)\n",
    "\n",
    "    # Print validation summary\n",
    "    print(f\"Epoch {epoch + 1}/{EPOCHS}: \"\n",
    "          f\"Val Loss: {avg_val_loss:.4f}, \"\n",
    "          f\"Val Acc: {val_accuracy:.4f}, \"\n",
    "          f\"Val F1: {val_f1:.4f}\")\n",
    "\n",
    "    # Step the learning rate scheduler based on validation loss\n",
    "    scheduler.step(avg_val_loss)\n",
    "\n",
    "    # Print the current learning rate\n",
    "    current_lr = optimizer.param_groups[0]['lr']\n",
    "    print(f\"Current Learning Rate: {current_lr}\")\n",
    "\n",
    "    # Save the best model based on validation accuracy\n",
    "    if val_accuracy > best_val_accuracy:\n",
    "        best_val_accuracy = val_accuracy\n",
    "        model_path = os.path.join(SAVE_PATH, \"aug.pt\")\n",
    "        torch.save(model.state_dict(), model_path)\n",
    "        print(f\"Best model saved at {model_path} with val accuracy: {best_val_accuracy:.4f}\")\n",
    "\n",
    "    # Save loss and accuracy plots\n",
    "    plt.figure(figsize=(10, 5))\n",
    "    plt.plot(range(1, len(train_losses) + 1), train_losses, label=\"Training Loss\", marker='o')\n",
    "    plt.plot(range(1, len(val_losses) + 1), val_losses, label=\"Validation Loss\", marker='o')\n",
    "    plt.title(\"Loss per Epoch\")\n",
    "    plt.xlabel(\"Epoch\")\n",
    "    plt.ylabel(\"Loss\")\n",
    "    plt.legend()\n",
    "    plt.grid(True)\n",
    "    loss_plot_path = os.path.join(SAVE_PATH, \"aug_loss.png\")\n",
    "    plt.savefig(loss_plot_path)\n",
    "    plt.close()\n",
    "\n",
    "    plt.figure(figsize=(10, 5))\n",
    "    plt.plot(range(1, len(train_accuracies) + 1), train_accuracies, label=\"Training Accuracy\", marker='o')\n",
    "    plt.plot(range(1, len(val_accuracies) + 1), val_accuracies, label=\"Validation Accuracy\", marker='o')\n",
    "    plt.title(\"Accuracy per Epoch\")\n",
    "    plt.xlabel(\"Epoch\")\n",
    "    plt.ylabel(\"Accuracy\")\n",
    "    plt.legend()\n",
    "    plt.grid(True)\n",
    "    accuracy_plot_path = os.path.join(SAVE_PATH, \"aug_acc.png\")\n",
    "    plt.savefig(accuracy_plot_path)\n",
    "    plt.close()"
   ]
  },
  {
   "cell_type": "code",
   "execution_count": 29,
   "id": "2e7b0754-5394-47cb-a6ea-fb9ac2ca2ba3",
   "metadata": {},
   "outputs": [],
   "source": [
    "DEVICE = torch.device(\"cuda\" if torch.cuda.is_available() else \"cpu\")\n",
    "\n",
    "best_model = ViT(num_classes=len(class_names), in_channels=1, patch_size=32, num_heads=8, embedding_dim=512)\n",
    "best_model = best_model.to(DEVICE)"
   ]
  },
  {
   "cell_type": "code",
   "execution_count": 30,
   "id": "a83d5b9a-1420-4aba-9fb3-fa132c120ead",
   "metadata": {},
   "outputs": [
    {
     "name": "stderr",
     "output_type": "stream",
     "text": [
      "/tmp/ipykernel_5240/560128087.py:3: FutureWarning: You are using `torch.load` with `weights_only=False` (the current default value), which uses the default pickle module implicitly. It is possible to construct malicious pickle data which will execute arbitrary code during unpickling (See https://github.com/pytorch/pytorch/blob/main/SECURITY.md#untrusted-models for more details). In a future release, the default value for `weights_only` will be flipped to `True`. This limits the functions that could be executed during unpickling. Arbitrary objects will no longer be allowed to be loaded via this mode unless they are explicitly allowlisted by the user via `torch.serialization.add_safe_globals`. We recommend you start setting `weights_only=True` for any use case where you don't have full control of the loaded file. Please open an issue on GitHub for any issues related to this experimental feature.\n",
      "  best_model.load_state_dict(torch.load(model_path))\n"
     ]
    },
    {
     "data": {
      "text/plain": [
       "<All keys matched successfully>"
      ]
     },
     "execution_count": 30,
     "metadata": {},
     "output_type": "execute_result"
    }
   ],
   "source": [
    "# Load state_dict\n",
    "model_path = \"../Hasil Eksperimen/aug.pt\"\n",
    "best_model.load_state_dict(torch.load(model_path))"
   ]
  },
  {
   "cell_type": "code",
   "execution_count": 31,
   "id": "5cb67bc2-73f0-4bf0-8d6a-e88e56fb3d3b",
   "metadata": {},
   "outputs": [
    {
     "name": "stderr",
     "output_type": "stream",
     "text": [
      "Testing: 100%|██████████| 53/53 [00:02<00:00, 19.67it/s, Loss=1.1129, Acc=0.5827]"
     ]
    },
    {
     "name": "stdout",
     "output_type": "stream",
     "text": [
      "Test Loss: 1.1129, Test Acc: 0.5827\n",
      "\n",
      "Per-Class Accuracy:\n",
      "Class 0: 0.4881\n",
      "Class 1: 0.2222\n",
      "Class 2: 0.3242\n",
      "Class 3: 0.8353\n",
      "Class 4: 0.4476\n",
      "Class 5: 0.6509\n",
      "Class 6: 0.6134\n",
      "\n",
      "Classification Report:\n",
      "              precision    recall  f1-score   support\n",
      "\n",
      "     Class 0       0.50      0.49      0.49       463\n",
      "     Class 1       0.59      0.22      0.32        45\n",
      "     Class 2       0.47      0.32      0.38       472\n",
      "     Class 3       0.78      0.84      0.81       868\n",
      "     Class 4       0.47      0.45      0.46       572\n",
      "     Class 5       0.69      0.65      0.67       318\n",
      "     Class 6       0.48      0.61      0.54       595\n",
      "\n",
      "    accuracy                           0.58      3333\n",
      "   macro avg       0.57      0.51      0.52      3333\n",
      "weighted avg       0.58      0.58      0.58      3333\n",
      "\n"
     ]
    },
    {
     "name": "stderr",
     "output_type": "stream",
     "text": [
      "\n"
     ]
    }
   ],
   "source": [
    "# Testing\n",
    "best_model.eval()\n",
    "test_loss = 0.0\n",
    "test_correct = 0\n",
    "test_total = 0\n",
    "all_targets = []\n",
    "all_predicted = []\n",
    "\n",
    "with torch.no_grad():  # Disable gradient computation\n",
    "    pbar = tqdm(test_loader, desc=\"Testing\")\n",
    "    for batch_idx, (inputs, targets) in enumerate(pbar):\n",
    "        inputs, targets = inputs.to(DEVICE), targets.to(DEVICE)\n",
    "\n",
    "        # Forward pass\n",
    "        outputs = best_model(inputs)\n",
    "        loss = criterion(outputs, targets)\n",
    "\n",
    "        # Update statistics\n",
    "        test_loss += loss.item()\n",
    "        _, predicted = outputs.max(1)\n",
    "        test_total += targets.size(0)\n",
    "        test_correct += predicted.eq(targets).sum().item()\n",
    "\n",
    "        # Collect all targets and predictions\n",
    "        all_targets.extend(targets.cpu().numpy())\n",
    "        all_predicted.extend(predicted.cpu().numpy())\n",
    "\n",
    "        # Update progress bar\n",
    "        pbar.set_postfix({\n",
    "            \"Loss\": f\"{test_loss / (batch_idx + 1):.4f}\",\n",
    "            \"Acc\": f\"{test_correct / test_total:.4f}\"\n",
    "        })\n",
    "\n",
    "# Calculate test accuracy, loss, and F1-score\n",
    "test_accuracy = test_correct / test_total\n",
    "avg_test_loss = test_loss / len(test_loader)\n",
    "\n",
    "# Calculate per-class accuracy\n",
    "conf_matrix = confusion_matrix(all_targets, all_predicted)\n",
    "per_class_accuracy = conf_matrix.diagonal() / conf_matrix.sum(axis=1)\n",
    "\n",
    "# Calculate classification report (includes precision, recall, F1-score, and support)\n",
    "class_report = classification_report(all_targets, all_predicted, target_names=[f\"Class {i}\" for i in range(NUM_CLASSES)])\n",
    "\n",
    "# Print test summary\n",
    "print(f\"Test Loss: {avg_test_loss:.4f}, \"\n",
    "      f\"Test Acc: {test_accuracy:.4f}\")\n",
    "\n",
    "# Print per-class accuracy\n",
    "print(\"\\nPer-Class Accuracy:\")\n",
    "for i, acc in enumerate(per_class_accuracy):\n",
    "    print(f\"Class {i}: {acc:.4f}\")\n",
    "\n",
    "# Print classification report\n",
    "print(\"\\nClassification Report:\")\n",
    "print(class_report)"
   ]
  },
  {
   "cell_type": "code",
   "execution_count": null,
   "id": "eda3d990-5e91-4db8-ac34-9f6ec40286d0",
   "metadata": {},
   "outputs": [],
   "source": []
  }
 ],
 "metadata": {
  "kernelspec": {
   "display_name": "Python 3 (ipykernel)",
   "language": "python",
   "name": "python3"
  },
  "language_info": {
   "codemirror_mode": {
    "name": "ipython",
    "version": 3
   },
   "file_extension": ".py",
   "mimetype": "text/x-python",
   "name": "python",
   "nbconvert_exporter": "python",
   "pygments_lexer": "ipython3",
   "version": "3.12.7"
  }
 },
 "nbformat": 4,
 "nbformat_minor": 5
}
