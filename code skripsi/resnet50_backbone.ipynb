{
 "cells": [
  {
   "cell_type": "code",
   "execution_count": 1,
   "id": "a4f52c85-4ef4-4943-a521-ff740da659ed",
   "metadata": {},
   "outputs": [
    {
     "data": {
      "text/plain": [
       "'2.5.1+cu124'"
      ]
     },
     "execution_count": 1,
     "metadata": {},
     "output_type": "execute_result"
    }
   ],
   "source": [
    "import torch\n",
    "torch.__version__"
   ]
  },
  {
   "cell_type": "code",
   "execution_count": 2,
   "id": "85719059-ed85-4e86-a40a-e26217642235",
   "metadata": {},
   "outputs": [
    {
     "data": {
      "text/plain": [
       "'cuda'"
      ]
     },
     "execution_count": 2,
     "metadata": {},
     "output_type": "execute_result"
    }
   ],
   "source": [
    "device = \"cuda\" if torch.cuda.is_available() else \"cpu\"\n",
    "device"
   ]
  },
  {
   "cell_type": "code",
   "execution_count": 3,
   "id": "e1b309cc-ab32-4ea3-8c91-f1821515f136",
   "metadata": {},
   "outputs": [],
   "source": [
    "import numpy as np\n",
    "import pandas as pd\n",
    "import torch\n",
    "from torch.utils.data import Dataset, DataLoader\n",
    "from torchvision import transforms\n",
    "from PIL import Image\n",
    "import matplotlib.pyplot as plt\n",
    "from sklearn.model_selection import train_test_split\n",
    "from sklearn.metrics import classification_report, confusion_matrix\n",
    "import torch.optim as optim\n",
    "from torch.optim.lr_scheduler import ReduceLROnPlateau\n",
    "from torch.optim import AdamW\n",
    "import os\n",
    "from tqdm import tqdm\n",
    "from sklearn.metrics import f1_score\n",
    "from torchvision.models import resnet50, ResNet50_Weights\n",
    "import random"
   ]
  },
  {
   "cell_type": "code",
   "execution_count": 4,
   "id": "77039c05-9f1a-430a-89b0-b22f0d4de2b6",
   "metadata": {},
   "outputs": [],
   "source": [
    "# Set seed for reproducibility\n",
    "SEED = 123\n",
    "torch.manual_seed(SEED)\n",
    "random.seed(SEED)\n",
    "np.random.seed(SEED)"
   ]
  },
  {
   "cell_type": "markdown",
   "id": "08fe35ee-b631-403e-ae59-b7016ed13458",
   "metadata": {},
   "source": [
    "## Load Data"
   ]
  },
  {
   "cell_type": "code",
   "execution_count": 5,
   "id": "1bdddb0d-9e30-4147-938e-a8109e906f28",
   "metadata": {},
   "outputs": [],
   "source": [
    "class FERDataset(Dataset):\n",
    "    def __init__(self, dataframe, transform=None):\n",
    "        self.dataframe = dataframe\n",
    "        self.transform = transform\n",
    "\n",
    "        # Ekstrak label dan piksel\n",
    "        self.labels = self.dataframe['emotion'].values\n",
    "        self.pixels = self.dataframe['pixels'].apply(self.string_to_image).values\n",
    "\n",
    "    def string_to_image(self, pixels_string):\n",
    "        # Konversi string piksel menjadi numpy array dan reshape ke 48x48\n",
    "        pixels = np.array(pixels_string.split(), dtype='float32')\n",
    "        image = pixels.reshape(48, 48)\n",
    "        image = np.expand_dims(image, axis=-1)  # Tambahkan channel dimensi\n",
    "        return image\n",
    "\n",
    "    def __len__(self):\n",
    "        return len(self.dataframe)\n",
    "\n",
    "    def __getitem__(self, idx):\n",
    "        image = self.pixels[idx]\n",
    "        label = self.labels[idx]\n",
    "        \n",
    "        image = Image.fromarray(image.squeeze().astype('uint8'), mode='L')\n",
    "\n",
    "        # Jika ada transformasi, terapkan ke image\n",
    "        if self.transform:\n",
    "            image = self.transform(image)\n",
    "\n",
    "        return image, label"
   ]
  },
  {
   "cell_type": "code",
   "execution_count": 6,
   "id": "3fd05f22-3a1d-495e-ab37-5912522b0f9b",
   "metadata": {},
   "outputs": [
    {
     "name": "stdout",
     "output_type": "stream",
     "text": [
      "train transforms: Compose(\n",
      "    Grayscale(num_output_channels=3)\n",
      "    Resize(size=(224, 224), interpolation=bilinear, max_size=None, antialias=True)\n",
      "    RandomHorizontalFlip(p=0.5)\n",
      "    RandomRotation(degrees=[-10.0, 10.0], interpolation=nearest, expand=False, fill=0)\n",
      "    RandomResizedCrop(size=(224, 224), scale=(0.8, 1.0), ratio=(0.75, 1.3333), interpolation=bilinear, antialias=True)\n",
      "    ColorJitter(brightness=(0.8, 1.2), contrast=(0.8, 1.2), saturation=None, hue=None)\n",
      "    ToTensor()\n",
      "    Normalize(mean=[0.5, 0.5, 0.5], std=[0.5, 0.5, 0.5])\n",
      ")\n",
      "test transforms: Compose(\n",
      "    Grayscale(num_output_channels=3)\n",
      "    Resize(size=(224, 224), interpolation=bilinear, max_size=None, antialias=True)\n",
      "    ToTensor()\n",
      "    Normalize(mean=[0.5, 0.5, 0.5], std=[0.5, 0.5, 0.5])\n",
      ")\n"
     ]
    }
   ],
   "source": [
    "# Create image size\n",
    "IMG_SIZE = 224\n",
    "\n",
    "# Create transform pipeline manually\n",
    "train_transforms = transforms.Compose([\n",
    "    transforms.Grayscale(num_output_channels=3),\n",
    "    transforms.Resize((IMG_SIZE, IMG_SIZE)),\n",
    "    transforms.RandomHorizontalFlip(),  # Randomly flip horizontally\n",
    "    transforms.RandomRotation(10),     # Randomly rotate by 10 degrees\n",
    "    transforms.RandomResizedCrop(\n",
    "        size=IMG_SIZE,  # Output size\n",
    "        scale=(0.8, 1.0)  # Range of the random crop size relative to the input size\n",
    "    ),\n",
    "    transforms.ColorJitter(brightness=0.2, contrast=0.2),  # Adjust brightness\n",
    "    transforms.ToTensor(),\n",
    "    transforms.Normalize(mean=[0.5, 0.5, 0.5], std=[0.5, 0.5, 0.5]),\n",
    "]) \n",
    "\n",
    "# Create transform pipeline manually\n",
    "test_transforms = transforms.Compose([\n",
    "    transforms.Grayscale(num_output_channels=3),\n",
    "    transforms.Resize((IMG_SIZE, IMG_SIZE)),\n",
    "    transforms.ToTensor(),\n",
    "    transforms.Normalize(mean=[0.5, 0.5, 0.5], std=[0.5, 0.5, 0.5]),\n",
    "])\n",
    "\n",
    " \n",
    "print(f\"train transforms: {train_transforms}\")\n",
    "print(f\"test transforms: {test_transforms}\")"
   ]
  },
  {
   "cell_type": "code",
   "execution_count": 7,
   "id": "abb51cb0-db73-45d5-b795-d7bbe982676b",
   "metadata": {},
   "outputs": [
    {
     "name": "stdout",
     "output_type": "stream",
     "text": [
      "<class 'pandas.core.frame.DataFrame'>\n",
      "RangeIndex: 33325 entries, 0 to 33324\n",
      "Data columns (total 2 columns):\n",
      " #   Column   Non-Null Count  Dtype \n",
      "---  ------   --------------  ----- \n",
      " 0   pixels   33325 non-null  object\n",
      " 1   emotion  33325 non-null  int64 \n",
      "dtypes: int64(1), object(1)\n",
      "memory usage: 520.8+ KB\n"
     ]
    }
   ],
   "source": [
    "data = pd.read_csv('../Data/fer2013_clean.csv')\n",
    "data.info()"
   ]
  },
  {
   "cell_type": "code",
   "execution_count": 8,
   "id": "d525f87c-e3d3-4893-9194-b81b2a4b80d3",
   "metadata": {},
   "outputs": [
    {
     "name": "stdout",
     "output_type": "stream",
     "text": [
      "Train set size: 26992\n",
      "Validation set size: 3000\n",
      "Test set size: 3333\n"
     ]
    }
   ],
   "source": [
    "# Pertama, pisahkan data train (90%) dan validation (10%)\n",
    "data_train, data_test = train_test_split(data, test_size=0.1, stratify=data['emotion'], random_state=123)\n",
    "data_train, data_val = train_test_split(data_train, test_size=0.1, stratify=data_train['emotion'], random_state=123)\n",
    "\n",
    "# Cek ukuran masing-masing set untuk memastikan proporsi\n",
    "print(f'Train set size: {len(data_train)}')\n",
    "print(f'Validation set size: {len(data_val)}')\n",
    "print(f'Test set size: {len(data_test)}')"
   ]
  },
  {
   "cell_type": "code",
   "execution_count": 9,
   "id": "a112b864-08d8-42cb-a285-994f930f4259",
   "metadata": {},
   "outputs": [],
   "source": [
    "train_dataset = FERDataset(data_train, transform=train_transforms)\n",
    "val_dataset = FERDataset(data_val, transform=test_transforms)\n",
    "test_dataset = FERDataset(data_test, transform=test_transforms)\n",
    "class_names = ['Angry', 'Disgust', 'Fear', 'Happy', 'Sad', 'Surprise', 'Neutral']"
   ]
  },
  {
   "cell_type": "code",
   "execution_count": 10,
   "id": "4c40770a-6a57-48ca-a10f-8a6c3ff485f2",
   "metadata": {},
   "outputs": [
    {
     "name": "stdout",
     "output_type": "stream",
     "text": [
      "label2id: {'Angry': 0, 'Disgust': 1, 'Fear': 2, 'Happy': 3, 'Sad': 4, 'Surprise': 5, 'Neutral': 6}\n",
      "id2label: {0: 'Angry', 1: 'Disgust', 2: 'Fear', 3: 'Happy', 4: 'Sad', 5: 'Surprise', 6: 'Neutral'}\n"
     ]
    }
   ],
   "source": [
    "labels = ['Angry', 'Disgust', 'Fear', 'Happy', 'Sad', 'Surprise', 'Neutral']\n",
    "\n",
    "# Mapping dari label ke ID (label2id)\n",
    "label2id = {c: idx for idx, c in enumerate(labels)}\n",
    "\n",
    "# Mapping dari ID ke label (id2label)\n",
    "id2label = {idx: c for idx, c in enumerate(labels)}\n",
    "\n",
    "print(\"label2id:\", label2id)\n",
    "print(\"id2label:\", id2label)"
   ]
  },
  {
   "cell_type": "code",
   "execution_count": 11,
   "id": "27139b4d-f206-4e4f-82e6-6c26b311b7e9",
   "metadata": {},
   "outputs": [
    {
     "data": {
      "image/png": "[encoded data removed]",
      "text/plain": [
       "<Figure size 640x480 with 1 Axes>"
      ]
     },
     "metadata": {},
     "output_type": "display_data"
    }
   ],
   "source": [
    "# Define the mean and std used for normalization\n",
    "mean = [0.5, 0.5, 0.5]\n",
    "std = [0.5, 0.5, 0.5]\n",
    "\n",
    "# Denormalize function\n",
    "def denormalize(tensor, mean, std):\n",
    "    # Clone the tensor to avoid modifying the original\n",
    "    tensor = tensor.clone()\n",
    "    for t, m, s in zip(tensor, mean, std):\n",
    "        t.mul_(s).add_(m)  # Reverse the normalization: (t * s) + m\n",
    "    return tensor\n",
    "\n",
    "# Ambil satu contoh dari train_dataset\n",
    "image, label = train_dataset[0]  # Index pertama dataset\n",
    "\n",
    "# Denormalize the image\n",
    "image = denormalize(image, mean, std)\n",
    "\n",
    "# Jika transform menghasilkan tensor, konversi ke format numpy\n",
    "if isinstance(image, torch.Tensor):\n",
    "    image = image.permute(1, 2, 0).numpy()  # (C, H, W) -> (H, W, C)\n",
    "\n",
    "# Clip the values to the valid range [0, 1]\n",
    "image = image.clip(0, 1)\n",
    "\n",
    "# Plot gambar\n",
    "plt.imshow(image, cmap='gray')  # Gunakan cmap='gray' jika gambar grayscale\n",
    "plt.title(f\"Label: {label}\")\n",
    "plt.axis('off')  # Hilangkan sumbu\n",
    "plt.show()"
   ]
  },
  {
   "cell_type": "code",
   "execution_count": 12,
   "id": "6b8a0a00-f3ca-46e1-8080-faf95a66d2c9",
   "metadata": {},
   "outputs": [
    {
     "data": {
      "text/plain": [
       "torch.Size([3, 224, 224])"
      ]
     },
     "execution_count": 12,
     "metadata": {},
     "output_type": "execute_result"
    }
   ],
   "source": [
    "image, label = train_dataset[0]\n",
    "image.shape"
   ]
  },
  {
   "cell_type": "markdown",
   "id": "25f09b62-4109-49eb-ae60-3ce50168f049",
   "metadata": {},
   "source": [
    "## Build Vision Transformer (ViT) Model"
   ]
  },
  {
   "cell_type": "code",
   "execution_count": 13,
   "id": "5b7f5c19-e39f-478b-904a-4070f72d2ccf",
   "metadata": {},
   "outputs": [],
   "source": [
    "from torch import nn"
   ]
  },
  {
   "cell_type": "code",
   "execution_count": 14,
   "id": "abc468a7-138e-48ca-a495-a91e0988bd0b",
   "metadata": {},
   "outputs": [],
   "source": [
    "class MultiheadSelfAttentionBlock(nn.Module):\n",
    "    def __init__(self,\n",
    "                 embedding_dim:int=768,\n",
    "                 num_heads:int=12,\n",
    "                 attn_dropout:float=0.):\n",
    "        super().__init__()\n",
    "        self.multihead_attn = nn.MultiheadAttention(embed_dim=embedding_dim,\n",
    "                                                    num_heads=num_heads,\n",
    "                                                    dropout=attn_dropout,\n",
    "                                                    batch_first=True)\n",
    "    def forward(self, x):\n",
    "        attn_output, _ = self.multihead_attn(query=x,\n",
    "                                             key=x,\n",
    "                                             value=x,\n",
    "                                             need_weights=False)\n",
    "        return attn_output"
   ]
  },
  {
   "cell_type": "code",
   "execution_count": 15,
   "id": "76cdbef5-da91-45c7-8847-9de18bcd77f5",
   "metadata": {},
   "outputs": [],
   "source": [
    "class MLPBlock(nn.Module):\n",
    "    def __init__(self,\n",
    "                 embedding_dim:int=768,\n",
    "                 mlp_size:int=3072,\n",
    "                 dropout:float=0.):\n",
    "        super().__init__()\n",
    "        self.mlp = nn.Sequential(\n",
    "            nn.Linear(in_features=embedding_dim,\n",
    "                      out_features=mlp_size),\n",
    "            nn.GELU(),\n",
    "            nn.Dropout(p=dropout),\n",
    "            nn.Linear(in_features=mlp_size,\n",
    "                      out_features=embedding_dim),\n",
    "            nn.Dropout(p=dropout)\n",
    "        )\n",
    "    def forward(self, x):\n",
    "        x = self.mlp(x)\n",
    "        return x"
   ]
  },
  {
   "cell_type": "code",
   "execution_count": 16,
   "id": "cee8d7b1-8603-4ade-8bed-32444a8c942f",
   "metadata": {},
   "outputs": [],
   "source": [
    "class TransformerEncoderBlock(nn.Module):\n",
    "    def __init__(self,\n",
    "                 embedding_dim:int=768,\n",
    "                 num_heads:int=12,\n",
    "                 mlp_size:int=3072,\n",
    "                 mlp_dropout:float=0.,\n",
    "                 attn_dropout:float=0.):\n",
    "        super().__init__()\n",
    "        self.layer_norm1 = nn.LayerNorm(normalized_shape=embedding_dim, eps=1e-6)\n",
    "        \n",
    "        self.msa_block = MultiheadSelfAttentionBlock(embedding_dim=embedding_dim,\n",
    "                                                     num_heads=num_heads,\n",
    "                                                     attn_dropout=attn_dropout)\n",
    "        \n",
    "        self.layer_norm2 = nn.LayerNorm(normalized_shape=embedding_dim, eps=1e-6)\n",
    "        \n",
    "        self.mlp_block =  MLPBlock(embedding_dim=embedding_dim,\n",
    "                                   mlp_size=mlp_size,\n",
    "                                   dropout=mlp_dropout)\n",
    "    def forward(self, x):\n",
    "        x = self.msa_block(self.layer_norm1(x)) + x \n",
    "        \n",
    "        x = self.mlp_block(self.layer_norm2(x)) + x \n",
    "        \n",
    "        return x"
   ]
  },
  {
   "cell_type": "code",
   "execution_count": 17,
   "id": "dfbe073e-b7c5-44c3-a123-d89a2152a467",
   "metadata": {},
   "outputs": [],
   "source": [
    "class ViT(nn.Module):\n",
    "    def __init__(self,\n",
    "                 img_size:int=224, # Training resolution from Table 3 in ViT paper\n",
    "                 in_channels:int=3, # Number of channels in input image\n",
    "                 patch_size:int=16, # Patch size\n",
    "                 num_transformer_layers:int=12, # Layers from Table 1 for ViT-Base\n",
    "                 embedding_dim:int=768, # Hidden size D from Table 1 for ViT-Base\n",
    "                 mlp_size:int=3072, # MLP size from Table 1 for ViT-Base\n",
    "                 num_heads:int=12, # Heads from Table 1 for ViT-Base\n",
    "                 attn_dropout:float=0., # Dropout for attention projection\n",
    "                 mlp_dropout:float=0., # Dropout for dense/MLP layers \n",
    "                 embedding_dropout:float=0., # Dropout for patch and position embeddings\n",
    "                 num_classes:int=1000): # Default for ImageNet but can customize this\n",
    "        super().__init__()\n",
    "         \n",
    "        assert img_size % 32 == 0, f\"Image size must be divisible by 32, image size: {img_size}\"\n",
    "        \n",
    "        resnet = resnet50(weights=ResNet50_Weights.IMAGENET1K_V2)\n",
    "\n",
    "        # Remove the final fully connected layer and pooling\n",
    "        self.backbone = nn.Sequential(*list(resnet.children())[:-2])\n",
    "        \n",
    "        # ResNet50's last conv layer outputs 2048 channels\n",
    "        self.projection = nn.Conv2d(in_channels=2048,  \n",
    "                                    out_channels=embedding_dim,\n",
    "                                    kernel_size=1)\n",
    "                 \n",
    "        self.class_embedding = nn.Parameter(data=torch.randn(1, 1, embedding_dim),\n",
    "                                            requires_grad=True)\n",
    "\n",
    "        self.num_patches = (img_size // 32) ** 2  # Resnet reduces spatial size by 32x\n",
    "        \n",
    "        self.position_embedding = nn.Parameter(data=torch.randn(1, self.num_patches+1, embedding_dim),\n",
    "                                               requires_grad=True)\n",
    "                \n",
    "        self.embedding_dropout = nn.Dropout(p=embedding_dropout)\n",
    "        \n",
    "        self.transformer_encoder = nn.Sequential(*[TransformerEncoderBlock(embedding_dim=embedding_dim,\n",
    "                                                                            num_heads=num_heads,\n",
    "                                                                            mlp_size=mlp_size,\n",
    "                                                                            mlp_dropout=mlp_dropout) for _ in range(num_transformer_layers)])\n",
    "       \n",
    "        self.classifier = nn.Sequential(\n",
    "            nn.LayerNorm(normalized_shape=embedding_dim),\n",
    "            nn.Linear(in_features=embedding_dim, \n",
    "                      out_features=num_classes)\n",
    "        )\n",
    "    \n",
    "    def forward(self, pixel_values, labels=None):\n",
    "        \n",
    "        batch_size = pixel_values.shape[0]\n",
    "\n",
    "        # Extract features using MobileNet\n",
    "        features = self.backbone(pixel_values)  # Output shape: (batch_size, 2048, H', W')\n",
    "        features = self.projection(features)  # Project to embedding_dim: (batch_size, embedding_dim, H', W')\n",
    "\n",
    "        # Flatten the feature maps into a sequence of tokens\n",
    "        features = features.flatten(2).transpose(1, 2)  # Shape: (batch_size, num_patches, embedding_dim)\n",
    "        \n",
    "        class_token = self.class_embedding.expand(batch_size, -1, -1)\n",
    "\n",
    "        x = torch.cat((class_token, features), dim=1)  # Shape: (batch_size, num_patches + 1, embedding_dim)\n",
    "\n",
    "        x = x + self.position_embedding\n",
    "\n",
    "        x = self.embedding_dropout(x)\n",
    "\n",
    "        x = self.transformer_encoder(x)\n",
    "\n",
    "        logits = self.classifier(x[:, 0])\n",
    "\n",
    "        # Jika labels diberikan, hitung loss\n",
    "        loss = None\n",
    "        if labels is not None:\n",
    "            loss_fn = nn.CrossEntropyLoss()\n",
    "            loss = loss_fn(logits, labels)\n",
    "    \n",
    "        return (loss, logits) if loss is not None else logits"
   ]
  },
  {
   "cell_type": "markdown",
   "id": "cccbb722-51b9-46af-90e2-4b80265eb878",
   "metadata": {},
   "source": [
    "## Model Training"
   ]
  },
  {
   "cell_type": "code",
   "execution_count": 18,
   "id": "64b28361-dae6-43fa-b846-69caa47259a3",
   "metadata": {},
   "outputs": [],
   "source": [
    "model = ViT(num_classes=len(class_names), in_channels=3, patch_size=32, num_heads=8, embedding_dim=512, num_transformer_layers=12)"
   ]
  },
  {
   "cell_type": "code",
   "execution_count": 19,
   "id": "dc2344b3-32fa-4f94-9c56-13b3ac96ee3d",
   "metadata": {},
   "outputs": [
    {
     "data": {
      "text/plain": [
       "========================================================================================================================\n",
       "Layer (type (var_name))                                      Input Shape     Output Shape    Param #         Trainable\n",
       "========================================================================================================================\n",
       "ViT (ViT)                                                    [1, 3, 224, 224] [1, 7]          26,112          True\n",
       "├─Sequential (backbone)                                      [1, 3, 224, 224] [1, 2048, 7, 7] --              True\n",
       "│    └─Conv2d (0)                                            [1, 3, 224, 224] [1, 64, 112, 112] 9,408           True\n",
       "│    └─BatchNorm2d (1)                                       [1, 64, 112, 112] [1, 64, 112, 112] 128             True\n",
       "│    └─ReLU (2)                                              [1, 64, 112, 112] [1, 64, 112, 112] --              --\n",
       "│    └─MaxPool2d (3)                                         [1, 64, 112, 112] [1, 64, 56, 56] --              --\n",
       "│    └─Sequential (4)                                        [1, 64, 56, 56] [1, 256, 56, 56] --              True\n",
       "│    │    └─Bottleneck (0)                                   [1, 64, 56, 56] [1, 256, 56, 56] 75,008          True\n",
       "│    │    └─Bottleneck (1)                                   [1, 256, 56, 56] [1, 256, 56, 56] 70,400          True\n",
       "│    │    └─Bottleneck (2)                                   [1, 256, 56, 56] [1, 256, 56, 56] 70,400          True\n",
       "│    └─Sequential (5)                                        [1, 256, 56, 56] [1, 512, 28, 28] --              True\n",
       "│    │    └─Bottleneck (0)                                   [1, 256, 56, 56] [1, 512, 28, 28] 379,392         True\n",
       "│    │    └─Bottleneck (1)                                   [1, 512, 28, 28] [1, 512, 28, 28] 280,064         True\n",
       "│    │    └─Bottleneck (2)                                   [1, 512, 28, 28] [1, 512, 28, 28] 280,064         True\n",
       "│    │    └─Bottleneck (3)                                   [1, 512, 28, 28] [1, 512, 28, 28] 280,064         True\n",
       "│    └─Sequential (6)                                        [1, 512, 28, 28] [1, 1024, 14, 14] --              True\n",
       "│    │    └─Bottleneck (0)                                   [1, 512, 28, 28] [1, 1024, 14, 14] 1,512,448       True\n",
       "│    │    └─Bottleneck (1)                                   [1, 1024, 14, 14] [1, 1024, 14, 14] 1,117,184       True\n",
       "│    │    └─Bottleneck (2)                                   [1, 1024, 14, 14] [1, 1024, 14, 14] 1,117,184       True\n",
       "│    │    └─Bottleneck (3)                                   [1, 1024, 14, 14] [1, 1024, 14, 14] 1,117,184       True\n",
       "│    │    └─Bottleneck (4)                                   [1, 1024, 14, 14] [1, 1024, 14, 14] 1,117,184       True\n",
       "│    │    └─Bottleneck (5)                                   [1, 1024, 14, 14] [1, 1024, 14, 14] 1,117,184       True\n",
       "│    └─Sequential (7)                                        [1, 1024, 14, 14] [1, 2048, 7, 7] --              True\n",
       "│    │    └─Bottleneck (0)                                   [1, 1024, 14, 14] [1, 2048, 7, 7] 6,039,552       True\n",
       "│    │    └─Bottleneck (1)                                   [1, 2048, 7, 7] [1, 2048, 7, 7] 4,462,592       True\n",
       "│    │    └─Bottleneck (2)                                   [1, 2048, 7, 7] [1, 2048, 7, 7] 4,462,592       True\n",
       "├─Conv2d (projection)                                        [1, 2048, 7, 7] [1, 512, 7, 7]  1,049,088       True\n",
       "├─Dropout (embedding_dropout)                                [1, 50, 512]    [1, 50, 512]    --              --\n",
       "├─Sequential (transformer_encoder)                           [1, 50, 512]    [1, 50, 512]    --              True\n",
       "│    └─TransformerEncoderBlock (0)                           [1, 50, 512]    [1, 50, 512]    --              True\n",
       "│    │    └─LayerNorm (layer_norm1)                          [1, 50, 512]    [1, 50, 512]    1,024           True\n",
       "│    │    └─MultiheadSelfAttentionBlock (msa_block)          [1, 50, 512]    [1, 50, 512]    1,050,624       True\n",
       "│    │    └─LayerNorm (layer_norm2)                          [1, 50, 512]    [1, 50, 512]    1,024           True\n",
       "│    │    └─MLPBlock (mlp_block)                             [1, 50, 512]    [1, 50, 512]    3,149,312       True\n",
       "│    └─TransformerEncoderBlock (1)                           [1, 50, 512]    [1, 50, 512]    --              True\n",
       "│    │    └─LayerNorm (layer_norm1)                          [1, 50, 512]    [1, 50, 512]    1,024           True\n",
       "│    │    └─MultiheadSelfAttentionBlock (msa_block)          [1, 50, 512]    [1, 50, 512]    1,050,624       True\n",
       "│    │    └─LayerNorm (layer_norm2)                          [1, 50, 512]    [1, 50, 512]    1,024           True\n",
       "│    │    └─MLPBlock (mlp_block)                             [1, 50, 512]    [1, 50, 512]    3,149,312       True\n",
       "│    └─TransformerEncoderBlock (2)                           [1, 50, 512]    [1, 50, 512]    --              True\n",
       "│    │    └─LayerNorm (layer_norm1)                          [1, 50, 512]    [1, 50, 512]    1,024           True\n",
       "│    │    └─MultiheadSelfAttentionBlock (msa_block)          [1, 50, 512]    [1, 50, 512]    1,050,624       True\n",
       "│    │    └─LayerNorm (layer_norm2)                          [1, 50, 512]    [1, 50, 512]    1,024           True\n",
       "│    │    └─MLPBlock (mlp_block)                             [1, 50, 512]    [1, 50, 512]    3,149,312       True\n",
       "│    └─TransformerEncoderBlock (3)                           [1, 50, 512]    [1, 50, 512]    --              True\n",
       "│    │    └─LayerNorm (layer_norm1)                          [1, 50, 512]    [1, 50, 512]    1,024           True\n",
       "│    │    └─MultiheadSelfAttentionBlock (msa_block)          [1, 50, 512]    [1, 50, 512]    1,050,624       True\n",
       "│    │    └─LayerNorm (layer_norm2)                          [1, 50, 512]    [1, 50, 512]    1,024           True\n",
       "│    │    └─MLPBlock (mlp_block)                             [1, 50, 512]    [1, 50, 512]    3,149,312       True\n",
       "│    └─TransformerEncoderBlock (4)                           [1, 50, 512]    [1, 50, 512]    --              True\n",
       "│    │    └─LayerNorm (layer_norm1)                          [1, 50, 512]    [1, 50, 512]    1,024           True\n",
       "│    │    └─MultiheadSelfAttentionBlock (msa_block)          [1, 50, 512]    [1, 50, 512]    1,050,624       True\n",
       "│    │    └─LayerNorm (layer_norm2)                          [1, 50, 512]    [1, 50, 512]    1,024           True\n",
       "│    │    └─MLPBlock (mlp_block)                             [1, 50, 512]    [1, 50, 512]    3,149,312       True\n",
       "│    └─TransformerEncoderBlock (5)                           [1, 50, 512]    [1, 50, 512]    --              True\n",
       "│    │    └─LayerNorm (layer_norm1)                          [1, 50, 512]    [1, 50, 512]    1,024           True\n",
       "│    │    └─MultiheadSelfAttentionBlock (msa_block)          [1, 50, 512]    [1, 50, 512]    1,050,624       True\n",
       "│    │    └─LayerNorm (layer_norm2)                          [1, 50, 512]    [1, 50, 512]    1,024           True\n",
       "│    │    └─MLPBlock (mlp_block)                             [1, 50, 512]    [1, 50, 512]    3,149,312       True\n",
       "│    └─TransformerEncoderBlock (6)                           [1, 50, 512]    [1, 50, 512]    --              True\n",
       "│    │    └─LayerNorm (layer_norm1)                          [1, 50, 512]    [1, 50, 512]    1,024           True\n",
       "│    │    └─MultiheadSelfAttentionBlock (msa_block)          [1, 50, 512]    [1, 50, 512]    1,050,624       True\n",
       "│    │    └─LayerNorm (layer_norm2)                          [1, 50, 512]    [1, 50, 512]    1,024           True\n",
       "│    │    └─MLPBlock (mlp_block)                             [1, 50, 512]    [1, 50, 512]    3,149,312       True\n",
       "│    └─TransformerEncoderBlock (7)                           [1, 50, 512]    [1, 50, 512]    --              True\n",
       "│    │    └─LayerNorm (layer_norm1)                          [1, 50, 512]    [1, 50, 512]    1,024           True\n",
       "│    │    └─MultiheadSelfAttentionBlock (msa_block)          [1, 50, 512]    [1, 50, 512]    1,050,624       True\n",
       "│    │    └─LayerNorm (layer_norm2)                          [1, 50, 512]    [1, 50, 512]    1,024           True\n",
       "│    │    └─MLPBlock (mlp_block)                             [1, 50, 512]    [1, 50, 512]    3,149,312       True\n",
       "│    └─TransformerEncoderBlock (8)                           [1, 50, 512]    [1, 50, 512]    --              True\n",
       "│    │    └─LayerNorm (layer_norm1)                          [1, 50, 512]    [1, 50, 512]    1,024           True\n",
       "│    │    └─MultiheadSelfAttentionBlock (msa_block)          [1, 50, 512]    [1, 50, 512]    1,050,624       True\n",
       "│    │    └─LayerNorm (layer_norm2)                          [1, 50, 512]    [1, 50, 512]    1,024           True\n",
       "│    │    └─MLPBlock (mlp_block)                             [1, 50, 512]    [1, 50, 512]    3,149,312       True\n",
       "│    └─TransformerEncoderBlock (9)                           [1, 50, 512]    [1, 50, 512]    --              True\n",
       "│    │    └─LayerNorm (layer_norm1)                          [1, 50, 512]    [1, 50, 512]    1,024           True\n",
       "│    │    └─MultiheadSelfAttentionBlock (msa_block)          [1, 50, 512]    [1, 50, 512]    1,050,624       True\n",
       "│    │    └─LayerNorm (layer_norm2)                          [1, 50, 512]    [1, 50, 512]    1,024           True\n",
       "│    │    └─MLPBlock (mlp_block)                             [1, 50, 512]    [1, 50, 512]    3,149,312       True\n",
       "│    └─TransformerEncoderBlock (10)                          [1, 50, 512]    [1, 50, 512]    --              True\n",
       "│    │    └─LayerNorm (layer_norm1)                          [1, 50, 512]    [1, 50, 512]    1,024           True\n",
       "│    │    └─MultiheadSelfAttentionBlock (msa_block)          [1, 50, 512]    [1, 50, 512]    1,050,624       True\n",
       "│    │    └─LayerNorm (layer_norm2)                          [1, 50, 512]    [1, 50, 512]    1,024           True\n",
       "│    │    └─MLPBlock (mlp_block)                             [1, 50, 512]    [1, 50, 512]    3,149,312       True\n",
       "│    └─TransformerEncoderBlock (11)                          [1, 50, 512]    [1, 50, 512]    --              True\n",
       "│    │    └─LayerNorm (layer_norm1)                          [1, 50, 512]    [1, 50, 512]    1,024           True\n",
       "│    │    └─MultiheadSelfAttentionBlock (msa_block)          [1, 50, 512]    [1, 50, 512]    1,050,624       True\n",
       "│    │    └─LayerNorm (layer_norm2)                          [1, 50, 512]    [1, 50, 512]    1,024           True\n",
       "│    │    └─MLPBlock (mlp_block)                             [1, 50, 512]    [1, 50, 512]    3,149,312       True\n",
       "├─Sequential (classifier)                                    [1, 512]        [1, 7]          --              True\n",
       "│    └─LayerNorm (0)                                         [1, 512]        [1, 512]        1,024           True\n",
       "│    └─Linear (1)                                            [1, 512]        [1, 7]          3,591           True\n",
       "========================================================================================================================\n",
       "Total params: 75,011,655\n",
       "Trainable params: 75,011,655\n",
       "Non-trainable params: 0\n",
       "Total mult-adds (Units.GIGABYTES): 4.18\n",
       "========================================================================================================================\n",
       "Input size (MB): 0.60\n",
       "Forward/backward pass size (MB): 200.15\n",
       "Params size (MB): 249.51\n",
       "Estimated Total Size (MB): 450.26\n",
       "========================================================================================================================"
      ]
     },
     "execution_count": 19,
     "metadata": {},
     "output_type": "execute_result"
    }
   ],
   "source": [
    "from torchinfo import summary\n",
    "\n",
    "summary(\n",
    "    model=model,\n",
    "    input_size=(1, 3, 224, 224),  # (batch_size, in_channels, img_size, img_size)\n",
    "    col_names=[\"input_size\", \"output_size\", \"num_params\", \"trainable\"],\n",
    "    col_width=15,\n",
    "    row_settings=[\"var_names\"],\n",
    ")"
   ]
  },
  {
   "cell_type": "code",
   "execution_count": 20,
   "id": "36ece644-8389-406b-b8e9-802ac5a1f946",
   "metadata": {},
   "outputs": [
    {
     "name": "stderr",
     "output_type": "stream",
     "text": [
      "Epoch 1/1000: 100%|██████████| 422/422 [03:35<00:00,  1.96it/s, Loss=1.4917, Acc=0.4076]\n"
     ]
    },
    {
     "name": "stdout",
     "output_type": "stream",
     "text": [
      "Epoch 1/1000: Train Loss: 1.4917, Train Acc: 0.4076\n"
     ]
    },
    {
     "name": "stderr",
     "output_type": "stream",
     "text": [
      "Epoch 1/1000 (Validation): 100%|██████████| 47/47 [00:07<00:00,  6.18it/s, Loss=1.2937, Acc=0.4957]\n"
     ]
    },
    {
     "name": "stdout",
     "output_type": "stream",
     "text": [
      "Epoch 1/1000: Val Loss: 1.2937, Val Acc: 0.4957, Val F1: 0.4597\n",
      "Current Learning Rate: 3e-05\n",
      "Best model saved at ../Hasil Eksperimen/coba2_best.pt with val accuracy: 0.4957\n"
     ]
    },
    {
     "name": "stderr",
     "output_type": "stream",
     "text": [
      "Epoch 2/1000: 100%|██████████| 422/422 [03:36<00:00,  1.95it/s, Loss=1.1732, Acc=0.5483]\n"
     ]
    },
    {
     "name": "stdout",
     "output_type": "stream",
     "text": [
      "Epoch 2/1000: Train Loss: 1.1732, Train Acc: 0.5483\n"
     ]
    },
    {
     "name": "stderr",
     "output_type": "stream",
     "text": [
      "Epoch 2/1000 (Validation): 100%|██████████| 47/47 [00:07<00:00,  6.28it/s, Loss=1.1290, Acc=0.5627]\n"
     ]
    },
    {
     "name": "stdout",
     "output_type": "stream",
     "text": [
      "Epoch 2/1000: Val Loss: 1.1290, Val Acc: 0.5627, Val F1: 0.5267\n",
      "Current Learning Rate: 3e-05\n",
      "Best model saved at ../Hasil Eksperimen/coba2_best.pt with val accuracy: 0.5627\n"
     ]
    },
    {
     "name": "stderr",
     "output_type": "stream",
     "text": [
      "Epoch 3/1000: 100%|██████████| 422/422 [03:33<00:00,  1.98it/s, Loss=1.0521, Acc=0.6040]\n"
     ]
    },
    {
     "name": "stdout",
     "output_type": "stream",
     "text": [
      "Epoch 3/1000: Train Loss: 1.0521, Train Acc: 0.6040\n"
     ]
    },
    {
     "name": "stderr",
     "output_type": "stream",
     "text": [
      "Epoch 3/1000 (Validation): 100%|██████████| 47/47 [00:07<00:00,  6.31it/s, Loss=1.0406, Acc=0.6007]\n"
     ]
    },
    {
     "name": "stdout",
     "output_type": "stream",
     "text": [
      "Epoch 3/1000: Val Loss: 1.0406, Val Acc: 0.6007, Val F1: 0.5909\n",
      "Current Learning Rate: 3e-05\n",
      "Best model saved at ../Hasil Eksperimen/coba2_best.pt with val accuracy: 0.6007\n"
     ]
    },
    {
     "name": "stderr",
     "output_type": "stream",
     "text": [
      "Epoch 4/1000: 100%|██████████| 422/422 [03:33<00:00,  1.98it/s, Loss=0.9663, Acc=0.6352]\n"
     ]
    },
    {
     "name": "stdout",
     "output_type": "stream",
     "text": [
      "Epoch 4/1000: Train Loss: 0.9663, Train Acc: 0.6352\n"
     ]
    },
    {
     "name": "stderr",
     "output_type": "stream",
     "text": [
      "Epoch 4/1000 (Validation): 100%|██████████| 47/47 [00:07<00:00,  6.30it/s, Loss=1.0091, Acc=0.6197]\n"
     ]
    },
    {
     "name": "stdout",
     "output_type": "stream",
     "text": [
      "Epoch 4/1000: Val Loss: 1.0091, Val Acc: 0.6197, Val F1: 0.6067\n",
      "Current Learning Rate: 3e-05\n",
      "Best model saved at ../Hasil Eksperimen/coba2_best.pt with val accuracy: 0.6197\n"
     ]
    },
    {
     "name": "stderr",
     "output_type": "stream",
     "text": [
      "Epoch 5/1000: 100%|██████████| 422/422 [03:34<00:00,  1.96it/s, Loss=0.9021, Acc=0.6609]\n"
     ]
    },
    {
     "name": "stdout",
     "output_type": "stream",
     "text": [
      "Epoch 5/1000: Train Loss: 0.9021, Train Acc: 0.6609\n"
     ]
    },
    {
     "name": "stderr",
     "output_type": "stream",
     "text": [
      "Epoch 5/1000 (Validation): 100%|██████████| 47/47 [00:07<00:00,  6.29it/s, Loss=0.9764, Acc=0.6373]\n"
     ]
    },
    {
     "name": "stdout",
     "output_type": "stream",
     "text": [
      "Epoch 5/1000: Val Loss: 0.9764, Val Acc: 0.6373, Val F1: 0.6270\n",
      "Current Learning Rate: 3e-05\n",
      "Best model saved at ../Hasil Eksperimen/coba2_best.pt with val accuracy: 0.6373\n"
     ]
    },
    {
     "name": "stderr",
     "output_type": "stream",
     "text": [
      "Epoch 6/1000: 100%|██████████| 422/422 [03:34<00:00,  1.97it/s, Loss=0.8451, Acc=0.6859]\n"
     ]
    },
    {
     "name": "stdout",
     "output_type": "stream",
     "text": [
      "Epoch 6/1000: Train Loss: 0.8451, Train Acc: 0.6859\n"
     ]
    },
    {
     "name": "stderr",
     "output_type": "stream",
     "text": [
      "Epoch 6/1000 (Validation): 100%|██████████| 47/47 [00:07<00:00,  6.29it/s, Loss=0.9754, Acc=0.6473]\n"
     ]
    },
    {
     "name": "stdout",
     "output_type": "stream",
     "text": [
      "Epoch 6/1000: Val Loss: 0.9754, Val Acc: 0.6473, Val F1: 0.6446\n",
      "Current Learning Rate: 3e-05\n",
      "Best model saved at ../Hasil Eksperimen/coba2_best.pt with val accuracy: 0.6473\n"
     ]
    },
    {
     "name": "stderr",
     "output_type": "stream",
     "text": [
      "Epoch 7/1000: 100%|██████████| 422/422 [03:38<00:00,  1.93it/s, Loss=0.7804, Acc=0.7129]\n"
     ]
    },
    {
     "name": "stdout",
     "output_type": "stream",
     "text": [
      "Epoch 7/1000: Train Loss: 0.7804, Train Acc: 0.7129\n"
     ]
    },
    {
     "name": "stderr",
     "output_type": "stream",
     "text": [
      "Epoch 7/1000 (Validation): 100%|██████████| 47/47 [00:07<00:00,  6.26it/s, Loss=0.9708, Acc=0.6483]\n"
     ]
    },
    {
     "name": "stdout",
     "output_type": "stream",
     "text": [
      "Epoch 7/1000: Val Loss: 0.9708, Val Acc: 0.6483, Val F1: 0.6431\n",
      "Current Learning Rate: 3e-05\n",
      "Best model saved at ../Hasil Eksperimen/coba2_best.pt with val accuracy: 0.6483\n"
     ]
    },
    {
     "name": "stderr",
     "output_type": "stream",
     "text": [
      "Epoch 8/1000: 100%|██████████| 422/422 [03:33<00:00,  1.97it/s, Loss=0.7302, Acc=0.7326]\n"
     ]
    },
    {
     "name": "stdout",
     "output_type": "stream",
     "text": [
      "Epoch 8/1000: Train Loss: 0.7302, Train Acc: 0.7326\n"
     ]
    },
    {
     "name": "stderr",
     "output_type": "stream",
     "text": [
      "Epoch 8/1000 (Validation): 100%|██████████| 47/47 [00:07<00:00,  6.29it/s, Loss=0.9867, Acc=0.6517]\n"
     ]
    },
    {
     "name": "stdout",
     "output_type": "stream",
     "text": [
      "Epoch 8/1000: Val Loss: 0.9867, Val Acc: 0.6517, Val F1: 0.6517\n",
      "Current Learning Rate: 3e-05\n",
      "Best model saved at ../Hasil Eksperimen/coba2_best.pt with val accuracy: 0.6517\n"
     ]
    },
    {
     "name": "stderr",
     "output_type": "stream",
     "text": [
      "Epoch 9/1000: 100%|██████████| 422/422 [03:35<00:00,  1.96it/s, Loss=0.6709, Acc=0.7534]\n"
     ]
    },
    {
     "name": "stdout",
     "output_type": "stream",
     "text": [
      "Epoch 9/1000: Train Loss: 0.6709, Train Acc: 0.7534\n"
     ]
    },
    {
     "name": "stderr",
     "output_type": "stream",
     "text": [
      "Epoch 9/1000 (Validation): 100%|██████████| 47/47 [00:07<00:00,  6.24it/s, Loss=1.0315, Acc=0.6450]\n"
     ]
    },
    {
     "name": "stdout",
     "output_type": "stream",
     "text": [
      "Epoch 9/1000: Val Loss: 1.0315, Val Acc: 0.6450, Val F1: 0.6402\n",
      "Current Learning Rate: 3e-05\n"
     ]
    },
    {
     "name": "stderr",
     "output_type": "stream",
     "text": [
      "Epoch 10/1000: 100%|██████████| 422/422 [03:40<00:00,  1.92it/s, Loss=0.6221, Acc=0.7739]\n"
     ]
    },
    {
     "name": "stdout",
     "output_type": "stream",
     "text": [
      "Epoch 10/1000: Train Loss: 0.6221, Train Acc: 0.7739\n"
     ]
    },
    {
     "name": "stderr",
     "output_type": "stream",
     "text": [
      "Epoch 10/1000 (Validation): 100%|██████████| 47/47 [00:08<00:00,  5.78it/s, Loss=1.0077, Acc=0.6523]\n"
     ]
    },
    {
     "name": "stdout",
     "output_type": "stream",
     "text": [
      "Epoch 10/1000: Val Loss: 1.0077, Val Acc: 0.6523, Val F1: 0.6518\n",
      "Current Learning Rate: 3e-05\n",
      "Best model saved at ../Hasil Eksperimen/coba2_best.pt with val accuracy: 0.6523\n"
     ]
    },
    {
     "name": "stderr",
     "output_type": "stream",
     "text": [
      "Epoch 11/1000: 100%|██████████| 422/422 [03:36<00:00,  1.95it/s, Loss=0.5674, Acc=0.7919]\n"
     ]
    },
    {
     "name": "stdout",
     "output_type": "stream",
     "text": [
      "Epoch 11/1000: Train Loss: 0.5674, Train Acc: 0.7919\n"
     ]
    },
    {
     "name": "stderr",
     "output_type": "stream",
     "text": [
      "Epoch 11/1000 (Validation): 100%|██████████| 47/47 [00:07<00:00,  5.96it/s, Loss=1.0200, Acc=0.6600]\n"
     ]
    },
    {
     "name": "stdout",
     "output_type": "stream",
     "text": [
      "Epoch 11/1000: Val Loss: 1.0200, Val Acc: 0.6600, Val F1: 0.6577\n",
      "Current Learning Rate: 3e-05\n",
      "Best model saved at ../Hasil Eksperimen/coba2_best.pt with val accuracy: 0.6600\n"
     ]
    },
    {
     "name": "stderr",
     "output_type": "stream",
     "text": [
      "Epoch 12/1000: 100%|██████████| 422/422 [03:34<00:00,  1.97it/s, Loss=0.5208, Acc=0.8098]\n"
     ]
    },
    {
     "name": "stdout",
     "output_type": "stream",
     "text": [
      "Epoch 12/1000: Train Loss: 0.5208, Train Acc: 0.8098\n"
     ]
    },
    {
     "name": "stderr",
     "output_type": "stream",
     "text": [
      "Epoch 12/1000 (Validation): 100%|██████████| 47/47 [00:07<00:00,  6.26it/s, Loss=1.0859, Acc=0.6573]\n"
     ]
    },
    {
     "name": "stdout",
     "output_type": "stream",
     "text": [
      "Epoch 12/1000: Val Loss: 1.0859, Val Acc: 0.6573, Val F1: 0.6495\n",
      "Current Learning Rate: 3e-05\n"
     ]
    },
    {
     "name": "stderr",
     "output_type": "stream",
     "text": [
      "Epoch 13/1000: 100%|██████████| 422/422 [03:36<00:00,  1.95it/s, Loss=0.4765, Acc=0.8258]\n"
     ]
    },
    {
     "name": "stdout",
     "output_type": "stream",
     "text": [
      "Epoch 13/1000: Train Loss: 0.4765, Train Acc: 0.8258\n"
     ]
    },
    {
     "name": "stderr",
     "output_type": "stream",
     "text": [
      "Epoch 13/1000 (Validation): 100%|██████████| 47/47 [00:07<00:00,  6.23it/s, Loss=1.1520, Acc=0.6440]\n"
     ]
    },
    {
     "name": "stdout",
     "output_type": "stream",
     "text": [
      "Epoch 13/1000: Val Loss: 1.1520, Val Acc: 0.6440, Val F1: 0.6479\n",
      "Current Learning Rate: 3e-06\n"
     ]
    },
    {
     "name": "stderr",
     "output_type": "stream",
     "text": [
      "Epoch 14/1000: 100%|██████████| 422/422 [03:34<00:00,  1.97it/s, Loss=0.3739, Acc=0.8667]\n"
     ]
    },
    {
     "name": "stdout",
     "output_type": "stream",
     "text": [
      "Epoch 14/1000: Train Loss: 0.3739, Train Acc: 0.8667\n"
     ]
    },
    {
     "name": "stderr",
     "output_type": "stream",
     "text": [
      "Epoch 14/1000 (Validation): 100%|██████████| 47/47 [00:07<00:00,  6.28it/s, Loss=1.1545, Acc=0.6620]\n"
     ]
    },
    {
     "name": "stdout",
     "output_type": "stream",
     "text": [
      "Epoch 14/1000: Val Loss: 1.1545, Val Acc: 0.6620, Val F1: 0.6607\n",
      "Current Learning Rate: 3e-06\n",
      "Best model saved at ../Hasil Eksperimen/coba2_best.pt with val accuracy: 0.6620\n"
     ]
    },
    {
     "name": "stderr",
     "output_type": "stream",
     "text": [
      "Epoch 15/1000: 100%|██████████| 422/422 [03:34<00:00,  1.97it/s, Loss=0.3391, Acc=0.8796]\n"
     ]
    },
    {
     "name": "stdout",
     "output_type": "stream",
     "text": [
      "Epoch 15/1000: Train Loss: 0.3391, Train Acc: 0.8796\n"
     ]
    },
    {
     "name": "stderr",
     "output_type": "stream",
     "text": [
      "Epoch 15/1000 (Validation): 100%|██████████| 47/47 [00:07<00:00,  6.24it/s, Loss=1.2068, Acc=0.6590]\n"
     ]
    },
    {
     "name": "stdout",
     "output_type": "stream",
     "text": [
      "Epoch 15/1000: Val Loss: 1.2068, Val Acc: 0.6590, Val F1: 0.6569\n",
      "Current Learning Rate: 3e-06\n"
     ]
    },
    {
     "name": "stderr",
     "output_type": "stream",
     "text": [
      "Epoch 16/1000: 100%|██████████| 422/422 [03:34<00:00,  1.97it/s, Loss=0.3297, Acc=0.8823]\n"
     ]
    },
    {
     "name": "stdout",
     "output_type": "stream",
     "text": [
      "Epoch 16/1000: Train Loss: 0.3297, Train Acc: 0.8823\n"
     ]
    },
    {
     "name": "stderr",
     "output_type": "stream",
     "text": [
      "Epoch 16/1000 (Validation): 100%|██████████| 47/47 [00:07<00:00,  6.21it/s, Loss=1.2324, Acc=0.6540]\n"
     ]
    },
    {
     "name": "stdout",
     "output_type": "stream",
     "text": [
      "Epoch 16/1000: Val Loss: 1.2324, Val Acc: 0.6540, Val F1: 0.6508\n",
      "Current Learning Rate: 3e-06\n"
     ]
    },
    {
     "name": "stderr",
     "output_type": "stream",
     "text": [
      "Epoch 17/1000: 100%|██████████| 422/422 [03:33<00:00,  1.97it/s, Loss=0.3242, Acc=0.8847]\n"
     ]
    },
    {
     "name": "stdout",
     "output_type": "stream",
     "text": [
      "Epoch 17/1000: Train Loss: 0.3242, Train Acc: 0.8847\n"
     ]
    },
    {
     "name": "stderr",
     "output_type": "stream",
     "text": [
      "Epoch 17/1000 (Validation): 100%|██████████| 47/47 [00:07<00:00,  6.26it/s, Loss=1.2358, Acc=0.6603]\n"
     ]
    },
    {
     "name": "stdout",
     "output_type": "stream",
     "text": [
      "Epoch 17/1000: Val Loss: 1.2358, Val Acc: 0.6603, Val F1: 0.6581\n",
      "Current Learning Rate: 3e-06\n"
     ]
    },
    {
     "name": "stderr",
     "output_type": "stream",
     "text": [
      "Epoch 18/1000: 100%|██████████| 422/422 [03:37<00:00,  1.94it/s, Loss=0.3074, Acc=0.8927]\n"
     ]
    },
    {
     "name": "stdout",
     "output_type": "stream",
     "text": [
      "Epoch 18/1000: Train Loss: 0.3074, Train Acc: 0.8927\n"
     ]
    },
    {
     "name": "stderr",
     "output_type": "stream",
     "text": [
      "Epoch 18/1000 (Validation): 100%|██████████| 47/47 [00:07<00:00,  6.26it/s, Loss=1.2519, Acc=0.6613]\n"
     ]
    },
    {
     "name": "stdout",
     "output_type": "stream",
     "text": [
      "Epoch 18/1000: Val Loss: 1.2519, Val Acc: 0.6613, Val F1: 0.6592\n",
      "Current Learning Rate: 3e-06\n"
     ]
    },
    {
     "name": "stderr",
     "output_type": "stream",
     "text": [
      "Epoch 19/1000: 100%|██████████| 422/422 [03:34<00:00,  1.96it/s, Loss=0.2977, Acc=0.8967]\n"
     ]
    },
    {
     "name": "stdout",
     "output_type": "stream",
     "text": [
      "Epoch 19/1000: Train Loss: 0.2977, Train Acc: 0.8967\n"
     ]
    },
    {
     "name": "stderr",
     "output_type": "stream",
     "text": [
      "Epoch 19/1000 (Validation): 100%|██████████| 47/47 [00:07<00:00,  6.27it/s, Loss=1.2800, Acc=0.6603]\n"
     ]
    },
    {
     "name": "stdout",
     "output_type": "stream",
     "text": [
      "Epoch 19/1000: Val Loss: 1.2800, Val Acc: 0.6603, Val F1: 0.6586\n",
      "Current Learning Rate: 3.0000000000000004e-07\n"
     ]
    },
    {
     "name": "stderr",
     "output_type": "stream",
     "text": [
      "Epoch 20/1000: 100%|██████████| 422/422 [03:33<00:00,  1.98it/s, Loss=0.2889, Acc=0.8983]\n"
     ]
    },
    {
     "name": "stdout",
     "output_type": "stream",
     "text": [
      "Epoch 20/1000: Train Loss: 0.2889, Train Acc: 0.8983\n"
     ]
    },
    {
     "name": "stderr",
     "output_type": "stream",
     "text": [
      "Epoch 20/1000 (Validation): 100%|██████████| 47/47 [00:07<00:00,  6.26it/s, Loss=1.2794, Acc=0.6600]\n"
     ]
    },
    {
     "name": "stdout",
     "output_type": "stream",
     "text": [
      "Epoch 20/1000: Val Loss: 1.2794, Val Acc: 0.6600, Val F1: 0.6582\n",
      "Current Learning Rate: 3.0000000000000004e-07\n"
     ]
    },
    {
     "name": "stderr",
     "output_type": "stream",
     "text": [
      "Epoch 21/1000: 100%|██████████| 422/422 [03:33<00:00,  1.98it/s, Loss=0.2774, Acc=0.9039]\n"
     ]
    },
    {
     "name": "stdout",
     "output_type": "stream",
     "text": [
      "Epoch 21/1000: Train Loss: 0.2774, Train Acc: 0.9039\n"
     ]
    },
    {
     "name": "stderr",
     "output_type": "stream",
     "text": [
      "Epoch 21/1000 (Validation): 100%|██████████| 47/47 [00:07<00:00,  6.29it/s, Loss=1.2853, Acc=0.6653]\n"
     ]
    },
    {
     "name": "stdout",
     "output_type": "stream",
     "text": [
      "Epoch 21/1000: Val Loss: 1.2853, Val Acc: 0.6653, Val F1: 0.6637\n",
      "Current Learning Rate: 3.0000000000000004e-07\n",
      "Best model saved at ../Hasil Eksperimen/coba2_best.pt with val accuracy: 0.6653\n"
     ]
    },
    {
     "name": "stderr",
     "output_type": "stream",
     "text": [
      "Epoch 22/1000: 100%|██████████| 422/422 [03:34<00:00,  1.97it/s, Loss=0.2807, Acc=0.9016]\n"
     ]
    },
    {
     "name": "stdout",
     "output_type": "stream",
     "text": [
      "Epoch 22/1000: Train Loss: 0.2807, Train Acc: 0.9016\n"
     ]
    },
    {
     "name": "stderr",
     "output_type": "stream",
     "text": [
      "Epoch 22/1000 (Validation): 100%|██████████| 47/47 [00:07<00:00,  6.05it/s, Loss=1.2967, Acc=0.6593]\n"
     ]
    },
    {
     "name": "stdout",
     "output_type": "stream",
     "text": [
      "Epoch 22/1000: Val Loss: 1.2967, Val Acc: 0.6593, Val F1: 0.6582\n",
      "Current Learning Rate: 3.0000000000000004e-07\n"
     ]
    },
    {
     "name": "stderr",
     "output_type": "stream",
     "text": [
      "Epoch 23/1000: 100%|██████████| 422/422 [03:35<00:00,  1.96it/s, Loss=0.2807, Acc=0.9022]\n"
     ]
    },
    {
     "name": "stdout",
     "output_type": "stream",
     "text": [
      "Epoch 23/1000: Train Loss: 0.2807, Train Acc: 0.9022\n"
     ]
    },
    {
     "name": "stderr",
     "output_type": "stream",
     "text": [
      "Epoch 23/1000 (Validation): 100%|██████████| 47/47 [00:08<00:00,  5.78it/s, Loss=1.3020, Acc=0.6603]\n"
     ]
    },
    {
     "name": "stdout",
     "output_type": "stream",
     "text": [
      "Epoch 23/1000: Val Loss: 1.3020, Val Acc: 0.6603, Val F1: 0.6592\n",
      "Current Learning Rate: 3.0000000000000004e-07\n"
     ]
    },
    {
     "name": "stderr",
     "output_type": "stream",
     "text": [
      "Epoch 24/1000: 100%|██████████| 422/422 [03:44<00:00,  1.88it/s, Loss=0.2784, Acc=0.9007]\n"
     ]
    },
    {
     "name": "stdout",
     "output_type": "stream",
     "text": [
      "Epoch 24/1000: Train Loss: 0.2784, Train Acc: 0.9007\n"
     ]
    },
    {
     "name": "stderr",
     "output_type": "stream",
     "text": [
      "Epoch 24/1000 (Validation): 100%|██████████| 47/47 [00:07<00:00,  6.27it/s, Loss=1.2925, Acc=0.6643]\n"
     ]
    },
    {
     "name": "stdout",
     "output_type": "stream",
     "text": [
      "Epoch 24/1000: Val Loss: 1.2925, Val Acc: 0.6643, Val F1: 0.6621\n",
      "Current Learning Rate: 3.0000000000000004e-07\n"
     ]
    },
    {
     "name": "stderr",
     "output_type": "stream",
     "text": [
      "Epoch 25/1000: 100%|██████████| 422/422 [03:36<00:00,  1.95it/s, Loss=0.2759, Acc=0.9029]\n"
     ]
    },
    {
     "name": "stdout",
     "output_type": "stream",
     "text": [
      "Epoch 25/1000: Train Loss: 0.2759, Train Acc: 0.9029\n"
     ]
    },
    {
     "name": "stderr",
     "output_type": "stream",
     "text": [
      "Epoch 25/1000 (Validation): 100%|██████████| 47/47 [00:07<00:00,  6.22it/s, Loss=1.3020, Acc=0.6630]\n"
     ]
    },
    {
     "name": "stdout",
     "output_type": "stream",
     "text": [
      "Epoch 25/1000: Val Loss: 1.3020, Val Acc: 0.6630, Val F1: 0.6622\n",
      "Current Learning Rate: 3.0000000000000004e-08\n"
     ]
    },
    {
     "name": "stderr",
     "output_type": "stream",
     "text": [
      "Epoch 26/1000: 100%|██████████| 422/422 [03:39<00:00,  1.92it/s, Loss=0.2827, Acc=0.8990]\n"
     ]
    },
    {
     "name": "stdout",
     "output_type": "stream",
     "text": [
      "Epoch 26/1000: Train Loss: 0.2827, Train Acc: 0.8990\n"
     ]
    },
    {
     "name": "stderr",
     "output_type": "stream",
     "text": [
      "Epoch 26/1000 (Validation): 100%|██████████| 47/47 [00:07<00:00,  6.24it/s, Loss=1.3067, Acc=0.6613]\n"
     ]
    },
    {
     "name": "stdout",
     "output_type": "stream",
     "text": [
      "Epoch 26/1000: Val Loss: 1.3067, Val Acc: 0.6613, Val F1: 0.6604\n",
      "Current Learning Rate: 3.0000000000000004e-08\n"
     ]
    },
    {
     "name": "stderr",
     "output_type": "stream",
     "text": [
      "Epoch 27/1000: 100%|██████████| 422/422 [03:36<00:00,  1.95it/s, Loss=0.2812, Acc=0.8999]\n"
     ]
    },
    {
     "name": "stdout",
     "output_type": "stream",
     "text": [
      "Epoch 27/1000: Train Loss: 0.2812, Train Acc: 0.8999\n"
     ]
    },
    {
     "name": "stderr",
     "output_type": "stream",
     "text": [
      "Epoch 27/1000 (Validation): 100%|██████████| 47/47 [00:07<00:00,  6.23it/s, Loss=1.3066, Acc=0.6620]\n"
     ]
    },
    {
     "name": "stdout",
     "output_type": "stream",
     "text": [
      "Epoch 27/1000: Val Loss: 1.3066, Val Acc: 0.6620, Val F1: 0.6601\n",
      "Current Learning Rate: 3.0000000000000004e-08\n"
     ]
    },
    {
     "name": "stderr",
     "output_type": "stream",
     "text": [
      "Epoch 28/1000: 100%|██████████| 422/422 [03:41<00:00,  1.90it/s, Loss=0.2757, Acc=0.9024]\n"
     ]
    },
    {
     "name": "stdout",
     "output_type": "stream",
     "text": [
      "Epoch 28/1000: Train Loss: 0.2757, Train Acc: 0.9024\n"
     ]
    },
    {
     "name": "stderr",
     "output_type": "stream",
     "text": [
      "Epoch 28/1000 (Validation): 100%|██████████| 47/47 [00:07<00:00,  6.25it/s, Loss=1.3124, Acc=0.6610]\n"
     ]
    },
    {
     "name": "stdout",
     "output_type": "stream",
     "text": [
      "Epoch 28/1000: Val Loss: 1.3124, Val Acc: 0.6610, Val F1: 0.6593\n",
      "Current Learning Rate: 3.0000000000000004e-08\n"
     ]
    },
    {
     "name": "stderr",
     "output_type": "stream",
     "text": [
      "Epoch 29/1000:  20%|██        | 86/422 [00:43<02:51,  1.96it/s, Loss=0.2857, Acc=0.8975]\n"
     ]
    },
    {
     "ename": "KeyboardInterrupt",
     "evalue": "",
     "output_type": "error",
     "traceback": [
      "\u001b[0;31m---------------------------------------------------------------------------\u001b[0m",
      "\u001b[0;31mKeyboardInterrupt\u001b[0m                         Traceback (most recent call last)",
      "Cell \u001b[0;32mIn[20], line 50\u001b[0m\n\u001b[1;32m     47\u001b[0m loss \u001b[38;5;241m=\u001b[39m criterion(outputs, targets)\n\u001b[1;32m     49\u001b[0m \u001b[38;5;66;03m# Backward pass and optimize\u001b[39;00m\n\u001b[0;32m---> 50\u001b[0m loss\u001b[38;5;241m.\u001b[39mbackward()\n\u001b[1;32m     51\u001b[0m optimizer\u001b[38;5;241m.\u001b[39mstep()\n\u001b[1;32m     53\u001b[0m \u001b[38;5;66;03m# Update statistics\u001b[39;00m\n",
      "File \u001b[0;32m~/.local/lib/python3.12/site-packages/torch/_tensor.py:581\u001b[0m, in \u001b[0;36mTensor.backward\u001b[0;34m(self, gradient, retain_graph, create_graph, inputs)\u001b[0m\n\u001b[1;32m    571\u001b[0m \u001b[38;5;28;01mif\u001b[39;00m has_torch_function_unary(\u001b[38;5;28mself\u001b[39m):\n\u001b[1;32m    572\u001b[0m     \u001b[38;5;28;01mreturn\u001b[39;00m handle_torch_function(\n\u001b[1;32m    573\u001b[0m         Tensor\u001b[38;5;241m.\u001b[39mbackward,\n\u001b[1;32m    574\u001b[0m         (\u001b[38;5;28mself\u001b[39m,),\n\u001b[0;32m   (...)\u001b[0m\n\u001b[1;32m    579\u001b[0m         inputs\u001b[38;5;241m=\u001b[39minputs,\n\u001b[1;32m    580\u001b[0m     )\n\u001b[0;32m--> 581\u001b[0m torch\u001b[38;5;241m.\u001b[39mautograd\u001b[38;5;241m.\u001b[39mbackward(\n\u001b[1;32m    582\u001b[0m     \u001b[38;5;28mself\u001b[39m, gradient, retain_graph, create_graph, inputs\u001b[38;5;241m=\u001b[39minputs\n\u001b[1;32m    583\u001b[0m )\n",
      "File \u001b[0;32m~/.local/lib/python3.12/site-packages/torch/autograd/__init__.py:347\u001b[0m, in \u001b[0;36mbackward\u001b[0;34m(tensors, grad_tensors, retain_graph, create_graph, grad_variables, inputs)\u001b[0m\n\u001b[1;32m    342\u001b[0m     retain_graph \u001b[38;5;241m=\u001b[39m create_graph\n\u001b[1;32m    344\u001b[0m \u001b[38;5;66;03m# The reason we repeat the same comment below is that\u001b[39;00m\n\u001b[1;32m    345\u001b[0m \u001b[38;5;66;03m# some Python versions print out the first line of a multi-line function\u001b[39;00m\n\u001b[1;32m    346\u001b[0m \u001b[38;5;66;03m# calls in the traceback and some print out the last line\u001b[39;00m\n\u001b[0;32m--> 347\u001b[0m _engine_run_backward(\n\u001b[1;32m    348\u001b[0m     tensors,\n\u001b[1;32m    349\u001b[0m     grad_tensors_,\n\u001b[1;32m    350\u001b[0m     retain_graph,\n\u001b[1;32m    351\u001b[0m     create_graph,\n\u001b[1;32m    352\u001b[0m     inputs,\n\u001b[1;32m    353\u001b[0m     allow_unreachable\u001b[38;5;241m=\u001b[39m\u001b[38;5;28;01mTrue\u001b[39;00m,\n\u001b[1;32m    354\u001b[0m     accumulate_grad\u001b[38;5;241m=\u001b[39m\u001b[38;5;28;01mTrue\u001b[39;00m,\n\u001b[1;32m    355\u001b[0m )\n",
      "File \u001b[0;32m~/.local/lib/python3.12/site-packages/torch/autograd/graph.py:825\u001b[0m, in \u001b[0;36m_engine_run_backward\u001b[0;34m(t_outputs, *args, **kwargs)\u001b[0m\n\u001b[1;32m    823\u001b[0m     unregister_hooks \u001b[38;5;241m=\u001b[39m _register_logging_hooks_on_whole_graph(t_outputs)\n\u001b[1;32m    824\u001b[0m \u001b[38;5;28;01mtry\u001b[39;00m:\n\u001b[0;32m--> 825\u001b[0m     \u001b[38;5;28;01mreturn\u001b[39;00m Variable\u001b[38;5;241m.\u001b[39m_execution_engine\u001b[38;5;241m.\u001b[39mrun_backward(  \u001b[38;5;66;03m# Calls into the C++ engine to run the backward pass\u001b[39;00m\n\u001b[1;32m    826\u001b[0m         t_outputs, \u001b[38;5;241m*\u001b[39margs, \u001b[38;5;241m*\u001b[39m\u001b[38;5;241m*\u001b[39mkwargs\n\u001b[1;32m    827\u001b[0m     )  \u001b[38;5;66;03m# Calls into the C++ engine to run the backward pass\u001b[39;00m\n\u001b[1;32m    828\u001b[0m \u001b[38;5;28;01mfinally\u001b[39;00m:\n\u001b[1;32m    829\u001b[0m     \u001b[38;5;28;01mif\u001b[39;00m attach_logging_hooks:\n",
      "\u001b[0;31mKeyboardInterrupt\u001b[0m: "
     ]
    }
   ],
   "source": [
    "EPOCHS = 1000\n",
    "LEARNING_RATE = 3e-5\n",
    "NUM_CLASSES = 7\n",
    "SEED = 123\n",
    "BATCH_SIZE = 64\n",
    "DEVICE = torch.device(\"cuda\" if torch.cuda.is_available() else \"cpu\")\n",
    "\n",
    "train_loader = DataLoader(train_dataset, batch_size=BATCH_SIZE, shuffle=True, generator=torch.Generator().manual_seed(SEED))\n",
    "val_loader = DataLoader(val_dataset, batch_size=BATCH_SIZE, shuffle=True, generator=torch.Generator().manual_seed(SEED))\n",
    "test_loader = DataLoader(test_dataset, batch_size=BATCH_SIZE, shuffle=False, generator=torch.Generator().manual_seed(SEED))\n",
    "\n",
    "optimizer = optim.AdamW(model.parameters(), lr=LEARNING_RATE)\n",
    "criterion = nn.CrossEntropyLoss()\n",
    "\n",
    "# Define the learning rate scheduler\n",
    "scheduler = ReduceLROnPlateau(optimizer, mode='min', factor=0.1, patience=5)\n",
    "\n",
    "# Define path\n",
    "SAVE_PATH = \"../Hasil Eksperimen\"\n",
    "os.makedirs(SAVE_PATH, exist_ok=True)\n",
    "\n",
    "# Initialize lists to store training and validation metrics\n",
    "train_losses = []\n",
    "val_losses = []\n",
    "train_accuracies = []\n",
    "val_accuracies = []\n",
    "\n",
    "# Initialize the best metric for model saving\n",
    "best_val_accuracy = -float('inf')\n",
    "\n",
    "for epoch in range(EPOCHS):\n",
    "    model.train()\n",
    "    train_loss = 0.0\n",
    "    correct = 0\n",
    "    total = 0\n",
    "\n",
    "    # Training\n",
    "    pbar = tqdm(train_loader, desc=f\"Epoch {epoch + 1}/{EPOCHS}\")\n",
    "    for batch_idx, (inputs, targets) in enumerate(pbar):\n",
    "        inputs, targets = inputs.to(DEVICE), targets.to(DEVICE)\n",
    "\n",
    "        # Zero the gradients\n",
    "        optimizer.zero_grad()\n",
    "\n",
    "        # Forward pass\n",
    "        outputs = model(inputs)\n",
    "        loss = criterion(outputs, targets)\n",
    "\n",
    "        # Backward pass and optimize\n",
    "        loss.backward()\n",
    "        optimizer.step()\n",
    "\n",
    "        # Update statistics\n",
    "        train_loss += loss.item()\n",
    "        _, predicted = outputs.max(1)\n",
    "        total += targets.size(0)\n",
    "        correct += predicted.eq(targets).sum().item()\n",
    "\n",
    "        # Update progress bar\n",
    "        pbar.set_postfix({\n",
    "            \"Loss\": f\"{train_loss / (batch_idx + 1):.4f}\",\n",
    "            \"Acc\": f\"{correct / total:.4f}\"\n",
    "        })\n",
    "\n",
    "    # Calculate training accuracy and loss\n",
    "    train_accuracy = correct / total\n",
    "    avg_train_loss = train_loss / len(train_loader)\n",
    "    train_losses.append(avg_train_loss)\n",
    "    train_accuracies.append(train_accuracy)\n",
    "\n",
    "    # Print training summary\n",
    "    print(f\"Epoch {epoch + 1}/{EPOCHS}: \"\n",
    "          f\"Train Loss: {avg_train_loss:.4f}, \"\n",
    "          f\"Train Acc: {train_accuracy:.4f}\")\n",
    "\n",
    "    # Validation\n",
    "    model.eval()\n",
    "    val_loss = 0.0\n",
    "    val_correct = 0\n",
    "    val_total = 0\n",
    "    all_targets = []\n",
    "    all_predicted = []\n",
    "\n",
    "    with torch.no_grad():  # Disable gradient computation\n",
    "        pbar = tqdm(val_loader, desc=f\"Epoch {epoch + 1}/{EPOCHS} (Validation)\")\n",
    "        for batch_idx, (inputs, targets) in enumerate(pbar):\n",
    "            inputs, targets = inputs.to(DEVICE), targets.to(DEVICE)\n",
    "\n",
    "            # Forward pass\n",
    "            outputs = model(inputs)\n",
    "            loss = criterion(outputs, targets)\n",
    "\n",
    "            # Update statistics\n",
    "            val_loss += loss.item()\n",
    "            _, predicted = outputs.max(1)\n",
    "            val_total += targets.size(0)\n",
    "            val_correct += predicted.eq(targets).sum().item()\n",
    "\n",
    "            # Collect all targets and predictions for F1-score\n",
    "            all_targets.extend(targets.cpu().numpy())\n",
    "            all_predicted.extend(predicted.cpu().numpy())\n",
    "\n",
    "            # Update progress bar\n",
    "            pbar.set_postfix({\n",
    "                \"Loss\": f\"{val_loss / (batch_idx + 1):.4f}\",\n",
    "                \"Acc\": f\"{val_correct / val_total:.4f}\"\n",
    "            })\n",
    "\n",
    "    # Calculate validation accuracy, loss, and F1-score\n",
    "    val_accuracy = val_correct / val_total\n",
    "    avg_val_loss = val_loss / len(val_loader)\n",
    "    val_f1 = f1_score(all_targets, all_predicted, average=\"weighted\")\n",
    "    val_losses.append(avg_val_loss)\n",
    "    val_accuracies.append(val_accuracy)\n",
    "\n",
    "    # Print validation summary\n",
    "    print(f\"Epoch {epoch + 1}/{EPOCHS}: \"\n",
    "          f\"Val Loss: {avg_val_loss:.4f}, \"\n",
    "          f\"Val Acc: {val_accuracy:.4f}, \"\n",
    "          f\"Val F1: {val_f1:.4f}\")\n",
    "\n",
    "    # Step the learning rate scheduler based on validation loss\n",
    "    scheduler.step(avg_val_loss)\n",
    "\n",
    "    # Print the current learning rate\n",
    "    current_lr = optimizer.param_groups[0]['lr']\n",
    "    print(f\"Current Learning Rate: {current_lr}\")\n",
    "\n",
    "    # Save the best model based on validation accuracy\n",
    "    if val_accuracy > best_val_accuracy:\n",
    "        best_val_accuracy = val_accuracy\n",
    "        model_path = os.path.join(SAVE_PATH, \"coba2_best.pt\")\n",
    "        torch.save(model.state_dict(), model_path)\n",
    "        print(f\"Best model saved at {model_path} with val accuracy: {best_val_accuracy:.4f}\")\n",
    "\n",
    "    # Save loss and accuracy plots\n",
    "    plt.figure(figsize=(10, 5))\n",
    "    plt.plot(range(1, len(train_losses) + 1), train_losses, label=\"Training Loss\", marker='o')\n",
    "    plt.plot(range(1, len(val_losses) + 1), val_losses, label=\"Validation Loss\", marker='o')\n",
    "    plt.title(\"Loss per Epoch\")\n",
    "    plt.xlabel(\"Epoch\")\n",
    "    plt.ylabel(\"Loss\")\n",
    "    plt.legend()\n",
    "    plt.grid(True)\n",
    "    loss_plot_path = os.path.join(SAVE_PATH, \"coba2_loss.png\")\n",
    "    plt.savefig(loss_plot_path)\n",
    "    plt.close()\n",
    "\n",
    "    plt.figure(figsize=(10, 5))\n",
    "    plt.plot(range(1, len(train_accuracies) + 1), train_accuracies, label=\"Training Accuracy\", marker='o')\n",
    "    plt.plot(range(1, len(val_accuracies) + 1), val_accuracies, label=\"Validation Accuracy\", marker='o')\n",
    "    plt.title(\"Accuracy per Epoch\")\n",
    "    plt.xlabel(\"Epoch\")\n",
    "    plt.ylabel(\"Accuracy\")\n",
    "    plt.legend()\n",
    "    plt.grid(True)\n",
    "    accuracy_plot_path = os.path.join(SAVE_PATH, \"coba2_acc.png\")\n",
    "    plt.savefig(accuracy_plot_path)\n",
    "    plt.close()"
   ]
  },
  {
   "cell_type": "markdown",
   "id": "f9419548-bc46-4909-a041-3c0173fec3c6",
   "metadata": {},
   "source": [
    "# Testing"
   ]
  },
  {
   "cell_type": "code",
   "execution_count": 21,
   "id": "1e3abd3f-0790-48ed-b3ec-17fe5434e55c",
   "metadata": {},
   "outputs": [],
   "source": [
    "DEVICE = torch.device(\"cuda\" if torch.cuda.is_available() else \"cpu\")\n",
    "\n",
    "best_model = ViT(num_classes=len(class_names), in_channels=3, patch_size=32, num_heads=8, embedding_dim=512, num_transformer_layers=12)\n",
    "best_model = best_model.to(DEVICE)"
   ]
  },
  {
   "cell_type": "code",
   "execution_count": 22,
   "id": "2d76e3b6-9f27-4e75-a83c-0734a22f310d",
   "metadata": {},
   "outputs": [
    {
     "name": "stderr",
     "output_type": "stream",
     "text": [
      "/tmp/ipykernel_3343/462556808.py:3: FutureWarning: You are using `torch.load` with `weights_only=False` (the current default value), which uses the default pickle module implicitly. It is possible to construct malicious pickle data which will execute arbitrary code during unpickling (See https://github.com/pytorch/pytorch/blob/main/SECURITY.md#untrusted-models for more details). In a future release, the default value for `weights_only` will be flipped to `True`. This limits the functions that could be executed during unpickling. Arbitrary objects will no longer be allowed to be loaded via this mode unless they are explicitly allowlisted by the user via `torch.serialization.add_safe_globals`. We recommend you start setting `weights_only=True` for any use case where you don't have full control of the loaded file. Please open an issue on GitHub for any issues related to this experimental feature.\n",
      "  best_model.load_state_dict(torch.load(model_path))\n"
     ]
    },
    {
     "data": {
      "text/plain": [
       "<All keys matched successfully>"
      ]
     },
     "execution_count": 22,
     "metadata": {},
     "output_type": "execute_result"
    }
   ],
   "source": [
    "# Load state_dict\n",
    "model_path = \"../Hasil Eksperimen/coba2_best.pt\"\n",
    "best_model.load_state_dict(torch.load(model_path))"
   ]
  },
  {
   "cell_type": "code",
   "execution_count": 23,
   "id": "91d6a4ca-3dfb-4a39-9ea6-ecdca034e4b1",
   "metadata": {},
   "outputs": [
    {
     "name": "stderr",
     "output_type": "stream",
     "text": [
      "Testing: 100%|██████████| 53/53 [00:08<00:00,  6.44it/s, Loss=1.2800, Acc=0.6739]"
     ]
    },
    {
     "name": "stdout",
     "output_type": "stream",
     "text": [
      "Test Loss: 1.2800, Test Acc: 0.6739\n",
      "\n",
      "Per-Class Accuracy:\n",
      "Class 0: 0.5680\n",
      "Class 1: 0.5333\n",
      "Class 2: 0.4936\n",
      "Class 3: 0.8848\n",
      "Class 4: 0.5542\n",
      "Class 5: 0.7610\n",
      "Class 6: 0.6706\n",
      "\n",
      "Classification Report:\n",
      "              precision    recall  f1-score   support\n",
      "\n",
      "     Class 0       0.62      0.57      0.59       463\n",
      "     Class 1       0.62      0.53      0.57        45\n",
      "     Class 2       0.55      0.49      0.52       472\n",
      "     Class 3       0.85      0.88      0.87       868\n",
      "     Class 4       0.53      0.55      0.54       572\n",
      "     Class 5       0.77      0.76      0.77       318\n",
      "     Class 6       0.63      0.67      0.65       595\n",
      "\n",
      "    accuracy                           0.67      3333\n",
      "   macro avg       0.65      0.64      0.64      3333\n",
      "weighted avg       0.67      0.67      0.67      3333\n",
      "\n"
     ]
    },
    {
     "name": "stderr",
     "output_type": "stream",
     "text": [
      "\n"
     ]
    }
   ],
   "source": [
    "# Testing\n",
    "best_model.eval()\n",
    "test_loss = 0.0\n",
    "test_correct = 0\n",
    "test_total = 0\n",
    "all_targets = []\n",
    "all_predicted = []\n",
    "\n",
    "with torch.no_grad():  # Disable gradient computation\n",
    "    pbar = tqdm(test_loader, desc=\"Testing\")\n",
    "    for batch_idx, (inputs, targets) in enumerate(pbar):\n",
    "        inputs, targets = inputs.to(DEVICE), targets.to(DEVICE)\n",
    "\n",
    "        # Forward pass\n",
    "        outputs = best_model(inputs)\n",
    "        loss = criterion(outputs, targets)\n",
    "\n",
    "        # Update statistics\n",
    "        test_loss += loss.item()\n",
    "        _, predicted = outputs.max(1)\n",
    "        test_total += targets.size(0)\n",
    "        test_correct += predicted.eq(targets).sum().item()\n",
    "\n",
    "        # Collect all targets and predictions\n",
    "        all_targets.extend(targets.cpu().numpy())\n",
    "        all_predicted.extend(predicted.cpu().numpy())\n",
    "\n",
    "        # Update progress bar\n",
    "        pbar.set_postfix({\n",
    "            \"Loss\": f\"{test_loss / (batch_idx + 1):.4f}\",\n",
    "            \"Acc\": f\"{test_correct / test_total:.4f}\"\n",
    "        })\n",
    "\n",
    "# Calculate test accuracy, loss, and F1-score\n",
    "test_accuracy = test_correct / test_total\n",
    "avg_test_loss = test_loss / len(test_loader)\n",
    "\n",
    "# Calculate per-class accuracy\n",
    "conf_matrix = confusion_matrix(all_targets, all_predicted)\n",
    "per_class_accuracy = conf_matrix.diagonal() / conf_matrix.sum(axis=1)\n",
    "\n",
    "# Calculate classification report (includes precision, recall, F1-score, and support)\n",
    "class_report = classification_report(all_targets, all_predicted, target_names=[f\"Class {i}\" for i in range(NUM_CLASSES)])\n",
    "\n",
    "# Print test summary\n",
    "print(f\"Test Loss: {avg_test_loss:.4f}, \"\n",
    "      f\"Test Acc: {test_accuracy:.4f}\")\n",
    "\n",
    "# Print per-class accuracy\n",
    "print(\"\\nPer-Class Accuracy:\")\n",
    "for i, acc in enumerate(per_class_accuracy):\n",
    "    print(f\"Class {i}: {acc:.4f}\")\n",
    "\n",
    "# Print classification report\n",
    "print(\"\\nClassification Report:\")\n",
    "print(class_report)"
   ]
  },
  {
   "cell_type": "code",
   "execution_count": null,
   "id": "b79252d8-d103-4bf2-82ad-4098293a0906",
   "metadata": {},
   "outputs": [],
   "source": [
    "def denormalize(image, mean, std):\n",
    "    \"\"\"\n",
    "    Denormalize a normalized image tensor.\n",
    "\n",
    "    Args:\n",
    "        image (torch.Tensor): Normalized image tensor (C, H, W).\n",
    "        mean (list): Mean used for normalization.\n",
    "        std (list): Standard deviation used for normalization.\n",
    "\n",
    "    Returns:\n",
    "        torch.Tensor: Denormalized image tensor.\n",
    "    \"\"\"\n",
    "    # Clone the image to avoid modifying the original\n",
    "    image = image.clone()\n",
    "    for c in range(image.shape[0]):\n",
    "        image[c] = image[c] * std[c] + mean[c]\n",
    "    return image"
   ]
  },
  {
   "cell_type": "code",
   "execution_count": null,
   "id": "02d1a78b-c049-45c7-8036-ab6cb3322a55",
   "metadata": {},
   "outputs": [],
   "source": [
    "# Testing\n",
    "best_model.eval()\n",
    "test_loss = 0.0\n",
    "test_correct = 0\n",
    "test_total = 0\n",
    "all_targets = []\n",
    "all_predicted = []\n",
    "\n",
    "# Store misclassified images, true labels, and predicted labels\n",
    "misclassified_images = []\n",
    "misclassified_true = []\n",
    "misclassified_pred = []\n",
    "\n",
    "with torch.no_grad():  # Disable gradient computation\n",
    "    pbar = tqdm(test_loader, desc=\"Testing\")\n",
    "    for batch_idx, (inputs, targets) in enumerate(pbar):\n",
    "        inputs, targets = inputs.to(DEVICE), targets.to(DEVICE)\n",
    "\n",
    "        # Forward pass\n",
    "        outputs = best_model(inputs)\n",
    "        loss = criterion(outputs, targets)\n",
    "\n",
    "        # Update statistics\n",
    "        test_loss += loss.item()\n",
    "        _, predicted = outputs.max(1)\n",
    "        test_total += targets.size(0)\n",
    "        test_correct += predicted.eq(targets).sum().item()\n",
    "\n",
    "        # Collect all targets and predictions\n",
    "        all_targets.extend(targets.cpu().numpy())\n",
    "        all_predicted.extend(predicted.cpu().numpy())\n",
    "\n",
    "        # Store misclassified images\n",
    "        misclassified_mask = predicted != targets\n",
    "        if misclassified_mask.any():\n",
    "            misclassified_images.extend(inputs[misclassified_mask].cpu())\n",
    "            misclassified_true.extend(targets[misclassified_mask].cpu().numpy())\n",
    "            misclassified_pred.extend(predicted[misclassified_mask].cpu().numpy())\n",
    "\n",
    "        # Update progress bar\n",
    "        pbar.set_postfix({\n",
    "            \"Loss\": f\"{test_loss / (batch_idx + 1):.4f}\",\n",
    "            \"Acc\": f\"{test_correct / test_total:.4f}\"\n",
    "        })\n",
    "\n",
    "# Calculate test accuracy, loss, and F1-score\n",
    "test_accuracy = test_correct / test_total\n",
    "avg_test_loss = test_loss / len(test_loader)\n",
    "\n",
    "# Calculate per-class accuracy\n",
    "conf_matrix = confusion_matrix(all_targets, all_predicted)\n",
    "per_class_accuracy = conf_matrix.diagonal() / conf_matrix.sum(axis=1)\n",
    "\n",
    "# Calculate classification report (includes precision, recall, F1-score, and support)\n",
    "class_report = classification_report(all_targets, all_predicted, target_names=[f\"Class {i}\" for i in range(NUM_CLASSES)])\n",
    "\n",
    "# Print test summary\n",
    "print(f\"Test Loss: {avg_test_loss:.4f}, \"\n",
    "      f\"Test Acc: {test_accuracy:.4f}\")\n",
    "\n",
    "# Print per-class accuracy\n",
    "print(\"\\nPer-Class Accuracy:\")\n",
    "for i, acc in enumerate(per_class_accuracy):\n",
    "    print(f\"Class {i}: {acc:.4f}\")\n",
    "\n",
    "# Print classification report\n",
    "print(\"\\nClassification Report:\")\n",
    "print(class_report)\n",
    "\n",
    "def plot_misclassified_images(class_id, num_images=5, mean=[0.485, 0.456, 0.406], std=[0.229, 0.224, 0.225]):\n",
    "    \"\"\"\n",
    "    Plots misclassified images for a specific class.\n",
    "\n",
    "    Args:\n",
    "        class_id (int): The class ID to visualize misclassifications for.\n",
    "        num_images (int): Number of misclassified images to display.\n",
    "        mean (list): Mean used for normalization.\n",
    "        std (list): Standard deviation used for normalization.\n",
    "    \"\"\"\n",
    "    # Filter misclassified images for the specified class\n",
    "    class_misclassified_indices = [i for i, true_label in enumerate(misclassified_true) if true_label == class_id]\n",
    "    class_misclassified_images = [misclassified_images[i] for i in class_misclassified_indices]\n",
    "    class_misclassified_true = [misclassified_true[i] for i in class_misclassified_indices]\n",
    "    class_misclassified_pred = [misclassified_pred[i] for i in class_misclassified_indices]\n",
    "\n",
    "    if not class_misclassified_images:\n",
    "        print(f\"No misclassified images found for Class {class_id}.\")\n",
    "        return\n",
    "\n",
    "    # Limit the number of images to display\n",
    "    num_images = min(num_images, len(class_misclassified_images))\n",
    "\n",
    "    # Plot the misclassified images\n",
    "    plt.figure(figsize=(15, 5))\n",
    "    for i in range(num_images):\n",
    "        plt.subplot(1, num_images, i + 1)\n",
    "        img = class_misclassified_images[i]\n",
    "\n",
    "        # Denormalize the image\n",
    "        img = denormalize(img, mean, std)\n",
    "\n",
    "        # Convert from (C, H, W) to (H, W, C) and clip to valid range\n",
    "        img = img.permute(1, 2, 0)  # Change tensor shape for matplotlib\n",
    "        img = torch.clamp(img, 0, 1)  # Clip values to [0, 1]\n",
    "\n",
    "        plt.imshow(img)\n",
    "        plt.title(f\"True: {class_misclassified_true[i]}\\nPred: {class_misclassified_pred[i]}\")\n",
    "        plt.axis(\"off\")\n",
    "    plt.suptitle(f\"Misclassified Images for Class {class_id}\")\n",
    "    plt.show()"
   ]
  },
  {
   "cell_type": "code",
   "execution_count": null,
   "id": "43c42eaa-e139-4ca5-ada7-6b81d34461a4",
   "metadata": {},
   "outputs": [],
   "source": [
    "mean = [0.5, 0.5, 0.5]\n",
    "std = [0.5, 0.5, 0.5]\n",
    "plot_misclassified_images(class_id=6, num_images=15)"
   ]
  },
  {
   "cell_type": "code",
   "execution_count": null,
   "id": "b3a13bda-a439-47d2-aa33-8a5a5dbd36bf",
   "metadata": {},
   "outputs": [],
   "source": []
  }
 ],
 "metadata": {
  "kernelspec": {
   "display_name": "Python 3 (ipykernel)",
   "language": "python",
   "name": "python3"
  },
  "language_info": {
   "codemirror_mode": {
    "name": "ipython",
    "version": 3
   },
   "file_extension": ".py",
   "mimetype": "text/x-python",
   "name": "python",
   "nbconvert_exporter": "python",
   "pygments_lexer": "ipython3",
   "version": "3.12.7"
  }
 },
 "nbformat": 4,
 "nbformat_minor": 5
}
