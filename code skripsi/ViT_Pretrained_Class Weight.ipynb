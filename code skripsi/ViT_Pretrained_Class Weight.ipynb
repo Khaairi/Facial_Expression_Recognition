{
 "cells": [
  {
   "cell_type": "code",
   "execution_count": 1,
   "id": "8e15b8b0-7751-4983-b9c8-6753e6f5b2b8",
   "metadata": {},
   "outputs": [],
   "source": [
    "import pandas as pd\n",
    "import numpy as np\n",
    "import matplotlib.pyplot as plt\n",
    "from sklearn.metrics import confusion_matrix, ConfusionMatrixDisplay\n",
    "from mlxtend.plotting import plot_confusion_matrix\n",
    "from sklearn.model_selection import train_test_split\n",
    "import os"
   ]
  },
  {
   "cell_type": "code",
   "execution_count": 2,
   "id": "6181f94b-4406-450d-b146-19f11600c5df",
   "metadata": {},
   "outputs": [
    {
     "name": "stdout",
     "output_type": "stream",
     "text": [
      "<class 'pandas.core.frame.DataFrame'>\n",
      "RangeIndex: 29949 entries, 0 to 29948\n",
      "Data columns (total 2 columns):\n",
      " #   Column   Non-Null Count  Dtype \n",
      "---  ------   --------------  ----- \n",
      " 0   emotion  29949 non-null  int64 \n",
      " 1   pixel    29949 non-null  object\n",
      "dtypes: int64(1), object(1)\n",
      "memory usage: 468.1+ KB\n"
     ]
    }
   ],
   "source": [
    "data_train_val = pd.read_csv('../Khaairi/Data/train_val.csv')\n",
    "data_train_val.info()"
   ]
  },
  {
   "cell_type": "code",
   "execution_count": 3,
   "id": "3107e8e4-1d37-41c5-993f-4a8d0248f232",
   "metadata": {},
   "outputs": [
    {
     "name": "stdout",
     "output_type": "stream",
     "text": [
      "<class 'pandas.core.frame.DataFrame'>\n",
      "RangeIndex: 3328 entries, 0 to 3327\n",
      "Data columns (total 2 columns):\n",
      " #   Column   Non-Null Count  Dtype \n",
      "---  ------   --------------  ----- \n",
      " 0   emotion  3328 non-null   int64 \n",
      " 1   pixel    3328 non-null   object\n",
      "dtypes: int64(1), object(1)\n",
      "memory usage: 52.1+ KB\n"
     ]
    }
   ],
   "source": [
    "data_test = pd.read_csv('../Khaairi/Data/test.csv')\n",
    "data_test.info()"
   ]
  },
  {
   "cell_type": "code",
   "execution_count": 4,
   "id": "801ad827-b56f-4f89-9fe2-040b46332ae6",
   "metadata": {},
   "outputs": [
    {
     "name": "stdout",
     "output_type": "stream",
     "text": [
      "Train set size: 26954\n",
      "Validation set size: 2995\n",
      "Test set size: 3328\n"
     ]
    }
   ],
   "source": [
    "# Pertama, pisahkan data train (90%) dan validation (10%)\n",
    "data_train, data_val = train_test_split(data_train_val, test_size=0.1, stratify=data_train_val['emotion'], random_state=42)\n",
    "\n",
    "# Cek ukuran masing-masing set untuk memastikan proporsi\n",
    "print(f'Train set size: {len(data_train)}')\n",
    "print(f'Validation set size: {len(data_val)}')\n",
    "print(f'Test set size: {len(data_test)}')"
   ]
  },
  {
   "cell_type": "code",
   "execution_count": 5,
   "id": "71c530c3-70f6-4a35-8eba-b4fe0701c4cf",
   "metadata": {},
   "outputs": [
    {
     "name": "stderr",
     "output_type": "stream",
     "text": [
      "/home/ilkom/.local/lib/python3.12/site-packages/tqdm/auto.py:21: TqdmWarning: IProgress not found. Please update jupyter and ipywidgets. See https://ipywidgets.readthedocs.io/en/stable/user_install.html\n",
      "  from .autonotebook import tqdm as notebook_tqdm\n"
     ]
    },
    {
     "name": "stdout",
     "output_type": "stream",
     "text": [
      "DatasetDict({\n",
      "    train: Dataset({\n",
      "        features: ['emotion', 'pixel', '__index_level_0__'],\n",
      "        num_rows: 26954\n",
      "    })\n",
      "    validation: Dataset({\n",
      "        features: ['emotion', 'pixel', '__index_level_0__'],\n",
      "        num_rows: 2995\n",
      "    })\n",
      "    test: Dataset({\n",
      "        features: ['emotion', 'pixel'],\n",
      "        num_rows: 3328\n",
      "    })\n",
      "})\n"
     ]
    }
   ],
   "source": [
    "from datasets import Dataset, DatasetDict\n",
    "\n",
    "train_dataset = Dataset.from_pandas(data_train)\n",
    "val_dataset = Dataset.from_pandas(data_val)\n",
    "test_dataset = Dataset.from_pandas(data_test)\n",
    "\n",
    "# Membuat DatasetDict\n",
    "dataset = DatasetDict({\n",
    "    'train': train_dataset,\n",
    "    'validation': val_dataset,\n",
    "    'test': test_dataset\n",
    "})\n",
    "\n",
    "print(dataset)"
   ]
  },
  {
   "cell_type": "code",
   "execution_count": 6,
   "id": "ea92d81c-4c2d-42d6-b6ae-54c668262aaa",
   "metadata": {},
   "outputs": [
    {
     "name": "stdout",
     "output_type": "stream",
     "text": [
      "label2id: {'Angry': 0, 'Disgust': 1, 'Fear': 2, 'Happy': 3, 'Sad': 4, 'Surprise': 5, 'Neutral': 6}\n",
      "id2label: {0: 'Angry', 1: 'Disgust', 2: 'Fear', 3: 'Happy', 4: 'Sad', 5: 'Surprise', 6: 'Neutral'}\n"
     ]
    }
   ],
   "source": [
    "labels = ['Angry', 'Disgust', 'Fear', 'Happy', 'Sad', 'Surprise', 'Neutral']\n",
    "\n",
    "# Mapping dari label ke ID (label2id)\n",
    "label2id = {c: idx for idx, c in enumerate(labels)}\n",
    "\n",
    "# Mapping dari ID ke label (id2label)\n",
    "id2label = {idx: c for idx, c in enumerate(labels)}\n",
    "\n",
    "print(\"label2id:\", label2id)\n",
    "print(\"id2label:\", id2label)"
   ]
  },
  {
   "cell_type": "code",
   "execution_count": 7,
   "id": "6143b434-019c-4e6c-ba1e-45157698ead0",
   "metadata": {},
   "outputs": [
    {
     "name": "stderr",
     "output_type": "stream",
     "text": [
      "Fast image processor class <class 'transformers.models.vit.image_processing_vit_fast.ViTImageProcessorFast'> is available for this model. Using slow image processor class. To use the fast image processor class set `use_fast=True`.\n"
     ]
    },
    {
     "data": {
      "text/plain": [
       "ViTImageProcessor {\n",
       "  \"do_normalize\": true,\n",
       "  \"do_rescale\": true,\n",
       "  \"do_resize\": true,\n",
       "  \"image_mean\": [\n",
       "    0.5,\n",
       "    0.5,\n",
       "    0.5\n",
       "  ],\n",
       "  \"image_processor_type\": \"ViTImageProcessor\",\n",
       "  \"image_std\": [\n",
       "    0.5,\n",
       "    0.5,\n",
       "    0.5\n",
       "  ],\n",
       "  \"resample\": 2,\n",
       "  \"rescale_factor\": 0.00392156862745098,\n",
       "  \"size\": {\n",
       "    \"height\": 224,\n",
       "    \"width\": 224\n",
       "  }\n",
       "}"
      ]
     },
     "execution_count": 7,
     "metadata": {},
     "output_type": "execute_result"
    }
   ],
   "source": [
    "from transformers import AutoImageProcessor, ViTForImageClassification\n",
    "\n",
    "processor = AutoImageProcessor.from_pretrained('google/vit-base-patch16-224')\n",
    "processor"
   ]
  },
  {
   "cell_type": "code",
   "execution_count": 8,
   "id": "a9d0721c-649c-401f-9a33-7f76ed23703a",
   "metadata": {},
   "outputs": [],
   "source": [
    "from PIL import Image\n",
    "\n",
    "def string_to_image(image_pixels):\n",
    "    # Ubah string piksel menjadi array numpy\n",
    "    pixels = np.array([int(pixel) for pixel in image_pixels.split()], dtype=np.uint8)\n",
    "    # Bentuk ulang array menjadi gambar 48x48 (sesuaikan dengan resolusi gambar Anda)\n",
    "    image = pixels.reshape(48, 48)\n",
    "    # Ubah menjadi gambar RGB\n",
    "    image = Image.fromarray(image).convert('RGB')\n",
    "    return image"
   ]
  },
  {
   "cell_type": "code",
   "execution_count": 9,
   "id": "78c729ca-4b3e-4604-ac6c-58928c5e6eea",
   "metadata": {},
   "outputs": [],
   "source": [
    "def transforms(batch):\n",
    "    # Ubah string piksel menjadi gambar RGB\n",
    "    batch['pixel'] = [string_to_image(x) for x in batch['pixel']]\n",
    "    # Proses gambar dengan tokenizer/processor\n",
    "    inputs = processor(batch['pixel'], return_tensors='pt')\n",
    "    # Buat label yang sesuai dengan ID label\n",
    "    inputs['labels'] = batch['emotion']\n",
    "    return inputs"
   ]
  },
  {
   "cell_type": "code",
   "execution_count": 10,
   "id": "dd8591c5-3d04-49b0-88ee-a70522ef4749",
   "metadata": {},
   "outputs": [],
   "source": [
    "processed_dataset = dataset.with_transform(transforms)"
   ]
  },
  {
   "cell_type": "code",
   "execution_count": 11,
   "id": "25daf340-8809-4a92-bab9-3aed2417bd22",
   "metadata": {},
   "outputs": [],
   "source": [
    "import torch\n",
    "\n",
    "def collate_fn(batch):\n",
    "    return {\n",
    "        'pixel_values': torch.stack([x['pixel_values'] for x in batch]),\n",
    "        'labels': torch.tensor([x['labels'] for x in batch])\n",
    "    }"
   ]
  },
  {
   "cell_type": "code",
   "execution_count": 12,
   "id": "810e631a-e6cb-4e18-99e3-f30732baa5ce",
   "metadata": {},
   "outputs": [],
   "source": [
    "import evaluate\n",
    "\n",
    "# Memuat metrik\n",
    "accuracy = evaluate.load('accuracy')\n",
    "f1 = evaluate.load('f1')\n",
    "\n",
    "# Fungsi untuk menghitung metrik\n",
    "def compute_metrics(eval_preds):\n",
    "    logits, labels = eval_preds\n",
    "    predictions = np.argmax(logits, axis=1)\n",
    "\n",
    "    # Menghitung accuracy\n",
    "    accuracy_score = accuracy.compute(predictions=predictions, references=labels)\n",
    "\n",
    "    # Menghitung F1 score\n",
    "    f1_score = f1.compute(predictions=predictions, references=labels, average='weighted')\n",
    "\n",
    "    # Menggabungkan kedua metrik\n",
    "    metrics = {\n",
    "        'accuracy': accuracy_score['accuracy'],\n",
    "        'f1': f1_score['f1']\n",
    "    }\n",
    "\n",
    "    return metrics"
   ]
  },
  {
   "cell_type": "code",
   "execution_count": 13,
   "id": "a372ab05-51c4-4e3a-afdd-ad8f52ae7262",
   "metadata": {},
   "outputs": [
    {
     "name": "stderr",
     "output_type": "stream",
     "text": [
      "Some weights of ViTForImageClassification were not initialized from the model checkpoint at google/vit-base-patch16-224 and are newly initialized because the shapes did not match:\n",
      "- classifier.bias: found shape torch.Size([1000]) in the checkpoint and torch.Size([7]) in the model instantiated\n",
      "- classifier.weight: found shape torch.Size([1000, 768]) in the checkpoint and torch.Size([7, 768]) in the model instantiated\n",
      "You should probably TRAIN this model on a down-stream task to be able to use it for predictions and inference.\n"
     ]
    }
   ],
   "source": [
    "vit = ViTForImageClassification.from_pretrained(\n",
    "    'google/vit-base-patch16-224',\n",
    "    num_labels = len(labels),\n",
    "    id2label = id2label,\n",
    "    label2id = label2id,\n",
    "    ignore_mismatched_sizes = True\n",
    ")"
   ]
  },
  {
   "cell_type": "code",
   "execution_count": 14,
   "id": "402a9234-8400-42c7-bf8b-23a9dbfcf584",
   "metadata": {},
   "outputs": [
    {
     "data": {
      "text/plain": [
       "ViTForImageClassification(\n",
       "  (vit): ViTModel(\n",
       "    (embeddings): ViTEmbeddings(\n",
       "      (patch_embeddings): ViTPatchEmbeddings(\n",
       "        (projection): Conv2d(3, 768, kernel_size=(16, 16), stride=(16, 16))\n",
       "      )\n",
       "      (dropout): Dropout(p=0.0, inplace=False)\n",
       "    )\n",
       "    (encoder): ViTEncoder(\n",
       "      (layer): ModuleList(\n",
       "        (0-11): 12 x ViTLayer(\n",
       "          (attention): ViTSdpaAttention(\n",
       "            (attention): ViTSdpaSelfAttention(\n",
       "              (query): Linear(in_features=768, out_features=768, bias=True)\n",
       "              (key): Linear(in_features=768, out_features=768, bias=True)\n",
       "              (value): Linear(in_features=768, out_features=768, bias=True)\n",
       "              (dropout): Dropout(p=0.0, inplace=False)\n",
       "            )\n",
       "            (output): ViTSelfOutput(\n",
       "              (dense): Linear(in_features=768, out_features=768, bias=True)\n",
       "              (dropout): Dropout(p=0.0, inplace=False)\n",
       "            )\n",
       "          )\n",
       "          (intermediate): ViTIntermediate(\n",
       "            (dense): Linear(in_features=768, out_features=3072, bias=True)\n",
       "            (intermediate_act_fn): GELUActivation()\n",
       "          )\n",
       "          (output): ViTOutput(\n",
       "            (dense): Linear(in_features=3072, out_features=768, bias=True)\n",
       "            (dropout): Dropout(p=0.0, inplace=False)\n",
       "          )\n",
       "          (layernorm_before): LayerNorm((768,), eps=1e-12, elementwise_affine=True)\n",
       "          (layernorm_after): LayerNorm((768,), eps=1e-12, elementwise_affine=True)\n",
       "        )\n",
       "      )\n",
       "    )\n",
       "    (layernorm): LayerNorm((768,), eps=1e-12, elementwise_affine=True)\n",
       "  )\n",
       "  (classifier): Linear(in_features=768, out_features=7, bias=True)\n",
       ")"
      ]
     },
     "execution_count": 14,
     "metadata": {},
     "output_type": "execute_result"
    }
   ],
   "source": [
    "vit"
   ]
  },
  {
   "cell_type": "code",
   "execution_count": null,
   "id": "0ca0f3ad-baab-4678-b80c-4b2c0b49d412",
   "metadata": {},
   "outputs": [],
   "source": [
    "# for name,p in model.named_parameters():\n",
    "#     if not name.startswith('classifier'):\n",
    "#         p.requires_grad = False"
   ]
  },
  {
   "cell_type": "code",
   "execution_count": 15,
   "id": "b6104b7b-9100-4b53-adf3-0716f38ca20c",
   "metadata": {},
   "outputs": [
    {
     "name": "stdout",
     "output_type": "stream",
     "text": [
      "num_params = 85,804,039 | trainable_params = 85,804,039\n"
     ]
    }
   ],
   "source": [
    "num_params = sum([p.numel() for p in vit.parameters()])\n",
    "trainable_params = sum([p.numel() for p in vit.parameters() if p.requires_grad])\n",
    "\n",
    "print(f\"{num_params = :,} | {trainable_params = :,}\")"
   ]
  },
  {
   "cell_type": "markdown",
   "id": "d68b5a14-67ca-4a12-84d6-5cebf8e270a0",
   "metadata": {},
   "source": [
    "## Hitung class weight"
   ]
  },
  {
   "cell_type": "code",
   "execution_count": 16,
   "id": "fa136cc5-f2f0-4cf2-8390-1147e865842c",
   "metadata": {},
   "outputs": [
    {
     "name": "stdout",
     "output_type": "stream",
     "text": [
      "{np.int64(0): np.float64(1.1735968998998563), np.int64(1): np.float64(1.3074945428086344), np.int64(2): np.float64(1.1735968998998563), np.int64(3): np.float64(0.6267206101190477), np.int64(4): np.float64(1.049774108116529), np.int64(5): np.float64(1.1739547038327527), np.int64(6): np.float64(0.8841725438740364)}\n"
     ]
    }
   ],
   "source": [
    "from sklearn.utils.class_weight import compute_class_weight\n",
    "\n",
    "train_labels = data_train[\"emotion\"]\n",
    "class_weights = compute_class_weight(class_weight='balanced', classes=np.unique(train_labels), y=train_labels)\n",
    "weight = dict(zip(np.unique(train_labels), class_weights))\n",
    "print(weight)\n",
    "\n",
    "class_weights = torch.tensor(class_weights, dtype=torch.float32)"
   ]
  },
  {
   "cell_type": "code",
   "execution_count": 18,
   "id": "512d6dc7-4752-417a-a110-ff9de171346a",
   "metadata": {},
   "outputs": [],
   "source": [
    "from torch import nn\n",
    "\n",
    "class ViTWithClassWeights(nn.Module):\n",
    "    \"\"\"Vision Transformer dengan class weights untuk menangani data tidak seimbang.\"\"\"\n",
    "    def __init__(self, base_vit, class_weights):\n",
    "        super().__init__()\n",
    "        self.vit = base_vit\n",
    "        self.class_weights = class_weights\n",
    "        self.loss_fn = nn.CrossEntropyLoss(weight=self.class_weights)\n",
    "\n",
    "    def forward(self, pixel_values, labels=None):\n",
    "        # Forward pass melalui model dasar\n",
    "        outputs = self.vit(pixel_values)  # Memanggil ViT asli\n",
    "        logits = outputs if isinstance(outputs, torch.Tensor) else outputs.logits\n",
    "\n",
    "        # Jika labels tersedia, hitung loss\n",
    "        loss = None\n",
    "        if labels is not None:\n",
    "            loss = self.loss_fn(logits, labels)\n",
    "\n",
    "        return {\"loss\": loss, \"logits\": logits} if loss is not None else logits"
   ]
  },
  {
   "cell_type": "code",
   "execution_count": 19,
   "id": "61ff956e-d120-4820-a045-915c8521d4b5",
   "metadata": {},
   "outputs": [],
   "source": [
    "vit_with_weights = ViTWithClassWeights(base_vit=vit, class_weights=class_weights)"
   ]
  },
  {
   "cell_type": "code",
   "execution_count": 20,
   "id": "8292cff0-4b8f-462e-bc51-592409d801e3",
   "metadata": {},
   "outputs": [],
   "source": [
    "from transformers import TrainerCallback, TrainingArguments, Trainer\n",
    "\n",
    "# Callback untuk menyimpan model terbaik dan loss\n",
    "class SaveBestModelCallback(TrainerCallback):\n",
    "    def __init__(self, save_path, metric_name='eval_accuracy'):\n",
    "        super().__init__()\n",
    "        self.best_metric = -float('inf')  # Menyimpan metrik terbaik\n",
    "        self.metric_name = metric_name\n",
    "        self.save_path = save_path\n",
    "        self.train_losses = []  # Menyimpan training loss per epoch\n",
    "        self.eval_losses = []   # Menyimpan validation loss per epoch\n",
    "        self.accuracies = []  # Menyimpan accuracy per epoch\n",
    "        os.makedirs(self.save_path, exist_ok=True)\n",
    "    \n",
    "    def on_evaluate(self, args, state, control, metrics, **kwargs):\n",
    "        if 'eval_loss' in metrics:\n",
    "            self.eval_losses.append(metrics['eval_loss'])\n",
    "        if 'eval_accuracy' in metrics:\n",
    "            self.accuracies.append(metrics['eval_accuracy'])\n",
    "        # Periksa apakah metrik saat ini lebih baik dari yang terbaik\n",
    "        if self.metric_name in metrics and metrics[self.metric_name] > self.best_metric:\n",
    "            self.best_metric = metrics[self.metric_name]\n",
    "            model_path = os.path.join(self.save_path, \"pretrained_best_model.pt\")\n",
    "            torch.save(kwargs['model'].state_dict(), model_path)\n",
    "            print(f\"Model terbaik disimpan di {model_path} dengan {self.metric_name}: {self.best_metric:.4f}\")\n",
    "    \n",
    "    def on_epoch_end(self, args, state, control, **kwargs):\n",
    "        # Ambil training loss dan accuracy dari log_history\n",
    "        if state.log_history:\n",
    "            if \"loss\" in state.log_history[-1]:\n",
    "                self.train_losses.append(state.log_history[-1][\"loss\"])\n",
    "\n",
    "        # Simpan grafik loss\n",
    "        loss_path = os.path.join(self.save_path, \"pretrained_loss_plot.png\")\n",
    "        plt.figure(figsize=(10, 5))\n",
    "        plt.plot(range(1, len(self.train_losses) + 1), self.train_losses, label=\"Training Loss\", marker='o')\n",
    "        if self.eval_losses:\n",
    "            plt.plot(range(1, len(self.eval_losses) + 1), self.eval_losses, label=\"Validation Loss\", marker='o')\n",
    "        plt.title(\"Loss per Epoch\")\n",
    "        plt.xlabel(\"Epoch\")\n",
    "        plt.ylabel(\"Loss\")\n",
    "        plt.legend()\n",
    "        plt.grid(True)\n",
    "        plt.savefig(loss_path)\n",
    "        plt.close()\n",
    "        print(f\"Grafik loss disimpan untuk epoch {state.epoch}\")\n",
    "        \n",
    "        # Simpan grafik accuracy\n",
    "        accuracy_path = os.path.join(self.save_path, \"pretrained_accuracy_plot.png\")\n",
    "        plt.figure(figsize=(10, 5))\n",
    "        plt.plot(range(1, len(self.accuracies) + 1), self.accuracies, label=\"Accuracy\", marker='o')\n",
    "        plt.title(\"Accuracy per Epoch\")\n",
    "        plt.xlabel(\"Epoch\")\n",
    "        plt.ylabel(\"Accuracy\")\n",
    "        plt.legend()\n",
    "        plt.grid(True)\n",
    "        plt.savefig(accuracy_path)\n",
    "        plt.close()\n",
    "        print(f\"Grafik accuracy disimpan untuk epoch {state.epoch}\")"
   ]
  },
  {
   "cell_type": "code",
   "execution_count": 21,
   "id": "463265a1-d955-4317-bf1a-a73b00445f83",
   "metadata": {},
   "outputs": [
    {
     "name": "stderr",
     "output_type": "stream",
     "text": [
      "/home/ilkom/.local/lib/python3.12/site-packages/transformers/training_args.py:1568: FutureWarning: `evaluation_strategy` is deprecated and will be removed in version 4.46 of 🤗 Transformers. Use `eval_strategy` instead\n",
      "  warnings.warn(\n"
     ]
    }
   ],
   "source": [
    "training_args = TrainingArguments(\n",
    "    output_dir=\"../Khaairi/Result\",\n",
    "    per_device_train_batch_size=16,\n",
    "    per_device_eval_batch_size=16,\n",
    "    evaluation_strategy=\"epoch\",\n",
    "    save_strategy=\"no\",\n",
    "    logging_steps=100,\n",
    "    num_train_epochs=50,\n",
    "    learning_rate=3e-4,\n",
    "    remove_unused_columns=False,\n",
    ")"
   ]
  },
  {
   "cell_type": "code",
   "execution_count": 22,
   "id": "e244bba1-67a4-43ca-a1be-d723488d0cd0",
   "metadata": {},
   "outputs": [
    {
     "name": "stderr",
     "output_type": "stream",
     "text": [
      "/tmp/ipykernel_62561/2079443237.py:1: FutureWarning: `tokenizer` is deprecated and will be removed in version 5.0.0 for `Trainer.__init__`. Use `processing_class` instead.\n",
      "  trainer = Trainer(\n"
     ]
    }
   ],
   "source": [
    "trainer = Trainer(\n",
    "    model=vit,\n",
    "    args=training_args,\n",
    "    data_collator=collate_fn,\n",
    "    compute_metrics=compute_metrics,\n",
    "    train_dataset=processed_dataset[\"train\"],\n",
    "    eval_dataset=processed_dataset[\"validation\"],\n",
    "    tokenizer=processor,\n",
    "    callbacks=[SaveBestModelCallback(save_path = '../Khaairi/Result')]\n",
    ")"
   ]
  },
  {
   "cell_type": "code",
   "execution_count": 23,
   "id": "b88f2319-f2a3-4573-91ee-69319ade9c71",
   "metadata": {},
   "outputs": [
    {
     "name": "stderr",
     "output_type": "stream",
     "text": [
      "/home/ilkom/.local/lib/python3.12/site-packages/torch/nn/parallel/_functions.py:71: UserWarning: Was asked to gather along dimension 0, but all input tensors were scalars; will instead unsqueeze and return a vector.\n",
      "  warnings.warn(\n"
     ]
    },
    {
     "data": {
      "text/html": [
       "\n",
       "    <div>\n",
       "      \n",
       "      <progress value='22267' max='42150' style='width:300px; height:20px; vertical-align: middle;'></progress>\n",
       "      [22267/42150 4:18:49 < 3:51:08, 1.43 it/s, Epoch 26.41/50]\n",
       "    </div>\n",
       "    <table border=\"1\" class=\"dataframe\">\n",
       "  <thead>\n",
       " <tr style=\"text-align: left;\">\n",
       "      <th>Epoch</th>\n",
       "      <th>Training Loss</th>\n",
       "      <th>Validation Loss</th>\n",
       "      <th>Accuracy</th>\n",
       "      <th>F1</th>\n",
       "    </tr>\n",
       "  </thead>\n",
       "  <tbody>\n",
       "    <tr>\n",
       "      <td>1</td>\n",
       "      <td>1.051700</td>\n",
       "      <td>1.053576</td>\n",
       "      <td>0.602337</td>\n",
       "      <td>0.595655</td>\n",
       "    </tr>\n",
       "    <tr>\n",
       "      <td>2</td>\n",
       "      <td>0.887000</td>\n",
       "      <td>0.989449</td>\n",
       "      <td>0.632053</td>\n",
       "      <td>0.625197</td>\n",
       "    </tr>\n",
       "    <tr>\n",
       "      <td>3</td>\n",
       "      <td>0.790900</td>\n",
       "      <td>0.977340</td>\n",
       "      <td>0.630050</td>\n",
       "      <td>0.629984</td>\n",
       "    </tr>\n",
       "    <tr>\n",
       "      <td>4</td>\n",
       "      <td>0.672600</td>\n",
       "      <td>0.944849</td>\n",
       "      <td>0.667446</td>\n",
       "      <td>0.663978</td>\n",
       "    </tr>\n",
       "    <tr>\n",
       "      <td>5</td>\n",
       "      <td>0.575300</td>\n",
       "      <td>1.016180</td>\n",
       "      <td>0.655426</td>\n",
       "      <td>0.656512</td>\n",
       "    </tr>\n",
       "    <tr>\n",
       "      <td>6</td>\n",
       "      <td>0.478800</td>\n",
       "      <td>1.113594</td>\n",
       "      <td>0.649416</td>\n",
       "      <td>0.642400</td>\n",
       "    </tr>\n",
       "    <tr>\n",
       "      <td>7</td>\n",
       "      <td>0.351500</td>\n",
       "      <td>1.230857</td>\n",
       "      <td>0.656427</td>\n",
       "      <td>0.657378</td>\n",
       "    </tr>\n",
       "    <tr>\n",
       "      <td>8</td>\n",
       "      <td>0.286300</td>\n",
       "      <td>1.426880</td>\n",
       "      <td>0.648080</td>\n",
       "      <td>0.643198</td>\n",
       "    </tr>\n",
       "    <tr>\n",
       "      <td>9</td>\n",
       "      <td>0.219000</td>\n",
       "      <td>1.485687</td>\n",
       "      <td>0.643406</td>\n",
       "      <td>0.642493</td>\n",
       "    </tr>\n",
       "    <tr>\n",
       "      <td>10</td>\n",
       "      <td>0.191200</td>\n",
       "      <td>1.557171</td>\n",
       "      <td>0.667780</td>\n",
       "      <td>0.664178</td>\n",
       "    </tr>\n",
       "    <tr>\n",
       "      <td>11</td>\n",
       "      <td>0.182300</td>\n",
       "      <td>1.657550</td>\n",
       "      <td>0.651753</td>\n",
       "      <td>0.651975</td>\n",
       "    </tr>\n",
       "    <tr>\n",
       "      <td>12</td>\n",
       "      <td>0.158300</td>\n",
       "      <td>1.548951</td>\n",
       "      <td>0.650083</td>\n",
       "      <td>0.650599</td>\n",
       "    </tr>\n",
       "    <tr>\n",
       "      <td>13</td>\n",
       "      <td>0.122900</td>\n",
       "      <td>1.847339</td>\n",
       "      <td>0.659432</td>\n",
       "      <td>0.658401</td>\n",
       "    </tr>\n",
       "    <tr>\n",
       "      <td>14</td>\n",
       "      <td>0.130700</td>\n",
       "      <td>1.720967</td>\n",
       "      <td>0.657429</td>\n",
       "      <td>0.656478</td>\n",
       "    </tr>\n",
       "    <tr>\n",
       "      <td>15</td>\n",
       "      <td>0.102600</td>\n",
       "      <td>1.968286</td>\n",
       "      <td>0.644407</td>\n",
       "      <td>0.643986</td>\n",
       "    </tr>\n",
       "    <tr>\n",
       "      <td>16</td>\n",
       "      <td>0.119400</td>\n",
       "      <td>1.817762</td>\n",
       "      <td>0.663773</td>\n",
       "      <td>0.664481</td>\n",
       "    </tr>\n",
       "    <tr>\n",
       "      <td>17</td>\n",
       "      <td>0.099700</td>\n",
       "      <td>1.758231</td>\n",
       "      <td>0.661770</td>\n",
       "      <td>0.659536</td>\n",
       "    </tr>\n",
       "    <tr>\n",
       "      <td>18</td>\n",
       "      <td>0.071300</td>\n",
       "      <td>1.895493</td>\n",
       "      <td>0.669449</td>\n",
       "      <td>0.664782</td>\n",
       "    </tr>\n",
       "    <tr>\n",
       "      <td>19</td>\n",
       "      <td>0.081000</td>\n",
       "      <td>2.116904</td>\n",
       "      <td>0.666110</td>\n",
       "      <td>0.666149</td>\n",
       "    </tr>\n",
       "    <tr>\n",
       "      <td>20</td>\n",
       "      <td>0.068400</td>\n",
       "      <td>2.221894</td>\n",
       "      <td>0.657095</td>\n",
       "      <td>0.655414</td>\n",
       "    </tr>\n",
       "    <tr>\n",
       "      <td>21</td>\n",
       "      <td>0.063600</td>\n",
       "      <td>1.896540</td>\n",
       "      <td>0.663105</td>\n",
       "      <td>0.660580</td>\n",
       "    </tr>\n",
       "    <tr>\n",
       "      <td>22</td>\n",
       "      <td>0.061100</td>\n",
       "      <td>2.245150</td>\n",
       "      <td>0.658431</td>\n",
       "      <td>0.655444</td>\n",
       "    </tr>\n",
       "    <tr>\n",
       "      <td>23</td>\n",
       "      <td>0.066300</td>\n",
       "      <td>2.237165</td>\n",
       "      <td>0.660100</td>\n",
       "      <td>0.657921</td>\n",
       "    </tr>\n",
       "    <tr>\n",
       "      <td>24</td>\n",
       "      <td>0.061600</td>\n",
       "      <td>2.301592</td>\n",
       "      <td>0.657429</td>\n",
       "      <td>0.655600</td>\n",
       "    </tr>\n",
       "    <tr>\n",
       "      <td>25</td>\n",
       "      <td>0.043000</td>\n",
       "      <td>2.469782</td>\n",
       "      <td>0.659098</td>\n",
       "      <td>0.661613</td>\n",
       "    </tr>\n",
       "    <tr>\n",
       "      <td>26</td>\n",
       "      <td>0.031800</td>\n",
       "      <td>2.563221</td>\n",
       "      <td>0.649940</td>\n",
       "      <td>0.642530</td>\n",
       "    </tr>\n",
       "  </tbody>\n",
       "</table><p>\n",
       "    <div>\n",
       "      \n",
       "      <progress value='104' max='104' style='width:300px; height:20px; vertical-align: middle;'></progress>\n",
       "      [104/104 00:31]\n",
       "    </div>\n",
       "    "
      ],
      "text/plain": [
       "<IPython.core.display.HTML object>"
      ]
     },
     "metadata": {},
     "output_type": "display_data"
    },
    {
     "name": "stdout",
     "output_type": "stream",
     "text": [
      "Grafik loss disimpan untuk epoch 1.0\n",
      "Grafik accuracy disimpan untuk epoch 1.0\n",
      "Model terbaik disimpan di ../Khaairi/Result/pretrained_best_model.pt dengan eval_accuracy: 0.6023\n"
     ]
    },
    {
     "name": "stderr",
     "output_type": "stream",
     "text": [
      "/home/ilkom/.local/lib/python3.12/site-packages/torch/nn/parallel/_functions.py:71: UserWarning: Was asked to gather along dimension 0, but all input tensors were scalars; will instead unsqueeze and return a vector.\n",
      "  warnings.warn(\n"
     ]
    },
    {
     "name": "stdout",
     "output_type": "stream",
     "text": [
      "Grafik loss disimpan untuk epoch 2.0\n",
      "Grafik accuracy disimpan untuk epoch 2.0\n",
      "Model terbaik disimpan di ../Khaairi/Result/pretrained_best_model.pt dengan eval_accuracy: 0.6321\n"
     ]
    },
    {
     "name": "stderr",
     "output_type": "stream",
     "text": [
      "/home/ilkom/.local/lib/python3.12/site-packages/torch/nn/parallel/_functions.py:71: UserWarning: Was asked to gather along dimension 0, but all input tensors were scalars; will instead unsqueeze and return a vector.\n",
      "  warnings.warn(\n"
     ]
    },
    {
     "name": "stdout",
     "output_type": "stream",
     "text": [
      "Grafik loss disimpan untuk epoch 3.0\n",
      "Grafik accuracy disimpan untuk epoch 3.0\n"
     ]
    },
    {
     "name": "stderr",
     "output_type": "stream",
     "text": [
      "/home/ilkom/.local/lib/python3.12/site-packages/torch/nn/parallel/_functions.py:71: UserWarning: Was asked to gather along dimension 0, but all input tensors were scalars; will instead unsqueeze and return a vector.\n",
      "  warnings.warn(\n"
     ]
    },
    {
     "name": "stdout",
     "output_type": "stream",
     "text": [
      "Grafik loss disimpan untuk epoch 4.0\n",
      "Grafik accuracy disimpan untuk epoch 4.0\n",
      "Model terbaik disimpan di ../Khaairi/Result/pretrained_best_model.pt dengan eval_accuracy: 0.6674\n"
     ]
    },
    {
     "name": "stderr",
     "output_type": "stream",
     "text": [
      "/home/ilkom/.local/lib/python3.12/site-packages/torch/nn/parallel/_functions.py:71: UserWarning: Was asked to gather along dimension 0, but all input tensors were scalars; will instead unsqueeze and return a vector.\n",
      "  warnings.warn(\n"
     ]
    },
    {
     "name": "stdout",
     "output_type": "stream",
     "text": [
      "Grafik loss disimpan untuk epoch 5.0\n",
      "Grafik accuracy disimpan untuk epoch 5.0\n"
     ]
    },
    {
     "name": "stderr",
     "output_type": "stream",
     "text": [
      "/home/ilkom/.local/lib/python3.12/site-packages/torch/nn/parallel/_functions.py:71: UserWarning: Was asked to gather along dimension 0, but all input tensors were scalars; will instead unsqueeze and return a vector.\n",
      "  warnings.warn(\n"
     ]
    },
    {
     "name": "stdout",
     "output_type": "stream",
     "text": [
      "Grafik loss disimpan untuk epoch 6.0\n",
      "Grafik accuracy disimpan untuk epoch 6.0\n"
     ]
    },
    {
     "name": "stderr",
     "output_type": "stream",
     "text": [
      "/home/ilkom/.local/lib/python3.12/site-packages/torch/nn/parallel/_functions.py:71: UserWarning: Was asked to gather along dimension 0, but all input tensors were scalars; will instead unsqueeze and return a vector.\n",
      "  warnings.warn(\n"
     ]
    },
    {
     "name": "stdout",
     "output_type": "stream",
     "text": [
      "Grafik loss disimpan untuk epoch 7.0\n",
      "Grafik accuracy disimpan untuk epoch 7.0\n"
     ]
    },
    {
     "name": "stderr",
     "output_type": "stream",
     "text": [
      "/home/ilkom/.local/lib/python3.12/site-packages/torch/nn/parallel/_functions.py:71: UserWarning: Was asked to gather along dimension 0, but all input tensors were scalars; will instead unsqueeze and return a vector.\n",
      "  warnings.warn(\n"
     ]
    },
    {
     "name": "stdout",
     "output_type": "stream",
     "text": [
      "Grafik loss disimpan untuk epoch 8.0\n",
      "Grafik accuracy disimpan untuk epoch 8.0\n"
     ]
    },
    {
     "name": "stderr",
     "output_type": "stream",
     "text": [
      "/home/ilkom/.local/lib/python3.12/site-packages/torch/nn/parallel/_functions.py:71: UserWarning: Was asked to gather along dimension 0, but all input tensors were scalars; will instead unsqueeze and return a vector.\n",
      "  warnings.warn(\n"
     ]
    },
    {
     "name": "stdout",
     "output_type": "stream",
     "text": [
      "Grafik loss disimpan untuk epoch 9.0\n",
      "Grafik accuracy disimpan untuk epoch 9.0\n"
     ]
    },
    {
     "name": "stderr",
     "output_type": "stream",
     "text": [
      "/home/ilkom/.local/lib/python3.12/site-packages/torch/nn/parallel/_functions.py:71: UserWarning: Was asked to gather along dimension 0, but all input tensors were scalars; will instead unsqueeze and return a vector.\n",
      "  warnings.warn(\n"
     ]
    },
    {
     "name": "stdout",
     "output_type": "stream",
     "text": [
      "Grafik loss disimpan untuk epoch 10.0\n",
      "Grafik accuracy disimpan untuk epoch 10.0\n",
      "Model terbaik disimpan di ../Khaairi/Result/pretrained_best_model.pt dengan eval_accuracy: 0.6678\n"
     ]
    },
    {
     "name": "stderr",
     "output_type": "stream",
     "text": [
      "/home/ilkom/.local/lib/python3.12/site-packages/torch/nn/parallel/_functions.py:71: UserWarning: Was asked to gather along dimension 0, but all input tensors were scalars; will instead unsqueeze and return a vector.\n",
      "  warnings.warn(\n"
     ]
    },
    {
     "name": "stdout",
     "output_type": "stream",
     "text": [
      "Grafik loss disimpan untuk epoch 11.0\n",
      "Grafik accuracy disimpan untuk epoch 11.0\n"
     ]
    },
    {
     "name": "stderr",
     "output_type": "stream",
     "text": [
      "/home/ilkom/.local/lib/python3.12/site-packages/torch/nn/parallel/_functions.py:71: UserWarning: Was asked to gather along dimension 0, but all input tensors were scalars; will instead unsqueeze and return a vector.\n",
      "  warnings.warn(\n"
     ]
    },
    {
     "name": "stdout",
     "output_type": "stream",
     "text": [
      "Grafik loss disimpan untuk epoch 12.0\n",
      "Grafik accuracy disimpan untuk epoch 12.0\n"
     ]
    },
    {
     "name": "stderr",
     "output_type": "stream",
     "text": [
      "/home/ilkom/.local/lib/python3.12/site-packages/torch/nn/parallel/_functions.py:71: UserWarning: Was asked to gather along dimension 0, but all input tensors were scalars; will instead unsqueeze and return a vector.\n",
      "  warnings.warn(\n"
     ]
    },
    {
     "name": "stdout",
     "output_type": "stream",
     "text": [
      "Grafik loss disimpan untuk epoch 13.0\n",
      "Grafik accuracy disimpan untuk epoch 13.0\n"
     ]
    },
    {
     "name": "stderr",
     "output_type": "stream",
     "text": [
      "/home/ilkom/.local/lib/python3.12/site-packages/torch/nn/parallel/_functions.py:71: UserWarning: Was asked to gather along dimension 0, but all input tensors were scalars; will instead unsqueeze and return a vector.\n",
      "  warnings.warn(\n"
     ]
    },
    {
     "name": "stdout",
     "output_type": "stream",
     "text": [
      "Grafik loss disimpan untuk epoch 14.0\n",
      "Grafik accuracy disimpan untuk epoch 14.0\n"
     ]
    },
    {
     "name": "stderr",
     "output_type": "stream",
     "text": [
      "/home/ilkom/.local/lib/python3.12/site-packages/torch/nn/parallel/_functions.py:71: UserWarning: Was asked to gather along dimension 0, but all input tensors were scalars; will instead unsqueeze and return a vector.\n",
      "  warnings.warn(\n"
     ]
    },
    {
     "name": "stdout",
     "output_type": "stream",
     "text": [
      "Grafik loss disimpan untuk epoch 15.0\n",
      "Grafik accuracy disimpan untuk epoch 15.0\n"
     ]
    },
    {
     "name": "stderr",
     "output_type": "stream",
     "text": [
      "/home/ilkom/.local/lib/python3.12/site-packages/torch/nn/parallel/_functions.py:71: UserWarning: Was asked to gather along dimension 0, but all input tensors were scalars; will instead unsqueeze and return a vector.\n",
      "  warnings.warn(\n"
     ]
    },
    {
     "name": "stdout",
     "output_type": "stream",
     "text": [
      "Grafik loss disimpan untuk epoch 16.0\n",
      "Grafik accuracy disimpan untuk epoch 16.0\n"
     ]
    },
    {
     "name": "stderr",
     "output_type": "stream",
     "text": [
      "/home/ilkom/.local/lib/python3.12/site-packages/torch/nn/parallel/_functions.py:71: UserWarning: Was asked to gather along dimension 0, but all input tensors were scalars; will instead unsqueeze and return a vector.\n",
      "  warnings.warn(\n"
     ]
    },
    {
     "name": "stdout",
     "output_type": "stream",
     "text": [
      "Grafik loss disimpan untuk epoch 17.0\n",
      "Grafik accuracy disimpan untuk epoch 17.0\n"
     ]
    },
    {
     "name": "stderr",
     "output_type": "stream",
     "text": [
      "/home/ilkom/.local/lib/python3.12/site-packages/torch/nn/parallel/_functions.py:71: UserWarning: Was asked to gather along dimension 0, but all input tensors were scalars; will instead unsqueeze and return a vector.\n",
      "  warnings.warn(\n"
     ]
    },
    {
     "name": "stdout",
     "output_type": "stream",
     "text": [
      "Grafik loss disimpan untuk epoch 18.0\n",
      "Grafik accuracy disimpan untuk epoch 18.0\n",
      "Model terbaik disimpan di ../Khaairi/Result/pretrained_best_model.pt dengan eval_accuracy: 0.6694\n"
     ]
    },
    {
     "name": "stderr",
     "output_type": "stream",
     "text": [
      "/home/ilkom/.local/lib/python3.12/site-packages/torch/nn/parallel/_functions.py:71: UserWarning: Was asked to gather along dimension 0, but all input tensors were scalars; will instead unsqueeze and return a vector.\n",
      "  warnings.warn(\n"
     ]
    },
    {
     "name": "stdout",
     "output_type": "stream",
     "text": [
      "Grafik loss disimpan untuk epoch 19.0\n",
      "Grafik accuracy disimpan untuk epoch 19.0\n"
     ]
    },
    {
     "name": "stderr",
     "output_type": "stream",
     "text": [
      "/home/ilkom/.local/lib/python3.12/site-packages/torch/nn/parallel/_functions.py:71: UserWarning: Was asked to gather along dimension 0, but all input tensors were scalars; will instead unsqueeze and return a vector.\n",
      "  warnings.warn(\n"
     ]
    },
    {
     "name": "stdout",
     "output_type": "stream",
     "text": [
      "Grafik loss disimpan untuk epoch 20.0\n",
      "Grafik accuracy disimpan untuk epoch 20.0\n"
     ]
    },
    {
     "name": "stderr",
     "output_type": "stream",
     "text": [
      "/home/ilkom/.local/lib/python3.12/site-packages/torch/nn/parallel/_functions.py:71: UserWarning: Was asked to gather along dimension 0, but all input tensors were scalars; will instead unsqueeze and return a vector.\n",
      "  warnings.warn(\n"
     ]
    },
    {
     "name": "stdout",
     "output_type": "stream",
     "text": [
      "Grafik loss disimpan untuk epoch 21.0\n",
      "Grafik accuracy disimpan untuk epoch 21.0\n"
     ]
    },
    {
     "name": "stderr",
     "output_type": "stream",
     "text": [
      "/home/ilkom/.local/lib/python3.12/site-packages/torch/nn/parallel/_functions.py:71: UserWarning: Was asked to gather along dimension 0, but all input tensors were scalars; will instead unsqueeze and return a vector.\n",
      "  warnings.warn(\n"
     ]
    },
    {
     "name": "stdout",
     "output_type": "stream",
     "text": [
      "Grafik loss disimpan untuk epoch 22.0\n",
      "Grafik accuracy disimpan untuk epoch 22.0\n"
     ]
    },
    {
     "name": "stderr",
     "output_type": "stream",
     "text": [
      "/home/ilkom/.local/lib/python3.12/site-packages/torch/nn/parallel/_functions.py:71: UserWarning: Was asked to gather along dimension 0, but all input tensors were scalars; will instead unsqueeze and return a vector.\n",
      "  warnings.warn(\n"
     ]
    },
    {
     "name": "stdout",
     "output_type": "stream",
     "text": [
      "Grafik loss disimpan untuk epoch 23.0\n",
      "Grafik accuracy disimpan untuk epoch 23.0\n"
     ]
    },
    {
     "name": "stderr",
     "output_type": "stream",
     "text": [
      "/home/ilkom/.local/lib/python3.12/site-packages/torch/nn/parallel/_functions.py:71: UserWarning: Was asked to gather along dimension 0, but all input tensors were scalars; will instead unsqueeze and return a vector.\n",
      "  warnings.warn(\n"
     ]
    },
    {
     "name": "stdout",
     "output_type": "stream",
     "text": [
      "Grafik loss disimpan untuk epoch 24.0\n",
      "Grafik accuracy disimpan untuk epoch 24.0\n"
     ]
    },
    {
     "name": "stderr",
     "output_type": "stream",
     "text": [
      "/home/ilkom/.local/lib/python3.12/site-packages/torch/nn/parallel/_functions.py:71: UserWarning: Was asked to gather along dimension 0, but all input tensors were scalars; will instead unsqueeze and return a vector.\n",
      "  warnings.warn(\n"
     ]
    },
    {
     "name": "stdout",
     "output_type": "stream",
     "text": [
      "Grafik loss disimpan untuk epoch 25.0\n",
      "Grafik accuracy disimpan untuk epoch 25.0\n"
     ]
    },
    {
     "name": "stderr",
     "output_type": "stream",
     "text": [
      "/home/ilkom/.local/lib/python3.12/site-packages/torch/nn/parallel/_functions.py:71: UserWarning: Was asked to gather along dimension 0, but all input tensors were scalars; will instead unsqueeze and return a vector.\n",
      "  warnings.warn(\n"
     ]
    },
    {
     "name": "stdout",
     "output_type": "stream",
     "text": [
      "Grafik loss disimpan untuk epoch 26.0\n",
      "Grafik accuracy disimpan untuk epoch 26.0\n",
      "Model terbaik disimpan di ../Khaairi/Result/pretrained_best_model.pt dengan eval_accuracy: 0.6741\n"
     ]
    },
    {
     "name": "stderr",
     "output_type": "stream",
     "text": [
      "/home/ilkom/.local/lib/python3.12/site-packages/torch/nn/parallel/_functions.py:71: UserWarning: Was asked to gather along dimension 0, but all input tensors were scalars; will instead unsqueeze and return a vector.\n",
      "  warnings.warn(\n"
     ]
    },
    {
     "ename": "KeyboardInterrupt",
     "evalue": "",
     "output_type": "error",
     "traceback": [
      "\u001b[0;31m---------------------------------------------------------------------------\u001b[0m",
      "\u001b[0;31mKeyboardInterrupt\u001b[0m                         Traceback (most recent call last)",
      "Cell \u001b[0;32mIn[23], line 1\u001b[0m\n\u001b[0;32m----> 1\u001b[0m trainer\u001b[38;5;241m.\u001b[39mtrain()\n",
      "File \u001b[0;32m~/.local/lib/python3.12/site-packages/transformers/trainer.py:2123\u001b[0m, in \u001b[0;36mTrainer.train\u001b[0;34m(self, resume_from_checkpoint, trial, ignore_keys_for_eval, **kwargs)\u001b[0m\n\u001b[1;32m   2121\u001b[0m         hf_hub_utils\u001b[38;5;241m.\u001b[39menable_progress_bars()\n\u001b[1;32m   2122\u001b[0m \u001b[38;5;28;01melse\u001b[39;00m:\n\u001b[0;32m-> 2123\u001b[0m     \u001b[38;5;28;01mreturn\u001b[39;00m inner_training_loop(\n\u001b[1;32m   2124\u001b[0m         args\u001b[38;5;241m=\u001b[39margs,\n\u001b[1;32m   2125\u001b[0m         resume_from_checkpoint\u001b[38;5;241m=\u001b[39mresume_from_checkpoint,\n\u001b[1;32m   2126\u001b[0m         trial\u001b[38;5;241m=\u001b[39mtrial,\n\u001b[1;32m   2127\u001b[0m         ignore_keys_for_eval\u001b[38;5;241m=\u001b[39mignore_keys_for_eval,\n\u001b[1;32m   2128\u001b[0m     )\n",
      "File \u001b[0;32m~/.local/lib/python3.12/site-packages/transformers/trainer.py:2486\u001b[0m, in \u001b[0;36mTrainer._inner_training_loop\u001b[0;34m(self, batch_size, args, resume_from_checkpoint, trial, ignore_keys_for_eval)\u001b[0m\n\u001b[1;32m   2480\u001b[0m \u001b[38;5;28;01mwith\u001b[39;00m context():\n\u001b[1;32m   2481\u001b[0m     tr_loss_step \u001b[38;5;241m=\u001b[39m \u001b[38;5;28mself\u001b[39m\u001b[38;5;241m.\u001b[39mtraining_step(model, inputs, num_items_in_batch)\n\u001b[1;32m   2483\u001b[0m \u001b[38;5;28;01mif\u001b[39;00m (\n\u001b[1;32m   2484\u001b[0m     args\u001b[38;5;241m.\u001b[39mlogging_nan_inf_filter\n\u001b[1;32m   2485\u001b[0m     \u001b[38;5;129;01mand\u001b[39;00m \u001b[38;5;129;01mnot\u001b[39;00m is_torch_xla_available()\n\u001b[0;32m-> 2486\u001b[0m     \u001b[38;5;129;01mand\u001b[39;00m (torch\u001b[38;5;241m.\u001b[39misnan(tr_loss_step) \u001b[38;5;129;01mor\u001b[39;00m torch\u001b[38;5;241m.\u001b[39misinf(tr_loss_step))\n\u001b[1;32m   2487\u001b[0m ):\n\u001b[1;32m   2488\u001b[0m     \u001b[38;5;66;03m# if loss is nan or inf simply add the average of previous logged losses\u001b[39;00m\n\u001b[1;32m   2489\u001b[0m     tr_loss \u001b[38;5;241m=\u001b[39m tr_loss \u001b[38;5;241m+\u001b[39m tr_loss \u001b[38;5;241m/\u001b[39m (\u001b[38;5;241m1\u001b[39m \u001b[38;5;241m+\u001b[39m \u001b[38;5;28mself\u001b[39m\u001b[38;5;241m.\u001b[39mstate\u001b[38;5;241m.\u001b[39mglobal_step \u001b[38;5;241m-\u001b[39m \u001b[38;5;28mself\u001b[39m\u001b[38;5;241m.\u001b[39m_globalstep_last_logged)\n\u001b[1;32m   2490\u001b[0m \u001b[38;5;28;01melse\u001b[39;00m:\n",
      "\u001b[0;31mKeyboardInterrupt\u001b[0m: "
     ]
    }
   ],
   "source": [
    "trainer.train()"
   ]
  },
  {
   "cell_type": "code",
   "execution_count": 24,
   "id": "d780e3b5-e64c-4bc3-9ff1-0ddc87efe3ab",
   "metadata": {},
   "outputs": [
    {
     "data": {
      "text/plain": [
       "{'eval_loss': 2.5632212162017822,\n",
       " 'eval_accuracy': 0.6499399038461539,\n",
       " 'eval_f1': 0.6425298970360351}"
      ]
     },
     "execution_count": 24,
     "metadata": {},
     "output_type": "execute_result"
    }
   ],
   "source": [
    "trainer.evaluate(processed_dataset[\"test\"])"
   ]
  },
  {
   "cell_type": "code",
   "execution_count": 25,
   "id": "0e4dee16-ceca-4d9c-8155-823884994a7e",
   "metadata": {},
   "outputs": [
    {
     "name": "stderr",
     "output_type": "stream",
     "text": [
      "/home/ilkom/.local/lib/python3.12/site-packages/torch/nn/parallel/_functions.py:71: UserWarning: Was asked to gather along dimension 0, but all input tensors were scalars; will instead unsqueeze and return a vector.\n",
      "  warnings.warn(\n"
     ]
    }
   ],
   "source": [
    "# Melakukan prediksi pada dataset validasi\n",
    "predictions = trainer.predict(processed_dataset[\"test\"])\n",
    "\n",
    "# Mendapatkan logits dan label sebenarnya\n",
    "logits = predictions.predictions\n",
    "labels = predictions.label_ids\n",
    "\n",
    "# Mendapatkan prediksi akhir dengan argmax\n",
    "y_pred = np.argmax(logits, axis=1)\n",
    "y_true = labels"
   ]
  },
  {
   "cell_type": "code",
   "execution_count": 26,
   "id": "9fbde082-49f5-457e-88ef-674a73a9c1ee",
   "metadata": {},
   "outputs": [
    {
     "data": {
      "text/plain": [
       "<Figure size 1200x1000 with 0 Axes>"
      ]
     },
     "metadata": {},
     "output_type": "display_data"
    },
    {
     "data": {
      "image/png": "[encoded data removed]",
      "text/plain": [
       "<Figure size 640x480 with 2 Axes>"
      ]
     },
     "metadata": {},
     "output_type": "display_data"
    }
   ],
   "source": [
    "# Menghitung Confusion Matrix\n",
    "cm = confusion_matrix(y_true, y_pred)\n",
    "\n",
    "# Mengatur ukuran gambar\n",
    "plt.figure(figsize=(12, 10))\n",
    "\n",
    "# Menampilkan Confusion Matrix\n",
    "disp = ConfusionMatrixDisplay(confusion_matrix=cm, display_labels=list(id2label.values()))\n",
    "disp.plot(cmap=plt.cm.Blues, values_format='d')\n",
    "\n",
    "# Mengatur judul dan ukuran font\n",
    "plt.title(\"Confusion Matrix\", fontsize=18)\n",
    "plt.xticks(rotation=45, ha='right', fontsize=8)  # Ukuran font lebih kecil untuk sumbu x\n",
    "plt.yticks(fontsize=8)  # Ukuran font lebih kecil untuk sumbu y\n",
    "plt.xlabel('Predicted Labels', fontsize=12)\n",
    "plt.ylabel('True Labels', fontsize=12)\n",
    "\n",
    "# Tampilkan plot\n",
    "plt.show()"
   ]
  },
  {
   "cell_type": "code",
   "execution_count": 30,
   "id": "8b6937d4-bc97-4318-8604-09a15936f7df",
   "metadata": {},
   "outputs": [],
   "source": [
    "vit_with_weights2 = ViTWithClassWeights(base_vit=vit, class_weights=class_weights)"
   ]
  },
  {
   "cell_type": "code",
   "execution_count": 31,
   "id": "c73aa8d6-fff9-4dcd-85fc-3f6b2e9066dd",
   "metadata": {},
   "outputs": [
    {
     "name": "stderr",
     "output_type": "stream",
     "text": [
      "/tmp/ipykernel_62561/2954591399.py:3: FutureWarning: You are using `torch.load` with `weights_only=False` (the current default value), which uses the default pickle module implicitly. It is possible to construct malicious pickle data which will execute arbitrary code during unpickling (See https://github.com/pytorch/pytorch/blob/main/SECURITY.md#untrusted-models for more details). In a future release, the default value for `weights_only` will be flipped to `True`. This limits the functions that could be executed during unpickling. Arbitrary objects will no longer be allowed to be loaded via this mode unless they are explicitly allowlisted by the user via `torch.serialization.add_safe_globals`. We recommend you start setting `weights_only=True` for any use case where you don't have full control of the loaded file. Please open an issue on GitHub for any issues related to this experimental feature.\n",
      "  vit_with_weights2.load_state_dict(torch.load(model_path))\n"
     ]
    },
    {
     "ename": "RuntimeError",
     "evalue": "Error(s) in loading state_dict for ViTWithClassWeights:\n\tMissing key(s) in state_dict: \"vit.vit.embeddings.cls_token\", \"vit.vit.embeddings.position_embeddings\", \"vit.vit.embeddings.patch_embeddings.projection.weight\", \"vit.vit.embeddings.patch_embeddings.projection.bias\", \"vit.vit.encoder.layer.0.attention.attention.query.weight\", \"vit.vit.encoder.layer.0.attention.attention.query.bias\", \"vit.vit.encoder.layer.0.attention.attention.key.weight\", \"vit.vit.encoder.layer.0.attention.attention.key.bias\", \"vit.vit.encoder.layer.0.attention.attention.value.weight\", \"vit.vit.encoder.layer.0.attention.attention.value.bias\", \"vit.vit.encoder.layer.0.attention.output.dense.weight\", \"vit.vit.encoder.layer.0.attention.output.dense.bias\", \"vit.vit.encoder.layer.0.intermediate.dense.weight\", \"vit.vit.encoder.layer.0.intermediate.dense.bias\", \"vit.vit.encoder.layer.0.output.dense.weight\", \"vit.vit.encoder.layer.0.output.dense.bias\", \"vit.vit.encoder.layer.0.layernorm_before.weight\", \"vit.vit.encoder.layer.0.layernorm_before.bias\", \"vit.vit.encoder.layer.0.layernorm_after.weight\", \"vit.vit.encoder.layer.0.layernorm_after.bias\", \"vit.vit.encoder.layer.1.attention.attention.query.weight\", \"vit.vit.encoder.layer.1.attention.attention.query.bias\", \"vit.vit.encoder.layer.1.attention.attention.key.weight\", \"vit.vit.encoder.layer.1.attention.attention.key.bias\", \"vit.vit.encoder.layer.1.attention.attention.value.weight\", \"vit.vit.encoder.layer.1.attention.attention.value.bias\", \"vit.vit.encoder.layer.1.attention.output.dense.weight\", \"vit.vit.encoder.layer.1.attention.output.dense.bias\", \"vit.vit.encoder.layer.1.intermediate.dense.weight\", \"vit.vit.encoder.layer.1.intermediate.dense.bias\", \"vit.vit.encoder.layer.1.output.dense.weight\", \"vit.vit.encoder.layer.1.output.dense.bias\", \"vit.vit.encoder.layer.1.layernorm_before.weight\", \"vit.vit.encoder.layer.1.layernorm_before.bias\", \"vit.vit.encoder.layer.1.layernorm_after.weight\", \"vit.vit.encoder.layer.1.layernorm_after.bias\", \"vit.vit.encoder.layer.2.attention.attention.query.weight\", \"vit.vit.encoder.layer.2.attention.attention.query.bias\", \"vit.vit.encoder.layer.2.attention.attention.key.weight\", \"vit.vit.encoder.layer.2.attention.attention.key.bias\", \"vit.vit.encoder.layer.2.attention.attention.value.weight\", \"vit.vit.encoder.layer.2.attention.attention.value.bias\", \"vit.vit.encoder.layer.2.attention.output.dense.weight\", \"vit.vit.encoder.layer.2.attention.output.dense.bias\", \"vit.vit.encoder.layer.2.intermediate.dense.weight\", \"vit.vit.encoder.layer.2.intermediate.dense.bias\", \"vit.vit.encoder.layer.2.output.dense.weight\", \"vit.vit.encoder.layer.2.output.dense.bias\", \"vit.vit.encoder.layer.2.layernorm_before.weight\", \"vit.vit.encoder.layer.2.layernorm_before.bias\", \"vit.vit.encoder.layer.2.layernorm_after.weight\", \"vit.vit.encoder.layer.2.layernorm_after.bias\", \"vit.vit.encoder.layer.3.attention.attention.query.weight\", \"vit.vit.encoder.layer.3.attention.attention.query.bias\", \"vit.vit.encoder.layer.3.attention.attention.key.weight\", \"vit.vit.encoder.layer.3.attention.attention.key.bias\", \"vit.vit.encoder.layer.3.attention.attention.value.weight\", \"vit.vit.encoder.layer.3.attention.attention.value.bias\", \"vit.vit.encoder.layer.3.attention.output.dense.weight\", \"vit.vit.encoder.layer.3.attention.output.dense.bias\", \"vit.vit.encoder.layer.3.intermediate.dense.weight\", \"vit.vit.encoder.layer.3.intermediate.dense.bias\", \"vit.vit.encoder.layer.3.output.dense.weight\", \"vit.vit.encoder.layer.3.output.dense.bias\", \"vit.vit.encoder.layer.3.layernorm_before.weight\", \"vit.vit.encoder.layer.3.layernorm_before.bias\", \"vit.vit.encoder.layer.3.layernorm_after.weight\", \"vit.vit.encoder.layer.3.layernorm_after.bias\", \"vit.vit.encoder.layer.4.attention.attention.query.weight\", \"vit.vit.encoder.layer.4.attention.attention.query.bias\", \"vit.vit.encoder.layer.4.attention.attention.key.weight\", \"vit.vit.encoder.layer.4.attention.attention.key.bias\", \"vit.vit.encoder.layer.4.attention.attention.value.weight\", \"vit.vit.encoder.layer.4.attention.attention.value.bias\", \"vit.vit.encoder.layer.4.attention.output.dense.weight\", \"vit.vit.encoder.layer.4.attention.output.dense.bias\", \"vit.vit.encoder.layer.4.intermediate.dense.weight\", \"vit.vit.encoder.layer.4.intermediate.dense.bias\", \"vit.vit.encoder.layer.4.output.dense.weight\", \"vit.vit.encoder.layer.4.output.dense.bias\", \"vit.vit.encoder.layer.4.layernorm_before.weight\", \"vit.vit.encoder.layer.4.layernorm_before.bias\", \"vit.vit.encoder.layer.4.layernorm_after.weight\", \"vit.vit.encoder.layer.4.layernorm_after.bias\", \"vit.vit.encoder.layer.5.attention.attention.query.weight\", \"vit.vit.encoder.layer.5.attention.attention.query.bias\", \"vit.vit.encoder.layer.5.attention.attention.key.weight\", \"vit.vit.encoder.layer.5.attention.attention.key.bias\", \"vit.vit.encoder.layer.5.attention.attention.value.weight\", \"vit.vit.encoder.layer.5.attention.attention.value.bias\", \"vit.vit.encoder.layer.5.attention.output.dense.weight\", \"vit.vit.encoder.layer.5.attention.output.dense.bias\", \"vit.vit.encoder.layer.5.intermediate.dense.weight\", \"vit.vit.encoder.layer.5.intermediate.dense.bias\", \"vit.vit.encoder.layer.5.output.dense.weight\", \"vit.vit.encoder.layer.5.output.dense.bias\", \"vit.vit.encoder.layer.5.layernorm_before.weight\", \"vit.vit.encoder.layer.5.layernorm_before.bias\", \"vit.vit.encoder.layer.5.layernorm_after.weight\", \"vit.vit.encoder.layer.5.layernorm_after.bias\", \"vit.vit.encoder.layer.6.attention.attention.query.weight\", \"vit.vit.encoder.layer.6.attention.attention.query.bias\", \"vit.vit.encoder.layer.6.attention.attention.key.weight\", \"vit.vit.encoder.layer.6.attention.attention.key.bias\", \"vit.vit.encoder.layer.6.attention.attention.value.weight\", \"vit.vit.encoder.layer.6.attention.attention.value.bias\", \"vit.vit.encoder.layer.6.attention.output.dense.weight\", \"vit.vit.encoder.layer.6.attention.output.dense.bias\", \"vit.vit.encoder.layer.6.intermediate.dense.weight\", \"vit.vit.encoder.layer.6.intermediate.dense.bias\", \"vit.vit.encoder.layer.6.output.dense.weight\", \"vit.vit.encoder.layer.6.output.dense.bias\", \"vit.vit.encoder.layer.6.layernorm_before.weight\", \"vit.vit.encoder.layer.6.layernorm_before.bias\", \"vit.vit.encoder.layer.6.layernorm_after.weight\", \"vit.vit.encoder.layer.6.layernorm_after.bias\", \"vit.vit.encoder.layer.7.attention.attention.query.weight\", \"vit.vit.encoder.layer.7.attention.attention.query.bias\", \"vit.vit.encoder.layer.7.attention.attention.key.weight\", \"vit.vit.encoder.layer.7.attention.attention.key.bias\", \"vit.vit.encoder.layer.7.attention.attention.value.weight\", \"vit.vit.encoder.layer.7.attention.attention.value.bias\", \"vit.vit.encoder.layer.7.attention.output.dense.weight\", \"vit.vit.encoder.layer.7.attention.output.dense.bias\", \"vit.vit.encoder.layer.7.intermediate.dense.weight\", \"vit.vit.encoder.layer.7.intermediate.dense.bias\", \"vit.vit.encoder.layer.7.output.dense.weight\", \"vit.vit.encoder.layer.7.output.dense.bias\", \"vit.vit.encoder.layer.7.layernorm_before.weight\", \"vit.vit.encoder.layer.7.layernorm_before.bias\", \"vit.vit.encoder.layer.7.layernorm_after.weight\", \"vit.vit.encoder.layer.7.layernorm_after.bias\", \"vit.vit.encoder.layer.8.attention.attention.query.weight\", \"vit.vit.encoder.layer.8.attention.attention.query.bias\", \"vit.vit.encoder.layer.8.attention.attention.key.weight\", \"vit.vit.encoder.layer.8.attention.attention.key.bias\", \"vit.vit.encoder.layer.8.attention.attention.value.weight\", \"vit.vit.encoder.layer.8.attention.attention.value.bias\", \"vit.vit.encoder.layer.8.attention.output.dense.weight\", \"vit.vit.encoder.layer.8.attention.output.dense.bias\", \"vit.vit.encoder.layer.8.intermediate.dense.weight\", \"vit.vit.encoder.layer.8.intermediate.dense.bias\", \"vit.vit.encoder.layer.8.output.dense.weight\", \"vit.vit.encoder.layer.8.output.dense.bias\", \"vit.vit.encoder.layer.8.layernorm_before.weight\", \"vit.vit.encoder.layer.8.layernorm_before.bias\", \"vit.vit.encoder.layer.8.layernorm_after.weight\", \"vit.vit.encoder.layer.8.layernorm_after.bias\", \"vit.vit.encoder.layer.9.attention.attention.query.weight\", \"vit.vit.encoder.layer.9.attention.attention.query.bias\", \"vit.vit.encoder.layer.9.attention.attention.key.weight\", \"vit.vit.encoder.layer.9.attention.attention.key.bias\", \"vit.vit.encoder.layer.9.attention.attention.value.weight\", \"vit.vit.encoder.layer.9.attention.attention.value.bias\", \"vit.vit.encoder.layer.9.attention.output.dense.weight\", \"vit.vit.encoder.layer.9.attention.output.dense.bias\", \"vit.vit.encoder.layer.9.intermediate.dense.weight\", \"vit.vit.encoder.layer.9.intermediate.dense.bias\", \"vit.vit.encoder.layer.9.output.dense.weight\", \"vit.vit.encoder.layer.9.output.dense.bias\", \"vit.vit.encoder.layer.9.layernorm_before.weight\", \"vit.vit.encoder.layer.9.layernorm_before.bias\", \"vit.vit.encoder.layer.9.layernorm_after.weight\", \"vit.vit.encoder.layer.9.layernorm_after.bias\", \"vit.vit.encoder.layer.10.attention.attention.query.weight\", \"vit.vit.encoder.layer.10.attention.attention.query.bias\", \"vit.vit.encoder.layer.10.attention.attention.key.weight\", \"vit.vit.encoder.layer.10.attention.attention.key.bias\", \"vit.vit.encoder.layer.10.attention.attention.value.weight\", \"vit.vit.encoder.layer.10.attention.attention.value.bias\", \"vit.vit.encoder.layer.10.attention.output.dense.weight\", \"vit.vit.encoder.layer.10.attention.output.dense.bias\", \"vit.vit.encoder.layer.10.intermediate.dense.weight\", \"vit.vit.encoder.layer.10.intermediate.dense.bias\", \"vit.vit.encoder.layer.10.output.dense.weight\", \"vit.vit.encoder.layer.10.output.dense.bias\", \"vit.vit.encoder.layer.10.layernorm_before.weight\", \"vit.vit.encoder.layer.10.layernorm_before.bias\", \"vit.vit.encoder.layer.10.layernorm_after.weight\", \"vit.vit.encoder.layer.10.layernorm_after.bias\", \"vit.vit.encoder.layer.11.attention.attention.query.weight\", \"vit.vit.encoder.layer.11.attention.attention.query.bias\", \"vit.vit.encoder.layer.11.attention.attention.key.weight\", \"vit.vit.encoder.layer.11.attention.attention.key.bias\", \"vit.vit.encoder.layer.11.attention.attention.value.weight\", \"vit.vit.encoder.layer.11.attention.attention.value.bias\", \"vit.vit.encoder.layer.11.attention.output.dense.weight\", \"vit.vit.encoder.layer.11.attention.output.dense.bias\", \"vit.vit.encoder.layer.11.intermediate.dense.weight\", \"vit.vit.encoder.layer.11.intermediate.dense.bias\", \"vit.vit.encoder.layer.11.output.dense.weight\", \"vit.vit.encoder.layer.11.output.dense.bias\", \"vit.vit.encoder.layer.11.layernorm_before.weight\", \"vit.vit.encoder.layer.11.layernorm_before.bias\", \"vit.vit.encoder.layer.11.layernorm_after.weight\", \"vit.vit.encoder.layer.11.layernorm_after.bias\", \"vit.vit.layernorm.weight\", \"vit.vit.layernorm.bias\", \"vit.classifier.weight\", \"vit.classifier.bias\", \"loss_fn.weight\". \n\tUnexpected key(s) in state_dict: \"classifier.weight\", \"classifier.bias\", \"vit.embeddings.cls_token\", \"vit.embeddings.position_embeddings\", \"vit.embeddings.patch_embeddings.projection.weight\", \"vit.embeddings.patch_embeddings.projection.bias\", \"vit.encoder.layer.0.attention.attention.query.weight\", \"vit.encoder.layer.0.attention.attention.query.bias\", \"vit.encoder.layer.0.attention.attention.key.weight\", \"vit.encoder.layer.0.attention.attention.key.bias\", \"vit.encoder.layer.0.attention.attention.value.weight\", \"vit.encoder.layer.0.attention.attention.value.bias\", \"vit.encoder.layer.0.attention.output.dense.weight\", \"vit.encoder.layer.0.attention.output.dense.bias\", \"vit.encoder.layer.0.intermediate.dense.weight\", \"vit.encoder.layer.0.intermediate.dense.bias\", \"vit.encoder.layer.0.output.dense.weight\", \"vit.encoder.layer.0.output.dense.bias\", \"vit.encoder.layer.0.layernorm_before.weight\", \"vit.encoder.layer.0.layernorm_before.bias\", \"vit.encoder.layer.0.layernorm_after.weight\", \"vit.encoder.layer.0.layernorm_after.bias\", \"vit.encoder.layer.1.attention.attention.query.weight\", \"vit.encoder.layer.1.attention.attention.query.bias\", \"vit.encoder.layer.1.attention.attention.key.weight\", \"vit.encoder.layer.1.attention.attention.key.bias\", \"vit.encoder.layer.1.attention.attention.value.weight\", \"vit.encoder.layer.1.attention.attention.value.bias\", \"vit.encoder.layer.1.attention.output.dense.weight\", \"vit.encoder.layer.1.attention.output.dense.bias\", \"vit.encoder.layer.1.intermediate.dense.weight\", \"vit.encoder.layer.1.intermediate.dense.bias\", \"vit.encoder.layer.1.output.dense.weight\", \"vit.encoder.layer.1.output.dense.bias\", \"vit.encoder.layer.1.layernorm_before.weight\", \"vit.encoder.layer.1.layernorm_before.bias\", \"vit.encoder.layer.1.layernorm_after.weight\", \"vit.encoder.layer.1.layernorm_after.bias\", \"vit.encoder.layer.2.attention.attention.query.weight\", \"vit.encoder.layer.2.attention.attention.query.bias\", \"vit.encoder.layer.2.attention.attention.key.weight\", \"vit.encoder.layer.2.attention.attention.key.bias\", \"vit.encoder.layer.2.attention.attention.value.weight\", \"vit.encoder.layer.2.attention.attention.value.bias\", \"vit.encoder.layer.2.attention.output.dense.weight\", \"vit.encoder.layer.2.attention.output.dense.bias\", \"vit.encoder.layer.2.intermediate.dense.weight\", \"vit.encoder.layer.2.intermediate.dense.bias\", \"vit.encoder.layer.2.output.dense.weight\", \"vit.encoder.layer.2.output.dense.bias\", \"vit.encoder.layer.2.layernorm_before.weight\", \"vit.encoder.layer.2.layernorm_before.bias\", \"vit.encoder.layer.2.layernorm_after.weight\", \"vit.encoder.layer.2.layernorm_after.bias\", \"vit.encoder.layer.3.attention.attention.query.weight\", \"vit.encoder.layer.3.attention.attention.query.bias\", \"vit.encoder.layer.3.attention.attention.key.weight\", \"vit.encoder.layer.3.attention.attention.key.bias\", \"vit.encoder.layer.3.attention.attention.value.weight\", \"vit.encoder.layer.3.attention.attention.value.bias\", \"vit.encoder.layer.3.attention.output.dense.weight\", \"vit.encoder.layer.3.attention.output.dense.bias\", \"vit.encoder.layer.3.intermediate.dense.weight\", \"vit.encoder.layer.3.intermediate.dense.bias\", \"vit.encoder.layer.3.output.dense.weight\", \"vit.encoder.layer.3.output.dense.bias\", \"vit.encoder.layer.3.layernorm_before.weight\", \"vit.encoder.layer.3.layernorm_before.bias\", \"vit.encoder.layer.3.layernorm_after.weight\", \"vit.encoder.layer.3.layernorm_after.bias\", \"vit.encoder.layer.4.attention.attention.query.weight\", \"vit.encoder.layer.4.attention.attention.query.bias\", \"vit.encoder.layer.4.attention.attention.key.weight\", \"vit.encoder.layer.4.attention.attention.key.bias\", \"vit.encoder.layer.4.attention.attention.value.weight\", \"vit.encoder.layer.4.attention.attention.value.bias\", \"vit.encoder.layer.4.attention.output.dense.weight\", \"vit.encoder.layer.4.attention.output.dense.bias\", \"vit.encoder.layer.4.intermediate.dense.weight\", \"vit.encoder.layer.4.intermediate.dense.bias\", \"vit.encoder.layer.4.output.dense.weight\", \"vit.encoder.layer.4.output.dense.bias\", \"vit.encoder.layer.4.layernorm_before.weight\", \"vit.encoder.layer.4.layernorm_before.bias\", \"vit.encoder.layer.4.layernorm_after.weight\", \"vit.encoder.layer.4.layernorm_after.bias\", \"vit.encoder.layer.5.attention.attention.query.weight\", \"vit.encoder.layer.5.attention.attention.query.bias\", \"vit.encoder.layer.5.attention.attention.key.weight\", \"vit.encoder.layer.5.attention.attention.key.bias\", \"vit.encoder.layer.5.attention.attention.value.weight\", \"vit.encoder.layer.5.attention.attention.value.bias\", \"vit.encoder.layer.5.attention.output.dense.weight\", \"vit.encoder.layer.5.attention.output.dense.bias\", \"vit.encoder.layer.5.intermediate.dense.weight\", \"vit.encoder.layer.5.intermediate.dense.bias\", \"vit.encoder.layer.5.output.dense.weight\", \"vit.encoder.layer.5.output.dense.bias\", \"vit.encoder.layer.5.layernorm_before.weight\", \"vit.encoder.layer.5.layernorm_before.bias\", \"vit.encoder.layer.5.layernorm_after.weight\", \"vit.encoder.layer.5.layernorm_after.bias\", \"vit.encoder.layer.6.attention.attention.query.weight\", \"vit.encoder.layer.6.attention.attention.query.bias\", \"vit.encoder.layer.6.attention.attention.key.weight\", \"vit.encoder.layer.6.attention.attention.key.bias\", \"vit.encoder.layer.6.attention.attention.value.weight\", \"vit.encoder.layer.6.attention.attention.value.bias\", \"vit.encoder.layer.6.attention.output.dense.weight\", \"vit.encoder.layer.6.attention.output.dense.bias\", \"vit.encoder.layer.6.intermediate.dense.weight\", \"vit.encoder.layer.6.intermediate.dense.bias\", \"vit.encoder.layer.6.output.dense.weight\", \"vit.encoder.layer.6.output.dense.bias\", \"vit.encoder.layer.6.layernorm_before.weight\", \"vit.encoder.layer.6.layernorm_before.bias\", \"vit.encoder.layer.6.layernorm_after.weight\", \"vit.encoder.layer.6.layernorm_after.bias\", \"vit.encoder.layer.7.attention.attention.query.weight\", \"vit.encoder.layer.7.attention.attention.query.bias\", \"vit.encoder.layer.7.attention.attention.key.weight\", \"vit.encoder.layer.7.attention.attention.key.bias\", \"vit.encoder.layer.7.attention.attention.value.weight\", \"vit.encoder.layer.7.attention.attention.value.bias\", \"vit.encoder.layer.7.attention.output.dense.weight\", \"vit.encoder.layer.7.attention.output.dense.bias\", \"vit.encoder.layer.7.intermediate.dense.weight\", \"vit.encoder.layer.7.intermediate.dense.bias\", \"vit.encoder.layer.7.output.dense.weight\", \"vit.encoder.layer.7.output.dense.bias\", \"vit.encoder.layer.7.layernorm_before.weight\", \"vit.encoder.layer.7.layernorm_before.bias\", \"vit.encoder.layer.7.layernorm_after.weight\", \"vit.encoder.layer.7.layernorm_after.bias\", \"vit.encoder.layer.8.attention.attention.query.weight\", \"vit.encoder.layer.8.attention.attention.query.bias\", \"vit.encoder.layer.8.attention.attention.key.weight\", \"vit.encoder.layer.8.attention.attention.key.bias\", \"vit.encoder.layer.8.attention.attention.value.weight\", \"vit.encoder.layer.8.attention.attention.value.bias\", \"vit.encoder.layer.8.attention.output.dense.weight\", \"vit.encoder.layer.8.attention.output.dense.bias\", \"vit.encoder.layer.8.intermediate.dense.weight\", \"vit.encoder.layer.8.intermediate.dense.bias\", \"vit.encoder.layer.8.output.dense.weight\", \"vit.encoder.layer.8.output.dense.bias\", \"vit.encoder.layer.8.layernorm_before.weight\", \"vit.encoder.layer.8.layernorm_before.bias\", \"vit.encoder.layer.8.layernorm_after.weight\", \"vit.encoder.layer.8.layernorm_after.bias\", \"vit.encoder.layer.9.attention.attention.query.weight\", \"vit.encoder.layer.9.attention.attention.query.bias\", \"vit.encoder.layer.9.attention.attention.key.weight\", \"vit.encoder.layer.9.attention.attention.key.bias\", \"vit.encoder.layer.9.attention.attention.value.weight\", \"vit.encoder.layer.9.attention.attention.value.bias\", \"vit.encoder.layer.9.attention.output.dense.weight\", \"vit.encoder.layer.9.attention.output.dense.bias\", \"vit.encoder.layer.9.intermediate.dense.weight\", \"vit.encoder.layer.9.intermediate.dense.bias\", \"vit.encoder.layer.9.output.dense.weight\", \"vit.encoder.layer.9.output.dense.bias\", \"vit.encoder.layer.9.layernorm_before.weight\", \"vit.encoder.layer.9.layernorm_before.bias\", \"vit.encoder.layer.9.layernorm_after.weight\", \"vit.encoder.layer.9.layernorm_after.bias\", \"vit.encoder.layer.10.attention.attention.query.weight\", \"vit.encoder.layer.10.attention.attention.query.bias\", \"vit.encoder.layer.10.attention.attention.key.weight\", \"vit.encoder.layer.10.attention.attention.key.bias\", \"vit.encoder.layer.10.attention.attention.value.weight\", \"vit.encoder.layer.10.attention.attention.value.bias\", \"vit.encoder.layer.10.attention.output.dense.weight\", \"vit.encoder.layer.10.attention.output.dense.bias\", \"vit.encoder.layer.10.intermediate.dense.weight\", \"vit.encoder.layer.10.intermediate.dense.bias\", \"vit.encoder.layer.10.output.dense.weight\", \"vit.encoder.layer.10.output.dense.bias\", \"vit.encoder.layer.10.layernorm_before.weight\", \"vit.encoder.layer.10.layernorm_before.bias\", \"vit.encoder.layer.10.layernorm_after.weight\", \"vit.encoder.layer.10.layernorm_after.bias\", \"vit.encoder.layer.11.attention.attention.query.weight\", \"vit.encoder.layer.11.attention.attention.query.bias\", \"vit.encoder.layer.11.attention.attention.key.weight\", \"vit.encoder.layer.11.attention.attention.key.bias\", \"vit.encoder.layer.11.attention.attention.value.weight\", \"vit.encoder.layer.11.attention.attention.value.bias\", \"vit.encoder.layer.11.attention.output.dense.weight\", \"vit.encoder.layer.11.attention.output.dense.bias\", \"vit.encoder.layer.11.intermediate.dense.weight\", \"vit.encoder.layer.11.intermediate.dense.bias\", \"vit.encoder.layer.11.output.dense.weight\", \"vit.encoder.layer.11.output.dense.bias\", \"vit.encoder.layer.11.layernorm_before.weight\", \"vit.encoder.layer.11.layernorm_before.bias\", \"vit.encoder.layer.11.layernorm_after.weight\", \"vit.encoder.layer.11.layernorm_after.bias\", \"vit.layernorm.weight\", \"vit.layernorm.bias\". ",
     "output_type": "error",
     "traceback": [
      "\u001b[0;31m---------------------------------------------------------------------------\u001b[0m",
      "\u001b[0;31mRuntimeError\u001b[0m                              Traceback (most recent call last)",
      "Cell \u001b[0;32mIn[31], line 3\u001b[0m\n\u001b[1;32m      1\u001b[0m \u001b[38;5;66;03m# Load state_dict\u001b[39;00m\n\u001b[1;32m      2\u001b[0m model_path \u001b[38;5;241m=\u001b[39m \u001b[38;5;124m\"\u001b[39m\u001b[38;5;124m../Khaairi/Result/pretrained_best_model.pt\u001b[39m\u001b[38;5;124m\"\u001b[39m\n\u001b[0;32m----> 3\u001b[0m vit_with_weights2\u001b[38;5;241m.\u001b[39mload_state_dict(torch\u001b[38;5;241m.\u001b[39mload(model_path))\n",
      "File \u001b[0;32m~/.local/lib/python3.12/site-packages/torch/nn/modules/module.py:2584\u001b[0m, in \u001b[0;36mModule.load_state_dict\u001b[0;34m(self, state_dict, strict, assign)\u001b[0m\n\u001b[1;32m   2576\u001b[0m         error_msgs\u001b[38;5;241m.\u001b[39minsert(\n\u001b[1;32m   2577\u001b[0m             \u001b[38;5;241m0\u001b[39m,\n\u001b[1;32m   2578\u001b[0m             \u001b[38;5;124m\"\u001b[39m\u001b[38;5;124mMissing key(s) in state_dict: \u001b[39m\u001b[38;5;132;01m{}\u001b[39;00m\u001b[38;5;124m. \u001b[39m\u001b[38;5;124m\"\u001b[39m\u001b[38;5;241m.\u001b[39mformat(\n\u001b[1;32m   2579\u001b[0m                 \u001b[38;5;124m\"\u001b[39m\u001b[38;5;124m, \u001b[39m\u001b[38;5;124m\"\u001b[39m\u001b[38;5;241m.\u001b[39mjoin(\u001b[38;5;124mf\u001b[39m\u001b[38;5;124m'\u001b[39m\u001b[38;5;124m\"\u001b[39m\u001b[38;5;132;01m{\u001b[39;00mk\u001b[38;5;132;01m}\u001b[39;00m\u001b[38;5;124m\"\u001b[39m\u001b[38;5;124m'\u001b[39m \u001b[38;5;28;01mfor\u001b[39;00m k \u001b[38;5;129;01min\u001b[39;00m missing_keys)\n\u001b[1;32m   2580\u001b[0m             ),\n\u001b[1;32m   2581\u001b[0m         )\n\u001b[1;32m   2583\u001b[0m \u001b[38;5;28;01mif\u001b[39;00m \u001b[38;5;28mlen\u001b[39m(error_msgs) \u001b[38;5;241m>\u001b[39m \u001b[38;5;241m0\u001b[39m:\n\u001b[0;32m-> 2584\u001b[0m     \u001b[38;5;28;01mraise\u001b[39;00m \u001b[38;5;167;01mRuntimeError\u001b[39;00m(\n\u001b[1;32m   2585\u001b[0m         \u001b[38;5;124m\"\u001b[39m\u001b[38;5;124mError(s) in loading state_dict for \u001b[39m\u001b[38;5;132;01m{}\u001b[39;00m\u001b[38;5;124m:\u001b[39m\u001b[38;5;130;01m\\n\u001b[39;00m\u001b[38;5;130;01m\\t\u001b[39;00m\u001b[38;5;132;01m{}\u001b[39;00m\u001b[38;5;124m\"\u001b[39m\u001b[38;5;241m.\u001b[39mformat(\n\u001b[1;32m   2586\u001b[0m             \u001b[38;5;28mself\u001b[39m\u001b[38;5;241m.\u001b[39m\u001b[38;5;18m__class__\u001b[39m\u001b[38;5;241m.\u001b[39m\u001b[38;5;18m__name__\u001b[39m, \u001b[38;5;124m\"\u001b[39m\u001b[38;5;130;01m\\n\u001b[39;00m\u001b[38;5;130;01m\\t\u001b[39;00m\u001b[38;5;124m\"\u001b[39m\u001b[38;5;241m.\u001b[39mjoin(error_msgs)\n\u001b[1;32m   2587\u001b[0m         )\n\u001b[1;32m   2588\u001b[0m     )\n\u001b[1;32m   2589\u001b[0m \u001b[38;5;28;01mreturn\u001b[39;00m _IncompatibleKeys(missing_keys, unexpected_keys)\n",
      "\u001b[0;31mRuntimeError\u001b[0m: Error(s) in loading state_dict for ViTWithClassWeights:\n\tMissing key(s) in state_dict: \"vit.vit.embeddings.cls_token\", \"vit.vit.embeddings.position_embeddings\", \"vit.vit.embeddings.patch_embeddings.projection.weight\", \"vit.vit.embeddings.patch_embeddings.projection.bias\", \"vit.vit.encoder.layer.0.attention.attention.query.weight\", \"vit.vit.encoder.layer.0.attention.attention.query.bias\", \"vit.vit.encoder.layer.0.attention.attention.key.weight\", \"vit.vit.encoder.layer.0.attention.attention.key.bias\", \"vit.vit.encoder.layer.0.attention.attention.value.weight\", \"vit.vit.encoder.layer.0.attention.attention.value.bias\", \"vit.vit.encoder.layer.0.attention.output.dense.weight\", \"vit.vit.encoder.layer.0.attention.output.dense.bias\", \"vit.vit.encoder.layer.0.intermediate.dense.weight\", \"vit.vit.encoder.layer.0.intermediate.dense.bias\", \"vit.vit.encoder.layer.0.output.dense.weight\", \"vit.vit.encoder.layer.0.output.dense.bias\", \"vit.vit.encoder.layer.0.layernorm_before.weight\", \"vit.vit.encoder.layer.0.layernorm_before.bias\", \"vit.vit.encoder.layer.0.layernorm_after.weight\", \"vit.vit.encoder.layer.0.layernorm_after.bias\", \"vit.vit.encoder.layer.1.attention.attention.query.weight\", \"vit.vit.encoder.layer.1.attention.attention.query.bias\", \"vit.vit.encoder.layer.1.attention.attention.key.weight\", \"vit.vit.encoder.layer.1.attention.attention.key.bias\", \"vit.vit.encoder.layer.1.attention.attention.value.weight\", \"vit.vit.encoder.layer.1.attention.attention.value.bias\", \"vit.vit.encoder.layer.1.attention.output.dense.weight\", \"vit.vit.encoder.layer.1.attention.output.dense.bias\", \"vit.vit.encoder.layer.1.intermediate.dense.weight\", \"vit.vit.encoder.layer.1.intermediate.dense.bias\", \"vit.vit.encoder.layer.1.output.dense.weight\", \"vit.vit.encoder.layer.1.output.dense.bias\", \"vit.vit.encoder.layer.1.layernorm_before.weight\", \"vit.vit.encoder.layer.1.layernorm_before.bias\", \"vit.vit.encoder.layer.1.layernorm_after.weight\", \"vit.vit.encoder.layer.1.layernorm_after.bias\", \"vit.vit.encoder.layer.2.attention.attention.query.weight\", \"vit.vit.encoder.layer.2.attention.attention.query.bias\", \"vit.vit.encoder.layer.2.attention.attention.key.weight\", \"vit.vit.encoder.layer.2.attention.attention.key.bias\", \"vit.vit.encoder.layer.2.attention.attention.value.weight\", \"vit.vit.encoder.layer.2.attention.attention.value.bias\", \"vit.vit.encoder.layer.2.attention.output.dense.weight\", \"vit.vit.encoder.layer.2.attention.output.dense.bias\", \"vit.vit.encoder.layer.2.intermediate.dense.weight\", \"vit.vit.encoder.layer.2.intermediate.dense.bias\", \"vit.vit.encoder.layer.2.output.dense.weight\", \"vit.vit.encoder.layer.2.output.dense.bias\", \"vit.vit.encoder.layer.2.layernorm_before.weight\", \"vit.vit.encoder.layer.2.layernorm_before.bias\", \"vit.vit.encoder.layer.2.layernorm_after.weight\", \"vit.vit.encoder.layer.2.layernorm_after.bias\", \"vit.vit.encoder.layer.3.attention.attention.query.weight\", \"vit.vit.encoder.layer.3.attention.attention.query.bias\", \"vit.vit.encoder.layer.3.attention.attention.key.weight\", \"vit.vit.encoder.layer.3.attention.attention.key.bias\", \"vit.vit.encoder.layer.3.attention.attention.value.weight\", \"vit.vit.encoder.layer.3.attention.attention.value.bias\", \"vit.vit.encoder.layer.3.attention.output.dense.weight\", \"vit.vit.encoder.layer.3.attention.output.dense.bias\", \"vit.vit.encoder.layer.3.intermediate.dense.weight\", \"vit.vit.encoder.layer.3.intermediate.dense.bias\", \"vit.vit.encoder.layer.3.output.dense.weight\", \"vit.vit.encoder.layer.3.output.dense.bias\", \"vit.vit.encoder.layer.3.layernorm_before.weight\", \"vit.vit.encoder.layer.3.layernorm_before.bias\", \"vit.vit.encoder.layer.3.layernorm_after.weight\", \"vit.vit.encoder.layer.3.layernorm_after.bias\", \"vit.vit.encoder.layer.4.attention.attention.query.weight\", \"vit.vit.encoder.layer.4.attention.attention.query.bias\", \"vit.vit.encoder.layer.4.attention.attention.key.weight\", \"vit.vit.encoder.layer.4.attention.attention.key.bias\", \"vit.vit.encoder.layer.4.attention.attention.value.weight\", \"vit.vit.encoder.layer.4.attention.attention.value.bias\", \"vit.vit.encoder.layer.4.attention.output.dense.weight\", \"vit.vit.encoder.layer.4.attention.output.dense.bias\", \"vit.vit.encoder.layer.4.intermediate.dense.weight\", \"vit.vit.encoder.layer.4.intermediate.dense.bias\", \"vit.vit.encoder.layer.4.output.dense.weight\", \"vit.vit.encoder.layer.4.output.dense.bias\", \"vit.vit.encoder.layer.4.layernorm_before.weight\", \"vit.vit.encoder.layer.4.layernorm_before.bias\", \"vit.vit.encoder.layer.4.layernorm_after.weight\", \"vit.vit.encoder.layer.4.layernorm_after.bias\", \"vit.vit.encoder.layer.5.attention.attention.query.weight\", \"vit.vit.encoder.layer.5.attention.attention.query.bias\", \"vit.vit.encoder.layer.5.attention.attention.key.weight\", \"vit.vit.encoder.layer.5.attention.attention.key.bias\", \"vit.vit.encoder.layer.5.attention.attention.value.weight\", \"vit.vit.encoder.layer.5.attention.attention.value.bias\", \"vit.vit.encoder.layer.5.attention.output.dense.weight\", \"vit.vit.encoder.layer.5.attention.output.dense.bias\", \"vit.vit.encoder.layer.5.intermediate.dense.weight\", \"vit.vit.encoder.layer.5.intermediate.dense.bias\", \"vit.vit.encoder.layer.5.output.dense.weight\", \"vit.vit.encoder.layer.5.output.dense.bias\", \"vit.vit.encoder.layer.5.layernorm_before.weight\", \"vit.vit.encoder.layer.5.layernorm_before.bias\", \"vit.vit.encoder.layer.5.layernorm_after.weight\", \"vit.vit.encoder.layer.5.layernorm_after.bias\", \"vit.vit.encoder.layer.6.attention.attention.query.weight\", \"vit.vit.encoder.layer.6.attention.attention.query.bias\", \"vit.vit.encoder.layer.6.attention.attention.key.weight\", \"vit.vit.encoder.layer.6.attention.attention.key.bias\", \"vit.vit.encoder.layer.6.attention.attention.value.weight\", \"vit.vit.encoder.layer.6.attention.attention.value.bias\", \"vit.vit.encoder.layer.6.attention.output.dense.weight\", \"vit.vit.encoder.layer.6.attention.output.dense.bias\", \"vit.vit.encoder.layer.6.intermediate.dense.weight\", \"vit.vit.encoder.layer.6.intermediate.dense.bias\", \"vit.vit.encoder.layer.6.output.dense.weight\", \"vit.vit.encoder.layer.6.output.dense.bias\", \"vit.vit.encoder.layer.6.layernorm_before.weight\", \"vit.vit.encoder.layer.6.layernorm_before.bias\", \"vit.vit.encoder.layer.6.layernorm_after.weight\", \"vit.vit.encoder.layer.6.layernorm_after.bias\", \"vit.vit.encoder.layer.7.attention.attention.query.weight\", \"vit.vit.encoder.layer.7.attention.attention.query.bias\", \"vit.vit.encoder.layer.7.attention.attention.key.weight\", \"vit.vit.encoder.layer.7.attention.attention.key.bias\", \"vit.vit.encoder.layer.7.attention.attention.value.weight\", \"vit.vit.encoder.layer.7.attention.attention.value.bias\", \"vit.vit.encoder.layer.7.attention.output.dense.weight\", \"vit.vit.encoder.layer.7.attention.output.dense.bias\", \"vit.vit.encoder.layer.7.intermediate.dense.weight\", \"vit.vit.encoder.layer.7.intermediate.dense.bias\", \"vit.vit.encoder.layer.7.output.dense.weight\", \"vit.vit.encoder.layer.7.output.dense.bias\", \"vit.vit.encoder.layer.7.layernorm_before.weight\", \"vit.vit.encoder.layer.7.layernorm_before.bias\", \"vit.vit.encoder.layer.7.layernorm_after.weight\", \"vit.vit.encoder.layer.7.layernorm_after.bias\", \"vit.vit.encoder.layer.8.attention.attention.query.weight\", \"vit.vit.encoder.layer.8.attention.attention.query.bias\", \"vit.vit.encoder.layer.8.attention.attention.key.weight\", \"vit.vit.encoder.layer.8.attention.attention.key.bias\", \"vit.vit.encoder.layer.8.attention.attention.value.weight\", \"vit.vit.encoder.layer.8.attention.attention.value.bias\", \"vit.vit.encoder.layer.8.attention.output.dense.weight\", \"vit.vit.encoder.layer.8.attention.output.dense.bias\", \"vit.vit.encoder.layer.8.intermediate.dense.weight\", \"vit.vit.encoder.layer.8.intermediate.dense.bias\", \"vit.vit.encoder.layer.8.output.dense.weight\", \"vit.vit.encoder.layer.8.output.dense.bias\", \"vit.vit.encoder.layer.8.layernorm_before.weight\", \"vit.vit.encoder.layer.8.layernorm_before.bias\", \"vit.vit.encoder.layer.8.layernorm_after.weight\", \"vit.vit.encoder.layer.8.layernorm_after.bias\", \"vit.vit.encoder.layer.9.attention.attention.query.weight\", \"vit.vit.encoder.layer.9.attention.attention.query.bias\", \"vit.vit.encoder.layer.9.attention.attention.key.weight\", \"vit.vit.encoder.layer.9.attention.attention.key.bias\", \"vit.vit.encoder.layer.9.attention.attention.value.weight\", \"vit.vit.encoder.layer.9.attention.attention.value.bias\", \"vit.vit.encoder.layer.9.attention.output.dense.weight\", \"vit.vit.encoder.layer.9.attention.output.dense.bias\", \"vit.vit.encoder.layer.9.intermediate.dense.weight\", \"vit.vit.encoder.layer.9.intermediate.dense.bias\", \"vit.vit.encoder.layer.9.output.dense.weight\", \"vit.vit.encoder.layer.9.output.dense.bias\", \"vit.vit.encoder.layer.9.layernorm_before.weight\", \"vit.vit.encoder.layer.9.layernorm_before.bias\", \"vit.vit.encoder.layer.9.layernorm_after.weight\", \"vit.vit.encoder.layer.9.layernorm_after.bias\", \"vit.vit.encoder.layer.10.attention.attention.query.weight\", \"vit.vit.encoder.layer.10.attention.attention.query.bias\", \"vit.vit.encoder.layer.10.attention.attention.key.weight\", \"vit.vit.encoder.layer.10.attention.attention.key.bias\", \"vit.vit.encoder.layer.10.attention.attention.value.weight\", \"vit.vit.encoder.layer.10.attention.attention.value.bias\", \"vit.vit.encoder.layer.10.attention.output.dense.weight\", \"vit.vit.encoder.layer.10.attention.output.dense.bias\", \"vit.vit.encoder.layer.10.intermediate.dense.weight\", \"vit.vit.encoder.layer.10.intermediate.dense.bias\", \"vit.vit.encoder.layer.10.output.dense.weight\", \"vit.vit.encoder.layer.10.output.dense.bias\", \"vit.vit.encoder.layer.10.layernorm_before.weight\", \"vit.vit.encoder.layer.10.layernorm_before.bias\", \"vit.vit.encoder.layer.10.layernorm_after.weight\", \"vit.vit.encoder.layer.10.layernorm_after.bias\", \"vit.vit.encoder.layer.11.attention.attention.query.weight\", \"vit.vit.encoder.layer.11.attention.attention.query.bias\", \"vit.vit.encoder.layer.11.attention.attention.key.weight\", \"vit.vit.encoder.layer.11.attention.attention.key.bias\", \"vit.vit.encoder.layer.11.attention.attention.value.weight\", \"vit.vit.encoder.layer.11.attention.attention.value.bias\", \"vit.vit.encoder.layer.11.attention.output.dense.weight\", \"vit.vit.encoder.layer.11.attention.output.dense.bias\", \"vit.vit.encoder.layer.11.intermediate.dense.weight\", \"vit.vit.encoder.layer.11.intermediate.dense.bias\", \"vit.vit.encoder.layer.11.output.dense.weight\", \"vit.vit.encoder.layer.11.output.dense.bias\", \"vit.vit.encoder.layer.11.layernorm_before.weight\", \"vit.vit.encoder.layer.11.layernorm_before.bias\", \"vit.vit.encoder.layer.11.layernorm_after.weight\", \"vit.vit.encoder.layer.11.layernorm_after.bias\", \"vit.vit.layernorm.weight\", \"vit.vit.layernorm.bias\", \"vit.classifier.weight\", \"vit.classifier.bias\", \"loss_fn.weight\". \n\tUnexpected key(s) in state_dict: \"classifier.weight\", \"classifier.bias\", \"vit.embeddings.cls_token\", \"vit.embeddings.position_embeddings\", \"vit.embeddings.patch_embeddings.projection.weight\", \"vit.embeddings.patch_embeddings.projection.bias\", \"vit.encoder.layer.0.attention.attention.query.weight\", \"vit.encoder.layer.0.attention.attention.query.bias\", \"vit.encoder.layer.0.attention.attention.key.weight\", \"vit.encoder.layer.0.attention.attention.key.bias\", \"vit.encoder.layer.0.attention.attention.value.weight\", \"vit.encoder.layer.0.attention.attention.value.bias\", \"vit.encoder.layer.0.attention.output.dense.weight\", \"vit.encoder.layer.0.attention.output.dense.bias\", \"vit.encoder.layer.0.intermediate.dense.weight\", \"vit.encoder.layer.0.intermediate.dense.bias\", \"vit.encoder.layer.0.output.dense.weight\", \"vit.encoder.layer.0.output.dense.bias\", \"vit.encoder.layer.0.layernorm_before.weight\", \"vit.encoder.layer.0.layernorm_before.bias\", \"vit.encoder.layer.0.layernorm_after.weight\", \"vit.encoder.layer.0.layernorm_after.bias\", \"vit.encoder.layer.1.attention.attention.query.weight\", \"vit.encoder.layer.1.attention.attention.query.bias\", \"vit.encoder.layer.1.attention.attention.key.weight\", \"vit.encoder.layer.1.attention.attention.key.bias\", \"vit.encoder.layer.1.attention.attention.value.weight\", \"vit.encoder.layer.1.attention.attention.value.bias\", \"vit.encoder.layer.1.attention.output.dense.weight\", \"vit.encoder.layer.1.attention.output.dense.bias\", \"vit.encoder.layer.1.intermediate.dense.weight\", \"vit.encoder.layer.1.intermediate.dense.bias\", \"vit.encoder.layer.1.output.dense.weight\", \"vit.encoder.layer.1.output.dense.bias\", \"vit.encoder.layer.1.layernorm_before.weight\", \"vit.encoder.layer.1.layernorm_before.bias\", \"vit.encoder.layer.1.layernorm_after.weight\", \"vit.encoder.layer.1.layernorm_after.bias\", \"vit.encoder.layer.2.attention.attention.query.weight\", \"vit.encoder.layer.2.attention.attention.query.bias\", \"vit.encoder.layer.2.attention.attention.key.weight\", \"vit.encoder.layer.2.attention.attention.key.bias\", \"vit.encoder.layer.2.attention.attention.value.weight\", \"vit.encoder.layer.2.attention.attention.value.bias\", \"vit.encoder.layer.2.attention.output.dense.weight\", \"vit.encoder.layer.2.attention.output.dense.bias\", \"vit.encoder.layer.2.intermediate.dense.weight\", \"vit.encoder.layer.2.intermediate.dense.bias\", \"vit.encoder.layer.2.output.dense.weight\", \"vit.encoder.layer.2.output.dense.bias\", \"vit.encoder.layer.2.layernorm_before.weight\", \"vit.encoder.layer.2.layernorm_before.bias\", \"vit.encoder.layer.2.layernorm_after.weight\", \"vit.encoder.layer.2.layernorm_after.bias\", \"vit.encoder.layer.3.attention.attention.query.weight\", \"vit.encoder.layer.3.attention.attention.query.bias\", \"vit.encoder.layer.3.attention.attention.key.weight\", \"vit.encoder.layer.3.attention.attention.key.bias\", \"vit.encoder.layer.3.attention.attention.value.weight\", \"vit.encoder.layer.3.attention.attention.value.bias\", \"vit.encoder.layer.3.attention.output.dense.weight\", \"vit.encoder.layer.3.attention.output.dense.bias\", \"vit.encoder.layer.3.intermediate.dense.weight\", \"vit.encoder.layer.3.intermediate.dense.bias\", \"vit.encoder.layer.3.output.dense.weight\", \"vit.encoder.layer.3.output.dense.bias\", \"vit.encoder.layer.3.layernorm_before.weight\", \"vit.encoder.layer.3.layernorm_before.bias\", \"vit.encoder.layer.3.layernorm_after.weight\", \"vit.encoder.layer.3.layernorm_after.bias\", \"vit.encoder.layer.4.attention.attention.query.weight\", \"vit.encoder.layer.4.attention.attention.query.bias\", \"vit.encoder.layer.4.attention.attention.key.weight\", \"vit.encoder.layer.4.attention.attention.key.bias\", \"vit.encoder.layer.4.attention.attention.value.weight\", \"vit.encoder.layer.4.attention.attention.value.bias\", \"vit.encoder.layer.4.attention.output.dense.weight\", \"vit.encoder.layer.4.attention.output.dense.bias\", \"vit.encoder.layer.4.intermediate.dense.weight\", \"vit.encoder.layer.4.intermediate.dense.bias\", \"vit.encoder.layer.4.output.dense.weight\", \"vit.encoder.layer.4.output.dense.bias\", \"vit.encoder.layer.4.layernorm_before.weight\", \"vit.encoder.layer.4.layernorm_before.bias\", \"vit.encoder.layer.4.layernorm_after.weight\", \"vit.encoder.layer.4.layernorm_after.bias\", \"vit.encoder.layer.5.attention.attention.query.weight\", \"vit.encoder.layer.5.attention.attention.query.bias\", \"vit.encoder.layer.5.attention.attention.key.weight\", \"vit.encoder.layer.5.attention.attention.key.bias\", \"vit.encoder.layer.5.attention.attention.value.weight\", \"vit.encoder.layer.5.attention.attention.value.bias\", \"vit.encoder.layer.5.attention.output.dense.weight\", \"vit.encoder.layer.5.attention.output.dense.bias\", \"vit.encoder.layer.5.intermediate.dense.weight\", \"vit.encoder.layer.5.intermediate.dense.bias\", \"vit.encoder.layer.5.output.dense.weight\", \"vit.encoder.layer.5.output.dense.bias\", \"vit.encoder.layer.5.layernorm_before.weight\", \"vit.encoder.layer.5.layernorm_before.bias\", \"vit.encoder.layer.5.layernorm_after.weight\", \"vit.encoder.layer.5.layernorm_after.bias\", \"vit.encoder.layer.6.attention.attention.query.weight\", \"vit.encoder.layer.6.attention.attention.query.bias\", \"vit.encoder.layer.6.attention.attention.key.weight\", \"vit.encoder.layer.6.attention.attention.key.bias\", \"vit.encoder.layer.6.attention.attention.value.weight\", \"vit.encoder.layer.6.attention.attention.value.bias\", \"vit.encoder.layer.6.attention.output.dense.weight\", \"vit.encoder.layer.6.attention.output.dense.bias\", \"vit.encoder.layer.6.intermediate.dense.weight\", \"vit.encoder.layer.6.intermediate.dense.bias\", \"vit.encoder.layer.6.output.dense.weight\", \"vit.encoder.layer.6.output.dense.bias\", \"vit.encoder.layer.6.layernorm_before.weight\", \"vit.encoder.layer.6.layernorm_before.bias\", \"vit.encoder.layer.6.layernorm_after.weight\", \"vit.encoder.layer.6.layernorm_after.bias\", \"vit.encoder.layer.7.attention.attention.query.weight\", \"vit.encoder.layer.7.attention.attention.query.bias\", \"vit.encoder.layer.7.attention.attention.key.weight\", \"vit.encoder.layer.7.attention.attention.key.bias\", \"vit.encoder.layer.7.attention.attention.value.weight\", \"vit.encoder.layer.7.attention.attention.value.bias\", \"vit.encoder.layer.7.attention.output.dense.weight\", \"vit.encoder.layer.7.attention.output.dense.bias\", \"vit.encoder.layer.7.intermediate.dense.weight\", \"vit.encoder.layer.7.intermediate.dense.bias\", \"vit.encoder.layer.7.output.dense.weight\", \"vit.encoder.layer.7.output.dense.bias\", \"vit.encoder.layer.7.layernorm_before.weight\", \"vit.encoder.layer.7.layernorm_before.bias\", \"vit.encoder.layer.7.layernorm_after.weight\", \"vit.encoder.layer.7.layernorm_after.bias\", \"vit.encoder.layer.8.attention.attention.query.weight\", \"vit.encoder.layer.8.attention.attention.query.bias\", \"vit.encoder.layer.8.attention.attention.key.weight\", \"vit.encoder.layer.8.attention.attention.key.bias\", \"vit.encoder.layer.8.attention.attention.value.weight\", \"vit.encoder.layer.8.attention.attention.value.bias\", \"vit.encoder.layer.8.attention.output.dense.weight\", \"vit.encoder.layer.8.attention.output.dense.bias\", \"vit.encoder.layer.8.intermediate.dense.weight\", \"vit.encoder.layer.8.intermediate.dense.bias\", \"vit.encoder.layer.8.output.dense.weight\", \"vit.encoder.layer.8.output.dense.bias\", \"vit.encoder.layer.8.layernorm_before.weight\", \"vit.encoder.layer.8.layernorm_before.bias\", \"vit.encoder.layer.8.layernorm_after.weight\", \"vit.encoder.layer.8.layernorm_after.bias\", \"vit.encoder.layer.9.attention.attention.query.weight\", \"vit.encoder.layer.9.attention.attention.query.bias\", \"vit.encoder.layer.9.attention.attention.key.weight\", \"vit.encoder.layer.9.attention.attention.key.bias\", \"vit.encoder.layer.9.attention.attention.value.weight\", \"vit.encoder.layer.9.attention.attention.value.bias\", \"vit.encoder.layer.9.attention.output.dense.weight\", \"vit.encoder.layer.9.attention.output.dense.bias\", \"vit.encoder.layer.9.intermediate.dense.weight\", \"vit.encoder.layer.9.intermediate.dense.bias\", \"vit.encoder.layer.9.output.dense.weight\", \"vit.encoder.layer.9.output.dense.bias\", \"vit.encoder.layer.9.layernorm_before.weight\", \"vit.encoder.layer.9.layernorm_before.bias\", \"vit.encoder.layer.9.layernorm_after.weight\", \"vit.encoder.layer.9.layernorm_after.bias\", \"vit.encoder.layer.10.attention.attention.query.weight\", \"vit.encoder.layer.10.attention.attention.query.bias\", \"vit.encoder.layer.10.attention.attention.key.weight\", \"vit.encoder.layer.10.attention.attention.key.bias\", \"vit.encoder.layer.10.attention.attention.value.weight\", \"vit.encoder.layer.10.attention.attention.value.bias\", \"vit.encoder.layer.10.attention.output.dense.weight\", \"vit.encoder.layer.10.attention.output.dense.bias\", \"vit.encoder.layer.10.intermediate.dense.weight\", \"vit.encoder.layer.10.intermediate.dense.bias\", \"vit.encoder.layer.10.output.dense.weight\", \"vit.encoder.layer.10.output.dense.bias\", \"vit.encoder.layer.10.layernorm_before.weight\", \"vit.encoder.layer.10.layernorm_before.bias\", \"vit.encoder.layer.10.layernorm_after.weight\", \"vit.encoder.layer.10.layernorm_after.bias\", \"vit.encoder.layer.11.attention.attention.query.weight\", \"vit.encoder.layer.11.attention.attention.query.bias\", \"vit.encoder.layer.11.attention.attention.key.weight\", \"vit.encoder.layer.11.attention.attention.key.bias\", \"vit.encoder.layer.11.attention.attention.value.weight\", \"vit.encoder.layer.11.attention.attention.value.bias\", \"vit.encoder.layer.11.attention.output.dense.weight\", \"vit.encoder.layer.11.attention.output.dense.bias\", \"vit.encoder.layer.11.intermediate.dense.weight\", \"vit.encoder.layer.11.intermediate.dense.bias\", \"vit.encoder.layer.11.output.dense.weight\", \"vit.encoder.layer.11.output.dense.bias\", \"vit.encoder.layer.11.layernorm_before.weight\", \"vit.encoder.layer.11.layernorm_before.bias\", \"vit.encoder.layer.11.layernorm_after.weight\", \"vit.encoder.layer.11.layernorm_after.bias\", \"vit.layernorm.weight\", \"vit.layernorm.bias\". "
     ]
    }
   ],
   "source": [
    "# Load state_dict\n",
    "model_path = \"../Khaairi/Result/pretrained_best_model.pt\"\n",
    "vit_with_weights2.load_state_dict(torch.load(model_path))"
   ]
  },
  {
   "cell_type": "code",
   "execution_count": null,
   "id": "7668fec7-5291-436a-acbf-3c88d263b14e",
   "metadata": {},
   "outputs": [],
   "source": [
    "trainer = Trainer(\n",
    "    model=vit2,\n",
    "    args=training_args,\n",
    "    data_collator=collate_fn,\n",
    "    compute_metrics=compute_metrics,\n",
    "    train_dataset=processed_dataset[\"train\"],\n",
    "    eval_dataset=processed_dataset[\"validation\"],\n",
    "    tokenizer=processor,\n",
    "    callbacks=[SaveBestModelCallback(save_path = '../Khaairi/Result')]\n",
    ")"
   ]
  },
  {
   "cell_type": "code",
   "execution_count": null,
   "id": "1223ec80-78a7-4c51-b145-c80056ef5899",
   "metadata": {},
   "outputs": [],
   "source": [
    "trainer.evaluate(processed_dataset[\"test\"])"
   ]
  },
  {
   "cell_type": "code",
   "execution_count": null,
   "id": "db1554dc-9974-4fd7-9612-e0b462a3f2ca",
   "metadata": {},
   "outputs": [],
   "source": [
    "# Melakukan prediksi pada dataset validasi\n",
    "predictions = trainer.predict(processed_dataset[\"test\"])\n",
    "\n",
    "# Mendapatkan logits dan label sebenarnya\n",
    "logits = predictions.predictions\n",
    "labels = predictions.label_ids\n",
    "\n",
    "# Mendapatkan prediksi akhir dengan argmax\n",
    "y_pred = np.argmax(logits, axis=1)\n",
    "y_true = labels"
   ]
  },
  {
   "cell_type": "code",
   "execution_count": null,
   "id": "9777528b-64e3-4301-9a13-e4b0644615ee",
   "metadata": {},
   "outputs": [],
   "source": [
    "# Menghitung Confusion Matrix\n",
    "cm = confusion_matrix(y_true, y_pred)\n",
    "\n",
    "# Mengatur ukuran gambar\n",
    "plt.figure(figsize=(12, 10))\n",
    "\n",
    "# Menampilkan Confusion Matrix\n",
    "disp = ConfusionMatrixDisplay(confusion_matrix=cm, display_labels=list(id2label.values()))\n",
    "disp.plot(cmap=plt.cm.Blues, values_format='d')\n",
    "\n",
    "# Mengatur judul dan ukuran font\n",
    "plt.title(\"Confusion Matrix\", fontsize=18)\n",
    "plt.xticks(rotation=45, ha='right', fontsize=8)  # Ukuran font lebih kecil untuk sumbu x\n",
    "plt.yticks(fontsize=8)  # Ukuran font lebih kecil untuk sumbu y\n",
    "plt.xlabel('Predicted Labels', fontsize=12)\n",
    "plt.ylabel('True Labels', fontsize=12)\n",
    "\n",
    "# Tampilkan plot\n",
    "plt.show()"
   ]
  },
  {
   "cell_type": "code",
   "execution_count": null,
   "id": "cdb07bfe-d524-4843-a615-c5325fedd6d5",
   "metadata": {},
   "outputs": [],
   "source": []
  }
 ],
 "metadata": {
  "kernelspec": {
   "display_name": "Python 3 (ipykernel)",
   "language": "python",
   "name": "python3"
  },
  "language_info": {
   "codemirror_mode": {
    "name": "ipython",
    "version": 3
   },
   "file_extension": ".py",
   "mimetype": "text/x-python",
   "name": "python",
   "nbconvert_exporter": "python",
   "pygments_lexer": "ipython3",
   "version": "3.12.7"
  }
 },
 "nbformat": 4,
 "nbformat_minor": 5
}
