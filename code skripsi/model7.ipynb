{
 "cells": [
  {
   "cell_type": "code",
   "execution_count": 1,
   "id": "a4f52c85-4ef4-4943-a521-ff740da659ed",
   "metadata": {},
   "outputs": [
    {
     "data": {
      "text/plain": [
       "'2.5.1+cu124'"
      ]
     },
     "execution_count": 1,
     "metadata": {},
     "output_type": "execute_result"
    }
   ],
   "source": [
    "import torch\n",
    "torch.__version__"
   ]
  },
  {
   "cell_type": "code",
   "execution_count": 2,
   "id": "85719059-ed85-4e86-a40a-e26217642235",
   "metadata": {},
   "outputs": [
    {
     "data": {
      "text/plain": [
       "'cuda'"
      ]
     },
     "execution_count": 2,
     "metadata": {},
     "output_type": "execute_result"
    }
   ],
   "source": [
    "device = \"cuda\" if torch.cuda.is_available() else \"cpu\"\n",
    "device"
   ]
  },
  {
   "cell_type": "code",
   "execution_count": 3,
   "id": "e1b309cc-ab32-4ea3-8c91-f1821515f136",
   "metadata": {},
   "outputs": [],
   "source": [
    "import numpy as np\n",
    "import pandas as pd\n",
    "import torch\n",
    "from torch.utils.data import Dataset, DataLoader\n",
    "from torchvision import transforms\n",
    "from PIL import Image\n",
    "import matplotlib.pyplot as plt\n",
    "from sklearn.model_selection import train_test_split\n",
    "from sklearn.metrics import classification_report, confusion_matrix\n",
    "import torch.optim as optim\n",
    "from torch.optim.lr_scheduler import ReduceLROnPlateau\n",
    "from torch.optim import AdamW\n",
    "import os\n",
    "from tqdm import tqdm\n",
    "from sklearn.metrics import f1_score"
   ]
  },
  {
   "cell_type": "markdown",
   "id": "08fe35ee-b631-403e-ae59-b7016ed13458",
   "metadata": {},
   "source": [
    "## Load Data"
   ]
  },
  {
   "cell_type": "code",
   "execution_count": 4,
   "id": "1bdddb0d-9e30-4147-938e-a8109e906f28",
   "metadata": {},
   "outputs": [],
   "source": [
    "class FERDataset(Dataset):\n",
    "    def __init__(self, dataframe, transform=None):\n",
    "        self.dataframe = dataframe\n",
    "        self.transform = transform\n",
    "\n",
    "        # Ekstrak label dan piksel\n",
    "        self.labels = self.dataframe['emotion'].values\n",
    "        self.pixels = self.dataframe['pixels'].apply(self.string_to_image).values\n",
    "\n",
    "    def string_to_image(self, pixels_string):\n",
    "        # Konversi string piksel menjadi numpy array dan reshape ke 48x48\n",
    "        pixels = np.array(pixels_string.split(), dtype='float32')\n",
    "        image = pixels.reshape(48, 48)\n",
    "        image = np.expand_dims(image, axis=-1)  # Tambahkan channel dimensi\n",
    "        return image\n",
    "\n",
    "    def __len__(self):\n",
    "        return len(self.dataframe)\n",
    "\n",
    "    def __getitem__(self, idx):\n",
    "        image = self.pixels[idx]\n",
    "        label = self.labels[idx]\n",
    "        \n",
    "        image = Image.fromarray(image.squeeze().astype('uint8'), mode='L')\n",
    "\n",
    "        # Jika ada transformasi, terapkan ke image\n",
    "        if self.transform:\n",
    "            image = self.transform(image)\n",
    "\n",
    "        return image, label"
   ]
  },
  {
   "cell_type": "code",
   "execution_count": 5,
   "id": "3fd05f22-3a1d-495e-ab37-5912522b0f9b",
   "metadata": {},
   "outputs": [
    {
     "name": "stdout",
     "output_type": "stream",
     "text": [
      "transforms: Compose(\n",
      "    Resize(size=(224, 224), interpolation=bilinear, max_size=None, antialias=True)\n",
      "    ToTensor()\n",
      "    Normalize(mean=[0.5], std=[0.5])\n",
      ")\n"
     ]
    }
   ],
   "source": [
    "# Create image size\n",
    "IMG_SIZE = 224\n",
    "\n",
    "# Create transform pipeline manually\n",
    "manual_transforms = transforms.Compose([\n",
    "    transforms.Resize((IMG_SIZE, IMG_SIZE)),\n",
    "    transforms.ToTensor(),\n",
    "    transforms.Normalize(mean=[0.5], std=[0.5])\n",
    "])           \n",
    "print(f\"transforms: {manual_transforms}\")"
   ]
  },
  {
   "cell_type": "code",
   "execution_count": 6,
   "id": "abb51cb0-db73-45d5-b795-d7bbe982676b",
   "metadata": {},
   "outputs": [
    {
     "name": "stdout",
     "output_type": "stream",
     "text": [
      "<class 'pandas.core.frame.DataFrame'>\n",
      "RangeIndex: 33325 entries, 0 to 33324\n",
      "Data columns (total 2 columns):\n",
      " #   Column   Non-Null Count  Dtype \n",
      "---  ------   --------------  ----- \n",
      " 0   pixels   33325 non-null  object\n",
      " 1   emotion  33325 non-null  int64 \n",
      "dtypes: int64(1), object(1)\n",
      "memory usage: 520.8+ KB\n"
     ]
    }
   ],
   "source": [
    "data = pd.read_csv('../Data/fer2013_clean.csv')\n",
    "data.info()"
   ]
  },
  {
   "cell_type": "code",
   "execution_count": 7,
   "id": "d525f87c-e3d3-4893-9194-b81b2a4b80d3",
   "metadata": {},
   "outputs": [
    {
     "name": "stdout",
     "output_type": "stream",
     "text": [
      "Train set size: 26992\n",
      "Validation set size: 3000\n",
      "Test set size: 3333\n"
     ]
    }
   ],
   "source": [
    "# Pertama, pisahkan data train (90%) dan validation (10%)\n",
    "data_train, data_test = train_test_split(data, test_size=0.1, stratify=data['emotion'], random_state=123)\n",
    "data_train, data_val = train_test_split(data_train, test_size=0.1, stratify=data_train['emotion'], random_state=123)\n",
    "\n",
    "# Cek ukuran masing-masing set untuk memastikan proporsi\n",
    "print(f'Train set size: {len(data_train)}')\n",
    "print(f'Validation set size: {len(data_val)}')\n",
    "print(f'Test set size: {len(data_test)}')"
   ]
  },
  {
   "cell_type": "code",
   "execution_count": 8,
   "id": "a112b864-08d8-42cb-a285-994f930f4259",
   "metadata": {},
   "outputs": [],
   "source": [
    "train_dataset = FERDataset(data_train, transform=manual_transforms)\n",
    "val_dataset = FERDataset(data_val, transform=manual_transforms)\n",
    "test_dataset = FERDataset(data_test, transform=manual_transforms)\n",
    "class_names = ['Angry', 'Disgust', 'Fear', 'Happy', 'Sad', 'Surprise', 'Neutral']"
   ]
  },
  {
   "cell_type": "code",
   "execution_count": 9,
   "id": "4c40770a-6a57-48ca-a10f-8a6c3ff485f2",
   "metadata": {},
   "outputs": [
    {
     "name": "stdout",
     "output_type": "stream",
     "text": [
      "label2id: {'Angry': 0, 'Disgust': 1, 'Fear': 2, 'Happy': 3, 'Sad': 4, 'Surprise': 5, 'Neutral': 6}\n",
      "id2label: {0: 'Angry', 1: 'Disgust', 2: 'Fear', 3: 'Happy', 4: 'Sad', 5: 'Surprise', 6: 'Neutral'}\n"
     ]
    }
   ],
   "source": [
    "labels = ['Angry', 'Disgust', 'Fear', 'Happy', 'Sad', 'Surprise', 'Neutral']\n",
    "\n",
    "# Mapping dari label ke ID (label2id)\n",
    "label2id = {c: idx for idx, c in enumerate(labels)}\n",
    "\n",
    "# Mapping dari ID ke label (id2label)\n",
    "id2label = {idx: c for idx, c in enumerate(labels)}\n",
    "\n",
    "print(\"label2id:\", label2id)\n",
    "print(\"id2label:\", id2label)"
   ]
  },
  {
   "cell_type": "code",
   "execution_count": 10,
   "id": "27139b4d-f206-4e4f-82e6-6c26b311b7e9",
   "metadata": {},
   "outputs": [
    {
     "data": {
      "image/png": "[encoded data removed]",
      "text/plain": [
       "<Figure size 640x480 with 1 Axes>"
      ]
     },
     "metadata": {},
     "output_type": "display_data"
    }
   ],
   "source": [
    "# Ambil satu contoh dari train_dataset\n",
    "image, label = train_dataset[0]  # Index pertama dataset\n",
    "\n",
    "# Jika transform menghasilkan tensor, konversi ke format numpy\n",
    "if isinstance(image, torch.Tensor):\n",
    "    image = image.permute(1, 2, 0).numpy()  # (C, H, W) -> (H, W, C)\n",
    "\n",
    "# Plot gambar\n",
    "plt.imshow(image, cmap='gray')  # Gunakan cmap='gray' jika gambar grayscale\n",
    "plt.title(f\"Label: {label}\")\n",
    "plt.axis('off')  # Hilangkan sumbu\n",
    "plt.show()"
   ]
  },
  {
   "cell_type": "code",
   "execution_count": 11,
   "id": "6b8a0a00-f3ca-46e1-8080-faf95a66d2c9",
   "metadata": {},
   "outputs": [
    {
     "data": {
      "text/plain": [
       "torch.Size([1, 224, 224])"
      ]
     },
     "execution_count": 11,
     "metadata": {},
     "output_type": "execute_result"
    }
   ],
   "source": [
    "image, label = train_dataset[0]\n",
    "image.shape"
   ]
  },
  {
   "cell_type": "markdown",
   "id": "25f09b62-4109-49eb-ae60-3ce50168f049",
   "metadata": {},
   "source": [
    "## Build Vision Transformer (ViT) Model"
   ]
  },
  {
   "cell_type": "code",
   "execution_count": 12,
   "id": "5b7f5c19-e39f-478b-904a-4070f72d2ccf",
   "metadata": {},
   "outputs": [],
   "source": [
    "from torch import nn"
   ]
  },
  {
   "cell_type": "code",
   "execution_count": 13,
   "id": "27a7697f-f6eb-4ea2-ab66-bcfdacdf4a4b",
   "metadata": {},
   "outputs": [],
   "source": [
    "class PatchEmbedding(nn.Module):\n",
    "    def __init__(self, \n",
    "                 in_channels:int=1,\n",
    "                 patch_size:int=16,\n",
    "                 embedding_dim:int=768\n",
    "                ):\n",
    "        super().__init__()\n",
    "        \n",
    "        self.patcher = nn.Conv2d(in_channels=in_channels,\n",
    "                                 out_channels=embedding_dim,\n",
    "                                 kernel_size=patch_size,\n",
    "                                 stride=patch_size,\n",
    "                                 padding=0)\n",
    "    def forward(self, x):\n",
    "        image_resolution = x.shape[-1]\n",
    "        \n",
    "        x_patched = self.patcher(x) # (n_samples, embed_dim, n_patches ** 0.5, n_patches ** 0.5)\n",
    "        x_flattened = x_patched.flatten(2) # (n_samples, embed_dim, n_patches)\n",
    "        x = x_flattened.transpose(1, 2) # (n_samples, n_patches, embed_dim)\n",
    "        \n",
    "        return x"
   ]
  },
  {
   "cell_type": "code",
   "execution_count": 14,
   "id": "abc468a7-138e-48ca-a495-a91e0988bd0b",
   "metadata": {},
   "outputs": [],
   "source": [
    "class MultiheadSelfAttentionBlock(nn.Module):\n",
    "    def __init__(self,\n",
    "                 embedding_dim:int=768,\n",
    "                 num_heads:int=12,\n",
    "                 attn_dropout:float=0.):\n",
    "        super().__init__()\n",
    "        self.multihead_attn = nn.MultiheadAttention(embed_dim=embedding_dim,\n",
    "                                                    num_heads=num_heads,\n",
    "                                                    dropout=attn_dropout,\n",
    "                                                    batch_first=True)\n",
    "    def forward(self, x):\n",
    "        attn_output, _ = self.multihead_attn(query=x,\n",
    "                                             key=x,\n",
    "                                             value=x,\n",
    "                                             need_weights=False)\n",
    "        return attn_output"
   ]
  },
  {
   "cell_type": "code",
   "execution_count": 15,
   "id": "76cdbef5-da91-45c7-8847-9de18bcd77f5",
   "metadata": {},
   "outputs": [],
   "source": [
    "class MLPBlock(nn.Module):\n",
    "    def __init__(self,\n",
    "                 embedding_dim:int=768,\n",
    "                 mlp_size:int=3072,\n",
    "                 dropout:float=0.):\n",
    "        super().__init__()\n",
    "        self.mlp = nn.Sequential(\n",
    "            nn.Linear(in_features=embedding_dim,\n",
    "                      out_features=mlp_size),\n",
    "            nn.GELU(),\n",
    "            nn.Dropout(p=dropout),\n",
    "            nn.Linear(in_features=mlp_size,\n",
    "                      out_features=embedding_dim),\n",
    "            nn.Dropout(p=dropout)\n",
    "        )\n",
    "    def forward(self, x):\n",
    "        x = self.mlp(x)\n",
    "        return x"
   ]
  },
  {
   "cell_type": "code",
   "execution_count": 16,
   "id": "cee8d7b1-8603-4ade-8bed-32444a8c942f",
   "metadata": {},
   "outputs": [],
   "source": [
    "class TransformerEncoderBlock(nn.Module):\n",
    "    def __init__(self,\n",
    "                 embedding_dim:int=768,\n",
    "                 num_heads:int=12,\n",
    "                 mlp_size:int=3072,\n",
    "                 mlp_dropout:float=0.,\n",
    "                 attn_dropout:float=0.):\n",
    "        super().__init__()\n",
    "        self.layer_norm1 = nn.LayerNorm(normalized_shape=embedding_dim, eps=1e-6)\n",
    "        \n",
    "        self.msa_block = MultiheadSelfAttentionBlock(embedding_dim=embedding_dim,\n",
    "                                                     num_heads=num_heads,\n",
    "                                                     attn_dropout=attn_dropout)\n",
    "        \n",
    "        self.layer_norm2 = nn.LayerNorm(normalized_shape=embedding_dim, eps=1e-6)\n",
    "        \n",
    "        self.mlp_block =  MLPBlock(embedding_dim=embedding_dim,\n",
    "                                   mlp_size=mlp_size,\n",
    "                                   dropout=mlp_dropout)\n",
    "    def forward(self, x):\n",
    "        x = self.msa_block(self.layer_norm1(x)) + x \n",
    "        \n",
    "        x = self.mlp_block(self.layer_norm2(x)) + x \n",
    "        \n",
    "        return x"
   ]
  },
  {
   "cell_type": "code",
   "execution_count": 17,
   "id": "dfbe073e-b7c5-44c3-a123-d89a2152a467",
   "metadata": {},
   "outputs": [],
   "source": [
    "class ViT(nn.Module):\n",
    "    def __init__(self,\n",
    "                 img_size:int=224,\n",
    "                 in_channels:int=3,\n",
    "                 patch_size:int=16,\n",
    "                 num_transformer_layers:int=12,\n",
    "                 embedding_dim:int=768,\n",
    "                 mlp_size:int=3072,\n",
    "                 num_heads:int=12,\n",
    "                 attn_dropout:float=0.,\n",
    "                 mlp_dropout:float=0.,\n",
    "                 embedding_dropout:float=0.,\n",
    "                 num_classes:int=1000):\n",
    "        super().__init__()\n",
    "        self.num_patches = (img_size * img_size) // patch_size**2\n",
    "\n",
    "        self.patch_embedding = PatchEmbedding(in_channels=in_channels,\n",
    "                                              patch_size=patch_size,\n",
    "                                              embedding_dim=embedding_dim)\n",
    "                 \n",
    "        self.class_embedding = nn.Parameter(data=torch.randn(1, 1, embedding_dim),\n",
    "                                            requires_grad=True)\n",
    "        \n",
    "        self.position_embedding = nn.Parameter(data=torch.randn(1, self.num_patches+1, embedding_dim),\n",
    "                                               requires_grad=True)\n",
    "                \n",
    "        self.embedding_dropout = nn.Dropout(p=embedding_dropout)\n",
    "        \n",
    "        self.transformer_encoder = nn.Sequential(*[TransformerEncoderBlock(embedding_dim=embedding_dim,\n",
    "                                                                            num_heads=num_heads,\n",
    "                                                                            mlp_size=mlp_size,\n",
    "                                                                            mlp_dropout=mlp_dropout) for _ in range(num_transformer_layers)])\n",
    "       \n",
    "        self.classifier = nn.Sequential(\n",
    "            nn.LayerNorm(normalized_shape=embedding_dim, eps=1e-6),\n",
    "            nn.Linear(in_features=embedding_dim, \n",
    "                      out_features=num_classes)\n",
    "        )\n",
    "    \n",
    "    def forward(self, pixel_values, labels=None):\n",
    "        batch_size = pixel_values.shape[0]\n",
    "\n",
    "        x = self.patch_embedding(pixel_values) # (n_samples, num_patches, embed_dim)\n",
    "        \n",
    "        class_token = self.class_embedding.expand(batch_size, -1, -1) # (n_samples, 1, embed_dim)\n",
    "\n",
    "        x = torch.cat((class_token, x), dim=1) # (n_samples, 1 + n_patches, embed_dim)\n",
    "\n",
    "        x = self.position_embedding + x # add position embed\n",
    "\n",
    "        x = self.embedding_dropout(x)\n",
    "\n",
    "        x = self.transformer_encoder(x)\n",
    "\n",
    "        logits = self.classifier(x[:, 0])\n",
    "\n",
    "        # Jika labels diberikan, hitung loss\n",
    "        loss = None\n",
    "        if labels is not None:\n",
    "            loss_fn = nn.CrossEntropyLoss()\n",
    "            loss = loss_fn(logits, labels)\n",
    "    \n",
    "        return (loss, logits) if loss is not None else logits"
   ]
  },
  {
   "cell_type": "markdown",
   "id": "cccbb722-51b9-46af-90e2-4b80265eb878",
   "metadata": {},
   "source": [
    "## Model Training"
   ]
  },
  {
   "cell_type": "code",
   "execution_count": 18,
   "id": "64b28361-dae6-43fa-b846-69caa47259a3",
   "metadata": {},
   "outputs": [],
   "source": [
    "model = ViT(num_classes=len(class_names), in_channels=1, patch_size=32, num_heads=8, embedding_dim=512, num_transformer_layers=12)"
   ]
  },
  {
   "cell_type": "code",
   "execution_count": 19,
   "id": "dc2344b3-32fa-4f94-9c56-13b3ac96ee3d",
   "metadata": {},
   "outputs": [
    {
     "data": {
      "text/plain": [
       "========================================================================================================================\n",
       "Layer (type (var_name))                                      Input Shape     Output Shape    Param #         Trainable\n",
       "========================================================================================================================\n",
       "ViT (ViT)                                                    [1, 1, 224, 224] [1, 7]          26,112          True\n",
       "├─PatchEmbedding (patch_embedding)                           [1, 1, 224, 224] [1, 49, 512]    --              True\n",
       "│    └─Conv2d (patcher)                                      [1, 1, 224, 224] [1, 512, 7, 7]  524,800         True\n",
       "├─Dropout (embedding_dropout)                                [1, 50, 512]    [1, 50, 512]    --              --\n",
       "├─Sequential (transformer_encoder)                           [1, 50, 512]    [1, 50, 512]    --              True\n",
       "│    └─TransformerEncoderBlock (0)                           [1, 50, 512]    [1, 50, 512]    --              True\n",
       "│    │    └─LayerNorm (layer_norm1)                          [1, 50, 512]    [1, 50, 512]    1,024           True\n",
       "│    │    └─MultiheadSelfAttentionBlock (msa_block)          [1, 50, 512]    [1, 50, 512]    1,050,624       True\n",
       "│    │    └─LayerNorm (layer_norm2)                          [1, 50, 512]    [1, 50, 512]    1,024           True\n",
       "│    │    └─MLPBlock (mlp_block)                             [1, 50, 512]    [1, 50, 512]    3,149,312       True\n",
       "│    └─TransformerEncoderBlock (1)                           [1, 50, 512]    [1, 50, 512]    --              True\n",
       "│    │    └─LayerNorm (layer_norm1)                          [1, 50, 512]    [1, 50, 512]    1,024           True\n",
       "│    │    └─MultiheadSelfAttentionBlock (msa_block)          [1, 50, 512]    [1, 50, 512]    1,050,624       True\n",
       "│    │    └─LayerNorm (layer_norm2)                          [1, 50, 512]    [1, 50, 512]    1,024           True\n",
       "│    │    └─MLPBlock (mlp_block)                             [1, 50, 512]    [1, 50, 512]    3,149,312       True\n",
       "│    └─TransformerEncoderBlock (2)                           [1, 50, 512]    [1, 50, 512]    --              True\n",
       "│    │    └─LayerNorm (layer_norm1)                          [1, 50, 512]    [1, 50, 512]    1,024           True\n",
       "│    │    └─MultiheadSelfAttentionBlock (msa_block)          [1, 50, 512]    [1, 50, 512]    1,050,624       True\n",
       "│    │    └─LayerNorm (layer_norm2)                          [1, 50, 512]    [1, 50, 512]    1,024           True\n",
       "│    │    └─MLPBlock (mlp_block)                             [1, 50, 512]    [1, 50, 512]    3,149,312       True\n",
       "│    └─TransformerEncoderBlock (3)                           [1, 50, 512]    [1, 50, 512]    --              True\n",
       "│    │    └─LayerNorm (layer_norm1)                          [1, 50, 512]    [1, 50, 512]    1,024           True\n",
       "│    │    └─MultiheadSelfAttentionBlock (msa_block)          [1, 50, 512]    [1, 50, 512]    1,050,624       True\n",
       "│    │    └─LayerNorm (layer_norm2)                          [1, 50, 512]    [1, 50, 512]    1,024           True\n",
       "│    │    └─MLPBlock (mlp_block)                             [1, 50, 512]    [1, 50, 512]    3,149,312       True\n",
       "│    └─TransformerEncoderBlock (4)                           [1, 50, 512]    [1, 50, 512]    --              True\n",
       "│    │    └─LayerNorm (layer_norm1)                          [1, 50, 512]    [1, 50, 512]    1,024           True\n",
       "│    │    └─MultiheadSelfAttentionBlock (msa_block)          [1, 50, 512]    [1, 50, 512]    1,050,624       True\n",
       "│    │    └─LayerNorm (layer_norm2)                          [1, 50, 512]    [1, 50, 512]    1,024           True\n",
       "│    │    └─MLPBlock (mlp_block)                             [1, 50, 512]    [1, 50, 512]    3,149,312       True\n",
       "│    └─TransformerEncoderBlock (5)                           [1, 50, 512]    [1, 50, 512]    --              True\n",
       "│    │    └─LayerNorm (layer_norm1)                          [1, 50, 512]    [1, 50, 512]    1,024           True\n",
       "│    │    └─MultiheadSelfAttentionBlock (msa_block)          [1, 50, 512]    [1, 50, 512]    1,050,624       True\n",
       "│    │    └─LayerNorm (layer_norm2)                          [1, 50, 512]    [1, 50, 512]    1,024           True\n",
       "│    │    └─MLPBlock (mlp_block)                             [1, 50, 512]    [1, 50, 512]    3,149,312       True\n",
       "│    └─TransformerEncoderBlock (6)                           [1, 50, 512]    [1, 50, 512]    --              True\n",
       "│    │    └─LayerNorm (layer_norm1)                          [1, 50, 512]    [1, 50, 512]    1,024           True\n",
       "│    │    └─MultiheadSelfAttentionBlock (msa_block)          [1, 50, 512]    [1, 50, 512]    1,050,624       True\n",
       "│    │    └─LayerNorm (layer_norm2)                          [1, 50, 512]    [1, 50, 512]    1,024           True\n",
       "│    │    └─MLPBlock (mlp_block)                             [1, 50, 512]    [1, 50, 512]    3,149,312       True\n",
       "│    └─TransformerEncoderBlock (7)                           [1, 50, 512]    [1, 50, 512]    --              True\n",
       "│    │    └─LayerNorm (layer_norm1)                          [1, 50, 512]    [1, 50, 512]    1,024           True\n",
       "│    │    └─MultiheadSelfAttentionBlock (msa_block)          [1, 50, 512]    [1, 50, 512]    1,050,624       True\n",
       "│    │    └─LayerNorm (layer_norm2)                          [1, 50, 512]    [1, 50, 512]    1,024           True\n",
       "│    │    └─MLPBlock (mlp_block)                             [1, 50, 512]    [1, 50, 512]    3,149,312       True\n",
       "│    └─TransformerEncoderBlock (8)                           [1, 50, 512]    [1, 50, 512]    --              True\n",
       "│    │    └─LayerNorm (layer_norm1)                          [1, 50, 512]    [1, 50, 512]    1,024           True\n",
       "│    │    └─MultiheadSelfAttentionBlock (msa_block)          [1, 50, 512]    [1, 50, 512]    1,050,624       True\n",
       "│    │    └─LayerNorm (layer_norm2)                          [1, 50, 512]    [1, 50, 512]    1,024           True\n",
       "│    │    └─MLPBlock (mlp_block)                             [1, 50, 512]    [1, 50, 512]    3,149,312       True\n",
       "│    └─TransformerEncoderBlock (9)                           [1, 50, 512]    [1, 50, 512]    --              True\n",
       "│    │    └─LayerNorm (layer_norm1)                          [1, 50, 512]    [1, 50, 512]    1,024           True\n",
       "│    │    └─MultiheadSelfAttentionBlock (msa_block)          [1, 50, 512]    [1, 50, 512]    1,050,624       True\n",
       "│    │    └─LayerNorm (layer_norm2)                          [1, 50, 512]    [1, 50, 512]    1,024           True\n",
       "│    │    └─MLPBlock (mlp_block)                             [1, 50, 512]    [1, 50, 512]    3,149,312       True\n",
       "│    └─TransformerEncoderBlock (10)                          [1, 50, 512]    [1, 50, 512]    --              True\n",
       "│    │    └─LayerNorm (layer_norm1)                          [1, 50, 512]    [1, 50, 512]    1,024           True\n",
       "│    │    └─MultiheadSelfAttentionBlock (msa_block)          [1, 50, 512]    [1, 50, 512]    1,050,624       True\n",
       "│    │    └─LayerNorm (layer_norm2)                          [1, 50, 512]    [1, 50, 512]    1,024           True\n",
       "│    │    └─MLPBlock (mlp_block)                             [1, 50, 512]    [1, 50, 512]    3,149,312       True\n",
       "│    └─TransformerEncoderBlock (11)                          [1, 50, 512]    [1, 50, 512]    --              True\n",
       "│    │    └─LayerNorm (layer_norm1)                          [1, 50, 512]    [1, 50, 512]    1,024           True\n",
       "│    │    └─MultiheadSelfAttentionBlock (msa_block)          [1, 50, 512]    [1, 50, 512]    1,050,624       True\n",
       "│    │    └─LayerNorm (layer_norm2)                          [1, 50, 512]    [1, 50, 512]    1,024           True\n",
       "│    │    └─MLPBlock (mlp_block)                             [1, 50, 512]    [1, 50, 512]    3,149,312       True\n",
       "├─Sequential (classifier)                                    [1, 512]        [1, 7]          --              True\n",
       "│    └─LayerNorm (0)                                         [1, 512]        [1, 512]        1,024           True\n",
       "│    └─Linear (1)                                            [1, 512]        [1, 7]          3,591           True\n",
       "========================================================================================================================\n",
       "Total params: 50,979,335\n",
       "Trainable params: 50,979,335\n",
       "Non-trainable params: 0\n",
       "Total mult-adds (Units.MEGABYTES): 63.54\n",
       "========================================================================================================================\n",
       "Input size (MB): 0.20\n",
       "Forward/backward pass size (MB): 22.32\n",
       "Params size (MB): 153.38\n",
       "Estimated Total Size (MB): 175.91\n",
       "========================================================================================================================"
      ]
     },
     "execution_count": 19,
     "metadata": {},
     "output_type": "execute_result"
    }
   ],
   "source": [
    "from torchinfo import summary\n",
    "\n",
    "summary(\n",
    "    model=model,\n",
    "    input_size=(1, 1, 224, 224),  # (batch_size, in_channels, img_size, img_size)\n",
    "    col_names=[\"input_size\", \"output_size\", \"num_params\", \"trainable\"],\n",
    "    col_width=15,\n",
    "    row_settings=[\"var_names\"],\n",
    ")"
   ]
  },
  {
   "cell_type": "code",
   "execution_count": 20,
   "id": "36ece644-8389-406b-b8e9-802ac5a1f946",
   "metadata": {},
   "outputs": [
    {
     "name": "stderr",
     "output_type": "stream",
     "text": [
      "Epoch 1/1000: 100%|██████████| 422/422 [02:06<00:00,  3.33it/s, Loss=1.7560, Acc=0.2756]\n"
     ]
    },
    {
     "name": "stdout",
     "output_type": "stream",
     "text": [
      "Epoch 1/1000: Train Loss: 1.7560, Train Acc: 0.2756\n"
     ]
    },
    {
     "name": "stderr",
     "output_type": "stream",
     "text": [
      "Epoch 1/1000 (Validation): 100%|██████████| 47/47 [00:06<00:00,  7.27it/s, Loss=1.6909, Acc=0.3387]\n"
     ]
    },
    {
     "name": "stdout",
     "output_type": "stream",
     "text": [
      "Epoch 1/1000: Val Loss: 1.6909, Val Acc: 0.3387, Val F1: 0.3003\n",
      "Current Learning Rate: 3e-05\n",
      "Best model saved at ../Hasil Eksperimen/model7_best.pt with val accuracy: 0.3387\n"
     ]
    },
    {
     "name": "stderr",
     "output_type": "stream",
     "text": [
      "Epoch 2/1000: 100%|██████████| 422/422 [02:11<00:00,  3.21it/s, Loss=1.6128, Acc=0.3697]\n"
     ]
    },
    {
     "name": "stdout",
     "output_type": "stream",
     "text": [
      "Epoch 2/1000: Train Loss: 1.6128, Train Acc: 0.3697\n"
     ]
    },
    {
     "name": "stderr",
     "output_type": "stream",
     "text": [
      "Epoch 2/1000 (Validation): 100%|██████████| 47/47 [00:06<00:00,  7.70it/s, Loss=1.6102, Acc=0.3747]\n"
     ]
    },
    {
     "name": "stdout",
     "output_type": "stream",
     "text": [
      "Epoch 2/1000: Val Loss: 1.6102, Val Acc: 0.3747, Val F1: 0.3004\n",
      "Current Learning Rate: 3e-05\n",
      "Best model saved at ../Hasil Eksperimen/model7_best.pt with val accuracy: 0.3747\n"
     ]
    },
    {
     "name": "stderr",
     "output_type": "stream",
     "text": [
      "Epoch 3/1000: 100%|██████████| 422/422 [02:13<00:00,  3.17it/s, Loss=1.5480, Acc=0.3953]\n"
     ]
    },
    {
     "name": "stdout",
     "output_type": "stream",
     "text": [
      "Epoch 3/1000: Train Loss: 1.5480, Train Acc: 0.3953\n"
     ]
    },
    {
     "name": "stderr",
     "output_type": "stream",
     "text": [
      "Epoch 3/1000 (Validation): 100%|██████████| 47/47 [00:05<00:00,  8.37it/s, Loss=1.5294, Acc=0.4143]\n"
     ]
    },
    {
     "name": "stdout",
     "output_type": "stream",
     "text": [
      "Epoch 3/1000: Val Loss: 1.5294, Val Acc: 0.4143, Val F1: 0.3825\n",
      "Current Learning Rate: 3e-05\n",
      "Best model saved at ../Hasil Eksperimen/model7_best.pt with val accuracy: 0.4143\n"
     ]
    },
    {
     "name": "stderr",
     "output_type": "stream",
     "text": [
      "Epoch 4/1000: 100%|██████████| 422/422 [02:13<00:00,  3.16it/s, Loss=1.4947, Acc=0.4198]\n"
     ]
    },
    {
     "name": "stdout",
     "output_type": "stream",
     "text": [
      "Epoch 4/1000: Train Loss: 1.4947, Train Acc: 0.4198\n"
     ]
    },
    {
     "name": "stderr",
     "output_type": "stream",
     "text": [
      "Epoch 4/1000 (Validation): 100%|██████████| 47/47 [00:08<00:00,  5.67it/s, Loss=1.5257, Acc=0.4070]\n"
     ]
    },
    {
     "name": "stdout",
     "output_type": "stream",
     "text": [
      "Epoch 4/1000: Val Loss: 1.5257, Val Acc: 0.4070, Val F1: 0.3756\n",
      "Current Learning Rate: 3e-05\n"
     ]
    },
    {
     "name": "stderr",
     "output_type": "stream",
     "text": [
      "Epoch 5/1000: 100%|██████████| 422/422 [02:05<00:00,  3.37it/s, Loss=1.4487, Acc=0.4406]\n"
     ]
    },
    {
     "name": "stdout",
     "output_type": "stream",
     "text": [
      "Epoch 5/1000: Train Loss: 1.4487, Train Acc: 0.4406\n"
     ]
    },
    {
     "name": "stderr",
     "output_type": "stream",
     "text": [
      "Epoch 5/1000 (Validation): 100%|██████████| 47/47 [00:09<00:00,  5.18it/s, Loss=1.5005, Acc=0.4263]\n"
     ]
    },
    {
     "name": "stdout",
     "output_type": "stream",
     "text": [
      "Epoch 5/1000: Val Loss: 1.5005, Val Acc: 0.4263, Val F1: 0.4011\n",
      "Current Learning Rate: 3e-05\n",
      "Best model saved at ../Hasil Eksperimen/model7_best.pt with val accuracy: 0.4263\n"
     ]
    },
    {
     "name": "stderr",
     "output_type": "stream",
     "text": [
      "Epoch 6/1000: 100%|██████████| 422/422 [02:09<00:00,  3.27it/s, Loss=1.4015, Acc=0.4573]\n"
     ]
    },
    {
     "name": "stdout",
     "output_type": "stream",
     "text": [
      "Epoch 6/1000: Train Loss: 1.4015, Train Acc: 0.4573\n"
     ]
    },
    {
     "name": "stderr",
     "output_type": "stream",
     "text": [
      "Epoch 6/1000 (Validation): 100%|██████████| 47/47 [00:11<00:00,  4.25it/s, Loss=1.4908, Acc=0.4233]\n"
     ]
    },
    {
     "name": "stdout",
     "output_type": "stream",
     "text": [
      "Epoch 6/1000: Val Loss: 1.4908, Val Acc: 0.4233, Val F1: 0.3946\n",
      "Current Learning Rate: 3e-05\n"
     ]
    },
    {
     "name": "stderr",
     "output_type": "stream",
     "text": [
      "Epoch 7/1000: 100%|██████████| 422/422 [02:12<00:00,  3.19it/s, Loss=1.3505, Acc=0.4795]\n"
     ]
    },
    {
     "name": "stdout",
     "output_type": "stream",
     "text": [
      "Epoch 7/1000: Train Loss: 1.3505, Train Acc: 0.4795\n"
     ]
    },
    {
     "name": "stderr",
     "output_type": "stream",
     "text": [
      "Epoch 7/1000 (Validation): 100%|██████████| 47/47 [00:10<00:00,  4.49it/s, Loss=1.4685, Acc=0.4427]\n"
     ]
    },
    {
     "name": "stdout",
     "output_type": "stream",
     "text": [
      "Epoch 7/1000: Val Loss: 1.4685, Val Acc: 0.4427, Val F1: 0.4324\n",
      "Current Learning Rate: 3e-05\n",
      "Best model saved at ../Hasil Eksperimen/model7_best.pt with val accuracy: 0.4427\n"
     ]
    },
    {
     "name": "stderr",
     "output_type": "stream",
     "text": [
      "Epoch 8/1000: 100%|██████████| 422/422 [02:06<00:00,  3.33it/s, Loss=1.2838, Acc=0.5062]\n"
     ]
    },
    {
     "name": "stdout",
     "output_type": "stream",
     "text": [
      "Epoch 8/1000: Train Loss: 1.2838, Train Acc: 0.5062\n"
     ]
    },
    {
     "name": "stderr",
     "output_type": "stream",
     "text": [
      "Epoch 8/1000 (Validation): 100%|██████████| 47/47 [00:04<00:00, 10.29it/s, Loss=1.4610, Acc=0.4463]\n"
     ]
    },
    {
     "name": "stdout",
     "output_type": "stream",
     "text": [
      "Epoch 8/1000: Val Loss: 1.4610, Val Acc: 0.4463, Val F1: 0.4407\n",
      "Current Learning Rate: 3e-05\n",
      "Best model saved at ../Hasil Eksperimen/model7_best.pt with val accuracy: 0.4463\n"
     ]
    },
    {
     "name": "stderr",
     "output_type": "stream",
     "text": [
      "Epoch 9/1000: 100%|██████████| 422/422 [02:05<00:00,  3.36it/s, Loss=1.2037, Acc=0.5399]\n"
     ]
    },
    {
     "name": "stdout",
     "output_type": "stream",
     "text": [
      "Epoch 9/1000: Train Loss: 1.2037, Train Acc: 0.5399\n"
     ]
    },
    {
     "name": "stderr",
     "output_type": "stream",
     "text": [
      "Epoch 9/1000 (Validation): 100%|██████████| 47/47 [00:04<00:00, 10.24it/s, Loss=1.4590, Acc=0.4600]\n"
     ]
    },
    {
     "name": "stdout",
     "output_type": "stream",
     "text": [
      "Epoch 9/1000: Val Loss: 1.4590, Val Acc: 0.4600, Val F1: 0.4473\n",
      "Current Learning Rate: 3e-05\n",
      "Best model saved at ../Hasil Eksperimen/model7_best.pt with val accuracy: 0.4600\n"
     ]
    },
    {
     "name": "stderr",
     "output_type": "stream",
     "text": [
      "Epoch 10/1000: 100%|██████████| 422/422 [02:11<00:00,  3.20it/s, Loss=1.0969, Acc=0.5833]\n"
     ]
    },
    {
     "name": "stdout",
     "output_type": "stream",
     "text": [
      "Epoch 10/1000: Train Loss: 1.0969, Train Acc: 0.5833\n"
     ]
    },
    {
     "name": "stderr",
     "output_type": "stream",
     "text": [
      "Epoch 10/1000 (Validation): 100%|██████████| 47/47 [00:05<00:00,  8.13it/s, Loss=1.5416, Acc=0.4513]\n"
     ]
    },
    {
     "name": "stdout",
     "output_type": "stream",
     "text": [
      "Epoch 10/1000: Val Loss: 1.5416, Val Acc: 0.4513, Val F1: 0.4358\n",
      "Current Learning Rate: 3e-05\n"
     ]
    },
    {
     "name": "stderr",
     "output_type": "stream",
     "text": [
      "Epoch 11/1000: 100%|██████████| 422/422 [02:04<00:00,  3.40it/s, Loss=0.9542, Acc=0.6439]\n"
     ]
    },
    {
     "name": "stdout",
     "output_type": "stream",
     "text": [
      "Epoch 11/1000: Train Loss: 0.9542, Train Acc: 0.6439\n"
     ]
    },
    {
     "name": "stderr",
     "output_type": "stream",
     "text": [
      "Epoch 11/1000 (Validation): 100%|██████████| 47/47 [00:06<00:00,  7.80it/s, Loss=1.6283, Acc=0.4497]\n"
     ]
    },
    {
     "name": "stdout",
     "output_type": "stream",
     "text": [
      "Epoch 11/1000: Val Loss: 1.6283, Val Acc: 0.4497, Val F1: 0.4487\n",
      "Current Learning Rate: 3e-05\n"
     ]
    },
    {
     "name": "stderr",
     "output_type": "stream",
     "text": [
      "Epoch 12/1000: 100%|██████████| 422/422 [02:10<00:00,  3.23it/s, Loss=0.7801, Acc=0.7068]\n"
     ]
    },
    {
     "name": "stdout",
     "output_type": "stream",
     "text": [
      "Epoch 12/1000: Train Loss: 0.7801, Train Acc: 0.7068\n"
     ]
    },
    {
     "name": "stderr",
     "output_type": "stream",
     "text": [
      "Epoch 12/1000 (Validation): 100%|██████████| 47/47 [00:10<00:00,  4.51it/s, Loss=1.7567, Acc=0.4550]\n"
     ]
    },
    {
     "name": "stdout",
     "output_type": "stream",
     "text": [
      "Epoch 12/1000: Val Loss: 1.7567, Val Acc: 0.4550, Val F1: 0.4463\n",
      "Current Learning Rate: 3e-05\n"
     ]
    },
    {
     "name": "stderr",
     "output_type": "stream",
     "text": [
      "Epoch 13/1000: 100%|██████████| 422/422 [02:23<00:00,  2.95it/s, Loss=0.5800, Acc=0.7870]\n"
     ]
    },
    {
     "name": "stdout",
     "output_type": "stream",
     "text": [
      "Epoch 13/1000: Train Loss: 0.5800, Train Acc: 0.7870\n"
     ]
    },
    {
     "name": "stderr",
     "output_type": "stream",
     "text": [
      "Epoch 13/1000 (Validation): 100%|██████████| 47/47 [00:07<00:00,  5.94it/s, Loss=1.9078, Acc=0.4490]\n"
     ]
    },
    {
     "name": "stdout",
     "output_type": "stream",
     "text": [
      "Epoch 13/1000: Val Loss: 1.9078, Val Acc: 0.4490, Val F1: 0.4452\n",
      "Current Learning Rate: 3e-05\n"
     ]
    },
    {
     "name": "stderr",
     "output_type": "stream",
     "text": [
      "Epoch 14/1000: 100%|██████████| 422/422 [02:18<00:00,  3.05it/s, Loss=0.3937, Acc=0.8612]\n"
     ]
    },
    {
     "name": "stdout",
     "output_type": "stream",
     "text": [
      "Epoch 14/1000: Train Loss: 0.3937, Train Acc: 0.8612\n"
     ]
    },
    {
     "name": "stderr",
     "output_type": "stream",
     "text": [
      "Epoch 14/1000 (Validation): 100%|██████████| 47/47 [00:05<00:00,  8.05it/s, Loss=2.2660, Acc=0.4490]\n"
     ]
    },
    {
     "name": "stdout",
     "output_type": "stream",
     "text": [
      "Epoch 14/1000: Val Loss: 2.2660, Val Acc: 0.4490, Val F1: 0.4435\n",
      "Current Learning Rate: 3e-05\n"
     ]
    },
    {
     "name": "stderr",
     "output_type": "stream",
     "text": [
      "Epoch 15/1000: 100%|██████████| 422/422 [02:11<00:00,  3.20it/s, Loss=0.2514, Acc=0.9139]\n"
     ]
    },
    {
     "name": "stdout",
     "output_type": "stream",
     "text": [
      "Epoch 15/1000: Train Loss: 0.2514, Train Acc: 0.9139\n"
     ]
    },
    {
     "name": "stderr",
     "output_type": "stream",
     "text": [
      "Epoch 15/1000 (Validation): 100%|██████████| 47/47 [00:05<00:00,  7.92it/s, Loss=2.5950, Acc=0.4470]\n"
     ]
    },
    {
     "name": "stdout",
     "output_type": "stream",
     "text": [
      "Epoch 15/1000: Val Loss: 2.5950, Val Acc: 0.4470, Val F1: 0.4439\n",
      "Current Learning Rate: 3e-06\n"
     ]
    },
    {
     "name": "stderr",
     "output_type": "stream",
     "text": [
      "Epoch 16/1000: 100%|██████████| 422/422 [02:21<00:00,  2.99it/s, Loss=0.0783, Acc=0.9802]\n"
     ]
    },
    {
     "name": "stdout",
     "output_type": "stream",
     "text": [
      "Epoch 16/1000: Train Loss: 0.0783, Train Acc: 0.9802\n"
     ]
    },
    {
     "name": "stderr",
     "output_type": "stream",
     "text": [
      "Epoch 16/1000 (Validation): 100%|██████████| 47/47 [00:06<00:00,  7.06it/s, Loss=2.6965, Acc=0.4637]\n"
     ]
    },
    {
     "name": "stdout",
     "output_type": "stream",
     "text": [
      "Epoch 16/1000: Val Loss: 2.6965, Val Acc: 0.4637, Val F1: 0.4608\n",
      "Current Learning Rate: 3e-06\n",
      "Best model saved at ../Hasil Eksperimen/model7_best.pt with val accuracy: 0.4637\n"
     ]
    },
    {
     "name": "stderr",
     "output_type": "stream",
     "text": [
      "Epoch 17/1000: 100%|██████████| 422/422 [02:09<00:00,  3.25it/s, Loss=0.0357, Acc=0.9953]\n"
     ]
    },
    {
     "name": "stdout",
     "output_type": "stream",
     "text": [
      "Epoch 17/1000: Train Loss: 0.0357, Train Acc: 0.9953\n"
     ]
    },
    {
     "name": "stderr",
     "output_type": "stream",
     "text": [
      "Epoch 17/1000 (Validation): 100%|██████████| 47/47 [00:13<00:00,  3.41it/s, Loss=2.8110, Acc=0.4627]\n"
     ]
    },
    {
     "name": "stdout",
     "output_type": "stream",
     "text": [
      "Epoch 17/1000: Val Loss: 2.8110, Val Acc: 0.4627, Val F1: 0.4604\n",
      "Current Learning Rate: 3e-06\n"
     ]
    },
    {
     "name": "stderr",
     "output_type": "stream",
     "text": [
      "Epoch 18/1000: 100%|██████████| 422/422 [02:12<00:00,  3.19it/s, Loss=0.0237, Acc=0.9973]\n"
     ]
    },
    {
     "name": "stdout",
     "output_type": "stream",
     "text": [
      "Epoch 18/1000: Train Loss: 0.0237, Train Acc: 0.9973\n"
     ]
    },
    {
     "name": "stderr",
     "output_type": "stream",
     "text": [
      "Epoch 18/1000 (Validation): 100%|██████████| 47/47 [00:05<00:00,  8.56it/s, Loss=2.9108, Acc=0.4650]\n"
     ]
    },
    {
     "name": "stdout",
     "output_type": "stream",
     "text": [
      "Epoch 18/1000: Val Loss: 2.9108, Val Acc: 0.4650, Val F1: 0.4628\n",
      "Current Learning Rate: 3e-06\n",
      "Best model saved at ../Hasil Eksperimen/model7_best.pt with val accuracy: 0.4650\n"
     ]
    },
    {
     "name": "stderr",
     "output_type": "stream",
     "text": [
      "Epoch 19/1000: 100%|██████████| 422/422 [02:11<00:00,  3.21it/s, Loss=0.0174, Acc=0.9981]\n"
     ]
    },
    {
     "name": "stdout",
     "output_type": "stream",
     "text": [
      "Epoch 19/1000: Train Loss: 0.0174, Train Acc: 0.9981\n"
     ]
    },
    {
     "name": "stderr",
     "output_type": "stream",
     "text": [
      "Epoch 19/1000 (Validation): 100%|██████████| 47/47 [00:06<00:00,  7.57it/s, Loss=3.0051, Acc=0.4663]\n"
     ]
    },
    {
     "name": "stdout",
     "output_type": "stream",
     "text": [
      "Epoch 19/1000: Val Loss: 3.0051, Val Acc: 0.4663, Val F1: 0.4644\n",
      "Current Learning Rate: 3e-06\n",
      "Best model saved at ../Hasil Eksperimen/model7_best.pt with val accuracy: 0.4663\n"
     ]
    },
    {
     "name": "stderr",
     "output_type": "stream",
     "text": [
      "Epoch 20/1000: 100%|██████████| 422/422 [02:10<00:00,  3.23it/s, Loss=0.0136, Acc=0.9986]\n"
     ]
    },
    {
     "name": "stdout",
     "output_type": "stream",
     "text": [
      "Epoch 20/1000: Train Loss: 0.0136, Train Acc: 0.9986\n"
     ]
    },
    {
     "name": "stderr",
     "output_type": "stream",
     "text": [
      "Epoch 20/1000 (Validation): 100%|██████████| 47/47 [00:05<00:00,  8.77it/s, Loss=3.0922, Acc=0.4647]\n"
     ]
    },
    {
     "name": "stdout",
     "output_type": "stream",
     "text": [
      "Epoch 20/1000: Val Loss: 3.0922, Val Acc: 0.4647, Val F1: 0.4628\n",
      "Current Learning Rate: 3e-06\n"
     ]
    },
    {
     "name": "stderr",
     "output_type": "stream",
     "text": [
      "Epoch 21/1000: 100%|██████████| 422/422 [02:10<00:00,  3.23it/s, Loss=0.0114, Acc=0.9983]\n"
     ]
    },
    {
     "name": "stdout",
     "output_type": "stream",
     "text": [
      "Epoch 21/1000: Train Loss: 0.0114, Train Acc: 0.9983\n"
     ]
    },
    {
     "name": "stderr",
     "output_type": "stream",
     "text": [
      "Epoch 21/1000 (Validation): 100%|██████████| 47/47 [00:08<00:00,  5.59it/s, Loss=3.1804, Acc=0.4650]\n"
     ]
    },
    {
     "name": "stdout",
     "output_type": "stream",
     "text": [
      "Epoch 21/1000: Val Loss: 3.1804, Val Acc: 0.4650, Val F1: 0.4628\n",
      "Current Learning Rate: 3.0000000000000004e-07\n"
     ]
    },
    {
     "name": "stderr",
     "output_type": "stream",
     "text": [
      "Epoch 22/1000: 100%|██████████| 422/422 [02:05<00:00,  3.37it/s, Loss=0.0085, Acc=0.9987]\n"
     ]
    },
    {
     "name": "stdout",
     "output_type": "stream",
     "text": [
      "Epoch 22/1000: Train Loss: 0.0085, Train Acc: 0.9987\n"
     ]
    },
    {
     "name": "stderr",
     "output_type": "stream",
     "text": [
      "Epoch 22/1000 (Validation): 100%|██████████| 47/47 [00:06<00:00,  7.10it/s, Loss=3.1791, Acc=0.4627]\n"
     ]
    },
    {
     "name": "stdout",
     "output_type": "stream",
     "text": [
      "Epoch 22/1000: Val Loss: 3.1791, Val Acc: 0.4627, Val F1: 0.4608\n",
      "Current Learning Rate: 3.0000000000000004e-07\n"
     ]
    },
    {
     "name": "stderr",
     "output_type": "stream",
     "text": [
      "Epoch 23/1000: 100%|██████████| 422/422 [02:09<00:00,  3.25it/s, Loss=0.0076, Acc=0.9990]\n"
     ]
    },
    {
     "name": "stdout",
     "output_type": "stream",
     "text": [
      "Epoch 23/1000: Train Loss: 0.0076, Train Acc: 0.9990\n"
     ]
    },
    {
     "name": "stderr",
     "output_type": "stream",
     "text": [
      "Epoch 23/1000 (Validation): 100%|██████████| 47/47 [00:10<00:00,  4.65it/s, Loss=3.1926, Acc=0.4620]\n"
     ]
    },
    {
     "name": "stdout",
     "output_type": "stream",
     "text": [
      "Epoch 23/1000: Val Loss: 3.1926, Val Acc: 0.4620, Val F1: 0.4603\n",
      "Current Learning Rate: 3.0000000000000004e-07\n"
     ]
    },
    {
     "name": "stderr",
     "output_type": "stream",
     "text": [
      "Epoch 24/1000: 100%|██████████| 422/422 [02:21<00:00,  2.99it/s, Loss=0.0071, Acc=0.9993]\n"
     ]
    },
    {
     "name": "stdout",
     "output_type": "stream",
     "text": [
      "Epoch 24/1000: Train Loss: 0.0071, Train Acc: 0.9993\n"
     ]
    },
    {
     "name": "stderr",
     "output_type": "stream",
     "text": [
      "Epoch 24/1000 (Validation): 100%|██████████| 47/47 [00:05<00:00,  7.87it/s, Loss=3.2097, Acc=0.4623]\n"
     ]
    },
    {
     "name": "stdout",
     "output_type": "stream",
     "text": [
      "Epoch 24/1000: Val Loss: 3.2097, Val Acc: 0.4623, Val F1: 0.4608\n",
      "Current Learning Rate: 3.0000000000000004e-07\n"
     ]
    },
    {
     "name": "stderr",
     "output_type": "stream",
     "text": [
      "Epoch 25/1000: 100%|██████████| 422/422 [02:04<00:00,  3.38it/s, Loss=0.0068, Acc=0.9993]\n"
     ]
    },
    {
     "name": "stdout",
     "output_type": "stream",
     "text": [
      "Epoch 25/1000: Train Loss: 0.0068, Train Acc: 0.9993\n"
     ]
    },
    {
     "name": "stderr",
     "output_type": "stream",
     "text": [
      "Epoch 25/1000 (Validation): 100%|██████████| 47/47 [00:08<00:00,  5.87it/s, Loss=3.2233, Acc=0.4610]\n"
     ]
    },
    {
     "name": "stdout",
     "output_type": "stream",
     "text": [
      "Epoch 25/1000: Val Loss: 3.2233, Val Acc: 0.4610, Val F1: 0.4591\n",
      "Current Learning Rate: 3.0000000000000004e-07\n"
     ]
    },
    {
     "name": "stderr",
     "output_type": "stream",
     "text": [
      "Epoch 26/1000: 100%|██████████| 422/422 [02:09<00:00,  3.26it/s, Loss=0.0066, Acc=0.9993]\n"
     ]
    },
    {
     "name": "stdout",
     "output_type": "stream",
     "text": [
      "Epoch 26/1000: Train Loss: 0.0066, Train Acc: 0.9993\n"
     ]
    },
    {
     "name": "stderr",
     "output_type": "stream",
     "text": [
      "Epoch 26/1000 (Validation): 100%|██████████| 47/47 [00:13<00:00,  3.43it/s, Loss=3.2396, Acc=0.4627]\n"
     ]
    },
    {
     "name": "stdout",
     "output_type": "stream",
     "text": [
      "Epoch 26/1000: Val Loss: 3.2396, Val Acc: 0.4627, Val F1: 0.4608\n",
      "Current Learning Rate: 3.0000000000000004e-07\n"
     ]
    },
    {
     "name": "stderr",
     "output_type": "stream",
     "text": [
      "Epoch 27/1000: 100%|██████████| 422/422 [02:15<00:00,  3.11it/s, Loss=0.0064, Acc=0.9994]\n"
     ]
    },
    {
     "name": "stdout",
     "output_type": "stream",
     "text": [
      "Epoch 27/1000: Train Loss: 0.0064, Train Acc: 0.9994\n"
     ]
    },
    {
     "name": "stderr",
     "output_type": "stream",
     "text": [
      "Epoch 27/1000 (Validation): 100%|██████████| 47/47 [00:07<00:00,  6.20it/s, Loss=3.2582, Acc=0.4617]\n"
     ]
    },
    {
     "name": "stdout",
     "output_type": "stream",
     "text": [
      "Epoch 27/1000: Val Loss: 3.2582, Val Acc: 0.4617, Val F1: 0.4597\n",
      "Current Learning Rate: 3.0000000000000004e-08\n"
     ]
    },
    {
     "name": "stderr",
     "output_type": "stream",
     "text": [
      "Epoch 28/1000: 100%|██████████| 422/422 [02:20<00:00,  3.00it/s, Loss=0.0059, Acc=0.9995]\n"
     ]
    },
    {
     "name": "stdout",
     "output_type": "stream",
     "text": [
      "Epoch 28/1000: Train Loss: 0.0059, Train Acc: 0.9995\n"
     ]
    },
    {
     "name": "stderr",
     "output_type": "stream",
     "text": [
      "Epoch 28/1000 (Validation): 100%|██████████| 47/47 [00:09<00:00,  5.09it/s, Loss=3.2626, Acc=0.4623]\n"
     ]
    },
    {
     "name": "stdout",
     "output_type": "stream",
     "text": [
      "Epoch 28/1000: Val Loss: 3.2626, Val Acc: 0.4623, Val F1: 0.4604\n",
      "Current Learning Rate: 3.0000000000000004e-08\n"
     ]
    },
    {
     "name": "stderr",
     "output_type": "stream",
     "text": [
      "Epoch 29/1000: 100%|██████████| 422/422 [02:15<00:00,  3.11it/s, Loss=0.0059, Acc=0.9994]\n"
     ]
    },
    {
     "name": "stdout",
     "output_type": "stream",
     "text": [
      "Epoch 29/1000: Train Loss: 0.0059, Train Acc: 0.9994\n"
     ]
    },
    {
     "name": "stderr",
     "output_type": "stream",
     "text": [
      "Epoch 29/1000 (Validation): 100%|██████████| 47/47 [00:07<00:00,  5.98it/s, Loss=3.2609, Acc=0.4627]\n"
     ]
    },
    {
     "name": "stdout",
     "output_type": "stream",
     "text": [
      "Epoch 29/1000: Val Loss: 3.2609, Val Acc: 0.4627, Val F1: 0.4607\n",
      "Current Learning Rate: 3.0000000000000004e-08\n"
     ]
    },
    {
     "name": "stderr",
     "output_type": "stream",
     "text": [
      "Epoch 30/1000: 100%|██████████| 422/422 [02:06<00:00,  3.35it/s, Loss=0.0059, Acc=0.9994]\n"
     ]
    },
    {
     "name": "stdout",
     "output_type": "stream",
     "text": [
      "Epoch 30/1000: Train Loss: 0.0059, Train Acc: 0.9994\n"
     ]
    },
    {
     "name": "stderr",
     "output_type": "stream",
     "text": [
      "Epoch 30/1000 (Validation): 100%|██████████| 47/47 [00:14<00:00,  3.34it/s, Loss=3.2660, Acc=0.4627]\n"
     ]
    },
    {
     "name": "stdout",
     "output_type": "stream",
     "text": [
      "Epoch 30/1000: Val Loss: 3.2660, Val Acc: 0.4627, Val F1: 0.4608\n",
      "Current Learning Rate: 3.0000000000000004e-08\n"
     ]
    },
    {
     "name": "stderr",
     "output_type": "stream",
     "text": [
      "Epoch 31/1000: 100%|██████████| 422/422 [02:07<00:00,  3.30it/s, Loss=0.0058, Acc=0.9994]\n"
     ]
    },
    {
     "name": "stdout",
     "output_type": "stream",
     "text": [
      "Epoch 31/1000: Train Loss: 0.0058, Train Acc: 0.9994\n"
     ]
    },
    {
     "name": "stderr",
     "output_type": "stream",
     "text": [
      "Epoch 31/1000 (Validation): 100%|██████████| 47/47 [00:08<00:00,  5.39it/s, Loss=3.2679, Acc=0.4630]\n"
     ]
    },
    {
     "name": "stdout",
     "output_type": "stream",
     "text": [
      "Epoch 31/1000: Val Loss: 3.2679, Val Acc: 0.4630, Val F1: 0.4611\n",
      "Current Learning Rate: 3.0000000000000004e-08\n"
     ]
    },
    {
     "name": "stderr",
     "output_type": "stream",
     "text": [
      "Epoch 32/1000: 100%|██████████| 422/422 [02:13<00:00,  3.16it/s, Loss=0.0058, Acc=0.9995]\n"
     ]
    },
    {
     "name": "stdout",
     "output_type": "stream",
     "text": [
      "Epoch 32/1000: Train Loss: 0.0058, Train Acc: 0.9995\n"
     ]
    },
    {
     "name": "stderr",
     "output_type": "stream",
     "text": [
      "Epoch 32/1000 (Validation): 100%|██████████| 47/47 [00:06<00:00,  7.52it/s, Loss=3.2725, Acc=0.4630]\n"
     ]
    },
    {
     "name": "stdout",
     "output_type": "stream",
     "text": [
      "Epoch 32/1000: Val Loss: 3.2725, Val Acc: 0.4630, Val F1: 0.4611\n",
      "Current Learning Rate: 3.0000000000000004e-08\n"
     ]
    },
    {
     "name": "stderr",
     "output_type": "stream",
     "text": [
      "Epoch 33/1000: 100%|██████████| 422/422 [02:11<00:00,  3.22it/s, Loss=0.0058, Acc=0.9995]\n"
     ]
    },
    {
     "name": "stdout",
     "output_type": "stream",
     "text": [
      "Epoch 33/1000: Train Loss: 0.0058, Train Acc: 0.9995\n"
     ]
    },
    {
     "name": "stderr",
     "output_type": "stream",
     "text": [
      "Epoch 33/1000 (Validation): 100%|██████████| 47/47 [00:05<00:00,  8.87it/s, Loss=3.2717, Acc=0.4633]\n"
     ]
    },
    {
     "name": "stdout",
     "output_type": "stream",
     "text": [
      "Epoch 33/1000: Val Loss: 3.2717, Val Acc: 0.4633, Val F1: 0.4614\n",
      "Current Learning Rate: 3.0000000000000004e-09\n"
     ]
    },
    {
     "name": "stderr",
     "output_type": "stream",
     "text": [
      "Epoch 34/1000: 100%|██████████| 422/422 [02:06<00:00,  3.35it/s, Loss=0.0057, Acc=0.9995]\n"
     ]
    },
    {
     "name": "stdout",
     "output_type": "stream",
     "text": [
      "Epoch 34/1000: Train Loss: 0.0057, Train Acc: 0.9995\n"
     ]
    },
    {
     "name": "stderr",
     "output_type": "stream",
     "text": [
      "Epoch 34/1000 (Validation): 100%|██████████| 47/47 [00:13<00:00,  3.38it/s, Loss=3.2750, Acc=0.4633]\n"
     ]
    },
    {
     "name": "stdout",
     "output_type": "stream",
     "text": [
      "Epoch 34/1000: Val Loss: 3.2750, Val Acc: 0.4633, Val F1: 0.4614\n",
      "Current Learning Rate: 3.0000000000000004e-09\n"
     ]
    },
    {
     "name": "stderr",
     "output_type": "stream",
     "text": [
      "Epoch 35/1000: 100%|██████████| 422/422 [02:09<00:00,  3.26it/s, Loss=0.0057, Acc=0.9995]\n"
     ]
    },
    {
     "name": "stdout",
     "output_type": "stream",
     "text": [
      "Epoch 35/1000: Train Loss: 0.0057, Train Acc: 0.9995\n"
     ]
    },
    {
     "name": "stderr",
     "output_type": "stream",
     "text": [
      "Epoch 35/1000 (Validation): 100%|██████████| 47/47 [00:08<00:00,  5.49it/s, Loss=3.2749, Acc=0.4633]\n"
     ]
    },
    {
     "name": "stdout",
     "output_type": "stream",
     "text": [
      "Epoch 35/1000: Val Loss: 3.2749, Val Acc: 0.4633, Val F1: 0.4614\n",
      "Current Learning Rate: 3.0000000000000004e-09\n"
     ]
    },
    {
     "name": "stderr",
     "output_type": "stream",
     "text": [
      "Epoch 36/1000: 100%|██████████| 422/422 [02:11<00:00,  3.22it/s, Loss=0.0057, Acc=0.9995]\n"
     ]
    },
    {
     "name": "stdout",
     "output_type": "stream",
     "text": [
      "Epoch 36/1000: Train Loss: 0.0057, Train Acc: 0.9995\n"
     ]
    },
    {
     "name": "stderr",
     "output_type": "stream",
     "text": [
      "Epoch 36/1000 (Validation): 100%|██████████| 47/47 [00:15<00:00,  2.97it/s, Loss=3.2721, Acc=0.4633]\n"
     ]
    },
    {
     "name": "stdout",
     "output_type": "stream",
     "text": [
      "Epoch 36/1000: Val Loss: 3.2721, Val Acc: 0.4633, Val F1: 0.4614\n",
      "Current Learning Rate: 3.0000000000000004e-09\n"
     ]
    },
    {
     "name": "stderr",
     "output_type": "stream",
     "text": [
      "Epoch 37/1000: 100%|██████████| 422/422 [02:07<00:00,  3.32it/s, Loss=0.0057, Acc=0.9995]\n"
     ]
    },
    {
     "name": "stdout",
     "output_type": "stream",
     "text": [
      "Epoch 37/1000: Train Loss: 0.0057, Train Acc: 0.9995\n"
     ]
    },
    {
     "name": "stderr",
     "output_type": "stream",
     "text": [
      "Epoch 37/1000 (Validation): 100%|██████████| 47/47 [00:12<00:00,  3.71it/s, Loss=3.2759, Acc=0.4633]\n"
     ]
    },
    {
     "name": "stdout",
     "output_type": "stream",
     "text": [
      "Epoch 37/1000: Val Loss: 3.2759, Val Acc: 0.4633, Val F1: 0.4614\n",
      "Current Learning Rate: 3.0000000000000004e-09\n"
     ]
    },
    {
     "name": "stderr",
     "output_type": "stream",
     "text": [
      "Epoch 38/1000: 100%|██████████| 422/422 [02:18<00:00,  3.04it/s, Loss=0.0057, Acc=0.9995]\n"
     ]
    },
    {
     "name": "stdout",
     "output_type": "stream",
     "text": [
      "Epoch 38/1000: Train Loss: 0.0057, Train Acc: 0.9995\n"
     ]
    },
    {
     "name": "stderr",
     "output_type": "stream",
     "text": [
      "Epoch 38/1000 (Validation): 100%|██████████| 47/47 [00:08<00:00,  5.46it/s, Loss=3.2748, Acc=0.4633]\n"
     ]
    },
    {
     "name": "stdout",
     "output_type": "stream",
     "text": [
      "Epoch 38/1000: Val Loss: 3.2748, Val Acc: 0.4633, Val F1: 0.4614\n",
      "Current Learning Rate: 3.0000000000000004e-09\n"
     ]
    },
    {
     "name": "stderr",
     "output_type": "stream",
     "text": [
      "Epoch 39/1000: 100%|██████████| 422/422 [02:05<00:00,  3.37it/s, Loss=0.0057, Acc=0.9995]\n"
     ]
    },
    {
     "name": "stdout",
     "output_type": "stream",
     "text": [
      "Epoch 39/1000: Train Loss: 0.0057, Train Acc: 0.9995\n"
     ]
    },
    {
     "name": "stderr",
     "output_type": "stream",
     "text": [
      "Epoch 39/1000 (Validation): 100%|██████████| 47/47 [00:05<00:00,  7.87it/s, Loss=3.2731, Acc=0.4633]\n"
     ]
    },
    {
     "name": "stdout",
     "output_type": "stream",
     "text": [
      "Epoch 39/1000: Val Loss: 3.2731, Val Acc: 0.4633, Val F1: 0.4614\n",
      "Current Learning Rate: 3.0000000000000004e-09\n"
     ]
    },
    {
     "name": "stderr",
     "output_type": "stream",
     "text": [
      "Epoch 40/1000: 100%|██████████| 422/422 [02:19<00:00,  3.02it/s, Loss=0.0057, Acc=0.9995]\n"
     ]
    },
    {
     "name": "stdout",
     "output_type": "stream",
     "text": [
      "Epoch 40/1000: Train Loss: 0.0057, Train Acc: 0.9995\n"
     ]
    },
    {
     "name": "stderr",
     "output_type": "stream",
     "text": [
      "Epoch 40/1000 (Validation): 100%|██████████| 47/47 [00:06<00:00,  7.33it/s, Loss=3.2766, Acc=0.4633]\n"
     ]
    },
    {
     "name": "stdout",
     "output_type": "stream",
     "text": [
      "Epoch 40/1000: Val Loss: 3.2766, Val Acc: 0.4633, Val F1: 0.4614\n",
      "Current Learning Rate: 3.0000000000000004e-09\n"
     ]
    },
    {
     "name": "stderr",
     "output_type": "stream",
     "text": [
      "Epoch 41/1000: 100%|██████████| 422/422 [02:09<00:00,  3.26it/s, Loss=0.0057, Acc=0.9995]\n"
     ]
    },
    {
     "name": "stdout",
     "output_type": "stream",
     "text": [
      "Epoch 41/1000: Train Loss: 0.0057, Train Acc: 0.9995\n"
     ]
    },
    {
     "name": "stderr",
     "output_type": "stream",
     "text": [
      "Epoch 41/1000 (Validation): 100%|██████████| 47/47 [00:06<00:00,  6.74it/s, Loss=3.2771, Acc=0.4633]\n"
     ]
    },
    {
     "name": "stdout",
     "output_type": "stream",
     "text": [
      "Epoch 41/1000: Val Loss: 3.2771, Val Acc: 0.4633, Val F1: 0.4614\n",
      "Current Learning Rate: 3.0000000000000004e-09\n"
     ]
    },
    {
     "name": "stderr",
     "output_type": "stream",
     "text": [
      "Epoch 42/1000: 100%|██████████| 422/422 [02:08<00:00,  3.28it/s, Loss=0.0057, Acc=0.9995]\n"
     ]
    },
    {
     "name": "stdout",
     "output_type": "stream",
     "text": [
      "Epoch 42/1000: Train Loss: 0.0057, Train Acc: 0.9995\n"
     ]
    },
    {
     "name": "stderr",
     "output_type": "stream",
     "text": [
      "Epoch 42/1000 (Validation): 100%|██████████| 47/47 [00:07<00:00,  5.97it/s, Loss=3.2741, Acc=0.4633]\n"
     ]
    },
    {
     "name": "stdout",
     "output_type": "stream",
     "text": [
      "Epoch 42/1000: Val Loss: 3.2741, Val Acc: 0.4633, Val F1: 0.4614\n",
      "Current Learning Rate: 3.0000000000000004e-09\n"
     ]
    },
    {
     "name": "stderr",
     "output_type": "stream",
     "text": [
      "Epoch 43/1000: 100%|██████████| 422/422 [02:08<00:00,  3.30it/s, Loss=0.0057, Acc=0.9995]\n"
     ]
    },
    {
     "name": "stdout",
     "output_type": "stream",
     "text": [
      "Epoch 43/1000: Train Loss: 0.0057, Train Acc: 0.9995\n"
     ]
    },
    {
     "name": "stderr",
     "output_type": "stream",
     "text": [
      "Epoch 43/1000 (Validation): 100%|██████████| 47/47 [00:06<00:00,  7.13it/s, Loss=3.2752, Acc=0.4633]\n"
     ]
    },
    {
     "name": "stdout",
     "output_type": "stream",
     "text": [
      "Epoch 43/1000: Val Loss: 3.2752, Val Acc: 0.4633, Val F1: 0.4614\n",
      "Current Learning Rate: 3.0000000000000004e-09\n"
     ]
    },
    {
     "name": "stderr",
     "output_type": "stream",
     "text": [
      "Epoch 44/1000: 100%|██████████| 422/422 [02:08<00:00,  3.28it/s, Loss=0.0057, Acc=0.9995]\n"
     ]
    },
    {
     "name": "stdout",
     "output_type": "stream",
     "text": [
      "Epoch 44/1000: Train Loss: 0.0057, Train Acc: 0.9995\n"
     ]
    },
    {
     "name": "stderr",
     "output_type": "stream",
     "text": [
      "Epoch 44/1000 (Validation): 100%|██████████| 47/47 [00:10<00:00,  4.32it/s, Loss=3.2773, Acc=0.4633]\n"
     ]
    },
    {
     "name": "stdout",
     "output_type": "stream",
     "text": [
      "Epoch 44/1000: Val Loss: 3.2773, Val Acc: 0.4633, Val F1: 0.4614\n",
      "Current Learning Rate: 3.0000000000000004e-09\n"
     ]
    },
    {
     "name": "stderr",
     "output_type": "stream",
     "text": [
      "Epoch 45/1000: 100%|██████████| 422/422 [02:17<00:00,  3.08it/s, Loss=0.0057, Acc=0.9995]\n"
     ]
    },
    {
     "name": "stdout",
     "output_type": "stream",
     "text": [
      "Epoch 45/1000: Train Loss: 0.0057, Train Acc: 0.9995\n"
     ]
    },
    {
     "name": "stderr",
     "output_type": "stream",
     "text": [
      "Epoch 45/1000 (Validation): 100%|██████████| 47/47 [00:09<00:00,  4.90it/s, Loss=3.2760, Acc=0.4633]\n"
     ]
    },
    {
     "name": "stdout",
     "output_type": "stream",
     "text": [
      "Epoch 45/1000: Val Loss: 3.2760, Val Acc: 0.4633, Val F1: 0.4614\n",
      "Current Learning Rate: 3.0000000000000004e-09\n"
     ]
    },
    {
     "name": "stderr",
     "output_type": "stream",
     "text": [
      "Epoch 46/1000: 100%|██████████| 422/422 [02:06<00:00,  3.33it/s, Loss=0.0057, Acc=0.9995]\n"
     ]
    },
    {
     "name": "stdout",
     "output_type": "stream",
     "text": [
      "Epoch 46/1000: Train Loss: 0.0057, Train Acc: 0.9995\n"
     ]
    },
    {
     "name": "stderr",
     "output_type": "stream",
     "text": [
      "Epoch 46/1000 (Validation): 100%|██████████| 47/47 [00:12<00:00,  3.65it/s, Loss=3.2756, Acc=0.4633]\n"
     ]
    },
    {
     "name": "stdout",
     "output_type": "stream",
     "text": [
      "Epoch 46/1000: Val Loss: 3.2756, Val Acc: 0.4633, Val F1: 0.4614\n",
      "Current Learning Rate: 3.0000000000000004e-09\n"
     ]
    },
    {
     "name": "stderr",
     "output_type": "stream",
     "text": [
      "Epoch 47/1000: 100%|██████████| 422/422 [02:11<00:00,  3.22it/s, Loss=0.0057, Acc=0.9995]\n"
     ]
    },
    {
     "name": "stdout",
     "output_type": "stream",
     "text": [
      "Epoch 47/1000: Train Loss: 0.0057, Train Acc: 0.9995\n"
     ]
    },
    {
     "name": "stderr",
     "output_type": "stream",
     "text": [
      "Epoch 47/1000 (Validation): 100%|██████████| 47/47 [00:13<00:00,  3.40it/s, Loss=3.2768, Acc=0.4633]\n"
     ]
    },
    {
     "name": "stdout",
     "output_type": "stream",
     "text": [
      "Epoch 47/1000: Val Loss: 3.2768, Val Acc: 0.4633, Val F1: 0.4614\n",
      "Current Learning Rate: 3.0000000000000004e-09\n"
     ]
    },
    {
     "name": "stderr",
     "output_type": "stream",
     "text": [
      "Epoch 48/1000: 100%|██████████| 422/422 [02:17<00:00,  3.07it/s, Loss=0.0057, Acc=0.9995]\n"
     ]
    },
    {
     "name": "stdout",
     "output_type": "stream",
     "text": [
      "Epoch 48/1000: Train Loss: 0.0057, Train Acc: 0.9995\n"
     ]
    },
    {
     "name": "stderr",
     "output_type": "stream",
     "text": [
      "Epoch 48/1000 (Validation): 100%|██████████| 47/47 [00:07<00:00,  5.95it/s, Loss=3.2787, Acc=0.4633]\n"
     ]
    },
    {
     "name": "stdout",
     "output_type": "stream",
     "text": [
      "Epoch 48/1000: Val Loss: 3.2787, Val Acc: 0.4633, Val F1: 0.4614\n",
      "Current Learning Rate: 3.0000000000000004e-09\n"
     ]
    },
    {
     "name": "stderr",
     "output_type": "stream",
     "text": [
      "Epoch 49/1000: 100%|██████████| 422/422 [02:08<00:00,  3.28it/s, Loss=0.0057, Acc=0.9995]\n"
     ]
    },
    {
     "name": "stdout",
     "output_type": "stream",
     "text": [
      "Epoch 49/1000: Train Loss: 0.0057, Train Acc: 0.9995\n"
     ]
    },
    {
     "name": "stderr",
     "output_type": "stream",
     "text": [
      "Epoch 49/1000 (Validation): 100%|██████████| 47/47 [00:18<00:00,  2.50it/s, Loss=3.2790, Acc=0.4633]\n"
     ]
    },
    {
     "name": "stdout",
     "output_type": "stream",
     "text": [
      "Epoch 49/1000: Val Loss: 3.2790, Val Acc: 0.4633, Val F1: 0.4614\n",
      "Current Learning Rate: 3.0000000000000004e-09\n"
     ]
    },
    {
     "name": "stderr",
     "output_type": "stream",
     "text": [
      "Epoch 50/1000: 100%|██████████| 422/422 [02:09<00:00,  3.25it/s, Loss=0.0057, Acc=0.9995]\n"
     ]
    },
    {
     "name": "stdout",
     "output_type": "stream",
     "text": [
      "Epoch 50/1000: Train Loss: 0.0057, Train Acc: 0.9995\n"
     ]
    },
    {
     "name": "stderr",
     "output_type": "stream",
     "text": [
      "Epoch 50/1000 (Validation): 100%|██████████| 47/47 [00:06<00:00,  7.06it/s, Loss=3.2777, Acc=0.4633]\n"
     ]
    },
    {
     "name": "stdout",
     "output_type": "stream",
     "text": [
      "Epoch 50/1000: Val Loss: 3.2777, Val Acc: 0.4633, Val F1: 0.4614\n",
      "Current Learning Rate: 3.0000000000000004e-09\n"
     ]
    },
    {
     "name": "stderr",
     "output_type": "stream",
     "text": [
      "Epoch 51/1000: 100%|██████████| 422/422 [02:08<00:00,  3.28it/s, Loss=0.0057, Acc=0.9995]\n"
     ]
    },
    {
     "name": "stdout",
     "output_type": "stream",
     "text": [
      "Epoch 51/1000: Train Loss: 0.0057, Train Acc: 0.9995\n"
     ]
    },
    {
     "name": "stderr",
     "output_type": "stream",
     "text": [
      "Epoch 51/1000 (Validation): 100%|██████████| 47/47 [00:06<00:00,  7.61it/s, Loss=3.2783, Acc=0.4633]\n"
     ]
    },
    {
     "name": "stdout",
     "output_type": "stream",
     "text": [
      "Epoch 51/1000: Val Loss: 3.2783, Val Acc: 0.4633, Val F1: 0.4614\n",
      "Current Learning Rate: 3.0000000000000004e-09\n"
     ]
    },
    {
     "name": "stderr",
     "output_type": "stream",
     "text": [
      "Epoch 52/1000: 100%|██████████| 422/422 [02:09<00:00,  3.26it/s, Loss=0.0056, Acc=0.9995]\n"
     ]
    },
    {
     "name": "stdout",
     "output_type": "stream",
     "text": [
      "Epoch 52/1000: Train Loss: 0.0056, Train Acc: 0.9995\n"
     ]
    },
    {
     "name": "stderr",
     "output_type": "stream",
     "text": [
      "Epoch 52/1000 (Validation): 100%|██████████| 47/47 [00:14<00:00,  3.32it/s, Loss=3.2780, Acc=0.4633]\n"
     ]
    },
    {
     "name": "stdout",
     "output_type": "stream",
     "text": [
      "Epoch 52/1000: Val Loss: 3.2780, Val Acc: 0.4633, Val F1: 0.4614\n",
      "Current Learning Rate: 3.0000000000000004e-09\n"
     ]
    },
    {
     "name": "stderr",
     "output_type": "stream",
     "text": [
      "Epoch 53/1000: 100%|██████████| 422/422 [02:12<00:00,  3.18it/s, Loss=0.0056, Acc=0.9995]\n"
     ]
    },
    {
     "name": "stdout",
     "output_type": "stream",
     "text": [
      "Epoch 53/1000: Train Loss: 0.0056, Train Acc: 0.9995\n"
     ]
    },
    {
     "name": "stderr",
     "output_type": "stream",
     "text": [
      "Epoch 53/1000 (Validation): 100%|██████████| 47/47 [00:09<00:00,  5.06it/s, Loss=3.2788, Acc=0.4633]\n"
     ]
    },
    {
     "name": "stdout",
     "output_type": "stream",
     "text": [
      "Epoch 53/1000: Val Loss: 3.2788, Val Acc: 0.4633, Val F1: 0.4614\n",
      "Current Learning Rate: 3.0000000000000004e-09\n"
     ]
    },
    {
     "name": "stderr",
     "output_type": "stream",
     "text": [
      "Epoch 54/1000: 100%|██████████| 422/422 [02:06<00:00,  3.34it/s, Loss=0.0056, Acc=0.9995]\n"
     ]
    },
    {
     "name": "stdout",
     "output_type": "stream",
     "text": [
      "Epoch 54/1000: Train Loss: 0.0056, Train Acc: 0.9995\n"
     ]
    },
    {
     "name": "stderr",
     "output_type": "stream",
     "text": [
      "Epoch 54/1000 (Validation): 100%|██████████| 47/47 [00:11<00:00,  3.94it/s, Loss=3.2778, Acc=0.4633]\n"
     ]
    },
    {
     "name": "stdout",
     "output_type": "stream",
     "text": [
      "Epoch 54/1000: Val Loss: 3.2778, Val Acc: 0.4633, Val F1: 0.4614\n",
      "Current Learning Rate: 3.0000000000000004e-09\n"
     ]
    },
    {
     "name": "stderr",
     "output_type": "stream",
     "text": [
      "Epoch 55/1000: 100%|██████████| 422/422 [02:12<00:00,  3.19it/s, Loss=0.0056, Acc=0.9995]\n"
     ]
    },
    {
     "name": "stdout",
     "output_type": "stream",
     "text": [
      "Epoch 55/1000: Train Loss: 0.0056, Train Acc: 0.9995\n"
     ]
    },
    {
     "name": "stderr",
     "output_type": "stream",
     "text": [
      "Epoch 55/1000 (Validation): 100%|██████████| 47/47 [00:05<00:00,  9.15it/s, Loss=3.2797, Acc=0.4633]\n"
     ]
    },
    {
     "name": "stdout",
     "output_type": "stream",
     "text": [
      "Epoch 55/1000: Val Loss: 3.2797, Val Acc: 0.4633, Val F1: 0.4614\n",
      "Current Learning Rate: 3.0000000000000004e-09\n"
     ]
    },
    {
     "name": "stderr",
     "output_type": "stream",
     "text": [
      "Epoch 56/1000: 100%|██████████| 422/422 [02:10<00:00,  3.23it/s, Loss=0.0056, Acc=0.9995]\n"
     ]
    },
    {
     "name": "stdout",
     "output_type": "stream",
     "text": [
      "Epoch 56/1000: Train Loss: 0.0056, Train Acc: 0.9995\n"
     ]
    },
    {
     "name": "stderr",
     "output_type": "stream",
     "text": [
      "Epoch 56/1000 (Validation): 100%|██████████| 47/47 [00:07<00:00,  6.63it/s, Loss=3.2770, Acc=0.4633]\n"
     ]
    },
    {
     "name": "stdout",
     "output_type": "stream",
     "text": [
      "Epoch 56/1000: Val Loss: 3.2770, Val Acc: 0.4633, Val F1: 0.4614\n",
      "Current Learning Rate: 3.0000000000000004e-09\n"
     ]
    },
    {
     "name": "stderr",
     "output_type": "stream",
     "text": [
      "Epoch 57/1000: 100%|██████████| 422/422 [02:16<00:00,  3.09it/s, Loss=0.0056, Acc=0.9995]\n"
     ]
    },
    {
     "name": "stdout",
     "output_type": "stream",
     "text": [
      "Epoch 57/1000: Train Loss: 0.0056, Train Acc: 0.9995\n"
     ]
    },
    {
     "name": "stderr",
     "output_type": "stream",
     "text": [
      "Epoch 57/1000 (Validation): 100%|██████████| 47/47 [00:06<00:00,  6.96it/s, Loss=3.2805, Acc=0.4633]\n"
     ]
    },
    {
     "name": "stdout",
     "output_type": "stream",
     "text": [
      "Epoch 57/1000: Val Loss: 3.2805, Val Acc: 0.4633, Val F1: 0.4614\n",
      "Current Learning Rate: 3.0000000000000004e-09\n"
     ]
    },
    {
     "name": "stderr",
     "output_type": "stream",
     "text": [
      "Epoch 58/1000: 100%|██████████| 422/422 [02:16<00:00,  3.08it/s, Loss=0.0056, Acc=0.9995]\n"
     ]
    },
    {
     "name": "stdout",
     "output_type": "stream",
     "text": [
      "Epoch 58/1000: Train Loss: 0.0056, Train Acc: 0.9995\n"
     ]
    },
    {
     "name": "stderr",
     "output_type": "stream",
     "text": [
      "Epoch 58/1000 (Validation): 100%|██████████| 47/47 [00:06<00:00,  7.54it/s, Loss=3.2806, Acc=0.4633]\n"
     ]
    },
    {
     "name": "stdout",
     "output_type": "stream",
     "text": [
      "Epoch 58/1000: Val Loss: 3.2806, Val Acc: 0.4633, Val F1: 0.4614\n",
      "Current Learning Rate: 3.0000000000000004e-09\n"
     ]
    },
    {
     "name": "stderr",
     "output_type": "stream",
     "text": [
      "Epoch 59/1000: 100%|██████████| 422/422 [02:08<00:00,  3.29it/s, Loss=0.0056, Acc=0.9995]\n"
     ]
    },
    {
     "name": "stdout",
     "output_type": "stream",
     "text": [
      "Epoch 59/1000: Train Loss: 0.0056, Train Acc: 0.9995\n"
     ]
    },
    {
     "name": "stderr",
     "output_type": "stream",
     "text": [
      "Epoch 59/1000 (Validation): 100%|██████████| 47/47 [00:08<00:00,  5.35it/s, Loss=3.2796, Acc=0.4633]\n"
     ]
    },
    {
     "name": "stdout",
     "output_type": "stream",
     "text": [
      "Epoch 59/1000: Val Loss: 3.2796, Val Acc: 0.4633, Val F1: 0.4614\n",
      "Current Learning Rate: 3.0000000000000004e-09\n"
     ]
    },
    {
     "name": "stderr",
     "output_type": "stream",
     "text": [
      "Epoch 60/1000: 100%|██████████| 422/422 [02:14<00:00,  3.14it/s, Loss=0.0056, Acc=0.9995]\n"
     ]
    },
    {
     "name": "stdout",
     "output_type": "stream",
     "text": [
      "Epoch 60/1000: Train Loss: 0.0056, Train Acc: 0.9995\n"
     ]
    },
    {
     "name": "stderr",
     "output_type": "stream",
     "text": [
      "Epoch 60/1000 (Validation): 100%|██████████| 47/47 [00:13<00:00,  3.59it/s, Loss=3.2814, Acc=0.4633]\n"
     ]
    },
    {
     "name": "stdout",
     "output_type": "stream",
     "text": [
      "Epoch 60/1000: Val Loss: 3.2814, Val Acc: 0.4633, Val F1: 0.4614\n",
      "Current Learning Rate: 3.0000000000000004e-09\n"
     ]
    },
    {
     "name": "stderr",
     "output_type": "stream",
     "text": [
      "Epoch 61/1000: 100%|██████████| 422/422 [02:05<00:00,  3.36it/s, Loss=0.0056, Acc=0.9995]\n"
     ]
    },
    {
     "name": "stdout",
     "output_type": "stream",
     "text": [
      "Epoch 61/1000: Train Loss: 0.0056, Train Acc: 0.9995\n"
     ]
    },
    {
     "name": "stderr",
     "output_type": "stream",
     "text": [
      "Epoch 61/1000 (Validation): 100%|██████████| 47/47 [00:04<00:00,  9.56it/s, Loss=3.2826, Acc=0.4633]\n"
     ]
    },
    {
     "name": "stdout",
     "output_type": "stream",
     "text": [
      "Epoch 61/1000: Val Loss: 3.2826, Val Acc: 0.4633, Val F1: 0.4614\n",
      "Current Learning Rate: 3.0000000000000004e-09\n"
     ]
    },
    {
     "name": "stderr",
     "output_type": "stream",
     "text": [
      "Epoch 62/1000: 100%|██████████| 422/422 [02:06<00:00,  3.33it/s, Loss=0.0056, Acc=0.9995]\n"
     ]
    },
    {
     "name": "stdout",
     "output_type": "stream",
     "text": [
      "Epoch 62/1000: Train Loss: 0.0056, Train Acc: 0.9995\n"
     ]
    },
    {
     "name": "stderr",
     "output_type": "stream",
     "text": [
      "Epoch 62/1000 (Validation): 100%|██████████| 47/47 [00:09<00:00,  4.87it/s, Loss=3.2804, Acc=0.4633]\n"
     ]
    },
    {
     "name": "stdout",
     "output_type": "stream",
     "text": [
      "Epoch 62/1000: Val Loss: 3.2804, Val Acc: 0.4633, Val F1: 0.4614\n",
      "Current Learning Rate: 3.0000000000000004e-09\n"
     ]
    },
    {
     "name": "stderr",
     "output_type": "stream",
     "text": [
      "Epoch 63/1000: 100%|██████████| 422/422 [02:12<00:00,  3.19it/s, Loss=0.0056, Acc=0.9995]\n"
     ]
    },
    {
     "name": "stdout",
     "output_type": "stream",
     "text": [
      "Epoch 63/1000: Train Loss: 0.0056, Train Acc: 0.9995\n"
     ]
    },
    {
     "name": "stderr",
     "output_type": "stream",
     "text": [
      "Epoch 63/1000 (Validation): 100%|██████████| 47/47 [00:12<00:00,  3.75it/s, Loss=3.2819, Acc=0.4633]\n"
     ]
    },
    {
     "name": "stdout",
     "output_type": "stream",
     "text": [
      "Epoch 63/1000: Val Loss: 3.2819, Val Acc: 0.4633, Val F1: 0.4614\n",
      "Current Learning Rate: 3.0000000000000004e-09\n"
     ]
    },
    {
     "name": "stderr",
     "output_type": "stream",
     "text": [
      "Epoch 64/1000: 100%|██████████| 422/422 [02:11<00:00,  3.21it/s, Loss=0.0056, Acc=0.9995]\n"
     ]
    },
    {
     "name": "stdout",
     "output_type": "stream",
     "text": [
      "Epoch 64/1000: Train Loss: 0.0056, Train Acc: 0.9995\n"
     ]
    },
    {
     "name": "stderr",
     "output_type": "stream",
     "text": [
      "Epoch 64/1000 (Validation): 100%|██████████| 47/47 [00:05<00:00,  7.98it/s, Loss=3.2810, Acc=0.4633]\n"
     ]
    },
    {
     "name": "stdout",
     "output_type": "stream",
     "text": [
      "Epoch 64/1000: Val Loss: 3.2810, Val Acc: 0.4633, Val F1: 0.4614\n",
      "Current Learning Rate: 3.0000000000000004e-09\n"
     ]
    },
    {
     "name": "stderr",
     "output_type": "stream",
     "text": [
      "Epoch 65/1000: 100%|██████████| 422/422 [02:13<00:00,  3.17it/s, Loss=0.0056, Acc=0.9995]\n"
     ]
    },
    {
     "name": "stdout",
     "output_type": "stream",
     "text": [
      "Epoch 65/1000: Train Loss: 0.0056, Train Acc: 0.9995\n"
     ]
    },
    {
     "name": "stderr",
     "output_type": "stream",
     "text": [
      "Epoch 65/1000 (Validation): 100%|██████████| 47/47 [00:07<00:00,  6.16it/s, Loss=3.2806, Acc=0.4633]\n"
     ]
    },
    {
     "name": "stdout",
     "output_type": "stream",
     "text": [
      "Epoch 65/1000: Val Loss: 3.2806, Val Acc: 0.4633, Val F1: 0.4614\n",
      "Current Learning Rate: 3.0000000000000004e-09\n"
     ]
    },
    {
     "name": "stderr",
     "output_type": "stream",
     "text": [
      "Epoch 66/1000: 100%|██████████| 422/422 [02:12<00:00,  3.19it/s, Loss=0.0056, Acc=0.9995]\n"
     ]
    },
    {
     "name": "stdout",
     "output_type": "stream",
     "text": [
      "Epoch 66/1000: Train Loss: 0.0056, Train Acc: 0.9995\n"
     ]
    },
    {
     "name": "stderr",
     "output_type": "stream",
     "text": [
      "Epoch 66/1000 (Validation): 100%|██████████| 47/47 [00:04<00:00, 10.27it/s, Loss=3.2823, Acc=0.4633]\n"
     ]
    },
    {
     "name": "stdout",
     "output_type": "stream",
     "text": [
      "Epoch 66/1000: Val Loss: 3.2823, Val Acc: 0.4633, Val F1: 0.4614\n",
      "Current Learning Rate: 3.0000000000000004e-09\n"
     ]
    },
    {
     "name": "stderr",
     "output_type": "stream",
     "text": [
      "Epoch 67/1000: 100%|██████████| 422/422 [02:12<00:00,  3.17it/s, Loss=0.0056, Acc=0.9995]\n"
     ]
    },
    {
     "name": "stdout",
     "output_type": "stream",
     "text": [
      "Epoch 67/1000: Train Loss: 0.0056, Train Acc: 0.9995\n"
     ]
    },
    {
     "name": "stderr",
     "output_type": "stream",
     "text": [
      "Epoch 67/1000 (Validation): 100%|██████████| 47/47 [00:14<00:00,  3.26it/s, Loss=3.2826, Acc=0.4633]\n"
     ]
    },
    {
     "name": "stdout",
     "output_type": "stream",
     "text": [
      "Epoch 67/1000: Val Loss: 3.2826, Val Acc: 0.4633, Val F1: 0.4614\n",
      "Current Learning Rate: 3.0000000000000004e-09\n"
     ]
    },
    {
     "name": "stderr",
     "output_type": "stream",
     "text": [
      "Epoch 68/1000: 100%|██████████| 422/422 [02:05<00:00,  3.35it/s, Loss=0.0056, Acc=0.9995]\n"
     ]
    },
    {
     "name": "stdout",
     "output_type": "stream",
     "text": [
      "Epoch 68/1000: Train Loss: 0.0056, Train Acc: 0.9995\n"
     ]
    },
    {
     "name": "stderr",
     "output_type": "stream",
     "text": [
      "Epoch 68/1000 (Validation): 100%|██████████| 47/47 [00:05<00:00,  7.87it/s, Loss=3.2815, Acc=0.4633]\n"
     ]
    },
    {
     "name": "stdout",
     "output_type": "stream",
     "text": [
      "Epoch 68/1000: Val Loss: 3.2815, Val Acc: 0.4633, Val F1: 0.4614\n",
      "Current Learning Rate: 3.0000000000000004e-09\n"
     ]
    },
    {
     "name": "stderr",
     "output_type": "stream",
     "text": [
      "Epoch 69/1000: 100%|██████████| 422/422 [02:07<00:00,  3.31it/s, Loss=0.0056, Acc=0.9995]\n"
     ]
    },
    {
     "name": "stdout",
     "output_type": "stream",
     "text": [
      "Epoch 69/1000: Train Loss: 0.0056, Train Acc: 0.9995\n"
     ]
    },
    {
     "name": "stderr",
     "output_type": "stream",
     "text": [
      "Epoch 69/1000 (Validation): 100%|██████████| 47/47 [00:11<00:00,  3.96it/s, Loss=3.2849, Acc=0.4633]\n"
     ]
    },
    {
     "name": "stdout",
     "output_type": "stream",
     "text": [
      "Epoch 69/1000: Val Loss: 3.2849, Val Acc: 0.4633, Val F1: 0.4614\n",
      "Current Learning Rate: 3.0000000000000004e-09\n"
     ]
    },
    {
     "name": "stderr",
     "output_type": "stream",
     "text": [
      "Epoch 70/1000: 100%|██████████| 422/422 [02:09<00:00,  3.27it/s, Loss=0.0056, Acc=0.9995]\n"
     ]
    },
    {
     "name": "stdout",
     "output_type": "stream",
     "text": [
      "Epoch 70/1000: Train Loss: 0.0056, Train Acc: 0.9995\n"
     ]
    },
    {
     "name": "stderr",
     "output_type": "stream",
     "text": [
      "Epoch 70/1000 (Validation): 100%|██████████| 47/47 [00:10<00:00,  4.44it/s, Loss=3.2829, Acc=0.4633]\n"
     ]
    },
    {
     "name": "stdout",
     "output_type": "stream",
     "text": [
      "Epoch 70/1000: Val Loss: 3.2829, Val Acc: 0.4633, Val F1: 0.4614\n",
      "Current Learning Rate: 3.0000000000000004e-09\n"
     ]
    },
    {
     "name": "stderr",
     "output_type": "stream",
     "text": [
      "Epoch 71/1000: 100%|██████████| 422/422 [02:14<00:00,  3.15it/s, Loss=0.0056, Acc=0.9995]\n"
     ]
    },
    {
     "name": "stdout",
     "output_type": "stream",
     "text": [
      "Epoch 71/1000: Train Loss: 0.0056, Train Acc: 0.9995\n"
     ]
    },
    {
     "name": "stderr",
     "output_type": "stream",
     "text": [
      "Epoch 71/1000 (Validation): 100%|██████████| 47/47 [00:10<00:00,  4.58it/s, Loss=3.2820, Acc=0.4633]\n"
     ]
    },
    {
     "name": "stdout",
     "output_type": "stream",
     "text": [
      "Epoch 71/1000: Val Loss: 3.2820, Val Acc: 0.4633, Val F1: 0.4614\n",
      "Current Learning Rate: 3.0000000000000004e-09\n"
     ]
    },
    {
     "name": "stderr",
     "output_type": "stream",
     "text": [
      "Epoch 72/1000: 100%|██████████| 422/422 [02:08<00:00,  3.29it/s, Loss=0.0056, Acc=0.9995]\n"
     ]
    },
    {
     "name": "stdout",
     "output_type": "stream",
     "text": [
      "Epoch 72/1000: Train Loss: 0.0056, Train Acc: 0.9995\n"
     ]
    },
    {
     "name": "stderr",
     "output_type": "stream",
     "text": [
      "Epoch 72/1000 (Validation): 100%|██████████| 47/47 [00:09<00:00,  5.08it/s, Loss=3.2818, Acc=0.4633]\n"
     ]
    },
    {
     "name": "stdout",
     "output_type": "stream",
     "text": [
      "Epoch 72/1000: Val Loss: 3.2818, Val Acc: 0.4633, Val F1: 0.4614\n",
      "Current Learning Rate: 3.0000000000000004e-09\n"
     ]
    },
    {
     "name": "stderr",
     "output_type": "stream",
     "text": [
      "Epoch 73/1000: 100%|██████████| 422/422 [02:06<00:00,  3.35it/s, Loss=0.0056, Acc=0.9995]\n"
     ]
    },
    {
     "name": "stdout",
     "output_type": "stream",
     "text": [
      "Epoch 73/1000: Train Loss: 0.0056, Train Acc: 0.9995\n"
     ]
    },
    {
     "name": "stderr",
     "output_type": "stream",
     "text": [
      "Epoch 73/1000 (Validation): 100%|██████████| 47/47 [00:09<00:00,  4.73it/s, Loss=3.2845, Acc=0.4633]\n"
     ]
    },
    {
     "name": "stdout",
     "output_type": "stream",
     "text": [
      "Epoch 73/1000: Val Loss: 3.2845, Val Acc: 0.4633, Val F1: 0.4614\n",
      "Current Learning Rate: 3.0000000000000004e-09\n"
     ]
    },
    {
     "name": "stderr",
     "output_type": "stream",
     "text": [
      "Epoch 74/1000: 100%|██████████| 422/422 [02:15<00:00,  3.11it/s, Loss=0.0056, Acc=0.9995]\n"
     ]
    },
    {
     "name": "stdout",
     "output_type": "stream",
     "text": [
      "Epoch 74/1000: Train Loss: 0.0056, Train Acc: 0.9995\n"
     ]
    },
    {
     "name": "stderr",
     "output_type": "stream",
     "text": [
      "Epoch 74/1000 (Validation): 100%|██████████| 47/47 [00:07<00:00,  6.50it/s, Loss=3.2825, Acc=0.4633]\n"
     ]
    },
    {
     "name": "stdout",
     "output_type": "stream",
     "text": [
      "Epoch 74/1000: Val Loss: 3.2825, Val Acc: 0.4633, Val F1: 0.4614\n",
      "Current Learning Rate: 3.0000000000000004e-09\n"
     ]
    },
    {
     "name": "stderr",
     "output_type": "stream",
     "text": [
      "Epoch 75/1000: 100%|██████████| 422/422 [02:09<00:00,  3.27it/s, Loss=0.0056, Acc=0.9995]\n"
     ]
    },
    {
     "name": "stdout",
     "output_type": "stream",
     "text": [
      "Epoch 75/1000: Train Loss: 0.0056, Train Acc: 0.9995\n"
     ]
    },
    {
     "name": "stderr",
     "output_type": "stream",
     "text": [
      "Epoch 75/1000 (Validation): 100%|██████████| 47/47 [00:08<00:00,  5.79it/s, Loss=3.2857, Acc=0.4633]\n"
     ]
    },
    {
     "name": "stdout",
     "output_type": "stream",
     "text": [
      "Epoch 75/1000: Val Loss: 3.2857, Val Acc: 0.4633, Val F1: 0.4614\n",
      "Current Learning Rate: 3.0000000000000004e-09\n"
     ]
    },
    {
     "name": "stderr",
     "output_type": "stream",
     "text": [
      "Epoch 76/1000: 100%|██████████| 422/422 [02:23<00:00,  2.93it/s, Loss=0.0056, Acc=0.9995]\n"
     ]
    },
    {
     "name": "stdout",
     "output_type": "stream",
     "text": [
      "Epoch 76/1000: Train Loss: 0.0056, Train Acc: 0.9995\n"
     ]
    },
    {
     "name": "stderr",
     "output_type": "stream",
     "text": [
      "Epoch 76/1000 (Validation): 100%|██████████| 47/47 [00:06<00:00,  7.52it/s, Loss=3.2820, Acc=0.4633]\n"
     ]
    },
    {
     "name": "stdout",
     "output_type": "stream",
     "text": [
      "Epoch 76/1000: Val Loss: 3.2820, Val Acc: 0.4633, Val F1: 0.4614\n",
      "Current Learning Rate: 3.0000000000000004e-09\n"
     ]
    },
    {
     "name": "stderr",
     "output_type": "stream",
     "text": [
      "Epoch 77/1000: 100%|██████████| 422/422 [02:12<00:00,  3.19it/s, Loss=0.0056, Acc=0.9995]\n"
     ]
    },
    {
     "name": "stdout",
     "output_type": "stream",
     "text": [
      "Epoch 77/1000: Train Loss: 0.0056, Train Acc: 0.9995\n"
     ]
    },
    {
     "name": "stderr",
     "output_type": "stream",
     "text": [
      "Epoch 77/1000 (Validation): 100%|██████████| 47/47 [00:08<00:00,  5.69it/s, Loss=3.2850, Acc=0.4633]\n"
     ]
    },
    {
     "name": "stdout",
     "output_type": "stream",
     "text": [
      "Epoch 77/1000: Val Loss: 3.2850, Val Acc: 0.4633, Val F1: 0.4614\n",
      "Current Learning Rate: 3.0000000000000004e-09\n"
     ]
    },
    {
     "name": "stderr",
     "output_type": "stream",
     "text": [
      "Epoch 78/1000: 100%|██████████| 422/422 [02:08<00:00,  3.28it/s, Loss=0.0056, Acc=0.9995]\n"
     ]
    },
    {
     "name": "stdout",
     "output_type": "stream",
     "text": [
      "Epoch 78/1000: Train Loss: 0.0056, Train Acc: 0.9995\n"
     ]
    },
    {
     "name": "stderr",
     "output_type": "stream",
     "text": [
      "Epoch 78/1000 (Validation): 100%|██████████| 47/47 [00:07<00:00,  5.94it/s, Loss=3.2853, Acc=0.4633]\n"
     ]
    },
    {
     "name": "stdout",
     "output_type": "stream",
     "text": [
      "Epoch 78/1000: Val Loss: 3.2853, Val Acc: 0.4633, Val F1: 0.4614\n",
      "Current Learning Rate: 3.0000000000000004e-09\n"
     ]
    },
    {
     "name": "stderr",
     "output_type": "stream",
     "text": [
      "Epoch 79/1000: 100%|██████████| 422/422 [02:11<00:00,  3.20it/s, Loss=0.0056, Acc=0.9995]\n"
     ]
    },
    {
     "name": "stdout",
     "output_type": "stream",
     "text": [
      "Epoch 79/1000: Train Loss: 0.0056, Train Acc: 0.9995\n"
     ]
    },
    {
     "name": "stderr",
     "output_type": "stream",
     "text": [
      "Epoch 79/1000 (Validation): 100%|██████████| 47/47 [00:05<00:00,  9.38it/s, Loss=3.2851, Acc=0.4633]\n"
     ]
    },
    {
     "name": "stdout",
     "output_type": "stream",
     "text": [
      "Epoch 79/1000: Val Loss: 3.2851, Val Acc: 0.4633, Val F1: 0.4614\n",
      "Current Learning Rate: 3.0000000000000004e-09\n"
     ]
    },
    {
     "name": "stderr",
     "output_type": "stream",
     "text": [
      "Epoch 80/1000: 100%|██████████| 422/422 [02:11<00:00,  3.22it/s, Loss=0.0056, Acc=0.9995]\n"
     ]
    },
    {
     "name": "stdout",
     "output_type": "stream",
     "text": [
      "Epoch 80/1000: Train Loss: 0.0056, Train Acc: 0.9995\n"
     ]
    },
    {
     "name": "stderr",
     "output_type": "stream",
     "text": [
      "Epoch 80/1000 (Validation): 100%|██████████| 47/47 [00:13<00:00,  3.39it/s, Loss=3.2842, Acc=0.4633]\n"
     ]
    },
    {
     "name": "stdout",
     "output_type": "stream",
     "text": [
      "Epoch 80/1000: Val Loss: 3.2842, Val Acc: 0.4633, Val F1: 0.4614\n",
      "Current Learning Rate: 3.0000000000000004e-09\n"
     ]
    },
    {
     "name": "stderr",
     "output_type": "stream",
     "text": [
      "Epoch 81/1000: 100%|██████████| 422/422 [02:05<00:00,  3.37it/s, Loss=0.0056, Acc=0.9995]\n"
     ]
    },
    {
     "name": "stdout",
     "output_type": "stream",
     "text": [
      "Epoch 81/1000: Train Loss: 0.0056, Train Acc: 0.9995\n"
     ]
    },
    {
     "name": "stderr",
     "output_type": "stream",
     "text": [
      "Epoch 81/1000 (Validation): 100%|██████████| 47/47 [00:10<00:00,  4.45it/s, Loss=3.2836, Acc=0.4633]\n"
     ]
    },
    {
     "name": "stdout",
     "output_type": "stream",
     "text": [
      "Epoch 81/1000: Val Loss: 3.2836, Val Acc: 0.4633, Val F1: 0.4614\n",
      "Current Learning Rate: 3.0000000000000004e-09\n"
     ]
    },
    {
     "name": "stderr",
     "output_type": "stream",
     "text": [
      "Epoch 82/1000: 100%|██████████| 422/422 [02:09<00:00,  3.25it/s, Loss=0.0056, Acc=0.9995]\n"
     ]
    },
    {
     "name": "stdout",
     "output_type": "stream",
     "text": [
      "Epoch 82/1000: Train Loss: 0.0056, Train Acc: 0.9995\n"
     ]
    },
    {
     "name": "stderr",
     "output_type": "stream",
     "text": [
      "Epoch 82/1000 (Validation): 100%|██████████| 47/47 [00:06<00:00,  7.71it/s, Loss=3.2835, Acc=0.4633]\n"
     ]
    },
    {
     "name": "stdout",
     "output_type": "stream",
     "text": [
      "Epoch 82/1000: Val Loss: 3.2835, Val Acc: 0.4633, Val F1: 0.4614\n",
      "Current Learning Rate: 3.0000000000000004e-09\n"
     ]
    },
    {
     "name": "stderr",
     "output_type": "stream",
     "text": [
      "Epoch 83/1000: 100%|██████████| 422/422 [02:13<00:00,  3.16it/s, Loss=0.0056, Acc=0.9995]\n"
     ]
    },
    {
     "name": "stdout",
     "output_type": "stream",
     "text": [
      "Epoch 83/1000: Train Loss: 0.0056, Train Acc: 0.9995\n"
     ]
    },
    {
     "name": "stderr",
     "output_type": "stream",
     "text": [
      "Epoch 83/1000 (Validation): 100%|██████████| 47/47 [00:09<00:00,  4.90it/s, Loss=3.2846, Acc=0.4633]\n"
     ]
    },
    {
     "name": "stdout",
     "output_type": "stream",
     "text": [
      "Epoch 83/1000: Val Loss: 3.2846, Val Acc: 0.4633, Val F1: 0.4614\n",
      "Current Learning Rate: 3.0000000000000004e-09\n"
     ]
    },
    {
     "name": "stderr",
     "output_type": "stream",
     "text": [
      "Epoch 84/1000: 100%|██████████| 422/422 [02:07<00:00,  3.30it/s, Loss=0.0056, Acc=0.9995]\n"
     ]
    },
    {
     "name": "stdout",
     "output_type": "stream",
     "text": [
      "Epoch 84/1000: Train Loss: 0.0056, Train Acc: 0.9995\n"
     ]
    },
    {
     "name": "stderr",
     "output_type": "stream",
     "text": [
      "Epoch 84/1000 (Validation): 100%|██████████| 47/47 [00:11<00:00,  4.10it/s, Loss=3.2858, Acc=0.4633]\n"
     ]
    },
    {
     "name": "stdout",
     "output_type": "stream",
     "text": [
      "Epoch 84/1000: Val Loss: 3.2858, Val Acc: 0.4633, Val F1: 0.4614\n",
      "Current Learning Rate: 3.0000000000000004e-09\n"
     ]
    },
    {
     "name": "stderr",
     "output_type": "stream",
     "text": [
      "Epoch 85/1000: 100%|██████████| 422/422 [02:13<00:00,  3.17it/s, Loss=0.0056, Acc=0.9995]\n"
     ]
    },
    {
     "name": "stdout",
     "output_type": "stream",
     "text": [
      "Epoch 85/1000: Train Loss: 0.0056, Train Acc: 0.9995\n"
     ]
    },
    {
     "name": "stderr",
     "output_type": "stream",
     "text": [
      "Epoch 85/1000 (Validation): 100%|██████████| 47/47 [00:29<00:00,  1.57it/s, Loss=3.2865, Acc=0.4633]\n"
     ]
    },
    {
     "name": "stdout",
     "output_type": "stream",
     "text": [
      "Epoch 85/1000: Val Loss: 3.2865, Val Acc: 0.4633, Val F1: 0.4614\n",
      "Current Learning Rate: 3.0000000000000004e-09\n"
     ]
    },
    {
     "name": "stderr",
     "output_type": "stream",
     "text": [
      "Epoch 86/1000: 100%|██████████| 422/422 [02:10<00:00,  3.23it/s, Loss=0.0055, Acc=0.9995]\n"
     ]
    },
    {
     "name": "stdout",
     "output_type": "stream",
     "text": [
      "Epoch 86/1000: Train Loss: 0.0055, Train Acc: 0.9995\n"
     ]
    },
    {
     "name": "stderr",
     "output_type": "stream",
     "text": [
      "Epoch 86/1000 (Validation): 100%|██████████| 47/47 [00:09<00:00,  4.74it/s, Loss=3.2870, Acc=0.4633]\n"
     ]
    },
    {
     "name": "stdout",
     "output_type": "stream",
     "text": [
      "Epoch 86/1000: Val Loss: 3.2870, Val Acc: 0.4633, Val F1: 0.4614\n",
      "Current Learning Rate: 3.0000000000000004e-09\n"
     ]
    },
    {
     "name": "stderr",
     "output_type": "stream",
     "text": [
      "Epoch 87/1000: 100%|██████████| 422/422 [02:09<00:00,  3.27it/s, Loss=0.0055, Acc=0.9995]\n"
     ]
    },
    {
     "name": "stdout",
     "output_type": "stream",
     "text": [
      "Epoch 87/1000: Train Loss: 0.0055, Train Acc: 0.9995\n"
     ]
    },
    {
     "name": "stderr",
     "output_type": "stream",
     "text": [
      "Epoch 87/1000 (Validation): 100%|██████████| 47/47 [00:11<00:00,  3.96it/s, Loss=3.2882, Acc=0.4633]\n"
     ]
    },
    {
     "name": "stdout",
     "output_type": "stream",
     "text": [
      "Epoch 87/1000: Val Loss: 3.2882, Val Acc: 0.4633, Val F1: 0.4614\n",
      "Current Learning Rate: 3.0000000000000004e-09\n"
     ]
    },
    {
     "name": "stderr",
     "output_type": "stream",
     "text": [
      "Epoch 88/1000: 100%|██████████| 422/422 [02:10<00:00,  3.23it/s, Loss=0.0055, Acc=0.9995]\n"
     ]
    },
    {
     "name": "stdout",
     "output_type": "stream",
     "text": [
      "Epoch 88/1000: Train Loss: 0.0055, Train Acc: 0.9995\n"
     ]
    },
    {
     "name": "stderr",
     "output_type": "stream",
     "text": [
      "Epoch 88/1000 (Validation): 100%|██████████| 47/47 [00:41<00:00,  1.12it/s, Loss=3.2847, Acc=0.4633]\n"
     ]
    },
    {
     "name": "stdout",
     "output_type": "stream",
     "text": [
      "Epoch 88/1000: Val Loss: 3.2847, Val Acc: 0.4633, Val F1: 0.4614\n",
      "Current Learning Rate: 3.0000000000000004e-09\n"
     ]
    },
    {
     "name": "stderr",
     "output_type": "stream",
     "text": [
      "Epoch 89/1000: 100%|██████████| 422/422 [02:09<00:00,  3.26it/s, Loss=0.0055, Acc=0.9995]\n"
     ]
    },
    {
     "name": "stdout",
     "output_type": "stream",
     "text": [
      "Epoch 89/1000: Train Loss: 0.0055, Train Acc: 0.9995\n"
     ]
    },
    {
     "name": "stderr",
     "output_type": "stream",
     "text": [
      "Epoch 89/1000 (Validation): 100%|██████████| 47/47 [00:11<00:00,  4.04it/s, Loss=3.2860, Acc=0.4633]\n"
     ]
    },
    {
     "name": "stdout",
     "output_type": "stream",
     "text": [
      "Epoch 89/1000: Val Loss: 3.2860, Val Acc: 0.4633, Val F1: 0.4614\n",
      "Current Learning Rate: 3.0000000000000004e-09\n"
     ]
    },
    {
     "name": "stderr",
     "output_type": "stream",
     "text": [
      "Epoch 90/1000: 100%|██████████| 422/422 [02:18<00:00,  3.05it/s, Loss=0.0055, Acc=0.9995]\n"
     ]
    },
    {
     "name": "stdout",
     "output_type": "stream",
     "text": [
      "Epoch 90/1000: Train Loss: 0.0055, Train Acc: 0.9995\n"
     ]
    },
    {
     "name": "stderr",
     "output_type": "stream",
     "text": [
      "Epoch 90/1000 (Validation): 100%|██████████| 47/47 [00:06<00:00,  7.04it/s, Loss=3.2871, Acc=0.4633]\n"
     ]
    },
    {
     "name": "stdout",
     "output_type": "stream",
     "text": [
      "Epoch 90/1000: Val Loss: 3.2871, Val Acc: 0.4633, Val F1: 0.4614\n",
      "Current Learning Rate: 3.0000000000000004e-09\n"
     ]
    },
    {
     "name": "stderr",
     "output_type": "stream",
     "text": [
      "Epoch 91/1000: 100%|██████████| 422/422 [02:15<00:00,  3.11it/s, Loss=0.0055, Acc=0.9995]\n"
     ]
    },
    {
     "name": "stdout",
     "output_type": "stream",
     "text": [
      "Epoch 91/1000: Train Loss: 0.0055, Train Acc: 0.9995\n"
     ]
    },
    {
     "name": "stderr",
     "output_type": "stream",
     "text": [
      "Epoch 91/1000 (Validation): 100%|██████████| 47/47 [00:49<00:00,  1.06s/it, Loss=3.2860, Acc=0.4633]\n"
     ]
    },
    {
     "name": "stdout",
     "output_type": "stream",
     "text": [
      "Epoch 91/1000: Val Loss: 3.2860, Val Acc: 0.4633, Val F1: 0.4614\n",
      "Current Learning Rate: 3.0000000000000004e-09\n"
     ]
    },
    {
     "name": "stderr",
     "output_type": "stream",
     "text": [
      "Epoch 92/1000: 100%|██████████| 422/422 [02:04<00:00,  3.39it/s, Loss=0.0055, Acc=0.9995]\n"
     ]
    },
    {
     "name": "stdout",
     "output_type": "stream",
     "text": [
      "Epoch 92/1000: Train Loss: 0.0055, Train Acc: 0.9995\n"
     ]
    },
    {
     "name": "stderr",
     "output_type": "stream",
     "text": [
      "Epoch 92/1000 (Validation): 100%|██████████| 47/47 [00:07<00:00,  6.46it/s, Loss=3.2895, Acc=0.4633]\n"
     ]
    },
    {
     "name": "stdout",
     "output_type": "stream",
     "text": [
      "Epoch 92/1000: Val Loss: 3.2895, Val Acc: 0.4633, Val F1: 0.4614\n",
      "Current Learning Rate: 3.0000000000000004e-09\n"
     ]
    },
    {
     "name": "stderr",
     "output_type": "stream",
     "text": [
      "Epoch 93/1000: 100%|██████████| 422/422 [02:11<00:00,  3.22it/s, Loss=0.0055, Acc=0.9995]\n"
     ]
    },
    {
     "name": "stdout",
     "output_type": "stream",
     "text": [
      "Epoch 93/1000: Train Loss: 0.0055, Train Acc: 0.9995\n"
     ]
    },
    {
     "name": "stderr",
     "output_type": "stream",
     "text": [
      "Epoch 93/1000 (Validation): 100%|██████████| 47/47 [00:06<00:00,  7.26it/s, Loss=3.2905, Acc=0.4633]\n"
     ]
    },
    {
     "name": "stdout",
     "output_type": "stream",
     "text": [
      "Epoch 93/1000: Val Loss: 3.2905, Val Acc: 0.4633, Val F1: 0.4614\n",
      "Current Learning Rate: 3.0000000000000004e-09\n"
     ]
    },
    {
     "name": "stderr",
     "output_type": "stream",
     "text": [
      "Epoch 94/1000: 100%|██████████| 422/422 [02:08<00:00,  3.27it/s, Loss=0.0055, Acc=0.9995]\n"
     ]
    },
    {
     "name": "stdout",
     "output_type": "stream",
     "text": [
      "Epoch 94/1000: Train Loss: 0.0055, Train Acc: 0.9995\n"
     ]
    },
    {
     "name": "stderr",
     "output_type": "stream",
     "text": [
      "Epoch 94/1000 (Validation): 100%|██████████| 47/47 [00:24<00:00,  1.90it/s, Loss=3.2879, Acc=0.4633]\n"
     ]
    },
    {
     "name": "stdout",
     "output_type": "stream",
     "text": [
      "Epoch 94/1000: Val Loss: 3.2879, Val Acc: 0.4633, Val F1: 0.4614\n",
      "Current Learning Rate: 3.0000000000000004e-09\n"
     ]
    },
    {
     "name": "stderr",
     "output_type": "stream",
     "text": [
      "Epoch 95/1000: 100%|██████████| 422/422 [02:09<00:00,  3.25it/s, Loss=0.0055, Acc=0.9995]\n"
     ]
    },
    {
     "name": "stdout",
     "output_type": "stream",
     "text": [
      "Epoch 95/1000: Train Loss: 0.0055, Train Acc: 0.9995\n"
     ]
    },
    {
     "name": "stderr",
     "output_type": "stream",
     "text": [
      "Epoch 95/1000 (Validation): 100%|██████████| 47/47 [00:05<00:00,  8.56it/s, Loss=3.2868, Acc=0.4633]\n"
     ]
    },
    {
     "name": "stdout",
     "output_type": "stream",
     "text": [
      "Epoch 95/1000: Val Loss: 3.2868, Val Acc: 0.4633, Val F1: 0.4614\n",
      "Current Learning Rate: 3.0000000000000004e-09\n"
     ]
    },
    {
     "name": "stderr",
     "output_type": "stream",
     "text": [
      "Epoch 96/1000: 100%|██████████| 422/422 [02:19<00:00,  3.03it/s, Loss=0.0055, Acc=0.9995]\n"
     ]
    },
    {
     "name": "stdout",
     "output_type": "stream",
     "text": [
      "Epoch 96/1000: Train Loss: 0.0055, Train Acc: 0.9995\n"
     ]
    },
    {
     "name": "stderr",
     "output_type": "stream",
     "text": [
      "Epoch 96/1000 (Validation): 100%|██████████| 47/47 [00:06<00:00,  7.80it/s, Loss=3.2903, Acc=0.4633]\n"
     ]
    },
    {
     "name": "stdout",
     "output_type": "stream",
     "text": [
      "Epoch 96/1000: Val Loss: 3.2903, Val Acc: 0.4633, Val F1: 0.4614\n",
      "Current Learning Rate: 3.0000000000000004e-09\n"
     ]
    },
    {
     "name": "stderr",
     "output_type": "stream",
     "text": [
      "Epoch 97/1000: 100%|██████████| 422/422 [02:06<00:00,  3.32it/s, Loss=0.0055, Acc=0.9995]\n"
     ]
    },
    {
     "name": "stdout",
     "output_type": "stream",
     "text": [
      "Epoch 97/1000: Train Loss: 0.0055, Train Acc: 0.9995\n"
     ]
    },
    {
     "name": "stderr",
     "output_type": "stream",
     "text": [
      "Epoch 97/1000 (Validation): 100%|██████████| 47/47 [00:17<00:00,  2.71it/s, Loss=3.2889, Acc=0.4633]\n"
     ]
    },
    {
     "name": "stdout",
     "output_type": "stream",
     "text": [
      "Epoch 97/1000: Val Loss: 3.2889, Val Acc: 0.4633, Val F1: 0.4614\n",
      "Current Learning Rate: 3.0000000000000004e-09\n"
     ]
    },
    {
     "name": "stderr",
     "output_type": "stream",
     "text": [
      "Epoch 98/1000: 100%|██████████| 422/422 [02:07<00:00,  3.30it/s, Loss=0.0055, Acc=0.9995]\n"
     ]
    },
    {
     "name": "stdout",
     "output_type": "stream",
     "text": [
      "Epoch 98/1000: Train Loss: 0.0055, Train Acc: 0.9995\n"
     ]
    },
    {
     "name": "stderr",
     "output_type": "stream",
     "text": [
      "Epoch 98/1000 (Validation): 100%|██████████| 47/47 [00:10<00:00,  4.34it/s, Loss=3.2886, Acc=0.4633]\n"
     ]
    },
    {
     "name": "stdout",
     "output_type": "stream",
     "text": [
      "Epoch 98/1000: Val Loss: 3.2886, Val Acc: 0.4633, Val F1: 0.4614\n",
      "Current Learning Rate: 3.0000000000000004e-09\n"
     ]
    },
    {
     "name": "stderr",
     "output_type": "stream",
     "text": [
      "Epoch 99/1000: 100%|██████████| 422/422 [02:09<00:00,  3.25it/s, Loss=0.0055, Acc=0.9995]\n"
     ]
    },
    {
     "name": "stdout",
     "output_type": "stream",
     "text": [
      "Epoch 99/1000: Train Loss: 0.0055, Train Acc: 0.9995\n"
     ]
    },
    {
     "name": "stderr",
     "output_type": "stream",
     "text": [
      "Epoch 99/1000 (Validation): 100%|██████████| 47/47 [00:09<00:00,  4.90it/s, Loss=3.2880, Acc=0.4633]\n"
     ]
    },
    {
     "name": "stdout",
     "output_type": "stream",
     "text": [
      "Epoch 99/1000: Val Loss: 3.2880, Val Acc: 0.4633, Val F1: 0.4614\n",
      "Current Learning Rate: 3.0000000000000004e-09\n"
     ]
    },
    {
     "name": "stderr",
     "output_type": "stream",
     "text": [
      "Epoch 100/1000: 100%|██████████| 422/422 [02:04<00:00,  3.40it/s, Loss=0.0055, Acc=0.9995]\n"
     ]
    },
    {
     "name": "stdout",
     "output_type": "stream",
     "text": [
      "Epoch 100/1000: Train Loss: 0.0055, Train Acc: 0.9995\n"
     ]
    },
    {
     "name": "stderr",
     "output_type": "stream",
     "text": [
      "Epoch 100/1000 (Validation): 100%|██████████| 47/47 [00:04<00:00,  9.57it/s, Loss=3.2909, Acc=0.4633]\n"
     ]
    },
    {
     "name": "stdout",
     "output_type": "stream",
     "text": [
      "Epoch 100/1000: Val Loss: 3.2909, Val Acc: 0.4633, Val F1: 0.4614\n",
      "Current Learning Rate: 3.0000000000000004e-09\n"
     ]
    },
    {
     "name": "stderr",
     "output_type": "stream",
     "text": [
      "Epoch 101/1000: 100%|██████████| 422/422 [02:10<00:00,  3.24it/s, Loss=0.0055, Acc=0.9995]\n"
     ]
    },
    {
     "name": "stdout",
     "output_type": "stream",
     "text": [
      "Epoch 101/1000: Train Loss: 0.0055, Train Acc: 0.9995\n"
     ]
    },
    {
     "name": "stderr",
     "output_type": "stream",
     "text": [
      "Epoch 101/1000 (Validation): 100%|██████████| 47/47 [00:09<00:00,  5.05it/s, Loss=3.2878, Acc=0.4633]\n"
     ]
    },
    {
     "name": "stdout",
     "output_type": "stream",
     "text": [
      "Epoch 101/1000: Val Loss: 3.2878, Val Acc: 0.4633, Val F1: 0.4614\n",
      "Current Learning Rate: 3.0000000000000004e-09\n"
     ]
    },
    {
     "name": "stderr",
     "output_type": "stream",
     "text": [
      "Epoch 102/1000: 100%|██████████| 422/422 [02:09<00:00,  3.25it/s, Loss=0.0055, Acc=0.9995]\n"
     ]
    },
    {
     "name": "stdout",
     "output_type": "stream",
     "text": [
      "Epoch 102/1000: Train Loss: 0.0055, Train Acc: 0.9995\n"
     ]
    },
    {
     "name": "stderr",
     "output_type": "stream",
     "text": [
      "Epoch 102/1000 (Validation): 100%|██████████| 47/47 [00:05<00:00,  8.71it/s, Loss=3.2887, Acc=0.4633]\n"
     ]
    },
    {
     "name": "stdout",
     "output_type": "stream",
     "text": [
      "Epoch 102/1000: Val Loss: 3.2887, Val Acc: 0.4633, Val F1: 0.4614\n",
      "Current Learning Rate: 3.0000000000000004e-09\n"
     ]
    },
    {
     "name": "stderr",
     "output_type": "stream",
     "text": [
      "Epoch 103/1000: 100%|██████████| 422/422 [02:07<00:00,  3.30it/s, Loss=0.0055, Acc=0.9995]\n"
     ]
    },
    {
     "name": "stdout",
     "output_type": "stream",
     "text": [
      "Epoch 103/1000: Train Loss: 0.0055, Train Acc: 0.9995\n"
     ]
    },
    {
     "name": "stderr",
     "output_type": "stream",
     "text": [
      "Epoch 103/1000 (Validation): 100%|██████████| 47/47 [00:07<00:00,  6.43it/s, Loss=3.2901, Acc=0.4633]\n"
     ]
    },
    {
     "name": "stdout",
     "output_type": "stream",
     "text": [
      "Epoch 103/1000: Val Loss: 3.2901, Val Acc: 0.4633, Val F1: 0.4614\n",
      "Current Learning Rate: 3.0000000000000004e-09\n"
     ]
    },
    {
     "name": "stderr",
     "output_type": "stream",
     "text": [
      "Epoch 104/1000: 100%|██████████| 422/422 [02:14<00:00,  3.13it/s, Loss=0.0055, Acc=0.9995]\n"
     ]
    },
    {
     "name": "stdout",
     "output_type": "stream",
     "text": [
      "Epoch 104/1000: Train Loss: 0.0055, Train Acc: 0.9995\n"
     ]
    },
    {
     "name": "stderr",
     "output_type": "stream",
     "text": [
      "Epoch 104/1000 (Validation): 100%|██████████| 47/47 [00:15<00:00,  3.08it/s, Loss=3.2919, Acc=0.4633]\n"
     ]
    },
    {
     "name": "stdout",
     "output_type": "stream",
     "text": [
      "Epoch 104/1000: Val Loss: 3.2919, Val Acc: 0.4633, Val F1: 0.4615\n",
      "Current Learning Rate: 3.0000000000000004e-09\n"
     ]
    },
    {
     "name": "stderr",
     "output_type": "stream",
     "text": [
      "Epoch 105/1000: 100%|██████████| 422/422 [02:12<00:00,  3.19it/s, Loss=0.0055, Acc=0.9995]\n"
     ]
    },
    {
     "name": "stdout",
     "output_type": "stream",
     "text": [
      "Epoch 105/1000: Train Loss: 0.0055, Train Acc: 0.9995\n"
     ]
    },
    {
     "name": "stderr",
     "output_type": "stream",
     "text": [
      "Epoch 105/1000 (Validation): 100%|██████████| 47/47 [00:04<00:00,  9.89it/s, Loss=3.2889, Acc=0.4633]\n"
     ]
    },
    {
     "name": "stdout",
     "output_type": "stream",
     "text": [
      "Epoch 105/1000: Val Loss: 3.2889, Val Acc: 0.4633, Val F1: 0.4615\n",
      "Current Learning Rate: 3.0000000000000004e-09\n"
     ]
    },
    {
     "name": "stderr",
     "output_type": "stream",
     "text": [
      "Epoch 106/1000: 100%|██████████| 422/422 [02:20<00:00,  3.01it/s, Loss=0.0055, Acc=0.9995]\n"
     ]
    },
    {
     "name": "stdout",
     "output_type": "stream",
     "text": [
      "Epoch 106/1000: Train Loss: 0.0055, Train Acc: 0.9995\n"
     ]
    },
    {
     "name": "stderr",
     "output_type": "stream",
     "text": [
      "Epoch 106/1000 (Validation): 100%|██████████| 47/47 [00:06<00:00,  7.41it/s, Loss=3.2915, Acc=0.4633]\n"
     ]
    },
    {
     "name": "stdout",
     "output_type": "stream",
     "text": [
      "Epoch 106/1000: Val Loss: 3.2915, Val Acc: 0.4633, Val F1: 0.4614\n",
      "Current Learning Rate: 3.0000000000000004e-09\n"
     ]
    },
    {
     "name": "stderr",
     "output_type": "stream",
     "text": [
      "Epoch 107/1000: 100%|██████████| 422/422 [02:04<00:00,  3.38it/s, Loss=0.0055, Acc=0.9995]\n"
     ]
    },
    {
     "name": "stdout",
     "output_type": "stream",
     "text": [
      "Epoch 107/1000: Train Loss: 0.0055, Train Acc: 0.9995\n"
     ]
    },
    {
     "name": "stderr",
     "output_type": "stream",
     "text": [
      "Epoch 107/1000 (Validation): 100%|██████████| 47/47 [00:04<00:00, 10.21it/s, Loss=3.2895, Acc=0.4633]\n"
     ]
    },
    {
     "name": "stdout",
     "output_type": "stream",
     "text": [
      "Epoch 107/1000: Val Loss: 3.2895, Val Acc: 0.4633, Val F1: 0.4615\n",
      "Current Learning Rate: 3.0000000000000004e-09\n"
     ]
    },
    {
     "name": "stderr",
     "output_type": "stream",
     "text": [
      "Epoch 108/1000: 100%|██████████| 422/422 [02:09<00:00,  3.26it/s, Loss=0.0055, Acc=0.9995]\n"
     ]
    },
    {
     "name": "stdout",
     "output_type": "stream",
     "text": [
      "Epoch 108/1000: Train Loss: 0.0055, Train Acc: 0.9995\n"
     ]
    },
    {
     "name": "stderr",
     "output_type": "stream",
     "text": [
      "Epoch 108/1000 (Validation): 100%|██████████| 47/47 [00:08<00:00,  5.56it/s, Loss=3.2905, Acc=0.4633]\n"
     ]
    },
    {
     "name": "stdout",
     "output_type": "stream",
     "text": [
      "Epoch 108/1000: Val Loss: 3.2905, Val Acc: 0.4633, Val F1: 0.4615\n",
      "Current Learning Rate: 3.0000000000000004e-09\n"
     ]
    },
    {
     "name": "stderr",
     "output_type": "stream",
     "text": [
      "Epoch 109/1000: 100%|██████████| 422/422 [02:15<00:00,  3.12it/s, Loss=0.0055, Acc=0.9995]\n"
     ]
    },
    {
     "name": "stdout",
     "output_type": "stream",
     "text": [
      "Epoch 109/1000: Train Loss: 0.0055, Train Acc: 0.9995\n"
     ]
    },
    {
     "name": "stderr",
     "output_type": "stream",
     "text": [
      "Epoch 109/1000 (Validation): 100%|██████████| 47/47 [00:07<00:00,  6.53it/s, Loss=3.2923, Acc=0.4633]\n"
     ]
    },
    {
     "name": "stdout",
     "output_type": "stream",
     "text": [
      "Epoch 109/1000: Val Loss: 3.2923, Val Acc: 0.4633, Val F1: 0.4615\n",
      "Current Learning Rate: 3.0000000000000004e-09\n"
     ]
    },
    {
     "name": "stderr",
     "output_type": "stream",
     "text": [
      "Epoch 110/1000: 100%|██████████| 422/422 [02:15<00:00,  3.11it/s, Loss=0.0055, Acc=0.9995]\n"
     ]
    },
    {
     "name": "stdout",
     "output_type": "stream",
     "text": [
      "Epoch 110/1000: Train Loss: 0.0055, Train Acc: 0.9995\n"
     ]
    },
    {
     "name": "stderr",
     "output_type": "stream",
     "text": [
      "Epoch 110/1000 (Validation): 100%|██████████| 47/47 [00:15<00:00,  2.99it/s, Loss=3.2932, Acc=0.4633]\n"
     ]
    },
    {
     "name": "stdout",
     "output_type": "stream",
     "text": [
      "Epoch 110/1000: Val Loss: 3.2932, Val Acc: 0.4633, Val F1: 0.4615\n",
      "Current Learning Rate: 3.0000000000000004e-09\n"
     ]
    },
    {
     "name": "stderr",
     "output_type": "stream",
     "text": [
      "Epoch 111/1000: 100%|██████████| 422/422 [02:06<00:00,  3.33it/s, Loss=0.0055, Acc=0.9995]\n"
     ]
    },
    {
     "name": "stdout",
     "output_type": "stream",
     "text": [
      "Epoch 111/1000: Train Loss: 0.0055, Train Acc: 0.9995\n"
     ]
    },
    {
     "name": "stderr",
     "output_type": "stream",
     "text": [
      "Epoch 111/1000 (Validation): 100%|██████████| 47/47 [00:10<00:00,  4.63it/s, Loss=3.2916, Acc=0.4633]\n"
     ]
    },
    {
     "name": "stdout",
     "output_type": "stream",
     "text": [
      "Epoch 111/1000: Val Loss: 3.2916, Val Acc: 0.4633, Val F1: 0.4615\n",
      "Current Learning Rate: 3.0000000000000004e-09\n"
     ]
    },
    {
     "name": "stderr",
     "output_type": "stream",
     "text": [
      "Epoch 112/1000: 100%|██████████| 422/422 [02:12<00:00,  3.18it/s, Loss=0.0055, Acc=0.9995]\n"
     ]
    },
    {
     "name": "stdout",
     "output_type": "stream",
     "text": [
      "Epoch 112/1000: Train Loss: 0.0055, Train Acc: 0.9995\n"
     ]
    },
    {
     "name": "stderr",
     "output_type": "stream",
     "text": [
      "Epoch 112/1000 (Validation): 100%|██████████| 47/47 [00:11<00:00,  4.00it/s, Loss=3.2917, Acc=0.4633]\n"
     ]
    },
    {
     "name": "stdout",
     "output_type": "stream",
     "text": [
      "Epoch 112/1000: Val Loss: 3.2917, Val Acc: 0.4633, Val F1: 0.4615\n",
      "Current Learning Rate: 3.0000000000000004e-09\n"
     ]
    },
    {
     "name": "stderr",
     "output_type": "stream",
     "text": [
      "Epoch 113/1000: 100%|██████████| 422/422 [02:09<00:00,  3.25it/s, Loss=0.0055, Acc=0.9995]\n"
     ]
    },
    {
     "name": "stdout",
     "output_type": "stream",
     "text": [
      "Epoch 113/1000: Train Loss: 0.0055, Train Acc: 0.9995\n"
     ]
    },
    {
     "name": "stderr",
     "output_type": "stream",
     "text": [
      "Epoch 113/1000 (Validation): 100%|██████████| 47/47 [00:06<00:00,  7.53it/s, Loss=3.2939, Acc=0.4633]\n"
     ]
    },
    {
     "name": "stdout",
     "output_type": "stream",
     "text": [
      "Epoch 113/1000: Val Loss: 3.2939, Val Acc: 0.4633, Val F1: 0.4614\n",
      "Current Learning Rate: 3.0000000000000004e-09\n"
     ]
    },
    {
     "name": "stderr",
     "output_type": "stream",
     "text": [
      "Epoch 114/1000: 100%|██████████| 422/422 [02:12<00:00,  3.20it/s, Loss=0.0055, Acc=0.9995]\n"
     ]
    },
    {
     "name": "stdout",
     "output_type": "stream",
     "text": [
      "Epoch 114/1000: Train Loss: 0.0055, Train Acc: 0.9995\n"
     ]
    },
    {
     "name": "stderr",
     "output_type": "stream",
     "text": [
      "Epoch 114/1000 (Validation): 100%|██████████| 47/47 [00:08<00:00,  5.53it/s, Loss=3.2947, Acc=0.4633]\n"
     ]
    },
    {
     "name": "stdout",
     "output_type": "stream",
     "text": [
      "Epoch 114/1000: Val Loss: 3.2947, Val Acc: 0.4633, Val F1: 0.4614\n",
      "Current Learning Rate: 3.0000000000000004e-09\n"
     ]
    },
    {
     "name": "stderr",
     "output_type": "stream",
     "text": [
      "Epoch 115/1000: 100%|██████████| 422/422 [02:09<00:00,  3.26it/s, Loss=0.0055, Acc=0.9995]\n"
     ]
    },
    {
     "name": "stdout",
     "output_type": "stream",
     "text": [
      "Epoch 115/1000: Train Loss: 0.0055, Train Acc: 0.9995\n"
     ]
    },
    {
     "name": "stderr",
     "output_type": "stream",
     "text": [
      "Epoch 115/1000 (Validation): 100%|██████████| 47/47 [00:06<00:00,  7.02it/s, Loss=3.2946, Acc=0.4633]\n"
     ]
    },
    {
     "name": "stdout",
     "output_type": "stream",
     "text": [
      "Epoch 115/1000: Val Loss: 3.2946, Val Acc: 0.4633, Val F1: 0.4614\n",
      "Current Learning Rate: 3.0000000000000004e-09\n"
     ]
    },
    {
     "name": "stderr",
     "output_type": "stream",
     "text": [
      "Epoch 116/1000: 100%|██████████| 422/422 [02:05<00:00,  3.35it/s, Loss=0.0055, Acc=0.9995]\n"
     ]
    },
    {
     "name": "stdout",
     "output_type": "stream",
     "text": [
      "Epoch 116/1000: Train Loss: 0.0055, Train Acc: 0.9995\n"
     ]
    },
    {
     "name": "stderr",
     "output_type": "stream",
     "text": [
      "Epoch 116/1000 (Validation): 100%|██████████| 47/47 [00:12<00:00,  3.71it/s, Loss=3.2945, Acc=0.4633]\n"
     ]
    },
    {
     "name": "stdout",
     "output_type": "stream",
     "text": [
      "Epoch 116/1000: Val Loss: 3.2945, Val Acc: 0.4633, Val F1: 0.4614\n",
      "Current Learning Rate: 3.0000000000000004e-09\n"
     ]
    },
    {
     "name": "stderr",
     "output_type": "stream",
     "text": [
      "Epoch 117/1000: 100%|██████████| 422/422 [02:10<00:00,  3.22it/s, Loss=0.0055, Acc=0.9995]\n"
     ]
    },
    {
     "name": "stdout",
     "output_type": "stream",
     "text": [
      "Epoch 117/1000: Train Loss: 0.0055, Train Acc: 0.9995\n"
     ]
    },
    {
     "name": "stderr",
     "output_type": "stream",
     "text": [
      "Epoch 117/1000 (Validation): 100%|██████████| 47/47 [00:07<00:00,  6.43it/s, Loss=3.2940, Acc=0.4633]\n"
     ]
    },
    {
     "name": "stdout",
     "output_type": "stream",
     "text": [
      "Epoch 117/1000: Val Loss: 3.2940, Val Acc: 0.4633, Val F1: 0.4614\n",
      "Current Learning Rate: 3.0000000000000004e-09\n"
     ]
    },
    {
     "name": "stderr",
     "output_type": "stream",
     "text": [
      "Epoch 118/1000: 100%|██████████| 422/422 [02:07<00:00,  3.32it/s, Loss=0.0055, Acc=0.9995]\n"
     ]
    },
    {
     "name": "stdout",
     "output_type": "stream",
     "text": [
      "Epoch 118/1000: Train Loss: 0.0055, Train Acc: 0.9995\n"
     ]
    },
    {
     "name": "stderr",
     "output_type": "stream",
     "text": [
      "Epoch 118/1000 (Validation): 100%|██████████| 47/47 [00:06<00:00,  7.83it/s, Loss=3.2932, Acc=0.4633]\n"
     ]
    },
    {
     "name": "stdout",
     "output_type": "stream",
     "text": [
      "Epoch 118/1000: Val Loss: 3.2932, Val Acc: 0.4633, Val F1: 0.4614\n",
      "Current Learning Rate: 3.0000000000000004e-09\n"
     ]
    },
    {
     "name": "stderr",
     "output_type": "stream",
     "text": [
      "Epoch 119/1000: 100%|██████████| 422/422 [02:06<00:00,  3.33it/s, Loss=0.0055, Acc=0.9995]\n"
     ]
    },
    {
     "name": "stdout",
     "output_type": "stream",
     "text": [
      "Epoch 119/1000: Train Loss: 0.0055, Train Acc: 0.9995\n"
     ]
    },
    {
     "name": "stderr",
     "output_type": "stream",
     "text": [
      "Epoch 119/1000 (Validation): 100%|██████████| 47/47 [00:16<00:00,  2.78it/s, Loss=3.2941, Acc=0.4633]\n"
     ]
    },
    {
     "name": "stdout",
     "output_type": "stream",
     "text": [
      "Epoch 119/1000: Val Loss: 3.2941, Val Acc: 0.4633, Val F1: 0.4614\n",
      "Current Learning Rate: 3.0000000000000004e-09\n"
     ]
    },
    {
     "name": "stderr",
     "output_type": "stream",
     "text": [
      "Epoch 120/1000: 100%|██████████| 422/422 [02:10<00:00,  3.22it/s, Loss=0.0055, Acc=0.9995]\n"
     ]
    },
    {
     "name": "stdout",
     "output_type": "stream",
     "text": [
      "Epoch 120/1000: Train Loss: 0.0055, Train Acc: 0.9995\n"
     ]
    },
    {
     "name": "stderr",
     "output_type": "stream",
     "text": [
      "Epoch 120/1000 (Validation): 100%|██████████| 47/47 [00:05<00:00,  7.91it/s, Loss=3.2946, Acc=0.4633]\n"
     ]
    },
    {
     "name": "stdout",
     "output_type": "stream",
     "text": [
      "Epoch 120/1000: Val Loss: 3.2946, Val Acc: 0.4633, Val F1: 0.4614\n",
      "Current Learning Rate: 3.0000000000000004e-09\n"
     ]
    },
    {
     "name": "stderr",
     "output_type": "stream",
     "text": [
      "Epoch 121/1000: 100%|██████████| 422/422 [02:06<00:00,  3.33it/s, Loss=0.0055, Acc=0.9995]\n"
     ]
    },
    {
     "name": "stdout",
     "output_type": "stream",
     "text": [
      "Epoch 121/1000: Train Loss: 0.0055, Train Acc: 0.9995\n"
     ]
    },
    {
     "name": "stderr",
     "output_type": "stream",
     "text": [
      "Epoch 121/1000 (Validation): 100%|██████████| 47/47 [00:12<00:00,  3.89it/s, Loss=3.2950, Acc=0.4633]\n"
     ]
    },
    {
     "name": "stdout",
     "output_type": "stream",
     "text": [
      "Epoch 121/1000: Val Loss: 3.2950, Val Acc: 0.4633, Val F1: 0.4614\n",
      "Current Learning Rate: 3.0000000000000004e-09\n"
     ]
    },
    {
     "name": "stderr",
     "output_type": "stream",
     "text": [
      "Epoch 122/1000: 100%|██████████| 422/422 [02:10<00:00,  3.23it/s, Loss=0.0055, Acc=0.9995]\n"
     ]
    },
    {
     "name": "stdout",
     "output_type": "stream",
     "text": [
      "Epoch 122/1000: Train Loss: 0.0055, Train Acc: 0.9995\n"
     ]
    },
    {
     "name": "stderr",
     "output_type": "stream",
     "text": [
      "Epoch 122/1000 (Validation): 100%|██████████| 47/47 [00:11<00:00,  4.12it/s, Loss=3.2955, Acc=0.4633]\n"
     ]
    },
    {
     "name": "stdout",
     "output_type": "stream",
     "text": [
      "Epoch 122/1000: Val Loss: 3.2955, Val Acc: 0.4633, Val F1: 0.4614\n",
      "Current Learning Rate: 3.0000000000000004e-09\n"
     ]
    },
    {
     "name": "stderr",
     "output_type": "stream",
     "text": [
      "Epoch 123/1000: 100%|██████████| 422/422 [02:07<00:00,  3.30it/s, Loss=0.0054, Acc=0.9995]\n"
     ]
    },
    {
     "name": "stdout",
     "output_type": "stream",
     "text": [
      "Epoch 123/1000: Train Loss: 0.0054, Train Acc: 0.9995\n"
     ]
    },
    {
     "name": "stderr",
     "output_type": "stream",
     "text": [
      "Epoch 123/1000 (Validation): 100%|██████████| 47/47 [00:05<00:00,  8.62it/s, Loss=3.2939, Acc=0.4633]\n"
     ]
    },
    {
     "name": "stdout",
     "output_type": "stream",
     "text": [
      "Epoch 123/1000: Val Loss: 3.2939, Val Acc: 0.4633, Val F1: 0.4615\n",
      "Current Learning Rate: 3.0000000000000004e-09\n"
     ]
    },
    {
     "name": "stderr",
     "output_type": "stream",
     "text": [
      "Epoch 124/1000: 100%|██████████| 422/422 [02:10<00:00,  3.23it/s, Loss=0.0054, Acc=0.9995]\n"
     ]
    },
    {
     "name": "stdout",
     "output_type": "stream",
     "text": [
      "Epoch 124/1000: Train Loss: 0.0054, Train Acc: 0.9995\n"
     ]
    },
    {
     "name": "stderr",
     "output_type": "stream",
     "text": [
      "Epoch 124/1000 (Validation): 100%|██████████| 47/47 [00:09<00:00,  4.90it/s, Loss=3.2938, Acc=0.4633]\n"
     ]
    },
    {
     "name": "stdout",
     "output_type": "stream",
     "text": [
      "Epoch 124/1000: Val Loss: 3.2938, Val Acc: 0.4633, Val F1: 0.4615\n",
      "Current Learning Rate: 3.0000000000000004e-09\n"
     ]
    },
    {
     "name": "stderr",
     "output_type": "stream",
     "text": [
      "Epoch 125/1000: 100%|██████████| 422/422 [02:07<00:00,  3.32it/s, Loss=0.0054, Acc=0.9995]\n"
     ]
    },
    {
     "name": "stdout",
     "output_type": "stream",
     "text": [
      "Epoch 125/1000: Train Loss: 0.0054, Train Acc: 0.9995\n"
     ]
    },
    {
     "name": "stderr",
     "output_type": "stream",
     "text": [
      "Epoch 125/1000 (Validation): 100%|██████████| 47/47 [00:07<00:00,  6.37it/s, Loss=3.2958, Acc=0.4633]\n"
     ]
    },
    {
     "name": "stdout",
     "output_type": "stream",
     "text": [
      "Epoch 125/1000: Val Loss: 3.2958, Val Acc: 0.4633, Val F1: 0.4615\n",
      "Current Learning Rate: 3.0000000000000004e-09\n"
     ]
    },
    {
     "name": "stderr",
     "output_type": "stream",
     "text": [
      "Epoch 126/1000: 100%|██████████| 422/422 [02:06<00:00,  3.34it/s, Loss=0.0054, Acc=0.9995]\n"
     ]
    },
    {
     "name": "stdout",
     "output_type": "stream",
     "text": [
      "Epoch 126/1000: Train Loss: 0.0054, Train Acc: 0.9995\n"
     ]
    },
    {
     "name": "stderr",
     "output_type": "stream",
     "text": [
      "Epoch 126/1000 (Validation): 100%|██████████| 47/47 [00:13<00:00,  3.41it/s, Loss=3.2954, Acc=0.4633]\n"
     ]
    },
    {
     "name": "stdout",
     "output_type": "stream",
     "text": [
      "Epoch 126/1000: Val Loss: 3.2954, Val Acc: 0.4633, Val F1: 0.4615\n",
      "Current Learning Rate: 3.0000000000000004e-09\n"
     ]
    },
    {
     "name": "stderr",
     "output_type": "stream",
     "text": [
      "Epoch 127/1000: 100%|██████████| 422/422 [02:12<00:00,  3.20it/s, Loss=0.0054, Acc=0.9995]\n"
     ]
    },
    {
     "name": "stdout",
     "output_type": "stream",
     "text": [
      "Epoch 127/1000: Train Loss: 0.0054, Train Acc: 0.9995\n"
     ]
    },
    {
     "name": "stderr",
     "output_type": "stream",
     "text": [
      "Epoch 127/1000 (Validation): 100%|██████████| 47/47 [00:12<00:00,  3.71it/s, Loss=3.2967, Acc=0.4633]\n"
     ]
    },
    {
     "name": "stdout",
     "output_type": "stream",
     "text": [
      "Epoch 127/1000: Val Loss: 3.2967, Val Acc: 0.4633, Val F1: 0.4615\n",
      "Current Learning Rate: 3.0000000000000004e-09\n"
     ]
    },
    {
     "name": "stderr",
     "output_type": "stream",
     "text": [
      "Epoch 128/1000: 100%|██████████| 422/422 [02:09<00:00,  3.26it/s, Loss=0.0054, Acc=0.9995]\n"
     ]
    },
    {
     "name": "stdout",
     "output_type": "stream",
     "text": [
      "Epoch 128/1000: Train Loss: 0.0054, Train Acc: 0.9995\n"
     ]
    },
    {
     "name": "stderr",
     "output_type": "stream",
     "text": [
      "Epoch 128/1000 (Validation): 100%|██████████| 47/47 [00:13<00:00,  3.54it/s, Loss=3.2967, Acc=0.4633]\n"
     ]
    },
    {
     "name": "stdout",
     "output_type": "stream",
     "text": [
      "Epoch 128/1000: Val Loss: 3.2967, Val Acc: 0.4633, Val F1: 0.4615\n",
      "Current Learning Rate: 3.0000000000000004e-09\n"
     ]
    },
    {
     "name": "stderr",
     "output_type": "stream",
     "text": [
      "Epoch 129/1000: 100%|██████████| 422/422 [02:08<00:00,  3.29it/s, Loss=0.0054, Acc=0.9995]\n"
     ]
    },
    {
     "name": "stdout",
     "output_type": "stream",
     "text": [
      "Epoch 129/1000: Train Loss: 0.0054, Train Acc: 0.9995\n"
     ]
    },
    {
     "name": "stderr",
     "output_type": "stream",
     "text": [
      "Epoch 129/1000 (Validation): 100%|██████████| 47/47 [00:08<00:00,  5.43it/s, Loss=3.2955, Acc=0.4637]\n"
     ]
    },
    {
     "name": "stdout",
     "output_type": "stream",
     "text": [
      "Epoch 129/1000: Val Loss: 3.2955, Val Acc: 0.4637, Val F1: 0.4618\n",
      "Current Learning Rate: 3.0000000000000004e-09\n"
     ]
    },
    {
     "name": "stderr",
     "output_type": "stream",
     "text": [
      "Epoch 130/1000: 100%|██████████| 422/422 [02:07<00:00,  3.32it/s, Loss=0.0054, Acc=0.9995]\n"
     ]
    },
    {
     "name": "stdout",
     "output_type": "stream",
     "text": [
      "Epoch 130/1000: Train Loss: 0.0054, Train Acc: 0.9995\n"
     ]
    },
    {
     "name": "stderr",
     "output_type": "stream",
     "text": [
      "Epoch 130/1000 (Validation): 100%|██████████| 47/47 [00:04<00:00, 10.23it/s, Loss=3.2948, Acc=0.4637]\n"
     ]
    },
    {
     "name": "stdout",
     "output_type": "stream",
     "text": [
      "Epoch 130/1000: Val Loss: 3.2948, Val Acc: 0.4637, Val F1: 0.4618\n",
      "Current Learning Rate: 3.0000000000000004e-09\n"
     ]
    },
    {
     "name": "stderr",
     "output_type": "stream",
     "text": [
      "Epoch 131/1000: 100%|██████████| 422/422 [02:11<00:00,  3.21it/s, Loss=0.0054, Acc=0.9995]\n"
     ]
    },
    {
     "name": "stdout",
     "output_type": "stream",
     "text": [
      "Epoch 131/1000: Train Loss: 0.0054, Train Acc: 0.9995\n"
     ]
    },
    {
     "name": "stderr",
     "output_type": "stream",
     "text": [
      "Epoch 131/1000 (Validation): 100%|██████████| 47/47 [00:14<00:00,  3.18it/s, Loss=3.2969, Acc=0.4637]\n"
     ]
    },
    {
     "name": "stdout",
     "output_type": "stream",
     "text": [
      "Epoch 131/1000: Val Loss: 3.2969, Val Acc: 0.4637, Val F1: 0.4618\n",
      "Current Learning Rate: 3.0000000000000004e-09\n"
     ]
    },
    {
     "name": "stderr",
     "output_type": "stream",
     "text": [
      "Epoch 132/1000: 100%|██████████| 422/422 [02:06<00:00,  3.33it/s, Loss=0.0054, Acc=0.9995]\n"
     ]
    },
    {
     "name": "stdout",
     "output_type": "stream",
     "text": [
      "Epoch 132/1000: Train Loss: 0.0054, Train Acc: 0.9995\n"
     ]
    },
    {
     "name": "stderr",
     "output_type": "stream",
     "text": [
      "Epoch 132/1000 (Validation): 100%|██████████| 47/47 [00:10<00:00,  4.30it/s, Loss=3.2943, Acc=0.4637]\n"
     ]
    },
    {
     "name": "stdout",
     "output_type": "stream",
     "text": [
      "Epoch 132/1000: Val Loss: 3.2943, Val Acc: 0.4637, Val F1: 0.4618\n",
      "Current Learning Rate: 3.0000000000000004e-09\n"
     ]
    },
    {
     "name": "stderr",
     "output_type": "stream",
     "text": [
      "Epoch 133/1000: 100%|██████████| 422/422 [02:08<00:00,  3.29it/s, Loss=0.0054, Acc=0.9995]\n"
     ]
    },
    {
     "name": "stdout",
     "output_type": "stream",
     "text": [
      "Epoch 133/1000: Train Loss: 0.0054, Train Acc: 0.9995\n"
     ]
    },
    {
     "name": "stderr",
     "output_type": "stream",
     "text": [
      "Epoch 133/1000 (Validation): 100%|██████████| 47/47 [00:04<00:00, 10.24it/s, Loss=3.2987, Acc=0.4637]\n"
     ]
    },
    {
     "name": "stdout",
     "output_type": "stream",
     "text": [
      "Epoch 133/1000: Val Loss: 3.2987, Val Acc: 0.4637, Val F1: 0.4618\n",
      "Current Learning Rate: 3.0000000000000004e-09\n"
     ]
    },
    {
     "name": "stderr",
     "output_type": "stream",
     "text": [
      "Epoch 134/1000: 100%|██████████| 422/422 [02:10<00:00,  3.23it/s, Loss=0.0054, Acc=0.9995]\n"
     ]
    },
    {
     "name": "stdout",
     "output_type": "stream",
     "text": [
      "Epoch 134/1000: Train Loss: 0.0054, Train Acc: 0.9995\n"
     ]
    },
    {
     "name": "stderr",
     "output_type": "stream",
     "text": [
      "Epoch 134/1000 (Validation): 100%|██████████| 47/47 [00:14<00:00,  3.16it/s, Loss=3.2969, Acc=0.4637]\n"
     ]
    },
    {
     "name": "stdout",
     "output_type": "stream",
     "text": [
      "Epoch 134/1000: Val Loss: 3.2969, Val Acc: 0.4637, Val F1: 0.4618\n",
      "Current Learning Rate: 3.0000000000000004e-09\n"
     ]
    },
    {
     "name": "stderr",
     "output_type": "stream",
     "text": [
      "Epoch 135/1000: 100%|██████████| 422/422 [02:08<00:00,  3.29it/s, Loss=0.0054, Acc=0.9995]\n"
     ]
    },
    {
     "name": "stdout",
     "output_type": "stream",
     "text": [
      "Epoch 135/1000: Train Loss: 0.0054, Train Acc: 0.9995\n"
     ]
    },
    {
     "name": "stderr",
     "output_type": "stream",
     "text": [
      "Epoch 135/1000 (Validation): 100%|██████████| 47/47 [00:19<00:00,  2.40it/s, Loss=3.2957, Acc=0.4637]\n"
     ]
    },
    {
     "name": "stdout",
     "output_type": "stream",
     "text": [
      "Epoch 135/1000: Val Loss: 3.2957, Val Acc: 0.4637, Val F1: 0.4618\n",
      "Current Learning Rate: 3.0000000000000004e-09\n"
     ]
    },
    {
     "name": "stderr",
     "output_type": "stream",
     "text": [
      "Epoch 136/1000: 100%|██████████| 422/422 [02:15<00:00,  3.13it/s, Loss=0.0054, Acc=0.9995]\n"
     ]
    },
    {
     "name": "stdout",
     "output_type": "stream",
     "text": [
      "Epoch 136/1000: Train Loss: 0.0054, Train Acc: 0.9995\n"
     ]
    },
    {
     "name": "stderr",
     "output_type": "stream",
     "text": [
      "Epoch 136/1000 (Validation): 100%|██████████| 47/47 [00:10<00:00,  4.52it/s, Loss=3.2957, Acc=0.4637]\n"
     ]
    },
    {
     "name": "stdout",
     "output_type": "stream",
     "text": [
      "Epoch 136/1000: Val Loss: 3.2957, Val Acc: 0.4637, Val F1: 0.4618\n",
      "Current Learning Rate: 3.0000000000000004e-09\n"
     ]
    },
    {
     "name": "stderr",
     "output_type": "stream",
     "text": [
      "Epoch 137/1000: 100%|██████████| 422/422 [02:10<00:00,  3.24it/s, Loss=0.0054, Acc=0.9995]\n"
     ]
    },
    {
     "name": "stdout",
     "output_type": "stream",
     "text": [
      "Epoch 137/1000: Train Loss: 0.0054, Train Acc: 0.9995\n"
     ]
    },
    {
     "name": "stderr",
     "output_type": "stream",
     "text": [
      "Epoch 137/1000 (Validation): 100%|██████████| 47/47 [00:06<00:00,  6.82it/s, Loss=3.2988, Acc=0.4637]\n"
     ]
    },
    {
     "name": "stdout",
     "output_type": "stream",
     "text": [
      "Epoch 137/1000: Val Loss: 3.2988, Val Acc: 0.4637, Val F1: 0.4618\n",
      "Current Learning Rate: 3.0000000000000004e-09\n"
     ]
    },
    {
     "name": "stderr",
     "output_type": "stream",
     "text": [
      "Epoch 138/1000: 100%|██████████| 422/422 [02:06<00:00,  3.33it/s, Loss=0.0054, Acc=0.9995]\n"
     ]
    },
    {
     "name": "stdout",
     "output_type": "stream",
     "text": [
      "Epoch 138/1000: Train Loss: 0.0054, Train Acc: 0.9995\n"
     ]
    },
    {
     "name": "stderr",
     "output_type": "stream",
     "text": [
      "Epoch 138/1000 (Validation): 100%|██████████| 47/47 [00:06<00:00,  6.86it/s, Loss=3.2995, Acc=0.4637]\n"
     ]
    },
    {
     "name": "stdout",
     "output_type": "stream",
     "text": [
      "Epoch 138/1000: Val Loss: 3.2995, Val Acc: 0.4637, Val F1: 0.4618\n",
      "Current Learning Rate: 3.0000000000000004e-09\n"
     ]
    },
    {
     "name": "stderr",
     "output_type": "stream",
     "text": [
      "Epoch 139/1000: 100%|██████████| 422/422 [02:08<00:00,  3.29it/s, Loss=0.0054, Acc=0.9995]\n"
     ]
    },
    {
     "name": "stdout",
     "output_type": "stream",
     "text": [
      "Epoch 139/1000: Train Loss: 0.0054, Train Acc: 0.9995\n"
     ]
    },
    {
     "name": "stderr",
     "output_type": "stream",
     "text": [
      "Epoch 139/1000 (Validation): 100%|██████████| 47/47 [00:07<00:00,  6.33it/s, Loss=3.2993, Acc=0.4633]\n"
     ]
    },
    {
     "name": "stdout",
     "output_type": "stream",
     "text": [
      "Epoch 139/1000: Val Loss: 3.2993, Val Acc: 0.4633, Val F1: 0.4614\n",
      "Current Learning Rate: 3.0000000000000004e-09\n"
     ]
    },
    {
     "name": "stderr",
     "output_type": "stream",
     "text": [
      "Epoch 140/1000: 100%|██████████| 422/422 [02:15<00:00,  3.11it/s, Loss=0.0054, Acc=0.9995]\n"
     ]
    },
    {
     "name": "stdout",
     "output_type": "stream",
     "text": [
      "Epoch 140/1000: Train Loss: 0.0054, Train Acc: 0.9995\n"
     ]
    },
    {
     "name": "stderr",
     "output_type": "stream",
     "text": [
      "Epoch 140/1000 (Validation): 100%|██████████| 47/47 [00:09<00:00,  4.88it/s, Loss=3.3016, Acc=0.4633]\n"
     ]
    },
    {
     "name": "stdout",
     "output_type": "stream",
     "text": [
      "Epoch 140/1000: Val Loss: 3.3016, Val Acc: 0.4633, Val F1: 0.4614\n",
      "Current Learning Rate: 3.0000000000000004e-09\n"
     ]
    },
    {
     "name": "stderr",
     "output_type": "stream",
     "text": [
      "Epoch 141/1000: 100%|██████████| 422/422 [02:13<00:00,  3.15it/s, Loss=0.0054, Acc=0.9995]\n"
     ]
    },
    {
     "name": "stdout",
     "output_type": "stream",
     "text": [
      "Epoch 141/1000: Train Loss: 0.0054, Train Acc: 0.9995\n"
     ]
    },
    {
     "name": "stderr",
     "output_type": "stream",
     "text": [
      "Epoch 141/1000 (Validation): 100%|██████████| 47/47 [00:09<00:00,  4.72it/s, Loss=3.2972, Acc=0.4633]\n"
     ]
    },
    {
     "name": "stdout",
     "output_type": "stream",
     "text": [
      "Epoch 141/1000: Val Loss: 3.2972, Val Acc: 0.4633, Val F1: 0.4614\n",
      "Current Learning Rate: 3.0000000000000004e-09\n"
     ]
    },
    {
     "name": "stderr",
     "output_type": "stream",
     "text": [
      "Epoch 142/1000: 100%|██████████| 422/422 [02:13<00:00,  3.16it/s, Loss=0.0054, Acc=0.9995]\n"
     ]
    },
    {
     "name": "stdout",
     "output_type": "stream",
     "text": [
      "Epoch 142/1000: Train Loss: 0.0054, Train Acc: 0.9995\n"
     ]
    },
    {
     "name": "stderr",
     "output_type": "stream",
     "text": [
      "Epoch 142/1000 (Validation): 100%|██████████| 47/47 [00:14<00:00,  3.33it/s, Loss=3.2986, Acc=0.4633]\n"
     ]
    },
    {
     "name": "stdout",
     "output_type": "stream",
     "text": [
      "Epoch 142/1000: Val Loss: 3.2986, Val Acc: 0.4633, Val F1: 0.4614\n",
      "Current Learning Rate: 3.0000000000000004e-09\n"
     ]
    },
    {
     "name": "stderr",
     "output_type": "stream",
     "text": [
      "Epoch 143/1000: 100%|██████████| 422/422 [02:07<00:00,  3.32it/s, Loss=0.0054, Acc=0.9995]\n"
     ]
    },
    {
     "name": "stdout",
     "output_type": "stream",
     "text": [
      "Epoch 143/1000: Train Loss: 0.0054, Train Acc: 0.9995\n"
     ]
    },
    {
     "name": "stderr",
     "output_type": "stream",
     "text": [
      "Epoch 143/1000 (Validation): 100%|██████████| 47/47 [00:10<00:00,  4.40it/s, Loss=3.3033, Acc=0.4633]\n"
     ]
    },
    {
     "name": "stdout",
     "output_type": "stream",
     "text": [
      "Epoch 143/1000: Val Loss: 3.3033, Val Acc: 0.4633, Val F1: 0.4614\n",
      "Current Learning Rate: 3.0000000000000004e-09\n"
     ]
    },
    {
     "name": "stderr",
     "output_type": "stream",
     "text": [
      "Epoch 144/1000: 100%|██████████| 422/422 [02:10<00:00,  3.24it/s, Loss=0.0054, Acc=0.9995]\n"
     ]
    },
    {
     "name": "stdout",
     "output_type": "stream",
     "text": [
      "Epoch 144/1000: Train Loss: 0.0054, Train Acc: 0.9995\n"
     ]
    },
    {
     "name": "stderr",
     "output_type": "stream",
     "text": [
      "Epoch 144/1000 (Validation): 100%|██████████| 47/47 [00:10<00:00,  4.51it/s, Loss=3.3010, Acc=0.4633]\n"
     ]
    },
    {
     "name": "stdout",
     "output_type": "stream",
     "text": [
      "Epoch 144/1000: Val Loss: 3.3010, Val Acc: 0.4633, Val F1: 0.4614\n",
      "Current Learning Rate: 3.0000000000000004e-09\n"
     ]
    },
    {
     "name": "stderr",
     "output_type": "stream",
     "text": [
      "Epoch 145/1000: 100%|██████████| 422/422 [02:06<00:00,  3.35it/s, Loss=0.0054, Acc=0.9995]\n"
     ]
    },
    {
     "name": "stdout",
     "output_type": "stream",
     "text": [
      "Epoch 145/1000: Train Loss: 0.0054, Train Acc: 0.9995\n"
     ]
    },
    {
     "name": "stderr",
     "output_type": "stream",
     "text": [
      "Epoch 145/1000 (Validation): 100%|██████████| 47/47 [00:18<00:00,  2.50it/s, Loss=3.2990, Acc=0.4633]\n"
     ]
    },
    {
     "name": "stdout",
     "output_type": "stream",
     "text": [
      "Epoch 145/1000: Val Loss: 3.2990, Val Acc: 0.4633, Val F1: 0.4614\n",
      "Current Learning Rate: 3.0000000000000004e-09\n"
     ]
    },
    {
     "name": "stderr",
     "output_type": "stream",
     "text": [
      "Epoch 146/1000: 100%|██████████| 422/422 [02:05<00:00,  3.37it/s, Loss=0.0054, Acc=0.9995]\n"
     ]
    },
    {
     "name": "stdout",
     "output_type": "stream",
     "text": [
      "Epoch 146/1000: Train Loss: 0.0054, Train Acc: 0.9995\n"
     ]
    },
    {
     "name": "stderr",
     "output_type": "stream",
     "text": [
      "Epoch 146/1000 (Validation): 100%|██████████| 47/47 [00:07<00:00,  6.11it/s, Loss=3.2992, Acc=0.4633]\n"
     ]
    },
    {
     "name": "stdout",
     "output_type": "stream",
     "text": [
      "Epoch 146/1000: Val Loss: 3.2992, Val Acc: 0.4633, Val F1: 0.4614\n",
      "Current Learning Rate: 3.0000000000000004e-09\n"
     ]
    },
    {
     "name": "stderr",
     "output_type": "stream",
     "text": [
      "Epoch 147/1000: 100%|██████████| 422/422 [02:05<00:00,  3.35it/s, Loss=0.0054, Acc=0.9995]\n"
     ]
    },
    {
     "name": "stdout",
     "output_type": "stream",
     "text": [
      "Epoch 147/1000: Train Loss: 0.0054, Train Acc: 0.9995\n"
     ]
    },
    {
     "name": "stderr",
     "output_type": "stream",
     "text": [
      "Epoch 147/1000 (Validation):  68%|██████▊   | 32/47 [00:08<00:03,  3.91it/s, Loss=3.3216, Acc=0.4634]\n"
     ]
    },
    {
     "ename": "KeyboardInterrupt",
     "evalue": "",
     "output_type": "error",
     "traceback": [
      "\u001b[0;31m---------------------------------------------------------------------------\u001b[0m",
      "\u001b[0;31mKeyboardInterrupt\u001b[0m                         Traceback (most recent call last)",
      "Cell \u001b[0;32mIn[20], line 94\u001b[0m\n\u001b[1;32m     91\u001b[0m loss \u001b[38;5;241m=\u001b[39m criterion(outputs, targets)\n\u001b[1;32m     93\u001b[0m \u001b[38;5;66;03m# Update statistics\u001b[39;00m\n\u001b[0;32m---> 94\u001b[0m val_loss \u001b[38;5;241m+\u001b[39m\u001b[38;5;241m=\u001b[39m loss\u001b[38;5;241m.\u001b[39mitem()\n\u001b[1;32m     95\u001b[0m _, predicted \u001b[38;5;241m=\u001b[39m outputs\u001b[38;5;241m.\u001b[39mmax(\u001b[38;5;241m1\u001b[39m)\n\u001b[1;32m     96\u001b[0m val_total \u001b[38;5;241m+\u001b[39m\u001b[38;5;241m=\u001b[39m targets\u001b[38;5;241m.\u001b[39msize(\u001b[38;5;241m0\u001b[39m)\n",
      "\u001b[0;31mKeyboardInterrupt\u001b[0m: "
     ]
    }
   ],
   "source": [
    "EPOCHS = 1000\n",
    "LEARNING_RATE = 3e-5\n",
    "NUM_CLASSES = 7\n",
    "SEED = 123\n",
    "BATCH_SIZE = 64\n",
    "DEVICE = torch.device(\"cuda\" if torch.cuda.is_available() else \"cpu\")\n",
    "\n",
    "train_loader = DataLoader(train_dataset, batch_size=BATCH_SIZE, shuffle=True, generator=torch.Generator().manual_seed(SEED))\n",
    "val_loader = DataLoader(val_dataset, batch_size=BATCH_SIZE, shuffle=True, generator=torch.Generator().manual_seed(SEED))\n",
    "test_loader = DataLoader(test_dataset, batch_size=BATCH_SIZE, shuffle=False, generator=torch.Generator().manual_seed(SEED))\n",
    "\n",
    "optimizer = optim.AdamW(model.parameters(), lr=LEARNING_RATE)\n",
    "criterion = nn.CrossEntropyLoss()\n",
    "\n",
    "# Define the learning rate scheduler\n",
    "scheduler = ReduceLROnPlateau(optimizer, mode='min', factor=0.1, patience=5)\n",
    "\n",
    "# Define path\n",
    "SAVE_PATH = \"../Hasil Eksperimen\"\n",
    "os.makedirs(SAVE_PATH, exist_ok=True)\n",
    "\n",
    "# Initialize lists to store training and validation metrics\n",
    "train_losses = []\n",
    "val_losses = []\n",
    "train_accuracies = []\n",
    "val_accuracies = []\n",
    "\n",
    "# Initialize the best metric for model saving\n",
    "best_val_accuracy = -float('inf')\n",
    "\n",
    "for epoch in range(EPOCHS):\n",
    "    model.train()\n",
    "    train_loss = 0.0\n",
    "    correct = 0\n",
    "    total = 0\n",
    "\n",
    "    # Training\n",
    "    pbar = tqdm(train_loader, desc=f\"Epoch {epoch + 1}/{EPOCHS}\")\n",
    "    for batch_idx, (inputs, targets) in enumerate(pbar):\n",
    "        inputs, targets = inputs.to(DEVICE), targets.to(DEVICE)\n",
    "\n",
    "        # Zero the gradients\n",
    "        optimizer.zero_grad()\n",
    "\n",
    "        # Forward pass\n",
    "        outputs = model(inputs)\n",
    "        loss = criterion(outputs, targets)\n",
    "\n",
    "        # Backward pass and optimize\n",
    "        loss.backward()\n",
    "        optimizer.step()\n",
    "\n",
    "        # Update statistics\n",
    "        train_loss += loss.item()\n",
    "        _, predicted = outputs.max(1)\n",
    "        total += targets.size(0)\n",
    "        correct += predicted.eq(targets).sum().item()\n",
    "\n",
    "        # Update progress bar\n",
    "        pbar.set_postfix({\n",
    "            \"Loss\": f\"{train_loss / (batch_idx + 1):.4f}\",\n",
    "            \"Acc\": f\"{correct / total:.4f}\"\n",
    "        })\n",
    "\n",
    "    # Calculate training accuracy and loss\n",
    "    train_accuracy = correct / total\n",
    "    avg_train_loss = train_loss / len(train_loader)\n",
    "    train_losses.append(avg_train_loss)\n",
    "    train_accuracies.append(train_accuracy)\n",
    "\n",
    "    # Print training summary\n",
    "    print(f\"Epoch {epoch + 1}/{EPOCHS}: \"\n",
    "          f\"Train Loss: {avg_train_loss:.4f}, \"\n",
    "          f\"Train Acc: {train_accuracy:.4f}\")\n",
    "\n",
    "    # Validation\n",
    "    model.eval()\n",
    "    val_loss = 0.0\n",
    "    val_correct = 0\n",
    "    val_total = 0\n",
    "    all_targets = []\n",
    "    all_predicted = []\n",
    "\n",
    "    with torch.no_grad():  # Disable gradient computation\n",
    "        pbar = tqdm(val_loader, desc=f\"Epoch {epoch + 1}/{EPOCHS} (Validation)\")\n",
    "        for batch_idx, (inputs, targets) in enumerate(pbar):\n",
    "            inputs, targets = inputs.to(DEVICE), targets.to(DEVICE)\n",
    "\n",
    "            # Forward pass\n",
    "            outputs = model(inputs)\n",
    "            loss = criterion(outputs, targets)\n",
    "\n",
    "            # Update statistics\n",
    "            val_loss += loss.item()\n",
    "            _, predicted = outputs.max(1)\n",
    "            val_total += targets.size(0)\n",
    "            val_correct += predicted.eq(targets).sum().item()\n",
    "\n",
    "            # Collect all targets and predictions for F1-score\n",
    "            all_targets.extend(targets.cpu().numpy())\n",
    "            all_predicted.extend(predicted.cpu().numpy())\n",
    "\n",
    "            # Update progress bar\n",
    "            pbar.set_postfix({\n",
    "                \"Loss\": f\"{val_loss / (batch_idx + 1):.4f}\",\n",
    "                \"Acc\": f\"{val_correct / val_total:.4f}\"\n",
    "            })\n",
    "\n",
    "    # Calculate validation accuracy, loss, and F1-score\n",
    "    val_accuracy = val_correct / val_total\n",
    "    avg_val_loss = val_loss / len(val_loader)\n",
    "    val_f1 = f1_score(all_targets, all_predicted, average=\"weighted\")\n",
    "    val_losses.append(avg_val_loss)\n",
    "    val_accuracies.append(val_accuracy)\n",
    "\n",
    "    # Print validation summary\n",
    "    print(f\"Epoch {epoch + 1}/{EPOCHS}: \"\n",
    "          f\"Val Loss: {avg_val_loss:.4f}, \"\n",
    "          f\"Val Acc: {val_accuracy:.4f}, \"\n",
    "          f\"Val F1: {val_f1:.4f}\")\n",
    "\n",
    "    # Step the learning rate scheduler based on validation loss\n",
    "    scheduler.step(avg_val_loss)\n",
    "\n",
    "    # Print the current learning rate\n",
    "    current_lr = optimizer.param_groups[0]['lr']\n",
    "    print(f\"Current Learning Rate: {current_lr}\")\n",
    "\n",
    "    # Save the best model based on validation accuracy\n",
    "    if val_accuracy > best_val_accuracy:\n",
    "        best_val_accuracy = val_accuracy\n",
    "        model_path = os.path.join(SAVE_PATH, \"model7_best.pt\")\n",
    "        torch.save(model.state_dict(), model_path)\n",
    "        print(f\"Best model saved at {model_path} with val accuracy: {best_val_accuracy:.4f}\")\n",
    "\n",
    "    # Save loss and accuracy plots\n",
    "    plt.figure(figsize=(10, 5))\n",
    "    plt.plot(range(1, len(train_losses) + 1), train_losses, label=\"Training Loss\", marker='o')\n",
    "    plt.plot(range(1, len(val_losses) + 1), val_losses, label=\"Validation Loss\", marker='o')\n",
    "    plt.title(\"Loss per Epoch\")\n",
    "    plt.xlabel(\"Epoch\")\n",
    "    plt.ylabel(\"Loss\")\n",
    "    plt.legend()\n",
    "    plt.grid(True)\n",
    "    loss_plot_path = os.path.join(SAVE_PATH, \"model7_loss.png\")\n",
    "    plt.savefig(loss_plot_path)\n",
    "    plt.close()\n",
    "\n",
    "    plt.figure(figsize=(10, 5))\n",
    "    plt.plot(range(1, len(train_accuracies) + 1), train_accuracies, label=\"Training Accuracy\", marker='o')\n",
    "    plt.plot(range(1, len(val_accuracies) + 1), val_accuracies, label=\"Validation Accuracy\", marker='o')\n",
    "    plt.title(\"Accuracy per Epoch\")\n",
    "    plt.xlabel(\"Epoch\")\n",
    "    plt.ylabel(\"Accuracy\")\n",
    "    plt.legend()\n",
    "    plt.grid(True)\n",
    "    accuracy_plot_path = os.path.join(SAVE_PATH, \"model7_acc.png\")\n",
    "    plt.savefig(accuracy_plot_path)\n",
    "    plt.close()"
   ]
  },
  {
   "cell_type": "markdown",
   "id": "f9419548-bc46-4909-a041-3c0173fec3c6",
   "metadata": {},
   "source": [
    "# Testing"
   ]
  },
  {
   "cell_type": "code",
   "execution_count": 21,
   "id": "1e3abd3f-0790-48ed-b3ec-17fe5434e55c",
   "metadata": {},
   "outputs": [],
   "source": [
    "DEVICE = torch.device(\"cuda\" if torch.cuda.is_available() else \"cpu\")\n",
    "\n",
    "best_model = ViT(num_classes=len(class_names), in_channels=1, patch_size=32, num_heads=8, embedding_dim=512, num_transformer_layers=12)\n",
    "best_model = best_model.to(DEVICE)"
   ]
  },
  {
   "cell_type": "code",
   "execution_count": 22,
   "id": "2d76e3b6-9f27-4e75-a83c-0734a22f310d",
   "metadata": {},
   "outputs": [
    {
     "name": "stderr",
     "output_type": "stream",
     "text": [
      "/tmp/ipykernel_2876/2195310845.py:3: FutureWarning: You are using `torch.load` with `weights_only=False` (the current default value), which uses the default pickle module implicitly. It is possible to construct malicious pickle data which will execute arbitrary code during unpickling (See https://github.com/pytorch/pytorch/blob/main/SECURITY.md#untrusted-models for more details). In a future release, the default value for `weights_only` will be flipped to `True`. This limits the functions that could be executed during unpickling. Arbitrary objects will no longer be allowed to be loaded via this mode unless they are explicitly allowlisted by the user via `torch.serialization.add_safe_globals`. We recommend you start setting `weights_only=True` for any use case where you don't have full control of the loaded file. Please open an issue on GitHub for any issues related to this experimental feature.\n",
      "  best_model.load_state_dict(torch.load(model_path))\n"
     ]
    },
    {
     "data": {
      "text/plain": [
       "<All keys matched successfully>"
      ]
     },
     "execution_count": 22,
     "metadata": {},
     "output_type": "execute_result"
    }
   ],
   "source": [
    "# Load state_dict\n",
    "model_path = \"../Hasil Eksperimen/model7_best.pt\"\n",
    "best_model.load_state_dict(torch.load(model_path))"
   ]
  },
  {
   "cell_type": "code",
   "execution_count": 23,
   "id": "91d6a4ca-3dfb-4a39-9ea6-ecdca034e4b1",
   "metadata": {},
   "outputs": [
    {
     "name": "stderr",
     "output_type": "stream",
     "text": [
      "Testing: 100%|██████████| 53/53 [00:02<00:00, 19.46it/s, Loss=3.0723, Acc=0.4599]"
     ]
    },
    {
     "name": "stdout",
     "output_type": "stream",
     "text": [
      "Test Loss: 3.0723, Test Acc: 0.4599\n",
      "\n",
      "Per-Class Accuracy:\n",
      "Class 0: 0.3175\n",
      "Class 1: 0.2222\n",
      "Class 2: 0.3559\n",
      "Class 3: 0.6659\n",
      "Class 4: 0.3724\n",
      "Class 5: 0.5189\n",
      "Class 6: 0.4235\n",
      "\n",
      "Classification Report:\n",
      "              precision    recall  f1-score   support\n",
      "\n",
      "     Class 0       0.34      0.32      0.33       463\n",
      "     Class 1       0.30      0.22      0.26        45\n",
      "     Class 2       0.35      0.36      0.35       472\n",
      "     Class 3       0.64      0.67      0.65       868\n",
      "     Class 4       0.38      0.37      0.38       572\n",
      "     Class 5       0.56      0.52      0.54       318\n",
      "     Class 6       0.41      0.42      0.42       595\n",
      "\n",
      "    accuracy                           0.46      3333\n",
      "   macro avg       0.42      0.41      0.42      3333\n",
      "weighted avg       0.46      0.46      0.46      3333\n",
      "\n"
     ]
    },
    {
     "name": "stderr",
     "output_type": "stream",
     "text": [
      "\n"
     ]
    }
   ],
   "source": [
    "# Testing\n",
    "best_model.eval()\n",
    "test_loss = 0.0\n",
    "test_correct = 0\n",
    "test_total = 0\n",
    "all_targets = []\n",
    "all_predicted = []\n",
    "\n",
    "with torch.no_grad():  # Disable gradient computation\n",
    "    pbar = tqdm(test_loader, desc=\"Testing\")\n",
    "    for batch_idx, (inputs, targets) in enumerate(pbar):\n",
    "        inputs, targets = inputs.to(DEVICE), targets.to(DEVICE)\n",
    "\n",
    "        # Forward pass\n",
    "        outputs = best_model(inputs)\n",
    "        loss = criterion(outputs, targets)\n",
    "\n",
    "        # Update statistics\n",
    "        test_loss += loss.item()\n",
    "        _, predicted = outputs.max(1)\n",
    "        test_total += targets.size(0)\n",
    "        test_correct += predicted.eq(targets).sum().item()\n",
    "\n",
    "        # Collect all targets and predictions\n",
    "        all_targets.extend(targets.cpu().numpy())\n",
    "        all_predicted.extend(predicted.cpu().numpy())\n",
    "\n",
    "        # Update progress bar\n",
    "        pbar.set_postfix({\n",
    "            \"Loss\": f\"{test_loss / (batch_idx + 1):.4f}\",\n",
    "            \"Acc\": f\"{test_correct / test_total:.4f}\"\n",
    "        })\n",
    "\n",
    "# Calculate test accuracy, loss, and F1-score\n",
    "test_accuracy = test_correct / test_total\n",
    "avg_test_loss = test_loss / len(test_loader)\n",
    "\n",
    "# Calculate per-class accuracy\n",
    "conf_matrix = confusion_matrix(all_targets, all_predicted)\n",
    "per_class_accuracy = conf_matrix.diagonal() / conf_matrix.sum(axis=1)\n",
    "\n",
    "# Calculate classification report (includes precision, recall, F1-score, and support)\n",
    "class_report = classification_report(all_targets, all_predicted, target_names=[f\"Class {i}\" for i in range(NUM_CLASSES)])\n",
    "\n",
    "# Print test summary\n",
    "print(f\"Test Loss: {avg_test_loss:.4f}, \"\n",
    "      f\"Test Acc: {test_accuracy:.4f}\")\n",
    "\n",
    "# Print per-class accuracy\n",
    "print(\"\\nPer-Class Accuracy:\")\n",
    "for i, acc in enumerate(per_class_accuracy):\n",
    "    print(f\"Class {i}: {acc:.4f}\")\n",
    "\n",
    "# Print classification report\n",
    "print(\"\\nClassification Report:\")\n",
    "print(class_report)"
   ]
  },
  {
   "cell_type": "code",
   "execution_count": null,
   "id": "02d1a78b-c049-45c7-8036-ab6cb3322a55",
   "metadata": {},
   "outputs": [],
   "source": []
  }
 ],
 "metadata": {
  "kernelspec": {
   "display_name": "Python 3 (ipykernel)",
   "language": "python",
   "name": "python3"
  },
  "language_info": {
   "codemirror_mode": {
    "name": "ipython",
    "version": 3
   },
   "file_extension": ".py",
   "mimetype": "text/x-python",
   "name": "python",
   "nbconvert_exporter": "python",
   "pygments_lexer": "ipython3",
   "version": "3.12.7"
  }
 },
 "nbformat": 4,
 "nbformat_minor": 5
}
